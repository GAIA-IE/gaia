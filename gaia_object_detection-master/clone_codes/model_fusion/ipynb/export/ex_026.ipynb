{
 "cells": [
  {
   "cell_type": "code",
   "execution_count": 1,
   "metadata": {},
   "outputs": [],
   "source": [
    "import sys\n",
    "import os\n",
    "import pickle\n",
    "import csv\n",
    "import lmdb\n",
    "import json\n",
    "\n",
    "from io import BytesIO\n",
    "import numpy as np\n",
    "\n",
    "from rdflib import URIRef\n",
    "from rdflib.namespace import ClosedNamespace\n"
   ]
  },
  {
   "cell_type": "code",
   "execution_count": 2,
   "metadata": {},
   "outputs": [],
   "source": [
    "sys.path.append(\"/home/alireza/aida/tools/AIDA-Interchange-Format/python/aida_interchange\")\n",
    "from Bounding_Box import Bounding_Box\n",
    "import aifutils\n"
   ]
  },
  {
   "cell_type": "code",
   "execution_count": 3,
   "metadata": {},
   "outputs": [],
   "source": [
    "with open('../../../wsod/metadata/ont_300/300-classes.csv', 'r') as fin:\n",
    "    all_labels = [item.strip() for item in fin]"
   ]
  },
  {
   "cell_type": "code",
   "execution_count": 4,
   "metadata": {},
   "outputs": [],
   "source": [
    "with open('../../../../data/OpenImages/metadata-v4/class-names/class-descriptions.csv', 'r') as fin:\n",
    "    mid2name = {item[0]: item[1] for item in csv.reader(fin)}"
   ]
  },
  {
   "cell_type": "code",
   "execution_count": 5,
   "metadata": {},
   "outputs": [
    {
     "data": {
      "text/plain": [
       "'Air force'"
      ]
     },
     "execution_count": 5,
     "metadata": {},
     "output_type": "execute_result"
    }
   ],
   "source": [
    "mid2name[all_labels[0]]"
   ]
  },
  {
   "cell_type": "code",
   "execution_count": 6,
   "metadata": {},
   "outputs": [],
   "source": [
    "mid2term = {item: 'm_' + item.split('/')[-1] + '_' + mid2name[item].replace(' ', '_').replace('&', 'and') for item in all_labels}"
   ]
  },
  {
   "cell_type": "code",
   "execution_count": null,
   "metadata": {},
   "outputs": [],
   "source": []
  },
  {
   "cell_type": "code",
   "execution_count": 7,
   "metadata": {},
   "outputs": [],
   "source": [
    "VIS_ONTOLOGY = ClosedNamespace(\n",
    "    uri=URIRef(\"http://www.columbia.edu/AIDA/DVMM/Ontologies/OpenImagesSubset02#\"),\n",
    "    terms=[mid2term[item] for item in all_labels]\n",
    ")\n"
   ]
  },
  {
   "cell_type": "code",
   "execution_count": 8,
   "metadata": {},
   "outputs": [],
   "source": [
    "mid_to_ere = {}\n",
    "mid_is_event = {}\n",
    "with open('../../../wsod/metadata/ont_300/ere_link.csv', 'r') as fin:\n",
    "    flag = False\n",
    "    for row in csv.reader(fin):\n",
    "        if not flag:\n",
    "            flag=True\n",
    "            continue\n",
    "        if row[0] == '':\n",
    "            continue\n",
    "        if row[1] != '':\n",
    "            mid_to_ere[row[0]] = row[1]\n",
    "        if row[2] == 'Entity':\n",
    "            mid_is_event[row[0]] = False\n",
    "        elif row[2] == 'Event':\n",
    "            mid_is_event[row[0]] = True\n",
    "        else:\n",
    "            print(row)\n",
    "            raise Exception(\"Neither Yes nor No\")"
   ]
  },
  {
   "cell_type": "code",
   "execution_count": 9,
   "metadata": {},
   "outputs": [],
   "source": [
    "ere_terms = np.unique(list(mid_to_ere.values()) + ['Commodity'])"
   ]
  },
  {
   "cell_type": "code",
   "execution_count": 10,
   "metadata": {},
   "outputs": [
    {
     "data": {
      "text/plain": [
       "array(['Commodity', 'Conflict.Attack', 'Conflict.Demonstrate',\n",
       "       'Contact.Meet', 'Facility', 'Life.Die', 'Life.Injure',\n",
       "       'Life.Marry', 'Movement.TransportArtifact',\n",
       "       'Movement.TransportPerson', 'Organization', 'Person', 'Vehicle',\n",
       "       'Weapon'], dtype='<U26')"
      ]
     },
     "execution_count": 10,
     "metadata": {},
     "output_type": "execute_result"
    }
   ],
   "source": [
    "ere_terms"
   ]
  },
  {
   "cell_type": "code",
   "execution_count": 11,
   "metadata": {},
   "outputs": [],
   "source": [
    "SEEDLING_ONTOLOGY = ClosedNamespace(\n",
    "    uri=URIRef(\"https://tac.nist.gov/tracks/SM-KBP/2018/ontologies/SeedlingOntology#\"),\n",
    "    terms=ere_terms\n",
    ")\n"
   ]
  },
  {
   "cell_type": "code",
   "execution_count": null,
   "metadata": {},
   "outputs": [],
   "source": []
  },
  {
   "cell_type": "code",
   "execution_count": 12,
   "metadata": {},
   "outputs": [],
   "source": [
    "with open('../../results/det_results_postproc_17.pkl', 'rb') as fin:\n",
    "    det_results_jpg = pickle.load(fin)\n",
    "\n",
    "with open('../../results/det_results_postproc_19.pkl', 'rb') as fin:\n",
    "    det_results_vid = pickle.load(fin)\n",
    "    \n"
   ]
  },
  {
   "cell_type": "code",
   "execution_count": null,
   "metadata": {},
   "outputs": [],
   "source": []
  },
  {
   "cell_type": "code",
   "execution_count": 13,
   "metadata": {},
   "outputs": [],
   "source": [
    "with open('../../temp/background_jpg_imgsize_1.pkl', 'rb') as fin:\n",
    "    image_shape = pickle.load(fin)\n",
    "with open('../../temp/background_keyframe_imgsize_2.pkl', 'rb') as fin:\n",
    "    image_shape.update(pickle.load(fin))"
   ]
  },
  {
   "cell_type": "code",
   "execution_count": null,
   "metadata": {},
   "outputs": [],
   "source": []
  },
  {
   "cell_type": "code",
   "execution_count": 14,
   "metadata": {},
   "outputs": [],
   "source": [
    "# lmdb_path = '/home/alireza/aida/export/Hassan/background/instance_features_keyframe_background.lmdb'\n",
    "# env = lmdb.open(lmdb_path, map_size=1e10, readonly=True, lock=False)\n",
    "# txn = env.begin(write=False)\n",
    "# cursor = txn.cursor()"
   ]
  },
  {
   "cell_type": "code",
   "execution_count": null,
   "metadata": {},
   "outputs": [],
   "source": []
  },
  {
   "cell_type": "code",
   "execution_count": 15,
   "metadata": {},
   "outputs": [],
   "source": [
    "root_to_leaf = {}\n",
    "leaf_to_root = {}\n",
    "flag = False\n",
    "with open('../../../../data/background/parent_children.tab', 'r') as fin:\n",
    "    for line in fin:\n",
    "        if not flag:\n",
    "            flag = True\n",
    "            continue\n",
    "        row = line.split()\n",
    "        if root_to_leaf.get(row[2]) == None:\n",
    "            root_to_leaf[row[2]] = []\n",
    "        root_to_leaf[row[2]].append(row[3])\n",
    "        \n",
    "        leaf_to_root[row[3]] = row[2]"
   ]
  },
  {
   "cell_type": "code",
   "execution_count": null,
   "metadata": {},
   "outputs": [],
   "source": []
  },
  {
   "cell_type": "code",
   "execution_count": 16,
   "metadata": {},
   "outputs": [],
   "source": [
    "def add_detections_to_graph(g, detections, imgid, is_keyframe):\n",
    "    \n",
    "    if is_keyframe:\n",
    "        vidid = imgid.split('_')[0]\n",
    "    \n",
    "    for ii, det in enumerate(detections):\n",
    "        label = det['label']\n",
    "        score = det['score']\n",
    "        bbox = det['bbox']\n",
    "        model = det['model']\n",
    "\n",
    "        if label not in mid_is_event:\n",
    "            continue\n",
    "\n",
    "        if score < 0.10:\n",
    "            continue\n",
    "\n",
    "        if model == 'coco':\n",
    "            sys = system_co\n",
    "        elif model == 'pascal':\n",
    "            sys = system_pa\n",
    "        elif model == 'oi':\n",
    "            sys = system_oi\n",
    "        elif model == 'ws':\n",
    "            sys = system_ws\n",
    "        elif model == 'coco/J':\n",
    "            sys = system_co\n",
    "        elif model == 'pascal/J':\n",
    "            sys = system_pa\n",
    "        elif model == 'oi/J':\n",
    "            sys = system_oi\n",
    "        elif model == 'ws/J':\n",
    "            sys = system_ws\n",
    "        else:\n",
    "            raise\n",
    "\n",
    "        labelrdf_fringe = VIS_ONTOLOGY.term(mid2term[label])\n",
    "\n",
    "        if mid_to_ere.get(label) != None:\n",
    "            labelrdf_ere = SEEDLING_ONTOLOGY.term(mid_to_ere[label])\n",
    "        else:\n",
    "            labelrdf_ere = SEEDLING_ONTOLOGY.term('Commodity')\n",
    "\n",
    "            \n",
    "        if not mid_is_event[label]:            \n",
    "\n",
    "            eid = f\"http://www.columbia.edu/AIDA/DVMM/Entities/ObjectDetection/RUN00003/{imgid}/{ii}\"\n",
    "\n",
    "            entity = aifutils.make_entity(g, eid, sys)\n",
    "            \n",
    "            entity_dict[eid] = entity\n",
    "\n",
    "            type_assertion = aifutils.mark_type(g, eid + \"/ere\", entity, labelrdf_ere, sys, score)\n",
    "\n",
    "            bb = Bounding_Box((bbox[0], bbox[1]), (bbox[2], bbox[3]))\n",
    "            \n",
    "            if is_keyframe:\n",
    "                aifutils.mark_keyframe_video_justification(g, [entity, type_assertion], vidid, imgid, bb, sys, score)\n",
    "            else:\n",
    "                aifutils.mark_image_justification(g, [entity, type_assertion], imgid, bb, sys, score)\n",
    "\n",
    "            aifutils.mark_private_data(g, entity, json.dumps({\n",
    "                'columbia_fringe_entity_type': str(labelrdf_fringe),\n",
    "                #'columbia_vector_grounding_v1.0': np.frombuffer(txn.get(f\"{imgid}/{ii}\".encode('utf-8')), dtype='float32').tolist(),\n",
    "                #'columbia_vector_insmatch_v1.0': np.frombuffer(txn.get(f\"{imgid}/{ii}\".encode('utf-8')), dtype='float32').tolist()\n",
    "            }), sys)\n",
    "\n",
    "        else:            \n",
    "\n",
    "            eid = f\"http://www.columbia.edu/AIDA/DVMM/Events/ObjectDetection/RUN00003/{imgid}/{ii}\"\n",
    "\n",
    "            event = aifutils.make_event(g, eid, sys)\n",
    "\n",
    "            event_dict[eid] = event\n",
    "\n",
    "            type_assertion = aifutils.mark_type(g, eid + \"/ere\", event, labelrdf_ere, sys, score)\n",
    "\n",
    "            bb = Bounding_Box((0, 0), image_shape[imgid])\n",
    "\n",
    "            if is_keyframe:\n",
    "                aifutils.mark_keyframe_video_justification(g, [event, type_assertion], vidid, imgid, bb, sys, score)\n",
    "            else:\n",
    "                aifutils.mark_image_justification(g, [event, type_assertion], imgid, bb, sys, score)\n",
    "\n",
    "            \n",
    "            aifutils.mark_private_data(g, event, json.dumps({\n",
    "                'columbia_fringe_event_type': str(labelrdf_fringe),\n",
    "                #'columbia_vector_grounding_v1.0': np.frombuffer(txn.get(f\"{imgid}/{ii}\".encode('utf-8')), dtype='float32').tolist(),\n",
    "                #'columbia_vector_insmatch_v1.0': np.frombuffer(txn.get(f\"{imgid}/{ii}\".encode('utf-8')), dtype='float32').tolist()\n",
    "            }), sys)\n",
    "            "
   ]
  },
  {
   "cell_type": "code",
   "execution_count": null,
   "metadata": {},
   "outputs": [],
   "source": []
  },
  {
   "cell_type": "code",
   "execution_count": 17,
   "metadata": {},
   "outputs": [],
   "source": [
    "id_set_jpg = set([item[:-9] for item in det_results_jpg])\n",
    "id_set_vid = set()\n",
    "for imgid in det_results_vid:\n",
    "    vidid = imgid.split('_')[0]\n",
    "    id_set_vid.add(vidid)"
   ]
  },
  {
   "cell_type": "code",
   "execution_count": null,
   "metadata": {},
   "outputs": [],
   "source": []
  },
  {
   "cell_type": "code",
   "execution_count": null,
   "metadata": {},
   "outputs": [],
   "source": []
  },
  {
   "cell_type": "code",
   "execution_count": 18,
   "metadata": {},
   "outputs": [],
   "source": [
    "kb_dict = {}\n",
    "entity_dict = {}\n",
    "event_dict = {}\n",
    "\n",
    "for root_doc in root_to_leaf:\n",
    "\n",
    "    g = aifutils.make_graph()\n",
    "\n",
    "    system_pa = aifutils.make_system_with_uri(g, \"http://www.columbia.edu/AIDA/USC/Systems/ObjectDetection/FasterRCNN/Pascal\")\n",
    "    system_co = aifutils.make_system_with_uri(g, \"http://www.columbia.edu/AIDA/DVMM/Systems/ObjectDetection/FasterRCNN-NASNet/COCO\")\n",
    "    system_oi = aifutils.make_system_with_uri(g, \"http://www.columbia.edu/AIDA/DVMM/Systems/ObjectDetection/FasterRCNN-InceptionResNet/OpenImages\")\n",
    "    system_ws = aifutils.make_system_with_uri(g, \"http://www.columbia.edu/AIDA/DVMM/Systems/ObjectDetection/MITWeaklySupervised-ResNet/OpenImages\")\n",
    "        \n",
    "    for imgid in id_set_jpg & set(root_to_leaf[root_doc]):\n",
    "        add_detections_to_graph(g, det_results_jpg[imgid + '.jpg.ldcc'], imgid + '.jpg.ldcc', is_keyframe=False)\n",
    "        \n",
    "    for imgid in det_results_vid:\n",
    "        vidid = imgid.split('_')[0]\n",
    "        if vidid in root_to_leaf[root_doc]:\n",
    "            add_detections_to_graph(g, det_results_vid[imgid], imgid, is_keyframe=True)        \n",
    "\n",
    "    kb_dict[root_doc] = g\n"
   ]
  },
  {
   "cell_type": "code",
   "execution_count": null,
   "metadata": {},
   "outputs": [],
   "source": []
  },
  {
   "cell_type": "code",
   "execution_count": 19,
   "metadata": {},
   "outputs": [],
   "source": [
    "with open('../../results/aida_output_26.pkl', 'wb') as fout:\n",
    "    pickle.dump((kb_dict, entity_dict, event_dict), fout)"
   ]
  },
  {
   "cell_type": "code",
   "execution_count": null,
   "metadata": {},
   "outputs": [],
   "source": []
  },
  {
   "cell_type": "code",
   "execution_count": 20,
   "metadata": {},
   "outputs": [],
   "source": [
    "export_dir = '../../results/aida_output_26'\n",
    "if not os.path.isdir(export_dir):\n",
    "    os.makedirs(export_dir)\n",
    "for root_doc, g in kb_dict.items():\n",
    "    with open(os.path.join(export_dir, root_doc+'.ttl'), 'w') as fout:\n",
    "        serialization = BytesIO()\n",
    "        g.serialize(destination=serialization, format='turtle')\n",
    "        fout.write(serialization.getvalue().decode('utf-8'))\n"
   ]
  },
  {
   "cell_type": "code",
   "execution_count": null,
   "metadata": {},
   "outputs": [],
   "source": []
  },
  {
   "cell_type": "code",
   "execution_count": null,
   "metadata": {},
   "outputs": [],
   "source": []
  },
  {
   "cell_type": "code",
   "execution_count": null,
   "metadata": {},
   "outputs": [],
   "source": []
  }
 ],
 "metadata": {
  "kernelspec": {
   "display_name": "Py3 for AIDA",
   "language": "python",
   "name": "aida"
  },
  "language_info": {
   "codemirror_mode": {
    "name": "ipython",
    "version": 3
   },
   "file_extension": ".py",
   "mimetype": "text/x-python",
   "name": "python",
   "nbconvert_exporter": "python",
   "pygments_lexer": "ipython3",
   "version": "3.6.5"
  }
 },
 "nbformat": 4,
 "nbformat_minor": 2
}
