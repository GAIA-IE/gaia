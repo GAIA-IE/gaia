{
 "cells": [
  {
   "cell_type": "code",
   "execution_count": 1,
   "metadata": {},
   "outputs": [],
   "source": [
    "import sys\n",
    "import os\n",
    "import pickle\n",
    "import csv\n",
    "import lmdb\n",
    "import json\n",
    "\n",
    "from io import BytesIO\n",
    "import numpy as np\n",
    "\n",
    "from rdflib import URIRef\n",
    "from rdflib.namespace import ClosedNamespace\n"
   ]
  },
  {
   "cell_type": "code",
   "execution_count": null,
   "metadata": {},
   "outputs": [],
   "source": []
  },
  {
   "cell_type": "code",
   "execution_count": 2,
   "metadata": {},
   "outputs": [],
   "source": [
    "score_threshold = 0.0"
   ]
  },
  {
   "cell_type": "code",
   "execution_count": null,
   "metadata": {},
   "outputs": [],
   "source": []
  },
  {
   "cell_type": "code",
   "execution_count": 3,
   "metadata": {},
   "outputs": [],
   "source": [
    "sys.path.append(\"/home/alireza/aida/tools/AIDA-Interchange-Format/python\")\n",
    "from aida_interchange.Bounding_Box import Bounding_Box\n",
    "import aida_interchange.aifutils as aifutils\n"
   ]
  },
  {
   "cell_type": "code",
   "execution_count": 4,
   "metadata": {},
   "outputs": [],
   "source": [
    "with open('../../../wsod/metadata/ont_m18/mapping2.pkl', 'rb') as fin:\n",
    "    mid2ont, syn2mid, single_mids, mid2syn, class2ont, ont2name, class_names = pickle.load(fin)  "
   ]
  },
  {
   "cell_type": "code",
   "execution_count": null,
   "metadata": {},
   "outputs": [],
   "source": []
  },
  {
   "cell_type": "code",
   "execution_count": 5,
   "metadata": {},
   "outputs": [],
   "source": [
    "ldc_entity_types = []\n",
    "with open('../../../wsod/metadata/ont_m18/ldc_entity_types.txt', 'r') as fin:\n",
    "    for line in fin:\n",
    "        ldc_entity_types.append(line.strip())"
   ]
  },
  {
   "cell_type": "code",
   "execution_count": 6,
   "metadata": {},
   "outputs": [
    {
     "data": {
      "text/plain": [
       "187"
      ]
     },
     "execution_count": 6,
     "metadata": {},
     "output_type": "execute_result"
    }
   ],
   "source": [
    "len(ldc_entity_types)"
   ]
  },
  {
   "cell_type": "code",
   "execution_count": 7,
   "metadata": {},
   "outputs": [],
   "source": [
    "ldc_event_types = []\n",
    "with open('../../../wsod/metadata/ont_m18/ldc_event_types.txt', 'r') as fin:\n",
    "    for line in fin:\n",
    "        ldc_event_types.append(line.strip())"
   ]
  },
  {
   "cell_type": "code",
   "execution_count": 8,
   "metadata": {},
   "outputs": [
    {
     "data": {
      "text/plain": [
       "139"
      ]
     },
     "execution_count": 8,
     "metadata": {},
     "output_type": "execute_result"
    }
   ],
   "source": [
    "len(ldc_event_types)"
   ]
  },
  {
   "cell_type": "code",
   "execution_count": 9,
   "metadata": {},
   "outputs": [],
   "source": [
    "short_to_long_map = {\n",
    "    'BAL': 'Ballot',\n",
    "    'COM': 'Commodity',\n",
    "    'CRM': 'Crime',\n",
    "    'FAC': 'Facility',\n",
    "    'GPE': 'GeopoliticalEntity',\n",
    "    'LAW': 'Law',\n",
    "    'LOC': 'Location',\n",
    "    'MON': 'Money',\n",
    "    'ORG': 'Organization',\n",
    "    'PER': 'Person',\n",
    "    'RES': 'Result',\n",
    "    'SID': 'Sides',\n",
    "    'TTL': 'Title',\n",
    "    'VAL': 'Value',\n",
    "    'VEH': 'Vehicle',\n",
    "    'WEA': 'Weapon',\n",
    "}\n",
    "long_to_short_map = {v: k for k, v in short_to_long_map.items()}"
   ]
  },
  {
   "cell_type": "code",
   "execution_count": 10,
   "metadata": {},
   "outputs": [],
   "source": [
    "allowed_to_have_name = ['PER', 'ORG', 'GPE', 'FAC', 'LOC', 'WEA', 'VEH', 'LAW']"
   ]
  },
  {
   "cell_type": "code",
   "execution_count": null,
   "metadata": {},
   "outputs": [],
   "source": []
  },
  {
   "cell_type": "code",
   "execution_count": 11,
   "metadata": {},
   "outputs": [
    {
     "name": "stdout",
     "output_type": "stream",
     "text": [
      "NumericalValue\n",
      "NumericalValue.Number.Number\n",
      "Results\n",
      "Results.NumberPercentageVotes.NumberPercentageVotes\n",
      "Results.TurnoutVoters.TurnoutVoters\n"
     ]
    }
   ],
   "source": [
    "ldc_entity_types_new = []\n",
    "for t in ldc_entity_types:\n",
    "    sp = t.split('.')\n",
    "    if sp[0] not in long_to_short_map:\n",
    "        print(t)\n",
    "    else:\n",
    "        sp[0] = long_to_short_map[sp[0]]\n",
    "    ldc_entity_types_new.append('.'.join(sp))"
   ]
  },
  {
   "cell_type": "code",
   "execution_count": null,
   "metadata": {},
   "outputs": [],
   "source": []
  },
  {
   "cell_type": "code",
   "execution_count": 12,
   "metadata": {},
   "outputs": [],
   "source": [
    "LDC_ONTOLOGY = ClosedNamespace(\n",
    "    uri=URIRef(\"https://tac.nist.gov/tracks/SM-KBP/2019/ontologies/LDCOntology#\"),\n",
    "    terms=ldc_entity_types_new + ldc_event_types\n",
    ")\n"
   ]
  },
  {
   "cell_type": "code",
   "execution_count": 13,
   "metadata": {},
   "outputs": [],
   "source": [
    "with open('../../results/det_results_merged_34a.pkl', 'rb') as fin:\n",
    "    det_results_jpg = pickle.load(fin)\n",
    "\n",
    "with open('../../results/det_results_merged_34b.pkl', 'rb') as fin:\n",
    "    det_results_vid = pickle.load(fin)\n",
    "    \n"
   ]
  },
  {
   "cell_type": "code",
   "execution_count": null,
   "metadata": {},
   "outputs": [],
   "source": []
  },
  {
   "cell_type": "code",
   "execution_count": 14,
   "metadata": {},
   "outputs": [],
   "source": [
    "with open('../../temp/imgsize_m18_jpg.pkl', 'rb') as fin:\n",
    "    image_shape = pickle.load(fin)\n",
    "with open('../../temp/imgsize_m18_kf.pkl', 'rb') as fin:\n",
    "    image_shape.update(pickle.load(fin))"
   ]
  },
  {
   "cell_type": "code",
   "execution_count": null,
   "metadata": {},
   "outputs": [],
   "source": []
  },
  {
   "cell_type": "code",
   "execution_count": 15,
   "metadata": {},
   "outputs": [],
   "source": [
    "root_to_leaf = {}\n",
    "flag = False\n",
    "with open('../../../../data/eval_m18/parent_children.sorted.tab', 'r') as fin:\n",
    "    for line in fin:\n",
    "        if not flag:\n",
    "            flag = True\n",
    "            continue\n",
    "        row = line.split()\n",
    "        if root_to_leaf.get(row[7]) == None:\n",
    "            root_to_leaf[row[7]] = []\n",
    "        root_to_leaf[row[7]].append(row[2])\n"
   ]
  },
  {
   "cell_type": "code",
   "execution_count": null,
   "metadata": {},
   "outputs": [],
   "source": []
  },
  {
   "cell_type": "code",
   "execution_count": 16,
   "metadata": {},
   "outputs": [],
   "source": [
    "def add_detections_to_graph(g, detections, parent_id, imgid, is_keyframe):\n",
    "    \n",
    "    str_append = 'Keyframe' if is_keyframe else 'JPG'   \n",
    "    if is_keyframe:\n",
    "        vidid = imgid.split('_')[0]\n",
    "    \n",
    "    for ii, det in enumerate(detections):\n",
    "        label = det['label']\n",
    "        score = det['score']\n",
    "        bbox = det['bbox']\n",
    "        model = det['model']\n",
    "\n",
    "        if score < score_threshold:\n",
    "            continue\n",
    "\n",
    "        if model == 'coco':\n",
    "            sys = system_co\n",
    "        elif model == 'voc':\n",
    "            sys = system_pa\n",
    "        elif model == 'oi':\n",
    "            sys = system_oi\n",
    "        elif model == 'ws':\n",
    "            sys = system_ws\n",
    "        elif model == 'coco/J':\n",
    "            sys = system_co\n",
    "        elif model == 'voc/J':\n",
    "            sys = system_pa\n",
    "        elif model == 'oi/J':\n",
    "            sys = system_oi\n",
    "        elif model == 'ws/J':\n",
    "            sys = system_ws\n",
    "        else:\n",
    "            raise\n",
    "\n",
    "        for iii, ont_id in enumerate(class2ont[label]):\n",
    "            ont_name = ont2name[ont_id]\n",
    "\n",
    "            labelrdf = LDC_ONTOLOGY.term(ont_name)\n",
    "\n",
    "            if ont_name in ldc_entity_types_new:\n",
    "\n",
    "                eid = f\"http://www.columbia.edu/AIDA/DVMM/Entities/ObjectDetection/RUN00010/{str_append}/{imgid}/{ii}\"\n",
    "\n",
    "                entity = aifutils.make_entity(g, eid, sys)\n",
    "\n",
    "                entity_dict[eid] = entity\n",
    "\n",
    "                type_assertion = aifutils.mark_type(g, eid.replace('Entities', 'TypeAssertions') + f'/{iii}', entity, labelrdf, sys, score)\n",
    "\n",
    "                bb = Bounding_Box((bbox[0], bbox[1]), (bbox[2], bbox[3]))\n",
    "\n",
    "                if is_keyframe:\n",
    "                    justif = aifutils.mark_keyframe_video_justification(g, [entity, type_assertion], vidid, imgid, bb, sys, score)\n",
    "                else:\n",
    "                    justif = aifutils.mark_image_justification(g, [entity, type_assertion], imgid, bb, sys, score)\n",
    "\n",
    "                aifutils.add_source_document_to_justification(g, justif, parent_id)\n",
    "                aifutils.mark_informative_justification(g, entity, justif)\n",
    "                #aifutils.mark_private_data(g, entity, json.dumps({}), sys)\n",
    "                #if ont_name.split('.')[0] in allowed_to_have_name:\n",
    "                #    aifutils.mark_name(g, entity, class_names[label].split('(')[-1][:-1])\n",
    "\n",
    "            else:            \n",
    "\n",
    "                eid = f\"http://www.columbia.edu/AIDA/DVMM/Events/ObjectDetection/RUN00010/{str_append}/{imgid}/{ii}\"\n",
    "\n",
    "                event = aifutils.make_event(g, eid, sys)\n",
    "\n",
    "                event_dict[eid] = event\n",
    "\n",
    "                type_assertion = aifutils.mark_type(g, eid.replace('Events', 'TypeAssertions') + f'/{iii}', event, labelrdf, sys, score)\n",
    "\n",
    "                bb = Bounding_Box((1, 1), image_shape[imgid])\n",
    "\n",
    "                if is_keyframe:\n",
    "                    justif = aifutils.mark_keyframe_video_justification(g, [event, type_assertion], vidid, imgid, bb, sys, score)\n",
    "                else:\n",
    "                    justif = aifutils.mark_image_justification(g, [event, type_assertion], imgid, bb, sys, score)\n",
    "\n",
    "                aifutils.add_source_document_to_justification(g, justif, parent_id)\n",
    "                aifutils.mark_informative_justification(g, event, justif)\n",
    "                    \n",
    "                #aifutils.mark_private_data(g, event, json.dumps({}), sys)\n",
    "                #aifutils.mark_name(g, event, class_names[label])\n"
   ]
  },
  {
   "cell_type": "code",
   "execution_count": null,
   "metadata": {},
   "outputs": [],
   "source": []
  },
  {
   "cell_type": "code",
   "execution_count": null,
   "metadata": {},
   "outputs": [],
   "source": []
  },
  {
   "cell_type": "code",
   "execution_count": 17,
   "metadata": {},
   "outputs": [],
   "source": [
    "id_set_jpg = set([item for item in det_results_jpg])\n",
    "id_set_vid = set()\n",
    "for imgid in det_results_vid:\n",
    "    vidid = imgid.split('_')[0]\n",
    "    id_set_vid.add(vidid)"
   ]
  },
  {
   "cell_type": "code",
   "execution_count": null,
   "metadata": {},
   "outputs": [],
   "source": []
  },
  {
   "cell_type": "code",
   "execution_count": 18,
   "metadata": {},
   "outputs": [],
   "source": [
    "kb_dict = {}\n",
    "entity_dict = {}\n",
    "event_dict = {}\n",
    "\n",
    "for root_doc in root_to_leaf:\n",
    "\n",
    "    g = aifutils.make_graph()\n",
    "\n",
    "    system_pa = aifutils.make_system_with_uri(g, \"http://www.columbia.edu/AIDA/USC/Systems/ObjectDetection/FasterRCNN/PascalVOC\")\n",
    "    system_co = aifutils.make_system_with_uri(g, \"http://www.columbia.edu/AIDA/DVMM/Systems/ObjectDetection/FasterRCNN-NASNet/COCO\")\n",
    "    system_oi = aifutils.make_system_with_uri(g, \"http://www.columbia.edu/AIDA/DVMM/Systems/ObjectDetection/FasterRCNN-InceptionResNet/OpenImages\")\n",
    "    system_ws = aifutils.make_system_with_uri(g, \"http://www.columbia.edu/AIDA/DVMM/Systems/ObjectDetection/MITWeaklySupervised-ResNet/OpenImages\")\n",
    "        \n",
    "    for imgid in id_set_jpg & set(root_to_leaf[root_doc]):\n",
    "        add_detections_to_graph(g, det_results_jpg[imgid], root_doc, imgid, is_keyframe=False)\n",
    "        \n",
    "    for imgid in det_results_vid:\n",
    "        vidid = imgid.split('_')[0]\n",
    "        if vidid in root_to_leaf[root_doc]:\n",
    "            add_detections_to_graph(g, det_results_vid[imgid], root_doc, imgid, is_keyframe=True)        \n",
    "\n",
    "    kb_dict[root_doc] = g\n"
   ]
  },
  {
   "cell_type": "code",
   "execution_count": null,
   "metadata": {},
   "outputs": [],
   "source": []
  },
  {
   "cell_type": "code",
   "execution_count": 19,
   "metadata": {},
   "outputs": [],
   "source": [
    "with open('../../results/aida_output_34.pkl', 'wb') as fout:\n",
    "    pickle.dump((kb_dict, entity_dict, event_dict), fout)"
   ]
  },
  {
   "cell_type": "code",
   "execution_count": null,
   "metadata": {},
   "outputs": [],
   "source": []
  },
  {
   "cell_type": "code",
   "execution_count": 19,
   "metadata": {},
   "outputs": [],
   "source": [
    "export_dir = '../../results/aida_output_34'\n",
    "if not os.path.isdir(export_dir):\n",
    "    os.makedirs(export_dir)\n",
    "for root_doc, g in kb_dict.items():\n",
    "    with open(os.path.join(export_dir, root_doc+'.ttl'), 'w') as fout:\n",
    "        serialization = BytesIO()\n",
    "        g.serialize(destination=serialization, format='turtle')\n",
    "        fout.write(serialization.getvalue().decode('utf-8'))\n"
   ]
  },
  {
   "cell_type": "code",
   "execution_count": null,
   "metadata": {},
   "outputs": [],
   "source": []
  },
  {
   "cell_type": "code",
   "execution_count": null,
   "metadata": {},
   "outputs": [],
   "source": []
  }
 ],
 "metadata": {
  "kernelspec": {
   "display_name": "Py3 for AIDA",
   "language": "python",
   "name": "aida"
  },
  "language_info": {
   "codemirror_mode": {
    "name": "ipython",
    "version": 3
   },
   "file_extension": ".py",
   "mimetype": "text/x-python",
   "name": "python",
   "nbconvert_exporter": "python",
   "pygments_lexer": "ipython3",
   "version": "3.6.5"
  }
 },
 "nbformat": 4,
 "nbformat_minor": 4
}
