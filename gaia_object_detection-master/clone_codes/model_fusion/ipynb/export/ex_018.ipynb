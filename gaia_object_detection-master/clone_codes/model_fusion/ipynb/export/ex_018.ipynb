{
 "cells": [
  {
   "cell_type": "code",
   "execution_count": 1,
   "metadata": {},
   "outputs": [],
   "source": [
    "import sys\n",
    "import os\n",
    "import pickle\n",
    "import csv\n",
    "import lmdb\n",
    "import json\n",
    "\n",
    "from io import BytesIO\n",
    "import numpy as np\n",
    "\n",
    "from rdflib import URIRef\n",
    "from rdflib.namespace import ClosedNamespace\n"
   ]
  },
  {
   "cell_type": "code",
   "execution_count": 2,
   "metadata": {},
   "outputs": [],
   "source": [
    "sys.path.append(\"/home/alireza/aida/tools/AIDA-Interchange-Format/python/aida_interchange\")\n",
    "from Bounding_Box import Bounding_Box\n",
    "import aifutils\n"
   ]
  },
  {
   "cell_type": "code",
   "execution_count": 3,
   "metadata": {},
   "outputs": [
    {
     "ename": "FileNotFoundError",
     "evalue": "[Errno 2] No such file or directory: '../../../wsod/metadata/ont_300/300_joined_list.csv'",
     "output_type": "error",
     "traceback": [
      "\u001b[0;31m---------------------------------------------------------------------------\u001b[0m",
      "\u001b[0;31mFileNotFoundError\u001b[0m                         Traceback (most recent call last)",
      "\u001b[0;32m<ipython-input-3-0f5ddf792f3a>\u001b[0m in \u001b[0;36m<module>\u001b[0;34m()\u001b[0m\n\u001b[0;32m----> 1\u001b[0;31m \u001b[0;32mwith\u001b[0m \u001b[0mopen\u001b[0m\u001b[0;34m(\u001b[0m\u001b[0;34m'../../../wsod/metadata/ont_300/300_joined_list.csv'\u001b[0m\u001b[0;34m,\u001b[0m \u001b[0;34m'r'\u001b[0m\u001b[0;34m)\u001b[0m \u001b[0;32mas\u001b[0m \u001b[0mfin\u001b[0m\u001b[0;34m:\u001b[0m\u001b[0;34m\u001b[0m\u001b[0m\n\u001b[0m\u001b[1;32m      2\u001b[0m     \u001b[0mall_labels\u001b[0m \u001b[0;34m=\u001b[0m \u001b[0;34m[\u001b[0m\u001b[0mitem\u001b[0m\u001b[0;34m.\u001b[0m\u001b[0mstrip\u001b[0m\u001b[0;34m(\u001b[0m\u001b[0;34m)\u001b[0m \u001b[0;32mfor\u001b[0m \u001b[0mitem\u001b[0m \u001b[0;32min\u001b[0m \u001b[0mfin\u001b[0m\u001b[0;34m]\u001b[0m\u001b[0;34m\u001b[0m\u001b[0m\n",
      "\u001b[0;31mFileNotFoundError\u001b[0m: [Errno 2] No such file or directory: '../../../wsod/metadata/ont_300/300_joined_list.csv'"
     ]
    }
   ],
   "source": [
    "with open('../../../wsod/metadata/ont_300/300_joined_list.csv', 'r') as fin:\n",
    "    all_labels = [item.strip() for item in fin]"
   ]
  },
  {
   "cell_type": "code",
   "execution_count": null,
   "metadata": {},
   "outputs": [],
   "source": [
    "with open('../../../../data/OpenImages/metadata-v4/class-names/class-descriptions.csv', 'r') as fin:\n",
    "    mid2name = {item[0]: item[1] for item in csv.reader(fin)}"
   ]
  },
  {
   "cell_type": "code",
   "execution_count": null,
   "metadata": {},
   "outputs": [],
   "source": [
    "mid2name[all_labels[0]]"
   ]
  },
  {
   "cell_type": "code",
   "execution_count": null,
   "metadata": {},
   "outputs": [],
   "source": [
    "mid2term = {item: 'm_' + item.split('/')[-1] + '_' + mid2name[item].replace(' ', '_').replace('&', 'and') for item in all_labels}"
   ]
  },
  {
   "cell_type": "code",
   "execution_count": null,
   "metadata": {},
   "outputs": [],
   "source": [
    "with open('../../results/det_results_postproc_11.pkl', 'rb') as fin:\n",
    "    det_results_jpg = pickle.load(fin)"
   ]
  },
  {
   "cell_type": "code",
   "execution_count": null,
   "metadata": {},
   "outputs": [],
   "source": [
    "with open('../../results/det_results_postproc_12.pkl', 'rb') as fin:\n",
    "    det_results_vid = pickle.load(fin)"
   ]
  },
  {
   "cell_type": "code",
   "execution_count": null,
   "metadata": {},
   "outputs": [],
   "source": [
    "VIS_ONTOLOGY = ClosedNamespace(\n",
    "    uri=URIRef(\"http://www.columbia.edu/AIDA/DVMM/Ontologies/OpenImagesSubset01#\"),\n",
    "    terms=[mid2term[item] for item in all_labels]\n",
    ")\n"
   ]
  },
  {
   "cell_type": "code",
   "execution_count": null,
   "metadata": {},
   "outputs": [],
   "source": [
    "SEEDLING_ONTOLOGY = ClosedNamespace(\n",
    "    uri=URIRef(\"https://tac.nist.gov/tracks/SM-KBP/2018/ontologies/SeedlingOntology#\"),\n",
    "    terms=[\n",
    "        'Person',\n",
    "        'Facility',\n",
    "        'GeopoliticalEntity',\n",
    "        'Location',\n",
    "        'Organization',\n",
    "        \n",
    "        'Commodity',\n",
    "        'Money',\n",
    "        'Vehicle',\n",
    "        'Weapon',\n",
    "        \n",
    "        'Conflict.Attack',\n",
    "        'Conflict.Demonstrate',\n",
    "        'Contact.Meet',\n",
    "        'Existence.DamageDestroy',\n",
    "        'Life.Die',\n",
    "        'Life.Injure',\n",
    "        'Life.Marry',\n",
    "        'Movement.TransportArtifact',\n",
    "        'Movement.TransportPerson',        \n",
    "    ]\n",
    ")\n"
   ]
  },
  {
   "cell_type": "code",
   "execution_count": null,
   "metadata": {},
   "outputs": [],
   "source": [
    "mid_to_ere = {}\n",
    "mid_is_event = {}\n",
    "with open('../../temp/300_ere_link.csv', 'r') as fin:\n",
    "    flag = False\n",
    "    for row in csv.reader(fin):\n",
    "        if not flag:\n",
    "            flag=True\n",
    "            continue\n",
    "        if row[0] == '':\n",
    "            continue\n",
    "        if row[3] != '':\n",
    "            mid_to_ere[row[0]] = SEEDLING_ONTOLOGY.term(row[3])\n",
    "        if row[2] == 'No':\n",
    "            mid_is_event[row[0]] = False\n",
    "        elif row[2] == 'Yes':\n",
    "            mid_is_event[row[0]] = True\n",
    "        else:\n",
    "            print(row)\n",
    "            raise Exception(\"Neither Yes nor No\")"
   ]
  },
  {
   "cell_type": "code",
   "execution_count": null,
   "metadata": {},
   "outputs": [],
   "source": []
  },
  {
   "cell_type": "code",
   "execution_count": null,
   "metadata": {},
   "outputs": [],
   "source": []
  },
  {
   "cell_type": "code",
   "execution_count": 4,
   "metadata": {},
   "outputs": [],
   "source": [
    "root_docs = ['IC0015MEL','IC0015N8B','IC0015R7B','IC0015S3J','IC0015S43','IC0015S4O','IC0015S7Y','IC0015S83','IC0015SWP','IC0015LGD']"
   ]
  },
  {
   "cell_type": "code",
   "execution_count": 5,
   "metadata": {},
   "outputs": [],
   "source": [
    "root_to_leaf = {}\n",
    "leaf_to_root = {}\n",
    "flag = False\n",
    "with open('../../../../data/seedling/parent_children_part2.tab', 'r') as fin:\n",
    "    for line in fin:\n",
    "        if not flag:\n",
    "            flag = True\n",
    "            continue\n",
    "        row = line.split()\n",
    "        if root_to_leaf.get(row[0]) == None:\n",
    "            root_to_leaf[row[0]] = []\n",
    "        root_to_leaf[row[0]].append(row[1])\n",
    "        \n",
    "        leaf_to_root[row[1]] = row[0]"
   ]
  },
  {
   "cell_type": "code",
   "execution_count": 6,
   "metadata": {},
   "outputs": [],
   "source": [
    "leaf_docs = []\n",
    "for item in root_docs:\n",
    "    leaf_docs += root_to_leaf[item]"
   ]
  },
  {
   "cell_type": "code",
   "execution_count": 7,
   "metadata": {},
   "outputs": [],
   "source": [
    "vid_ids = [item.split('.')[0] for item in leaf_docs if 'mp4' in item]"
   ]
  },
  {
   "cell_type": "code",
   "execution_count": 8,
   "metadata": {},
   "outputs": [],
   "source": [
    "img_ids = [item for item in leaf_docs if 'jpg' in item]"
   ]
  },
  {
   "cell_type": "code",
   "execution_count": 9,
   "metadata": {},
   "outputs": [],
   "source": [
    "vid_to_shot = {}\n",
    "\n",
    "with open('../../../../data/seedling/seedling_keyframes/msb.txt', 'r') as fin:\n",
    "    for line in fin:\n",
    "        row = line.split()\n",
    "        shotname = row[1]\n",
    "        vidname = row[1].split('_')[0]\n",
    "        \n",
    "        if vid_to_shot.get(vidname) == None:\n",
    "            vid_to_shot[vidname] = []\n",
    "        vid_to_shot[vidname].append(shotname)"
   ]
  },
  {
   "cell_type": "code",
   "execution_count": null,
   "metadata": {},
   "outputs": [],
   "source": []
  },
  {
   "cell_type": "code",
   "execution_count": null,
   "metadata": {},
   "outputs": [],
   "source": []
  },
  {
   "cell_type": "code",
   "execution_count": 18,
   "metadata": {},
   "outputs": [],
   "source": [
    "lmdb_path = '/home/alireza/aida/export/Hassan/Filtered_all/instance_features_v2.lmdb'\n",
    "env = lmdb.open(lmdb_path, map_size=1e10, readonly=True, lock=False)\n",
    "txn = env.begin(write=False)\n",
    "# cursor = txn.cursor()"
   ]
  },
  {
   "cell_type": "code",
   "execution_count": 19,
   "metadata": {},
   "outputs": [],
   "source": [
    "lmdb_path2 = '/home/alireza/aida/export/Hassan/Filtered_all/instance_features_keyframe.lmdb'\n",
    "env2 = lmdb.open(lmdb_path2, map_size=1e10, readonly=True, lock=False)\n",
    "txn2 = env2.begin(write=False)\n",
    "# cursor2 = txn2.cursor()"
   ]
  },
  {
   "cell_type": "code",
   "execution_count": null,
   "metadata": {},
   "outputs": [],
   "source": []
  },
  {
   "cell_type": "code",
   "execution_count": null,
   "metadata": {},
   "outputs": [],
   "source": []
  },
  {
   "cell_type": "code",
   "execution_count": 20,
   "metadata": {},
   "outputs": [],
   "source": [
    "g = aifutils.make_graph()\n",
    "\n",
    "system_co = aifutils.make_system_with_uri(g, \"http://www.columbia.edu/AIDA/DVMM/Systems/ObjectDetection/FasterRCNN-NASNet/COCO\")\n",
    "system_oi = aifutils.make_system_with_uri(g, \"http://www.columbia.edu/AIDA/DVMM/Systems/ObjectDetection/FasterRCNN-InceptionResNet/OpenImages\")\n",
    "system_ws = aifutils.make_system_with_uri(g, \"http://www.columbia.edu/AIDA/DVMM/Systems/ObjectDetection/MITWeaklySupervised-ResNet/OpenImages\")\n"
   ]
  },
  {
   "cell_type": "code",
   "execution_count": 21,
   "metadata": {},
   "outputs": [],
   "source": [
    "for imgid in img_ids:\n",
    "    det = det_results_jpg[imgid]\n",
    "    for ii in range(det['num_detections']):\n",
    "        label = det['detection_classes'][ii]\n",
    "        score = det['detection_scores'][ii]\n",
    "        bbox = det['detection_boxes'][ii]\n",
    "        model = det['detection_models'][ii]\n",
    "        \n",
    "        if label not in mid_is_event:\n",
    "            continue\n",
    "        \n",
    "        if score < 0.35:\n",
    "            continue\n",
    "        \n",
    "        if model == 'coco':\n",
    "            sys = system_co\n",
    "        elif model == 'oi':\n",
    "            sys = system_oi\n",
    "        elif model == 'ws':\n",
    "            sys = system_ws\n",
    "        elif model == 'coco/J':\n",
    "            sys = system_co\n",
    "        elif model == 'oi/J':\n",
    "            sys = system_oi\n",
    "        elif model == 'ws/J':\n",
    "            sys = system_ws\n",
    "\n",
    "        labelrdf = VIS_ONTOLOGY.term(mid2term[label])\n",
    "        \n",
    "        if mid_to_ere.get(label) != None: \n",
    "            labelrdf_ere = mid_to_ere[label]\n",
    "        \n",
    "        if not mid_is_event[label]:            \n",
    "            \n",
    "            eid = f\"http://www.columbia.edu/AIDA/DVMM/Entities/ObjectDetection/RUN00002/{imgid}/{ii}\"\n",
    "            \n",
    "            entity = aifutils.make_entity(g, eid, sys)\n",
    "            \n",
    "            justification_bundle = [entity]\n",
    "\n",
    "            type_assertion = aifutils.mark_type(g, eid + \"/cu300\", entity, labelrdf, sys, score)\n",
    "            \n",
    "            justification_bundle.append(type_assertion)\n",
    "            \n",
    "            if mid_to_ere.get(label) != None:\n",
    "                type_assertion_2 = aifutils.mark_type(g, eid + \"/ere\", entity, labelrdf_ere, sys, score)\n",
    "\n",
    "                justification_bundle.append(type_assertion_2)\n",
    "                \n",
    "            bb = Bounding_Box((bbox[0], bbox[1]), (bbox[2], bbox[3]))\n",
    "            aifutils.mark_image_justification(g, justification_bundle, imgid, bb, sys, score)\n",
    "            \n",
    "            aifutils.mark_private_data(g, entity, json.dumps({\n",
    "                'columbia_vector_insmatch_v1.0': np.frombuffer(txn.get(eid.encode('utf-8')), dtype='float32').tolist()\n",
    "            }), sys)\n",
    "        \n",
    "        else:            \n",
    "            \n",
    "            eid = f\"http://www.columbia.edu/AIDA/DVMM/Events/ObjectDetection/RUN00002/{imgid}/{ii}\"\n",
    "            \n",
    "            event = aifutils.make_event(g, eid, sys)\n",
    "            \n",
    "            justification_bundle = [event]\n",
    "\n",
    "            type_assertion = aifutils.mark_type(g, eid + \"/cu300\", event, labelrdf, sys, score)\n",
    "            \n",
    "            justification_bundle.append(type_assertion)\n",
    "            \n",
    "            if mid_to_ere.get(label) != None:\n",
    "                type_assertion_2 = aifutils.mark_type(g, eid + \"/ere\", event, labelrdf_ere, sys, score)\n",
    "\n",
    "                justification_bundle.append(type_assertion_2)\n",
    "                \n",
    "                \n",
    "            bb = Bounding_Box((0, 0), (0, 0))\n",
    "            aifutils.mark_image_justification(g, justification_bundle, imgid, bb, sys, score)\n",
    "        \n",
    "\n",
    "        \n"
   ]
  },
  {
   "cell_type": "code",
   "execution_count": null,
   "metadata": {},
   "outputs": [],
   "source": []
  },
  {
   "cell_type": "code",
   "execution_count": 22,
   "metadata": {},
   "outputs": [],
   "source": [
    "for vidid in vid_ids:\n",
    "    for keyframeid in vid_to_shot[vidid]:\n",
    "        imgid = keyframeid + '.png'\n",
    "        det = det_results_vid[imgid]\n",
    "\n",
    "        for ii in range(det['num_detections']):\n",
    "            label = det['detection_classes'][ii]\n",
    "            score = det['detection_scores'][ii]\n",
    "            bbox = det['detection_boxes'][ii]\n",
    "            model = det['detection_models'][ii]\n",
    "\n",
    "            if label not in mid_is_event:\n",
    "                continue\n",
    "\n",
    "            if score < 0.35:\n",
    "                continue\n",
    "\n",
    "            if model == 'coco':\n",
    "                sys = system_co\n",
    "            elif model == 'oi':\n",
    "                sys = system_oi\n",
    "            elif model == 'ws':\n",
    "                sys = system_ws\n",
    "            elif model == 'coco/J':\n",
    "                sys = system_co\n",
    "            elif model == 'oi/J':\n",
    "                sys = system_oi\n",
    "            elif model == 'ws/J':\n",
    "                sys = system_ws\n",
    "\n",
    "            labelrdf = VIS_ONTOLOGY.term(mid2term[label])\n",
    "\n",
    "            if mid_to_ere.get(label) != None: \n",
    "                labelrdf_ere = mid_to_ere[label]\n",
    "\n",
    "            if not mid_is_event[label]:            \n",
    "\n",
    "                eid = f\"http://www.columbia.edu/AIDA/DVMM/Entities/ObjectDetection/RUN00002/{imgid}/{ii}\"\n",
    "\n",
    "                entity = aifutils.make_entity(g, eid, sys)\n",
    "\n",
    "                justification_bundle = [entity]\n",
    "\n",
    "                type_assertion = aifutils.mark_type(g, eid + \"/cu300\", entity, labelrdf, sys, score)\n",
    "\n",
    "                justification_bundle.append(type_assertion)\n",
    "\n",
    "                if mid_to_ere.get(label) != None:\n",
    "                    type_assertion_2 = aifutils.mark_type(g, eid + \"/ere\", entity, labelrdf_ere, sys, score)\n",
    "\n",
    "                    justification_bundle.append(type_assertion_2)\n",
    "\n",
    "                    \n",
    "                bb = Bounding_Box((bbox[0], bbox[1]), (bbox[2], bbox[3]))\n",
    "                aifutils.mark_keyframe_video_justification(g, justification_bundle, vidid, keyframeid, bb, sys, score)\n",
    "            \n",
    "                aifutils.mark_private_data(g, entity, json.dumps({\n",
    "                    'columbia_vector_insmatch_v1.0': np.frombuffer(txn2.get(eid.encode('utf-8')), dtype='float32').tolist()\n",
    "                }), sys)\n",
    "\n",
    "            else:            \n",
    "\n",
    "                eid = f\"http://www.columbia.edu/AIDA/DVMM/Events/ObjectDetection/RUN00002/{imgid}/{ii}\"\n",
    "\n",
    "                event = aifutils.make_event(g, eid, sys)\n",
    "\n",
    "                justification_bundle = [event]\n",
    "\n",
    "                type_assertion = aifutils.mark_type(g, eid + \"/cu300\", event, labelrdf, sys, score)\n",
    "\n",
    "                justification_bundle.append(type_assertion)\n",
    "\n",
    "                if mid_to_ere.get(label) != None:\n",
    "                    type_assertion_2 = aifutils.mark_type(g, eid + \"/ere\", event, labelrdf_ere, sys, score)\n",
    "\n",
    "                    justification_bundle.append(type_assertion_2)\n",
    "\n",
    "\n",
    "                bb = Bounding_Box((0, 0), (0, 0))\n",
    "                aifutils.mark_keyframe_video_justification(g, justification_bundle, vidid, keyframeid, bb, sys, score)\n",
    "\n",
    "\n",
    "\n"
   ]
  },
  {
   "cell_type": "code",
   "execution_count": 23,
   "metadata": {},
   "outputs": [],
   "source": [
    "with open('../../results/aida_output_18', 'w') as fout:\n",
    "    serialization = BytesIO()\n",
    "    # need .buffer because serialize will write bytes, not str\n",
    "    g.serialize(destination=serialization, format='turtle')\n",
    "    fout.write(serialization.getvalue().decode('utf-8'))\n"
   ]
  },
  {
   "cell_type": "code",
   "execution_count": null,
   "metadata": {},
   "outputs": [],
   "source": []
  },
  {
   "cell_type": "code",
   "execution_count": 22,
   "metadata": {},
   "outputs": [],
   "source": [
    "with open('../../temp/ontology_export_4.ttl', 'w') as fout:\n",
    "    fout.write(\n",
    "'''\n",
    "@prefix : <http://www.columbia.edu/AIDA/DVMM/Ontologies/OpenImagesSubset01#> .\n",
    "@prefix aidaDomainCommon:  <http://darpa.mil/ontologies/AidaDomainOntologiesCommon#> .\n",
    "@prefix owl: <http://www.w3.org/2002/07/owl#> .\n",
    "@prefix rdfs: <http://www.w3.org/2000/01/rdf-schema#> .\n",
    "@prefix rdf: <http://www.w3.org/1999/02/22-rdf-syntax-ns#> .\n",
    "@prefix xsd: <http://www.w3.org/2001/XMLSchema#> .\n",
    "\n",
    ": rdf:type owl:Ontology ;\n",
    "    rdfs:label \"DVMM Ontology\"^^xsd:string ;\n",
    "    rdfs:comment \"Extracted from openimages. m_something shows freebase ID.\"^^xsd:string ;\n",
    "    owl:versionInfo \"Version 0.1\"^^xsd:string .\n",
    "\n",
    "'''\n",
    "    )\n",
    "    for label in all_labels:\n",
    "        if label not in mid_is_event:\n",
    "            continue\n",
    "        if mid_is_event[label] == False:\n",
    "            fout.write(f':{mid2term[label]} rdfs:subClassOf aidaDomainCommon:EntityType .\\n')\n",
    "        else:\n",
    "            fout.write(f':{mid2term[label]} rdfs:subClassOf aidaDomainCommon:EventType .\\n')\n",
    "        "
   ]
  },
  {
   "cell_type": "code",
   "execution_count": null,
   "metadata": {},
   "outputs": [],
   "source": []
  }
 ],
 "metadata": {
  "kernelspec": {
   "display_name": "Py3 for AIDA",
   "language": "python",
   "name": "aida"
  },
  "language_info": {
   "codemirror_mode": {
    "name": "ipython",
    "version": 3
   },
   "file_extension": ".py",
   "mimetype": "text/x-python",
   "name": "python",
   "nbconvert_exporter": "python",
   "pygments_lexer": "ipython3",
   "version": "3.6.5"
  }
 },
 "nbformat": 4,
 "nbformat_minor": 2
}
