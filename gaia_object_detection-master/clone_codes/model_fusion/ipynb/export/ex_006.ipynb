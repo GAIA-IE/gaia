{
 "cells": [
  {
   "cell_type": "code",
   "execution_count": 1,
   "metadata": {},
   "outputs": [],
   "source": [
    "import sys\n",
    "import os\n",
    "import pickle\n",
    "import csv\n",
    "\n",
    "from io import BytesIO\n",
    "import numpy as np\n",
    "\n",
    "from rdflib import URIRef\n",
    "from rdflib.namespace import ClosedNamespace\n"
   ]
  },
  {
   "cell_type": "code",
   "execution_count": 2,
   "metadata": {},
   "outputs": [],
   "source": [
    "sys.path.append(\"/home/alireza/aida/git/AIDA-Interchange-Format/python/aida_interchange\")\n",
    "from Bounding_Box import Bounding_Box\n",
    "import aifutils\n"
   ]
  },
  {
   "cell_type": "code",
   "execution_count": null,
   "metadata": {},
   "outputs": [],
   "source": []
  },
  {
   "cell_type": "code",
   "execution_count": 3,
   "metadata": {},
   "outputs": [],
   "source": [
    "with open('../../temp/all_labels_coco_oi_ws.pkl', 'rb') as fin:\n",
    "    all_labels = pickle.load(fin)"
   ]
  },
  {
   "cell_type": "code",
   "execution_count": 4,
   "metadata": {},
   "outputs": [
    {
     "data": {
      "text/plain": [
       "'/m/0449p'"
      ]
     },
     "execution_count": 4,
     "metadata": {},
     "output_type": "execute_result"
    }
   ],
   "source": [
    "all_labels[1]"
   ]
  },
  {
   "cell_type": "code",
   "execution_count": 5,
   "metadata": {},
   "outputs": [],
   "source": [
    "with open('../../temp/all_labels_names.pkl', 'rb') as fin:\n",
    "    mid2name = pickle.load(fin)"
   ]
  },
  {
   "cell_type": "code",
   "execution_count": 6,
   "metadata": {},
   "outputs": [],
   "source": [
    "mid2term = {item: item.split('/')[-1] + '_' + mid2name[item].replace(' ', '_').replace('&', 'and') for item in all_labels}"
   ]
  },
  {
   "cell_type": "code",
   "execution_count": 7,
   "metadata": {},
   "outputs": [],
   "source": [
    "with open('../../results/det_results_combined_oi_coco_ws_7_post.pkl', 'rb') as fin:\n",
    "    det_results = pickle.load(fin)"
   ]
  },
  {
   "cell_type": "code",
   "execution_count": 8,
   "metadata": {},
   "outputs": [],
   "source": [
    "VIS_ONTOLOGY = ClosedNamespace(\n",
    "    uri=URIRef(\"Columbia/DVMM/Ontologies/OpenImagesSubset01#\"),\n",
    "    terms=[mid2term[item] for item in all_labels]\n",
    ")\n"
   ]
  },
  {
   "cell_type": "code",
   "execution_count": null,
   "metadata": {},
   "outputs": [],
   "source": []
  },
  {
   "cell_type": "code",
   "execution_count": 9,
   "metadata": {},
   "outputs": [],
   "source": [
    "g = aifutils.make_graph()\n",
    "\n",
    "system_co = aifutils.make_system_with_uri(g, \"Columbia/DVMM/Systems/ObjectDetection/FasterRCNN-NASNet/COCO\")\n",
    "system_oi = aifutils.make_system_with_uri(g, \"Columbia/DVMM/Systems/ObjectDetection/FasterRCNN-InceptionResNet/OpenImages\")\n",
    "system_ws = aifutils.make_system_with_uri(g, \"Columbia/DVMM/Systems/ObjectDetection/MITWeaklySupervised-ResNet/OpenImages\")\n",
    "\n",
    "for imgid, det in det_results.items():\n",
    "    for ii in range(det['num_detections']):\n",
    "        label = det['detection_classes'][ii]\n",
    "        score = det['detection_scores'][ii]\n",
    "        bbox = det['detection_boxes'][ii]\n",
    "        model = det['detection_models'][ii]\n",
    "        \n",
    "        if score < 0.25:\n",
    "            continue\n",
    "        \n",
    "        if model == 'coco':\n",
    "            sys = system_co\n",
    "        elif model == 'oi':\n",
    "            sys = system_oi\n",
    "        elif model == 'ws':\n",
    "            sys = system_ws\n",
    "        elif model == 'coco/J':\n",
    "            sys = system_co\n",
    "        elif model == 'oi/J':\n",
    "            sys = system_oi\n",
    "        elif model == 'ws/J':\n",
    "            sys = system_ws\n",
    "\n",
    "        labelrdf = VIS_ONTOLOGY.term(mid2term[label])\n",
    "        \n",
    "        entity = aifutils.make_entity(g, f\"Columbia/DVMM/Entities/ObjectDetection/RUN00001/{imgid}/{ii}\", sys)\n",
    "\n",
    "        type_assertion = aifutils.mark_type(g, f\"Columbia/DVMM/TypeAssertion/ObjectDetection/RUN00001/{imgid}/{ii}/1\", \n",
    "                                            entity, labelrdf, sys, score)\n",
    "\n",
    "        bb = Bounding_Box((bbox[0], bbox[1]), (bbox[2], bbox[3]))\n",
    "        _, vidid, keyframeid = imgid.split('/')\n",
    "        aifutils.mark_keyframe_video_justification(g, [entity, type_assertion], vidid, keyframeid, bb, sys, score)\n",
    "        \n",
    "\n"
   ]
  },
  {
   "cell_type": "code",
   "execution_count": 10,
   "metadata": {},
   "outputs": [],
   "source": [
    "with open('../../results/aida_output_7', 'w') as fout:\n",
    "    serialization = BytesIO()\n",
    "    # need .buffer because serialize will write bytes, not str\n",
    "    g.serialize(destination=serialization, format='turtle')\n",
    "    fout.write(serialization.getvalue().decode('utf-8'))\n"
   ]
  },
  {
   "cell_type": "code",
   "execution_count": null,
   "metadata": {},
   "outputs": [],
   "source": []
  },
  {
   "cell_type": "code",
   "execution_count": 10,
   "metadata": {},
   "outputs": [],
   "source": [
    "with open('../../temp/ontology_export_1.ttl', 'w') as fout:\n",
    "    fout.write('@prefix : <Columbia/DVMM/Ontologies/OpenImagesSubset01#> .\\n')\n",
    "    fout.write('@prefix owl: <http://www.w3.org/2002/07/owl#> .\\n')\n",
    "    fout.write('@prefix rdfs: <http://www.w3.org/2000/01/rdf-schema#> .\\n')\n",
    "    fout.write('@prefix rdf: <http://www.w3.org/1999/02/22-rdf-syntax-ns#> .\\n')\n",
    "    fout.write('@prefix xsd: <http://www.w3.org/2001/XMLSchema#> .\\n')\n",
    "    fout.write('\\n')\n",
    "    fout.write('<Columbia/DVMM/Ontologies/OpenImagesSubset01#> rdf:type owl:Ontology .')\n",
    "    fout.write('\\n')\n",
    "    for label in all_labels:\n",
    "        fout.write(f':{mid2term[label]} rdf:type owl:Class .\\n')"
   ]
  },
  {
   "cell_type": "code",
   "execution_count": null,
   "metadata": {},
   "outputs": [],
   "source": []
  },
  {
   "cell_type": "code",
   "execution_count": null,
   "metadata": {},
   "outputs": [],
   "source": []
  }
 ],
 "metadata": {
  "kernelspec": {
   "display_name": "Py3 for AIDA",
   "language": "python",
   "name": "aida"
  },
  "language_info": {
   "codemirror_mode": {
    "name": "ipython",
    "version": 3
   },
   "file_extension": ".py",
   "mimetype": "text/x-python",
   "name": "python",
   "nbconvert_exporter": "python",
   "pygments_lexer": "ipython3",
   "version": "3.6.5"
  }
 },
 "nbformat": 4,
 "nbformat_minor": 2
}
