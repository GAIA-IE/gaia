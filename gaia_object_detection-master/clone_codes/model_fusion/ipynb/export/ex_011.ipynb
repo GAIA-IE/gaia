{
 "cells": [
  {
   "cell_type": "code",
   "execution_count": 1,
   "metadata": {},
   "outputs": [],
   "source": [
    "import sys\n",
    "import os\n",
    "import pickle\n",
    "import csv\n",
    "\n",
    "from io import BytesIO\n",
    "import numpy as np\n",
    "\n",
    "from rdflib import URIRef\n",
    "from rdflib.namespace import ClosedNamespace\n"
   ]
  },
  {
   "cell_type": "code",
   "execution_count": 2,
   "metadata": {},
   "outputs": [],
   "source": [
    "sys.path.append(\"/home/alireza/aida/tools/AIDA-Interchange-Format/python/aida_interchange\")\n",
    "from Bounding_Box import Bounding_Box\n",
    "import aifutils\n"
   ]
  },
  {
   "cell_type": "code",
   "execution_count": 3,
   "metadata": {},
   "outputs": [],
   "source": [
    "with open('../../../wsod/metadata/ont_300/300_joined_list.csv', 'r') as fin:\n",
    "    all_labels = [item.strip() for item in fin]"
   ]
  },
  {
   "cell_type": "code",
   "execution_count": 4,
   "metadata": {},
   "outputs": [],
   "source": [
    "with open('../../../../data/OpenImages/metadata-v4/class-names/class-descriptions.csv', 'r') as fin:\n",
    "    mid2name = {item[0]: item[1] for item in csv.reader(fin)}"
   ]
  },
  {
   "cell_type": "code",
   "execution_count": 5,
   "metadata": {},
   "outputs": [
    {
     "data": {
      "text/plain": [
       "'Air force'"
      ]
     },
     "execution_count": 5,
     "metadata": {},
     "output_type": "execute_result"
    }
   ],
   "source": [
    "mid2name[all_labels[0]]"
   ]
  },
  {
   "cell_type": "code",
   "execution_count": 6,
   "metadata": {},
   "outputs": [],
   "source": [
    "mid2term = {item: 'm_' + item.split('/')[-1] + '_' + mid2name[item].replace(' ', '_').replace('&', 'and') for item in all_labels}"
   ]
  },
  {
   "cell_type": "code",
   "execution_count": 7,
   "metadata": {},
   "outputs": [],
   "source": [
    "with open('../../results/det_results_postproc_11.pkl', 'rb') as fin:\n",
    "    det_results = pickle.load(fin)"
   ]
  },
  {
   "cell_type": "code",
   "execution_count": 8,
   "metadata": {},
   "outputs": [],
   "source": [
    "VIS_ONTOLOGY = ClosedNamespace(\n",
    "    uri=URIRef(\"http://www.columbia.edu/AIDA/DVMM/Ontologies/OpenImagesSubset01#\"),\n",
    "    terms=[mid2term[item] for item in all_labels]\n",
    ")\n"
   ]
  },
  {
   "cell_type": "code",
   "execution_count": null,
   "metadata": {},
   "outputs": [],
   "source": []
  },
  {
   "cell_type": "code",
   "execution_count": null,
   "metadata": {},
   "outputs": [],
   "source": []
  },
  {
   "cell_type": "code",
   "execution_count": null,
   "metadata": {},
   "outputs": [],
   "source": []
  },
  {
   "cell_type": "code",
   "execution_count": 9,
   "metadata": {},
   "outputs": [],
   "source": [
    "g = aifutils.make_graph()\n",
    "\n",
    "system_co = aifutils.make_system_with_uri(g, \"http://www.columbia.edu/AIDA/DVMM/Systems/ObjectDetection/FasterRCNN-NASNet/COCO\")\n",
    "system_oi = aifutils.make_system_with_uri(g, \"http://www.columbia.edu/AIDA/DVMM/Systems/ObjectDetection/FasterRCNN-InceptionResNet/OpenImages\")\n",
    "system_ws = aifutils.make_system_with_uri(g, \"http://www.columbia.edu/AIDA/DVMM/Systems/ObjectDetection/MITWeaklySupervised-ResNet/OpenImages\")\n",
    "\n",
    "for imgid, det in det_results.items():\n",
    "    for ii in range(det['num_detections']):\n",
    "        label = det['detection_classes'][ii]\n",
    "        score = det['detection_scores'][ii]\n",
    "        bbox = det['detection_boxes'][ii]\n",
    "        model = det['detection_models'][ii]\n",
    "        \n",
    "        if score < 0.35:\n",
    "            continue\n",
    "        \n",
    "        if model == 'coco':\n",
    "            sys = system_co\n",
    "        elif model == 'oi':\n",
    "            sys = system_oi\n",
    "        elif model == 'ws':\n",
    "            sys = system_ws\n",
    "        elif model == 'coco/J':\n",
    "            sys = system_co\n",
    "        elif model == 'oi/J':\n",
    "            sys = system_oi\n",
    "        elif model == 'ws/J':\n",
    "            sys = system_ws\n",
    "\n",
    "        labelrdf = VIS_ONTOLOGY.term(mid2term[label])\n",
    "        \n",
    "        entity = aifutils.make_entity(g, f\"http://www.columbia.edu/AIDA/DVMM/Entities/ObjectDetection/RUN00002/{imgid}/{ii}\", sys)\n",
    "\n",
    "        type_assertion = aifutils.mark_type(g, f\"http://www.columbia.edu/AIDA/DVMM/TypeAssertion/ObjectDetection/RUN00002/{imgid}/{ii}/1\", \n",
    "                                            entity, labelrdf, sys, score)\n",
    "\n",
    "        bb = Bounding_Box((bbox[0], bbox[1]), (bbox[2], bbox[3]))\n",
    "        aifutils.mark_image_justification(g, [entity, type_assertion], imgid, bb, sys, score)\n",
    "        \n",
    "\n"
   ]
  },
  {
   "cell_type": "code",
   "execution_count": 10,
   "metadata": {},
   "outputs": [],
   "source": [
    "with open('../../results/aida_output_11', 'w') as fout:\n",
    "    serialization = BytesIO()\n",
    "    # need .buffer because serialize will write bytes, not str\n",
    "    g.serialize(destination=serialization, format='turtle')\n",
    "    fout.write(serialization.getvalue().decode('utf-8'))\n"
   ]
  },
  {
   "cell_type": "code",
   "execution_count": null,
   "metadata": {},
   "outputs": [],
   "source": []
  },
  {
   "cell_type": "code",
   "execution_count": 19,
   "metadata": {},
   "outputs": [],
   "source": [
    "with open('../../temp/ontology_export_2.ttl', 'w') as fout:\n",
    "    fout.write(\n",
    "'''\n",
    "@prefix : <http://www.columbia.edu/AIDA/DVMM/Ontologies/OpenImagesSubset01#> .\n",
    "@prefix aidaDomainCommon:  <http://darpa.mil/ontologies/AidaDomainOntologiesCommon#> .\n",
    "@prefix owl: <http://www.w3.org/2002/07/owl#> .\n",
    "@prefix rdfs: <http://www.w3.org/2000/01/rdf-schema#> .\n",
    "@prefix rdf: <http://www.w3.org/1999/02/22-rdf-syntax-ns#> .\n",
    "@prefix xsd: <http://www.w3.org/2001/XMLSchema#> .\n",
    "\n",
    ": rdf:type owl:Ontology ;\n",
    "    rdfs:label \"DVMM Ontology\"^^xsd:string ;\n",
    "    rdfs:comment \"Extracted from openimages. m_something shows freebase ID.\"^^xsd:string ;\n",
    "    owl:versionInfo \"Version 0.1\"^^xsd:string .\n",
    "\n",
    "'''\n",
    "    )\n",
    "    for label in all_labels:\n",
    "        fout.write(f':{mid2term[label]} rdfs:subClassOf aidaDomainCommon:EntityType .\\n')"
   ]
  },
  {
   "cell_type": "code",
   "execution_count": null,
   "metadata": {},
   "outputs": [],
   "source": []
  },
  {
   "cell_type": "code",
   "execution_count": null,
   "metadata": {},
   "outputs": [],
   "source": []
  }
 ],
 "metadata": {
  "kernelspec": {
   "display_name": "Py3 for AIDA",
   "language": "python",
   "name": "aida"
  },
  "language_info": {
   "codemirror_mode": {
    "name": "ipython",
    "version": 3
   },
   "file_extension": ".py",
   "mimetype": "text/x-python",
   "name": "python",
   "nbconvert_exporter": "python",
   "pygments_lexer": "ipython3",
   "version": "3.6.5"
  }
 },
 "nbformat": 4,
 "nbformat_minor": 2
}
