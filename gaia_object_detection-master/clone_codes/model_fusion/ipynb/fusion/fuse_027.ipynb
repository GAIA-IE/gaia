{
 "cells": [
  {
   "cell_type": "code",
   "execution_count": 1,
   "metadata": {},
   "outputs": [],
   "source": [
    "import os\n",
    "import sys\n",
    "import pickle\n",
    "import csv\n",
    "import numpy as np"
   ]
  },
  {
   "cell_type": "code",
   "execution_count": null,
   "metadata": {},
   "outputs": [],
   "source": []
  },
  {
   "cell_type": "code",
   "execution_count": null,
   "metadata": {},
   "outputs": [],
   "source": []
  },
  {
   "cell_type": "markdown",
   "metadata": {},
   "source": [
    "## Concatenating the results "
   ]
  },
  {
   "cell_type": "code",
   "execution_count": 4,
   "metadata": {},
   "outputs": [],
   "source": [
    "with open('../../../tfobjdetect/results/det_results_m18_dryrun_jpg_oi_1_filtered.pkl', 'rb') as fin:\n",
    "    det_results_oi = pickle.load(fin)\n",
    "\n",
    "with open('../../../tfobjdetect/results/det_results_m18_dryrun_jpg_coco_1_filtered.pkl', 'rb') as fin:\n",
    "    det_results_coco = pickle.load(fin)\n",
    "\n",
    "with open('../../../wsod/results/det_results_dpl_030.pkl', 'rb') as fin:\n",
    "    det_results_ws = pickle.load(fin)\n",
    "    \n"
   ]
  },
  {
   "cell_type": "code",
   "execution_count": 5,
   "metadata": {},
   "outputs": [],
   "source": [
    "with open('../../../wsod/metadata/ont_m18/mapping.pkl', 'rb') as fin:\n",
    "    mid2ont, syn2mid, single_mids, mid2syn, class2ont, ont2name, class_names = pickle.load(fin)  "
   ]
  },
  {
   "cell_type": "code",
   "execution_count": null,
   "metadata": {},
   "outputs": [],
   "source": []
  },
  {
   "cell_type": "code",
   "execution_count": 6,
   "metadata": {},
   "outputs": [],
   "source": [
    "label_set = set()\n",
    "for imgid, det_list in det_results_oi.items():\n",
    "    for det in det_list:\n",
    "        if det['label'] in mid2syn:\n",
    "            label_set.add(det['label'])\n",
    "            det['label'] = mid2syn[det['label']]"
   ]
  },
  {
   "cell_type": "code",
   "execution_count": 7,
   "metadata": {},
   "outputs": [
    {
     "data": {
      "text/plain": [
       "set()"
      ]
     },
     "execution_count": 7,
     "metadata": {},
     "output_type": "execute_result"
    }
   ],
   "source": [
    "label_set"
   ]
  },
  {
   "cell_type": "code",
   "execution_count": null,
   "metadata": {},
   "outputs": [],
   "source": []
  },
  {
   "cell_type": "code",
   "execution_count": 9,
   "metadata": {},
   "outputs": [],
   "source": [
    "det_results_concat = {}\n",
    "for imgid in det_results_oi:\n",
    "    if imgid not in det_results_concat:\n",
    "        det_results_concat[imgid] = []\n",
    "    for det in det_results_oi[imgid]:\n",
    "        det_results_concat[imgid].append({\n",
    "            'label': det['label'],\n",
    "            'original_score': det['score'],\n",
    "            'bbox': det['bbox'],\n",
    "            'bbox_normalized': det['bbox_normalized'],\n",
    "            'model': 'oi',\n",
    "        })\n",
    "\n",
    "for imgid in det_results_coco:\n",
    "    if imgid not in det_results_concat:\n",
    "        det_results_concat[imgid] = []\n",
    "        print(\"WARNING: image in coco not in oi\")\n",
    "    for det in det_results_coco[imgid]:\n",
    "        det_results_concat[imgid].append({\n",
    "            'label': det['label'],\n",
    "            'original_score': det['score'],\n",
    "            'bbox': det['bbox'],\n",
    "            'bbox_normalized': det['bbox_normalized'],\n",
    "            'model': 'coco',\n",
    "        })\n",
    "                \n",
    "for imgid in det_results_ws:\n",
    "    if imgid not in det_results_concat:\n",
    "        det_results_concat[imgid] = []\n",
    "        print(\"WARNING: image in ws not in oi\")\n",
    "    for det in det_results_ws[imgid]:\n",
    "        det_results_concat[imgid].append({\n",
    "            'label': det['label'],\n",
    "            'original_score': det['score'],\n",
    "            'bbox': det['bbox'],\n",
    "            'bbox_normalized': det['bbox_normalized'],\n",
    "            'model': 'ws',\n",
    "        })\n",
    "        "
   ]
  },
  {
   "cell_type": "code",
   "execution_count": null,
   "metadata": {},
   "outputs": [],
   "source": []
  },
  {
   "cell_type": "code",
   "execution_count": null,
   "metadata": {},
   "outputs": [],
   "source": []
  },
  {
   "cell_type": "markdown",
   "metadata": {},
   "source": [
    "## Merging duplicate results"
   ]
  },
  {
   "cell_type": "code",
   "execution_count": 10,
   "metadata": {},
   "outputs": [
    {
     "data": {
      "text/plain": [
       "'\\ndef ioa(det_bbox, gt_bbox):\\n    x_d_len = det_bbox[2] - det_bbox[0]\\n    y_d_len = det_bbox[3] - det_bbox[1]\\n    x_t_len = gt_bbox[2] - gt_bbox[0]\\n    y_t_len = gt_bbox[3] - gt_bbox[1]\\n    x_int_len = max(0, min(gt_bbox[2], det_bbox[2]) - max(gt_bbox[0], det_bbox[0]))\\n    y_int_len = max(0, min(gt_bbox[3], det_bbox[3]) - max(gt_bbox[1], det_bbox[1]))\\n    iou = (x_int_len*y_int_len) / (x_d_len*y_d_len)\\n    return iou\\n'"
      ]
     },
     "execution_count": 10,
     "metadata": {},
     "output_type": "execute_result"
    }
   ],
   "source": [
    "def iou(det_bbox, gt_bbox):\n",
    "    x_d_len = det_bbox[2] - det_bbox[0]\n",
    "    y_d_len = det_bbox[3] - det_bbox[1]\n",
    "    x_t_len = gt_bbox[2] - gt_bbox[0]\n",
    "    y_t_len = gt_bbox[3] - gt_bbox[1]\n",
    "    x_int_len = max(0, min(gt_bbox[2], det_bbox[2]) - max(gt_bbox[0], det_bbox[0]))\n",
    "    y_int_len = max(0, min(gt_bbox[3], det_bbox[3]) - max(gt_bbox[1], det_bbox[1]))\n",
    "    iou = (x_int_len*y_int_len) / (x_d_len*y_d_len + x_t_len*y_t_len - x_int_len*y_int_len)\n",
    "    return iou\n",
    "'''\n",
    "def ioa(det_bbox, gt_bbox):\n",
    "    x_d_len = det_bbox[2] - det_bbox[0]\n",
    "    y_d_len = det_bbox[3] - det_bbox[1]\n",
    "    x_t_len = gt_bbox[2] - gt_bbox[0]\n",
    "    y_t_len = gt_bbox[3] - gt_bbox[1]\n",
    "    x_int_len = max(0, min(gt_bbox[2], det_bbox[2]) - max(gt_bbox[0], det_bbox[0]))\n",
    "    y_int_len = max(0, min(gt_bbox[3], det_bbox[3]) - max(gt_bbox[1], det_bbox[1]))\n",
    "    iou = (x_int_len*y_int_len) / (x_d_len*y_d_len)\n",
    "    return iou\n",
    "'''"
   ]
  },
  {
   "cell_type": "code",
   "execution_count": 18,
   "metadata": {},
   "outputs": [],
   "source": [
    "_STAT_num_same_merged = 0\n",
    "_STAT_num_diff_merged = 0\n",
    "\n",
    "thresh_same = 0.5\n",
    "thresh_diff = 0.7\n",
    "\n",
    "all_groups = {}\n",
    "for imgid, det in det_results_concat.items():\n",
    "    det_results_merged[imgid] = []\n",
    "    groups = []\n",
    "    for ii in range(len(det)):\n",
    "        matching_gr = None\n",
    "        for gr in groups:\n",
    "            for item in gr:\n",
    "                if det[ii]['label'] == det[item]['label'] and iou(det[ii]['bbox'], det[item]['bbox']) > thresh_same:\n",
    "                    if matching_gr == None:\n",
    "                        gr.append(ii)\n",
    "                        matching_gr = gr\n",
    "                    else:\n",
    "                        matching_gr += gr\n",
    "                        gr.clear()\n",
    "                    _STAT_num_same_merged += 1\n",
    "                    break\n",
    "                if det[ii]['label'] != det[item]['label'] and iou(det[ii]['bbox'], det[item]['bbox']) > thresh_diff:\n",
    "                    if matching_gr == None:\n",
    "                        gr.append(ii)\n",
    "                        matching_gr = gr\n",
    "                    else:\n",
    "                        matching_gr += gr\n",
    "                        gr.clear()\n",
    "                    _STAT_num_diff_merged += 1\n",
    "                    break\n",
    "                \n",
    "        if matching_gr == None:\n",
    "            groups.append([ii])\n",
    "    all_groups[imgid] = groups\n",
    "            \n"
   ]
  },
  {
   "cell_type": "code",
   "execution_count": 16,
   "metadata": {},
   "outputs": [
    {
     "data": {
      "text/plain": [
       "(11867, 25903)"
      ]
     },
     "execution_count": 16,
     "metadata": {},
     "output_type": "execute_result"
    }
   ],
   "source": [
    "_STAT_num_same_merged, _STAT_num_diff_merged"
   ]
  },
  {
   "cell_type": "code",
   "execution_count": 80,
   "metadata": {},
   "outputs": [],
   "source": [
    "det_results_merged = {}\n",
    "for imgid, groups in all_groups.items():\n",
    "    det_results_merged[imgid] = []\n",
    "    det = det_results_concat[imgid]\n",
    "    for g in groups:\n",
    "        if len(g) == 0:\n",
    "            continue\n",
    "        suff = '/J' if len(g) > 1 else ''\n",
    "        scores = [det[ii]['original_score'] if det[ii]['model'] != 'ws' else 0. for ii in g]\n",
    "        #scores = [det[ii]['original_score'] for ii in g]\n",
    "        iii = np.argmax(scores)\n",
    "        det_results_merged[imgid].append({\n",
    "            'label': det[g[iii]]['label'],\n",
    "            'score': det[g[iii]]['original_score'],\n",
    "            'bbox': det[g[iii]]['bbox'],\n",
    "            'bbox_normalized': det[g[iii]]['bbox_normalized'],\n",
    "            'model': det[g[iii]]['model'] + suff,            \n",
    "        })"
   ]
  },
  {
   "cell_type": "code",
   "execution_count": 81,
   "metadata": {},
   "outputs": [],
   "source": [
    "with open('../../results/det_results_merged_27.pkl', 'wb') as fout:\n",
    "    pickle.dump(det_results_merged, fout)"
   ]
  },
  {
   "cell_type": "code",
   "execution_count": null,
   "metadata": {},
   "outputs": [],
   "source": []
  },
  {
   "cell_type": "code",
   "execution_count": null,
   "metadata": {},
   "outputs": [],
   "source": []
  },
  {
   "cell_type": "code",
   "execution_count": null,
   "metadata": {},
   "outputs": [],
   "source": []
  },
  {
   "cell_type": "code",
   "execution_count": 31,
   "metadata": {},
   "outputs": [],
   "source": [
    "class_model_score_list = []\n",
    "for imgid, groups in all_groups.items():\n",
    "    for g in groups:\n",
    "        class_model_score = {}\n",
    "        for det_idx in g:\n",
    "            det = det_results_concat[imgid][det_idx]\n",
    "            if det['label'] not in class_model_score:\n",
    "                class_model_score[det['label']] = {}\n",
    "            if det['model'] not in class_model_score[det['label']]:\n",
    "                class_model_score[det['label']][det['model']] = []\n",
    "            class_model_score[det['label']][det['model']].append(det['original_score'])\n",
    "        class_model_score_list.append(class_model_score)"
   ]
  },
  {
   "cell_type": "code",
   "execution_count": 40,
   "metadata": {},
   "outputs": [],
   "source": [
    "m1m2_class_score = {}\n",
    "for item in class_model_score_list:\n",
    "    for label in item:\n",
    "        models = list(np.sort(list(item[label].keys())))\n",
    "        if len(models) > 1:\n",
    "            for i, m1 in enumerate(models):\n",
    "                for m2 in models[:i]:\n",
    "                    if (m1, m2) not in m1m2_class_score:\n",
    "                        m1m2_class_score[(m1, m2)] = {}\n",
    "                    if label not in m1m2_class_score[(m1, m2)]:\n",
    "                        m1m2_class_score[(m1, m2)][label] = []\n",
    "                    m1m2_class_score[(m1, m2)][label].append((np.mean(item[label][m1]), np.mean(item[label][m2])))"
   ]
  },
  {
   "cell_type": "code",
   "execution_count": 42,
   "metadata": {},
   "outputs": [
    {
     "data": {
      "text/plain": [
       "dict_keys([('oi', 'coco'), ('ws', 'oi'), ('ws', 'coco')])"
      ]
     },
     "execution_count": 42,
     "metadata": {},
     "output_type": "execute_result"
    }
   ],
   "source": [
    "m1m2_class_score.keys()"
   ]
  },
  {
   "cell_type": "code",
   "execution_count": 44,
   "metadata": {},
   "outputs": [
    {
     "data": {
      "text/plain": [
       "(13, 32, 9)"
      ]
     },
     "execution_count": 44,
     "metadata": {},
     "output_type": "execute_result"
    }
   ],
   "source": [
    "len(m1m2_class_score[('oi', 'coco')]), len(m1m2_class_score[('ws', 'oi')]), len(m1m2_class_score[('ws', 'coco')]), "
   ]
  },
  {
   "cell_type": "code",
   "execution_count": 46,
   "metadata": {},
   "outputs": [
    {
     "data": {
      "text/plain": [
       "[82, 2728, 16, 8, 74, 25, 22, 137, 27, 38, 35, 9, 13]"
      ]
     },
     "execution_count": 46,
     "metadata": {},
     "output_type": "execute_result"
    }
   ],
   "source": [
    "[len(item) for item in m1m2_class_score[('oi', 'coco')].values()]"
   ]
  },
  {
   "cell_type": "code",
   "execution_count": 47,
   "metadata": {},
   "outputs": [
    {
     "data": {
      "text/plain": [
       "[62,\n",
       " 17,\n",
       " 64,\n",
       " 346,\n",
       " 158,\n",
       " 38,\n",
       " 6,\n",
       " 76,\n",
       " 36,\n",
       " 3,\n",
       " 30,\n",
       " 10,\n",
       " 12,\n",
       " 10,\n",
       " 13,\n",
       " 6,\n",
       " 2,\n",
       " 12,\n",
       " 2,\n",
       " 3,\n",
       " 1,\n",
       " 4,\n",
       " 1,\n",
       " 7,\n",
       " 1,\n",
       " 2,\n",
       " 3,\n",
       " 3,\n",
       " 1,\n",
       " 1,\n",
       " 1,\n",
       " 1]"
      ]
     },
     "execution_count": 47,
     "metadata": {},
     "output_type": "execute_result"
    }
   ],
   "source": [
    "[len(item) for item in m1m2_class_score[('ws', 'oi')].values()]"
   ]
  },
  {
   "cell_type": "code",
   "execution_count": 69,
   "metadata": {},
   "outputs": [],
   "source": [
    "norm_coef_coco = {}\n",
    "for label in m1m2_class_score[('oi', 'coco')]:\n",
    "    oi_scores, coco_scores = zip(*m1m2_class_score[('oi', 'coco')][label])\n",
    "    norm_coef_coco[label] = {\n",
    "        'mean_oi': np.mean(oi_scores),\n",
    "        'mean_coco': np.mean(coco_scores),\n",
    "        'std_oi': np.std(oi_scores),\n",
    "        'std_coco': np.std(coco_scores),\n",
    "        'count': len(oi_scores)\n",
    "    }\n",
    "    "
   ]
  },
  {
   "cell_type": "code",
   "execution_count": 70,
   "metadata": {},
   "outputs": [],
   "source": [
    "norm_coef_coco_default = {\n",
    "    'mean_oi': 0.0,\n",
    "    'mean_coco': 0.0,\n",
    "    'std_oi': 0.0,\n",
    "    'std_coco': 0.0,\n",
    "}\n",
    "for key in norm_coef_coco_default:\n",
    "    nom = 0.0\n",
    "    denom = 0.0\n",
    "    for label in norm_coef_coco:\n",
    "        nom += norm_coef_coco[label][key] * norm_coef_coco[label]['count']\n",
    "        denom += norm_coef_coco[label]['count']\n",
    "    norm_coef_coco_default[key] = nom / denom\n",
    "norm_coef_coco['default'] = norm_coef_coco_default"
   ]
  },
  {
   "cell_type": "code",
   "execution_count": 71,
   "metadata": {},
   "outputs": [
    {
     "data": {
      "text/plain": [
       "{'/m/07r04': {'mean_oi': 0.12225555,\n",
       "  'mean_coco': 0.7897711,\n",
       "  'std_oi': 0.21731174,\n",
       "  'std_coco': 0.2155941,\n",
       "  'count': 82},\n",
       " '/m/01g317': {'mean_oi': 0.14385948,\n",
       "  'mean_coco': 0.92271984,\n",
       "  'std_oi': 0.16336523,\n",
       "  'std_coco': 0.13608757,\n",
       "  'count': 2728},\n",
       " '/m/0hf58v5': {'mean_oi': 0.04489169,\n",
       "  'mean_coco': 0.82871807,\n",
       "  'std_oi': 0.05977657,\n",
       "  'std_coco': 0.19390336,\n",
       "  'count': 16},\n",
       " '/m/07cx4': {'mean_oi': 0.38634437,\n",
       "  'mean_coco': 0.91642606,\n",
       "  'std_oi': 0.2871806,\n",
       "  'std_coco': 0.10553132,\n",
       "  'count': 8},\n",
       " '/m/0bs7_0t': {'mean_oi': 0.05310638,\n",
       "  'mean_coco': 0.77964574,\n",
       "  'std_oi': 0.09528398,\n",
       "  'std_coco': 0.2105068,\n",
       "  'count': 74},\n",
       " '/m/07jdr': {'mean_oi': 0.101653405,\n",
       "  'mean_coco': 0.7474881,\n",
       "  'std_oi': 0.21303764,\n",
       "  'std_coco': 0.1896112,\n",
       "  'count': 25},\n",
       " '/m/01bjv': {'mean_oi': 0.14998633,\n",
       "  'mean_coco': 0.8133198,\n",
       "  'std_oi': 0.24658859,\n",
       "  'std_coco': 0.22940506,\n",
       "  'count': 22},\n",
       " '/m/0k4j': {'mean_oi': 0.38011003,\n",
       "  'mean_coco': 0.8949221,\n",
       "  'std_oi': 0.3096675,\n",
       "  'std_coco': 0.17078674,\n",
       "  'count': 137},\n",
       " '/m/07k1x': {'mean_oi': 0.16330397,\n",
       "  'mean_coco': 0.8517497,\n",
       "  'std_oi': 0.25453326,\n",
       "  'std_coco': 0.18020542,\n",
       "  'count': 27},\n",
       " '/m/0cmf2': {'mean_oi': 0.2939427,\n",
       "  'mean_coco': 0.89240134,\n",
       "  'std_oi': 0.2547009,\n",
       "  'std_coco': 0.14751725,\n",
       "  'count': 38},\n",
       " '/m/019jd': {'mean_oi': 0.15561461,\n",
       "  'mean_coco': 0.674949,\n",
       "  'std_oi': 0.2052303,\n",
       "  'std_coco': 0.2536532,\n",
       "  'count': 35},\n",
       " '/m/04_sv': {'mean_oi': 0.097024485,\n",
       "  'mean_coco': 0.7936631,\n",
       "  'std_oi': 0.2287788,\n",
       "  'std_coco': 0.19765547,\n",
       "  'count': 9},\n",
       " '/m/0199g': {'mean_oi': 0.15006194,\n",
       "  'mean_coco': 0.8185942,\n",
       "  'std_oi': 0.12605253,\n",
       "  'std_coco': 0.23700798,\n",
       "  'count': 13},\n",
       " 'default': {'mean_oi': 0.1530734827068554,\n",
       "  'mean_coco': 0.9078178553196978,\n",
       "  'std_oi': 0.17249281768407151,\n",
       "  'std_coco': 0.1449420802856204}}"
      ]
     },
     "execution_count": 71,
     "metadata": {},
     "output_type": "execute_result"
    }
   ],
   "source": [
    "norm_coef_coco"
   ]
  },
  {
   "cell_type": "code",
   "execution_count": 72,
   "metadata": {},
   "outputs": [],
   "source": [
    "norm_coef_ws = {}\n",
    "for label in m1m2_class_score[('ws', 'oi')]:\n",
    "    ws_scores, oi_scores = zip(*m1m2_class_score[('ws', 'oi')][label])\n",
    "    norm_coef_ws[label] = {\n",
    "        'mean_oi': np.mean(oi_scores),\n",
    "        'mean_ws': np.mean(ws_scores),\n",
    "        'std_oi': np.std(oi_scores),\n",
    "        'std_ws': np.std(ws_scores),\n",
    "        'count': len(oi_scores)\n",
    "    }\n",
    "    "
   ]
  },
  {
   "cell_type": "code",
   "execution_count": 73,
   "metadata": {},
   "outputs": [],
   "source": [
    "norm_coef_ws_default = {\n",
    "    'mean_oi': 0.0,\n",
    "    'mean_ws': 0.0,\n",
    "    'std_oi': 0.0,\n",
    "    'std_ws': 0.0,\n",
    "}\n",
    "for key in norm_coef_ws_default:\n",
    "    nom = 0.0\n",
    "    denom = 0.0\n",
    "    for label in norm_coef_ws:\n",
    "        nom += norm_coef_ws[label][key] * norm_coef_ws[label]['count']\n",
    "        denom += norm_coef_ws[label]['count']\n",
    "    norm_coef_ws_default[key] = nom / denom\n",
    "norm_coef_ws['default'] = norm_coef_ws_default"
   ]
  },
  {
   "cell_type": "code",
   "execution_count": 74,
   "metadata": {},
   "outputs": [
    {
     "data": {
      "text/plain": [
       "{'/m/01prls': {'mean_oi': 0.13696417,\n",
       "  'mean_ws': 0.06789212,\n",
       "  'std_oi': 0.19275239,\n",
       "  'std_ws': 0.033936683,\n",
       "  'count': 62},\n",
       " '/m/06c54': {'mean_oi': 0.16928613,\n",
       "  'mean_ws': 0.048932195,\n",
       "  'std_oi': 0.202709,\n",
       "  'std_ws': 0.023295311,\n",
       "  'count': 17},\n",
       " '/m/083kb': {'mean_oi': 0.10144101,\n",
       "  'mean_ws': 0.051098324,\n",
       "  'std_oi': 0.099219844,\n",
       "  'std_ws': 0.023429548,\n",
       "  'count': 64},\n",
       " '/m/01g317': {'mean_oi': 0.13707367,\n",
       "  'mean_ws': 0.098791905,\n",
       "  'std_oi': 0.121144444,\n",
       "  'std_ws': 0.036862437,\n",
       "  'count': 346},\n",
       " '/m/07yv9': {'mean_oi': 0.04818518,\n",
       "  'mean_ws': 0.11578682,\n",
       "  'std_oi': 0.07472296,\n",
       "  'std_ws': 0.056430876,\n",
       "  'count': 158},\n",
       " '/m/04yx4': {'mean_oi': 0.30928102,\n",
       "  'mean_ws': 0.05863618,\n",
       "  'std_oi': 0.20535019,\n",
       "  'std_ws': 0.018496709,\n",
       "  'count': 38},\n",
       " '/m/07r04': {'mean_oi': 0.17336726,\n",
       "  'mean_ws': 0.042222936,\n",
       "  'std_oi': 0.16590045,\n",
       "  'std_ws': 0.0048590335,\n",
       "  'count': 6},\n",
       " '/m/0cgh4': {'mean_oi': 0.15722835,\n",
       "  'mean_ws': 0.100220725,\n",
       "  'std_oi': 0.16089931,\n",
       "  'std_ws': 0.037932787,\n",
       "  'count': 76},\n",
       " '/m/07cmd': {'mean_oi': 0.39717284,\n",
       "  'mean_ws': 0.05218377,\n",
       "  'std_oi': 0.26116002,\n",
       "  'std_ws': 0.01808039,\n",
       "  'count': 36},\n",
       " '/m/01fdzj': {'mean_oi': 0.15485503,\n",
       "  'mean_ws': 0.05183949,\n",
       "  'std_oi': 0.114951074,\n",
       "  'std_ws': 0.015161271,\n",
       "  'count': 3},\n",
       " '/m/0k4j': {'mean_oi': 0.40557575,\n",
       "  'mean_ws': 0.09925273,\n",
       "  'std_oi': 0.3210816,\n",
       "  'std_ws': 0.05067043,\n",
       "  'count': 30},\n",
       " '/m/0cmf2': {'mean_oi': 0.4717156,\n",
       "  'mean_ws': 0.048864298,\n",
       "  'std_oi': 0.28433788,\n",
       "  'std_ws': 0.012347548,\n",
       "  'count': 10},\n",
       " '/m/0k5j': {'mean_oi': 0.16699626,\n",
       "  'mean_ws': 0.05563967,\n",
       "  'std_oi': 0.098284796,\n",
       "  'std_ws': 0.01351608,\n",
       "  'count': 12},\n",
       " '/m/09ct_': {'mean_oi': 0.0621598,\n",
       "  'mean_ws': 0.038416453,\n",
       "  'std_oi': 0.086688824,\n",
       "  'std_ws': 0.02309233,\n",
       "  'count': 10},\n",
       " '/m/03jm5': {'mean_oi': 0.118903525,\n",
       "  'mean_ws': 0.07060044,\n",
       "  'std_oi': 0.14101641,\n",
       "  'std_ws': 0.024954598,\n",
       "  'count': 13},\n",
       " '/m/01knjb': {'mean_oi': 0.15533407,\n",
       "  'mean_ws': 0.18730253,\n",
       "  'std_oi': 0.17555806,\n",
       "  'std_ws': 0.08239288,\n",
       "  'count': 6},\n",
       " '/m/07jdr': {'mean_oi': 0.18627703,\n",
       "  'mean_ws': 0.06590974,\n",
       "  'std_oi': 0.15784891,\n",
       "  'std_ws': 0.026425228,\n",
       "  'count': 2},\n",
       " '/m/03120': {'mean_oi': 0.23264605,\n",
       "  'mean_ws': 0.11473996,\n",
       "  'std_oi': 0.15794122,\n",
       "  'std_ws': 0.039672013,\n",
       "  'count': 12},\n",
       " '/m/0bs7_0t': {'mean_oi': 0.009135013,\n",
       "  'mean_ws': 0.19771186,\n",
       "  'std_oi': 0.0078123393,\n",
       "  'std_ws': 0.07728702,\n",
       "  'count': 2},\n",
       " '/m/0d5gx': {'mean_oi': 0.04320684,\n",
       "  'mean_ws': 0.039666098,\n",
       "  'std_oi': 0.030016474,\n",
       "  'std_ws': 0.010500653,\n",
       "  'count': 3},\n",
       " '/m/0hf58v5': {'mean_oi': 0.017997665,\n",
       "  'mean_ws': 0.1433365,\n",
       "  'std_oi': 0.0,\n",
       "  'std_ws': 0.0,\n",
       "  'count': 1},\n",
       " '/m/019jd': {'mean_oi': 0.13654053,\n",
       "  'mean_ws': 0.07112214,\n",
       "  'std_oi': 0.12972371,\n",
       "  'std_ws': 0.0050393944,\n",
       "  'count': 4},\n",
       " '/m/079cl': {'mean_oi': 0.020227607,\n",
       "  'mean_ws': 0.041705903,\n",
       "  'std_oi': 0.0,\n",
       "  'std_ws': 0.0,\n",
       "  'count': 1},\n",
       " '/m/03bt1vf': {'mean_oi': 0.332369,\n",
       "  'mean_ws': 0.08549656,\n",
       "  'std_oi': 0.2656693,\n",
       "  'std_ws': 0.042587906,\n",
       "  'count': 7},\n",
       " '/m/0crjs': {'mean_oi': 0.16112311,\n",
       "  'mean_ws': 0.08653216,\n",
       "  'std_oi': 0.0,\n",
       "  'std_ws': 0.0,\n",
       "  'count': 1},\n",
       " '/m/01rzcn': {'mean_oi': 0.10488711,\n",
       "  'mean_ws': 0.06593938,\n",
       "  'std_oi': 0.042635486,\n",
       "  'std_ws': 0.0089953765,\n",
       "  'count': 2},\n",
       " '/m/0199g': {'mean_oi': 0.2940532,\n",
       "  'mean_ws': 0.08160642,\n",
       "  'std_oi': 0.08448143,\n",
       "  'std_ws': 0.006629803,\n",
       "  'count': 3},\n",
       " '/m/05r655': {'mean_oi': 0.118983805,\n",
       "  'mean_ws': 0.051848203,\n",
       "  'std_oi': 0.06849285,\n",
       "  'std_ws': 0.0016687439,\n",
       "  'count': 3},\n",
       " '/m/0hg7b': {'mean_oi': 0.48353985,\n",
       "  'mean_ws': 0.05114637,\n",
       "  'std_oi': 0.0,\n",
       "  'std_ws': 0.0,\n",
       "  'count': 1},\n",
       " '/m/01bl7v': {'mean_oi': 0.29390767,\n",
       "  'mean_ws': 0.11555092,\n",
       "  'std_oi': 0.0,\n",
       "  'std_ws': 0.0,\n",
       "  'count': 1},\n",
       " '/m/01bjv': {'mean_oi': 0.2261834,\n",
       "  'mean_ws': 0.12198283,\n",
       "  'std_oi': 0.0,\n",
       "  'std_ws': 0.0,\n",
       "  'count': 1},\n",
       " '/m/0pg52': {'mean_oi': 0.003600258,\n",
       "  'mean_ws': 0.032201406,\n",
       "  'std_oi': 0.0,\n",
       "  'std_ws': 0.0,\n",
       "  'count': 1},\n",
       " 'default': {'mean_oi': 0.15368645691938396,\n",
       "  'mean_ws': 0.08960371303408059,\n",
       "  'std_oi': 0.138294831356993,\n",
       "  'std_ws': 0.03638732582947755}}"
      ]
     },
     "execution_count": 74,
     "metadata": {},
     "output_type": "execute_result"
    }
   ],
   "source": [
    "norm_coef_ws"
   ]
  },
  {
   "cell_type": "code",
   "execution_count": null,
   "metadata": {},
   "outputs": [],
   "source": []
  },
  {
   "cell_type": "code",
   "execution_count": 85,
   "metadata": {},
   "outputs": [],
   "source": [
    "for imgid, dets in det_results_concat.items():\n",
    "    for d in dets:\n",
    "        if d['model'] == 'coco':\n",
    "            if d['label'] in norm_coef_coco and norm_coef_coco[d['label']]['count'] > 10:\n",
    "                coefs = norm_coef_coco[d['label']]\n",
    "            else:\n",
    "                coefs = norm_coef_coco['default']\n",
    "            d['rescaled_score'] = ((d['original_score'] - coefs['mean_coco']) * coefs['std_oi'] / coefs['std_coco']) + coefs['mean_oi']\n",
    "\n",
    "        elif d['model'] == 'ws':\n",
    "            if d['label'] in norm_coef_ws and norm_coef_ws[d['label']]['count'] > 10:\n",
    "                coefs = norm_coef_ws[d['label']]\n",
    "            else:\n",
    "                coefs = norm_coef_ws['default']\n",
    "            d['rescaled_score'] = ((d['original_score'] - coefs['mean_ws']) * coefs['std_oi'] / coefs['std_ws']) + coefs['mean_oi']\n",
    "         \n",
    "        else:\n",
    "            d['rescaled_score'] = d['original_score']\n",
    "           \n",
    "        d['rescaled_score'] = min(max(d['rescaled_score'], 0.), 1.)\n",
    "            "
   ]
  },
  {
   "cell_type": "code",
   "execution_count": 86,
   "metadata": {},
   "outputs": [],
   "source": [
    "with open('../../results/det_results_concat_27.pkl', 'wb') as fout:\n",
    "    pickle.dump(det_results_concat, fout)"
   ]
  },
  {
   "cell_type": "code",
   "execution_count": null,
   "metadata": {},
   "outputs": [],
   "source": []
  },
  {
   "cell_type": "code",
   "execution_count": 87,
   "metadata": {},
   "outputs": [],
   "source": [
    "det_results_merged = {}\n",
    "for imgid, groups in all_groups.items():\n",
    "    det_results_merged[imgid] = []\n",
    "    det = det_results_concat[imgid]\n",
    "    for g in groups:\n",
    "        if len(g) == 0:\n",
    "            continue\n",
    "        suff = '/J' if len(g) > 1 else ''\n",
    "        scores = [det[ii]['rescaled_score'] if det[ii]['model'] != 'ws' else 0. for ii in g]\n",
    "        #scores = [det[ii]['rescaled_score'] for ii in g]\n",
    "        iii = np.argmax(scores)\n",
    "        det_results_merged[imgid].append({\n",
    "            'label': det[g[iii]]['label'],\n",
    "            'score': det[g[iii]]['rescaled_score'],\n",
    "            'bbox': det[g[iii]]['bbox'],\n",
    "            'bbox_normalized': det[g[iii]]['bbox_normalized'],\n",
    "            'model': det[g[iii]]['model'] + suff,            \n",
    "        })"
   ]
  },
  {
   "cell_type": "code",
   "execution_count": 88,
   "metadata": {},
   "outputs": [],
   "source": [
    "with open('../../results/det_results_merged_27b.pkl', 'wb') as fout:\n",
    "    pickle.dump(det_results_merged, fout)"
   ]
  },
  {
   "cell_type": "code",
   "execution_count": null,
   "metadata": {},
   "outputs": [],
   "source": []
  },
  {
   "cell_type": "code",
   "execution_count": 101,
   "metadata": {},
   "outputs": [],
   "source": [
    "class_preference = ['ws', 'oi', 'coco']\n",
    "box_preference = ['coco', 'oi', 'ws']\n",
    "\n",
    "det_results_merged = {}\n",
    "for imgid, groups in all_groups.items():\n",
    "    det_results_merged[imgid] = []\n",
    "    det = det_results_concat[imgid]\n",
    "    for g in groups:\n",
    "        if len(g) == 0:\n",
    "            continue\n",
    "        suff = '/J' if len(g) > 1 else ''\n",
    "        \n",
    "        for m in class_preference:\n",
    "            idcs = [g[i] for i in range(len(g)) if det[g[i]]['model'] == m]\n",
    "            if len(idcs) == 0:\n",
    "                continue\n",
    "            scores = [det[i]['original_score'] for i in idcs]\n",
    "            imax = np.argmax(scores)\n",
    "            idx = idcs[imax]\n",
    "            label = det[idx]['label']\n",
    "            model = det[idx]['model'] + suff\n",
    "            break\n",
    "            \n",
    "        for m in box_preference:\n",
    "            idcs = [g[i] for i in range(len(g)) if det[g[i]]['model'] == m]\n",
    "            if len(idcs) == 0:\n",
    "                continue\n",
    "            scores = [det[i]['original_score'] for i in idcs]\n",
    "            imax = np.argmax(scores)\n",
    "            idx = idcs[imax]\n",
    "            box = det[idx]['bbox']\n",
    "            box_norm = det[idx]['bbox_normalized']\n",
    "            break\n",
    "            \n",
    "        scores = [det[ii]['original_score'] for ii in g]\n",
    "        score = np.max(scores)\n",
    "        \n",
    "        det_results_merged[imgid].append({\n",
    "            'label': label,\n",
    "            'score': score,\n",
    "            'bbox': box,\n",
    "            'bbox_normalized': box_norm,\n",
    "            'model': model,            \n",
    "        })"
   ]
  },
  {
   "cell_type": "code",
   "execution_count": 102,
   "metadata": {},
   "outputs": [],
   "source": [
    "with open('../../results/det_results_merged_27c.pkl', 'wb') as fout:\n",
    "    pickle.dump(det_results_merged, fout)"
   ]
  },
  {
   "cell_type": "code",
   "execution_count": null,
   "metadata": {},
   "outputs": [],
   "source": []
  },
  {
   "cell_type": "code",
   "execution_count": 92,
   "metadata": {},
   "outputs": [],
   "source": [
    "with open('../../../wsod/metadata/ont_m18/class_names_all.pkl', 'rb') as fin:\n",
    "    mid2name_all = pickle.load(fin)"
   ]
  },
  {
   "cell_type": "code",
   "execution_count": 95,
   "metadata": {},
   "outputs": [],
   "source": [
    "mid2level = {mid: len(name.split(' ')[0].split('.')) for mid, name in mid2name_all.items()}"
   ]
  },
  {
   "cell_type": "code",
   "execution_count": null,
   "metadata": {},
   "outputs": [],
   "source": []
  },
  {
   "cell_type": "code",
   "execution_count": 103,
   "metadata": {},
   "outputs": [],
   "source": [
    "box_preference = ['coco', 'oi', 'ws']\n",
    "\n",
    "det_results_merged = {}\n",
    "for imgid, groups in all_groups.items():\n",
    "    det_results_merged[imgid] = []\n",
    "    det = det_results_concat[imgid]\n",
    "    for g in groups:\n",
    "        if len(g) == 0:\n",
    "            continue\n",
    "        suff = '/J' if len(g) > 1 else ''\n",
    "\n",
    "        mod_scores = [det[i]['original_score'] + (10.0 * mid2level[det[i]['label']]) for i in g]\n",
    "        imax = np.argmax(mod_scores)\n",
    "        label = det[g[imax]]['label']\n",
    "        model = det[g[imax]]['model'] + suff\n",
    "            \n",
    "        for m in box_preference:\n",
    "            idcs = [g[i] for i in range(len(g)) if det[g[i]]['model'] == m]\n",
    "            if len(idcs) == 0:\n",
    "                continue\n",
    "            scores = [det[i]['original_score'] for i in idcs]\n",
    "            imax = np.argmax(scores)\n",
    "            idx = idcs[imax]\n",
    "            box = det[idx]['bbox']\n",
    "            box_norm = det[idx]['bbox_normalized']\n",
    "            break\n",
    "            \n",
    "        scores = [det[ii]['original_score'] for ii in g]\n",
    "        score = np.max(scores)\n",
    "        \n",
    "        det_results_merged[imgid].append({\n",
    "            'label': label,\n",
    "            'score': score,\n",
    "            'bbox': box,\n",
    "            'bbox_normalized': box_norm,\n",
    "            'model': model,            \n",
    "        })"
   ]
  },
  {
   "cell_type": "code",
   "execution_count": 104,
   "metadata": {},
   "outputs": [],
   "source": [
    "with open('../../results/det_results_merged_27d.pkl', 'wb') as fout:\n",
    "    pickle.dump(det_results_merged, fout)"
   ]
  },
  {
   "cell_type": "code",
   "execution_count": null,
   "metadata": {},
   "outputs": [],
   "source": []
  },
  {
   "cell_type": "code",
   "execution_count": 106,
   "metadata": {},
   "outputs": [],
   "source": [
    "box_preference = {'coco': 2.0, 'oi': 2.0, 'ws': 1.0}\n",
    "class_preference = {'coco': 1.0, 'oi': 3.0, 'ws': 2.0}\n",
    "\n",
    "det_results_merged = {}\n",
    "for imgid, groups in all_groups.items():\n",
    "    det_results_merged[imgid] = []\n",
    "    det = det_results_concat[imgid]\n",
    "    for g in groups:\n",
    "        if len(g) == 0:\n",
    "            continue\n",
    "        suff = '/J' if len(g) > 1 else ''\n",
    "\n",
    "        mod_scores = [det[i]['original_score'] + (10.0 * class_preference[det[i]['model']]) + (100.0 * mid2level[det[i]['label']]) for i in g]\n",
    "        imax = np.argmax(mod_scores)\n",
    "        label = det[g[imax]]['label']\n",
    "        model = det[g[imax]]['model'] + suff\n",
    "\n",
    "        mod_scores = [det[i]['original_score'] + (10.0 * box_preference[det[i]['model']]) for i in g]\n",
    "        imax = np.argmax(mod_scores)\n",
    "        box = det[g[imax]]['bbox']\n",
    "        box_norm = det[g[imax]]['bbox_normalized']\n",
    "            \n",
    "        scores = [det[ii]['original_score'] for ii in g]\n",
    "        score = np.max(scores)\n",
    "        \n",
    "        det_results_merged[imgid].append({\n",
    "            'label': label,\n",
    "            'score': score,\n",
    "            'bbox': box,\n",
    "            'bbox_normalized': box_norm,\n",
    "            'model': model,            \n",
    "        })"
   ]
  },
  {
   "cell_type": "code",
   "execution_count": 107,
   "metadata": {},
   "outputs": [],
   "source": [
    "with open('../../results/det_results_merged_27e.pkl', 'wb') as fout:\n",
    "    pickle.dump(det_results_merged, fout)"
   ]
  },
  {
   "cell_type": "code",
   "execution_count": null,
   "metadata": {},
   "outputs": [],
   "source": []
  },
  {
   "cell_type": "code",
   "execution_count": null,
   "metadata": {},
   "outputs": [],
   "source": []
  },
  {
   "cell_type": "code",
   "execution_count": null,
   "metadata": {},
   "outputs": [],
   "source": []
  }
 ],
 "metadata": {
  "kernelspec": {
   "display_name": "Py3 w/ Tensorflow",
   "language": "python",
   "name": "py3tf"
  },
  "language_info": {
   "codemirror_mode": {
    "name": "ipython",
    "version": 3
   },
   "file_extension": ".py",
   "mimetype": "text/x-python",
   "name": "python",
   "nbconvert_exporter": "python",
   "pygments_lexer": "ipython3",
   "version": "3.6.5"
  }
 },
 "nbformat": 4,
 "nbformat_minor": 2
}
