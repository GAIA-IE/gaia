{
 "cells": [
  {
   "cell_type": "code",
   "execution_count": 1,
   "metadata": {},
   "outputs": [],
   "source": [
    "import os\n",
    "import sys\n",
    "import pickle\n",
    "import csv\n",
    "import copy\n",
    "\n",
    "import lmdb\n",
    "import numpy as np\n",
    "import cv2\n",
    "import matplotlib.pyplot as plt\n",
    "%matplotlib inline"
   ]
  },
  {
   "cell_type": "markdown",
   "metadata": {},
   "source": [
    "## Loading metadata"
   ]
  },
  {
   "cell_type": "code",
   "execution_count": 2,
   "metadata": {},
   "outputs": [],
   "source": [
    "with open('../../temp/label_matching_coco_oi_ws_300.pkl', 'rb') as fin:\n",
    "    idxmap = pickle.load(fin)"
   ]
  },
  {
   "cell_type": "code",
   "execution_count": 3,
   "metadata": {},
   "outputs": [],
   "source": [
    "idx2mid_coco = idxmap['idx2mid_coco']\n",
    "idx2mid_oi = idxmap['idx2mid_oi']\n",
    "idx2mid_ws = idxmap['idx2mid_ws']\n",
    "mid2idx_coco = idxmap['mid2idx_coco']\n",
    "mid2idx_oi = idxmap['mid2idx_oi']\n",
    "mid2idx_ws = idxmap['mid2idx_ws']\n",
    "mid2name_coco = idxmap['mid2name_coco']\n",
    "mid2name_oi = idxmap['mid2name_oi']\n",
    "mid2name_ws = idxmap['mid2name_ws']\n",
    "name2mid_coco = idxmap['name2mid_coco']\n",
    "name2mid_oi = idxmap['name2mid_oi']\n",
    "name2mid_ws = idxmap['name2mid_ws']\n",
    "common_mids_coco = idxmap['common_mids_coco']\n",
    "common_mids_ws = idxmap['common_mids_ws']\n"
   ]
  },
  {
   "cell_type": "code",
   "execution_count": 4,
   "metadata": {},
   "outputs": [],
   "source": [
    "with open('../../temp/norm_coef_coco.pkl', 'rb') as fin:\n",
    "    norm_coef_coco = pickle.load(fin)"
   ]
  },
  {
   "cell_type": "code",
   "execution_count": 5,
   "metadata": {},
   "outputs": [],
   "source": [
    "with open('../../temp/norm_coef_ws.pkl', 'rb') as fin:\n",
    "    norm_coef_ws = pickle.load(fin)"
   ]
  },
  {
   "cell_type": "code",
   "execution_count": null,
   "metadata": {},
   "outputs": [],
   "source": []
  },
  {
   "cell_type": "markdown",
   "metadata": {},
   "source": [
    "## Concatenating the results "
   ]
  },
  {
   "cell_type": "code",
   "execution_count": 6,
   "metadata": {},
   "outputs": [],
   "source": [
    "with open('../../../tfobjdetect/results/det_results_seedling_jpg_oi_2.pkl', 'rb') as fin:\n",
    "    det_results_oi_seed = pickle.load(fin)\n",
    "\n",
    "with open('../../../tfobjdetect/results/det_results_seedling_jpg_coco_2.pkl', 'rb') as fin:\n",
    "    det_results_coco_seed = pickle.load(fin)\n",
    "\n",
    "with open('../../../wsod/results/det_results_dpl_012.pkl', 'rb') as fin:\n",
    "    det_results_ws_seed = pickle.load(fin)\n",
    "    \n"
   ]
  },
  {
   "cell_type": "code",
   "execution_count": 7,
   "metadata": {},
   "outputs": [],
   "source": [
    "det_results_concat = {key:[] for key in det_results_oi_seed}\n",
    "for imgid in det_results_oi_seed:\n",
    "    for ii in range(det_results_oi_seed[imgid]['num_detections']):\n",
    "        if idx2mid_oi.get(det_results_oi_seed[imgid]['detection_classes'][ii]) is None or det_results_oi_seed[imgid]['detection_scores'][ii] == 0.:\n",
    "            continue\n",
    "        det_results_concat[imgid].append({\n",
    "            'label': idx2mid_oi[det_results_oi_seed[imgid]['detection_classes'][ii]],\n",
    "            'score': det_results_oi_seed[imgid]['detection_scores'][ii],\n",
    "            'box': det_results_oi_seed[imgid]['detection_boxes'][ii],\n",
    "            'model': 'oi',\n",
    "        })\n",
    "\n",
    "for imgid in det_results_coco_seed:\n",
    "    for ii in range(det_results_coco_seed[imgid]['num_detections']):\n",
    "        label = idx2mid_coco.get(det_results_coco_seed[imgid]['detection_classes'][ii])\n",
    "        score = det_results_coco_seed[imgid]['detection_scores'][ii]\n",
    "        \n",
    "        if label is None or score == 0.:\n",
    "            continue\n",
    "            \n",
    "        transformed_score = (((score - norm_coef_coco[label]['mean_coco']) \n",
    "                              * norm_coef_coco[label]['std_oi'] / norm_coef_coco[label]['std_coco'] \n",
    "                              + norm_coef_coco[label]['mean_oi']) \n",
    "                             if label in norm_coef_coco else (\n",
    "                                 ((score - norm_coef_coco['default']['mean_coco']) \n",
    "                                  * norm_coef_coco['default']['std_oi'] / norm_coef_coco['default']['std_coco'] \n",
    "                                  + norm_coef_coco['default']['mean_oi']) \n",
    "                             ))\n",
    "        transformed_score = min(max(transformed_score, 0.), 1.)\n",
    "                \n",
    "        det_results_concat[imgid].append({\n",
    "            'label': label,\n",
    "            'score': transformed_score,\n",
    "            'box': det_results_coco_seed[imgid]['detection_boxes'][ii],\n",
    "            'model': 'coco',\n",
    "        })\n",
    "        \n",
    "for imgid in det_results_ws_seed:\n",
    "    for ii in range(det_results_ws_seed[imgid]['num_detections']):\n",
    "        label = idx2mid_ws.get(det_results_ws_seed[imgid]['sorted_labels'][ii])\n",
    "        score = det_results_ws_seed[imgid]['sorted_probs'][ii]\n",
    "        if label is None or score == 0.:\n",
    "            continue\n",
    "            \n",
    "        transformed_score = (((score - norm_coef_ws[label]['mean_ws']) \n",
    "                              * norm_coef_ws[label]['std_oi'] / norm_coef_ws[label]['std_ws'] \n",
    "                              + norm_coef_ws[label]['mean_oi']) \n",
    "                             if label in norm_coef_ws else (\n",
    "                                 ((score - norm_coef_ws['default']['mean_ws']) \n",
    "                                  * norm_coef_ws['default']['std_oi'] / norm_coef_ws['default']['std_ws'] \n",
    "                                  + norm_coef_ws['default']['mean_oi']) \n",
    "                             ))\n",
    "        transformed_score = min(max(transformed_score, 0.), 1.)\n",
    "                \n",
    "        det_results_concat[imgid].append({\n",
    "            'label': label,\n",
    "            'score': transformed_score,\n",
    "            'box': det_results_ws_seed[imgid]['sorted_boxes'][ii],\n",
    "            'model': 'ws',\n",
    "        })\n",
    "        "
   ]
  },
  {
   "cell_type": "code",
   "execution_count": 8,
   "metadata": {},
   "outputs": [],
   "source": [
    "with open('../../results/det_results_concat_11.pkl', 'wb') as fout:\n",
    "    pickle.dump(det_results_concat, fout)"
   ]
  },
  {
   "cell_type": "code",
   "execution_count": null,
   "metadata": {},
   "outputs": [],
   "source": []
  },
  {
   "cell_type": "markdown",
   "metadata": {},
   "source": [
    "## Merging duplicate results"
   ]
  },
  {
   "cell_type": "code",
   "execution_count": 9,
   "metadata": {},
   "outputs": [],
   "source": [
    "def iou(det_bbox, gt_bbox):\n",
    "    x_d_len = det_bbox[2] - det_bbox[0]\n",
    "    y_d_len = det_bbox[3] - det_bbox[1]\n",
    "    x_t_len = gt_bbox[2] - gt_bbox[0]\n",
    "    y_t_len = gt_bbox[3] - gt_bbox[1]\n",
    "    x_int_len = max(0, min(gt_bbox[2], det_bbox[2]) - max(gt_bbox[0], det_bbox[0]))\n",
    "    y_int_len = max(0, min(gt_bbox[3], det_bbox[3]) - max(gt_bbox[1], det_bbox[1]))\n",
    "    iou = (x_int_len*y_int_len) / (x_d_len*y_d_len + x_t_len*y_t_len - x_int_len*y_int_len)\n",
    "    return iou\n",
    "\n",
    "def ioa(det_bbox, gt_bbox):\n",
    "    x_d_len = det_bbox[2] - det_bbox[0]\n",
    "    y_d_len = det_bbox[3] - det_bbox[1]\n",
    "    x_t_len = gt_bbox[2] - gt_bbox[0]\n",
    "    y_t_len = gt_bbox[3] - gt_bbox[1]\n",
    "    x_int_len = max(0, min(gt_bbox[2], det_bbox[2]) - max(gt_bbox[0], det_bbox[0]))\n",
    "    y_int_len = max(0, min(gt_bbox[3], det_bbox[3]) - max(gt_bbox[1], det_bbox[1]))\n",
    "    iou = (x_int_len*y_int_len) / (x_d_len*y_d_len)\n",
    "    return iou\n"
   ]
  },
  {
   "cell_type": "code",
   "execution_count": 10,
   "metadata": {},
   "outputs": [],
   "source": [
    "thresh_same = 0.7\n",
    "thresh_diff = 0.9\n",
    "\n",
    "det_results_merged = {}\n",
    "for imgid, det in det_results_concat.items():\n",
    "    det_results_merged[imgid] = []\n",
    "    groups = []\n",
    "    for ii in range(len(det)):\n",
    "        matching_gr = None\n",
    "        for gr in groups:\n",
    "            for item in gr:\n",
    "                if det[ii]['label'] == det[item]['label'] and (ioa(det[ii]['box'], det[item]['box']) > thresh_same or\n",
    "                                                               ioa(det[item]['box'], det[ii]['box']) > thresh_same):\n",
    "                    if matching_gr == None:\n",
    "                        gr.append(ii)\n",
    "                        matching_gr = gr\n",
    "                        break\n",
    "                    else:\n",
    "                        matching_gr += gr\n",
    "                        gr.clear()\n",
    "                if det[ii]['label'] != det[item]['label'] and iou(det[ii]['box'], det[item]['box']) > thresh_diff:\n",
    "                    pass\n",
    "                \n",
    "        if matching_gr == None:\n",
    "            groups.append([ii])\n",
    "            \n",
    "    for g in groups:\n",
    "        if len(g) == 0:\n",
    "            continue\n",
    "        suff = '/J' if len(g) > 1 else ''\n",
    "        scores = [det[ii]['score'] if det[ii]['model'] != 'ws' else 0. for ii in g]\n",
    "        iii = np.argmax(scores)\n",
    "        det_results_merged[imgid].append({\n",
    "            'label': det[g[iii]]['label'],\n",
    "            'score': det[g[iii]]['score'],\n",
    "            'box': det[g[iii]]['box'],\n",
    "            'model': det[g[iii]]['model'] + suff,            \n",
    "        })"
   ]
  },
  {
   "cell_type": "code",
   "execution_count": 11,
   "metadata": {},
   "outputs": [],
   "source": [
    "with open('../../results/det_results_merged_11.pkl', 'wb') as fout:\n",
    "    pickle.dump(det_results_merged, fout)"
   ]
  },
  {
   "cell_type": "code",
   "execution_count": null,
   "metadata": {},
   "outputs": [],
   "source": []
  }
 ],
 "metadata": {
  "kernelspec": {
   "display_name": "Py3 w/ Tensorflow",
   "language": "python",
   "name": "py3tf"
  },
  "language_info": {
   "codemirror_mode": {
    "name": "ipython",
    "version": 3
   },
   "file_extension": ".py",
   "mimetype": "text/x-python",
   "name": "python",
   "nbconvert_exporter": "python",
   "pygments_lexer": "ipython3",
   "version": "3.6.5"
  }
 },
 "nbformat": 4,
 "nbformat_minor": 2
}
