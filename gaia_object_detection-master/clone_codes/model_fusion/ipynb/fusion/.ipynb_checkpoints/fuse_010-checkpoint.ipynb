{
 "cells": [
  {
   "cell_type": "code",
   "execution_count": 1,
   "metadata": {},
   "outputs": [],
   "source": [
    "import os\n",
    "import sys\n",
    "import pickle\n",
    "import csv\n",
    "import copy\n",
    "\n",
    "import lmdb\n",
    "import numpy as np\n",
    "import cv2\n",
    "import matplotlib.pyplot as plt\n",
    "%matplotlib inline"
   ]
  },
  {
   "cell_type": "code",
   "execution_count": 2,
   "metadata": {},
   "outputs": [
    {
     "name": "stderr",
     "output_type": "stream",
     "text": [
      "../../../tfobjdetect/lib/object_detection/utils/visualization_utils.py:25: UserWarning: \n",
      "This call to matplotlib.use() has no effect because the backend has already\n",
      "been chosen; matplotlib.use() must be called *before* pylab, matplotlib.pyplot,\n",
      "or matplotlib.backends is imported for the first time.\n",
      "\n",
      "The backend was *originally* set to 'module://ipykernel.pylab.backend_inline' by the following code:\n",
      "  File \"/home/alireza/home_at_filer2/tools/anaconda3/envs/py3tf/lib/python3.6/runpy.py\", line 193, in _run_module_as_main\n",
      "    \"__main__\", mod_spec)\n",
      "  File \"/home/alireza/home_at_filer2/tools/anaconda3/envs/py3tf/lib/python3.6/runpy.py\", line 85, in _run_code\n",
      "    exec(code, run_globals)\n",
      "  File \"/home/alireza/home_at_filer2/tools/anaconda3/envs/py3tf/lib/python3.6/site-packages/ipykernel/__main__.py\", line 3, in <module>\n",
      "    app.launch_new_instance()\n",
      "  File \"/home/alireza/home_at_filer2/tools/anaconda3/envs/py3tf/lib/python3.6/site-packages/traitlets/config/application.py\", line 658, in launch_instance\n",
      "    app.start()\n",
      "  File \"/home/alireza/home_at_filer2/tools/anaconda3/envs/py3tf/lib/python3.6/site-packages/ipykernel/kernelapp.py\", line 486, in start\n",
      "    self.io_loop.start()\n",
      "  File \"/home/alireza/home_at_filer2/tools/anaconda3/envs/py3tf/lib/python3.6/site-packages/tornado/platform/asyncio.py\", line 127, in start\n",
      "    self.asyncio_loop.run_forever()\n",
      "  File \"/home/alireza/home_at_filer2/tools/anaconda3/envs/py3tf/lib/python3.6/asyncio/base_events.py\", line 422, in run_forever\n",
      "    self._run_once()\n",
      "  File \"/home/alireza/home_at_filer2/tools/anaconda3/envs/py3tf/lib/python3.6/asyncio/base_events.py\", line 1432, in _run_once\n",
      "    handle._run()\n",
      "  File \"/home/alireza/home_at_filer2/tools/anaconda3/envs/py3tf/lib/python3.6/asyncio/events.py\", line 145, in _run\n",
      "    self._callback(*self._args)\n",
      "  File \"/home/alireza/home_at_filer2/tools/anaconda3/envs/py3tf/lib/python3.6/site-packages/tornado/platform/asyncio.py\", line 117, in _handle_events\n",
      "    handler_func(fileobj, events)\n",
      "  File \"/home/alireza/home_at_filer2/tools/anaconda3/envs/py3tf/lib/python3.6/site-packages/tornado/stack_context.py\", line 276, in null_wrapper\n",
      "    return fn(*args, **kwargs)\n",
      "  File \"/home/alireza/home_at_filer2/tools/anaconda3/envs/py3tf/lib/python3.6/site-packages/zmq/eventloop/zmqstream.py\", line 450, in _handle_events\n",
      "    self._handle_recv()\n",
      "  File \"/home/alireza/home_at_filer2/tools/anaconda3/envs/py3tf/lib/python3.6/site-packages/zmq/eventloop/zmqstream.py\", line 480, in _handle_recv\n",
      "    self._run_callback(callback, msg)\n",
      "  File \"/home/alireza/home_at_filer2/tools/anaconda3/envs/py3tf/lib/python3.6/site-packages/zmq/eventloop/zmqstream.py\", line 432, in _run_callback\n",
      "    callback(*args, **kwargs)\n",
      "  File \"/home/alireza/home_at_filer2/tools/anaconda3/envs/py3tf/lib/python3.6/site-packages/tornado/stack_context.py\", line 276, in null_wrapper\n",
      "    return fn(*args, **kwargs)\n",
      "  File \"/home/alireza/home_at_filer2/tools/anaconda3/envs/py3tf/lib/python3.6/site-packages/ipykernel/kernelbase.py\", line 283, in dispatcher\n",
      "    return self.dispatch_shell(stream, msg)\n",
      "  File \"/home/alireza/home_at_filer2/tools/anaconda3/envs/py3tf/lib/python3.6/site-packages/ipykernel/kernelbase.py\", line 233, in dispatch_shell\n",
      "    handler(stream, idents, msg)\n",
      "  File \"/home/alireza/home_at_filer2/tools/anaconda3/envs/py3tf/lib/python3.6/site-packages/ipykernel/kernelbase.py\", line 399, in execute_request\n",
      "    user_expressions, allow_stdin)\n",
      "  File \"/home/alireza/home_at_filer2/tools/anaconda3/envs/py3tf/lib/python3.6/site-packages/ipykernel/ipkernel.py\", line 208, in do_execute\n",
      "    res = shell.run_cell(code, store_history=store_history, silent=silent)\n",
      "  File \"/home/alireza/home_at_filer2/tools/anaconda3/envs/py3tf/lib/python3.6/site-packages/ipykernel/zmqshell.py\", line 537, in run_cell\n",
      "    return super(ZMQInteractiveShell, self).run_cell(*args, **kwargs)\n",
      "  File \"/home/alireza/home_at_filer2/tools/anaconda3/envs/py3tf/lib/python3.6/site-packages/IPython/core/interactiveshell.py\", line 2666, in run_cell\n",
      "    self.events.trigger('post_run_cell', result)\n",
      "  File \"/home/alireza/home_at_filer2/tools/anaconda3/envs/py3tf/lib/python3.6/site-packages/IPython/core/events.py\", line 88, in trigger\n",
      "    func(*args, **kwargs)\n",
      "  File \"/home/alireza/home_at_filer2/tools/anaconda3/envs/py3tf/lib/python3.6/site-packages/ipykernel/pylab/backend_inline.py\", line 160, in configure_once\n",
      "    activate_matplotlib(backend)\n",
      "  File \"/home/alireza/home_at_filer2/tools/anaconda3/envs/py3tf/lib/python3.6/site-packages/IPython/core/pylabtools.py\", line 311, in activate_matplotlib\n",
      "    matplotlib.pyplot.switch_backend(backend)\n",
      "  File \"/home/alireza/home_at_filer2/tools/anaconda3/envs/py3tf/lib/python3.6/site-packages/matplotlib/pyplot.py\", line 231, in switch_backend\n",
      "    matplotlib.use(newbackend, warn=False, force=True)\n",
      "  File \"/home/alireza/home_at_filer2/tools/anaconda3/envs/py3tf/lib/python3.6/site-packages/matplotlib/__init__.py\", line 1410, in use\n",
      "    reload(sys.modules['matplotlib.backends'])\n",
      "  File \"/home/alireza/home_at_filer2/tools/anaconda3/envs/py3tf/lib/python3.6/importlib/__init__.py\", line 166, in reload\n",
      "    _bootstrap._exec(spec, module)\n",
      "  File \"/home/alireza/home_at_filer2/tools/anaconda3/envs/py3tf/lib/python3.6/site-packages/matplotlib/backends/__init__.py\", line 16, in <module>\n",
      "    line for line in traceback.format_stack()\n",
      "\n",
      "\n",
      "  import matplotlib; matplotlib.use('Agg')  # pylint: disable=multiple-statements\n"
     ]
    }
   ],
   "source": [
    "sys.path.append(\"../../../tfobjdetect/lib\")\n",
    "from object_detection.utils import label_map_util\n",
    "from object_detection.utils import visualization_utils as vis_util"
   ]
  },
  {
   "cell_type": "markdown",
   "metadata": {},
   "source": [
    "## Loading and preparing label maps"
   ]
  },
  {
   "cell_type": "code",
   "execution_count": 3,
   "metadata": {},
   "outputs": [],
   "source": [
    "label_map_coco = label_map_util.load_labelmap(os.path.join('../../../tfobjdetect/lib/object_detection/data', 'mscoco_label_map.pbtxt'))\n",
    "label_map_oi = label_map_util.load_labelmap(os.path.join('../../../tfobjdetect/lib/object_detection/data', 'oid_bbox_trainable_label_map.pbtxt'))\n"
   ]
  },
  {
   "cell_type": "code",
   "execution_count": 4,
   "metadata": {},
   "outputs": [],
   "source": [
    "with open('../../../wsod/metadata/ont_300/300_joined_list.csv', 'r') as fin:\n",
    "    labels_ws = [item.strip() for item in fin]\n",
    "labels_ws.append('background')\n",
    "\n",
    "with open('../../../../data/OpenImages/metadata-v4/class-names/class-descriptions.csv', 'r') as fin:\n",
    "    label_map_ws = list(csv.reader(fin))\n"
   ]
  },
  {
   "cell_type": "code",
   "execution_count": 5,
   "metadata": {},
   "outputs": [],
   "source": [
    "coco_airplane, oi_airplane = ('/m/05czz6l', '/m/0cmf2')"
   ]
  },
  {
   "cell_type": "code",
   "execution_count": 6,
   "metadata": {},
   "outputs": [],
   "source": [
    "idx2mid_coco = {}\n",
    "for item in label_map_coco.item:\n",
    "    idx2mid_coco[item.id] = item.name if item.name != coco_airplane else oi_airplane\n",
    "\n",
    "idx2mid_oi = {}\n",
    "for item in label_map_oi.item:\n",
    "    idx2mid_oi[item.id] = item.name\n",
    "\n",
    "idx2mid_ws = {}\n",
    "for i, l in enumerate(labels_ws):\n",
    "    idx2mid_ws[i] = l\n",
    "    \n",
    "mid2idx_coco = {}\n",
    "for item in label_map_coco.item:\n",
    "    mid2idx_coco[item.name if item.name != coco_airplane else oi_airplane] = item.id\n",
    "\n",
    "mid2idx_oi = {}\n",
    "for item in label_map_oi.item:\n",
    "    mid2idx_oi[item.name] = item.id\n",
    "\n",
    "mid2idx_ws = {}\n",
    "for i, l in enumerate(labels_ws):\n",
    "    mid2idx_ws[l] = i\n",
    "    \n",
    "mid2name_coco = {}\n",
    "for item in label_map_coco.item:\n",
    "    mid2name_coco[item.name if item.name != coco_airplane else oi_airplane] = item.display_name\n",
    "\n",
    "mid2name_oi = {}\n",
    "for item in label_map_oi.item:\n",
    "    mid2name_oi[item.name] = item.display_name\n",
    "\n",
    "mid2name_ws = {}\n",
    "for item in label_map_ws:\n",
    "    mid2name_ws[item[0]] = item[1]\n",
    "mid2name_ws['background'] = 'background'\n",
    "\n",
    "name2mid_coco = {}\n",
    "for item in label_map_coco.item:\n",
    "    name2mid_coco[item.display_name] = item.name if item.name != coco_airplane else oi_airplane\n",
    "\n",
    "name2mid_oi = {}\n",
    "for item in label_map_oi.item:\n",
    "    name2mid_oi[item.display_name] = item.name\n",
    "\n",
    "name2mid_ws = {}\n",
    "for item in label_map_ws:\n",
    "    name2mid_ws[item[1].lower().replace(' ', '')] = item[0]\n",
    "name2mid_ws['background'] = 'background'    \n"
   ]
  },
  {
   "cell_type": "code",
   "execution_count": 7,
   "metadata": {},
   "outputs": [],
   "source": [
    "coco_mids = set(list(mid2idx_coco.keys()))\n",
    "oi_mids = set(list(mid2idx_oi.keys()))\n",
    "ws_mids = set(list(mid2idx_ws.keys()))\n",
    "\n",
    "common_mids_coco = oi_mids & coco_mids\n",
    "common_mids_ws = oi_mids & ws_mids"
   ]
  },
  {
   "cell_type": "code",
   "execution_count": 8,
   "metadata": {},
   "outputs": [
    {
     "data": {
      "text/plain": [
       "(75, 87)"
      ]
     },
     "execution_count": 8,
     "metadata": {},
     "output_type": "execute_result"
    }
   ],
   "source": [
    "len(common_mids_coco), len(common_mids_ws)"
   ]
  },
  {
   "cell_type": "code",
   "execution_count": 10,
   "metadata": {},
   "outputs": [],
   "source": [
    "with open('../../temp/label_matching_coco_oi_ws_300.pkl', 'wb') as fout:\n",
    "    pickle.dump({\n",
    "        'idx2mid_coco': idx2mid_coco,\n",
    "        'idx2mid_oi': idx2mid_oi,\n",
    "        'idx2mid_ws': idx2mid_ws,\n",
    "        'mid2idx_coco': mid2idx_coco,\n",
    "        'mid2idx_oi': mid2idx_oi,\n",
    "        'mid2idx_ws': mid2idx_ws,\n",
    "        'mid2name_coco': mid2name_coco,\n",
    "        'mid2name_oi': mid2name_oi,\n",
    "        'mid2name_ws': mid2name_ws,\n",
    "        'name2mid_coco': name2mid_coco,\n",
    "        'name2mid_oi': name2mid_oi,\n",
    "        'name2mid_ws': name2mid_ws,\n",
    "        'common_mids_coco': common_mids_coco,\n",
    "        'common_mids_ws': common_mids_ws,\n",
    "    }, fout)"
   ]
  },
  {
   "cell_type": "code",
   "execution_count": 34,
   "metadata": {},
   "outputs": [],
   "source": [
    "with open('../../temp/label_matching_coco_oi_ws.pkl', 'rb') as fin:\n",
    "    temp = pickle.load(fin)"
   ]
  },
  {
   "cell_type": "code",
   "execution_count": 38,
   "metadata": {},
   "outputs": [
    {
     "data": {
      "text/plain": [
       "{'/m/01g3x7'}"
      ]
     },
     "execution_count": 38,
     "metadata": {},
     "output_type": "execute_result"
    }
   ],
   "source": [
    "temp['common_mids_ws'] - common_mids_ws"
   ]
  },
  {
   "cell_type": "code",
   "execution_count": 39,
   "metadata": {},
   "outputs": [
    {
     "data": {
      "text/plain": [
       "'Bow and arrow'"
      ]
     },
     "execution_count": 39,
     "metadata": {},
     "output_type": "execute_result"
    }
   ],
   "source": [
    "mid2name_ws['/m/01g3x7']"
   ]
  },
  {
   "cell_type": "code",
   "execution_count": 12,
   "metadata": {},
   "outputs": [],
   "source": [
    "with open('../../temp/all_labels_coco_oi_ws_300.pkl', 'wb') as fout:\n",
    "    pickle.dump(list(coco_mids | oi_mids | ws_mids), fout)\n"
   ]
  },
  {
   "cell_type": "code",
   "execution_count": 13,
   "metadata": {},
   "outputs": [],
   "source": [
    "mid2name_extended = {}\n",
    "for key in coco_mids:\n",
    "    mid2name_extended[key] = mid2name_coco[key]\n",
    "for key in oi_mids:\n",
    "    mid2name_extended[key] = mid2name_oi[key]\n",
    "for key in ws_mids:\n",
    "    mid2name_extended[key] = mid2name_ws[key]\n",
    "\n"
   ]
  },
  {
   "cell_type": "code",
   "execution_count": 14,
   "metadata": {},
   "outputs": [],
   "source": [
    "with open('../../temp/all_labels_names_300.pkl', 'wb') as fout:\n",
    "    pickle.dump(mid2name_extended, fout)"
   ]
  },
  {
   "cell_type": "code",
   "execution_count": 15,
   "metadata": {},
   "outputs": [],
   "source": [
    "with open('../../temp/all_labels_names_300.csv', 'w') as fout:\n",
    "    for key, val in mid2name_extended.items():\n",
    "        fout.write(f'{key},{val}\\n')"
   ]
  },
  {
   "cell_type": "code",
   "execution_count": null,
   "metadata": {},
   "outputs": [],
   "source": []
  },
  {
   "cell_type": "markdown",
   "metadata": {},
   "source": [
    "## Loading metadata"
   ]
  },
  {
   "cell_type": "code",
   "execution_count": 44,
   "metadata": {},
   "outputs": [],
   "source": [
    "imglabels = {}\n",
    "annot = {}\n",
    "label2imgs = {}\n",
    "\n",
    "with open('../../../../data/OpenImages/metadata-v4/bbox/test-annotations-bbox.csv', 'r') as fin:\n",
    "    for row in csv.reader(fin):\n",
    "        imgid = row[0]\n",
    "        imglb = row[2]\n",
    "        if imglb in (common_mids_coco | common_mids_ws | set(['/m/01g3x7'])) and row[3] == '1':\n",
    "            if annot.get(imgid) == None:\n",
    "                annot[imgid] = []\n",
    "            annot[imgid].append({\n",
    "                'label': imglb,\n",
    "                'bbox': tuple([float(item) for item in row[4:8]]),\n",
    "            })\n",
    "            if label2imgs.get(imglb) is None:\n",
    "                label2imgs[imglb] = set()\n",
    "            label2imgs[imglb].add(imgid)\n",
    "            if imglabels.get(imgid) == None:\n",
    "                imglabels[imgid] = set()\n",
    "            imglabels[imgid].add(imglb)\n",
    "            "
   ]
  },
  {
   "cell_type": "code",
   "execution_count": null,
   "metadata": {},
   "outputs": [],
   "source": []
  },
  {
   "cell_type": "markdown",
   "metadata": {},
   "source": [
    "## Finding score mappings for COCO to OI"
   ]
  },
  {
   "cell_type": "code",
   "execution_count": 18,
   "metadata": {},
   "outputs": [],
   "source": [
    "imgids_array = np.asarray(list(imglabels.keys()))\n",
    "np.random.seed(1234)\n",
    "np.random.shuffle(imgids_array)"
   ]
  },
  {
   "cell_type": "code",
   "execution_count": 12,
   "metadata": {},
   "outputs": [],
   "source": [
    "label_cnt = {key: 0 for key in common_mids_coco}\n",
    "min_cnt = 100\n",
    "img_subset_coco = []\n",
    "for key in imgids_array:\n",
    "    flag = False\n",
    "    for l in (set(imglabels[key]) & common_mids_coco):\n",
    "        if label_cnt[l] < min_cnt:\n",
    "            flag = True\n",
    "    if flag:\n",
    "        img_subset_coco.append(key)\n",
    "        for l in (set(imglabels[key]) & common_mids_coco):\n",
    "            label_cnt[l] += 1\n",
    "    "
   ]
  },
  {
   "cell_type": "code",
   "execution_count": 13,
   "metadata": {},
   "outputs": [
    {
     "data": {
      "text/plain": [
       "{'/m/06__v': 37,\n",
       " '/m/019w40': 100,\n",
       " '/m/0k4j': 243,\n",
       " '/m/015p6': 105,\n",
       " '/m/0dv9c': 74,\n",
       " '/m/040b_t': 77,\n",
       " '/m/0cmf2': 103,\n",
       " '/m/01bjv': 100,\n",
       " '/m/015qff': 61,\n",
       " '/m/03k3r': 103,\n",
       " '/m/07r04': 103,\n",
       " '/m/029bxz': 51,\n",
       " '/m/01m2v': 101,\n",
       " '/m/0cvnqh': 0,\n",
       " '/m/01c648': 108,\n",
       " '/m/07c52': 101,\n",
       " '/m/0663v': 100,\n",
       " '/m/01rkbr': 100,\n",
       " '/m/0l515': 104,\n",
       " '/m/04dr76w': 117,\n",
       " '/m/01xq0k1': 100,\n",
       " '/m/0fj52s': 76,\n",
       " '/m/03fp41': 119,\n",
       " '/m/0jy4k': 90,\n",
       " '/m/0cyhj_': 102,\n",
       " '/m/02crq1': 88,\n",
       " '/m/02pv19': 33,\n",
       " '/m/09qck': 68,\n",
       " '/m/018xm': 107,\n",
       " '/m/04ctx': 103,\n",
       " '/m/04_sv': 101,\n",
       " '/m/020lf': 77,\n",
       " '/m/03ssj5': 108,\n",
       " '/m/01dws': 61,\n",
       " '/m/019jd': 103,\n",
       " '/m/0hkxq': 100,\n",
       " '/m/0199g': 104,\n",
       " '/m/0bwd_0j': 100,\n",
       " '/m/03g8mr': 41,\n",
       " '/m/0hnnb': 80,\n",
       " '/m/01g317': 1068,\n",
       " '/m/04bcr3': 225,\n",
       " '/m/02zt3': 54,\n",
       " '/m/09g1w': 57,\n",
       " '/m/01x3z': 46,\n",
       " '/m/01lsmm': 6,\n",
       " '/m/03bk1': 47,\n",
       " '/m/07bgp': 100,\n",
       " '/m/01yrx': 108,\n",
       " '/m/01s55n': 48,\n",
       " '/m/0bt_c3': 104,\n",
       " '/m/02s195': 100,\n",
       " '/m/050k8': 102,\n",
       " '/m/071p9': 108,\n",
       " '/m/0bt9lr': 126,\n",
       " '/m/0dt3t': 100,\n",
       " '/m/03grzl': 70,\n",
       " '/m/06_fw': 100,\n",
       " '/m/0fx9l': 44,\n",
       " '/m/014j1m': 101,\n",
       " '/m/0kmg4': 85,\n",
       " '/m/01b9xk': 32,\n",
       " '/m/0cmx8': 103,\n",
       " '/m/012xff': 12,\n",
       " '/m/01940j': 58,\n",
       " '/m/0qjjc': 19,\n",
       " '/m/09tvcd': 102,\n",
       " '/m/01pns0': 57,\n",
       " '/m/07jdr': 102,\n",
       " '/m/080hkjn': 102,\n",
       " '/m/04kkgm': 100,\n",
       " '/m/0fszt': 108,\n",
       " '/m/0130jx': 101,\n",
       " '/m/01mzpv': 152,\n",
       " '/m/0898b': 60}"
      ]
     },
     "execution_count": 13,
     "metadata": {},
     "output_type": "execute_result"
    }
   ],
   "source": [
    "label_cnt"
   ]
  },
  {
   "cell_type": "code",
   "execution_count": 14,
   "metadata": {},
   "outputs": [
    {
     "data": {
      "text/plain": [
       "5767"
      ]
     },
     "execution_count": 14,
     "metadata": {},
     "output_type": "execute_result"
    }
   ],
   "source": [
    "len(img_subset_coco)"
   ]
  },
  {
   "cell_type": "code",
   "execution_count": 16,
   "metadata": {},
   "outputs": [],
   "source": [
    "with open('../../temp/test_subset_coco_3.pkl', 'wb') as fout:\n",
    "    pickle.dump(img_subset_coco, fout)"
   ]
  },
  {
   "cell_type": "code",
   "execution_count": 21,
   "metadata": {},
   "outputs": [],
   "source": [
    "with open('../../../tfobjdetect/temp/test_subset_coco_3.pkl', 'rb') as fin:\n",
    "    img_subset_coco = pickle.load(fin)"
   ]
  },
  {
   "cell_type": "code",
   "execution_count": null,
   "metadata": {},
   "outputs": [],
   "source": []
  },
  {
   "cell_type": "code",
   "execution_count": 24,
   "metadata": {},
   "outputs": [],
   "source": [
    "with open('../../../tfobjdetect/results/det_results_coco_oi_3.pkl', 'rb') as fin:\n",
    "    det_results_oi = pickle.load(fin)\n",
    "\n",
    "with open('../../../tfobjdetect/results/det_results_coco_3.pkl', 'rb') as fin:\n",
    "    det_results_coco = pickle.load(fin)\n",
    "    \n"
   ]
  },
  {
   "cell_type": "code",
   "execution_count": 25,
   "metadata": {},
   "outputs": [],
   "source": [
    "def match_scores(test_img_ids, det_results_1, det_results_2, idx2mid_1, idx2mid_2, iou_thresh=0.5):\n",
    "    \n",
    "    score_matches = {}\n",
    "    for imgid in test_img_ids:\n",
    "        for ii in range(len(annot[imgid])):\n",
    "            gt_label = annot[imgid][ii]['label']\n",
    "            gt_bbox = np.asarray(annot[imgid][ii]['bbox'])[[2,0,3,1]]\n",
    "\n",
    "            match_1 = []        \n",
    "            for iii in range(det_results_1[imgid]['num_detections']):\n",
    "                det_label = idx2mid_1.get(det_results_1[imgid]['detection_classes'][iii])\n",
    "                det_bbox = det_results_1[imgid]['detection_boxes'][iii]\n",
    "                det_score = det_results_1[imgid]['detection_scores'][iii]\n",
    "\n",
    "                if det_label == gt_label:\n",
    "                    x_d_len = det_bbox[2] - det_bbox[0]\n",
    "                    y_d_len = det_bbox[3] - det_bbox[1]\n",
    "                    x_t_len = gt_bbox[2] - gt_bbox[0]\n",
    "                    y_t_len = gt_bbox[3] - gt_bbox[1]\n",
    "                    x_int_len = max(0, min(gt_bbox[2], det_bbox[2]) - max(gt_bbox[0], det_bbox[0]))\n",
    "                    y_int_len = max(0, min(gt_bbox[3], det_bbox[3]) - max(gt_bbox[1], det_bbox[1]))\n",
    "                    iou = (x_int_len*y_int_len) / (x_d_len*y_d_len + x_t_len*y_t_len - x_int_len*y_int_len)\n",
    "                    if iou >= iou_thresh:\n",
    "                        match_1.append(det_score)\n",
    "\n",
    "            match_2 = []        \n",
    "            for iii in range(det_results_2[imgid]['num_detections']):\n",
    "                det_label = idx2mid_2.get(det_results_2[imgid]['detection_classes'][iii])\n",
    "                det_bbox = det_results_2[imgid]['detection_boxes'][iii]\n",
    "                det_score = det_results_2[imgid]['detection_scores'][iii]\n",
    "\n",
    "                if det_label == gt_label:\n",
    "                    x_d_len = det_bbox[2] - det_bbox[0]\n",
    "                    y_d_len = det_bbox[3] - det_bbox[1]\n",
    "                    x_t_len = gt_bbox[2] - gt_bbox[0]\n",
    "                    y_t_len = gt_bbox[3] - gt_bbox[1]\n",
    "                    x_int_len = max(0, min(gt_bbox[2], det_bbox[2]) - max(gt_bbox[0], det_bbox[0]))\n",
    "                    y_int_len = max(0, min(gt_bbox[3], det_bbox[3]) - max(gt_bbox[1], det_bbox[1]))\n",
    "                    iou = (x_int_len*y_int_len) / (x_d_len*y_d_len + x_t_len*y_t_len - x_int_len*y_int_len)\n",
    "                    if iou >= iou_thresh:\n",
    "                        match_2.append(det_score)\n",
    "\n",
    "            if len(match_1) > 0 and len(match_2) > 0:\n",
    "                if score_matches.get(gt_label) is None:\n",
    "                    score_matches[gt_label] = []\n",
    "                score_matches[gt_label].append((\n",
    "                    sum(match_1) / len(match_1),\n",
    "                    sum(match_2) / len(match_2),\n",
    "                ))\n",
    "                \n",
    "    return score_matches"
   ]
  },
  {
   "cell_type": "code",
   "execution_count": 26,
   "metadata": {},
   "outputs": [],
   "source": [
    "score_matches_coco = match_scores(img_subset_coco, det_results_coco, det_results_oi, idx2mid_coco, idx2mid_oi, iou_thresh=0.5)"
   ]
  },
  {
   "cell_type": "code",
   "execution_count": 27,
   "metadata": {},
   "outputs": [],
   "source": [
    "norm_coef_coco = {}\n",
    "for label in common_mids_coco:\n",
    "    if score_matches_coco.get(label) is None or len(score_matches_coco[label]) < 10:\n",
    "        norm_coef_coco[label] = None\n",
    "        continue\n",
    "    data_coco, data_oi = zip(*score_matches_coco[label])\n",
    "    mean_coco = np.mean(data_coco)\n",
    "    std_coco = np.std(data_coco)\n",
    "    mean_oi = np.mean(data_oi)\n",
    "    std_oi = np.std(data_oi)\n",
    "    norm_coef_coco[label] = {'mean_oi': mean_oi, 'std_oi': std_oi, 'mean_coco': mean_coco, 'std_coco': std_coco}"
   ]
  },
  {
   "cell_type": "code",
   "execution_count": 28,
   "metadata": {},
   "outputs": [],
   "source": [
    "default_norm_coef_coco = {\n",
    "    key: np.mean([val[key] for val in norm_coef_coco.values() if val is not None])\n",
    "    for key in ['mean_oi', 'std_oi', 'mean_coco', 'std_coco']\n",
    "}"
   ]
  },
  {
   "cell_type": "code",
   "execution_count": 29,
   "metadata": {},
   "outputs": [
    {
     "data": {
      "text/plain": [
       "{'mean_oi': 0.4390718101996786,\n",
       " 'std_oi': 0.29126858122679394,\n",
       " 'mean_coco': 0.9284473806328127,\n",
       " 'std_coco': 0.1217554739048151}"
      ]
     },
     "execution_count": 29,
     "metadata": {},
     "output_type": "execute_result"
    }
   ],
   "source": [
    "default_norm_coef_coco"
   ]
  },
  {
   "cell_type": "code",
   "execution_count": 30,
   "metadata": {},
   "outputs": [],
   "source": [
    "for key in norm_coef_coco:\n",
    "    if norm_coef_coco[key] is None:\n",
    "        norm_coef_coco[key] = dict(default_norm_coef_coco)\n",
    "        \n",
    "norm_coef_coco['default'] = dict(default_norm_coef_coco)"
   ]
  },
  {
   "cell_type": "code",
   "execution_count": 61,
   "metadata": {},
   "outputs": [],
   "source": [
    "with open('../../temp/norm_coef_coco.pkl', 'wb') as fout:\n",
    "    pickle.dump(norm_coef_coco, fout)"
   ]
  },
  {
   "cell_type": "code",
   "execution_count": null,
   "metadata": {},
   "outputs": [],
   "source": []
  },
  {
   "cell_type": "markdown",
   "metadata": {},
   "source": [
    "## Finding score mappings for WS to OI"
   ]
  },
  {
   "cell_type": "code",
   "execution_count": 17,
   "metadata": {},
   "outputs": [],
   "source": [
    "label_cnt = {key: 0 for key in common_mids_ws}\n",
    "min_cnt = 100\n",
    "img_subset_ws = []\n",
    "for key in imgids_array:\n",
    "    flag = False\n",
    "    for l in (set(imglabels[key]) & common_mids_ws):\n",
    "        if label_cnt[l] < min_cnt:\n",
    "            flag = True\n",
    "    if flag:\n",
    "        img_subset_ws.append(key)\n",
    "        for l in (set(imglabels[key]) & common_mids_ws):\n",
    "            label_cnt[l] += 1\n",
    "    "
   ]
  },
  {
   "cell_type": "code",
   "execution_count": 18,
   "metadata": {},
   "outputs": [
    {
     "data": {
      "text/plain": [
       "{'/m/07c52': 102,\n",
       " '/m/018p4k': 101,\n",
       " '/m/0h8lkj8': 13,\n",
       " '/m/0f6nr': 10,\n",
       " '/m/06c54': 134,\n",
       " '/m/01x3jk': 45,\n",
       " '/m/04ctx': 117,\n",
       " '/m/04_sv': 101,\n",
       " '/m/01rzcn': 127,\n",
       " '/m/021sj1': 100,\n",
       " '/m/0jyfg': 161,\n",
       " '/m/02068x': 37,\n",
       " '/m/05s2s': 217,\n",
       " '/m/01xgg_': 102,\n",
       " '/m/074d1': 21,\n",
       " '/m/083kb': 133,\n",
       " '/m/079cl': 100,\n",
       " '/m/0gxl3': 72,\n",
       " '/m/01prls': 392,\n",
       " '/m/0hf58v5': 76,\n",
       " '/m/01xs3r': 30,\n",
       " '/m/01bl7v': 124,\n",
       " '/m/01c648': 104,\n",
       " '/m/01fdzj': 121,\n",
       " '/m/06y5r': 66,\n",
       " '/m/09ct_': 103,\n",
       " '/m/050k8': 111,\n",
       " '/m/0d5gx': 71,\n",
       " '/m/01n5jq': 103,\n",
       " '/m/0bt9lr': 129,\n",
       " '/m/054xkw': 91,\n",
       " '/m/0cyfs': 100,\n",
       " '/m/01j61q': 83,\n",
       " '/m/02lbcq': 8,\n",
       " '/m/05r655': 250,\n",
       " '/m/01lcw4': 61,\n",
       " '/m/01g3x7': 38,\n",
       " '/m/01knjb': 39,\n",
       " '/m/0lt4_': 15,\n",
       " '/m/04yx4': 622,\n",
       " '/m/0crjs': 100,\n",
       " '/m/01bjv': 103,\n",
       " '/m/0cmf2': 157,\n",
       " '/m/07r04': 125,\n",
       " '/m/03bt1vf': 353,\n",
       " '/m/076bq': 50,\n",
       " '/m/04h7h': 34,\n",
       " '/m/0dv5r': 102,\n",
       " '/m/03jm5': 114,\n",
       " '/m/02wbm': 123,\n",
       " '/m/0323sq': 24,\n",
       " '/m/019jd': 274,\n",
       " '/m/0199g': 117,\n",
       " '/m/06msq': 107,\n",
       " '/m/02gzp': 70,\n",
       " '/m/0qmmr': 99,\n",
       " '/m/01yx86': 87,\n",
       " '/m/0jbk': 106,\n",
       " '/m/02p0tk3': 773,\n",
       " '/m/07cx4': 23,\n",
       " '/m/0k4j': 544,\n",
       " '/m/0cgh4': 248,\n",
       " '/m/09rvcxw': 53,\n",
       " '/m/03120': 101,\n",
       " '/m/0ph39': 113,\n",
       " '/m/02_n6y': 101,\n",
       " '/m/0pg52': 70,\n",
       " '/m/0k5j': 106,\n",
       " '/m/0dzct': 670,\n",
       " '/m/0bh9flk': 33,\n",
       " '/m/01g317': 1659,\n",
       " '/m/07yv9': 475,\n",
       " '/m/0zvk5': 145,\n",
       " '/m/04hgtk': 814,\n",
       " '/m/02wg_p': 19,\n",
       " '/m/0h2r6': 143,\n",
       " '/m/015h_t': 108,\n",
       " '/m/0c_jw': 178,\n",
       " '/m/04ylt': 40,\n",
       " '/m/0hg7b': 100,\n",
       " '/m/06nrc': 58,\n",
       " '/m/07cmd': 101,\n",
       " '/m/020kz': 50,\n",
       " '/m/08dz3q': 149,\n",
       " '/m/012n7d': 51,\n",
       " '/m/07k1x': 81,\n",
       " '/m/01btn': 10,\n",
       " '/m/07jdr': 101}"
      ]
     },
     "execution_count": 18,
     "metadata": {},
     "output_type": "execute_result"
    }
   ],
   "source": [
    "label_cnt"
   ]
  },
  {
   "cell_type": "code",
   "execution_count": 19,
   "metadata": {},
   "outputs": [
    {
     "data": {
      "text/plain": [
       "5992"
      ]
     },
     "execution_count": 19,
     "metadata": {},
     "output_type": "execute_result"
    }
   ],
   "source": [
    "len(img_subset_ws)"
   ]
  },
  {
   "cell_type": "code",
   "execution_count": 21,
   "metadata": {},
   "outputs": [],
   "source": [
    "with open('../../temp/test_subset_ws_2.pkl', 'wb') as fout:\n",
    "    pickle.dump(img_subset_ws, fout)"
   ]
  },
  {
   "cell_type": "code",
   "execution_count": 40,
   "metadata": {},
   "outputs": [],
   "source": [
    "with open('../../../tfobjdetect/temp/test_subset_ws_2.pkl', 'rb') as fin:\n",
    "    img_subset_ws = pickle.load(fin)"
   ]
  },
  {
   "cell_type": "code",
   "execution_count": null,
   "metadata": {},
   "outputs": [],
   "source": []
  },
  {
   "cell_type": "code",
   "execution_count": 42,
   "metadata": {},
   "outputs": [],
   "source": [
    "with open('../../../tfobjdetect/results/det_results_ws_oi_2.pkl', 'rb') as fin:\n",
    "    det_results_oi_2 = pickle.load(fin)\n",
    "\n",
    "with open('../../../wsod/results/det_results_dpl_013.pkl', 'rb') as fin:\n",
    "    det_results_ws = pickle.load(fin)\n",
    "    \n"
   ]
  },
  {
   "cell_type": "code",
   "execution_count": 45,
   "metadata": {},
   "outputs": [],
   "source": [
    "score_matches_ws = match_scores(img_subset_ws, det_results_ws, det_results_oi_2, idx2mid_ws, idx2mid_oi, iou_thresh=0.5)"
   ]
  },
  {
   "cell_type": "code",
   "execution_count": 46,
   "metadata": {},
   "outputs": [
    {
     "name": "stdout",
     "output_type": "stream",
     "text": [
      "111\n",
      "[(0.21636728942394257, 0.9866340160369873), (0.2198566198348999, 0.9897550940513611), (0.00044699886348098516, 0.9142794609069824), (0.19314555823802948, 0.9795539379119873), (0.07167255133390427, 0.17643259465694427), (0.00020846085681114346, 0.5942627191543579), (0.2061745673418045, 0.9185815453529358), (0.0622490793466568, 0.9696378707885742), (0.18846182525157928, 0.49860899802297354), (0.20356538891792297, 0.965634286403656), (0.00011782912042690441, 0.4991980369668454), (0.05114976689219475, 0.4841456802096218), (0.0020882959943264723, 0.9890788197517395), (0.08074765652418137, 0.9586657285690308), (0.07101789116859436, 0.33369226194918156), (0.07559453696012497, 0.4853212172165513)]\n",
      "16\n"
     ]
    }
   ],
   "source": [
    "norm_coef_ws = {}\n",
    "for label in common_mids_ws:\n",
    "    if label == '/m/07jdr':\n",
    "        print('111')\n",
    "        print(score_matches_ws.get(label))\n",
    "        print(len(score_matches_ws[label]))\n",
    "    if score_matches_ws.get(label) is None or len(score_matches_ws[label]) < 10:\n",
    "        norm_coef_ws[label] = None\n",
    "        continue\n",
    "    data_ws, data_oi = zip(*score_matches_ws[label])\n",
    "    mean_ws = np.mean(data_ws)\n",
    "    std_ws = np.std(data_ws)\n",
    "    mean_oi = np.mean(data_oi)\n",
    "    std_oi = np.std(data_oi)\n",
    "    norm_coef_ws[label] = {'mean_oi': mean_oi, 'std_oi': std_oi, 'mean_ws': mean_ws, 'std_ws': std_ws}"
   ]
  },
  {
   "cell_type": "code",
   "execution_count": 47,
   "metadata": {},
   "outputs": [],
   "source": [
    "default_norm_coef_ws = {\n",
    "    key: np.mean([val[key] for val in norm_coef_ws.values() if val is not None])\n",
    "    for key in ['mean_oi', 'std_oi', 'mean_ws', 'std_ws']\n",
    "}"
   ]
  },
  {
   "cell_type": "code",
   "execution_count": 48,
   "metadata": {},
   "outputs": [
    {
     "data": {
      "text/plain": [
       "{'mean_oi': 0.42039525305208714,\n",
       " 'std_oi': 0.24467248138999562,\n",
       " 'mean_ws': 0.22907223198078172,\n",
       " 'std_ws': 0.12448435665321164}"
      ]
     },
     "execution_count": 48,
     "metadata": {},
     "output_type": "execute_result"
    }
   ],
   "source": [
    "default_norm_coef_ws"
   ]
  },
  {
   "cell_type": "code",
   "execution_count": 49,
   "metadata": {},
   "outputs": [],
   "source": [
    "data_ws = []\n",
    "data_oi = []\n",
    "for val in score_matches_ws.values():\n",
    "    for a, b in val:\n",
    "        data_ws.append(a)\n",
    "        data_oi.append(b)\n",
    "default_norm_coef_ws_2 = {\n",
    "    'mean_oi': np.mean(data_oi),\n",
    "    'std_oi': np.std(data_oi),\n",
    "    'mean_ws': np.mean(data_ws),\n",
    "    'std_ws': np.std(data_ws),\n",
    "}"
   ]
  },
  {
   "cell_type": "code",
   "execution_count": 50,
   "metadata": {},
   "outputs": [
    {
     "data": {
      "text/plain": [
       "{'mean_oi': 0.38599317833610747,\n",
       " 'std_oi': 0.3215474592509745,\n",
       " 'mean_ws': 0.16712620043938511,\n",
       " 'std_ws': 0.2532729813448721}"
      ]
     },
     "execution_count": 50,
     "metadata": {},
     "output_type": "execute_result"
    }
   ],
   "source": [
    "default_norm_coef_ws_2"
   ]
  },
  {
   "cell_type": "code",
   "execution_count": 51,
   "metadata": {},
   "outputs": [],
   "source": [
    "for key in norm_coef_ws:\n",
    "    norm_coef_ws[key] = dict(default_norm_coef_ws_2)\n",
    "        \n",
    "norm_coef_ws['default'] = dict(default_norm_coef_ws_2)"
   ]
  },
  {
   "cell_type": "code",
   "execution_count": 52,
   "metadata": {},
   "outputs": [
    {
     "data": {
      "text/plain": [
       "'/m/07jdr'"
      ]
     },
     "execution_count": 52,
     "metadata": {},
     "output_type": "execute_result"
    }
   ],
   "source": [
    "name2mid_ws['train']"
   ]
  },
  {
   "cell_type": "code",
   "execution_count": 53,
   "metadata": {},
   "outputs": [
    {
     "data": {
      "text/plain": [
       "{'mean_oi': 0.38599317833610747,\n",
       " 'std_oi': 0.3215474592509745,\n",
       " 'mean_ws': 0.16712620043938511,\n",
       " 'std_ws': 0.2532729813448721}"
      ]
     },
     "execution_count": 53,
     "metadata": {},
     "output_type": "execute_result"
    }
   ],
   "source": [
    "norm_coef_ws['/m/07jdr']"
   ]
  },
  {
   "cell_type": "code",
   "execution_count": 54,
   "metadata": {},
   "outputs": [
    {
     "data": {
      "text/plain": [
       "1.0"
      ]
     },
     "execution_count": 54,
     "metadata": {},
     "output_type": "execute_result"
    }
   ],
   "source": [
    "temp = [1 if norm_coef_ws[key] != None else 0 for key in norm_coef_ws]\n",
    "sum(temp) / len(temp)"
   ]
  },
  {
   "cell_type": "code",
   "execution_count": 62,
   "metadata": {},
   "outputs": [],
   "source": [
    "with open('../../temp/norm_coef_ws.pkl', 'wb') as fout:\n",
    "    pickle.dump(norm_coef_ws, fout)"
   ]
  },
  {
   "cell_type": "code",
   "execution_count": null,
   "metadata": {},
   "outputs": [],
   "source": []
  },
  {
   "cell_type": "markdown",
   "metadata": {},
   "source": [
    "## Concatenating the results "
   ]
  },
  {
   "cell_type": "code",
   "execution_count": 55,
   "metadata": {},
   "outputs": [],
   "source": [
    "with open('../../../tfobjdetect/results/det_results_seedling_jpg_oi_1.pkl', 'rb') as fin:\n",
    "    det_results_oi_seed = pickle.load(fin)\n",
    "\n",
    "with open('../../../tfobjdetect/results/det_results_seedling_jpg_coco_1.pkl', 'rb') as fin:\n",
    "    det_results_coco_seed = pickle.load(fin)\n",
    "\n",
    "with open('../../../wsod/results/det_results_dpl_010.pkl', 'rb') as fin:\n",
    "    det_results_ws_seed = pickle.load(fin)\n",
    "    \n"
   ]
  },
  {
   "cell_type": "code",
   "execution_count": 56,
   "metadata": {},
   "outputs": [],
   "source": [
    "det_results_concat = {key:[] for key in det_results_oi_seed}\n",
    "for imgid in det_results_oi_seed:\n",
    "    for ii in range(det_results_oi_seed[imgid]['num_detections']):\n",
    "        if idx2mid_oi.get(det_results_oi_seed[imgid]['detection_classes'][ii]) is None or det_results_oi_seed[imgid]['detection_scores'][ii] == 0.:\n",
    "            continue\n",
    "        det_results_concat[imgid].append({\n",
    "            'label': idx2mid_oi[det_results_oi_seed[imgid]['detection_classes'][ii]],\n",
    "            'score': det_results_oi_seed[imgid]['detection_scores'][ii],\n",
    "            'box': det_results_oi_seed[imgid]['detection_boxes'][ii],\n",
    "            'model': 'oi',\n",
    "        })\n",
    "\n",
    "for imgid in det_results_coco_seed:\n",
    "    for ii in range(det_results_coco_seed[imgid]['num_detections']):\n",
    "        label = idx2mid_coco.get(det_results_coco_seed[imgid]['detection_classes'][ii])\n",
    "        score = det_results_coco_seed[imgid]['detection_scores'][ii]\n",
    "        \n",
    "        if label is None or score == 0.:\n",
    "            continue\n",
    "            \n",
    "        transformed_score = (((score - norm_coef_coco[label]['mean_coco']) \n",
    "                              * norm_coef_coco[label]['std_oi'] / norm_coef_coco[label]['std_coco'] \n",
    "                              + norm_coef_coco[label]['mean_oi']) \n",
    "                             if label in norm_coef_coco else (\n",
    "                                 ((score - norm_coef_coco['default']['mean_coco']) \n",
    "                                  * norm_coef_coco['default']['std_oi'] / norm_coef_coco['default']['std_coco'] \n",
    "                                  + norm_coef_coco['default']['mean_oi']) \n",
    "                             ))\n",
    "        transformed_score = min(max(transformed_score, 0.), 1.)\n",
    "                \n",
    "        det_results_concat[imgid].append({\n",
    "            'label': label,\n",
    "            'score': transformed_score,\n",
    "            'box': det_results_coco_seed[imgid]['detection_boxes'][ii],\n",
    "            'model': 'coco',\n",
    "        })\n",
    "        \n",
    "for imgid in det_results_ws_seed:\n",
    "    for ii in range(det_results_ws_seed[imgid]['num_detections']):\n",
    "        label = idx2mid_ws.get(det_results_ws_seed[imgid]['sorted_labels'][ii])\n",
    "        score = det_results_ws_seed[imgid]['sorted_probs'][ii]\n",
    "        if label is None or score == 0.:\n",
    "            continue\n",
    "            \n",
    "        transformed_score = (((score - norm_coef_ws[label]['mean_ws']) \n",
    "                              * norm_coef_ws[label]['std_oi'] / norm_coef_ws[label]['std_ws'] \n",
    "                              + norm_coef_ws[label]['mean_oi']) \n",
    "                             if label in norm_coef_ws else (\n",
    "                                 ((score - norm_coef_ws['default']['mean_ws']) \n",
    "                                  * norm_coef_ws['default']['std_oi'] / norm_coef_ws['default']['std_ws'] \n",
    "                                  + norm_coef_ws['default']['mean_oi']) \n",
    "                             ))\n",
    "        transformed_score = min(max(transformed_score, 0.), 1.)\n",
    "                \n",
    "        det_results_concat[imgid].append({\n",
    "            'label': label,\n",
    "            'score': transformed_score,\n",
    "            'box': det_results_ws_seed[imgid]['sorted_boxes'][ii],\n",
    "            'model': 'ws',\n",
    "        })\n",
    "        "
   ]
  },
  {
   "cell_type": "code",
   "execution_count": 57,
   "metadata": {},
   "outputs": [],
   "source": [
    "with open('../../results/det_results_concat_10.pkl', 'wb') as fout:\n",
    "    pickle.dump(det_results_concat, fout)"
   ]
  },
  {
   "cell_type": "code",
   "execution_count": 4,
   "metadata": {},
   "outputs": [],
   "source": [
    "with open('../../results/det_results_concat_10.pkl', 'rb') as fin:\n",
    "    det_results_concat = pickle.load(fin)"
   ]
  },
  {
   "cell_type": "code",
   "execution_count": null,
   "metadata": {},
   "outputs": [],
   "source": []
  },
  {
   "cell_type": "markdown",
   "metadata": {},
   "source": [
    "## Merging duplicate results"
   ]
  },
  {
   "cell_type": "code",
   "execution_count": 58,
   "metadata": {},
   "outputs": [],
   "source": [
    "def iou(det_bbox, gt_bbox):\n",
    "    x_d_len = det_bbox[2] - det_bbox[0]\n",
    "    y_d_len = det_bbox[3] - det_bbox[1]\n",
    "    x_t_len = gt_bbox[2] - gt_bbox[0]\n",
    "    y_t_len = gt_bbox[3] - gt_bbox[1]\n",
    "    x_int_len = max(0, min(gt_bbox[2], det_bbox[2]) - max(gt_bbox[0], det_bbox[0]))\n",
    "    y_int_len = max(0, min(gt_bbox[3], det_bbox[3]) - max(gt_bbox[1], det_bbox[1]))\n",
    "    iou = (x_int_len*y_int_len) / (x_d_len*y_d_len + x_t_len*y_t_len - x_int_len*y_int_len)\n",
    "    return iou\n",
    "\n",
    "def ioa(det_bbox, gt_bbox):\n",
    "    x_d_len = det_bbox[2] - det_bbox[0]\n",
    "    y_d_len = det_bbox[3] - det_bbox[1]\n",
    "    x_t_len = gt_bbox[2] - gt_bbox[0]\n",
    "    y_t_len = gt_bbox[3] - gt_bbox[1]\n",
    "    x_int_len = max(0, min(gt_bbox[2], det_bbox[2]) - max(gt_bbox[0], det_bbox[0]))\n",
    "    y_int_len = max(0, min(gt_bbox[3], det_bbox[3]) - max(gt_bbox[1], det_bbox[1]))\n",
    "    iou = (x_int_len*y_int_len) / (x_d_len*y_d_len)\n",
    "    return iou\n"
   ]
  },
  {
   "cell_type": "code",
   "execution_count": 59,
   "metadata": {},
   "outputs": [],
   "source": [
    "thresh_same = 0.7\n",
    "thresh_diff = 0.9\n",
    "\n",
    "det_results_merged = {}\n",
    "for imgid, det in det_results_concat.items():\n",
    "    det_results_merged[imgid] = []\n",
    "    groups = []\n",
    "    for ii in range(len(det)):\n",
    "        matching_gr = None\n",
    "        for gr in groups:\n",
    "            for item in gr:\n",
    "                if det[ii]['label'] == det[item]['label'] and (ioa(det[ii]['box'], det[item]['box']) > thresh_same or\n",
    "                                                               ioa(det[item]['box'], det[ii]['box']) > thresh_same):\n",
    "                    if matching_gr == None:\n",
    "                        gr.append(ii)\n",
    "                        matching_gr = gr\n",
    "                        break\n",
    "                    else:\n",
    "                        matching_gr += gr\n",
    "                        gr.clear()\n",
    "                if det[ii]['label'] != det[item]['label'] and iou(det[ii]['box'], det[item]['box']) > thresh_diff:\n",
    "                    pass\n",
    "                \n",
    "        if matching_gr == None:\n",
    "            groups.append([ii])\n",
    "            \n",
    "    for g in groups:\n",
    "        if len(g) == 0:\n",
    "            continue\n",
    "        suff = '/J' if len(g) > 1 else ''\n",
    "        scores = [det[ii]['score'] if det[ii]['model'] != 'ws' else 0. for ii in g]\n",
    "        iii = np.argmax(scores)\n",
    "        det_results_merged[imgid].append({\n",
    "            'label': det[g[iii]]['label'],\n",
    "            'score': det[g[iii]]['score'],\n",
    "            'box': det[g[iii]]['box'],\n",
    "            'model': det[g[iii]]['model'] + suff,            \n",
    "        })"
   ]
  },
  {
   "cell_type": "code",
   "execution_count": 60,
   "metadata": {},
   "outputs": [],
   "source": [
    "with open('../../results/det_results_merged_10.pkl', 'wb') as fout:\n",
    "    pickle.dump(det_results_merged, fout)"
   ]
  },
  {
   "cell_type": "code",
   "execution_count": null,
   "metadata": {},
   "outputs": [],
   "source": []
  }
 ],
 "metadata": {
  "kernelspec": {
   "display_name": "Py3 w/ Tensorflow",
   "language": "python",
   "name": "py3tf"
  },
  "language_info": {
   "codemirror_mode": {
    "name": "ipython",
    "version": 3
   },
   "file_extension": ".py",
   "mimetype": "text/x-python",
   "name": "python",
   "nbconvert_exporter": "python",
   "pygments_lexer": "ipython3",
   "version": "3.6.5"
  }
 },
 "nbformat": 4,
 "nbformat_minor": 2
}
