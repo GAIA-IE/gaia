{
 "cells": [
  {
   "cell_type": "code",
   "execution_count": 1,
   "metadata": {},
   "outputs": [],
   "source": [
    "import numpy as np\n",
    "import os\n",
    "import six.moves.urllib as urllib\n",
    "import sys\n",
    "import tarfile\n",
    "import tensorflow as tf\n",
    "import zipfile\n",
    "\n",
    "from collections import defaultdict\n",
    "from io import StringIO\n",
    "from matplotlib import pyplot as plt\n",
    "from PIL import Image\n",
    "\n",
    "# This is needed since the notebook is stored in the object_detection folder.\n",
    "sys.path.append(\"../lib\")\n",
    "from object_detection.utils import ops as utils_ops\n",
    "\n",
    "if tf.__version__ < '1.4.0':\n",
    "  raise ImportError('Please upgrade your tensorflow installation to v1.4.* or later!')\n"
   ]
  },
  {
   "cell_type": "code",
   "execution_count": 2,
   "metadata": {},
   "outputs": [],
   "source": [
    "import pickle\n",
    "import lmdb\n",
    "import cv2\n",
    "import csv"
   ]
  },
  {
   "cell_type": "code",
   "execution_count": 3,
   "metadata": {},
   "outputs": [
    {
     "name": "stderr",
     "output_type": "stream",
     "text": [
      "../lib/object_detection/utils/visualization_utils.py:25: UserWarning: \n",
      "This call to matplotlib.use() has no effect because the backend has already\n",
      "been chosen; matplotlib.use() must be called *before* pylab, matplotlib.pyplot,\n",
      "or matplotlib.backends is imported for the first time.\n",
      "\n",
      "The backend was *originally* set to 'module://ipykernel.pylab.backend_inline' by the following code:\n",
      "  File \"/home/alireza/home_at_filer2/tools/anaconda3/envs/py3tf/lib/python3.6/runpy.py\", line 193, in _run_module_as_main\n",
      "    \"__main__\", mod_spec)\n",
      "  File \"/home/alireza/home_at_filer2/tools/anaconda3/envs/py3tf/lib/python3.6/runpy.py\", line 85, in _run_code\n",
      "    exec(code, run_globals)\n",
      "  File \"/home/alireza/home_at_filer2/tools/anaconda3/envs/py3tf/lib/python3.6/site-packages/ipykernel/__main__.py\", line 3, in <module>\n",
      "    app.launch_new_instance()\n",
      "  File \"/home/alireza/home_at_filer2/tools/anaconda3/envs/py3tf/lib/python3.6/site-packages/traitlets/config/application.py\", line 658, in launch_instance\n",
      "    app.start()\n",
      "  File \"/home/alireza/home_at_filer2/tools/anaconda3/envs/py3tf/lib/python3.6/site-packages/ipykernel/kernelapp.py\", line 486, in start\n",
      "    self.io_loop.start()\n",
      "  File \"/home/alireza/home_at_filer2/tools/anaconda3/envs/py3tf/lib/python3.6/site-packages/tornado/platform/asyncio.py\", line 127, in start\n",
      "    self.asyncio_loop.run_forever()\n",
      "  File \"/home/alireza/home_at_filer2/tools/anaconda3/envs/py3tf/lib/python3.6/asyncio/base_events.py\", line 422, in run_forever\n",
      "    self._run_once()\n",
      "  File \"/home/alireza/home_at_filer2/tools/anaconda3/envs/py3tf/lib/python3.6/asyncio/base_events.py\", line 1432, in _run_once\n",
      "    handle._run()\n",
      "  File \"/home/alireza/home_at_filer2/tools/anaconda3/envs/py3tf/lib/python3.6/asyncio/events.py\", line 145, in _run\n",
      "    self._callback(*self._args)\n",
      "  File \"/home/alireza/home_at_filer2/tools/anaconda3/envs/py3tf/lib/python3.6/site-packages/tornado/platform/asyncio.py\", line 117, in _handle_events\n",
      "    handler_func(fileobj, events)\n",
      "  File \"/home/alireza/home_at_filer2/tools/anaconda3/envs/py3tf/lib/python3.6/site-packages/tornado/stack_context.py\", line 276, in null_wrapper\n",
      "    return fn(*args, **kwargs)\n",
      "  File \"/home/alireza/home_at_filer2/tools/anaconda3/envs/py3tf/lib/python3.6/site-packages/zmq/eventloop/zmqstream.py\", line 450, in _handle_events\n",
      "    self._handle_recv()\n",
      "  File \"/home/alireza/home_at_filer2/tools/anaconda3/envs/py3tf/lib/python3.6/site-packages/zmq/eventloop/zmqstream.py\", line 480, in _handle_recv\n",
      "    self._run_callback(callback, msg)\n",
      "  File \"/home/alireza/home_at_filer2/tools/anaconda3/envs/py3tf/lib/python3.6/site-packages/zmq/eventloop/zmqstream.py\", line 432, in _run_callback\n",
      "    callback(*args, **kwargs)\n",
      "  File \"/home/alireza/home_at_filer2/tools/anaconda3/envs/py3tf/lib/python3.6/site-packages/tornado/stack_context.py\", line 276, in null_wrapper\n",
      "    return fn(*args, **kwargs)\n",
      "  File \"/home/alireza/home_at_filer2/tools/anaconda3/envs/py3tf/lib/python3.6/site-packages/ipykernel/kernelbase.py\", line 283, in dispatcher\n",
      "    return self.dispatch_shell(stream, msg)\n",
      "  File \"/home/alireza/home_at_filer2/tools/anaconda3/envs/py3tf/lib/python3.6/site-packages/ipykernel/kernelbase.py\", line 233, in dispatch_shell\n",
      "    handler(stream, idents, msg)\n",
      "  File \"/home/alireza/home_at_filer2/tools/anaconda3/envs/py3tf/lib/python3.6/site-packages/ipykernel/kernelbase.py\", line 399, in execute_request\n",
      "    user_expressions, allow_stdin)\n",
      "  File \"/home/alireza/home_at_filer2/tools/anaconda3/envs/py3tf/lib/python3.6/site-packages/ipykernel/ipkernel.py\", line 208, in do_execute\n",
      "    res = shell.run_cell(code, store_history=store_history, silent=silent)\n",
      "  File \"/home/alireza/home_at_filer2/tools/anaconda3/envs/py3tf/lib/python3.6/site-packages/ipykernel/zmqshell.py\", line 537, in run_cell\n",
      "    return super(ZMQInteractiveShell, self).run_cell(*args, **kwargs)\n",
      "  File \"/home/alireza/home_at_filer2/tools/anaconda3/envs/py3tf/lib/python3.6/site-packages/IPython/core/interactiveshell.py\", line 2666, in run_cell\n",
      "    self.events.trigger('post_run_cell', result)\n",
      "  File \"/home/alireza/home_at_filer2/tools/anaconda3/envs/py3tf/lib/python3.6/site-packages/IPython/core/events.py\", line 88, in trigger\n",
      "    func(*args, **kwargs)\n",
      "  File \"/home/alireza/home_at_filer2/tools/anaconda3/envs/py3tf/lib/python3.6/site-packages/ipykernel/pylab/backend_inline.py\", line 160, in configure_once\n",
      "    activate_matplotlib(backend)\n",
      "  File \"/home/alireza/home_at_filer2/tools/anaconda3/envs/py3tf/lib/python3.6/site-packages/IPython/core/pylabtools.py\", line 311, in activate_matplotlib\n",
      "    matplotlib.pyplot.switch_backend(backend)\n",
      "  File \"/home/alireza/home_at_filer2/tools/anaconda3/envs/py3tf/lib/python3.6/site-packages/matplotlib/pyplot.py\", line 231, in switch_backend\n",
      "    matplotlib.use(newbackend, warn=False, force=True)\n",
      "  File \"/home/alireza/home_at_filer2/tools/anaconda3/envs/py3tf/lib/python3.6/site-packages/matplotlib/__init__.py\", line 1410, in use\n",
      "    reload(sys.modules['matplotlib.backends'])\n",
      "  File \"/home/alireza/home_at_filer2/tools/anaconda3/envs/py3tf/lib/python3.6/importlib/__init__.py\", line 166, in reload\n",
      "    _bootstrap._exec(spec, module)\n",
      "  File \"/home/alireza/home_at_filer2/tools/anaconda3/envs/py3tf/lib/python3.6/site-packages/matplotlib/backends/__init__.py\", line 16, in <module>\n",
      "    line for line in traceback.format_stack()\n",
      "\n",
      "\n",
      "  import matplotlib; matplotlib.use('Agg')  # pylint: disable=multiple-statements\n"
     ]
    }
   ],
   "source": [
    "from object_detection.utils import label_map_util\n",
    "\n",
    "from object_detection.utils import visualization_utils as vis_util"
   ]
  },
  {
   "cell_type": "code",
   "execution_count": null,
   "metadata": {},
   "outputs": [],
   "source": []
  },
  {
   "cell_type": "code",
   "execution_count": 4,
   "metadata": {},
   "outputs": [],
   "source": [
    "label_map_coco = label_map_util.load_labelmap(os.path.join('../lib/object_detection/data', 'mscoco_label_map.pbtxt'))\n",
    "label_map_oi = label_map_util.load_labelmap(os.path.join('../lib/object_detection/data', 'oid_bbox_trainable_label_map.pbtxt'))\n"
   ]
  },
  {
   "cell_type": "code",
   "execution_count": 5,
   "metadata": {},
   "outputs": [],
   "source": [
    "i = label_map_coco.item[0]"
   ]
  },
  {
   "cell_type": "code",
   "execution_count": 6,
   "metadata": {},
   "outputs": [
    {
     "data": {
      "text/plain": [
       "name: \"/m/01g317\"\n",
       "id: 1\n",
       "display_name: \"person\""
      ]
     },
     "execution_count": 6,
     "metadata": {},
     "output_type": "execute_result"
    }
   ],
   "source": [
    "i"
   ]
  },
  {
   "cell_type": "code",
   "execution_count": 7,
   "metadata": {},
   "outputs": [],
   "source": [
    "idx2mid_coco = {}\n",
    "for item in label_map_coco.item:\n",
    "    idx2mid_coco[item.id] = item.name\n",
    "\n",
    "idx2mid_oi = {}\n",
    "for item in label_map_oi.item:\n",
    "    idx2mid_oi[item.id] = item.name\n",
    "\n"
   ]
  },
  {
   "cell_type": "code",
   "execution_count": 8,
   "metadata": {},
   "outputs": [],
   "source": [
    "mid2idx_coco = {}\n",
    "for item in label_map_coco.item:\n",
    "    mid2idx_coco[item.name] = item.id\n",
    "\n",
    "mid2idx_oi = {}\n",
    "for item in label_map_oi.item:\n",
    "    mid2idx_oi[item.name] = item.id\n",
    "\n"
   ]
  },
  {
   "cell_type": "code",
   "execution_count": 9,
   "metadata": {},
   "outputs": [],
   "source": [
    "mid2name_coco = {}\n",
    "for item in label_map_coco.item:\n",
    "    mid2name_coco[item.name] = item.display_name\n",
    "\n",
    "mid2name_oi = {}\n",
    "for item in label_map_oi.item:\n",
    "    mid2name_oi[item.name] = item.display_name\n",
    "\n"
   ]
  },
  {
   "cell_type": "code",
   "execution_count": 61,
   "metadata": {},
   "outputs": [],
   "source": [
    "with open('../temp/label_matching_coco_oi.pkl', 'wb') as fout:\n",
    "    pickle.dump({\n",
    "        'idx2mid_coco': idx2mid_coco,\n",
    "        'idx2mid_oi': idx2mid_oi,\n",
    "        'mid2idx_coco': mid2idx_coco,\n",
    "        'mid2idx_oi': mid2idx_oi,\n",
    "        'mid2name_coco': mid2name_coco,\n",
    "        'mid2name_oi': mid2name_oi,\n",
    "    }, fout)"
   ]
  },
  {
   "cell_type": "code",
   "execution_count": 10,
   "metadata": {},
   "outputs": [],
   "source": [
    "coco_mids = set(list(mid2idx_coco.keys()))\n",
    "oi_mids = set(list(mid2idx_oi.keys()))"
   ]
  },
  {
   "cell_type": "code",
   "execution_count": 11,
   "metadata": {},
   "outputs": [],
   "source": [
    "common_mids = coco_mids & oi_mids"
   ]
  },
  {
   "cell_type": "code",
   "execution_count": 12,
   "metadata": {},
   "outputs": [
    {
     "data": {
      "text/plain": [
       "(74, 6, 471)"
      ]
     },
     "execution_count": 12,
     "metadata": {},
     "output_type": "execute_result"
    }
   ],
   "source": [
    "len(common_mids), len(coco_mids - common_mids), len(oi_mids - common_mids)"
   ]
  },
  {
   "cell_type": "code",
   "execution_count": 13,
   "metadata": {},
   "outputs": [
    {
     "data": {
      "text/plain": [
       "['toaster', 'parking meter', 'frisbee', 'airplane', 'hair drier', 'cup']"
      ]
     },
     "execution_count": 13,
     "metadata": {},
     "output_type": "execute_result"
    }
   ],
   "source": [
    "[mid2name_coco[item] for item in coco_mids - common_mids]"
   ]
  },
  {
   "cell_type": "code",
   "execution_count": null,
   "metadata": {},
   "outputs": [],
   "source": []
  },
  {
   "cell_type": "code",
   "execution_count": 14,
   "metadata": {},
   "outputs": [
    {
     "data": {
      "text/plain": [
       "[('sandwich', 'Sandwich'),\n",
       " ('dining table', 'Table'),\n",
       " ('cat', 'Cat'),\n",
       " ('traffic light', 'Traffic light'),\n",
       " ('toilet', 'Toilet'),\n",
       " ('microwave', 'Microwave oven'),\n",
       " ('scissors', 'Scissors'),\n",
       " ('oven', 'Oven'),\n",
       " ('potted plant', 'Houseplant'),\n",
       " ('spoon', 'Spoon'),\n",
       " ('pizza', 'Pizza'),\n",
       " ('hot dog', 'Hot dog'),\n",
       " ('donut', 'Doughnut'),\n",
       " ('laptop', 'Laptop'),\n",
       " ('toothbrush', 'Toothbrush'),\n",
       " ('sheep', 'Sheep'),\n",
       " ('suitcase', 'Suitcase'),\n",
       " ('baseball bat', 'Baseball bat'),\n",
       " ('umbrella', 'Umbrella'),\n",
       " ('bottle', 'Bottle'),\n",
       " ('sink', 'Sink'),\n",
       " ('clock', 'Clock'),\n",
       " ('tennis racket', 'Racket'),\n",
       " ('tv', 'Television'),\n",
       " ('handbag', 'Handbag'),\n",
       " ('bench', 'Bench'),\n",
       " ('keyboard', 'Computer keyboard'),\n",
       " ('carrot', 'Carrot'),\n",
       " ('person', 'Person'),\n",
       " ('motorcycle', 'Motorcycle'),\n",
       " ('fire hydrant', 'Fire hydrant'),\n",
       " ('bed', 'Bed'),\n",
       " ('cell phone', 'Mobile phone'),\n",
       " ('train', 'Train'),\n",
       " ('backpack', 'Backpack'),\n",
       " ('orange', 'Orange'),\n",
       " ('elephant', 'Elephant'),\n",
       " ('bear', 'Bear'),\n",
       " ('cake', 'Cake'),\n",
       " ('vase', 'Vase'),\n",
       " ('chair', 'Chair'),\n",
       " ('wine glass', 'Wine glass'),\n",
       " ('bowl', 'Bowl'),\n",
       " ('knife', 'Knife'),\n",
       " ('mouse', 'Mouse'),\n",
       " ('bus', 'Bus'),\n",
       " ('remote', 'Remote control'),\n",
       " ('refrigerator', 'Refrigerator'),\n",
       " ('giraffe', 'Giraffe'),\n",
       " ('zebra', 'Zebra'),\n",
       " ('horse', 'Horse'),\n",
       " ('sports ball', 'Ball'),\n",
       " ('bicycle', 'Bike'),\n",
       " ('bird', 'Bird'),\n",
       " ('truck', 'Truck'),\n",
       " ('snowboard', 'Snowboard'),\n",
       " ('couch', 'Couch'),\n",
       " ('stop sign', 'Stop sign'),\n",
       " ('kite', 'Kite'),\n",
       " ('fork', 'Fork'),\n",
       " ('dog', 'Dog'),\n",
       " ('boat', 'Boat'),\n",
       " ('cow', 'Cattle'),\n",
       " ('skateboard', 'Skateboard'),\n",
       " ('banana', 'Banana'),\n",
       " ('tie', 'Tie'),\n",
       " ('baseball glove', 'Baseball glove'),\n",
       " ('surfboard', 'Surfboard'),\n",
       " ('broccoli', 'Broccoli'),\n",
       " ('skis', 'Ski'),\n",
       " ('apple', 'Apple'),\n",
       " ('teddy bear', 'Teddy bear'),\n",
       " ('car', 'Car'),\n",
       " ('book', 'Book')]"
      ]
     },
     "execution_count": 14,
     "metadata": {},
     "output_type": "execute_result"
    }
   ],
   "source": [
    "[(mid2name_coco[item], mid2name_oi[item]) for item in common_mids]"
   ]
  },
  {
   "cell_type": "code",
   "execution_count": null,
   "metadata": {},
   "outputs": [],
   "source": []
  },
  {
   "cell_type": "code",
   "execution_count": 15,
   "metadata": {},
   "outputs": [],
   "source": [
    "imglabels = {}\n",
    "annot = {}\n",
    "label2imgs = {}\n",
    "\n",
    "with open('../data/OpenImages/metadata-v4/bbox/test-annotations-bbox.csv', 'r') as fin:\n",
    "    for row in csv.reader(fin):\n",
    "        imgid = row[0]\n",
    "        imglb = row[2]\n",
    "        if imglb in common_mids:\n",
    "            if annot.get(imgid) == None:\n",
    "                annot[imgid] = []\n",
    "            annot[imgid].append({\n",
    "                'label': imglb,\n",
    "                'bbox': tuple([float(item) for item in row[4:8]]),\n",
    "            })\n",
    "            if label2imgs.get(imglb) is None:\n",
    "                label2imgs[imglb] = set()\n",
    "            label2imgs[imglb].add(imgid)\n",
    "            if imglabels.get(imgid) == None:\n",
    "                imglabels[imgid] = set()\n",
    "            imglabels[imgid].add(imglb)\n",
    "            "
   ]
  },
  {
   "cell_type": "code",
   "execution_count": 16,
   "metadata": {},
   "outputs": [
    {
     "data": {
      "text/plain": [
       "49847"
      ]
     },
     "execution_count": 16,
     "metadata": {},
     "output_type": "execute_result"
    }
   ],
   "source": [
    "len(imglabels)"
   ]
  },
  {
   "cell_type": "code",
   "execution_count": 17,
   "metadata": {},
   "outputs": [],
   "source": [
    "imgids_array = np.asarray(list(imglabels.keys()))\n",
    "np.random.seed(1234)\n",
    "np.random.shuffle(imgids_array)"
   ]
  },
  {
   "cell_type": "code",
   "execution_count": 18,
   "metadata": {},
   "outputs": [],
   "source": [
    "label_cnt = {key: 0 for key in common_mids}\n",
    "min_cnt = 100\n",
    "img_subset = []\n",
    "for key in imgids_array:\n",
    "    for l in (set(imglabels[key]) & common_mids):\n",
    "        flag = False\n",
    "        if label_cnt[l] < min_cnt:\n",
    "            flag = True\n",
    "    if flag:\n",
    "        img_subset.append(key)\n",
    "        for l in (set(imglabels[key]) & common_mids):\n",
    "            label_cnt[l] += 1\n",
    "    "
   ]
  },
  {
   "cell_type": "code",
   "execution_count": 19,
   "metadata": {},
   "outputs": [
    {
     "data": {
      "text/plain": [
       "5372"
      ]
     },
     "execution_count": 19,
     "metadata": {},
     "output_type": "execute_result"
    }
   ],
   "source": [
    "len(img_subset)"
   ]
  },
  {
   "cell_type": "code",
   "execution_count": 20,
   "metadata": {},
   "outputs": [],
   "source": [
    "with open('../temp/test_subset_coco_1.pkl', 'wb') as fout:\n",
    "    pickle.dump(img_subset, fout)"
   ]
  },
  {
   "cell_type": "code",
   "execution_count": 22,
   "metadata": {},
   "outputs": [],
   "source": [
    "with open('../temp/oi_coco_common_mids.pkl', 'wb') as fout:\n",
    "    pickle.dump(common_mids, fout)"
   ]
  },
  {
   "cell_type": "code",
   "execution_count": 21,
   "metadata": {},
   "outputs": [
    {
     "data": {
      "text/plain": [
       "{'/m/0l515': 105,\n",
       " '/m/04bcr3': 175,\n",
       " '/m/01yrx': 108,\n",
       " '/m/015qff': 55,\n",
       " '/m/09g1w': 55,\n",
       " '/m/0fx9l': 43,\n",
       " '/m/01lsmm': 6,\n",
       " '/m/029bxz': 51,\n",
       " '/m/03fp41': 103,\n",
       " '/m/0cmx8': 100,\n",
       " '/m/0663v': 101,\n",
       " '/m/01b9xk': 32,\n",
       " '/m/0jy4k': 90,\n",
       " '/m/01c648': 100,\n",
       " '/m/012xff': 11,\n",
       " '/m/07bgp': 100,\n",
       " '/m/01s55n': 42,\n",
       " '/m/03g8mr': 23,\n",
       " '/m/0hnnb': 53,\n",
       " '/m/04dr76w': 100,\n",
       " '/m/0130jx': 97,\n",
       " '/m/01x3z': 43,\n",
       " '/m/0dv9c': 19,\n",
       " '/m/07c52': 100,\n",
       " '/m/080hkjn': 100,\n",
       " '/m/0cvnqh': 0,\n",
       " '/m/01m2v': 106,\n",
       " '/m/0fj52s': 75,\n",
       " '/m/01g317': 488,\n",
       " '/m/04_sv': 100,\n",
       " '/m/01pns0': 56,\n",
       " '/m/03ssj5': 103,\n",
       " '/m/050k8': 102,\n",
       " '/m/07jdr': 100,\n",
       " '/m/01940j': 51,\n",
       " '/m/0cyhj_': 101,\n",
       " '/m/0bwd_0j': 100,\n",
       " '/m/01dws': 60,\n",
       " '/m/0fszt': 101,\n",
       " '/m/02s195': 101,\n",
       " '/m/01mzpv': 118,\n",
       " '/m/09tvcd': 101,\n",
       " '/m/04kkgm': 100,\n",
       " '/m/04ctx': 103,\n",
       " '/m/020lf': 77,\n",
       " '/m/01bjv': 100,\n",
       " '/m/0qjjc': 19,\n",
       " '/m/040b_t': 73,\n",
       " '/m/03bk1': 47,\n",
       " '/m/0898b': 60,\n",
       " '/m/03k3r': 100,\n",
       " '/m/018xm': 103,\n",
       " '/m/0199g': 102,\n",
       " '/m/015p6': 104,\n",
       " '/m/07r04': 100,\n",
       " '/m/06__v': 35,\n",
       " '/m/02crq1': 44,\n",
       " '/m/02pv19': 31,\n",
       " '/m/02zt3': 49,\n",
       " '/m/0dt3t': 95,\n",
       " '/m/0bt9lr': 107,\n",
       " '/m/019jd': 105,\n",
       " '/m/01xq0k1': 100,\n",
       " '/m/06_fw': 100,\n",
       " '/m/09qck': 65,\n",
       " '/m/01rkbr': 101,\n",
       " '/m/03grzl': 41,\n",
       " '/m/019w40': 36,\n",
       " '/m/0hkxq': 100,\n",
       " '/m/071p9': 103,\n",
       " '/m/014j1m': 100,\n",
       " '/m/0kmg4': 85,\n",
       " '/m/0k4j': 185,\n",
       " '/m/0bt_c3': 101}"
      ]
     },
     "execution_count": 21,
     "metadata": {},
     "output_type": "execute_result"
    }
   ],
   "source": [
    "label_cnt"
   ]
  },
  {
   "cell_type": "code",
   "execution_count": null,
   "metadata": {},
   "outputs": [],
   "source": []
  },
  {
   "cell_type": "code",
   "execution_count": 23,
   "metadata": {},
   "outputs": [],
   "source": [
    "with open('../results/det_results_coco_oi.pkl', 'rb') as fin:\n",
    "    det_results_oi = pickle.load(fin)"
   ]
  },
  {
   "cell_type": "code",
   "execution_count": 24,
   "metadata": {},
   "outputs": [],
   "source": [
    "with open('../results/det_results_coco_1.pkl', 'rb') as fin:\n",
    "    det_results_coco = pickle.load(fin)"
   ]
  },
  {
   "cell_type": "code",
   "execution_count": null,
   "metadata": {},
   "outputs": [],
   "source": []
  },
  {
   "cell_type": "code",
   "execution_count": 25,
   "metadata": {},
   "outputs": [],
   "source": [
    "test_img_ids = img_subset"
   ]
  },
  {
   "cell_type": "code",
   "execution_count": null,
   "metadata": {},
   "outputs": [],
   "source": []
  },
  {
   "cell_type": "code",
   "execution_count": null,
   "metadata": {},
   "outputs": [],
   "source": []
  },
  {
   "cell_type": "code",
   "execution_count": 68,
   "metadata": {},
   "outputs": [],
   "source": [
    "iou_thresh = 0.5\n",
    "score_matches = {}\n",
    "for imgid in test_img_ids:\n",
    "    for ii in range(len(annot[imgid])):\n",
    "        gt_label = annot[imgid][ii]['label']\n",
    "        gt_bbox = np.asarray(annot[imgid][ii]['bbox'])[[2,0,3,1]]\n",
    "        \n",
    "        match_oi = []        \n",
    "        for iii in range(det_results_oi[imgid]['num_detections']):\n",
    "            det_label = idx2mid_oi.get(det_results_oi[imgid]['detection_classes'][iii])\n",
    "            det_bbox = det_results_oi[imgid]['detection_boxes'][iii]\n",
    "            det_score = det_results_oi[imgid]['detection_scores'][iii]\n",
    "\n",
    "            if det_label == gt_label:\n",
    "                x_d_len = det_bbox[2] - det_bbox[0]\n",
    "                y_d_len = det_bbox[3] - det_bbox[1]\n",
    "                x_t_len = gt_bbox[2] - gt_bbox[0]\n",
    "                y_t_len = gt_bbox[3] - gt_bbox[1]\n",
    "                x_int_len = max(0, min(gt_bbox[2], det_bbox[2]) - max(gt_bbox[0], det_bbox[0]))\n",
    "                y_int_len = max(0, min(gt_bbox[3], det_bbox[3]) - max(gt_bbox[1], det_bbox[1]))\n",
    "                iou = (x_int_len*y_int_len) / (x_d_len*y_d_len + x_t_len*y_t_len - x_int_len*y_int_len)\n",
    "                if iou >= iou_thresh:\n",
    "                    match_oi.append(det_score)\n",
    "                    \n",
    "        match_coco = []        \n",
    "        for iii in range(det_results_coco[imgid]['num_detections']):\n",
    "            det_label = idx2mid_coco.get(det_results_coco[imgid]['detection_classes'][iii])\n",
    "            det_bbox = det_results_coco[imgid]['detection_boxes'][iii]\n",
    "            det_score = det_results_coco[imgid]['detection_scores'][iii]\n",
    "\n",
    "            if det_label == gt_label:\n",
    "                x_d_len = det_bbox[2] - det_bbox[0]\n",
    "                y_d_len = det_bbox[3] - det_bbox[1]\n",
    "                x_t_len = gt_bbox[2] - gt_bbox[0]\n",
    "                y_t_len = gt_bbox[3] - gt_bbox[1]\n",
    "                x_int_len = max(0, min(gt_bbox[2], det_bbox[2]) - max(gt_bbox[0], det_bbox[0]))\n",
    "                y_int_len = max(0, min(gt_bbox[3], det_bbox[3]) - max(gt_bbox[1], det_bbox[1]))\n",
    "                iou = (x_int_len*y_int_len) / (x_d_len*y_d_len + x_t_len*y_t_len - x_int_len*y_int_len)\n",
    "                if iou >= iou_thresh:\n",
    "                    match_coco.append(det_score)\n",
    "    \n",
    "        if len(match_oi) > 0 and len(match_coco) > 0:\n",
    "            if score_matches.get(gt_label) is None:\n",
    "                score_matches[gt_label] = []\n",
    "            score_matches[gt_label].append((\n",
    "                sum(match_oi) / len(match_oi),\n",
    "                sum(match_coco) / len(match_coco),\n",
    "            ))"
   ]
  },
  {
   "cell_type": "code",
   "execution_count": 69,
   "metadata": {},
   "outputs": [],
   "source": [
    "norm_coef = {}\n",
    "for label in common_mids:\n",
    "    if score_matches.get(label) is None or len(score_matches[label]) < 10:\n",
    "        norm_coef[label] = None\n",
    "        continue\n",
    "    data_oi, data_coco = zip(*score_matches[label])\n",
    "    mean_oi = np.mean(data_oi)\n",
    "    std_oi = np.std(data_oi)\n",
    "    mean_coco = np.mean(data_coco)\n",
    "    std_coco = np.std(data_coco)\n",
    "    norm_coef[label] = {'mean_oi': mean_oi, 'std_oi': std_oi, 'mean_coco': mean_coco, 'std_coco': std_coco}"
   ]
  },
  {
   "cell_type": "code",
   "execution_count": 70,
   "metadata": {},
   "outputs": [
    {
     "data": {
      "text/plain": [
       "{'/m/0l515': {'mean_oi': 0.24453721904197204,\n",
       "  'std_oi': 0.23170631246609405,\n",
       "  'mean_coco': 0.9255695554335215,\n",
       "  'std_coco': 0.1326410801547722},\n",
       " '/m/04bcr3': {'mean_oi': 0.30384650234322264,\n",
       "  'std_oi': 0.23751835900969676,\n",
       "  'mean_coco': 0.7303521578249178,\n",
       "  'std_coco': 0.22304217566309362},\n",
       " '/m/01yrx': {'mean_oi': 0.6540393707381251,\n",
       "  'std_oi': 0.2776119094254477,\n",
       "  'mean_coco': 0.9780693682886306,\n",
       "  'std_coco': 0.0699646847123486},\n",
       " '/m/015qff': {'mean_oi': 0.4885919092482873,\n",
       "  'std_oi': 0.33662533870337447,\n",
       "  'mean_coco': 0.958378264437551,\n",
       "  'std_coco': 0.10061380038541408},\n",
       " '/m/09g1w': None,\n",
       " '/m/0fx9l': None,\n",
       " '/m/01lsmm': None,\n",
       " '/m/029bxz': None,\n",
       " '/m/03fp41': {'mean_oi': 0.2641781068360483,\n",
       "  'std_oi': 0.26321389265460327,\n",
       "  'mean_coco': 0.8271755962672398,\n",
       "  'std_coco': 0.19474689316301422},\n",
       " '/m/0cmx8': None,\n",
       " '/m/0663v': {'mean_oi': 0.326466151867789,\n",
       "  'std_oi': 0.23913285776868295,\n",
       "  'mean_coco': 0.9766479519841907,\n",
       "  'std_coco': 0.07401571683007092},\n",
       " '/m/01b9xk': None,\n",
       " '/m/0jy4k': None,\n",
       " '/m/01c648': {'mean_oi': 0.3361462214143061,\n",
       "  'std_oi': 0.2694852097674039,\n",
       "  'mean_coco': 0.9271402911379419,\n",
       "  'std_coco': 0.1291403963213625},\n",
       " '/m/012xff': None,\n",
       " '/m/07bgp': {'mean_oi': 0.552852001231319,\n",
       "  'std_oi': 0.3553761158493867,\n",
       "  'mean_coco': 0.9676452310880025,\n",
       "  'std_coco': 0.10386819111992049},\n",
       " '/m/01s55n': None,\n",
       " '/m/03g8mr': None,\n",
       " '/m/0hnnb': {'mean_oi': 0.38501416882321754,\n",
       "  'std_oi': 0.28144619258116893,\n",
       "  'mean_coco': 0.951347972895648,\n",
       "  'std_coco': 0.09794099787017467},\n",
       " '/m/04dr76w': {'mean_oi': 0.4994242611619132,\n",
       "  'std_oi': 0.31016000555169976,\n",
       "  'mean_coco': 0.9251320143771726,\n",
       "  'std_coco': 0.15097631208309653},\n",
       " '/m/0130jx': {'mean_oi': 0.2778348190115287,\n",
       "  'std_oi': 0.29342042217077396,\n",
       "  'mean_coco': 0.9469229260811934,\n",
       "  'std_coco': 0.11670685943244377},\n",
       " '/m/01x3z': {'mean_oi': 0.4371933647996263,\n",
       "  'std_oi': 0.22183669615382615,\n",
       "  'mean_coco': 0.9950318358562611,\n",
       "  'std_coco': 0.012546587080289055},\n",
       " '/m/0dv9c': None,\n",
       " '/m/07c52': {'mean_oi': 0.38216003993196257,\n",
       "  'std_oi': 0.27069429453126875,\n",
       "  'mean_coco': 0.9561827063560486,\n",
       "  'std_coco': 0.11299735866042487},\n",
       " '/m/080hkjn': {'mean_oi': 0.6288045355762126,\n",
       "  'std_oi': 0.32487304335605255,\n",
       "  'mean_coco': 0.9081934995483607,\n",
       "  'std_coco': 0.14207749168987296},\n",
       " '/m/0cvnqh': None,\n",
       " '/m/01m2v': {'mean_oi': 0.44151996766867463,\n",
       "  'std_oi': 0.28554648006912176,\n",
       "  'mean_coco': 0.9597352496955706,\n",
       "  'std_coco': 0.1080409203332743},\n",
       " '/m/0fj52s': None,\n",
       " '/m/01g317': {'mean_oi': 0.3786540261650817,\n",
       "  'std_oi': 0.273390229679195,\n",
       "  'mean_coco': 0.9740581266534354,\n",
       "  'std_coco': 0.0866038093494992},\n",
       " '/m/04_sv': {'mean_oi': 0.5599605825126818,\n",
       "  'std_oi': 0.36045954974978345,\n",
       "  'mean_coco': 0.9467075601571338,\n",
       "  'std_coco': 0.10951939833175083},\n",
       " '/m/01pns0': None,\n",
       " '/m/03ssj5': {'mean_oi': 0.47620377614617604,\n",
       "  'std_oi': 0.2988141774467493,\n",
       "  'mean_coco': 0.9528522643360119,\n",
       "  'std_coco': 0.1215062619755455},\n",
       " '/m/050k8': {'mean_oi': 0.5771344862172582,\n",
       "  'std_oi': 0.3165812802636103,\n",
       "  'mean_coco': 0.9135446895609846,\n",
       "  'std_coco': 0.16236878949925895},\n",
       " '/m/07jdr': {'mean_oi': 0.6241444344134746,\n",
       "  'std_oi': 0.307509038011635,\n",
       "  'mean_coco': 0.9776790497764465,\n",
       "  'std_coco': 0.0950730988317849},\n",
       " '/m/01940j': None,\n",
       " '/m/0cyhj_': None,\n",
       " '/m/0bwd_0j': {'mean_oi': 0.658405956741245,\n",
       "  'std_oi': 0.3757929965445943,\n",
       "  'mean_coco': 0.9554169704516728,\n",
       "  'std_coco': 0.11322414771603224},\n",
       " '/m/01dws': {'mean_oi': 0.4354498190593652,\n",
       "  'std_oi': 0.37539369777728826,\n",
       "  'mean_coco': 0.9606544741175391,\n",
       "  'std_coco': 0.12060535606949638},\n",
       " '/m/0fszt': {'mean_oi': 0.26869288314175616,\n",
       "  'std_oi': 0.23916841186266316,\n",
       "  'mean_coco': 0.9405175261902359,\n",
       "  'std_coco': 0.12116268482510699},\n",
       " '/m/02s195': {'mean_oi': 0.48738757875712474,\n",
       "  'std_oi': 0.35351179138604427,\n",
       "  'mean_coco': 0.9633577653068177,\n",
       "  'std_coco': 0.09105547110282104},\n",
       " '/m/01mzpv': {'mean_oi': 0.29388928419249194,\n",
       "  'std_oi': 0.2833003388322801,\n",
       "  'mean_coco': 0.8899864634642234,\n",
       "  'std_coco': 0.16014844436519246},\n",
       " '/m/09tvcd': {'mean_oi': 0.3795945207800342,\n",
       "  'std_oi': 0.26529153004323874,\n",
       "  'mean_coco': 0.9573641928934282,\n",
       "  'std_coco': 0.0916055520165344},\n",
       " '/m/04kkgm': {'mean_oi': 0.3331831987287007,\n",
       "  'std_oi': 0.29923418520900386,\n",
       "  'mean_coco': 0.8291249842676398,\n",
       "  'std_coco': 0.20372695567137689},\n",
       " '/m/04ctx': None,\n",
       " '/m/020lf': None,\n",
       " '/m/01bjv': {'mean_oi': 0.7660450233187275,\n",
       "  'std_oi': 0.32709551514821034,\n",
       "  'mean_coco': 0.9891226638858469,\n",
       "  'std_coco': 0.04001547527405624},\n",
       " '/m/0qjjc': None,\n",
       " '/m/040b_t': None,\n",
       " '/m/03bk1': None,\n",
       " '/m/0898b': None,\n",
       " '/m/03k3r': {'mean_oi': 0.5459819766678521,\n",
       "  'std_oi': 0.31455112873622865,\n",
       "  'mean_coco': 0.9659797478663293,\n",
       "  'std_coco': 0.09131339977288956},\n",
       " '/m/018xm': {'mean_oi': 0.27442406838253874,\n",
       "  'std_oi': 0.27161700785733367,\n",
       "  'mean_coco': 0.8232137549806524,\n",
       "  'std_coco': 0.24490414764037677},\n",
       " '/m/0199g': {'mean_oi': 0.306368863828024,\n",
       "  'std_oi': 0.2569724242588236,\n",
       "  'mean_coco': 0.9287634771379959,\n",
       "  'std_coco': 0.11639186571169442},\n",
       " '/m/015p6': {'mean_oi': 0.7553357256844218,\n",
       "  'std_oi': 0.297859321166976,\n",
       "  'mean_coco': 0.9872453507486281,\n",
       "  'std_coco': 0.055223810908132574},\n",
       " '/m/07r04': {'mean_oi': 0.6289788892809156,\n",
       "  'std_oi': 0.3093134406381138,\n",
       "  'mean_coco': 0.963464267551899,\n",
       "  'std_coco': 0.08723422976040231},\n",
       " '/m/06__v': None,\n",
       " '/m/02crq1': {'mean_oi': 0.16178630845917558,\n",
       "  'std_oi': 0.11228018116938185,\n",
       "  'mean_coco': 0.7959907339377836,\n",
       "  'std_coco': 0.2160691281390664},\n",
       " '/m/02pv19': None,\n",
       " '/m/02zt3': None,\n",
       " '/m/0dt3t': None,\n",
       " '/m/0bt9lr': {'mean_oi': 0.6104162151279315,\n",
       "  'std_oi': 0.30193732062753514,\n",
       "  'mean_coco': 0.9724742404918755,\n",
       "  'std_coco': 0.07946334537664271},\n",
       " '/m/019jd': {'mean_oi': 0.6229700703516512,\n",
       "  'std_oi': 0.31539408309778644,\n",
       "  'mean_coco': 0.897024766156525,\n",
       "  'std_coco': 0.15364602355461063},\n",
       " '/m/01xq0k1': {'mean_oi': 0.4660686115182384,\n",
       "  'std_oi': 0.31976406954503356,\n",
       "  'mean_coco': 0.9567677352163527,\n",
       "  'std_coco': 0.12248662851000215},\n",
       " '/m/06_fw': None,\n",
       " '/m/09qck': None,\n",
       " '/m/01rkbr': {'mean_oi': 0.27069162663224583,\n",
       "  'std_oi': 0.20426285737233082,\n",
       "  'mean_coco': 0.9933111358147401,\n",
       "  'std_coco': 0.019859448762921235},\n",
       " '/m/03grzl': None,\n",
       " '/m/019w40': {'mean_oi': 0.2435416748089585,\n",
       "  'std_oi': 0.26463208297548163,\n",
       "  'mean_coco': 0.9463896947471719,\n",
       "  'std_coco': 0.10256423656984921},\n",
       " '/m/0hkxq': None,\n",
       " '/m/071p9': {'mean_oi': 0.3771721411120289,\n",
       "  'std_oi': 0.3308218772963313,\n",
       "  'mean_coco': 0.8096552067078077,\n",
       "  'std_coco': 0.2083924124659583},\n",
       " '/m/014j1m': None,\n",
       " '/m/0kmg4': {'mean_oi': 0.3324127931234757,\n",
       "  'std_oi': 0.30253662384867935,\n",
       "  'mean_coco': 0.9435920383356795,\n",
       "  'std_coco': 0.10538798772890065},\n",
       " '/m/0k4j': {'mean_oi': 0.6750392688267645,\n",
       "  'std_oi': 0.33710213959958585,\n",
       "  'mean_coco': 0.9375307332528265,\n",
       "  'std_coco': 0.13067853783258432},\n",
       " '/m/0bt_c3': {'mean_oi': 0.1146715612533518,\n",
       "  'std_oi': 0.18333011299516977,\n",
       "  'mean_coco': 0.8244663667207383,\n",
       "  'std_coco': 0.16177523708736813}}"
      ]
     },
     "execution_count": 70,
     "metadata": {},
     "output_type": "execute_result"
    }
   ],
   "source": [
    "norm_coef"
   ]
  },
  {
   "cell_type": "code",
   "execution_count": 71,
   "metadata": {},
   "outputs": [],
   "source": [
    "default_norm_coef = {\n",
    "    key: np.mean([val[key] for val in norm_coef.values() if val is not None])\n",
    "    for key in ['mean_oi', 'std_oi', 'mean_coco', 'std_coco']\n",
    "}"
   ]
  },
  {
   "cell_type": "code",
   "execution_count": 72,
   "metadata": {},
   "outputs": [
    {
     "data": {
      "text/plain": [
       "{'mean_oi': 0.4383073024401371,\n",
       " 'std_oi': 0.288292198679016,\n",
       " 'mean_coco': 0.9285995488837365,\n",
       " 'std_coco': 0.12049593838021926}"
      ]
     },
     "execution_count": 72,
     "metadata": {},
     "output_type": "execute_result"
    }
   ],
   "source": [
    "default_norm_coef"
   ]
  },
  {
   "cell_type": "code",
   "execution_count": 75,
   "metadata": {},
   "outputs": [],
   "source": [
    "for key in norm_coef:\n",
    "    if norm_coef[key] is None:\n",
    "        norm_coef[key] = dict(default_norm_coef)\n",
    "        \n",
    "norm_coef['default'] = dict(default_norm_coef)"
   ]
  },
  {
   "cell_type": "code",
   "execution_count": 76,
   "metadata": {},
   "outputs": [],
   "source": [
    "with open('../temp/norm_coef_1.pkl', 'wb') as fout:\n",
    "    pickle.dump(norm_coef, fout)"
   ]
  },
  {
   "cell_type": "code",
   "execution_count": null,
   "metadata": {},
   "outputs": [],
   "source": []
  }
 ],
 "metadata": {
  "kernelspec": {
   "display_name": "Py3 w/ Tensorflow",
   "language": "python",
   "name": "py3tf"
  },
  "language_info": {
   "codemirror_mode": {
    "name": "ipython",
    "version": 3
   },
   "file_extension": ".py",
   "mimetype": "text/x-python",
   "name": "python",
   "nbconvert_exporter": "python",
   "pygments_lexer": "ipython3",
   "version": "3.6.5"
  }
 },
 "nbformat": 4,
 "nbformat_minor": 2
}
