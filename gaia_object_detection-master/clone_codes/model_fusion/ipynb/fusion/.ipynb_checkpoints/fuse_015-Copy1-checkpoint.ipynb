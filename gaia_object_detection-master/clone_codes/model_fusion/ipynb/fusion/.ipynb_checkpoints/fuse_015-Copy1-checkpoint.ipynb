{
 "cells": [
  {
   "cell_type": "code",
   "execution_count": 1,
   "metadata": {},
   "outputs": [],
   "source": [
    "import os\n",
    "import sys\n",
    "import pickle\n",
    "import csv\n",
    "import copy\n",
    "\n",
    "import lmdb\n",
    "import numpy as np\n",
    "import cv2\n",
    "import matplotlib.pyplot as plt\n",
    "%matplotlib inline"
   ]
  },
  {
   "cell_type": "code",
   "execution_count": 2,
   "metadata": {},
   "outputs": [
    {
     "name": "stderr",
     "output_type": "stream",
     "text": [
      "../../../tfobjdetect/lib/object_detection/utils/visualization_utils.py:25: UserWarning: matplotlib.pyplot as already been imported, this call will have no effect.\n",
      "  import matplotlib; matplotlib.use('Agg')  # pylint: disable=multiple-statements\n"
     ]
    }
   ],
   "source": [
    "sys.path.append(\"../../../tfobjdetect/lib\")\n",
    "from object_detection.utils import label_map_util\n",
    "from object_detection.utils import visualization_utils as vis_util"
   ]
  },
  {
   "cell_type": "markdown",
   "metadata": {},
   "source": [
    "## Loading and preparing label maps"
   ]
  },
  {
   "cell_type": "code",
   "execution_count": 3,
   "metadata": {},
   "outputs": [],
   "source": [
    "label_map_coco = label_map_util.load_labelmap(os.path.join('../../../tfobjdetect/lib/object_detection/data', 'mscoco_label_map.pbtxt'))\n",
    "label_map_oi = label_map_util.load_labelmap(os.path.join('../../../tfobjdetect/lib/object_detection/data', 'oid_bbox_trainable_label_map.pbtxt'))\n"
   ]
  },
  {
   "cell_type": "code",
   "execution_count": 5,
   "metadata": {},
   "outputs": [],
   "source": [
    "with open('../../../wsod/metadata/ont_300_m9/300-classes.csv', 'r') as fin:\n",
    "    labels_ws = [item.strip() for item in fin]\n",
    "labels_ws.append('background')\n",
    "\n",
    "with open('../../../../data/OpenImages/metadata-v4/class-names/class-descriptions.csv', 'r') as fin:\n",
    "    label_map_ws = list(csv.reader(fin))\n"
   ]
  },
  {
   "cell_type": "code",
   "execution_count": 6,
   "metadata": {},
   "outputs": [],
   "source": [
    "coco_airplane, oi_airplane = ('/m/05czz6l', '/m/0cmf2')"
   ]
  },
  {
   "cell_type": "code",
   "execution_count": 7,
   "metadata": {},
   "outputs": [],
   "source": [
    "idx2mid_coco = {}\n",
    "for item in label_map_coco.item:\n",
    "    idx2mid_coco[item.id] = item.name if item.name != coco_airplane else oi_airplane\n",
    "\n",
    "idx2mid_oi = {}\n",
    "for item in label_map_oi.item:\n",
    "    idx2mid_oi[item.id] = item.name\n",
    "\n",
    "idx2mid_ws = {}\n",
    "for i, l in enumerate(labels_ws):\n",
    "    idx2mid_ws[i] = l\n",
    "    \n",
    "mid2idx_coco = {}\n",
    "for item in label_map_coco.item:\n",
    "    mid2idx_coco[item.name if item.name != coco_airplane else oi_airplane] = item.id\n",
    "\n",
    "mid2idx_oi = {}\n",
    "for item in label_map_oi.item:\n",
    "    mid2idx_oi[item.name] = item.id\n",
    "\n",
    "mid2idx_ws = {}\n",
    "for i, l in enumerate(labels_ws):\n",
    "    mid2idx_ws[l] = i\n",
    "    \n",
    "mid2name_coco = {}\n",
    "for item in label_map_coco.item:\n",
    "    mid2name_coco[item.name if item.name != coco_airplane else oi_airplane] = item.display_name\n",
    "\n",
    "mid2name_oi = {}\n",
    "for item in label_map_oi.item:\n",
    "    mid2name_oi[item.name] = item.display_name\n",
    "\n",
    "mid2name_ws = {}\n",
    "for item in label_map_ws:\n",
    "    mid2name_ws[item[0]] = item[1]\n",
    "mid2name_ws['background'] = 'background'\n",
    "\n",
    "name2mid_coco = {}\n",
    "for item in label_map_coco.item:\n",
    "    name2mid_coco[item.display_name] = item.name if item.name != coco_airplane else oi_airplane\n",
    "\n",
    "name2mid_oi = {}\n",
    "for item in label_map_oi.item:\n",
    "    name2mid_oi[item.display_name] = item.name\n",
    "\n",
    "name2mid_ws = {}\n",
    "for item in label_map_ws:\n",
    "    name2mid_ws[item[1].lower().replace(' ', '')] = item[0]\n",
    "name2mid_ws['background'] = 'background'    "
   ]
  },
  {
   "cell_type": "code",
   "execution_count": 7,
   "metadata": {},
   "outputs": [],
   "source": [
    "pascal_mids = set(['/m/0cmf2', '/m/0199g', '/m/015p6', '/m/019jd', '/m/04dr76w', '/m/01bjv', '/m/0k4j', \n",
    "                   '/m/01yrx', '/m/01mzpv', '/m/01xq0k1', '/m/0h8n5zk', '/m/0bt9lr', '/m/03k3r', '/m/04_sv', \n",
    "                   '/m/01g317', '/m/03fp41', '/m/07bgp', '/m/03m3pdh', '/m/07jdr', '/m/02522'])"
   ]
  },
  {
   "cell_type": "code",
   "execution_count": 9,
   "metadata": {},
   "outputs": [
    {
     "ename": "NameError",
     "evalue": "name 'pascal_mids' is not defined",
     "output_type": "error",
     "traceback": [
      "\u001b[0;31m---------------------------------------------------------------------------\u001b[0m",
      "\u001b[0;31mNameError\u001b[0m                                 Traceback (most recent call last)",
      "\u001b[0;32m<ipython-input-9-8574f2867ccf>\u001b[0m in \u001b[0;36m<module>\u001b[0;34m\u001b[0m\n\u001b[1;32m      5\u001b[0m \u001b[0mcommon_mids_coco\u001b[0m \u001b[0;34m=\u001b[0m \u001b[0moi_mids\u001b[0m \u001b[0;34m&\u001b[0m \u001b[0mcoco_mids\u001b[0m\u001b[0;34m\u001b[0m\u001b[0m\n\u001b[1;32m      6\u001b[0m \u001b[0mcommon_mids_ws\u001b[0m \u001b[0;34m=\u001b[0m \u001b[0moi_mids\u001b[0m \u001b[0;34m&\u001b[0m \u001b[0mws_mids\u001b[0m\u001b[0;34m\u001b[0m\u001b[0m\n\u001b[0;32m----> 7\u001b[0;31m \u001b[0mcommon_mids_pascal\u001b[0m \u001b[0;34m=\u001b[0m \u001b[0moi_mids\u001b[0m \u001b[0;34m&\u001b[0m \u001b[0mpascal_mids\u001b[0m\u001b[0;34m\u001b[0m\u001b[0m\n\u001b[0m",
      "\u001b[0;31mNameError\u001b[0m: name 'pascal_mids' is not defined"
     ]
    }
   ],
   "source": [
    "coco_mids = set(list(mid2idx_coco.keys()))\n",
    "oi_mids = set(list(mid2idx_oi.keys()))\n",
    "ws_mids = set(list(mid2idx_ws.keys()))\n",
    "\n",
    "common_mids_coco = oi_mids & coco_mids\n",
    "common_mids_ws = oi_mids & ws_mids\n",
    "common_mids_pascal = oi_mids & pascal_mids"
   ]
  },
  {
   "cell_type": "code",
   "execution_count": 9,
   "metadata": {},
   "outputs": [
    {
     "data": {
      "text/plain": [
       "(20, 80, 545, 282)"
      ]
     },
     "execution_count": 9,
     "metadata": {},
     "output_type": "execute_result"
    }
   ],
   "source": [
    "len(pascal_mids), len(coco_mids), len(oi_mids), len(ws_mids)"
   ]
  },
  {
   "cell_type": "code",
   "execution_count": null,
   "metadata": {},
   "outputs": [],
   "source": []
  },
  {
   "cell_type": "code",
   "execution_count": 10,
   "metadata": {},
   "outputs": [],
   "source": [
    "with open('../../temp/oi_600_hierarchy.pkl', 'rb') as fin:\n",
    "    hierarchy = pickle.load(fin)"
   ]
  },
  {
   "cell_type": "code",
   "execution_count": 23,
   "metadata": {},
   "outputs": [
    {
     "data": {
      "text/plain": [
       "14"
      ]
     },
     "execution_count": 23,
     "metadata": {},
     "output_type": "execute_result"
    }
   ],
   "source": [
    "pascal_aligned = set()\n",
    "for key in pascal_mids:\n",
    "    label = key\n",
    "    while label not in labels_ws:\n",
    "        label = hierarchy.get(label)\n",
    "        if label == None: \n",
    "            break\n",
    "    if label == None:\n",
    "        continue\n",
    "    pascal_aligned.add(label)\n",
    "len(pascal_aligned)"
   ]
  },
  {
   "cell_type": "code",
   "execution_count": 26,
   "metadata": {},
   "outputs": [
    {
     "data": {
      "text/plain": [
       "21"
      ]
     },
     "execution_count": 26,
     "metadata": {},
     "output_type": "execute_result"
    }
   ],
   "source": [
    "coco_aligned = set()\n",
    "for key in coco_mids:\n",
    "    label = key\n",
    "    while label not in labels_ws:\n",
    "        label = hierarchy.get(label)\n",
    "        if label == None: \n",
    "            break\n",
    "    if label == None:\n",
    "        continue\n",
    "    coco_aligned.add(label)\n",
    "len(coco_aligned)    "
   ]
  },
  {
   "cell_type": "code",
   "execution_count": 27,
   "metadata": {},
   "outputs": [
    {
     "data": {
      "text/plain": [
       "82"
      ]
     },
     "execution_count": 27,
     "metadata": {},
     "output_type": "execute_result"
    }
   ],
   "source": [
    "oi_aligned = set()\n",
    "for key in oi_mids:\n",
    "    label = key\n",
    "    while label not in labels_ws:\n",
    "        label = hierarchy.get(label)\n",
    "        if label == None: \n",
    "            break\n",
    "    if label == None:\n",
    "        continue\n",
    "    oi_aligned.add(label)\n",
    "len(oi_aligned)    "
   ]
  },
  {
   "cell_type": "code",
   "execution_count": 28,
   "metadata": {},
   "outputs": [
    {
     "data": {
      "text/plain": [
       "282"
      ]
     },
     "execution_count": 28,
     "metadata": {},
     "output_type": "execute_result"
    }
   ],
   "source": [
    "ws_aligned = set()\n",
    "for key in ws_mids:\n",
    "    label = key\n",
    "    while label not in labels_ws:\n",
    "        label = hierarchy.get(label)\n",
    "        if label == None: \n",
    "            break\n",
    "    if label == None:\n",
    "        continue\n",
    "    ws_aligned.add(label)\n",
    "len(ws_aligned)    "
   ]
  },
  {
   "cell_type": "code",
   "execution_count": null,
   "metadata": {},
   "outputs": [],
   "source": []
  },
  {
   "cell_type": "code",
   "execution_count": 9,
   "metadata": {},
   "outputs": [
    {
     "data": {
      "text/plain": [
       "(75, 81, 20)"
      ]
     },
     "execution_count": 9,
     "metadata": {},
     "output_type": "execute_result"
    }
   ],
   "source": [
    "len(common_mids_coco), len(common_mids_ws), len(common_mids_pascal)"
   ]
  },
  {
   "cell_type": "code",
   "execution_count": 10,
   "metadata": {},
   "outputs": [],
   "source": [
    "with open('../../temp/label_matching_coco_oi_ws_300.pkl', 'wb') as fout:\n",
    "    pickle.dump({\n",
    "        'idx2mid_coco': idx2mid_coco,\n",
    "        'idx2mid_oi': idx2mid_oi,\n",
    "        'idx2mid_ws': idx2mid_ws,\n",
    "        'mid2idx_coco': mid2idx_coco,\n",
    "        'mid2idx_oi': mid2idx_oi,\n",
    "        'mid2idx_ws': mid2idx_ws,\n",
    "        'mid2name_coco': mid2name_coco,\n",
    "        'mid2name_oi': mid2name_oi,\n",
    "        'mid2name_ws': mid2name_ws,\n",
    "        'name2mid_coco': name2mid_coco,\n",
    "        'name2mid_oi': name2mid_oi,\n",
    "        'name2mid_ws': name2mid_ws,\n",
    "        'common_mids_coco': common_mids_coco,\n",
    "        'common_mids_ws': common_mids_ws,\n",
    "    }, fout)"
   ]
  },
  {
   "cell_type": "code",
   "execution_count": 10,
   "metadata": {},
   "outputs": [],
   "source": [
    "with open('../../temp/label_matching_coco_oi_ws.pkl', 'rb') as fin:\n",
    "    temp = pickle.load(fin)"
   ]
  },
  {
   "cell_type": "code",
   "execution_count": 15,
   "metadata": {},
   "outputs": [
    {
     "data": {
      "text/plain": [
       "{'/m/015h_t',\n",
       " '/m/018p4k',\n",
       " '/m/01g3x7',\n",
       " '/m/02wg_p',\n",
       " '/m/0323sq',\n",
       " '/m/076bq',\n",
       " '/m/0f6nr',\n",
       " '/m/0jyfg'}"
      ]
     },
     "execution_count": 15,
     "metadata": {},
     "output_type": "execute_result"
    }
   ],
   "source": [
    "temp['common_mids_ws'] - common_mids_ws"
   ]
  },
  {
   "cell_type": "code",
   "execution_count": 16,
   "metadata": {},
   "outputs": [
    {
     "data": {
      "text/plain": [
       "{'/m/02522'}"
      ]
     },
     "execution_count": 16,
     "metadata": {},
     "output_type": "execute_result"
    }
   ],
   "source": [
    "common_mids_ws - temp['common_mids_ws']"
   ]
  },
  {
   "cell_type": "code",
   "execution_count": 17,
   "metadata": {},
   "outputs": [
    {
     "data": {
      "text/plain": [
       "'Computer monitor'"
      ]
     },
     "execution_count": 17,
     "metadata": {},
     "output_type": "execute_result"
    }
   ],
   "source": [
    "mid2name_ws['/m/02522']"
   ]
  },
  {
   "cell_type": "code",
   "execution_count": 133,
   "metadata": {},
   "outputs": [],
   "source": [
    "with open('../../temp/all_labels_300+.pkl', 'wb') as fout:\n",
    "    pickle.dump(list(coco_mids | oi_mids | ws_mids | pascal_mids), fout)\n"
   ]
  },
  {
   "cell_type": "code",
   "execution_count": 10,
   "metadata": {},
   "outputs": [],
   "source": [
    "mid2name_extended = {}\n",
    "for key in coco_mids:\n",
    "    mid2name_extended[key] = mid2name_coco[key]\n",
    "for key in oi_mids:\n",
    "    mid2name_extended[key] = mid2name_oi[key]\n",
    "\n"
   ]
  },
  {
   "cell_type": "code",
   "execution_count": 11,
   "metadata": {},
   "outputs": [],
   "source": [
    "with open('../../temp/oi_coco_label_names.pkl', 'wb') as fout:\n",
    "    pickle.dump(mid2name_extended, fout)"
   ]
  },
  {
   "cell_type": "code",
   "execution_count": 15,
   "metadata": {},
   "outputs": [],
   "source": [
    "with open('../../temp/all_labels_names_300.csv', 'w') as fout:\n",
    "    for key, val in mid2name_extended.items():\n",
    "        fout.write(f'{key},{val}\\n')"
   ]
  },
  {
   "cell_type": "code",
   "execution_count": null,
   "metadata": {},
   "outputs": [],
   "source": []
  },
  {
   "cell_type": "code",
   "execution_count": null,
   "metadata": {},
   "outputs": [],
   "source": []
  },
  {
   "cell_type": "code",
   "execution_count": null,
   "metadata": {},
   "outputs": [],
   "source": []
  },
  {
   "cell_type": "markdown",
   "metadata": {},
   "source": [
    "## Loading metadata"
   ]
  },
  {
   "cell_type": "code",
   "execution_count": 11,
   "metadata": {},
   "outputs": [],
   "source": [
    "imglabels = {}\n",
    "annot = {}\n",
    "label2imgs = {}\n",
    "\n",
    "with open('../../../../data/OpenImages/metadata-v4/bbox/test-annotations-bbox.csv', 'r') as fin:\n",
    "    for row in csv.reader(fin):\n",
    "        imgid = row[0]\n",
    "        imglb = row[2]\n",
    "        if imglb in (common_mids_coco | common_mids_ws | common_mids_pascal) and row[3] == '1':\n",
    "            if annot.get(imgid) == None:\n",
    "                annot[imgid] = []\n",
    "            annot[imgid].append({\n",
    "                'label': imglb,\n",
    "                'bbox': tuple([float(item) for item in row[4:8]]),\n",
    "            })\n",
    "            if label2imgs.get(imglb) is None:\n",
    "                label2imgs[imglb] = set()\n",
    "            label2imgs[imglb].add(imgid)\n",
    "            if imglabels.get(imgid) == None:\n",
    "                imglabels[imgid] = set()\n",
    "            imglabels[imgid].add(imglb)\n",
    "            "
   ]
  },
  {
   "cell_type": "code",
   "execution_count": null,
   "metadata": {},
   "outputs": [],
   "source": []
  },
  {
   "cell_type": "code",
   "execution_count": null,
   "metadata": {},
   "outputs": [],
   "source": []
  },
  {
   "cell_type": "markdown",
   "metadata": {},
   "source": [
    "## Finding score mappings for Pascal to OI"
   ]
  },
  {
   "cell_type": "code",
   "execution_count": 12,
   "metadata": {},
   "outputs": [],
   "source": [
    "imgids_array = np.asarray(list(imglabels.keys()))\n",
    "np.random.seed(1234)\n",
    "np.random.shuffle(imgids_array)"
   ]
  },
  {
   "cell_type": "code",
   "execution_count": 13,
   "metadata": {},
   "outputs": [],
   "source": [
    "label_cnt = {key: 0 for key in common_mids_pascal}\n",
    "min_cnt = 100\n",
    "img_subset_pascal = []\n",
    "for key in imgids_array:\n",
    "    flag = False\n",
    "    for l in (set(imglabels[key]) & common_mids_pascal):\n",
    "        if label_cnt[l] < min_cnt:\n",
    "            flag = True\n",
    "    if flag:\n",
    "        img_subset_pascal.append(key)\n",
    "        for l in (set(imglabels[key]) & common_mids_pascal):\n",
    "            label_cnt[l] += 1\n",
    "    "
   ]
  },
  {
   "cell_type": "code",
   "execution_count": 14,
   "metadata": {},
   "outputs": [
    {
     "data": {
      "text/plain": [
       "{'/m/04dr76w': 100,\n",
       " '/m/03m3pdh': 100,\n",
       " '/m/07bgp': 100,\n",
       " '/m/03fp41': 101,\n",
       " '/m/0bt9lr': 102,\n",
       " '/m/0h8n5zk': 53,\n",
       " '/m/0cmf2': 101,\n",
       " '/m/0k4j': 168,\n",
       " '/m/01g317': 459,\n",
       " '/m/07jdr': 100,\n",
       " '/m/019jd': 100,\n",
       " '/m/01yrx': 101,\n",
       " '/m/03k3r': 104,\n",
       " '/m/01xq0k1': 100,\n",
       " '/m/01bjv': 100,\n",
       " '/m/04_sv': 100,\n",
       " '/m/01mzpv': 162,\n",
       " '/m/02522': 100,\n",
       " '/m/0199g': 103,\n",
       " '/m/015p6': 100}"
      ]
     },
     "execution_count": 14,
     "metadata": {},
     "output_type": "execute_result"
    }
   ],
   "source": [
    "label_cnt"
   ]
  },
  {
   "cell_type": "code",
   "execution_count": 21,
   "metadata": {},
   "outputs": [
    {
     "data": {
      "text/plain": [
       "1916"
      ]
     },
     "execution_count": 21,
     "metadata": {},
     "output_type": "execute_result"
    }
   ],
   "source": [
    "len(img_subset_pascal)"
   ]
  },
  {
   "cell_type": "code",
   "execution_count": 17,
   "metadata": {},
   "outputs": [],
   "source": [
    "with open('../../temp/test_subset_pascal_1.pkl', 'wb') as fout:\n",
    "    pickle.dump(img_subset_pascal, fout)"
   ]
  },
  {
   "cell_type": "code",
   "execution_count": 12,
   "metadata": {},
   "outputs": [],
   "source": [
    "with open('../../temp/test_subset_pascal_1.pkl', 'rb') as fin:\n",
    "    img_subset_pascal = pickle.load(fin)"
   ]
  },
  {
   "cell_type": "code",
   "execution_count": null,
   "metadata": {},
   "outputs": [],
   "source": []
  },
  {
   "cell_type": "code",
   "execution_count": 13,
   "metadata": {},
   "outputs": [],
   "source": [
    "imgurls = {}\n",
    "with open('../../../../data/OpenImages/metadata-v4/image-urls/test-images-with-rotation.csv', 'r') as fin:\n",
    "    for line in csv.reader(fin):\n",
    "        if imgurls.get(line[0]) != None:\n",
    "            print('duplicate')\n",
    "        imgurls[line[0]] = line[2]"
   ]
  },
  {
   "cell_type": "code",
   "execution_count": null,
   "metadata": {},
   "outputs": [],
   "source": []
  },
  {
   "cell_type": "code",
   "execution_count": 21,
   "metadata": {},
   "outputs": [],
   "source": [
    "img_subset_pascal_urls = [imgurls[key] for key in img_subset_pascal]"
   ]
  },
  {
   "cell_type": "code",
   "execution_count": 37,
   "metadata": {},
   "outputs": [],
   "source": [
    "with open('../../temp/test_subset_pascal_1_urls.txt', 'w') as fout:\n",
    "    for item in img_subset_pascal_urls:\n",
    "        fout.write(item)\n",
    "        fout.write('\\n')"
   ]
  },
  {
   "cell_type": "code",
   "execution_count": null,
   "metadata": {},
   "outputs": [],
   "source": []
  },
  {
   "cell_type": "code",
   "execution_count": 23,
   "metadata": {},
   "outputs": [],
   "source": [
    "with open('../../../tfobjdetect/results/det_results_pascal_oi_1.pkl', 'rb') as fin:\n",
    "    det_results_oi = pickle.load(fin)\n",
    "\n",
    "with open('../../../model_fusion/results/det_results_ram_reference_1', 'rb') as fin:\n",
    "    det_results_pascal = pickle.load(fin)\n",
    "    \n"
   ]
  },
  {
   "cell_type": "code",
   "execution_count": null,
   "metadata": {},
   "outputs": [],
   "source": []
  },
  {
   "cell_type": "code",
   "execution_count": 70,
   "metadata": {},
   "outputs": [],
   "source": [
    "def match_scores(test_img_ids, det_results_1, det_results_2, iou_thresh=0.5):\n",
    "    \n",
    "    score_matches = {}\n",
    "    for imgid in test_img_ids:\n",
    "        for ii in range(len(annot[imgid])):\n",
    "            gt_label = annot[imgid][ii]['label']\n",
    "            gt_bbox = np.asarray(annot[imgid][ii]['bbox'])[[0,2,1,3]]\n",
    "\n",
    "            match_1 = []        \n",
    "            for iii, det in enumerate(det_results_1[imgid]):\n",
    "                det_label = det['label']\n",
    "                det_bbox = det['bbox_normalized']\n",
    "                det_score = det['score']\n",
    "\n",
    "                if det_label == gt_label:\n",
    "                    x_d_len = det_bbox[2] - det_bbox[0]\n",
    "                    y_d_len = det_bbox[3] - det_bbox[1]\n",
    "                    x_t_len = gt_bbox[2] - gt_bbox[0]\n",
    "                    y_t_len = gt_bbox[3] - gt_bbox[1]\n",
    "                    x_int_len = max(0, min(gt_bbox[2], det_bbox[2]) - max(gt_bbox[0], det_bbox[0]))\n",
    "                    y_int_len = max(0, min(gt_bbox[3], det_bbox[3]) - max(gt_bbox[1], det_bbox[1]))\n",
    "                    iou = (x_int_len*y_int_len) / (x_d_len*y_d_len + x_t_len*y_t_len - x_int_len*y_int_len)\n",
    "                    if iou >= iou_thresh:\n",
    "                        match_1.append(det_score)\n",
    "\n",
    "            match_2 = []        \n",
    "            for iii, det in enumerate(det_results_2[imgid]):\n",
    "                det_label = det['label']\n",
    "                det_bbox = det['bbox_normalized']\n",
    "                det_score = det['score']\n",
    "\n",
    "                if det_label == gt_label:\n",
    "                    x_d_len = det_bbox[2] - det_bbox[0]\n",
    "                    y_d_len = det_bbox[3] - det_bbox[1]\n",
    "                    x_t_len = gt_bbox[2] - gt_bbox[0]\n",
    "                    y_t_len = gt_bbox[3] - gt_bbox[1]\n",
    "                    x_int_len = max(0, min(gt_bbox[2], det_bbox[2]) - max(gt_bbox[0], det_bbox[0]))\n",
    "                    y_int_len = max(0, min(gt_bbox[3], det_bbox[3]) - max(gt_bbox[1], det_bbox[1]))\n",
    "                    iou = (x_int_len*y_int_len) / (x_d_len*y_d_len + x_t_len*y_t_len - x_int_len*y_int_len)\n",
    "                    if iou >= iou_thresh:\n",
    "                        match_2.append(det_score)\n",
    "\n",
    "            if len(match_1) > 0 and len(match_2) > 0:\n",
    "                if score_matches.get(gt_label) is None:\n",
    "                    score_matches[gt_label] = []\n",
    "                score_matches[gt_label].append((\n",
    "                    sum(match_1) / len(match_1),\n",
    "                    sum(match_2) / len(match_2),\n",
    "                ))\n",
    "\n",
    "    return score_matches"
   ]
  },
  {
   "cell_type": "code",
   "execution_count": 31,
   "metadata": {},
   "outputs": [],
   "source": [
    "score_matches_pascal = match_scores(img_subset_pascal, det_results_pascal, det_results_oi, iou_thresh=0.5)"
   ]
  },
  {
   "cell_type": "code",
   "execution_count": 17,
   "metadata": {},
   "outputs": [
    {
     "data": {
      "text/plain": [
       "[{'label': '/m/0k4j',\n",
       "  'score': 0.9746142,\n",
       "  'bbox': array([  5,  34, 576, 781], dtype=int32),\n",
       "  'bbox_normalized': array([0.00833333, 0.03777778, 0.96      , 0.86777778]),\n",
       "  'model': 'pascal'},\n",
       " {'label': '/m/0k4j',\n",
       "  'score': 0.87123984,\n",
       "  'bbox': array([ 25, 536, 597, 899], dtype=int32),\n",
       "  'bbox_normalized': array([0.04166667, 0.59555556, 0.995     , 0.99888889]),\n",
       "  'model': 'pascal'}]"
      ]
     },
     "execution_count": 17,
     "metadata": {},
     "output_type": "execute_result"
    }
   ],
   "source": [
    "det_results_pascal['8d83dc2e31aa0a6e']"
   ]
  },
  {
   "cell_type": "code",
   "execution_count": 18,
   "metadata": {},
   "outputs": [
    {
     "data": {
      "text/plain": [
       "[{'label': '/m/050k8',\n",
       "  'score': 0.89435107,\n",
       "  'bbox': array([401, 251, 519, 671], dtype=int32),\n",
       "  'bbox_normalized': array([0.6694671 , 0.27917925, 0.8653171 , 0.74574244], dtype=float32)},\n",
       " {'label': '/m/08dz3q',\n",
       "  'score': 0.8682762,\n",
       "  'bbox': array([ 68,  78, 462, 798], dtype=int32),\n",
       "  'bbox_normalized': array([0.11441796, 0.08777492, 0.7709511 , 0.8871792 ], dtype=float32)},\n",
       " {'label': '/m/0dv5r',\n",
       "  'score': 0.61931264,\n",
       "  'bbox': array([ 22,   0, 537, 900], dtype=int32),\n",
       "  'bbox_normalized': array([0.03817939, 0.        , 0.8959682 , 1.        ], dtype=float32)},\n",
       " {'label': '/m/0k4j',\n",
       "  'score': 0.34799793,\n",
       "  'bbox': array([ 22,  26, 505, 874], dtype=int32),\n",
       "  'bbox_normalized': array([0.03766558, 0.02940145, 0.84200954, 0.9719503 ], dtype=float32)},\n",
       " {'label': '/m/08dz3q',\n",
       "  'score': 0.17895001,\n",
       "  'bbox': array([ 32, 110, 288, 798], dtype=int32),\n",
       "  'bbox_normalized': array([0.05476481, 0.12292234, 0.48001745, 0.8876862 ], dtype=float32)},\n",
       " {'label': '/m/0dv5r',\n",
       "  'score': 0.08720704,\n",
       "  'bbox': array([138,  34, 453, 869], dtype=int32),\n",
       "  'bbox_normalized': array([0.23118132, 0.03844737, 0.7553022 , 0.96583974], dtype=float32)},\n",
       " {'label': '/m/01c648',\n",
       "  'score': 0.082345836,\n",
       "  'bbox': array([170,  12, 574, 896], dtype=int32),\n",
       "  'bbox_normalized': array([0.28354245, 0.01397965, 0.9567425 , 0.99567425], dtype=float32)},\n",
       " {'label': '/m/01prls',\n",
       "  'score': 0.08103695,\n",
       "  'bbox': array([  0,   0, 541, 881], dtype=int32),\n",
       "  'bbox_normalized': array([0.        , 0.        , 0.9030503 , 0.97936445], dtype=float32)},\n",
       " {'label': '/m/01m2v',\n",
       "  'score': 0.065148816,\n",
       "  'bbox': array([485, 136, 593, 855], dtype=int32),\n",
       "  'bbox_normalized': array([0.8085488 , 0.15138072, 0.98911655, 0.95036125], dtype=float32)},\n",
       " {'label': '/m/02rdsp',\n",
       "  'score': 0.05721837,\n",
       "  'bbox': array([180,   5, 589, 859], dtype=int32),\n",
       "  'bbox_normalized': array([0.30104864, 0.00576009, 0.98304254, 0.9545047 ], dtype=float32)},\n",
       " {'label': '/m/01c648',\n",
       "  'score': 0.053385116,\n",
       "  'bbox': array([397,  52, 600, 900], dtype=int32),\n",
       "  'bbox_normalized': array([0.6632463 , 0.05815176, 1.        , 1.        ], dtype=float32)},\n",
       " {'label': '/m/07yv9',\n",
       "  'score': 0.05074566,\n",
       "  'bbox': array([  0,   0, 515, 900], dtype=int32),\n",
       "  'bbox_normalized': array([0.       , 0.       , 0.8597958, 1.       ], dtype=float32)},\n",
       " {'label': '/m/08dz3q',\n",
       "  'score': 0.044701166,\n",
       "  'bbox': array([ 38, 231, 188, 812], dtype=int32),\n",
       "  'bbox_normalized': array([0.06402512, 0.25713566, 0.3139448 , 0.90231246], dtype=float32)},\n",
       " {'label': '/m/050k8',\n",
       "  'score': 0.04357768,\n",
       "  'bbox': array([132,  38, 547, 872], dtype=int32),\n",
       "  'bbox_normalized': array([0.22052813, 0.04245936, 0.91315377, 0.9692135 ], dtype=float32)},\n",
       " {'label': '/m/019dx1',\n",
       "  'score': 0.035438832,\n",
       "  'bbox': array([181,  79, 583, 885], dtype=int32),\n",
       "  'bbox_normalized': array([0.30238488, 0.08887716, 0.97308826, 0.9844439 ], dtype=float32)},\n",
       " {'label': '/m/04yx4',\n",
       "  'score': 0.020577004,\n",
       "  'bbox': array([112,  24, 579, 837], dtype=int32),\n",
       "  'bbox_normalized': array([0.18720362, 0.02772517, 0.96642417, 0.9304826 ], dtype=float32)},\n",
       " {'label': '/m/02rdsp',\n",
       "  'score': 0.018286206,\n",
       "  'bbox': array([351,  47, 572, 814], dtype=int32),\n",
       "  'bbox_normalized': array([0.58605355, 0.05254194, 0.9546356 , 0.9050457 ], dtype=float32)},\n",
       " {'label': '/m/0dftk',\n",
       "  'score': 0.015341357,\n",
       "  'bbox': array([411, 265, 521, 632], dtype=int32),\n",
       "  'bbox_normalized': array([0.6853983 , 0.29503584, 0.8693474 , 0.7022279 ], dtype=float32)},\n",
       " {'label': '/m/050k8',\n",
       "  'score': 0.012564941,\n",
       "  'bbox': array([ 40,   0, 431, 844], dtype=int32),\n",
       "  'bbox_normalized': array([0.06734073, 0.        , 0.7184508 , 0.9386389 ], dtype=float32)},\n",
       " {'label': '/m/02rdsp',\n",
       "  'score': 0.010091922,\n",
       "  'bbox': array([456,  74, 597, 879], dtype=int32),\n",
       "  'bbox_normalized': array([0.7613303 , 0.08326457, 0.9958616 , 0.9771577 ], dtype=float32)},\n",
       " {'label': '/m/08dz3q',\n",
       "  'score': 0.009999974,\n",
       "  'bbox': array([203,  73, 384, 806], dtype=int32),\n",
       "  'bbox_normalized': array([0.33959532, 0.08147439, 0.64163464, 0.89573735], dtype=float32)},\n",
       " {'label': '/m/01m2v',\n",
       "  'score': 0.009054565,\n",
       "  'bbox': array([391, 142, 577, 800], dtype=int32),\n",
       "  'bbox_normalized': array([0.6517825 , 0.15780042, 0.96314645, 0.889242  ], dtype=float32)},\n",
       " {'label': '/m/01m2v',\n",
       "  'score': 0.008663624,\n",
       "  'bbox': array([226, 101, 554, 854], dtype=int32),\n",
       "  'bbox_normalized': array([0.37750405, 0.11301517, 0.9249847 , 0.9497041 ], dtype=float32)},\n",
       " {'label': '/m/0dv5r',\n",
       "  'score': 0.008461412,\n",
       "  'bbox': array([232,  58, 416, 790], dtype=int32),\n",
       "  'bbox_normalized': array([0.38821954, 0.06488075, 0.6943455 , 0.8785366 ], dtype=float32)},\n",
       " {'label': '/m/019jd',\n",
       "  'score': 0.0060347533,\n",
       "  'bbox': array([166,   0, 548, 845], dtype=int32),\n",
       "  'bbox_normalized': array([0.27731705, 0.        , 0.91481215, 0.93946373], dtype=float32)},\n",
       " {'label': '/m/0k4j',\n",
       "  'score': 0.005700908,\n",
       "  'bbox': array([ 19,  39, 304, 843], dtype=int32),\n",
       "  'bbox_normalized': array([0.03207852, 0.04337728, 0.5067251 , 0.93730503], dtype=float32)},\n",
       " {'label': '/m/04yx4',\n",
       "  'score': 0.004838965,\n",
       "  'bbox': array([405, 264, 513, 649], dtype=int32),\n",
       "  'bbox_normalized': array([0.6765203 , 0.29344416, 0.85616046, 0.7219654 ], dtype=float32)},\n",
       " {'label': '/m/08dz3q',\n",
       "  'score': 0.0043212087,\n",
       "  'bbox': array([ 25,  72, 257, 574], dtype=int32),\n",
       "  'bbox_normalized': array([0.04322035, 0.08059908, 0.42985326, 0.63853943], dtype=float32)},\n",
       " {'label': '/m/01g317',\n",
       "  'score': 0.003361046,\n",
       "  'bbox': array([  0,  66, 527, 793], dtype=int32),\n",
       "  'bbox_normalized': array([0.        , 0.07390834, 0.8785142 , 0.8812519 ], dtype=float32)},\n",
       " {'label': '/m/0pg52',\n",
       "  'score': 0.0030281886,\n",
       "  'bbox': array([189,   0, 566, 873], dtype=int32),\n",
       "  'bbox_normalized': array([0.31503755, 0.        , 0.9448763 , 0.9710116 ], dtype=float32)},\n",
       " {'label': '/m/08dz3q',\n",
       "  'score': 0.0029886067,\n",
       "  'bbox': array([175,  74, 549, 823], dtype=int32),\n",
       "  'bbox_normalized': array([0.29303086, 0.08313584, 0.91543055, 0.9154486 ], dtype=float32)},\n",
       " {'label': '/m/0d4v4',\n",
       "  'score': 0.0028196853,\n",
       "  'bbox': array([ 24,  92, 505, 844], dtype=int32),\n",
       "  'bbox_normalized': array([0.04072195, 0.10230082, 0.842002  , 0.9385714 ], dtype=float32)},\n",
       " {'label': '/m/04yx4',\n",
       "  'score': 0.0026484288,\n",
       "  'bbox': array([238,  44, 596, 713], dtype=int32),\n",
       "  'bbox_normalized': array([0.39818543, 0.04960531, 0.99358356, 0.79291785], dtype=float32)},\n",
       " {'label': '/m/0dzct',\n",
       "  'score': 0.002468492,\n",
       "  'bbox': array([219,   0, 589, 859], dtype=int32),\n",
       "  'bbox_normalized': array([0.3657726, 0.       , 0.9820093, 0.9549446], dtype=float32)},\n",
       " {'label': '/m/02rdsp',\n",
       "  'score': 0.0021668805,\n",
       "  'bbox': array([ 93,  16, 486, 895], dtype=int32),\n",
       "  'bbox_normalized': array([0.15547289, 0.01878835, 0.811435  , 0.9947794 ], dtype=float32)},\n",
       " {'label': '/m/0dv5r',\n",
       "  'score': 0.0021568274,\n",
       "  'bbox': array([247,  67, 518, 867], dtype=int32),\n",
       "  'bbox_normalized': array([0.41279787, 0.07529089, 0.8645942 , 0.9634933 ], dtype=float32)},\n",
       " {'label': '/m/01m2v',\n",
       "  'score': 0.002043062,\n",
       "  'bbox': array([403, 275, 526, 672], dtype=int32),\n",
       "  'bbox_normalized': array([0.67324126, 0.30648497, 0.8766794 , 0.7472374 ], dtype=float32)},\n",
       " {'label': '/m/01c648',\n",
       "  'score': 0.0019688704,\n",
       "  'bbox': array([465,  80, 590, 900], dtype=int32),\n",
       "  'bbox_normalized': array([0.7755962 , 0.08930787, 0.9837307 , 1.        ], dtype=float32)},\n",
       " {'label': '/m/0220r2',\n",
       "  'score': 0.0019300297,\n",
       "  'bbox': array([120, 114, 553, 871], dtype=int32),\n",
       "  'bbox_normalized': array([0.20065668, 0.1276822 , 0.9228785 , 0.96823704], dtype=float32)},\n",
       " {'label': '/m/08dz3q',\n",
       "  'score': 0.0018721382,\n",
       "  'bbox': array([256, 210, 370, 460], dtype=int32),\n",
       "  'bbox_normalized': array([0.42756104, 0.23360313, 0.61782575, 0.5112103 ], dtype=float32)},\n",
       " {'label': '/m/054_l',\n",
       "  'score': 0.0018639874,\n",
       "  'bbox': array([ 17,  52, 501, 848], dtype=int32),\n",
       "  'bbox_normalized': array([0.0296991 , 0.0588619 , 0.8355648 , 0.94288677], dtype=float32)},\n",
       " {'label': '/m/050k8',\n",
       "  'score': 0.0017465191,\n",
       "  'bbox': array([222,  76, 389, 880], dtype=int32),\n",
       "  'bbox_normalized': array([0.3704347 , 0.08487152, 0.6486533 , 0.97856903], dtype=float32)},\n",
       " {'label': '/m/0dftk',\n",
       "  'score': 0.0017160438,\n",
       "  'bbox': array([184,   0, 579, 820], dtype=int32),\n",
       "  'bbox_normalized': array([0.30709067, 0.        , 0.96576905, 0.91122997], dtype=float32)},\n",
       " {'label': '/m/0pg52',\n",
       "  'score': 0.0016971799,\n",
       "  'bbox': array([ 14,   7, 512, 842], dtype=int32),\n",
       "  'bbox_normalized': array([0.02452447, 0.00860855, 0.8537694 , 0.9360203 ], dtype=float32)},\n",
       " {'label': '/m/04yx4',\n",
       "  'score': 0.0016664173,\n",
       "  'bbox': array([  7,  29, 435, 849], dtype=int32),\n",
       "  'bbox_normalized': array([0.01223117, 0.03306336, 0.7261704 , 0.9434991 ], dtype=float32)},\n",
       " {'label': '/m/050k8',\n",
       "  'score': 0.0015664123,\n",
       "  'bbox': array([ 35,  37, 472, 851], dtype=int32),\n",
       "  'bbox_normalized': array([0.05919234, 0.04187632, 0.78739625, 0.9458909 ], dtype=float32)},\n",
       " {'label': '/m/07k1x',\n",
       "  'score': 0.0015212093,\n",
       "  'bbox': array([ 64,  81, 509, 830], dtype=int32),\n",
       "  'bbox_normalized': array([0.10679664, 0.09011846, 0.84903944, 0.92246115], dtype=float32)},\n",
       " {'label': '/m/0220r2',\n",
       "  'score': 0.0015174604,\n",
       "  'bbox': array([397, 266, 513, 658], dtype=int32),\n",
       "  'bbox_normalized': array([0.6621496 , 0.2958671 , 0.85567486, 0.7311829 ], dtype=float32)},\n",
       " {'label': '/m/01y9k5',\n",
       "  'score': 0.0015157833,\n",
       "  'bbox': array([184,   0, 590, 900], dtype=int32),\n",
       "  'bbox_normalized': array([0.30786693, 0.        , 0.9848285 , 1.        ], dtype=float32)},\n",
       " {'label': '/m/08dz3q',\n",
       "  'score': 0.0015112241,\n",
       "  'bbox': array([ 12,   4, 217, 309], dtype=int32),\n",
       "  'bbox_normalized': array([0.02036148, 0.0046005 , 0.3621312 , 0.3442755 ], dtype=float32)},\n",
       " {'label': '/m/0fqfqc',\n",
       "  'score': 0.001479251,\n",
       "  'bbox': array([222,   0, 549, 900], dtype=int32),\n",
       "  'bbox_normalized': array([0.37004754, 0.        , 0.91634613, 1.        ], dtype=float32)},\n",
       " {'label': '/m/04yx4',\n",
       "  'score': 0.0014082397,\n",
       "  'bbox': array([368,  97, 582, 727], dtype=int32),\n",
       "  'bbox_normalized': array([0.6147745 , 0.10805509, 0.9705585 , 0.8078578 ], dtype=float32)},\n",
       " {'label': '/m/0174n1',\n",
       "  'score': 0.0013227551,\n",
       "  'bbox': array([402, 255, 539, 673], dtype=int32),\n",
       "  'bbox_normalized': array([0.6700953 , 0.28372154, 0.89989215, 0.7483172 ], dtype=float32)},\n",
       " {'label': '/m/019dx1',\n",
       "  'score': 0.0012716645,\n",
       "  'bbox': array([ 97,  68, 460, 891], dtype=int32),\n",
       "  'bbox_normalized': array([0.16196103, 0.07612223, 0.7667132 , 0.9900167 ], dtype=float32)},\n",
       " {'label': '/m/0h99cwc',\n",
       "  'score': 0.0012516755,\n",
       "  'bbox': array([177,   0, 573, 786], dtype=int32),\n",
       "  'bbox_normalized': array([0.29641294, 0.        , 0.9558396 , 0.87353426], dtype=float32)},\n",
       " {'label': '/m/0138tl',\n",
       "  'score': 0.0012233221,\n",
       "  'bbox': array([ 33,   0, 533, 882], dtype=int32),\n",
       "  'bbox_normalized': array([0.05561571, 0.        , 0.88886374, 0.9802423 ], dtype=float32)},\n",
       " {'label': '/m/08dz3q',\n",
       "  'score': 0.001216569,\n",
       "  'bbox': array([ 86, 291, 535, 824], dtype=int32),\n",
       "  'bbox_normalized': array([0.14433987, 0.32354438, 0.8931294 , 0.9166619 ], dtype=float32)},\n",
       " {'label': '/m/025dyy',\n",
       "  'score': 0.0012134332,\n",
       "  'bbox': array([  0,   0, 554, 891], dtype=int32),\n",
       "  'bbox_normalized': array([0.       , 0.       , 0.9246879, 0.9904414], dtype=float32)},\n",
       " {'label': '/m/0gjkl',\n",
       "  'score': 0.001209422,\n",
       "  'bbox': array([ 59,  18, 528, 900], dtype=int32),\n",
       "  'bbox_normalized': array([0.09836087, 0.02110799, 0.8814386 , 1.        ], dtype=float32)},\n",
       " {'label': '/m/021sj1',\n",
       "  'score': 0.0011978665,\n",
       "  'bbox': array([204,   0, 573, 894], dtype=int32),\n",
       "  'bbox_normalized': array([0.34069446, 0.        , 0.9564559 , 0.9935885 ], dtype=float32)},\n",
       " {'label': '/m/01prls',\n",
       "  'score': 0.0011318784,\n",
       "  'bbox': array([ 13,  14, 298, 866], dtype=int32),\n",
       "  'bbox_normalized': array([0.02303714, 0.01589152, 0.49716476, 0.9630013 ], dtype=float32)},\n",
       " {'label': '/m/04_sv',\n",
       "  'score': 0.0011166228,\n",
       "  'bbox': array([ 20,   0, 518, 900], dtype=int32),\n",
       "  'bbox_normalized': array([0.03469137, 0.        , 0.8649912 , 1.        ], dtype=float32)},\n",
       " {'label': '/m/0dv5r',\n",
       "  'score': 0.0010463445,\n",
       "  'bbox': array([ 77,  24, 394, 739], dtype=int32),\n",
       "  'bbox_normalized': array([0.12849832, 0.02690671, 0.6576135 , 0.8213262 ], dtype=float32)},\n",
       " {'label': '/m/050k8',\n",
       "  'score': 0.0010255709,\n",
       "  'bbox': array([410, 113, 585, 831], dtype=int32),\n",
       "  'bbox_normalized': array([0.6848723 , 0.12572975, 0.9765417 , 0.92411083], dtype=float32)}]"
      ]
     },
     "execution_count": 18,
     "metadata": {},
     "output_type": "execute_result"
    }
   ],
   "source": [
    "det_results_oi['8d83dc2e31aa0a6e']"
   ]
  },
  {
   "cell_type": "code",
   "execution_count": 32,
   "metadata": {},
   "outputs": [
    {
     "data": {
      "text/plain": [
       "[187,\n",
       " 106,\n",
       " 415,\n",
       " 102,\n",
       " 77,\n",
       " 96,\n",
       " 100,\n",
       " 106,\n",
       " 88,\n",
       " 124,\n",
       " 94,\n",
       " 104,\n",
       " 105,\n",
       " 101,\n",
       " 75,\n",
       " 78,\n",
       " 97,\n",
       " 93,\n",
       " 81,\n",
       " 31]"
      ]
     },
     "execution_count": 32,
     "metadata": {},
     "output_type": "execute_result"
    }
   ],
   "source": [
    "[len(item) for item in score_matches_pascal.values()]"
   ]
  },
  {
   "cell_type": "code",
   "execution_count": 33,
   "metadata": {},
   "outputs": [],
   "source": [
    "norm_coef_pascal = {}\n",
    "for label in common_mids_pascal:\n",
    "    if score_matches_pascal.get(label) is None or len(score_matches_pascal[label]) < 6:\n",
    "        raise\n",
    "        norm_coef_coco[label] = None\n",
    "        continue\n",
    "    data_pascal, data_oi = zip(*score_matches_pascal[label])\n",
    "    mean_pascal = np.mean(data_pascal)\n",
    "    std_pascal = np.std(data_pascal)\n",
    "    mean_oi = np.mean(data_oi)\n",
    "    std_oi = np.std(data_oi)\n",
    "    norm_coef_pascal[label] = {'mean_oi': mean_oi, 'std_oi': std_oi, 'mean_pascal': mean_pascal, 'std_pascal': std_pascal}"
   ]
  },
  {
   "cell_type": "code",
   "execution_count": 34,
   "metadata": {},
   "outputs": [],
   "source": [
    "default_norm_coef_pascal = {\n",
    "    key: np.mean([val[key] for val in norm_coef_pascal.values() if val is not None])\n",
    "    for key in ['mean_oi', 'std_oi', 'mean_pascal', 'std_pascal']\n",
    "}"
   ]
  },
  {
   "cell_type": "code",
   "execution_count": 35,
   "metadata": {},
   "outputs": [
    {
     "data": {
      "text/plain": [
       "{'mean_oi': 0.5071827059364947,\n",
       " 'std_oi': 0.27255528173253335,\n",
       " 'mean_pascal': 0.9830542728776936,\n",
       " 'std_pascal': 0.029023391299179514}"
      ]
     },
     "execution_count": 35,
     "metadata": {},
     "output_type": "execute_result"
    }
   ],
   "source": [
    "default_norm_coef_pascal"
   ]
  },
  {
   "cell_type": "code",
   "execution_count": 36,
   "metadata": {},
   "outputs": [],
   "source": [
    "for key in norm_coef_pascal:\n",
    "    if norm_coef_pascal[key] is None:\n",
    "        raise\n",
    "        norm_coef_pascal[key] = dict(default_norm_coef_pascal)\n",
    "        \n",
    "norm_coef_pascal['default'] = dict(default_norm_coef_pascal)"
   ]
  },
  {
   "cell_type": "code",
   "execution_count": 37,
   "metadata": {},
   "outputs": [],
   "source": [
    "with open('../../temp/norm_coef_pascal.pkl', 'wb') as fout:\n",
    "    pickle.dump(norm_coef_pascal, fout)"
   ]
  },
  {
   "cell_type": "code",
   "execution_count": null,
   "metadata": {},
   "outputs": [],
   "source": []
  },
  {
   "cell_type": "markdown",
   "metadata": {},
   "source": [
    "## Finding score mappings for COCO to OI"
   ]
  },
  {
   "cell_type": "code",
   "execution_count": 67,
   "metadata": {},
   "outputs": [],
   "source": [
    "imgids_array = np.asarray(list(imglabels.keys()))\n",
    "np.random.seed(1234)\n",
    "np.random.shuffle(imgids_array)"
   ]
  },
  {
   "cell_type": "code",
   "execution_count": 12,
   "metadata": {},
   "outputs": [],
   "source": [
    "label_cnt = {key: 0 for key in common_mids_coco}\n",
    "min_cnt = 100\n",
    "img_subset_coco = []\n",
    "for key in imgids_array:\n",
    "    flag = False\n",
    "    for l in (set(imglabels[key]) & common_mids_coco):\n",
    "        if label_cnt[l] < min_cnt:\n",
    "            flag = True\n",
    "    if flag:\n",
    "        img_subset_coco.append(key)\n",
    "        for l in (set(imglabels[key]) & common_mids_coco):\n",
    "            label_cnt[l] += 1\n",
    "    "
   ]
  },
  {
   "cell_type": "code",
   "execution_count": 13,
   "metadata": {},
   "outputs": [
    {
     "data": {
      "text/plain": [
       "{'/m/06__v': 37,\n",
       " '/m/019w40': 100,\n",
       " '/m/0k4j': 243,\n",
       " '/m/015p6': 105,\n",
       " '/m/0dv9c': 74,\n",
       " '/m/040b_t': 77,\n",
       " '/m/0cmf2': 103,\n",
       " '/m/01bjv': 100,\n",
       " '/m/015qff': 61,\n",
       " '/m/03k3r': 103,\n",
       " '/m/07r04': 103,\n",
       " '/m/029bxz': 51,\n",
       " '/m/01m2v': 101,\n",
       " '/m/0cvnqh': 0,\n",
       " '/m/01c648': 108,\n",
       " '/m/07c52': 101,\n",
       " '/m/0663v': 100,\n",
       " '/m/01rkbr': 100,\n",
       " '/m/0l515': 104,\n",
       " '/m/04dr76w': 117,\n",
       " '/m/01xq0k1': 100,\n",
       " '/m/0fj52s': 76,\n",
       " '/m/03fp41': 119,\n",
       " '/m/0jy4k': 90,\n",
       " '/m/0cyhj_': 102,\n",
       " '/m/02crq1': 88,\n",
       " '/m/02pv19': 33,\n",
       " '/m/09qck': 68,\n",
       " '/m/018xm': 107,\n",
       " '/m/04ctx': 103,\n",
       " '/m/04_sv': 101,\n",
       " '/m/020lf': 77,\n",
       " '/m/03ssj5': 108,\n",
       " '/m/01dws': 61,\n",
       " '/m/019jd': 103,\n",
       " '/m/0hkxq': 100,\n",
       " '/m/0199g': 104,\n",
       " '/m/0bwd_0j': 100,\n",
       " '/m/03g8mr': 41,\n",
       " '/m/0hnnb': 80,\n",
       " '/m/01g317': 1068,\n",
       " '/m/04bcr3': 225,\n",
       " '/m/02zt3': 54,\n",
       " '/m/09g1w': 57,\n",
       " '/m/01x3z': 46,\n",
       " '/m/01lsmm': 6,\n",
       " '/m/03bk1': 47,\n",
       " '/m/07bgp': 100,\n",
       " '/m/01yrx': 108,\n",
       " '/m/01s55n': 48,\n",
       " '/m/0bt_c3': 104,\n",
       " '/m/02s195': 100,\n",
       " '/m/050k8': 102,\n",
       " '/m/071p9': 108,\n",
       " '/m/0bt9lr': 126,\n",
       " '/m/0dt3t': 100,\n",
       " '/m/03grzl': 70,\n",
       " '/m/06_fw': 100,\n",
       " '/m/0fx9l': 44,\n",
       " '/m/014j1m': 101,\n",
       " '/m/0kmg4': 85,\n",
       " '/m/01b9xk': 32,\n",
       " '/m/0cmx8': 103,\n",
       " '/m/012xff': 12,\n",
       " '/m/01940j': 58,\n",
       " '/m/0qjjc': 19,\n",
       " '/m/09tvcd': 102,\n",
       " '/m/01pns0': 57,\n",
       " '/m/07jdr': 102,\n",
       " '/m/080hkjn': 102,\n",
       " '/m/04kkgm': 100,\n",
       " '/m/0fszt': 108,\n",
       " '/m/0130jx': 101,\n",
       " '/m/01mzpv': 152,\n",
       " '/m/0898b': 60}"
      ]
     },
     "execution_count": 13,
     "metadata": {},
     "output_type": "execute_result"
    }
   ],
   "source": [
    "label_cnt"
   ]
  },
  {
   "cell_type": "code",
   "execution_count": 14,
   "metadata": {},
   "outputs": [
    {
     "data": {
      "text/plain": [
       "5767"
      ]
     },
     "execution_count": 14,
     "metadata": {},
     "output_type": "execute_result"
    }
   ],
   "source": [
    "len(img_subset_coco)"
   ]
  },
  {
   "cell_type": "code",
   "execution_count": 16,
   "metadata": {},
   "outputs": [],
   "source": [
    "with open('../../temp/test_subset_coco_3.pkl', 'wb') as fout:\n",
    "    pickle.dump(img_subset_coco, fout)"
   ]
  },
  {
   "cell_type": "code",
   "execution_count": 38,
   "metadata": {},
   "outputs": [],
   "source": [
    "with open('../../../tfobjdetect/temp/test_subset_coco_3.pkl', 'rb') as fin:\n",
    "    img_subset_coco = pickle.load(fin)"
   ]
  },
  {
   "cell_type": "code",
   "execution_count": null,
   "metadata": {},
   "outputs": [],
   "source": []
  },
  {
   "cell_type": "code",
   "execution_count": 83,
   "metadata": {},
   "outputs": [],
   "source": [
    "with open('../../../tfobjdetect/results/det_results_coco_oi_3_newformat.pkl', 'rb') as fin:\n",
    "    det_results_oi = pickle.load(fin)\n",
    "\n",
    "with open('../../../tfobjdetect/results/det_results_coco_3_newformat.pkl', 'rb') as fin:\n",
    "    det_results_coco = pickle.load(fin)\n",
    "    \n"
   ]
  },
  {
   "cell_type": "code",
   "execution_count": 84,
   "metadata": {},
   "outputs": [],
   "source": [
    "score_matches_coco = match_scores(img_subset_coco, det_results_coco, det_results_oi, iou_thresh=0.5)"
   ]
  },
  {
   "cell_type": "code",
   "execution_count": 85,
   "metadata": {},
   "outputs": [
    {
     "data": {
      "text/plain": [
       "[209,\n",
       " 102,\n",
       " 930,\n",
       " 106,\n",
       " 85,\n",
       " 130,\n",
       " 117,\n",
       " 89,\n",
       " 94,\n",
       " 108,\n",
       " 93,\n",
       " 78,\n",
       " 42,\n",
       " 111,\n",
       " 78,\n",
       " 100,\n",
       " 99,\n",
       " 101,\n",
       " 54,\n",
       " 103,\n",
       " 105,\n",
       " 68,\n",
       " 61,\n",
       " 86,\n",
       " 114,\n",
       " 88,\n",
       " 56,\n",
       " 29,\n",
       " 72,\n",
       " 81,\n",
       " 95,\n",
       " 37,\n",
       " 95,\n",
       " 49,\n",
       " 51,\n",
       " 84,\n",
       " 108,\n",
       " 79,\n",
       " 69,\n",
       " 85,\n",
       " 23,\n",
       " 49,\n",
       " 29,\n",
       " 29,\n",
       " 8]"
      ]
     },
     "execution_count": 85,
     "metadata": {},
     "output_type": "execute_result"
    }
   ],
   "source": [
    "[len(item) for item in score_matches_coco.values()]"
   ]
  },
  {
   "cell_type": "code",
   "execution_count": 87,
   "metadata": {},
   "outputs": [],
   "source": [
    "norm_coef_coco = {}\n",
    "for label in common_mids_coco:\n",
    "    if score_matches_coco.get(label) is None or len(score_matches_coco[label]) < 10:\n",
    "        norm_coef_coco[label] = None\n",
    "        continue\n",
    "    data_coco, data_oi = zip(*score_matches_coco[label])\n",
    "    mean_coco = np.mean(data_coco)\n",
    "    std_coco = np.std(data_coco)\n",
    "    mean_oi = np.mean(data_oi)\n",
    "    std_oi = np.std(data_oi)\n",
    "    norm_coef_coco[label] = {'mean_oi': mean_oi, 'std_oi': std_oi, 'mean_coco': mean_coco, 'std_coco': std_coco}"
   ]
  },
  {
   "cell_type": "code",
   "execution_count": 88,
   "metadata": {},
   "outputs": [],
   "source": [
    "default_norm_coef_coco = {\n",
    "    key: np.mean([val[key] for val in norm_coef_coco.values() if val is not None])\n",
    "    for key in ['mean_oi', 'std_oi', 'mean_coco', 'std_coco']\n",
    "}"
   ]
  },
  {
   "cell_type": "code",
   "execution_count": 89,
   "metadata": {},
   "outputs": [
    {
     "data": {
      "text/plain": [
       "{'mean_oi': 0.4390718101996786,\n",
       " 'std_oi': 0.29126858122679394,\n",
       " 'mean_coco': 0.9284473806328127,\n",
       " 'std_coco': 0.12175547390481509}"
      ]
     },
     "execution_count": 89,
     "metadata": {},
     "output_type": "execute_result"
    }
   ],
   "source": [
    "default_norm_coef_coco"
   ]
  },
  {
   "cell_type": "code",
   "execution_count": 90,
   "metadata": {},
   "outputs": [],
   "source": [
    "for key in norm_coef_coco:\n",
    "    if norm_coef_coco[key] is None:\n",
    "        norm_coef_coco[key] = dict(default_norm_coef_coco)\n",
    "        \n",
    "norm_coef_coco['default'] = dict(default_norm_coef_coco)"
   ]
  },
  {
   "cell_type": "code",
   "execution_count": 91,
   "metadata": {},
   "outputs": [],
   "source": [
    "with open('../../temp/norm_coef_coco.pkl', 'wb') as fout:\n",
    "    pickle.dump(norm_coef_coco, fout)"
   ]
  },
  {
   "cell_type": "code",
   "execution_count": null,
   "metadata": {},
   "outputs": [],
   "source": []
  },
  {
   "cell_type": "markdown",
   "metadata": {},
   "source": [
    "## Finding score mappings for WS to OI"
   ]
  },
  {
   "cell_type": "code",
   "execution_count": 68,
   "metadata": {},
   "outputs": [],
   "source": [
    "label_cnt = {key: 0 for key in common_mids_ws}\n",
    "min_cnt = 100\n",
    "img_subset_ws = []\n",
    "for key in imgids_array:\n",
    "    flag = False\n",
    "    for l in (set(imglabels[key]) & common_mids_ws):\n",
    "        if label_cnt[l] < min_cnt:\n",
    "            flag = True\n",
    "    if flag:\n",
    "        img_subset_ws.append(key)\n",
    "        for l in (set(imglabels[key]) & common_mids_ws):\n",
    "            label_cnt[l] += 1\n",
    "    "
   ]
  },
  {
   "cell_type": "code",
   "execution_count": null,
   "metadata": {},
   "outputs": [],
   "source": [
    "label_cnt"
   ]
  },
  {
   "cell_type": "code",
   "execution_count": 69,
   "metadata": {},
   "outputs": [
    {
     "data": {
      "text/plain": [
       "5657"
      ]
     },
     "execution_count": 69,
     "metadata": {},
     "output_type": "execute_result"
    }
   ],
   "source": [
    "len(img_subset_ws)"
   ]
  },
  {
   "cell_type": "code",
   "execution_count": 70,
   "metadata": {},
   "outputs": [],
   "source": [
    "with open('../../temp/test_subset_ws_3.pkl', 'wb') as fout:\n",
    "    pickle.dump(img_subset_ws, fout)"
   ]
  },
  {
   "cell_type": "code",
   "execution_count": 53,
   "metadata": {},
   "outputs": [],
   "source": [
    "with open('../../temp/test_subset_ws_3.pkl', 'rb') as fin:\n",
    "    img_subset_ws = pickle.load(fin)"
   ]
  },
  {
   "cell_type": "code",
   "execution_count": null,
   "metadata": {},
   "outputs": [],
   "source": []
  },
  {
   "cell_type": "code",
   "execution_count": 60,
   "metadata": {},
   "outputs": [],
   "source": [
    "with open('../../../tfobjdetect/results/det_results_ws_oi_3.pkl', 'rb') as fin:\n",
    "    det_results_oi_2 = pickle.load(fin)\n",
    "\n",
    "with open('../../../wsod/results/det_results_dpl_016.pkl', 'rb') as fin:\n",
    "    det_results_ws = pickle.load(fin)\n",
    "    \n"
   ]
  },
  {
   "cell_type": "code",
   "execution_count": 71,
   "metadata": {},
   "outputs": [],
   "source": [
    "score_matches_ws = match_scores(img_subset_ws, det_results_ws, det_results_oi_2, iou_thresh=0.5)"
   ]
  },
  {
   "cell_type": "code",
   "execution_count": 72,
   "metadata": {},
   "outputs": [
    {
     "data": {
      "text/plain": [
       "[200,\n",
       " 188,\n",
       " 61,\n",
       " 15,\n",
       " 47,\n",
       " 51,\n",
       " 40,\n",
       " 59,\n",
       " 42,\n",
       " 42,\n",
       " 20,\n",
       " 25,\n",
       " 14,\n",
       " 45,\n",
       " 15,\n",
       " 74,\n",
       " 41,\n",
       " 8,\n",
       " 80,\n",
       " 19,\n",
       " 24,\n",
       " 28,\n",
       " 12,\n",
       " 45,\n",
       " 41,\n",
       " 46,\n",
       " 8,\n",
       " 20,\n",
       " 17,\n",
       " 20,\n",
       " 29,\n",
       " 13,\n",
       " 15,\n",
       " 17,\n",
       " 22,\n",
       " 22,\n",
       " 24,\n",
       " 26,\n",
       " 14,\n",
       " 10,\n",
       " 4,\n",
       " 19,\n",
       " 1,\n",
       " 31,\n",
       " 21,\n",
       " 18,\n",
       " 13,\n",
       " 1,\n",
       " 2,\n",
       " 3,\n",
       " 28,\n",
       " 8,\n",
       " 6,\n",
       " 2,\n",
       " 2,\n",
       " 1]"
      ]
     },
     "execution_count": 72,
     "metadata": {},
     "output_type": "execute_result"
    }
   ],
   "source": [
    "[len(item) for item in score_matches_ws.values()]"
   ]
  },
  {
   "cell_type": "code",
   "execution_count": 100,
   "metadata": {},
   "outputs": [
    {
     "data": {
      "text/plain": [
       "False"
      ]
     },
     "execution_count": 100,
     "metadata": {},
     "output_type": "execute_result"
    }
   ],
   "source": [
    "'0e45c6e68cfc3980' in img_subset_ws"
   ]
  },
  {
   "cell_type": "code",
   "execution_count": 101,
   "metadata": {},
   "outputs": [
    {
     "data": {
      "text/plain": [
       "set()"
      ]
     },
     "execution_count": 101,
     "metadata": {},
     "output_type": "execute_result"
    }
   ],
   "source": [
    "set(img_subset_ws) - set(det_results_ws)"
   ]
  },
  {
   "cell_type": "code",
   "execution_count": 102,
   "metadata": {},
   "outputs": [
    {
     "data": {
      "text/plain": [
       "set()"
      ]
     },
     "execution_count": 102,
     "metadata": {},
     "output_type": "execute_result"
    }
   ],
   "source": [
    "set(img_subset_ws) - set(det_results_oi_2)"
   ]
  },
  {
   "cell_type": "code",
   "execution_count": 62,
   "metadata": {},
   "outputs": [],
   "source": [
    "img_subset_ws = list(set(img_subset_ws) - {'0e45c6e68cfc3980'})"
   ]
  },
  {
   "cell_type": "code",
   "execution_count": null,
   "metadata": {},
   "outputs": [],
   "source": []
  },
  {
   "cell_type": "code",
   "execution_count": 73,
   "metadata": {},
   "outputs": [],
   "source": [
    "norm_coef_ws = {}\n",
    "for label in common_mids_ws:\n",
    "    if score_matches_ws.get(label) is None or len(score_matches_ws[label]) < 10:\n",
    "        norm_coef_ws[label] = None\n",
    "        continue\n",
    "    data_ws, data_oi = zip(*score_matches_ws[label])\n",
    "    mean_ws = np.mean(data_ws)\n",
    "    std_ws = np.std(data_ws)\n",
    "    mean_oi = np.mean(data_oi)\n",
    "    std_oi = np.std(data_oi)\n",
    "    norm_coef_ws[label] = {'mean_oi': mean_oi, 'std_oi': std_oi, 'mean_ws': mean_ws, 'std_ws': std_ws}"
   ]
  },
  {
   "cell_type": "code",
   "execution_count": 74,
   "metadata": {},
   "outputs": [],
   "source": [
    "default_norm_coef_ws = {\n",
    "    key: np.mean([val[key] for val in norm_coef_ws.values() if val is not None])\n",
    "    for key in ['mean_oi', 'std_oi', 'mean_ws', 'std_ws']\n",
    "}"
   ]
  },
  {
   "cell_type": "code",
   "execution_count": 75,
   "metadata": {},
   "outputs": [
    {
     "data": {
      "text/plain": [
       "{'mean_oi': 0.46224109194769647,\n",
       " 'std_oi': 0.24823466774166966,\n",
       " 'mean_ws': 0.18110469874515092,\n",
       " 'std_ws': 0.08432637857108899}"
      ]
     },
     "execution_count": 75,
     "metadata": {},
     "output_type": "execute_result"
    }
   ],
   "source": [
    "default_norm_coef_ws"
   ]
  },
  {
   "cell_type": "code",
   "execution_count": 76,
   "metadata": {},
   "outputs": [],
   "source": [
    "data_ws = []\n",
    "data_oi = []\n",
    "for val in score_matches_ws.values():\n",
    "    for a, b in val:\n",
    "        data_ws.append(a)\n",
    "        data_oi.append(b)\n",
    "default_norm_coef_ws_2 = {\n",
    "    'mean_oi': np.mean(data_oi),\n",
    "    'std_oi': np.std(data_oi),\n",
    "    'mean_ws': np.mean(data_ws),\n",
    "    'std_ws': np.std(data_ws),\n",
    "}"
   ]
  },
  {
   "cell_type": "code",
   "execution_count": 77,
   "metadata": {},
   "outputs": [
    {
     "data": {
      "text/plain": [
       "{'mean_oi': 0.48333764624824643,\n",
       " 'std_oi': 0.3168582415282389,\n",
       " 'mean_ws': 0.16676532284106144,\n",
       " 'std_ws': 0.13243493795481692}"
      ]
     },
     "execution_count": 77,
     "metadata": {},
     "output_type": "execute_result"
    }
   ],
   "source": [
    "default_norm_coef_ws_2"
   ]
  },
  {
   "cell_type": "code",
   "execution_count": 78,
   "metadata": {},
   "outputs": [],
   "source": [
    "for key in norm_coef_ws:\n",
    "    norm_coef_ws[key] = dict(default_norm_coef_ws_2)\n",
    "        \n",
    "norm_coef_ws['default'] = dict(default_norm_coef_ws_2)"
   ]
  },
  {
   "cell_type": "code",
   "execution_count": 79,
   "metadata": {},
   "outputs": [
    {
     "data": {
      "text/plain": [
       "'/m/07jdr'"
      ]
     },
     "execution_count": 79,
     "metadata": {},
     "output_type": "execute_result"
    }
   ],
   "source": [
    "name2mid_ws['train']"
   ]
  },
  {
   "cell_type": "code",
   "execution_count": 80,
   "metadata": {},
   "outputs": [
    {
     "data": {
      "text/plain": [
       "{'mean_oi': 0.48333764624824643,\n",
       " 'std_oi': 0.3168582415282389,\n",
       " 'mean_ws': 0.16676532284106144,\n",
       " 'std_ws': 0.13243493795481692}"
      ]
     },
     "execution_count": 80,
     "metadata": {},
     "output_type": "execute_result"
    }
   ],
   "source": [
    "norm_coef_ws['/m/07jdr']"
   ]
  },
  {
   "cell_type": "code",
   "execution_count": 81,
   "metadata": {},
   "outputs": [
    {
     "data": {
      "text/plain": [
       "1.0"
      ]
     },
     "execution_count": 81,
     "metadata": {},
     "output_type": "execute_result"
    }
   ],
   "source": [
    "temp = [1 if norm_coef_ws[key] != None else 0 for key in norm_coef_ws]\n",
    "sum(temp) / len(temp)"
   ]
  },
  {
   "cell_type": "code",
   "execution_count": 82,
   "metadata": {},
   "outputs": [],
   "source": [
    "with open('../../temp/norm_coef_ws.pkl', 'wb') as fout:\n",
    "    pickle.dump(norm_coef_ws, fout)"
   ]
  },
  {
   "cell_type": "code",
   "execution_count": null,
   "metadata": {},
   "outputs": [],
   "source": []
  },
  {
   "cell_type": "code",
   "execution_count": null,
   "metadata": {},
   "outputs": [],
   "source": []
  },
  {
   "cell_type": "code",
   "execution_count": 92,
   "metadata": {},
   "outputs": [
    {
     "data": {
      "text/plain": [
       "(2260, 4479, 1699)"
      ]
     },
     "execution_count": 92,
     "metadata": {},
     "output_type": "execute_result"
    }
   ],
   "source": [
    "(sum([len(val) for val in score_matches_pascal.values()]), \n",
    " sum([len(val) for val in score_matches_coco.values()]), \n",
    " sum([len(val) for val in score_matches_ws.values()]), )"
   ]
  },
  {
   "cell_type": "code",
   "execution_count": null,
   "metadata": {},
   "outputs": [],
   "source": []
  },
  {
   "cell_type": "code",
   "execution_count": null,
   "metadata": {},
   "outputs": [],
   "source": []
  },
  {
   "cell_type": "markdown",
   "metadata": {},
   "source": [
    "## Concatenating the results "
   ]
  },
  {
   "cell_type": "code",
   "execution_count": 93,
   "metadata": {},
   "outputs": [],
   "source": [
    "with open('../../../tfobjdetect/results/det_results_seedling_jpg_oi_1_newformat.pkl', 'rb') as fin:\n",
    "    det_results_oi_seed = pickle.load(fin)\n",
    "\n",
    "with open('../../../tfobjdetect/results/det_results_seedling_jpg_coco_1_newformat.pkl', 'rb') as fin:\n",
    "    det_results_coco_seed = pickle.load(fin)\n",
    "\n",
    "with open('../../results/det_results_ram_seedling_part1_jpg_1', 'rb') as fin:\n",
    "    det_results_pascal_seed = pickle.load(fin)\n",
    "\n",
    "with open('../../../wsod/results/det_results_dpl_017.pkl', 'rb') as fin:\n",
    "    det_results_ws_seed = pickle.load(fin)\n",
    "    \n"
   ]
  },
  {
   "cell_type": "code",
   "execution_count": 94,
   "metadata": {},
   "outputs": [],
   "source": [
    "det_results_concat = {key:[] for key in det_results_oi_seed}\n",
    "for imgid in det_results_oi_seed:\n",
    "    for det in det_results_oi_seed[imgid]:\n",
    "        det_results_concat[imgid].append({\n",
    "            'label': det['label'],\n",
    "            'score': det['score'],\n",
    "            'bbox': det['bbox'],\n",
    "            'bbox_normalized': det['bbox_normalized'],\n",
    "            'model': 'oi',\n",
    "        })\n",
    "\n",
    "for imgid in det_results_coco_seed:\n",
    "    for det in det_results_coco_seed[imgid]:\n",
    "        label = det['label']\n",
    "        score = det['score']\n",
    "            \n",
    "        transformed_score = (((score - norm_coef_coco[label]['mean_coco']) \n",
    "                              * norm_coef_coco[label]['std_oi'] / norm_coef_coco[label]['std_coco'] \n",
    "                              + norm_coef_coco[label]['mean_oi']) \n",
    "                             if label in norm_coef_coco else (\n",
    "                                 ((score - norm_coef_coco['default']['mean_coco']) \n",
    "                                  * norm_coef_coco['default']['std_oi'] / norm_coef_coco['default']['std_coco'] \n",
    "                                  + norm_coef_coco['default']['mean_oi']) \n",
    "                             ))\n",
    "        transformed_score = min(max(transformed_score, 0.), 1.)\n",
    "                \n",
    "        det_results_concat[imgid].append({\n",
    "            'label': label,\n",
    "            'score': transformed_score,\n",
    "            'bbox': det['bbox'],\n",
    "            'bbox_normalized': det['bbox_normalized'],\n",
    "            'model': 'coco',\n",
    "        })\n",
    "        \n",
    "for imgid in det_results_pascal_seed:\n",
    "    for det in det_results_pascal_seed[imgid]:\n",
    "        label = det['label']\n",
    "        score = det['score']\n",
    "            \n",
    "        transformed_score = (((score - norm_coef_pascal[label]['mean_pascal']) \n",
    "                              * norm_coef_pascal[label]['std_oi'] / norm_coef_pascal[label]['std_pascal'] \n",
    "                              + norm_coef_pascal[label]['mean_oi']) \n",
    "                             if label in norm_coef_pascal else (\n",
    "                                 ((score - norm_coef_pascal['default']['mean_pascal']) \n",
    "                                  * norm_coef_pascal['default']['std_oi'] / norm_coef_pascal['default']['std_pascal'] \n",
    "                                  + norm_coef_pascal['default']['mean_oi']) \n",
    "                             ))\n",
    "        transformed_score = min(max(transformed_score, 0.), 1.)\n",
    "                \n",
    "        det_results_concat[imgid].append({\n",
    "            'label': label,\n",
    "            'score': transformed_score,\n",
    "            'bbox': det['bbox'],\n",
    "            'bbox_normalized': det['bbox_normalized'],\n",
    "            'model': 'pascal',\n",
    "        })\n",
    "        \n",
    "for imgid in det_results_ws_seed:\n",
    "    for det in det_results_ws_seed[imgid]:\n",
    "        label = det['label']\n",
    "        score = det['score']\n",
    "            \n",
    "        transformed_score = (((score - norm_coef_ws[label]['mean_ws']) \n",
    "                              * norm_coef_ws[label]['std_oi'] / norm_coef_ws[label]['std_ws'] \n",
    "                              + norm_coef_ws[label]['mean_oi']) \n",
    "                             if label in norm_coef_ws else (\n",
    "                                 ((score - norm_coef_ws['default']['mean_ws']) \n",
    "                                  * norm_coef_ws['default']['std_oi'] / norm_coef_ws['default']['std_ws'] \n",
    "                                  + norm_coef_ws['default']['mean_oi']) \n",
    "                             ))\n",
    "        transformed_score = min(max(transformed_score, 0.), 1.)\n",
    "                \n",
    "        det_results_concat[imgid].append({\n",
    "            'label': label,\n",
    "            'score': transformed_score,\n",
    "            'bbox': det['bbox'],\n",
    "            'bbox_normalized': det['bbox_normalized'],\n",
    "            'model': 'ws',\n",
    "        })\n",
    "        "
   ]
  },
  {
   "cell_type": "code",
   "execution_count": 95,
   "metadata": {},
   "outputs": [],
   "source": [
    "with open('../../results/det_results_concat_15.pkl', 'wb') as fout:\n",
    "    pickle.dump(det_results_concat, fout)"
   ]
  },
  {
   "cell_type": "code",
   "execution_count": null,
   "metadata": {},
   "outputs": [],
   "source": []
  },
  {
   "cell_type": "markdown",
   "metadata": {},
   "source": [
    "## Merging duplicate results"
   ]
  },
  {
   "cell_type": "code",
   "execution_count": 96,
   "metadata": {},
   "outputs": [
    {
     "data": {
      "text/plain": [
       "'\\ndef ioa(det_bbox, gt_bbox):\\n    x_d_len = det_bbox[2] - det_bbox[0]\\n    y_d_len = det_bbox[3] - det_bbox[1]\\n    x_t_len = gt_bbox[2] - gt_bbox[0]\\n    y_t_len = gt_bbox[3] - gt_bbox[1]\\n    x_int_len = max(0, min(gt_bbox[2], det_bbox[2]) - max(gt_bbox[0], det_bbox[0]))\\n    y_int_len = max(0, min(gt_bbox[3], det_bbox[3]) - max(gt_bbox[1], det_bbox[1]))\\n    iou = (x_int_len*y_int_len) / (x_d_len*y_d_len)\\n    return iou\\n'"
      ]
     },
     "execution_count": 96,
     "metadata": {},
     "output_type": "execute_result"
    }
   ],
   "source": [
    "def iou(det_bbox, gt_bbox):\n",
    "    x_d_len = det_bbox[2] - det_bbox[0]\n",
    "    y_d_len = det_bbox[3] - det_bbox[1]\n",
    "    x_t_len = gt_bbox[2] - gt_bbox[0]\n",
    "    y_t_len = gt_bbox[3] - gt_bbox[1]\n",
    "    x_int_len = max(0, min(gt_bbox[2], det_bbox[2]) - max(gt_bbox[0], det_bbox[0]))\n",
    "    y_int_len = max(0, min(gt_bbox[3], det_bbox[3]) - max(gt_bbox[1], det_bbox[1]))\n",
    "    iou = (x_int_len*y_int_len) / (x_d_len*y_d_len + x_t_len*y_t_len - x_int_len*y_int_len)\n",
    "    return iou\n",
    "'''\n",
    "def ioa(det_bbox, gt_bbox):\n",
    "    x_d_len = det_bbox[2] - det_bbox[0]\n",
    "    y_d_len = det_bbox[3] - det_bbox[1]\n",
    "    x_t_len = gt_bbox[2] - gt_bbox[0]\n",
    "    y_t_len = gt_bbox[3] - gt_bbox[1]\n",
    "    x_int_len = max(0, min(gt_bbox[2], det_bbox[2]) - max(gt_bbox[0], det_bbox[0]))\n",
    "    y_int_len = max(0, min(gt_bbox[3], det_bbox[3]) - max(gt_bbox[1], det_bbox[1]))\n",
    "    iou = (x_int_len*y_int_len) / (x_d_len*y_d_len)\n",
    "    return iou\n",
    "'''"
   ]
  },
  {
   "cell_type": "code",
   "execution_count": 97,
   "metadata": {},
   "outputs": [],
   "source": [
    "_STAT_num_same_merged = 0\n",
    "_STAT_num_diff_merged = 0\n",
    "\n",
    "thresh_same = 0.7\n",
    "thresh_diff = 0.9\n",
    "\n",
    "det_results_merged = {}\n",
    "for imgid, det in det_results_concat.items():\n",
    "    det_results_merged[imgid] = []\n",
    "    groups = []\n",
    "    for ii in range(len(det)):\n",
    "        matching_gr = None\n",
    "        for gr in groups:\n",
    "            for item in gr:\n",
    "                if det[ii]['label'] == det[item]['label'] and iou(det[ii]['bbox'], det[item]['bbox']) > thresh_same:\n",
    "                    if matching_gr == None:\n",
    "                        gr.append(ii)\n",
    "                        matching_gr = gr\n",
    "                    else:\n",
    "                        matching_gr += gr\n",
    "                        gr.clear()\n",
    "                    _STAT_num_same_merged += 1\n",
    "                    break\n",
    "                if det[ii]['label'] != det[item]['label'] and iou(det[ii]['bbox'], det[item]['bbox']) > thresh_diff:\n",
    "                    if matching_gr == None:\n",
    "                        gr.append(ii)\n",
    "                        matching_gr = gr\n",
    "                    else:\n",
    "                        matching_gr += gr\n",
    "                        gr.clear()\n",
    "                    _STAT_num_diff_merged += 1\n",
    "                    break\n",
    "                \n",
    "        if matching_gr == None:\n",
    "            groups.append([ii])\n",
    "            \n",
    "    for g in groups:\n",
    "        if len(g) == 0:\n",
    "            continue\n",
    "        suff = '/J' if len(g) > 1 else ''\n",
    "        scores = [det[ii]['score'] if det[ii]['model'] != 'ws' else 0. for ii in g]\n",
    "        iii = np.argmax(scores)\n",
    "        det_results_merged[imgid].append({\n",
    "            'label': det[g[iii]]['label'],\n",
    "            'score': det[g[iii]]['score'],\n",
    "            'bbox': det[g[iii]]['bbox'],\n",
    "            'bbox_normalized': det[g[iii]]['bbox_normalized'],\n",
    "            'model': det[g[iii]]['model'] + suff,            \n",
    "        })"
   ]
  },
  {
   "cell_type": "code",
   "execution_count": 98,
   "metadata": {},
   "outputs": [
    {
     "data": {
      "text/plain": [
       "(13755, 52692)"
      ]
     },
     "execution_count": 98,
     "metadata": {},
     "output_type": "execute_result"
    }
   ],
   "source": [
    "_STAT_num_same_merged, _STAT_num_diff_merged"
   ]
  },
  {
   "cell_type": "code",
   "execution_count": null,
   "metadata": {},
   "outputs": [],
   "source": []
  },
  {
   "cell_type": "code",
   "execution_count": 99,
   "metadata": {},
   "outputs": [],
   "source": [
    "with open('../../results/det_results_merged_15.pkl', 'wb') as fout:\n",
    "    pickle.dump(det_results_merged, fout)"
   ]
  },
  {
   "cell_type": "code",
   "execution_count": null,
   "metadata": {},
   "outputs": [],
   "source": [
    "\n"
   ]
  },
  {
   "cell_type": "code",
   "execution_count": null,
   "metadata": {},
   "outputs": [],
   "source": []
  },
  {
   "cell_type": "code",
   "execution_count": null,
   "metadata": {},
   "outputs": [],
   "source": []
  },
  {
   "cell_type": "code",
   "execution_count": null,
   "metadata": {},
   "outputs": [],
   "source": []
  }
 ],
 "metadata": {
  "kernelspec": {
   "display_name": "Py3 w/ Tensorflow (Newest)",
   "language": "python",
   "name": "py3tf_new"
  },
  "language_info": {
   "codemirror_mode": {
    "name": "ipython",
    "version": 3
   },
   "file_extension": ".py",
   "mimetype": "text/x-python",
   "name": "python",
   "nbconvert_exporter": "python",
   "pygments_lexer": "ipython3",
   "version": "3.6.6"
  }
 },
 "nbformat": 4,
 "nbformat_minor": 2
}
