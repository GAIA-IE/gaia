{
 "cells": [
  {
   "cell_type": "code",
   "execution_count": 1,
   "metadata": {},
   "outputs": [],
   "source": [
    "import os\n",
    "import sys\n",
    "import pickle\n",
    "import csv\n",
    "import numpy as np"
   ]
  },
  {
   "cell_type": "code",
   "execution_count": null,
   "metadata": {},
   "outputs": [],
   "source": []
  },
  {
   "cell_type": "code",
   "execution_count": null,
   "metadata": {},
   "outputs": [],
   "source": []
  },
  {
   "cell_type": "markdown",
   "metadata": {},
   "source": [
    "## Concatenating the results "
   ]
  },
  {
   "cell_type": "code",
   "execution_count": 2,
   "metadata": {},
   "outputs": [],
   "source": [
    "with open('../../../tfobjdetect/results/det_results_m18_dryrun_jpg_oi_1_filtered.pkl', 'rb') as fin:\n",
    "    det_results_oi = pickle.load(fin)\n",
    "\n",
    "with open('../../../tfobjdetect/results/det_results_m18_dryrun_jpg_coco_1_filtered.pkl', 'rb') as fin:\n",
    "    det_results_coco = pickle.load(fin)\n",
    "\n",
    "with open('../../../wsod/results/det_results_dpl_030.pkl', 'rb') as fin:\n",
    "    det_results_ws = pickle.load(fin)\n",
    "    \n"
   ]
  },
  {
   "cell_type": "code",
   "execution_count": 3,
   "metadata": {},
   "outputs": [],
   "source": [
    "with open('../../../wsod/metadata/ont_m18/mapping.pkl', 'rb') as fin:\n",
    "    mid2ont, syn2mid, single_mids, mid2syn, class2ont, ont2name, class_names = pickle.load(fin)  "
   ]
  },
  {
   "cell_type": "code",
   "execution_count": null,
   "metadata": {},
   "outputs": [],
   "source": []
  },
  {
   "cell_type": "code",
   "execution_count": 4,
   "metadata": {},
   "outputs": [],
   "source": [
    "label_set = set()\n",
    "for imgid, det_list in det_results_oi.items():\n",
    "    for det in det_list:\n",
    "        if det['label'] in mid2syn:\n",
    "            label_set.add(det['label'])\n",
    "            det['label'] = mid2syn[det['label']]"
   ]
  },
  {
   "cell_type": "code",
   "execution_count": 5,
   "metadata": {},
   "outputs": [
    {
     "data": {
      "text/plain": [
       "set()"
      ]
     },
     "execution_count": 5,
     "metadata": {},
     "output_type": "execute_result"
    }
   ],
   "source": [
    "label_set"
   ]
  },
  {
   "cell_type": "code",
   "execution_count": 6,
   "metadata": {},
   "outputs": [],
   "source": [
    "label_set = set()\n",
    "for imgid, det_list in det_results_coco.items():\n",
    "    for det in det_list:\n",
    "        if det['label'] in mid2syn:\n",
    "            label_set.add(det['label'])\n",
    "            det['label'] = mid2syn[det['label']]"
   ]
  },
  {
   "cell_type": "code",
   "execution_count": 7,
   "metadata": {},
   "outputs": [
    {
     "data": {
      "text/plain": [
       "set()"
      ]
     },
     "execution_count": 7,
     "metadata": {},
     "output_type": "execute_result"
    }
   ],
   "source": [
    "label_set"
   ]
  },
  {
   "cell_type": "code",
   "execution_count": null,
   "metadata": {},
   "outputs": [],
   "source": []
  },
  {
   "cell_type": "code",
   "execution_count": 8,
   "metadata": {},
   "outputs": [],
   "source": [
    "det_results_concat = {}\n",
    "for imgid in det_results_oi:\n",
    "    if imgid not in det_results_concat:\n",
    "        det_results_concat[imgid] = []\n",
    "    for det in det_results_oi[imgid]:\n",
    "        det_results_concat[imgid].append({\n",
    "            'label': det['label'],\n",
    "            'score': det['score'],\n",
    "            'bbox': det['bbox'],\n",
    "            'bbox_normalized': det['bbox_normalized'],\n",
    "            'model': 'oi',\n",
    "        })\n",
    "\n",
    "for imgid in det_results_coco:\n",
    "    if imgid not in det_results_concat:\n",
    "        det_results_concat[imgid] = []\n",
    "        print(\"WARNING: image in coco not in oi\")\n",
    "    for det in det_results_coco[imgid]:\n",
    "        det_results_concat[imgid].append({\n",
    "            'label': det['label'],\n",
    "            'score': det['score'],\n",
    "            'bbox': det['bbox'],\n",
    "            'bbox_normalized': det['bbox_normalized'],\n",
    "            'model': 'coco',\n",
    "        })\n",
    "                \n",
    "for imgid in det_results_ws:\n",
    "    if imgid not in det_results_concat:\n",
    "        det_results_concat[imgid] = []\n",
    "        print(\"WARNING: image in ws not in oi\")\n",
    "    for det in det_results_ws[imgid]:\n",
    "        det_results_concat[imgid].append({\n",
    "            'label': det['label'],\n",
    "            'score': det['score'],\n",
    "            'bbox': det['bbox'],\n",
    "            'bbox_normalized': det['bbox_normalized'],\n",
    "            'model': 'ws',\n",
    "        })\n",
    "        "
   ]
  },
  {
   "cell_type": "code",
   "execution_count": 19,
   "metadata": {},
   "outputs": [],
   "source": [
    "with open('../../results/det_results_concat_28.pkl', 'wb') as fout:\n",
    "    pickle.dump(det_results_concat, fout)"
   ]
  },
  {
   "cell_type": "code",
   "execution_count": null,
   "metadata": {},
   "outputs": [],
   "source": []
  },
  {
   "cell_type": "markdown",
   "metadata": {},
   "source": [
    "## Merging duplicate results"
   ]
  },
  {
   "cell_type": "code",
   "execution_count": 9,
   "metadata": {},
   "outputs": [
    {
     "data": {
      "text/plain": [
       "'\\ndef ioa(det_bbox, gt_bbox):\\n    x_d_len = det_bbox[2] - det_bbox[0]\\n    y_d_len = det_bbox[3] - det_bbox[1]\\n    x_t_len = gt_bbox[2] - gt_bbox[0]\\n    y_t_len = gt_bbox[3] - gt_bbox[1]\\n    x_int_len = max(0, min(gt_bbox[2], det_bbox[2]) - max(gt_bbox[0], det_bbox[0]))\\n    y_int_len = max(0, min(gt_bbox[3], det_bbox[3]) - max(gt_bbox[1], det_bbox[1]))\\n    iou = (x_int_len*y_int_len) / (x_d_len*y_d_len)\\n    return iou\\n'"
      ]
     },
     "execution_count": 9,
     "metadata": {},
     "output_type": "execute_result"
    }
   ],
   "source": [
    "def iou(det_bbox, gt_bbox):\n",
    "    x_d_len = det_bbox[2] - det_bbox[0]\n",
    "    y_d_len = det_bbox[3] - det_bbox[1]\n",
    "    x_t_len = gt_bbox[2] - gt_bbox[0]\n",
    "    y_t_len = gt_bbox[3] - gt_bbox[1]\n",
    "    x_int_len = max(0, min(gt_bbox[2], det_bbox[2]) - max(gt_bbox[0], det_bbox[0]))\n",
    "    y_int_len = max(0, min(gt_bbox[3], det_bbox[3]) - max(gt_bbox[1], det_bbox[1]))\n",
    "    iou = (x_int_len*y_int_len) / (x_d_len*y_d_len + x_t_len*y_t_len - x_int_len*y_int_len)\n",
    "    return iou\n",
    "'''\n",
    "def ioa(det_bbox, gt_bbox):\n",
    "    x_d_len = det_bbox[2] - det_bbox[0]\n",
    "    y_d_len = det_bbox[3] - det_bbox[1]\n",
    "    x_t_len = gt_bbox[2] - gt_bbox[0]\n",
    "    y_t_len = gt_bbox[3] - gt_bbox[1]\n",
    "    x_int_len = max(0, min(gt_bbox[2], det_bbox[2]) - max(gt_bbox[0], det_bbox[0]))\n",
    "    y_int_len = max(0, min(gt_bbox[3], det_bbox[3]) - max(gt_bbox[1], det_bbox[1]))\n",
    "    iou = (x_int_len*y_int_len) / (x_d_len*y_d_len)\n",
    "    return iou\n",
    "'''"
   ]
  },
  {
   "cell_type": "code",
   "execution_count": 12,
   "metadata": {},
   "outputs": [],
   "source": [
    "_STAT_num_same_merged = 0\n",
    "_STAT_num_diff_merged = 0\n",
    "\n",
    "thresh_same = 0.5\n",
    "thresh_diff = 0.7\n",
    "\n",
    "all_groups = {}\n",
    "for imgid, det in det_results_concat.items():\n",
    "    groups = []\n",
    "    for ii in range(len(det)):\n",
    "        matching_gr = None\n",
    "        for gr in groups:\n",
    "            for item in gr:\n",
    "                if det[ii]['label'] == det[item]['label'] and iou(det[ii]['bbox'], det[item]['bbox']) > thresh_same:\n",
    "                    if matching_gr == None:\n",
    "                        gr.append(ii)\n",
    "                        matching_gr = gr\n",
    "                    else:\n",
    "                        matching_gr += gr\n",
    "                        gr.clear()\n",
    "                    _STAT_num_same_merged += 1\n",
    "                    break\n",
    "                if det[ii]['label'] != det[item]['label'] and iou(det[ii]['bbox'], det[item]['bbox']) > thresh_diff:\n",
    "                    if matching_gr == None:\n",
    "                        gr.append(ii)\n",
    "                        matching_gr = gr\n",
    "                    else:\n",
    "                        matching_gr += gr\n",
    "                        gr.clear()\n",
    "                    _STAT_num_diff_merged += 1\n",
    "                    break\n",
    "                \n",
    "        if matching_gr == None:\n",
    "            groups.append([ii])\n",
    "    all_groups[imgid] = groups\n",
    "            \n"
   ]
  },
  {
   "cell_type": "code",
   "execution_count": 13,
   "metadata": {},
   "outputs": [
    {
     "data": {
      "text/plain": [
       "(11867, 25903)"
      ]
     },
     "execution_count": 13,
     "metadata": {},
     "output_type": "execute_result"
    }
   ],
   "source": [
    "_STAT_num_same_merged, _STAT_num_diff_merged"
   ]
  },
  {
   "cell_type": "code",
   "execution_count": null,
   "metadata": {},
   "outputs": [],
   "source": []
  },
  {
   "cell_type": "code",
   "execution_count": 14,
   "metadata": {},
   "outputs": [],
   "source": [
    "with open('../../../wsod/metadata/ont_m18/class_names_all.pkl', 'rb') as fin:\n",
    "    mid2name_all = pickle.load(fin)"
   ]
  },
  {
   "cell_type": "code",
   "execution_count": 15,
   "metadata": {},
   "outputs": [],
   "source": [
    "mid2level = {mid: len(name.split(' ')[0].split('.')) for mid, name in mid2name_all.items()}"
   ]
  },
  {
   "cell_type": "code",
   "execution_count": null,
   "metadata": {},
   "outputs": [],
   "source": []
  },
  {
   "cell_type": "code",
   "execution_count": 22,
   "metadata": {},
   "outputs": [],
   "source": [
    "box_preference = {'coco': 2.0, 'oi': 2.0, 'ws': 1.0}\n",
    "class_preference = {'coco': 1.0, 'oi': 3.0, 'ws': 2.0}\n",
    "\n",
    "det_results_merged = {}\n",
    "for imgid, groups in all_groups.items():\n",
    "    det_results_merged[imgid] = []\n",
    "    det = det_results_concat[imgid]\n",
    "    for g in groups:\n",
    "        if len(g) == 0:\n",
    "            continue\n",
    "        suff = '/J' if len(g) > 1 else ''\n",
    "\n",
    "        mod_scores = [det[i]['score'] + (10.0 * class_preference[det[i]['model']]) + (100.0 * mid2level[det[i]['label']]) for i in g]\n",
    "        imax = np.argmax(mod_scores)\n",
    "        label = det[g[imax]]['label']\n",
    "        model = det[g[imax]]['model'] + suff\n",
    "\n",
    "        mod_scores = [det[i]['score'] + (10.0 * box_preference[det[i]['model']]) for i in g]\n",
    "        imax = np.argmax(mod_scores)\n",
    "        box = det[g[imax]]['bbox']\n",
    "        box_norm = det[g[imax]]['bbox_normalized']\n",
    "            \n",
    "        scores = [det[ii]['score'] for ii in g]\n",
    "        score = np.max(scores)\n",
    "        \n",
    "        if score < 0.01:\n",
    "            continue\n",
    "        \n",
    "        det_results_merged[imgid].append({\n",
    "            'label': label,\n",
    "            'score': score,\n",
    "            'bbox': box,\n",
    "            'bbox_normalized': box_norm,\n",
    "            'model': model,            \n",
    "        })"
   ]
  },
  {
   "cell_type": "code",
   "execution_count": 23,
   "metadata": {},
   "outputs": [],
   "source": [
    "with open('../../results/det_results_merged_28.pkl', 'wb') as fout:\n",
    "    pickle.dump(det_results_merged, fout)"
   ]
  },
  {
   "cell_type": "code",
   "execution_count": null,
   "metadata": {},
   "outputs": [],
   "source": []
  },
  {
   "cell_type": "code",
   "execution_count": null,
   "metadata": {},
   "outputs": [],
   "source": []
  },
  {
   "cell_type": "code",
   "execution_count": null,
   "metadata": {},
   "outputs": [],
   "source": []
  }
 ],
 "metadata": {
  "kernelspec": {
   "display_name": "Py3 w/ Tensorflow",
   "language": "python",
   "name": "py3tf"
  },
  "language_info": {
   "codemirror_mode": {
    "name": "ipython",
    "version": 3
   },
   "file_extension": ".py",
   "mimetype": "text/x-python",
   "name": "python",
   "nbconvert_exporter": "python",
   "pygments_lexer": "ipython3",
   "version": "3.6.5"
  }
 },
 "nbformat": 4,
 "nbformat_minor": 2
}
