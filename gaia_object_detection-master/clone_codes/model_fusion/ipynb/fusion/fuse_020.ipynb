{
 "cells": [
  {
   "cell_type": "code",
   "execution_count": 1,
   "metadata": {},
   "outputs": [],
   "source": [
    "import os\n",
    "import sys\n",
    "import pickle\n",
    "import csv\n",
    "import numpy as np"
   ]
  },
  {
   "cell_type": "code",
   "execution_count": 2,
   "metadata": {},
   "outputs": [],
   "source": [
    "with open('../../temp/norm_coef_pascal.pkl', 'rb') as fin:\n",
    "    norm_coef_pascal = pickle.load(fin)"
   ]
  },
  {
   "cell_type": "code",
   "execution_count": 3,
   "metadata": {},
   "outputs": [],
   "source": [
    "with open('../../temp/norm_coef_coco.pkl', 'rb') as fin:\n",
    "    norm_coef_coco = pickle.load(fin)"
   ]
  },
  {
   "cell_type": "code",
   "execution_count": 4,
   "metadata": {},
   "outputs": [],
   "source": [
    "with open('../../temp/norm_coef_ws.pkl', 'rb') as fin:\n",
    "    norm_coef_ws = pickle.load(fin)"
   ]
  },
  {
   "cell_type": "code",
   "execution_count": null,
   "metadata": {},
   "outputs": [],
   "source": []
  },
  {
   "cell_type": "code",
   "execution_count": null,
   "metadata": {},
   "outputs": [],
   "source": []
  },
  {
   "cell_type": "markdown",
   "metadata": {},
   "source": [
    "## Concatenating the results "
   ]
  },
  {
   "cell_type": "code",
   "execution_count": 34,
   "metadata": {},
   "outputs": [],
   "source": [
    "with open('../../../tfobjdetect/results/det_results_m9_jpg_oi_1.pkl', 'rb') as fin:\n",
    "    det_results_oi_seed = pickle.load(fin)\n",
    "\n",
    "with open('../../../tfobjdetect/results/det_results_m9_jpg_coco_1.pkl', 'rb') as fin:\n",
    "    det_results_coco_seed = pickle.load(fin)\n",
    "\n",
    "with open('../../results/det_results_ram_m9_jpg_1', 'rb') as fin:\n",
    "    det_results_pascal_seed = pickle.load(fin)\n",
    "\n",
    "with open('../../../wsod/results/det_results_dpl_023.pkl', 'rb') as fin:\n",
    "    det_results_ws_seed = pickle.load(fin)\n",
    "    \n"
   ]
  },
  {
   "cell_type": "code",
   "execution_count": null,
   "metadata": {},
   "outputs": [],
   "source": []
  },
  {
   "cell_type": "code",
   "execution_count": 35,
   "metadata": {},
   "outputs": [],
   "source": [
    "det_results_concat = {key:[] for key in det_results_oi_seed}\n",
    "for imgid in det_results_oi_seed:\n",
    "    for det in det_results_oi_seed[imgid]:\n",
    "        det_results_concat[imgid].append({\n",
    "            'label': det['label'],\n",
    "            'score': det['score'],\n",
    "            'bbox': det['bbox'],\n",
    "            'bbox_normalized': det['bbox_normalized'],\n",
    "            'model': 'oi',\n",
    "        })\n",
    "\n",
    "for imgid in det_results_coco_seed:\n",
    "    for det in det_results_coco_seed[imgid]:\n",
    "        label = det['label']\n",
    "        score = det['score']\n",
    "            \n",
    "        transformed_score = (((score - norm_coef_coco[label]['mean_coco']) \n",
    "                              * norm_coef_coco[label]['std_oi'] / norm_coef_coco[label]['std_coco'] \n",
    "                              + norm_coef_coco[label]['mean_oi']) \n",
    "                             if label in norm_coef_coco else (\n",
    "                                 ((score - norm_coef_coco['default']['mean_coco']) \n",
    "                                  * norm_coef_coco['default']['std_oi'] / norm_coef_coco['default']['std_coco'] \n",
    "                                  + norm_coef_coco['default']['mean_oi']) \n",
    "                             ))\n",
    "        transformed_score = min(max(transformed_score, 0.), 1.)\n",
    "                \n",
    "        det_results_concat[imgid].append({\n",
    "            'label': label,\n",
    "            'score': transformed_score,\n",
    "            'bbox': det['bbox'],\n",
    "            'bbox_normalized': det['bbox_normalized'],\n",
    "            'model': 'coco',\n",
    "        })\n",
    "\n",
    "for imgid in det_results_pascal_seed:\n",
    "    for det in det_results_pascal_seed[imgid]:\n",
    "        label = det['label']\n",
    "        score = det['score']\n",
    "            \n",
    "        transformed_score = (((score - norm_coef_pascal[label]['mean_pascal']) \n",
    "                              * norm_coef_pascal[label]['std_oi'] / norm_coef_pascal[label]['std_pascal'] \n",
    "                              + norm_coef_pascal[label]['mean_oi']) \n",
    "                             if label in norm_coef_pascal else (\n",
    "                                 ((score - norm_coef_pascal['default']['mean_pascal']) \n",
    "                                  * norm_coef_pascal['default']['std_oi'] / norm_coef_pascal['default']['std_pascal'] \n",
    "                                  + norm_coef_pascal['default']['mean_oi']) \n",
    "                             ))\n",
    "        transformed_score = min(max(transformed_score, 0.), 1.)\n",
    "                \n",
    "        det_results_concat[imgid].append({\n",
    "            'label': label,\n",
    "            'score': transformed_score,\n",
    "            'bbox': det['bbox'],\n",
    "            'bbox_normalized': det['bbox_normalized'],\n",
    "            'model': 'pascal',\n",
    "        })\n",
    "                \n",
    "for imgid in det_results_ws_seed:\n",
    "    for det in det_results_ws_seed[imgid]:\n",
    "        label = det['label']\n",
    "        score = det['score']\n",
    "            \n",
    "        transformed_score = (((score - norm_coef_ws[label]['mean_ws']) \n",
    "                              * norm_coef_ws[label]['std_oi'] / norm_coef_ws[label]['std_ws'] \n",
    "                              + norm_coef_ws[label]['mean_oi']) \n",
    "                             if label in norm_coef_ws else (\n",
    "                                 ((score - norm_coef_ws['default']['mean_ws']) \n",
    "                                  * norm_coef_ws['default']['std_oi'] / norm_coef_ws['default']['std_ws'] \n",
    "                                  + norm_coef_ws['default']['mean_oi']) \n",
    "                             ))\n",
    "        transformed_score = min(max(transformed_score, 0.), 1.)\n",
    "                \n",
    "        det_results_concat[imgid].append({\n",
    "            'label': label,\n",
    "            'score': transformed_score,\n",
    "            'bbox': det['bbox'],\n",
    "            'bbox_normalized': det['bbox_normalized'],\n",
    "            'model': 'ws',\n",
    "        })\n",
    "        "
   ]
  },
  {
   "cell_type": "code",
   "execution_count": 36,
   "metadata": {},
   "outputs": [],
   "source": [
    "with open('../../results/det_results_concat_20.pkl', 'wb') as fout:\n",
    "    pickle.dump(det_results_concat, fout)"
   ]
  },
  {
   "cell_type": "code",
   "execution_count": null,
   "metadata": {},
   "outputs": [],
   "source": []
  },
  {
   "cell_type": "markdown",
   "metadata": {},
   "source": [
    "## Merging duplicate results"
   ]
  },
  {
   "cell_type": "code",
   "execution_count": 37,
   "metadata": {},
   "outputs": [
    {
     "data": {
      "text/plain": [
       "'\\ndef ioa(det_bbox, gt_bbox):\\n    x_d_len = det_bbox[2] - det_bbox[0]\\n    y_d_len = det_bbox[3] - det_bbox[1]\\n    x_t_len = gt_bbox[2] - gt_bbox[0]\\n    y_t_len = gt_bbox[3] - gt_bbox[1]\\n    x_int_len = max(0, min(gt_bbox[2], det_bbox[2]) - max(gt_bbox[0], det_bbox[0]))\\n    y_int_len = max(0, min(gt_bbox[3], det_bbox[3]) - max(gt_bbox[1], det_bbox[1]))\\n    iou = (x_int_len*y_int_len) / (x_d_len*y_d_len)\\n    return iou\\n'"
      ]
     },
     "execution_count": 37,
     "metadata": {},
     "output_type": "execute_result"
    }
   ],
   "source": [
    "def iou(det_bbox, gt_bbox):\n",
    "    x_d_len = det_bbox[2] - det_bbox[0]\n",
    "    y_d_len = det_bbox[3] - det_bbox[1]\n",
    "    x_t_len = gt_bbox[2] - gt_bbox[0]\n",
    "    y_t_len = gt_bbox[3] - gt_bbox[1]\n",
    "    x_int_len = max(0, min(gt_bbox[2], det_bbox[2]) - max(gt_bbox[0], det_bbox[0]))\n",
    "    y_int_len = max(0, min(gt_bbox[3], det_bbox[3]) - max(gt_bbox[1], det_bbox[1]))\n",
    "    iou = (x_int_len*y_int_len) / (x_d_len*y_d_len + x_t_len*y_t_len - x_int_len*y_int_len)\n",
    "    return iou\n",
    "'''\n",
    "def ioa(det_bbox, gt_bbox):\n",
    "    x_d_len = det_bbox[2] - det_bbox[0]\n",
    "    y_d_len = det_bbox[3] - det_bbox[1]\n",
    "    x_t_len = gt_bbox[2] - gt_bbox[0]\n",
    "    y_t_len = gt_bbox[3] - gt_bbox[1]\n",
    "    x_int_len = max(0, min(gt_bbox[2], det_bbox[2]) - max(gt_bbox[0], det_bbox[0]))\n",
    "    y_int_len = max(0, min(gt_bbox[3], det_bbox[3]) - max(gt_bbox[1], det_bbox[1]))\n",
    "    iou = (x_int_len*y_int_len) / (x_d_len*y_d_len)\n",
    "    return iou\n",
    "'''"
   ]
  },
  {
   "cell_type": "code",
   "execution_count": 38,
   "metadata": {},
   "outputs": [],
   "source": [
    "_STAT_num_same_merged = 0\n",
    "_STAT_num_diff_merged = 0\n",
    "\n",
    "thresh_same = 0.7\n",
    "thresh_diff = 0.9\n",
    "\n",
    "det_results_merged = {}\n",
    "for imgid, det in det_results_concat.items():\n",
    "    det_results_merged[imgid] = []\n",
    "    groups = []\n",
    "    for ii in range(len(det)):\n",
    "        matching_gr = None\n",
    "        for gr in groups:\n",
    "            for item in gr:\n",
    "                if det[ii]['label'] == det[item]['label'] and iou(det[ii]['bbox'], det[item]['bbox']) > thresh_same:\n",
    "                    if matching_gr == None:\n",
    "                        gr.append(ii)\n",
    "                        matching_gr = gr\n",
    "                    else:\n",
    "                        matching_gr += gr\n",
    "                        gr.clear()\n",
    "                    _STAT_num_same_merged += 1\n",
    "                    break\n",
    "                if det[ii]['label'] != det[item]['label'] and iou(det[ii]['bbox'], det[item]['bbox']) > thresh_diff:\n",
    "                    if matching_gr == None:\n",
    "                        gr.append(ii)\n",
    "                        matching_gr = gr\n",
    "                    else:\n",
    "                        matching_gr += gr\n",
    "                        gr.clear()\n",
    "                    _STAT_num_diff_merged += 1\n",
    "                    break\n",
    "                \n",
    "        if matching_gr == None:\n",
    "            groups.append([ii])\n",
    "            \n",
    "    for g in groups:\n",
    "        if len(g) == 0:\n",
    "            continue\n",
    "        suff = '/J' if len(g) > 1 else ''\n",
    "        scores = [det[ii]['score'] if det[ii]['model'] != 'ws' else 0. for ii in g]\n",
    "        iii = np.argmax(scores)\n",
    "        det_results_merged[imgid].append({\n",
    "            'label': det[g[iii]]['label'],\n",
    "            'score': det[g[iii]]['score'],\n",
    "            'bbox': det[g[iii]]['bbox'],\n",
    "            'bbox_normalized': det[g[iii]]['bbox_normalized'],\n",
    "            'model': det[g[iii]]['model'] + suff,            \n",
    "        })"
   ]
  },
  {
   "cell_type": "code",
   "execution_count": 39,
   "metadata": {},
   "outputs": [
    {
     "data": {
      "text/plain": [
       "(109140, 369205)"
      ]
     },
     "execution_count": 39,
     "metadata": {},
     "output_type": "execute_result"
    }
   ],
   "source": [
    "_STAT_num_same_merged, _STAT_num_diff_merged"
   ]
  },
  {
   "cell_type": "code",
   "execution_count": null,
   "metadata": {},
   "outputs": [],
   "source": []
  },
  {
   "cell_type": "code",
   "execution_count": 40,
   "metadata": {},
   "outputs": [],
   "source": [
    "with open('../../results/det_results_merged_20.pkl', 'wb') as fout:\n",
    "    pickle.dump(det_results_merged, fout)"
   ]
  },
  {
   "cell_type": "code",
   "execution_count": null,
   "metadata": {},
   "outputs": [],
   "source": []
  },
  {
   "cell_type": "code",
   "execution_count": null,
   "metadata": {},
   "outputs": [],
   "source": []
  },
  {
   "cell_type": "code",
   "execution_count": null,
   "metadata": {},
   "outputs": [],
   "source": []
  },
  {
   "cell_type": "code",
   "execution_count": null,
   "metadata": {},
   "outputs": [],
   "source": []
  }
 ],
 "metadata": {
  "kernelspec": {
   "display_name": "Py3 w/ Tensorflow",
   "language": "python",
   "name": "py3tf"
  },
  "language_info": {
   "codemirror_mode": {
    "name": "ipython",
    "version": 3
   },
   "file_extension": ".py",
   "mimetype": "text/x-python",
   "name": "python",
   "nbconvert_exporter": "python",
   "pygments_lexer": "ipython3",
   "version": "3.6.5"
  }
 },
 "nbformat": 4,
 "nbformat_minor": 2
}
