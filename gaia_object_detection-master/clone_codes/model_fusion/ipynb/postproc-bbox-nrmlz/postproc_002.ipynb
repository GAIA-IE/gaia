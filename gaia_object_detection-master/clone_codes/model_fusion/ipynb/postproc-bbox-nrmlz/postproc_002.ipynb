{
 "cells": [
  {
   "cell_type": "code",
   "execution_count": 1,
   "metadata": {},
   "outputs": [],
   "source": [
    "import pickle\n",
    "import cv2\n",
    "import os\n",
    "import numpy as np"
   ]
  },
  {
   "cell_type": "code",
   "execution_count": null,
   "metadata": {},
   "outputs": [],
   "source": []
  },
  {
   "cell_type": "code",
   "execution_count": 2,
   "metadata": {},
   "outputs": [],
   "source": [
    "with open('../../results/det_results_combined_oi_coco_ws_3.pkl', 'rb') as fin:\n",
    "    det_results = pickle.load(fin)"
   ]
  },
  {
   "cell_type": "code",
   "execution_count": null,
   "metadata": {},
   "outputs": [],
   "source": []
  },
  {
   "cell_type": "code",
   "execution_count": 4,
   "metadata": {},
   "outputs": [
    {
     "name": "stderr",
     "output_type": "stream",
     "text": [
      "/home/alireza/home_at_filer2/tools/anaconda3/envs/py3tf/lib/python3.6/site-packages/ipykernel/__main__.py:7: DeprecationWarning: The binary mode of fromstring is deprecated, as it behaves surprisingly on unicode inputs. Use frombuffer instead\n"
     ]
    }
   ],
   "source": [
    "imgsize = {}\n",
    "for imgid in det_results:\n",
    "    filename = os.path.join('../../../data/seedling/', imgid)\n",
    "    with open(filename, 'rb') as fin:\n",
    "        #_ = fin.read(1024)\n",
    "        imgbin = fin.read()\n",
    "    imgbgr = cv2.imdecode(np.fromstring(imgbin, dtype='uint8'), cv2.IMREAD_COLOR)\n",
    "    imgsize[imgid] = (imgbgr.shape[1], imgbgr.shape[0])"
   ]
  },
  {
   "cell_type": "code",
   "execution_count": null,
   "metadata": {},
   "outputs": [],
   "source": []
  },
  {
   "cell_type": "code",
   "execution_count": 5,
   "metadata": {},
   "outputs": [],
   "source": [
    "for imgid in det_results:\n",
    "    det_results[imgid]['detection_boxes_normalized'] = np.copy(det_results[imgid]['detection_boxes'])\n",
    "    det_results[imgid]['detection_boxes'] = (det_results[imgid]['detection_boxes'] * np.asarray(imgsize[imgid]*2)).astype('int32')"
   ]
  },
  {
   "cell_type": "code",
   "execution_count": 9,
   "metadata": {},
   "outputs": [
    {
     "data": {
      "text/plain": [
       "{'detection_classes': ['/m/07s6nbt',\n",
       "  '/m/01n5jq',\n",
       "  '/m/0dwx7',\n",
       "  '/m/01x3z',\n",
       "  '/m/04_tb',\n",
       "  '/m/04hgtk',\n",
       "  '/m/09nm_',\n",
       "  '/m/0jbk',\n",
       "  '/m/0bs7_0t',\n",
       "  '/m/032rk',\n",
       "  '/m/02wg_p',\n",
       "  '/m/0c2jj',\n",
       "  '/m/0bh9flk',\n",
       "  '/m/0dv5r',\n",
       "  '/m/015h_t',\n",
       "  '/m/0dzct',\n",
       "  '/m/0fd6q',\n",
       "  '/m/02wg_p',\n",
       "  '/m/0bt_c3',\n",
       "  '/m/07j7r',\n",
       "  '/m/01knjb',\n",
       "  '/m/06z37_',\n",
       "  '/m/02522',\n",
       "  '/m/05s2s'],\n",
       " 'detection_scores': [1.0,\n",
       "  0.78352064,\n",
       "  0.6519036962919265,\n",
       "  0.49238092348529144,\n",
       "  0.48623212447269926,\n",
       "  0.27256009865257363,\n",
       "  0.27184305753496935,\n",
       "  0.25147831378685026,\n",
       "  0.23664034803607759,\n",
       "  0.2340157926449368,\n",
       "  0.23107157937511363,\n",
       "  0.23081043346951918,\n",
       "  0.23025783422863502,\n",
       "  0.2285983503648015,\n",
       "  0.22235064641889105,\n",
       "  0.2217400094321261,\n",
       "  0.215854021090949,\n",
       "  0.21331747077304378,\n",
       "  0.0033762685,\n",
       "  0.0029302824,\n",
       "  0.0027626245,\n",
       "  0.0026262298,\n",
       "  0.0010950096,\n",
       "  0.0010672098],\n",
       " 'detection_boxes': array([[ 45,  53, 477, 331],\n",
       "        [  0,  27, 461, 319],\n",
       "        [ 77,  51, 477, 200],\n",
       "        [ 56,  11, 455, 351],\n",
       "        [  0,  80, 477, 358],\n",
       "        [  0,  77, 477, 278],\n",
       "        [  0,  53, 477, 308],\n",
       "        [  0,  61, 477, 302],\n",
       "        [  0,  62, 422, 358],\n",
       "        [ 57,  28, 477, 271],\n",
       "        [319, 168, 477, 358],\n",
       "        [ 64,  49, 477, 202],\n",
       "        [  0,  27, 477, 358],\n",
       "        [  0,  90, 477, 310],\n",
       "        [  0,   0, 477, 358],\n",
       "        [  0,   0, 477, 358],\n",
       "        [  0,  46, 477, 273],\n",
       "        [  0,  85, 182, 358],\n",
       "        [  0,  21, 480, 354],\n",
       "        [ 21,   2, 442, 339],\n",
       "        [  0,  35, 426, 333],\n",
       "        [ 52,  21, 464, 342],\n",
       "        [  2,  32, 480, 360],\n",
       "        [ 49,  36, 443, 317]], dtype=int32),\n",
       " 'detection_models': ['ws',\n",
       "  'oi/J',\n",
       "  'ws',\n",
       "  'coco',\n",
       "  'ws',\n",
       "  'ws',\n",
       "  'ws',\n",
       "  'ws',\n",
       "  'ws',\n",
       "  'ws',\n",
       "  'ws',\n",
       "  'ws',\n",
       "  'ws',\n",
       "  'ws',\n",
       "  'ws',\n",
       "  'ws',\n",
       "  'ws',\n",
       "  'ws',\n",
       "  'oi',\n",
       "  'oi',\n",
       "  'oi',\n",
       "  'oi',\n",
       "  'oi',\n",
       "  'oi/J'],\n",
       " 'num_detections': 24,\n",
       " 'detection_boxes_normalized': array([[0.09375   , 0.14732143, 0.99553571, 0.91964286],\n",
       "        [0.        , 0.07657044, 0.9617967 , 0.88822615],\n",
       "        [0.16071429, 0.14285714, 0.99553571, 0.55803571],\n",
       "        [0.11847064, 0.03165512, 0.94961691, 0.9761886 ],\n",
       "        [0.        , 0.22321429, 0.99553571, 0.99553571],\n",
       "        [0.        , 0.21428571, 0.99553571, 0.77232143],\n",
       "        [0.        , 0.14732143, 0.99553571, 0.85714286],\n",
       "        [0.        , 0.16964286, 0.99553571, 0.83928571],\n",
       "        [0.        , 0.17410714, 0.87946429, 0.99553571],\n",
       "        [0.12053571, 0.08035714, 0.99553571, 0.75446429],\n",
       "        [0.66517857, 0.46875   , 0.99553571, 0.99553571],\n",
       "        [0.13392857, 0.13839286, 0.99553571, 0.5625    ],\n",
       "        [0.        , 0.07589286, 0.99553571, 0.99553571],\n",
       "        [0.        , 0.25      , 0.99553571, 0.86160714],\n",
       "        [0.        , 0.        , 0.99553571, 0.99553571],\n",
       "        [0.        , 0.        , 0.99553571, 0.99553571],\n",
       "        [0.        , 0.12946429, 0.99553571, 0.75892857],\n",
       "        [0.        , 0.23660714, 0.37946429, 0.99553571],\n",
       "        [0.        , 0.06047443, 1.        , 0.98344111],\n",
       "        [0.04577489, 0.00571922, 0.92083681, 0.94331181],\n",
       "        [0.        , 0.09859451, 0.88902652, 0.92628813],\n",
       "        [0.10964046, 0.06066578, 0.9674294 , 0.95151794],\n",
       "        [0.00484105, 0.08952934, 1.        , 1.        ],\n",
       "        [0.10383863, 0.10268822, 0.92312187, 0.882963  ]])}"
      ]
     },
     "execution_count": 9,
     "metadata": {},
     "output_type": "execute_result"
    }
   ],
   "source": [
    "det_results['keyframes-0.2/HC0000077.mp4.ldcc/frame00001.png']"
   ]
  },
  {
   "cell_type": "code",
   "execution_count": null,
   "metadata": {},
   "outputs": [],
   "source": []
  },
  {
   "cell_type": "code",
   "execution_count": 10,
   "metadata": {},
   "outputs": [],
   "source": [
    "with open('../../results/det_results_combined_oi_coco_ws_3_post.pkl', 'wb') as fout:\n",
    "    pickle.dump(det_results, fout)"
   ]
  },
  {
   "cell_type": "code",
   "execution_count": null,
   "metadata": {},
   "outputs": [],
   "source": []
  }
 ],
 "metadata": {
  "kernelspec": {
   "display_name": "Py3 w/ Tensorflow",
   "language": "python",
   "name": "py3tf"
  },
  "language_info": {
   "codemirror_mode": {
    "name": "ipython",
    "version": 3
   },
   "file_extension": ".py",
   "mimetype": "text/x-python",
   "name": "python",
   "nbconvert_exporter": "python",
   "pygments_lexer": "ipython3",
   "version": "3.6.5"
  }
 },
 "nbformat": 4,
 "nbformat_minor": 2
}
