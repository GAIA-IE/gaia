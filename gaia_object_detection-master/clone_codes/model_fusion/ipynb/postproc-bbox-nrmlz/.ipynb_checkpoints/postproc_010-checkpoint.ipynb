{
 "cells": [
  {
   "cell_type": "code",
   "execution_count": 1,
   "metadata": {},
   "outputs": [],
   "source": [
    "import pickle\n",
    "import cv2\n",
    "import os\n",
    "import numpy as np"
   ]
  },
  {
   "cell_type": "code",
   "execution_count": null,
   "metadata": {},
   "outputs": [],
   "source": []
  },
  {
   "cell_type": "code",
   "execution_count": null,
   "metadata": {},
   "outputs": [],
   "source": [
    "with open('../../results/det_results_merged_12.pkl', 'rb') as fin:\n",
    "    det_results = pickle.load(fin)"
   ]
  },
  {
   "cell_type": "code",
   "execution_count": null,
   "metadata": {},
   "outputs": [],
   "source": []
  },
  {
   "cell_type": "code",
   "execution_count": 2,
   "metadata": {},
   "outputs": [],
   "source": [
    "filename_to_docid = {}\n",
    "docid_to_filename = {}\n",
    "shot_to_vid = {}\n",
    "vid_to_shot = {}\n",
    "dirname_to_vidname = {}\n",
    "vidname_to_dirname = {}\n",
    "\n",
    "with open('../../../../data/seedling/seedling_keyframes/msb.txt', 'r') as fin:\n",
    "    for line in fin:\n",
    "        row = line.split()\n",
    "\n",
    "        dirname = row[0]\n",
    "        vidname = row[1].split('_')[0]\n",
    "        dirname_to_vidname[dirname] = vidname\n",
    "        vidname_to_dirname[vidname] = dirname\n",
    "        \n",
    "        docid = row[1]\n",
    "        filename = row[0] + '_' + docid.split('_')[-1] + '.png'\n",
    "        \n",
    "        filename_to_docid[filename] = docid\n",
    "        docid_to_filename[docid] = filename\n",
    "        \n",
    "        shot_to_vid[row[1]] = row[0]\n",
    "        \n",
    "        if vid_to_shot.get(row[0]) == None:\n",
    "            vid_to_shot[row[0]] = []\n",
    "        vid_to_shot[row[0]].append(row[1])"
   ]
  },
  {
   "cell_type": "code",
   "execution_count": 3,
   "metadata": {},
   "outputs": [],
   "source": [
    "with open('../../../../data/seedling/seedling_keyframes/keyframes.txt', 'r') as fin:\n",
    "    test_img_subpaths = [line.strip() for line in fin]"
   ]
  },
  {
   "cell_type": "code",
   "execution_count": 4,
   "metadata": {},
   "outputs": [],
   "source": [
    "test_img_paths = ['../../../../data/seedling/seedling_keyframes/keyframes/' + item for item in test_img_subpaths]"
   ]
  },
  {
   "cell_type": "code",
   "execution_count": null,
   "metadata": {},
   "outputs": [
    {
     "name": "stderr",
     "output_type": "stream",
     "text": [
      "/home/alireza/home_at_filer2/tools/anaconda3/envs/py3tf/lib/python3.6/site-packages/ipykernel/__main__.py:11: DeprecationWarning: The binary mode of fromstring is deprecated, as it behaves surprisingly on unicode inputs. Use frombuffer instead\n"
     ]
    }
   ],
   "source": [
    "imgsize = {}\n",
    "for filename in test_img_paths:\n",
    "    _, dirname, shotnum = filename.split('/')[-1].split('_')\n",
    "    dirname = 'v_' + dirname\n",
    "    shotnum = shotnum[:-4]\n",
    "    imgid = dirname_to_vidname[dirname] + '_' + shotnum    \n",
    "    with open(filename, 'rb') as fin:\n",
    "        #_ = fin.read(1024)\n",
    "        imgbin = fin.read()\n",
    "    try:\n",
    "        imgbgr = cv2.imdecode(np.fromstring(imgbin, dtype='uint8'), cv2.IMREAD_COLOR)\n",
    "        imgsize[imgid] = (imgbgr.shape[1], imgbgr.shape[0])\n",
    "    except:\n",
    "        print(f'error happened at {filename}')\n"
   ]
  },
  {
   "cell_type": "code",
   "execution_count": null,
   "metadata": {},
   "outputs": [],
   "source": [
    "with open('../../temp/seedling_keyframe_imgsize_2b.pkl', 'wb') as fout:\n",
    "    pickle.dump(imgsize, fout)"
   ]
  },
  {
   "cell_type": "code",
   "execution_count": null,
   "metadata": {},
   "outputs": [],
   "source": []
  }
 ],
 "metadata": {
  "kernelspec": {
   "display_name": "Py3 w/ Tensorflow",
   "language": "python",
   "name": "py3tf"
  },
  "language_info": {
   "codemirror_mode": {
    "name": "ipython",
    "version": 3
   },
   "file_extension": ".py",
   "mimetype": "text/x-python",
   "name": "python",
   "nbconvert_exporter": "python",
   "pygments_lexer": "ipython3",
   "version": "3.6.5"
  }
 },
 "nbformat": 4,
 "nbformat_minor": 2
}
