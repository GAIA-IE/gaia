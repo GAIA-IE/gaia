{
 "cells": [
  {
   "cell_type": "code",
   "execution_count": 9,
   "metadata": {},
   "outputs": [],
   "source": [
    "import pickle\n",
    "import cv2\n",
    "import os\n",
    "import numpy as np"
   ]
  },
  {
   "cell_type": "code",
   "execution_count": null,
   "metadata": {},
   "outputs": [],
   "source": []
  },
  {
   "cell_type": "code",
   "execution_count": 18,
   "metadata": {},
   "outputs": [],
   "source": [
    "with open('../../results/det_results_combined_oi_coco_ws_2.pkl', 'rb') as fin:\n",
    "    det_results = pickle.load(fin)"
   ]
  },
  {
   "cell_type": "code",
   "execution_count": null,
   "metadata": {},
   "outputs": [],
   "source": []
  },
  {
   "cell_type": "code",
   "execution_count": 10,
   "metadata": {},
   "outputs": [
    {
     "name": "stderr",
     "output_type": "stream",
     "text": [
      "/home/alireza/home_at_filer2/tools/anaconda3/envs/py3tf/lib/python3.6/site-packages/ipykernel/__main__.py:7: DeprecationWarning: The binary mode of fromstring is deprecated, as it behaves surprisingly on unicode inputs. Use frombuffer instead\n"
     ]
    }
   ],
   "source": [
    "imgsize = {}\n",
    "for imgid in det_results:\n",
    "    filename = os.path.join('../../../data/seedling/jpg', imgid)\n",
    "    with open(filename, 'rb') as fin:\n",
    "        _ = fin.read(1024)\n",
    "        imgbin = fin.read()\n",
    "    imgbgr = cv2.imdecode(np.fromstring(imgbin, dtype='uint8'), cv2.IMREAD_COLOR)\n",
    "    imgsize[imgid] = (imgbgr.shape[1], imgbgr.shape[0])"
   ]
  },
  {
   "cell_type": "code",
   "execution_count": null,
   "metadata": {},
   "outputs": [],
   "source": []
  },
  {
   "cell_type": "code",
   "execution_count": 19,
   "metadata": {},
   "outputs": [],
   "source": [
    "for imgid in det_results:\n",
    "    det_results[imgid]['detection_boxes_normalized'] = np.copy(det_results[imgid]['detection_boxes'])\n",
    "    det_results[imgid]['detection_boxes'] = (det_results[imgid]['detection_boxes'] * np.asarray(imgsize[imgid]*2)).astype('int32')"
   ]
  },
  {
   "cell_type": "code",
   "execution_count": null,
   "metadata": {},
   "outputs": [],
   "source": []
  },
  {
   "cell_type": "code",
   "execution_count": 20,
   "metadata": {},
   "outputs": [
    {
     "data": {
      "text/plain": [
       "{'detection_classes': ['/m/01n5jq',\n",
       "  '/m/07s6nbt',\n",
       "  '/m/09j2d',\n",
       "  '/m/01g317',\n",
       "  '/m/09j2d',\n",
       "  '/m/01g317',\n",
       "  '/m/0dwx7',\n",
       "  '/m/04_tb',\n",
       "  '/m/07c52'],\n",
       " 'detection_scores': [1.0,\n",
       "  1.0,\n",
       "  0.7438925,\n",
       "  0.63556397,\n",
       "  0.61646515,\n",
       "  0.5807669,\n",
       "  0.512358537181107,\n",
       "  0.45158579366182766,\n",
       "  0.4117151444196135],\n",
       " 'detection_boxes': array([[ 45,  93, 227, 289],\n",
       "        [ 96,  28, 477, 215],\n",
       "        [256,  11, 385,  89],\n",
       "        [ 71,  14, 219,  91],\n",
       "        [ 80,  13, 210,  94],\n",
       "        [240,  15, 386,  86],\n",
       "        [  0, 118, 227, 358],\n",
       "        [  0,   0, 477, 358],\n",
       "        [  0,   0, 461, 360]], dtype=int32),\n",
       " 'detection_models': ['ws',\n",
       "  'ws',\n",
       "  'oi',\n",
       "  'oi/J',\n",
       "  'oi',\n",
       "  'oi/J',\n",
       "  'ws',\n",
       "  'ws',\n",
       "  'coco/J'],\n",
       " 'num_detections': 9,\n",
       " 'detection_boxes_normalized': array([[0.09375   , 0.25892857, 0.47321429, 0.80357143],\n",
       "        [0.20089286, 0.08035714, 0.99553571, 0.59821429],\n",
       "        [0.53455532, 0.03331798, 0.80336821, 0.24933238],\n",
       "        [0.14819801, 0.04139208, 0.45666474, 0.25289786],\n",
       "        [0.16821624, 0.0370432 , 0.43939486, 0.2636039 ],\n",
       "        [0.50135893, 0.04362926, 0.8051064 , 0.2405079 ],\n",
       "        [0.        , 0.33035714, 0.47321429, 0.99553571],\n",
       "        [0.        , 0.        , 0.99553571, 0.99553571],\n",
       "        [0.        , 0.        , 0.9624939 , 1.        ]])}"
      ]
     },
     "execution_count": 20,
     "metadata": {},
     "output_type": "execute_result"
    }
   ],
   "source": [
    "det_results['HC0000078.jpg.ldcc']"
   ]
  },
  {
   "cell_type": "code",
   "execution_count": null,
   "metadata": {},
   "outputs": [],
   "source": []
  },
  {
   "cell_type": "code",
   "execution_count": 21,
   "metadata": {},
   "outputs": [],
   "source": [
    "with open('../../results/det_results_combined_oi_coco_ws_2_post.pkl', 'wb') as fout:\n",
    "    pickle.dump(det_results, fout)"
   ]
  },
  {
   "cell_type": "code",
   "execution_count": null,
   "metadata": {},
   "outputs": [],
   "source": []
  }
 ],
 "metadata": {
  "kernelspec": {
   "display_name": "Py3 w/ Tensorflow",
   "language": "python",
   "name": "py3tf"
  },
  "language_info": {
   "codemirror_mode": {
    "name": "ipython",
    "version": 3
   },
   "file_extension": ".py",
   "mimetype": "text/x-python",
   "name": "python",
   "nbconvert_exporter": "python",
   "pygments_lexer": "ipython3",
   "version": "3.6.5"
  }
 },
 "nbformat": 4,
 "nbformat_minor": 2
}
