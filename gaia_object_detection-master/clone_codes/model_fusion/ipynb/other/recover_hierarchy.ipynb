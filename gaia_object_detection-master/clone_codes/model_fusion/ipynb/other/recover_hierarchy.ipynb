{
 "cells": [
  {
   "cell_type": "code",
   "execution_count": 24,
   "metadata": {},
   "outputs": [],
   "source": [
    "import pickle\n",
    "import cv2\n",
    "import os\n",
    "import json\n",
    "import csv\n",
    "import numpy as np"
   ]
  },
  {
   "cell_type": "code",
   "execution_count": 14,
   "metadata": {},
   "outputs": [],
   "source": [
    "import sys\n",
    "sys.path.append(\"../../lib\")\n",
    "from object_detection.utils import label_map_util\n",
    "from object_detection.utils import visualization_utils as vis_util"
   ]
  },
  {
   "cell_type": "code",
   "execution_count": 15,
   "metadata": {},
   "outputs": [],
   "source": [
    "label_map_oi = label_map_util.load_labelmap(os.path.join('../../lib/object_detection/data', 'oid_bbox_trainable_label_map.pbtxt'))\n"
   ]
  },
  {
   "cell_type": "code",
   "execution_count": 16,
   "metadata": {},
   "outputs": [],
   "source": [
    "mid2name_oi = {}\n",
    "for item in label_map_oi.item:\n",
    "    mid2name_oi[item.name] = item.display_name\n"
   ]
  },
  {
   "cell_type": "code",
   "execution_count": 7,
   "metadata": {},
   "outputs": [],
   "source": [
    "with open('../../data/OpenImages/metadata-v4/bbox_labels_600_hierarchy.json', 'r') as fin:\n",
    "    top_down_hierarchy = json.load(fin)"
   ]
  },
  {
   "cell_type": "code",
   "execution_count": 8,
   "metadata": {},
   "outputs": [
    {
     "data": {
      "text/plain": [
       "dict_keys(['LabelName', 'Subcategory'])"
      ]
     },
     "execution_count": 8,
     "metadata": {},
     "output_type": "execute_result"
    }
   ],
   "source": [
    "top_down_hierarchy.keys()"
   ]
  },
  {
   "cell_type": "code",
   "execution_count": 19,
   "metadata": {},
   "outputs": [],
   "source": [
    "bottom_up_hierarchy = {}\n",
    "stack = [top_down_hierarchy]\n",
    "while len(stack) > 0:\n",
    "    parent = stack.pop()\n",
    "    if parent.get('Subcategory') == None:\n",
    "        continue\n",
    "    for child in parent['Subcategory']:\n",
    "        if bottom_up_hierarchy.get(child['LabelName']) == None:\n",
    "            bottom_up_hierarchy[child['LabelName']] = []\n",
    "        bottom_up_hierarchy[child['LabelName']].append(parent['LabelName'])\n",
    "        stack.append(child)"
   ]
  },
  {
   "cell_type": "code",
   "execution_count": null,
   "metadata": {},
   "outputs": [],
   "source": []
  },
  {
   "cell_type": "code",
   "execution_count": 22,
   "metadata": {},
   "outputs": [],
   "source": [
    "with open('temp.csv', 'w') as fout:\n",
    "    for key, val in bottom_up_hierarchy.items():\n",
    "        if len(val) > 1:\n",
    "            fout.write(key)\n",
    "            fout.write(',')\n",
    "            fout.write(str(mid2name_oi.get(key)))\n",
    "            for item in val:\n",
    "                fout.write(',')\n",
    "                fout.write(item)\n",
    "                fout.write(',')\n",
    "                fout.write(str(mid2name_oi.get(item)))\n",
    "            fout.write('\\n')\n",
    "            \n",
    "            "
   ]
  },
  {
   "cell_type": "code",
   "execution_count": null,
   "metadata": {},
   "outputs": [],
   "source": []
  },
  {
   "cell_type": "code",
   "execution_count": 25,
   "metadata": {},
   "outputs": [],
   "source": [
    "preference = {}\n",
    "with open('temp2.csv', 'r') as fin:\n",
    "    for row in csv.reader(fin):\n",
    "        preference[row[0]] = row[2]"
   ]
  },
  {
   "cell_type": "code",
   "execution_count": null,
   "metadata": {},
   "outputs": [],
   "source": []
  },
  {
   "cell_type": "code",
   "execution_count": 27,
   "metadata": {},
   "outputs": [],
   "source": [
    "for key in bottom_up_hierarchy:\n",
    "    if len(bottom_up_hierarchy[key]) == 1:\n",
    "        bottom_up_hierarchy[key] = bottom_up_hierarchy[key][0]\n",
    "    else:\n",
    "        bottom_up_hierarchy[key] = preference[key]"
   ]
  },
  {
   "cell_type": "code",
   "execution_count": null,
   "metadata": {},
   "outputs": [],
   "source": []
  },
  {
   "cell_type": "code",
   "execution_count": 28,
   "metadata": {},
   "outputs": [],
   "source": [
    "with open('../../temp/oi_600_hierarchy.pkl', 'wb') as fout:\n",
    "    pickle.dump(bottom_up_hierarchy, fout)"
   ]
  },
  {
   "cell_type": "code",
   "execution_count": null,
   "metadata": {},
   "outputs": [],
   "source": []
  },
  {
   "cell_type": "code",
   "execution_count": null,
   "metadata": {},
   "outputs": [],
   "source": []
  },
  {
   "cell_type": "code",
   "execution_count": null,
   "metadata": {},
   "outputs": [],
   "source": []
  },
  {
   "cell_type": "code",
   "execution_count": null,
   "metadata": {},
   "outputs": [],
   "source": []
  }
 ],
 "metadata": {
  "kernelspec": {
   "display_name": "Py3 w/ Tensorflow",
   "language": "python",
   "name": "py3tf"
  },
  "language_info": {
   "codemirror_mode": {
    "name": "ipython",
    "version": 3
   },
   "file_extension": ".py",
   "mimetype": "text/x-python",
   "name": "python",
   "nbconvert_exporter": "python",
   "pygments_lexer": "ipython3",
   "version": "3.6.5"
  }
 },
 "nbformat": 4,
 "nbformat_minor": 2
}
