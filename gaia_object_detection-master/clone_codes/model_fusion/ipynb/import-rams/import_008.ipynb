{
 "cells": [
  {
   "cell_type": "code",
   "execution_count": 1,
   "metadata": {},
   "outputs": [],
   "source": [
    "import json\n",
    "import pickle\n",
    "import numpy as np"
   ]
  },
  {
   "cell_type": "code",
   "execution_count": null,
   "metadata": {},
   "outputs": [],
   "source": []
  },
  {
   "cell_type": "code",
   "execution_count": 2,
   "metadata": {},
   "outputs": [],
   "source": [
    "labels = ['aeroplane', 'bicycle', 'bird', 'boat', 'bottle', 'bus', 'car', 'cat', 'chair', 'cow', \n",
    "          'diningtable', 'dog', 'horse', 'motorbike', 'person', 'pottedplant', 'sheep', 'sofa', 'train', 'tvmonitor']"
   ]
  },
  {
   "cell_type": "code",
   "execution_count": 3,
   "metadata": {},
   "outputs": [],
   "source": [
    "mids = ['/m/0cmf2', '/m/0199g', '/m/015p6', '/m/019jd', '/m/04dr76w', '/m/01bjv', '/m/0k4j', \n",
    "        '/m/01yrx', '/m/01mzpv', '/m/01xq0k1', '/m/0h8n5zk', '/m/0bt9lr', '/m/03k3r', '/m/04_sv', \n",
    "        '/m/01g317', '/m/03fp41', '/m/07bgp', '/m/03m3pdh', '/m/07jdr', '/m/02522']"
   ]
  },
  {
   "cell_type": "code",
   "execution_count": 4,
   "metadata": {},
   "outputs": [
    {
     "data": {
      "text/plain": [
       "(20, 20)"
      ]
     },
     "execution_count": 4,
     "metadata": {},
     "output_type": "execute_result"
    }
   ],
   "source": [
    "len(labels), len(mids), "
   ]
  },
  {
   "cell_type": "code",
   "execution_count": null,
   "metadata": {},
   "outputs": [],
   "source": []
  },
  {
   "cell_type": "code",
   "execution_count": 5,
   "metadata": {},
   "outputs": [],
   "source": [
    "with open('../../../wsod/metadata/ont_m18/mapping.pkl', 'rb') as fin:\n",
    "    mid2ont, syn2mid, single_mids, mid2syn, class2ont, ont2name, class_names = pickle.load(fin)  "
   ]
  },
  {
   "cell_type": "code",
   "execution_count": null,
   "metadata": {},
   "outputs": [],
   "source": []
  },
  {
   "cell_type": "code",
   "execution_count": 6,
   "metadata": {},
   "outputs": [],
   "source": [
    "label2mid = {}\n",
    "for i in range(20):\n",
    "    label2mid[labels[i]] = mids[i]"
   ]
  },
  {
   "cell_type": "code",
   "execution_count": null,
   "metadata": {},
   "outputs": [],
   "source": []
  },
  {
   "cell_type": "code",
   "execution_count": 7,
   "metadata": {},
   "outputs": [],
   "source": [
    "with open('../../temp/imgsize_m18_dryrun_jpg.pkl', 'rb') as fin:\n",
    "    imgsize = pickle.load(fin)"
   ]
  },
  {
   "cell_type": "code",
   "execution_count": null,
   "metadata": {},
   "outputs": [],
   "source": []
  },
  {
   "cell_type": "code",
   "execution_count": 8,
   "metadata": {},
   "outputs": [],
   "source": [
    "with open('/home/alireza/aida/rootdir/Ram/M18/img_bbox_jpg.json', 'r') as fin:\n",
    "    data = json.load(fin)"
   ]
  },
  {
   "cell_type": "code",
   "execution_count": 9,
   "metadata": {},
   "outputs": [
    {
     "data": {
      "text/plain": [
       "{'img_fname': 'IC0011V2T.jpg',\n",
       " 'bbox': [[110, 96, 149, 149],\n",
       "  [76, 97, 115, 149],\n",
       "  [35, 100, 70, 149],\n",
       "  [0, 95, 33, 146],\n",
       "  [83, 18, 130, 85],\n",
       "  [88, 44, 143, 101],\n",
       "  [0, 58, 58, 136],\n",
       "  [0, 10, 54, 90],\n",
       "  [123, 19, 149, 86],\n",
       "  [137, 6, 149, 51],\n",
       "  [51, 4, 89, 54],\n",
       "  [0, 44, 51, 102]],\n",
       " 'scores': [0.9542006850242615,\n",
       "  0.941010594367981,\n",
       "  0.9387102723121643,\n",
       "  0.9178503751754761,\n",
       "  0.9122727513313293,\n",
       "  0.8953519463539124,\n",
       "  0.8904201984405518,\n",
       "  0.879755973815918,\n",
       "  0.8771159648895264,\n",
       "  0.758112370967865,\n",
       "  0.7182226777076721,\n",
       "  0.7053709030151367],\n",
       " 'ds_labels': [15, 15, 15, 15, 15, 15, 15, 15, 15, 15, 15, 15],\n",
       " 'ds_class_names': ['person',\n",
       "  'person',\n",
       "  'person',\n",
       "  'person',\n",
       "  'person',\n",
       "  'person',\n",
       "  'person',\n",
       "  'person',\n",
       "  'person',\n",
       "  'person',\n",
       "  'person',\n",
       "  'person'],\n",
       " 'ds_name': 'voc'}"
      ]
     },
     "execution_count": 9,
     "metadata": {},
     "output_type": "execute_result"
    }
   ],
   "source": [
    "data[0]"
   ]
  },
  {
   "cell_type": "code",
   "execution_count": 10,
   "metadata": {},
   "outputs": [],
   "source": [
    "det_results = {}\n",
    "for det in data:\n",
    "    imgid = det['img_fname'].split('.')[0]\n",
    "    det_results[imgid] = []\n",
    "    for i in range(len(det['scores'])):\n",
    "        lbl = label2mid[det['ds_class_names'][i]]\n",
    "        if lbl not in mid2ont:\n",
    "            continue\n",
    "        box_normal = [float(x) for x in det['bbox'][i]]\n",
    "        box_normal[0] /= imgsize[imgid][0]\n",
    "        box_normal[1] /= imgsize[imgid][1]\n",
    "        box_normal[2] /= imgsize[imgid][0]\n",
    "        box_normal[3] /= imgsize[imgid][1]\n",
    "        det_results[imgid].append({\n",
    "            'label': lbl,\n",
    "            'score': det['scores'][i],\n",
    "            'bbox': det['bbox'][i],\n",
    "            'bbox_normalized': box_normal,\n",
    "        })"
   ]
  },
  {
   "cell_type": "code",
   "execution_count": 11,
   "metadata": {},
   "outputs": [
    {
     "data": {
      "text/plain": [
       "[{'label': '/m/01g317',\n",
       "  'score': 0.9542006850242615,\n",
       "  'bbox': [110, 96, 149, 149],\n",
       "  'bbox_normalized': [0.7333333333333333,\n",
       "   0.64,\n",
       "   0.9933333333333333,\n",
       "   0.9933333333333333]},\n",
       " {'label': '/m/01g317',\n",
       "  'score': 0.941010594367981,\n",
       "  'bbox': [76, 97, 115, 149],\n",
       "  'bbox_normalized': [0.5066666666666667,\n",
       "   0.6466666666666666,\n",
       "   0.7666666666666667,\n",
       "   0.9933333333333333]},\n",
       " {'label': '/m/01g317',\n",
       "  'score': 0.9387102723121643,\n",
       "  'bbox': [35, 100, 70, 149],\n",
       "  'bbox_normalized': [0.23333333333333334,\n",
       "   0.6666666666666666,\n",
       "   0.4666666666666667,\n",
       "   0.9933333333333333]},\n",
       " {'label': '/m/01g317',\n",
       "  'score': 0.9178503751754761,\n",
       "  'bbox': [0, 95, 33, 146],\n",
       "  'bbox_normalized': [0.0, 0.6333333333333333, 0.22, 0.9733333333333334]},\n",
       " {'label': '/m/01g317',\n",
       "  'score': 0.9122727513313293,\n",
       "  'bbox': [83, 18, 130, 85],\n",
       "  'bbox_normalized': [0.5533333333333333,\n",
       "   0.12,\n",
       "   0.8666666666666667,\n",
       "   0.5666666666666667]},\n",
       " {'label': '/m/01g317',\n",
       "  'score': 0.8953519463539124,\n",
       "  'bbox': [88, 44, 143, 101],\n",
       "  'bbox_normalized': [0.5866666666666667,\n",
       "   0.29333333333333333,\n",
       "   0.9533333333333334,\n",
       "   0.6733333333333333]},\n",
       " {'label': '/m/01g317',\n",
       "  'score': 0.8904201984405518,\n",
       "  'bbox': [0, 58, 58, 136],\n",
       "  'bbox_normalized': [0.0,\n",
       "   0.38666666666666666,\n",
       "   0.38666666666666666,\n",
       "   0.9066666666666666]},\n",
       " {'label': '/m/01g317',\n",
       "  'score': 0.879755973815918,\n",
       "  'bbox': [0, 10, 54, 90],\n",
       "  'bbox_normalized': [0.0, 0.06666666666666667, 0.36, 0.6]},\n",
       " {'label': '/m/01g317',\n",
       "  'score': 0.8771159648895264,\n",
       "  'bbox': [123, 19, 149, 86],\n",
       "  'bbox_normalized': [0.82,\n",
       "   0.12666666666666668,\n",
       "   0.9933333333333333,\n",
       "   0.5733333333333334]},\n",
       " {'label': '/m/01g317',\n",
       "  'score': 0.758112370967865,\n",
       "  'bbox': [137, 6, 149, 51],\n",
       "  'bbox_normalized': [0.9133333333333333, 0.04, 0.9933333333333333, 0.34]},\n",
       " {'label': '/m/01g317',\n",
       "  'score': 0.7182226777076721,\n",
       "  'bbox': [51, 4, 89, 54],\n",
       "  'bbox_normalized': [0.34, 0.02666666666666667, 0.5933333333333334, 0.36]},\n",
       " {'label': '/m/01g317',\n",
       "  'score': 0.7053709030151367,\n",
       "  'bbox': [0, 44, 51, 102],\n",
       "  'bbox_normalized': [0.0, 0.29333333333333333, 0.34, 0.68]}]"
      ]
     },
     "execution_count": 11,
     "metadata": {},
     "output_type": "execute_result"
    }
   ],
   "source": [
    "det_results['IC0011V2T']"
   ]
  },
  {
   "cell_type": "code",
   "execution_count": null,
   "metadata": {},
   "outputs": [],
   "source": []
  },
  {
   "cell_type": "code",
   "execution_count": null,
   "metadata": {},
   "outputs": [],
   "source": []
  },
  {
   "cell_type": "code",
   "execution_count": 12,
   "metadata": {},
   "outputs": [],
   "source": [
    "with open('../../results/det_results_ram_m18_dryrun_1_jpg.pkl', 'wb') as fout:\n",
    "    pickle.dump(det_results, fout)"
   ]
  },
  {
   "cell_type": "code",
   "execution_count": null,
   "metadata": {},
   "outputs": [],
   "source": []
  },
  {
   "cell_type": "code",
   "execution_count": null,
   "metadata": {},
   "outputs": [],
   "source": []
  }
 ],
 "metadata": {
  "kernelspec": {
   "display_name": "Py3 for AIDA",
   "language": "python",
   "name": "aida"
  },
  "language_info": {
   "codemirror_mode": {
    "name": "ipython",
    "version": 3
   },
   "file_extension": ".py",
   "mimetype": "text/x-python",
   "name": "python",
   "nbconvert_exporter": "python",
   "pygments_lexer": "ipython3",
   "version": "3.6.5"
  }
 },
 "nbformat": 4,
 "nbformat_minor": 2
}
