{
 "cells": [
  {
   "cell_type": "code",
   "execution_count": 1,
   "metadata": {},
   "outputs": [],
   "source": [
    "import csv\n",
    "import pickle\n",
    "import numpy"
   ]
  },
  {
   "cell_type": "code",
   "execution_count": 2,
   "metadata": {},
   "outputs": [],
   "source": [
    "import lmdb\n",
    "import cv2\n",
    "import numpy as np"
   ]
  },
  {
   "cell_type": "code",
   "execution_count": null,
   "metadata": {},
   "outputs": [],
   "source": []
  },
  {
   "cell_type": "code",
   "execution_count": 3,
   "metadata": {},
   "outputs": [],
   "source": [
    "labels = ['aeroplane', 'bicycle', 'bird', 'boat', 'bottle', 'bus', 'car', 'cat', 'chair', 'cow', \n",
    "          'diningtable', 'dog', 'horse', 'motorbike', 'person', 'pottedplant', 'sheep', 'sofa', 'train', 'tvmonitor']"
   ]
  },
  {
   "cell_type": "code",
   "execution_count": 4,
   "metadata": {},
   "outputs": [],
   "source": [
    "mids = ['/m/0cmf2', '/m/0199g', '/m/015p6', '/m/019jd', '/m/04dr76w', '/m/01bjv', '/m/0k4j', \n",
    "        '/m/01yrx', '/m/01mzpv', '/m/01xq0k1', '/m/0h8n5zk', '/m/0bt9lr', '/m/03k3r', '/m/04_sv', \n",
    "        '/m/01g317', '/m/03fp41', '/m/07bgp', '/m/03m3pdh', '/m/07jdr', '/m/02522']"
   ]
  },
  {
   "cell_type": "code",
   "execution_count": 5,
   "metadata": {},
   "outputs": [
    {
     "data": {
      "text/plain": [
       "(20, 20)"
      ]
     },
     "execution_count": 5,
     "metadata": {},
     "output_type": "execute_result"
    }
   ],
   "source": [
    "len(labels), len(mids), "
   ]
  },
  {
   "cell_type": "code",
   "execution_count": null,
   "metadata": {},
   "outputs": [],
   "source": []
  },
  {
   "cell_type": "code",
   "execution_count": 6,
   "metadata": {},
   "outputs": [],
   "source": [
    "label2mid = {}\n",
    "for i in range(20):\n",
    "    label2mid[labels[i]] = mids[i]"
   ]
  },
  {
   "cell_type": "code",
   "execution_count": null,
   "metadata": {},
   "outputs": [],
   "source": []
  },
  {
   "cell_type": "code",
   "execution_count": 7,
   "metadata": {},
   "outputs": [],
   "source": [
    "det_results = {}\n",
    "pick = False\n",
    "with open('/dvmm-filer2/projects/AIDA/Ram/USC_IRIS_detections_bbox_coordinates_with_feature_vectors_on_columbia_test_subset_pascal_1.tab', 'r') as fin:\n",
    "    for line in fin:\n",
    "        if pick:\n",
    "            pick = False\n",
    "        else:\n",
    "            pick = True\n",
    "            continue\n",
    "            \n",
    "        docid, entev, label, x1, y1, x2, y2, score = line.split()\n",
    "        \n",
    "        label = label.split('/')[-1]\n",
    "        if label not in label2mid:\n",
    "            continue\n",
    "        \n",
    "        val = {\n",
    "            'label': label2mid[label],\n",
    "            'score': float(score),\n",
    "            'bbox': numpy.asarray([x1, y1, x2, y2], dtype='int32'),\n",
    "        }\n",
    "        \n",
    "        if det_results.get(docid) is None:\n",
    "            det_results[docid] = []\n",
    "            \n",
    "        det_results[docid].append(val)"
   ]
  },
  {
   "cell_type": "code",
   "execution_count": null,
   "metadata": {},
   "outputs": [],
   "source": []
  },
  {
   "cell_type": "code",
   "execution_count": 8,
   "metadata": {},
   "outputs": [],
   "source": [
    "url2id = {}\n",
    "with open('../../../../data/OpenImages/metadata-v4/image-urls/test-images-with-rotation.csv', 'r') as fin:\n",
    "    for line in csv.reader(fin):\n",
    "        if url2id.get(line[2]) != None:\n",
    "            print('duplicate')\n",
    "        url2id[line[2]] = line[0]"
   ]
  },
  {
   "cell_type": "code",
   "execution_count": null,
   "metadata": {},
   "outputs": [],
   "source": []
  },
  {
   "cell_type": "code",
   "execution_count": 9,
   "metadata": {},
   "outputs": [],
   "source": [
    "det_results_2 = {url2id[key]: val for key, val in det_results.items()}"
   ]
  },
  {
   "cell_type": "code",
   "execution_count": null,
   "metadata": {},
   "outputs": [],
   "source": []
  },
  {
   "cell_type": "code",
   "execution_count": 10,
   "metadata": {},
   "outputs": [],
   "source": [
    "with open('../../temp/test_subset_pascal_1.pkl', 'rb') as fin:\n",
    "    img_subset_pascal = pickle.load(fin)"
   ]
  },
  {
   "cell_type": "code",
   "execution_count": 11,
   "metadata": {},
   "outputs": [],
   "source": [
    "lmdb_path = '../../../../data/OpenImages/lmdb/test-600.lmdb'\n",
    "env = lmdb.open(lmdb_path, map_size=1e11, readonly=True, lock=False)\n",
    "txn = env.begin(write=False)\n",
    "cursor = txn.cursor()"
   ]
  },
  {
   "cell_type": "code",
   "execution_count": 14,
   "metadata": {},
   "outputs": [
    {
     "name": "stderr",
     "output_type": "stream",
     "text": [
      "/home/alireza/home_at_filer2/tools/anaconda3/envs/py3tf/lib/python3.6/site-packages/ipykernel/__main__.py:4: DeprecationWarning: The binary mode of fromstring is deprecated, as it behaves surprisingly on unicode inputs. Use frombuffer instead\n"
     ]
    }
   ],
   "source": [
    "image_shape = {}\n",
    "for i, imgid in enumerate(img_subset_pascal):\n",
    "    imgbin = txn.get(imgid.encode('utf-8'))\n",
    "    imgbgr = cv2.imdecode(np.fromstring(imgbin, dtype='uint8'), cv2.IMREAD_COLOR)\n",
    "    h, w, _ = imgbgr.shape\n",
    "    image_shape[imgid] = (w, h)"
   ]
  },
  {
   "cell_type": "code",
   "execution_count": 15,
   "metadata": {},
   "outputs": [],
   "source": [
    "with open('../../temp/pascal_reference_imgsize_1', 'wb') as fout:\n",
    "    pickle.dump(image_shape, fout)"
   ]
  },
  {
   "cell_type": "code",
   "execution_count": 11,
   "metadata": {},
   "outputs": [],
   "source": [
    "with open('../../temp/pascal_reference_imgsize_1', 'rb') as fin:\n",
    "    image_shape = pickle.load(fin)"
   ]
  },
  {
   "cell_type": "code",
   "execution_count": null,
   "metadata": {},
   "outputs": [],
   "source": []
  },
  {
   "cell_type": "code",
   "execution_count": 12,
   "metadata": {},
   "outputs": [
    {
     "name": "stdout",
     "output_type": "stream",
     "text": [
      "results for 04a6eb882c39a5ce not found\n",
      "results for a0e244d43b080f3e not found\n",
      "results for 6f9d7a5776695ab1 not found\n",
      "results for 9a5e89dd7b708a87 not found\n",
      "results for 53f2cb95c5152a9b not found\n",
      "results for 56c26c0e4d8b8829 not found\n",
      "results for 6c93d3bf2af95172 not found\n",
      "results for 855808d6566049cc not found\n",
      "results for 88a73ab97e603b26 not found\n",
      "results for a66a8a4db9cdf1d5 not found\n",
      "results for 2f0a4f7fc284420a not found\n",
      "results for 9e66e8b9b7dda141 not found\n",
      "results for af81de4df0d72c6b not found\n",
      "results for 15dcc2cb5c2f72b2 not found\n",
      "results for a758342da34c2c98 not found\n",
      "results for 82d61900e7759285 not found\n",
      "results for 1eb92a30c168a3a5 not found\n",
      "results for 5279cf374d2308c3 not found\n",
      "results for ff94d46fcedd8f78 not found\n",
      "results for b8bf2650c78c81f9 not found\n",
      "results for a14c67eabcddaa81 not found\n",
      "results for 7f5fb52baffdcf55 not found\n",
      "results for 9865400d711fbbfb not found\n",
      "results for c862df01b724f924 not found\n",
      "results for 99a0c49a6c22df59 not found\n",
      "results for c38074e97ca95e3b not found\n",
      "results for bd1f0bbcb76ea2a6 not found\n",
      "results for d1113947fc811e6d not found\n",
      "results for 7da71728d715e909 not found\n",
      "results for 996a921d710daa55 not found\n",
      "results for 82e57ade3fb714ca not found\n",
      "results for 9625bbe3a59f1688 not found\n",
      "results for 880329a1ceee2f45 not found\n",
      "results for a6c3a08bc83ee822 not found\n",
      "results for 3075e899a8d2ef86 not found\n",
      "results for 4262e2d5da082581 not found\n",
      "results for 69b2dd64466c32c1 not found\n",
      "results for 964ad82bf7ed1313 not found\n",
      "results for 3ce412f93fe15068 not found\n",
      "results for c7ce9a03a1ae7c2b not found\n",
      "results for dee1b1c220415295 not found\n",
      "results for a74744b3e8f4a6e4 not found\n",
      "results for bee45a858bdb201b not found\n",
      "results for 77b84e6f1997114d not found\n",
      "results for 8c8f6a57c4085f85 not found\n",
      "results for 3a98760d7fc5630f not found\n",
      "results for 695ab671393e504e not found\n",
      "results for 799639a84675b0ba not found\n",
      "results for 347b50b4500f1e48 not found\n",
      "results for c8b1e6da466efadc not found\n",
      "results for 14c1375d2f382e4f not found\n",
      "results for 9694a7d098c3a4db not found\n",
      "results for a7c4157a735894ec not found\n",
      "results for 42900a970f2e108d not found\n",
      "results for f619fc8b0adafbd1 not found\n",
      "results for 2a1b9f81cc202219 not found\n",
      "results for ebe0310a56ffd9b6 not found\n",
      "results for 15588d2079a35327 not found\n",
      "results for ad059edae92502da not found\n",
      "results for a3917ee6dc8e2f65 not found\n",
      "results for b657fb701244d7c6 not found\n",
      "results for 5436a96557a9827e not found\n",
      "results for a0148e7626d4ae1c not found\n",
      "results for 45b3eb40d95f2e81 not found\n",
      "results for 7710805a00671b89 not found\n",
      "results for 5c35922cacbedc06 not found\n",
      "results for 2c11d0dad63f6bfa not found\n",
      "results for a748153126887013 not found\n",
      "results for 7902c9fcb0d41a10 not found\n",
      "results for 4c675cb8ef974663 not found\n",
      "results for a35b8543507acdd2 not found\n",
      "results for a686495a66c21051 not found\n",
      "results for 9d96f3293e1b7432 not found\n",
      "results for 8a0388c6887df616 not found\n",
      "results for 16585a34a88c5a69 not found\n",
      "results for f0ecf16aae0606d5 not found\n",
      "results for aed3da55e0bc6852 not found\n",
      "results for 59177cc2011367dd not found\n",
      "results for 3145461633eeb6e6 not found\n",
      "results for 141a89e2de02312b not found\n",
      "results for fbbb0252d117c108 not found\n",
      "results for 2180f939e6058c68 not found\n",
      "results for 0d556269099a2d09 not found\n",
      "results for 56b7b895bbd63f11 not found\n",
      "results for afac8875d2dadaf3 not found\n",
      "results for 99ae8b17a48339b8 not found\n",
      "results for f6c9496247193a46 not found\n",
      "results for 93302d4306464026 not found\n",
      "results for faaba393a47b1173 not found\n",
      "results for 69ea275962c314b5 not found\n",
      "results for c67221f10c2b742d not found\n",
      "results for 053ab9bcb0f05d96 not found\n",
      "results for 82d6c4ae74d78b8e not found\n",
      "results for 83a648fe1288fa19 not found\n",
      "results for b805f57fc0b16173 not found\n",
      "results for fb7feb25d9b274c0 not found\n",
      "results for 9d473083f5b0286d not found\n",
      "results for f1e5875520627dfe not found\n",
      "results for 56c50cfa5a18e5d6 not found\n",
      "results for 083e7253a5c2ca31 not found\n"
     ]
    }
   ],
   "source": [
    "det_results_3 = {}\n",
    "for imgid in img_subset_pascal:\n",
    "    det_results_3[imgid] = []\n",
    "    if imgid not in det_results_2:\n",
    "        print(f'results for {imgid} not found')\n",
    "        continue\n",
    "    for det in det_results_2[imgid]:\n",
    "        det_results_3[imgid].append({\n",
    "            'label': det['label'],\n",
    "            'score': det['score'],\n",
    "            'bbox': det['bbox'],\n",
    "            'bbox_normalized': numpy.asarray([\n",
    "                det['bbox'][0] / image_shape[imgid][0],\n",
    "                det['bbox'][1] / image_shape[imgid][1],\n",
    "                det['bbox'][2] / image_shape[imgid][0],\n",
    "                det['bbox'][3] / image_shape[imgid][1],\n",
    "            ]),\n",
    "            'model': 'pascal',                       \n",
    "        })"
   ]
  },
  {
   "cell_type": "code",
   "execution_count": null,
   "metadata": {},
   "outputs": [],
   "source": []
  },
  {
   "cell_type": "code",
   "execution_count": 13,
   "metadata": {},
   "outputs": [
    {
     "data": {
      "text/plain": [
       "[{'label': '/m/0k4j',\n",
       "  'score': 0.9746142,\n",
       "  'bbox': array([  5,  34, 576, 781], dtype=int32),\n",
       "  'bbox_normalized': array([0.00833333, 0.03777778, 0.96      , 0.86777778]),\n",
       "  'model': 'pascal'},\n",
       " {'label': '/m/0k4j',\n",
       "  'score': 0.87123984,\n",
       "  'bbox': array([ 25, 536, 597, 899], dtype=int32),\n",
       "  'bbox_normalized': array([0.04166667, 0.59555556, 0.995     , 0.99888889]),\n",
       "  'model': 'pascal'}]"
      ]
     },
     "execution_count": 13,
     "metadata": {},
     "output_type": "execute_result"
    }
   ],
   "source": [
    "det_results_3['8d83dc2e31aa0a6e']"
   ]
  },
  {
   "cell_type": "code",
   "execution_count": null,
   "metadata": {},
   "outputs": [],
   "source": []
  },
  {
   "cell_type": "code",
   "execution_count": 14,
   "metadata": {},
   "outputs": [],
   "source": [
    "with open('../../results/det_results_ram_reference_1', 'wb') as fout:\n",
    "    pickle.dump(det_results_3, fout)"
   ]
  },
  {
   "cell_type": "code",
   "execution_count": null,
   "metadata": {},
   "outputs": [],
   "source": []
  },
  {
   "cell_type": "code",
   "execution_count": null,
   "metadata": {},
   "outputs": [],
   "source": []
  }
 ],
 "metadata": {
  "kernelspec": {
   "display_name": "Py3 w/ Tensorflow",
   "language": "python",
   "name": "py3tf"
  },
  "language_info": {
   "codemirror_mode": {
    "name": "ipython",
    "version": 3
   },
   "file_extension": ".py",
   "mimetype": "text/x-python",
   "name": "python",
   "nbconvert_exporter": "python",
   "pygments_lexer": "ipython3",
   "version": "3.6.5"
  }
 },
 "nbformat": 4,
 "nbformat_minor": 2
}
