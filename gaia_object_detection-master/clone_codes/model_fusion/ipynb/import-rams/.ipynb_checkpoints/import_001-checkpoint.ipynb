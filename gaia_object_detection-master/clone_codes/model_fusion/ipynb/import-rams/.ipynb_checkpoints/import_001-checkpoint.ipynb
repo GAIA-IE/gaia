{
 "cells": [
  {
   "cell_type": "code",
   "execution_count": 1,
   "metadata": {},
   "outputs": [],
   "source": [
    "import csv\n",
    "import pickle\n",
    "import numpy"
   ]
  },
  {
   "cell_type": "code",
   "execution_count": null,
   "metadata": {},
   "outputs": [],
   "source": []
  },
  {
   "cell_type": "code",
   "execution_count": 2,
   "metadata": {},
   "outputs": [],
   "source": [
    "labels = ['aeroplane', 'bicycle', 'bird', 'boat', 'bottle', 'bus', 'car', 'cat', 'chair', 'cow', \n",
    "          'diningtable', 'dog', 'horse', 'motorbike', 'person', 'pottedplant', 'sheep', 'sofa', 'train', 'tvmonitor']"
   ]
  },
  {
   "cell_type": "code",
   "execution_count": 3,
   "metadata": {},
   "outputs": [],
   "source": [
    "mids = ['/m/0cmf2', '/m/0199g', '/m/015p6', '/m/019jd', '/m/04dr76w', '/m/01bjv', '/m/0k4j', \n",
    "        '/m/01yrx', '/m/01mzpv', '/m/01xq0k1', '/m/0h8n5zk', '/m/0bt9lr', '/m/03k3r', '/m/04_sv', \n",
    "        '/m/01g317', '/m/03fp41', '/m/07bgp', '/m/03m3pdh', '/m/07jdr', '/m/02522']"
   ]
  },
  {
   "cell_type": "code",
   "execution_count": 4,
   "metadata": {},
   "outputs": [
    {
     "data": {
      "text/plain": [
       "(20, 20)"
      ]
     },
     "execution_count": 4,
     "metadata": {},
     "output_type": "execute_result"
    }
   ],
   "source": [
    "len(labels), len(mids), "
   ]
  },
  {
   "cell_type": "code",
   "execution_count": null,
   "metadata": {},
   "outputs": [],
   "source": []
  },
  {
   "cell_type": "code",
   "execution_count": 5,
   "metadata": {},
   "outputs": [],
   "source": [
    "label2mid = {}\n",
    "for i in range(20):\n",
    "    label2mid[labels[i]] = mids[i]"
   ]
  },
  {
   "cell_type": "code",
   "execution_count": null,
   "metadata": {},
   "outputs": [],
   "source": []
  },
  {
   "cell_type": "code",
   "execution_count": 6,
   "metadata": {},
   "outputs": [],
   "source": [
    "det_results = {}\n",
    "pick = False\n",
    "with open('/dvmm-filer2/projects/AIDA/Ram/AIDA_detections_bbox_coordinates_with_feature_vectors_on_jpg_LDC2018E01_Seedling_USC_IRIS.tab', 'r') as fin:\n",
    "    for line in fin:\n",
    "        if pick:\n",
    "            pick = False\n",
    "        else:\n",
    "            pick = True\n",
    "            continue\n",
    "            \n",
    "        docid, entev, label, x1, y1, x2, y2, score = line.split()\n",
    "        \n",
    "        label = label.split('/')[-1]\n",
    "        if label not in label2mid:\n",
    "            continue\n",
    "        \n",
    "        val = {\n",
    "            'label': label2mid[label],\n",
    "            'score': float(score),\n",
    "            'bbox': numpy.asarray([x1, y1, x2, y2], dtype='int32'),\n",
    "            'model': 'pascal',            \n",
    "        }\n",
    "        \n",
    "        if det_results.get(docid) is None:\n",
    "            det_results[docid] = []\n",
    "            \n",
    "        det_results[docid].append(val)"
   ]
  },
  {
   "cell_type": "code",
   "execution_count": null,
   "metadata": {},
   "outputs": [],
   "source": []
  },
  {
   "cell_type": "code",
   "execution_count": 7,
   "metadata": {},
   "outputs": [],
   "source": [
    "with open('../../temp/seedling_jpg_imgsize_1.pkl', 'rb') as fin:\n",
    "    image_shape = pickle.load(fin)"
   ]
  },
  {
   "cell_type": "code",
   "execution_count": null,
   "metadata": {},
   "outputs": [],
   "source": []
  },
  {
   "cell_type": "code",
   "execution_count": 8,
   "metadata": {},
   "outputs": [],
   "source": [
    "det_results_2 = {}\n",
    "for imgid_bad in det_results:\n",
    "    imgid = imgid_bad + '.jpg.ldcc'\n",
    "    det_results_2[imgid] = []\n",
    "    for det in det_results[imgid_bad]:\n",
    "        det_results_2[imgid].append({\n",
    "            'label': det['label'],\n",
    "            'score': det['score'],\n",
    "            'bbox': det['bbox'],\n",
    "            'bbox_normalized': numpy.asarray([\n",
    "                det['bbox'][0] / image_shape[imgid][0],\n",
    "                det['bbox'][1] / image_shape[imgid][1],\n",
    "                det['bbox'][2] / image_shape[imgid][0],\n",
    "                det['bbox'][3] / image_shape[imgid][1],\n",
    "            ]),\n",
    "            'model': 'pascal',                       \n",
    "        })"
   ]
  },
  {
   "cell_type": "code",
   "execution_count": null,
   "metadata": {},
   "outputs": [],
   "source": []
  },
  {
   "cell_type": "code",
   "execution_count": null,
   "metadata": {},
   "outputs": [],
   "source": []
  },
  {
   "cell_type": "code",
   "execution_count": 9,
   "metadata": {},
   "outputs": [],
   "source": [
    "with open('../../results/det_results_ram_seedling_part1_jpg_1', 'wb') as fout:\n",
    "    pickle.dump(det_results_2, fout)"
   ]
  },
  {
   "cell_type": "code",
   "execution_count": null,
   "metadata": {},
   "outputs": [],
   "source": []
  },
  {
   "cell_type": "code",
   "execution_count": null,
   "metadata": {},
   "outputs": [],
   "source": []
  }
 ],
 "metadata": {
  "kernelspec": {
   "display_name": "Py3 for AIDA",
   "language": "python",
   "name": "aida"
  },
  "language_info": {
   "codemirror_mode": {
    "name": "ipython",
    "version": 3
   },
   "file_extension": ".py",
   "mimetype": "text/x-python",
   "name": "python",
   "nbconvert_exporter": "python",
   "pygments_lexer": "ipython3",
   "version": "3.6.5"
  }
 },
 "nbformat": 4,
 "nbformat_minor": 2
}
