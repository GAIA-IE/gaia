{
 "cells": [
  {
   "cell_type": "code",
   "execution_count": 1,
   "metadata": {},
   "outputs": [],
   "source": [
    "import json\n",
    "import pickle\n",
    "import numpy as np"
   ]
  },
  {
   "cell_type": "code",
   "execution_count": null,
   "metadata": {},
   "outputs": [],
   "source": []
  },
  {
   "cell_type": "code",
   "execution_count": 2,
   "metadata": {},
   "outputs": [],
   "source": [
    "labels = ['aeroplane', 'bicycle', 'bird', 'boat', 'bottle', 'bus', 'car', 'cat', 'chair', 'cow', \n",
    "          'diningtable', 'dog', 'horse', 'motorbike', 'person', 'pottedplant', 'sheep', 'sofa', 'train', 'tvmonitor']"
   ]
  },
  {
   "cell_type": "code",
   "execution_count": 3,
   "metadata": {},
   "outputs": [],
   "source": [
    "mids = ['/m/0cmf2', '/m/0199g', '/m/015p6', '/m/019jd', '/m/04dr76w', '/m/01bjv', '/m/0k4j', \n",
    "        '/m/01yrx', '/m/01mzpv', '/m/01xq0k1', '/m/0h8n5zk', '/m/0bt9lr', '/m/03k3r', '/m/04_sv', \n",
    "        '/m/01g317', '/m/03fp41', '/m/07bgp', '/m/03m3pdh', '/m/07jdr', '/m/02522']"
   ]
  },
  {
   "cell_type": "code",
   "execution_count": 4,
   "metadata": {},
   "outputs": [
    {
     "data": {
      "text/plain": [
       "(20, 20)"
      ]
     },
     "execution_count": 4,
     "metadata": {},
     "output_type": "execute_result"
    }
   ],
   "source": [
    "len(labels), len(mids), "
   ]
  },
  {
   "cell_type": "code",
   "execution_count": null,
   "metadata": {},
   "outputs": [],
   "source": []
  },
  {
   "cell_type": "code",
   "execution_count": 5,
   "metadata": {},
   "outputs": [],
   "source": [
    "with open('../../../wsod/metadata/ont_m18/mapping.pkl', 'rb') as fin:\n",
    "    mid2ont, syn2mid, single_mids, mid2syn, class2ont, ont2name, class_names = pickle.load(fin)  "
   ]
  },
  {
   "cell_type": "code",
   "execution_count": null,
   "metadata": {},
   "outputs": [],
   "source": []
  },
  {
   "cell_type": "code",
   "execution_count": 6,
   "metadata": {},
   "outputs": [],
   "source": [
    "label2mid = {}\n",
    "for i in range(20):\n",
    "    label2mid[labels[i]] = mids[i]"
   ]
  },
  {
   "cell_type": "code",
   "execution_count": null,
   "metadata": {},
   "outputs": [],
   "source": []
  },
  {
   "cell_type": "code",
   "execution_count": 7,
   "metadata": {},
   "outputs": [],
   "source": [
    "with open('../../temp/imgsize_m18_dryrun_kf.pkl', 'rb') as fin:\n",
    "    imgsize = pickle.load(fin)"
   ]
  },
  {
   "cell_type": "code",
   "execution_count": 8,
   "metadata": {},
   "outputs": [],
   "source": [
    "with open('../../../../data/dryrun_m18/kf_id2path.pkl', 'rb') as fin:\n",
    "    kf_id_to_img_path = pickle.load(fin)"
   ]
  },
  {
   "cell_type": "code",
   "execution_count": 9,
   "metadata": {},
   "outputs": [],
   "source": [
    "img_name_to_kf_id = {}\n",
    "for key, val in kf_id_to_img_path.items():\n",
    "    img_name = val.split('/')[-1]\n",
    "    img_name_to_kf_id[img_name] = key"
   ]
  },
  {
   "cell_type": "code",
   "execution_count": null,
   "metadata": {},
   "outputs": [],
   "source": []
  },
  {
   "cell_type": "code",
   "execution_count": 10,
   "metadata": {},
   "outputs": [],
   "source": [
    "with open('/home/alireza/aida/rootdir/Ram/M18/img_bbox_kf.json', 'r') as fin:\n",
    "    data = json.load(fin)"
   ]
  },
  {
   "cell_type": "code",
   "execution_count": 11,
   "metadata": {},
   "outputs": [
    {
     "data": {
      "text/plain": [
       "{'img_fname': 'v_faDT44w4VMX9bZHg_50.png',\n",
       " 'bbox': [[455, 119, 636, 324],\n",
       "  [442, 34, 611, 163],\n",
       "  [246, 120, 369, 261],\n",
       "  [8, 107, 167, 307]],\n",
       " 'scores': [0.969698429107666,\n",
       "  0.9406774640083313,\n",
       "  0.929071307182312,\n",
       "  0.9149217009544373],\n",
       " 'ds_labels': [15, 20, 15, 15],\n",
       " 'ds_class_names': ['person', 'tvmonitor', 'person', 'person'],\n",
       " 'ds_name': 'voc'}"
      ]
     },
     "execution_count": 11,
     "metadata": {},
     "output_type": "execute_result"
    }
   ],
   "source": [
    "data[0]"
   ]
  },
  {
   "cell_type": "code",
   "execution_count": 12,
   "metadata": {},
   "outputs": [],
   "source": [
    "det_results = {}\n",
    "for det in data:\n",
    "    if det['img_fname'] in img_name_to_kf_id:\n",
    "        imgid = img_name_to_kf_id[det['img_fname']]\n",
    "    else:\n",
    "        imgid = img_name_to_kf_id[det['img_fname'] + '.ldcc']\n",
    "    det_results[imgid] = []\n",
    "    for i in range(len(det['scores'])):\n",
    "        lbl = label2mid[det['ds_class_names'][i]]\n",
    "        if lbl not in mid2ont:\n",
    "            continue\n",
    "        box_normal = [float(x) for x in det['bbox'][i]]\n",
    "        box_normal[0] /= imgsize[imgid][0]\n",
    "        box_normal[1] /= imgsize[imgid][1]\n",
    "        box_normal[2] /= imgsize[imgid][0]\n",
    "        box_normal[3] /= imgsize[imgid][1]\n",
    "        det_results[imgid].append({\n",
    "            'label': lbl,\n",
    "            'score': det['scores'][i],\n",
    "            'bbox': det['bbox'][i],\n",
    "            'bbox_normalized': box_normal,\n",
    "        })"
   ]
  },
  {
   "cell_type": "code",
   "execution_count": null,
   "metadata": {},
   "outputs": [],
   "source": []
  },
  {
   "cell_type": "code",
   "execution_count": 13,
   "metadata": {},
   "outputs": [
    {
     "data": {
      "text/plain": [
       "[{'label': '/m/01g317',\n",
       "  'score': 0.969698429107666,\n",
       "  'bbox': [455, 119, 636, 324],\n",
       "  'bbox_normalized': [0.7109375, 0.33055555555555555, 0.99375, 0.9]},\n",
       " {'label': '/m/01g317',\n",
       "  'score': 0.929071307182312,\n",
       "  'bbox': [246, 120, 369, 261],\n",
       "  'bbox_normalized': [0.384375, 0.3333333333333333, 0.5765625, 0.725]},\n",
       " {'label': '/m/01g317',\n",
       "  'score': 0.9149217009544373,\n",
       "  'bbox': [8, 107, 167, 307],\n",
       "  'bbox_normalized': [0.0125,\n",
       "   0.2972222222222222,\n",
       "   0.2609375,\n",
       "   0.8527777777777777]}]"
      ]
     },
     "execution_count": 13,
     "metadata": {},
     "output_type": "execute_result"
    }
   ],
   "source": [
    "det_results['HC000ZKCH_50']"
   ]
  },
  {
   "cell_type": "code",
   "execution_count": null,
   "metadata": {},
   "outputs": [],
   "source": []
  },
  {
   "cell_type": "code",
   "execution_count": null,
   "metadata": {},
   "outputs": [],
   "source": []
  },
  {
   "cell_type": "code",
   "execution_count": 14,
   "metadata": {},
   "outputs": [],
   "source": [
    "with open('../../results/det_results_ram_m18_dryrun_1_kf.pkl', 'wb') as fout:\n",
    "    pickle.dump(det_results, fout)"
   ]
  },
  {
   "cell_type": "code",
   "execution_count": null,
   "metadata": {},
   "outputs": [],
   "source": []
  },
  {
   "cell_type": "code",
   "execution_count": null,
   "metadata": {},
   "outputs": [],
   "source": []
  }
 ],
 "metadata": {
  "kernelspec": {
   "display_name": "Py3 for AIDA",
   "language": "python",
   "name": "aida"
  },
  "language_info": {
   "codemirror_mode": {
    "name": "ipython",
    "version": 3
   },
   "file_extension": ".py",
   "mimetype": "text/x-python",
   "name": "python",
   "nbconvert_exporter": "python",
   "pygments_lexer": "ipython3",
   "version": "3.6.5"
  }
 },
 "nbformat": 4,
 "nbformat_minor": 2
}
