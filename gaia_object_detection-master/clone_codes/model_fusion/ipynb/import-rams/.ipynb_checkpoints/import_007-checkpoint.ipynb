{
 "cells": [
  {
   "cell_type": "code",
   "execution_count": 1,
   "metadata": {},
   "outputs": [],
   "source": [
    "import csv\n",
    "import pickle\n",
    "import numpy"
   ]
  },
  {
   "cell_type": "code",
   "execution_count": null,
   "metadata": {},
   "outputs": [],
   "source": []
  },
  {
   "cell_type": "code",
   "execution_count": 2,
   "metadata": {},
   "outputs": [],
   "source": [
    "labels = ['aeroplane', 'bicycle', 'bird', 'boat', 'bottle', 'bus', 'car', 'cat', 'chair', 'cow', \n",
    "          'diningtable', 'dog', 'horse', 'motorbike', 'person', 'pottedplant', 'sheep', 'sofa', 'train', 'tvmonitor']"
   ]
  },
  {
   "cell_type": "code",
   "execution_count": 3,
   "metadata": {},
   "outputs": [],
   "source": [
    "mids = ['/m/0cmf2', '/m/0199g', '/m/015p6', '/m/019jd', '/m/04dr76w', '/m/01bjv', '/m/0k4j', \n",
    "        '/m/01yrx', '/m/01mzpv', '/m/01xq0k1', '/m/0h8n5zk', '/m/0bt9lr', '/m/03k3r', '/m/04_sv', \n",
    "        '/m/01g317', '/m/03fp41', '/m/07bgp', '/m/03m3pdh', '/m/07jdr', '/m/02522']"
   ]
  },
  {
   "cell_type": "code",
   "execution_count": 4,
   "metadata": {},
   "outputs": [
    {
     "data": {
      "text/plain": [
       "(20, 20)"
      ]
     },
     "execution_count": 4,
     "metadata": {},
     "output_type": "execute_result"
    }
   ],
   "source": [
    "len(labels), len(mids), "
   ]
  },
  {
   "cell_type": "code",
   "execution_count": null,
   "metadata": {},
   "outputs": [],
   "source": []
  },
  {
   "cell_type": "code",
   "execution_count": 5,
   "metadata": {},
   "outputs": [],
   "source": [
    "label2mid = {}\n",
    "for i in range(20):\n",
    "    label2mid[labels[i]] = mids[i]"
   ]
  },
  {
   "cell_type": "code",
   "execution_count": null,
   "metadata": {},
   "outputs": [],
   "source": []
  },
  {
   "cell_type": "code",
   "execution_count": 6,
   "metadata": {},
   "outputs": [],
   "source": [
    "det_results = {}\n",
    "pick = False\n",
    "with open('/home/alireza/aida/rootdir/Ram/AIDA_detections_on_LDC2018E62_USC_IRIS/AIDA_detections_bbox_coordinates_on_keyframes_LDC2018E62_USC_IRIS.tab', 'r') as fin:\n",
    "    for line in fin:\n",
    "        if not pick:\n",
    "            pick = True\n",
    "            continue\n",
    "            \n",
    "        docid, entev, label, x1, y1, x2, y2, score = line.split()\n",
    "        \n",
    "        label = label.split('/')[-1]\n",
    "        if label not in label2mid:\n",
    "            continue\n",
    "        \n",
    "        val = {\n",
    "            'label': label2mid[label],\n",
    "            'score': float(score),\n",
    "            'bbox': numpy.asarray([x1, y1, x2, y2], dtype='int32'),\n",
    "            'model': 'pascal',            \n",
    "        }\n",
    "        \n",
    "        if det_results.get(docid) is None:\n",
    "            det_results[docid] = []\n",
    "            \n",
    "        det_results[docid].append(val)"
   ]
  },
  {
   "cell_type": "code",
   "execution_count": null,
   "metadata": {},
   "outputs": [],
   "source": []
  },
  {
   "cell_type": "code",
   "execution_count": 10,
   "metadata": {},
   "outputs": [],
   "source": [
    "kfid_to_docid = {}\n",
    "\n",
    "with open('../../../../data/eval_m9/msb.txt', 'r') as fin:\n",
    "    for line in fin:\n",
    "        row = line.split()\n",
    "\n",
    "        docid = row[1]\n",
    "        kfid = row[0] + '_' + docid.split('_')[-1]\n",
    "        \n",
    "        kfid_to_docid[kfid] = docid\n"
   ]
  },
  {
   "cell_type": "code",
   "execution_count": null,
   "metadata": {},
   "outputs": [],
   "source": []
  },
  {
   "cell_type": "code",
   "execution_count": 17,
   "metadata": {},
   "outputs": [],
   "source": [
    "det_results_2 = {}\n",
    "for key in det_results:\n",
    "    if key in kfid_to_docid:\n",
    "        det_results_2[kfid_to_docid[key]] = det_results[key]\n"
   ]
  },
  {
   "cell_type": "code",
   "execution_count": 13,
   "metadata": {},
   "outputs": [
    {
     "data": {
      "text/plain": [
       "(62858, 62292)"
      ]
     },
     "execution_count": 13,
     "metadata": {},
     "output_type": "execute_result"
    }
   ],
   "source": [
    "len(det_results), len(det_results_2)"
   ]
  },
  {
   "cell_type": "code",
   "execution_count": null,
   "metadata": {},
   "outputs": [],
   "source": []
  },
  {
   "cell_type": "code",
   "execution_count": 14,
   "metadata": {},
   "outputs": [],
   "source": [
    "with open('../../temp/m9_keyframe_imgsize_1.pkl', 'rb') as fin:\n",
    "    image_shape = pickle.load(fin)"
   ]
  },
  {
   "cell_type": "code",
   "execution_count": 19,
   "metadata": {},
   "outputs": [],
   "source": [
    "det_results_3 = {}\n",
    "for imgid in det_results_2:\n",
    "    det_results_3[imgid] = []\n",
    "    for det in det_results_2[imgid]:\n",
    "        det_results_3[imgid].append({\n",
    "            'label': det['label'],\n",
    "            'score': det['score'],\n",
    "            'bbox': det['bbox'],\n",
    "            'bbox_normalized': numpy.asarray([\n",
    "                det['bbox'][0] / image_shape[imgid][0],\n",
    "                det['bbox'][1] / image_shape[imgid][1],\n",
    "                det['bbox'][2] / image_shape[imgid][0],\n",
    "                det['bbox'][3] / image_shape[imgid][1],\n",
    "            ]),\n",
    "            'model': 'pascal',                       \n",
    "        })"
   ]
  },
  {
   "cell_type": "code",
   "execution_count": null,
   "metadata": {},
   "outputs": [],
   "source": []
  },
  {
   "cell_type": "code",
   "execution_count": 20,
   "metadata": {},
   "outputs": [],
   "source": [
    "with open('../../results/det_results_ram_m9_keyframe_1', 'wb') as fout:\n",
    "    pickle.dump(det_results_3, fout)"
   ]
  },
  {
   "cell_type": "code",
   "execution_count": null,
   "metadata": {},
   "outputs": [],
   "source": []
  },
  {
   "cell_type": "code",
   "execution_count": null,
   "metadata": {},
   "outputs": [],
   "source": []
  }
 ],
 "metadata": {
  "kernelspec": {
   "display_name": "Py3 for AIDA",
   "language": "python",
   "name": "aida"
  },
  "language_info": {
   "codemirror_mode": {
    "name": "ipython",
    "version": 3
   },
   "file_extension": ".py",
   "mimetype": "text/x-python",
   "name": "python",
   "nbconvert_exporter": "python",
   "pygments_lexer": "ipython3",
   "version": "3.6.5"
  }
 },
 "nbformat": 4,
 "nbformat_minor": 2
}
