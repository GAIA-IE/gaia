{
 "cells": [
  {
   "cell_type": "code",
   "execution_count": 1,
   "metadata": {},
   "outputs": [],
   "source": [
    "import os\n",
    "import sys\n",
    "import pickle\n",
    "import csv\n",
    "import copy\n",
    "\n",
    "import numpy as np\n",
    "import cv2\n",
    "import matplotlib.pyplot as plt\n",
    "%matplotlib inline"
   ]
  },
  {
   "cell_type": "code",
   "execution_count": 2,
   "metadata": {},
   "outputs": [],
   "source": [
    "from ipywidgets import interact, interactive, fixed, interact_manual\n",
    "import ipywidgets as widgets"
   ]
  },
  {
   "cell_type": "code",
   "execution_count": 3,
   "metadata": {},
   "outputs": [
    {
     "name": "stderr",
     "output_type": "stream",
     "text": [
      "../../../tfobjdetect/lib/object_detection/utils/visualization_utils.py:25: UserWarning: matplotlib.pyplot as already been imported, this call will have no effect.\n",
      "  import matplotlib; matplotlib.use('Agg')  # pylint: disable=multiple-statements\n"
     ]
    }
   ],
   "source": [
    "sys.path.append(\"../../../tfobjdetect/lib\")\n",
    "from object_detection.utils import label_map_util\n",
    "from object_detection.utils import visualization_utils as vis_util"
   ]
  },
  {
   "cell_type": "markdown",
   "metadata": {},
   "source": [
    "## Loading and preparing label maps"
   ]
  },
  {
   "cell_type": "code",
   "execution_count": 4,
   "metadata": {},
   "outputs": [],
   "source": [
    "with open('../../../wsod/metadata/ont_m18/class_names_all.pkl', 'rb') as fin:\n",
    "    mid2name_all = pickle.load(fin)"
   ]
  },
  {
   "cell_type": "code",
   "execution_count": 7,
   "metadata": {},
   "outputs": [],
   "source": [
    "#with open('../../../wsod/metadata/ont_m18/class_names_all.csv', 'w') as fout:\n",
    "#    for key, val in mid2name_all.items():\n",
    "#        fout.write(f'{key},\"{val}\"\\n')"
   ]
  },
  {
   "cell_type": "code",
   "execution_count": 5,
   "metadata": {},
   "outputs": [],
   "source": [
    "with open('../../results/det_results_concat_31.pkl', 'rb') as fin:\n",
    "    det_results_concat = pickle.load(fin)"
   ]
  },
  {
   "cell_type": "code",
   "execution_count": 6,
   "metadata": {},
   "outputs": [],
   "source": [
    "with open('../../results/det_results_merged_31.pkl', 'rb') as fin:\n",
    "    det_results_merged = pickle.load(fin)"
   ]
  },
  {
   "cell_type": "code",
   "execution_count": null,
   "metadata": {},
   "outputs": [],
   "source": []
  },
  {
   "cell_type": "markdown",
   "metadata": {},
   "source": [
    "## Choosing examples for each class to visualize"
   ]
  },
  {
   "cell_type": "code",
   "execution_count": 7,
   "metadata": {},
   "outputs": [],
   "source": [
    "label_to_img = {key: [] for key in mid2name_all}\n",
    "for key, val in det_results_merged.items():\n",
    "    for det in val:\n",
    "        if det['score'] >= 0.1:\n",
    "            label_to_img[det['label']].append(key)"
   ]
  },
  {
   "cell_type": "code",
   "execution_count": 8,
   "metadata": {},
   "outputs": [],
   "source": [
    "all_labels = list(label_to_img.keys())"
   ]
  },
  {
   "cell_type": "code",
   "execution_count": 9,
   "metadata": {},
   "outputs": [],
   "source": [
    "sort_idx = np.argsort([-len(label_to_img[label]) for label in all_labels])"
   ]
  },
  {
   "cell_type": "code",
   "execution_count": 10,
   "metadata": {},
   "outputs": [
    {
     "name": "stdout",
     "output_type": "stream",
     "text": [
      "/m/01g317 PER (Person) 24843\n",
      "/m/04yx4 PER (Man) 5421\n",
      "/m/0k4j VEH.WheeledVehicle.Car (Car) 2063\n",
      "/m/0hf58v5 COM (Luggage_and_bags) 1895\n",
      "/m/04hgtk PER (Human_head) 1689\n",
      "/m/03bt1vf PER (Woman) 1235\n",
      "/m/03jm5 FAC.Building.House (House) 1212\n",
      "/m/07yv9 VEH (Vehicle) 1065\n",
      "/m/0bs7_0t COM (Electronic_device) 1036\n",
      "/m/021sj1 FAC.Building.OfficeBuilding (Office_building) 485\n",
      "/m/07k1x COM.Equipment (Tool) 468\n",
      "/m/03120 COM.Flag.Flag (Flag) 336\n",
      "/m/01prls VEH.WheeledVehicle (Land_vehicle) 301\n",
      "/m/019jd VEH.Watercraft.Boat (Boat) 279\n",
      "/m/0cmf2 VEH.Aircraft.Airplane (Airplane) 238\n",
      "/m/07cx4 COM (Telephone) 223\n",
      "/m/0cgh4 FAC.Building (Building) 181\n",
      "/m/07r04 VEH.WheeledVehicle.Truck (Truck) 164\n",
      "/m/07cmd VEH.MilitaryVehicle.Tank (Tank) 159\n",
      "/m/02p0zyj Conflict.Attack (Riot) 155\n",
      "/m/0199g VEH.WheeledVehicle (Bicycle) 121\n",
      "/m/07jdr VEH.WheeledVehicle.Train (Train) 111\n",
      "syn_016 Conflict.Attack.SelfDirectedBattle (Battle) 99\n",
      "/m/0chbx Conflict.Attack (Violence) 94\n",
      "/m/01bjv VEH.WheeledVehicle.Bus (Bus) 94\n",
      "/m/06c54 WEA.Gun.Firearm (Rifle) 93\n",
      "syn_006 WEA.DaggerKnifeSword (Knife) 92\n",
      "/m/05r655 PER (Girl) 65\n",
      "/m/01fdzj FAC.Structure.Tower (Tower) 64\n",
      "syn_004 ORG.MilitaryOrganization.GovernmentArmedForces (Infantry) 63\n",
      "/m/01bl7v PER (Boy) 61\n",
      "/m/09ct_ VEH.Aircraft.Helicopter (Helicopter) 53\n",
      "syn_001 PER.ProfessionalPosition.Spokesperson (Orator) 49\n",
      "/m/02_41 Disaster.FireExplosion.FireExplosion (Fire) 46\n",
      "/m/04_sv VEH.WheeledVehicle (Motorcycle) 43\n",
      "/m/06q40 Disaster.FireExplosion.FireExplosion (Smoke) 41\n",
      "/m/0hg7b COM.Equipment (Microphone) 40\n",
      "/m/012n4x PER.ProfessionalPosition.Firefighter (Firefighter) 33\n",
      "/m/01knjb COM (Billboard) 31\n",
      "/m/039l3v FAC.Building (Auditorium) 29\n",
      "/m/014zdl Disaster.FireExplosion.FireExplosion (Explosion) 27\n",
      "syn_014 ORG.MilitaryOrganization.GovernmentArmedForces (Military_camouflage) 26\n",
      "syn_018 Contact.PublicStatementInPerson.Broadcast (Public_speaking) 25\n",
      "/m/01c8br FAC.Way.Street (Street) 23\n",
      "syn_011 ORG (Logo) 23\n",
      "/m/0728h WEA.Gun.Artillery (Self-propelled_artillery) 21\n",
      "/m/06zdj FAC.Building.School (School) 21\n",
      "/m/03qtwd PER (Crowd) 19\n",
      "/m/03hfwtf VEH.MilitaryVehicle.MilitaryTransportAircraft (Military_transport_aircraft) 16\n",
      "syn_005 Movement.TransportPerson.SelfMotion (General_aviation) 14\n",
      "/m/06msq COM (Sculpture) 14\n",
      "/m/0hltv PER.ProfessionalPosition (Pilot) 13\n",
      "/m/0pg52 VEH.WheeledVehicle.Car (Taxi) 13\n",
      "/m/0crjs FAC.Building.StoreShop (Convenience_store) 13\n",
      "/m/015bv3 COM.Document (Document) 12\n",
      "syn_015 PER.Police (Security_guard) 12\n",
      "/m/01vzwd WEA.Cannon.Cannon (Mortar) 10\n",
      "/m/01klb9 FAC.Structure.Plaza (Plaza) 10\n",
      "/m/04_tb COM.Document.Map (Map) 9\n",
      "/m/02p0tk3 PER (Human_body) 9\n",
      "/m/0k05r ORG.PoliticalOrganization.Court (Court) 9\n",
      "/m/092x18 Justice.InitiateJudicialProcess.TrialHearing (Trial) 8\n",
      "/m/02k88w Conflict.Attack (Rebellion) 8\n",
      "/m/01_v7j COM.Document.PersonalIdentification (Identity_document) 8\n",
      "syn_024 MON.Cash.Cash (Money) 8\n",
      "/m/02_g0 Contact.FuneralVigil.Meet (Funeral) 7\n",
      "/m/0bh6t6c PER.ProfessionalPosition (Rescuer) 7\n",
      "/m/0583b1 FAC.Structure.Barricade (Barricade) 7\n",
      "/m/05ws7 PER.Police (Police) 7\n",
      "/m/01xgg_ COM.Equipment.MedicalEquipment (Medical_equipment) 6\n",
      "/m/01nd_n Conflict.Demonstrate.MarchProtestPoliticalGathering (Protest) 6\n",
      "/m/0cz_0 FAC.Way.Highway (Highway) 5\n",
      "syn_023 VEH.MilitaryVehicle.FighterAircraft (Fighter_aircraft) 4\n",
      "syn_020 VEH.MilitaryVehicle.MilitaryBoat (Missile_boat) 4\n",
      "/m/0g54v5d VEH.MilitaryVehicle (Military_vehicle) 4\n",
      "/m/06wwc COM.Equipment.Satellite (Satellite) 4\n",
      "/m/0g02q ORG.PoliticalOrganization.Court (Courthouse) 4\n",
      "/m/06gfj FAC.Way (Road) 4\n",
      "/m/03w1r4 ORG.MilitaryOrganization.GovernmentArmedForces (Military_uniform) 4\n",
      "/m/01j61q FAC (Tent) 4\n",
      "/m/0k5j VEH.Aircraft (Aircraft) 4\n",
      "syn_017 WEA.Bullets (Bullet) 4\n",
      "/m/026yq0z Conflict.Demonstrate (Demonstration) 4\n",
      "/m/01x3jk VEH (Snowmobile) 4\n",
      "/m/06zs7 PER.Combatant.Sniper (Sniper) 4\n",
      "/m/0brn2d LOC.Position.Field (Field) 3\n",
      "syn_021 VEH.MilitaryVehicle.MilitaryBoat (Aircraft_carrier) 3\n",
      "/m/01nblt FAC.Building.ApartmentBuilding (Apartment) 3\n",
      "/m/01n32 GPE.UrbanArea.City (City) 3\n",
      "/m/0byj4 Conflict.Attack.SelfDirectedBattle (Combat) 3\n",
      "/m/0d8qb PER.ProfessionalPosition.Journalist (Journalist) 3\n",
      "/m/083kb WEA (Weapon) 3\n",
      "/m/0ct4f WEA.Bomb (Bomb) 3\n",
      "syn_007 FAC (Cemetery) 3\n",
      "/m/04zjc WEA.Gun.Firearm (Machine_gun) 2\n",
      "/m/025syph PER.MilitaryPersonnel (map to OWG = Serviceman) (Fighter_pilot) 2\n",
      "/m/0g_k0 Manufacture.Artifact.CreateManufacture (Mass_production) 2\n",
      "/m/09g5h VEH (Spacecraft) 2\n",
      "/m/02bb1s WEA.Gun.Firearm (Sniper_rifle) 2\n",
      "/m/0275lwb VEH.MilitaryVehicle (Military_helicopter) 2\n",
      "/m/01rzcn VEH.Watercraft (Watercraft) 2\n",
      "/m/09rvcxw VEH.Rocket.Rocket (Rocket) 2\n",
      "/m/02lbcq COM.Equipment.MedicalEquipment (Stretcher) 2\n",
      "/m/04qvtq VEH.WheeledVehicle.Car (Police_car) 2\n",
      "/m/0168g6 FAC.Installation (Factory) 2\n",
      "/m/02q5pxq VEH.Aircraft (Aircraft_cabin) 2\n",
      "/m/027cnw2 PER.ProfessionalPosition.Minister (Minister) 2\n",
      "syn_003 PER.MilitaryPersonnel (map to OWG = Serviceman) (Military_person) 2\n",
      "/m/0h2r6 VEH.WheeledVehicle (Van) 1\n",
      "/m/0lt4_ COM.Equipment (Binoculars) 1\n",
      "/m/01h6cb Contact.Discussion.Meet (Meeting) 1\n",
      "/m/034qg WEA.Gun.Firearm (Firearm) 1\n",
      "/m/0jzbb PER.ProfessionalPosition.Paramedic (Paramedic) 1\n",
      "/m/08qrwn LOC.Land (Rubble) 1\n",
      "syn_013 Disaster.AccidentCrash.AccidentCrash (Accident) 1\n",
      "/m/06q74 VEH.Watercraft (Ship) 1\n",
      "/m/074d1 VEH.Watercraft (Submarine) 1\n",
      "/m/09g5pq PER (People) 1\n",
      "/m/02q60ls FAC.Building (Conference_hall) 1\n",
      "/m/04ylt WEA.MissileSystem.Missile (Missile) 1\n",
      "/m/039jbq GPE.UrbanArea (Urban_area) 1\n",
      "/m/0blz9 FAC.Structure (Fence) 1\n",
      "/m/0gxl3 WEA.Gun.Firearm (Handgun) 1\n",
      "/m/070qm Movement.TransportArtifact.BringCarryUnload (Freight_transport) 1\n",
      "/m/025s8bs FAC.Building.StoreShop (Shopping_mall) 1\n",
      "/m/079cl FAC.Building (Skyscraper) 1\n",
      "/m/0jb3 WEA.Gun.Firearm (Assault_rifle) 1\n",
      "/m/071rm Conflict.Attack.FirearmAttack (Shooting) 1\n",
      "/m/06q2q PER.ProfessionalPosition.Scientist (Scientist) 1\n",
      "/m/077hhl VEH.Aircraft.CargoAircraft (Cargo_aircraft) 1\n",
      "syn_019 Movement.TransportPerson (Transport) 0\n",
      "syn_012 Movement.TransportPerson.EvacuationRescue (Emergency_service) 0\n",
      "/m/012qdp PER.MilitaryPersonnel (map to OWG = Serviceman).MilitaryOfficer (Military_officer) 0\n",
      "syn_002 VEH.MilitaryVehicle (Armored_car) 0\n",
      "syn_010 COM (Badge) 0\n",
      "/m/01wb7 FAC.Building (Church) 0\n",
      "/m/065zvy FAC.Building.StoreShop (Liquor_store) 0\n",
      "/m/01jpn4 FAC.Building.StoreShop (Grocery_store) 0\n",
      "/m/032rk WEA.Gun (Gun) 0\n",
      "/m/06d_3 FAC.Way (Railway) 0\n",
      "syn_008 WEA.DaggerKnifeSword.Hatchet (Hatchet) 0\n",
      "/m/065zrn9 WEA (Explosive_weapon) 0\n",
      "/m/06fk8 WEA.Gun.Firearm (Revolver) 0\n",
      "/m/0191hp VEH.Watercraft (Oil_tanker) 0\n",
      "/m/0f5lx VEH.MilitaryVehicle (Military_aircraft) 0\n",
      "/m/09l35 VEH (Space_shuttle) 0\n",
      "/m/08854 VEH.Watercraft.Yacht (Yacht) 0\n",
      "/m/06dq9 COM.Equipment (Radar) 0\n",
      "/m/0g2bc VEH.Aircraft (Drone) 0\n",
      "/m/02gx17 COM.Equipment (Construction_equipment) 0\n",
      "/m/05t_pq WEA.Gun (Gun_turret) 0\n",
      "/m/0gvss07 VEH.MilitaryVehicle (Combat_vehicle) 0\n",
      "/m/0f0q9 GPE.UrbanArea.Village (Village) 0\n",
      "syn_009 VEH.Aircraft (Aircraft_engine) 0\n",
      "/m/01c648 COM (Electronic_device.Laptop) 0\n",
      "/m/038t8_ FAC.Building (Estate) 0\n",
      "/m/073bxn COM.Equipment (Tool.Tripod) 0\n",
      "/m/0bjyj5 COM.Equipment (Tool.Container.Waste_container) 0\n",
      "/m/0152hh COM (Sculpture.Snowman) 0\n",
      "/m/012n7d VEH.WheeledVehicle (Ambulance) 0\n",
      "/m/06nrc WEA.Gun.Firearm (Shotgun) 0\n",
      "/m/01yx86 COM (Sculpture.Bronze_sculpture) 0\n",
      "/m/03txqz COM.Equipment (Tool.Scale) 0\n",
      "/m/04yqq2 COM (Sculpture.Bust) 0\n",
      "/m/02zn6n COM.Equipment (Tool.Container.Barrel) 0\n",
      "/m/04h7h FAC.Structure (Lighthouse) 0\n",
      "/m/076bq VEH.WheeledVehicle (Land_vehicle.Segway) 0\n",
      "/m/01m4t COM (Electronic_device.Printer) 0\n",
      "/m/02jnhm COM.Equipment (Tool.Container.Tin_can) 0\n",
      "/m/0bh9flk COM (Electronic_device.Tablet_computer) 0\n",
      "/m/0584n8 COM (Luggage_and_bags.Briefcase) 0\n",
      "/m/0cyfs COM.Equipment (Parachute) 0\n",
      "/m/0hdln COM.Equipment (Tool.Ruler) 0\n",
      "/m/08hvt4 COM.Equipment (Tool.Container.Jug) 0\n",
      "/m/0mcx2 COM (Electronic_device.Ipod) 0\n",
      "/m/07c52 COM (Electronic_device.Television) 0\n",
      "/m/04ctx WEA.DaggerKnifeSword (Knife) 0\n",
      "/m/01lsmm COM.Equipment (Tool.Scissors) 0\n",
      "/m/04dr76w COM.Equipment (Tool.Container.Bottle) 0\n",
      "/m/01s55n COM (Luggage_and_bags.Suitcase) 0\n",
      "/m/0qjjc COM (Electronic_device.Remote_control) 0\n",
      "/m/050k8 COM (Telephone.Mobile_phone) 0\n",
      "/m/073g6 COM.Equipment.MedicalEquipment (Medical_equipment.Stethoscope) 0\n",
      "/m/080hkjn COM (Luggage_and_bags.Handbag) 0\n",
      "/m/01940j COM (Luggage_and_bags.Backpack) 0\n",
      "/m/020lf COM (Electronic_device.Mouse) 0\n",
      "/m/0h8lkj8 COM (Telephone.Corded_phone) 0\n",
      "/m/0f6nr VEH.WheeledVehicle (Land_vehicle.Unicycle) 0\n",
      "/m/012ysf COM.Equipment.MedicalEquipment (Medical_equipment.Syringe) 0\n",
      "/m/02522 COM (Electronic_device.Computer_monitor) 0\n",
      "/m/0ph39 VEH.Watercraft.Boat (Boat.Canoe) 0\n",
      "/m/01m2v COM (Electronic_device.Computer_keyboard) 0\n",
      "/m/015kr FAC.Structure.Bridge (Bridge) 0\n",
      "/m/0fm3zh COM.Equipment (Tool.Container.Flowerpot) 0\n",
      "/m/07kng9 COM.Equipment (Tool.Container.Picnic_basket) 0\n",
      "/m/01phq4 FAC (Pier) 0\n",
      "/m/01_p8q Movement.TransportPerson.EvacuationRescue (Rescue) 0\n",
      "syn_022 VEH.Watercraft (Cargo_ship) 0\n",
      "/m/0dhz0 VEH.Aircraft.Airplane (Airliner) 0\n",
      "/m/02nvjx FAC (Place_of_worship) 0\n",
      "/m/013m1 ORG.MilitaryOrganization.GovernmentArmedForces (Air_force) 0\n",
      "/m/0cfs8 FAC.Building (Cathedral) 0\n",
      "/m/09bgkl FAC.Building.StoreShop (Outlet_store) 0\n",
      "/m/0py27 FAC.Installation.TrainStation (Train_station) 0\n",
      "/m/09cjl FAC.Installation.Airport (Airport) 0\n",
      "/m/03j1ly VEH (Emergency_vehicle) 0\n",
      "/m/012ndj VEH.WheeledVehicle.FireApparatus (Fire_apparatus) 0\n",
      "/m/05dlb ORG.MilitaryOrganization.GovernmentArmedForces (Navy) 0\n",
      "/m/01jnzj Manufacture.Artifact.Build (Construction) 0\n",
      "/m/03htg FAC (Harbor) 0\n",
      "/m/012w5l COM.Equipment (Tool.Ladder) 0\n",
      "/m/0dv5r COM.Equipment (Tool.Camera) 0\n",
      "/m/018p4k VEH.WheeledVehicle (Land_vehicle.Cart) 0\n",
      "/m/01xs3r VEH.Watercraft (Jet_ski) 0\n",
      "/m/06y5r WEA.DaggerKnifeSword (Knife) 0\n",
      "/m/057cc COM (Electronic_device.Musical_keyboard) 0\n",
      "/m/03jbxj COM (Electronic_device.Light_switch) 0\n",
      "/m/01d380 COM.Equipment (Tool.Drill) 0\n",
      "/m/02gzp WEA.DaggerKnifeSword (Knife) 0\n",
      "/m/02068x VEH.Watercraft.Boat (Boat.Gondola) 0\n",
      "/m/0d5gx FAC.Building (Castle) 0\n",
      "/m/01btn VEH.Watercraft (Barge) 0\n",
      "/m/020kz WEA.Cannon.Cannon (Cannon) 0\n",
      "/m/01lcw4 VEH.WheeledVehicle (Limousine) 0\n",
      "/m/02wg_p FAC.Building (Building.Tree_house) 0\n",
      "/m/01kb5b COM.Equipment (Tool.Flashlight) 0\n",
      "/m/01j4z9 COM.Equipment (Tool.Chainsaw) 0\n",
      "/m/0323sq VEH.WheeledVehicle (Land_vehicle.Golf_cart) 0\n",
      "/m/03bbps COM (Electronic_device.Power_plugs_and_sockets) 0\n",
      "/m/04vv5k COM.Equipment (Tool.Snowplow) 0\n",
      "/m/01b7fy COM (Electronic_device.Headphones) 0\n",
      "/m/011q46kg COM.Equipment (Tool.Container) 0\n"
     ]
    }
   ],
   "source": [
    "for i in sort_idx:\n",
    "    print(all_labels[i], mid2name_all[all_labels[i]], len(label_to_img[all_labels[i]]))"
   ]
  },
  {
   "cell_type": "code",
   "execution_count": 70,
   "metadata": {},
   "outputs": [],
   "source": [
    "select_labels = []\n",
    "for l in all_labels:\n",
    "    if mid2name_all[l].startswith('WEA'):\n",
    "        select_labels.append(l)"
   ]
  },
  {
   "cell_type": "code",
   "execution_count": 71,
   "metadata": {},
   "outputs": [
    {
     "data": {
      "text/plain": [
       "['/m/04ctx',\n",
       " '/m/083kb',\n",
       " '/m/04ylt',\n",
       " '/m/06nrc',\n",
       " '/m/06y5r',\n",
       " '/m/0gxl3',\n",
       " '/m/02gzp',\n",
       " '/m/020kz',\n",
       " '/m/06c54',\n",
       " '/m/0jb3',\n",
       " '/m/01vzwd',\n",
       " '/m/034qg',\n",
       " '/m/04zjc',\n",
       " '/m/02bb1s',\n",
       " '/m/065zrn9',\n",
       " '/m/032rk',\n",
       " '/m/0728h',\n",
       " '/m/0ct4f',\n",
       " '/m/05t_pq',\n",
       " '/m/06fk8',\n",
       " 'syn_006',\n",
       " 'syn_008',\n",
       " 'syn_017']"
      ]
     },
     "execution_count": 71,
     "metadata": {},
     "output_type": "execute_result"
    }
   ],
   "source": [
    "select_labels"
   ]
  },
  {
   "cell_type": "code",
   "execution_count": 11,
   "metadata": {},
   "outputs": [],
   "source": [
    "#select_labels = ['/m/01fnck', '/m/019jd', '/m/03120', '/m/02_41', '/m/07cmd', '/m/06q40', '/m/03qtwd', '/m/09x0r', '/m/01xgg_', '/m/08qrwn', '/m/012n4x', '/m/02p16m6', '/m/02lbcq', '/m/09ct_', '/m/0g54v5d', '/m/0bg2p', '/m/0ct4f', '/m/01nd_n', '/m/09rvcxw', '/m/01nl4x', '/m/04ctx', '/m/04ylt', '/m/0gvss07', '/m/01rzcn', '/m/06nrc', '/m/0cyfs', '/m/0f5lx', '/m/04zjc', '/m/0dhz0', '/m/01lcw4', '/m/03htg', '/m/0gxl3', '/m/01bq8v', '/m/0lt4_', '/m/02gzp', '/m/02yjc', '/m/012n7d', '/m/0jb3', '/m/0dwx7']\n",
    "select_labels = [all_labels[i] for i in sort_idx]"
   ]
  },
  {
   "cell_type": "code",
   "execution_count": null,
   "metadata": {},
   "outputs": [],
   "source": []
  },
  {
   "cell_type": "markdown",
   "metadata": {},
   "source": [
    "## Visualizing Results"
   ]
  },
  {
   "cell_type": "code",
   "execution_count": 12,
   "metadata": {},
   "outputs": [],
   "source": [
    "mid2name_extended = {}\n",
    "extended_classes = set()\n",
    "for key in all_labels:\n",
    "    for model, abv in [('coco', 'CO'), ('oi', 'OI'), ('ws', 'WS'), ('voc','PA'), ('coco/J', 'CO/J'), ('oi/J', 'OI/J'), ('ws/J', 'WS/J'), ('voc/J','PA/J')]:\n",
    "        extended_classes.add(key + '/' + model)\n",
    "        mid2name_extended[key + '/' + model] = mid2name_all[key] + f' ({abv})'\n",
    "extended_classes = list(extended_classes)\n",
    "mid2idx_extended = {}\n",
    "for i, key in enumerate(extended_classes):\n",
    "    mid2idx_extended[key] = i\n",
    "category_index_extended = {mid2idx_extended[key]:{'id': mid2idx_extended[key], 'name': mid2name_extended[key]} for key in mid2name_extended}"
   ]
  },
  {
   "cell_type": "code",
   "execution_count": null,
   "metadata": {},
   "outputs": [],
   "source": []
  },
  {
   "cell_type": "code",
   "execution_count": 13,
   "metadata": {},
   "outputs": [],
   "source": [
    "def preproc(im):\n",
    "    target_size = 400\n",
    "    max_size = 1024\n",
    "    im_size_min = np.min(im.shape[0:2])\n",
    "    im_size_max = np.max(im.shape[0:2])\n",
    "    im_scale = float(target_size) / float(im_size_min)\n",
    "    # Prevent the biggest axis from being more than MAX_SIZE\n",
    "    if np.round(im_scale * im_size_max) > max_size:\n",
    "        im_scale = float(max_size) / float(im_size_max)\n",
    "    im = cv2.resize(im, None, None, fx=im_scale, fy=im_scale,\n",
    "                    interpolation=cv2.INTER_LINEAR)    \n",
    "    return im"
   ]
  },
  {
   "cell_type": "code",
   "execution_count": null,
   "metadata": {},
   "outputs": [],
   "source": []
  },
  {
   "cell_type": "code",
   "execution_count": 14,
   "metadata": {},
   "outputs": [],
   "source": [
    "result_dict = {\n",
    "    'Concatenated': det_results_concat,\n",
    "    'Merged': det_results_merged,\n",
    "}"
   ]
  },
  {
   "cell_type": "code",
   "execution_count": 15,
   "metadata": {},
   "outputs": [],
   "source": [
    "with open('../../../../data/dryrun_m18/kf_id2path.pkl', 'rb') as fin:\n",
    "    kf_id_to_img_path = pickle.load(fin)"
   ]
  },
  {
   "cell_type": "code",
   "execution_count": 16,
   "metadata": {},
   "outputs": [],
   "source": [
    "model_abv_dict = {\n",
    "    'coco': 'CO',\n",
    "    'voc': 'PA',\n",
    "    'oi': 'OI',\n",
    "    'ws': 'WS',\n",
    "    'coco/J': 'CO/J',\n",
    "    'voc/J': 'PA/J',\n",
    "    'oi/J': 'OI/J',\n",
    "    'ws/J': 'WS/J',\n",
    "}"
   ]
  },
  {
   "cell_type": "code",
   "execution_count": 17,
   "metadata": {},
   "outputs": [],
   "source": [
    "def show(imgid, source, thresh):\n",
    "    filename = kf_id_to_img_path[imgid]\n",
    "    print(imgid)\n",
    "    with open(filename, 'rb') as fin:\n",
    "        if filename.endswith('.ldcc'):\n",
    "            _ = fin.read(1024)\n",
    "        imgbin = fin.read()\n",
    "    imgbgr = cv2.imdecode(np.fromstring(imgbin, dtype='uint8'), cv2.IMREAD_COLOR)\n",
    "    image_np = imgbgr[:,:,[2,1,0]]\n",
    "    image_np = preproc(image_np)\n",
    "    \n",
    "    detections = result_dict[source][imgid]\n",
    "    boxes = np.asarray([det['bbox_normalized'] for det in detections])[:,[1,0,3,2]]\n",
    "    scores = [det['score'] for det in detections]\n",
    "    label_idx = [mid2idx_extended[det['label'] + '/' + det['model']] for det in detections]\n",
    "    \n",
    "    # print([(mid2name_extended[extended_classes[item]], boxes[i]) for i, item in enumerate(label_idx) if scores[i] > thresh])\n",
    "    \n",
    "    vis_util.visualize_boxes_and_labels_on_image_array(\n",
    "      image_np,\n",
    "      boxes,\n",
    "      label_idx,\n",
    "      scores,\n",
    "      category_index_extended,\n",
    "      use_normalized_coordinates=True,\n",
    "      min_score_thresh=thresh-0.001,\n",
    "      max_boxes_to_draw=1000,\n",
    "      line_thickness=2)\n",
    "    plt.figure(figsize=(12, 8))\n",
    "    plt.imshow(image_np)\n",
    "    plt.axis('off')\n",
    "    plt.show()    "
   ]
  },
  {
   "cell_type": "code",
   "execution_count": null,
   "metadata": {},
   "outputs": [],
   "source": []
  },
  {
   "cell_type": "code",
   "execution_count": null,
   "metadata": {},
   "outputs": [],
   "source": []
  },
  {
   "cell_type": "code",
   "execution_count": 18,
   "metadata": {
    "scrolled": false
   },
   "outputs": [
    {
     "name": "stdout",
     "output_type": "stream",
     "text": [
      "PER (Person)\n",
      "IC001JYCU_129\n"
     ]
    },
    {
     "data": {
      "application/vnd.jupyter.widget-view+json": {
       "model_id": "4a9108e2c60941c6956b5aabb166665d",
       "version_major": 2,
       "version_minor": 0
      },
      "text/plain": [
       "interactive(children=(RadioButtons(description='source', index=1, options=('Concatenated', 'Merged'), value='M…"
      ]
     },
     "metadata": {},
     "output_type": "display_data"
    },
    {
     "name": "stdout",
     "output_type": "stream",
     "text": [
      "PER (Man)\n",
      "HC000Q8J4_48\n"
     ]
    },
    {
     "data": {
      "application/vnd.jupyter.widget-view+json": {
       "model_id": "63ad0a68be264aedae7fa03d98d8db3b",
       "version_major": 2,
       "version_minor": 0
      },
      "text/plain": [
       "interactive(children=(RadioButtons(description='source', index=1, options=('Concatenated', 'Merged'), value='M…"
      ]
     },
     "metadata": {},
     "output_type": "display_data"
    },
    {
     "name": "stdout",
     "output_type": "stream",
     "text": [
      "VEH.WheeledVehicle.Car (Car)\n",
      "IC0019N9B_20\n"
     ]
    },
    {
     "data": {
      "application/vnd.jupyter.widget-view+json": {
       "model_id": "9c640e527ed742719e1ca416ac891087",
       "version_major": 2,
       "version_minor": 0
      },
      "text/plain": [
       "interactive(children=(RadioButtons(description='source', index=1, options=('Concatenated', 'Merged'), value='M…"
      ]
     },
     "metadata": {},
     "output_type": "display_data"
    },
    {
     "name": "stdout",
     "output_type": "stream",
     "text": [
      "COM (Luggage_and_bags)\n",
      "IC0019N7W_17\n"
     ]
    },
    {
     "data": {
      "application/vnd.jupyter.widget-view+json": {
       "model_id": "d25c932c6f864694ab496e25e0e3bdef",
       "version_major": 2,
       "version_minor": 0
      },
      "text/plain": [
       "interactive(children=(RadioButtons(description='source', index=1, options=('Concatenated', 'Merged'), value='M…"
      ]
     },
     "metadata": {},
     "output_type": "display_data"
    },
    {
     "name": "stdout",
     "output_type": "stream",
     "text": [
      "PER (Human_head)\n",
      "HC000ZJSH_32\n"
     ]
    },
    {
     "data": {
      "application/vnd.jupyter.widget-view+json": {
       "model_id": "7e8733782c3148fdb031dbd8560a9d03",
       "version_major": 2,
       "version_minor": 0
      },
      "text/plain": [
       "interactive(children=(RadioButtons(description='source', index=1, options=('Concatenated', 'Merged'), value='M…"
      ]
     },
     "metadata": {},
     "output_type": "display_data"
    },
    {
     "name": "stdout",
     "output_type": "stream",
     "text": [
      "PER (Woman)\n",
      "IC0019N7T_227\n"
     ]
    },
    {
     "data": {
      "application/vnd.jupyter.widget-view+json": {
       "model_id": "bf3ee31ab08b4c779148593bd5302cb0",
       "version_major": 2,
       "version_minor": 0
      },
      "text/plain": [
       "interactive(children=(RadioButtons(description='source', index=1, options=('Concatenated', 'Merged'), value='M…"
      ]
     },
     "metadata": {},
     "output_type": "display_data"
    },
    {
     "name": "stdout",
     "output_type": "stream",
     "text": [
      "FAC.Building.House (House)\n",
      "IC0019N44_7\n"
     ]
    },
    {
     "data": {
      "application/vnd.jupyter.widget-view+json": {
       "model_id": "1e9cfd556830473d8c65b379cb8c65f3",
       "version_major": 2,
       "version_minor": 0
      },
      "text/plain": [
       "interactive(children=(RadioButtons(description='source', index=1, options=('Concatenated', 'Merged'), value='M…"
      ]
     },
     "metadata": {},
     "output_type": "display_data"
    },
    {
     "name": "stdout",
     "output_type": "stream",
     "text": [
      "VEH (Vehicle)\n",
      "IC0019NAM_122\n"
     ]
    },
    {
     "data": {
      "application/vnd.jupyter.widget-view+json": {
       "model_id": "d604bca6644f42fcbcdabf7a7efa4efe",
       "version_major": 2,
       "version_minor": 0
      },
      "text/plain": [
       "interactive(children=(RadioButtons(description='source', index=1, options=('Concatenated', 'Merged'), value='M…"
      ]
     },
     "metadata": {},
     "output_type": "display_data"
    },
    {
     "name": "stdout",
     "output_type": "stream",
     "text": [
      "COM (Electronic_device)\n",
      "IC0019N8A_460\n"
     ]
    },
    {
     "data": {
      "application/vnd.jupyter.widget-view+json": {
       "model_id": "336b9c2788d94d17b9cc824c20f6b052",
       "version_major": 2,
       "version_minor": 0
      },
      "text/plain": [
       "interactive(children=(RadioButtons(description='source', index=1, options=('Concatenated', 'Merged'), value='M…"
      ]
     },
     "metadata": {},
     "output_type": "display_data"
    },
    {
     "name": "stdout",
     "output_type": "stream",
     "text": [
      "FAC.Building.OfficeBuilding (Office_building)\n",
      "HC000ZKCI_16\n"
     ]
    },
    {
     "data": {
      "application/vnd.jupyter.widget-view+json": {
       "model_id": "92898ad3855743ce989d33bb291566f9",
       "version_major": 2,
       "version_minor": 0
      },
      "text/plain": [
       "interactive(children=(RadioButtons(description='source', index=1, options=('Concatenated', 'Merged'), value='M…"
      ]
     },
     "metadata": {},
     "output_type": "display_data"
    },
    {
     "name": "stdout",
     "output_type": "stream",
     "text": [
      "COM.Equipment (Tool)\n",
      "IC001JYXW_21\n"
     ]
    },
    {
     "data": {
      "application/vnd.jupyter.widget-view+json": {
       "model_id": "5128a8ed9ed94133b6dc80e5df514923",
       "version_major": 2,
       "version_minor": 0
      },
      "text/plain": [
       "interactive(children=(RadioButtons(description='source', index=1, options=('Concatenated', 'Merged'), value='M…"
      ]
     },
     "metadata": {},
     "output_type": "display_data"
    },
    {
     "name": "stdout",
     "output_type": "stream",
     "text": [
      "COM.Flag.Flag (Flag)\n",
      "IC0019N7T_113\n"
     ]
    },
    {
     "data": {
      "application/vnd.jupyter.widget-view+json": {
       "model_id": "945806dd8f46402c927d1082c4718c1b",
       "version_major": 2,
       "version_minor": 0
      },
      "text/plain": [
       "interactive(children=(RadioButtons(description='source', index=1, options=('Concatenated', 'Merged'), value='M…"
      ]
     },
     "metadata": {},
     "output_type": "display_data"
    },
    {
     "name": "stdout",
     "output_type": "stream",
     "text": [
      "VEH.WheeledVehicle (Land_vehicle)\n",
      "IC0019NAM_116\n"
     ]
    },
    {
     "data": {
      "application/vnd.jupyter.widget-view+json": {
       "model_id": "91f71d3f9e1e46899ea981d37d4cfa95",
       "version_major": 2,
       "version_minor": 0
      },
      "text/plain": [
       "interactive(children=(RadioButtons(description='source', index=1, options=('Concatenated', 'Merged'), value='M…"
      ]
     },
     "metadata": {},
     "output_type": "display_data"
    },
    {
     "name": "stdout",
     "output_type": "stream",
     "text": [
      "VEH.Watercraft.Boat (Boat)\n",
      "HC0005HTW_12\n"
     ]
    },
    {
     "data": {
      "application/vnd.jupyter.widget-view+json": {
       "model_id": "46a0d243a9dd401f88f4e90c263f1aca",
       "version_major": 2,
       "version_minor": 0
      },
      "text/plain": [
       "interactive(children=(RadioButtons(description='source', index=1, options=('Concatenated', 'Merged'), value='M…"
      ]
     },
     "metadata": {},
     "output_type": "display_data"
    },
    {
     "name": "stdout",
     "output_type": "stream",
     "text": [
      "VEH.Aircraft.Airplane (Airplane)\n",
      "HC000ZJWD_9\n"
     ]
    },
    {
     "data": {
      "application/vnd.jupyter.widget-view+json": {
       "model_id": "e50c4cac5e494ce3a4852714c19aa089",
       "version_major": 2,
       "version_minor": 0
      },
      "text/plain": [
       "interactive(children=(RadioButtons(description='source', index=1, options=('Concatenated', 'Merged'), value='M…"
      ]
     },
     "metadata": {},
     "output_type": "display_data"
    },
    {
     "name": "stdout",
     "output_type": "stream",
     "text": [
      "COM (Telephone)\n",
      "IC0019N47_77\n"
     ]
    },
    {
     "data": {
      "application/vnd.jupyter.widget-view+json": {
       "model_id": "edd370da1f9549a3992618fea6b7599a",
       "version_major": 2,
       "version_minor": 0
      },
      "text/plain": [
       "interactive(children=(RadioButtons(description='source', index=1, options=('Concatenated', 'Merged'), value='M…"
      ]
     },
     "metadata": {},
     "output_type": "display_data"
    },
    {
     "name": "stdout",
     "output_type": "stream",
     "text": [
      "FAC.Building (Building)\n",
      "IC0019N6N_55\n"
     ]
    },
    {
     "data": {
      "application/vnd.jupyter.widget-view+json": {
       "model_id": "290f10c1777a406790566cbfce451398",
       "version_major": 2,
       "version_minor": 0
      },
      "text/plain": [
       "interactive(children=(RadioButtons(description='source', index=1, options=('Concatenated', 'Merged'), value='M…"
      ]
     },
     "metadata": {},
     "output_type": "display_data"
    },
    {
     "name": "stdout",
     "output_type": "stream",
     "text": [
      "VEH.WheeledVehicle.Truck (Truck)\n",
      "IC0019N8A_238\n"
     ]
    },
    {
     "data": {
      "application/vnd.jupyter.widget-view+json": {
       "model_id": "55e67562552142a6bd78efb8238a6cab",
       "version_major": 2,
       "version_minor": 0
      },
      "text/plain": [
       "interactive(children=(RadioButtons(description='source', index=1, options=('Concatenated', 'Merged'), value='M…"
      ]
     },
     "metadata": {},
     "output_type": "display_data"
    },
    {
     "name": "stdout",
     "output_type": "stream",
     "text": [
      "VEH.MilitaryVehicle.Tank (Tank)\n",
      "IC001K0VO_10\n"
     ]
    },
    {
     "data": {
      "application/vnd.jupyter.widget-view+json": {
       "model_id": "846b867940ff412d9edab6b5d19c2e3e",
       "version_major": 2,
       "version_minor": 0
      },
      "text/plain": [
       "interactive(children=(RadioButtons(description='source', index=1, options=('Concatenated', 'Merged'), value='M…"
      ]
     },
     "metadata": {},
     "output_type": "display_data"
    },
    {
     "name": "stdout",
     "output_type": "stream",
     "text": [
      "Conflict.Attack (Riot)\n",
      "IC0019NBG_5\n"
     ]
    },
    {
     "data": {
      "application/vnd.jupyter.widget-view+json": {
       "model_id": "b1c3b32f5bdc46cab1bf08a4bb316af0",
       "version_major": 2,
       "version_minor": 0
      },
      "text/plain": [
       "interactive(children=(RadioButtons(description='source', index=1, options=('Concatenated', 'Merged'), value='M…"
      ]
     },
     "metadata": {},
     "output_type": "display_data"
    },
    {
     "name": "stdout",
     "output_type": "stream",
     "text": [
      "VEH.WheeledVehicle (Bicycle)\n",
      "HC0005KU0_19\n"
     ]
    },
    {
     "data": {
      "application/vnd.jupyter.widget-view+json": {
       "model_id": "0860bca31cbd4c6f8c585456b9457b5a",
       "version_major": 2,
       "version_minor": 0
      },
      "text/plain": [
       "interactive(children=(RadioButtons(description='source', index=1, options=('Concatenated', 'Merged'), value='M…"
      ]
     },
     "metadata": {},
     "output_type": "display_data"
    },
    {
     "name": "stdout",
     "output_type": "stream",
     "text": [
      "VEH.WheeledVehicle.Train (Train)\n",
      "IC0019N6N_242\n"
     ]
    },
    {
     "data": {
      "application/vnd.jupyter.widget-view+json": {
       "model_id": "3f85e49f541349d2a3df0aca558fe85f",
       "version_major": 2,
       "version_minor": 0
      },
      "text/plain": [
       "interactive(children=(RadioButtons(description='source', index=1, options=('Concatenated', 'Merged'), value='M…"
      ]
     },
     "metadata": {},
     "output_type": "display_data"
    },
    {
     "name": "stdout",
     "output_type": "stream",
     "text": [
      "Conflict.Attack.SelfDirectedBattle (Battle)\n",
      "HC0005BSD_92\n"
     ]
    },
    {
     "data": {
      "application/vnd.jupyter.widget-view+json": {
       "model_id": "ed0ca3f8f28a4ef69f7674b395834658",
       "version_major": 2,
       "version_minor": 0
      },
      "text/plain": [
       "interactive(children=(RadioButtons(description='source', index=1, options=('Concatenated', 'Merged'), value='M…"
      ]
     },
     "metadata": {},
     "output_type": "display_data"
    },
    {
     "name": "stdout",
     "output_type": "stream",
     "text": [
      "Conflict.Attack (Violence)\n",
      "IC0019N8P_28\n"
     ]
    },
    {
     "data": {
      "application/vnd.jupyter.widget-view+json": {
       "model_id": "bd70a560ae7a43e7b190a230c2057005",
       "version_major": 2,
       "version_minor": 0
      },
      "text/plain": [
       "interactive(children=(RadioButtons(description='source', index=1, options=('Concatenated', 'Merged'), value='M…"
      ]
     },
     "metadata": {},
     "output_type": "display_data"
    },
    {
     "name": "stdout",
     "output_type": "stream",
     "text": [
      "VEH.WheeledVehicle.Bus (Bus)\n",
      "IC0019N9T_82\n"
     ]
    },
    {
     "data": {
      "application/vnd.jupyter.widget-view+json": {
       "model_id": "172a9b29065b47f8b42c108e4bf4629e",
       "version_major": 2,
       "version_minor": 0
      },
      "text/plain": [
       "interactive(children=(RadioButtons(description='source', index=1, options=('Concatenated', 'Merged'), value='M…"
      ]
     },
     "metadata": {},
     "output_type": "display_data"
    },
    {
     "name": "stdout",
     "output_type": "stream",
     "text": [
      "WEA.Gun.Firearm (Rifle)\n",
      "IC001JYCY_1\n"
     ]
    },
    {
     "data": {
      "application/vnd.jupyter.widget-view+json": {
       "model_id": "b899ff8ec9d6408db85bd5b942cefd14",
       "version_major": 2,
       "version_minor": 0
      },
      "text/plain": [
       "interactive(children=(RadioButtons(description='source', index=1, options=('Concatenated', 'Merged'), value='M…"
      ]
     },
     "metadata": {},
     "output_type": "display_data"
    },
    {
     "name": "stdout",
     "output_type": "stream",
     "text": [
      "WEA.DaggerKnifeSword (Knife)\n",
      "IC0019MYO_179\n"
     ]
    },
    {
     "data": {
      "application/vnd.jupyter.widget-view+json": {
       "model_id": "44099cd8a25a40db833cb9a6edd2102e",
       "version_major": 2,
       "version_minor": 0
      },
      "text/plain": [
       "interactive(children=(RadioButtons(description='source', index=1, options=('Concatenated', 'Merged'), value='M…"
      ]
     },
     "metadata": {},
     "output_type": "display_data"
    },
    {
     "name": "stdout",
     "output_type": "stream",
     "text": [
      "PER (Girl)\n",
      "IC0019N8F_10\n"
     ]
    },
    {
     "data": {
      "application/vnd.jupyter.widget-view+json": {
       "model_id": "9b8d62a5f4514e3cab279fd35c730320",
       "version_major": 2,
       "version_minor": 0
      },
      "text/plain": [
       "interactive(children=(RadioButtons(description='source', index=1, options=('Concatenated', 'Merged'), value='M…"
      ]
     },
     "metadata": {},
     "output_type": "display_data"
    },
    {
     "name": "stdout",
     "output_type": "stream",
     "text": [
      "FAC.Structure.Tower (Tower)\n",
      "HC0005IS1_20\n"
     ]
    },
    {
     "data": {
      "application/vnd.jupyter.widget-view+json": {
       "model_id": "adc7eef0f2cc45de853dc740b08bac0f",
       "version_major": 2,
       "version_minor": 0
      },
      "text/plain": [
       "interactive(children=(RadioButtons(description='source', index=1, options=('Concatenated', 'Merged'), value='M…"
      ]
     },
     "metadata": {},
     "output_type": "display_data"
    },
    {
     "name": "stdout",
     "output_type": "stream",
     "text": [
      "ORG.MilitaryOrganization.GovernmentArmedForces (Infantry)\n",
      "IC0019MYV_27\n"
     ]
    },
    {
     "data": {
      "application/vnd.jupyter.widget-view+json": {
       "model_id": "35e512b7384d41e5abb8208c6ad54887",
       "version_major": 2,
       "version_minor": 0
      },
      "text/plain": [
       "interactive(children=(RadioButtons(description='source', index=1, options=('Concatenated', 'Merged'), value='M…"
      ]
     },
     "metadata": {},
     "output_type": "display_data"
    },
    {
     "name": "stdout",
     "output_type": "stream",
     "text": [
      "PER (Boy)\n",
      "HC000Q8NE_3\n"
     ]
    },
    {
     "data": {
      "application/vnd.jupyter.widget-view+json": {
       "model_id": "b20466d0662a4ef1a4f5a1c5f279e5ca",
       "version_major": 2,
       "version_minor": 0
      },
      "text/plain": [
       "interactive(children=(RadioButtons(description='source', index=1, options=('Concatenated', 'Merged'), value='M…"
      ]
     },
     "metadata": {},
     "output_type": "display_data"
    },
    {
     "name": "stdout",
     "output_type": "stream",
     "text": [
      "VEH.Aircraft.Helicopter (Helicopter)\n",
      "HC000588I_48\n"
     ]
    },
    {
     "data": {
      "application/vnd.jupyter.widget-view+json": {
       "model_id": "d81cfead55b442fd9bf99dd9122f63a7",
       "version_major": 2,
       "version_minor": 0
      },
      "text/plain": [
       "interactive(children=(RadioButtons(description='source', index=1, options=('Concatenated', 'Merged'), value='M…"
      ]
     },
     "metadata": {},
     "output_type": "display_data"
    },
    {
     "name": "stdout",
     "output_type": "stream",
     "text": [
      "PER.ProfessionalPosition.Spokesperson (Orator)\n",
      "IC0019MZJ_1\n"
     ]
    },
    {
     "data": {
      "application/vnd.jupyter.widget-view+json": {
       "model_id": "b69ad584d9644964aee120ebcc417c40",
       "version_major": 2,
       "version_minor": 0
      },
      "text/plain": [
       "interactive(children=(RadioButtons(description='source', index=1, options=('Concatenated', 'Merged'), value='M…"
      ]
     },
     "metadata": {},
     "output_type": "display_data"
    },
    {
     "name": "stdout",
     "output_type": "stream",
     "text": [
      "Disaster.FireExplosion.FireExplosion (Fire)\n",
      "HC000Q8OJ_29\n"
     ]
    },
    {
     "data": {
      "application/vnd.jupyter.widget-view+json": {
       "model_id": "d4c4ac5314044694a3b43f2238b8b957",
       "version_major": 2,
       "version_minor": 0
      },
      "text/plain": [
       "interactive(children=(RadioButtons(description='source', index=1, options=('Concatenated', 'Merged'), value='M…"
      ]
     },
     "metadata": {},
     "output_type": "display_data"
    },
    {
     "name": "stdout",
     "output_type": "stream",
     "text": [
      "VEH.WheeledVehicle (Motorcycle)\n",
      "IC0019MZU_10\n"
     ]
    },
    {
     "data": {
      "application/vnd.jupyter.widget-view+json": {
       "model_id": "f20a2e9e356c480eba9aac15545dd49e",
       "version_major": 2,
       "version_minor": 0
      },
      "text/plain": [
       "interactive(children=(RadioButtons(description='source', index=1, options=('Concatenated', 'Merged'), value='M…"
      ]
     },
     "metadata": {},
     "output_type": "display_data"
    },
    {
     "name": "stdout",
     "output_type": "stream",
     "text": [
      "Disaster.FireExplosion.FireExplosion (Smoke)\n",
      "IC001JYXC_8\n"
     ]
    },
    {
     "data": {
      "application/vnd.jupyter.widget-view+json": {
       "model_id": "18855b75ccaf471499e3a66f45d07ba4",
       "version_major": 2,
       "version_minor": 0
      },
      "text/plain": [
       "interactive(children=(RadioButtons(description='source', index=1, options=('Concatenated', 'Merged'), value='M…"
      ]
     },
     "metadata": {},
     "output_type": "display_data"
    },
    {
     "name": "stdout",
     "output_type": "stream",
     "text": [
      "COM.Equipment (Microphone)\n",
      "IC0019NAY_117\n"
     ]
    },
    {
     "data": {
      "application/vnd.jupyter.widget-view+json": {
       "model_id": "f48aa505c9874e7485a561a5730c3d35",
       "version_major": 2,
       "version_minor": 0
      },
      "text/plain": [
       "interactive(children=(RadioButtons(description='source', index=1, options=('Concatenated', 'Merged'), value='M…"
      ]
     },
     "metadata": {},
     "output_type": "display_data"
    },
    {
     "name": "stdout",
     "output_type": "stream",
     "text": [
      "PER.ProfessionalPosition.Firefighter (Firefighter)\n",
      "IC0019N3W_10\n"
     ]
    },
    {
     "data": {
      "application/vnd.jupyter.widget-view+json": {
       "model_id": "70a3df3b2b6f4f12a941e59b5dc7ed00",
       "version_major": 2,
       "version_minor": 0
      },
      "text/plain": [
       "interactive(children=(RadioButtons(description='source', index=1, options=('Concatenated', 'Merged'), value='M…"
      ]
     },
     "metadata": {},
     "output_type": "display_data"
    },
    {
     "name": "stdout",
     "output_type": "stream",
     "text": [
      "COM (Billboard)\n",
      "HC0005BR6_53\n"
     ]
    },
    {
     "data": {
      "application/vnd.jupyter.widget-view+json": {
       "model_id": "b8e6cbf8646e4035a15546d2a6673a53",
       "version_major": 2,
       "version_minor": 0
      },
      "text/plain": [
       "interactive(children=(RadioButtons(description='source', index=1, options=('Concatenated', 'Merged'), value='M…"
      ]
     },
     "metadata": {},
     "output_type": "display_data"
    },
    {
     "name": "stdout",
     "output_type": "stream",
     "text": [
      "FAC.Building (Auditorium)\n",
      "IC0019N8A_47\n"
     ]
    },
    {
     "data": {
      "application/vnd.jupyter.widget-view+json": {
       "model_id": "3d0eb06962e44108bc5df60707f561e5",
       "version_major": 2,
       "version_minor": 0
      },
      "text/plain": [
       "interactive(children=(RadioButtons(description='source', index=1, options=('Concatenated', 'Merged'), value='M…"
      ]
     },
     "metadata": {},
     "output_type": "display_data"
    },
    {
     "name": "stdout",
     "output_type": "stream",
     "text": [
      "Disaster.FireExplosion.FireExplosion (Explosion)\n",
      "IC0019N8A_216\n"
     ]
    },
    {
     "data": {
      "application/vnd.jupyter.widget-view+json": {
       "model_id": "eff3cf0f936c4eb4a8037bd5793b0568",
       "version_major": 2,
       "version_minor": 0
      },
      "text/plain": [
       "interactive(children=(RadioButtons(description='source', index=1, options=('Concatenated', 'Merged'), value='M…"
      ]
     },
     "metadata": {},
     "output_type": "display_data"
    },
    {
     "name": "stdout",
     "output_type": "stream",
     "text": [
      "ORG.MilitaryOrganization.GovernmentArmedForces (Military_camouflage)\n",
      "HC000Q8O4_10\n"
     ]
    },
    {
     "data": {
      "application/vnd.jupyter.widget-view+json": {
       "model_id": "89b88076512f42518bf885f958498fdf",
       "version_major": 2,
       "version_minor": 0
      },
      "text/plain": [
       "interactive(children=(RadioButtons(description='source', index=1, options=('Concatenated', 'Merged'), value='M…"
      ]
     },
     "metadata": {},
     "output_type": "display_data"
    },
    {
     "name": "stdout",
     "output_type": "stream",
     "text": [
      "Contact.PublicStatementInPerson.Broadcast (Public_speaking)\n",
      "IC0019MX6_14\n"
     ]
    },
    {
     "data": {
      "application/vnd.jupyter.widget-view+json": {
       "model_id": "da8e0214f74c44e98f57f40152a2c330",
       "version_major": 2,
       "version_minor": 0
      },
      "text/plain": [
       "interactive(children=(RadioButtons(description='source', index=1, options=('Concatenated', 'Merged'), value='M…"
      ]
     },
     "metadata": {},
     "output_type": "display_data"
    },
    {
     "name": "stdout",
     "output_type": "stream",
     "text": [
      "FAC.Way.Street (Street)\n",
      "IC0019N6N_93\n"
     ]
    },
    {
     "data": {
      "application/vnd.jupyter.widget-view+json": {
       "model_id": "d7a06a199ed54a729f0025df77b08d9f",
       "version_major": 2,
       "version_minor": 0
      },
      "text/plain": [
       "interactive(children=(RadioButtons(description='source', index=1, options=('Concatenated', 'Merged'), value='M…"
      ]
     },
     "metadata": {},
     "output_type": "display_data"
    },
    {
     "name": "stdout",
     "output_type": "stream",
     "text": [
      "ORG (Logo)\n",
      "IC0019MX6_27\n"
     ]
    },
    {
     "data": {
      "application/vnd.jupyter.widget-view+json": {
       "model_id": "50a84ccd60fa4aa5a1414980953a75c2",
       "version_major": 2,
       "version_minor": 0
      },
      "text/plain": [
       "interactive(children=(RadioButtons(description='source', index=1, options=('Concatenated', 'Merged'), value='M…"
      ]
     },
     "metadata": {},
     "output_type": "display_data"
    },
    {
     "name": "stdout",
     "output_type": "stream",
     "text": [
      "WEA.Gun.Artillery (Self-propelled_artillery)\n",
      "IC001K0VO_27\n"
     ]
    },
    {
     "data": {
      "application/vnd.jupyter.widget-view+json": {
       "model_id": "a19470b6f4904d04ae4ca2d33d93feab",
       "version_major": 2,
       "version_minor": 0
      },
      "text/plain": [
       "interactive(children=(RadioButtons(description='source', index=1, options=('Concatenated', 'Merged'), value='M…"
      ]
     },
     "metadata": {},
     "output_type": "display_data"
    },
    {
     "name": "stdout",
     "output_type": "stream",
     "text": [
      "FAC.Building.School (School)\n",
      "IC001JYCU_105\n"
     ]
    },
    {
     "data": {
      "application/vnd.jupyter.widget-view+json": {
       "model_id": "c0c5eb0bf949465295510bd5760c657d",
       "version_major": 2,
       "version_minor": 0
      },
      "text/plain": [
       "interactive(children=(RadioButtons(description='source', index=1, options=('Concatenated', 'Merged'), value='M…"
      ]
     },
     "metadata": {},
     "output_type": "display_data"
    },
    {
     "name": "stdout",
     "output_type": "stream",
     "text": [
      "PER (Crowd)\n",
      "HC0005HTW_29\n"
     ]
    },
    {
     "data": {
      "application/vnd.jupyter.widget-view+json": {
       "model_id": "78ee6642b0c04337aa3f92e80f2951be",
       "version_major": 2,
       "version_minor": 0
      },
      "text/plain": [
       "interactive(children=(RadioButtons(description='source', index=1, options=('Concatenated', 'Merged'), value='M…"
      ]
     },
     "metadata": {},
     "output_type": "display_data"
    },
    {
     "name": "stdout",
     "output_type": "stream",
     "text": [
      "VEH.MilitaryVehicle.MilitaryTransportAircraft (Military_transport_aircraft)\n",
      "HC000Q8CD_63\n"
     ]
    },
    {
     "data": {
      "application/vnd.jupyter.widget-view+json": {
       "model_id": "bba33a0f1ce04af99911541b0cc7f597",
       "version_major": 2,
       "version_minor": 0
      },
      "text/plain": [
       "interactive(children=(RadioButtons(description='source', index=1, options=('Concatenated', 'Merged'), value='M…"
      ]
     },
     "metadata": {},
     "output_type": "display_data"
    },
    {
     "name": "stdout",
     "output_type": "stream",
     "text": [
      "Movement.TransportPerson.SelfMotion (General_aviation)\n",
      "IC0015YFV_13\n"
     ]
    },
    {
     "data": {
      "application/vnd.jupyter.widget-view+json": {
       "model_id": "42a9fde8d69a41e1ba1556bb8e0a0579",
       "version_major": 2,
       "version_minor": 0
      },
      "text/plain": [
       "interactive(children=(RadioButtons(description='source', index=1, options=('Concatenated', 'Merged'), value='M…"
      ]
     },
     "metadata": {},
     "output_type": "display_data"
    },
    {
     "name": "stdout",
     "output_type": "stream",
     "text": [
      "COM (Sculpture)\n",
      "HC0005FMK_62\n"
     ]
    },
    {
     "data": {
      "application/vnd.jupyter.widget-view+json": {
       "model_id": "3868f2aaa96d46a38e0e4c2f8faecbd9",
       "version_major": 2,
       "version_minor": 0
      },
      "text/plain": [
       "interactive(children=(RadioButtons(description='source', index=1, options=('Concatenated', 'Merged'), value='M…"
      ]
     },
     "metadata": {},
     "output_type": "display_data"
    },
    {
     "name": "stdout",
     "output_type": "stream",
     "text": [
      "PER.ProfessionalPosition (Pilot)\n",
      "HC000ZJS9_22\n"
     ]
    },
    {
     "data": {
      "application/vnd.jupyter.widget-view+json": {
       "model_id": "31ac35554bda44d8aab32731f28fda51",
       "version_major": 2,
       "version_minor": 0
      },
      "text/plain": [
       "interactive(children=(RadioButtons(description='source', index=1, options=('Concatenated', 'Merged'), value='M…"
      ]
     },
     "metadata": {},
     "output_type": "display_data"
    },
    {
     "name": "stdout",
     "output_type": "stream",
     "text": [
      "VEH.WheeledVehicle.Car (Taxi)\n",
      "IC001JYCU_131\n"
     ]
    },
    {
     "data": {
      "application/vnd.jupyter.widget-view+json": {
       "model_id": "c9c2d039d51f4e269bb28a2c166d82e1",
       "version_major": 2,
       "version_minor": 0
      },
      "text/plain": [
       "interactive(children=(RadioButtons(description='source', index=1, options=('Concatenated', 'Merged'), value='M…"
      ]
     },
     "metadata": {},
     "output_type": "display_data"
    },
    {
     "name": "stdout",
     "output_type": "stream",
     "text": [
      "FAC.Building.StoreShop (Convenience_store)\n",
      "HC0005KCX_1\n"
     ]
    },
    {
     "data": {
      "application/vnd.jupyter.widget-view+json": {
       "model_id": "dafc9f333dcc4c5482d9f33fa0dade44",
       "version_major": 2,
       "version_minor": 0
      },
      "text/plain": [
       "interactive(children=(RadioButtons(description='source', index=1, options=('Concatenated', 'Merged'), value='M…"
      ]
     },
     "metadata": {},
     "output_type": "display_data"
    },
    {
     "name": "stdout",
     "output_type": "stream",
     "text": [
      "COM.Document (Document)\n",
      "IC0019N91_44\n"
     ]
    },
    {
     "data": {
      "application/vnd.jupyter.widget-view+json": {
       "model_id": "85fb728d1b304aabb5a0c75996aa0267",
       "version_major": 2,
       "version_minor": 0
      },
      "text/plain": [
       "interactive(children=(RadioButtons(description='source', index=1, options=('Concatenated', 'Merged'), value='M…"
      ]
     },
     "metadata": {},
     "output_type": "display_data"
    },
    {
     "name": "stdout",
     "output_type": "stream",
     "text": [
      "PER.Police (Security_guard)\n",
      "IC0019MY8_140\n"
     ]
    },
    {
     "data": {
      "application/vnd.jupyter.widget-view+json": {
       "model_id": "63b26bdd536b413f9221c92f919ed0a6",
       "version_major": 2,
       "version_minor": 0
      },
      "text/plain": [
       "interactive(children=(RadioButtons(description='source', index=1, options=('Concatenated', 'Merged'), value='M…"
      ]
     },
     "metadata": {},
     "output_type": "display_data"
    },
    {
     "name": "stdout",
     "output_type": "stream",
     "text": [
      "WEA.Cannon.Cannon (Mortar)\n",
      "HC000SYGU_7\n"
     ]
    },
    {
     "data": {
      "application/vnd.jupyter.widget-view+json": {
       "model_id": "f0aba87759f24719969077f6cbc85433",
       "version_major": 2,
       "version_minor": 0
      },
      "text/plain": [
       "interactive(children=(RadioButtons(description='source', index=1, options=('Concatenated', 'Merged'), value='M…"
      ]
     },
     "metadata": {},
     "output_type": "display_data"
    },
    {
     "name": "stdout",
     "output_type": "stream",
     "text": [
      "FAC.Structure.Plaza (Plaza)\n",
      "HC0005IS1_21\n"
     ]
    },
    {
     "data": {
      "application/vnd.jupyter.widget-view+json": {
       "model_id": "3993fd2b5f3b4a689ea8402bdf54ae30",
       "version_major": 2,
       "version_minor": 0
      },
      "text/plain": [
       "interactive(children=(RadioButtons(description='source', index=1, options=('Concatenated', 'Merged'), value='M…"
      ]
     },
     "metadata": {},
     "output_type": "display_data"
    },
    {
     "name": "stdout",
     "output_type": "stream",
     "text": [
      "COM.Document.Map (Map)\n",
      "HC000Q8H5_6\n"
     ]
    },
    {
     "data": {
      "application/vnd.jupyter.widget-view+json": {
       "model_id": "c9f5c6cbecf143eeb93dd13412967eb7",
       "version_major": 2,
       "version_minor": 0
      },
      "text/plain": [
       "interactive(children=(RadioButtons(description='source', index=1, options=('Concatenated', 'Merged'), value='M…"
      ]
     },
     "metadata": {},
     "output_type": "display_data"
    },
    {
     "name": "stdout",
     "output_type": "stream",
     "text": [
      "PER (Human_body)\n",
      "IC0019NBG_33\n"
     ]
    },
    {
     "data": {
      "application/vnd.jupyter.widget-view+json": {
       "model_id": "854abccceae54539a36cf785db548fb2",
       "version_major": 2,
       "version_minor": 0
      },
      "text/plain": [
       "interactive(children=(RadioButtons(description='source', index=1, options=('Concatenated', 'Merged'), value='M…"
      ]
     },
     "metadata": {},
     "output_type": "display_data"
    },
    {
     "name": "stdout",
     "output_type": "stream",
     "text": [
      "ORG.PoliticalOrganization.Court (Court)\n",
      "IC0019N0V_27\n"
     ]
    },
    {
     "data": {
      "application/vnd.jupyter.widget-view+json": {
       "model_id": "6acf581e49d14b97958950377098844b",
       "version_major": 2,
       "version_minor": 0
      },
      "text/plain": [
       "interactive(children=(RadioButtons(description='source', index=1, options=('Concatenated', 'Merged'), value='M…"
      ]
     },
     "metadata": {},
     "output_type": "display_data"
    },
    {
     "name": "stdout",
     "output_type": "stream",
     "text": [
      "Justice.InitiateJudicialProcess.TrialHearing (Trial)\n",
      "HC000ZLIF_40\n"
     ]
    },
    {
     "data": {
      "application/vnd.jupyter.widget-view+json": {
       "model_id": "db58dc638ca64992b46f8399f5b0c7b5",
       "version_major": 2,
       "version_minor": 0
      },
      "text/plain": [
       "interactive(children=(RadioButtons(description='source', index=1, options=('Concatenated', 'Merged'), value='M…"
      ]
     },
     "metadata": {},
     "output_type": "display_data"
    },
    {
     "name": "stdout",
     "output_type": "stream",
     "text": [
      "Conflict.Attack (Rebellion)\n",
      "IC0019MYA_29\n"
     ]
    },
    {
     "data": {
      "application/vnd.jupyter.widget-view+json": {
       "model_id": "c187bd9e66914eaeb8638ccfe694cc83",
       "version_major": 2,
       "version_minor": 0
      },
      "text/plain": [
       "interactive(children=(RadioButtons(description='source', index=1, options=('Concatenated', 'Merged'), value='M…"
      ]
     },
     "metadata": {},
     "output_type": "display_data"
    },
    {
     "name": "stdout",
     "output_type": "stream",
     "text": [
      "COM.Document.PersonalIdentification (Identity_document)\n",
      "IC001JYCU_111\n"
     ]
    },
    {
     "data": {
      "application/vnd.jupyter.widget-view+json": {
       "model_id": "edc615b8351a4c47baefba65fcdcf679",
       "version_major": 2,
       "version_minor": 0
      },
      "text/plain": [
       "interactive(children=(RadioButtons(description='source', index=1, options=('Concatenated', 'Merged'), value='M…"
      ]
     },
     "metadata": {},
     "output_type": "display_data"
    },
    {
     "name": "stdout",
     "output_type": "stream",
     "text": [
      "MON.Cash.Cash (Money)\n",
      "IC0019N7T_102\n"
     ]
    },
    {
     "data": {
      "application/vnd.jupyter.widget-view+json": {
       "model_id": "32d13bd24b0e4ae0aa9098e0ea045c38",
       "version_major": 2,
       "version_minor": 0
      },
      "text/plain": [
       "interactive(children=(RadioButtons(description='source', index=1, options=('Concatenated', 'Merged'), value='M…"
      ]
     },
     "metadata": {},
     "output_type": "display_data"
    },
    {
     "name": "stdout",
     "output_type": "stream",
     "text": [
      "Contact.FuneralVigil.Meet (Funeral)\n",
      "IC0019N47_4\n"
     ]
    },
    {
     "data": {
      "application/vnd.jupyter.widget-view+json": {
       "model_id": "18127d0c766c4ed2922b98439ae86044",
       "version_major": 2,
       "version_minor": 0
      },
      "text/plain": [
       "interactive(children=(RadioButtons(description='source', index=1, options=('Concatenated', 'Merged'), value='M…"
      ]
     },
     "metadata": {},
     "output_type": "display_data"
    },
    {
     "name": "stdout",
     "output_type": "stream",
     "text": [
      "PER.ProfessionalPosition (Rescuer)\n",
      "IC0019NAK_110\n"
     ]
    },
    {
     "data": {
      "application/vnd.jupyter.widget-view+json": {
       "model_id": "bdea50fa0c1e4851827b496d23915660",
       "version_major": 2,
       "version_minor": 0
      },
      "text/plain": [
       "interactive(children=(RadioButtons(description='source', index=1, options=('Concatenated', 'Merged'), value='M…"
      ]
     },
     "metadata": {},
     "output_type": "display_data"
    },
    {
     "name": "stdout",
     "output_type": "stream",
     "text": [
      "FAC.Structure.Barricade (Barricade)\n",
      "HC0005BPY_8\n"
     ]
    },
    {
     "data": {
      "application/vnd.jupyter.widget-view+json": {
       "model_id": "6151272de4054568855d040a2ac79c11",
       "version_major": 2,
       "version_minor": 0
      },
      "text/plain": [
       "interactive(children=(RadioButtons(description='source', index=1, options=('Concatenated', 'Merged'), value='M…"
      ]
     },
     "metadata": {},
     "output_type": "display_data"
    },
    {
     "name": "stdout",
     "output_type": "stream",
     "text": [
      "PER.Police (Police)\n",
      "HC000ZJS9_35\n"
     ]
    },
    {
     "data": {
      "application/vnd.jupyter.widget-view+json": {
       "model_id": "3440b1d32bea46e9a7892ba840f22c7c",
       "version_major": 2,
       "version_minor": 0
      },
      "text/plain": [
       "interactive(children=(RadioButtons(description='source', index=1, options=('Concatenated', 'Merged'), value='M…"
      ]
     },
     "metadata": {},
     "output_type": "display_data"
    },
    {
     "name": "stdout",
     "output_type": "stream",
     "text": [
      "COM.Equipment.MedicalEquipment (Medical_equipment)\n",
      "IC0019N9T_77\n"
     ]
    },
    {
     "data": {
      "application/vnd.jupyter.widget-view+json": {
       "model_id": "541b0e02daa140dabed020d0dc41b6d7",
       "version_major": 2,
       "version_minor": 0
      },
      "text/plain": [
       "interactive(children=(RadioButtons(description='source', index=1, options=('Concatenated', 'Merged'), value='M…"
      ]
     },
     "metadata": {},
     "output_type": "display_data"
    },
    {
     "name": "stdout",
     "output_type": "stream",
     "text": [
      "Conflict.Demonstrate.MarchProtestPoliticalGathering (Protest)\n",
      "HC0005KVS_27\n"
     ]
    },
    {
     "data": {
      "application/vnd.jupyter.widget-view+json": {
       "model_id": "58044b7846ca40d3a66c9ee14f3ddd39",
       "version_major": 2,
       "version_minor": 0
      },
      "text/plain": [
       "interactive(children=(RadioButtons(description='source', index=1, options=('Concatenated', 'Merged'), value='M…"
      ]
     },
     "metadata": {},
     "output_type": "display_data"
    },
    {
     "name": "stdout",
     "output_type": "stream",
     "text": [
      "FAC.Way.Highway (Highway)\n",
      "HC000Q8OB_6\n"
     ]
    },
    {
     "data": {
      "application/vnd.jupyter.widget-view+json": {
       "model_id": "55ae33b736224c4cb2b56a6d1fd2a6c1",
       "version_major": 2,
       "version_minor": 0
      },
      "text/plain": [
       "interactive(children=(RadioButtons(description='source', index=1, options=('Concatenated', 'Merged'), value='M…"
      ]
     },
     "metadata": {},
     "output_type": "display_data"
    },
    {
     "name": "stdout",
     "output_type": "stream",
     "text": [
      "VEH.MilitaryVehicle.FighterAircraft (Fighter_aircraft)\n",
      "HC000SYGU_35\n"
     ]
    },
    {
     "data": {
      "application/vnd.jupyter.widget-view+json": {
       "model_id": "9bbd07ebd0384cfa94fd9d7a044dc813",
       "version_major": 2,
       "version_minor": 0
      },
      "text/plain": [
       "interactive(children=(RadioButtons(description='source', index=1, options=('Concatenated', 'Merged'), value='M…"
      ]
     },
     "metadata": {},
     "output_type": "display_data"
    },
    {
     "name": "stdout",
     "output_type": "stream",
     "text": [
      "VEH.MilitaryVehicle.MilitaryBoat (Missile_boat)\n",
      "IC0019N47_13\n"
     ]
    },
    {
     "data": {
      "application/vnd.jupyter.widget-view+json": {
       "model_id": "fab0a3376c8b41d49310ab5f15710802",
       "version_major": 2,
       "version_minor": 0
      },
      "text/plain": [
       "interactive(children=(RadioButtons(description='source', index=1, options=('Concatenated', 'Merged'), value='M…"
      ]
     },
     "metadata": {},
     "output_type": "display_data"
    },
    {
     "name": "stdout",
     "output_type": "stream",
     "text": [
      "VEH.MilitaryVehicle (Military_vehicle)\n",
      "IC001K0VO_7\n"
     ]
    },
    {
     "data": {
      "application/vnd.jupyter.widget-view+json": {
       "model_id": "9a8df2cf81ff44b2b0c21e9a8d297326",
       "version_major": 2,
       "version_minor": 0
      },
      "text/plain": [
       "interactive(children=(RadioButtons(description='source', index=1, options=('Concatenated', 'Merged'), value='M…"
      ]
     },
     "metadata": {},
     "output_type": "display_data"
    },
    {
     "name": "stdout",
     "output_type": "stream",
     "text": [
      "COM.Equipment.Satellite (Satellite)\n",
      "HC000Q8HE_28\n"
     ]
    },
    {
     "data": {
      "application/vnd.jupyter.widget-view+json": {
       "model_id": "95cdb6ebb14842c0b3d163fcbd0b3f69",
       "version_major": 2,
       "version_minor": 0
      },
      "text/plain": [
       "interactive(children=(RadioButtons(description='source', index=1, options=('Concatenated', 'Merged'), value='M…"
      ]
     },
     "metadata": {},
     "output_type": "display_data"
    },
    {
     "name": "stdout",
     "output_type": "stream",
     "text": [
      "ORG.PoliticalOrganization.Court (Courthouse)\n",
      "IC0019MXJ_31\n"
     ]
    },
    {
     "data": {
      "application/vnd.jupyter.widget-view+json": {
       "model_id": "f0de22c794fd4a618da7ffe0ddef2301",
       "version_major": 2,
       "version_minor": 0
      },
      "text/plain": [
       "interactive(children=(RadioButtons(description='source', index=1, options=('Concatenated', 'Merged'), value='M…"
      ]
     },
     "metadata": {},
     "output_type": "display_data"
    },
    {
     "name": "stdout",
     "output_type": "stream",
     "text": [
      "FAC.Way (Road)\n",
      "HC0005F84_2\n"
     ]
    },
    {
     "data": {
      "application/vnd.jupyter.widget-view+json": {
       "model_id": "3875291efa924bd8a649d81a29fc575e",
       "version_major": 2,
       "version_minor": 0
      },
      "text/plain": [
       "interactive(children=(RadioButtons(description='source', index=1, options=('Concatenated', 'Merged'), value='M…"
      ]
     },
     "metadata": {},
     "output_type": "display_data"
    },
    {
     "name": "stdout",
     "output_type": "stream",
     "text": [
      "ORG.MilitaryOrganization.GovernmentArmedForces (Military_uniform)\n",
      "IC001JYXW_21\n"
     ]
    },
    {
     "data": {
      "application/vnd.jupyter.widget-view+json": {
       "model_id": "014c44e0066f4c98a6c3350d73a4b398",
       "version_major": 2,
       "version_minor": 0
      },
      "text/plain": [
       "interactive(children=(RadioButtons(description='source', index=1, options=('Concatenated', 'Merged'), value='M…"
      ]
     },
     "metadata": {},
     "output_type": "display_data"
    },
    {
     "name": "stdout",
     "output_type": "stream",
     "text": [
      "FAC (Tent)\n",
      "HC000Q8CD_92\n"
     ]
    },
    {
     "data": {
      "application/vnd.jupyter.widget-view+json": {
       "model_id": "64e10c7566154867b4a2a315078821d6",
       "version_major": 2,
       "version_minor": 0
      },
      "text/plain": [
       "interactive(children=(RadioButtons(description='source', index=1, options=('Concatenated', 'Merged'), value='M…"
      ]
     },
     "metadata": {},
     "output_type": "display_data"
    },
    {
     "name": "stdout",
     "output_type": "stream",
     "text": [
      "VEH.Aircraft (Aircraft)\n",
      "IC0019NAP_5\n"
     ]
    },
    {
     "data": {
      "application/vnd.jupyter.widget-view+json": {
       "model_id": "f46b4c9a17ca400f9be4ef977b516916",
       "version_major": 2,
       "version_minor": 0
      },
      "text/plain": [
       "interactive(children=(RadioButtons(description='source', index=1, options=('Concatenated', 'Merged'), value='M…"
      ]
     },
     "metadata": {},
     "output_type": "display_data"
    },
    {
     "name": "stdout",
     "output_type": "stream",
     "text": [
      "WEA.Bullets (Bullet)\n",
      "IC0019MY8_25\n"
     ]
    },
    {
     "data": {
      "application/vnd.jupyter.widget-view+json": {
       "model_id": "8383509d93614bad8920823b8935bc35",
       "version_major": 2,
       "version_minor": 0
      },
      "text/plain": [
       "interactive(children=(RadioButtons(description='source', index=1, options=('Concatenated', 'Merged'), value='M…"
      ]
     },
     "metadata": {},
     "output_type": "display_data"
    },
    {
     "name": "stdout",
     "output_type": "stream",
     "text": [
      "Conflict.Demonstrate (Demonstration)\n",
      "IC001K0VO_21\n"
     ]
    },
    {
     "data": {
      "application/vnd.jupyter.widget-view+json": {
       "model_id": "fb006f694b4b4a2eaaa0fd04840b23ce",
       "version_major": 2,
       "version_minor": 0
      },
      "text/plain": [
       "interactive(children=(RadioButtons(description='source', index=1, options=('Concatenated', 'Merged'), value='M…"
      ]
     },
     "metadata": {},
     "output_type": "display_data"
    },
    {
     "name": "stdout",
     "output_type": "stream",
     "text": [
      "VEH (Snowmobile)\n",
      "HC000588I_10\n"
     ]
    },
    {
     "data": {
      "application/vnd.jupyter.widget-view+json": {
       "model_id": "06fb524cc9b04953b6c7db76dd0f9924",
       "version_major": 2,
       "version_minor": 0
      },
      "text/plain": [
       "interactive(children=(RadioButtons(description='source', index=1, options=('Concatenated', 'Merged'), value='M…"
      ]
     },
     "metadata": {},
     "output_type": "display_data"
    },
    {
     "name": "stdout",
     "output_type": "stream",
     "text": [
      "PER.Combatant.Sniper (Sniper)\n",
      "IC0019N1Q_19\n"
     ]
    },
    {
     "data": {
      "application/vnd.jupyter.widget-view+json": {
       "model_id": "c394933aa9b0432ab4d9d1b4eee5e5b6",
       "version_major": 2,
       "version_minor": 0
      },
      "text/plain": [
       "interactive(children=(RadioButtons(description='source', index=1, options=('Concatenated', 'Merged'), value='M…"
      ]
     },
     "metadata": {},
     "output_type": "display_data"
    },
    {
     "name": "stdout",
     "output_type": "stream",
     "text": [
      "LOC.Position.Field (Field)\n",
      "IC0019MX4_7\n"
     ]
    },
    {
     "data": {
      "application/vnd.jupyter.widget-view+json": {
       "model_id": "ce9485abd07b439eaea75af04ef32d52",
       "version_major": 2,
       "version_minor": 0
      },
      "text/plain": [
       "interactive(children=(RadioButtons(description='source', index=1, options=('Concatenated', 'Merged'), value='M…"
      ]
     },
     "metadata": {},
     "output_type": "display_data"
    },
    {
     "name": "stdout",
     "output_type": "stream",
     "text": [
      "VEH.MilitaryVehicle.MilitaryBoat (Aircraft_carrier)\n",
      "HC000ZJS9_17\n"
     ]
    },
    {
     "data": {
      "application/vnd.jupyter.widget-view+json": {
       "model_id": "085305a5552d41f38fa5fa742cb6219d",
       "version_major": 2,
       "version_minor": 0
      },
      "text/plain": [
       "interactive(children=(RadioButtons(description='source', index=1, options=('Concatenated', 'Merged'), value='M…"
      ]
     },
     "metadata": {},
     "output_type": "display_data"
    },
    {
     "name": "stdout",
     "output_type": "stream",
     "text": [
      "FAC.Building.ApartmentBuilding (Apartment)\n",
      "IC0019N9T_50\n"
     ]
    },
    {
     "data": {
      "application/vnd.jupyter.widget-view+json": {
       "model_id": "8b34d3f795fe4e3caa28ed570827883b",
       "version_major": 2,
       "version_minor": 0
      },
      "text/plain": [
       "interactive(children=(RadioButtons(description='source', index=1, options=('Concatenated', 'Merged'), value='M…"
      ]
     },
     "metadata": {},
     "output_type": "display_data"
    },
    {
     "name": "stdout",
     "output_type": "stream",
     "text": [
      "GPE.UrbanArea.City (City)\n",
      "IC0019N6N_74\n"
     ]
    },
    {
     "data": {
      "application/vnd.jupyter.widget-view+json": {
       "model_id": "b6de806d5c8f4551bbd221e089b7e5d1",
       "version_major": 2,
       "version_minor": 0
      },
      "text/plain": [
       "interactive(children=(RadioButtons(description='source', index=1, options=('Concatenated', 'Merged'), value='M…"
      ]
     },
     "metadata": {},
     "output_type": "display_data"
    },
    {
     "name": "stdout",
     "output_type": "stream",
     "text": [
      "Conflict.Attack.SelfDirectedBattle (Combat)\n",
      "IC0019N8P_71\n"
     ]
    },
    {
     "data": {
      "application/vnd.jupyter.widget-view+json": {
       "model_id": "550bdc0a10ba4d9780e85616f5dc43ba",
       "version_major": 2,
       "version_minor": 0
      },
      "text/plain": [
       "interactive(children=(RadioButtons(description='source', index=1, options=('Concatenated', 'Merged'), value='M…"
      ]
     },
     "metadata": {},
     "output_type": "display_data"
    },
    {
     "name": "stdout",
     "output_type": "stream",
     "text": [
      "PER.ProfessionalPosition.Journalist (Journalist)\n",
      "IC0019N8A_183\n"
     ]
    },
    {
     "data": {
      "application/vnd.jupyter.widget-view+json": {
       "model_id": "1c85c1be6d684b0cb3e93a2c865c7619",
       "version_major": 2,
       "version_minor": 0
      },
      "text/plain": [
       "interactive(children=(RadioButtons(description='source', index=1, options=('Concatenated', 'Merged'), value='M…"
      ]
     },
     "metadata": {},
     "output_type": "display_data"
    },
    {
     "name": "stdout",
     "output_type": "stream",
     "text": [
      "WEA (Weapon)\n",
      "IC0019MZJ_57\n"
     ]
    },
    {
     "data": {
      "application/vnd.jupyter.widget-view+json": {
       "model_id": "5fbd15aee2b44923853124304385dcdd",
       "version_major": 2,
       "version_minor": 0
      },
      "text/plain": [
       "interactive(children=(RadioButtons(description='source', index=1, options=('Concatenated', 'Merged'), value='M…"
      ]
     },
     "metadata": {},
     "output_type": "display_data"
    },
    {
     "name": "stdout",
     "output_type": "stream",
     "text": [
      "WEA.Bomb (Bomb)\n",
      "IC0019N8A_123\n"
     ]
    },
    {
     "data": {
      "application/vnd.jupyter.widget-view+json": {
       "model_id": "592936af91eb43a1a0682844b1e70f28",
       "version_major": 2,
       "version_minor": 0
      },
      "text/plain": [
       "interactive(children=(RadioButtons(description='source', index=1, options=('Concatenated', 'Merged'), value='M…"
      ]
     },
     "metadata": {},
     "output_type": "display_data"
    },
    {
     "name": "stdout",
     "output_type": "stream",
     "text": [
      "FAC (Cemetery)\n",
      "IC0019N08_16\n"
     ]
    },
    {
     "data": {
      "application/vnd.jupyter.widget-view+json": {
       "model_id": "9a9dfd0118e84796864c6a264a54f7ad",
       "version_major": 2,
       "version_minor": 0
      },
      "text/plain": [
       "interactive(children=(RadioButtons(description='source', index=1, options=('Concatenated', 'Merged'), value='M…"
      ]
     },
     "metadata": {},
     "output_type": "display_data"
    },
    {
     "name": "stdout",
     "output_type": "stream",
     "text": [
      "WEA.Gun.Firearm (Machine_gun)\n",
      "IC001JYYB_4\n"
     ]
    },
    {
     "data": {
      "application/vnd.jupyter.widget-view+json": {
       "model_id": "2adaada820e74165a89a001cc1ff4133",
       "version_major": 2,
       "version_minor": 0
      },
      "text/plain": [
       "interactive(children=(RadioButtons(description='source', index=1, options=('Concatenated', 'Merged'), value='M…"
      ]
     },
     "metadata": {},
     "output_type": "display_data"
    },
    {
     "name": "stdout",
     "output_type": "stream",
     "text": [
      "PER.MilitaryPersonnel (map to OWG = Serviceman) (Fighter_pilot)\n",
      "HC0005BR6_46\n"
     ]
    },
    {
     "data": {
      "application/vnd.jupyter.widget-view+json": {
       "model_id": "3117bf1985d144858a883fda16d2f7b2",
       "version_major": 2,
       "version_minor": 0
      },
      "text/plain": [
       "interactive(children=(RadioButtons(description='source', index=1, options=('Concatenated', 'Merged'), value='M…"
      ]
     },
     "metadata": {},
     "output_type": "display_data"
    },
    {
     "name": "stdout",
     "output_type": "stream",
     "text": [
      "Manufacture.Artifact.CreateManufacture (Mass_production)\n",
      "IC001JYXP_98\n"
     ]
    },
    {
     "data": {
      "application/vnd.jupyter.widget-view+json": {
       "model_id": "ecc3d9555b4149fe92f7b6b890fc9c2d",
       "version_major": 2,
       "version_minor": 0
      },
      "text/plain": [
       "interactive(children=(RadioButtons(description='source', index=1, options=('Concatenated', 'Merged'), value='M…"
      ]
     },
     "metadata": {},
     "output_type": "display_data"
    },
    {
     "name": "stdout",
     "output_type": "stream",
     "text": [
      "VEH (Spacecraft)\n",
      "HC000Q8HE_28\n"
     ]
    },
    {
     "data": {
      "application/vnd.jupyter.widget-view+json": {
       "model_id": "9b08b7ee8f464084b5f45c920413034d",
       "version_major": 2,
       "version_minor": 0
      },
      "text/plain": [
       "interactive(children=(RadioButtons(description='source', index=1, options=('Concatenated', 'Merged'), value='M…"
      ]
     },
     "metadata": {},
     "output_type": "display_data"
    },
    {
     "name": "stdout",
     "output_type": "stream",
     "text": [
      "WEA.Gun.Firearm (Sniper_rifle)\n",
      "HC0005BPY_52\n"
     ]
    },
    {
     "data": {
      "application/vnd.jupyter.widget-view+json": {
       "model_id": "bcf8b3fa02ce483d94503d709aadb883",
       "version_major": 2,
       "version_minor": 0
      },
      "text/plain": [
       "interactive(children=(RadioButtons(description='source', index=1, options=('Concatenated', 'Merged'), value='M…"
      ]
     },
     "metadata": {},
     "output_type": "display_data"
    },
    {
     "name": "stdout",
     "output_type": "stream",
     "text": [
      "VEH.MilitaryVehicle (Military_helicopter)\n",
      "IC001L3PS_49\n"
     ]
    },
    {
     "data": {
      "application/vnd.jupyter.widget-view+json": {
       "model_id": "ce2a18d84b4f436096b2f844a2fa1679",
       "version_major": 2,
       "version_minor": 0
      },
      "text/plain": [
       "interactive(children=(RadioButtons(description='source', index=1, options=('Concatenated', 'Merged'), value='M…"
      ]
     },
     "metadata": {},
     "output_type": "display_data"
    },
    {
     "name": "stdout",
     "output_type": "stream",
     "text": [
      "VEH.Watercraft (Watercraft)\n",
      "IC0019N5C_2\n"
     ]
    },
    {
     "data": {
      "application/vnd.jupyter.widget-view+json": {
       "model_id": "0aeaa22436b44db5883a142785384d09",
       "version_major": 2,
       "version_minor": 0
      },
      "text/plain": [
       "interactive(children=(RadioButtons(description='source', index=1, options=('Concatenated', 'Merged'), value='M…"
      ]
     },
     "metadata": {},
     "output_type": "display_data"
    },
    {
     "name": "stdout",
     "output_type": "stream",
     "text": [
      "VEH.Rocket.Rocket (Rocket)\n",
      "HC000Q8CD_20\n"
     ]
    },
    {
     "data": {
      "application/vnd.jupyter.widget-view+json": {
       "model_id": "d642d05b52c44ce1b3f52eff595dc7cb",
       "version_major": 2,
       "version_minor": 0
      },
      "text/plain": [
       "interactive(children=(RadioButtons(description='source', index=1, options=('Concatenated', 'Merged'), value='M…"
      ]
     },
     "metadata": {},
     "output_type": "display_data"
    },
    {
     "name": "stdout",
     "output_type": "stream",
     "text": [
      "COM.Equipment.MedicalEquipment (Stretcher)\n",
      "IC0019N9T_292\n"
     ]
    },
    {
     "data": {
      "application/vnd.jupyter.widget-view+json": {
       "model_id": "9b2813c1f98444dd93c2533f062a1f26",
       "version_major": 2,
       "version_minor": 0
      },
      "text/plain": [
       "interactive(children=(RadioButtons(description='source', index=1, options=('Concatenated', 'Merged'), value='M…"
      ]
     },
     "metadata": {},
     "output_type": "display_data"
    },
    {
     "name": "stdout",
     "output_type": "stream",
     "text": [
      "VEH.WheeledVehicle.Car (Police_car)\n",
      "HC000ZLIF_17\n"
     ]
    },
    {
     "data": {
      "application/vnd.jupyter.widget-view+json": {
       "model_id": "794dc3fd393340c59b2b64f2c9725647",
       "version_major": 2,
       "version_minor": 0
      },
      "text/plain": [
       "interactive(children=(RadioButtons(description='source', index=1, options=('Concatenated', 'Merged'), value='M…"
      ]
     },
     "metadata": {},
     "output_type": "display_data"
    },
    {
     "name": "stdout",
     "output_type": "stream",
     "text": [
      "FAC.Installation (Factory)\n",
      "IC0019N1S_16\n"
     ]
    },
    {
     "data": {
      "application/vnd.jupyter.widget-view+json": {
       "model_id": "49af1381b14f4529981593f2116070a7",
       "version_major": 2,
       "version_minor": 0
      },
      "text/plain": [
       "interactive(children=(RadioButtons(description='source', index=1, options=('Concatenated', 'Merged'), value='M…"
      ]
     },
     "metadata": {},
     "output_type": "display_data"
    },
    {
     "name": "stdout",
     "output_type": "stream",
     "text": [
      "VEH.Aircraft (Aircraft_cabin)\n",
      "HC000Q8OQ_11\n"
     ]
    },
    {
     "data": {
      "application/vnd.jupyter.widget-view+json": {
       "model_id": "ee788d0e49a140fb95c470f608044a69",
       "version_major": 2,
       "version_minor": 0
      },
      "text/plain": [
       "interactive(children=(RadioButtons(description='source', index=1, options=('Concatenated', 'Merged'), value='M…"
      ]
     },
     "metadata": {},
     "output_type": "display_data"
    },
    {
     "name": "stdout",
     "output_type": "stream",
     "text": [
      "PER.ProfessionalPosition.Minister (Minister)\n",
      "HC000Q8CD_29\n"
     ]
    },
    {
     "data": {
      "application/vnd.jupyter.widget-view+json": {
       "model_id": "18d035333cab4ca791970d9f743ad4ff",
       "version_major": 2,
       "version_minor": 0
      },
      "text/plain": [
       "interactive(children=(RadioButtons(description='source', index=1, options=('Concatenated', 'Merged'), value='M…"
      ]
     },
     "metadata": {},
     "output_type": "display_data"
    },
    {
     "name": "stdout",
     "output_type": "stream",
     "text": [
      "PER.MilitaryPersonnel (map to OWG = Serviceman) (Military_person)\n",
      "IC001JYXW_27\n"
     ]
    },
    {
     "data": {
      "application/vnd.jupyter.widget-view+json": {
       "model_id": "1a41930c04794aa6968c9b220069f01b",
       "version_major": 2,
       "version_minor": 0
      },
      "text/plain": [
       "interactive(children=(RadioButtons(description='source', index=1, options=('Concatenated', 'Merged'), value='M…"
      ]
     },
     "metadata": {},
     "output_type": "display_data"
    },
    {
     "name": "stdout",
     "output_type": "stream",
     "text": [
      "VEH.WheeledVehicle (Van)\n",
      "HC00057FV_80\n"
     ]
    },
    {
     "data": {
      "application/vnd.jupyter.widget-view+json": {
       "model_id": "e6770c82f91e4676983e1df353b6ce6f",
       "version_major": 2,
       "version_minor": 0
      },
      "text/plain": [
       "interactive(children=(RadioButtons(description='source', index=1, options=('Concatenated', 'Merged'), value='M…"
      ]
     },
     "metadata": {},
     "output_type": "display_data"
    },
    {
     "name": "stdout",
     "output_type": "stream",
     "text": [
      "COM.Equipment (Binoculars)\n",
      "IC0019N1Q_9\n"
     ]
    },
    {
     "data": {
      "application/vnd.jupyter.widget-view+json": {
       "model_id": "19de65746f6749f0a6391829fbd748ab",
       "version_major": 2,
       "version_minor": 0
      },
      "text/plain": [
       "interactive(children=(RadioButtons(description='source', index=1, options=('Concatenated', 'Merged'), value='M…"
      ]
     },
     "metadata": {},
     "output_type": "display_data"
    },
    {
     "name": "stdout",
     "output_type": "stream",
     "text": [
      "Contact.Discussion.Meet (Meeting)\n",
      "HC000Q8CD_30\n"
     ]
    },
    {
     "data": {
      "application/vnd.jupyter.widget-view+json": {
       "model_id": "31353159a48d492286d7b93b06da9cee",
       "version_major": 2,
       "version_minor": 0
      },
      "text/plain": [
       "interactive(children=(RadioButtons(description='source', index=1, options=('Concatenated', 'Merged'), value='M…"
      ]
     },
     "metadata": {},
     "output_type": "display_data"
    },
    {
     "name": "stdout",
     "output_type": "stream",
     "text": [
      "WEA.Gun.Firearm (Firearm)\n",
      "IC0019N9I_97\n"
     ]
    },
    {
     "data": {
      "application/vnd.jupyter.widget-view+json": {
       "model_id": "f19aa6efaa234d7781b1333972f1bf1d",
       "version_major": 2,
       "version_minor": 0
      },
      "text/plain": [
       "interactive(children=(RadioButtons(description='source', index=1, options=('Concatenated', 'Merged'), value='M…"
      ]
     },
     "metadata": {},
     "output_type": "display_data"
    },
    {
     "name": "stdout",
     "output_type": "stream",
     "text": [
      "PER.ProfessionalPosition.Paramedic (Paramedic)\n",
      "IC0019MZJ_43\n"
     ]
    },
    {
     "data": {
      "application/vnd.jupyter.widget-view+json": {
       "model_id": "a17ebbe2a3aa4d1aac41b8e10a4b02c8",
       "version_major": 2,
       "version_minor": 0
      },
      "text/plain": [
       "interactive(children=(RadioButtons(description='source', index=1, options=('Concatenated', 'Merged'), value='M…"
      ]
     },
     "metadata": {},
     "output_type": "display_data"
    },
    {
     "name": "stdout",
     "output_type": "stream",
     "text": [
      "LOC.Land (Rubble)\n",
      "IC001JYXP_176\n"
     ]
    },
    {
     "data": {
      "application/vnd.jupyter.widget-view+json": {
       "model_id": "b4c462e9b86c48428cd0b12a6e8e9e4e",
       "version_major": 2,
       "version_minor": 0
      },
      "text/plain": [
       "interactive(children=(RadioButtons(description='source', index=1, options=('Concatenated', 'Merged'), value='M…"
      ]
     },
     "metadata": {},
     "output_type": "display_data"
    },
    {
     "name": "stdout",
     "output_type": "stream",
     "text": [
      "Disaster.AccidentCrash.AccidentCrash (Accident)\n",
      "HC000SYGU_13\n"
     ]
    },
    {
     "data": {
      "application/vnd.jupyter.widget-view+json": {
       "model_id": "d11f99c65f9c4cce85b4f8efd8f631da",
       "version_major": 2,
       "version_minor": 0
      },
      "text/plain": [
       "interactive(children=(RadioButtons(description='source', index=1, options=('Concatenated', 'Merged'), value='M…"
      ]
     },
     "metadata": {},
     "output_type": "display_data"
    },
    {
     "name": "stdout",
     "output_type": "stream",
     "text": [
      "VEH.Watercraft (Ship)\n",
      "IC001L3PS_75\n"
     ]
    },
    {
     "data": {
      "application/vnd.jupyter.widget-view+json": {
       "model_id": "557fa7632deb4ec899bf0561447befef",
       "version_major": 2,
       "version_minor": 0
      },
      "text/plain": [
       "interactive(children=(RadioButtons(description='source', index=1, options=('Concatenated', 'Merged'), value='M…"
      ]
     },
     "metadata": {},
     "output_type": "display_data"
    },
    {
     "name": "stdout",
     "output_type": "stream",
     "text": [
      "VEH.Watercraft (Submarine)\n",
      "HC000Q8O4_3\n"
     ]
    },
    {
     "data": {
      "application/vnd.jupyter.widget-view+json": {
       "model_id": "37ff3167d48e4c76b7f90c3d7dfded4f",
       "version_major": 2,
       "version_minor": 0
      },
      "text/plain": [
       "interactive(children=(RadioButtons(description='source', index=1, options=('Concatenated', 'Merged'), value='M…"
      ]
     },
     "metadata": {},
     "output_type": "display_data"
    },
    {
     "name": "stdout",
     "output_type": "stream",
     "text": [
      "PER (People)\n",
      "HC00056VD_8\n"
     ]
    },
    {
     "data": {
      "application/vnd.jupyter.widget-view+json": {
       "model_id": "ba01828590ca4852bc7893563e3dc3dd",
       "version_major": 2,
       "version_minor": 0
      },
      "text/plain": [
       "interactive(children=(RadioButtons(description='source', index=1, options=('Concatenated', 'Merged'), value='M…"
      ]
     },
     "metadata": {},
     "output_type": "display_data"
    },
    {
     "name": "stdout",
     "output_type": "stream",
     "text": [
      "FAC.Building (Conference_hall)\n",
      "HC000Q8CD_30\n"
     ]
    },
    {
     "data": {
      "application/vnd.jupyter.widget-view+json": {
       "model_id": "37bea93c736c4900a3435f5ec998b37b",
       "version_major": 2,
       "version_minor": 0
      },
      "text/plain": [
       "interactive(children=(RadioButtons(description='source', index=1, options=('Concatenated', 'Merged'), value='M…"
      ]
     },
     "metadata": {},
     "output_type": "display_data"
    },
    {
     "name": "stdout",
     "output_type": "stream",
     "text": [
      "WEA.MissileSystem.Missile (Missile)\n",
      "HC000Q8CD_15\n"
     ]
    },
    {
     "data": {
      "application/vnd.jupyter.widget-view+json": {
       "model_id": "b9f8ab68874a4fb1a076cefeed8ce2be",
       "version_major": 2,
       "version_minor": 0
      },
      "text/plain": [
       "interactive(children=(RadioButtons(description='source', index=1, options=('Concatenated', 'Merged'), value='M…"
      ]
     },
     "metadata": {},
     "output_type": "display_data"
    },
    {
     "name": "stdout",
     "output_type": "stream",
     "text": [
      "GPE.UrbanArea (Urban_area)\n",
      "IC0019MZW_9\n"
     ]
    },
    {
     "data": {
      "application/vnd.jupyter.widget-view+json": {
       "model_id": "7b45b3b394c0421ab80a68f215d9e236",
       "version_major": 2,
       "version_minor": 0
      },
      "text/plain": [
       "interactive(children=(RadioButtons(description='source', index=1, options=('Concatenated', 'Merged'), value='M…"
      ]
     },
     "metadata": {},
     "output_type": "display_data"
    },
    {
     "name": "stdout",
     "output_type": "stream",
     "text": [
      "FAC.Structure (Fence)\n",
      "IC001JYYB_19\n"
     ]
    },
    {
     "data": {
      "application/vnd.jupyter.widget-view+json": {
       "model_id": "6dbcb98f8c0b4eaaae66cc0e659e3a48",
       "version_major": 2,
       "version_minor": 0
      },
      "text/plain": [
       "interactive(children=(RadioButtons(description='source', index=1, options=('Concatenated', 'Merged'), value='M…"
      ]
     },
     "metadata": {},
     "output_type": "display_data"
    },
    {
     "name": "stdout",
     "output_type": "stream",
     "text": [
      "WEA.Gun.Firearm (Handgun)\n",
      "IC0019N9I_89\n"
     ]
    },
    {
     "data": {
      "application/vnd.jupyter.widget-view+json": {
       "model_id": "8a533a82708f41e1a6ed4309955dd56a",
       "version_major": 2,
       "version_minor": 0
      },
      "text/plain": [
       "interactive(children=(RadioButtons(description='source', index=1, options=('Concatenated', 'Merged'), value='M…"
      ]
     },
     "metadata": {},
     "output_type": "display_data"
    },
    {
     "name": "stdout",
     "output_type": "stream",
     "text": [
      "Movement.TransportArtifact.BringCarryUnload (Freight_transport)\n",
      "HC0005FMK_34\n"
     ]
    },
    {
     "data": {
      "application/vnd.jupyter.widget-view+json": {
       "model_id": "04706616693747da8b5684a9965b0dac",
       "version_major": 2,
       "version_minor": 0
      },
      "text/plain": [
       "interactive(children=(RadioButtons(description='source', index=1, options=('Concatenated', 'Merged'), value='M…"
      ]
     },
     "metadata": {},
     "output_type": "display_data"
    },
    {
     "name": "stdout",
     "output_type": "stream",
     "text": [
      "FAC.Building.StoreShop (Shopping_mall)\n",
      "IC0019N5E_1\n"
     ]
    },
    {
     "data": {
      "application/vnd.jupyter.widget-view+json": {
       "model_id": "e37a84f7109e4587aeba80cc5273fb15",
       "version_major": 2,
       "version_minor": 0
      },
      "text/plain": [
       "interactive(children=(RadioButtons(description='source', index=1, options=('Concatenated', 'Merged'), value='M…"
      ]
     },
     "metadata": {},
     "output_type": "display_data"
    },
    {
     "name": "stdout",
     "output_type": "stream",
     "text": [
      "FAC.Building (Skyscraper)\n",
      "IC0019N8P_34\n"
     ]
    },
    {
     "data": {
      "application/vnd.jupyter.widget-view+json": {
       "model_id": "54e24a357d5f453e9b8745b6d7d75684",
       "version_major": 2,
       "version_minor": 0
      },
      "text/plain": [
       "interactive(children=(RadioButtons(description='source', index=1, options=('Concatenated', 'Merged'), value='M…"
      ]
     },
     "metadata": {},
     "output_type": "display_data"
    },
    {
     "name": "stdout",
     "output_type": "stream",
     "text": [
      "WEA.Gun.Firearm (Assault_rifle)\n",
      "IC0019MY8_126\n"
     ]
    },
    {
     "data": {
      "application/vnd.jupyter.widget-view+json": {
       "model_id": "fcdb896ce1ae400dad9a033c0ab15029",
       "version_major": 2,
       "version_minor": 0
      },
      "text/plain": [
       "interactive(children=(RadioButtons(description='source', index=1, options=('Concatenated', 'Merged'), value='M…"
      ]
     },
     "metadata": {},
     "output_type": "display_data"
    },
    {
     "name": "stdout",
     "output_type": "stream",
     "text": [
      "Conflict.Attack.FirearmAttack (Shooting)\n",
      "IC0019MXC_7\n"
     ]
    },
    {
     "data": {
      "application/vnd.jupyter.widget-view+json": {
       "model_id": "b195e0b7c3fb458dac008e5e2b9b9c51",
       "version_major": 2,
       "version_minor": 0
      },
      "text/plain": [
       "interactive(children=(RadioButtons(description='source', index=1, options=('Concatenated', 'Merged'), value='M…"
      ]
     },
     "metadata": {},
     "output_type": "display_data"
    },
    {
     "name": "stdout",
     "output_type": "stream",
     "text": [
      "PER.ProfessionalPosition.Scientist (Scientist)\n",
      "HC0005BR6_14\n"
     ]
    },
    {
     "data": {
      "application/vnd.jupyter.widget-view+json": {
       "model_id": "cfd95d0b3c1e47ff870ba3c517a9059d",
       "version_major": 2,
       "version_minor": 0
      },
      "text/plain": [
       "interactive(children=(RadioButtons(description='source', index=1, options=('Concatenated', 'Merged'), value='M…"
      ]
     },
     "metadata": {},
     "output_type": "display_data"
    },
    {
     "name": "stdout",
     "output_type": "stream",
     "text": [
      "VEH.Aircraft.CargoAircraft (Cargo_aircraft)\n",
      "HC000Q8CD_65\n"
     ]
    },
    {
     "data": {
      "application/vnd.jupyter.widget-view+json": {
       "model_id": "d664ba09d557470b80b3ac132fdb875a",
       "version_major": 2,
       "version_minor": 0
      },
      "text/plain": [
       "interactive(children=(RadioButtons(description='source', index=1, options=('Concatenated', 'Merged'), value='M…"
      ]
     },
     "metadata": {},
     "output_type": "display_data"
    }
   ],
   "source": [
    "for label in select_labels:\n",
    "    if len(label_to_img[label]) == 0:\n",
    "        continue\n",
    "    print(mid2name_all[label])\n",
    "    imgid = np.random.choice(label_to_img[label])\n",
    "    print(imgid)\n",
    "    w = interactive(show, \n",
    "        imgid=fixed(imgid),\n",
    "        source=widgets.RadioButtons(options=['Concatenated', 'Merged'], value='Merged'), \n",
    "        thresh=widgets.FloatSlider(min=0.0, max=1.0, step=0.01, value=0.1, continuous_update=False), \n",
    "    )\n",
    "    w.children[-1].layout.height = '600px'\n",
    "    display(w)\n",
    "    "
   ]
  },
  {
   "cell_type": "code",
   "execution_count": null,
   "metadata": {},
   "outputs": [],
   "source": []
  },
  {
   "cell_type": "code",
   "execution_count": null,
   "metadata": {},
   "outputs": [],
   "source": []
  },
  {
   "cell_type": "code",
   "execution_count": null,
   "metadata": {},
   "outputs": [],
   "source": []
  }
 ],
 "metadata": {
  "kernelspec": {
   "display_name": "Py3 w/ Tensorflow (Newest)",
   "language": "python",
   "name": "py3tf_new"
  },
  "language_info": {
   "codemirror_mode": {
    "name": "ipython",
    "version": 3
   },
   "file_extension": ".py",
   "mimetype": "text/x-python",
   "name": "python",
   "nbconvert_exporter": "python",
   "pygments_lexer": "ipython3",
   "version": "3.6.6"
  }
 },
 "nbformat": 4,
 "nbformat_minor": 2
}
