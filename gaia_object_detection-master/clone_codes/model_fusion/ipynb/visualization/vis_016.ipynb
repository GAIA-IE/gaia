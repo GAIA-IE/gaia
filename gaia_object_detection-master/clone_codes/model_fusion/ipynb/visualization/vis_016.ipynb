{
 "cells": [
  {
   "cell_type": "code",
   "execution_count": 1,
   "metadata": {},
   "outputs": [],
   "source": [
    "import os\n",
    "import sys\n",
    "import pickle\n",
    "import csv\n",
    "import copy\n",
    "\n",
    "import numpy as np\n",
    "import cv2\n",
    "import matplotlib.pyplot as plt\n",
    "%matplotlib inline"
   ]
  },
  {
   "cell_type": "code",
   "execution_count": 2,
   "metadata": {},
   "outputs": [],
   "source": [
    "from ipywidgets import interact, interactive, fixed, interact_manual\n",
    "import ipywidgets as widgets"
   ]
  },
  {
   "cell_type": "code",
   "execution_count": 3,
   "metadata": {},
   "outputs": [
    {
     "name": "stderr",
     "output_type": "stream",
     "text": [
      "../../../tfobjdetect/lib/object_detection/utils/visualization_utils.py:25: UserWarning: \n",
      "This call to matplotlib.use() has no effect because the backend has already\n",
      "been chosen; matplotlib.use() must be called *before* pylab, matplotlib.pyplot,\n",
      "or matplotlib.backends is imported for the first time.\n",
      "\n",
      "The backend was *originally* set to 'module://ipykernel.pylab.backend_inline' by the following code:\n",
      "  File \"/home/alireza/home_at_filer2/tools/anaconda3/envs/py3tf/lib/python3.6/runpy.py\", line 193, in _run_module_as_main\n",
      "    \"__main__\", mod_spec)\n",
      "  File \"/home/alireza/home_at_filer2/tools/anaconda3/envs/py3tf/lib/python3.6/runpy.py\", line 85, in _run_code\n",
      "    exec(code, run_globals)\n",
      "  File \"/home/alireza/home_at_filer2/tools/anaconda3/envs/py3tf/lib/python3.6/site-packages/ipykernel/__main__.py\", line 3, in <module>\n",
      "    app.launch_new_instance()\n",
      "  File \"/home/alireza/home_at_filer2/tools/anaconda3/envs/py3tf/lib/python3.6/site-packages/traitlets/config/application.py\", line 658, in launch_instance\n",
      "    app.start()\n",
      "  File \"/home/alireza/home_at_filer2/tools/anaconda3/envs/py3tf/lib/python3.6/site-packages/ipykernel/kernelapp.py\", line 486, in start\n",
      "    self.io_loop.start()\n",
      "  File \"/home/alireza/home_at_filer2/tools/anaconda3/envs/py3tf/lib/python3.6/site-packages/tornado/platform/asyncio.py\", line 127, in start\n",
      "    self.asyncio_loop.run_forever()\n",
      "  File \"/home/alireza/home_at_filer2/tools/anaconda3/envs/py3tf/lib/python3.6/asyncio/base_events.py\", line 422, in run_forever\n",
      "    self._run_once()\n",
      "  File \"/home/alireza/home_at_filer2/tools/anaconda3/envs/py3tf/lib/python3.6/asyncio/base_events.py\", line 1432, in _run_once\n",
      "    handle._run()\n",
      "  File \"/home/alireza/home_at_filer2/tools/anaconda3/envs/py3tf/lib/python3.6/asyncio/events.py\", line 145, in _run\n",
      "    self._callback(*self._args)\n",
      "  File \"/home/alireza/home_at_filer2/tools/anaconda3/envs/py3tf/lib/python3.6/site-packages/tornado/platform/asyncio.py\", line 117, in _handle_events\n",
      "    handler_func(fileobj, events)\n",
      "  File \"/home/alireza/home_at_filer2/tools/anaconda3/envs/py3tf/lib/python3.6/site-packages/tornado/stack_context.py\", line 276, in null_wrapper\n",
      "    return fn(*args, **kwargs)\n",
      "  File \"/home/alireza/home_at_filer2/tools/anaconda3/envs/py3tf/lib/python3.6/site-packages/zmq/eventloop/zmqstream.py\", line 450, in _handle_events\n",
      "    self._handle_recv()\n",
      "  File \"/home/alireza/home_at_filer2/tools/anaconda3/envs/py3tf/lib/python3.6/site-packages/zmq/eventloop/zmqstream.py\", line 480, in _handle_recv\n",
      "    self._run_callback(callback, msg)\n",
      "  File \"/home/alireza/home_at_filer2/tools/anaconda3/envs/py3tf/lib/python3.6/site-packages/zmq/eventloop/zmqstream.py\", line 432, in _run_callback\n",
      "    callback(*args, **kwargs)\n",
      "  File \"/home/alireza/home_at_filer2/tools/anaconda3/envs/py3tf/lib/python3.6/site-packages/tornado/stack_context.py\", line 276, in null_wrapper\n",
      "    return fn(*args, **kwargs)\n",
      "  File \"/home/alireza/home_at_filer2/tools/anaconda3/envs/py3tf/lib/python3.6/site-packages/ipykernel/kernelbase.py\", line 283, in dispatcher\n",
      "    return self.dispatch_shell(stream, msg)\n",
      "  File \"/home/alireza/home_at_filer2/tools/anaconda3/envs/py3tf/lib/python3.6/site-packages/ipykernel/kernelbase.py\", line 233, in dispatch_shell\n",
      "    handler(stream, idents, msg)\n",
      "  File \"/home/alireza/home_at_filer2/tools/anaconda3/envs/py3tf/lib/python3.6/site-packages/ipykernel/kernelbase.py\", line 399, in execute_request\n",
      "    user_expressions, allow_stdin)\n",
      "  File \"/home/alireza/home_at_filer2/tools/anaconda3/envs/py3tf/lib/python3.6/site-packages/ipykernel/ipkernel.py\", line 208, in do_execute\n",
      "    res = shell.run_cell(code, store_history=store_history, silent=silent)\n",
      "  File \"/home/alireza/home_at_filer2/tools/anaconda3/envs/py3tf/lib/python3.6/site-packages/ipykernel/zmqshell.py\", line 537, in run_cell\n",
      "    return super(ZMQInteractiveShell, self).run_cell(*args, **kwargs)\n",
      "  File \"/home/alireza/home_at_filer2/tools/anaconda3/envs/py3tf/lib/python3.6/site-packages/IPython/core/interactiveshell.py\", line 2666, in run_cell\n",
      "    self.events.trigger('post_run_cell', result)\n",
      "  File \"/home/alireza/home_at_filer2/tools/anaconda3/envs/py3tf/lib/python3.6/site-packages/IPython/core/events.py\", line 88, in trigger\n",
      "    func(*args, **kwargs)\n",
      "  File \"/home/alireza/home_at_filer2/tools/anaconda3/envs/py3tf/lib/python3.6/site-packages/ipykernel/pylab/backend_inline.py\", line 160, in configure_once\n",
      "    activate_matplotlib(backend)\n",
      "  File \"/home/alireza/home_at_filer2/tools/anaconda3/envs/py3tf/lib/python3.6/site-packages/IPython/core/pylabtools.py\", line 311, in activate_matplotlib\n",
      "    matplotlib.pyplot.switch_backend(backend)\n",
      "  File \"/home/alireza/home_at_filer2/tools/anaconda3/envs/py3tf/lib/python3.6/site-packages/matplotlib/pyplot.py\", line 231, in switch_backend\n",
      "    matplotlib.use(newbackend, warn=False, force=True)\n",
      "  File \"/home/alireza/home_at_filer2/tools/anaconda3/envs/py3tf/lib/python3.6/site-packages/matplotlib/__init__.py\", line 1410, in use\n",
      "    reload(sys.modules['matplotlib.backends'])\n",
      "  File \"/home/alireza/home_at_filer2/tools/anaconda3/envs/py3tf/lib/python3.6/importlib/__init__.py\", line 166, in reload\n",
      "    _bootstrap._exec(spec, module)\n",
      "  File \"/home/alireza/home_at_filer2/tools/anaconda3/envs/py3tf/lib/python3.6/site-packages/matplotlib/backends/__init__.py\", line 16, in <module>\n",
      "    line for line in traceback.format_stack()\n",
      "\n",
      "\n",
      "  import matplotlib; matplotlib.use('Agg')  # pylint: disable=multiple-statements\n"
     ]
    }
   ],
   "source": [
    "sys.path.append(\"../../../tfobjdetect/lib\")\n",
    "from object_detection.utils import label_map_util\n",
    "from object_detection.utils import visualization_utils as vis_util"
   ]
  },
  {
   "cell_type": "markdown",
   "metadata": {},
   "source": [
    "## Loading and preparing label maps"
   ]
  },
  {
   "cell_type": "code",
   "execution_count": 4,
   "metadata": {},
   "outputs": [],
   "source": [
    "with open('../../temp/all_labels_names_300.pkl', 'rb') as fin:\n",
    "    mid2name_all = pickle.load(fin)"
   ]
  },
  {
   "cell_type": "code",
   "execution_count": 5,
   "metadata": {},
   "outputs": [],
   "source": [
    "with open('../../temp/all_labels_300+.pkl', 'rb') as fin:\n",
    "    all_labels = pickle.load(fin)"
   ]
  },
  {
   "cell_type": "code",
   "execution_count": null,
   "metadata": {},
   "outputs": [],
   "source": []
  },
  {
   "cell_type": "code",
   "execution_count": 6,
   "metadata": {},
   "outputs": [],
   "source": [
    "with open('../../results/det_results_concat_15.pkl', 'rb') as fin:\n",
    "    det_results_concat = pickle.load(fin)"
   ]
  },
  {
   "cell_type": "code",
   "execution_count": 7,
   "metadata": {},
   "outputs": [],
   "source": [
    "with open('../../results/det_results_merged_15.pkl', 'rb') as fin:\n",
    "    det_results_merged = pickle.load(fin)"
   ]
  },
  {
   "cell_type": "code",
   "execution_count": null,
   "metadata": {},
   "outputs": [],
   "source": []
  },
  {
   "cell_type": "markdown",
   "metadata": {},
   "source": [
    "## Choosing examples for each class to visualize"
   ]
  },
  {
   "cell_type": "code",
   "execution_count": 8,
   "metadata": {},
   "outputs": [],
   "source": [
    "label_to_img = {key: [] for key in all_labels}\n",
    "for key, val in det_results_concat.items():\n",
    "    for det in val:\n",
    "        if det['score'] >= 0.35:\n",
    "            label_to_img[det['label']].append(key)"
   ]
  },
  {
   "cell_type": "code",
   "execution_count": 13,
   "metadata": {},
   "outputs": [],
   "source": [
    "sort_idx = np.argsort([-len(label_to_img[label]) for label in all_labels])"
   ]
  },
  {
   "cell_type": "code",
   "execution_count": 14,
   "metadata": {},
   "outputs": [
    {
     "name": "stdout",
     "output_type": "stream",
     "text": [
      "/m/01g317 Person 9359\n",
      "/m/04yx4 Man 2093\n",
      "/m/0dzct Human face 1834\n",
      "/m/09j2d Clothing 1505\n",
      "/m/03bt1vf Woman 950\n",
      "/m/0k4j Car 569\n",
      "/m/07yv9 Vehicle 433\n",
      "/m/01xyhv Suit 353\n",
      "/m/0cgh4 Building 351\n",
      "/m/01rkbr Tie 300\n",
      "/m/07j7r Tree 297\n",
      "/m/0cmf2 Airplane 272\n",
      "/m/01n5jq Poster 252\n",
      "/m/01prls Land vehicle 169\n",
      "/m/04dr76w Bottle 162\n",
      "/m/07r04 Truck 151\n",
      "/m/019jd Boat 150\n",
      "/m/05s2s Plant 141\n",
      "/m/07jdr Train 132\n",
      "/m/083wq Wheel 131\n",
      "/m/080hkjn Handbag 130\n",
      "/m/04_tb Map 124\n",
      "/m/0jyfg Glasses 107\n",
      "/m/09j5n Footwear 104\n",
      "/m/0bt9lr Dog 103\n",
      "/m/01mzpv Chair 102\n",
      "/m/050k8 Mobile phone 100\n",
      "/m/0fly7 Jeans 99\n",
      "/m/04bcr3 Table 89\n",
      "/m/07c52 Television 89\n",
      "/m/0zvk5 Helmet 87\n",
      "/m/0k65p Hand 86\n",
      "/m/032b3c Jacket 83\n",
      "/m/012t_z Businessperson 81\n",
      "/m/03q69 Hair 80\n",
      "/m/01d40f Dress 79\n",
      "/m/03120 Flag 72\n",
      "/m/07cmd Tank 69\n",
      "/m/01940j Backpack 66\n",
      "/m/03fp41 Houseplant 65\n",
      "/m/03jm5 House 65\n",
      "/m/0d4v4 Window 63\n",
      "/m/0dwx7 Logo 61\n",
      "/m/01yrx Cat 56\n",
      "/m/0h9mv Tire 53\n",
      "/m/02dl1y Hat 52\n",
      "/m/015p6 Bird 51\n",
      "/m/05r655 Girl 51\n",
      "/m/017ftj Sunglasses 49\n",
      "/m/02wbm Food 48\n",
      "/m/02_41 Fire 47\n",
      "/m/01bjv Bus 45\n",
      "/m/02p0zyj Riot 45\n",
      "/m/0jbk Animal 44\n",
      "/m/083kb Weapon 44\n",
      "/m/02522 Computer monitor 44\n",
      "/m/07s6nbt Text 43\n",
      "/m/0c_jw Furniture 41\n",
      "/m/04_sv Motorcycle 40\n",
      "/m/01bl7v Boy 39\n",
      "/m/0bt_c3 Book 37\n",
      "/m/0138tl Toy 34\n",
      "/m/01fdzj Tower 34\n",
      "/m/01xr66 Spokesperson 34\n",
      "/m/04rky Mammal 34\n",
      "/m/0k0pj Nose 33\n",
      "/m/0dzf4 Arm 32\n",
      "/m/06q40 Smoke 31\n",
      "/m/0199g Bicycle 30\n",
      "/m/0c9ph5 Flower 30\n",
      "/m/01fnck Waste 28\n",
      "/m/0hnnb Umbrella 28\n",
      "/m/014zdl Explosion 27\n",
      "/m/06msq Sculpture 27\n",
      "/m/03ssj5 Bed 25\n",
      "/m/06c54 Rifle 25\n",
      "/m/01c648 Laptop 24\n",
      "/m/0463sg Fashion accessory 23\n",
      "/m/03k3r Horse 22\n",
      "/m/018xm Ball 22\n",
      "/m/025nd Christmas tree 22\n",
      "/m/08gqpm cup 22\n",
      "/m/0hg7b Microphone 22\n",
      "/m/04kkgm Bowl 22\n",
      "/m/08dz3q Auto part 21\n",
      "/m/014sv8 Eye 21\n",
      "/m/012n4x Firefighter 21\n",
      "/m/04hgtk Human head 20\n",
      "/m/02s195 Vase 20\n",
      "/m/09ct_ Helicopter 20\n",
      "/m/0chbx Violence 20\n",
      "/m/06z37_ Picture frame 19\n",
      "/m/09tvcd Wine glass 18\n",
      "/m/0cvnqh Bench 18\n",
      "/m/0k5j Aircraft 17\n",
      "/m/02d9qx Whiteboard 17\n",
      "/m/01s55n Suitcase 16\n",
      "/m/02zt3 Kite 16\n",
      "/m/033rq4 Street light 16\n",
      "/m/014tl Ammunition 16\n",
      "/m/07mhn Trousers 16\n",
      "/m/09x0r Speech 15\n",
      "/m/01knjb Billboard 15\n",
      "/m/01n4qj Shirt 14\n",
      "/m/02_n6y Goggles 14\n",
      "/m/079cl Skyscraper 14\n",
      "/m/03rszm Curtain 13\n",
      "/m/040b_t Refrigerator 13\n",
      "/m/015qff Traffic light 13\n",
      "/m/02dgv Door 12\n",
      "/m/09g1w Toilet 12\n",
      "/m/0271t Drink 12\n",
      "/m/03g8mr Baseball bat 12\n",
      "/m/01bgsw Toddler 12\n",
      "/m/0130jx Sink 12\n",
      "/m/01m2v Computer keyboard 11\n",
      "/m/03qtwd Crowd 11\n",
      "/m/0h2r6 Van 11\n",
      "/m/01x3z Clock 11\n",
      "/m/07bgp Sheep 10\n",
      "/m/01xq0k1 Cattle 10\n",
      "/m/04ctx Knife 10\n",
      "/m/01lrl Carnivore 10\n",
      "/m/039xj_ Ear 10\n",
      "/m/02crq1 Couch 10\n",
      "/m/01xygc Coat 10\n",
      "/m/0f4s2w Vegetable 10\n",
      "/m/01lynh Stairs 10\n",
      "/m/06q74 Ship 9\n",
      "/m/07d0f Trademark 9\n",
      "/m/01_bhs Fast food 9\n",
      "/m/01mqdt Traffic sign 9\n",
      "/m/0blz9 Fence 9\n",
      "/m/01gmv2 Brassiere 8\n",
      "/m/0342h Guitar 8\n",
      "/m/01xgg_ Medical equipment 8\n",
      "/m/013_1c Statue 8\n",
      "/m/04_x4 Money 8\n",
      "/m/025dyy Box 8\n",
      "/m/0b_rs Swimming pool 8\n",
      "/m/02fq_6 Fedora 8\n",
      "/m/02xwb Fruit 8\n",
      "/m/03__z0 Bookcase 8\n",
      "/m/0qjjc Remote control 8\n",
      "/m/035r7c Leg 8\n",
      "/m/0c06p Candle 7\n",
      "/m/01b9xk Hot dog 7\n",
      "/m/01dws Bear 7\n",
      "/m/06m11 Rose 7\n",
      "/m/0hs8k Bullet 7\n",
      "/m/01j61q Tent 7\n",
      "/m/0kmg4 Teddy bear 7\n",
      "/m/0fd6q Cash 7\n",
      "/m/01nl4x Fire extinguisher 7\n",
      "/m/0ltfs Bride 7\n",
      "/m/01bqk0 Bicycle wheel 7\n",
      "/m/0dt3t Fork 7\n",
      "/m/0hkxq Broccoli 6\n",
      "/m/01m3v Computer 6\n",
      "/m/0dv5r Camera 6\n",
      "/m/02q5pxq Aircraft cabin 6\n",
      "/m/0898b Zebra 6\n",
      "/m/02h19r Scarf 6\n",
      "/m/039l3v Auditorium 6\n",
      "/m/0242l Coin 6\n",
      "/m/07k1x Tool 6\n",
      "/m/078n6m Coffee table 6\n",
      "/m/0dv9c Racket 6\n",
      "/m/02ryw Explosive material 6\n",
      "/m/02pv19 Stop sign 5\n",
      "/m/019w40 Surfboard 5\n",
      "/m/0270h Dessert 5\n",
      "/m/0h8n5zk Kitchen & dining room table 5\n",
      "/m/021sj1 Office building 5\n",
      "/m/0cmx8 Spoon 5\n",
      "/m/01bfm9 Shorts 5\n",
      "/m/0dkw5 Machine 5\n",
      "/m/09ddx Duck 5\n",
      "/m/02cwf_ Shrine 5\n",
      "/m/04brg2 Tableware 5\n",
      "/m/0h8mhzd Sports uniform 5\n",
      "/m/019dx1 Home appliance 5\n",
      "/m/0283dt1 Mouth 5\n",
      "/m/01ww8y Snack 5\n",
      "/m/0gvss07 Combat vehicle 5\n",
      "/m/016m2d Skull 4\n",
      "/m/01yx86 Bronze sculpture 4\n",
      "/m/07j87 Tomato 4\n",
      "/m/018rqw Wide-body aircraft 4\n",
      "/m/01y9k5 Desk 4\n",
      "/m/071p9 Ski 4\n",
      "/m/0bwd_0j Elephant 4\n",
      "/m/012xff Toothbrush 4\n",
      "/m/015h_t Beard 4\n",
      "/m/04h7h Lighthouse 4\n",
      "/m/02wmf frisbee 4\n",
      "/m/09d5_ Owl 4\n",
      "/m/0fj52s Carrot 4\n",
      "/m/03hl4l9 Marine invertebrates 4\n",
      "/m/0byj4 Combat 4\n",
      "/m/0bh6t6c Rescuer 4\n",
      "/m/01jfm_ Licence plate 4\n",
      "/m/01rzcn Watercraft 4\n",
      "/m/01llwg Necklace 4\n",
      "/m/0jy4k Doughnut 4\n",
      "/m/0133tk Ballistic vest 3\n",
      "/m/0fm3zh Flowerpot 3\n",
      "/m/014j1m Apple 3\n",
      "/m/07fbm7 Strawberry 3\n",
      "/m/0grw1 Salad 3\n",
      "/m/038t8_ Estate 3\n",
      "/m/0crjs Convenience store 3\n",
      "/m/0gjkl Watch 3\n",
      "/m/02rdsp Office supplies 3\n",
      "/m/052lwg6 Baked goods 3\n",
      "/m/050gv4 Plate 3\n",
      "/m/020lf Mouse 3\n",
      "/m/054_l Mirror 3\n",
      "/m/0bs7_0t Electronic device 3\n",
      "/m/01wk9c Emblem 3\n",
      "/m/03cny9 Badge 3\n",
      "/m/0220r2 Fountain 3\n",
      "/m/0g54v5d Military vehicle 3\n",
      "/m/015qbp parking meter 3\n",
      "/m/02wbtzl Sun hat 3\n",
      "/m/04ylt Missile 3\n",
      "/m/0h99cwc Kitchen appliance 3\n",
      "/m/0728h Self-propelled artillery 3\n",
      "/m/0d5gx Castle 3\n",
      "/m/0hf58v5 Luggage and bags 3\n",
      "/m/033lpr Audience 3\n",
      "/m/06bt6 Reptile 3\n",
      "/m/08pbxl Monkey 3\n",
      "/m/01pns0 Fire hydrant 3\n",
      "/m/02pkr5 Plumbing fixture 3\n",
      "/m/01lsmm Scissors 3\n",
      "/m/02p4dfn Lectern 3\n",
      "/m/0fszt Cake 2\n",
      "/m/01s105 Cabinetry 2\n",
      "/m/02_g0 Funeral 2\n",
      "/m/026t6 Drum 2\n",
      "/m/01n32 City 2\n",
      "/m/0cffdh Maple 2\n",
      "/m/01nd_n Protest 2\n",
      "/m/047b9vj Gps navigation device 2\n",
      "/m/099ssp Platter 2\n",
      "/m/05r5c Piano 2\n",
      "/m/02jnhm Tin can 2\n",
      "/m/0gt4z Security guard 2\n",
      "/m/09kx5 Deer 2\n",
      "/m/0dbvp Goose 2\n",
      "/m/0ct4f Bomb 2\n",
      "/m/09rvcxw Rocket 2\n",
      "/m/0284d Dairy 2\n",
      "/m/0jqgx Lily 2\n",
      "/m/0dtln Lamp 2\n",
      "/m/0gjbg72 Shelf 2\n",
      "/m/03grzl Baseball glove 2\n",
      "/m/0169zh Smartphone 2\n",
      "/m/0gd2v Marine mammal 2\n",
      "/m/02p0tk3 Human body 2\n",
      "/m/0174n1 Glove 2\n",
      "/m/0cyhj_ Orange 2\n",
      "/m/015kr Bridge 2\n",
      "/m/06810_ Medium tactical vehicle replacement 2\n",
      "/m/03vt0 Insect 2\n",
      "/m/02p16m6 Flesh 2\n",
      "/m/05z6w Penguin 2\n",
      "/m/01h3n Bee 2\n",
      "/m/06__v Snowboard 2\n",
      "/m/09728 Bread 2\n",
      "/m/011k07 Tortoise 2\n",
      "/m/0bg2p Security 2\n",
      "/m/06_fw Skateboard 2\n",
      "/m/0ftb8 Sunflower 2\n",
      "/m/06gfj Road 2\n",
      "/m/0cdl1 Palm tree 2\n",
      "/m/04szw Musical instrument 2\n",
      "/m/09g5pq People 2\n",
      "/m/09cynt Convention 1\n",
      "/m/0fqfqc Drawer 1\n",
      "/m/01klb9 Plaza 1\n",
      "/m/0245kq Stealth aircraft 1\n",
      "/m/0h36z Cemetery 1\n",
      "/m/054xkw Lifejacket 1\n",
      "/m/0dftk Swan 1\n",
      "/m/04c2cp Dispatcher 1\n",
      "/m/03nfch Sandal 1\n",
      "/m/0ytgt Child 1\n",
      "/m/014trl Cosmetics 1\n",
      "/m/057cc Musical keyboard 1\n",
      "/m/0gxl3 Handgun 1\n",
      "/m/052sf Mushroom 1\n",
      "/m/05t_pq Gun turret 1\n",
      "/m/0hr5k Festival 1\n",
      "/m/035y33 Official 1\n",
      "/m/08qrwn Rubble 1\n",
      "/m/025rp__ Cowboy hat 1\n",
      "/m/0k05r Court 1\n",
      "/m/01vw0_ Grave 1\n",
      "/m/0cxn2 Ice cream 1\n",
      "/m/06nwz Seafood 1\n",
      "/m/03wvsk hair drier 1\n",
      "/m/0b3fp9 Countertop 1\n",
      "/m/029bxz Oven 1\n",
      "/m/02mwm5 Police dog 1\n",
      "/m/02wv6h6 Skirt 1\n",
      "/m/09b5t Chicken 1\n",
      "/m/0gv1x Parrot 1\n",
      "/m/01vzwd Mortar 1\n",
      "/m/071qp Squirrel 1\n",
      "/m/0ch_cf Fish 1\n",
      "/m/039jbq Urban area 1\n",
      "/m/01j51 Balloon 1\n",
      "/m/01226z Football 1\n",
      "/m/02q60ls Conference hall 1\n",
      "/m/0d_2m Moths and butterflies 1\n",
      "/m/01h6cb Meeting 1\n",
      "/m/01xqw Cello 1\n",
      "/m/0663v Pizza 1\n",
      "/m/01z1kdw Juice 1\n",
      "/m/05wrt Property 1\n",
      "/m/02jz0l Tap 1\n",
      "/m/0h8mhv3 Surveillance camera 1\n",
      "/m/01h_q0 Military robot 1\n",
      "/m/034qg Firearm 1\n",
      "/m/0hpjt Orator 1\n",
      "/m/01lcwm Luxury vehicle 1\n",
      "/m/03bk1 Giraffe 1\n",
      "/m/0167gd Doll 1\n",
      "/m/025syph Fighter pilot 1\n",
      "/m/03xxp Invertebrate 1\n",
      "/m/03p3bw Bicycle helmet 1\n",
      "/m/02k88w Rebellion 1\n",
      "/m/02hsrtn Helicopter pilot 1\n",
      "/m/024g6 Cocktail 1\n",
      "/m/025sb2w Supersonic aircraft 0\n",
      "/m/09k_b Lemon 0\n",
      "/m/0cdn1 Hamburger 0\n",
      "/m/01btn Barge 0\n",
      "/m/078jl Snake 0\n",
      "/m/014y4n Paddle 0\n",
      "/m/065zrn9 Explosive weapon 0\n",
      "/m/02gzp Dagger 0\n",
      "/m/04h5c Locomotive 0\n",
      "/m/0cn6p Otter 0\n",
      "/m/099md Soldier 0\n",
      "/m/03fj2 Goldfish 0\n",
      "/m/01_5g Chopsticks 0\n",
      "/m/0703r8 Loveseat 0\n",
      "/m/0jb3 Assault rifle 0\n",
      "/m/04h8sr Dumbbell 0\n",
      "/m/015_d Bomber 0\n",
      "/m/039r6 General aviation 0\n",
      "/m/01fb_0 Bagel 0\n",
      "/m/01x2j Camouflage 0\n",
      "/m/0173tc Chapel 0\n",
      "/m/03qpft Podium 0\n",
      "/m/0h8l4fh Light bulb 0\n",
      "/m/08hvt4 Jug 0\n",
      "/m/013y1f Organ 0\n",
      "/m/07gql Trumpet 0\n",
      "/m/0dkzw Seat belt 0\n",
      "/m/0323sq Golf cart 0\n",
      "/m/01wb7 Church 0\n",
      "/m/02vkqh8 Wardrobe 0\n",
      "/m/0cjq5 Lobster 0\n",
      "/m/05ctyq Tennis ball 0\n",
      "/m/0176mf Belt 0\n",
      "/m/063rgb Mixer 0\n",
      "/m/01x3jk Snowmobile 0\n",
      "/m/07pj7bq Bowling equipment 0\n",
      "/m/084rd Wok 0\n",
      "/m/02cvgx Winter melon 0\n",
      "/m/0583b1 Barricade 0\n",
      "/m/02w3r3 Paper towel 0\n",
      "/m/03bj1 Panda 0\n",
      "/m/02zn6n Barrel 0\n",
      "/m/03d1rd Ruins 0\n",
      "/m/09qck Banana 0\n",
      "/m/01j3zr Burrito 0\n",
      "/m/04m9y Lizard 0\n",
      "/m/029tx Dinosaur 0\n",
      "/m/04m6gz Porch 0\n",
      "/m/04yqq2 Bust 0\n",
      "/m/0bh9flk Tablet computer 0\n",
      "/m/05dlb Navy 0\n",
      "/m/0pd7 Army 0\n",
      "/m/01d380 Drill 0\n",
      "/m/06_72j Digital clock 0\n",
      "/m/01h8tj Starfish 0\n",
      "/m/0fzyg Aviation 0\n",
      "/m/0dhz0 Airliner 0\n",
      "/m/029b3 Dice 0\n",
      "/m/073bxn Tripod 0\n",
      "/m/01xgbj Turret 0\n",
      "/m/031b6r Window blind 0\n",
      "/m/03dnzn Bathtub 0\n",
      "/m/0cd4d Cheetah 0\n",
      "background background 0\n",
      "/m/0fp6w Pineapple 0\n",
      "/m/0gjwxv Military organization 0\n",
      "/m/07crc Taco 0\n",
      "/m/0f9_l Snail 0\n",
      "/m/013xlm Tractor 0\n",
      "/m/04cp_ Koala 0\n",
      "/m/030610 Treadmill 0\n",
      "/m/09gtd Toilet paper 0\n",
      "/m/02ctlc Cricket ball 0\n",
      "/m/04gth Lavender 0\n",
      "/m/0275lwb Military helicopter 0\n",
      "/m/025t3bg Air travel 0\n",
      "/m/08p92x Cream 0\n",
      "/m/08q1tg Crash 0\n",
      "/m/03q5c7 Saucer 0\n",
      "/m/01c8br Street 0\n",
      "/m/0fz0h Honeycomb 0\n",
      "/m/02z51p Nightstand 0\n",
      "/m/01kqwy Business jet 0\n",
      "/m/03txqz Scale 0\n",
      "/m/01b638 Boot 0\n",
      "/m/0fqt361 Stool 0\n",
      "/m/0qmmr Wheelchair 0\n",
      "/m/0dv77 Squash 0\n",
      "/m/01fh4r Teapot 0\n",
      "/m/05z55 Pasta 0\n",
      "/m/06nrc Shotgun 0\n",
      "/m/0jg57 Bell pepper 0\n",
      "/m/0gm28 Candy 0\n",
      "/m/061_f Pear 0\n",
      "/m/02f9f_ Shower 0\n",
      "/m/0ddnl Ferry 0\n",
      "/m/0ky7b Dishwasher 0\n",
      "/m/01hr1w Guided missile destroyer 0\n",
      "/m/0h8my_4 Tennis racket 0\n",
      "/m/05vtc Potato 0\n",
      "/m/03d443 Rhinoceros 0\n",
      "/m/012n91 Emergency service 0\n",
      "/m/01l0mw Home 0\n",
      "/m/05kms Oboe 0\n",
      "/m/0hqkz Grapefruit 0\n",
      "/m/07xyvk Coffeemaker 0\n",
      "/m/04rmv Mouse 0\n",
      "/m/01r546 Earrings 0\n",
      "/m/02g30s Guacamole 0\n",
      "/m/01b7fy Headphones 0\n",
      "/m/034c16 Pillow 0\n",
      "/m/02h66g5 Military person 0\n",
      "/m/02rgn06 Volleyball 0\n",
      "/m/03qrc Hamster 0\n",
      "/m/020dwk Passenger ship 0\n",
      "/m/012074 Magpie 0\n",
      "/m/081qc Wine 0\n",
      "/m/0_cp5 Oyster 0\n",
      "/m/01dxs Brown bear 0\n",
      "/m/084zz Whale 0\n",
      "/m/018rc1 Ground attack aircraft 0\n",
      "/m/02wg_p Tree house 0\n",
      "/m/07kng9 Picnic basket 0\n",
      "/m/0152hh Snowman 0\n",
      "/m/012qdp Military officer 0\n",
      "/m/015x5n Radish 0\n",
      "/m/03jbxj Light switch 0\n",
      "/m/096mb Lion 0\n",
      "/m/018j2 Banjo 0\n",
      "/m/0xsc Aircraft carrier 0\n",
      "/m/07qxg_ Football helmet 0\n",
      "/m/0m53l Rays and skates 0\n",
      "/m/0cjs7 Asparagus 0\n",
      "/m/061hd_ Infant bed 0\n",
      "/m/0306r Fox 0\n",
      "/m/081hv Wedding 0\n",
      "/m/0h8n27j Serving tray 0\n",
      "/m/0gd36 Sea lion 0\n",
      "/m/03hlz0c Kitchen utensil 0\n",
      "/m/03hj559 Mixing bowl 0\n",
      "/m/0fkwjg Commercial vehicle 0\n",
      "/m/07y_7 Violin 0\n",
      "/m/017m8l Waterway 0\n",
      "/m/0cyfs Parachute 0\n",
      "/m/0l14j_ Flute 0\n",
      "/m/0jzbb Paramedic 0\n",
      "/m/03htg Harbor 0\n",
      "/m/01dy8n Woodpecker 0\n",
      "/m/0cnyhnx Bull 0\n",
      "/m/043nyj Common fig 0\n",
      "/m/01vbnl Bidet 0\n",
      "/m/03q5t Harpsichord 0\n",
      "/m/074d1 Submarine 0\n",
      "/m/0633h Polar bear 0\n",
      "/m/0c2jj Axe 0\n",
      "/m/09cjl Airport 0\n",
      "/m/02pdsw Cutting board 0\n",
      "/m/01f91_ Pretzel 0\n",
      "/m/03wvy Infantry 0\n",
      "/m/012n7d Ambulance 0\n",
      "/m/01599 Beer 0\n",
      "/m/07dm6 Tiger 0\n",
      "/m/02yjc Fighter aircraft 0\n",
      "/m/05y5lj Sports equipment 0\n",
      "/m/05_5t0l Landmark 0\n",
      "/m/0fbdv Shellfish 0\n",
      "/m/0h8mzrc Wall clock 0\n",
      "/m/0ft9s Dragonfly 0\n",
      "/m/019h78 Centipede 0\n",
      "/m/09f20 Hippopotamus 0\n",
      "/m/01cx7t High-visibility clothing 0\n",
      "/m/04g2r Lynx 0\n",
      "/m/0dj6p Peach 0\n",
      "/m/01g3x7 Bow and arrow 0\n",
      "/m/0_k2 Ant 0\n",
      "/m/0hsrw Sailboat 0\n",
      "/m/01h6rj Military 0\n",
      "/m/03n9vx Double-decker bus 0\n",
      "/m/05zsy Pumpkin 0\n",
      "/m/015wgc Croissant 0\n",
      "/m/0by6g Shark 0\n",
      "/m/09jfs Uniform 0\n",
      "/m/084hf Worm 0\n",
      "/m/0g02q Courthouse 0\n",
      "/m/02p3w7d Roller skates 0\n",
      "/m/01k6s3 toaster 0\n",
      "/m/0mcx2 Ipod 0\n",
      "/m/0n28_ Crab 0\n",
      "/m/0y8r Armored car 0\n",
      "/m/0nl46 Crown 0\n",
      "/m/0121tl Electronic instrument 0\n",
      "/m/06dq9 Radar 0\n",
      "/m/09kmb Spider 0\n",
      "/m/05zdp Public transport 0\n",
      "/m/06k2mb High heels 0\n",
      "/m/0lt4_ Binoculars 0\n",
      "/m/0c568 Porcupine 0\n",
      "/m/06d_3 Railway 0\n",
      "/m/0fbw6 Cabbage 0\n",
      "/m/02x8cch Salt and pepper shakers 0\n",
      "/m/01cmb2 Miniskirt 0\n",
      "/m/0755b Scorpion 0\n",
      "/m/09dzg Turtle 0\n",
      "/m/06pcq Submarine sandwich 0\n",
      "/m/0ll1f78 Shrimp 0\n",
      "/m/035vxb Isopod 0\n",
      "/m/02pjr4 Blender 0\n",
      "/m/0fx9l Microwave oven 0\n",
      "/m/0g2bc Drone 0\n",
      "/m/06y5r Sword 0\n",
      "/m/065h6l Jacuzzi 0\n",
      "/m/0c29q Leopard 0\n",
      "/m/01gkx_ Swimwear 0\n",
      "/m/0llzx Sewing machine 0\n",
      "/m/0kpqd Watermelon 0\n",
      "/m/01bq8v Troop 0\n",
      "/m/05ws7 Police 0\n",
      "/m/02gx17 Construction equipment 0\n",
      "/m/04v6l4 Frying pan 0\n",
      "/m/02ljgl Monument 0\n",
      "/m/02tsc9 Slow cooker 0\n",
      "/m/03j1ly Emergency vehicle 0\n",
      "/m/02hj4 Dolphin 0\n",
      "/m/0frqm Envelope 0\n",
      "/m/016c4t Ceremony 0\n",
      "/m/013m1 Air force 0\n",
      "/m/0h8n6ft Cake stand 0\n",
      "/m/09f_2 Crocodile 0\n",
      "/m/0dbzx Mule 0\n",
      "/m/0cfs8 Cathedral 0\n",
      "/m/01h44 Bat 0\n",
      "/m/01j4z9 Chainsaw 0\n",
      "/m/054fyh Pitcher 0\n",
      "/m/0h8nr_l Bathroom accessory 0\n",
      "/m/047v4b Artichoke 0\n",
      "/m/03c7gz Door handle 0\n",
      "/m/07030 Sushi 0\n",
      "/m/0czz2 Antelope 0\n",
      "/m/01515d Flight 0\n",
      "/m/05kyg_ Chest of drawers 0\n",
      "/m/0319l Horn 0\n",
      "/m/0jly1 Turkey 0\n",
      "/m/05hg54 Commercial building 0\n",
      "/m/031n1 Foot 0\n",
      "/m/09csl Eagle 0\n",
      "/m/04c0y Kangaroo 0\n",
      "/m/0d8zb Jellyfish 0\n",
      "/m/073g6 Stethoscope 0\n",
      "/m/0bp37nz Propeller-driven aircraft 0\n",
      "/m/03y6mg Food processor 0\n",
      "/m/0584n8 Briefcase 0\n",
      "/m/04qvtq Police car 0\n",
      "/m/0nybt Seahorse 0\n",
      "/m/0cyf8 Butterfly 0\n",
      "/m/027rl48 Ladle 0\n",
      "/m/04fdw Kayak 0\n",
      "/m/04zjc Machine gun 0\n",
      "/m/01m4t Printer 0\n",
      "/m/04xd6k Melee weapon 0\n",
      "/m/04zpv Milk 0\n",
      "/m/024d2 Calculator 0\n",
      "/m/0jwn_ Pomegranate 0\n",
      "/m/068zj Pig 0\n",
      "/m/047j0r Filing cabinet 0\n",
      "/m/0p833 Perfume 0\n",
      "/m/020jm Beetle 0\n",
      "/m/07txbq Light aircraft 0\n",
      "/m/0h8kx63 Spice rack 0\n",
      "/m/01x_v Camel 0\n",
      "/m/06l9r Red panda 0\n",
      "/m/04tn4x Swim cap 0\n",
      "/m/027pcv Zucchini 0\n",
      "/m/02q3d5 Memorial 0\n",
      "/m/07bsy Transport 0\n",
      "/m/02jfl0 Sombrero 0\n",
      "/m/0wdt60w Rugby ball 0\n",
      "/m/0cvq3 Pickup truck 0\n",
      "/m/03tw93 Fireplace 0\n",
      "/m/0dq75 Raccoon 0\n",
      "/m/0271qf7 Wine rack 0\n",
      "/m/07cx4 Telephone 0\n",
      "/m/05gqfk Plastic bag 0\n",
      "/m/0h8lkj8 Corded phone 0\n",
      "/m/0kpt_ Cantaloupe 0\n",
      "/m/0fldg Mango 0\n",
      "/m/01jfsr Lantern 0\n",
      "/m/012w5l Ladder 0\n",
      "/m/0hdln Ruler 0\n",
      "/m/0120dh Sea turtle 0\n",
      "/m/05y_qt Missile boat 0\n",
      "/m/05_5p_0 Table tennis racket 0\n",
      "/m/07c6l Trombone 0\n",
      "/m/03bbps Power plugs and sockets 0\n",
      "/m/01tcjp Muffin 0\n",
      "/m/012ysf Syringe 0\n",
      "/m/018p4k Cart 0\n",
      "/m/01q4wd Stupa 0\n",
      "/m/0m_bl Bullet train 0\n",
      "/m/044r5d Golf ball 0\n",
      "/m/0mkg Accordion 0\n",
      "/m/01jw_1 Bus stop 0\n",
      "/m/012f08 Motor vehicle 0\n",
      "/m/0f6wt Falcon 0\n",
      "/m/0cz_0 Highway 0\n",
      "/m/01kb5b Flashlight 0\n",
      "/m/0ffjr Personal protective equipment 0\n",
      "/m/03hfwtf Military transport aircraft 0\n",
      "/m/09ld4 Frog 0\n",
      "/m/025rvy6 Emergency 0\n",
      "/m/09g5h Spacecraft 0\n",
      "/m/0knpd Flight instruments 0\n",
      "/m/012ndj Fire apparatus 0\n",
      "/m/076bq Segway 0\n",
      "/m/0f6nr Unicycle 0\n",
      "/m/05n4y Ostrich 0\n",
      "/m/02bb1s Sniper rifle 0\n",
      "/m/06c7f7 Lipstick 0\n",
      "/m/01nq26 Sock 0\n",
      "/m/0388q Grape 0\n",
      "/m/03fwl Goat 0\n",
      "/m/01lcw4 Limousine 0\n",
      "/m/0hnyx Pastry 0\n",
      "/m/0174k2 Washing machine 0\n",
      "/m/02nvjx Place of worship 0\n",
      "/m/02zvsm Tart 0\n",
      "/m/070qm Freight transport 0\n",
      "/m/06zs7 Sniper 0\n",
      "/m/01f8m5 Blue jay 0\n",
      "/m/0cydv Caterpillar 0\n",
      "/m/0642b4 Cupboard 0\n",
      "/m/033cnk Egg 0\n",
      "/m/0cl4p Hedgehog 0\n",
      "/m/03kt2w Stationary bicycle 0\n",
      "/m/0cx45 Temple 0\n",
      "/m/01dwwc Pancake 0\n",
      "/m/06mf6 Rabbit 0\n",
      "/m/06wrt Sailing 0\n",
      "/m/020kz Cannon 0\n",
      "/m/01krhy Tiara 0\n",
      "/m/0mw_6 Willow 0\n",
      "/m/057p5t Scoreboard 0\n",
      "/m/0h8n6f9 Dog bed 0\n",
      "/m/03m5k Harp 0\n",
      "/m/0d4w1 Closet 0\n",
      "/m/016br2 Dome 0\n",
      "/m/07clx Tea 0\n",
      "/m/0bjyj5 Waste container 0\n",
      "/m/0pcr Alpaca 0\n",
      "/m/0ccs93 Canary 0\n",
      "/m/01hrv5 Popcorn 0\n",
      "/m/026qbn5 studio couch 0\n",
      "/m/0ph39 Canoe 0\n",
      "/m/0pg52 Taxi 0\n",
      "/m/0k1tl Pen 0\n",
      "/m/077hhl Cargo aircraft 0\n",
      "/m/01_p8q Rescue 0\n",
      "/m/03w1r4 Military uniform 0\n",
      "/m/0l3ms Balance beam 0\n",
      "/m/0f5lx Military aircraft 0\n",
      "/m/013bml Military rank 0\n",
      "/m/051rmm Steeple 0\n",
      "/m/02vqfm Coffee 0\n",
      "/m/015y8h Jet aircraft 0\n",
      "/m/02lbcq Stretcher 0\n",
      "/m/04169hn Wood-burning stove 0\n",
      "/m/04p0qw Billiard table 0\n",
      "/m/0gj37 Ladybug 0\n",
      "/m/03m3pdh Sofa bed 0\n",
      "/m/0268lbt Hiking equipment 0\n",
      "/m/01tq2l Cruise ship 0\n",
      "/m/08854 Yacht 0\n",
      "/m/01gllr Beehive 0\n",
      "/m/02p5f1q Coffee cup 0\n",
      "/m/014yck Aircraft engine 0\n",
      "/m/0420v5 Punching bag 0\n",
      "/m/02jvh9 Mug 0\n",
      "/m/03v5tg Drinking straw 0\n",
      "/m/046dlr Alarm clock 0\n",
      "/m/01dwsz Waffle 0\n",
      "/m/02l8p9 Harbor seal 0\n",
      "/m/01phq4 Pier 0\n",
      "/m/01nkt Cheese 0\n",
      "/m/01zpz Crew 0\n",
      "/m/04229 Jet engine 0\n",
      "/m/0h23m Sparrow 0\n",
      "/m/06wwc Satellite 0\n",
      "/m/01w71f Personal luxury car 0\n",
      "/m/032rk Gun 0\n",
      "/m/076lb9 Bench 0\n",
      "/m/02068x Gondola 0\n",
      "/m/021mn Cookie 0\n",
      "/m/06ncr Saxophone 0\n",
      "/m/03s_tn Kettle 0\n",
      "/m/01xs3r Jet ski 0\n",
      "/m/03ldnb Ceiling fan 0\n",
      "/m/015x4r Cucumber 0\n",
      "/m/02666n Light aircraft carrier 0\n",
      "/m/02y6n French fries 0\n",
      "/m/0l515 Sandwich 0\n",
      "/m/02w3_ws Personal care 0\n",
      "/m/068k4 Public speaking 0\n",
      "/m/027qh7f Cold weapon 0\n",
      "/m/02wv84t Gas stove 0\n",
      "/m/04y4h8h Bathroom cabinet 0\n",
      "/m/058qzx Kitchen knife 0\n",
      "/m/02x984l Mechanical fan 0\n",
      "/m/04vv5k Snowplow 0\n",
      "/m/09l63h Military camouflage 0\n",
      "/m/026yq0z Demonstration 0\n",
      "/m/078my Trailer truck 0\n",
      "/m/0162_1 Towel 0\n",
      "/m/06j2d Raven 0\n",
      "/m/09gys Squid 0\n",
      "/m/071rm Shooting 0\n",
      "/m/0449p Jaguar 0\n"
     ]
    }
   ],
   "source": [
    "for i in sort_idx:\n",
    "    print(all_labels[i], mid2name_all[all_labels[i]], len(label_to_img[all_labels[i]]))"
   ]
  },
  {
   "cell_type": "code",
   "execution_count": 15,
   "metadata": {},
   "outputs": [],
   "source": [
    "#select_labels = ['/m/01fnck', '/m/019jd', '/m/03120', '/m/02_41', '/m/07cmd', '/m/06q40', '/m/03qtwd', '/m/09x0r', '/m/01xgg_', '/m/08qrwn', '/m/012n4x', '/m/02p16m6', '/m/02lbcq', '/m/09ct_', '/m/0g54v5d', '/m/0bg2p', '/m/0ct4f', '/m/01nd_n', '/m/09rvcxw', '/m/01nl4x', '/m/04ctx', '/m/04ylt', '/m/0gvss07', '/m/01rzcn', '/m/06nrc', '/m/0cyfs', '/m/0f5lx', '/m/04zjc', '/m/0dhz0', '/m/01lcw4', '/m/03htg', '/m/0gxl3', '/m/01bq8v', '/m/0lt4_', '/m/02gzp', '/m/02yjc', '/m/012n7d', '/m/0jb3', '/m/0dwx7']\n"
   ]
  },
  {
   "cell_type": "code",
   "execution_count": 9,
   "metadata": {},
   "outputs": [],
   "source": [
    "with open('../../../wsod/metadata/ont_300/300-classes.csv', 'r') as fin:\n",
    "    select_labels = [item.strip() for item in fin]\n"
   ]
  },
  {
   "cell_type": "code",
   "execution_count": null,
   "metadata": {},
   "outputs": [],
   "source": []
  },
  {
   "cell_type": "markdown",
   "metadata": {},
   "source": [
    "## Visualizing Results"
   ]
  },
  {
   "cell_type": "code",
   "execution_count": 10,
   "metadata": {},
   "outputs": [],
   "source": [
    "mid2name_extended = {}\n",
    "extended_classes = set()\n",
    "for key in all_labels:\n",
    "    for model, abv in [('coco', 'CO'), ('oi', 'OI'), ('ws', 'WS'), ('pascal','PA'), ('coco/J', 'CO/J'), ('oi/J', 'OI/J'), ('ws/J', 'WS/J'), ('pascal/J','PA/J')]:\n",
    "        extended_classes.add(key + '/' + model)\n",
    "        mid2name_extended[key + '/' + model] = mid2name_all[key] + f' ({abv})'\n",
    "extended_classes = list(extended_classes)\n",
    "mid2idx_extended = {}\n",
    "for i, key in enumerate(extended_classes):\n",
    "    mid2idx_extended[key] = i\n",
    "category_index_extended = {mid2idx_extended[key]:{'id': mid2idx_extended[key], 'name': mid2name_extended[key]} for key in mid2name_extended}"
   ]
  },
  {
   "cell_type": "code",
   "execution_count": null,
   "metadata": {},
   "outputs": [],
   "source": []
  },
  {
   "cell_type": "code",
   "execution_count": 11,
   "metadata": {},
   "outputs": [],
   "source": [
    "def preproc(im):\n",
    "    target_size = 400\n",
    "    max_size = 1024\n",
    "    im_size_min = np.min(im.shape[0:2])\n",
    "    im_size_max = np.max(im.shape[0:2])\n",
    "    im_scale = float(target_size) / float(im_size_min)\n",
    "    # Prevent the biggest axis from being more than MAX_SIZE\n",
    "    if np.round(im_scale * im_size_max) > max_size:\n",
    "        im_scale = float(max_size) / float(im_size_max)\n",
    "    im = cv2.resize(im, None, None, fx=im_scale, fy=im_scale,\n",
    "                    interpolation=cv2.INTER_LINEAR)    \n",
    "    return im"
   ]
  },
  {
   "cell_type": "code",
   "execution_count": null,
   "metadata": {},
   "outputs": [],
   "source": []
  },
  {
   "cell_type": "code",
   "execution_count": 12,
   "metadata": {},
   "outputs": [],
   "source": [
    "result_dict = {\n",
    "    'Not Merged': det_results_concat,\n",
    "    'Merged': det_results_merged,\n",
    "}"
   ]
  },
  {
   "cell_type": "code",
   "execution_count": 13,
   "metadata": {},
   "outputs": [],
   "source": [
    "path_prefix = '../../../../data/seedling/seedling_part1/jpg/' "
   ]
  },
  {
   "cell_type": "code",
   "execution_count": 14,
   "metadata": {},
   "outputs": [],
   "source": [
    "model_abv_dict = {\n",
    "    'coco': 'CO',\n",
    "    'pascal': 'PA',\n",
    "    'oi': 'OI',\n",
    "    'ws': 'WS',\n",
    "    'coco/J': 'CO/J',\n",
    "    'pascal/J': 'PA/J',\n",
    "    'oi/J': 'OI/J',\n",
    "    'ws/J': 'WS/J',\n",
    "}"
   ]
  },
  {
   "cell_type": "code",
   "execution_count": 15,
   "metadata": {},
   "outputs": [],
   "source": [
    "def show(imgid, source, thresh):\n",
    "    filename = path_prefix + imgid\n",
    "    print(imgid)\n",
    "    with open(filename, 'rb') as fin:\n",
    "        _ = fin.read(1024)\n",
    "        imgbin = fin.read()\n",
    "    imgbgr = cv2.imdecode(np.fromstring(imgbin, dtype='uint8'), cv2.IMREAD_COLOR)\n",
    "    image_np = imgbgr[:,:,[2,1,0]]\n",
    "    image_np = preproc(image_np)\n",
    "    \n",
    "    detections = result_dict[source][imgid]\n",
    "    boxes = np.asarray([det['bbox_normalized'] for det in detections])[:,[1,0,3,2]]\n",
    "    scores = [det['score'] for det in detections]\n",
    "    label_idx = [mid2idx_extended[det['label'] + '/' + det['model']] for det in detections]\n",
    "    \n",
    "    # print([(mid2name_extended[extended_classes[item]], boxes[i]) for i, item in enumerate(label_idx) if scores[i] > thresh])\n",
    "    \n",
    "    vis_util.visualize_boxes_and_labels_on_image_array(\n",
    "      image_np,\n",
    "      boxes,\n",
    "      label_idx,\n",
    "      scores,\n",
    "      category_index_extended,\n",
    "      use_normalized_coordinates=True,\n",
    "      min_score_thresh=thresh,\n",
    "      max_boxes_to_draw=1000,\n",
    "      line_thickness=2)\n",
    "    plt.figure(figsize=(12, 8))\n",
    "    plt.imshow(image_np)\n",
    "    plt.axis('off')\n",
    "    plt.show()    "
   ]
  },
  {
   "cell_type": "code",
   "execution_count": null,
   "metadata": {},
   "outputs": [],
   "source": []
  },
  {
   "cell_type": "code",
   "execution_count": 17,
   "metadata": {},
   "outputs": [
    {
     "data": {
      "text/plain": [
       "[('Flag',\n",
       "  0.91029197,\n",
       "  array([0.03795055, 0.1324003 , 0.16365373, 0.5479763 ], dtype=float32)),\n",
       " ('Flag',\n",
       "  0.8301423,\n",
       "  array([0.80132157, 0.13113429, 0.9928638 , 0.49509573], dtype=float32)),\n",
       " ('Human face',\n",
       "  0.7720411,\n",
       "  array([0.46045837, 0.7233762 , 0.5485934 , 0.8679239 ], dtype=float32))]"
      ]
     },
     "execution_count": 17,
     "metadata": {},
     "output_type": "execute_result"
    }
   ],
   "source": [
    "[(mid2name_all[det['label']], det['score'], det['bbox_normalized']) for det in det_results_merged['HC000SYCB.jpg.ldcc'] if det['score'] >= 0.64]"
   ]
  },
  {
   "cell_type": "code",
   "execution_count": 16,
   "metadata": {},
   "outputs": [
    {
     "data": {
      "application/vnd.jupyter.widget-view+json": {
       "model_id": "5781476c9e534ad5b7e9b261eaebdeb9",
       "version_major": 2,
       "version_minor": 0
      },
      "text/plain": [
       "interactive(children=(RadioButtons(description='source', options=('Merged', 'Not Merged'), value='Merged'), Fl…"
      ]
     },
     "metadata": {},
     "output_type": "display_data"
    }
   ],
   "source": [
    "imgid = 'HC000SYCB.jpg.ldcc'\n",
    "w = interactive(show, \n",
    "    imgid=fixed(imgid),\n",
    "    source=widgets.RadioButtons(options=['Merged', 'Not Merged'], value='Merged'), \n",
    "    thresh=widgets.FloatSlider(min=0.0, max=1.0, step=0.01, value=0.35, continuous_update=False), \n",
    ")\n",
    "w.children[-1].layout.height = '600px'\n",
    "display(w)\n",
    "    "
   ]
  },
  {
   "cell_type": "code",
   "execution_count": 18,
   "metadata": {},
   "outputs": [
    {
     "data": {
      "application/vnd.jupyter.widget-view+json": {
       "model_id": "5f4ea45bed144dfa9b75581f1f4a0b27",
       "version_major": 2,
       "version_minor": 0
      },
      "text/plain": [
       "interactive(children=(RadioButtons(description='source', options=('Merged', 'Not Merged'), value='Merged'), Fl…"
      ]
     },
     "metadata": {},
     "output_type": "display_data"
    }
   ],
   "source": [
    "imgid = 'IC0011VR3.jpg.ldcc'\n",
    "w = interactive(show, \n",
    "    imgid=fixed(imgid),\n",
    "    source=widgets.RadioButtons(options=['Merged', 'Not Merged'], value='Merged'), \n",
    "    thresh=widgets.FloatSlider(min=0.0, max=1.0, step=0.01, value=0.35, continuous_update=False), \n",
    ")\n",
    "w.children[-1].layout.height = '600px'\n",
    "display(w)\n",
    "    "
   ]
  },
  {
   "cell_type": "code",
   "execution_count": null,
   "metadata": {},
   "outputs": [],
   "source": []
  },
  {
   "cell_type": "code",
   "execution_count": null,
   "metadata": {},
   "outputs": [],
   "source": []
  },
  {
   "cell_type": "code",
   "execution_count": null,
   "metadata": {},
   "outputs": [],
   "source": []
  },
  {
   "cell_type": "code",
   "execution_count": 19,
   "metadata": {
    "scrolled": false
   },
   "outputs": [
    {
     "name": "stdout",
     "output_type": "stream",
     "text": [
      "Aircraft\n"
     ]
    },
    {
     "data": {
      "application/vnd.jupyter.widget-view+json": {
       "model_id": "9407b84e99a741a992b47b5a8631b206",
       "version_major": 2,
       "version_minor": 0
      },
      "text/plain": [
       "interactive(children=(RadioButtons(description='source', options=('Merged', 'Not Merged'), value='Merged'), Fl…"
      ]
     },
     "metadata": {},
     "output_type": "display_data"
    },
    {
     "name": "stdout",
     "output_type": "stream",
     "text": [
      "Aircraft cabin\n"
     ]
    },
    {
     "data": {
      "application/vnd.jupyter.widget-view+json": {
       "model_id": "8056f23536d649f197ea70cd4489369e",
       "version_major": 2,
       "version_minor": 0
      },
      "text/plain": [
       "interactive(children=(RadioButtons(description='source', options=('Merged', 'Not Merged'), value='Merged'), Fl…"
      ]
     },
     "metadata": {},
     "output_type": "display_data"
    },
    {
     "name": "stdout",
     "output_type": "stream",
     "text": [
      "Airplane\n"
     ]
    },
    {
     "data": {
      "application/vnd.jupyter.widget-view+json": {
       "model_id": "e7b01b20975942aa96611cbe4075f2db",
       "version_major": 2,
       "version_minor": 0
      },
      "text/plain": [
       "interactive(children=(RadioButtons(description='source', options=('Merged', 'Not Merged'), value='Merged'), Fl…"
      ]
     },
     "metadata": {},
     "output_type": "display_data"
    },
    {
     "name": "stdout",
     "output_type": "stream",
     "text": [
      "Ammunition\n"
     ]
    },
    {
     "data": {
      "application/vnd.jupyter.widget-view+json": {
       "model_id": "af2084e0513f4561bb5690f2bc0d76b6",
       "version_major": 2,
       "version_minor": 0
      },
      "text/plain": [
       "interactive(children=(RadioButtons(description='source', options=('Merged', 'Not Merged'), value='Merged'), Fl…"
      ]
     },
     "metadata": {},
     "output_type": "display_data"
    },
    {
     "name": "stdout",
     "output_type": "stream",
     "text": [
      "Animal\n"
     ]
    },
    {
     "data": {
      "application/vnd.jupyter.widget-view+json": {
       "model_id": "1050f0fabbe34e0da968715b0d2208eb",
       "version_major": 2,
       "version_minor": 0
      },
      "text/plain": [
       "interactive(children=(RadioButtons(description='source', options=('Merged', 'Not Merged'), value='Merged'), Fl…"
      ]
     },
     "metadata": {},
     "output_type": "display_data"
    },
    {
     "name": "stdout",
     "output_type": "stream",
     "text": [
      "Armored car\n"
     ]
    },
    {
     "data": {
      "application/vnd.jupyter.widget-view+json": {
       "model_id": "d761f68a1239422c966ce439c00c3f0e",
       "version_major": 2,
       "version_minor": 0
      },
      "text/plain": [
       "interactive(children=(RadioButtons(description='source', options=('Merged', 'Not Merged'), value='Merged'), Fl…"
      ]
     },
     "metadata": {},
     "output_type": "display_data"
    },
    {
     "name": "stdout",
     "output_type": "stream",
     "text": [
      "Assault rifle\n"
     ]
    },
    {
     "data": {
      "application/vnd.jupyter.widget-view+json": {
       "model_id": "225a704381cb4dbc8f999dadb4321c56",
       "version_major": 2,
       "version_minor": 0
      },
      "text/plain": [
       "interactive(children=(RadioButtons(description='source', options=('Merged', 'Not Merged'), value='Merged'), Fl…"
      ]
     },
     "metadata": {},
     "output_type": "display_data"
    },
    {
     "name": "stdout",
     "output_type": "stream",
     "text": [
      "Audience\n"
     ]
    },
    {
     "data": {
      "application/vnd.jupyter.widget-view+json": {
       "model_id": "d2017935a146468ba0761587a673eec9",
       "version_major": 2,
       "version_minor": 0
      },
      "text/plain": [
       "interactive(children=(RadioButtons(description='source', options=('Merged', 'Not Merged'), value='Merged'), Fl…"
      ]
     },
     "metadata": {},
     "output_type": "display_data"
    },
    {
     "name": "stdout",
     "output_type": "stream",
     "text": [
      "Auditorium\n"
     ]
    },
    {
     "data": {
      "application/vnd.jupyter.widget-view+json": {
       "model_id": "c7250530375d4421853e39322ae74f33",
       "version_major": 2,
       "version_minor": 0
      },
      "text/plain": [
       "interactive(children=(RadioButtons(description='source', options=('Merged', 'Not Merged'), value='Merged'), Fl…"
      ]
     },
     "metadata": {},
     "output_type": "display_data"
    },
    {
     "name": "stdout",
     "output_type": "stream",
     "text": [
      "Auto part\n"
     ]
    },
    {
     "data": {
      "application/vnd.jupyter.widget-view+json": {
       "model_id": "85d82d7ea2e64556a25922bd1264f1b0",
       "version_major": 2,
       "version_minor": 0
      },
      "text/plain": [
       "interactive(children=(RadioButtons(description='source', options=('Merged', 'Not Merged'), value='Merged'), Fl…"
      ]
     },
     "metadata": {},
     "output_type": "display_data"
    },
    {
     "name": "stdout",
     "output_type": "stream",
     "text": [
      "Badge\n"
     ]
    },
    {
     "data": {
      "application/vnd.jupyter.widget-view+json": {
       "model_id": "77711c0a556b49ca9db0774981984f2e",
       "version_major": 2,
       "version_minor": 0
      },
      "text/plain": [
       "interactive(children=(RadioButtons(description='source', options=('Merged', 'Not Merged'), value='Merged'), Fl…"
      ]
     },
     "metadata": {},
     "output_type": "display_data"
    },
    {
     "name": "stdout",
     "output_type": "stream",
     "text": [
      "Ballistic vest\n"
     ]
    },
    {
     "data": {
      "application/vnd.jupyter.widget-view+json": {
       "model_id": "70a5d8548ab64febb7a80ef55e5fcd76",
       "version_major": 2,
       "version_minor": 0
      },
      "text/plain": [
       "interactive(children=(RadioButtons(description='source', options=('Merged', 'Not Merged'), value='Merged'), Fl…"
      ]
     },
     "metadata": {},
     "output_type": "display_data"
    },
    {
     "name": "stdout",
     "output_type": "stream",
     "text": [
      "Bicycle\n"
     ]
    },
    {
     "data": {
      "application/vnd.jupyter.widget-view+json": {
       "model_id": "0915047128ed408095c82e87313b253b",
       "version_major": 2,
       "version_minor": 0
      },
      "text/plain": [
       "interactive(children=(RadioButtons(description='source', options=('Merged', 'Not Merged'), value='Merged'), Fl…"
      ]
     },
     "metadata": {},
     "output_type": "display_data"
    },
    {
     "name": "stdout",
     "output_type": "stream",
     "text": [
      "Billboard\n"
     ]
    },
    {
     "data": {
      "application/vnd.jupyter.widget-view+json": {
       "model_id": "b360d9cd35fa4a82b4b9908071f11d62",
       "version_major": 2,
       "version_minor": 0
      },
      "text/plain": [
       "interactive(children=(RadioButtons(description='source', options=('Merged', 'Not Merged'), value='Merged'), Fl…"
      ]
     },
     "metadata": {},
     "output_type": "display_data"
    },
    {
     "name": "stdout",
     "output_type": "stream",
     "text": [
      "Boat\n"
     ]
    },
    {
     "data": {
      "application/vnd.jupyter.widget-view+json": {
       "model_id": "b1f7b8efd6f24850995e74646d1ca71c",
       "version_major": 2,
       "version_minor": 0
      },
      "text/plain": [
       "interactive(children=(RadioButtons(description='source', options=('Merged', 'Not Merged'), value='Merged'), Fl…"
      ]
     },
     "metadata": {},
     "output_type": "display_data"
    },
    {
     "name": "stdout",
     "output_type": "stream",
     "text": [
      "Bomb\n"
     ]
    },
    {
     "data": {
      "application/vnd.jupyter.widget-view+json": {
       "model_id": "1ae8d81fcfe648a69107b4910978ab2e",
       "version_major": 2,
       "version_minor": 0
      },
      "text/plain": [
       "interactive(children=(RadioButtons(description='source', options=('Merged', 'Not Merged'), value='Merged'), Fl…"
      ]
     },
     "metadata": {},
     "output_type": "display_data"
    },
    {
     "name": "stdout",
     "output_type": "stream",
     "text": [
      "Boy\n"
     ]
    },
    {
     "data": {
      "application/vnd.jupyter.widget-view+json": {
       "model_id": "c3e29563a8374922bdba1f4ae0e8f8a2",
       "version_major": 2,
       "version_minor": 0
      },
      "text/plain": [
       "interactive(children=(RadioButtons(description='source', options=('Merged', 'Not Merged'), value='Merged'), Fl…"
      ]
     },
     "metadata": {},
     "output_type": "display_data"
    },
    {
     "name": "stdout",
     "output_type": "stream",
     "text": [
      "Bride\n"
     ]
    },
    {
     "data": {
      "application/vnd.jupyter.widget-view+json": {
       "model_id": "b8f2c0a141d34419aac34d2e79ef8774",
       "version_major": 2,
       "version_minor": 0
      },
      "text/plain": [
       "interactive(children=(RadioButtons(description='source', options=('Merged', 'Not Merged'), value='Merged'), Fl…"
      ]
     },
     "metadata": {},
     "output_type": "display_data"
    },
    {
     "name": "stdout",
     "output_type": "stream",
     "text": [
      "Bridge\n"
     ]
    },
    {
     "data": {
      "application/vnd.jupyter.widget-view+json": {
       "model_id": "17586f9558fa483694bc737f9ecfa125",
       "version_major": 2,
       "version_minor": 0
      },
      "text/plain": [
       "interactive(children=(RadioButtons(description='source', options=('Merged', 'Not Merged'), value='Merged'), Fl…"
      ]
     },
     "metadata": {},
     "output_type": "display_data"
    },
    {
     "name": "stdout",
     "output_type": "stream",
     "text": [
      "Bronze sculpture\n"
     ]
    },
    {
     "data": {
      "application/vnd.jupyter.widget-view+json": {
       "model_id": "2cbd5f6d5ef94801a27f577b5f5a3b82",
       "version_major": 2,
       "version_minor": 0
      },
      "text/plain": [
       "interactive(children=(RadioButtons(description='source', options=('Merged', 'Not Merged'), value='Merged'), Fl…"
      ]
     },
     "metadata": {},
     "output_type": "display_data"
    },
    {
     "name": "stdout",
     "output_type": "stream",
     "text": [
      "Building\n"
     ]
    },
    {
     "data": {
      "application/vnd.jupyter.widget-view+json": {
       "model_id": "02c92db25a0a4a948736da8d24772e37",
       "version_major": 2,
       "version_minor": 0
      },
      "text/plain": [
       "interactive(children=(RadioButtons(description='source', options=('Merged', 'Not Merged'), value='Merged'), Fl…"
      ]
     },
     "metadata": {},
     "output_type": "display_data"
    },
    {
     "name": "stdout",
     "output_type": "stream",
     "text": [
      "Bus\n"
     ]
    },
    {
     "data": {
      "application/vnd.jupyter.widget-view+json": {
       "model_id": "89956466db4e42ae94c263c2f787ee88",
       "version_major": 2,
       "version_minor": 0
      },
      "text/plain": [
       "interactive(children=(RadioButtons(description='source', options=('Merged', 'Not Merged'), value='Merged'), Fl…"
      ]
     },
     "metadata": {},
     "output_type": "display_data"
    },
    {
     "name": "stdout",
     "output_type": "stream",
     "text": [
      "Bus stop\n"
     ]
    },
    {
     "data": {
      "application/vnd.jupyter.widget-view+json": {
       "model_id": "c466c5686c284bf4a709d0005392c887",
       "version_major": 2,
       "version_minor": 0
      },
      "text/plain": [
       "interactive(children=(RadioButtons(description='source', options=('Merged', 'Not Merged'), value='Merged'), Fl…"
      ]
     },
     "metadata": {},
     "output_type": "display_data"
    },
    {
     "name": "stdout",
     "output_type": "stream",
     "text": [
      "Businessperson\n"
     ]
    },
    {
     "data": {
      "application/vnd.jupyter.widget-view+json": {
       "model_id": "1ea92aa14fd6473bbffae650f3132e76",
       "version_major": 2,
       "version_minor": 0
      },
      "text/plain": [
       "interactive(children=(RadioButtons(description='source', options=('Merged', 'Not Merged'), value='Merged'), Fl…"
      ]
     },
     "metadata": {},
     "output_type": "display_data"
    },
    {
     "name": "stdout",
     "output_type": "stream",
     "text": [
      "Camera\n"
     ]
    },
    {
     "data": {
      "application/vnd.jupyter.widget-view+json": {
       "model_id": "0f9b36e88bcd4228ad9fab5a6ecccadc",
       "version_major": 2,
       "version_minor": 0
      },
      "text/plain": [
       "interactive(children=(RadioButtons(description='source', options=('Merged', 'Not Merged'), value='Merged'), Fl…"
      ]
     },
     "metadata": {},
     "output_type": "display_data"
    },
    {
     "name": "stdout",
     "output_type": "stream",
     "text": [
      "Cannon\n"
     ]
    },
    {
     "data": {
      "application/vnd.jupyter.widget-view+json": {
       "model_id": "28b4d75e98ae440381d25e304a5e8c82",
       "version_major": 2,
       "version_minor": 0
      },
      "text/plain": [
       "interactive(children=(RadioButtons(description='source', options=('Merged', 'Not Merged'), value='Merged'), Fl…"
      ]
     },
     "metadata": {},
     "output_type": "display_data"
    },
    {
     "name": "stdout",
     "output_type": "stream",
     "text": [
      "Car\n"
     ]
    },
    {
     "data": {
      "application/vnd.jupyter.widget-view+json": {
       "model_id": "dab8d5af6b4940d7a2db0665d9db0dda",
       "version_major": 2,
       "version_minor": 0
      },
      "text/plain": [
       "interactive(children=(RadioButtons(description='source', options=('Merged', 'Not Merged'), value='Merged'), Fl…"
      ]
     },
     "metadata": {},
     "output_type": "display_data"
    },
    {
     "name": "stdout",
     "output_type": "stream",
     "text": [
      "Cash\n"
     ]
    },
    {
     "data": {
      "application/vnd.jupyter.widget-view+json": {
       "model_id": "170ee59abeca4c71bb57220c7fc86e77",
       "version_major": 2,
       "version_minor": 0
      },
      "text/plain": [
       "interactive(children=(RadioButtons(description='source', options=('Merged', 'Not Merged'), value='Merged'), Fl…"
      ]
     },
     "metadata": {},
     "output_type": "display_data"
    },
    {
     "name": "stdout",
     "output_type": "stream",
     "text": [
      "Castle\n"
     ]
    },
    {
     "data": {
      "application/vnd.jupyter.widget-view+json": {
       "model_id": "9cd013f31f0948a68e592901ca8d10a1",
       "version_major": 2,
       "version_minor": 0
      },
      "text/plain": [
       "interactive(children=(RadioButtons(description='source', options=('Merged', 'Not Merged'), value='Merged'), Fl…"
      ]
     },
     "metadata": {},
     "output_type": "display_data"
    },
    {
     "name": "stdout",
     "output_type": "stream",
     "text": [
      "Cemetery\n"
     ]
    },
    {
     "data": {
      "application/vnd.jupyter.widget-view+json": {
       "model_id": "92d999f2d8914bad93a38014881a8b78",
       "version_major": 2,
       "version_minor": 0
      },
      "text/plain": [
       "interactive(children=(RadioButtons(description='source', options=('Merged', 'Not Merged'), value='Merged'), Fl…"
      ]
     },
     "metadata": {},
     "output_type": "display_data"
    },
    {
     "name": "stdout",
     "output_type": "stream",
     "text": [
      "Child\n"
     ]
    },
    {
     "data": {
      "application/vnd.jupyter.widget-view+json": {
       "model_id": "f4fb831895c041d383eb2c04c5a7a632",
       "version_major": 2,
       "version_minor": 0
      },
      "text/plain": [
       "interactive(children=(RadioButtons(description='source', options=('Merged', 'Not Merged'), value='Merged'), Fl…"
      ]
     },
     "metadata": {},
     "output_type": "display_data"
    },
    {
     "name": "stdout",
     "output_type": "stream",
     "text": [
      "City\n"
     ]
    },
    {
     "data": {
      "application/vnd.jupyter.widget-view+json": {
       "model_id": "686bbed30ce84ca2b02470ab1c5e3765",
       "version_major": 2,
       "version_minor": 0
      },
      "text/plain": [
       "interactive(children=(RadioButtons(description='source', options=('Merged', 'Not Merged'), value='Merged'), Fl…"
      ]
     },
     "metadata": {},
     "output_type": "display_data"
    },
    {
     "name": "stdout",
     "output_type": "stream",
     "text": [
      "Combat vehicle\n"
     ]
    },
    {
     "data": {
      "application/vnd.jupyter.widget-view+json": {
       "model_id": "9ef106883a7442d99d9ac2879f63977d",
       "version_major": 2,
       "version_minor": 0
      },
      "text/plain": [
       "interactive(children=(RadioButtons(description='source', options=('Merged', 'Not Merged'), value='Merged'), Fl…"
      ]
     },
     "metadata": {},
     "output_type": "display_data"
    },
    {
     "name": "stdout",
     "output_type": "stream",
     "text": [
      "Computer\n"
     ]
    },
    {
     "data": {
      "application/vnd.jupyter.widget-view+json": {
       "model_id": "41309ac1e3354350a0b0afa461d3b5d7",
       "version_major": 2,
       "version_minor": 0
      },
      "text/plain": [
       "interactive(children=(RadioButtons(description='source', options=('Merged', 'Not Merged'), value='Merged'), Fl…"
      ]
     },
     "metadata": {},
     "output_type": "display_data"
    },
    {
     "name": "stdout",
     "output_type": "stream",
     "text": [
      "Conference hall\n"
     ]
    },
    {
     "data": {
      "application/vnd.jupyter.widget-view+json": {
       "model_id": "e4d377e8079a4c259ca1c27ebc809fe9",
       "version_major": 2,
       "version_minor": 0
      },
      "text/plain": [
       "interactive(children=(RadioButtons(description='source', options=('Merged', 'Not Merged'), value='Merged'), Fl…"
      ]
     },
     "metadata": {},
     "output_type": "display_data"
    },
    {
     "name": "stdout",
     "output_type": "stream",
     "text": [
      "Convenience store\n"
     ]
    },
    {
     "data": {
      "application/vnd.jupyter.widget-view+json": {
       "model_id": "a3d407f7f2cd499ebd00495ced1b79b4",
       "version_major": 2,
       "version_minor": 0
      },
      "text/plain": [
       "interactive(children=(RadioButtons(description='source', options=('Merged', 'Not Merged'), value='Merged'), Fl…"
      ]
     },
     "metadata": {},
     "output_type": "display_data"
    },
    {
     "name": "stdout",
     "output_type": "stream",
     "text": [
      "Crew\n"
     ]
    },
    {
     "data": {
      "application/vnd.jupyter.widget-view+json": {
       "model_id": "5c50f4f4a55c4f4da49db94fdf0d7eea",
       "version_major": 2,
       "version_minor": 0
      },
      "text/plain": [
       "interactive(children=(RadioButtons(description='source', options=('Merged', 'Not Merged'), value='Merged'), Fl…"
      ]
     },
     "metadata": {},
     "output_type": "display_data"
    },
    {
     "name": "stdout",
     "output_type": "stream",
     "text": [
      "Crowd\n"
     ]
    },
    {
     "data": {
      "application/vnd.jupyter.widget-view+json": {
       "model_id": "7f62e0f4d04140f8a13b4bf81bf786d8",
       "version_major": 2,
       "version_minor": 0
      },
      "text/plain": [
       "interactive(children=(RadioButtons(description='source', options=('Merged', 'Not Merged'), value='Merged'), Fl…"
      ]
     },
     "metadata": {},
     "output_type": "display_data"
    },
    {
     "name": "stdout",
     "output_type": "stream",
     "text": [
      "Dispatcher\n"
     ]
    },
    {
     "data": {
      "application/vnd.jupyter.widget-view+json": {
       "model_id": "d0b293fb4a2b47f2910614f7e14f67d0",
       "version_major": 2,
       "version_minor": 0
      },
      "text/plain": [
       "interactive(children=(RadioButtons(description='source', options=('Merged', 'Not Merged'), value='Merged'), Fl…"
      ]
     },
     "metadata": {},
     "output_type": "display_data"
    },
    {
     "name": "stdout",
     "output_type": "stream",
     "text": [
      "Dog\n"
     ]
    },
    {
     "data": {
      "application/vnd.jupyter.widget-view+json": {
       "model_id": "67de5a3f1bb0451e8d62fce64e931481",
       "version_major": 2,
       "version_minor": 0
      },
      "text/plain": [
       "interactive(children=(RadioButtons(description='source', options=('Merged', 'Not Merged'), value='Merged'), Fl…"
      ]
     },
     "metadata": {},
     "output_type": "display_data"
    },
    {
     "name": "stdout",
     "output_type": "stream",
     "text": [
      "Electronic device\n"
     ]
    },
    {
     "data": {
      "application/vnd.jupyter.widget-view+json": {
       "model_id": "84227d64f68b48efb11fc7d625bbb16d",
       "version_major": 2,
       "version_minor": 0
      },
      "text/plain": [
       "interactive(children=(RadioButtons(description='source', options=('Merged', 'Not Merged'), value='Merged'), Fl…"
      ]
     },
     "metadata": {},
     "output_type": "display_data"
    },
    {
     "name": "stdout",
     "output_type": "stream",
     "text": [
      "Emblem\n"
     ]
    },
    {
     "data": {
      "application/vnd.jupyter.widget-view+json": {
       "model_id": "4c341e134a1444f0812081bd54580a25",
       "version_major": 2,
       "version_minor": 0
      },
      "text/plain": [
       "interactive(children=(RadioButtons(description='source', options=('Merged', 'Not Merged'), value='Merged'), Fl…"
      ]
     },
     "metadata": {},
     "output_type": "display_data"
    },
    {
     "name": "stdout",
     "output_type": "stream",
     "text": [
      "Estate\n"
     ]
    },
    {
     "data": {
      "application/vnd.jupyter.widget-view+json": {
       "model_id": "42b3d8c45f734a78a59a212a24e39b82",
       "version_major": 2,
       "version_minor": 0
      },
      "text/plain": [
       "interactive(children=(RadioButtons(description='source', options=('Merged', 'Not Merged'), value='Merged'), Fl…"
      ]
     },
     "metadata": {},
     "output_type": "display_data"
    },
    {
     "name": "stdout",
     "output_type": "stream",
     "text": [
      "Explosive material\n"
     ]
    },
    {
     "data": {
      "application/vnd.jupyter.widget-view+json": {
       "model_id": "3a3caf42f19c4813b6247627d1cc5bf8",
       "version_major": 2,
       "version_minor": 0
      },
      "text/plain": [
       "interactive(children=(RadioButtons(description='source', options=('Merged', 'Not Merged'), value='Merged'), Fl…"
      ]
     },
     "metadata": {},
     "output_type": "display_data"
    },
    {
     "name": "stdout",
     "output_type": "stream",
     "text": [
      "Fence\n"
     ]
    },
    {
     "data": {
      "application/vnd.jupyter.widget-view+json": {
       "model_id": "ea119626a0d74a62afacab5ededc6af9",
       "version_major": 2,
       "version_minor": 0
      },
      "text/plain": [
       "interactive(children=(RadioButtons(description='source', options=('Merged', 'Not Merged'), value='Merged'), Fl…"
      ]
     },
     "metadata": {},
     "output_type": "display_data"
    },
    {
     "name": "stdout",
     "output_type": "stream",
     "text": [
      "Fighter pilot\n"
     ]
    },
    {
     "data": {
      "application/vnd.jupyter.widget-view+json": {
       "model_id": "00acd2b6bd4c4abdb7ed488b4c427ef8",
       "version_major": 2,
       "version_minor": 0
      },
      "text/plain": [
       "interactive(children=(RadioButtons(description='source', options=('Merged', 'Not Merged'), value='Merged'), Fl…"
      ]
     },
     "metadata": {},
     "output_type": "display_data"
    },
    {
     "name": "stdout",
     "output_type": "stream",
     "text": [
      "Fire extinguisher\n"
     ]
    },
    {
     "data": {
      "application/vnd.jupyter.widget-view+json": {
       "model_id": "acb4a48d2b84414b9dde65771ae2c432",
       "version_major": 2,
       "version_minor": 0
      },
      "text/plain": [
       "interactive(children=(RadioButtons(description='source', options=('Merged', 'Not Merged'), value='Merged'), Fl…"
      ]
     },
     "metadata": {},
     "output_type": "display_data"
    },
    {
     "name": "stdout",
     "output_type": "stream",
     "text": [
      "Firearm\n"
     ]
    },
    {
     "data": {
      "application/vnd.jupyter.widget-view+json": {
       "model_id": "0b0845da97c54ee8959b6861eb9960c9",
       "version_major": 2,
       "version_minor": 0
      },
      "text/plain": [
       "interactive(children=(RadioButtons(description='source', options=('Merged', 'Not Merged'), value='Merged'), Fl…"
      ]
     },
     "metadata": {},
     "output_type": "display_data"
    },
    {
     "name": "stdout",
     "output_type": "stream",
     "text": [
      "Firefighter\n"
     ]
    },
    {
     "data": {
      "application/vnd.jupyter.widget-view+json": {
       "model_id": "7c1eb4b578eb4f038118e27a6ccce23b",
       "version_major": 2,
       "version_minor": 0
      },
      "text/plain": [
       "interactive(children=(RadioButtons(description='source', options=('Merged', 'Not Merged'), value='Merged'), Fl…"
      ]
     },
     "metadata": {},
     "output_type": "display_data"
    },
    {
     "name": "stdout",
     "output_type": "stream",
     "text": [
      "Flag\n"
     ]
    },
    {
     "data": {
      "application/vnd.jupyter.widget-view+json": {
       "model_id": "aa70b2be8a6447d88ae841178cee1a15",
       "version_major": 2,
       "version_minor": 0
      },
      "text/plain": [
       "interactive(children=(RadioButtons(description='source', options=('Merged', 'Not Merged'), value='Merged'), Fl…"
      ]
     },
     "metadata": {},
     "output_type": "display_data"
    },
    {
     "name": "stdout",
     "output_type": "stream",
     "text": [
      "Flesh\n"
     ]
    },
    {
     "data": {
      "application/vnd.jupyter.widget-view+json": {
       "model_id": "09e61b1435434bf9bda1c99d3087f4ff",
       "version_major": 2,
       "version_minor": 0
      },
      "text/plain": [
       "interactive(children=(RadioButtons(description='source', options=('Merged', 'Not Merged'), value='Merged'), Fl…"
      ]
     },
     "metadata": {},
     "output_type": "display_data"
    },
    {
     "name": "stdout",
     "output_type": "stream",
     "text": [
      "Flight instruments\n"
     ]
    },
    {
     "data": {
      "application/vnd.jupyter.widget-view+json": {
       "model_id": "2ad67dd9fa0d46e5bba0d398595b23e1",
       "version_major": 2,
       "version_minor": 0
      },
      "text/plain": [
       "interactive(children=(RadioButtons(description='source', options=('Merged', 'Not Merged'), value='Merged'), Fl…"
      ]
     },
     "metadata": {},
     "output_type": "display_data"
    },
    {
     "name": "stdout",
     "output_type": "stream",
     "text": [
      "Food\n"
     ]
    },
    {
     "data": {
      "application/vnd.jupyter.widget-view+json": {
       "model_id": "13db76fdc0ff44e7a872e81d8d8a112f",
       "version_major": 2,
       "version_minor": 0
      },
      "text/plain": [
       "interactive(children=(RadioButtons(description='source', options=('Merged', 'Not Merged'), value='Merged'), Fl…"
      ]
     },
     "metadata": {},
     "output_type": "display_data"
    },
    {
     "name": "stdout",
     "output_type": "stream",
     "text": [
      "Furniture\n"
     ]
    },
    {
     "data": {
      "application/vnd.jupyter.widget-view+json": {
       "model_id": "7666f4eb6ebc4c6fb11fcd007e199229",
       "version_major": 2,
       "version_minor": 0
      },
      "text/plain": [
       "interactive(children=(RadioButtons(description='source', options=('Merged', 'Not Merged'), value='Merged'), Fl…"
      ]
     },
     "metadata": {},
     "output_type": "display_data"
    },
    {
     "name": "stdout",
     "output_type": "stream",
     "text": [
      "Girl\n"
     ]
    },
    {
     "data": {
      "application/vnd.jupyter.widget-view+json": {
       "model_id": "b33ddd8f09f042ffa5e53d9ebdb19f53",
       "version_major": 2,
       "version_minor": 0
      },
      "text/plain": [
       "interactive(children=(RadioButtons(description='source', options=('Merged', 'Not Merged'), value='Merged'), Fl…"
      ]
     },
     "metadata": {},
     "output_type": "display_data"
    },
    {
     "name": "stdout",
     "output_type": "stream",
     "text": [
      "Goggles\n"
     ]
    },
    {
     "data": {
      "application/vnd.jupyter.widget-view+json": {
       "model_id": "c292985aff724323a69a2a612951bcd0",
       "version_major": 2,
       "version_minor": 0
      },
      "text/plain": [
       "interactive(children=(RadioButtons(description='source', options=('Merged', 'Not Merged'), value='Merged'), Fl…"
      ]
     },
     "metadata": {},
     "output_type": "display_data"
    },
    {
     "name": "stdout",
     "output_type": "stream",
     "text": [
      "Gps navigation device\n"
     ]
    },
    {
     "data": {
      "application/vnd.jupyter.widget-view+json": {
       "model_id": "39a30bf4abe84558b1e484336b99dbbf",
       "version_major": 2,
       "version_minor": 0
      },
      "text/plain": [
       "interactive(children=(RadioButtons(description='source', options=('Merged', 'Not Merged'), value='Merged'), Fl…"
      ]
     },
     "metadata": {},
     "output_type": "display_data"
    },
    {
     "name": "stdout",
     "output_type": "stream",
     "text": [
      "Grave\n"
     ]
    },
    {
     "data": {
      "application/vnd.jupyter.widget-view+json": {
       "model_id": "c3c0371c65f64ee1bcc6c8fde88819d8",
       "version_major": 2,
       "version_minor": 0
      },
      "text/plain": [
       "interactive(children=(RadioButtons(description='source', options=('Merged', 'Not Merged'), value='Merged'), Fl…"
      ]
     },
     "metadata": {},
     "output_type": "display_data"
    },
    {
     "name": "stdout",
     "output_type": "stream",
     "text": [
      "Gun turret\n"
     ]
    },
    {
     "data": {
      "application/vnd.jupyter.widget-view+json": {
       "model_id": "078bff2a442b4cba8657d4bf2d71b9cd",
       "version_major": 2,
       "version_minor": 0
      },
      "text/plain": [
       "interactive(children=(RadioButtons(description='source', options=('Merged', 'Not Merged'), value='Merged'), Fl…"
      ]
     },
     "metadata": {},
     "output_type": "display_data"
    },
    {
     "name": "stdout",
     "output_type": "stream",
     "text": [
      "Handgun\n"
     ]
    },
    {
     "data": {
      "application/vnd.jupyter.widget-view+json": {
       "model_id": "e454c23ac0d845f1b984d8849d459bc6",
       "version_major": 2,
       "version_minor": 0
      },
      "text/plain": [
       "interactive(children=(RadioButtons(description='source', options=('Merged', 'Not Merged'), value='Merged'), Fl…"
      ]
     },
     "metadata": {},
     "output_type": "display_data"
    },
    {
     "name": "stdout",
     "output_type": "stream",
     "text": [
      "Helicopter\n"
     ]
    },
    {
     "data": {
      "application/vnd.jupyter.widget-view+json": {
       "model_id": "00321cc1b9664765876023d9c0d6451d",
       "version_major": 2,
       "version_minor": 0
      },
      "text/plain": [
       "interactive(children=(RadioButtons(description='source', options=('Merged', 'Not Merged'), value='Merged'), Fl…"
      ]
     },
     "metadata": {},
     "output_type": "display_data"
    },
    {
     "name": "stdout",
     "output_type": "stream",
     "text": [
      "Helicopter pilot\n"
     ]
    },
    {
     "data": {
      "application/vnd.jupyter.widget-view+json": {
       "model_id": "75e67e8071eb4e3f86608acfe3459df8",
       "version_major": 2,
       "version_minor": 0
      },
      "text/plain": [
       "interactive(children=(RadioButtons(description='source', options=('Merged', 'Not Merged'), value='Merged'), Fl…"
      ]
     },
     "metadata": {},
     "output_type": "display_data"
    },
    {
     "name": "stdout",
     "output_type": "stream",
     "text": [
      "Helmet\n"
     ]
    },
    {
     "data": {
      "application/vnd.jupyter.widget-view+json": {
       "model_id": "aa69488119614a5bb154fe095ed28cf5",
       "version_major": 2,
       "version_minor": 0
      },
      "text/plain": [
       "interactive(children=(RadioButtons(description='source', options=('Merged', 'Not Merged'), value='Merged'), Fl…"
      ]
     },
     "metadata": {},
     "output_type": "display_data"
    },
    {
     "name": "stdout",
     "output_type": "stream",
     "text": [
      "House\n"
     ]
    },
    {
     "data": {
      "application/vnd.jupyter.widget-view+json": {
       "model_id": "9586bc1a049541dd98eac8a6a7482625",
       "version_major": 2,
       "version_minor": 0
      },
      "text/plain": [
       "interactive(children=(RadioButtons(description='source', options=('Merged', 'Not Merged'), value='Merged'), Fl…"
      ]
     },
     "metadata": {},
     "output_type": "display_data"
    },
    {
     "name": "stdout",
     "output_type": "stream",
     "text": [
      "Human body\n"
     ]
    },
    {
     "data": {
      "application/vnd.jupyter.widget-view+json": {
       "model_id": "6a56ecee76ad4aef9e697e068c3b69a3",
       "version_major": 2,
       "version_minor": 0
      },
      "text/plain": [
       "interactive(children=(RadioButtons(description='source', options=('Merged', 'Not Merged'), value='Merged'), Fl…"
      ]
     },
     "metadata": {},
     "output_type": "display_data"
    },
    {
     "name": "stdout",
     "output_type": "stream",
     "text": [
      "Human face\n"
     ]
    },
    {
     "data": {
      "application/vnd.jupyter.widget-view+json": {
       "model_id": "8b18c715ed66441fb6771f1b98631e9a",
       "version_major": 2,
       "version_minor": 0
      },
      "text/plain": [
       "interactive(children=(RadioButtons(description='source', options=('Merged', 'Not Merged'), value='Merged'), Fl…"
      ]
     },
     "metadata": {},
     "output_type": "display_data"
    },
    {
     "name": "stdout",
     "output_type": "stream",
     "text": [
      "Human head\n"
     ]
    },
    {
     "data": {
      "application/vnd.jupyter.widget-view+json": {
       "model_id": "124f449e196c4c8a8abccc865664557b",
       "version_major": 2,
       "version_minor": 0
      },
      "text/plain": [
       "interactive(children=(RadioButtons(description='source', options=('Merged', 'Not Merged'), value='Merged'), Fl…"
      ]
     },
     "metadata": {},
     "output_type": "display_data"
    },
    {
     "name": "stdout",
     "output_type": "stream",
     "text": [
      "Jet engine\n"
     ]
    },
    {
     "data": {
      "application/vnd.jupyter.widget-view+json": {
       "model_id": "b747ba23d4a04416b68fb5fe3aee4a4a",
       "version_major": 2,
       "version_minor": 0
      },
      "text/plain": [
       "interactive(children=(RadioButtons(description='source', options=('Merged', 'Not Merged'), value='Merged'), Fl…"
      ]
     },
     "metadata": {},
     "output_type": "display_data"
    },
    {
     "name": "stdout",
     "output_type": "stream",
     "text": [
      "Knife\n"
     ]
    },
    {
     "data": {
      "application/vnd.jupyter.widget-view+json": {
       "model_id": "f5dd212c00cb4dd7a183c5ae7f60c072",
       "version_major": 2,
       "version_minor": 0
      },
      "text/plain": [
       "interactive(children=(RadioButtons(description='source', options=('Merged', 'Not Merged'), value='Merged'), Fl…"
      ]
     },
     "metadata": {},
     "output_type": "display_data"
    },
    {
     "name": "stdout",
     "output_type": "stream",
     "text": [
      "Land vehicle\n"
     ]
    },
    {
     "data": {
      "application/vnd.jupyter.widget-view+json": {
       "model_id": "6776897d852f439bbe4f66e95396f7ed",
       "version_major": 2,
       "version_minor": 0
      },
      "text/plain": [
       "interactive(children=(RadioButtons(description='source', options=('Merged', 'Not Merged'), value='Merged'), Fl…"
      ]
     },
     "metadata": {},
     "output_type": "display_data"
    },
    {
     "name": "stdout",
     "output_type": "stream",
     "text": [
      "Laptop\n"
     ]
    },
    {
     "data": {
      "application/vnd.jupyter.widget-view+json": {
       "model_id": "e0159a2da0c94976bc1ace8b9c43f767",
       "version_major": 2,
       "version_minor": 0
      },
      "text/plain": [
       "interactive(children=(RadioButtons(description='source', options=('Merged', 'Not Merged'), value='Merged'), Fl…"
      ]
     },
     "metadata": {},
     "output_type": "display_data"
    },
    {
     "name": "stdout",
     "output_type": "stream",
     "text": [
      "Lectern\n"
     ]
    },
    {
     "data": {
      "application/vnd.jupyter.widget-view+json": {
       "model_id": "6986dc0d22d34a6485977964f131ae42",
       "version_major": 2,
       "version_minor": 0
      },
      "text/plain": [
       "interactive(children=(RadioButtons(description='source', options=('Merged', 'Not Merged'), value='Merged'), Fl…"
      ]
     },
     "metadata": {},
     "output_type": "display_data"
    },
    {
     "name": "stdout",
     "output_type": "stream",
     "text": [
      "Lifejacket\n"
     ]
    },
    {
     "data": {
      "application/vnd.jupyter.widget-view+json": {
       "model_id": "36e4030191894eeea3b5c4f945d87148",
       "version_major": 2,
       "version_minor": 0
      },
      "text/plain": [
       "interactive(children=(RadioButtons(description='source', options=('Merged', 'Not Merged'), value='Merged'), Fl…"
      ]
     },
     "metadata": {},
     "output_type": "display_data"
    },
    {
     "name": "stdout",
     "output_type": "stream",
     "text": [
      "Lighthouse\n"
     ]
    },
    {
     "data": {
      "application/vnd.jupyter.widget-view+json": {
       "model_id": "37db54a9307649f4865821fa64028abc",
       "version_major": 2,
       "version_minor": 0
      },
      "text/plain": [
       "interactive(children=(RadioButtons(description='source', options=('Merged', 'Not Merged'), value='Merged'), Fl…"
      ]
     },
     "metadata": {},
     "output_type": "display_data"
    },
    {
     "name": "stdout",
     "output_type": "stream",
     "text": [
      "Logo\n"
     ]
    },
    {
     "data": {
      "application/vnd.jupyter.widget-view+json": {
       "model_id": "028e7cb84ade4fd3b2f66ef9295744f0",
       "version_major": 2,
       "version_minor": 0
      },
      "text/plain": [
       "interactive(children=(RadioButtons(description='source', options=('Merged', 'Not Merged'), value='Merged'), Fl…"
      ]
     },
     "metadata": {},
     "output_type": "display_data"
    },
    {
     "name": "stdout",
     "output_type": "stream",
     "text": [
      "Luggage and bags\n"
     ]
    },
    {
     "data": {
      "application/vnd.jupyter.widget-view+json": {
       "model_id": "9613a0fe62b14bec8ccd2ebc63e5cb12",
       "version_major": 2,
       "version_minor": 0
      },
      "text/plain": [
       "interactive(children=(RadioButtons(description='source', options=('Merged', 'Not Merged'), value='Merged'), Fl…"
      ]
     },
     "metadata": {},
     "output_type": "display_data"
    },
    {
     "name": "stdout",
     "output_type": "stream",
     "text": [
      "Luxury vehicle\n"
     ]
    },
    {
     "data": {
      "application/vnd.jupyter.widget-view+json": {
       "model_id": "a7ef49df82c1463ab89536ce609298bb",
       "version_major": 2,
       "version_minor": 0
      },
      "text/plain": [
       "interactive(children=(RadioButtons(description='source', options=('Merged', 'Not Merged'), value='Merged'), Fl…"
      ]
     },
     "metadata": {},
     "output_type": "display_data"
    },
    {
     "name": "stdout",
     "output_type": "stream",
     "text": [
      "Machine\n"
     ]
    },
    {
     "data": {
      "application/vnd.jupyter.widget-view+json": {
       "model_id": "f711f9b6c21e4b64b86a07b9873580e9",
       "version_major": 2,
       "version_minor": 0
      },
      "text/plain": [
       "interactive(children=(RadioButtons(description='source', options=('Merged', 'Not Merged'), value='Merged'), Fl…"
      ]
     },
     "metadata": {},
     "output_type": "display_data"
    },
    {
     "name": "stdout",
     "output_type": "stream",
     "text": [
      "Man\n"
     ]
    },
    {
     "data": {
      "application/vnd.jupyter.widget-view+json": {
       "model_id": "b66f654836894af183dcdd2eb95e1b3d",
       "version_major": 2,
       "version_minor": 0
      },
      "text/plain": [
       "interactive(children=(RadioButtons(description='source', options=('Merged', 'Not Merged'), value='Merged'), Fl…"
      ]
     },
     "metadata": {},
     "output_type": "display_data"
    },
    {
     "name": "stdout",
     "output_type": "stream",
     "text": [
      "Map\n"
     ]
    },
    {
     "data": {
      "application/vnd.jupyter.widget-view+json": {
       "model_id": "2d87cbbbe5fc4f56b4836209a21478b9",
       "version_major": 2,
       "version_minor": 0
      },
      "text/plain": [
       "interactive(children=(RadioButtons(description='source', options=('Merged', 'Not Merged'), value='Merged'), Fl…"
      ]
     },
     "metadata": {},
     "output_type": "display_data"
    },
    {
     "name": "stdout",
     "output_type": "stream",
     "text": [
      "Medical equipment\n"
     ]
    },
    {
     "data": {
      "application/vnd.jupyter.widget-view+json": {
       "model_id": "7e66067396614e8984e518cced52bdee",
       "version_major": 2,
       "version_minor": 0
      },
      "text/plain": [
       "interactive(children=(RadioButtons(description='source', options=('Merged', 'Not Merged'), value='Merged'), Fl…"
      ]
     },
     "metadata": {},
     "output_type": "display_data"
    },
    {
     "name": "stdout",
     "output_type": "stream",
     "text": [
      "Medium tactical vehicle replacement\n"
     ]
    },
    {
     "data": {
      "application/vnd.jupyter.widget-view+json": {
       "model_id": "e4d26174100d47f3ac7b90008a6337fa",
       "version_major": 2,
       "version_minor": 0
      },
      "text/plain": [
       "interactive(children=(RadioButtons(description='source', options=('Merged', 'Not Merged'), value='Merged'), Fl…"
      ]
     },
     "metadata": {},
     "output_type": "display_data"
    },
    {
     "name": "stdout",
     "output_type": "stream",
     "text": [
      "Microphone\n"
     ]
    },
    {
     "data": {
      "application/vnd.jupyter.widget-view+json": {
       "model_id": "cc2a075c00ba4d4780d48a35cd5e1d9b",
       "version_major": 2,
       "version_minor": 0
      },
      "text/plain": [
       "interactive(children=(RadioButtons(description='source', options=('Merged', 'Not Merged'), value='Merged'), Fl…"
      ]
     },
     "metadata": {},
     "output_type": "display_data"
    },
    {
     "name": "stdout",
     "output_type": "stream",
     "text": [
      "Military robot\n"
     ]
    },
    {
     "data": {
      "application/vnd.jupyter.widget-view+json": {
       "model_id": "887cecf794804fedb0817950fd6f0f27",
       "version_major": 2,
       "version_minor": 0
      },
      "text/plain": [
       "interactive(children=(RadioButtons(description='source', options=('Merged', 'Not Merged'), value='Merged'), Fl…"
      ]
     },
     "metadata": {},
     "output_type": "display_data"
    },
    {
     "name": "stdout",
     "output_type": "stream",
     "text": [
      "Military vehicle\n"
     ]
    },
    {
     "data": {
      "application/vnd.jupyter.widget-view+json": {
       "model_id": "74d60fa9d4114def8143fc968b7af6dc",
       "version_major": 2,
       "version_minor": 0
      },
      "text/plain": [
       "interactive(children=(RadioButtons(description='source', options=('Merged', 'Not Merged'), value='Merged'), Fl…"
      ]
     },
     "metadata": {},
     "output_type": "display_data"
    },
    {
     "name": "stdout",
     "output_type": "stream",
     "text": [
      "Missile\n"
     ]
    },
    {
     "data": {
      "application/vnd.jupyter.widget-view+json": {
       "model_id": "c4a05d793c0d4aaa9b4ccbedcb1b913b",
       "version_major": 2,
       "version_minor": 0
      },
      "text/plain": [
       "interactive(children=(RadioButtons(description='source', options=('Merged', 'Not Merged'), value='Merged'), Fl…"
      ]
     },
     "metadata": {},
     "output_type": "display_data"
    },
    {
     "name": "stdout",
     "output_type": "stream",
     "text": [
      "Mobile phone\n"
     ]
    },
    {
     "data": {
      "application/vnd.jupyter.widget-view+json": {
       "model_id": "a85d68033bf04b5d94d5cff7172cc9c4",
       "version_major": 2,
       "version_minor": 0
      },
      "text/plain": [
       "interactive(children=(RadioButtons(description='source', options=('Merged', 'Not Merged'), value='Merged'), Fl…"
      ]
     },
     "metadata": {},
     "output_type": "display_data"
    },
    {
     "name": "stdout",
     "output_type": "stream",
     "text": [
      "Money\n"
     ]
    },
    {
     "data": {
      "application/vnd.jupyter.widget-view+json": {
       "model_id": "469a9458dfd14d55bb446795ef41b9d0",
       "version_major": 2,
       "version_minor": 0
      },
      "text/plain": [
       "interactive(children=(RadioButtons(description='source', options=('Merged', 'Not Merged'), value='Merged'), Fl…"
      ]
     },
     "metadata": {},
     "output_type": "display_data"
    },
    {
     "name": "stdout",
     "output_type": "stream",
     "text": [
      "Monument\n"
     ]
    },
    {
     "data": {
      "application/vnd.jupyter.widget-view+json": {
       "model_id": "49a7d09a4afb48f1bf7d57d7bc0ef2a1",
       "version_major": 2,
       "version_minor": 0
      },
      "text/plain": [
       "interactive(children=(RadioButtons(description='source', options=('Merged', 'Not Merged'), value='Merged'), Fl…"
      ]
     },
     "metadata": {},
     "output_type": "display_data"
    },
    {
     "name": "stdout",
     "output_type": "stream",
     "text": [
      "Mortar\n"
     ]
    },
    {
     "data": {
      "application/vnd.jupyter.widget-view+json": {
       "model_id": "7ead540cd8d74fe3b34fa54411833d4e",
       "version_major": 2,
       "version_minor": 0
      },
      "text/plain": [
       "interactive(children=(RadioButtons(description='source', options=('Merged', 'Not Merged'), value='Merged'), Fl…"
      ]
     },
     "metadata": {},
     "output_type": "display_data"
    },
    {
     "name": "stdout",
     "output_type": "stream",
     "text": [
      "Motorcycle\n"
     ]
    },
    {
     "data": {
      "application/vnd.jupyter.widget-view+json": {
       "model_id": "c84f077f2e9543539135f5affec2ad44",
       "version_major": 2,
       "version_minor": 0
      },
      "text/plain": [
       "interactive(children=(RadioButtons(description='source', options=('Merged', 'Not Merged'), value='Merged'), Fl…"
      ]
     },
     "metadata": {},
     "output_type": "display_data"
    },
    {
     "name": "stdout",
     "output_type": "stream",
     "text": [
      "Office building\n"
     ]
    },
    {
     "data": {
      "application/vnd.jupyter.widget-view+json": {
       "model_id": "bc82b3922ae743bbab60fe56664851b8",
       "version_major": 2,
       "version_minor": 0
      },
      "text/plain": [
       "interactive(children=(RadioButtons(description='source', options=('Merged', 'Not Merged'), value='Merged'), Fl…"
      ]
     },
     "metadata": {},
     "output_type": "display_data"
    },
    {
     "name": "stdout",
     "output_type": "stream",
     "text": [
      "Official\n"
     ]
    },
    {
     "data": {
      "application/vnd.jupyter.widget-view+json": {
       "model_id": "6121862d191d44aca7b86f5c872ef193",
       "version_major": 2,
       "version_minor": 0
      },
      "text/plain": [
       "interactive(children=(RadioButtons(description='source', options=('Merged', 'Not Merged'), value='Merged'), Fl…"
      ]
     },
     "metadata": {},
     "output_type": "display_data"
    },
    {
     "name": "stdout",
     "output_type": "stream",
     "text": [
      "Orator\n"
     ]
    },
    {
     "data": {
      "application/vnd.jupyter.widget-view+json": {
       "model_id": "4dd91c77458246b0b55bec3a8518f7d3",
       "version_major": 2,
       "version_minor": 0
      },
      "text/plain": [
       "interactive(children=(RadioButtons(description='source', options=('Merged', 'Not Merged'), value='Merged'), Fl…"
      ]
     },
     "metadata": {},
     "output_type": "display_data"
    },
    {
     "name": "stdout",
     "output_type": "stream",
     "text": [
      "People\n"
     ]
    },
    {
     "data": {
      "application/vnd.jupyter.widget-view+json": {
       "model_id": "fb91dd891007442b80f56bcc41100d69",
       "version_major": 2,
       "version_minor": 0
      },
      "text/plain": [
       "interactive(children=(RadioButtons(description='source', options=('Merged', 'Not Merged'), value='Merged'), Fl…"
      ]
     },
     "metadata": {},
     "output_type": "display_data"
    },
    {
     "name": "stdout",
     "output_type": "stream",
     "text": [
      "Person\n"
     ]
    },
    {
     "data": {
      "application/vnd.jupyter.widget-view+json": {
       "model_id": "45a401d1897e4b88a56fab45a2d806fb",
       "version_major": 2,
       "version_minor": 0
      },
      "text/plain": [
       "interactive(children=(RadioButtons(description='source', options=('Merged', 'Not Merged'), value='Merged'), Fl…"
      ]
     },
     "metadata": {},
     "output_type": "display_data"
    },
    {
     "name": "stdout",
     "output_type": "stream",
     "text": [
      "Plant\n"
     ]
    },
    {
     "data": {
      "application/vnd.jupyter.widget-view+json": {
       "model_id": "405a6ae3e69c48439d2b8e1a764f73aa",
       "version_major": 2,
       "version_minor": 0
      },
      "text/plain": [
       "interactive(children=(RadioButtons(description='source', options=('Merged', 'Not Merged'), value='Merged'), Fl…"
      ]
     },
     "metadata": {},
     "output_type": "display_data"
    },
    {
     "name": "stdout",
     "output_type": "stream",
     "text": [
      "Plaza\n"
     ]
    },
    {
     "data": {
      "application/vnd.jupyter.widget-view+json": {
       "model_id": "d7324031eef04168a923e8b3d41fb53c",
       "version_major": 2,
       "version_minor": 0
      },
      "text/plain": [
       "interactive(children=(RadioButtons(description='source', options=('Merged', 'Not Merged'), value='Merged'), Fl…"
      ]
     },
     "metadata": {},
     "output_type": "display_data"
    },
    {
     "name": "stdout",
     "output_type": "stream",
     "text": [
      "Podium\n"
     ]
    },
    {
     "data": {
      "application/vnd.jupyter.widget-view+json": {
       "model_id": "f373fe9098d546c6b390d5b4a9984d10",
       "version_major": 2,
       "version_minor": 0
      },
      "text/plain": [
       "interactive(children=(RadioButtons(description='source', options=('Merged', 'Not Merged'), value='Merged'), Fl…"
      ]
     },
     "metadata": {},
     "output_type": "display_data"
    },
    {
     "name": "stdout",
     "output_type": "stream",
     "text": [
      "Police dog\n"
     ]
    },
    {
     "data": {
      "application/vnd.jupyter.widget-view+json": {
       "model_id": "a0083f865e614c9abe1602102970bf01",
       "version_major": 2,
       "version_minor": 0
      },
      "text/plain": [
       "interactive(children=(RadioButtons(description='source', options=('Merged', 'Not Merged'), value='Merged'), Fl…"
      ]
     },
     "metadata": {},
     "output_type": "display_data"
    },
    {
     "name": "stdout",
     "output_type": "stream",
     "text": [
      "Poster\n"
     ]
    },
    {
     "data": {
      "application/vnd.jupyter.widget-view+json": {
       "model_id": "9797e54325d8478994b7cb72036fc387",
       "version_major": 2,
       "version_minor": 0
      },
      "text/plain": [
       "interactive(children=(RadioButtons(description='source', options=('Merged', 'Not Merged'), value='Merged'), Fl…"
      ]
     },
     "metadata": {},
     "output_type": "display_data"
    },
    {
     "name": "stdout",
     "output_type": "stream",
     "text": [
      "Property\n"
     ]
    },
    {
     "data": {
      "application/vnd.jupyter.widget-view+json": {
       "model_id": "1a79e767a3144b34bbd22535407ee16d",
       "version_major": 2,
       "version_minor": 0
      },
      "text/plain": [
       "interactive(children=(RadioButtons(description='source', options=('Merged', 'Not Merged'), value='Merged'), Fl…"
      ]
     },
     "metadata": {},
     "output_type": "display_data"
    },
    {
     "name": "stdout",
     "output_type": "stream",
     "text": [
      "Railway\n"
     ]
    },
    {
     "data": {
      "application/vnd.jupyter.widget-view+json": {
       "model_id": "e1f0fe71615a412793ccd0e2f1e75cca",
       "version_major": 2,
       "version_minor": 0
      },
      "text/plain": [
       "interactive(children=(RadioButtons(description='source', options=('Merged', 'Not Merged'), value='Merged'), Fl…"
      ]
     },
     "metadata": {},
     "output_type": "display_data"
    },
    {
     "name": "stdout",
     "output_type": "stream",
     "text": [
      "Rifle\n"
     ]
    },
    {
     "data": {
      "application/vnd.jupyter.widget-view+json": {
       "model_id": "4b23e365ab694cceaacd2fbb1c5888e3",
       "version_major": 2,
       "version_minor": 0
      },
      "text/plain": [
       "interactive(children=(RadioButtons(description='source', options=('Merged', 'Not Merged'), value='Merged'), Fl…"
      ]
     },
     "metadata": {},
     "output_type": "display_data"
    },
    {
     "name": "stdout",
     "output_type": "stream",
     "text": [
      "Road\n"
     ]
    },
    {
     "data": {
      "application/vnd.jupyter.widget-view+json": {
       "model_id": "080f897736c341c0b918038178cc874c",
       "version_major": 2,
       "version_minor": 0
      },
      "text/plain": [
       "interactive(children=(RadioButtons(description='source', options=('Merged', 'Not Merged'), value='Merged'), Fl…"
      ]
     },
     "metadata": {},
     "output_type": "display_data"
    },
    {
     "name": "stdout",
     "output_type": "stream",
     "text": [
      "Rocket\n"
     ]
    },
    {
     "data": {
      "application/vnd.jupyter.widget-view+json": {
       "model_id": "a07745caf16f41a7a125dc986d79d530",
       "version_major": 2,
       "version_minor": 0
      },
      "text/plain": [
       "interactive(children=(RadioButtons(description='source', options=('Merged', 'Not Merged'), value='Merged'), Fl…"
      ]
     },
     "metadata": {},
     "output_type": "display_data"
    },
    {
     "name": "stdout",
     "output_type": "stream",
     "text": [
      "Rubble\n"
     ]
    },
    {
     "data": {
      "application/vnd.jupyter.widget-view+json": {
       "model_id": "f4c807c72e8743eb98b9d5b50c6efaee",
       "version_major": 2,
       "version_minor": 0
      },
      "text/plain": [
       "interactive(children=(RadioButtons(description='source', options=('Merged', 'Not Merged'), value='Merged'), Fl…"
      ]
     },
     "metadata": {},
     "output_type": "display_data"
    },
    {
     "name": "stdout",
     "output_type": "stream",
     "text": [
      "Sculpture\n"
     ]
    },
    {
     "data": {
      "application/vnd.jupyter.widget-view+json": {
       "model_id": "d5dde5d541844eecb99a00ffb1c22dec",
       "version_major": 2,
       "version_minor": 0
      },
      "text/plain": [
       "interactive(children=(RadioButtons(description='source', options=('Merged', 'Not Merged'), value='Merged'), Fl…"
      ]
     },
     "metadata": {},
     "output_type": "display_data"
    },
    {
     "name": "stdout",
     "output_type": "stream",
     "text": [
      "Security\n"
     ]
    },
    {
     "data": {
      "application/vnd.jupyter.widget-view+json": {
       "model_id": "ba5cda03864b4fe2b588d9f9913a0c17",
       "version_major": 2,
       "version_minor": 0
      },
      "text/plain": [
       "interactive(children=(RadioButtons(description='source', options=('Merged', 'Not Merged'), value='Merged'), Fl…"
      ]
     },
     "metadata": {},
     "output_type": "display_data"
    },
    {
     "name": "stdout",
     "output_type": "stream",
     "text": [
      "Self-propelled artillery\n"
     ]
    },
    {
     "data": {
      "application/vnd.jupyter.widget-view+json": {
       "model_id": "b4624708f7734e1899e3b3038aee9682",
       "version_major": 2,
       "version_minor": 0
      },
      "text/plain": [
       "interactive(children=(RadioButtons(description='source', options=('Merged', 'Not Merged'), value='Merged'), Fl…"
      ]
     },
     "metadata": {},
     "output_type": "display_data"
    },
    {
     "name": "stdout",
     "output_type": "stream",
     "text": [
      "Ship\n"
     ]
    },
    {
     "data": {
      "application/vnd.jupyter.widget-view+json": {
       "model_id": "549a2f6df37e47f293f2807124346c2e",
       "version_major": 2,
       "version_minor": 0
      },
      "text/plain": [
       "interactive(children=(RadioButtons(description='source', options=('Merged', 'Not Merged'), value='Merged'), Fl…"
      ]
     },
     "metadata": {},
     "output_type": "display_data"
    },
    {
     "name": "stdout",
     "output_type": "stream",
     "text": [
      "Shrine\n"
     ]
    },
    {
     "data": {
      "application/vnd.jupyter.widget-view+json": {
       "model_id": "425696a1f92f4ddeb76da37a45d8d0f5",
       "version_major": 2,
       "version_minor": 0
      },
      "text/plain": [
       "interactive(children=(RadioButtons(description='source', options=('Merged', 'Not Merged'), value='Merged'), Fl…"
      ]
     },
     "metadata": {},
     "output_type": "display_data"
    },
    {
     "name": "stdout",
     "output_type": "stream",
     "text": [
      "Skyscraper\n"
     ]
    },
    {
     "data": {
      "application/vnd.jupyter.widget-view+json": {
       "model_id": "58d712a2327b4aed8ce94b8123dc041b",
       "version_major": 2,
       "version_minor": 0
      },
      "text/plain": [
       "interactive(children=(RadioButtons(description='source', options=('Merged', 'Not Merged'), value='Merged'), Fl…"
      ]
     },
     "metadata": {},
     "output_type": "display_data"
    },
    {
     "name": "stdout",
     "output_type": "stream",
     "text": [
      "Smartphone\n"
     ]
    },
    {
     "data": {
      "application/vnd.jupyter.widget-view+json": {
       "model_id": "701c38c57f0341c496b0f76366f506ad",
       "version_major": 2,
       "version_minor": 0
      },
      "text/plain": [
       "interactive(children=(RadioButtons(description='source', options=('Merged', 'Not Merged'), value='Merged'), Fl…"
      ]
     },
     "metadata": {},
     "output_type": "display_data"
    },
    {
     "name": "stdout",
     "output_type": "stream",
     "text": [
      "Smoke\n"
     ]
    },
    {
     "data": {
      "application/vnd.jupyter.widget-view+json": {
       "model_id": "7d4caea7b264447696806bb46007743b",
       "version_major": 2,
       "version_minor": 0
      },
      "text/plain": [
       "interactive(children=(RadioButtons(description='source', options=('Merged', 'Not Merged'), value='Merged'), Fl…"
      ]
     },
     "metadata": {},
     "output_type": "display_data"
    },
    {
     "name": "stdout",
     "output_type": "stream",
     "text": [
      "Spokesperson\n"
     ]
    },
    {
     "data": {
      "application/vnd.jupyter.widget-view+json": {
       "model_id": "c197e3ef529d4583bdff776b6e38b258",
       "version_major": 2,
       "version_minor": 0
      },
      "text/plain": [
       "interactive(children=(RadioButtons(description='source', options=('Merged', 'Not Merged'), value='Merged'), Fl…"
      ]
     },
     "metadata": {},
     "output_type": "display_data"
    },
    {
     "name": "stdout",
     "output_type": "stream",
     "text": [
      "Statue\n"
     ]
    },
    {
     "data": {
      "application/vnd.jupyter.widget-view+json": {
       "model_id": "5d2bf0da358a448ba600de255a76a120",
       "version_major": 2,
       "version_minor": 0
      },
      "text/plain": [
       "interactive(children=(RadioButtons(description='source', options=('Merged', 'Not Merged'), value='Merged'), Fl…"
      ]
     },
     "metadata": {},
     "output_type": "display_data"
    },
    {
     "name": "stdout",
     "output_type": "stream",
     "text": [
      "Stealth aircraft\n"
     ]
    },
    {
     "data": {
      "application/vnd.jupyter.widget-view+json": {
       "model_id": "ab74cac3da31461880e852558589c33c",
       "version_major": 2,
       "version_minor": 0
      },
      "text/plain": [
       "interactive(children=(RadioButtons(description='source', options=('Merged', 'Not Merged'), value='Merged'), Fl…"
      ]
     },
     "metadata": {},
     "output_type": "display_data"
    },
    {
     "name": "stdout",
     "output_type": "stream",
     "text": [
      "Tank\n"
     ]
    },
    {
     "data": {
      "application/vnd.jupyter.widget-view+json": {
       "model_id": "44e9cfda50e34966be0d621339f93670",
       "version_major": 2,
       "version_minor": 0
      },
      "text/plain": [
       "interactive(children=(RadioButtons(description='source', options=('Merged', 'Not Merged'), value='Merged'), Fl…"
      ]
     },
     "metadata": {},
     "output_type": "display_data"
    },
    {
     "name": "stdout",
     "output_type": "stream",
     "text": [
      "Telephone\n"
     ]
    },
    {
     "data": {
      "application/vnd.jupyter.widget-view+json": {
       "model_id": "250b42d5e7fc4d659fe85448b99ca846",
       "version_major": 2,
       "version_minor": 0
      },
      "text/plain": [
       "interactive(children=(RadioButtons(description='source', options=('Merged', 'Not Merged'), value='Merged'), Fl…"
      ]
     },
     "metadata": {},
     "output_type": "display_data"
    },
    {
     "name": "stdout",
     "output_type": "stream",
     "text": [
      "Television\n"
     ]
    },
    {
     "data": {
      "application/vnd.jupyter.widget-view+json": {
       "model_id": "861d8970008b43a0b18f4d9522d35f8a",
       "version_major": 2,
       "version_minor": 0
      },
      "text/plain": [
       "interactive(children=(RadioButtons(description='source', options=('Merged', 'Not Merged'), value='Merged'), Fl…"
      ]
     },
     "metadata": {},
     "output_type": "display_data"
    },
    {
     "name": "stdout",
     "output_type": "stream",
     "text": [
      "Temple\n"
     ]
    },
    {
     "data": {
      "application/vnd.jupyter.widget-view+json": {
       "model_id": "2d0508d6a17848c4b9793ada30edcff1",
       "version_major": 2,
       "version_minor": 0
      },
      "text/plain": [
       "interactive(children=(RadioButtons(description='source', options=('Merged', 'Not Merged'), value='Merged'), Fl…"
      ]
     },
     "metadata": {},
     "output_type": "display_data"
    },
    {
     "name": "stdout",
     "output_type": "stream",
     "text": [
      "Tent\n"
     ]
    },
    {
     "data": {
      "application/vnd.jupyter.widget-view+json": {
       "model_id": "e220a24008e6406684193cf41ddb3ad1",
       "version_major": 2,
       "version_minor": 0
      },
      "text/plain": [
       "interactive(children=(RadioButtons(description='source', options=('Merged', 'Not Merged'), value='Merged'), Fl…"
      ]
     },
     "metadata": {},
     "output_type": "display_data"
    },
    {
     "name": "stdout",
     "output_type": "stream",
     "text": [
      "Text\n"
     ]
    },
    {
     "data": {
      "application/vnd.jupyter.widget-view+json": {
       "model_id": "cd66e650edcb4821a044d817f483366a",
       "version_major": 2,
       "version_minor": 0
      },
      "text/plain": [
       "interactive(children=(RadioButtons(description='source', options=('Merged', 'Not Merged'), value='Merged'), Fl…"
      ]
     },
     "metadata": {},
     "output_type": "display_data"
    },
    {
     "name": "stdout",
     "output_type": "stream",
     "text": [
      "Toddler\n"
     ]
    },
    {
     "data": {
      "application/vnd.jupyter.widget-view+json": {
       "model_id": "caa87d236ead4a1dbdee87f7d3ea6971",
       "version_major": 2,
       "version_minor": 0
      },
      "text/plain": [
       "interactive(children=(RadioButtons(description='source', options=('Merged', 'Not Merged'), value='Merged'), Fl…"
      ]
     },
     "metadata": {},
     "output_type": "display_data"
    },
    {
     "name": "stdout",
     "output_type": "stream",
     "text": [
      "Tool\n"
     ]
    },
    {
     "data": {
      "application/vnd.jupyter.widget-view+json": {
       "model_id": "39b428bcf4b44de892c550885732b6ae",
       "version_major": 2,
       "version_minor": 0
      },
      "text/plain": [
       "interactive(children=(RadioButtons(description='source', options=('Merged', 'Not Merged'), value='Merged'), Fl…"
      ]
     },
     "metadata": {},
     "output_type": "display_data"
    },
    {
     "name": "stdout",
     "output_type": "stream",
     "text": [
      "Tower\n"
     ]
    },
    {
     "data": {
      "application/vnd.jupyter.widget-view+json": {
       "model_id": "8efcd0a3f2ae4d4782fe26a56e12f18e",
       "version_major": 2,
       "version_minor": 0
      },
      "text/plain": [
       "interactive(children=(RadioButtons(description='source', options=('Merged', 'Not Merged'), value='Merged'), Fl…"
      ]
     },
     "metadata": {},
     "output_type": "display_data"
    },
    {
     "name": "stdout",
     "output_type": "stream",
     "text": [
      "Train\n"
     ]
    },
    {
     "data": {
      "application/vnd.jupyter.widget-view+json": {
       "model_id": "25847a2cb6f545abb3d6542a0b3201db",
       "version_major": 2,
       "version_minor": 0
      },
      "text/plain": [
       "interactive(children=(RadioButtons(description='source', options=('Merged', 'Not Merged'), value='Merged'), Fl…"
      ]
     },
     "metadata": {},
     "output_type": "display_data"
    },
    {
     "name": "stdout",
     "output_type": "stream",
     "text": [
      "Troop\n"
     ]
    },
    {
     "data": {
      "application/vnd.jupyter.widget-view+json": {
       "model_id": "d3966999a63f4f6f88c57ad026133c86",
       "version_major": 2,
       "version_minor": 0
      },
      "text/plain": [
       "interactive(children=(RadioButtons(description='source', options=('Merged', 'Not Merged'), value='Merged'), Fl…"
      ]
     },
     "metadata": {},
     "output_type": "display_data"
    },
    {
     "name": "stdout",
     "output_type": "stream",
     "text": [
      "Truck\n"
     ]
    },
    {
     "data": {
      "application/vnd.jupyter.widget-view+json": {
       "model_id": "e0b9963a03bf41fd83cc34c2257889d4",
       "version_major": 2,
       "version_minor": 0
      },
      "text/plain": [
       "interactive(children=(RadioButtons(description='source', options=('Merged', 'Not Merged'), value='Merged'), Fl…"
      ]
     },
     "metadata": {},
     "output_type": "display_data"
    },
    {
     "name": "stdout",
     "output_type": "stream",
     "text": [
      "Urban area\n"
     ]
    },
    {
     "data": {
      "application/vnd.jupyter.widget-view+json": {
       "model_id": "6c7b24c4f1c54d73b6498cdd27f20037",
       "version_major": 2,
       "version_minor": 0
      },
      "text/plain": [
       "interactive(children=(RadioButtons(description='source', options=('Merged', 'Not Merged'), value='Merged'), Fl…"
      ]
     },
     "metadata": {},
     "output_type": "display_data"
    },
    {
     "name": "stdout",
     "output_type": "stream",
     "text": [
      "Van\n"
     ]
    },
    {
     "data": {
      "application/vnd.jupyter.widget-view+json": {
       "model_id": "1d9d1249e50849c1873fee87bd87c2c9",
       "version_major": 2,
       "version_minor": 0
      },
      "text/plain": [
       "interactive(children=(RadioButtons(description='source', options=('Merged', 'Not Merged'), value='Merged'), Fl…"
      ]
     },
     "metadata": {},
     "output_type": "display_data"
    },
    {
     "name": "stdout",
     "output_type": "stream",
     "text": [
      "Vehicle\n"
     ]
    },
    {
     "data": {
      "application/vnd.jupyter.widget-view+json": {
       "model_id": "e05603d7e6e64bf78904fe24017e1450",
       "version_major": 2,
       "version_minor": 0
      },
      "text/plain": [
       "interactive(children=(RadioButtons(description='source', options=('Merged', 'Not Merged'), value='Merged'), Fl…"
      ]
     },
     "metadata": {},
     "output_type": "display_data"
    },
    {
     "name": "stdout",
     "output_type": "stream",
     "text": [
      "Waste\n"
     ]
    },
    {
     "data": {
      "application/vnd.jupyter.widget-view+json": {
       "model_id": "c1a9ba7f4fa84060b6c5b17d69102daf",
       "version_major": 2,
       "version_minor": 0
      },
      "text/plain": [
       "interactive(children=(RadioButtons(description='source', options=('Merged', 'Not Merged'), value='Merged'), Fl…"
      ]
     },
     "metadata": {},
     "output_type": "display_data"
    },
    {
     "name": "stdout",
     "output_type": "stream",
     "text": [
      "Watercraft\n"
     ]
    },
    {
     "data": {
      "application/vnd.jupyter.widget-view+json": {
       "model_id": "00cb04e789994395b400c418be10e9a3",
       "version_major": 2,
       "version_minor": 0
      },
      "text/plain": [
       "interactive(children=(RadioButtons(description='source', options=('Merged', 'Not Merged'), value='Merged'), Fl…"
      ]
     },
     "metadata": {},
     "output_type": "display_data"
    },
    {
     "name": "stdout",
     "output_type": "stream",
     "text": [
      "Weapon\n"
     ]
    },
    {
     "data": {
      "application/vnd.jupyter.widget-view+json": {
       "model_id": "e70597cf6dd04b72ba75668d96307890",
       "version_major": 2,
       "version_minor": 0
      },
      "text/plain": [
       "interactive(children=(RadioButtons(description='source', options=('Merged', 'Not Merged'), value='Merged'), Fl…"
      ]
     },
     "metadata": {},
     "output_type": "display_data"
    },
    {
     "name": "stdout",
     "output_type": "stream",
     "text": [
      "Wheelchair\n"
     ]
    },
    {
     "data": {
      "application/vnd.jupyter.widget-view+json": {
       "model_id": "af3f5538758040148365ac37b4557a49",
       "version_major": 2,
       "version_minor": 0
      },
      "text/plain": [
       "interactive(children=(RadioButtons(description='source', options=('Merged', 'Not Merged'), value='Merged'), Fl…"
      ]
     },
     "metadata": {},
     "output_type": "display_data"
    },
    {
     "name": "stdout",
     "output_type": "stream",
     "text": [
      "Wide-body aircraft\n"
     ]
    },
    {
     "data": {
      "application/vnd.jupyter.widget-view+json": {
       "model_id": "b2a9233efb744372941d8d2d717d0be3",
       "version_major": 2,
       "version_minor": 0
      },
      "text/plain": [
       "interactive(children=(RadioButtons(description='source', options=('Merged', 'Not Merged'), value='Merged'), Fl…"
      ]
     },
     "metadata": {},
     "output_type": "display_data"
    },
    {
     "name": "stdout",
     "output_type": "stream",
     "text": [
      "Woman\n"
     ]
    },
    {
     "data": {
      "application/vnd.jupyter.widget-view+json": {
       "model_id": "defd7185589f45cba210da65974b54d2",
       "version_major": 2,
       "version_minor": 0
      },
      "text/plain": [
       "interactive(children=(RadioButtons(description='source', options=('Merged', 'Not Merged'), value='Merged'), Fl…"
      ]
     },
     "metadata": {},
     "output_type": "display_data"
    },
    {
     "name": "stdout",
     "output_type": "stream",
     "text": [
      "Court\n"
     ]
    },
    {
     "data": {
      "application/vnd.jupyter.widget-view+json": {
       "model_id": "953cfe1397e44251852b74f5ce2c36fe",
       "version_major": 2,
       "version_minor": 0
      },
      "text/plain": [
       "interactive(children=(RadioButtons(description='source', options=('Merged', 'Not Merged'), value='Merged'), Fl…"
      ]
     },
     "metadata": {},
     "output_type": "display_data"
    },
    {
     "name": "stdout",
     "output_type": "stream",
     "text": [
      "Security guard\n"
     ]
    },
    {
     "data": {
      "application/vnd.jupyter.widget-view+json": {
       "model_id": "76f900aaadff4d82bb05aa989aa0448a",
       "version_major": 2,
       "version_minor": 0
      },
      "text/plain": [
       "interactive(children=(RadioButtons(description='source', options=('Merged', 'Not Merged'), value='Merged'), Fl…"
      ]
     },
     "metadata": {},
     "output_type": "display_data"
    },
    {
     "name": "stdout",
     "output_type": "stream",
     "text": [
      "Rescuer\n"
     ]
    },
    {
     "data": {
      "application/vnd.jupyter.widget-view+json": {
       "model_id": "b45c45af546149a1b3163e77e87908da",
       "version_major": 2,
       "version_minor": 0
      },
      "text/plain": [
       "interactive(children=(RadioButtons(description='source', options=('Merged', 'Not Merged'), value='Merged'), Fl…"
      ]
     },
     "metadata": {},
     "output_type": "display_data"
    },
    {
     "name": "stdout",
     "output_type": "stream",
     "text": [
      "Explosive weapon\n"
     ]
    },
    {
     "data": {
      "application/vnd.jupyter.widget-view+json": {
       "model_id": "098003fa96a04ecdaf3b45a5aeb94eca",
       "version_major": 2,
       "version_minor": 0
      },
      "text/plain": [
       "interactive(children=(RadioButtons(description='source', options=('Merged', 'Not Merged'), value='Merged'), Fl…"
      ]
     },
     "metadata": {},
     "output_type": "display_data"
    },
    {
     "name": "stdout",
     "output_type": "stream",
     "text": [
      "Surveillance camera\n"
     ]
    },
    {
     "data": {
      "application/vnd.jupyter.widget-view+json": {
       "model_id": "6622a1ed3a85495d8cf945b369e5ac92",
       "version_major": 2,
       "version_minor": 0
      },
      "text/plain": [
       "interactive(children=(RadioButtons(description='source', options=('Merged', 'Not Merged'), value='Merged'), Fl…"
      ]
     },
     "metadata": {},
     "output_type": "display_data"
    },
    {
     "name": "stdout",
     "output_type": "stream",
     "text": [
      "Bullet\n"
     ]
    },
    {
     "data": {
      "application/vnd.jupyter.widget-view+json": {
       "model_id": "607bb07a2ace46a3874a3dddc53732df",
       "version_major": 2,
       "version_minor": 0
      },
      "text/plain": [
       "interactive(children=(RadioButtons(description='source', options=('Merged', 'Not Merged'), value='Merged'), Fl…"
      ]
     },
     "metadata": {},
     "output_type": "display_data"
    },
    {
     "name": "stdout",
     "output_type": "stream",
     "text": [
      "Trademark\n"
     ]
    },
    {
     "data": {
      "application/vnd.jupyter.widget-view+json": {
       "model_id": "57cee42befba44e88d944f0f21a6231b",
       "version_major": 2,
       "version_minor": 0
      },
      "text/plain": [
       "interactive(children=(RadioButtons(description='source', options=('Merged', 'Not Merged'), value='Merged'), Fl…"
      ]
     },
     "metadata": {},
     "output_type": "display_data"
    },
    {
     "name": "stdout",
     "output_type": "stream",
     "text": [
      "Computer monitor\n"
     ]
    },
    {
     "data": {
      "application/vnd.jupyter.widget-view+json": {
       "model_id": "6a505e35a57848c9827113b63200757a",
       "version_major": 2,
       "version_minor": 0
      },
      "text/plain": [
       "interactive(children=(RadioButtons(description='source', options=('Merged', 'Not Merged'), value='Merged'), Fl…"
      ]
     },
     "metadata": {},
     "output_type": "display_data"
    },
    {
     "name": "stdout",
     "output_type": "stream",
     "text": [
      "Funeral\n"
     ]
    },
    {
     "data": {
      "application/vnd.jupyter.widget-view+json": {
       "model_id": "f8e85da96baa4c7aa18068321e6f178f",
       "version_major": 2,
       "version_minor": 0
      },
      "text/plain": [
       "interactive(children=(RadioButtons(description='source', options=('Merged', 'Not Merged'), value='Merged'), Fl…"
      ]
     },
     "metadata": {},
     "output_type": "display_data"
    },
    {
     "name": "stdout",
     "output_type": "stream",
     "text": [
      "Combat\n"
     ]
    },
    {
     "data": {
      "application/vnd.jupyter.widget-view+json": {
       "model_id": "a3ec97ed7b694aa8a3acbfeb2adaae54",
       "version_major": 2,
       "version_minor": 0
      },
      "text/plain": [
       "interactive(children=(RadioButtons(description='source', options=('Merged', 'Not Merged'), value='Merged'), Fl…"
      ]
     },
     "metadata": {},
     "output_type": "display_data"
    },
    {
     "name": "stdout",
     "output_type": "stream",
     "text": [
      "Convention\n"
     ]
    },
    {
     "data": {
      "application/vnd.jupyter.widget-view+json": {
       "model_id": "a27941f8f0134ac488f7d4cd2a9faa59",
       "version_major": 2,
       "version_minor": 0
      },
      "text/plain": [
       "interactive(children=(RadioButtons(description='source', options=('Merged', 'Not Merged'), value='Merged'), Fl…"
      ]
     },
     "metadata": {},
     "output_type": "display_data"
    },
    {
     "name": "stdout",
     "output_type": "stream",
     "text": [
      "Explosion\n"
     ]
    },
    {
     "data": {
      "application/vnd.jupyter.widget-view+json": {
       "model_id": "e1add3483abb478d952b42d814f59c71",
       "version_major": 2,
       "version_minor": 0
      },
      "text/plain": [
       "interactive(children=(RadioButtons(description='source', options=('Merged', 'Not Merged'), value='Merged'), Fl…"
      ]
     },
     "metadata": {},
     "output_type": "display_data"
    },
    {
     "name": "stdout",
     "output_type": "stream",
     "text": [
      "Festival\n"
     ]
    },
    {
     "data": {
      "application/vnd.jupyter.widget-view+json": {
       "model_id": "05ca9941704e478cbae70bc6d821a7f9",
       "version_major": 2,
       "version_minor": 0
      },
      "text/plain": [
       "interactive(children=(RadioButtons(description='source', options=('Merged', 'Not Merged'), value='Merged'), Fl…"
      ]
     },
     "metadata": {},
     "output_type": "display_data"
    },
    {
     "name": "stdout",
     "output_type": "stream",
     "text": [
      "Fire\n"
     ]
    },
    {
     "data": {
      "application/vnd.jupyter.widget-view+json": {
       "model_id": "3e4de73815eb48eb8656b1f6c1fb4300",
       "version_major": 2,
       "version_minor": 0
      },
      "text/plain": [
       "interactive(children=(RadioButtons(description='source', options=('Merged', 'Not Merged'), value='Merged'), Fl…"
      ]
     },
     "metadata": {},
     "output_type": "display_data"
    },
    {
     "name": "stdout",
     "output_type": "stream",
     "text": [
      "Protest\n"
     ]
    },
    {
     "data": {
      "application/vnd.jupyter.widget-view+json": {
       "model_id": "6845e325f0ab4a7a9cf20d468128ba31",
       "version_major": 2,
       "version_minor": 0
      },
      "text/plain": [
       "interactive(children=(RadioButtons(description='source', options=('Merged', 'Not Merged'), value='Merged'), Fl…"
      ]
     },
     "metadata": {},
     "output_type": "display_data"
    },
    {
     "name": "stdout",
     "output_type": "stream",
     "text": [
      "Riot\n"
     ]
    },
    {
     "data": {
      "application/vnd.jupyter.widget-view+json": {
       "model_id": "ee63c769696e43aca645ad2ec220d975",
       "version_major": 2,
       "version_minor": 0
      },
      "text/plain": [
       "interactive(children=(RadioButtons(description='source', options=('Merged', 'Not Merged'), value='Merged'), Fl…"
      ]
     },
     "metadata": {},
     "output_type": "display_data"
    },
    {
     "name": "stdout",
     "output_type": "stream",
     "text": [
      "Speech\n"
     ]
    },
    {
     "data": {
      "application/vnd.jupyter.widget-view+json": {
       "model_id": "b94e4fc4007d496c980181e354a722db",
       "version_major": 2,
       "version_minor": 0
      },
      "text/plain": [
       "interactive(children=(RadioButtons(description='source', options=('Merged', 'Not Merged'), value='Merged'), Fl…"
      ]
     },
     "metadata": {},
     "output_type": "display_data"
    },
    {
     "name": "stdout",
     "output_type": "stream",
     "text": [
      "Violence\n"
     ]
    },
    {
     "data": {
      "application/vnd.jupyter.widget-view+json": {
       "model_id": "610d9201c67a4f388f84d0a63ffb9f4b",
       "version_major": 2,
       "version_minor": 0
      },
      "text/plain": [
       "interactive(children=(RadioButtons(description='source', options=('Merged', 'Not Merged'), value='Merged'), Fl…"
      ]
     },
     "metadata": {},
     "output_type": "display_data"
    },
    {
     "name": "stdout",
     "output_type": "stream",
     "text": [
      "Meeting\n"
     ]
    },
    {
     "data": {
      "application/vnd.jupyter.widget-view+json": {
       "model_id": "3cefa48cd2534740a045d70146dada67",
       "version_major": 2,
       "version_minor": 0
      },
      "text/plain": [
       "interactive(children=(RadioButtons(description='source', options=('Merged', 'Not Merged'), value='Merged'), Fl…"
      ]
     },
     "metadata": {},
     "output_type": "display_data"
    },
    {
     "name": "stdout",
     "output_type": "stream",
     "text": [
      "Rebellion\n"
     ]
    },
    {
     "data": {
      "application/vnd.jupyter.widget-view+json": {
       "model_id": "eb9c7bbac8bb485e866588c4560e336c",
       "version_major": 2,
       "version_minor": 0
      },
      "text/plain": [
       "interactive(children=(RadioButtons(description='source', options=('Merged', 'Not Merged'), value='Merged'), Fl…"
      ]
     },
     "metadata": {},
     "output_type": "display_data"
    }
   ],
   "source": [
    "for label in select_labels:\n",
    "    if len(label_to_img[label]) == 0:\n",
    "        continue\n",
    "    print(mid2name_all[label])\n",
    "    imgid = np.random.choice(label_to_img[label])\n",
    "    w = interactive(show, \n",
    "        imgid=fixed(imgid),\n",
    "        source=widgets.RadioButtons(options=['Merged', 'Not Merged'], value='Merged'), \n",
    "        thresh=widgets.FloatSlider(min=0.0, max=1.0, step=0.01, value=0.35, continuous_update=False), \n",
    "    )\n",
    "    w.children[-1].layout.height = '600px'\n",
    "    display(w)\n",
    "    "
   ]
  },
  {
   "cell_type": "code",
   "execution_count": null,
   "metadata": {},
   "outputs": [],
   "source": []
  },
  {
   "cell_type": "code",
   "execution_count": null,
   "metadata": {},
   "outputs": [],
   "source": []
  },
  {
   "cell_type": "code",
   "execution_count": null,
   "metadata": {},
   "outputs": [],
   "source": []
  },
  {
   "cell_type": "code",
   "execution_count": null,
   "metadata": {},
   "outputs": [],
   "source": []
  }
 ],
 "metadata": {
  "kernelspec": {
   "display_name": "Py3 w/ Tensorflow",
   "language": "python",
   "name": "py3tf"
  },
  "language_info": {
   "codemirror_mode": {
    "name": "ipython",
    "version": 3
   },
   "file_extension": ".py",
   "mimetype": "text/x-python",
   "name": "python",
   "nbconvert_exporter": "python",
   "pygments_lexer": "ipython3",
   "version": "3.6.5"
  }
 },
 "nbformat": 4,
 "nbformat_minor": 2
}
