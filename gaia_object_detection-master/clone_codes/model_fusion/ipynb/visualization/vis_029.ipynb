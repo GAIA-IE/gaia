{
 "cells": [
  {
   "cell_type": "code",
   "execution_count": 22,
   "metadata": {},
   "outputs": [],
   "source": [
    "import os\n",
    "import sys\n",
    "import pickle\n",
    "import csv\n",
    "import copy\n",
    "\n",
    "import numpy as np\n",
    "import cv2\n",
    "import matplotlib.pyplot as plt\n",
    "%matplotlib notebook \n",
    "%matplotlib notebook\n",
    "%matplotlib notebook"
   ]
  },
  {
   "cell_type": "code",
   "execution_count": 2,
   "metadata": {},
   "outputs": [],
   "source": [
    "from ipywidgets import interact, interactive, fixed, interact_manual\n",
    "import ipywidgets as widgets"
   ]
  },
  {
   "cell_type": "code",
   "execution_count": 3,
   "metadata": {},
   "outputs": [],
   "source": [
    "sys.path.append(\"../../../tfobjdetect/lib\")\n",
    "from object_detection.utils import label_map_util\n",
    "from object_detection.utils import visualization_utils as vis_util"
   ]
  },
  {
   "cell_type": "markdown",
   "metadata": {},
   "source": [
    "## Loading and preparing label maps"
   ]
  },
  {
   "cell_type": "code",
   "execution_count": 4,
   "metadata": {},
   "outputs": [],
   "source": [
    "with open('../../../wsod/metadata/ont_m18/class_names_all.pkl', 'rb') as fin:\n",
    "    mid2name_all = pickle.load(fin)"
   ]
  },
  {
   "cell_type": "code",
   "execution_count": 5,
   "metadata": {},
   "outputs": [],
   "source": [
    "#with open('../../../wsod/metadata/ont_m18/class_names_all.csv', 'w') as fout:\n",
    "#    for key, val in mid2name_all.items():\n",
    "#        fout.write(f'{key},\"{val}\"\\n')"
   ]
  },
  {
   "cell_type": "code",
   "execution_count": 6,
   "metadata": {},
   "outputs": [],
   "source": [
    "with open('../../results/det_results_concat_34b.pkl', 'rb') as fin:\n",
    "    det_results_concat = pickle.load(fin)"
   ]
  },
  {
   "cell_type": "code",
   "execution_count": 7,
   "metadata": {},
   "outputs": [],
   "source": [
    "with open('../../results/det_results_merged_34b.pkl', 'rb') as fin:\n",
    "    det_results_merged = pickle.load(fin)"
   ]
  },
  {
   "cell_type": "code",
   "execution_count": null,
   "metadata": {},
   "outputs": [],
   "source": []
  },
  {
   "cell_type": "markdown",
   "metadata": {},
   "source": [
    "## Choosing examples for each class to visualize"
   ]
  },
  {
   "cell_type": "code",
   "execution_count": 8,
   "metadata": {},
   "outputs": [],
   "source": [
    "label_to_img = {key: [] for key in mid2name_all}\n",
    "for key, val in det_results_merged.items():\n",
    "    for det in val:\n",
    "        if det['score'] >= 0.1:\n",
    "            label_to_img[det['label']].append(key)"
   ]
  },
  {
   "cell_type": "code",
   "execution_count": 9,
   "metadata": {},
   "outputs": [],
   "source": [
    "all_labels = list(label_to_img.keys())"
   ]
  },
  {
   "cell_type": "code",
   "execution_count": 10,
   "metadata": {},
   "outputs": [],
   "source": [
    "sort_idx = np.argsort([-len(label_to_img[label]) for label in all_labels])"
   ]
  },
  {
   "cell_type": "code",
   "execution_count": 11,
   "metadata": {
    "collapsed": true,
    "jupyter": {
     "outputs_hidden": true
    }
   },
   "outputs": [
    {
     "name": "stdout",
     "output_type": "stream",
     "text": [
      "/m/01g317 PER (Person) 67828\n",
      "/m/04yx4 PER (Man) 14395\n",
      "/m/0k4j VEH.WheeledVehicle.Car (Car) 8318\n",
      "/m/04hgtk PER (Human_head) 5051\n",
      "/m/0bs7_0t COM (Electronic_device) 4843\n",
      "/m/03jm5 FAC.Building.House (House) 3806\n",
      "/m/0hf58v5 COM (Luggage_and_bags) 3519\n",
      "/m/03bt1vf PER (Woman) 3290\n",
      "/m/07yv9 VEH (Vehicle) 2098\n",
      "/m/07k1x COM.Equipment (Tool) 1626\n",
      "/m/03120 COM.Flag.Flag (Flag) 1075\n",
      "/m/019jd VEH.Watercraft.Boat (Boat) 1048\n",
      "/m/07r04 VEH.WheeledVehicle.Truck (Truck) 995\n",
      "/m/07cx4 COM (Telephone) 987\n",
      "/m/021sj1 FAC.Building.OfficeBuilding (Office_building) 917\n",
      "/m/0cmf2 VEH.Aircraft.Airplane (Airplane) 672\n",
      "/m/01prls VEH.WheeledVehicle (Land_vehicle) 616\n",
      "/m/0cgh4 FAC.Building (Building) 453\n",
      "/m/07cmd VEH.MilitaryVehicle.Tank (Tank) 453\n",
      "/m/02p0zyj Conflict.Attack (Riot) 402\n",
      "/m/01bjv VEH.WheeledVehicle.Bus (Bus) 336\n",
      "/m/01bl7v PER (Boy) 315\n",
      "/m/0199g VEH.WheeledVehicle (Bicycle) 306\n",
      "/m/07jdr VEH.WheeledVehicle.Train (Train) 303\n",
      "/m/01fdzj FAC.Structure.Tower (Tower) 293\n",
      "/m/05r655 PER (Girl) 225\n",
      "/m/02_41 Disaster.FireExplosion.FireExplosion (Fire) 213\n",
      "/m/04_sv VEH.WheeledVehicle (Motorcycle) 187\n",
      "/m/06c54 WEA.Gun.Firearm (Rifle) 180\n",
      "/m/039l3v FAC.Building (Auditorium) 149\n",
      "/m/06q40 Disaster.FireExplosion.FireExplosion (Smoke) 129\n",
      "/m/0chbx Conflict.Attack (Violence) 124\n",
      "/m/014zdl Disaster.FireExplosion.FireExplosion (Explosion) 122\n",
      "/m/09ct_ VEH.Aircraft.Helicopter (Helicopter) 106\n",
      "/m/092x18 Justice.InitiateJudicialProcess.TrialHearing (Trial) 104\n",
      "/m/0728h WEA.Gun.Artillery (Self-propelled_artillery) 103\n",
      "/m/012n4x PER.ProfessionalPosition.Firefighter (Firefighter) 100\n",
      "/m/0hg7b COM.Equipment (Microphone) 94\n",
      "/m/06msq COM (Sculpture) 88\n",
      "/m/03qtwd PER (Crowd) 87\n",
      "/m/01xgg_ COM.Equipment.MedicalEquipment (Medical_equipment) 65\n",
      "/m/05ws7 PER.Police (Police) 59\n",
      "/m/01knjb COM (Billboard) 56\n",
      "/m/06q2q PER.ProfessionalPosition.Scientist (Scientist) 48\n",
      "/m/01j61q FAC (Tent) 46\n",
      "/m/06q74 VEH.Watercraft (Ship) 38\n",
      "/m/015bv3 COM.Document (Document) 38\n",
      "/m/0crjs FAC.Building.StoreShop (Convenience_store) 35\n",
      "/m/0hltv PER.ProfessionalPosition (Pilot) 32\n",
      "/m/01h6cb Contact.Discussion.Meet (Meeting) 31\n",
      "/m/0pg52 VEH.WheeledVehicle.Car (Taxi) 30\n",
      "/m/01nd_n Conflict.Demonstrate.MarchProtestPoliticalGathering (Protest) 29\n",
      "/m/01klb9 FAC.Structure.Plaza (Plaza) 29\n",
      "/m/026yq0z Conflict.Demonstrate (Demonstration) 28\n",
      "/m/04_tb COM.Document.Map (Map) 27\n",
      "/m/02k88w Conflict.Attack (Rebellion) 27\n",
      "/m/02p0tk3 PER (Human_body) 26\n",
      "/m/027cnw2 PER.ProfessionalPosition.Minister (Minister) 26\n",
      "/m/03w1r4 ORG.MilitaryOrganization.GovernmentArmedForces (Military_uniform) 26\n",
      "/m/0168g6 FAC.Installation (Factory) 23\n",
      "/m/025s8bs FAC.Building.StoreShop (Shopping_mall) 22\n",
      "/m/02q60ls FAC.Building (Conference_hall) 21\n",
      "/m/0blz9 FAC.Structure (Fence) 21\n",
      "/m/02nvjx FAC (Place_of_worship) 20\n",
      "/m/0g_k0 Manufacture.Artifact.CreateManufacture (Mass_production) 20\n",
      "/m/0k5j VEH.Aircraft (Aircraft) 20\n",
      "/m/06zdj FAC.Building.School (School) 20\n",
      "/m/0583b1 FAC.Structure.Barricade (Barricade) 18\n",
      "/m/03hfwtf VEH.MilitaryVehicle.MilitaryTransportAircraft (Military_transport_aircraft) 18\n",
      "/m/01nblt FAC.Building.ApartmentBuilding (Apartment) 17\n",
      "/m/013m1 ORG.MilitaryOrganization.GovernmentArmedForces (Air_force) 17\n",
      "/m/083kb WEA (Weapon) 17\n",
      "/m/0cz_0 FAC.Way.Highway (Highway) 17\n",
      "/m/02_g0 Contact.FuneralVigil.Meet (Funeral) 17\n",
      "/m/05dlb ORG.MilitaryOrganization.GovernmentArmedForces (Navy) 16\n",
      "/m/01_v7j COM.Document.PersonalIdentification (Identity_document) 16\n",
      "/m/0cfs8 FAC.Building (Cathedral) 16\n",
      "/m/01wb7 FAC.Building (Church) 15\n",
      "/m/025syph PER.MilitaryPersonnel (map to OWG = Serviceman) (Fighter_pilot) 15\n",
      "/m/0k05r ORG.PoliticalOrganization.Court (Court) 15\n",
      "/m/0g02q ORG.PoliticalOrganization.Court (Courthouse) 15\n",
      "/m/09g5pq PER (People) 13\n",
      "/m/0d8qb PER.ProfessionalPosition.Journalist (Journalist) 12\n",
      "/m/0cyfs COM.Equipment (Parachute) 12\n",
      "/m/04h7h FAC.Structure (Lighthouse) 11\n",
      "/m/074d1 VEH.Watercraft (Submarine) 11\n",
      "/m/01c8br FAC.Way.Street (Street) 11\n",
      "/m/070qm Movement.TransportArtifact.BringCarryUnload (Freight_transport) 10\n",
      "/m/012qdp PER.MilitaryPersonnel (map to OWG = Serviceman).MilitaryOfficer (Military_officer) 9\n",
      "/m/0jb3 WEA.Gun.Firearm (Assault_rifle) 9\n",
      "/m/06gfj FAC.Way (Road) 9\n",
      "/m/01rzcn VEH.Watercraft (Watercraft) 8\n",
      "/m/01x3jk VEH (Snowmobile) 8\n",
      "/m/0brn2d LOC.Position.Field (Field) 7\n",
      "/m/01vzwd WEA.Cannon.Cannon (Mortar) 7\n",
      "/m/015kr FAC.Structure.Bridge (Bridge) 7\n",
      "/m/01n32 GPE.UrbanArea.City (City) 7\n",
      "/m/09rvcxw VEH.Rocket.Rocket (Rocket) 7\n",
      "/m/0byj4 Conflict.Attack.SelfDirectedBattle (Combat) 7\n",
      "/m/04ylt WEA.MissileSystem.Missile (Missile) 7\n",
      "/m/0ct4f WEA.Bomb (Bomb) 6\n",
      "/m/04zjc WEA.Gun.Firearm (Machine_gun) 6\n",
      "/m/020kz WEA.Cannon.Cannon (Cannon) 6\n",
      "/m/0jzbb PER.ProfessionalPosition.Paramedic (Paramedic) 5\n",
      "/m/034qg WEA.Gun.Firearm (Firearm) 5\n",
      "/m/0bh6t6c PER.ProfessionalPosition (Rescuer) 5\n",
      "/m/09cjl FAC.Installation.Airport (Airport) 5\n",
      "/m/0f0q9 GPE.UrbanArea.Village (Village) 5\n",
      "/m/0g54v5d VEH.MilitaryVehicle (Military_vehicle) 4\n",
      "/m/06wwc COM.Equipment.Satellite (Satellite) 4\n",
      "/m/06zs7 PER.Combatant.Sniper (Sniper) 4\n",
      "/m/09bgkl FAC.Building.StoreShop (Outlet_store) 3\n",
      "/m/071rm Conflict.Attack.FirearmAttack (Shooting) 3\n",
      "/m/079cl FAC.Building (Skyscraper) 3\n",
      "/m/01lcw4 VEH.WheeledVehicle (Limousine) 3\n",
      "/m/077hhl VEH.Aircraft.CargoAircraft (Cargo_aircraft) 3\n",
      "/m/01_p8q Movement.TransportPerson.EvacuationRescue (Rescue) 3\n",
      "/m/08qrwn LOC.Land (Rubble) 2\n",
      "/m/09g5h VEH (Spacecraft) 2\n",
      "/m/0h2r6 VEH.WheeledVehicle (Van) 2\n",
      "/m/02q5pxq VEH.Aircraft (Aircraft_cabin) 2\n",
      "/m/012ndj VEH.WheeledVehicle.FireApparatus (Fire_apparatus) 2\n",
      "/m/04qvtq VEH.WheeledVehicle.Car (Police_car) 2\n",
      "/m/03j1ly VEH (Emergency_vehicle) 2\n",
      "/m/0275lwb VEH.MilitaryVehicle (Military_helicopter) 2\n",
      "/m/0py27 FAC.Installation.TrainStation (Train_station) 2\n",
      "/m/0dhz0 VEH.Aircraft.Airplane (Airliner) 2\n",
      "/m/02bb1s WEA.Gun.Firearm (Sniper_rifle) 1\n",
      "/m/0d5gx FAC.Building (Castle) 1\n",
      "/m/01jnzj Manufacture.Artifact.Build (Construction) 1\n",
      "/m/0gvss07 VEH.MilitaryVehicle (Combat_vehicle) 1\n",
      "/m/05t_pq WEA.Gun (Gun_turret) 1\n",
      "/m/06nrc WEA.Gun.Firearm (Shotgun) 1\n",
      "syn_007 FAC (Cemetery) 0\n",
      "syn_021 VEH.MilitaryVehicle.MilitaryBoat (Aircraft_carrier) 0\n",
      "syn_020 VEH.MilitaryVehicle.MilitaryBoat (Missile_boat) 0\n",
      "syn_019 Movement.TransportPerson (Transport) 0\n",
      "syn_024 MON.Cash.Cash (Money) 0\n",
      "syn_008 WEA.DaggerKnifeSword.Hatchet (Hatchet) 0\n",
      "syn_001 PER.ProfessionalPosition.Spokesperson (Orator) 0\n",
      "/m/06dq9 COM.Equipment (Radar) 0\n",
      "syn_012 Movement.TransportPerson.EvacuationRescue (Emergency_service) 0\n",
      "/m/0191hp VEH.Watercraft (Oil_tanker) 0\n",
      "syn_014 ORG.MilitaryOrganization.GovernmentArmedForces (Military_camouflage) 0\n",
      "/m/06fk8 WEA.Gun.Firearm (Revolver) 0\n",
      "syn_013 Disaster.AccidentCrash.AccidentCrash (Accident) 0\n",
      "/m/0g2bc VEH.Aircraft (Drone) 0\n",
      "/m/06d_3 FAC.Way (Railway) 0\n",
      "syn_018 Contact.PublicStatementInPerson.Broadcast (Public_speaking) 0\n",
      "/m/039jbq GPE.UrbanArea (Urban_area) 0\n",
      "syn_015 PER.Police (Security_guard) 0\n",
      "syn_017 WEA.Bullets (Bullet) 0\n",
      "/m/065zvy FAC.Building.StoreShop (Liquor_store) 0\n",
      "/m/09l35 VEH (Space_shuttle) 0\n",
      "syn_003 PER.MilitaryPersonnel (map to OWG = Serviceman) (Military_person) 0\n",
      "syn_009 VEH.Aircraft (Aircraft_engine) 0\n",
      "/m/02gx17 COM.Equipment (Construction_equipment) 0\n",
      "syn_011 ORG (Logo) 0\n",
      "syn_023 VEH.MilitaryVehicle.FighterAircraft (Fighter_aircraft) 0\n",
      "syn_016 Conflict.Attack.SelfDirectedBattle (Battle) 0\n",
      "syn_005 Movement.TransportPerson.SelfMotion (General_aviation) 0\n",
      "/m/032rk WEA.Gun (Gun) 0\n",
      "syn_006 WEA.DaggerKnifeSword (Knife) 0\n",
      "syn_004 ORG.MilitaryOrganization.GovernmentArmedForces (Infantry) 0\n",
      "syn_002 VEH.MilitaryVehicle (Armored_car) 0\n",
      "syn_010 COM (Badge) 0\n",
      "/m/065zrn9 WEA (Explosive_weapon) 0\n",
      "/m/01c648 COM (Electronic_device.Laptop) 0\n",
      "/m/08854 VEH.Watercraft.Yacht (Yacht) 0\n",
      "/m/04yqq2 COM (Sculpture.Bust) 0\n",
      "/m/03txqz COM.Equipment (Tool.Scale) 0\n",
      "/m/01yx86 COM (Sculpture.Bronze_sculpture) 0\n",
      "/m/012n7d VEH.WheeledVehicle (Ambulance) 0\n",
      "/m/0152hh COM (Sculpture.Snowman) 0\n",
      "/m/0bjyj5 COM.Equipment (Tool.Container.Waste_container) 0\n",
      "/m/073bxn COM.Equipment (Tool.Tripod) 0\n",
      "/m/0hdln COM.Equipment (Tool.Ruler) 0\n",
      "/m/08hvt4 COM.Equipment (Tool.Container.Jug) 0\n",
      "/m/0mcx2 COM (Electronic_device.Ipod) 0\n",
      "/m/02lbcq COM.Equipment.MedicalEquipment (Stretcher) 0\n",
      "/m/0lt4_ COM.Equipment (Binoculars) 0\n",
      "/m/0ph39 VEH.Watercraft.Boat (Boat.Canoe) 0\n",
      "/m/02zn6n COM.Equipment (Tool.Container.Barrel) 0\n",
      "/m/02522 COM (Electronic_device.Computer_monitor) 0\n",
      "/m/0f6nr VEH.WheeledVehicle (Land_vehicle.Unicycle) 0\n",
      "/m/0h8lkj8 COM (Telephone.Corded_phone) 0\n",
      "/m/020lf COM (Electronic_device.Mouse) 0\n",
      "/m/01940j COM (Luggage_and_bags.Backpack) 0\n",
      "/m/01m2v COM (Electronic_device.Computer_keyboard) 0\n",
      "/m/080hkjn COM (Luggage_and_bags.Handbag) 0\n",
      "/m/050k8 COM (Telephone.Mobile_phone) 0\n",
      "/m/0qjjc COM (Electronic_device.Remote_control) 0\n",
      "/m/01s55n COM (Luggage_and_bags.Suitcase) 0\n",
      "/m/04dr76w COM.Equipment (Tool.Container.Bottle) 0\n",
      "/m/01lsmm COM.Equipment (Tool.Scissors) 0\n",
      "/m/04ctx WEA.DaggerKnifeSword (Knife) 0\n",
      "/m/07c52 COM (Electronic_device.Television) 0\n",
      "/m/012ysf COM.Equipment.MedicalEquipment (Medical_equipment.Syringe) 0\n",
      "/m/076bq VEH.WheeledVehicle (Land_vehicle.Segway) 0\n",
      "/m/01m4t COM (Electronic_device.Printer) 0\n",
      "/m/02jnhm COM.Equipment (Tool.Container.Tin_can) 0\n",
      "/m/01jpn4 FAC.Building.StoreShop (Grocery_store) 0\n",
      "/m/038t8_ FAC.Building (Estate) 0\n",
      "/m/03htg FAC (Harbor) 0\n",
      "syn_022 VEH.Watercraft (Cargo_ship) 0\n",
      "/m/01phq4 FAC (Pier) 0\n",
      "/m/012w5l COM.Equipment (Tool.Ladder) 0\n",
      "/m/0dv5r COM.Equipment (Tool.Camera) 0\n",
      "/m/018p4k VEH.WheeledVehicle (Land_vehicle.Cart) 0\n",
      "/m/01xs3r VEH.Watercraft (Jet_ski) 0\n",
      "/m/04vv5k COM.Equipment (Tool.Snowplow) 0\n",
      "/m/03bbps COM (Electronic_device.Power_plugs_and_sockets) 0\n",
      "/m/0323sq VEH.WheeledVehicle (Land_vehicle.Golf_cart) 0\n",
      "/m/01j4z9 COM.Equipment (Tool.Chainsaw) 0\n",
      "/m/01kb5b COM.Equipment (Tool.Flashlight) 0\n",
      "/m/02wg_p FAC.Building (Building.Tree_house) 0\n",
      "/m/01b7fy COM (Electronic_device.Headphones) 0\n",
      "/m/02068x VEH.Watercraft.Boat (Boat.Gondola) 0\n",
      "/m/02gzp WEA.DaggerKnifeSword (Knife) 0\n",
      "/m/01d380 COM.Equipment (Tool.Drill) 0\n",
      "/m/03jbxj COM (Electronic_device.Light_switch) 0\n",
      "/m/0gxl3 WEA.Gun.Firearm (Handgun) 0\n",
      "/m/057cc COM (Electronic_device.Musical_keyboard) 0\n",
      "/m/06y5r WEA.DaggerKnifeSword (Knife) 0\n",
      "/m/07kng9 COM.Equipment (Tool.Container.Picnic_basket) 0\n",
      "/m/01btn VEH.Watercraft (Barge) 0\n",
      "/m/0fm3zh COM.Equipment (Tool.Container.Flowerpot) 0\n",
      "/m/073g6 COM.Equipment.MedicalEquipment (Medical_equipment.Stethoscope) 0\n",
      "/m/0584n8 COM (Luggage_and_bags.Briefcase) 0\n",
      "/m/0bh9flk COM (Electronic_device.Tablet_computer) 0\n",
      "/m/0f5lx VEH.MilitaryVehicle (Military_aircraft) 0\n",
      "/m/011q46kg COM.Equipment (Tool.Container) 0\n"
     ]
    }
   ],
   "source": [
    "for i in sort_idx:\n",
    "    print(all_labels[i], mid2name_all[all_labels[i]], len(label_to_img[all_labels[i]]))"
   ]
  },
  {
   "cell_type": "code",
   "execution_count": 12,
   "metadata": {},
   "outputs": [],
   "source": [
    "select_labels = []\n",
    "for l in all_labels:\n",
    "    if mid2name_all[l].startswith('WEA'):\n",
    "        select_labels.append(l)"
   ]
  },
  {
   "cell_type": "code",
   "execution_count": 13,
   "metadata": {},
   "outputs": [
    {
     "data": {
      "text/plain": [
       "['/m/04ctx',\n",
       " '/m/083kb',\n",
       " '/m/04ylt',\n",
       " '/m/06nrc',\n",
       " '/m/06y5r',\n",
       " '/m/0gxl3',\n",
       " '/m/02gzp',\n",
       " '/m/020kz',\n",
       " '/m/06c54',\n",
       " '/m/0jb3',\n",
       " '/m/01vzwd',\n",
       " '/m/034qg',\n",
       " '/m/04zjc',\n",
       " '/m/02bb1s',\n",
       " '/m/065zrn9',\n",
       " '/m/032rk',\n",
       " '/m/0728h',\n",
       " '/m/0ct4f',\n",
       " '/m/05t_pq',\n",
       " '/m/06fk8',\n",
       " 'syn_006',\n",
       " 'syn_008',\n",
       " 'syn_017']"
      ]
     },
     "execution_count": 13,
     "metadata": {},
     "output_type": "execute_result"
    }
   ],
   "source": [
    "select_labels"
   ]
  },
  {
   "cell_type": "code",
   "execution_count": 14,
   "metadata": {},
   "outputs": [],
   "source": [
    "#select_labels = ['/m/01fnck', '/m/019jd', '/m/03120', '/m/02_41', '/m/07cmd', '/m/06q40', '/m/03qtwd', '/m/09x0r', '/m/01xgg_', '/m/08qrwn', '/m/012n4x', '/m/02p16m6', '/m/02lbcq', '/m/09ct_', '/m/0g54v5d', '/m/0bg2p', '/m/0ct4f', '/m/01nd_n', '/m/09rvcxw', '/m/01nl4x', '/m/04ctx', '/m/04ylt', '/m/0gvss07', '/m/01rzcn', '/m/06nrc', '/m/0cyfs', '/m/0f5lx', '/m/04zjc', '/m/0dhz0', '/m/01lcw4', '/m/03htg', '/m/0gxl3', '/m/01bq8v', '/m/0lt4_', '/m/02gzp', '/m/02yjc', '/m/012n7d', '/m/0jb3', '/m/0dwx7']\n",
    "select_labels = [all_labels[i] for i in sort_idx]"
   ]
  },
  {
   "cell_type": "code",
   "execution_count": null,
   "metadata": {},
   "outputs": [],
   "source": []
  },
  {
   "cell_type": "markdown",
   "metadata": {},
   "source": [
    "## Visualizing Results"
   ]
  },
  {
   "cell_type": "code",
   "execution_count": 15,
   "metadata": {},
   "outputs": [],
   "source": [
    "mid2name_extended = {}\n",
    "extended_classes = set()\n",
    "for key in all_labels:\n",
    "    for model, abv in [('coco', 'CO'), ('oi', 'OI'), ('ws', 'WS'), ('voc','PA'), ('coco/J', 'CO/J'), ('oi/J', 'OI/J'), ('ws/J', 'WS/J'), ('voc/J','PA/J')]:\n",
    "        extended_classes.add(key + '/' + model)\n",
    "        mid2name_extended[key + '/' + model] = mid2name_all[key] + f' ({abv})'\n",
    "extended_classes = list(extended_classes)\n",
    "mid2idx_extended = {}\n",
    "for i, key in enumerate(extended_classes):\n",
    "    mid2idx_extended[key] = i\n",
    "category_index_extended = {mid2idx_extended[key]:{'id': mid2idx_extended[key], 'name': mid2name_extended[key]} for key in mid2name_extended}"
   ]
  },
  {
   "cell_type": "code",
   "execution_count": null,
   "metadata": {},
   "outputs": [],
   "source": []
  },
  {
   "cell_type": "code",
   "execution_count": 16,
   "metadata": {},
   "outputs": [],
   "source": [
    "def preproc(im):\n",
    "    target_size = 400\n",
    "    max_size = 1024\n",
    "    im_size_min = np.min(im.shape[0:2])\n",
    "    im_size_max = np.max(im.shape[0:2])\n",
    "    im_scale = float(target_size) / float(im_size_min)\n",
    "    # Prevent the biggest axis from being more than MAX_SIZE\n",
    "    if np.round(im_scale * im_size_max) > max_size:\n",
    "        im_scale = float(max_size) / float(im_size_max)\n",
    "    im = cv2.resize(im, None, None, fx=im_scale, fy=im_scale,\n",
    "                    interpolation=cv2.INTER_LINEAR)    \n",
    "    return im"
   ]
  },
  {
   "cell_type": "code",
   "execution_count": null,
   "metadata": {},
   "outputs": [],
   "source": []
  },
  {
   "cell_type": "code",
   "execution_count": 17,
   "metadata": {},
   "outputs": [],
   "source": [
    "result_dict = {\n",
    "    'Concatenated': det_results_concat,\n",
    "    'Merged': det_results_merged,\n",
    "}"
   ]
  },
  {
   "cell_type": "code",
   "execution_count": 18,
   "metadata": {},
   "outputs": [],
   "source": [
    "with open('../../../../data/eval_m18/kf_id2path.pkl', 'rb') as fin:\n",
    "    kf_id_to_img_path = pickle.load(fin)"
   ]
  },
  {
   "cell_type": "code",
   "execution_count": 19,
   "metadata": {},
   "outputs": [],
   "source": [
    "model_abv_dict = {\n",
    "    'coco': 'CO',\n",
    "    'voc': 'PA',\n",
    "    'oi': 'OI',\n",
    "    'ws': 'WS',\n",
    "    'coco/J': 'CO/J',\n",
    "    'voc/J': 'PA/J',\n",
    "    'oi/J': 'OI/J',\n",
    "    'ws/J': 'WS/J',\n",
    "}"
   ]
  },
  {
   "cell_type": "code",
   "execution_count": 20,
   "metadata": {},
   "outputs": [],
   "source": [
    "def show(imgid, source, thresh):\n",
    "    filename = kf_id_to_img_path[imgid]\n",
    "    print(imgid)\n",
    "    with open(filename, 'rb') as fin:\n",
    "        if filename.endswith('.ldcc'):\n",
    "            _ = fin.read(1024)\n",
    "        imgbin = fin.read()\n",
    "    imgbgr = cv2.imdecode(np.fromstring(imgbin, dtype='uint8'), cv2.IMREAD_COLOR)\n",
    "    image_np = imgbgr[:,:,[2,1,0]]\n",
    "    image_np = preproc(image_np)\n",
    "    \n",
    "    detections = result_dict[source][imgid]\n",
    "    boxes = np.asarray([det['bbox_normalized'] for det in detections])[:,[1,0,3,2]]\n",
    "    scores = [det['score'] for det in detections]\n",
    "    label_idx = [mid2idx_extended[det['label'] + '/' + det['model']] for det in detections]\n",
    "    \n",
    "    # print([(mid2name_extended[extended_classes[item]], boxes[i]) for i, item in enumerate(label_idx) if scores[i] > thresh])\n",
    "    \n",
    "    vis_util.visualize_boxes_and_labels_on_image_array(\n",
    "      image_np,\n",
    "      boxes,\n",
    "      label_idx,\n",
    "      scores,\n",
    "      category_index_extended,\n",
    "      use_normalized_coordinates=True,\n",
    "      min_score_thresh=thresh-0.001,\n",
    "      max_boxes_to_draw=1000,\n",
    "      line_thickness=2)\n",
    "    plt.figure(figsize=(12, 8))\n",
    "    plt.imshow(image_np)\n",
    "    plt.axis('off')\n",
    "    plt.show()    "
   ]
  },
  {
   "cell_type": "code",
   "execution_count": null,
   "metadata": {},
   "outputs": [],
   "source": []
  },
  {
   "cell_type": "code",
   "execution_count": 23,
   "metadata": {},
   "outputs": [
    {
     "name": "stdout",
     "output_type": "stream",
     "text": [
      "PER (Person)\n",
      "HC00029AA_855\n"
     ]
    },
    {
     "data": {
      "application/vnd.jupyter.widget-view+json": {
       "model_id": "0562b2e176cc4ee986ffbd0a75ccc8a8",
       "version_major": 2,
       "version_minor": 0
      },
      "text/plain": [
       "interactive(children=(RadioButtons(description='source', index=1, options=('Concatenated', 'Merged'), value='M…"
      ]
     },
     "metadata": {},
     "output_type": "display_data"
    },
    {
     "name": "stdout",
     "output_type": "stream",
     "text": [
      "PER (Man)\n",
      "HC000TL2I_24\n"
     ]
    },
    {
     "data": {
      "application/vnd.jupyter.widget-view+json": {
       "model_id": "cab95c18f13d4fdb8fc5082d44bdb775",
       "version_major": 2,
       "version_minor": 0
      },
      "text/plain": [
       "interactive(children=(RadioButtons(description='source', index=1, options=('Concatenated', 'Merged'), value='M…"
      ]
     },
     "metadata": {},
     "output_type": "display_data"
    },
    {
     "name": "stdout",
     "output_type": "stream",
     "text": [
      "VEH.WheeledVehicle.Car (Car)\n",
      "IC0019N35_150\n"
     ]
    },
    {
     "data": {
      "application/vnd.jupyter.widget-view+json": {
       "model_id": "ca2b6a7d23bf47c880865c84461f6184",
       "version_major": 2,
       "version_minor": 0
      },
      "text/plain": [
       "interactive(children=(RadioButtons(description='source', index=1, options=('Concatenated', 'Merged'), value='M…"
      ]
     },
     "metadata": {},
     "output_type": "display_data"
    },
    {
     "name": "stdout",
     "output_type": "stream",
     "text": [
      "PER (Human_head)\n",
      "IC0019MVQ_207\n"
     ]
    },
    {
     "data": {
      "application/vnd.jupyter.widget-view+json": {
       "model_id": "34b6a4aafe1d4164b3c00f426c3210e0",
       "version_major": 2,
       "version_minor": 0
      },
      "text/plain": [
       "interactive(children=(RadioButtons(description='source', index=1, options=('Concatenated', 'Merged'), value='M…"
      ]
     },
     "metadata": {},
     "output_type": "display_data"
    },
    {
     "name": "stdout",
     "output_type": "stream",
     "text": [
      "COM (Electronic_device)\n",
      "IC001L3U3_926\n"
     ]
    },
    {
     "data": {
      "application/vnd.jupyter.widget-view+json": {
       "model_id": "94181f0595a94b6ba6088ccabbab0b76",
       "version_major": 2,
       "version_minor": 0
      },
      "text/plain": [
       "interactive(children=(RadioButtons(description='source', index=1, options=('Concatenated', 'Merged'), value='M…"
      ]
     },
     "metadata": {},
     "output_type": "display_data"
    },
    {
     "name": "stdout",
     "output_type": "stream",
     "text": [
      "FAC.Building.House (House)\n",
      "IC001L3AF_672\n"
     ]
    },
    {
     "data": {
      "application/vnd.jupyter.widget-view+json": {
       "model_id": "fdb32450864f452e8f96cc8c497c24ec",
       "version_major": 2,
       "version_minor": 0
      },
      "text/plain": [
       "interactive(children=(RadioButtons(description='source', index=1, options=('Concatenated', 'Merged'), value='M…"
      ]
     },
     "metadata": {},
     "output_type": "display_data"
    },
    {
     "name": "stdout",
     "output_type": "stream",
     "text": [
      "COM (Luggage_and_bags)\n",
      "IC0019N0X_151\n"
     ]
    },
    {
     "data": {
      "application/vnd.jupyter.widget-view+json": {
       "model_id": "41a1cc23e60346d58ad7cc975f081819",
       "version_major": 2,
       "version_minor": 0
      },
      "text/plain": [
       "interactive(children=(RadioButtons(description='source', index=1, options=('Concatenated', 'Merged'), value='M…"
      ]
     },
     "metadata": {},
     "output_type": "display_data"
    },
    {
     "name": "stdout",
     "output_type": "stream",
     "text": [
      "PER (Woman)\n",
      "IC0019MVQ_832\n"
     ]
    },
    {
     "data": {
      "application/vnd.jupyter.widget-view+json": {
       "model_id": "1e0e810bb2f7425aaf7a81696a3edf30",
       "version_major": 2,
       "version_minor": 0
      },
      "text/plain": [
       "interactive(children=(RadioButtons(description='source', index=1, options=('Concatenated', 'Merged'), value='M…"
      ]
     },
     "metadata": {},
     "output_type": "display_data"
    },
    {
     "name": "stdout",
     "output_type": "stream",
     "text": [
      "VEH (Vehicle)\n",
      "IC001L3AF_847\n"
     ]
    },
    {
     "data": {
      "application/vnd.jupyter.widget-view+json": {
       "model_id": "db8062a48a554581ad0c402956d7da39",
       "version_major": 2,
       "version_minor": 0
      },
      "text/plain": [
       "interactive(children=(RadioButtons(description='source', index=1, options=('Concatenated', 'Merged'), value='M…"
      ]
     },
     "metadata": {},
     "output_type": "display_data"
    },
    {
     "name": "stdout",
     "output_type": "stream",
     "text": [
      "COM.Equipment (Tool)\n",
      "IC0019N2P_80\n"
     ]
    },
    {
     "data": {
      "application/vnd.jupyter.widget-view+json": {
       "model_id": "bb58bf891e824bf795a15f021b231728",
       "version_major": 2,
       "version_minor": 0
      },
      "text/plain": [
       "interactive(children=(RadioButtons(description='source', index=1, options=('Concatenated', 'Merged'), value='M…"
      ]
     },
     "metadata": {},
     "output_type": "display_data"
    }
   ],
   "source": [
    "for label in select_labels[:10]:\n",
    "    if len(label_to_img[label]) == 0:\n",
    "        continue\n",
    "    print(mid2name_all[label])\n",
    "    imgid = np.random.choice(label_to_img[label])\n",
    "    print(imgid)\n",
    "    w = interactive(show, \n",
    "        imgid=fixed(imgid),\n",
    "        source=widgets.RadioButtons(options=['Concatenated', 'Merged'], value='Merged'), \n",
    "        thresh=widgets.FloatSlider(min=0.0, max=1.0, step=0.01, value=0.1, continuous_update=False), \n",
    "    )\n",
    "    w.children[-1].layout.height = '600px'\n",
    "    display(w)\n",
    "    "
   ]
  },
  {
   "cell_type": "code",
   "execution_count": null,
   "metadata": {},
   "outputs": [],
   "source": []
  },
  {
   "cell_type": "code",
   "execution_count": null,
   "metadata": {},
   "outputs": [],
   "source": []
  },
  {
   "cell_type": "code",
   "execution_count": null,
   "metadata": {},
   "outputs": [],
   "source": []
  }
 ],
 "metadata": {
  "kernelspec": {
   "display_name": "Py3 w/ Tensorflow 2",
   "language": "python",
   "name": "py3tf2"
  },
  "language_info": {
   "codemirror_mode": {
    "name": "ipython",
    "version": 3
   },
   "file_extension": ".py",
   "mimetype": "text/x-python",
   "name": "python",
   "nbconvert_exporter": "python",
   "pygments_lexer": "ipython3",
   "version": "3.6.8"
  }
 },
 "nbformat": 4,
 "nbformat_minor": 4
}
