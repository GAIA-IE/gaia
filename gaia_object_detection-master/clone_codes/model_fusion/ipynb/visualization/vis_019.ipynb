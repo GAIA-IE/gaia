{
 "cells": [
  {
   "cell_type": "code",
   "execution_count": 2,
   "metadata": {},
   "outputs": [],
   "source": [
    "import os\n",
    "import sys\n",
    "import pickle\n",
    "import csv\n",
    "import copy\n",
    "\n",
    "import numpy as np\n",
    "import cv2\n",
    "import matplotlib.pyplot as plt\n",
    "%matplotlib inline"
   ]
  },
  {
   "cell_type": "code",
   "execution_count": 3,
   "metadata": {},
   "outputs": [],
   "source": [
    "from ipywidgets import interact, interactive, fixed, interact_manual\n",
    "import ipywidgets as widgets"
   ]
  },
  {
   "cell_type": "code",
   "execution_count": 4,
   "metadata": {},
   "outputs": [
    {
     "name": "stderr",
     "output_type": "stream",
     "text": [
      "../../../tfobjdetect/lib/object_detection/utils/visualization_utils.py:25: UserWarning: \n",
      "This call to matplotlib.use() has no effect because the backend has already\n",
      "been chosen; matplotlib.use() must be called *before* pylab, matplotlib.pyplot,\n",
      "or matplotlib.backends is imported for the first time.\n",
      "\n",
      "The backend was *originally* set to 'module://ipykernel.pylab.backend_inline' by the following code:\n",
      "  File \"/home/alireza/home_at_filer2/tools/anaconda3/envs/py3tf/lib/python3.6/runpy.py\", line 193, in _run_module_as_main\n",
      "    \"__main__\", mod_spec)\n",
      "  File \"/home/alireza/home_at_filer2/tools/anaconda3/envs/py3tf/lib/python3.6/runpy.py\", line 85, in _run_code\n",
      "    exec(code, run_globals)\n",
      "  File \"/home/alireza/home_at_filer2/tools/anaconda3/envs/py3tf/lib/python3.6/site-packages/ipykernel/__main__.py\", line 3, in <module>\n",
      "    app.launch_new_instance()\n",
      "  File \"/home/alireza/home_at_filer2/tools/anaconda3/envs/py3tf/lib/python3.6/site-packages/traitlets/config/application.py\", line 658, in launch_instance\n",
      "    app.start()\n",
      "  File \"/home/alireza/home_at_filer2/tools/anaconda3/envs/py3tf/lib/python3.6/site-packages/ipykernel/kernelapp.py\", line 486, in start\n",
      "    self.io_loop.start()\n",
      "  File \"/home/alireza/home_at_filer2/tools/anaconda3/envs/py3tf/lib/python3.6/site-packages/tornado/platform/asyncio.py\", line 127, in start\n",
      "    self.asyncio_loop.run_forever()\n",
      "  File \"/home/alireza/home_at_filer2/tools/anaconda3/envs/py3tf/lib/python3.6/asyncio/base_events.py\", line 422, in run_forever\n",
      "    self._run_once()\n",
      "  File \"/home/alireza/home_at_filer2/tools/anaconda3/envs/py3tf/lib/python3.6/asyncio/base_events.py\", line 1432, in _run_once\n",
      "    handle._run()\n",
      "  File \"/home/alireza/home_at_filer2/tools/anaconda3/envs/py3tf/lib/python3.6/asyncio/events.py\", line 145, in _run\n",
      "    self._callback(*self._args)\n",
      "  File \"/home/alireza/home_at_filer2/tools/anaconda3/envs/py3tf/lib/python3.6/site-packages/tornado/platform/asyncio.py\", line 117, in _handle_events\n",
      "    handler_func(fileobj, events)\n",
      "  File \"/home/alireza/home_at_filer2/tools/anaconda3/envs/py3tf/lib/python3.6/site-packages/tornado/stack_context.py\", line 276, in null_wrapper\n",
      "    return fn(*args, **kwargs)\n",
      "  File \"/home/alireza/home_at_filer2/tools/anaconda3/envs/py3tf/lib/python3.6/site-packages/zmq/eventloop/zmqstream.py\", line 450, in _handle_events\n",
      "    self._handle_recv()\n",
      "  File \"/home/alireza/home_at_filer2/tools/anaconda3/envs/py3tf/lib/python3.6/site-packages/zmq/eventloop/zmqstream.py\", line 480, in _handle_recv\n",
      "    self._run_callback(callback, msg)\n",
      "  File \"/home/alireza/home_at_filer2/tools/anaconda3/envs/py3tf/lib/python3.6/site-packages/zmq/eventloop/zmqstream.py\", line 432, in _run_callback\n",
      "    callback(*args, **kwargs)\n",
      "  File \"/home/alireza/home_at_filer2/tools/anaconda3/envs/py3tf/lib/python3.6/site-packages/tornado/stack_context.py\", line 276, in null_wrapper\n",
      "    return fn(*args, **kwargs)\n",
      "  File \"/home/alireza/home_at_filer2/tools/anaconda3/envs/py3tf/lib/python3.6/site-packages/ipykernel/kernelbase.py\", line 283, in dispatcher\n",
      "    return self.dispatch_shell(stream, msg)\n",
      "  File \"/home/alireza/home_at_filer2/tools/anaconda3/envs/py3tf/lib/python3.6/site-packages/ipykernel/kernelbase.py\", line 233, in dispatch_shell\n",
      "    handler(stream, idents, msg)\n",
      "  File \"/home/alireza/home_at_filer2/tools/anaconda3/envs/py3tf/lib/python3.6/site-packages/ipykernel/kernelbase.py\", line 399, in execute_request\n",
      "    user_expressions, allow_stdin)\n",
      "  File \"/home/alireza/home_at_filer2/tools/anaconda3/envs/py3tf/lib/python3.6/site-packages/ipykernel/ipkernel.py\", line 208, in do_execute\n",
      "    res = shell.run_cell(code, store_history=store_history, silent=silent)\n",
      "  File \"/home/alireza/home_at_filer2/tools/anaconda3/envs/py3tf/lib/python3.6/site-packages/ipykernel/zmqshell.py\", line 537, in run_cell\n",
      "    return super(ZMQInteractiveShell, self).run_cell(*args, **kwargs)\n",
      "  File \"/home/alireza/home_at_filer2/tools/anaconda3/envs/py3tf/lib/python3.6/site-packages/IPython/core/interactiveshell.py\", line 2666, in run_cell\n",
      "    self.events.trigger('post_run_cell', result)\n",
      "  File \"/home/alireza/home_at_filer2/tools/anaconda3/envs/py3tf/lib/python3.6/site-packages/IPython/core/events.py\", line 88, in trigger\n",
      "    func(*args, **kwargs)\n",
      "  File \"/home/alireza/home_at_filer2/tools/anaconda3/envs/py3tf/lib/python3.6/site-packages/ipykernel/pylab/backend_inline.py\", line 160, in configure_once\n",
      "    activate_matplotlib(backend)\n",
      "  File \"/home/alireza/home_at_filer2/tools/anaconda3/envs/py3tf/lib/python3.6/site-packages/IPython/core/pylabtools.py\", line 311, in activate_matplotlib\n",
      "    matplotlib.pyplot.switch_backend(backend)\n",
      "  File \"/home/alireza/home_at_filer2/tools/anaconda3/envs/py3tf/lib/python3.6/site-packages/matplotlib/pyplot.py\", line 231, in switch_backend\n",
      "    matplotlib.use(newbackend, warn=False, force=True)\n",
      "  File \"/home/alireza/home_at_filer2/tools/anaconda3/envs/py3tf/lib/python3.6/site-packages/matplotlib/__init__.py\", line 1410, in use\n",
      "    reload(sys.modules['matplotlib.backends'])\n",
      "  File \"/home/alireza/home_at_filer2/tools/anaconda3/envs/py3tf/lib/python3.6/importlib/__init__.py\", line 166, in reload\n",
      "    _bootstrap._exec(spec, module)\n",
      "  File \"/home/alireza/home_at_filer2/tools/anaconda3/envs/py3tf/lib/python3.6/site-packages/matplotlib/backends/__init__.py\", line 16, in <module>\n",
      "    line for line in traceback.format_stack()\n",
      "\n",
      "\n",
      "  import matplotlib; matplotlib.use('Agg')  # pylint: disable=multiple-statements\n"
     ]
    }
   ],
   "source": [
    "sys.path.append(\"../../../tfobjdetect/lib\")\n",
    "from object_detection.utils import label_map_util\n",
    "from object_detection.utils import visualization_utils as vis_util"
   ]
  },
  {
   "cell_type": "markdown",
   "metadata": {},
   "source": [
    "## Loading and preparing label maps"
   ]
  },
  {
   "cell_type": "code",
   "execution_count": 5,
   "metadata": {},
   "outputs": [],
   "source": [
    "with open('../../temp/all_labels_names_300.pkl', 'rb') as fin:\n",
    "    mid2name_all = pickle.load(fin)"
   ]
  },
  {
   "cell_type": "code",
   "execution_count": 6,
   "metadata": {},
   "outputs": [],
   "source": [
    "with open('../../temp/all_labels_300+.pkl', 'rb') as fin:\n",
    "    all_labels = pickle.load(fin)"
   ]
  },
  {
   "cell_type": "code",
   "execution_count": null,
   "metadata": {},
   "outputs": [],
   "source": []
  },
  {
   "cell_type": "code",
   "execution_count": 7,
   "metadata": {},
   "outputs": [],
   "source": [
    "with open('../../results/det_results_concat_22.pkl', 'rb') as fin:\n",
    "    det_results_concat = pickle.load(fin)"
   ]
  },
  {
   "cell_type": "code",
   "execution_count": 8,
   "metadata": {},
   "outputs": [],
   "source": [
    "with open('../../results/det_results_merged_22.pkl', 'rb') as fin:\n",
    "    det_results_merged = pickle.load(fin)"
   ]
  },
  {
   "cell_type": "code",
   "execution_count": 9,
   "metadata": {},
   "outputs": [],
   "source": [
    "with open('../../results/det_results_postproc_22.pkl', 'rb') as fin:\n",
    "    det_results_postproc = pickle.load(fin)"
   ]
  },
  {
   "cell_type": "markdown",
   "metadata": {},
   "source": [
    "## Choosing examples for each class to visualize"
   ]
  },
  {
   "cell_type": "code",
   "execution_count": 10,
   "metadata": {},
   "outputs": [],
   "source": [
    "label_to_img = {key: [] for key in all_labels}\n",
    "for key, val in det_results_concat.items():\n",
    "    for det in val:\n",
    "        if det['score'] >= 0.1:\n",
    "            label_to_img[det['label']].append(key)"
   ]
  },
  {
   "cell_type": "code",
   "execution_count": 11,
   "metadata": {},
   "outputs": [],
   "source": [
    "sort_idx = np.argsort([-len(label_to_img[label]) for label in all_labels])"
   ]
  },
  {
   "cell_type": "code",
   "execution_count": 12,
   "metadata": {},
   "outputs": [
    {
     "name": "stdout",
     "output_type": "stream",
     "text": [
      "/m/01g317 Person 15192\n",
      "/m/04yx4 Man 4887\n",
      "/m/09j2d Clothing 4028\n",
      "/m/0dzct Human face 3732\n",
      "/m/03bt1vf Woman 1849\n",
      "/m/03q69 Hair 1135\n",
      "/m/07yv9 Vehicle 1118\n",
      "/m/0cgh4 Building 916\n",
      "/m/04hgtk Human head 889\n",
      "/m/0k0pj Nose 888\n",
      "/m/0k4j Car 820\n",
      "/m/07j7r Tree 765\n",
      "/m/01rkbr Tie 727\n",
      "/m/01prls Land vehicle 714\n",
      "/m/01xyhv Suit 660\n",
      "/m/01n5jq Poster 634\n",
      "/m/05r655 Girl 573\n",
      "/m/014sv8 Eye 421\n",
      "/m/0k65p Hand 408\n",
      "/m/0cmf2 Airplane 394\n",
      "/m/05s2s Plant 347\n",
      "/m/012t_z Businessperson 336\n",
      "/m/0dzf4 Arm 328\n",
      "/m/01xr66 Spokesperson 320\n",
      "/m/09x0r Speech 307\n",
      "/m/09j5n Footwear 295\n",
      "/m/083wq Wheel 286\n",
      "/m/032b3c Jacket 267\n",
      "/m/07r04 Truck 261\n",
      "/m/0fly7 Jeans 253\n",
      "/m/04rky Mammal 252\n",
      "/m/01mzpv Chair 246\n",
      "/m/0jyfg Glasses 243\n",
      "/m/0hpjt Orator 242\n",
      "/m/080hkjn Handbag 238\n",
      "/m/03jm5 House 224\n",
      "/m/04bcr3 Table 222\n",
      "/m/019jd Boat 222\n",
      "/m/0k5j Aircraft 216\n",
      "/m/0zvk5 Helmet 202\n",
      "/m/07c52 Television 201\n",
      "/m/04dr76w Bottle 190\n",
      "/m/050k8 Mobile phone 186\n",
      "/m/035y33 Official 181\n",
      "/m/0c_jw Furniture 180\n",
      "/m/0bt_c3 Book 179\n",
      "/m/01d40f Dress 173\n",
      "/m/03120 Flag 170\n",
      "/m/0h9mv Tire 162\n",
      "/m/04_tb Map 157\n",
      "/m/0d4v4 Window 157\n",
      "/m/07jdr Train 154\n",
      "/m/068k4 Public speaking 151\n",
      "/m/083kb Weapon 145\n",
      "/m/02p0zyj Riot 144\n",
      "/m/01940j Backpack 134\n",
      "/m/07cmd Tank 132\n",
      "/m/02dl1y Hat 128\n",
      "/m/0bt9lr Dog 119\n",
      "/m/01bl7v Boy 115\n",
      "/m/07s6nbt Text 114\n",
      "/m/0hg7b Microphone 107\n",
      "/m/0dwx7 Logo 107\n",
      "/m/0jbk Animal 106\n",
      "/m/02wbm Food 105\n",
      "/m/03fp41 Houseplant 103\n",
      "/m/01c648 Laptop 87\n",
      "/m/02p0tk3 Human body 82\n",
      "/m/08dz3q Auto part 81\n",
      "/m/01m3v Computer 79\n",
      "/m/0138tl Toy 77\n",
      "/m/015p6 Bird 76\n",
      "/m/02_41 Fire 76\n",
      "/m/0chbx Violence 76\n",
      "/m/09ct_ Helicopter 76\n",
      "/m/06msq Sculpture 72\n",
      "/m/0c9ph5 Flower 72\n",
      "/m/014zdl Explosion 71\n",
      "/m/0hnnb Umbrella 70\n",
      "/m/012n4x Firefighter 70\n",
      "/m/06q40 Smoke 69\n",
      "/m/01fdzj Tower 69\n",
      "/m/017ftj Sunglasses 68\n",
      "/m/01bjv Bus 67\n",
      "/m/01yrx Cat 67\n",
      "/m/02crq1 Couch 66\n",
      "/m/01knjb Billboard 66\n",
      "/m/035r7c Leg 63\n",
      "/m/0fzyg Aviation 62\n",
      "/m/079cl Skyscraper 62\n",
      "/m/0283dt1 Mouth 59\n",
      "/m/06z37_ Picture frame 58\n",
      "/m/01n4qj Shirt 58\n",
      "/m/018xm Ball 58\n",
      "/m/06c54 Rifle 56\n",
      "/m/07mhn Trousers 54\n",
      "/m/0463sg Fashion accessory 50\n",
      "/m/033rq4 Street light 50\n",
      "/m/02522 Computer monitor 50\n",
      "/m/0dhz0 Airliner 50\n",
      "/m/0g54v5d Military vehicle 49\n",
      "/m/039xj_ Ear 48\n",
      "/m/015qff Traffic light 47\n",
      "/m/015y8h Jet aircraft 46\n",
      "/m/01xygc Coat 46\n",
      "/m/0199g Bicycle 46\n",
      "/m/01rzcn Watercraft 45\n",
      "/m/025t3bg Air travel 45\n",
      "/m/07d0f Trademark 45\n",
      "/m/01lrl Carnivore 43\n",
      "/m/04kkgm Bowl 43\n",
      "/m/08gqpm cup 43\n",
      "/m/02zt3 Kite 42\n",
      "/m/02d9qx Whiteboard 40\n",
      "/m/02dgv Door 40\n",
      "/m/09cjl Airport 39\n",
      "/m/01h6rj Military 39\n",
      "/m/02_n6y Goggles 39\n",
      "/m/025nd Christmas tree 39\n",
      "/m/0271t Drink 38\n",
      "/m/018rqw Wide-body aircraft 38\n",
      "/m/039r6 General aviation 37\n",
      "/m/04_sv Motorcycle 37\n",
      "/m/0gjwxv Military organization 37\n",
      "/m/02s195 Vase 36\n",
      "/m/0fszt Cake 35\n",
      "/m/014yck Aircraft engine 35\n",
      "/m/03ssj5 Bed 35\n",
      "/m/0728h Self-propelled artillery 34\n",
      "/m/01515d Flight 34\n",
      "/m/04229 Jet engine 34\n",
      "/m/02p4dfn Lectern 33\n",
      "/m/02h66g5 Military person 33\n",
      "/m/03qtwd Crowd 33\n",
      "/m/0f4s2w Vegetable 33\n",
      "/m/077hhl Cargo aircraft 33\n",
      "/m/015h_t Beard 32\n",
      "/m/07txbq Light aircraft 32\n",
      "/m/0bp37nz Propeller-driven aircraft 31\n",
      "/m/01kqwy Business jet 31\n",
      "/m/02k88w Rebellion 31\n",
      "/m/02ryw Explosive material 31\n",
      "/m/0gvss07 Combat vehicle 31\n",
      "/m/0pd7 Army 30\n",
      "/m/01bq8v Troop 29\n",
      "/m/01mqdt Traffic sign 29\n",
      "/m/05ws7 Police 29\n",
      "/m/0h2r6 Van 29\n",
      "/m/0cvnqh Bench 28\n",
      "/m/06q74 Ship 28\n",
      "/m/099md Soldier 27\n",
      "/m/01lynh Stairs 27\n",
      "/m/01h6cb Meeting 27\n",
      "/m/01s55n Suitcase 27\n",
      "/m/03k3r Horse 27\n",
      "/m/03g8mr Baseball bat 27\n",
      "/m/03wvy Infantry 26\n",
      "/m/03w1r4 Military uniform 26\n",
      "/m/01fnck Waste 26\n",
      "/m/09l63h Military camouflage 25\n",
      "/m/09tvcd Wine glass 25\n",
      "/m/0bg2p Security 24\n",
      "/m/021sj1 Office building 24\n",
      "/m/03rszm Curtain 24\n",
      "/m/01m2v Computer keyboard 24\n",
      "/m/01ww8y Snack 24\n",
      "/m/01x2j Camouflage 23\n",
      "/m/0bh6t6c Rescuer 23\n",
      "/m/0ltfs Bride 22\n",
      "/m/0byj4 Combat 22\n",
      "/m/025sb2w Supersonic aircraft 22\n",
      "/m/01y9k5 Desk 22\n",
      "/m/0133tk Ballistic vest 22\n",
      "/m/012qdp Military officer 21\n",
      "/m/01bqk0 Bicycle wheel 21\n",
      "/m/01bgsw Toddler 21\n",
      "/m/078n6m Coffee table 21\n",
      "/m/03__z0 Bookcase 21\n",
      "/m/0dv5r Camera 21\n",
      "/m/0270h Dessert 20\n",
      "/m/0130jx Sink 20\n",
      "/m/032rk Gun 20\n",
      "/m/01x3z Clock 20\n",
      "/m/03hfwtf Military transport aircraft 20\n",
      "/m/01vzwd Mortar 19\n",
      "/m/0crjs Convenience store 19\n",
      "/m/0b_rs Swimming pool 18\n",
      "/m/040b_t Refrigerator 18\n",
      "/m/02xwb Fruit 18\n",
      "/m/033lpr Audience 18\n",
      "/m/04szw Musical instrument 18\n",
      "/m/0qjjc Remote control 18\n",
      "/m/052lwg6 Baked goods 18\n",
      "/m/025dyy Box 18\n",
      "/m/01n32 City 17\n",
      "/m/01nd_n Protest 17\n",
      "/m/01_bhs Fast food 17\n",
      "/m/013bml Military rank 17\n",
      "/m/0bs7_0t Electronic device 17\n",
      "/m/04brg2 Tableware 17\n",
      "/m/019w40 Surfboard 16\n",
      "/m/02rdsp Office supplies 16\n",
      "/m/0y8r Armored car 16\n",
      "/m/0g2bc Drone 16\n",
      "/m/0bh9flk Tablet computer 16\n",
      "/m/09jfs Uniform 16\n",
      "/m/01zpz Crew 15\n",
      "/m/09g5pq People 15\n",
      "/m/04ctx Knife 15\n",
      "/m/0gjbg72 Shelf 15\n",
      "/m/034qg Firearm 15\n",
      "/m/0kmg4 Teddy bear 15\n",
      "/m/01j61q Tent 15\n",
      "/m/047b9vj Gps navigation device 15\n",
      "/m/06810_ Medium tactical vehicle replacement 14\n",
      "/m/0342h Guitar 14\n",
      "/m/039l3v Auditorium 14\n",
      "/m/0h8mhzd Sports uniform 14\n",
      "/m/0gt4z Security guard 13\n",
      "/m/039jbq Urban area 13\n",
      "/m/01xgg_ Medical equipment 13\n",
      "/m/018rc1 Ground attack aircraft 13\n",
      "/m/013_1c Statue 13\n",
      "/m/02bb1s Sniper rifle 13\n",
      "/m/02fq_6 Fedora 13\n",
      "/m/06zs7 Sniper 13\n",
      "/m/0k05r Court 13\n",
      "/m/09g1w Toilet 13\n",
      "/m/02yjc Fighter aircraft 13\n",
      "/m/07k1x Tool 13\n",
      "/m/0jb3 Assault rifle 13\n",
      "/m/0242l Coin 12\n",
      "/m/01nl4x Fire extinguisher 12\n",
      "/m/03hl4l9 Marine invertebrates 12\n",
      "/m/01gmv2 Brassiere 12\n",
      "/m/02wbtzl Sun hat 12\n",
      "/m/01bfm9 Shorts 12\n",
      "/m/04zjc Machine gun 12\n",
      "/m/09cynt Convention 12\n",
      "/m/026yq0z Demonstration 12\n",
      "/m/06nrc Shotgun 12\n",
      "/m/05t_pq Gun turret 12\n",
      "/m/01c8br Street 12\n",
      "/m/0blz9 Fence 11\n",
      "/m/019dx1 Home appliance 11\n",
      "/m/0898b Zebra 11\n",
      "/m/02h19r Scarf 11\n",
      "/m/04_x4 Money 11\n",
      "/m/05wrt Property 11\n",
      "/m/054_l Mirror 11\n",
      "/m/01xq0k1 Cattle 11\n",
      "/m/038t8_ Estate 11\n",
      "/m/0f5lx Military aircraft 11\n",
      "/m/071p9 Ski 11\n",
      "/m/0h99cwc Kitchen appliance 11\n",
      "/m/0fd6q Cash 11\n",
      "/m/014j1m Apple 11\n",
      "/m/01dws Bear 11\n",
      "/m/01klb9 Plaza 10\n",
      "/m/070qm Freight transport 10\n",
      "/m/0c06p Candle 10\n",
      "/m/0167gd Doll 10\n",
      "/m/0dt3t Fork 10\n",
      "/m/03p3bw Bicycle helmet 10\n",
      "/m/02p16m6 Flesh 10\n",
      "/m/071rm Shooting 10\n",
      "/m/0hkxq Broccoli 10\n",
      "/m/015_d Bomber 10\n",
      "/m/01wk9c Emblem 10\n",
      "/m/01b9xk Hot dog 10\n",
      "/m/012xff Toothbrush 9\n",
      "/m/05_5t0l Landmark 9\n",
      "/m/0169zh Smartphone 9\n",
      "/m/03qpft Podium 9\n",
      "/m/0220r2 Fountain 9\n",
      "/m/0fm3zh Flowerpot 9\n",
      "/m/03vt0 Insect 9\n",
      "/m/02cwf_ Shrine 9\n",
      "/m/0245kq Stealth aircraft 9\n",
      "/m/013m1 Air force 9\n",
      "/m/050gv4 Plate 9\n",
      "/m/0hf58v5 Luggage and bags 9\n",
      "/m/01s105 Cabinetry 9\n",
      "/m/014trl Cosmetics 9\n",
      "/m/065zrn9 Explosive weapon 8\n",
      "/m/09rvcxw Rocket 8\n",
      "/m/0d5gx Castle 8\n",
      "/m/0174n1 Glove 8\n",
      "/m/03grzl Baseball glove 8\n",
      "/m/0dkw5 Machine 8\n",
      "/m/0dv9c Racket 8\n",
      "/m/06m11 Rose 8\n",
      "/m/01lcwm Luxury vehicle 8\n",
      "/m/02q5pxq Aircraft cabin 8\n",
      "/m/01b638 Boot 8\n",
      "/m/0gd2v Marine mammal 8\n",
      "/m/07bsy Transport 8\n",
      "/m/03bk1 Giraffe 8\n",
      "/m/04c2cp Dispatcher 8\n",
      "/m/01llwg Necklace 7\n",
      "/m/057cc Musical keyboard 7\n",
      "/m/01226z Football 7\n",
      "/m/012f08 Motor vehicle 7\n",
      "/m/0knpd Flight instruments 7\n",
      "/m/01pns0 Fire hydrant 7\n",
      "/m/04ylt Missile 7\n",
      "/m/02wmf frisbee 7\n",
      "/m/01jfm_ Licence plate 7\n",
      "/m/081hv Wedding 7\n",
      "/m/01lsmm Scissors 7\n",
      "/m/01j51 Balloon 7\n",
      "/m/0173tc Chapel 7\n",
      "/m/0275lwb Military helicopter 7\n",
      "/m/016m2d Skull 7\n",
      "/m/05r5c Piano 7\n",
      "/m/07bgp Sheep 7\n",
      "/m/07fbm7 Strawberry 6\n",
      "/m/09ddx Duck 6\n",
      "/m/099ssp Platter 6\n",
      "/m/09d5_ Owl 6\n",
      "/m/014tl Ammunition 6\n",
      "/m/0fj52s Carrot 6\n",
      "/m/0cmx8 Spoon 6\n",
      "/m/0bwd_0j Elephant 6\n",
      "/m/02ljgl Monument 6\n",
      "/m/0cdl1 Palm tree 6\n",
      "/m/0dtln Lamp 6\n",
      "/m/03cny9 Badge 6\n",
      "/m/02pv19 Stop sign 6\n",
      "/m/0l515 Sandwich 6\n",
      "/m/09728 Bread 6\n",
      "/m/07j87 Tomato 6\n",
      "/m/0ch_cf Fish 6\n",
      "/m/07cx4 Telephone 6\n",
      "/m/01yx86 Bronze sculpture 6\n",
      "/m/0284d Dairy 6\n",
      "/m/071qp Squirrel 5\n",
      "/m/017m8l Waterway 5\n",
      "/m/06bt6 Reptile 5\n",
      "/m/01w71f Personal luxury car 5\n",
      "/m/02q60ls Conference hall 5\n",
      "/m/025syph Fighter pilot 5\n",
      "/m/0ytgt Child 5\n",
      "/m/0jy4k Doughnut 5\n",
      "/m/04h7h Lighthouse 5\n",
      "/m/0qmmr Wheelchair 5\n",
      "/m/08pbxl Monkey 5\n",
      "/m/06gfj Road 5\n",
      "/m/0cx45 Temple 5\n",
      "/m/0grw1 Salad 5\n",
      "/m/02jnhm Tin can 5\n",
      "/m/01l0mw Home 5\n",
      "/m/03xxp Invertebrate 5\n",
      "/m/0cffdh Maple 5\n",
      "/m/05zdp Public transport 5\n",
      "/m/0h8n5zk Kitchen & dining room table 5\n",
      "/m/0ffjr Personal protective equipment 4\n",
      "/m/0ftb8 Sunflower 4\n",
      "/m/05hg54 Commercial building 4\n",
      "/m/01h3n Bee 4\n",
      "/m/02hsrtn Helicopter pilot 4\n",
      "/m/0hr5k Festival 4\n",
      "/m/01599 Beer 4\n",
      "/m/02nvjx Place of worship 4\n",
      "/m/0cyhj_ Orange 4\n",
      "/m/0gjkl Watch 4\n",
      "/m/052sf Mushroom 4\n",
      "/m/0h8mhv3 Surveillance camera 4\n",
      "/m/015qbp parking meter 4\n",
      "/m/02pkr5 Plumbing fixture 4\n",
      "/m/026t6 Drum 4\n",
      "/m/06nwz Seafood 4\n",
      "/m/015kr Bridge 4\n",
      "/m/05z6w Penguin 4\n",
      "/m/0xsc Aircraft carrier 4\n",
      "/m/07qxg_ Football helmet 3\n",
      "/m/0gxl3 Handgun 3\n",
      "/m/0hnyx Pastry 3\n",
      "/m/020kz Cannon 3\n",
      "/m/02wv6h6 Skirt 3\n",
      "/m/09g5h Spacecraft 3\n",
      "/m/0cz_0 Highway 3\n",
      "/m/025rp__ Cowboy hat 3\n",
      "/m/09kx5 Deer 3\n",
      "/m/05y_qt Missile boat 3\n",
      "/m/0dbvp Goose 3\n",
      "/m/08q1tg Crash 3\n",
      "/m/024g6 Cocktail 3\n",
      "/m/096mb Lion 3\n",
      "/m/01h_q0 Military robot 3\n",
      "/m/0d_2m Moths and butterflies 3\n",
      "/m/02jz0l Tap 3\n",
      "/m/0cxn2 Ice cream 3\n",
      "/m/011k07 Tortoise 3\n",
      "/m/02666n Light aircraft carrier 3\n",
      "/m/01xgbj Turret 3\n",
      "/m/0dftk Swan 3\n",
      "/m/03wvsk hair drier 3\n",
      "/m/0fqfqc Drawer 3\n",
      "/m/020lf Mouse 3\n",
      "/m/0g02q Courthouse 3\n",
      "/m/01_p8q Rescue 3\n",
      "/m/054xkw Lifejacket 3\n",
      "/m/029bxz Oven 3\n",
      "/m/02_g0 Funeral 3\n",
      "/m/01gkx_ Swimwear 3\n",
      "/m/06__v Snowboard 3\n",
      "/m/06k2mb High heels 3\n",
      "/m/0gv1x Parrot 3\n",
      "/m/016c4t Ceremony 3\n",
      "/m/06d_3 Railway 3\n",
      "/m/01hr1w Guided missile destroyer 3\n",
      "/m/0jqgx Lily 2\n",
      "/m/01xqw Cello 2\n",
      "/m/03htg Harbor 2\n",
      "/m/03nfch Sandal 2\n",
      "/m/04qvtq Police car 2\n",
      "/m/06_fw Skateboard 2\n",
      "/m/0663v Pizza 2\n",
      "/m/020jm Beetle 2\n",
      "/m/03hlz0c Kitchen utensil 2\n",
      "/m/0ph39 Canoe 2\n",
      "/m/02lbcq Stretcher 2\n",
      "/m/0583b1 Barricade 2\n",
      "/m/02gx17 Construction equipment 2\n",
      "/m/03m3pdh Sofa bed 2\n",
      "/m/0ct4f Bomb 2\n",
      "/m/02mwm5 Police dog 2\n",
      "/m/0fx9l Microwave oven 2\n",
      "/m/09dzg Turtle 2\n",
      "/m/0cfs8 Cathedral 2\n",
      "/m/01wb7 Church 2\n",
      "/m/03d1rd Ruins 2\n",
      "/m/02q3d5 Memorial 2\n",
      "/m/05zsy Pumpkin 2\n",
      "/m/081qc Wine 2\n",
      "/m/0h36z Cemetery 2\n",
      "/m/01z1kdw Juice 2\n",
      "/m/0m_bl Bullet train 2\n",
      "/m/0fkwjg Commercial vehicle 2\n",
      "/m/0b3fp9 Countertop 2\n",
      "/m/01vw0_ Grave 2\n",
      "/m/0hsrw Sailboat 2\n",
      "/m/01jw_1 Bus stop 1\n",
      "/m/0pg52 Taxi 1\n",
      "/m/08854 Yacht 1\n",
      "/m/05kyg_ Chest of drawers 1\n",
      "/m/09b5t Chicken 1\n",
      "/m/013xlm Tractor 1\n",
      "/m/025rvy6 Emergency 1\n",
      "/m/051rmm Steeple 1\n",
      "/m/0dv77 Squash 1\n",
      "/m/06wwc Satellite 1\n",
      "/m/08qrwn Rubble 1\n",
      "/m/04h5c Locomotive 1\n",
      "/m/012n91 Emergency service 1\n",
      "/m/01btn Barge 1\n",
      "/m/06wrt Sailing 1\n",
      "/m/05dlb Navy 1\n",
      "/m/02068x Gondola 1\n",
      "/m/0jzbb Paramedic 1\n",
      "/m/012ndj Fire apparatus 1\n",
      "/m/01cx7t High-visibility clothing 1\n",
      "/m/074d1 Submarine 1\n",
      "/m/0hs8k Bullet 1\n",
      "/m/03q5c7 Saucer 1\n",
      "/m/078my Trailer truck 1\n",
      "/m/01xs3r Jet ski 1\n",
      "/m/01lcw4 Limousine 1\n",
      "/m/0fldg Mango 0\n",
      "/m/05kms Oboe 0\n",
      "/m/0kpt_ Cantaloupe 0\n",
      "/m/0fp6w Pineapple 0\n",
      "/m/02jfl0 Sombrero 0\n",
      "/m/0wdt60w Rugby ball 0\n",
      "/m/0n28_ Crab 0\n",
      "/m/01m4t Printer 0\n",
      "/m/05gqfk Plastic bag 0\n",
      "/m/0cvq3 Pickup truck 0\n",
      "/m/0h8lkj8 Corded phone 0\n",
      "/m/02pjr4 Blender 0\n",
      "/m/03tw93 Fireplace 0\n",
      "/m/04cp_ Koala 0\n",
      "/m/0dq75 Raccoon 0\n",
      "/m/0f9_l Snail 0\n",
      "/m/01f91_ Pretzel 0\n",
      "/m/030610 Treadmill 0\n",
      "/m/07crc Taco 0\n",
      "/m/027pcv Zucchini 0\n",
      "/m/0hqkz Grapefruit 0\n",
      "/m/01vbnl Bidet 0\n",
      "/m/047j0r Filing cabinet 0\n",
      "/m/068zj Pig 0\n",
      "/m/043nyj Common fig 0\n",
      "/m/0p833 Perfume 0\n",
      "/m/0frqm Envelope 0\n",
      "/m/01dy8n Woodpecker 0\n",
      "/m/0jwn_ Pomegranate 0\n",
      "/m/04tn4x Swim cap 0\n",
      "/m/0l14j_ Flute 0\n",
      "/m/0633h Polar bear 0\n",
      "/m/0cjs7 Asparagus 0\n",
      "/m/0cyfs Parachute 0\n",
      "/m/02hj4 Dolphin 0\n",
      "/m/02pdsw Cutting board 0\n",
      "/m/01x_v Camel 0\n",
      "/m/06l9r Red panda 0\n",
      "/m/024d2 Calculator 0\n",
      "/m/0c2jj Axe 0\n",
      "/m/0gd36 Sea lion 0\n",
      "/m/0h8n27j Serving tray 0\n",
      "/m/029tx Dinosaur 0\n",
      "/m/03q5t Harpsichord 0\n",
      "/m/04zpv Milk 0\n",
      "/m/04xd6k Melee weapon 0\n",
      "/m/0306r Fox 0\n",
      "/m/061hd_ Infant bed 0\n",
      "/m/01jfsr Lantern 0\n",
      "/m/0h8kx63 Spice rack 0\n",
      "/m/076bq Segway 0\n",
      "/m/04fdw Kayak 0\n",
      "/m/01h8tj Starfish 0\n",
      "/m/018j2 Banjo 0\n",
      "/m/0llzx Sewing machine 0\n",
      "/m/04v6l4 Frying pan 0\n",
      "/m/05y5lj Sports equipment 0\n",
      "/m/0271qf7 Wine rack 0\n",
      "/m/0jly1 Turkey 0\n",
      "/m/08p92x Cream 0\n",
      "/m/0584n8 Briefcase 0\n",
      "/m/0nybt Seahorse 0\n",
      "/m/0m53l Rays and skates 0\n",
      "/m/03y6mg Food processor 0\n",
      "/m/073g6 Stethoscope 0\n",
      "/m/0fz0h Honeycomb 0\n",
      "/m/02z51p Nightstand 0\n",
      "/m/0cd4d Cheetah 0\n",
      "/m/0d8zb Jellyfish 0\n",
      "background background 0\n",
      "/m/07y_7 Violin 0\n",
      "/m/01x3jk Snowmobile 0\n",
      "/m/01f8m5 Blue jay 0\n",
      "/m/07pj7bq Bowling equipment 0\n",
      "/m/01j3zr Burrito 0\n",
      "/m/013y1f Organ 0\n",
      "/m/01fb_0 Bagel 0\n",
      "/m/0dkzw Seat belt 0\n",
      "/m/057p5t Scoreboard 0\n",
      "/m/02zn6n Barrel 0\n",
      "/m/04h8sr Dumbbell 0\n",
      "/m/078jl Snake 0\n",
      "/m/04m6gz Porch 0\n",
      "/m/01tcjp Muffin 0\n",
      "/m/044r5d Golf ball 0\n",
      "/m/0cnyhnx Bull 0\n",
      "/m/0388q Grape 0\n",
      "/m/02ctlc Cricket ball 0\n",
      "/m/03txqz Scale 0\n",
      "/m/04c0y Kangaroo 0\n",
      "/m/04gth Lavender 0\n",
      "/m/047v4b Artichoke 0\n",
      "/m/04yqq2 Bust 0\n",
      "/m/0h8nr_l Bathroom accessory 0\n",
      "/m/054fyh Pitcher 0\n",
      "/m/01j4z9 Chainsaw 0\n",
      "/m/01d380 Drill 0\n",
      "/m/06_72j Digital clock 0\n",
      "/m/01h44 Bat 0\n",
      "/m/0dbzx Mule 0\n",
      "/m/09f_2 Crocodile 0\n",
      "/m/0h8n6ft Cake stand 0\n",
      "/m/029b3 Dice 0\n",
      "/m/073bxn Tripod 0\n",
      "/m/031b6r Window blind 0\n",
      "/m/03c7gz Door handle 0\n",
      "/m/0fqt361 Stool 0\n",
      "/m/03hj559 Mixing bowl 0\n",
      "/m/05vtc Potato 0\n",
      "/m/01fh4r Teapot 0\n",
      "/m/09csl Eagle 0\n",
      "/m/031n1 Foot 0\n",
      "/m/05z55 Pasta 0\n",
      "/m/0319l Horn 0\n",
      "/m/0cdn1 Hamburger 0\n",
      "/m/0jg57 Bell pepper 0\n",
      "/m/0cyf8 Butterfly 0\n",
      "/m/0gm28 Candy 0\n",
      "/m/061_f Pear 0\n",
      "/m/0czz2 Antelope 0\n",
      "/m/07030 Sushi 0\n",
      "/m/0ky7b Dishwasher 0\n",
      "/m/0mcx2 Ipod 0\n",
      "/m/0h8my_4 Tennis racket 0\n",
      "/m/03d443 Rhinoceros 0\n",
      "/m/03dnzn Bathtub 0\n",
      "/m/01g3x7 Bow and arrow 0\n",
      "/m/04rmv Mouse 0\n",
      "/m/03kt2w Stationary bicycle 0\n",
      "/m/02vqfm Coffee 0\n",
      "/m/06mf6 Rabbit 0\n",
      "/m/01hrv5 Popcorn 0\n",
      "/m/0l3ms Balance beam 0\n",
      "/m/01krhy Tiara 0\n",
      "/m/0mw_6 Willow 0\n",
      "/m/0h8n6f9 Dog bed 0\n",
      "/m/03m5k Harp 0\n",
      "/m/0k1tl Pen 0\n",
      "/m/0gj37 Ladybug 0\n",
      "/m/0d4w1 Closet 0\n",
      "/m/016br2 Dome 0\n",
      "/m/0h23m Sparrow 0\n",
      "/m/07clx Tea 0\n",
      "/m/0cl4p Hedgehog 0\n",
      "/m/033cnk Egg 0\n",
      "/m/0642b4 Cupboard 0\n",
      "/m/0cydv Caterpillar 0\n",
      "/m/012n7d Ambulance 0\n",
      "/m/026qbn5 studio couch 0\n",
      "/m/046dlr Alarm clock 0\n",
      "/m/03v5tg Drinking straw 0\n",
      "/m/07dm6 Tiger 0\n",
      "/m/02jvh9 Mug 0\n",
      "/m/0420v5 Punching bag 0\n",
      "/m/0bjyj5 Waste container 0\n",
      "/m/02p5f1q Coffee cup 0\n",
      "/m/01gllr Beehive 0\n",
      "/m/02zvsm Tart 0\n",
      "/m/01tq2l Cruise ship 0\n",
      "/m/0268lbt Hiking equipment 0\n",
      "/m/01nkt Cheese 0\n",
      "/m/04p0qw Billiard table 0\n",
      "/m/04169hn Wood-burning stove 0\n",
      "/m/0174k2 Washing machine 0\n",
      "/m/02gzp Dagger 0\n",
      "/m/0pcr Alpaca 0\n",
      "/m/01dwwc Pancake 0\n",
      "/m/02w3_ws Personal care 0\n",
      "/m/02y6n French fries 0\n",
      "/m/015x4r Cucumber 0\n",
      "/m/03ldnb Ceiling fan 0\n",
      "/m/03s_tn Kettle 0\n",
      "/m/06ncr Saxophone 0\n",
      "/m/021mn Cookie 0\n",
      "/m/076lb9 Bench 0\n",
      "/m/01nq26 Sock 0\n",
      "/m/01kb5b Flashlight 0\n",
      "/m/0ddnl Ferry 0\n",
      "/m/09ld4 Frog 0\n",
      "/m/06c7f7 Lipstick 0\n",
      "/m/05n4y Ostrich 0\n",
      "/m/0f6nr Unicycle 0\n",
      "/m/0mkg Accordion 0\n",
      "/m/027qh7f Cold weapon 0\n",
      "/m/02wv84t Gas stove 0\n",
      "/m/01q4wd Stupa 0\n",
      "/m/09gys Squid 0\n",
      "/m/06j2d Raven 0\n",
      "/m/03fwl Goat 0\n",
      "/m/0f6wt Falcon 0\n",
      "/m/0162_1 Towel 0\n",
      "/m/09gtd Toilet paper 0\n",
      "/m/05_5p_0 Table tennis racket 0\n",
      "/m/0ccs93 Canary 0\n",
      "/m/07c6l Trombone 0\n",
      "/m/03bbps Power plugs and sockets 0\n",
      "/m/02x984l Mechanical fan 0\n",
      "/m/058qzx Kitchen knife 0\n",
      "/m/04y4h8h Bathroom cabinet 0\n",
      "/m/012ysf Syringe 0\n",
      "/m/018p4k Cart 0\n",
      "/m/02f9f_ Shower 0\n",
      "/m/04vv5k Snowplow 0\n",
      "/m/07xyvk Coffeemaker 0\n",
      "/m/01dwsz Waffle 0\n",
      "/m/03fj2 Goldfish 0\n",
      "/m/0dj6p Peach 0\n",
      "/m/0152hh Snowman 0\n",
      "/m/04g2r Lynx 0\n",
      "/m/015x5n Radish 0\n",
      "/m/03jbxj Light switch 0\n",
      "/m/09f20 Hippopotamus 0\n",
      "/m/019h78 Centipede 0\n",
      "/m/0ft9s Dragonfly 0\n",
      "/m/0h8mzrc Wall clock 0\n",
      "/m/0fbdv Shellfish 0\n",
      "/m/0nl46 Crown 0\n",
      "/m/0121tl Electronic instrument 0\n",
      "/m/06dq9 Radar 0\n",
      "/m/09kmb Spider 0\n",
      "/m/014y4n Paddle 0\n",
      "/m/07kng9 Picnic basket 0\n",
      "/m/02wg_p Tree house 0\n",
      "/m/0_k2 Ant 0\n",
      "/m/084zz Whale 0\n",
      "/m/01r546 Earrings 0\n",
      "/m/02g30s Guacamole 0\n",
      "/m/01k6s3 toaster 0\n",
      "/m/01b7fy Headphones 0\n",
      "/m/034c16 Pillow 0\n",
      "/m/02p3w7d Roller skates 0\n",
      "/m/02rgn06 Volleyball 0\n",
      "/m/02tsc9 Slow cooker 0\n",
      "/m/03qrc Hamster 0\n",
      "/m/084hf Worm 0\n",
      "/m/012074 Magpie 0\n",
      "/m/0by6g Shark 0\n",
      "/m/015wgc Croissant 0\n",
      "/m/0_cp5 Oyster 0\n",
      "/m/03n9vx Double-decker bus 0\n",
      "/m/01dxs Brown bear 0\n",
      "/m/020dwk Passenger ship 0\n",
      "/m/02l8p9 Harbor seal 0\n",
      "/m/084rd Wok 0\n",
      "/m/0176mf Belt 0\n",
      "/m/02cvgx Winter melon 0\n",
      "/m/0lt4_ Binoculars 0\n",
      "/m/02w3r3 Paper towel 0\n",
      "/m/03bj1 Panda 0\n",
      "/m/09qck Banana 0\n",
      "/m/02vkqh8 Wardrobe 0\n",
      "/m/0703r8 Loveseat 0\n",
      "/m/027rl48 Ladle 0\n",
      "/m/012w5l Ladder 0\n",
      "/m/09k_b Lemon 0\n",
      "/m/0hdln Ruler 0\n",
      "/m/01_5g Chopsticks 0\n",
      "/m/0cn6p Otter 0\n",
      "/m/0120dh Sea turtle 0\n",
      "/m/01phq4 Pier 0\n",
      "/m/0c568 Porcupine 0\n",
      "/m/0fbw6 Cabbage 0\n",
      "/m/02x8cch Salt and pepper shakers 0\n",
      "/m/01cmb2 Miniskirt 0\n",
      "/m/05ctyq Tennis ball 0\n",
      "/m/0kpqd Watermelon 0\n",
      "/m/0c29q Leopard 0\n",
      "/m/065h6l Jacuzzi 0\n",
      "/m/06y5r Sword 0\n",
      "/m/03j1ly Emergency vehicle 0\n",
      "/m/035vxb Isopod 0\n",
      "/m/063rgb Mixer 0\n",
      "/m/0h8l4fh Light bulb 0\n",
      "/m/08hvt4 Jug 0\n",
      "/m/04m9y Lizard 0\n",
      "/m/06pcq Submarine sandwich 0\n",
      "/m/07gql Trumpet 0\n",
      "/m/0755b Scorpion 0\n",
      "/m/0323sq Golf cart 0\n",
      "/m/0cjq5 Lobster 0\n",
      "/m/0ll1f78 Shrimp 0\n",
      "/m/0449p Jaguar 0\n"
     ]
    }
   ],
   "source": [
    "for i in sort_idx:\n",
    "    print(all_labels[i], mid2name_all[all_labels[i]], len(label_to_img[all_labels[i]]))"
   ]
  },
  {
   "cell_type": "code",
   "execution_count": 13,
   "metadata": {},
   "outputs": [],
   "source": [
    "#select_labels = ['/m/01fnck', '/m/019jd', '/m/03120', '/m/02_41', '/m/07cmd', '/m/06q40', '/m/03qtwd', '/m/09x0r', '/m/01xgg_', '/m/08qrwn', '/m/012n4x', '/m/02p16m6', '/m/02lbcq', '/m/09ct_', '/m/0g54v5d', '/m/0bg2p', '/m/0ct4f', '/m/01nd_n', '/m/09rvcxw', '/m/01nl4x', '/m/04ctx', '/m/04ylt', '/m/0gvss07', '/m/01rzcn', '/m/06nrc', '/m/0cyfs', '/m/0f5lx', '/m/04zjc', '/m/0dhz0', '/m/01lcw4', '/m/03htg', '/m/0gxl3', '/m/01bq8v', '/m/0lt4_', '/m/02gzp', '/m/02yjc', '/m/012n7d', '/m/0jb3', '/m/0dwx7']\n"
   ]
  },
  {
   "cell_type": "code",
   "execution_count": 14,
   "metadata": {},
   "outputs": [],
   "source": [
    "with open('../../../wsod/metadata/ont_300/300-classes.csv', 'r') as fin:\n",
    "    select_labels = [item.strip() for item in fin]\n"
   ]
  },
  {
   "cell_type": "code",
   "execution_count": null,
   "metadata": {},
   "outputs": [],
   "source": []
  },
  {
   "cell_type": "markdown",
   "metadata": {},
   "source": [
    "## Visualizing Results"
   ]
  },
  {
   "cell_type": "code",
   "execution_count": 15,
   "metadata": {},
   "outputs": [],
   "source": [
    "mid2name_extended = {}\n",
    "extended_classes = set()\n",
    "for key in all_labels:\n",
    "    for model, abv in [('coco', 'CO'), ('oi', 'OI'), ('ws', 'WS'), ('pascal','PA'), ('coco/J', 'CO/J'), ('oi/J', 'OI/J'), ('ws/J', 'WS/J'), ('pascal/J','PA/J')]:\n",
    "        extended_classes.add(key + '/' + model)\n",
    "        mid2name_extended[key + '/' + model] = mid2name_all[key] + f' ({abv})'\n",
    "extended_classes = list(extended_classes)\n",
    "mid2idx_extended = {}\n",
    "for i, key in enumerate(extended_classes):\n",
    "    mid2idx_extended[key] = i\n",
    "category_index_extended = {mid2idx_extended[key]:{'id': mid2idx_extended[key], 'name': mid2name_extended[key]} for key in mid2name_extended}"
   ]
  },
  {
   "cell_type": "code",
   "execution_count": null,
   "metadata": {},
   "outputs": [],
   "source": []
  },
  {
   "cell_type": "code",
   "execution_count": 16,
   "metadata": {},
   "outputs": [],
   "source": [
    "def preproc(im):\n",
    "    target_size = 400\n",
    "    max_size = 1024\n",
    "    im_size_min = np.min(im.shape[0:2])\n",
    "    im_size_max = np.max(im.shape[0:2])\n",
    "    im_scale = float(target_size) / float(im_size_min)\n",
    "    # Prevent the biggest axis from being more than MAX_SIZE\n",
    "    if np.round(im_scale * im_size_max) > max_size:\n",
    "        im_scale = float(max_size) / float(im_size_max)\n",
    "    im = cv2.resize(im, None, None, fx=im_scale, fy=im_scale,\n",
    "                    interpolation=cv2.INTER_LINEAR)    \n",
    "    return im"
   ]
  },
  {
   "cell_type": "code",
   "execution_count": null,
   "metadata": {},
   "outputs": [],
   "source": []
  },
  {
   "cell_type": "code",
   "execution_count": 17,
   "metadata": {},
   "outputs": [],
   "source": [
    "result_dict = {\n",
    "    'Not Merged': det_results_concat,\n",
    "    'Merged': det_results_merged,\n",
    "    'Post-Processed': det_results_postproc,\n",
    "}"
   ]
  },
  {
   "cell_type": "code",
   "execution_count": 18,
   "metadata": {},
   "outputs": [],
   "source": [
    "path_prefix = '../../../../data/seedling_v2/part1/jpg/' "
   ]
  },
  {
   "cell_type": "code",
   "execution_count": 19,
   "metadata": {},
   "outputs": [],
   "source": [
    "model_abv_dict = {\n",
    "    'coco': 'CO',\n",
    "    'pascal': 'PA',\n",
    "    'oi': 'OI',\n",
    "    'ws': 'WS',\n",
    "    'coco/J': 'CO/J',\n",
    "    'pascal/J': 'PA/J',\n",
    "    'oi/J': 'OI/J',\n",
    "    'ws/J': 'WS/J',\n",
    "}"
   ]
  },
  {
   "cell_type": "code",
   "execution_count": 20,
   "metadata": {},
   "outputs": [],
   "source": [
    "def show(imgid, source, thresh):\n",
    "    filename = path_prefix + imgid + '.jpg.ldcc'\n",
    "    print(imgid)\n",
    "    with open(filename, 'rb') as fin:\n",
    "        _ = fin.read(1024)\n",
    "        imgbin = fin.read()\n",
    "    imgbgr = cv2.imdecode(np.fromstring(imgbin, dtype='uint8'), cv2.IMREAD_COLOR)\n",
    "    image_np = imgbgr[:,:,[2,1,0]]\n",
    "    image_np = preproc(image_np)\n",
    "    \n",
    "    detections = result_dict[source][imgid]\n",
    "    boxes = np.asarray([det['bbox_normalized'] for det in detections])[:,[1,0,3,2]]\n",
    "    scores = [det['score'] for det in detections]\n",
    "    label_idx = [mid2idx_extended[det['label'] + '/' + det['model']] for det in detections]\n",
    "    \n",
    "    # print([(mid2name_extended[extended_classes[item]], boxes[i]) for i, item in enumerate(label_idx) if scores[i] > thresh])\n",
    "    \n",
    "    vis_util.visualize_boxes_and_labels_on_image_array(\n",
    "      image_np,\n",
    "      boxes,\n",
    "      label_idx,\n",
    "      scores,\n",
    "      category_index_extended,\n",
    "      use_normalized_coordinates=True,\n",
    "      min_score_thresh=thresh,\n",
    "      max_boxes_to_draw=1000,\n",
    "      line_thickness=2)\n",
    "    plt.figure(figsize=(12, 8))\n",
    "    plt.imshow(image_np)\n",
    "    plt.axis('off')\n",
    "    plt.show()    "
   ]
  },
  {
   "cell_type": "code",
   "execution_count": null,
   "metadata": {},
   "outputs": [],
   "source": []
  },
  {
   "cell_type": "code",
   "execution_count": null,
   "metadata": {},
   "outputs": [],
   "source": []
  },
  {
   "cell_type": "code",
   "execution_count": null,
   "metadata": {
    "scrolled": false
   },
   "outputs": [
    {
     "name": "stdout",
     "output_type": "stream",
     "text": [
      "Air force\n"
     ]
    },
    {
     "data": {
      "application/vnd.jupyter.widget-view+json": {
       "model_id": "43c1ceda92e242c19dbff05a2abc50c6",
       "version_major": 2,
       "version_minor": 0
      },
      "text/plain": [
       "interactive(children=(RadioButtons(description='source', options=('Post-Processed', 'Merged', 'Not Merged'), v…"
      ]
     },
     "metadata": {},
     "output_type": "display_data"
    },
    {
     "name": "stdout",
     "output_type": "stream",
     "text": [
      "Aircraft\n"
     ]
    },
    {
     "data": {
      "application/vnd.jupyter.widget-view+json": {
       "model_id": "009a23f80a5f42d88e348e6fda4812ae",
       "version_major": 2,
       "version_minor": 0
      },
      "text/plain": [
       "interactive(children=(RadioButtons(description='source', options=('Post-Processed', 'Merged', 'Not Merged'), v…"
      ]
     },
     "metadata": {},
     "output_type": "display_data"
    },
    {
     "name": "stdout",
     "output_type": "stream",
     "text": [
      "Aircraft cabin\n"
     ]
    },
    {
     "data": {
      "application/vnd.jupyter.widget-view+json": {
       "model_id": "6ba7a594615f4276895f0f9e3cc4c42d",
       "version_major": 2,
       "version_minor": 0
      },
      "text/plain": [
       "interactive(children=(RadioButtons(description='source', options=('Post-Processed', 'Merged', 'Not Merged'), v…"
      ]
     },
     "metadata": {},
     "output_type": "display_data"
    },
    {
     "name": "stdout",
     "output_type": "stream",
     "text": [
      "Aircraft carrier\n"
     ]
    },
    {
     "data": {
      "application/vnd.jupyter.widget-view+json": {
       "model_id": "33684a56d33a42fe92beb5e9735e96f0",
       "version_major": 2,
       "version_minor": 0
      },
      "text/plain": [
       "interactive(children=(RadioButtons(description='source', options=('Post-Processed', 'Merged', 'Not Merged'), v…"
      ]
     },
     "metadata": {},
     "output_type": "display_data"
    },
    {
     "name": "stdout",
     "output_type": "stream",
     "text": [
      "Aircraft engine\n"
     ]
    },
    {
     "data": {
      "application/vnd.jupyter.widget-view+json": {
       "model_id": "afda1199698d47e385f99071017987d4",
       "version_major": 2,
       "version_minor": 0
      },
      "text/plain": [
       "interactive(children=(RadioButtons(description='source', options=('Post-Processed', 'Merged', 'Not Merged'), v…"
      ]
     },
     "metadata": {},
     "output_type": "display_data"
    },
    {
     "name": "stdout",
     "output_type": "stream",
     "text": [
      "Airliner\n"
     ]
    },
    {
     "data": {
      "application/vnd.jupyter.widget-view+json": {
       "model_id": "ca2a8a0ac9fe453bb6e046f402e57f97",
       "version_major": 2,
       "version_minor": 0
      },
      "text/plain": [
       "interactive(children=(RadioButtons(description='source', options=('Post-Processed', 'Merged', 'Not Merged'), v…"
      ]
     },
     "metadata": {},
     "output_type": "display_data"
    },
    {
     "name": "stdout",
     "output_type": "stream",
     "text": [
      "Airplane\n"
     ]
    },
    {
     "data": {
      "application/vnd.jupyter.widget-view+json": {
       "model_id": "d98938a7da7a427880aac9705a89ce6f",
       "version_major": 2,
       "version_minor": 0
      },
      "text/plain": [
       "interactive(children=(RadioButtons(description='source', options=('Post-Processed', 'Merged', 'Not Merged'), v…"
      ]
     },
     "metadata": {},
     "output_type": "display_data"
    },
    {
     "name": "stdout",
     "output_type": "stream",
     "text": [
      "Airport\n"
     ]
    },
    {
     "data": {
      "application/vnd.jupyter.widget-view+json": {
       "model_id": "5d0840c565d8443584f365c23f2be50a",
       "version_major": 2,
       "version_minor": 0
      },
      "text/plain": [
       "interactive(children=(RadioButtons(description='source', options=('Post-Processed', 'Merged', 'Not Merged'), v…"
      ]
     },
     "metadata": {},
     "output_type": "display_data"
    },
    {
     "name": "stdout",
     "output_type": "stream",
     "text": [
      "Ammunition\n"
     ]
    },
    {
     "data": {
      "application/vnd.jupyter.widget-view+json": {
       "model_id": "147b6176d40048749f337e195decd1b9",
       "version_major": 2,
       "version_minor": 0
      },
      "text/plain": [
       "interactive(children=(RadioButtons(description='source', options=('Post-Processed', 'Merged', 'Not Merged'), v…"
      ]
     },
     "metadata": {},
     "output_type": "display_data"
    },
    {
     "name": "stdout",
     "output_type": "stream",
     "text": [
      "Animal\n"
     ]
    },
    {
     "data": {
      "application/vnd.jupyter.widget-view+json": {
       "model_id": "94e301ec0ba14699bea77beada66773e",
       "version_major": 2,
       "version_minor": 0
      },
      "text/plain": [
       "interactive(children=(RadioButtons(description='source', options=('Post-Processed', 'Merged', 'Not Merged'), v…"
      ]
     },
     "metadata": {},
     "output_type": "display_data"
    },
    {
     "name": "stdout",
     "output_type": "stream",
     "text": [
      "Armored car\n"
     ]
    },
    {
     "data": {
      "application/vnd.jupyter.widget-view+json": {
       "model_id": "2d57c79958924e9381ac63a0f2fddda9",
       "version_major": 2,
       "version_minor": 0
      },
      "text/plain": [
       "interactive(children=(RadioButtons(description='source', options=('Post-Processed', 'Merged', 'Not Merged'), v…"
      ]
     },
     "metadata": {},
     "output_type": "display_data"
    },
    {
     "name": "stdout",
     "output_type": "stream",
     "text": [
      "Army\n"
     ]
    },
    {
     "data": {
      "application/vnd.jupyter.widget-view+json": {
       "model_id": "761bc0eec1ab4ff98ddc84cb6c98ea4c",
       "version_major": 2,
       "version_minor": 0
      },
      "text/plain": [
       "interactive(children=(RadioButtons(description='source', options=('Post-Processed', 'Merged', 'Not Merged'), v…"
      ]
     },
     "metadata": {},
     "output_type": "display_data"
    },
    {
     "name": "stdout",
     "output_type": "stream",
     "text": [
      "Assault rifle\n"
     ]
    },
    {
     "data": {
      "application/vnd.jupyter.widget-view+json": {
       "model_id": "84944b73091842cf99437a58c4ba82f6",
       "version_major": 2,
       "version_minor": 0
      },
      "text/plain": [
       "interactive(children=(RadioButtons(description='source', options=('Post-Processed', 'Merged', 'Not Merged'), v…"
      ]
     },
     "metadata": {},
     "output_type": "display_data"
    },
    {
     "name": "stdout",
     "output_type": "stream",
     "text": [
      "Audience\n"
     ]
    },
    {
     "data": {
      "application/vnd.jupyter.widget-view+json": {
       "model_id": "c46ee2f29d28440789b9773d553c42de",
       "version_major": 2,
       "version_minor": 0
      },
      "text/plain": [
       "interactive(children=(RadioButtons(description='source', options=('Post-Processed', 'Merged', 'Not Merged'), v…"
      ]
     },
     "metadata": {},
     "output_type": "display_data"
    },
    {
     "name": "stdout",
     "output_type": "stream",
     "text": [
      "Auditorium\n"
     ]
    },
    {
     "data": {
      "application/vnd.jupyter.widget-view+json": {
       "model_id": "7e20e4f1a4524ef5b1d638513ffd6ebd",
       "version_major": 2,
       "version_minor": 0
      },
      "text/plain": [
       "interactive(children=(RadioButtons(description='source', options=('Post-Processed', 'Merged', 'Not Merged'), v…"
      ]
     },
     "metadata": {},
     "output_type": "display_data"
    },
    {
     "name": "stdout",
     "output_type": "stream",
     "text": [
      "Auto part\n"
     ]
    },
    {
     "data": {
      "application/vnd.jupyter.widget-view+json": {
       "model_id": "aef622fda0964d1ea811e6ee1fa6a6de",
       "version_major": 2,
       "version_minor": 0
      },
      "text/plain": [
       "interactive(children=(RadioButtons(description='source', options=('Post-Processed', 'Merged', 'Not Merged'), v…"
      ]
     },
     "metadata": {},
     "output_type": "display_data"
    },
    {
     "name": "stdout",
     "output_type": "stream",
     "text": [
      "Badge\n"
     ]
    },
    {
     "data": {
      "application/vnd.jupyter.widget-view+json": {
       "model_id": "f35a3e97b54d42dbae5f0db076a69bfc",
       "version_major": 2,
       "version_minor": 0
      },
      "text/plain": [
       "interactive(children=(RadioButtons(description='source', options=('Post-Processed', 'Merged', 'Not Merged'), v…"
      ]
     },
     "metadata": {},
     "output_type": "display_data"
    },
    {
     "name": "stdout",
     "output_type": "stream",
     "text": [
      "Ballistic vest\n"
     ]
    },
    {
     "data": {
      "application/vnd.jupyter.widget-view+json": {
       "model_id": "675a3f3044514448a8fd27c9fea0678a",
       "version_major": 2,
       "version_minor": 0
      },
      "text/plain": [
       "interactive(children=(RadioButtons(description='source', options=('Post-Processed', 'Merged', 'Not Merged'), v…"
      ]
     },
     "metadata": {},
     "output_type": "display_data"
    },
    {
     "name": "stdout",
     "output_type": "stream",
     "text": [
      "Barge\n"
     ]
    },
    {
     "data": {
      "application/vnd.jupyter.widget-view+json": {
       "model_id": "f6e0b8c6b1f840e3a6030d7a6854f572",
       "version_major": 2,
       "version_minor": 0
      },
      "text/plain": [
       "interactive(children=(RadioButtons(description='source', options=('Post-Processed', 'Merged', 'Not Merged'), v…"
      ]
     },
     "metadata": {},
     "output_type": "display_data"
    },
    {
     "name": "stdout",
     "output_type": "stream",
     "text": [
      "Bicycle\n"
     ]
    },
    {
     "data": {
      "application/vnd.jupyter.widget-view+json": {
       "model_id": "65f73ca18ebe40209d2f8bbe78417e3a",
       "version_major": 2,
       "version_minor": 0
      },
      "text/plain": [
       "interactive(children=(RadioButtons(description='source', options=('Post-Processed', 'Merged', 'Not Merged'), v…"
      ]
     },
     "metadata": {},
     "output_type": "display_data"
    },
    {
     "name": "stdout",
     "output_type": "stream",
     "text": [
      "Billboard\n"
     ]
    },
    {
     "data": {
      "application/vnd.jupyter.widget-view+json": {
       "model_id": "1ad8d4f4f49b4c82b216b8461cdc2ffb",
       "version_major": 2,
       "version_minor": 0
      },
      "text/plain": [
       "interactive(children=(RadioButtons(description='source', options=('Post-Processed', 'Merged', 'Not Merged'), v…"
      ]
     },
     "metadata": {},
     "output_type": "display_data"
    },
    {
     "name": "stdout",
     "output_type": "stream",
     "text": [
      "Boat\n"
     ]
    },
    {
     "data": {
      "application/vnd.jupyter.widget-view+json": {
       "model_id": "56c8205315c84fb2affd247d9ced155d",
       "version_major": 2,
       "version_minor": 0
      },
      "text/plain": [
       "interactive(children=(RadioButtons(description='source', options=('Post-Processed', 'Merged', 'Not Merged'), v…"
      ]
     },
     "metadata": {},
     "output_type": "display_data"
    },
    {
     "name": "stdout",
     "output_type": "stream",
     "text": [
      "Bomb\n"
     ]
    },
    {
     "data": {
      "application/vnd.jupyter.widget-view+json": {
       "model_id": "e508eac0a8f1440da3a9fbab9ee76ad6",
       "version_major": 2,
       "version_minor": 0
      },
      "text/plain": [
       "interactive(children=(RadioButtons(description='source', options=('Post-Processed', 'Merged', 'Not Merged'), v…"
      ]
     },
     "metadata": {},
     "output_type": "display_data"
    },
    {
     "name": "stdout",
     "output_type": "stream",
     "text": [
      "Bomber\n"
     ]
    },
    {
     "data": {
      "application/vnd.jupyter.widget-view+json": {
       "model_id": "7f6c41b7c5604c2b8998f967dd9e7ff1",
       "version_major": 2,
       "version_minor": 0
      },
      "text/plain": [
       "interactive(children=(RadioButtons(description='source', options=('Post-Processed', 'Merged', 'Not Merged'), v…"
      ]
     },
     "metadata": {},
     "output_type": "display_data"
    },
    {
     "name": "stdout",
     "output_type": "stream",
     "text": [
      "Boy\n"
     ]
    },
    {
     "data": {
      "application/vnd.jupyter.widget-view+json": {
       "model_id": "0ec87bf1ecb044e4b2c3948d652eef04",
       "version_major": 2,
       "version_minor": 0
      },
      "text/plain": [
       "interactive(children=(RadioButtons(description='source', options=('Post-Processed', 'Merged', 'Not Merged'), v…"
      ]
     },
     "metadata": {},
     "output_type": "display_data"
    },
    {
     "name": "stdout",
     "output_type": "stream",
     "text": [
      "Bride\n"
     ]
    },
    {
     "data": {
      "application/vnd.jupyter.widget-view+json": {
       "model_id": "6e75ea1feb4d431799bbdecb9805b20f",
       "version_major": 2,
       "version_minor": 0
      },
      "text/plain": [
       "interactive(children=(RadioButtons(description='source', options=('Post-Processed', 'Merged', 'Not Merged'), v…"
      ]
     },
     "metadata": {},
     "output_type": "display_data"
    },
    {
     "name": "stdout",
     "output_type": "stream",
     "text": [
      "Bridge\n"
     ]
    },
    {
     "data": {
      "application/vnd.jupyter.widget-view+json": {
       "model_id": "c51a92cbdeba4e18924a8072d641a3c8",
       "version_major": 2,
       "version_minor": 0
      },
      "text/plain": [
       "interactive(children=(RadioButtons(description='source', options=('Post-Processed', 'Merged', 'Not Merged'), v…"
      ]
     },
     "metadata": {},
     "output_type": "display_data"
    },
    {
     "name": "stdout",
     "output_type": "stream",
     "text": [
      "Bronze sculpture\n"
     ]
    },
    {
     "data": {
      "application/vnd.jupyter.widget-view+json": {
       "model_id": "aec0e373f5504fc4bbfac2d2fd4bfe52",
       "version_major": 2,
       "version_minor": 0
      },
      "text/plain": [
       "interactive(children=(RadioButtons(description='source', options=('Post-Processed', 'Merged', 'Not Merged'), v…"
      ]
     },
     "metadata": {},
     "output_type": "display_data"
    },
    {
     "name": "stdout",
     "output_type": "stream",
     "text": [
      "Building\n"
     ]
    },
    {
     "data": {
      "application/vnd.jupyter.widget-view+json": {
       "model_id": "dd0f26d892de4ccfbbb2c25681a6789f",
       "version_major": 2,
       "version_minor": 0
      },
      "text/plain": [
       "interactive(children=(RadioButtons(description='source', options=('Post-Processed', 'Merged', 'Not Merged'), v…"
      ]
     },
     "metadata": {},
     "output_type": "display_data"
    },
    {
     "name": "stdout",
     "output_type": "stream",
     "text": [
      "Bullet train\n"
     ]
    },
    {
     "data": {
      "application/vnd.jupyter.widget-view+json": {
       "model_id": "0fc28880fcd4489386d7b34c7723db8d",
       "version_major": 2,
       "version_minor": 0
      },
      "text/plain": [
       "interactive(children=(RadioButtons(description='source', options=('Post-Processed', 'Merged', 'Not Merged'), v…"
      ]
     },
     "metadata": {},
     "output_type": "display_data"
    },
    {
     "name": "stdout",
     "output_type": "stream",
     "text": [
      "Bus\n"
     ]
    },
    {
     "data": {
      "application/vnd.jupyter.widget-view+json": {
       "model_id": "160e0f3764aa4723b2c509ce998f2c1b",
       "version_major": 2,
       "version_minor": 0
      },
      "text/plain": [
       "interactive(children=(RadioButtons(description='source', options=('Post-Processed', 'Merged', 'Not Merged'), v…"
      ]
     },
     "metadata": {},
     "output_type": "display_data"
    },
    {
     "name": "stdout",
     "output_type": "stream",
     "text": [
      "Bus stop\n"
     ]
    },
    {
     "data": {
      "application/vnd.jupyter.widget-view+json": {
       "model_id": "6061e1ee7bfd42068873d98ee3fed193",
       "version_major": 2,
       "version_minor": 0
      },
      "text/plain": [
       "interactive(children=(RadioButtons(description='source', options=('Post-Processed', 'Merged', 'Not Merged'), v…"
      ]
     },
     "metadata": {},
     "output_type": "display_data"
    },
    {
     "name": "stdout",
     "output_type": "stream",
     "text": [
      "Business jet\n"
     ]
    },
    {
     "data": {
      "application/vnd.jupyter.widget-view+json": {
       "model_id": "4884147c49424c0597cf865c3306c745",
       "version_major": 2,
       "version_minor": 0
      },
      "text/plain": [
       "interactive(children=(RadioButtons(description='source', options=('Post-Processed', 'Merged', 'Not Merged'), v…"
      ]
     },
     "metadata": {},
     "output_type": "display_data"
    },
    {
     "name": "stdout",
     "output_type": "stream",
     "text": [
      "Businessperson\n"
     ]
    },
    {
     "data": {
      "application/vnd.jupyter.widget-view+json": {
       "model_id": "e01362a29b2b46929a0768e293938b36",
       "version_major": 2,
       "version_minor": 0
      },
      "text/plain": [
       "interactive(children=(RadioButtons(description='source', options=('Post-Processed', 'Merged', 'Not Merged'), v…"
      ]
     },
     "metadata": {},
     "output_type": "display_data"
    },
    {
     "name": "stdout",
     "output_type": "stream",
     "text": [
      "Camera\n"
     ]
    },
    {
     "data": {
      "application/vnd.jupyter.widget-view+json": {
       "model_id": "65fdf29865de431487de1aa1583f20a0",
       "version_major": 2,
       "version_minor": 0
      },
      "text/plain": [
       "interactive(children=(RadioButtons(description='source', options=('Post-Processed', 'Merged', 'Not Merged'), v…"
      ]
     },
     "metadata": {},
     "output_type": "display_data"
    },
    {
     "name": "stdout",
     "output_type": "stream",
     "text": [
      "Camouflage\n"
     ]
    },
    {
     "data": {
      "application/vnd.jupyter.widget-view+json": {
       "model_id": "01710d90eff548aeab599b7780c92608",
       "version_major": 2,
       "version_minor": 0
      },
      "text/plain": [
       "interactive(children=(RadioButtons(description='source', options=('Post-Processed', 'Merged', 'Not Merged'), v…"
      ]
     },
     "metadata": {},
     "output_type": "display_data"
    },
    {
     "name": "stdout",
     "output_type": "stream",
     "text": [
      "Cannon\n"
     ]
    },
    {
     "data": {
      "application/vnd.jupyter.widget-view+json": {
       "model_id": "c396e3890b184988b71e0b15fe03a403",
       "version_major": 2,
       "version_minor": 0
      },
      "text/plain": [
       "interactive(children=(RadioButtons(description='source', options=('Post-Processed', 'Merged', 'Not Merged'), v…"
      ]
     },
     "metadata": {},
     "output_type": "display_data"
    },
    {
     "name": "stdout",
     "output_type": "stream",
     "text": [
      "Canoe\n"
     ]
    },
    {
     "data": {
      "application/vnd.jupyter.widget-view+json": {
       "model_id": "729ac7098962498dab8ee97125e80ab5",
       "version_major": 2,
       "version_minor": 0
      },
      "text/plain": [
       "interactive(children=(RadioButtons(description='source', options=('Post-Processed', 'Merged', 'Not Merged'), v…"
      ]
     },
     "metadata": {},
     "output_type": "display_data"
    },
    {
     "name": "stdout",
     "output_type": "stream",
     "text": [
      "Car\n"
     ]
    },
    {
     "data": {
      "application/vnd.jupyter.widget-view+json": {
       "model_id": "b1a1b705c4de4356ad874f4ae4141576",
       "version_major": 2,
       "version_minor": 0
      },
      "text/plain": [
       "interactive(children=(RadioButtons(description='source', options=('Post-Processed', 'Merged', 'Not Merged'), v…"
      ]
     },
     "metadata": {},
     "output_type": "display_data"
    },
    {
     "name": "stdout",
     "output_type": "stream",
     "text": [
      "Cargo aircraft\n"
     ]
    },
    {
     "data": {
      "application/vnd.jupyter.widget-view+json": {
       "model_id": "c192da7a138d452eab9c9dc3da5903ef",
       "version_major": 2,
       "version_minor": 0
      },
      "text/plain": [
       "interactive(children=(RadioButtons(description='source', options=('Post-Processed', 'Merged', 'Not Merged'), v…"
      ]
     },
     "metadata": {},
     "output_type": "display_data"
    },
    {
     "name": "stdout",
     "output_type": "stream",
     "text": [
      "Cash\n"
     ]
    },
    {
     "data": {
      "application/vnd.jupyter.widget-view+json": {
       "model_id": "9b2fe5f244fa4d4895034062c8c7e784",
       "version_major": 2,
       "version_minor": 0
      },
      "text/plain": [
       "interactive(children=(RadioButtons(description='source', options=('Post-Processed', 'Merged', 'Not Merged'), v…"
      ]
     },
     "metadata": {},
     "output_type": "display_data"
    },
    {
     "name": "stdout",
     "output_type": "stream",
     "text": [
      "Castle\n"
     ]
    },
    {
     "data": {
      "application/vnd.jupyter.widget-view+json": {
       "model_id": "8c335bc4d5334320a6cb441832a10a87",
       "version_major": 2,
       "version_minor": 0
      },
      "text/plain": [
       "interactive(children=(RadioButtons(description='source', options=('Post-Processed', 'Merged', 'Not Merged'), v…"
      ]
     },
     "metadata": {},
     "output_type": "display_data"
    },
    {
     "name": "stdout",
     "output_type": "stream",
     "text": [
      "Cemetery\n"
     ]
    },
    {
     "data": {
      "application/vnd.jupyter.widget-view+json": {
       "model_id": "d2c715623aaa47ad86eb79b373bc6fff",
       "version_major": 2,
       "version_minor": 0
      },
      "text/plain": [
       "interactive(children=(RadioButtons(description='source', options=('Post-Processed', 'Merged', 'Not Merged'), v…"
      ]
     },
     "metadata": {},
     "output_type": "display_data"
    },
    {
     "name": "stdout",
     "output_type": "stream",
     "text": [
      "Chapel\n"
     ]
    },
    {
     "data": {
      "application/vnd.jupyter.widget-view+json": {
       "model_id": "78c09fd5178a4c86b10362babf0bb588",
       "version_major": 2,
       "version_minor": 0
      },
      "text/plain": [
       "interactive(children=(RadioButtons(description='source', options=('Post-Processed', 'Merged', 'Not Merged'), v…"
      ]
     },
     "metadata": {},
     "output_type": "display_data"
    },
    {
     "name": "stdout",
     "output_type": "stream",
     "text": [
      "Child\n"
     ]
    },
    {
     "data": {
      "application/vnd.jupyter.widget-view+json": {
       "model_id": "a06a56d8418a4fdd8482121f297ba62c",
       "version_major": 2,
       "version_minor": 0
      },
      "text/plain": [
       "interactive(children=(RadioButtons(description='source', options=('Post-Processed', 'Merged', 'Not Merged'), v…"
      ]
     },
     "metadata": {},
     "output_type": "display_data"
    },
    {
     "name": "stdout",
     "output_type": "stream",
     "text": [
      "Church\n"
     ]
    },
    {
     "data": {
      "application/vnd.jupyter.widget-view+json": {
       "model_id": "a9f53209f56a4f00837f381d3d008249",
       "version_major": 2,
       "version_minor": 0
      },
      "text/plain": [
       "interactive(children=(RadioButtons(description='source', options=('Post-Processed', 'Merged', 'Not Merged'), v…"
      ]
     },
     "metadata": {},
     "output_type": "display_data"
    },
    {
     "name": "stdout",
     "output_type": "stream",
     "text": [
      "City\n"
     ]
    },
    {
     "data": {
      "application/vnd.jupyter.widget-view+json": {
       "model_id": "81583da436f6467b92b507c6c8d52a10",
       "version_major": 2,
       "version_minor": 0
      },
      "text/plain": [
       "interactive(children=(RadioButtons(description='source', options=('Post-Processed', 'Merged', 'Not Merged'), v…"
      ]
     },
     "metadata": {},
     "output_type": "display_data"
    },
    {
     "name": "stdout",
     "output_type": "stream",
     "text": [
      "Combat vehicle\n"
     ]
    },
    {
     "data": {
      "application/vnd.jupyter.widget-view+json": {
       "model_id": "20d7e34e0a1c4de797fb409f6f328f9f",
       "version_major": 2,
       "version_minor": 0
      },
      "text/plain": [
       "interactive(children=(RadioButtons(description='source', options=('Post-Processed', 'Merged', 'Not Merged'), v…"
      ]
     },
     "metadata": {},
     "output_type": "display_data"
    },
    {
     "name": "stdout",
     "output_type": "stream",
     "text": [
      "Commercial building\n"
     ]
    },
    {
     "data": {
      "application/vnd.jupyter.widget-view+json": {
       "model_id": "330aa72f0ed34e2bbf238e5813d8adcb",
       "version_major": 2,
       "version_minor": 0
      },
      "text/plain": [
       "interactive(children=(RadioButtons(description='source', options=('Post-Processed', 'Merged', 'Not Merged'), v…"
      ]
     },
     "metadata": {},
     "output_type": "display_data"
    },
    {
     "name": "stdout",
     "output_type": "stream",
     "text": [
      "Commercial vehicle\n"
     ]
    },
    {
     "data": {
      "application/vnd.jupyter.widget-view+json": {
       "model_id": "de3e4bcd2ac046729dd98195495e3f6d",
       "version_major": 2,
       "version_minor": 0
      },
      "text/plain": [
       "interactive(children=(RadioButtons(description='source', options=('Post-Processed', 'Merged', 'Not Merged'), v…"
      ]
     },
     "metadata": {},
     "output_type": "display_data"
    },
    {
     "name": "stdout",
     "output_type": "stream",
     "text": [
      "Computer\n"
     ]
    },
    {
     "data": {
      "application/vnd.jupyter.widget-view+json": {
       "model_id": "6e1cf42fff374b7299aab73fefc388e8",
       "version_major": 2,
       "version_minor": 0
      },
      "text/plain": [
       "interactive(children=(RadioButtons(description='source', options=('Post-Processed', 'Merged', 'Not Merged'), v…"
      ]
     },
     "metadata": {},
     "output_type": "display_data"
    },
    {
     "name": "stdout",
     "output_type": "stream",
     "text": [
      "Conference hall\n"
     ]
    },
    {
     "data": {
      "application/vnd.jupyter.widget-view+json": {
       "model_id": "ae0655d4eb2942179fc91eb812b302c5",
       "version_major": 2,
       "version_minor": 0
      },
      "text/plain": [
       "interactive(children=(RadioButtons(description='source', options=('Post-Processed', 'Merged', 'Not Merged'), v…"
      ]
     },
     "metadata": {},
     "output_type": "display_data"
    },
    {
     "name": "stdout",
     "output_type": "stream",
     "text": [
      "Construction equipment\n"
     ]
    },
    {
     "data": {
      "application/vnd.jupyter.widget-view+json": {
       "model_id": "9e94deb18d4f43d99927611ecc814ea9",
       "version_major": 2,
       "version_minor": 0
      },
      "text/plain": [
       "interactive(children=(RadioButtons(description='source', options=('Post-Processed', 'Merged', 'Not Merged'), v…"
      ]
     },
     "metadata": {},
     "output_type": "display_data"
    },
    {
     "name": "stdout",
     "output_type": "stream",
     "text": [
      "Convenience store\n"
     ]
    },
    {
     "data": {
      "application/vnd.jupyter.widget-view+json": {
       "model_id": "5b1f48c88f7d4ebf8c08cc89bd738ccd",
       "version_major": 2,
       "version_minor": 0
      },
      "text/plain": [
       "interactive(children=(RadioButtons(description='source', options=('Post-Processed', 'Merged', 'Not Merged'), v…"
      ]
     },
     "metadata": {},
     "output_type": "display_data"
    },
    {
     "name": "stdout",
     "output_type": "stream",
     "text": [
      "Crew\n"
     ]
    },
    {
     "data": {
      "application/vnd.jupyter.widget-view+json": {
       "model_id": "079e0f766aea43f4af0e3c7d66dd7646",
       "version_major": 2,
       "version_minor": 0
      },
      "text/plain": [
       "interactive(children=(RadioButtons(description='source', options=('Post-Processed', 'Merged', 'Not Merged'), v…"
      ]
     },
     "metadata": {},
     "output_type": "display_data"
    },
    {
     "name": "stdout",
     "output_type": "stream",
     "text": [
      "Crowd\n"
     ]
    },
    {
     "data": {
      "application/vnd.jupyter.widget-view+json": {
       "model_id": "81216bfd48e5487aa35ecb15451d1983",
       "version_major": 2,
       "version_minor": 0
      },
      "text/plain": [
       "interactive(children=(RadioButtons(description='source', options=('Post-Processed', 'Merged', 'Not Merged'), v…"
      ]
     },
     "metadata": {},
     "output_type": "display_data"
    },
    {
     "name": "stdout",
     "output_type": "stream",
     "text": [
      "Dispatcher\n"
     ]
    },
    {
     "data": {
      "application/vnd.jupyter.widget-view+json": {
       "model_id": "df769c94bb1144d0b420aea6a00c5a2a",
       "version_major": 2,
       "version_minor": 0
      },
      "text/plain": [
       "interactive(children=(RadioButtons(description='source', options=('Post-Processed', 'Merged', 'Not Merged'), v…"
      ]
     },
     "metadata": {},
     "output_type": "display_data"
    },
    {
     "name": "stdout",
     "output_type": "stream",
     "text": [
      "Dog\n"
     ]
    },
    {
     "data": {
      "application/vnd.jupyter.widget-view+json": {
       "model_id": "8933746954a241c99f9ae8ccebfdaae4",
       "version_major": 2,
       "version_minor": 0
      },
      "text/plain": [
       "interactive(children=(RadioButtons(description='source', options=('Post-Processed', 'Merged', 'Not Merged'), v…"
      ]
     },
     "metadata": {},
     "output_type": "display_data"
    },
    {
     "name": "stdout",
     "output_type": "stream",
     "text": [
      "Drone\n"
     ]
    },
    {
     "data": {
      "application/vnd.jupyter.widget-view+json": {
       "model_id": "23008188a284484e95fd347e957fb819",
       "version_major": 2,
       "version_minor": 0
      },
      "text/plain": [
       "interactive(children=(RadioButtons(description='source', options=('Post-Processed', 'Merged', 'Not Merged'), v…"
      ]
     },
     "metadata": {},
     "output_type": "display_data"
    },
    {
     "name": "stdout",
     "output_type": "stream",
     "text": [
      "Electronic device\n"
     ]
    },
    {
     "data": {
      "application/vnd.jupyter.widget-view+json": {
       "model_id": "9787174e5d224458a129c3b8a6173cfe",
       "version_major": 2,
       "version_minor": 0
      },
      "text/plain": [
       "interactive(children=(RadioButtons(description='source', options=('Post-Processed', 'Merged', 'Not Merged'), v…"
      ]
     },
     "metadata": {},
     "output_type": "display_data"
    },
    {
     "name": "stdout",
     "output_type": "stream",
     "text": [
      "Emblem\n"
     ]
    },
    {
     "data": {
      "application/vnd.jupyter.widget-view+json": {
       "model_id": "4a5173c981f04bd3ac69b0fa74dfed27",
       "version_major": 2,
       "version_minor": 0
      },
      "text/plain": [
       "interactive(children=(RadioButtons(description='source', options=('Post-Processed', 'Merged', 'Not Merged'), v…"
      ]
     },
     "metadata": {},
     "output_type": "display_data"
    },
    {
     "name": "stdout",
     "output_type": "stream",
     "text": [
      "Estate\n"
     ]
    },
    {
     "data": {
      "application/vnd.jupyter.widget-view+json": {
       "model_id": "34c2084bdae6490cb522a5843bb61886",
       "version_major": 2,
       "version_minor": 0
      },
      "text/plain": [
       "interactive(children=(RadioButtons(description='source', options=('Post-Processed', 'Merged', 'Not Merged'), v…"
      ]
     },
     "metadata": {},
     "output_type": "display_data"
    },
    {
     "name": "stdout",
     "output_type": "stream",
     "text": [
      "Explosive material\n"
     ]
    },
    {
     "data": {
      "application/vnd.jupyter.widget-view+json": {
       "model_id": "af62184e62af4b9ea25bad8b38080474",
       "version_major": 2,
       "version_minor": 0
      },
      "text/plain": [
       "interactive(children=(RadioButtons(description='source', options=('Post-Processed', 'Merged', 'Not Merged'), v…"
      ]
     },
     "metadata": {},
     "output_type": "display_data"
    },
    {
     "name": "stdout",
     "output_type": "stream",
     "text": [
      "Fence\n"
     ]
    },
    {
     "data": {
      "application/vnd.jupyter.widget-view+json": {
       "model_id": "cc1206de87c94600acedd86318e9690a",
       "version_major": 2,
       "version_minor": 0
      },
      "text/plain": [
       "interactive(children=(RadioButtons(description='source', options=('Post-Processed', 'Merged', 'Not Merged'), v…"
      ]
     },
     "metadata": {},
     "output_type": "display_data"
    },
    {
     "name": "stdout",
     "output_type": "stream",
     "text": [
      "Fighter aircraft\n"
     ]
    },
    {
     "data": {
      "application/vnd.jupyter.widget-view+json": {
       "model_id": "ee17e554322c4f7a9de966e61dad7a16",
       "version_major": 2,
       "version_minor": 0
      },
      "text/plain": [
       "interactive(children=(RadioButtons(description='source', options=('Post-Processed', 'Merged', 'Not Merged'), v…"
      ]
     },
     "metadata": {},
     "output_type": "display_data"
    },
    {
     "name": "stdout",
     "output_type": "stream",
     "text": [
      "Fighter pilot\n"
     ]
    },
    {
     "data": {
      "application/vnd.jupyter.widget-view+json": {
       "model_id": "34b0d6bf2d574cd09a41c07bb1f4d0f3",
       "version_major": 2,
       "version_minor": 0
      },
      "text/plain": [
       "interactive(children=(RadioButtons(description='source', options=('Post-Processed', 'Merged', 'Not Merged'), v…"
      ]
     },
     "metadata": {},
     "output_type": "display_data"
    },
    {
     "name": "stdout",
     "output_type": "stream",
     "text": [
      "Fire apparatus\n"
     ]
    },
    {
     "data": {
      "application/vnd.jupyter.widget-view+json": {
       "model_id": "6b04df58b0d24e67adfa6b843ca445a6",
       "version_major": 2,
       "version_minor": 0
      },
      "text/plain": [
       "interactive(children=(RadioButtons(description='source', options=('Post-Processed', 'Merged', 'Not Merged'), v…"
      ]
     },
     "metadata": {},
     "output_type": "display_data"
    },
    {
     "name": "stdout",
     "output_type": "stream",
     "text": [
      "Fire extinguisher\n"
     ]
    },
    {
     "data": {
      "application/vnd.jupyter.widget-view+json": {
       "model_id": "ca35270332ca46edbb2e081ab04fa1f1",
       "version_major": 2,
       "version_minor": 0
      },
      "text/plain": [
       "interactive(children=(RadioButtons(description='source', options=('Post-Processed', 'Merged', 'Not Merged'), v…"
      ]
     },
     "metadata": {},
     "output_type": "display_data"
    },
    {
     "name": "stdout",
     "output_type": "stream",
     "text": [
      "Firearm\n"
     ]
    },
    {
     "data": {
      "application/vnd.jupyter.widget-view+json": {
       "model_id": "48bf263844f6428eb8b56bb240a4ba9d",
       "version_major": 2,
       "version_minor": 0
      },
      "text/plain": [
       "interactive(children=(RadioButtons(description='source', options=('Post-Processed', 'Merged', 'Not Merged'), v…"
      ]
     },
     "metadata": {},
     "output_type": "display_data"
    },
    {
     "name": "stdout",
     "output_type": "stream",
     "text": [
      "Firefighter\n"
     ]
    },
    {
     "data": {
      "application/vnd.jupyter.widget-view+json": {
       "model_id": "504dbc40d55d4519beaf9e905749be24",
       "version_major": 2,
       "version_minor": 0
      },
      "text/plain": [
       "interactive(children=(RadioButtons(description='source', options=('Post-Processed', 'Merged', 'Not Merged'), v…"
      ]
     },
     "metadata": {},
     "output_type": "display_data"
    },
    {
     "name": "stdout",
     "output_type": "stream",
     "text": [
      "Flag\n"
     ]
    },
    {
     "data": {
      "application/vnd.jupyter.widget-view+json": {
       "model_id": "44b00a6ce3794307980ca18fefc804a2",
       "version_major": 2,
       "version_minor": 0
      },
      "text/plain": [
       "interactive(children=(RadioButtons(description='source', options=('Post-Processed', 'Merged', 'Not Merged'), v…"
      ]
     },
     "metadata": {},
     "output_type": "display_data"
    },
    {
     "name": "stdout",
     "output_type": "stream",
     "text": [
      "Flesh\n"
     ]
    },
    {
     "data": {
      "application/vnd.jupyter.widget-view+json": {
       "model_id": "e5fc6d5134364dadb3874ff8fe325c9e",
       "version_major": 2,
       "version_minor": 0
      },
      "text/plain": [
       "interactive(children=(RadioButtons(description='source', options=('Post-Processed', 'Merged', 'Not Merged'), v…"
      ]
     },
     "metadata": {},
     "output_type": "display_data"
    },
    {
     "name": "stdout",
     "output_type": "stream",
     "text": [
      "Flight instruments\n"
     ]
    },
    {
     "data": {
      "application/vnd.jupyter.widget-view+json": {
       "model_id": "03be62d8edba43aab3da56afdeccd92a",
       "version_major": 2,
       "version_minor": 0
      },
      "text/plain": [
       "interactive(children=(RadioButtons(description='source', options=('Post-Processed', 'Merged', 'Not Merged'), v…"
      ]
     },
     "metadata": {},
     "output_type": "display_data"
    },
    {
     "name": "stdout",
     "output_type": "stream",
     "text": [
      "Food\n"
     ]
    },
    {
     "data": {
      "application/vnd.jupyter.widget-view+json": {
       "model_id": "e971868c97da4f87a1bfe549da7774ef",
       "version_major": 2,
       "version_minor": 0
      },
      "text/plain": [
       "interactive(children=(RadioButtons(description='source', options=('Post-Processed', 'Merged', 'Not Merged'), v…"
      ]
     },
     "metadata": {},
     "output_type": "display_data"
    },
    {
     "name": "stdout",
     "output_type": "stream",
     "text": [
      "Furniture\n"
     ]
    },
    {
     "data": {
      "application/vnd.jupyter.widget-view+json": {
       "model_id": "f30dd1d8b85949d7889a3586e4f7a9ed",
       "version_major": 2,
       "version_minor": 0
      },
      "text/plain": [
       "interactive(children=(RadioButtons(description='source', options=('Post-Processed', 'Merged', 'Not Merged'), v…"
      ]
     },
     "metadata": {},
     "output_type": "display_data"
    },
    {
     "name": "stdout",
     "output_type": "stream",
     "text": [
      "Girl\n"
     ]
    },
    {
     "data": {
      "application/vnd.jupyter.widget-view+json": {
       "model_id": "f13f8d56d88c465f92900652b15c949f",
       "version_major": 2,
       "version_minor": 0
      },
      "text/plain": [
       "interactive(children=(RadioButtons(description='source', options=('Post-Processed', 'Merged', 'Not Merged'), v…"
      ]
     },
     "metadata": {},
     "output_type": "display_data"
    },
    {
     "name": "stdout",
     "output_type": "stream",
     "text": [
      "Goggles\n"
     ]
    },
    {
     "data": {
      "application/vnd.jupyter.widget-view+json": {
       "model_id": "dfe02558be1d4afc9d3c1a96300a37c9",
       "version_major": 2,
       "version_minor": 0
      },
      "text/plain": [
       "interactive(children=(RadioButtons(description='source', options=('Post-Processed', 'Merged', 'Not Merged'), v…"
      ]
     },
     "metadata": {},
     "output_type": "display_data"
    },
    {
     "name": "stdout",
     "output_type": "stream",
     "text": [
      "Gondola\n"
     ]
    },
    {
     "data": {
      "application/vnd.jupyter.widget-view+json": {
       "model_id": "cef4ceade94d4166b14f910c94b881f1",
       "version_major": 2,
       "version_minor": 0
      },
      "text/plain": [
       "interactive(children=(RadioButtons(description='source', options=('Post-Processed', 'Merged', 'Not Merged'), v…"
      ]
     },
     "metadata": {},
     "output_type": "display_data"
    },
    {
     "name": "stdout",
     "output_type": "stream",
     "text": [
      "Gps navigation device\n"
     ]
    },
    {
     "data": {
      "application/vnd.jupyter.widget-view+json": {
       "model_id": "490f16bc54da4385805c009b4299b935",
       "version_major": 2,
       "version_minor": 0
      },
      "text/plain": [
       "interactive(children=(RadioButtons(description='source', options=('Post-Processed', 'Merged', 'Not Merged'), v…"
      ]
     },
     "metadata": {},
     "output_type": "display_data"
    },
    {
     "name": "stdout",
     "output_type": "stream",
     "text": [
      "Grave\n"
     ]
    },
    {
     "data": {
      "application/vnd.jupyter.widget-view+json": {
       "model_id": "22d58b03782f4d7e81703c275d16aced",
       "version_major": 2,
       "version_minor": 0
      },
      "text/plain": [
       "interactive(children=(RadioButtons(description='source', options=('Post-Processed', 'Merged', 'Not Merged'), v…"
      ]
     },
     "metadata": {},
     "output_type": "display_data"
    },
    {
     "name": "stdout",
     "output_type": "stream",
     "text": [
      "Ground attack aircraft\n"
     ]
    },
    {
     "data": {
      "application/vnd.jupyter.widget-view+json": {
       "model_id": "e26aecb2618e43c783f06934816dea5a",
       "version_major": 2,
       "version_minor": 0
      },
      "text/plain": [
       "interactive(children=(RadioButtons(description='source', options=('Post-Processed', 'Merged', 'Not Merged'), v…"
      ]
     },
     "metadata": {},
     "output_type": "display_data"
    },
    {
     "name": "stdout",
     "output_type": "stream",
     "text": [
      "Guided missile destroyer\n"
     ]
    },
    {
     "data": {
      "application/vnd.jupyter.widget-view+json": {
       "model_id": "e321486ee5d44139938ef5a186937298",
       "version_major": 2,
       "version_minor": 0
      },
      "text/plain": [
       "interactive(children=(RadioButtons(description='source', options=('Post-Processed', 'Merged', 'Not Merged'), v…"
      ]
     },
     "metadata": {},
     "output_type": "display_data"
    },
    {
     "name": "stdout",
     "output_type": "stream",
     "text": [
      "Gun\n"
     ]
    },
    {
     "data": {
      "application/vnd.jupyter.widget-view+json": {
       "model_id": "5819aafdfbc842dea251fc8f9dd1935a",
       "version_major": 2,
       "version_minor": 0
      },
      "text/plain": [
       "interactive(children=(RadioButtons(description='source', options=('Post-Processed', 'Merged', 'Not Merged'), v…"
      ]
     },
     "metadata": {},
     "output_type": "display_data"
    },
    {
     "name": "stdout",
     "output_type": "stream",
     "text": [
      "Gun turret\n"
     ]
    },
    {
     "data": {
      "application/vnd.jupyter.widget-view+json": {
       "model_id": "56b80af9793b4bedb82f9fc8afbd8850",
       "version_major": 2,
       "version_minor": 0
      },
      "text/plain": [
       "interactive(children=(RadioButtons(description='source', options=('Post-Processed', 'Merged', 'Not Merged'), v…"
      ]
     },
     "metadata": {},
     "output_type": "display_data"
    },
    {
     "name": "stdout",
     "output_type": "stream",
     "text": [
      "Handgun\n"
     ]
    },
    {
     "data": {
      "application/vnd.jupyter.widget-view+json": {
       "model_id": "9a8583c7fef24670bdf98987b868de4e",
       "version_major": 2,
       "version_minor": 0
      },
      "text/plain": [
       "interactive(children=(RadioButtons(description='source', options=('Post-Processed', 'Merged', 'Not Merged'), v…"
      ]
     },
     "metadata": {},
     "output_type": "display_data"
    },
    {
     "name": "stdout",
     "output_type": "stream",
     "text": [
      "Harbor\n"
     ]
    },
    {
     "data": {
      "application/vnd.jupyter.widget-view+json": {
       "model_id": "2e3ae0bbd2244597aaabc19ba9b616f3",
       "version_major": 2,
       "version_minor": 0
      },
      "text/plain": [
       "interactive(children=(RadioButtons(description='source', options=('Post-Processed', 'Merged', 'Not Merged'), v…"
      ]
     },
     "metadata": {},
     "output_type": "display_data"
    },
    {
     "name": "stdout",
     "output_type": "stream",
     "text": [
      "Helicopter\n"
     ]
    },
    {
     "data": {
      "application/vnd.jupyter.widget-view+json": {
       "model_id": "ce43bfb53d0e48fbb0175ceb78747066",
       "version_major": 2,
       "version_minor": 0
      },
      "text/plain": [
       "interactive(children=(RadioButtons(description='source', options=('Post-Processed', 'Merged', 'Not Merged'), v…"
      ]
     },
     "metadata": {},
     "output_type": "display_data"
    },
    {
     "name": "stdout",
     "output_type": "stream",
     "text": [
      "Helicopter pilot\n"
     ]
    },
    {
     "data": {
      "application/vnd.jupyter.widget-view+json": {
       "model_id": "b7eda2712c9b429a980be41791e95534",
       "version_major": 2,
       "version_minor": 0
      },
      "text/plain": [
       "interactive(children=(RadioButtons(description='source', options=('Post-Processed', 'Merged', 'Not Merged'), v…"
      ]
     },
     "metadata": {},
     "output_type": "display_data"
    },
    {
     "name": "stdout",
     "output_type": "stream",
     "text": [
      "Helmet\n"
     ]
    },
    {
     "data": {
      "application/vnd.jupyter.widget-view+json": {
       "model_id": "714b424d4c7b427e9269d8e254ea6e35",
       "version_major": 2,
       "version_minor": 0
      },
      "text/plain": [
       "interactive(children=(RadioButtons(description='source', options=('Post-Processed', 'Merged', 'Not Merged'), v…"
      ]
     },
     "metadata": {},
     "output_type": "display_data"
    },
    {
     "name": "stdout",
     "output_type": "stream",
     "text": [
      "High-visibility clothing\n"
     ]
    },
    {
     "data": {
      "application/vnd.jupyter.widget-view+json": {
       "model_id": "633ee89b48f64bd290732809143edd3f",
       "version_major": 2,
       "version_minor": 0
      },
      "text/plain": [
       "interactive(children=(RadioButtons(description='source', options=('Post-Processed', 'Merged', 'Not Merged'), v…"
      ]
     },
     "metadata": {},
     "output_type": "display_data"
    },
    {
     "name": "stdout",
     "output_type": "stream",
     "text": [
      "Highway\n"
     ]
    },
    {
     "data": {
      "application/vnd.jupyter.widget-view+json": {
       "model_id": "2164b00ad7214b13ad1bbb1567b4a129",
       "version_major": 2,
       "version_minor": 0
      },
      "text/plain": [
       "interactive(children=(RadioButtons(description='source', options=('Post-Processed', 'Merged', 'Not Merged'), v…"
      ]
     },
     "metadata": {},
     "output_type": "display_data"
    },
    {
     "name": "stdout",
     "output_type": "stream",
     "text": [
      "Home\n"
     ]
    },
    {
     "data": {
      "application/vnd.jupyter.widget-view+json": {
       "model_id": "6fe7ed423bb94b26bf2daf477a3cd30a",
       "version_major": 2,
       "version_minor": 0
      },
      "text/plain": [
       "interactive(children=(RadioButtons(description='source', options=('Post-Processed', 'Merged', 'Not Merged'), v…"
      ]
     },
     "metadata": {},
     "output_type": "display_data"
    },
    {
     "name": "stdout",
     "output_type": "stream",
     "text": [
      "House\n"
     ]
    },
    {
     "data": {
      "application/vnd.jupyter.widget-view+json": {
       "model_id": "18c73f78ed594a72922405d33c3060bc",
       "version_major": 2,
       "version_minor": 0
      },
      "text/plain": [
       "interactive(children=(RadioButtons(description='source', options=('Post-Processed', 'Merged', 'Not Merged'), v…"
      ]
     },
     "metadata": {},
     "output_type": "display_data"
    },
    {
     "name": "stdout",
     "output_type": "stream",
     "text": [
      "Human body\n"
     ]
    },
    {
     "data": {
      "application/vnd.jupyter.widget-view+json": {
       "model_id": "bed404a40bf14af5a8c997d5b050ec56",
       "version_major": 2,
       "version_minor": 0
      },
      "text/plain": [
       "interactive(children=(RadioButtons(description='source', options=('Post-Processed', 'Merged', 'Not Merged'), v…"
      ]
     },
     "metadata": {},
     "output_type": "display_data"
    },
    {
     "name": "stdout",
     "output_type": "stream",
     "text": [
      "Human face\n"
     ]
    },
    {
     "data": {
      "application/vnd.jupyter.widget-view+json": {
       "model_id": "63a1f1a9c27c4ca7a0ec7a385ae0c769",
       "version_major": 2,
       "version_minor": 0
      },
      "text/plain": [
       "interactive(children=(RadioButtons(description='source', options=('Post-Processed', 'Merged', 'Not Merged'), v…"
      ]
     },
     "metadata": {},
     "output_type": "display_data"
    },
    {
     "name": "stdout",
     "output_type": "stream",
     "text": [
      "Human head\n"
     ]
    },
    {
     "data": {
      "application/vnd.jupyter.widget-view+json": {
       "model_id": "98e93a3322b049349f0e3361866995ca",
       "version_major": 2,
       "version_minor": 0
      },
      "text/plain": [
       "interactive(children=(RadioButtons(description='source', options=('Post-Processed', 'Merged', 'Not Merged'), v…"
      ]
     },
     "metadata": {},
     "output_type": "display_data"
    },
    {
     "name": "stdout",
     "output_type": "stream",
     "text": [
      "Infantry\n"
     ]
    },
    {
     "data": {
      "application/vnd.jupyter.widget-view+json": {
       "model_id": "f486195cd2584030ae0181b7917eb317",
       "version_major": 2,
       "version_minor": 0
      },
      "text/plain": [
       "interactive(children=(RadioButtons(description='source', options=('Post-Processed', 'Merged', 'Not Merged'), v…"
      ]
     },
     "metadata": {},
     "output_type": "display_data"
    },
    {
     "name": "stdout",
     "output_type": "stream",
     "text": [
      "Jet aircraft\n"
     ]
    },
    {
     "data": {
      "application/vnd.jupyter.widget-view+json": {
       "model_id": "db006f3bf51348e38353cb39e143423a",
       "version_major": 2,
       "version_minor": 0
      },
      "text/plain": [
       "interactive(children=(RadioButtons(description='source', options=('Post-Processed', 'Merged', 'Not Merged'), v…"
      ]
     },
     "metadata": {},
     "output_type": "display_data"
    },
    {
     "name": "stdout",
     "output_type": "stream",
     "text": [
      "Jet engine\n"
     ]
    },
    {
     "data": {
      "application/vnd.jupyter.widget-view+json": {
       "model_id": "525d8e9c6bfb4293b123bfd3b37830c1",
       "version_major": 2,
       "version_minor": 0
      },
      "text/plain": [
       "interactive(children=(RadioButtons(description='source', options=('Post-Processed', 'Merged', 'Not Merged'), v…"
      ]
     },
     "metadata": {},
     "output_type": "display_data"
    },
    {
     "name": "stdout",
     "output_type": "stream",
     "text": [
      "Jet ski\n"
     ]
    },
    {
     "data": {
      "application/vnd.jupyter.widget-view+json": {
       "model_id": "b4d25923f9194ea1aa8fe7a88b85d5c3",
       "version_major": 2,
       "version_minor": 0
      },
      "text/plain": [
       "interactive(children=(RadioButtons(description='source', options=('Post-Processed', 'Merged', 'Not Merged'), v…"
      ]
     },
     "metadata": {},
     "output_type": "display_data"
    },
    {
     "name": "stdout",
     "output_type": "stream",
     "text": [
      "Knife\n"
     ]
    },
    {
     "data": {
      "application/vnd.jupyter.widget-view+json": {
       "model_id": "e36709c072e34109a51b2dcddbc9a926",
       "version_major": 2,
       "version_minor": 0
      },
      "text/plain": [
       "interactive(children=(RadioButtons(description='source', options=('Post-Processed', 'Merged', 'Not Merged'), v…"
      ]
     },
     "metadata": {},
     "output_type": "display_data"
    },
    {
     "name": "stdout",
     "output_type": "stream",
     "text": [
      "Land vehicle\n"
     ]
    },
    {
     "data": {
      "application/vnd.jupyter.widget-view+json": {
       "model_id": "9022e4c9a96a43eebb63ffb2e9f58251",
       "version_major": 2,
       "version_minor": 0
      },
      "text/plain": [
       "interactive(children=(RadioButtons(description='source', options=('Post-Processed', 'Merged', 'Not Merged'), v…"
      ]
     },
     "metadata": {},
     "output_type": "display_data"
    },
    {
     "name": "stdout",
     "output_type": "stream",
     "text": [
      "Landmark\n"
     ]
    },
    {
     "data": {
      "application/vnd.jupyter.widget-view+json": {
       "model_id": "ffd3139303814b0abb9f1115b1bdc59e",
       "version_major": 2,
       "version_minor": 0
      },
      "text/plain": [
       "interactive(children=(RadioButtons(description='source', options=('Post-Processed', 'Merged', 'Not Merged'), v…"
      ]
     },
     "metadata": {},
     "output_type": "display_data"
    },
    {
     "name": "stdout",
     "output_type": "stream",
     "text": [
      "Laptop\n"
     ]
    },
    {
     "data": {
      "application/vnd.jupyter.widget-view+json": {
       "model_id": "4a5afde972a9472786d6e6433b982220",
       "version_major": 2,
       "version_minor": 0
      },
      "text/plain": [
       "interactive(children=(RadioButtons(description='source', options=('Post-Processed', 'Merged', 'Not Merged'), v…"
      ]
     },
     "metadata": {},
     "output_type": "display_data"
    },
    {
     "name": "stdout",
     "output_type": "stream",
     "text": [
      "Lectern\n"
     ]
    },
    {
     "data": {
      "application/vnd.jupyter.widget-view+json": {
       "model_id": "02d7fb0d2db3449a9a695c99bddfcb92",
       "version_major": 2,
       "version_minor": 0
      },
      "text/plain": [
       "interactive(children=(RadioButtons(description='source', options=('Post-Processed', 'Merged', 'Not Merged'), v…"
      ]
     },
     "metadata": {},
     "output_type": "display_data"
    },
    {
     "name": "stdout",
     "output_type": "stream",
     "text": [
      "Lifejacket\n"
     ]
    },
    {
     "data": {
      "application/vnd.jupyter.widget-view+json": {
       "model_id": "cc9be75770e14214814384988f17397f",
       "version_major": 2,
       "version_minor": 0
      },
      "text/plain": [
       "interactive(children=(RadioButtons(description='source', options=('Post-Processed', 'Merged', 'Not Merged'), v…"
      ]
     },
     "metadata": {},
     "output_type": "display_data"
    },
    {
     "name": "stdout",
     "output_type": "stream",
     "text": [
      "Light aircraft\n"
     ]
    },
    {
     "data": {
      "application/vnd.jupyter.widget-view+json": {
       "model_id": "48aaf30f96fe4fd5b848f2c4c292c912",
       "version_major": 2,
       "version_minor": 0
      },
      "text/plain": [
       "interactive(children=(RadioButtons(description='source', options=('Post-Processed', 'Merged', 'Not Merged'), v…"
      ]
     },
     "metadata": {},
     "output_type": "display_data"
    },
    {
     "name": "stdout",
     "output_type": "stream",
     "text": [
      "Light aircraft carrier\n"
     ]
    },
    {
     "data": {
      "application/vnd.jupyter.widget-view+json": {
       "model_id": "9b609867a0af46f2be081b631fe0879a",
       "version_major": 2,
       "version_minor": 0
      },
      "text/plain": [
       "interactive(children=(RadioButtons(description='source', options=('Post-Processed', 'Merged', 'Not Merged'), v…"
      ]
     },
     "metadata": {},
     "output_type": "display_data"
    },
    {
     "name": "stdout",
     "output_type": "stream",
     "text": [
      "Lighthouse\n"
     ]
    },
    {
     "data": {
      "application/vnd.jupyter.widget-view+json": {
       "model_id": "a381f9782ba4443fa47ac3d130e69ce9",
       "version_major": 2,
       "version_minor": 0
      },
      "text/plain": [
       "interactive(children=(RadioButtons(description='source', options=('Post-Processed', 'Merged', 'Not Merged'), v…"
      ]
     },
     "metadata": {},
     "output_type": "display_data"
    },
    {
     "name": "stdout",
     "output_type": "stream",
     "text": [
      "Limousine\n"
     ]
    },
    {
     "data": {
      "application/vnd.jupyter.widget-view+json": {
       "model_id": "620aff74cc3e49e78c62d92a1ebb82ec",
       "version_major": 2,
       "version_minor": 0
      },
      "text/plain": [
       "interactive(children=(RadioButtons(description='source', options=('Post-Processed', 'Merged', 'Not Merged'), v…"
      ]
     },
     "metadata": {},
     "output_type": "display_data"
    },
    {
     "name": "stdout",
     "output_type": "stream",
     "text": [
      "Locomotive\n"
     ]
    },
    {
     "data": {
      "application/vnd.jupyter.widget-view+json": {
       "model_id": "022f2548ca5e4b96a3c666d28ca005d5",
       "version_major": 2,
       "version_minor": 0
      },
      "text/plain": [
       "interactive(children=(RadioButtons(description='source', options=('Post-Processed', 'Merged', 'Not Merged'), v…"
      ]
     },
     "metadata": {},
     "output_type": "display_data"
    },
    {
     "name": "stdout",
     "output_type": "stream",
     "text": [
      "Logo\n"
     ]
    },
    {
     "data": {
      "application/vnd.jupyter.widget-view+json": {
       "model_id": "f71f4bac3a224b3fb1ad0a79d386d03c",
       "version_major": 2,
       "version_minor": 0
      },
      "text/plain": [
       "interactive(children=(RadioButtons(description='source', options=('Post-Processed', 'Merged', 'Not Merged'), v…"
      ]
     },
     "metadata": {},
     "output_type": "display_data"
    },
    {
     "name": "stdout",
     "output_type": "stream",
     "text": [
      "Luggage and bags\n"
     ]
    },
    {
     "data": {
      "application/vnd.jupyter.widget-view+json": {
       "model_id": "0055961f85914bfb804fd7e222c995f4",
       "version_major": 2,
       "version_minor": 0
      },
      "text/plain": [
       "interactive(children=(RadioButtons(description='source', options=('Post-Processed', 'Merged', 'Not Merged'), v…"
      ]
     },
     "metadata": {},
     "output_type": "display_data"
    },
    {
     "name": "stdout",
     "output_type": "stream",
     "text": [
      "Luxury vehicle\n"
     ]
    },
    {
     "data": {
      "application/vnd.jupyter.widget-view+json": {
       "model_id": "c5677908371447e3b3a7bb62806213ab",
       "version_major": 2,
       "version_minor": 0
      },
      "text/plain": [
       "interactive(children=(RadioButtons(description='source', options=('Post-Processed', 'Merged', 'Not Merged'), v…"
      ]
     },
     "metadata": {},
     "output_type": "display_data"
    },
    {
     "name": "stdout",
     "output_type": "stream",
     "text": [
      "Machine\n"
     ]
    },
    {
     "data": {
      "application/vnd.jupyter.widget-view+json": {
       "model_id": "83097e8a09d74cab841437d77854598e",
       "version_major": 2,
       "version_minor": 0
      },
      "text/plain": [
       "interactive(children=(RadioButtons(description='source', options=('Post-Processed', 'Merged', 'Not Merged'), v…"
      ]
     },
     "metadata": {},
     "output_type": "display_data"
    },
    {
     "name": "stdout",
     "output_type": "stream",
     "text": [
      "Machine gun\n"
     ]
    },
    {
     "data": {
      "application/vnd.jupyter.widget-view+json": {
       "model_id": "1a40b507ad734602aa6ace009608a92e",
       "version_major": 2,
       "version_minor": 0
      },
      "text/plain": [
       "interactive(children=(RadioButtons(description='source', options=('Post-Processed', 'Merged', 'Not Merged'), v…"
      ]
     },
     "metadata": {},
     "output_type": "display_data"
    },
    {
     "name": "stdout",
     "output_type": "stream",
     "text": [
      "Man\n"
     ]
    },
    {
     "data": {
      "application/vnd.jupyter.widget-view+json": {
       "model_id": "93cd1740693e4489baee4a1d5fa7ae1f",
       "version_major": 2,
       "version_minor": 0
      },
      "text/plain": [
       "interactive(children=(RadioButtons(description='source', options=('Post-Processed', 'Merged', 'Not Merged'), v…"
      ]
     },
     "metadata": {},
     "output_type": "display_data"
    },
    {
     "name": "stdout",
     "output_type": "stream",
     "text": [
      "Map\n"
     ]
    },
    {
     "data": {
      "application/vnd.jupyter.widget-view+json": {
       "model_id": "152b1c4e34e242d3a50dfe73314af08a",
       "version_major": 2,
       "version_minor": 0
      },
      "text/plain": [
       "interactive(children=(RadioButtons(description='source', options=('Post-Processed', 'Merged', 'Not Merged'), v…"
      ]
     },
     "metadata": {},
     "output_type": "display_data"
    },
    {
     "name": "stdout",
     "output_type": "stream",
     "text": [
      "Medical equipment\n"
     ]
    },
    {
     "data": {
      "application/vnd.jupyter.widget-view+json": {
       "model_id": "0bd69a2a62ea41cb8afc29ce435159db",
       "version_major": 2,
       "version_minor": 0
      },
      "text/plain": [
       "interactive(children=(RadioButtons(description='source', options=('Post-Processed', 'Merged', 'Not Merged'), v…"
      ]
     },
     "metadata": {},
     "output_type": "display_data"
    },
    {
     "name": "stdout",
     "output_type": "stream",
     "text": [
      "Medium tactical vehicle replacement\n"
     ]
    },
    {
     "data": {
      "application/vnd.jupyter.widget-view+json": {
       "model_id": "17594ac0b6fe47de82cbfb0e8c3b6770",
       "version_major": 2,
       "version_minor": 0
      },
      "text/plain": [
       "interactive(children=(RadioButtons(description='source', options=('Post-Processed', 'Merged', 'Not Merged'), v…"
      ]
     },
     "metadata": {},
     "output_type": "display_data"
    },
    {
     "name": "stdout",
     "output_type": "stream",
     "text": [
      "Microphone\n"
     ]
    },
    {
     "data": {
      "application/vnd.jupyter.widget-view+json": {
       "model_id": "f7ceb6d547b64926be40470d04cf7182",
       "version_major": 2,
       "version_minor": 0
      },
      "text/plain": [
       "interactive(children=(RadioButtons(description='source', options=('Post-Processed', 'Merged', 'Not Merged'), v…"
      ]
     },
     "metadata": {},
     "output_type": "display_data"
    },
    {
     "name": "stdout",
     "output_type": "stream",
     "text": [
      "Military\n"
     ]
    },
    {
     "data": {
      "application/vnd.jupyter.widget-view+json": {
       "model_id": "1e62541c23724640906e43df7c99ff8c",
       "version_major": 2,
       "version_minor": 0
      },
      "text/plain": [
       "interactive(children=(RadioButtons(description='source', options=('Post-Processed', 'Merged', 'Not Merged'), v…"
      ]
     },
     "metadata": {},
     "output_type": "display_data"
    },
    {
     "name": "stdout",
     "output_type": "stream",
     "text": [
      "Military aircraft\n"
     ]
    },
    {
     "data": {
      "application/vnd.jupyter.widget-view+json": {
       "model_id": "25795d7ff198493bb75a45d8670f64fe",
       "version_major": 2,
       "version_minor": 0
      },
      "text/plain": [
       "interactive(children=(RadioButtons(description='source', options=('Post-Processed', 'Merged', 'Not Merged'), v…"
      ]
     },
     "metadata": {},
     "output_type": "display_data"
    },
    {
     "name": "stdout",
     "output_type": "stream",
     "text": [
      "Military camouflage\n"
     ]
    },
    {
     "data": {
      "application/vnd.jupyter.widget-view+json": {
       "model_id": "491f1aab0ea945f58acff17a1bd17e0c",
       "version_major": 2,
       "version_minor": 0
      },
      "text/plain": [
       "interactive(children=(RadioButtons(description='source', options=('Post-Processed', 'Merged', 'Not Merged'), v…"
      ]
     },
     "metadata": {},
     "output_type": "display_data"
    },
    {
     "name": "stdout",
     "output_type": "stream",
     "text": [
      "Military helicopter\n"
     ]
    },
    {
     "data": {
      "application/vnd.jupyter.widget-view+json": {
       "model_id": "36cc5c4f83e640d7992e8e6829d4c23c",
       "version_major": 2,
       "version_minor": 0
      },
      "text/plain": [
       "interactive(children=(RadioButtons(description='source', options=('Post-Processed', 'Merged', 'Not Merged'), v…"
      ]
     },
     "metadata": {},
     "output_type": "display_data"
    },
    {
     "name": "stdout",
     "output_type": "stream",
     "text": [
      "Military officer\n"
     ]
    },
    {
     "data": {
      "application/vnd.jupyter.widget-view+json": {
       "model_id": "aa6c548717014d0884fb47538b351a27",
       "version_major": 2,
       "version_minor": 0
      },
      "text/plain": [
       "interactive(children=(RadioButtons(description='source', options=('Post-Processed', 'Merged', 'Not Merged'), v…"
      ]
     },
     "metadata": {},
     "output_type": "display_data"
    },
    {
     "name": "stdout",
     "output_type": "stream",
     "text": [
      "Military organization\n"
     ]
    },
    {
     "data": {
      "application/vnd.jupyter.widget-view+json": {
       "model_id": "4f04ef998e0747218b54db2e50653cd1",
       "version_major": 2,
       "version_minor": 0
      },
      "text/plain": [
       "interactive(children=(RadioButtons(description='source', options=('Post-Processed', 'Merged', 'Not Merged'), v…"
      ]
     },
     "metadata": {},
     "output_type": "display_data"
    }
   ],
   "source": [
    "for label in select_labels:\n",
    "    if len(label_to_img[label]) == 0:\n",
    "        continue\n",
    "    print(mid2name_all[label])\n",
    "    imgid = np.random.choice(label_to_img[label])\n",
    "    w = interactive(show, \n",
    "        imgid=fixed(imgid),\n",
    "        source=widgets.RadioButtons(options=['Post-Processed', 'Merged', 'Not Merged'], value='Post-Processed'), \n",
    "        thresh=widgets.FloatSlider(min=0.0, max=1.0, step=0.01, value=0.1, continuous_update=False), \n",
    "    )\n",
    "    w.children[-1].layout.height = '600px'\n",
    "    display(w)\n",
    "    "
   ]
  },
  {
   "cell_type": "code",
   "execution_count": null,
   "metadata": {},
   "outputs": [],
   "source": [
    "1"
   ]
  },
  {
   "cell_type": "code",
   "execution_count": null,
   "metadata": {},
   "outputs": [],
   "source": []
  },
  {
   "cell_type": "code",
   "execution_count": null,
   "metadata": {},
   "outputs": [],
   "source": []
  },
  {
   "cell_type": "code",
   "execution_count": null,
   "metadata": {},
   "outputs": [],
   "source": []
  }
 ],
 "metadata": {
  "kernelspec": {
   "display_name": "Py3 w/ Tensorflow",
   "language": "python",
   "name": "py3tf"
  },
  "language_info": {
   "codemirror_mode": {
    "name": "ipython",
    "version": 3
   },
   "file_extension": ".py",
   "mimetype": "text/x-python",
   "name": "python",
   "nbconvert_exporter": "python",
   "pygments_lexer": "ipython3",
   "version": "3.6.5"
  }
 },
 "nbformat": 4,
 "nbformat_minor": 2
}
