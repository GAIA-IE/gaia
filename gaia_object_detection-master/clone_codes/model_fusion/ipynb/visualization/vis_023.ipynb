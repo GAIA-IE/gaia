{
 "cells": [
  {
   "cell_type": "code",
   "execution_count": 1,
   "metadata": {},
   "outputs": [],
   "source": [
    "import os\n",
    "import sys\n",
    "import pickle\n",
    "import csv\n",
    "import copy\n",
    "\n",
    "import numpy as np\n",
    "import cv2\n",
    "import matplotlib.pyplot as plt\n",
    "%matplotlib inline"
   ]
  },
  {
   "cell_type": "code",
   "execution_count": 2,
   "metadata": {},
   "outputs": [],
   "source": [
    "from ipywidgets import interact, interactive, fixed, interact_manual\n",
    "import ipywidgets as widgets"
   ]
  },
  {
   "cell_type": "code",
   "execution_count": 3,
   "metadata": {},
   "outputs": [
    {
     "name": "stderr",
     "output_type": "stream",
     "text": [
      "../../../tfobjdetect/lib/object_detection/utils/visualization_utils.py:25: UserWarning: matplotlib.pyplot as already been imported, this call will have no effect.\n",
      "  import matplotlib; matplotlib.use('Agg')  # pylint: disable=multiple-statements\n"
     ]
    }
   ],
   "source": [
    "sys.path.append(\"../../../tfobjdetect/lib\")\n",
    "from object_detection.utils import label_map_util\n",
    "from object_detection.utils import visualization_utils as vis_util"
   ]
  },
  {
   "cell_type": "markdown",
   "metadata": {},
   "source": [
    "## Loading and preparing label maps"
   ]
  },
  {
   "cell_type": "code",
   "execution_count": 4,
   "metadata": {},
   "outputs": [],
   "source": [
    "with open('../../../wsod/metadata/ont_m18/class_names_all.pkl', 'rb') as fin:\n",
    "    mid2name_all = pickle.load(fin)"
   ]
  },
  {
   "cell_type": "code",
   "execution_count": 5,
   "metadata": {},
   "outputs": [],
   "source": [
    "with open('../../results/det_results_concat_28.pkl', 'rb') as fin:\n",
    "    det_results_concat = pickle.load(fin)"
   ]
  },
  {
   "cell_type": "code",
   "execution_count": 6,
   "metadata": {},
   "outputs": [],
   "source": [
    "with open('../../results/det_results_merged_28.pkl', 'rb') as fin:\n",
    "    det_results_merged = pickle.load(fin)"
   ]
  },
  {
   "cell_type": "code",
   "execution_count": 9,
   "metadata": {},
   "outputs": [],
   "source": []
  },
  {
   "cell_type": "markdown",
   "metadata": {},
   "source": [
    "## Choosing examples for each class to visualize"
   ]
  },
  {
   "cell_type": "code",
   "execution_count": 7,
   "metadata": {},
   "outputs": [],
   "source": [
    "label_to_img = {key: [] for key in mid2name_all}\n",
    "for key, val in det_results_merged.items():\n",
    "    for det in val:\n",
    "        if det['score'] >= 0.1:\n",
    "            label_to_img[det['label']].append(key)"
   ]
  },
  {
   "cell_type": "code",
   "execution_count": 8,
   "metadata": {},
   "outputs": [],
   "source": [
    "all_labels = list(label_to_img.keys())"
   ]
  },
  {
   "cell_type": "code",
   "execution_count": 9,
   "metadata": {},
   "outputs": [],
   "source": [
    "sort_idx = np.argsort([-len(label_to_img[label]) for label in all_labels])"
   ]
  },
  {
   "cell_type": "code",
   "execution_count": 11,
   "metadata": {},
   "outputs": [
    {
     "name": "stdout",
     "output_type": "stream",
     "text": [
      "/m/01g317 PER (Person) 7288\n",
      "/m/0hf58v5 COM (Luggage_and_bags) 405\n",
      "/m/0k4j VEH.WheeledVehicle.Car (Car) 350\n",
      "/m/04hgtk PER (Human_head) 294\n",
      "/m/0bs7_0t COM (Electronic_device) 249\n",
      "/m/07yv9 VEH (Vehicle) 206\n",
      "/m/0cgh4 FAC.Building (Building) 188\n",
      "/m/07k1x COM.Equipment (Tool) 160\n",
      "/m/07r04 VEH.WheeledVehicle.Truck (Truck) 112\n",
      "/m/07cx4 COM (Telephone) 78\n",
      "/m/03120 COM.Flag.Flag (Flag) 78\n",
      "/m/019jd VEH.Watercraft.Boat (Boat) 61\n",
      "/m/04_tb COM.Document.Map (Map) 61\n",
      "/m/07cmd VEH.MilitaryVehicle.Tank (Tank) 54\n",
      "/m/0cmf2 VEH.Aircraft.Airplane (Airplane) 51\n",
      "/m/01prls VEH.WheeledVehicle (Land_vehicle) 49\n",
      "/m/07jdr VEH.WheeledVehicle.Train (Train) 39\n",
      "/m/0199g VEH.WheeledVehicle (Bicycle) 36\n",
      "syn_001 PER.ProfessionalPosition.Spokesperson (Orator) 34\n",
      "/m/04yx4 PER (Man) 32\n",
      "/m/01knjb COM (Billboard) 31\n",
      "syn_011 ORG (Logo) 30\n",
      "/m/01bjv VEH.WheeledVehicle.Bus (Bus) 29\n",
      "/m/03jm5 FAC.Building.House (House) 28\n",
      "/m/083kb WEA (Weapon) 24\n",
      "syn_006 WEA.DaggerKnifeSword (Knife) 17\n",
      "/m/0chbx Conflict.Attack (Violence) 16\n",
      "/m/01fdzj FAC.Structure.Tower (Tower) 16\n",
      "/m/02p0zyj Conflict.Attack (Riot) 16\n",
      "/m/03qtwd PER (Crowd) 15\n",
      "/m/03bt1vf PER (Woman) 14\n",
      "/m/021sj1 FAC.Building.OfficeBuilding (Office_building) 13\n",
      "/m/0hg7b COM.Equipment (Microphone) 12\n",
      "syn_024 MON.Cash.Cash (Money) 12\n",
      "syn_018 Contact.PublicStatementInPerson.Broadcast (Public_speaking) 12\n",
      "/m/04_sv VEH.WheeledVehicle (Motorcycle) 11\n",
      "/m/06msq COM (Sculpture) 11\n",
      "/m/09ct_ VEH.Aircraft.Helicopter (Helicopter) 11\n",
      "syn_016 Conflict.Attack.SelfDirectedBattle (Battle) 11\n",
      "/m/06c54 WEA.Gun.Firearm (Rifle) 10\n",
      "/m/01x3jk VEH (Snowmobile) 10\n",
      "/m/026yq0z Conflict.Demonstrate (Demonstration) 9\n",
      "/m/01xgg_ COM.Equipment.MedicalEquipment (Medical_equipment) 8\n",
      "syn_010 COM (Badge) 7\n",
      "/m/012n4x PER.ProfessionalPosition.Firefighter (Firefighter) 7\n",
      "/m/02_41 Disaster.FireExplosion.FireExplosion (Fire) 6\n",
      "syn_014 ORG.MilitaryOrganization.GovernmentArmedForces (Military_camouflage) 5\n",
      "/m/06q2q PER.ProfessionalPosition.Scientist (Scientist) 5\n",
      "/m/079cl FAC.Building (Skyscraper) 5\n",
      "/m/01_v7j COM.Document.PersonalIdentification (Identity_document) 5\n",
      "/m/05r655 PER (Girl) 4\n",
      "/m/06q40 Disaster.FireExplosion.FireExplosion (Smoke) 4\n",
      "/m/04h7h FAC.Structure (Lighthouse) 3\n",
      "/m/02nvjx FAC (Place_of_worship) 3\n",
      "/m/01j61q FAC (Tent) 3\n",
      "/m/0168g6 FAC.Installation (Factory) 3\n",
      "syn_004 ORG.MilitaryOrganization.GovernmentArmedForces (Infantry) 3\n",
      "/m/09g5pq PER (People) 3\n",
      "/m/038t8_ FAC.Building (Estate) 3\n",
      "/m/01h6cb Contact.Discussion.Meet (Meeting) 2\n",
      "/m/0cfs8 FAC.Building (Cathedral) 2\n",
      "/m/06zdj FAC.Building.School (School) 2\n",
      "/m/092x18 Justice.InitiateJudicialProcess.TrialHearing (Trial) 2\n",
      "/m/0f0q9 GPE.UrbanArea.Village (Village) 2\n",
      "/m/0k5j VEH.Aircraft (Aircraft) 2\n",
      "/m/06wwc COM.Equipment.Satellite (Satellite) 2\n",
      "/m/039l3v FAC.Building (Auditorium) 2\n",
      "/m/015kr FAC.Structure.Bridge (Bridge) 2\n",
      "/m/0d5gx FAC.Building (Castle) 2\n",
      "/m/06q74 VEH.Watercraft (Ship) 2\n",
      "/m/02lbcq COM.Equipment.MedicalEquipment (Stretcher) 2\n",
      "/m/0crjs FAC.Building.StoreShop (Convenience_store) 2\n",
      "syn_015 PER.Police (Security_guard) 2\n",
      "/m/013m1 ORG.MilitaryOrganization.GovernmentArmedForces (Air_force) 1\n",
      "/m/01bl7v PER (Boy) 1\n",
      "/m/01vzwd WEA.Cannon.Cannon (Mortar) 1\n",
      "/m/05ws7 PER.Police (Police) 1\n",
      "/m/0lt4_ COM.Equipment (Binoculars) 1\n",
      "/m/0583b1 FAC.Structure.Barricade (Barricade) 1\n",
      "syn_019 Movement.TransportPerson (Transport) 1\n",
      "syn_013 Disaster.AccidentCrash.AccidentCrash (Accident) 1\n",
      "syn_003 PER.MilitaryPersonnel (map to OWG = Serviceman) (Military_person) 1\n",
      "/m/04ylt WEA.MissileSystem.Missile (Missile) 1\n",
      "/m/0h2r6 VEH.WheeledVehicle (Van) 1\n",
      "/m/01c8br FAC.Way.Street (Street) 1\n",
      "/m/0cyfs COM.Equipment (Parachute) 1\n",
      "/m/0bh6t6c PER.ProfessionalPosition (Rescuer) 1\n",
      "/m/01phq4 FAC (Pier) 1\n",
      "/m/09rvcxw VEH.Rocket.Rocket (Rocket) 1\n",
      "/m/02gx17 COM.Equipment (Construction_equipment) 1\n",
      "/m/015bv3 COM.Document (Document) 1\n",
      "/m/02k88w Conflict.Attack (Rebellion) 1\n",
      "/m/0ct4f WEA.Bomb (Bomb) 1\n",
      "/m/027cnw2 PER.ProfessionalPosition.Minister (Minister) 1\n",
      "/m/02_g0 Contact.FuneralVigil.Meet (Funeral) 0\n",
      "/m/08qrwn LOC.Land (Rubble) 0\n",
      "/m/0d8qb PER.ProfessionalPosition.Journalist (Journalist) 0\n",
      "/m/01nblt FAC.Building.ApartmentBuilding (Apartment) 0\n",
      "/m/0f5lx VEH.MilitaryVehicle (Military_aircraft) 0\n",
      "/m/03htg FAC (Harbor) 0\n",
      "/m/02bb1s WEA.Gun.Firearm (Sniper_rifle) 0\n",
      "/m/0g_k0 Manufacture.Artifact.CreateManufacture (Mass_production) 0\n",
      "/m/01nd_n Conflict.Demonstrate.MarchProtestPoliticalGathering (Protest) 0\n",
      "/m/03w1r4 ORG.MilitaryOrganization.GovernmentArmedForces (Military_uniform) 0\n",
      "/m/01jpn4 FAC.Building.StoreShop (Grocery_store) 0\n",
      "/m/014zdl Disaster.FireExplosion.FireExplosion (Explosion) 0\n",
      "/m/08854 VEH.Watercraft.Yacht (Yacht) 0\n",
      "/m/04zjc WEA.Gun.Firearm (Machine_gun) 0\n",
      "/m/01c648 COM (Electronic_device.Laptop) 0\n",
      "/m/071rm Conflict.Attack.FirearmAttack (Shooting) 0\n",
      "/m/06dq9 COM.Equipment (Radar) 0\n",
      "/m/09l35 VEH (Space_shuttle) 0\n",
      "/m/0191hp VEH.Watercraft (Oil_tanker) 0\n",
      "/m/06fk8 WEA.Gun.Firearm (Revolver) 0\n",
      "syn_005 Movement.TransportPerson.SelfMotion (General_aviation) 0\n",
      "syn_007 FAC (Cemetery) 0\n",
      "/m/05t_pq WEA.Gun (Gun_turret) 0\n",
      "syn_008 WEA.DaggerKnifeSword.Hatchet (Hatchet) 0\n",
      "syn_017 WEA.Bullets (Bullet) 0\n",
      "syn_023 VEH.MilitaryVehicle.FighterAircraft (Fighter_aircraft) 0\n",
      "syn_002 VEH.MilitaryVehicle (Armored_car) 0\n",
      "syn_012 Movement.TransportPerson.EvacuationRescue (Emergency_service) 0\n",
      "syn_020 VEH.MilitaryVehicle.MilitaryBoat (Missile_boat) 0\n",
      "syn_021 VEH.MilitaryVehicle.MilitaryBoat (Aircraft_carrier) 0\n",
      "syn_009 VEH.Aircraft (Aircraft_engine) 0\n",
      "/m/077hhl VEH.Aircraft.CargoAircraft (Cargo_aircraft) 0\n",
      "/m/0gvss07 VEH.MilitaryVehicle (Combat_vehicle) 0\n",
      "/m/034qg WEA.Gun.Firearm (Firearm) 0\n",
      "/m/01wb7 FAC.Building (Church) 0\n",
      "/m/025s8bs FAC.Building.StoreShop (Shopping_mall) 0\n",
      "/m/012qdp PER.MilitaryPersonnel (map to OWG = Serviceman).MilitaryOfficer (Military_officer) 0\n",
      "/m/0g02q ORG.PoliticalOrganization.Court (Courthouse) 0\n",
      "/m/0g2bc VEH.Aircraft (Drone) 0\n",
      "/m/039jbq GPE.UrbanArea (Urban_area) 0\n",
      "/m/0728h WEA.Gun.Artillery (Self-propelled_artillery) 0\n",
      "/m/070qm Movement.TransportArtifact.BringCarryUnload (Freight_transport) 0\n",
      "/m/02q5pxq VEH.Aircraft (Aircraft_cabin) 0\n",
      "/m/0cz_0 FAC.Way.Highway (Highway) 0\n",
      "/m/01n32 GPE.UrbanArea.City (City) 0\n",
      "/m/04qvtq VEH.WheeledVehicle.Car (Police_car) 0\n",
      "/m/06d_3 FAC.Way (Railway) 0\n",
      "/m/065zrn9 WEA (Explosive_weapon) 0\n",
      "/m/065zvy FAC.Building.StoreShop (Liquor_store) 0\n",
      "/m/032rk WEA.Gun (Gun) 0\n",
      "/m/0275lwb VEH.MilitaryVehicle (Military_helicopter) 0\n",
      "/m/06zs7 PER.Combatant.Sniper (Sniper) 0\n",
      "/m/0152hh COM (Sculpture.Snowman) 0\n",
      "/m/012n7d VEH.WheeledVehicle (Ambulance) 0\n",
      "/m/06nrc WEA.Gun.Firearm (Shotgun) 0\n",
      "/m/01yx86 COM (Sculpture.Bronze_sculpture) 0\n",
      "/m/0pg52 VEH.WheeledVehicle.Car (Taxi) 0\n",
      "/m/02p0tk3 PER (Human_body) 0\n",
      "/m/03txqz COM.Equipment (Tool.Scale) 0\n",
      "/m/04yqq2 COM (Sculpture.Bust) 0\n",
      "/m/0bjyj5 COM.Equipment (Tool.Container.Waste_container) 0\n",
      "/m/02zn6n COM.Equipment (Tool.Container.Barrel) 0\n",
      "/m/01m4t COM (Electronic_device.Printer) 0\n",
      "/m/02jnhm COM.Equipment (Tool.Container.Tin_can) 0\n",
      "/m/0bh9flk COM (Electronic_device.Tablet_computer) 0\n",
      "/m/0584n8 COM (Luggage_and_bags.Briefcase) 0\n",
      "/m/073g6 COM.Equipment.MedicalEquipment (Medical_equipment.Stethoscope) 0\n",
      "/m/0fm3zh COM.Equipment (Tool.Container.Flowerpot) 0\n",
      "/m/01btn VEH.Watercraft (Barge) 0\n",
      "/m/07kng9 COM.Equipment (Tool.Container.Picnic_basket) 0\n",
      "/m/076bq VEH.WheeledVehicle (Land_vehicle.Segway) 0\n",
      "/m/06y5r WEA.DaggerKnifeSword (Knife) 0\n",
      "/m/073bxn COM.Equipment (Tool.Tripod) 0\n",
      "/m/0hdln COM.Equipment (Tool.Ruler) 0\n",
      "/m/07c52 COM (Electronic_device.Television) 0\n",
      "/m/04ctx WEA.DaggerKnifeSword (Knife) 0\n",
      "/m/01lsmm COM.Equipment (Tool.Scissors) 0\n",
      "/m/04dr76w COM.Equipment (Tool.Container.Bottle) 0\n",
      "/m/01s55n COM (Luggage_and_bags.Suitcase) 0\n",
      "/m/0qjjc COM (Electronic_device.Remote_control) 0\n",
      "/m/050k8 COM (Telephone.Mobile_phone) 0\n",
      "/m/080hkjn COM (Luggage_and_bags.Handbag) 0\n",
      "/m/074d1 VEH.Watercraft (Submarine) 0\n",
      "/m/01m2v COM (Electronic_device.Computer_keyboard) 0\n",
      "/m/020lf COM (Electronic_device.Mouse) 0\n",
      "/m/0h8lkj8 COM (Telephone.Corded_phone) 0\n",
      "/m/0f6nr VEH.WheeledVehicle (Land_vehicle.Unicycle) 0\n",
      "/m/012ysf COM.Equipment.MedicalEquipment (Medical_equipment.Syringe) 0\n",
      "/m/02522 COM (Electronic_device.Computer_monitor) 0\n",
      "/m/0ph39 VEH.Watercraft.Boat (Boat.Canoe) 0\n",
      "/m/0mcx2 COM (Electronic_device.Ipod) 0\n",
      "/m/08hvt4 COM.Equipment (Tool.Container.Jug) 0\n",
      "/m/01940j COM (Luggage_and_bags.Backpack) 0\n",
      "/m/0g54v5d VEH.MilitaryVehicle (Military_vehicle) 0\n",
      "/m/057cc COM (Electronic_device.Musical_keyboard) 0\n",
      "/m/03jbxj COM (Electronic_device.Light_switch) 0\n",
      "/m/025syph PER.MilitaryPersonnel (map to OWG = Serviceman) (Fighter_pilot) 0\n",
      "syn_022 VEH.Watercraft (Cargo_ship) 0\n",
      "/m/0dhz0 VEH.Aircraft.Airplane (Airliner) 0\n",
      "/m/0jb3 WEA.Gun.Firearm (Assault_rifle) 0\n",
      "/m/09bgkl FAC.Building.StoreShop (Outlet_store) 0\n",
      "/m/0py27 FAC.Installation.TrainStation (Train_station) 0\n",
      "/m/09cjl FAC.Installation.Airport (Airport) 0\n",
      "/m/03j1ly VEH (Emergency_vehicle) 0\n",
      "/m/0hltv PER.ProfessionalPosition (Pilot) 0\n",
      "/m/0blz9 FAC.Structure (Fence) 0\n",
      "/m/02q60ls FAC.Building (Conference_hall) 0\n",
      "/m/012ndj VEH.WheeledVehicle.FireApparatus (Fire_apparatus) 0\n",
      "/m/05dlb ORG.MilitaryOrganization.GovernmentArmedForces (Navy) 0\n",
      "/m/06gfj FAC.Way (Road) 0\n",
      "/m/0k05r ORG.PoliticalOrganization.Court (Court) 0\n",
      "/m/01jnzj Manufacture.Artifact.Build (Construction) 0\n",
      "/m/0jzbb PER.ProfessionalPosition.Paramedic (Paramedic) 0\n",
      "/m/03hfwtf VEH.MilitaryVehicle.MilitaryTransportAircraft (Military_transport_aircraft) 0\n",
      "/m/09g5h VEH (Spacecraft) 0\n",
      "/m/0gxl3 WEA.Gun.Firearm (Handgun) 0\n",
      "/m/01_p8q Movement.TransportPerson.EvacuationRescue (Rescue) 0\n",
      "/m/01klb9 FAC.Structure.Plaza (Plaza) 0\n",
      "/m/01d380 COM.Equipment (Tool.Drill) 0\n",
      "/m/02gzp WEA.DaggerKnifeSword (Knife) 0\n",
      "/m/02068x VEH.Watercraft.Boat (Boat.Gondola) 0\n",
      "/m/01rzcn VEH.Watercraft (Watercraft) 0\n",
      "/m/020kz WEA.Cannon.Cannon (Cannon) 0\n",
      "/m/01b7fy COM (Electronic_device.Headphones) 0\n",
      "/m/01lcw4 VEH.WheeledVehicle (Limousine) 0\n",
      "/m/02wg_p FAC.Building (Building.Tree_house) 0\n",
      "/m/0byj4 Conflict.Attack.SelfDirectedBattle (Combat) 0\n",
      "/m/01kb5b COM.Equipment (Tool.Flashlight) 0\n",
      "/m/0323sq VEH.WheeledVehicle (Land_vehicle.Golf_cart) 0\n",
      "/m/03bbps COM (Electronic_device.Power_plugs_and_sockets) 0\n",
      "/m/04vv5k COM.Equipment (Tool.Snowplow) 0\n",
      "/m/01xs3r VEH.Watercraft (Jet_ski) 0\n",
      "/m/018p4k VEH.WheeledVehicle (Land_vehicle.Cart) 0\n",
      "/m/0dv5r COM.Equipment (Tool.Camera) 0\n",
      "/m/012w5l COM.Equipment (Tool.Ladder) 0\n",
      "/m/0brn2d LOC.Position.Field (Field) 0\n",
      "/m/01j4z9 COM.Equipment (Tool.Chainsaw) 0\n",
      "/m/011q46kg COM.Equipment (Tool.Container) 0\n"
     ]
    }
   ],
   "source": [
    "for i in sort_idx:\n",
    "    print(all_labels[i], mid2name_all[all_labels[i]], len(label_to_img[all_labels[i]]))"
   ]
  },
  {
   "cell_type": "code",
   "execution_count": 70,
   "metadata": {},
   "outputs": [],
   "source": [
    "select_labels = []\n",
    "for l in all_labels:\n",
    "    if mid2name_all[l].startswith('WEA'):\n",
    "        select_labels.append(l)"
   ]
  },
  {
   "cell_type": "code",
   "execution_count": 71,
   "metadata": {},
   "outputs": [
    {
     "data": {
      "text/plain": [
       "['/m/04ctx',\n",
       " '/m/083kb',\n",
       " '/m/04ylt',\n",
       " '/m/06nrc',\n",
       " '/m/06y5r',\n",
       " '/m/0gxl3',\n",
       " '/m/02gzp',\n",
       " '/m/020kz',\n",
       " '/m/06c54',\n",
       " '/m/0jb3',\n",
       " '/m/01vzwd',\n",
       " '/m/034qg',\n",
       " '/m/04zjc',\n",
       " '/m/02bb1s',\n",
       " '/m/065zrn9',\n",
       " '/m/032rk',\n",
       " '/m/0728h',\n",
       " '/m/0ct4f',\n",
       " '/m/05t_pq',\n",
       " '/m/06fk8',\n",
       " 'syn_006',\n",
       " 'syn_008',\n",
       " 'syn_017']"
      ]
     },
     "execution_count": 71,
     "metadata": {},
     "output_type": "execute_result"
    }
   ],
   "source": [
    "select_labels"
   ]
  },
  {
   "cell_type": "code",
   "execution_count": 10,
   "metadata": {},
   "outputs": [],
   "source": [
    "#select_labels = ['/m/01fnck', '/m/019jd', '/m/03120', '/m/02_41', '/m/07cmd', '/m/06q40', '/m/03qtwd', '/m/09x0r', '/m/01xgg_', '/m/08qrwn', '/m/012n4x', '/m/02p16m6', '/m/02lbcq', '/m/09ct_', '/m/0g54v5d', '/m/0bg2p', '/m/0ct4f', '/m/01nd_n', '/m/09rvcxw', '/m/01nl4x', '/m/04ctx', '/m/04ylt', '/m/0gvss07', '/m/01rzcn', '/m/06nrc', '/m/0cyfs', '/m/0f5lx', '/m/04zjc', '/m/0dhz0', '/m/01lcw4', '/m/03htg', '/m/0gxl3', '/m/01bq8v', '/m/0lt4_', '/m/02gzp', '/m/02yjc', '/m/012n7d', '/m/0jb3', '/m/0dwx7']\n",
    "select_labels = [all_labels[i] for i in sort_idx]"
   ]
  },
  {
   "cell_type": "code",
   "execution_count": null,
   "metadata": {},
   "outputs": [],
   "source": []
  },
  {
   "cell_type": "markdown",
   "metadata": {},
   "source": [
    "## Visualizing Results"
   ]
  },
  {
   "cell_type": "code",
   "execution_count": 11,
   "metadata": {},
   "outputs": [],
   "source": [
    "mid2name_extended = {}\n",
    "extended_classes = set()\n",
    "for key in all_labels:\n",
    "    for model, abv in [('coco', 'CO'), ('oi', 'OI'), ('ws', 'WS'), ('pascal','PA'), ('coco/J', 'CO/J'), ('oi/J', 'OI/J'), ('ws/J', 'WS/J'), ('pascal/J','PA/J')]:\n",
    "        extended_classes.add(key + '/' + model)\n",
    "        mid2name_extended[key + '/' + model] = mid2name_all[key] + f' ({abv})'\n",
    "extended_classes = list(extended_classes)\n",
    "mid2idx_extended = {}\n",
    "for i, key in enumerate(extended_classes):\n",
    "    mid2idx_extended[key] = i\n",
    "category_index_extended = {mid2idx_extended[key]:{'id': mid2idx_extended[key], 'name': mid2name_extended[key]} for key in mid2name_extended}"
   ]
  },
  {
   "cell_type": "code",
   "execution_count": null,
   "metadata": {},
   "outputs": [],
   "source": []
  },
  {
   "cell_type": "code",
   "execution_count": 12,
   "metadata": {},
   "outputs": [],
   "source": [
    "def preproc(im):\n",
    "    target_size = 400\n",
    "    max_size = 1024\n",
    "    im_size_min = np.min(im.shape[0:2])\n",
    "    im_size_max = np.max(im.shape[0:2])\n",
    "    im_scale = float(target_size) / float(im_size_min)\n",
    "    # Prevent the biggest axis from being more than MAX_SIZE\n",
    "    if np.round(im_scale * im_size_max) > max_size:\n",
    "        im_scale = float(max_size) / float(im_size_max)\n",
    "    im = cv2.resize(im, None, None, fx=im_scale, fy=im_scale,\n",
    "                    interpolation=cv2.INTER_LINEAR)    \n",
    "    return im"
   ]
  },
  {
   "cell_type": "code",
   "execution_count": null,
   "metadata": {},
   "outputs": [],
   "source": []
  },
  {
   "cell_type": "code",
   "execution_count": 13,
   "metadata": {},
   "outputs": [],
   "source": [
    "result_dict = {\n",
    "    'Concatenated': det_results_concat,\n",
    "    'Merged': det_results_merged,\n",
    "}"
   ]
  },
  {
   "cell_type": "code",
   "execution_count": 14,
   "metadata": {},
   "outputs": [],
   "source": [
    "path_prefix = '../../../../data/dryrun_m18/jpg/' "
   ]
  },
  {
   "cell_type": "code",
   "execution_count": 15,
   "metadata": {},
   "outputs": [],
   "source": [
    "model_abv_dict = {\n",
    "    'coco': 'CO',\n",
    "    'pascal': 'PA',\n",
    "    'oi': 'OI',\n",
    "    'ws': 'WS',\n",
    "    'coco/J': 'CO/J',\n",
    "    'pascal/J': 'PA/J',\n",
    "    'oi/J': 'OI/J',\n",
    "    'ws/J': 'WS/J',\n",
    "}"
   ]
  },
  {
   "cell_type": "code",
   "execution_count": 16,
   "metadata": {},
   "outputs": [],
   "source": [
    "def show(imgid, source, thresh):\n",
    "    filename = path_prefix + imgid + '.jpg.ldcc'\n",
    "    print(imgid)\n",
    "    with open(filename, 'rb') as fin:\n",
    "        _ = fin.read(1024)\n",
    "        imgbin = fin.read()\n",
    "    imgbgr = cv2.imdecode(np.fromstring(imgbin, dtype='uint8'), cv2.IMREAD_COLOR)\n",
    "    image_np = imgbgr[:,:,[2,1,0]]\n",
    "    image_np = preproc(image_np)\n",
    "    \n",
    "    detections = result_dict[source][imgid]\n",
    "    boxes = np.asarray([det['bbox_normalized'] for det in detections])[:,[1,0,3,2]]\n",
    "    scores = [det['score'] for det in detections]\n",
    "    label_idx = [mid2idx_extended[det['label'] + '/' + det['model']] for det in detections]\n",
    "    \n",
    "    # print([(mid2name_extended[extended_classes[item]], boxes[i]) for i, item in enumerate(label_idx) if scores[i] > thresh])\n",
    "    \n",
    "    vis_util.visualize_boxes_and_labels_on_image_array(\n",
    "      image_np,\n",
    "      boxes,\n",
    "      label_idx,\n",
    "      scores,\n",
    "      category_index_extended,\n",
    "      use_normalized_coordinates=True,\n",
    "      min_score_thresh=thresh-0.001,\n",
    "      max_boxes_to_draw=1000,\n",
    "      line_thickness=2)\n",
    "    plt.figure(figsize=(12, 8))\n",
    "    plt.imshow(image_np)\n",
    "    plt.axis('off')\n",
    "    plt.show()    "
   ]
  },
  {
   "cell_type": "code",
   "execution_count": null,
   "metadata": {},
   "outputs": [],
   "source": []
  },
  {
   "cell_type": "code",
   "execution_count": null,
   "metadata": {},
   "outputs": [],
   "source": []
  },
  {
   "cell_type": "code",
   "execution_count": 17,
   "metadata": {
    "scrolled": false
   },
   "outputs": [
    {
     "name": "stdout",
     "output_type": "stream",
     "text": [
      "PER (Person)\n",
      "IC0015S6J\n"
     ]
    },
    {
     "data": {
      "application/vnd.jupyter.widget-view+json": {
       "model_id": "c4ba7369325c4299a88bf93cb8674c83",
       "version_major": 2,
       "version_minor": 0
      },
      "text/plain": [
       "interactive(children=(RadioButtons(description='source', index=1, options=('Concatenated', 'Merged'), value='M…"
      ]
     },
     "metadata": {},
     "output_type": "display_data"
    },
    {
     "name": "stdout",
     "output_type": "stream",
     "text": [
      "PER (Man)\n",
      "IC001JZ2L\n"
     ]
    },
    {
     "data": {
      "application/vnd.jupyter.widget-view+json": {
       "model_id": "3051b9573db0455c939c81c34c9c1402",
       "version_major": 2,
       "version_minor": 0
      },
      "text/plain": [
       "interactive(children=(RadioButtons(description='source', index=1, options=('Concatenated', 'Merged'), value='M…"
      ]
     },
     "metadata": {},
     "output_type": "display_data"
    },
    {
     "name": "stdout",
     "output_type": "stream",
     "text": [
      "VEH.WheeledVehicle.Car (Car)\n",
      "IC0015S6F\n"
     ]
    },
    {
     "data": {
      "application/vnd.jupyter.widget-view+json": {
       "model_id": "921cde1c9b1d4308bb34ca19bcf9020d",
       "version_major": 2,
       "version_minor": 0
      },
      "text/plain": [
       "interactive(children=(RadioButtons(description='source', index=1, options=('Concatenated', 'Merged'), value='M…"
      ]
     },
     "metadata": {},
     "output_type": "display_data"
    },
    {
     "name": "stdout",
     "output_type": "stream",
     "text": [
      "PER (Woman)\n",
      "IC0011WS3\n"
     ]
    },
    {
     "data": {
      "application/vnd.jupyter.widget-view+json": {
       "model_id": "dd2176b757a3468a8d168750e9a37b81",
       "version_major": 2,
       "version_minor": 0
      },
      "text/plain": [
       "interactive(children=(RadioButtons(description='source', index=1, options=('Concatenated', 'Merged'), value='M…"
      ]
     },
     "metadata": {},
     "output_type": "display_data"
    },
    {
     "name": "stdout",
     "output_type": "stream",
     "text": [
      "COM (Luggage_and_bags)\n",
      "IC0015SR1\n"
     ]
    },
    {
     "data": {
      "application/vnd.jupyter.widget-view+json": {
       "model_id": "d2ad1c396364439c9a35dfbd2b055730",
       "version_major": 2,
       "version_minor": 0
      },
      "text/plain": [
       "interactive(children=(RadioButtons(description='source', index=1, options=('Concatenated', 'Merged'), value='M…"
      ]
     },
     "metadata": {},
     "output_type": "display_data"
    },
    {
     "name": "stdout",
     "output_type": "stream",
     "text": [
      "PER (Human_head)\n",
      "IC000ZZQJ\n"
     ]
    },
    {
     "data": {
      "application/vnd.jupyter.widget-view+json": {
       "model_id": "ce76e3ca0cab40fabab65a20dff34927",
       "version_major": 2,
       "version_minor": 0
      },
      "text/plain": [
       "interactive(children=(RadioButtons(description='source', index=1, options=('Concatenated', 'Merged'), value='M…"
      ]
     },
     "metadata": {},
     "output_type": "display_data"
    },
    {
     "name": "stdout",
     "output_type": "stream",
     "text": [
      "FAC.Building.House (House)\n",
      "IC001JYBB\n"
     ]
    },
    {
     "data": {
      "application/vnd.jupyter.widget-view+json": {
       "model_id": "362a250cd31c42e3a1db3103c7e1c0bf",
       "version_major": 2,
       "version_minor": 0
      },
      "text/plain": [
       "interactive(children=(RadioButtons(description='source', index=1, options=('Concatenated', 'Merged'), value='M…"
      ]
     },
     "metadata": {},
     "output_type": "display_data"
    },
    {
     "name": "stdout",
     "output_type": "stream",
     "text": [
      "COM (Electronic_device)\n",
      "IC0011UUL\n"
     ]
    },
    {
     "data": {
      "application/vnd.jupyter.widget-view+json": {
       "model_id": "0a1c1d14d2744a0f82771bdfb46775ee",
       "version_major": 2,
       "version_minor": 0
      },
      "text/plain": [
       "interactive(children=(RadioButtons(description='source', index=1, options=('Concatenated', 'Merged'), value='M…"
      ]
     },
     "metadata": {},
     "output_type": "display_data"
    },
    {
     "name": "stdout",
     "output_type": "stream",
     "text": [
      "COM.Equipment (Tool)\n",
      "IC001696A\n"
     ]
    },
    {
     "data": {
      "application/vnd.jupyter.widget-view+json": {
       "model_id": "13bdbe65669a4a01a46c61c379097421",
       "version_major": 2,
       "version_minor": 0
      },
      "text/plain": [
       "interactive(children=(RadioButtons(description='source', index=1, options=('Concatenated', 'Merged'), value='M…"
      ]
     },
     "metadata": {},
     "output_type": "display_data"
    },
    {
     "name": "stdout",
     "output_type": "stream",
     "text": [
      "VEH (Vehicle)\n",
      "HC000ZIMS\n"
     ]
    },
    {
     "data": {
      "application/vnd.jupyter.widget-view+json": {
       "model_id": "9b37f20ec1734e24aacd9f6245e1350c",
       "version_major": 2,
       "version_minor": 0
      },
      "text/plain": [
       "interactive(children=(RadioButtons(description='source', index=1, options=('Concatenated', 'Merged'), value='M…"
      ]
     },
     "metadata": {},
     "output_type": "display_data"
    },
    {
     "name": "stdout",
     "output_type": "stream",
     "text": [
      "COM.Flag.Flag (Flag)\n",
      "IC0015UVJ\n"
     ]
    },
    {
     "data": {
      "application/vnd.jupyter.widget-view+json": {
       "model_id": "9645d6ba1b0641f18b65eabd192f057b",
       "version_major": 2,
       "version_minor": 0
      },
      "text/plain": [
       "interactive(children=(RadioButtons(description='source', index=1, options=('Concatenated', 'Merged'), value='M…"
      ]
     },
     "metadata": {},
     "output_type": "display_data"
    },
    {
     "name": "stdout",
     "output_type": "stream",
     "text": [
      "VEH.Watercraft.Boat (Boat)\n",
      "IC0015NWM\n"
     ]
    },
    {
     "data": {
      "application/vnd.jupyter.widget-view+json": {
       "model_id": "162e1f138ebb452aad50915bfe386994",
       "version_major": 2,
       "version_minor": 0
      },
      "text/plain": [
       "interactive(children=(RadioButtons(description='source', index=1, options=('Concatenated', 'Merged'), value='M…"
      ]
     },
     "metadata": {},
     "output_type": "display_data"
    },
    {
     "name": "stdout",
     "output_type": "stream",
     "text": [
      "VEH.MilitaryVehicle.Tank (Tank)\n",
      "IC00169FR\n"
     ]
    },
    {
     "data": {
      "application/vnd.jupyter.widget-view+json": {
       "model_id": "ee2b37d3146c4f16a388aa5f0c051541",
       "version_major": 2,
       "version_minor": 0
      },
      "text/plain": [
       "interactive(children=(RadioButtons(description='source', index=1, options=('Concatenated', 'Merged'), value='M…"
      ]
     },
     "metadata": {},
     "output_type": "display_data"
    },
    {
     "name": "stdout",
     "output_type": "stream",
     "text": [
      "VEH.WheeledVehicle.Truck (Truck)\n",
      "IC00134PB\n"
     ]
    },
    {
     "data": {
      "application/vnd.jupyter.widget-view+json": {
       "model_id": "620aa13e3ad04404ab73065879e0d78a",
       "version_major": 2,
       "version_minor": 0
      },
      "text/plain": [
       "interactive(children=(RadioButtons(description='source', index=1, options=('Concatenated', 'Merged'), value='M…"
      ]
     },
     "metadata": {},
     "output_type": "display_data"
    },
    {
     "name": "stdout",
     "output_type": "stream",
     "text": [
      "VEH.Aircraft.Airplane (Airplane)\n",
      "IC0015UR6\n"
     ]
    },
    {
     "data": {
      "application/vnd.jupyter.widget-view+json": {
       "model_id": "81401760e7fb47e0a33824e808689054",
       "version_major": 2,
       "version_minor": 0
      },
      "text/plain": [
       "interactive(children=(RadioButtons(description='source', index=1, options=('Concatenated', 'Merged'), value='M…"
      ]
     },
     "metadata": {},
     "output_type": "display_data"
    },
    {
     "name": "stdout",
     "output_type": "stream",
     "text": [
      "FAC.Building (Building)\n",
      "IC0015USI\n"
     ]
    },
    {
     "data": {
      "application/vnd.jupyter.widget-view+json": {
       "model_id": "76a08e19a17443539f1fbc14eccb3813",
       "version_major": 2,
       "version_minor": 0
      },
      "text/plain": [
       "interactive(children=(RadioButtons(description='source', index=1, options=('Concatenated', 'Merged'), value='M…"
      ]
     },
     "metadata": {},
     "output_type": "display_data"
    },
    {
     "name": "stdout",
     "output_type": "stream",
     "text": [
      "COM.Document.Map (Map)\n",
      "HC000ZINF\n"
     ]
    },
    {
     "data": {
      "application/vnd.jupyter.widget-view+json": {
       "model_id": "916083aef91b46ef802690edfb89636b",
       "version_major": 2,
       "version_minor": 0
      },
      "text/plain": [
       "interactive(children=(RadioButtons(description='source', index=1, options=('Concatenated', 'Merged'), value='M…"
      ]
     },
     "metadata": {},
     "output_type": "display_data"
    },
    {
     "name": "stdout",
     "output_type": "stream",
     "text": [
      "COM (Telephone)\n",
      "IC0015S6H\n"
     ]
    },
    {
     "data": {
      "application/vnd.jupyter.widget-view+json": {
       "model_id": "904b2edcc16a4742ae1214986bb43c64",
       "version_major": 2,
       "version_minor": 0
      },
      "text/plain": [
       "interactive(children=(RadioButtons(description='source', index=1, options=('Concatenated', 'Merged'), value='M…"
      ]
     },
     "metadata": {},
     "output_type": "display_data"
    },
    {
     "name": "stdout",
     "output_type": "stream",
     "text": [
      "WEA.Gun.Firearm (Rifle)\n",
      "IC0011UTA\n"
     ]
    },
    {
     "data": {
      "application/vnd.jupyter.widget-view+json": {
       "model_id": "987a8b096290498c9bde562f4e7f315f",
       "version_major": 2,
       "version_minor": 0
      },
      "text/plain": [
       "interactive(children=(RadioButtons(description='source', index=1, options=('Concatenated', 'Merged'), value='M…"
      ]
     },
     "metadata": {},
     "output_type": "display_data"
    },
    {
     "name": "stdout",
     "output_type": "stream",
     "text": [
      "VEH.WheeledVehicle (Land_vehicle)\n",
      "IC0015UVH\n"
     ]
    },
    {
     "data": {
      "application/vnd.jupyter.widget-view+json": {
       "model_id": "6539dd0e3fb24a3792e4455cebed42a1",
       "version_major": 2,
       "version_minor": 0
      },
      "text/plain": [
       "interactive(children=(RadioButtons(description='source', index=1, options=('Concatenated', 'Merged'), value='M…"
      ]
     },
     "metadata": {},
     "output_type": "display_data"
    },
    {
     "name": "stdout",
     "output_type": "stream",
     "text": [
      "FAC.Structure.Tower (Tower)\n",
      "IC001696C\n"
     ]
    },
    {
     "data": {
      "application/vnd.jupyter.widget-view+json": {
       "model_id": "e4ae9eeaf5df4035bd5d9a0a824394b3",
       "version_major": 2,
       "version_minor": 0
      },
      "text/plain": [
       "interactive(children=(RadioButtons(description='source', index=1, options=('Concatenated', 'Merged'), value='M…"
      ]
     },
     "metadata": {},
     "output_type": "display_data"
    },
    {
     "name": "stdout",
     "output_type": "stream",
     "text": [
      "PER.ProfessionalPosition.Spokesperson (Orator)\n",
      "IC0011XZ9\n"
     ]
    },
    {
     "data": {
      "application/vnd.jupyter.widget-view+json": {
       "model_id": "4acebf9a38fe48a4849ece005dd57774",
       "version_major": 2,
       "version_minor": 0
      },
      "text/plain": [
       "interactive(children=(RadioButtons(description='source', index=1, options=('Concatenated', 'Merged'), value='M…"
      ]
     },
     "metadata": {},
     "output_type": "display_data"
    },
    {
     "name": "stdout",
     "output_type": "stream",
     "text": [
      "FAC.Building.OfficeBuilding (Office_building)\n",
      "IC001JZ1F\n"
     ]
    },
    {
     "data": {
      "application/vnd.jupyter.widget-view+json": {
       "model_id": "545771e90f944a6a91c5f16ad76fbc52",
       "version_major": 2,
       "version_minor": 0
      },
      "text/plain": [
       "interactive(children=(RadioButtons(description='source', index=1, options=('Concatenated', 'Merged'), value='M…"
      ]
     },
     "metadata": {},
     "output_type": "display_data"
    },
    {
     "name": "stdout",
     "output_type": "stream",
     "text": [
      "VEH.WheeledVehicle.Bus (Bus)\n",
      "IC0016028\n"
     ]
    },
    {
     "data": {
      "application/vnd.jupyter.widget-view+json": {
       "model_id": "ce90911188a242e8a374768c8ba98642",
       "version_major": 2,
       "version_minor": 0
      },
      "text/plain": [
       "interactive(children=(RadioButtons(description='source', index=1, options=('Concatenated', 'Merged'), value='M…"
      ]
     },
     "metadata": {},
     "output_type": "display_data"
    },
    {
     "name": "stdout",
     "output_type": "stream",
     "text": [
      "VEH.WheeledVehicle (Bicycle)\n",
      "IC0015LF1\n"
     ]
    },
    {
     "data": {
      "application/vnd.jupyter.widget-view+json": {
       "model_id": "9d120f1734a940bb8ebba871df8a8f4e",
       "version_major": 2,
       "version_minor": 0
      },
      "text/plain": [
       "interactive(children=(RadioButtons(description='source', index=1, options=('Concatenated', 'Merged'), value='M…"
      ]
     },
     "metadata": {},
     "output_type": "display_data"
    },
    {
     "name": "stdout",
     "output_type": "stream",
     "text": [
      "VEH.WheeledVehicle.Train (Train)\n",
      "IC00163EA\n"
     ]
    },
    {
     "data": {
      "application/vnd.jupyter.widget-view+json": {
       "model_id": "a9f81444e34e4e9ea9d724a8f6c1099b",
       "version_major": 2,
       "version_minor": 0
      },
      "text/plain": [
       "interactive(children=(RadioButtons(description='source', index=1, options=('Concatenated', 'Merged'), value='M…"
      ]
     },
     "metadata": {},
     "output_type": "display_data"
    },
    {
     "name": "stdout",
     "output_type": "stream",
     "text": [
      "ORG (Logo)\n",
      "HC000SNGT\n"
     ]
    },
    {
     "data": {
      "application/vnd.jupyter.widget-view+json": {
       "model_id": "2aa2d08716c84c1f9e6df4cde98439fd",
       "version_major": 2,
       "version_minor": 0
      },
      "text/plain": [
       "interactive(children=(RadioButtons(description='source', index=1, options=('Concatenated', 'Merged'), value='M…"
      ]
     },
     "metadata": {},
     "output_type": "display_data"
    },
    {
     "name": "stdout",
     "output_type": "stream",
     "text": [
      "COM (Billboard)\n",
      "IC0011V48\n"
     ]
    },
    {
     "data": {
      "application/vnd.jupyter.widget-view+json": {
       "model_id": "079cae25e2c74d9bb306aa19d09ac807",
       "version_major": 2,
       "version_minor": 0
      },
      "text/plain": [
       "interactive(children=(RadioButtons(description='source', index=1, options=('Concatenated', 'Merged'), value='M…"
      ]
     },
     "metadata": {},
     "output_type": "display_data"
    },
    {
     "name": "stdout",
     "output_type": "stream",
     "text": [
      "PER (Girl)\n",
      "IC0015UVC\n"
     ]
    },
    {
     "data": {
      "application/vnd.jupyter.widget-view+json": {
       "model_id": "84c842a2df2440a084f91d1fbc49e5b4",
       "version_major": 2,
       "version_minor": 0
      },
      "text/plain": [
       "interactive(children=(RadioButtons(description='source', index=1, options=('Concatenated', 'Merged'), value='M…"
      ]
     },
     "metadata": {},
     "output_type": "display_data"
    },
    {
     "name": "stdout",
     "output_type": "stream",
     "text": [
      "PER (Boy)\n",
      "IC00163IP\n"
     ]
    },
    {
     "data": {
      "application/vnd.jupyter.widget-view+json": {
       "model_id": "fcbb4143495e48e887832cb46c8bcdbe",
       "version_major": 2,
       "version_minor": 0
      },
      "text/plain": [
       "interactive(children=(RadioButtons(description='source', index=1, options=('Concatenated', 'Merged'), value='M…"
      ]
     },
     "metadata": {},
     "output_type": "display_data"
    },
    {
     "name": "stdout",
     "output_type": "stream",
     "text": [
      "VEH.Aircraft.Helicopter (Helicopter)\n",
      "IC0011X5W\n"
     ]
    },
    {
     "data": {
      "application/vnd.jupyter.widget-view+json": {
       "model_id": "3ed525894cac4897bcadee767eeba766",
       "version_major": 2,
       "version_minor": 0
      },
      "text/plain": [
       "interactive(children=(RadioButtons(description='source', index=1, options=('Concatenated', 'Merged'), value='M…"
      ]
     },
     "metadata": {},
     "output_type": "display_data"
    },
    {
     "name": "stdout",
     "output_type": "stream",
     "text": [
      "Conflict.Attack.SelfDirectedBattle (Battle)\n",
      "IC0015PXU\n"
     ]
    },
    {
     "data": {
      "application/vnd.jupyter.widget-view+json": {
       "model_id": "f0962cb007f0425083adccd7e806af02",
       "version_major": 2,
       "version_minor": 0
      },
      "text/plain": [
       "interactive(children=(RadioButtons(description='source', index=1, options=('Concatenated', 'Merged'), value='M…"
      ]
     },
     "metadata": {},
     "output_type": "display_data"
    },
    {
     "name": "stdout",
     "output_type": "stream",
     "text": [
      "ORG.MilitaryOrganization.GovernmentArmedForces (Infantry)\n",
      "HC000ZNWV\n"
     ]
    },
    {
     "data": {
      "application/vnd.jupyter.widget-view+json": {
       "model_id": "5068a89438f748589d445913eaf769d4",
       "version_major": 2,
       "version_minor": 0
      },
      "text/plain": [
       "interactive(children=(RadioButtons(description='source', index=1, options=('Concatenated', 'Merged'), value='M…"
      ]
     },
     "metadata": {},
     "output_type": "display_data"
    },
    {
     "name": "stdout",
     "output_type": "stream",
     "text": [
      "Conflict.Attack (Violence)\n",
      "HC000SSQP\n"
     ]
    },
    {
     "data": {
      "application/vnd.jupyter.widget-view+json": {
       "model_id": "77d2724b3fc44ecf889015fe65e21409",
       "version_major": 2,
       "version_minor": 0
      },
      "text/plain": [
       "interactive(children=(RadioButtons(description='source', index=1, options=('Concatenated', 'Merged'), value='M…"
      ]
     },
     "metadata": {},
     "output_type": "display_data"
    },
    {
     "name": "stdout",
     "output_type": "stream",
     "text": [
      "Conflict.Attack (Riot)\n",
      "IC0011W24\n"
     ]
    },
    {
     "data": {
      "application/vnd.jupyter.widget-view+json": {
       "model_id": "54271414222a4fc6a443c73b5b3327a4",
       "version_major": 2,
       "version_minor": 0
      },
      "text/plain": [
       "interactive(children=(RadioButtons(description='source', index=1, options=('Concatenated', 'Merged'), value='M…"
      ]
     },
     "metadata": {},
     "output_type": "display_data"
    },
    {
     "name": "stdout",
     "output_type": "stream",
     "text": [
      "WEA.DaggerKnifeSword (Knife)\n",
      "HC000Q8GV\n"
     ]
    },
    {
     "data": {
      "application/vnd.jupyter.widget-view+json": {
       "model_id": "6e84feb7b6b24d7689a72a98c149cdee",
       "version_major": 2,
       "version_minor": 0
      },
      "text/plain": [
       "interactive(children=(RadioButtons(description='source', index=1, options=('Concatenated', 'Merged'), value='M…"
      ]
     },
     "metadata": {},
     "output_type": "display_data"
    },
    {
     "name": "stdout",
     "output_type": "stream",
     "text": [
      "Contact.PublicStatementInPerson.Broadcast (Public_speaking)\n",
      "HC000ZKFL\n"
     ]
    },
    {
     "data": {
      "application/vnd.jupyter.widget-view+json": {
       "model_id": "02885bc8683d4ffeb12249d1c4454045",
       "version_major": 2,
       "version_minor": 0
      },
      "text/plain": [
       "interactive(children=(RadioButtons(description='source', index=1, options=('Concatenated', 'Merged'), value='M…"
      ]
     },
     "metadata": {},
     "output_type": "display_data"
    },
    {
     "name": "stdout",
     "output_type": "stream",
     "text": [
      "PER (Crowd)\n",
      "IC0015NRP\n"
     ]
    },
    {
     "data": {
      "application/vnd.jupyter.widget-view+json": {
       "model_id": "cb08a7ce10ee4302b51d331024761236",
       "version_major": 2,
       "version_minor": 0
      },
      "text/plain": [
       "interactive(children=(RadioButtons(description='source', index=1, options=('Concatenated', 'Merged'), value='M…"
      ]
     },
     "metadata": {},
     "output_type": "display_data"
    },
    {
     "name": "stdout",
     "output_type": "stream",
     "text": [
      "MON.Cash.Cash (Money)\n",
      "IC0015O7N\n"
     ]
    },
    {
     "data": {
      "application/vnd.jupyter.widget-view+json": {
       "model_id": "94fa86f1c3b4477296679bb3aa27608f",
       "version_major": 2,
       "version_minor": 0
      },
      "text/plain": [
       "interactive(children=(RadioButtons(description='source', index=1, options=('Concatenated', 'Merged'), value='M…"
      ]
     },
     "metadata": {},
     "output_type": "display_data"
    },
    {
     "name": "stdout",
     "output_type": "stream",
     "text": [
      "COM.Equipment (Microphone)\n",
      "HC000SXD8\n"
     ]
    },
    {
     "data": {
      "application/vnd.jupyter.widget-view+json": {
       "model_id": "9812231259ce438ebd88ada850511acd",
       "version_major": 2,
       "version_minor": 0
      },
      "text/plain": [
       "interactive(children=(RadioButtons(description='source', index=1, options=('Concatenated', 'Merged'), value='M…"
      ]
     },
     "metadata": {},
     "output_type": "display_data"
    },
    {
     "name": "stdout",
     "output_type": "stream",
     "text": [
      "PER.ProfessionalPosition.Firefighter (Firefighter)\n",
      "IC0011VEG\n"
     ]
    },
    {
     "data": {
      "application/vnd.jupyter.widget-view+json": {
       "model_id": "39353bff7fcc4cd2b530529b0c9503b7",
       "version_major": 2,
       "version_minor": 0
      },
      "text/plain": [
       "interactive(children=(RadioButtons(description='source', index=1, options=('Concatenated', 'Merged'), value='M…"
      ]
     },
     "metadata": {},
     "output_type": "display_data"
    },
    {
     "name": "stdout",
     "output_type": "stream",
     "text": [
      "Conflict.Demonstrate (Demonstration)\n",
      "IC0015UVM\n"
     ]
    },
    {
     "data": {
      "application/vnd.jupyter.widget-view+json": {
       "model_id": "6f75e286eaaa4003a52752ed293fadd0",
       "version_major": 2,
       "version_minor": 0
      },
      "text/plain": [
       "interactive(children=(RadioButtons(description='source', index=1, options=('Concatenated', 'Merged'), value='M…"
      ]
     },
     "metadata": {},
     "output_type": "display_data"
    },
    {
     "name": "stdout",
     "output_type": "stream",
     "text": [
      "COM.Equipment.MedicalEquipment (Medical_equipment)\n",
      "HC000ZK3B\n"
     ]
    },
    {
     "data": {
      "application/vnd.jupyter.widget-view+json": {
       "model_id": "b9c2782139f6495ab0f3ffcf6f6ae91b",
       "version_major": 2,
       "version_minor": 0
      },
      "text/plain": [
       "interactive(children=(RadioButtons(description='source', index=1, options=('Concatenated', 'Merged'), value='M…"
      ]
     },
     "metadata": {},
     "output_type": "display_data"
    },
    {
     "name": "stdout",
     "output_type": "stream",
     "text": [
      "VEH (Snowmobile)\n",
      "IC0015US1\n"
     ]
    },
    {
     "data": {
      "application/vnd.jupyter.widget-view+json": {
       "model_id": "39b4d5f778b74f0f998516b794817c40",
       "version_major": 2,
       "version_minor": 0
      },
      "text/plain": [
       "interactive(children=(RadioButtons(description='source', index=1, options=('Concatenated', 'Merged'), value='M…"
      ]
     },
     "metadata": {},
     "output_type": "display_data"
    },
    {
     "name": "stdout",
     "output_type": "stream",
     "text": [
      "ORG.MilitaryOrganization.GovernmentArmedForces (Military_camouflage)\n",
      "IC0015LEZ\n"
     ]
    },
    {
     "data": {
      "application/vnd.jupyter.widget-view+json": {
       "model_id": "7d1066c34f6a4e8297ddc1b5aadf1f52",
       "version_major": 2,
       "version_minor": 0
      },
      "text/plain": [
       "interactive(children=(RadioButtons(description='source', index=1, options=('Concatenated', 'Merged'), value='M…"
      ]
     },
     "metadata": {},
     "output_type": "display_data"
    },
    {
     "name": "stdout",
     "output_type": "stream",
     "text": [
      "COM (Sculpture)\n",
      "IC00120JL\n"
     ]
    },
    {
     "data": {
      "application/vnd.jupyter.widget-view+json": {
       "model_id": "93b0c4f858e941d49d7394ce63f04162",
       "version_major": 2,
       "version_minor": 0
      },
      "text/plain": [
       "interactive(children=(RadioButtons(description='source', index=1, options=('Concatenated', 'Merged'), value='M…"
      ]
     },
     "metadata": {},
     "output_type": "display_data"
    },
    {
     "name": "stdout",
     "output_type": "stream",
     "text": [
      "FAC.Building.StoreShop (Convenience_store)\n",
      "IC0015USI\n"
     ]
    },
    {
     "data": {
      "application/vnd.jupyter.widget-view+json": {
       "model_id": "f572454bbfa6464fbc3e5013484a64f6",
       "version_major": 2,
       "version_minor": 0
      },
      "text/plain": [
       "interactive(children=(RadioButtons(description='source', index=1, options=('Concatenated', 'Merged'), value='M…"
      ]
     },
     "metadata": {},
     "output_type": "display_data"
    },
    {
     "name": "stdout",
     "output_type": "stream",
     "text": [
      "Justice.InitiateJudicialProcess.TrialHearing (Trial)\n",
      "IC0011X5S\n"
     ]
    },
    {
     "data": {
      "application/vnd.jupyter.widget-view+json": {
       "model_id": "1ebba20ce5f64808a191453f2360f86f",
       "version_major": 2,
       "version_minor": 0
      },
      "text/plain": [
       "interactive(children=(RadioButtons(description='source', index=1, options=('Concatenated', 'Merged'), value='M…"
      ]
     },
     "metadata": {},
     "output_type": "display_data"
    },
    {
     "name": "stdout",
     "output_type": "stream",
     "text": [
      "COM.Document.PersonalIdentification (Identity_document)\n",
      "IC0015NVD\n"
     ]
    },
    {
     "data": {
      "application/vnd.jupyter.widget-view+json": {
       "model_id": "45b66a22ec9949b0b1eaf7b20cc47214",
       "version_major": 2,
       "version_minor": 0
      },
      "text/plain": [
       "interactive(children=(RadioButtons(description='source', index=1, options=('Concatenated', 'Merged'), value='M…"
      ]
     },
     "metadata": {},
     "output_type": "display_data"
    },
    {
     "name": "stdout",
     "output_type": "stream",
     "text": [
      "Conflict.Demonstrate.MarchProtestPoliticalGathering (Protest)\n",
      "IC0015NT8\n"
     ]
    },
    {
     "data": {
      "application/vnd.jupyter.widget-view+json": {
       "model_id": "50e0a8b18f0d40389e79ab83800f1afd",
       "version_major": 2,
       "version_minor": 0
      },
      "text/plain": [
       "interactive(children=(RadioButtons(description='source', index=1, options=('Concatenated', 'Merged'), value='M…"
      ]
     },
     "metadata": {},
     "output_type": "display_data"
    },
    {
     "name": "stdout",
     "output_type": "stream",
     "text": [
      "WEA.Gun.Artillery (Self-propelled_artillery)\n",
      "IC001JZBQ\n"
     ]
    },
    {
     "data": {
      "application/vnd.jupyter.widget-view+json": {
       "model_id": "a5a5d7a2f45f49d5a339a02499a374e5",
       "version_major": 2,
       "version_minor": 0
      },
      "text/plain": [
       "interactive(children=(RadioButtons(description='source', index=1, options=('Concatenated', 'Merged'), value='M…"
      ]
     },
     "metadata": {},
     "output_type": "display_data"
    },
    {
     "name": "stdout",
     "output_type": "stream",
     "text": [
      "COM (Badge)\n",
      "IC0011V0W\n"
     ]
    },
    {
     "data": {
      "application/vnd.jupyter.widget-view+json": {
       "model_id": "c7268b50316545f896bfddc58cab43a9",
       "version_major": 2,
       "version_minor": 0
      },
      "text/plain": [
       "interactive(children=(RadioButtons(description='source', index=1, options=('Concatenated', 'Merged'), value='M…"
      ]
     },
     "metadata": {},
     "output_type": "display_data"
    },
    {
     "name": "stdout",
     "output_type": "stream",
     "text": [
      "PER.ProfessionalPosition.Scientist (Scientist)\n",
      "IC000ZZQK\n"
     ]
    },
    {
     "data": {
      "application/vnd.jupyter.widget-view+json": {
       "model_id": "9085fc6f9df64f398fd482f7a5c190a8",
       "version_major": 2,
       "version_minor": 0
      },
      "text/plain": [
       "interactive(children=(RadioButtons(description='source', index=1, options=('Concatenated', 'Merged'), value='M…"
      ]
     },
     "metadata": {},
     "output_type": "display_data"
    },
    {
     "name": "stdout",
     "output_type": "stream",
     "text": [
      "VEH.WheeledVehicle (Motorcycle)\n",
      "HC000ZJOG\n"
     ]
    },
    {
     "data": {
      "application/vnd.jupyter.widget-view+json": {
       "model_id": "baa9dc10801a4333b4e2f4a00157938d",
       "version_major": 2,
       "version_minor": 0
      },
      "text/plain": [
       "interactive(children=(RadioButtons(description='source', index=1, options=('Concatenated', 'Merged'), value='M…"
      ]
     },
     "metadata": {},
     "output_type": "display_data"
    },
    {
     "name": "stdout",
     "output_type": "stream",
     "text": [
      "Disaster.FireExplosion.FireExplosion (Fire)\n",
      "IC0015M3Z\n"
     ]
    },
    {
     "data": {
      "application/vnd.jupyter.widget-view+json": {
       "model_id": "8b173465c09845308dad0758ce879c32",
       "version_major": 2,
       "version_minor": 0
      },
      "text/plain": [
       "interactive(children=(RadioButtons(description='source', index=1, options=('Concatenated', 'Merged'), value='M…"
      ]
     },
     "metadata": {},
     "output_type": "display_data"
    },
    {
     "name": "stdout",
     "output_type": "stream",
     "text": [
      "FAC.Building.School (School)\n",
      "IC001JY59\n"
     ]
    },
    {
     "data": {
      "application/vnd.jupyter.widget-view+json": {
       "model_id": "269a65e7b3e64fecaa82b0dbaef14a00",
       "version_major": 2,
       "version_minor": 0
      },
      "text/plain": [
       "interactive(children=(RadioButtons(description='source', index=1, options=('Concatenated', 'Merged'), value='M…"
      ]
     },
     "metadata": {},
     "output_type": "display_data"
    },
    {
     "name": "stdout",
     "output_type": "stream",
     "text": [
      "FAC.Building (Auditorium)\n",
      "HC00000IK\n"
     ]
    },
    {
     "data": {
      "application/vnd.jupyter.widget-view+json": {
       "model_id": "10e05f04160244a0b7044f315b4eaf86",
       "version_major": 2,
       "version_minor": 0
      },
      "text/plain": [
       "interactive(children=(RadioButtons(description='source', index=1, options=('Concatenated', 'Merged'), value='M…"
      ]
     },
     "metadata": {},
     "output_type": "display_data"
    },
    {
     "name": "stdout",
     "output_type": "stream",
     "text": [
      "COM.Document (Document)\n",
      "HC00013DL\n"
     ]
    },
    {
     "data": {
      "application/vnd.jupyter.widget-view+json": {
       "model_id": "5c74dad5f3544e6ca6f6afb1f19cf247",
       "version_major": 2,
       "version_minor": 0
      },
      "text/plain": [
       "interactive(children=(RadioButtons(description='source', index=1, options=('Concatenated', 'Merged'), value='M…"
      ]
     },
     "metadata": {},
     "output_type": "display_data"
    },
    {
     "name": "stdout",
     "output_type": "stream",
     "text": [
      "Conflict.Attack (Rebellion)\n",
      "IC001JYF5\n"
     ]
    },
    {
     "data": {
      "application/vnd.jupyter.widget-view+json": {
       "model_id": "43d20f9be791476e99c4d8338fc30b1e",
       "version_major": 2,
       "version_minor": 0
      },
      "text/plain": [
       "interactive(children=(RadioButtons(description='source', index=1, options=('Concatenated', 'Merged'), value='M…"
      ]
     },
     "metadata": {},
     "output_type": "display_data"
    },
    {
     "name": "stdout",
     "output_type": "stream",
     "text": [
      "PER (People)\n",
      "IC001JYAZ\n"
     ]
    },
    {
     "data": {
      "application/vnd.jupyter.widget-view+json": {
       "model_id": "3ebcc3b8674e47f79fda88353d7f9543",
       "version_major": 2,
       "version_minor": 0
      },
      "text/plain": [
       "interactive(children=(RadioButtons(description='source', index=1, options=('Concatenated', 'Merged'), value='M…"
      ]
     },
     "metadata": {},
     "output_type": "display_data"
    },
    {
     "name": "stdout",
     "output_type": "stream",
     "text": [
      "Disaster.FireExplosion.FireExplosion (Smoke)\n",
      "HC000SV5F\n"
     ]
    },
    {
     "data": {
      "application/vnd.jupyter.widget-view+json": {
       "model_id": "64f203039262487b9133b643d770a115",
       "version_major": 2,
       "version_minor": 0
      },
      "text/plain": [
       "interactive(children=(RadioButtons(description='source', index=1, options=('Concatenated', 'Merged'), value='M…"
      ]
     },
     "metadata": {},
     "output_type": "display_data"
    },
    {
     "name": "stdout",
     "output_type": "stream",
     "text": [
      "FAC (Place_of_worship)\n",
      "IC0015M3Y\n"
     ]
    },
    {
     "data": {
      "application/vnd.jupyter.widget-view+json": {
       "model_id": "a915802b364a4ee288487885c80e1677",
       "version_major": 2,
       "version_minor": 0
      },
      "text/plain": [
       "interactive(children=(RadioButtons(description='source', index=1, options=('Concatenated', 'Merged'), value='M…"
      ]
     },
     "metadata": {},
     "output_type": "display_data"
    },
    {
     "name": "stdout",
     "output_type": "stream",
     "text": [
      "PER.Police (Security_guard)\n",
      "IC0015O7D\n"
     ]
    },
    {
     "data": {
      "application/vnd.jupyter.widget-view+json": {
       "model_id": "be0aaaca13f54e18afe3491cb0f37fb7",
       "version_major": 2,
       "version_minor": 0
      },
      "text/plain": [
       "interactive(children=(RadioButtons(description='source', index=1, options=('Concatenated', 'Merged'), value='M…"
      ]
     },
     "metadata": {},
     "output_type": "display_data"
    },
    {
     "name": "stdout",
     "output_type": "stream",
     "text": [
      "PER (Human_body)\n",
      "IC0015UUR\n"
     ]
    },
    {
     "data": {
      "application/vnd.jupyter.widget-view+json": {
       "model_id": "6b7d3b3fe41f40b9a6c531ec3f4d1c32",
       "version_major": 2,
       "version_minor": 0
      },
      "text/plain": [
       "interactive(children=(RadioButtons(description='source', index=1, options=('Concatenated', 'Merged'), value='M…"
      ]
     },
     "metadata": {},
     "output_type": "display_data"
    },
    {
     "name": "stdout",
     "output_type": "stream",
     "text": [
      "VEH.Aircraft (Aircraft)\n",
      "IC0014YXJ\n"
     ]
    },
    {
     "data": {
      "application/vnd.jupyter.widget-view+json": {
       "model_id": "5229942fa3104bad9328616da8480cb4",
       "version_major": 2,
       "version_minor": 0
      },
      "text/plain": [
       "interactive(children=(RadioButtons(description='source', index=1, options=('Concatenated', 'Merged'), value='M…"
      ]
     },
     "metadata": {},
     "output_type": "display_data"
    },
    {
     "name": "stdout",
     "output_type": "stream",
     "text": [
      "FAC.Installation (Factory)\n",
      "IC0011UL7\n"
     ]
    },
    {
     "data": {
      "application/vnd.jupyter.widget-view+json": {
       "model_id": "f2d4557945c54c219bbdf647ba845f4b",
       "version_major": 2,
       "version_minor": 0
      },
      "text/plain": [
       "interactive(children=(RadioButtons(description='source', index=1, options=('Concatenated', 'Merged'), value='M…"
      ]
     },
     "metadata": {},
     "output_type": "display_data"
    },
    {
     "name": "stdout",
     "output_type": "stream",
     "text": [
      "WEA (Weapon)\n",
      "IC001K0CV\n"
     ]
    },
    {
     "data": {
      "application/vnd.jupyter.widget-view+json": {
       "model_id": "122e8c89f7db4dc38097167364c5001e",
       "version_major": 2,
       "version_minor": 0
      },
      "text/plain": [
       "interactive(children=(RadioButtons(description='source', index=1, options=('Concatenated', 'Merged'), value='M…"
      ]
     },
     "metadata": {},
     "output_type": "display_data"
    },
    {
     "name": "stdout",
     "output_type": "stream",
     "text": [
      "PER.ProfessionalPosition.Minister (Minister)\n",
      "IC00162Z9\n"
     ]
    },
    {
     "data": {
      "application/vnd.jupyter.widget-view+json": {
       "model_id": "131e997408b349fbbfd35953da4681b4",
       "version_major": 2,
       "version_minor": 0
      },
      "text/plain": [
       "interactive(children=(RadioButtons(description='source', index=1, options=('Concatenated', 'Merged'), value='M…"
      ]
     },
     "metadata": {},
     "output_type": "display_data"
    },
    {
     "name": "stdout",
     "output_type": "stream",
     "text": [
      "VEH.Rocket.Rocket (Rocket)\n",
      "IC00163IL\n"
     ]
    },
    {
     "data": {
      "application/vnd.jupyter.widget-view+json": {
       "model_id": "f4f94305cbfe4b81b73b2b000043b418",
       "version_major": 2,
       "version_minor": 0
      },
      "text/plain": [
       "interactive(children=(RadioButtons(description='source', index=1, options=('Concatenated', 'Merged'), value='M…"
      ]
     },
     "metadata": {},
     "output_type": "display_data"
    },
    {
     "name": "stdout",
     "output_type": "stream",
     "text": [
      "COM.Equipment.Satellite (Satellite)\n",
      "IC001601I\n"
     ]
    },
    {
     "data": {
      "application/vnd.jupyter.widget-view+json": {
       "model_id": "929767ce24ef4495ad72db8ce25e4a1b",
       "version_major": 2,
       "version_minor": 0
      },
      "text/plain": [
       "interactive(children=(RadioButtons(description='source', index=1, options=('Concatenated', 'Merged'), value='M…"
      ]
     },
     "metadata": {},
     "output_type": "display_data"
    },
    {
     "name": "stdout",
     "output_type": "stream",
     "text": [
      "COM.Equipment.MedicalEquipment (Stretcher)\n",
      "IC001K0WI\n"
     ]
    },
    {
     "data": {
      "application/vnd.jupyter.widget-view+json": {
       "model_id": "7a9d68a90a234d6887db81e566b9494f",
       "version_major": 2,
       "version_minor": 0
      },
      "text/plain": [
       "interactive(children=(RadioButtons(description='source', index=1, options=('Concatenated', 'Merged'), value='M…"
      ]
     },
     "metadata": {},
     "output_type": "display_data"
    },
    {
     "name": "stdout",
     "output_type": "stream",
     "text": [
      "PER.Combatant.Sniper (Sniper)\n",
      "IC001JYWZ\n"
     ]
    },
    {
     "data": {
      "application/vnd.jupyter.widget-view+json": {
       "model_id": "863c59089456492199d77b612a6e2a3d",
       "version_major": 2,
       "version_minor": 0
      },
      "text/plain": [
       "interactive(children=(RadioButtons(description='source', index=1, options=('Concatenated', 'Merged'), value='M…"
      ]
     },
     "metadata": {},
     "output_type": "display_data"
    },
    {
     "name": "stdout",
     "output_type": "stream",
     "text": [
      "VEH.MilitaryVehicle.MilitaryTransportAircraft (Military_transport_aircraft)\n",
      "IC0015O6G\n"
     ]
    },
    {
     "data": {
      "application/vnd.jupyter.widget-view+json": {
       "model_id": "8032bd2a7f28441d97367828cdb2fc63",
       "version_major": 2,
       "version_minor": 0
      },
      "text/plain": [
       "interactive(children=(RadioButtons(description='source', index=1, options=('Concatenated', 'Merged'), value='M…"
      ]
     },
     "metadata": {},
     "output_type": "display_data"
    },
    {
     "name": "stdout",
     "output_type": "stream",
     "text": [
      "Contact.Discussion.Meet (Meeting)\n",
      "IC0015NRS\n"
     ]
    },
    {
     "data": {
      "application/vnd.jupyter.widget-view+json": {
       "model_id": "c42eb19ee759449bb6ef817e85fee97e",
       "version_major": 2,
       "version_minor": 0
      },
      "text/plain": [
       "interactive(children=(RadioButtons(description='source', index=1, options=('Concatenated', 'Merged'), value='M…"
      ]
     },
     "metadata": {},
     "output_type": "display_data"
    },
    {
     "name": "stdout",
     "output_type": "stream",
     "text": [
      "FAC.Structure.Bridge (Bridge)\n",
      "IC00169JI\n"
     ]
    },
    {
     "data": {
      "application/vnd.jupyter.widget-view+json": {
       "model_id": "8c33c93a2d854692b6d05cc8fd795b09",
       "version_major": 2,
       "version_minor": 0
      },
      "text/plain": [
       "interactive(children=(RadioButtons(description='source', index=1, options=('Concatenated', 'Merged'), value='M…"
      ]
     },
     "metadata": {},
     "output_type": "display_data"
    },
    {
     "name": "stdout",
     "output_type": "stream",
     "text": [
      "WEA.MissileSystem.Missile (Missile)\n",
      "IC00169FS\n"
     ]
    },
    {
     "data": {
      "application/vnd.jupyter.widget-view+json": {
       "model_id": "310569528cfd43d9aa2a40413f5e1014",
       "version_major": 2,
       "version_minor": 0
      },
      "text/plain": [
       "interactive(children=(RadioButtons(description='source', index=1, options=('Concatenated', 'Merged'), value='M…"
      ]
     },
     "metadata": {},
     "output_type": "display_data"
    },
    {
     "name": "stdout",
     "output_type": "stream",
     "text": [
      "GPE.UrbanArea.Village (Village)\n",
      "IC00121WP\n"
     ]
    },
    {
     "data": {
      "application/vnd.jupyter.widget-view+json": {
       "model_id": "ba4e948000e04d1e8fddb02cb7766893",
       "version_major": 2,
       "version_minor": 0
      },
      "text/plain": [
       "interactive(children=(RadioButtons(description='source', index=1, options=('Concatenated', 'Merged'), value='M…"
      ]
     },
     "metadata": {},
     "output_type": "display_data"
    },
    {
     "name": "stdout",
     "output_type": "stream",
     "text": [
      "FAC.Building (Cathedral)\n",
      "IC0015M3Y\n"
     ]
    },
    {
     "data": {
      "application/vnd.jupyter.widget-view+json": {
       "model_id": "7212e5cab01f42379b9487ef778243af",
       "version_major": 2,
       "version_minor": 0
      },
      "text/plain": [
       "interactive(children=(RadioButtons(description='source', index=1, options=('Concatenated', 'Merged'), value='M…"
      ]
     },
     "metadata": {},
     "output_type": "display_data"
    },
    {
     "name": "stdout",
     "output_type": "stream",
     "text": [
      "ORG.MilitaryOrganization.GovernmentArmedForces (Air_force)\n",
      "IC0015LE2\n"
     ]
    },
    {
     "data": {
      "application/vnd.jupyter.widget-view+json": {
       "model_id": "fff1dd35bd8e4be1abf233191fd1090d",
       "version_major": 2,
       "version_minor": 0
      },
      "text/plain": [
       "interactive(children=(RadioButtons(description='source', index=1, options=('Concatenated', 'Merged'), value='M…"
      ]
     },
     "metadata": {},
     "output_type": "display_data"
    },
    {
     "name": "stdout",
     "output_type": "stream",
     "text": [
      "WEA.Cannon.Cannon (Mortar)\n",
      "IC001K0U1\n"
     ]
    },
    {
     "data": {
      "application/vnd.jupyter.widget-view+json": {
       "model_id": "11c0f982dde24cde8e704c81314c13b9",
       "version_major": 2,
       "version_minor": 0
      },
      "text/plain": [
       "interactive(children=(RadioButtons(description='source', index=1, options=('Concatenated', 'Merged'), value='M…"
      ]
     },
     "metadata": {},
     "output_type": "display_data"
    },
    {
     "name": "stdout",
     "output_type": "stream",
     "text": [
      "FAC.Building (Castle)\n",
      "HC000SORV\n"
     ]
    },
    {
     "data": {
      "application/vnd.jupyter.widget-view+json": {
       "model_id": "c780cdf00bc745fcac33c474d6cf1236",
       "version_major": 2,
       "version_minor": 0
      },
      "text/plain": [
       "interactive(children=(RadioButtons(description='source', index=1, options=('Concatenated', 'Merged'), value='M…"
      ]
     },
     "metadata": {},
     "output_type": "display_data"
    },
    {
     "name": "stdout",
     "output_type": "stream",
     "text": [
      "PER.ProfessionalPosition.Journalist (Journalist)\n",
      "IC0015ZVS\n"
     ]
    },
    {
     "data": {
      "application/vnd.jupyter.widget-view+json": {
       "model_id": "b2cbcd8d5a464e8b98081c3fbb3185b1",
       "version_major": 2,
       "version_minor": 0
      },
      "text/plain": [
       "interactive(children=(RadioButtons(description='source', index=1, options=('Concatenated', 'Merged'), value='M…"
      ]
     },
     "metadata": {},
     "output_type": "display_data"
    },
    {
     "name": "stdout",
     "output_type": "stream",
     "text": [
      "WEA.Gun.Firearm (Machine_gun)\n",
      "IC001JYVJ\n"
     ]
    },
    {
     "data": {
      "application/vnd.jupyter.widget-view+json": {
       "model_id": "2c6a8b608a7c48f7a759486d091ecc92",
       "version_major": 2,
       "version_minor": 0
      },
      "text/plain": [
       "interactive(children=(RadioButtons(description='source', index=1, options=('Concatenated', 'Merged'), value='M…"
      ]
     },
     "metadata": {},
     "output_type": "display_data"
    },
    {
     "name": "stdout",
     "output_type": "stream",
     "text": [
      "VEH.MilitaryVehicle.MilitaryBoat (Missile_boat)\n",
      "IC00163ED\n"
     ]
    },
    {
     "data": {
      "application/vnd.jupyter.widget-view+json": {
       "model_id": "afef8e65d97947f28407b19f9d2cac77",
       "version_major": 2,
       "version_minor": 0
      },
      "text/plain": [
       "interactive(children=(RadioButtons(description='source', index=1, options=('Concatenated', 'Merged'), value='M…"
      ]
     },
     "metadata": {},
     "output_type": "display_data"
    },
    {
     "name": "stdout",
     "output_type": "stream",
     "text": [
      "FAC (Pier)\n",
      "IC00169JI\n"
     ]
    },
    {
     "data": {
      "application/vnd.jupyter.widget-view+json": {
       "model_id": "28a5de8b5e4b41ed9115f838f52dfccf",
       "version_major": 2,
       "version_minor": 0
      },
      "text/plain": [
       "interactive(children=(RadioButtons(description='source', index=1, options=('Concatenated', 'Merged'), value='M…"
      ]
     },
     "metadata": {},
     "output_type": "display_data"
    },
    {
     "name": "stdout",
     "output_type": "stream",
     "text": [
      "VEH.MilitaryVehicle (Military_vehicle)\n",
      "HC000ZO7R\n"
     ]
    },
    {
     "data": {
      "application/vnd.jupyter.widget-view+json": {
       "model_id": "6c11959ea45e4583b6bd3a7e2869911c",
       "version_major": 2,
       "version_minor": 0
      },
      "text/plain": [
       "interactive(children=(RadioButtons(description='source', index=1, options=('Concatenated', 'Merged'), value='M…"
      ]
     },
     "metadata": {},
     "output_type": "display_data"
    },
    {
     "name": "stdout",
     "output_type": "stream",
     "text": [
      "ORG.MilitaryOrganization.GovernmentArmedForces (Military_uniform)\n",
      "IC00160OS\n"
     ]
    },
    {
     "data": {
      "application/vnd.jupyter.widget-view+json": {
       "model_id": "8456b1a332274a3888e1f41efa4c307a",
       "version_major": 2,
       "version_minor": 0
      },
      "text/plain": [
       "interactive(children=(RadioButtons(description='source', index=1, options=('Concatenated', 'Merged'), value='M…"
      ]
     },
     "metadata": {},
     "output_type": "display_data"
    },
    {
     "name": "stdout",
     "output_type": "stream",
     "text": [
      "PER.MilitaryPersonnel (map to OWG = Serviceman).MilitaryOfficer (Military_officer)\n",
      "IC001L56R\n"
     ]
    },
    {
     "data": {
      "application/vnd.jupyter.widget-view+json": {
       "model_id": "9931a1740ab34e299224d237e3fb1a46",
       "version_major": 2,
       "version_minor": 0
      },
      "text/plain": [
       "interactive(children=(RadioButtons(description='source', index=1, options=('Concatenated', 'Merged'), value='M…"
      ]
     },
     "metadata": {},
     "output_type": "display_data"
    },
    {
     "name": "stdout",
     "output_type": "stream",
     "text": [
      "FAC.Structure.Barricade (Barricade)\n",
      "IC0011VAM\n"
     ]
    },
    {
     "data": {
      "application/vnd.jupyter.widget-view+json": {
       "model_id": "fef63eba74424aa9b633cbe5959ebe21",
       "version_major": 2,
       "version_minor": 0
      },
      "text/plain": [
       "interactive(children=(RadioButtons(description='source', index=1, options=('Concatenated', 'Merged'), value='M…"
      ]
     },
     "metadata": {},
     "output_type": "display_data"
    },
    {
     "name": "stdout",
     "output_type": "stream",
     "text": [
      "Disaster.FireExplosion.FireExplosion (Explosion)\n",
      "IC0014ZPT\n"
     ]
    },
    {
     "data": {
      "application/vnd.jupyter.widget-view+json": {
       "model_id": "be720ee5409e4d84959a24a3ff19b0d3",
       "version_major": 2,
       "version_minor": 0
      },
      "text/plain": [
       "interactive(children=(RadioButtons(description='source', index=1, options=('Concatenated', 'Merged'), value='M…"
      ]
     },
     "metadata": {},
     "output_type": "display_data"
    },
    {
     "name": "stdout",
     "output_type": "stream",
     "text": [
      "GPE.UrbanArea.City (City)\n",
      "IC00162YI\n"
     ]
    },
    {
     "data": {
      "application/vnd.jupyter.widget-view+json": {
       "model_id": "22a0efc895ed4669a187d766d2a8e4a8",
       "version_major": 2,
       "version_minor": 0
      },
      "text/plain": [
       "interactive(children=(RadioButtons(description='source', index=1, options=('Concatenated', 'Merged'), value='M…"
      ]
     },
     "metadata": {},
     "output_type": "display_data"
    },
    {
     "name": "stdout",
     "output_type": "stream",
     "text": [
      "Disaster.AccidentCrash.AccidentCrash (Accident)\n",
      "IC001JYYX\n"
     ]
    },
    {
     "data": {
      "application/vnd.jupyter.widget-view+json": {
       "model_id": "f440b4f5a2e34df0b1821d0a243c64dc",
       "version_major": 2,
       "version_minor": 0
      },
      "text/plain": [
       "interactive(children=(RadioButtons(description='source', index=1, options=('Concatenated', 'Merged'), value='M…"
      ]
     },
     "metadata": {},
     "output_type": "display_data"
    },
    {
     "name": "stdout",
     "output_type": "stream",
     "text": [
      "COM.Equipment (Parachute)\n",
      "IC00162YZ\n"
     ]
    },
    {
     "data": {
      "application/vnd.jupyter.widget-view+json": {
       "model_id": "59b27a542def4c1b914f0684301da0a4",
       "version_major": 2,
       "version_minor": 0
      },
      "text/plain": [
       "interactive(children=(RadioButtons(description='source', index=1, options=('Concatenated', 'Merged'), value='M…"
      ]
     },
     "metadata": {},
     "output_type": "display_data"
    },
    {
     "name": "stdout",
     "output_type": "stream",
     "text": [
      "VEH.Watercraft (Watercraft)\n",
      "IC0015US1\n"
     ]
    },
    {
     "data": {
      "application/vnd.jupyter.widget-view+json": {
       "model_id": "9ba2f9256b9d44d49e43d181320b7129",
       "version_major": 2,
       "version_minor": 0
      },
      "text/plain": [
       "interactive(children=(RadioButtons(description='source', index=1, options=('Concatenated', 'Merged'), value='M…"
      ]
     },
     "metadata": {},
     "output_type": "display_data"
    },
    {
     "name": "stdout",
     "output_type": "stream",
     "text": [
      "FAC.Building (Estate)\n",
      "IC0015O9F\n"
     ]
    },
    {
     "data": {
      "application/vnd.jupyter.widget-view+json": {
       "model_id": "d7ab85e17d9e42e2a0e5118f69e7fbb6",
       "version_major": 2,
       "version_minor": 0
      },
      "text/plain": [
       "interactive(children=(RadioButtons(description='source', index=1, options=('Concatenated', 'Merged'), value='M…"
      ]
     },
     "metadata": {},
     "output_type": "display_data"
    },
    {
     "name": "stdout",
     "output_type": "stream",
     "text": [
      "COM.Equipment (Binoculars)\n",
      "HC000SNVX\n"
     ]
    },
    {
     "data": {
      "application/vnd.jupyter.widget-view+json": {
       "model_id": "7be22f180ffa4c1aae46f813a9ad6de3",
       "version_major": 2,
       "version_minor": 0
      },
      "text/plain": [
       "interactive(children=(RadioButtons(description='source', index=1, options=('Concatenated', 'Merged'), value='M…"
      ]
     },
     "metadata": {},
     "output_type": "display_data"
    },
    {
     "name": "stdout",
     "output_type": "stream",
     "text": [
      "WEA.Bomb (Bomb)\n",
      "IC0011V4J\n"
     ]
    },
    {
     "data": {
      "application/vnd.jupyter.widget-view+json": {
       "model_id": "a14b113b1f5642a3b4650395aa23cbcc",
       "version_major": 2,
       "version_minor": 0
      },
      "text/plain": [
       "interactive(children=(RadioButtons(description='source', index=1, options=('Concatenated', 'Merged'), value='M…"
      ]
     },
     "metadata": {},
     "output_type": "display_data"
    },
    {
     "name": "stdout",
     "output_type": "stream",
     "text": [
      "FAC.Structure (Lighthouse)\n",
      "IC001JZ1G\n"
     ]
    },
    {
     "data": {
      "application/vnd.jupyter.widget-view+json": {
       "model_id": "e9226f1ef5654561b1c8989dff7057c6",
       "version_major": 2,
       "version_minor": 0
      },
      "text/plain": [
       "interactive(children=(RadioButtons(description='source', index=1, options=('Concatenated', 'Merged'), value='M…"
      ]
     },
     "metadata": {},
     "output_type": "display_data"
    },
    {
     "name": "stdout",
     "output_type": "stream",
     "text": [
      "PER.Police (Police)\n",
      "HC00001XQ\n"
     ]
    },
    {
     "data": {
      "application/vnd.jupyter.widget-view+json": {
       "model_id": "3cb0bc4ca68b47bab14d62378f371f96",
       "version_major": 2,
       "version_minor": 0
      },
      "text/plain": [
       "interactive(children=(RadioButtons(description='source', index=1, options=('Concatenated', 'Merged'), value='M…"
      ]
     },
     "metadata": {},
     "output_type": "display_data"
    },
    {
     "name": "stdout",
     "output_type": "stream",
     "text": [
      "VEH.MilitaryVehicle.FighterAircraft (Fighter_aircraft)\n",
      "HC000ZNWZ\n"
     ]
    },
    {
     "data": {
      "application/vnd.jupyter.widget-view+json": {
       "model_id": "3e31351cd787496c961e1747dd778be6",
       "version_major": 2,
       "version_minor": 0
      },
      "text/plain": [
       "interactive(children=(RadioButtons(description='source', index=1, options=('Concatenated', 'Merged'), value='M…"
      ]
     },
     "metadata": {},
     "output_type": "display_data"
    },
    {
     "name": "stdout",
     "output_type": "stream",
     "text": [
      "PER.MilitaryPersonnel (map to OWG = Serviceman) (Military_person)\n",
      "IC0015LDS\n"
     ]
    },
    {
     "data": {
      "application/vnd.jupyter.widget-view+json": {
       "model_id": "64e2196f7e3a46ce87e29a3544dfbf39",
       "version_major": 2,
       "version_minor": 0
      },
      "text/plain": [
       "interactive(children=(RadioButtons(description='source', index=1, options=('Concatenated', 'Merged'), value='M…"
      ]
     },
     "metadata": {},
     "output_type": "display_data"
    },
    {
     "name": "stdout",
     "output_type": "stream",
     "text": [
      "VEH.WheeledVehicle (Limousine)\n",
      "IC0015NRJ\n"
     ]
    },
    {
     "data": {
      "application/vnd.jupyter.widget-view+json": {
       "model_id": "91070add91cc48a9bd63d65d2f0db315",
       "version_major": 2,
       "version_minor": 0
      },
      "text/plain": [
       "interactive(children=(RadioButtons(description='source', index=1, options=('Concatenated', 'Merged'), value='M…"
      ]
     },
     "metadata": {},
     "output_type": "display_data"
    },
    {
     "name": "stdout",
     "output_type": "stream",
     "text": [
      "COM.Equipment (Construction_equipment)\n",
      "IC0011VAP\n"
     ]
    },
    {
     "data": {
      "application/vnd.jupyter.widget-view+json": {
       "model_id": "4885766417614988b0f90f5f697825ec",
       "version_major": 2,
       "version_minor": 0
      },
      "text/plain": [
       "interactive(children=(RadioButtons(description='source', index=1, options=('Concatenated', 'Merged'), value='M…"
      ]
     },
     "metadata": {},
     "output_type": "display_data"
    },
    {
     "name": "stdout",
     "output_type": "stream",
     "text": [
      "FAC.Way.Street (Street)\n",
      "IC001JYFC\n"
     ]
    },
    {
     "data": {
      "application/vnd.jupyter.widget-view+json": {
       "model_id": "7e596d4eb0ef4ab1acce39c9ea9257ec",
       "version_major": 2,
       "version_minor": 0
      },
      "text/plain": [
       "interactive(children=(RadioButtons(description='source', index=1, options=('Concatenated', 'Merged'), value='M…"
      ]
     },
     "metadata": {},
     "output_type": "display_data"
    },
    {
     "name": "stdout",
     "output_type": "stream",
     "text": [
      "ORG.MilitaryOrganization.GovernmentArmedForces (Navy)\n",
      "IC001608R\n"
     ]
    },
    {
     "data": {
      "application/vnd.jupyter.widget-view+json": {
       "model_id": "77099407448b494f9d3f660a162c0115",
       "version_major": 2,
       "version_minor": 0
      },
      "text/plain": [
       "interactive(children=(RadioButtons(description='source', index=1, options=('Concatenated', 'Merged'), value='M…"
      ]
     },
     "metadata": {},
     "output_type": "display_data"
    },
    {
     "name": "stdout",
     "output_type": "stream",
     "text": [
      "PER.ProfessionalPosition (Rescuer)\n",
      "HC00055DI\n"
     ]
    },
    {
     "data": {
      "application/vnd.jupyter.widget-view+json": {
       "model_id": "c70295ae75594278854128b97743b873",
       "version_major": 2,
       "version_minor": 0
      },
      "text/plain": [
       "interactive(children=(RadioButtons(description='source', index=1, options=('Concatenated', 'Merged'), value='M…"
      ]
     },
     "metadata": {},
     "output_type": "display_data"
    }
   ],
   "source": [
    "for label in select_labels:\n",
    "    if len(label_to_img[label]) == 0:\n",
    "        continue\n",
    "    print(mid2name_all[label])\n",
    "    imgid = np.random.choice(label_to_img[label])\n",
    "    print(imgid)\n",
    "    w = interactive(show, \n",
    "        imgid=fixed(imgid),\n",
    "        source=widgets.RadioButtons(options=['Concatenated', 'Merged'], value='Merged'), \n",
    "        thresh=widgets.FloatSlider(min=0.0, max=1.0, step=0.01, value=0.1, continuous_update=False), \n",
    "    )\n",
    "    w.children[-1].layout.height = '600px'\n",
    "    display(w)\n",
    "    "
   ]
  },
  {
   "cell_type": "code",
   "execution_count": null,
   "metadata": {},
   "outputs": [],
   "source": []
  }
 ],
 "metadata": {
  "kernelspec": {
   "display_name": "Py3 w/ Tensorflow (Newest)",
   "language": "python",
   "name": "py3tf_new"
  },
  "language_info": {
   "codemirror_mode": {
    "name": "ipython",
    "version": 3
   },
   "file_extension": ".py",
   "mimetype": "text/x-python",
   "name": "python",
   "nbconvert_exporter": "python",
   "pygments_lexer": "ipython3",
   "version": "3.6.6"
  }
 },
 "nbformat": 4,
 "nbformat_minor": 2
}
