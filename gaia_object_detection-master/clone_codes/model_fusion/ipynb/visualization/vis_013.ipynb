{
 "cells": [
  {
   "cell_type": "code",
   "execution_count": 1,
   "metadata": {},
   "outputs": [],
   "source": [
    "import os\n",
    "import sys\n",
    "import pickle\n",
    "import csv\n",
    "import copy\n",
    "\n",
    "import numpy as np\n",
    "import cv2\n",
    "import matplotlib.pyplot as plt\n",
    "%matplotlib inline"
   ]
  },
  {
   "cell_type": "code",
   "execution_count": 2,
   "metadata": {},
   "outputs": [],
   "source": [
    "from ipywidgets import interact, interactive, fixed, interact_manual\n",
    "import ipywidgets as widgets"
   ]
  },
  {
   "cell_type": "code",
   "execution_count": 3,
   "metadata": {},
   "outputs": [
    {
     "name": "stderr",
     "output_type": "stream",
     "text": [
      "../../../tfobjdetect/lib/object_detection/utils/visualization_utils.py:25: UserWarning: \n",
      "This call to matplotlib.use() has no effect because the backend has already\n",
      "been chosen; matplotlib.use() must be called *before* pylab, matplotlib.pyplot,\n",
      "or matplotlib.backends is imported for the first time.\n",
      "\n",
      "The backend was *originally* set to 'module://ipykernel.pylab.backend_inline' by the following code:\n",
      "  File \"/home/alireza/home_at_filer2/tools/anaconda3/envs/py3tf/lib/python3.6/runpy.py\", line 193, in _run_module_as_main\n",
      "    \"__main__\", mod_spec)\n",
      "  File \"/home/alireza/home_at_filer2/tools/anaconda3/envs/py3tf/lib/python3.6/runpy.py\", line 85, in _run_code\n",
      "    exec(code, run_globals)\n",
      "  File \"/home/alireza/home_at_filer2/tools/anaconda3/envs/py3tf/lib/python3.6/site-packages/ipykernel/__main__.py\", line 3, in <module>\n",
      "    app.launch_new_instance()\n",
      "  File \"/home/alireza/home_at_filer2/tools/anaconda3/envs/py3tf/lib/python3.6/site-packages/traitlets/config/application.py\", line 658, in launch_instance\n",
      "    app.start()\n",
      "  File \"/home/alireza/home_at_filer2/tools/anaconda3/envs/py3tf/lib/python3.6/site-packages/ipykernel/kernelapp.py\", line 486, in start\n",
      "    self.io_loop.start()\n",
      "  File \"/home/alireza/home_at_filer2/tools/anaconda3/envs/py3tf/lib/python3.6/site-packages/tornado/platform/asyncio.py\", line 127, in start\n",
      "    self.asyncio_loop.run_forever()\n",
      "  File \"/home/alireza/home_at_filer2/tools/anaconda3/envs/py3tf/lib/python3.6/asyncio/base_events.py\", line 422, in run_forever\n",
      "    self._run_once()\n",
      "  File \"/home/alireza/home_at_filer2/tools/anaconda3/envs/py3tf/lib/python3.6/asyncio/base_events.py\", line 1432, in _run_once\n",
      "    handle._run()\n",
      "  File \"/home/alireza/home_at_filer2/tools/anaconda3/envs/py3tf/lib/python3.6/asyncio/events.py\", line 145, in _run\n",
      "    self._callback(*self._args)\n",
      "  File \"/home/alireza/home_at_filer2/tools/anaconda3/envs/py3tf/lib/python3.6/site-packages/tornado/platform/asyncio.py\", line 117, in _handle_events\n",
      "    handler_func(fileobj, events)\n",
      "  File \"/home/alireza/home_at_filer2/tools/anaconda3/envs/py3tf/lib/python3.6/site-packages/tornado/stack_context.py\", line 276, in null_wrapper\n",
      "    return fn(*args, **kwargs)\n",
      "  File \"/home/alireza/home_at_filer2/tools/anaconda3/envs/py3tf/lib/python3.6/site-packages/zmq/eventloop/zmqstream.py\", line 450, in _handle_events\n",
      "    self._handle_recv()\n",
      "  File \"/home/alireza/home_at_filer2/tools/anaconda3/envs/py3tf/lib/python3.6/site-packages/zmq/eventloop/zmqstream.py\", line 480, in _handle_recv\n",
      "    self._run_callback(callback, msg)\n",
      "  File \"/home/alireza/home_at_filer2/tools/anaconda3/envs/py3tf/lib/python3.6/site-packages/zmq/eventloop/zmqstream.py\", line 432, in _run_callback\n",
      "    callback(*args, **kwargs)\n",
      "  File \"/home/alireza/home_at_filer2/tools/anaconda3/envs/py3tf/lib/python3.6/site-packages/tornado/stack_context.py\", line 276, in null_wrapper\n",
      "    return fn(*args, **kwargs)\n",
      "  File \"/home/alireza/home_at_filer2/tools/anaconda3/envs/py3tf/lib/python3.6/site-packages/ipykernel/kernelbase.py\", line 283, in dispatcher\n",
      "    return self.dispatch_shell(stream, msg)\n",
      "  File \"/home/alireza/home_at_filer2/tools/anaconda3/envs/py3tf/lib/python3.6/site-packages/ipykernel/kernelbase.py\", line 233, in dispatch_shell\n",
      "    handler(stream, idents, msg)\n",
      "  File \"/home/alireza/home_at_filer2/tools/anaconda3/envs/py3tf/lib/python3.6/site-packages/ipykernel/kernelbase.py\", line 399, in execute_request\n",
      "    user_expressions, allow_stdin)\n",
      "  File \"/home/alireza/home_at_filer2/tools/anaconda3/envs/py3tf/lib/python3.6/site-packages/ipykernel/ipkernel.py\", line 208, in do_execute\n",
      "    res = shell.run_cell(code, store_history=store_history, silent=silent)\n",
      "  File \"/home/alireza/home_at_filer2/tools/anaconda3/envs/py3tf/lib/python3.6/site-packages/ipykernel/zmqshell.py\", line 537, in run_cell\n",
      "    return super(ZMQInteractiveShell, self).run_cell(*args, **kwargs)\n",
      "  File \"/home/alireza/home_at_filer2/tools/anaconda3/envs/py3tf/lib/python3.6/site-packages/IPython/core/interactiveshell.py\", line 2666, in run_cell\n",
      "    self.events.trigger('post_run_cell', result)\n",
      "  File \"/home/alireza/home_at_filer2/tools/anaconda3/envs/py3tf/lib/python3.6/site-packages/IPython/core/events.py\", line 88, in trigger\n",
      "    func(*args, **kwargs)\n",
      "  File \"/home/alireza/home_at_filer2/tools/anaconda3/envs/py3tf/lib/python3.6/site-packages/ipykernel/pylab/backend_inline.py\", line 160, in configure_once\n",
      "    activate_matplotlib(backend)\n",
      "  File \"/home/alireza/home_at_filer2/tools/anaconda3/envs/py3tf/lib/python3.6/site-packages/IPython/core/pylabtools.py\", line 311, in activate_matplotlib\n",
      "    matplotlib.pyplot.switch_backend(backend)\n",
      "  File \"/home/alireza/home_at_filer2/tools/anaconda3/envs/py3tf/lib/python3.6/site-packages/matplotlib/pyplot.py\", line 231, in switch_backend\n",
      "    matplotlib.use(newbackend, warn=False, force=True)\n",
      "  File \"/home/alireza/home_at_filer2/tools/anaconda3/envs/py3tf/lib/python3.6/site-packages/matplotlib/__init__.py\", line 1410, in use\n",
      "    reload(sys.modules['matplotlib.backends'])\n",
      "  File \"/home/alireza/home_at_filer2/tools/anaconda3/envs/py3tf/lib/python3.6/importlib/__init__.py\", line 166, in reload\n",
      "    _bootstrap._exec(spec, module)\n",
      "  File \"/home/alireza/home_at_filer2/tools/anaconda3/envs/py3tf/lib/python3.6/site-packages/matplotlib/backends/__init__.py\", line 16, in <module>\n",
      "    line for line in traceback.format_stack()\n",
      "\n",
      "\n",
      "  import matplotlib; matplotlib.use('Agg')  # pylint: disable=multiple-statements\n"
     ]
    }
   ],
   "source": [
    "sys.path.append(\"../../../tfobjdetect/lib\")\n",
    "from object_detection.utils import label_map_util\n",
    "from object_detection.utils import visualization_utils as vis_util"
   ]
  },
  {
   "cell_type": "markdown",
   "metadata": {},
   "source": [
    "## Loading and preparing label maps"
   ]
  },
  {
   "cell_type": "code",
   "execution_count": 4,
   "metadata": {},
   "outputs": [],
   "source": [
    "with open('../../temp/label_matching_coco_oi_ws_300.pkl', 'rb') as fin:\n",
    "    labelmap = pickle.load(fin)"
   ]
  },
  {
   "cell_type": "code",
   "execution_count": 5,
   "metadata": {},
   "outputs": [],
   "source": [
    "idx2mid_coco = labelmap['idx2mid_coco']\n",
    "idx2mid_oi = labelmap['idx2mid_oi']\n",
    "idx2mid_ws = labelmap['idx2mid_ws']\n",
    "mid2idx_coco = labelmap['mid2idx_coco']\n",
    "mid2idx_oi = labelmap['mid2idx_oi']\n",
    "mid2idx_ws = labelmap['mid2idx_ws']\n",
    "mid2name_coco = labelmap['mid2name_coco']\n",
    "mid2name_oi = labelmap['mid2name_oi']\n",
    "mid2name_ws = labelmap['mid2name_ws']\n",
    "name2mid_coco = labelmap['name2mid_coco']\n",
    "name2mid_oi = labelmap['name2mid_oi']\n",
    "name2mid_ws = labelmap['name2mid_ws']\n",
    "common_mids_coco = labelmap['common_mids_coco']\n",
    "common_mids_ws = labelmap['common_mids_ws']\n"
   ]
  },
  {
   "cell_type": "code",
   "execution_count": 6,
   "metadata": {},
   "outputs": [],
   "source": [
    "coco_mids = set(mid2idx_coco.keys())\n",
    "oi_mids = set(mid2idx_oi.keys())\n",
    "ws_mids = set(mid2idx_ws.keys())\n"
   ]
  },
  {
   "cell_type": "code",
   "execution_count": 7,
   "metadata": {},
   "outputs": [],
   "source": [
    "mid2name_all = {}\n",
    "for key in coco_mids:\n",
    "    mid2name_all[key] = mid2name_coco[key]\n",
    "for key in oi_mids:\n",
    "    mid2name_all[key] = mid2name_oi[key]\n",
    "for key in ws_mids:\n",
    "    mid2name_all[key] = mid2name_ws[key]"
   ]
  },
  {
   "cell_type": "code",
   "execution_count": 8,
   "metadata": {},
   "outputs": [],
   "source": [
    "with open('../../temp/all_labels_coco_oi_ws_300.pkl', 'rb') as fin:\n",
    "    all_labels = pickle.load(fin)"
   ]
  },
  {
   "cell_type": "code",
   "execution_count": null,
   "metadata": {},
   "outputs": [],
   "source": []
  },
  {
   "cell_type": "code",
   "execution_count": 9,
   "metadata": {},
   "outputs": [],
   "source": [
    "with open('../../results/det_results_postproc_10.pkl', 'rb') as fin:\n",
    "    det_results_sorted = pickle.load(fin)"
   ]
  },
  {
   "cell_type": "code",
   "execution_count": null,
   "metadata": {},
   "outputs": [],
   "source": []
  },
  {
   "cell_type": "markdown",
   "metadata": {},
   "source": [
    "## Choosing examples for each class to visualize"
   ]
  },
  {
   "cell_type": "code",
   "execution_count": 10,
   "metadata": {},
   "outputs": [],
   "source": [
    "label_to_img = {key: [] for key in all_labels}\n",
    "for key, val in det_results_sorted.items():\n",
    "    for ii in range(val['num_detections']):\n",
    "        if val['detection_scores'][ii] < 0.35:\n",
    "            continue\n",
    "        label_to_img[val['detection_classes'][ii]].append(key)"
   ]
  },
  {
   "cell_type": "code",
   "execution_count": 19,
   "metadata": {},
   "outputs": [],
   "source": [
    "idx = np.argsort([-len(label_to_img[label]) for label in all_labels])"
   ]
  },
  {
   "cell_type": "code",
   "execution_count": 21,
   "metadata": {},
   "outputs": [
    {
     "name": "stdout",
     "output_type": "stream",
     "text": [
      "/m/01g317 Person 3800\n",
      "/m/04yx4 Man 1834\n",
      "/m/0dzct Human face 1634\n",
      "/m/03bt1vf Woman 794\n",
      "/m/05s2s Plant 407\n",
      "/m/0k4j Car 247\n",
      "/m/0jbk Animal 244\n",
      "/m/0c_jw Furniture 242\n",
      "/m/0hf58v5 Luggage and bags 231\n",
      "/m/012t_z Businessperson 224\n",
      "/m/0cgh4 Building 216\n",
      "/m/01n5jq Poster 193\n",
      "/m/01xr66 Spokesperson 155\n",
      "/m/01prls Land vehicle 150\n",
      "/m/02wbm Food 120\n",
      "/m/0jyfg Glasses 120\n",
      "/m/0cmf2 Airplane 112\n",
      "/m/07r04 Truck 111\n",
      "/m/07yv9 Vehicle 105\n",
      "/m/0dwx7 Logo 101\n",
      "/m/07s6nbt Text 98\n",
      "/m/0zvk5 Helmet 95\n",
      "/m/04_tb Map 95\n",
      "/m/01fnck Waste 93\n",
      "/m/07k1x Tool 93\n",
      "/m/050k8 Mobile phone 93\n",
      "/m/019jd Boat 81\n",
      "/m/03120 Flag 80\n",
      "/m/07c52 Television 72\n",
      "/m/07jdr Train 62\n",
      "/m/035y33 Official 61\n",
      "/m/02_41 Fire 60\n",
      "/m/07cmd Tank 59\n",
      "/m/06q40 Smoke 59\n",
      "/m/03jm5 House 54\n",
      "/m/05r655 Girl 54\n",
      "/m/0bt9lr Dog 53\n",
      "/m/015h_t Human beard 51\n",
      "/m/01bl7v Boy 41\n",
      "/m/0bs7_0t Electronic device 41\n",
      "/m/03qtwd Crowd 40\n",
      "/m/09x0r Speech 40\n",
      "/m/09nm_ World 36\n",
      "/m/01xgg_ Medical equipment 33\n",
      "/m/0hg7b Microphone 33\n",
      "/m/02_n6y Goggles 32\n",
      "/m/01fdzj Tower 30\n",
      "/m/08qrwn Rubble 29\n",
      "/m/012n4x Firefighter 28\n",
      "/m/083kb Weapon 26\n",
      "/m/06c54 Rifle 26\n",
      "/m/01bjv Bus 26\n",
      "/m/02p16m6 Flesh 25\n",
      "/m/06msq Sculpture 25\n",
      "/m/04hgtk Human head 24\n",
      "/m/02lbcq Stretcher 24\n",
      "/m/01j61q Tent 23\n",
      "/m/08dz3q Auto part 23\n",
      "/m/0ytgt Child 22\n",
      "/m/0ffjr Personal protective equipment 20\n",
      "/m/01knjb Billboard 19\n",
      "/m/033lpr Audience 19\n",
      "/m/01zpz Crew 19\n",
      "/m/01c648 Laptop 18\n",
      "/m/09ct_ Helicopter 18\n",
      "/m/04_sv Motorcycle 18\n",
      "/m/01bgsw Toddler 18\n",
      "/m/0fd6q Cash 17\n",
      "/m/081hv Wedding 17\n",
      "/m/0g54v5d Military vehicle 17\n",
      "/m/0bg2p Security 17\n",
      "/m/054xkw Lifejacket 17\n",
      "/m/0ct4f Bomb 16\n",
      "/m/01nd_n Protest 16\n",
      "/m/0199g Bicycle 16\n",
      "/m/01cx7t High-visibility clothing 15\n",
      "/m/039l3v Auditorium 15\n",
      "/m/09g5pq People 14\n",
      "/m/0hr5k Festival 14\n",
      "/m/09rvcxw Rocket 14\n",
      "/m/0k5j Aircraft 14\n",
      "/m/0vg8 Airline 13\n",
      "/m/02_g0 Funeral 13\n",
      "/m/0h2r6 Van 13\n",
      "/m/01x3jk Snowmobile 13\n",
      "/m/02cwf_ Shrine 13\n",
      "/m/013_1c Statue 12\n",
      "/m/01nl4x Fire extinguisher 12\n",
      "/m/04_x4 Money 12\n",
      "/m/0dv5r Camera 11\n",
      "/m/08g_yr Temple 11\n",
      "/m/018rqw Wide-body aircraft 11\n",
      "/m/0c2jj Axe 11\n",
      "/m/04ctx Knife 11\n",
      "/m/079cl Skyscraper 11\n",
      "/m/016c4t Ceremony 10\n",
      "/m/0ltfs Bride 10\n",
      "/m/0blz9 Fence 10\n",
      "/m/04ylt Missile 10\n",
      "/m/038t8_ Estate 9\n",
      "/m/03qpft Podium 9\n",
      "/m/017m8l Waterway 9\n",
      "/m/01klb9 Plaza 9\n",
      "/m/09cynt Convention 9\n",
      "/m/01wk9c Emblem 8\n",
      "/m/0gvss07 Combat vehicle 8\n",
      "/m/017kvv Infrastructure 8\n",
      "/m/01vw0_ Grave 7\n",
      "/m/06gfj Road 7\n",
      "/m/076bq Segway 7\n",
      "/m/02q60ls Conference hall 7\n",
      "/m/01n32 City 7\n",
      "/m/01x2j Camouflage 7\n",
      "/m/01m3v Computer 7\n",
      "/m/020kz Cannon 6\n",
      "/m/01nblt Apartment 6\n",
      "/m/01rzcn Watercraft 6\n",
      "/m/06nrc Shotgun 6\n",
      "/m/05hg54 Commercial building 6\n",
      "/m/0qmmr Wheelchair 6\n",
      "/m/03m4wn Boating 6\n",
      "/m/015kr Bridge 6\n",
      "/m/0fkwjg Commercial vehicle 5\n",
      "/m/05wrt Property 5\n",
      "/m/07cx4 Telephone 5\n",
      "/m/016br2 Dome 5\n",
      "/m/02nvjx Place of worship 5\n",
      "/m/0cx45 Temple 5\n",
      "/m/012f08 Motor vehicle 5\n",
      "/m/021sj1 Office building 5\n",
      "/m/0728h Self-propelled artillery 5\n",
      "/m/01515d Flight 5\n",
      "/m/0cyfs Parachute 5\n",
      "/m/0cvq3 Pickup truck 5\n",
      "/m/01c8br Street 5\n",
      "/m/0f5lx Military aircraft 4\n",
      "/m/0169zh Smartphone 4\n",
      "/m/04zjc Machine gun 4\n",
      "/m/039jbq Urban area 4\n",
      "/m/01l0mw Home 4\n",
      "/m/01yx86 Bronze sculpture 4\n",
      "/m/070qm Freight transport 4\n",
      "/m/06q74 Ship 4\n",
      "/m/051rmm Steeple 4\n",
      "/m/05_5t0l Landmark 4\n",
      "/m/04h7h Lighthouse 4\n",
      "/m/0cz_0 Highway 4\n",
      "/m/068k4 Public speaking 4\n",
      "/m/02gx17 Construction equipment 4\n",
      "/m/02ljgl Monument 4\n",
      "/m/088l6h Family car 4\n",
      "/m/0dhz0 Airliner 4\n",
      "/m/078my Trailer truck 4\n",
      "/m/0d5gx Castle 3\n",
      "/m/01lcw4 Limousine 3\n",
      "/m/02q3d5 Memorial 3\n",
      "/m/0bh9flk Tablet computer 3\n",
      "/m/06y5r Sword 3\n",
      "/m/03htg Harbor 3\n",
      "/m/081pkj Event 3\n",
      "/m/0hpjt Orator 3\n",
      "/m/071rm Shooting 3\n",
      "/m/0gxl3 Handgun 3\n",
      "/m/01lcwm Luxury vehicle 3\n",
      "/m/07txbq Light aircraft 3\n",
      "/m/05zdp Public transport 3\n",
      "/m/0323sq Golf cart 3\n",
      "/m/01wb7 Church 3\n",
      "/m/01bq8v Troop 3\n",
      "/m/013bml Military rank 2\n",
      "/m/0h36z Cemetery 2\n",
      "/m/012n91 Emergency service 2\n",
      "/m/0lt4_ Binoculars 2\n",
      "/m/01w71f Personal luxury car 2\n",
      "/m/0h8lkj8 Corded phone 2\n",
      "/m/03cny9 Badge 2\n",
      "/m/0c85fd Dome 2\n",
      "/m/0crtnw Executive car 2\n",
      "/m/027qh7f Cold weapon 2\n",
      "/m/01q4wd Stupa 2\n",
      "/m/014yck Aircraft engine 2\n",
      "/m/02p4dfn Lectern 2\n",
      "/m/02p0tk3 Human body 2\n",
      "/m/0crjs Convenience store 2\n",
      "/m/02wg_p Tree house 2\n",
      "/m/0121tl Electronic instrument 2\n",
      "/m/013xlm Tractor 2\n",
      "/m/01xs3r Jet ski 1\n",
      "/m/02gp31 Government agency 1\n",
      "/m/025t3bg Air travel 1\n",
      "/m/015y8h Jet aircraft 1\n",
      "/m/0qb7t Organization 1\n",
      "/m/034qg Firearm 1\n",
      "/m/03wvy Infantry 1\n",
      "/m/06d_3 Railway 1\n",
      "/m/04fdw Kayak 1\n",
      "/m/06wrt Sailing 1\n",
      "/m/02gzp Dagger 1\n",
      "/m/0pg52 Taxi 1\n",
      "/m/09cjl Airport 1\n",
      "/m/0bp37nz Propeller-driven aircraft 1\n",
      "/m/02yjc Fighter aircraft 1\n",
      "/m/01btn Barge 1\n",
      "/m/0173tc Chapel 1\n",
      "/m/012n7d Ambulance 1\n",
      "/m/07bsy Transport 1\n",
      "/m/04h5c Locomotive 1\n",
      "/m/074d1 Submarine 1\n",
      "/m/09jfs Uniform 1\n",
      "/m/01xgbj Turret 1\n",
      "/m/03n9vx Double-decker bus 1\n",
      "/m/0jb3 Assault rifle 1\n",
      "/m/018p4k Cart 1\n",
      "/m/0hsrw Sailboat 1\n",
      "/m/02d9qx Whiteboard 0\n",
      "/m/03fj2 Goldfish 0\n",
      "/m/02rdsp Office supplies 0\n",
      "/m/01dwwc Pancake 0\n",
      "/m/03w1r4 Military uniform 0\n",
      "/m/09gys Squid 0\n",
      "/m/0f4s2w Vegetable 0\n",
      "/m/07qxg_ Football helmet 0\n",
      "/m/0cdn1 Hamburger 0\n",
      "/m/081qc Wine 0\n",
      "/m/0cyhj_ Orange 0\n",
      "/m/0275lwb Military helicopter 0\n",
      "/m/0m_bl Bullet train 0\n",
      "/m/05z6w Penguin 0\n",
      "/m/07y_7 Violin 0\n",
      "/m/01fh4r Teapot 0\n",
      "/m/01yrx Cat 0\n",
      "/m/09dzg Turtle 0\n",
      "/m/07dm6 Tiger 0\n",
      "/m/01r546 Earrings 0\n",
      "/m/0388q Grape 0\n",
      "/m/054fyh Pitcher 0\n",
      "/m/04p0qw Billiard table 0\n",
      "/m/015x5n Radish 0\n",
      "/m/0kmg4 Teddy bear 0\n",
      "/m/03d443 Rhinoceros 0\n",
      "/m/01599 Beer 0\n",
      "/m/0f6nr Unicycle 0\n",
      "/m/01nkt Cheese 0\n",
      "/m/063rgb Mixer 0\n",
      "/m/0gjwxv Military organization 0\n",
      "/m/050gv4 Plate 0\n",
      "/m/0dbvp Goose 0\n",
      "/m/0h8mhzd Sports uniform 0\n",
      "/m/01f8m5 Blue jay 0\n",
      "/m/0pd7 Army 0\n",
      "/m/0306r Fox 0\n",
      "/m/0czz2 Antelope 0\n",
      "/m/025syph Fighter pilot 0\n",
      "/m/0xsc Aircraft carrier 0\n",
      "/m/03q5t Harpsichord 0\n",
      "/m/02jfl0 Sombrero 0\n",
      "/m/01h8tj Starfish 0\n",
      "/m/01_bhs Fast food 0\n",
      "/m/01llwg Necklace 0\n",
      "/m/02jnhm Tin can 0\n",
      "/m/01k6s3 toaster 0\n",
      "/m/01s105 Cabinetry 0\n",
      "/m/03ssj5 Bed 0\n",
      "/m/06_fw Skateboard 0\n",
      "/m/0755b Scorpion 0\n",
      "/m/05ctyq Tennis ball 0\n",
      "/m/0by6g Shark 0\n",
      "/m/0dkzw Seat belt 0\n",
      "/m/0h8n5zk Kitchen & dining room table 0\n",
      "/m/01hrv5 Popcorn 0\n",
      "/m/06m11 Rose 0\n",
      "/m/031n1 Foot 0\n",
      "/m/015qbp parking meter 0\n",
      "/m/012w5l Ladder 0\n",
      "/m/07xyvk Coffeemaker 0\n",
      "/m/0dftk Swan 0\n",
      "/m/01lsmm Scissors 0\n",
      "/m/04tn4x Swim cap 0\n",
      "/m/0cnyhnx Bull 0\n",
      "/m/0fj52s Carrot 0\n",
      "/m/02hsrtn Helicopter pilot 0\n",
      "/m/01jw_1 Bus stop 0\n",
      "/m/09kx5 Deer 0\n",
      "/m/06j2d Raven 0\n",
      "/m/02666n Light aircraft carrier 0\n",
      "/m/043nyj Common fig 0\n",
      "/m/01b7fy Headphones 0\n",
      "/m/01vzwd Mortar 0\n",
      "/m/0h8kx63 Spice rack 0\n",
      "/m/06k2mb High heels 0\n",
      "/m/06z37_ Picture frame 0\n",
      "/m/0llzx Sewing machine 0\n",
      "/m/0h8n6ft Cake stand 0\n",
      "/m/04m6gz Porch 0\n",
      "/m/06bt6 Reptile 0\n",
      "/m/02bb1s Sniper rifle 0\n",
      "/m/083wq Wheel 0\n",
      "/m/03bj1 Panda 0\n",
      "/m/04m9y Lizard 0\n",
      "/m/01lynh Stairs 0\n",
      "/m/02068x Gondola 0\n",
      "/m/01h_q0 Military robot 0\n",
      "/m/01hr1w Guided missile destroyer 0\n",
      "/m/02wv6h6 Skirt 0\n",
      "/m/05ws7 Police 0\n",
      "/m/04xd6k Melee weapon 0\n",
      "/m/061_f Pear 0\n",
      "/m/03txqz Scale 0\n",
      "/m/0knpd Flight instruments 0\n",
      "/m/0f6wt Falcon 0\n",
      "/m/0cydv Caterpillar 0\n",
      "/m/077hhl Cargo aircraft 0\n",
      "/m/027pcv Zucchini 0\n",
      "/m/01kqwy Business jet 0\n",
      "/m/06pcq Submarine sandwich 0\n",
      "/m/02pkr5 Plumbing fixture 0\n",
      "/m/09gtd Toilet paper 0\n",
      "/m/0pcr Alpaca 0\n",
      "/m/0120dh Sea turtle 0\n",
      "/m/014trl Cosmetics 0\n",
      "/m/02wbtzl Sun hat 0\n",
      "/m/0frqm Envelope 0\n",
      "/m/0kpqd Watermelon 0\n",
      "/m/01xygc Coat 0\n",
      "/m/0ky7b Dishwasher 0\n",
      "/m/09kmb Spider 0\n",
      "/m/02zvsm Tart 0\n",
      "/m/0f9_l Snail 0\n",
      "/m/0703r8 Loveseat 0\n",
      "/m/0dv9c Racket 0\n",
      "/m/078jl Snake 0\n",
      "/m/0ll1f78 Shrimp 0\n",
      "/m/02dgv Door 0\n",
      "/m/02vqfm Coffee 0\n",
      "/m/018j2 Banjo 0\n",
      "/m/07mhn Trousers 0\n",
      "/m/03qrc Hamster 0\n",
      "/m/065h6l Jacuzzi 0\n",
      "/m/07bgp Sheep 0\n",
      "/m/02pdsw Cutting board 0\n",
      "/m/03hfwtf Military transport aircraft 0\n",
      "/m/01fb_0 Bagel 0\n",
      "/m/033rq4 Street light 0\n",
      "/m/012qdp Military officer 0\n",
      "/m/03hl4l9 Marine invertebrates 0\n",
      "/m/01gkx_ Swimwear 0\n",
      "/m/05y_qt Missile boat 0\n",
      "/m/09b5t Chicken 0\n",
      "/m/057p5t Scoreboard 0\n",
      "/m/09ddx Duck 0\n",
      "/m/029bxz Oven 0\n",
      "/m/0c29q Leopard 0\n",
      "/m/03y6mg Food processor 0\n",
      "/m/03k3r Horse 0\n",
      "/m/04229 Jet engine 0\n",
      "/m/0174k2 Washing machine 0\n",
      "/m/0420v5 Punching bag 0\n",
      "/m/099md Soldier 0\n",
      "/m/01tcjp Muffin 0\n",
      "/m/01cmb2 Miniskirt 0\n",
      "/m/034c16 Pillow 0\n",
      "/m/01mzpv Chair 0\n",
      "/m/01xqw Cello 0\n",
      "/m/03wvsk hair drier 0\n",
      "/m/06__v Snowboard 0\n",
      "/m/01m2v Computer keyboard 0\n",
      "/m/02ctlc Cricket ball 0\n",
      "/m/0c568 Porcupine 0\n",
      "/m/0k1tl Pen 0\n",
      "/m/0h9mv Tire 0\n",
      "/m/0chbx Violence 0\n",
      "/m/0d_2m Moths and butterflies 0\n",
      "/m/018rc1 Ground attack aircraft 0\n",
      "/m/0fp6w Pineapple 0\n",
      "/m/026qbn5 studio couch 0\n",
      "/m/047j0r Filing cabinet 0\n",
      "/m/01dwsz Waffle 0\n",
      "/m/02zn6n Barrel 0\n",
      "/m/0g2bc Drone 0\n",
      "/m/096mb Lion 0\n",
      "/m/01f91_ Pretzel 0\n",
      "/m/014y4n Paddle 0\n",
      "/m/0583b1 Barricade 0\n",
      "/m/02hj4 Dolphin 0\n",
      "/m/02pv19 Stop sign 0\n",
      "/m/0283dt1 Mouth 0\n",
      "/m/07j87 Tomato 0\n",
      "/m/026yq0z Demonstration 0\n",
      "/m/01lrl Carnivore 0\n",
      "/m/03hlz0c Kitchen utensil 0\n",
      "/m/04vv5k Snowplow 0\n",
      "/m/02vkqh8 Wardrobe 0\n",
      "/m/068zj Pig 0\n",
      "/m/02g30s Guacamole 0\n",
      "/m/02p0zyj Riot 0\n",
      "/m/01j4z9 Chainsaw 0\n",
      "/m/0bt_c3 Book 0\n",
      "/m/0dtln Lamp 0\n",
      "/m/025rp__ Cowboy hat 0\n",
      "/m/0633h Polar bear 0\n",
      "/m/02f9f_ Shower 0\n",
      "/m/01gllr Beehive 0\n",
      "/m/01kb5b Flashlight 0\n",
      "/m/0gjkl Watch 0\n",
      "/m/032rk Gun 0\n",
      "/m/03d1rd Ruins 0\n",
      "/m/0663v Pizza 0\n",
      "/m/0h8mzrc Wall clock 0\n",
      "/m/04bcr3 Table 0\n",
      "/m/07fbm7 Strawberry 0\n",
      "/m/024g6 Cocktail 0\n",
      "/m/0hnyx Pastry 0\n",
      "/m/09728 Bread 0\n",
      "/m/019w40 Surfboard 0\n",
      "/m/0l3ms Balance beam 0\n",
      "/m/01x3z Clock 0\n",
      "/m/0342h Guitar 0\n",
      "/m/0133tk Ballistic vest 0\n",
      "/m/0162_1 Towel 0\n",
      "/m/04brg2 Tableware 0\n",
      "/m/0268lbt Hiking equipment 0\n",
      "/m/02xwb Fruit 0\n",
      "/m/0hdln Ruler 0\n",
      "/m/04c0y Kangaroo 0\n",
      "/m/07j7r Tree 0\n",
      "/m/0d4w1 Closet 0\n",
      "/m/01h6rj Military 0\n",
      "/m/0mcx2 Ipod 0\n",
      "/m/05r5c Piano 0\n",
      "/m/03v5tg Drinking straw 0\n",
      "/m/013y1f Organ 0\n",
      "/m/0l515 Sandwich 0\n",
      "/m/03rszm Curtain 0\n",
      "/m/08gqpm cup 0\n",
      "/m/03m3pdh Sofa bed 0\n",
      "/m/015x4r Cucumber 0\n",
      "/m/01nq26 Sock 0\n",
      "/m/0fbw6 Cabbage 0\n",
      "/m/0ccs93 Canary 0\n",
      "/m/014sv8 Eye 0\n",
      "/m/03q5c7 Saucer 0\n",
      "/m/020lf Mouse 0\n",
      "/m/02jz0l Tap 0\n",
      "/m/06_72j Digital clock 0\n",
      "/m/09l63h Military camouflage 0\n",
      "/m/0cxn2 Ice cream 0\n",
      "/m/0cffdh Maple 0\n",
      "/m/06810_ Medium tactical vehicle replacement 0\n",
      "/m/05t_pq Gun turret 0\n",
      "/m/09qck Banana 0\n",
      "/m/06dq9 Radar 0\n",
      "/m/04gth Lavender 0\n",
      "/m/03hj559 Mixing bowl 0\n",
      "/m/016m2d Skull 0\n",
      "/m/03j1ly Emergency vehicle 0\n",
      "/m/01s55n Suitcase 0\n",
      "/m/076lb9 Bench 0\n",
      "/m/0h8nr_l Bathroom accessory 0\n",
      "/m/0152hh Snowman 0\n",
      "/m/01d40f Dress 0\n",
      "/m/02p5f1q Coffee cup 0\n",
      "/m/0449p Jaguar 0\n",
      "/m/0fz0h Honeycomb 0\n",
      "/m/03xxp Invertebrate 0\n",
      "/m/0b_rs Swimming pool 0\n",
      "/m/0dj6p Peach 0\n",
      "/m/07030 Sushi 0\n",
      "/m/0fly7 Jeans 0\n",
      "/m/04zpv Milk 0\n",
      "/m/09tvcd Wine glass 0\n",
      "/m/01j51 Balloon 0\n",
      "/m/02h19r Scarf 0\n",
      "/m/039r6 General aviation 0\n",
      "/m/01xyhv Suit 0\n",
      "/m/06zs7 Sniper 0\n",
      "/m/099ssp Platter 0\n",
      "/m/09d5_ Owl 0\n",
      "/m/03p3bw Bicycle helmet 0\n",
      "/m/05n4y Ostrich 0\n",
      "/m/033cnk Egg 0\n",
      "/m/03nfch Sandal 0\n",
      "/m/08q1tg Crash 0\n",
      "/m/09g1w Toilet 0\n",
      "/m/047v4b Artichoke 0\n",
      "/m/04rky Mammal 0\n",
      "/m/03c7gz Door handle 0\n",
      "/m/0m53l Rays and skates 0\n",
      "/m/0mkg Accordion 0\n",
      "/m/05_5p_0 Table tennis racket 0\n",
      "/m/0k05r Court 0\n",
      "/m/046dlr Alarm clock 0\n",
      "/m/07kng9 Picnic basket 0\n",
      "/m/015qff Traffic light 0\n",
      "/m/04169hn Wood-burning stove 0\n",
      "/m/017ftj Sunglasses 0\n",
      "/m/0dv77 Squash 0\n",
      "/m/02p3w7d Roller skates 0\n",
      "/m/01h3n Bee 0\n",
      "/m/0c9ph5 Flower 0\n",
      "/m/020jm Beetle 0\n",
      "/m/01226z Football 0\n",
      "/m/09f_2 Crocodile 0\n",
      "/m/01bqk0 Bicycle wheel 0\n",
      "/m/0cn6p Otter 0\n",
      "/m/04dr76w Bottle 0\n",
      "/m/0130jx Sink 0\n",
      "/m/01bfm9 Shorts 0\n",
      "/m/05kms Oboe 0\n",
      "/m/029tx Dinosaur 0\n",
      "/m/0319l Horn 0\n",
      "/m/0jqgx Lily 0\n",
      "/m/03dnzn Bathtub 0\n",
      "/m/02zt3 Kite 0\n",
      "/m/0fqt361 Stool 0\n",
      "/m/04qvtq Police car 0\n",
      "/m/0h8my_4 Tennis racket 0\n",
      "/m/057cc Musical keyboard 0\n",
      "/m/0463sg Fashion accessory 0\n",
      "/m/052sf Mushroom 0\n",
      "/m/02wmf frisbee 0\n",
      "/m/0fldg Mango 0\n",
      "/m/015p6 Bird 0\n",
      "/m/0hnnb Umbrella 0\n",
      "/m/0cjs7 Asparagus 0\n",
      "/m/035vxb Isopod 0\n",
      "/m/08hvt4 Jug 0\n",
      "/m/01ww8y Snack 0\n",
      "/m/03fp41 Houseplant 0\n",
      "/m/04c2cp Dispatcher 0\n",
      "/m/0gt4z Security guard 0\n",
      "/m/040b_t Refrigerator 0\n",
      "/m/0gd2v Marine mammal 0\n",
      "/m/0174n1 Glove 0\n",
      "/m/01pns0 Fire hydrant 0\n",
      "/m/02q5pxq Aircraft cabin 0\n",
      "/m/0dbzx Mule 0\n",
      "/m/01d380 Drill 0\n",
      "/m/02wv84t Gas stove 0\n",
      "/m/0fbdv Shellfish 0\n",
      "/m/0gd36 Sea lion 0\n",
      "/m/05y5lj Sports equipment 0\n",
      "/m/0nl46 Crown 0\n",
      "/m/02522 Computer monitor 0\n",
      "/m/01dy8n Woodpecker 0\n",
      "/m/02y6n French fries 0\n",
      "/m/01dws Bear 0\n",
      "/m/01b638 Boot 0\n",
      "/m/02ryw Explosive material 0\n",
      "/m/031b6r Window blind 0\n",
      "/m/0cjq5 Lobster 0\n",
      "/m/04kkgm Bowl 0\n",
      "/m/0nybt Seahorse 0\n",
      "/m/06c7f7 Lipstick 0\n",
      "/m/0fx9l Microwave oven 0\n",
      "/m/0dt3t Fork 0\n",
      "/m/0242l Coin 0\n",
      "/m/071qp Squirrel 0\n",
      "/m/02h66g5 Military person 0\n",
      "/m/01h44 Bat 0\n",
      "/m/05vtc Potato 0\n",
      "/m/06l9r Red panda 0\n",
      "/m/078n6m Coffee table 0\n",
      "/m/03grzl Baseball glove 0\n",
      "/m/012074 Magpie 0\n",
      "/m/029b3 Dice 0\n",
      "/m/03bk1 Giraffe 0\n",
      "/m/07gql Trumpet 0\n",
      "/m/02w3r3 Paper towel 0\n",
      "/m/02rgn06 Volleyball 0\n",
      "/m/0qjjc Remote control 0\n",
      "/m/06ncr Saxophone 0\n",
      "/m/08p92x Cream 0\n",
      "/m/01x_v Camel 0\n",
      "/m/0220r2 Fountain 0\n",
      "/m/0d4v4 Window 0\n",
      "/m/01z1kdw Juice 0\n",
      "/m/05gqfk Plastic bag 0\n",
      "/m/07crc Taco 0\n",
      "/m/030610 Treadmill 0\n",
      "/m/0584n8 Briefcase 0\n",
      "/m/047b9vj Gps navigation device 0\n",
      "/m/0ph39 Canoe 0\n",
      "/m/0l14j_ Flute 0\n",
      "/m/04v6l4 Frying pan 0\n",
      "/m/02mwm5 Police dog 0\n",
      "/m/03vt0 Insect 0\n",
      "/m/019dx1 Home appliance 0\n",
      "/m/0271qf7 Wine rack 0\n",
      "/m/0167gd Doll 0\n",
      "/m/0cyf8 Butterfly 0\n",
      "/m/02tsc9 Slow cooker 0\n",
      "/m/03ldnb Ceiling fan 0\n",
      "/m/01y9k5 Desk 0\n",
      "/m/0h23m Sparrow 0\n",
      "/m/02fq_6 Fedora 0\n",
      "/m/04rmv Mouse 0\n",
      "/m/011k07 Tortoise 0\n",
      "/m/07pj7bq Bowling equipment 0\n",
      "/m/09csl Eagle 0\n",
      "/m/05kyg_ Chest of drawers 0\n",
      "/m/0b3fp9 Countertop 0\n",
      "/m/0jy4k Doughnut 0\n",
      "/m/03vntj Full-size car 0\n",
      "/m/015wgc Croissant 0\n",
      "/m/044r5d Golf ball 0\n",
      "/m/0kpt_ Cantaloupe 0\n",
      "/m/0y8r Armored car 0\n",
      "/m/0c06p Candle 0\n",
      "/m/02crq1 Couch 0\n",
      "/m/03fwl Goat 0\n",
      "/m/0ftb8 Sunflower 0\n",
      "/m/0fzyg Aviation 0\n",
      "/m/03q69 Hair 0\n",
      "/m/04yqq2 Bust 0\n",
      "/m/0d8zb Jellyfish 0\n",
      "/m/0hqkz Grapefruit 0\n",
      "/m/09k_b Lemon 0\n",
      "/m/058qzx Kitchen knife 0\n",
      "/m/03kt2w Stationary bicycle 0\n",
      "/m/01b9xk Hot dog 0\n",
      "/m/0fqfqc Drawer 0\n",
      "/m/09j2d Clothing 0\n",
      "/m/09f20 Hippopotamus 0\n",
      "/m/06mf6 Rabbit 0\n",
      "/m/02s195 Vase 0\n",
      "/m/03__z0 Bookcase 0\n",
      "/m/0dq75 Raccoon 0\n",
      "/m/0_cp5 Oyster 0\n",
      "/m/084hf Worm 0\n",
      "/m/061hd_ Infant bed 0\n",
      "/m/01vbnl Bidet 0\n",
      "/m/012ndj Fire apparatus 0\n",
      "/m/0dzf4 Arm 0\n",
      "/m/084rd Wok 0\n",
      "/m/027rl48 Ladle 0\n",
      "/m/01g3x7 Bow and arrow 0\n",
      "/m/025nd Christmas tree 0\n",
      "/m/08pbxl Monkey 0\n",
      "/m/0jly1 Turkey 0\n",
      "/m/0n28_ Crab 0\n",
      "/m/0bwd_0j Elephant 0\n",
      "/m/0ft9s Dragonfly 0\n",
      "/m/054_l Mirror 0\n",
      "/m/01rkbr Tie 0\n",
      "/m/013m1 Air force 0\n",
      "/m/014j1m Apple 0\n",
      "/m/04g2r Lynx 0\n",
      "/m/0cvnqh Bench 0\n",
      "/m/06nwz Seafood 0\n",
      "/m/0fszt Cake 0\n",
      "/m/0h8n27j Serving tray 0\n",
      "/m/0642b4 Cupboard 0\n",
      "/m/01xq0k1 Cattle 0\n",
      "/m/03s_tn Kettle 0\n",
      "/m/01n4qj Shirt 0\n",
      "/m/0176mf Belt 0\n",
      "/m/0jwn_ Pomegranate 0\n",
      "/m/03tw93 Fireplace 0\n",
      "/m/03m5k Harp 0\n",
      "background background 0\n",
      "/m/021mn Cookie 0\n",
      "/m/01m4t Printer 0\n",
      "/m/0dkw5 Machine 0\n",
      "/m/080hkjn Handbag 0\n",
      "/m/0k0pj Nose 0\n",
      "/m/01jfsr Lantern 0\n",
      "/m/02pjr4 Blender 0\n",
      "/m/024d2 Calculator 0\n",
      "/m/03bbps Power plugs and sockets 0\n",
      "/m/025dyy Box 0\n",
      "/m/0h8l4fh Light bulb 0\n",
      "/m/0h99cwc Kitchen appliance 0\n",
      "/m/09j5n Footwear 0\n",
      "/m/05zsy Pumpkin 0\n",
      "/m/01_5g Chopsticks 0\n",
      "/m/09ld4 Frog 0\n",
      "/m/0mw_6 Willow 0\n",
      "/m/0h8n6f9 Dog bed 0\n",
      "/m/0cdl1 Palm tree 0\n",
      "/m/0138tl Toy 0\n",
      "/m/0cd4d Cheetah 0\n",
      "/m/01dxs Brown bear 0\n",
      "/m/073bxn Tripod 0\n",
      "/m/0bjyj5 Waste container 0\n",
      "/m/0k65p Hand 0\n",
      "/m/012ysf Syringe 0\n",
      "/m/073g6 Stethoscope 0\n",
      "/m/02l8p9 Harbor seal 0\n",
      "/m/02x8cch Salt and pepper shakers 0\n",
      "/m/01mqdt Traffic sign 0\n",
      "/m/02z51p Nightstand 0\n",
      "/m/05pdd_v Fire department 0\n",
      "/m/019h78 Centipede 0\n",
      "/m/02jvh9 Mug 0\n",
      "/m/04y4h8h Bathroom cabinet 0\n",
      "/m/039xj_ Ear 0\n",
      "/m/04szw Musical instrument 0\n",
      "/m/0gjbg72 Shelf 0\n",
      "/m/02w3_ws Personal care 0\n",
      "/m/07clx Tea 0\n",
      "/m/0_k2 Ant 0\n",
      "/m/0898b Zebra 0\n",
      "/m/0ch_cf Fish 0\n",
      "/m/01j3zr Burrito 0\n",
      "/m/0p833 Perfume 0\n",
      "/m/0cl4p Hedgehog 0\n",
      "/m/012xff Toothbrush 0\n",
      "/m/03jbxj Light switch 0\n",
      "/m/04h8sr Dumbbell 0\n",
      "/m/0g02q Courthouse 0\n",
      "/m/07c6l Trombone 0\n",
      "/m/02dl1y Hat 0\n",
      "/m/0wdt60w Rugby ball 0\n",
      "/m/026t6 Drum 0\n",
      "/m/0byj4 Combat 0\n",
      "/m/084zz Whale 0\n",
      "/m/014zdl Explosion 0\n",
      "/m/0245kq Stealth aircraft 0\n",
      "/m/0gj37 Ladybug 0\n",
      "/m/0271t Drink 0\n",
      "/m/01krhy Tiara 0\n",
      "/m/02x984l Mechanical fan 0\n",
      "/m/025sb2w Supersonic aircraft 0\n",
      "/m/03g8mr Baseball bat 0\n",
      "/m/032b3c Jacket 0\n",
      "/m/02cvgx Winter melon 0\n",
      "/m/0jg57 Bell pepper 0\n",
      "/m/0fm3zh Flowerpot 0\n",
      "/m/071p9 Ski 0\n",
      "/m/01gmv2 Brassiere 0\n",
      "/m/0gty6zf Law enforcement 0\n",
      "/m/0hkxq Broccoli 0\n",
      "/m/0cmx8 Spoon 0\n",
      "/m/014tl Ammunition 0\n",
      "/m/018xm Ball 0\n",
      "/m/052lwg6 Baked goods 0\n",
      "/m/04cp_ Koala 0\n",
      "/m/01jfm_ Licence plate 0\n",
      "/m/0grw1 Salad 0\n",
      "/m/0270h Dessert 0\n",
      "/m/05z55 Pasta 0\n",
      "/m/015_d Bomber 0\n",
      "/m/0gm28 Candy 0\n",
      "/m/035r7c Leg 0\n",
      "/m/0gv1x Parrot 0\n",
      "/m/0284d Dairy 0\n",
      "/m/01940j Backpack 0\n"
     ]
    }
   ],
   "source": [
    "for i in idx:\n",
    "    print(all_labels[i], mid2name_all[all_labels[i]], len(label_to_img[all_labels[i]]))"
   ]
  },
  {
   "cell_type": "code",
   "execution_count": 28,
   "metadata": {},
   "outputs": [],
   "source": [
    "select_labels = ['/m/01fnck', '/m/019jd', '/m/03120', '/m/02_41', '/m/07cmd', '/m/06q40', '/m/03qtwd', '/m/09x0r', '/m/01xgg_', '/m/08qrwn', '/m/012n4x', '/m/02p16m6', '/m/02lbcq', '/m/09ct_', '/m/0g54v5d', '/m/0bg2p', '/m/0ct4f', '/m/01nd_n', '/m/09rvcxw', '/m/01nl4x', '/m/04ctx', '/m/04ylt', '/m/0gvss07', '/m/01rzcn', '/m/06nrc', '/m/0cyfs', '/m/0f5lx', '/m/04zjc', '/m/0dhz0', '/m/01lcw4', '/m/03htg', '/m/0gxl3', '/m/01bq8v', '/m/0lt4_', '/m/02gzp', '/m/02yjc', '/m/012n7d', '/m/0jb3']"
   ]
  },
  {
   "cell_type": "code",
   "execution_count": null,
   "metadata": {},
   "outputs": [],
   "source": []
  },
  {
   "cell_type": "markdown",
   "metadata": {},
   "source": [
    "## Visualizing Results"
   ]
  },
  {
   "cell_type": "code",
   "execution_count": 12,
   "metadata": {},
   "outputs": [],
   "source": [
    "mid2name_extended = {}\n",
    "extended_classes = set()\n",
    "for key in coco_mids:\n",
    "    for model, abv in [('coco', 'CO'), ('oi', 'OI'), ('ws', 'WS'), ('coco/J', 'CO/J'), ('oi/J', 'OI/J'), ('ws/J', 'WS/J')]:\n",
    "        extended_classes.add(key + '/' + model)\n",
    "        mid2name_extended[key + '/' + model] = mid2name_coco[key] + f' ({abv})'\n",
    "for key in oi_mids:\n",
    "    for model, abv in [('coco', 'CO'), ('oi', 'OI'), ('ws', 'WS'), ('coco/J', 'CO/J'), ('oi/J', 'OI/J'), ('ws/J', 'WS/J')]:\n",
    "        extended_classes.add(key + '/' + model)\n",
    "        mid2name_extended[key + '/' + model] = mid2name_oi[key] + f' ({abv})'\n",
    "for key in ws_mids:\n",
    "    for model, abv in [('coco', 'CO'), ('oi', 'OI'), ('ws', 'WS'), ('coco/J', 'CO/J'), ('oi/J', 'OI/J'), ('ws/J', 'WS/J')]:\n",
    "        extended_classes.add(key + '/' + model)\n",
    "        mid2name_extended[key + '/' + model] = mid2name_ws[key] + f' ({abv})'\n",
    "extended_classes = list(extended_classes)\n",
    "mid2idx_extended = {}\n",
    "for i, key in enumerate(extended_classes):\n",
    "    mid2idx_extended[key] = i\n",
    "category_index_extended = {mid2idx_extended[key]:{'id': mid2idx_extended[key], 'name': mid2name_extended[key]} for key in mid2name_extended}"
   ]
  },
  {
   "cell_type": "code",
   "execution_count": 13,
   "metadata": {},
   "outputs": [],
   "source": [
    "det_results_forviz = copy.deepcopy(det_results_sorted)"
   ]
  },
  {
   "cell_type": "code",
   "execution_count": 14,
   "metadata": {},
   "outputs": [],
   "source": [
    "for key in det_results_forviz:\n",
    "    for i in range(len(det_results_forviz[key]['detection_classes'])):\n",
    "        label = det_results_forviz[key]['detection_classes'][i] + '/' + det_results_forviz[key]['detection_models'][i]\n",
    "        det_results_forviz[key]['detection_classes'][i] = mid2idx_extended[label]\n"
   ]
  },
  {
   "cell_type": "code",
   "execution_count": 15,
   "metadata": {},
   "outputs": [
    {
     "name": "stdout",
     "output_type": "stream",
     "text": [
      "[2554, 3896, 339, 4405, 1676, 3657, 1076, 3878, 1076, 1866, 1676, 3837, 1929, 3776, 2460, 1352, 69, 3550, 3103, 1411, 2578, 636, 252, 505, 40, 2321, 505, 4081, 2070, 2178, 2960, 3823, 3690, 2271, 903, 501, 932]\n"
     ]
    }
   ],
   "source": [
    "print(det_results_forviz[key]['detection_classes'])"
   ]
  },
  {
   "cell_type": "code",
   "execution_count": null,
   "metadata": {},
   "outputs": [],
   "source": []
  },
  {
   "cell_type": "code",
   "execution_count": 16,
   "metadata": {},
   "outputs": [],
   "source": [
    "def preproc(im):\n",
    "    target_size = 400\n",
    "    max_size = 1024\n",
    "    im_size_min = np.min(im.shape[0:2])\n",
    "    im_size_max = np.max(im.shape[0:2])\n",
    "    im_scale = float(target_size) / float(im_size_min)\n",
    "    # Prevent the biggest axis from being more than MAX_SIZE\n",
    "    if np.round(im_scale * im_size_max) > max_size:\n",
    "        im_scale = float(max_size) / float(im_size_max)\n",
    "    im = cv2.resize(im, None, None, fx=im_scale, fy=im_scale,\n",
    "                    interpolation=cv2.INTER_LINEAR)    \n",
    "    return im"
   ]
  },
  {
   "cell_type": "code",
   "execution_count": null,
   "metadata": {},
   "outputs": [],
   "source": []
  },
  {
   "cell_type": "code",
   "execution_count": 26,
   "metadata": {},
   "outputs": [],
   "source": [
    "def show(imgid, thresh):\n",
    "    filename = '../../../../data/seedling/seedling_part1/jpg/' + imgid\n",
    "    print(imgid)\n",
    "    with open(filename, 'rb') as fin:\n",
    "        _ = fin.read(1024)\n",
    "        imgbin = fin.read()\n",
    "    imgbgr = cv2.imdecode(np.fromstring(imgbin, dtype='uint8'), cv2.IMREAD_COLOR)\n",
    "    image_np = imgbgr[:,:,[2,1,0]]\n",
    "    image_np = preproc(image_np)\n",
    "    vis_util.visualize_boxes_and_labels_on_image_array(\n",
    "      image_np,\n",
    "      np.asarray(det_results_forviz[imgid]['detection_boxes_normalized']),\n",
    "      det_results_forviz[imgid]['detection_classes'],\n",
    "      det_results_forviz[imgid]['detection_scores'],\n",
    "      category_index_extended,\n",
    "      instance_masks=det_results_forviz[imgid].get('detection_masks'),\n",
    "      use_normalized_coordinates=True,\n",
    "      min_score_thresh=thresh,\n",
    "      line_thickness=2)\n",
    "    plt.figure(figsize=(12, 8))\n",
    "    plt.imshow(image_np)\n",
    "    plt.axis('off')\n",
    "    plt.show()    "
   ]
  },
  {
   "cell_type": "code",
   "execution_count": 29,
   "metadata": {
    "scrolled": true
   },
   "outputs": [
    {
     "name": "stdout",
     "output_type": "stream",
     "text": [
      "Waste\n"
     ]
    },
    {
     "data": {
      "application/vnd.jupyter.widget-view+json": {
       "model_id": "de3a509654174b0cbcfac67c272e986a",
       "version_major": 2,
       "version_minor": 0
      },
      "text/plain": [
       "interactive(children=(FloatSlider(value=0.35, continuous_update=False, description='thresh', max=1.0, step=0.0…"
      ]
     },
     "metadata": {},
     "output_type": "display_data"
    },
    {
     "name": "stdout",
     "output_type": "stream",
     "text": [
      "Boat\n"
     ]
    },
    {
     "data": {
      "application/vnd.jupyter.widget-view+json": {
       "model_id": "d0c8082b946f4ca3ae3a7c8330674bfa",
       "version_major": 2,
       "version_minor": 0
      },
      "text/plain": [
       "interactive(children=(FloatSlider(value=0.35, continuous_update=False, description='thresh', max=1.0, step=0.0…"
      ]
     },
     "metadata": {},
     "output_type": "display_data"
    },
    {
     "name": "stdout",
     "output_type": "stream",
     "text": [
      "Flag\n"
     ]
    },
    {
     "data": {
      "application/vnd.jupyter.widget-view+json": {
       "model_id": "d44c9c3706204ada92c28a5771e4b8cc",
       "version_major": 2,
       "version_minor": 0
      },
      "text/plain": [
       "interactive(children=(FloatSlider(value=0.35, continuous_update=False, description='thresh', max=1.0, step=0.0…"
      ]
     },
     "metadata": {},
     "output_type": "display_data"
    },
    {
     "name": "stdout",
     "output_type": "stream",
     "text": [
      "Fire\n"
     ]
    },
    {
     "data": {
      "application/vnd.jupyter.widget-view+json": {
       "model_id": "d083bfe64d9d4cd596ab494bd5b49c11",
       "version_major": 2,
       "version_minor": 0
      },
      "text/plain": [
       "interactive(children=(FloatSlider(value=0.35, continuous_update=False, description='thresh', max=1.0, step=0.0…"
      ]
     },
     "metadata": {},
     "output_type": "display_data"
    },
    {
     "name": "stdout",
     "output_type": "stream",
     "text": [
      "Tank\n"
     ]
    },
    {
     "data": {
      "application/vnd.jupyter.widget-view+json": {
       "model_id": "82565a9a579643e897073251555fd4a4",
       "version_major": 2,
       "version_minor": 0
      },
      "text/plain": [
       "interactive(children=(FloatSlider(value=0.35, continuous_update=False, description='thresh', max=1.0, step=0.0…"
      ]
     },
     "metadata": {},
     "output_type": "display_data"
    },
    {
     "name": "stdout",
     "output_type": "stream",
     "text": [
      "Smoke\n"
     ]
    },
    {
     "data": {
      "application/vnd.jupyter.widget-view+json": {
       "model_id": "20ada009208c4cf8bc049c159da91116",
       "version_major": 2,
       "version_minor": 0
      },
      "text/plain": [
       "interactive(children=(FloatSlider(value=0.35, continuous_update=False, description='thresh', max=1.0, step=0.0…"
      ]
     },
     "metadata": {},
     "output_type": "display_data"
    },
    {
     "name": "stdout",
     "output_type": "stream",
     "text": [
      "Crowd\n"
     ]
    },
    {
     "data": {
      "application/vnd.jupyter.widget-view+json": {
       "model_id": "5dec14632daf4cbf889371631c1615f5",
       "version_major": 2,
       "version_minor": 0
      },
      "text/plain": [
       "interactive(children=(FloatSlider(value=0.35, continuous_update=False, description='thresh', max=1.0, step=0.0…"
      ]
     },
     "metadata": {},
     "output_type": "display_data"
    },
    {
     "name": "stdout",
     "output_type": "stream",
     "text": [
      "Speech\n"
     ]
    },
    {
     "data": {
      "application/vnd.jupyter.widget-view+json": {
       "model_id": "783067525a9340fda843b9e2870dda8f",
       "version_major": 2,
       "version_minor": 0
      },
      "text/plain": [
       "interactive(children=(FloatSlider(value=0.35, continuous_update=False, description='thresh', max=1.0, step=0.0…"
      ]
     },
     "metadata": {},
     "output_type": "display_data"
    },
    {
     "name": "stdout",
     "output_type": "stream",
     "text": [
      "Medical equipment\n"
     ]
    },
    {
     "data": {
      "application/vnd.jupyter.widget-view+json": {
       "model_id": "9d3f033fa9114e58ba1054ed27554045",
       "version_major": 2,
       "version_minor": 0
      },
      "text/plain": [
       "interactive(children=(FloatSlider(value=0.35, continuous_update=False, description='thresh', max=1.0, step=0.0…"
      ]
     },
     "metadata": {},
     "output_type": "display_data"
    },
    {
     "name": "stdout",
     "output_type": "stream",
     "text": [
      "Rubble\n"
     ]
    },
    {
     "data": {
      "application/vnd.jupyter.widget-view+json": {
       "model_id": "8ebe1882087645e0a84ec2a4a4e8c0c7",
       "version_major": 2,
       "version_minor": 0
      },
      "text/plain": [
       "interactive(children=(FloatSlider(value=0.35, continuous_update=False, description='thresh', max=1.0, step=0.0…"
      ]
     },
     "metadata": {},
     "output_type": "display_data"
    },
    {
     "name": "stdout",
     "output_type": "stream",
     "text": [
      "Firefighter\n"
     ]
    },
    {
     "data": {
      "application/vnd.jupyter.widget-view+json": {
       "model_id": "1f01cdaff039450099ae40e73e3c3346",
       "version_major": 2,
       "version_minor": 0
      },
      "text/plain": [
       "interactive(children=(FloatSlider(value=0.35, continuous_update=False, description='thresh', max=1.0, step=0.0…"
      ]
     },
     "metadata": {},
     "output_type": "display_data"
    },
    {
     "name": "stdout",
     "output_type": "stream",
     "text": [
      "Flesh\n"
     ]
    },
    {
     "data": {
      "application/vnd.jupyter.widget-view+json": {
       "model_id": "ad0b72f3b6c54a8a903db8b93b5b2cd7",
       "version_major": 2,
       "version_minor": 0
      },
      "text/plain": [
       "interactive(children=(FloatSlider(value=0.35, continuous_update=False, description='thresh', max=1.0, step=0.0…"
      ]
     },
     "metadata": {},
     "output_type": "display_data"
    },
    {
     "name": "stdout",
     "output_type": "stream",
     "text": [
      "Stretcher\n"
     ]
    },
    {
     "data": {
      "application/vnd.jupyter.widget-view+json": {
       "model_id": "bff8dd4ca205450b802123c520419118",
       "version_major": 2,
       "version_minor": 0
      },
      "text/plain": [
       "interactive(children=(FloatSlider(value=0.35, continuous_update=False, description='thresh', max=1.0, step=0.0…"
      ]
     },
     "metadata": {},
     "output_type": "display_data"
    },
    {
     "name": "stdout",
     "output_type": "stream",
     "text": [
      "Helicopter\n"
     ]
    },
    {
     "data": {
      "application/vnd.jupyter.widget-view+json": {
       "model_id": "fafc98d7eb794f8aa56d2040c49fe84a",
       "version_major": 2,
       "version_minor": 0
      },
      "text/plain": [
       "interactive(children=(FloatSlider(value=0.35, continuous_update=False, description='thresh', max=1.0, step=0.0…"
      ]
     },
     "metadata": {},
     "output_type": "display_data"
    },
    {
     "name": "stdout",
     "output_type": "stream",
     "text": [
      "Military vehicle\n"
     ]
    },
    {
     "data": {
      "application/vnd.jupyter.widget-view+json": {
       "model_id": "6a852617a41145639abefd2e673d4455",
       "version_major": 2,
       "version_minor": 0
      },
      "text/plain": [
       "interactive(children=(FloatSlider(value=0.35, continuous_update=False, description='thresh', max=1.0, step=0.0…"
      ]
     },
     "metadata": {},
     "output_type": "display_data"
    },
    {
     "name": "stdout",
     "output_type": "stream",
     "text": [
      "Security\n"
     ]
    },
    {
     "data": {
      "application/vnd.jupyter.widget-view+json": {
       "model_id": "34a6e0bf83f4439380f119bfe0c8973f",
       "version_major": 2,
       "version_minor": 0
      },
      "text/plain": [
       "interactive(children=(FloatSlider(value=0.35, continuous_update=False, description='thresh', max=1.0, step=0.0…"
      ]
     },
     "metadata": {},
     "output_type": "display_data"
    },
    {
     "name": "stdout",
     "output_type": "stream",
     "text": [
      "Bomb\n"
     ]
    },
    {
     "data": {
      "application/vnd.jupyter.widget-view+json": {
       "model_id": "855cba222afc425b99eeb42e983194aa",
       "version_major": 2,
       "version_minor": 0
      },
      "text/plain": [
       "interactive(children=(FloatSlider(value=0.35, continuous_update=False, description='thresh', max=1.0, step=0.0…"
      ]
     },
     "metadata": {},
     "output_type": "display_data"
    },
    {
     "name": "stdout",
     "output_type": "stream",
     "text": [
      "Protest\n"
     ]
    },
    {
     "data": {
      "application/vnd.jupyter.widget-view+json": {
       "model_id": "7d9b521b22cd410385d26bf641c7191b",
       "version_major": 2,
       "version_minor": 0
      },
      "text/plain": [
       "interactive(children=(FloatSlider(value=0.35, continuous_update=False, description='thresh', max=1.0, step=0.0…"
      ]
     },
     "metadata": {},
     "output_type": "display_data"
    },
    {
     "name": "stdout",
     "output_type": "stream",
     "text": [
      "Rocket\n"
     ]
    },
    {
     "data": {
      "application/vnd.jupyter.widget-view+json": {
       "model_id": "019f0759fd08441699a80ddb73c81178",
       "version_major": 2,
       "version_minor": 0
      },
      "text/plain": [
       "interactive(children=(FloatSlider(value=0.35, continuous_update=False, description='thresh', max=1.0, step=0.0…"
      ]
     },
     "metadata": {},
     "output_type": "display_data"
    },
    {
     "name": "stdout",
     "output_type": "stream",
     "text": [
      "Fire extinguisher\n"
     ]
    },
    {
     "data": {
      "application/vnd.jupyter.widget-view+json": {
       "model_id": "1eb33ededb4d456daef0117e5713169f",
       "version_major": 2,
       "version_minor": 0
      },
      "text/plain": [
       "interactive(children=(FloatSlider(value=0.35, continuous_update=False, description='thresh', max=1.0, step=0.0…"
      ]
     },
     "metadata": {},
     "output_type": "display_data"
    },
    {
     "name": "stdout",
     "output_type": "stream",
     "text": [
      "Knife\n"
     ]
    },
    {
     "data": {
      "application/vnd.jupyter.widget-view+json": {
       "model_id": "9389d653831c4780bc50a6eff9cc6e65",
       "version_major": 2,
       "version_minor": 0
      },
      "text/plain": [
       "interactive(children=(FloatSlider(value=0.35, continuous_update=False, description='thresh', max=1.0, step=0.0…"
      ]
     },
     "metadata": {},
     "output_type": "display_data"
    },
    {
     "name": "stdout",
     "output_type": "stream",
     "text": [
      "Missile\n"
     ]
    },
    {
     "data": {
      "application/vnd.jupyter.widget-view+json": {
       "model_id": "f9d1c408bc1641e7808039e0b6f1b3d5",
       "version_major": 2,
       "version_minor": 0
      },
      "text/plain": [
       "interactive(children=(FloatSlider(value=0.35, continuous_update=False, description='thresh', max=1.0, step=0.0…"
      ]
     },
     "metadata": {},
     "output_type": "display_data"
    },
    {
     "name": "stdout",
     "output_type": "stream",
     "text": [
      "Combat vehicle\n"
     ]
    },
    {
     "data": {
      "application/vnd.jupyter.widget-view+json": {
       "model_id": "c8c10611b37e4d66ae3d874c216b689e",
       "version_major": 2,
       "version_minor": 0
      },
      "text/plain": [
       "interactive(children=(FloatSlider(value=0.35, continuous_update=False, description='thresh', max=1.0, step=0.0…"
      ]
     },
     "metadata": {},
     "output_type": "display_data"
    },
    {
     "name": "stdout",
     "output_type": "stream",
     "text": [
      "Watercraft\n"
     ]
    },
    {
     "data": {
      "application/vnd.jupyter.widget-view+json": {
       "model_id": "7e561be7f25446a18ab3d62327e7ba9d",
       "version_major": 2,
       "version_minor": 0
      },
      "text/plain": [
       "interactive(children=(FloatSlider(value=0.35, continuous_update=False, description='thresh', max=1.0, step=0.0…"
      ]
     },
     "metadata": {},
     "output_type": "display_data"
    },
    {
     "name": "stdout",
     "output_type": "stream",
     "text": [
      "Shotgun\n"
     ]
    },
    {
     "data": {
      "application/vnd.jupyter.widget-view+json": {
       "model_id": "2e9999d2865b441b9bcc47f0fe25a92e",
       "version_major": 2,
       "version_minor": 0
      },
      "text/plain": [
       "interactive(children=(FloatSlider(value=0.35, continuous_update=False, description='thresh', max=1.0, step=0.0…"
      ]
     },
     "metadata": {},
     "output_type": "display_data"
    },
    {
     "name": "stdout",
     "output_type": "stream",
     "text": [
      "Parachute\n"
     ]
    },
    {
     "data": {
      "application/vnd.jupyter.widget-view+json": {
       "model_id": "a3d37dd5eff34e32b7009299071510dc",
       "version_major": 2,
       "version_minor": 0
      },
      "text/plain": [
       "interactive(children=(FloatSlider(value=0.35, continuous_update=False, description='thresh', max=1.0, step=0.0…"
      ]
     },
     "metadata": {},
     "output_type": "display_data"
    },
    {
     "name": "stdout",
     "output_type": "stream",
     "text": [
      "Military aircraft\n"
     ]
    },
    {
     "data": {
      "application/vnd.jupyter.widget-view+json": {
       "model_id": "fb1cb4e961b6493f8223c7395209bc72",
       "version_major": 2,
       "version_minor": 0
      },
      "text/plain": [
       "interactive(children=(FloatSlider(value=0.35, continuous_update=False, description='thresh', max=1.0, step=0.0…"
      ]
     },
     "metadata": {},
     "output_type": "display_data"
    },
    {
     "name": "stdout",
     "output_type": "stream",
     "text": [
      "Machine gun\n"
     ]
    },
    {
     "data": {
      "application/vnd.jupyter.widget-view+json": {
       "model_id": "15059a0475d1488f9b5865875497ac37",
       "version_major": 2,
       "version_minor": 0
      },
      "text/plain": [
       "interactive(children=(FloatSlider(value=0.35, continuous_update=False, description='thresh', max=1.0, step=0.0…"
      ]
     },
     "metadata": {},
     "output_type": "display_data"
    },
    {
     "name": "stdout",
     "output_type": "stream",
     "text": [
      "Airliner\n"
     ]
    },
    {
     "data": {
      "application/vnd.jupyter.widget-view+json": {
       "model_id": "9d2e53159d014b3e94a8aba3bc0110a2",
       "version_major": 2,
       "version_minor": 0
      },
      "text/plain": [
       "interactive(children=(FloatSlider(value=0.35, continuous_update=False, description='thresh', max=1.0, step=0.0…"
      ]
     },
     "metadata": {},
     "output_type": "display_data"
    },
    {
     "name": "stdout",
     "output_type": "stream",
     "text": [
      "Limousine\n"
     ]
    },
    {
     "data": {
      "application/vnd.jupyter.widget-view+json": {
       "model_id": "b457ff6255f74729a0dd0255ea99c119",
       "version_major": 2,
       "version_minor": 0
      },
      "text/plain": [
       "interactive(children=(FloatSlider(value=0.35, continuous_update=False, description='thresh', max=1.0, step=0.0…"
      ]
     },
     "metadata": {},
     "output_type": "display_data"
    },
    {
     "name": "stdout",
     "output_type": "stream",
     "text": [
      "Harbor\n"
     ]
    },
    {
     "data": {
      "application/vnd.jupyter.widget-view+json": {
       "model_id": "f36bf8c554264cdfaf9396e92ee67e09",
       "version_major": 2,
       "version_minor": 0
      },
      "text/plain": [
       "interactive(children=(FloatSlider(value=0.35, continuous_update=False, description='thresh', max=1.0, step=0.0…"
      ]
     },
     "metadata": {},
     "output_type": "display_data"
    },
    {
     "name": "stdout",
     "output_type": "stream",
     "text": [
      "Handgun\n"
     ]
    },
    {
     "data": {
      "application/vnd.jupyter.widget-view+json": {
       "model_id": "571598fa12e0422786e7f7e8aa189fd5",
       "version_major": 2,
       "version_minor": 0
      },
      "text/plain": [
       "interactive(children=(FloatSlider(value=0.35, continuous_update=False, description='thresh', max=1.0, step=0.0…"
      ]
     },
     "metadata": {},
     "output_type": "display_data"
    },
    {
     "name": "stdout",
     "output_type": "stream",
     "text": [
      "Troop\n"
     ]
    },
    {
     "data": {
      "application/vnd.jupyter.widget-view+json": {
       "model_id": "e477337f77f0492f80c25345fb6d10a2",
       "version_major": 2,
       "version_minor": 0
      },
      "text/plain": [
       "interactive(children=(FloatSlider(value=0.35, continuous_update=False, description='thresh', max=1.0, step=0.0…"
      ]
     },
     "metadata": {},
     "output_type": "display_data"
    },
    {
     "name": "stdout",
     "output_type": "stream",
     "text": [
      "Binoculars\n"
     ]
    },
    {
     "data": {
      "application/vnd.jupyter.widget-view+json": {
       "model_id": "f4bdbc2d0db54f1c9fa17c6a287b7039",
       "version_major": 2,
       "version_minor": 0
      },
      "text/plain": [
       "interactive(children=(FloatSlider(value=0.35, continuous_update=False, description='thresh', max=1.0, step=0.0…"
      ]
     },
     "metadata": {},
     "output_type": "display_data"
    },
    {
     "name": "stdout",
     "output_type": "stream",
     "text": [
      "Dagger\n"
     ]
    },
    {
     "data": {
      "application/vnd.jupyter.widget-view+json": {
       "model_id": "4a4e5da94bd645339c19c8db67c943fa",
       "version_major": 2,
       "version_minor": 0
      },
      "text/plain": [
       "interactive(children=(FloatSlider(value=0.35, continuous_update=False, description='thresh', max=1.0, step=0.0…"
      ]
     },
     "metadata": {},
     "output_type": "display_data"
    },
    {
     "name": "stdout",
     "output_type": "stream",
     "text": [
      "Fighter aircraft\n"
     ]
    },
    {
     "data": {
      "application/vnd.jupyter.widget-view+json": {
       "model_id": "c62447e6193a4f65ac078b76f3a758fc",
       "version_major": 2,
       "version_minor": 0
      },
      "text/plain": [
       "interactive(children=(FloatSlider(value=0.35, continuous_update=False, description='thresh', max=1.0, step=0.0…"
      ]
     },
     "metadata": {},
     "output_type": "display_data"
    },
    {
     "name": "stdout",
     "output_type": "stream",
     "text": [
      "Ambulance\n"
     ]
    },
    {
     "data": {
      "application/vnd.jupyter.widget-view+json": {
       "model_id": "4842e50f7cff479a84154ef72734d6f2",
       "version_major": 2,
       "version_minor": 0
      },
      "text/plain": [
       "interactive(children=(FloatSlider(value=0.35, continuous_update=False, description='thresh', max=1.0, step=0.0…"
      ]
     },
     "metadata": {},
     "output_type": "display_data"
    },
    {
     "name": "stdout",
     "output_type": "stream",
     "text": [
      "Assault rifle\n"
     ]
    },
    {
     "data": {
      "application/vnd.jupyter.widget-view+json": {
       "model_id": "dad92420a1024182aae21ebb4e4ccc1c",
       "version_major": 2,
       "version_minor": 0
      },
      "text/plain": [
       "interactive(children=(FloatSlider(value=0.35, continuous_update=False, description='thresh', max=1.0, step=0.0…"
      ]
     },
     "metadata": {},
     "output_type": "display_data"
    }
   ],
   "source": [
    "for label in select_labels:\n",
    "    if len(label_to_img[label]) == 0:\n",
    "        continue\n",
    "    print(mid2name_all[label])\n",
    "    imgid = np.random.choice(label_to_img[label])\n",
    "    w = interactive(show, \n",
    "        thresh=widgets.FloatSlider(min=0.0, max=1.0, step=0.01, value=0.35, continuous_update=False), \n",
    "        imgid=fixed(imgid)\n",
    "    )\n",
    "    w.children[-1].layout.height = '600px'\n",
    "    display(w)"
   ]
  },
  {
   "cell_type": "code",
   "execution_count": null,
   "metadata": {},
   "outputs": [],
   "source": []
  },
  {
   "cell_type": "code",
   "execution_count": 30,
   "metadata": {
    "scrolled": true
   },
   "outputs": [
    {
     "name": "stdout",
     "output_type": "stream",
     "text": [
      "Waste\n"
     ]
    },
    {
     "data": {
      "application/vnd.jupyter.widget-view+json": {
       "model_id": "ee512a7faf8b4f18988fc4ba43d908b7",
       "version_major": 2,
       "version_minor": 0
      },
      "text/plain": [
       "interactive(children=(FloatSlider(value=0.35, continuous_update=False, description='thresh', max=1.0, step=0.0…"
      ]
     },
     "metadata": {},
     "output_type": "display_data"
    },
    {
     "name": "stdout",
     "output_type": "stream",
     "text": [
      "Boat\n"
     ]
    },
    {
     "data": {
      "application/vnd.jupyter.widget-view+json": {
       "model_id": "530ebaa145e049b09b4b898d10a2e3d1",
       "version_major": 2,
       "version_minor": 0
      },
      "text/plain": [
       "interactive(children=(FloatSlider(value=0.35, continuous_update=False, description='thresh', max=1.0, step=0.0…"
      ]
     },
     "metadata": {},
     "output_type": "display_data"
    },
    {
     "name": "stdout",
     "output_type": "stream",
     "text": [
      "Flag\n"
     ]
    },
    {
     "data": {
      "application/vnd.jupyter.widget-view+json": {
       "model_id": "1557f23ecc5541d1baf40927bbcaba62",
       "version_major": 2,
       "version_minor": 0
      },
      "text/plain": [
       "interactive(children=(FloatSlider(value=0.35, continuous_update=False, description='thresh', max=1.0, step=0.0…"
      ]
     },
     "metadata": {},
     "output_type": "display_data"
    },
    {
     "name": "stdout",
     "output_type": "stream",
     "text": [
      "Fire\n"
     ]
    },
    {
     "data": {
      "application/vnd.jupyter.widget-view+json": {
       "model_id": "e6f6dafeb24b4d2eb3baaf1330288013",
       "version_major": 2,
       "version_minor": 0
      },
      "text/plain": [
       "interactive(children=(FloatSlider(value=0.35, continuous_update=False, description='thresh', max=1.0, step=0.0…"
      ]
     },
     "metadata": {},
     "output_type": "display_data"
    },
    {
     "name": "stdout",
     "output_type": "stream",
     "text": [
      "Tank\n"
     ]
    },
    {
     "data": {
      "application/vnd.jupyter.widget-view+json": {
       "model_id": "f7ab683d9d8c4e20a7a51fe5c82e003a",
       "version_major": 2,
       "version_minor": 0
      },
      "text/plain": [
       "interactive(children=(FloatSlider(value=0.35, continuous_update=False, description='thresh', max=1.0, step=0.0…"
      ]
     },
     "metadata": {},
     "output_type": "display_data"
    },
    {
     "name": "stdout",
     "output_type": "stream",
     "text": [
      "Smoke\n"
     ]
    },
    {
     "data": {
      "application/vnd.jupyter.widget-view+json": {
       "model_id": "bf9a2b9aa9434e27a8be4036fc754661",
       "version_major": 2,
       "version_minor": 0
      },
      "text/plain": [
       "interactive(children=(FloatSlider(value=0.35, continuous_update=False, description='thresh', max=1.0, step=0.0…"
      ]
     },
     "metadata": {},
     "output_type": "display_data"
    },
    {
     "name": "stdout",
     "output_type": "stream",
     "text": [
      "Crowd\n"
     ]
    },
    {
     "data": {
      "application/vnd.jupyter.widget-view+json": {
       "model_id": "278466ebbd994e0294ad59daf351b357",
       "version_major": 2,
       "version_minor": 0
      },
      "text/plain": [
       "interactive(children=(FloatSlider(value=0.35, continuous_update=False, description='thresh', max=1.0, step=0.0…"
      ]
     },
     "metadata": {},
     "output_type": "display_data"
    },
    {
     "name": "stdout",
     "output_type": "stream",
     "text": [
      "Speech\n"
     ]
    },
    {
     "data": {
      "application/vnd.jupyter.widget-view+json": {
       "model_id": "2e0e6657c84d4cba90c69e0bc17a9529",
       "version_major": 2,
       "version_minor": 0
      },
      "text/plain": [
       "interactive(children=(FloatSlider(value=0.35, continuous_update=False, description='thresh', max=1.0, step=0.0…"
      ]
     },
     "metadata": {},
     "output_type": "display_data"
    },
    {
     "name": "stdout",
     "output_type": "stream",
     "text": [
      "Medical equipment\n"
     ]
    },
    {
     "data": {
      "application/vnd.jupyter.widget-view+json": {
       "model_id": "b654f657841343808c3b570bd4fbe9ff",
       "version_major": 2,
       "version_minor": 0
      },
      "text/plain": [
       "interactive(children=(FloatSlider(value=0.35, continuous_update=False, description='thresh', max=1.0, step=0.0…"
      ]
     },
     "metadata": {},
     "output_type": "display_data"
    },
    {
     "name": "stdout",
     "output_type": "stream",
     "text": [
      "Rubble\n"
     ]
    },
    {
     "data": {
      "application/vnd.jupyter.widget-view+json": {
       "model_id": "dac66e8e15c14fc3976e7c26c497bd96",
       "version_major": 2,
       "version_minor": 0
      },
      "text/plain": [
       "interactive(children=(FloatSlider(value=0.35, continuous_update=False, description='thresh', max=1.0, step=0.0…"
      ]
     },
     "metadata": {},
     "output_type": "display_data"
    },
    {
     "name": "stdout",
     "output_type": "stream",
     "text": [
      "Firefighter\n"
     ]
    },
    {
     "data": {
      "application/vnd.jupyter.widget-view+json": {
       "model_id": "36a2fce4a2ad45438d1a713a02cdb8e8",
       "version_major": 2,
       "version_minor": 0
      },
      "text/plain": [
       "interactive(children=(FloatSlider(value=0.35, continuous_update=False, description='thresh', max=1.0, step=0.0…"
      ]
     },
     "metadata": {},
     "output_type": "display_data"
    },
    {
     "name": "stdout",
     "output_type": "stream",
     "text": [
      "Flesh\n"
     ]
    },
    {
     "data": {
      "application/vnd.jupyter.widget-view+json": {
       "model_id": "adcd2432b3944d89a7de66fc8ab5a7bf",
       "version_major": 2,
       "version_minor": 0
      },
      "text/plain": [
       "interactive(children=(FloatSlider(value=0.35, continuous_update=False, description='thresh', max=1.0, step=0.0…"
      ]
     },
     "metadata": {},
     "output_type": "display_data"
    },
    {
     "name": "stdout",
     "output_type": "stream",
     "text": [
      "Stretcher\n"
     ]
    },
    {
     "data": {
      "application/vnd.jupyter.widget-view+json": {
       "model_id": "9f2aa40bb6e34154b768e00707a55d11",
       "version_major": 2,
       "version_minor": 0
      },
      "text/plain": [
       "interactive(children=(FloatSlider(value=0.35, continuous_update=False, description='thresh', max=1.0, step=0.0…"
      ]
     },
     "metadata": {},
     "output_type": "display_data"
    },
    {
     "name": "stdout",
     "output_type": "stream",
     "text": [
      "Helicopter\n"
     ]
    },
    {
     "data": {
      "application/vnd.jupyter.widget-view+json": {
       "model_id": "3e5900601821459f841cbeca0a77146a",
       "version_major": 2,
       "version_minor": 0
      },
      "text/plain": [
       "interactive(children=(FloatSlider(value=0.35, continuous_update=False, description='thresh', max=1.0, step=0.0…"
      ]
     },
     "metadata": {},
     "output_type": "display_data"
    },
    {
     "name": "stdout",
     "output_type": "stream",
     "text": [
      "Military vehicle\n"
     ]
    },
    {
     "data": {
      "application/vnd.jupyter.widget-view+json": {
       "model_id": "5e72883a06424e309e0c310cf8bdb1f1",
       "version_major": 2,
       "version_minor": 0
      },
      "text/plain": [
       "interactive(children=(FloatSlider(value=0.35, continuous_update=False, description='thresh', max=1.0, step=0.0…"
      ]
     },
     "metadata": {},
     "output_type": "display_data"
    },
    {
     "name": "stdout",
     "output_type": "stream",
     "text": [
      "Security\n"
     ]
    },
    {
     "data": {
      "application/vnd.jupyter.widget-view+json": {
       "model_id": "378f20314a9547e2836ef437dc3fdaa6",
       "version_major": 2,
       "version_minor": 0
      },
      "text/plain": [
       "interactive(children=(FloatSlider(value=0.35, continuous_update=False, description='thresh', max=1.0, step=0.0…"
      ]
     },
     "metadata": {},
     "output_type": "display_data"
    },
    {
     "name": "stdout",
     "output_type": "stream",
     "text": [
      "Bomb\n"
     ]
    },
    {
     "data": {
      "application/vnd.jupyter.widget-view+json": {
       "model_id": "7738703424dc48e4a5c6f353616dc066",
       "version_major": 2,
       "version_minor": 0
      },
      "text/plain": [
       "interactive(children=(FloatSlider(value=0.35, continuous_update=False, description='thresh', max=1.0, step=0.0…"
      ]
     },
     "metadata": {},
     "output_type": "display_data"
    },
    {
     "name": "stdout",
     "output_type": "stream",
     "text": [
      "Protest\n"
     ]
    },
    {
     "data": {
      "application/vnd.jupyter.widget-view+json": {
       "model_id": "efffddf30c224d9292aa3db37454c6bd",
       "version_major": 2,
       "version_minor": 0
      },
      "text/plain": [
       "interactive(children=(FloatSlider(value=0.35, continuous_update=False, description='thresh', max=1.0, step=0.0…"
      ]
     },
     "metadata": {},
     "output_type": "display_data"
    },
    {
     "name": "stdout",
     "output_type": "stream",
     "text": [
      "Rocket\n"
     ]
    },
    {
     "data": {
      "application/vnd.jupyter.widget-view+json": {
       "model_id": "eb1d3ab6650042c2b414a84ab0355345",
       "version_major": 2,
       "version_minor": 0
      },
      "text/plain": [
       "interactive(children=(FloatSlider(value=0.35, continuous_update=False, description='thresh', max=1.0, step=0.0…"
      ]
     },
     "metadata": {},
     "output_type": "display_data"
    },
    {
     "name": "stdout",
     "output_type": "stream",
     "text": [
      "Fire extinguisher\n"
     ]
    },
    {
     "data": {
      "application/vnd.jupyter.widget-view+json": {
       "model_id": "a5fa73e1494947639b097cc73f932793",
       "version_major": 2,
       "version_minor": 0
      },
      "text/plain": [
       "interactive(children=(FloatSlider(value=0.35, continuous_update=False, description='thresh', max=1.0, step=0.0…"
      ]
     },
     "metadata": {},
     "output_type": "display_data"
    },
    {
     "name": "stdout",
     "output_type": "stream",
     "text": [
      "Knife\n"
     ]
    },
    {
     "data": {
      "application/vnd.jupyter.widget-view+json": {
       "model_id": "a5e6355a50a044999b1a049161f5f20d",
       "version_major": 2,
       "version_minor": 0
      },
      "text/plain": [
       "interactive(children=(FloatSlider(value=0.35, continuous_update=False, description='thresh', max=1.0, step=0.0…"
      ]
     },
     "metadata": {},
     "output_type": "display_data"
    },
    {
     "name": "stdout",
     "output_type": "stream",
     "text": [
      "Missile\n"
     ]
    },
    {
     "data": {
      "application/vnd.jupyter.widget-view+json": {
       "model_id": "59b838afb88245d6a8ba434dfb02f1a1",
       "version_major": 2,
       "version_minor": 0
      },
      "text/plain": [
       "interactive(children=(FloatSlider(value=0.35, continuous_update=False, description='thresh', max=1.0, step=0.0…"
      ]
     },
     "metadata": {},
     "output_type": "display_data"
    },
    {
     "name": "stdout",
     "output_type": "stream",
     "text": [
      "Combat vehicle\n"
     ]
    },
    {
     "data": {
      "application/vnd.jupyter.widget-view+json": {
       "model_id": "bc11ca873d474ae4beaea5e787baf9c3",
       "version_major": 2,
       "version_minor": 0
      },
      "text/plain": [
       "interactive(children=(FloatSlider(value=0.35, continuous_update=False, description='thresh', max=1.0, step=0.0…"
      ]
     },
     "metadata": {},
     "output_type": "display_data"
    },
    {
     "name": "stdout",
     "output_type": "stream",
     "text": [
      "Watercraft\n"
     ]
    },
    {
     "data": {
      "application/vnd.jupyter.widget-view+json": {
       "model_id": "928037ddd72c424c8cdb10544b30bdb5",
       "version_major": 2,
       "version_minor": 0
      },
      "text/plain": [
       "interactive(children=(FloatSlider(value=0.35, continuous_update=False, description='thresh', max=1.0, step=0.0…"
      ]
     },
     "metadata": {},
     "output_type": "display_data"
    },
    {
     "name": "stdout",
     "output_type": "stream",
     "text": [
      "Shotgun\n"
     ]
    },
    {
     "data": {
      "application/vnd.jupyter.widget-view+json": {
       "model_id": "7531acce8f054eed877cc917667af435",
       "version_major": 2,
       "version_minor": 0
      },
      "text/plain": [
       "interactive(children=(FloatSlider(value=0.35, continuous_update=False, description='thresh', max=1.0, step=0.0…"
      ]
     },
     "metadata": {},
     "output_type": "display_data"
    },
    {
     "name": "stdout",
     "output_type": "stream",
     "text": [
      "Parachute\n"
     ]
    },
    {
     "data": {
      "application/vnd.jupyter.widget-view+json": {
       "model_id": "eb6fc58f99c742c5b25c186413e7cc2a",
       "version_major": 2,
       "version_minor": 0
      },
      "text/plain": [
       "interactive(children=(FloatSlider(value=0.35, continuous_update=False, description='thresh', max=1.0, step=0.0…"
      ]
     },
     "metadata": {},
     "output_type": "display_data"
    },
    {
     "name": "stdout",
     "output_type": "stream",
     "text": [
      "Military aircraft\n"
     ]
    },
    {
     "data": {
      "application/vnd.jupyter.widget-view+json": {
       "model_id": "07654086d125492fa49b90e3e92586a9",
       "version_major": 2,
       "version_minor": 0
      },
      "text/plain": [
       "interactive(children=(FloatSlider(value=0.35, continuous_update=False, description='thresh', max=1.0, step=0.0…"
      ]
     },
     "metadata": {},
     "output_type": "display_data"
    },
    {
     "name": "stdout",
     "output_type": "stream",
     "text": [
      "Machine gun\n"
     ]
    },
    {
     "data": {
      "application/vnd.jupyter.widget-view+json": {
       "model_id": "df7abdd38bcc41a79dea8ed892f5cdcb",
       "version_major": 2,
       "version_minor": 0
      },
      "text/plain": [
       "interactive(children=(FloatSlider(value=0.35, continuous_update=False, description='thresh', max=1.0, step=0.0…"
      ]
     },
     "metadata": {},
     "output_type": "display_data"
    },
    {
     "name": "stdout",
     "output_type": "stream",
     "text": [
      "Airliner\n"
     ]
    },
    {
     "data": {
      "application/vnd.jupyter.widget-view+json": {
       "model_id": "b4beb25f1cad407ea18ef0401b03b106",
       "version_major": 2,
       "version_minor": 0
      },
      "text/plain": [
       "interactive(children=(FloatSlider(value=0.35, continuous_update=False, description='thresh', max=1.0, step=0.0…"
      ]
     },
     "metadata": {},
     "output_type": "display_data"
    },
    {
     "name": "stdout",
     "output_type": "stream",
     "text": [
      "Limousine\n"
     ]
    },
    {
     "data": {
      "application/vnd.jupyter.widget-view+json": {
       "model_id": "bf75c63500b444588af5c7e9b25e7f63",
       "version_major": 2,
       "version_minor": 0
      },
      "text/plain": [
       "interactive(children=(FloatSlider(value=0.35, continuous_update=False, description='thresh', max=1.0, step=0.0…"
      ]
     },
     "metadata": {},
     "output_type": "display_data"
    },
    {
     "name": "stdout",
     "output_type": "stream",
     "text": [
      "Harbor\n"
     ]
    },
    {
     "data": {
      "application/vnd.jupyter.widget-view+json": {
       "model_id": "b38325a5a0e34759a78fa3ca0b0eaa21",
       "version_major": 2,
       "version_minor": 0
      },
      "text/plain": [
       "interactive(children=(FloatSlider(value=0.35, continuous_update=False, description='thresh', max=1.0, step=0.0…"
      ]
     },
     "metadata": {},
     "output_type": "display_data"
    },
    {
     "name": "stdout",
     "output_type": "stream",
     "text": [
      "Handgun\n"
     ]
    },
    {
     "data": {
      "application/vnd.jupyter.widget-view+json": {
       "model_id": "300b2311f30141548e13c5115ec0cf39",
       "version_major": 2,
       "version_minor": 0
      },
      "text/plain": [
       "interactive(children=(FloatSlider(value=0.35, continuous_update=False, description='thresh', max=1.0, step=0.0…"
      ]
     },
     "metadata": {},
     "output_type": "display_data"
    },
    {
     "name": "stdout",
     "output_type": "stream",
     "text": [
      "Troop\n"
     ]
    },
    {
     "data": {
      "application/vnd.jupyter.widget-view+json": {
       "model_id": "1025b22fea2e49c388ebf3f74d374048",
       "version_major": 2,
       "version_minor": 0
      },
      "text/plain": [
       "interactive(children=(FloatSlider(value=0.35, continuous_update=False, description='thresh', max=1.0, step=0.0…"
      ]
     },
     "metadata": {},
     "output_type": "display_data"
    },
    {
     "name": "stdout",
     "output_type": "stream",
     "text": [
      "Binoculars\n"
     ]
    },
    {
     "data": {
      "application/vnd.jupyter.widget-view+json": {
       "model_id": "02464203893e4011895b0d8143243529",
       "version_major": 2,
       "version_minor": 0
      },
      "text/plain": [
       "interactive(children=(FloatSlider(value=0.35, continuous_update=False, description='thresh', max=1.0, step=0.0…"
      ]
     },
     "metadata": {},
     "output_type": "display_data"
    },
    {
     "name": "stdout",
     "output_type": "stream",
     "text": [
      "Dagger\n"
     ]
    },
    {
     "data": {
      "application/vnd.jupyter.widget-view+json": {
       "model_id": "0aa101e14bcf4dceaace84ad8c92ea4f",
       "version_major": 2,
       "version_minor": 0
      },
      "text/plain": [
       "interactive(children=(FloatSlider(value=0.35, continuous_update=False, description='thresh', max=1.0, step=0.0…"
      ]
     },
     "metadata": {},
     "output_type": "display_data"
    },
    {
     "name": "stdout",
     "output_type": "stream",
     "text": [
      "Fighter aircraft\n"
     ]
    },
    {
     "data": {
      "application/vnd.jupyter.widget-view+json": {
       "model_id": "ab6d1182d2af4aa098e6779eedf64315",
       "version_major": 2,
       "version_minor": 0
      },
      "text/plain": [
       "interactive(children=(FloatSlider(value=0.35, continuous_update=False, description='thresh', max=1.0, step=0.0…"
      ]
     },
     "metadata": {},
     "output_type": "display_data"
    },
    {
     "name": "stdout",
     "output_type": "stream",
     "text": [
      "Ambulance\n"
     ]
    },
    {
     "data": {
      "application/vnd.jupyter.widget-view+json": {
       "model_id": "8a2a1810d1b545b188872c60388d822f",
       "version_major": 2,
       "version_minor": 0
      },
      "text/plain": [
       "interactive(children=(FloatSlider(value=0.35, continuous_update=False, description='thresh', max=1.0, step=0.0…"
      ]
     },
     "metadata": {},
     "output_type": "display_data"
    },
    {
     "name": "stdout",
     "output_type": "stream",
     "text": [
      "Assault rifle\n"
     ]
    },
    {
     "data": {
      "application/vnd.jupyter.widget-view+json": {
       "model_id": "c13613060948485d982de52dae824ce8",
       "version_major": 2,
       "version_minor": 0
      },
      "text/plain": [
       "interactive(children=(FloatSlider(value=0.35, continuous_update=False, description='thresh', max=1.0, step=0.0…"
      ]
     },
     "metadata": {},
     "output_type": "display_data"
    }
   ],
   "source": [
    "for label in select_labels:\n",
    "    if len(label_to_img[label]) == 0:\n",
    "        continue\n",
    "    print(mid2name_all[label])\n",
    "    imgid = np.random.choice(label_to_img[label])\n",
    "    w = interactive(show, \n",
    "        thresh=widgets.FloatSlider(min=0.0, max=1.0, step=0.01, value=0.35, continuous_update=False), \n",
    "        imgid=fixed(imgid)\n",
    "    )\n",
    "    w.children[-1].layout.height = '600px'\n",
    "    display(w)"
   ]
  },
  {
   "cell_type": "code",
   "execution_count": null,
   "metadata": {},
   "outputs": [],
   "source": []
  },
  {
   "cell_type": "code",
   "execution_count": 31,
   "metadata": {
    "scrolled": false
   },
   "outputs": [
    {
     "name": "stdout",
     "output_type": "stream",
     "text": [
      "Waste\n"
     ]
    },
    {
     "data": {
      "application/vnd.jupyter.widget-view+json": {
       "model_id": "8b879d17fd674ea787dbf32af1d5be2c",
       "version_major": 2,
       "version_minor": 0
      },
      "text/plain": [
       "interactive(children=(FloatSlider(value=0.35, continuous_update=False, description='thresh', max=1.0, step=0.0…"
      ]
     },
     "metadata": {},
     "output_type": "display_data"
    },
    {
     "name": "stdout",
     "output_type": "stream",
     "text": [
      "Boat\n"
     ]
    },
    {
     "data": {
      "application/vnd.jupyter.widget-view+json": {
       "model_id": "2714763d7b984410bf8040f41e6ab24d",
       "version_major": 2,
       "version_minor": 0
      },
      "text/plain": [
       "interactive(children=(FloatSlider(value=0.35, continuous_update=False, description='thresh', max=1.0, step=0.0…"
      ]
     },
     "metadata": {},
     "output_type": "display_data"
    },
    {
     "name": "stdout",
     "output_type": "stream",
     "text": [
      "Flag\n"
     ]
    },
    {
     "data": {
      "application/vnd.jupyter.widget-view+json": {
       "model_id": "e910c9d841a6466b850208b1d2727c24",
       "version_major": 2,
       "version_minor": 0
      },
      "text/plain": [
       "interactive(children=(FloatSlider(value=0.35, continuous_update=False, description='thresh', max=1.0, step=0.0…"
      ]
     },
     "metadata": {},
     "output_type": "display_data"
    },
    {
     "name": "stdout",
     "output_type": "stream",
     "text": [
      "Fire\n"
     ]
    },
    {
     "data": {
      "application/vnd.jupyter.widget-view+json": {
       "model_id": "bb5f36a4c49148af94f4b54dffbe5322",
       "version_major": 2,
       "version_minor": 0
      },
      "text/plain": [
       "interactive(children=(FloatSlider(value=0.35, continuous_update=False, description='thresh', max=1.0, step=0.0…"
      ]
     },
     "metadata": {},
     "output_type": "display_data"
    },
    {
     "name": "stdout",
     "output_type": "stream",
     "text": [
      "Tank\n"
     ]
    },
    {
     "data": {
      "application/vnd.jupyter.widget-view+json": {
       "model_id": "0ad3adb579b14999911a436ac6d4c2f6",
       "version_major": 2,
       "version_minor": 0
      },
      "text/plain": [
       "interactive(children=(FloatSlider(value=0.35, continuous_update=False, description='thresh', max=1.0, step=0.0…"
      ]
     },
     "metadata": {},
     "output_type": "display_data"
    },
    {
     "name": "stdout",
     "output_type": "stream",
     "text": [
      "Smoke\n"
     ]
    },
    {
     "data": {
      "application/vnd.jupyter.widget-view+json": {
       "model_id": "2716e0c0dd4549cca0de33384026ca05",
       "version_major": 2,
       "version_minor": 0
      },
      "text/plain": [
       "interactive(children=(FloatSlider(value=0.35, continuous_update=False, description='thresh', max=1.0, step=0.0…"
      ]
     },
     "metadata": {},
     "output_type": "display_data"
    },
    {
     "name": "stdout",
     "output_type": "stream",
     "text": [
      "Crowd\n"
     ]
    },
    {
     "data": {
      "application/vnd.jupyter.widget-view+json": {
       "model_id": "0bd2f98b425a4f03864cb309172eb852",
       "version_major": 2,
       "version_minor": 0
      },
      "text/plain": [
       "interactive(children=(FloatSlider(value=0.35, continuous_update=False, description='thresh', max=1.0, step=0.0…"
      ]
     },
     "metadata": {},
     "output_type": "display_data"
    },
    {
     "name": "stdout",
     "output_type": "stream",
     "text": [
      "Speech\n"
     ]
    },
    {
     "data": {
      "application/vnd.jupyter.widget-view+json": {
       "model_id": "99708db84f8b415b985e47a3fc86127a",
       "version_major": 2,
       "version_minor": 0
      },
      "text/plain": [
       "interactive(children=(FloatSlider(value=0.35, continuous_update=False, description='thresh', max=1.0, step=0.0…"
      ]
     },
     "metadata": {},
     "output_type": "display_data"
    },
    {
     "name": "stdout",
     "output_type": "stream",
     "text": [
      "Medical equipment\n"
     ]
    },
    {
     "data": {
      "application/vnd.jupyter.widget-view+json": {
       "model_id": "c2d20de9e42d438e9b7b111639076389",
       "version_major": 2,
       "version_minor": 0
      },
      "text/plain": [
       "interactive(children=(FloatSlider(value=0.35, continuous_update=False, description='thresh', max=1.0, step=0.0…"
      ]
     },
     "metadata": {},
     "output_type": "display_data"
    },
    {
     "name": "stdout",
     "output_type": "stream",
     "text": [
      "Rubble\n"
     ]
    },
    {
     "data": {
      "application/vnd.jupyter.widget-view+json": {
       "model_id": "55927caf69c3475da97fb2de9cd8046c",
       "version_major": 2,
       "version_minor": 0
      },
      "text/plain": [
       "interactive(children=(FloatSlider(value=0.35, continuous_update=False, description='thresh', max=1.0, step=0.0…"
      ]
     },
     "metadata": {},
     "output_type": "display_data"
    },
    {
     "name": "stdout",
     "output_type": "stream",
     "text": [
      "Firefighter\n"
     ]
    },
    {
     "data": {
      "application/vnd.jupyter.widget-view+json": {
       "model_id": "eb9c075a71ed4a10b29ef9e22a9ceec4",
       "version_major": 2,
       "version_minor": 0
      },
      "text/plain": [
       "interactive(children=(FloatSlider(value=0.35, continuous_update=False, description='thresh', max=1.0, step=0.0…"
      ]
     },
     "metadata": {},
     "output_type": "display_data"
    },
    {
     "name": "stdout",
     "output_type": "stream",
     "text": [
      "Flesh\n"
     ]
    },
    {
     "data": {
      "application/vnd.jupyter.widget-view+json": {
       "model_id": "121074bd668541f2983ec8de968e1b3d",
       "version_major": 2,
       "version_minor": 0
      },
      "text/plain": [
       "interactive(children=(FloatSlider(value=0.35, continuous_update=False, description='thresh', max=1.0, step=0.0…"
      ]
     },
     "metadata": {},
     "output_type": "display_data"
    },
    {
     "name": "stdout",
     "output_type": "stream",
     "text": [
      "Stretcher\n"
     ]
    },
    {
     "data": {
      "application/vnd.jupyter.widget-view+json": {
       "model_id": "bd191a532094431e83106d8cf35dc8a3",
       "version_major": 2,
       "version_minor": 0
      },
      "text/plain": [
       "interactive(children=(FloatSlider(value=0.35, continuous_update=False, description='thresh', max=1.0, step=0.0…"
      ]
     },
     "metadata": {},
     "output_type": "display_data"
    },
    {
     "name": "stdout",
     "output_type": "stream",
     "text": [
      "Helicopter\n"
     ]
    },
    {
     "data": {
      "application/vnd.jupyter.widget-view+json": {
       "model_id": "ee91bc17d0bc495b807a3d9843a0a70b",
       "version_major": 2,
       "version_minor": 0
      },
      "text/plain": [
       "interactive(children=(FloatSlider(value=0.35, continuous_update=False, description='thresh', max=1.0, step=0.0…"
      ]
     },
     "metadata": {},
     "output_type": "display_data"
    },
    {
     "name": "stdout",
     "output_type": "stream",
     "text": [
      "Military vehicle\n"
     ]
    },
    {
     "data": {
      "application/vnd.jupyter.widget-view+json": {
       "model_id": "d6b22419c6ac4400aa66c4be7e55f702",
       "version_major": 2,
       "version_minor": 0
      },
      "text/plain": [
       "interactive(children=(FloatSlider(value=0.35, continuous_update=False, description='thresh', max=1.0, step=0.0…"
      ]
     },
     "metadata": {},
     "output_type": "display_data"
    },
    {
     "name": "stdout",
     "output_type": "stream",
     "text": [
      "Security\n"
     ]
    },
    {
     "data": {
      "application/vnd.jupyter.widget-view+json": {
       "model_id": "69ba150132924299aff44ada18fd1c2c",
       "version_major": 2,
       "version_minor": 0
      },
      "text/plain": [
       "interactive(children=(FloatSlider(value=0.35, continuous_update=False, description='thresh', max=1.0, step=0.0…"
      ]
     },
     "metadata": {},
     "output_type": "display_data"
    },
    {
     "name": "stdout",
     "output_type": "stream",
     "text": [
      "Bomb\n"
     ]
    },
    {
     "data": {
      "application/vnd.jupyter.widget-view+json": {
       "model_id": "d306f44d234845f097760ff8befa5853",
       "version_major": 2,
       "version_minor": 0
      },
      "text/plain": [
       "interactive(children=(FloatSlider(value=0.35, continuous_update=False, description='thresh', max=1.0, step=0.0…"
      ]
     },
     "metadata": {},
     "output_type": "display_data"
    },
    {
     "name": "stdout",
     "output_type": "stream",
     "text": [
      "Protest\n"
     ]
    },
    {
     "data": {
      "application/vnd.jupyter.widget-view+json": {
       "model_id": "f3e37f55db874dc382a6ee37909eaae0",
       "version_major": 2,
       "version_minor": 0
      },
      "text/plain": [
       "interactive(children=(FloatSlider(value=0.35, continuous_update=False, description='thresh', max=1.0, step=0.0…"
      ]
     },
     "metadata": {},
     "output_type": "display_data"
    },
    {
     "name": "stdout",
     "output_type": "stream",
     "text": [
      "Rocket\n"
     ]
    },
    {
     "data": {
      "application/vnd.jupyter.widget-view+json": {
       "model_id": "85fe978787a543fcae314f66cc6dca64",
       "version_major": 2,
       "version_minor": 0
      },
      "text/plain": [
       "interactive(children=(FloatSlider(value=0.35, continuous_update=False, description='thresh', max=1.0, step=0.0…"
      ]
     },
     "metadata": {},
     "output_type": "display_data"
    },
    {
     "name": "stdout",
     "output_type": "stream",
     "text": [
      "Fire extinguisher\n"
     ]
    },
    {
     "data": {
      "application/vnd.jupyter.widget-view+json": {
       "model_id": "0de10d24c24246f8be5e1d69fc077214",
       "version_major": 2,
       "version_minor": 0
      },
      "text/plain": [
       "interactive(children=(FloatSlider(value=0.35, continuous_update=False, description='thresh', max=1.0, step=0.0…"
      ]
     },
     "metadata": {},
     "output_type": "display_data"
    },
    {
     "name": "stdout",
     "output_type": "stream",
     "text": [
      "Knife\n"
     ]
    },
    {
     "data": {
      "application/vnd.jupyter.widget-view+json": {
       "model_id": "cd29ffeba8484929bba723f8e9772e91",
       "version_major": 2,
       "version_minor": 0
      },
      "text/plain": [
       "interactive(children=(FloatSlider(value=0.35, continuous_update=False, description='thresh', max=1.0, step=0.0…"
      ]
     },
     "metadata": {},
     "output_type": "display_data"
    },
    {
     "name": "stdout",
     "output_type": "stream",
     "text": [
      "Missile\n"
     ]
    },
    {
     "data": {
      "application/vnd.jupyter.widget-view+json": {
       "model_id": "1dbedcc5ced843a58b9427a9dd9db74a",
       "version_major": 2,
       "version_minor": 0
      },
      "text/plain": [
       "interactive(children=(FloatSlider(value=0.35, continuous_update=False, description='thresh', max=1.0, step=0.0…"
      ]
     },
     "metadata": {},
     "output_type": "display_data"
    },
    {
     "name": "stdout",
     "output_type": "stream",
     "text": [
      "Combat vehicle\n"
     ]
    },
    {
     "data": {
      "application/vnd.jupyter.widget-view+json": {
       "model_id": "88d285b617f548b9894d7b35c6855f1b",
       "version_major": 2,
       "version_minor": 0
      },
      "text/plain": [
       "interactive(children=(FloatSlider(value=0.35, continuous_update=False, description='thresh', max=1.0, step=0.0…"
      ]
     },
     "metadata": {},
     "output_type": "display_data"
    },
    {
     "name": "stdout",
     "output_type": "stream",
     "text": [
      "Watercraft\n"
     ]
    },
    {
     "data": {
      "application/vnd.jupyter.widget-view+json": {
       "model_id": "64f2c0bea969451d950e006d29f6627b",
       "version_major": 2,
       "version_minor": 0
      },
      "text/plain": [
       "interactive(children=(FloatSlider(value=0.35, continuous_update=False, description='thresh', max=1.0, step=0.0…"
      ]
     },
     "metadata": {},
     "output_type": "display_data"
    },
    {
     "name": "stdout",
     "output_type": "stream",
     "text": [
      "Shotgun\n"
     ]
    },
    {
     "data": {
      "application/vnd.jupyter.widget-view+json": {
       "model_id": "fec3a45e357643608fc201c016f77d85",
       "version_major": 2,
       "version_minor": 0
      },
      "text/plain": [
       "interactive(children=(FloatSlider(value=0.35, continuous_update=False, description='thresh', max=1.0, step=0.0…"
      ]
     },
     "metadata": {},
     "output_type": "display_data"
    },
    {
     "name": "stdout",
     "output_type": "stream",
     "text": [
      "Parachute\n"
     ]
    },
    {
     "data": {
      "application/vnd.jupyter.widget-view+json": {
       "model_id": "e82284553536473db40dd79c7225178d",
       "version_major": 2,
       "version_minor": 0
      },
      "text/plain": [
       "interactive(children=(FloatSlider(value=0.35, continuous_update=False, description='thresh', max=1.0, step=0.0…"
      ]
     },
     "metadata": {},
     "output_type": "display_data"
    },
    {
     "name": "stdout",
     "output_type": "stream",
     "text": [
      "Military aircraft\n"
     ]
    },
    {
     "data": {
      "application/vnd.jupyter.widget-view+json": {
       "model_id": "9b230edcce4a4f7c9cffc7cb3780c9af",
       "version_major": 2,
       "version_minor": 0
      },
      "text/plain": [
       "interactive(children=(FloatSlider(value=0.35, continuous_update=False, description='thresh', max=1.0, step=0.0…"
      ]
     },
     "metadata": {},
     "output_type": "display_data"
    },
    {
     "name": "stdout",
     "output_type": "stream",
     "text": [
      "Machine gun\n"
     ]
    },
    {
     "data": {
      "application/vnd.jupyter.widget-view+json": {
       "model_id": "f7ffc9155b6145d0a99dc8c323ca2c9e",
       "version_major": 2,
       "version_minor": 0
      },
      "text/plain": [
       "interactive(children=(FloatSlider(value=0.35, continuous_update=False, description='thresh', max=1.0, step=0.0…"
      ]
     },
     "metadata": {},
     "output_type": "display_data"
    },
    {
     "name": "stdout",
     "output_type": "stream",
     "text": [
      "Airliner\n"
     ]
    },
    {
     "data": {
      "application/vnd.jupyter.widget-view+json": {
       "model_id": "811345466d7148a4b55c2aae1d380727",
       "version_major": 2,
       "version_minor": 0
      },
      "text/plain": [
       "interactive(children=(FloatSlider(value=0.35, continuous_update=False, description='thresh', max=1.0, step=0.0…"
      ]
     },
     "metadata": {},
     "output_type": "display_data"
    },
    {
     "name": "stdout",
     "output_type": "stream",
     "text": [
      "Limousine\n"
     ]
    },
    {
     "data": {
      "application/vnd.jupyter.widget-view+json": {
       "model_id": "a4c8305892a141a38a253bd2edaea522",
       "version_major": 2,
       "version_minor": 0
      },
      "text/plain": [
       "interactive(children=(FloatSlider(value=0.35, continuous_update=False, description='thresh', max=1.0, step=0.0…"
      ]
     },
     "metadata": {},
     "output_type": "display_data"
    },
    {
     "name": "stdout",
     "output_type": "stream",
     "text": [
      "Harbor\n"
     ]
    },
    {
     "data": {
      "application/vnd.jupyter.widget-view+json": {
       "model_id": "b1a0b271b9e64dbea75389cadcce90f2",
       "version_major": 2,
       "version_minor": 0
      },
      "text/plain": [
       "interactive(children=(FloatSlider(value=0.35, continuous_update=False, description='thresh', max=1.0, step=0.0…"
      ]
     },
     "metadata": {},
     "output_type": "display_data"
    },
    {
     "name": "stdout",
     "output_type": "stream",
     "text": [
      "Handgun\n"
     ]
    },
    {
     "data": {
      "application/vnd.jupyter.widget-view+json": {
       "model_id": "99c9c67a770a4f528a772f1a66fe8b5e",
       "version_major": 2,
       "version_minor": 0
      },
      "text/plain": [
       "interactive(children=(FloatSlider(value=0.35, continuous_update=False, description='thresh', max=1.0, step=0.0…"
      ]
     },
     "metadata": {},
     "output_type": "display_data"
    },
    {
     "name": "stdout",
     "output_type": "stream",
     "text": [
      "Troop\n"
     ]
    },
    {
     "data": {
      "application/vnd.jupyter.widget-view+json": {
       "model_id": "32a4c3c4b5f84095861c3a68950a144c",
       "version_major": 2,
       "version_minor": 0
      },
      "text/plain": [
       "interactive(children=(FloatSlider(value=0.35, continuous_update=False, description='thresh', max=1.0, step=0.0…"
      ]
     },
     "metadata": {},
     "output_type": "display_data"
    },
    {
     "name": "stdout",
     "output_type": "stream",
     "text": [
      "Binoculars\n"
     ]
    },
    {
     "data": {
      "application/vnd.jupyter.widget-view+json": {
       "model_id": "a22925c7fcec4788ac4ddf33a1ff6438",
       "version_major": 2,
       "version_minor": 0
      },
      "text/plain": [
       "interactive(children=(FloatSlider(value=0.35, continuous_update=False, description='thresh', max=1.0, step=0.0…"
      ]
     },
     "metadata": {},
     "output_type": "display_data"
    },
    {
     "name": "stdout",
     "output_type": "stream",
     "text": [
      "Dagger\n"
     ]
    },
    {
     "data": {
      "application/vnd.jupyter.widget-view+json": {
       "model_id": "3410a2b27fc7409191bbeec256a8a35c",
       "version_major": 2,
       "version_minor": 0
      },
      "text/plain": [
       "interactive(children=(FloatSlider(value=0.35, continuous_update=False, description='thresh', max=1.0, step=0.0…"
      ]
     },
     "metadata": {},
     "output_type": "display_data"
    },
    {
     "name": "stdout",
     "output_type": "stream",
     "text": [
      "Fighter aircraft\n"
     ]
    },
    {
     "data": {
      "application/vnd.jupyter.widget-view+json": {
       "model_id": "6319e5c9e21c4280ba34ae1c45c8d117",
       "version_major": 2,
       "version_minor": 0
      },
      "text/plain": [
       "interactive(children=(FloatSlider(value=0.35, continuous_update=False, description='thresh', max=1.0, step=0.0…"
      ]
     },
     "metadata": {},
     "output_type": "display_data"
    },
    {
     "name": "stdout",
     "output_type": "stream",
     "text": [
      "Ambulance\n"
     ]
    },
    {
     "data": {
      "application/vnd.jupyter.widget-view+json": {
       "model_id": "687437743002483f8667821c0e495023",
       "version_major": 2,
       "version_minor": 0
      },
      "text/plain": [
       "interactive(children=(FloatSlider(value=0.35, continuous_update=False, description='thresh', max=1.0, step=0.0…"
      ]
     },
     "metadata": {},
     "output_type": "display_data"
    },
    {
     "name": "stdout",
     "output_type": "stream",
     "text": [
      "Assault rifle\n"
     ]
    },
    {
     "data": {
      "application/vnd.jupyter.widget-view+json": {
       "model_id": "01dce31e2f7e40ac89b00fe5e05fbbb3",
       "version_major": 2,
       "version_minor": 0
      },
      "text/plain": [
       "interactive(children=(FloatSlider(value=0.35, continuous_update=False, description='thresh', max=1.0, step=0.0…"
      ]
     },
     "metadata": {},
     "output_type": "display_data"
    }
   ],
   "source": [
    "for label in select_labels:\n",
    "    if len(label_to_img[label]) == 0:\n",
    "        continue\n",
    "    print(mid2name_all[label])\n",
    "    imgid = np.random.choice(label_to_img[label])\n",
    "    w = interactive(show, \n",
    "        thresh=widgets.FloatSlider(min=0.0, max=1.0, step=0.01, value=0.35, continuous_update=False), \n",
    "        imgid=fixed(imgid)\n",
    "    )\n",
    "    w.children[-1].layout.height = '600px'\n",
    "    display(w)"
   ]
  },
  {
   "cell_type": "code",
   "execution_count": null,
   "metadata": {},
   "outputs": [],
   "source": []
  },
  {
   "cell_type": "code",
   "execution_count": 32,
   "metadata": {
    "scrolled": false
   },
   "outputs": [
    {
     "name": "stdout",
     "output_type": "stream",
     "text": [
      "Waste\n"
     ]
    },
    {
     "data": {
      "application/vnd.jupyter.widget-view+json": {
       "model_id": "d22c546c2abd462fb269aa0da5285085",
       "version_major": 2,
       "version_minor": 0
      },
      "text/plain": [
       "interactive(children=(FloatSlider(value=0.35, continuous_update=False, description='thresh', max=1.0, step=0.0…"
      ]
     },
     "metadata": {},
     "output_type": "display_data"
    },
    {
     "name": "stdout",
     "output_type": "stream",
     "text": [
      "Boat\n"
     ]
    },
    {
     "data": {
      "application/vnd.jupyter.widget-view+json": {
       "model_id": "7f949b8e9d5f447b8b63a3e9f55cf22e",
       "version_major": 2,
       "version_minor": 0
      },
      "text/plain": [
       "interactive(children=(FloatSlider(value=0.35, continuous_update=False, description='thresh', max=1.0, step=0.0…"
      ]
     },
     "metadata": {},
     "output_type": "display_data"
    },
    {
     "name": "stdout",
     "output_type": "stream",
     "text": [
      "Flag\n"
     ]
    },
    {
     "data": {
      "application/vnd.jupyter.widget-view+json": {
       "model_id": "89526c8fd9ed4f0aac662fb7584a780d",
       "version_major": 2,
       "version_minor": 0
      },
      "text/plain": [
       "interactive(children=(FloatSlider(value=0.35, continuous_update=False, description='thresh', max=1.0, step=0.0…"
      ]
     },
     "metadata": {},
     "output_type": "display_data"
    },
    {
     "name": "stdout",
     "output_type": "stream",
     "text": [
      "Fire\n"
     ]
    },
    {
     "data": {
      "application/vnd.jupyter.widget-view+json": {
       "model_id": "37f0445fc03f4ef598a5aac0eeb74be1",
       "version_major": 2,
       "version_minor": 0
      },
      "text/plain": [
       "interactive(children=(FloatSlider(value=0.35, continuous_update=False, description='thresh', max=1.0, step=0.0…"
      ]
     },
     "metadata": {},
     "output_type": "display_data"
    },
    {
     "name": "stdout",
     "output_type": "stream",
     "text": [
      "Tank\n"
     ]
    },
    {
     "data": {
      "application/vnd.jupyter.widget-view+json": {
       "model_id": "17aa5ae7c3d646868fb3a1debea5b732",
       "version_major": 2,
       "version_minor": 0
      },
      "text/plain": [
       "interactive(children=(FloatSlider(value=0.35, continuous_update=False, description='thresh', max=1.0, step=0.0…"
      ]
     },
     "metadata": {},
     "output_type": "display_data"
    },
    {
     "name": "stdout",
     "output_type": "stream",
     "text": [
      "Smoke\n"
     ]
    },
    {
     "data": {
      "application/vnd.jupyter.widget-view+json": {
       "model_id": "2ecee1d947d6426ea333431d90246992",
       "version_major": 2,
       "version_minor": 0
      },
      "text/plain": [
       "interactive(children=(FloatSlider(value=0.35, continuous_update=False, description='thresh', max=1.0, step=0.0…"
      ]
     },
     "metadata": {},
     "output_type": "display_data"
    },
    {
     "name": "stdout",
     "output_type": "stream",
     "text": [
      "Crowd\n"
     ]
    },
    {
     "data": {
      "application/vnd.jupyter.widget-view+json": {
       "model_id": "dc7dbd83235f4fe5a0afb29570342e25",
       "version_major": 2,
       "version_minor": 0
      },
      "text/plain": [
       "interactive(children=(FloatSlider(value=0.35, continuous_update=False, description='thresh', max=1.0, step=0.0…"
      ]
     },
     "metadata": {},
     "output_type": "display_data"
    },
    {
     "name": "stdout",
     "output_type": "stream",
     "text": [
      "Speech\n"
     ]
    },
    {
     "data": {
      "application/vnd.jupyter.widget-view+json": {
       "model_id": "3e5ff9a2362a458dbde1fc8b3686e51b",
       "version_major": 2,
       "version_minor": 0
      },
      "text/plain": [
       "interactive(children=(FloatSlider(value=0.35, continuous_update=False, description='thresh', max=1.0, step=0.0…"
      ]
     },
     "metadata": {},
     "output_type": "display_data"
    },
    {
     "name": "stdout",
     "output_type": "stream",
     "text": [
      "Medical equipment\n"
     ]
    },
    {
     "data": {
      "application/vnd.jupyter.widget-view+json": {
       "model_id": "e1907f3c0dca462caf1aede7d2e0e367",
       "version_major": 2,
       "version_minor": 0
      },
      "text/plain": [
       "interactive(children=(FloatSlider(value=0.35, continuous_update=False, description='thresh', max=1.0, step=0.0…"
      ]
     },
     "metadata": {},
     "output_type": "display_data"
    },
    {
     "name": "stdout",
     "output_type": "stream",
     "text": [
      "Rubble\n"
     ]
    },
    {
     "data": {
      "application/vnd.jupyter.widget-view+json": {
       "model_id": "ad94aaf0fe2e44039eff6c12cf78c8e9",
       "version_major": 2,
       "version_minor": 0
      },
      "text/plain": [
       "interactive(children=(FloatSlider(value=0.35, continuous_update=False, description='thresh', max=1.0, step=0.0…"
      ]
     },
     "metadata": {},
     "output_type": "display_data"
    },
    {
     "name": "stdout",
     "output_type": "stream",
     "text": [
      "Firefighter\n"
     ]
    },
    {
     "data": {
      "application/vnd.jupyter.widget-view+json": {
       "model_id": "242eb6999fe84da3b38b072c1512fc86",
       "version_major": 2,
       "version_minor": 0
      },
      "text/plain": [
       "interactive(children=(FloatSlider(value=0.35, continuous_update=False, description='thresh', max=1.0, step=0.0…"
      ]
     },
     "metadata": {},
     "output_type": "display_data"
    },
    {
     "name": "stdout",
     "output_type": "stream",
     "text": [
      "Flesh\n"
     ]
    },
    {
     "data": {
      "application/vnd.jupyter.widget-view+json": {
       "model_id": "b867d76a07d349b58eb95b9948150bf3",
       "version_major": 2,
       "version_minor": 0
      },
      "text/plain": [
       "interactive(children=(FloatSlider(value=0.35, continuous_update=False, description='thresh', max=1.0, step=0.0…"
      ]
     },
     "metadata": {},
     "output_type": "display_data"
    },
    {
     "name": "stdout",
     "output_type": "stream",
     "text": [
      "Stretcher\n"
     ]
    },
    {
     "data": {
      "application/vnd.jupyter.widget-view+json": {
       "model_id": "8bc9d925e3794bff9d6e84b22718adfe",
       "version_major": 2,
       "version_minor": 0
      },
      "text/plain": [
       "interactive(children=(FloatSlider(value=0.35, continuous_update=False, description='thresh', max=1.0, step=0.0…"
      ]
     },
     "metadata": {},
     "output_type": "display_data"
    },
    {
     "name": "stdout",
     "output_type": "stream",
     "text": [
      "Helicopter\n"
     ]
    },
    {
     "data": {
      "application/vnd.jupyter.widget-view+json": {
       "model_id": "3f3ece1736a44767b9b087f90db29a2f",
       "version_major": 2,
       "version_minor": 0
      },
      "text/plain": [
       "interactive(children=(FloatSlider(value=0.35, continuous_update=False, description='thresh', max=1.0, step=0.0…"
      ]
     },
     "metadata": {},
     "output_type": "display_data"
    },
    {
     "name": "stdout",
     "output_type": "stream",
     "text": [
      "Military vehicle\n"
     ]
    },
    {
     "data": {
      "application/vnd.jupyter.widget-view+json": {
       "model_id": "5554a96c05c04dc3a5d9949a86f177db",
       "version_major": 2,
       "version_minor": 0
      },
      "text/plain": [
       "interactive(children=(FloatSlider(value=0.35, continuous_update=False, description='thresh', max=1.0, step=0.0…"
      ]
     },
     "metadata": {},
     "output_type": "display_data"
    },
    {
     "name": "stdout",
     "output_type": "stream",
     "text": [
      "Security\n"
     ]
    },
    {
     "data": {
      "application/vnd.jupyter.widget-view+json": {
       "model_id": "bdfa3f1f48754d3b9ecd4adff5bd186c",
       "version_major": 2,
       "version_minor": 0
      },
      "text/plain": [
       "interactive(children=(FloatSlider(value=0.35, continuous_update=False, description='thresh', max=1.0, step=0.0…"
      ]
     },
     "metadata": {},
     "output_type": "display_data"
    },
    {
     "name": "stdout",
     "output_type": "stream",
     "text": [
      "Bomb\n"
     ]
    },
    {
     "data": {
      "application/vnd.jupyter.widget-view+json": {
       "model_id": "7a99cdf1713344009cba69fbff5bd4e6",
       "version_major": 2,
       "version_minor": 0
      },
      "text/plain": [
       "interactive(children=(FloatSlider(value=0.35, continuous_update=False, description='thresh', max=1.0, step=0.0…"
      ]
     },
     "metadata": {},
     "output_type": "display_data"
    },
    {
     "name": "stdout",
     "output_type": "stream",
     "text": [
      "Protest\n"
     ]
    },
    {
     "data": {
      "application/vnd.jupyter.widget-view+json": {
       "model_id": "2b039c5c4bcf4bbb975ef1d0960a9a01",
       "version_major": 2,
       "version_minor": 0
      },
      "text/plain": [
       "interactive(children=(FloatSlider(value=0.35, continuous_update=False, description='thresh', max=1.0, step=0.0…"
      ]
     },
     "metadata": {},
     "output_type": "display_data"
    },
    {
     "name": "stdout",
     "output_type": "stream",
     "text": [
      "Rocket\n"
     ]
    },
    {
     "data": {
      "application/vnd.jupyter.widget-view+json": {
       "model_id": "c5475f93d1634b83b787bcf2a16ea847",
       "version_major": 2,
       "version_minor": 0
      },
      "text/plain": [
       "interactive(children=(FloatSlider(value=0.35, continuous_update=False, description='thresh', max=1.0, step=0.0…"
      ]
     },
     "metadata": {},
     "output_type": "display_data"
    },
    {
     "name": "stdout",
     "output_type": "stream",
     "text": [
      "Fire extinguisher\n"
     ]
    },
    {
     "data": {
      "application/vnd.jupyter.widget-view+json": {
       "model_id": "67d61bb2c56a4f33b8f3dfb8123398c8",
       "version_major": 2,
       "version_minor": 0
      },
      "text/plain": [
       "interactive(children=(FloatSlider(value=0.35, continuous_update=False, description='thresh', max=1.0, step=0.0…"
      ]
     },
     "metadata": {},
     "output_type": "display_data"
    },
    {
     "name": "stdout",
     "output_type": "stream",
     "text": [
      "Knife\n"
     ]
    },
    {
     "data": {
      "application/vnd.jupyter.widget-view+json": {
       "model_id": "9634294808b74a4db76671f758919e3d",
       "version_major": 2,
       "version_minor": 0
      },
      "text/plain": [
       "interactive(children=(FloatSlider(value=0.35, continuous_update=False, description='thresh', max=1.0, step=0.0…"
      ]
     },
     "metadata": {},
     "output_type": "display_data"
    },
    {
     "name": "stdout",
     "output_type": "stream",
     "text": [
      "Missile\n"
     ]
    },
    {
     "data": {
      "application/vnd.jupyter.widget-view+json": {
       "model_id": "e10481d4d35640bcab8d50dc17104053",
       "version_major": 2,
       "version_minor": 0
      },
      "text/plain": [
       "interactive(children=(FloatSlider(value=0.35, continuous_update=False, description='thresh', max=1.0, step=0.0…"
      ]
     },
     "metadata": {},
     "output_type": "display_data"
    },
    {
     "name": "stdout",
     "output_type": "stream",
     "text": [
      "Combat vehicle\n"
     ]
    },
    {
     "data": {
      "application/vnd.jupyter.widget-view+json": {
       "model_id": "cb31f4fc299f4a4b9cebc36aaee5922b",
       "version_major": 2,
       "version_minor": 0
      },
      "text/plain": [
       "interactive(children=(FloatSlider(value=0.35, continuous_update=False, description='thresh', max=1.0, step=0.0…"
      ]
     },
     "metadata": {},
     "output_type": "display_data"
    },
    {
     "name": "stdout",
     "output_type": "stream",
     "text": [
      "Watercraft\n"
     ]
    },
    {
     "data": {
      "application/vnd.jupyter.widget-view+json": {
       "model_id": "32095862c6a3463d94b195ee32ff7c6a",
       "version_major": 2,
       "version_minor": 0
      },
      "text/plain": [
       "interactive(children=(FloatSlider(value=0.35, continuous_update=False, description='thresh', max=1.0, step=0.0…"
      ]
     },
     "metadata": {},
     "output_type": "display_data"
    },
    {
     "name": "stdout",
     "output_type": "stream",
     "text": [
      "Shotgun\n"
     ]
    },
    {
     "data": {
      "application/vnd.jupyter.widget-view+json": {
       "model_id": "f283460b5582493d930b99a5107fa022",
       "version_major": 2,
       "version_minor": 0
      },
      "text/plain": [
       "interactive(children=(FloatSlider(value=0.35, continuous_update=False, description='thresh', max=1.0, step=0.0…"
      ]
     },
     "metadata": {},
     "output_type": "display_data"
    },
    {
     "name": "stdout",
     "output_type": "stream",
     "text": [
      "Parachute\n"
     ]
    },
    {
     "data": {
      "application/vnd.jupyter.widget-view+json": {
       "model_id": "cf7b47389fed4a33a0d9e6a315fe5377",
       "version_major": 2,
       "version_minor": 0
      },
      "text/plain": [
       "interactive(children=(FloatSlider(value=0.35, continuous_update=False, description='thresh', max=1.0, step=0.0…"
      ]
     },
     "metadata": {},
     "output_type": "display_data"
    },
    {
     "name": "stdout",
     "output_type": "stream",
     "text": [
      "Military aircraft\n"
     ]
    },
    {
     "data": {
      "application/vnd.jupyter.widget-view+json": {
       "model_id": "7a6b0ba46aa8442d824203faa0849d39",
       "version_major": 2,
       "version_minor": 0
      },
      "text/plain": [
       "interactive(children=(FloatSlider(value=0.35, continuous_update=False, description='thresh', max=1.0, step=0.0…"
      ]
     },
     "metadata": {},
     "output_type": "display_data"
    },
    {
     "name": "stdout",
     "output_type": "stream",
     "text": [
      "Machine gun\n"
     ]
    },
    {
     "data": {
      "application/vnd.jupyter.widget-view+json": {
       "model_id": "96643926b55f446ca0fe20139a5a58f9",
       "version_major": 2,
       "version_minor": 0
      },
      "text/plain": [
       "interactive(children=(FloatSlider(value=0.35, continuous_update=False, description='thresh', max=1.0, step=0.0…"
      ]
     },
     "metadata": {},
     "output_type": "display_data"
    },
    {
     "name": "stdout",
     "output_type": "stream",
     "text": [
      "Airliner\n"
     ]
    },
    {
     "data": {
      "application/vnd.jupyter.widget-view+json": {
       "model_id": "0310bff092ed4ae5b93ba27adf2cdafd",
       "version_major": 2,
       "version_minor": 0
      },
      "text/plain": [
       "interactive(children=(FloatSlider(value=0.35, continuous_update=False, description='thresh', max=1.0, step=0.0…"
      ]
     },
     "metadata": {},
     "output_type": "display_data"
    },
    {
     "name": "stdout",
     "output_type": "stream",
     "text": [
      "Limousine\n"
     ]
    },
    {
     "data": {
      "application/vnd.jupyter.widget-view+json": {
       "model_id": "b74870166ac14fb3ae0dd9122ee12fd3",
       "version_major": 2,
       "version_minor": 0
      },
      "text/plain": [
       "interactive(children=(FloatSlider(value=0.35, continuous_update=False, description='thresh', max=1.0, step=0.0…"
      ]
     },
     "metadata": {},
     "output_type": "display_data"
    },
    {
     "name": "stdout",
     "output_type": "stream",
     "text": [
      "Harbor\n"
     ]
    },
    {
     "data": {
      "application/vnd.jupyter.widget-view+json": {
       "model_id": "a4988dca72a34f0ea67a85973df28063",
       "version_major": 2,
       "version_minor": 0
      },
      "text/plain": [
       "interactive(children=(FloatSlider(value=0.35, continuous_update=False, description='thresh', max=1.0, step=0.0…"
      ]
     },
     "metadata": {},
     "output_type": "display_data"
    },
    {
     "name": "stdout",
     "output_type": "stream",
     "text": [
      "Handgun\n"
     ]
    },
    {
     "data": {
      "application/vnd.jupyter.widget-view+json": {
       "model_id": "3408802f559e42c4888f1f8400ee0b87",
       "version_major": 2,
       "version_minor": 0
      },
      "text/plain": [
       "interactive(children=(FloatSlider(value=0.35, continuous_update=False, description='thresh', max=1.0, step=0.0…"
      ]
     },
     "metadata": {},
     "output_type": "display_data"
    },
    {
     "name": "stdout",
     "output_type": "stream",
     "text": [
      "Troop\n"
     ]
    },
    {
     "data": {
      "application/vnd.jupyter.widget-view+json": {
       "model_id": "da259762f65d44328987c4be6a174d92",
       "version_major": 2,
       "version_minor": 0
      },
      "text/plain": [
       "interactive(children=(FloatSlider(value=0.35, continuous_update=False, description='thresh', max=1.0, step=0.0…"
      ]
     },
     "metadata": {},
     "output_type": "display_data"
    },
    {
     "name": "stdout",
     "output_type": "stream",
     "text": [
      "Binoculars\n"
     ]
    },
    {
     "data": {
      "application/vnd.jupyter.widget-view+json": {
       "model_id": "59210584642044349422d402d699edcd",
       "version_major": 2,
       "version_minor": 0
      },
      "text/plain": [
       "interactive(children=(FloatSlider(value=0.35, continuous_update=False, description='thresh', max=1.0, step=0.0…"
      ]
     },
     "metadata": {},
     "output_type": "display_data"
    },
    {
     "name": "stdout",
     "output_type": "stream",
     "text": [
      "Dagger\n"
     ]
    },
    {
     "data": {
      "application/vnd.jupyter.widget-view+json": {
       "model_id": "b0383cb95a1646588074883d125b31e1",
       "version_major": 2,
       "version_minor": 0
      },
      "text/plain": [
       "interactive(children=(FloatSlider(value=0.35, continuous_update=False, description='thresh', max=1.0, step=0.0…"
      ]
     },
     "metadata": {},
     "output_type": "display_data"
    },
    {
     "name": "stdout",
     "output_type": "stream",
     "text": [
      "Fighter aircraft\n"
     ]
    },
    {
     "data": {
      "application/vnd.jupyter.widget-view+json": {
       "model_id": "c6357c793e554783abd155cf3b572ed0",
       "version_major": 2,
       "version_minor": 0
      },
      "text/plain": [
       "interactive(children=(FloatSlider(value=0.35, continuous_update=False, description='thresh', max=1.0, step=0.0…"
      ]
     },
     "metadata": {},
     "output_type": "display_data"
    },
    {
     "name": "stdout",
     "output_type": "stream",
     "text": [
      "Ambulance\n"
     ]
    },
    {
     "data": {
      "application/vnd.jupyter.widget-view+json": {
       "model_id": "fe7c9df7d3d040e8aaeacc516abba3a3",
       "version_major": 2,
       "version_minor": 0
      },
      "text/plain": [
       "interactive(children=(FloatSlider(value=0.35, continuous_update=False, description='thresh', max=1.0, step=0.0…"
      ]
     },
     "metadata": {},
     "output_type": "display_data"
    },
    {
     "name": "stdout",
     "output_type": "stream",
     "text": [
      "Assault rifle\n"
     ]
    },
    {
     "data": {
      "application/vnd.jupyter.widget-view+json": {
       "model_id": "69a0bcc7ef0040d2a716558cc0e48d6f",
       "version_major": 2,
       "version_minor": 0
      },
      "text/plain": [
       "interactive(children=(FloatSlider(value=0.35, continuous_update=False, description='thresh', max=1.0, step=0.0…"
      ]
     },
     "metadata": {},
     "output_type": "display_data"
    }
   ],
   "source": [
    "for label in select_labels:\n",
    "    if len(label_to_img[label]) == 0:\n",
    "        continue\n",
    "    print(mid2name_all[label])\n",
    "    imgid = np.random.choice(label_to_img[label])\n",
    "    w = interactive(show, \n",
    "        thresh=widgets.FloatSlider(min=0.0, max=1.0, step=0.01, value=0.35, continuous_update=False), \n",
    "        imgid=fixed(imgid)\n",
    "    )\n",
    "    w.children[-1].layout.height = '600px'\n",
    "    display(w)"
   ]
  },
  {
   "cell_type": "code",
   "execution_count": null,
   "metadata": {},
   "outputs": [],
   "source": []
  },
  {
   "cell_type": "code",
   "execution_count": null,
   "metadata": {},
   "outputs": [],
   "source": []
  },
  {
   "cell_type": "code",
   "execution_count": null,
   "metadata": {},
   "outputs": [],
   "source": []
  }
 ],
 "metadata": {
  "kernelspec": {
   "display_name": "Py3 w/ Tensorflow",
   "language": "python",
   "name": "py3tf"
  },
  "language_info": {
   "codemirror_mode": {
    "name": "ipython",
    "version": 3
   },
   "file_extension": ".py",
   "mimetype": "text/x-python",
   "name": "python",
   "nbconvert_exporter": "python",
   "pygments_lexer": "ipython3",
   "version": "3.6.5"
  }
 },
 "nbformat": 4,
 "nbformat_minor": 2
}
