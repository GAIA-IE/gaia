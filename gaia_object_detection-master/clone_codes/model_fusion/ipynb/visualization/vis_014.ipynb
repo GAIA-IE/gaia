{
 "cells": [
  {
   "cell_type": "code",
   "execution_count": 2,
   "metadata": {},
   "outputs": [],
   "source": [
    "import os\n",
    "import sys\n",
    "import pickle\n",
    "import csv\n",
    "import copy\n",
    "\n",
    "import numpy as np\n",
    "import cv2\n",
    "import matplotlib.pyplot as plt\n",
    "%matplotlib inline"
   ]
  },
  {
   "cell_type": "code",
   "execution_count": 3,
   "metadata": {},
   "outputs": [],
   "source": [
    "from ipywidgets import interact, interactive, fixed, interact_manual\n",
    "import ipywidgets as widgets"
   ]
  },
  {
   "cell_type": "code",
   "execution_count": 4,
   "metadata": {},
   "outputs": [
    {
     "name": "stderr",
     "output_type": "stream",
     "text": [
      "../../../tfobjdetect/lib/object_detection/utils/visualization_utils.py:25: UserWarning: \n",
      "This call to matplotlib.use() has no effect because the backend has already\n",
      "been chosen; matplotlib.use() must be called *before* pylab, matplotlib.pyplot,\n",
      "or matplotlib.backends is imported for the first time.\n",
      "\n",
      "The backend was *originally* set to 'module://ipykernel.pylab.backend_inline' by the following code:\n",
      "  File \"/home/alireza/home_at_filer2/tools/anaconda3/envs/py3tf/lib/python3.6/runpy.py\", line 193, in _run_module_as_main\n",
      "    \"__main__\", mod_spec)\n",
      "  File \"/home/alireza/home_at_filer2/tools/anaconda3/envs/py3tf/lib/python3.6/runpy.py\", line 85, in _run_code\n",
      "    exec(code, run_globals)\n",
      "  File \"/home/alireza/home_at_filer2/tools/anaconda3/envs/py3tf/lib/python3.6/site-packages/ipykernel/__main__.py\", line 3, in <module>\n",
      "    app.launch_new_instance()\n",
      "  File \"/home/alireza/home_at_filer2/tools/anaconda3/envs/py3tf/lib/python3.6/site-packages/traitlets/config/application.py\", line 658, in launch_instance\n",
      "    app.start()\n",
      "  File \"/home/alireza/home_at_filer2/tools/anaconda3/envs/py3tf/lib/python3.6/site-packages/ipykernel/kernelapp.py\", line 486, in start\n",
      "    self.io_loop.start()\n",
      "  File \"/home/alireza/home_at_filer2/tools/anaconda3/envs/py3tf/lib/python3.6/site-packages/tornado/platform/asyncio.py\", line 127, in start\n",
      "    self.asyncio_loop.run_forever()\n",
      "  File \"/home/alireza/home_at_filer2/tools/anaconda3/envs/py3tf/lib/python3.6/asyncio/base_events.py\", line 422, in run_forever\n",
      "    self._run_once()\n",
      "  File \"/home/alireza/home_at_filer2/tools/anaconda3/envs/py3tf/lib/python3.6/asyncio/base_events.py\", line 1432, in _run_once\n",
      "    handle._run()\n",
      "  File \"/home/alireza/home_at_filer2/tools/anaconda3/envs/py3tf/lib/python3.6/asyncio/events.py\", line 145, in _run\n",
      "    self._callback(*self._args)\n",
      "  File \"/home/alireza/home_at_filer2/tools/anaconda3/envs/py3tf/lib/python3.6/site-packages/tornado/platform/asyncio.py\", line 117, in _handle_events\n",
      "    handler_func(fileobj, events)\n",
      "  File \"/home/alireza/home_at_filer2/tools/anaconda3/envs/py3tf/lib/python3.6/site-packages/tornado/stack_context.py\", line 276, in null_wrapper\n",
      "    return fn(*args, **kwargs)\n",
      "  File \"/home/alireza/home_at_filer2/tools/anaconda3/envs/py3tf/lib/python3.6/site-packages/zmq/eventloop/zmqstream.py\", line 450, in _handle_events\n",
      "    self._handle_recv()\n",
      "  File \"/home/alireza/home_at_filer2/tools/anaconda3/envs/py3tf/lib/python3.6/site-packages/zmq/eventloop/zmqstream.py\", line 480, in _handle_recv\n",
      "    self._run_callback(callback, msg)\n",
      "  File \"/home/alireza/home_at_filer2/tools/anaconda3/envs/py3tf/lib/python3.6/site-packages/zmq/eventloop/zmqstream.py\", line 432, in _run_callback\n",
      "    callback(*args, **kwargs)\n",
      "  File \"/home/alireza/home_at_filer2/tools/anaconda3/envs/py3tf/lib/python3.6/site-packages/tornado/stack_context.py\", line 276, in null_wrapper\n",
      "    return fn(*args, **kwargs)\n",
      "  File \"/home/alireza/home_at_filer2/tools/anaconda3/envs/py3tf/lib/python3.6/site-packages/ipykernel/kernelbase.py\", line 283, in dispatcher\n",
      "    return self.dispatch_shell(stream, msg)\n",
      "  File \"/home/alireza/home_at_filer2/tools/anaconda3/envs/py3tf/lib/python3.6/site-packages/ipykernel/kernelbase.py\", line 233, in dispatch_shell\n",
      "    handler(stream, idents, msg)\n",
      "  File \"/home/alireza/home_at_filer2/tools/anaconda3/envs/py3tf/lib/python3.6/site-packages/ipykernel/kernelbase.py\", line 399, in execute_request\n",
      "    user_expressions, allow_stdin)\n",
      "  File \"/home/alireza/home_at_filer2/tools/anaconda3/envs/py3tf/lib/python3.6/site-packages/ipykernel/ipkernel.py\", line 208, in do_execute\n",
      "    res = shell.run_cell(code, store_history=store_history, silent=silent)\n",
      "  File \"/home/alireza/home_at_filer2/tools/anaconda3/envs/py3tf/lib/python3.6/site-packages/ipykernel/zmqshell.py\", line 537, in run_cell\n",
      "    return super(ZMQInteractiveShell, self).run_cell(*args, **kwargs)\n",
      "  File \"/home/alireza/home_at_filer2/tools/anaconda3/envs/py3tf/lib/python3.6/site-packages/IPython/core/interactiveshell.py\", line 2666, in run_cell\n",
      "    self.events.trigger('post_run_cell', result)\n",
      "  File \"/home/alireza/home_at_filer2/tools/anaconda3/envs/py3tf/lib/python3.6/site-packages/IPython/core/events.py\", line 88, in trigger\n",
      "    func(*args, **kwargs)\n",
      "  File \"/home/alireza/home_at_filer2/tools/anaconda3/envs/py3tf/lib/python3.6/site-packages/ipykernel/pylab/backend_inline.py\", line 160, in configure_once\n",
      "    activate_matplotlib(backend)\n",
      "  File \"/home/alireza/home_at_filer2/tools/anaconda3/envs/py3tf/lib/python3.6/site-packages/IPython/core/pylabtools.py\", line 311, in activate_matplotlib\n",
      "    matplotlib.pyplot.switch_backend(backend)\n",
      "  File \"/home/alireza/home_at_filer2/tools/anaconda3/envs/py3tf/lib/python3.6/site-packages/matplotlib/pyplot.py\", line 231, in switch_backend\n",
      "    matplotlib.use(newbackend, warn=False, force=True)\n",
      "  File \"/home/alireza/home_at_filer2/tools/anaconda3/envs/py3tf/lib/python3.6/site-packages/matplotlib/__init__.py\", line 1410, in use\n",
      "    reload(sys.modules['matplotlib.backends'])\n",
      "  File \"/home/alireza/home_at_filer2/tools/anaconda3/envs/py3tf/lib/python3.6/importlib/__init__.py\", line 166, in reload\n",
      "    _bootstrap._exec(spec, module)\n",
      "  File \"/home/alireza/home_at_filer2/tools/anaconda3/envs/py3tf/lib/python3.6/site-packages/matplotlib/backends/__init__.py\", line 16, in <module>\n",
      "    line for line in traceback.format_stack()\n",
      "\n",
      "\n",
      "  import matplotlib; matplotlib.use('Agg')  # pylint: disable=multiple-statements\n"
     ]
    }
   ],
   "source": [
    "sys.path.append(\"../../../tfobjdetect/lib\")\n",
    "from object_detection.utils import label_map_util\n",
    "from object_detection.utils import visualization_utils as vis_util"
   ]
  },
  {
   "cell_type": "markdown",
   "metadata": {},
   "source": [
    "## Loading and preparing label maps"
   ]
  },
  {
   "cell_type": "code",
   "execution_count": 5,
   "metadata": {},
   "outputs": [],
   "source": [
    "with open('../../temp/label_matching_coco_oi_ws_300.pkl', 'rb') as fin:\n",
    "    labelmap = pickle.load(fin)"
   ]
  },
  {
   "cell_type": "code",
   "execution_count": 6,
   "metadata": {},
   "outputs": [],
   "source": [
    "idx2mid_coco = labelmap['idx2mid_coco']\n",
    "idx2mid_oi = labelmap['idx2mid_oi']\n",
    "idx2mid_ws = labelmap['idx2mid_ws']\n",
    "mid2idx_coco = labelmap['mid2idx_coco']\n",
    "mid2idx_oi = labelmap['mid2idx_oi']\n",
    "mid2idx_ws = labelmap['mid2idx_ws']\n",
    "mid2name_coco = labelmap['mid2name_coco']\n",
    "mid2name_oi = labelmap['mid2name_oi']\n",
    "mid2name_ws = labelmap['mid2name_ws']\n",
    "name2mid_coco = labelmap['name2mid_coco']\n",
    "name2mid_oi = labelmap['name2mid_oi']\n",
    "name2mid_ws = labelmap['name2mid_ws']\n",
    "common_mids_coco = labelmap['common_mids_coco']\n",
    "common_mids_ws = labelmap['common_mids_ws']\n"
   ]
  },
  {
   "cell_type": "code",
   "execution_count": 7,
   "metadata": {},
   "outputs": [],
   "source": [
    "coco_mids = set(mid2idx_coco.keys())\n",
    "oi_mids = set(mid2idx_oi.keys())\n",
    "ws_mids = set(mid2idx_ws.keys())\n"
   ]
  },
  {
   "cell_type": "code",
   "execution_count": 8,
   "metadata": {},
   "outputs": [],
   "source": [
    "mid2name_all = {}\n",
    "for key in coco_mids:\n",
    "    mid2name_all[key] = mid2name_coco[key]\n",
    "for key in oi_mids:\n",
    "    mid2name_all[key] = mid2name_oi[key]\n",
    "for key in ws_mids:\n",
    "    mid2name_all[key] = mid2name_ws[key]"
   ]
  },
  {
   "cell_type": "code",
   "execution_count": 9,
   "metadata": {},
   "outputs": [],
   "source": [
    "with open('../../temp/all_labels_coco_oi_ws_300.pkl', 'rb') as fin:\n",
    "    all_labels = pickle.load(fin)"
   ]
  },
  {
   "cell_type": "code",
   "execution_count": null,
   "metadata": {},
   "outputs": [],
   "source": []
  },
  {
   "cell_type": "code",
   "execution_count": 10,
   "metadata": {},
   "outputs": [],
   "source": [
    "with open('../../results/det_results_postproc_11.pkl', 'rb') as fin:\n",
    "    det_results_sorted = pickle.load(fin)"
   ]
  },
  {
   "cell_type": "code",
   "execution_count": null,
   "metadata": {},
   "outputs": [],
   "source": []
  },
  {
   "cell_type": "markdown",
   "metadata": {},
   "source": [
    "## Choosing examples for each class to visualize"
   ]
  },
  {
   "cell_type": "code",
   "execution_count": 11,
   "metadata": {},
   "outputs": [],
   "source": [
    "label_to_img = {key: [] for key in all_labels}\n",
    "for key, val in det_results_sorted.items():\n",
    "    for ii in range(val['num_detections']):\n",
    "        if val['detection_scores'][ii] < 0.35:\n",
    "            continue\n",
    "        label_to_img[val['detection_classes'][ii]].append(key)"
   ]
  },
  {
   "cell_type": "code",
   "execution_count": 12,
   "metadata": {},
   "outputs": [],
   "source": [
    "idx = np.argsort([-len(label_to_img[label]) for label in all_labels])"
   ]
  },
  {
   "cell_type": "code",
   "execution_count": 13,
   "metadata": {},
   "outputs": [
    {
     "name": "stdout",
     "output_type": "stream",
     "text": [
      "/m/01g317 Person 2089\n",
      "/m/04yx4 Man 904\n",
      "/m/0dzct Human face 588\n",
      "/m/07r04 Truck 298\n",
      "/m/03bt1vf Woman 287\n",
      "/m/05s2s Plant 269\n",
      "/m/0k4j Car 260\n",
      "/m/01prls Land vehicle 161\n",
      "/m/0c_jw Furniture 147\n",
      "/m/0hf58v5 Luggage and bags 135\n",
      "/m/07cmd Tank 127\n",
      "/m/01n5jq Poster 91\n",
      "/m/012t_z Businessperson 79\n",
      "/m/03120 Flag 78\n",
      "/m/0cgh4 Building 72\n",
      "/m/0jbk Animal 64\n",
      "/m/078my Trailer truck 57\n",
      "/m/01xr66 Spokesperson 57\n",
      "/m/07jdr Train 53\n",
      "/m/02wbm Food 49\n",
      "/m/07s6nbt Text 46\n",
      "/m/07k1x Tool 45\n",
      "/m/0jyfg Glasses 44\n",
      "/m/07yv9 Vehicle 43\n",
      "/m/050k8 Mobile phone 39\n",
      "/m/0dwx7 Logo 38\n",
      "/m/04_tb Map 36\n",
      "/m/0zvk5 Helmet 33\n",
      "/m/019jd Boat 33\n",
      "/m/083kb Weapon 32\n",
      "/m/0gvss07 Combat vehicle 32\n",
      "/m/035y33 Official 31\n",
      "/m/03jm5 House 31\n",
      "/m/0728h Self-propelled artillery 31\n",
      "/m/06c54 Rifle 31\n",
      "/m/0bt9lr Dog 30\n",
      "/m/01fnck Waste 30\n",
      "/m/0fkwjg Commercial vehicle 27\n",
      "/m/03qtwd Crowd 26\n",
      "/m/01xgg_ Medical equipment 26\n",
      "/m/0cmf2 Airplane 25\n",
      "/m/070qm Freight transport 24\n",
      "/m/0g54v5d Military vehicle 24\n",
      "/m/01knjb Billboard 24\n",
      "/m/0h2r6 Van 24\n",
      "/m/06q40 Smoke 23\n",
      "/m/01bjv Bus 23\n",
      "/m/04hgtk Human head 23\n",
      "/m/01j61q Tent 22\n",
      "/m/0hg7b Microphone 19\n",
      "/m/05r655 Girl 19\n",
      "/m/02_41 Fire 18\n",
      "/m/01c648 Laptop 17\n",
      "/m/09x0r Speech 17\n",
      "/m/09nm_ World 17\n",
      "/m/08qrwn Rubble 16\n",
      "/m/07c52 Television 15\n",
      "/m/09ct_ Helicopter 15\n",
      "/m/06msq Sculpture 15\n",
      "/m/01fdzj Tower 14\n",
      "/m/04_x4 Money 14\n",
      "/m/02_n6y Goggles 14\n",
      "/m/01bl7v Boy 13\n",
      "/m/09g5pq People 12\n",
      "/m/012n7d Ambulance 12\n",
      "/m/0199g Bicycle 12\n",
      "/m/08dz3q Auto part 11\n",
      "/m/015h_t Human beard 11\n",
      "/m/033lpr Audience 11\n",
      "/m/079cl Skyscraper 10\n",
      "/m/01nd_n Protest 10\n",
      "/m/06nrc Shotgun 10\n",
      "/m/0bs7_0t Electronic device 10\n",
      "/m/0bg2p Security 9\n",
      "/m/03qpft Podium 9\n",
      "/m/0fd6q Cash 9\n",
      "/m/012n4x Firefighter 9\n",
      "/m/0cz_0 Highway 9\n",
      "/m/01x2j Camouflage 9\n",
      "/m/02p16m6 Flesh 8\n",
      "/m/01wk9c Emblem 8\n",
      "/m/088l6h Family car 8\n",
      "/m/02_g0 Funeral 7\n",
      "/m/04ylt Missile 7\n",
      "/m/04zjc Machine gun 7\n",
      "/m/0169zh Smartphone 7\n",
      "/m/02lbcq Stretcher 7\n",
      "/m/013xlm Tractor 7\n",
      "/m/01klb9 Plaza 6\n",
      "/m/06gfj Road 6\n",
      "/m/0crjs Convenience store 6\n",
      "/m/03wvy Infantry 6\n",
      "/m/01rzcn Watercraft 6\n",
      "/m/01x3jk Snowmobile 6\n",
      "/m/01cx7t High-visibility clothing 6\n",
      "/m/020kz Cannon 6\n",
      "/m/04_sv Motorcycle 6\n",
      "/m/017kvv Infrastructure 6\n",
      "/m/02p4dfn Lectern 6\n",
      "/m/0121tl Electronic instrument 6\n",
      "/m/01bgsw Toddler 6\n",
      "/m/021sj1 Office building 5\n",
      "/m/01zpz Crew 5\n",
      "/m/039jbq Urban area 5\n",
      "/m/0ltfs Bride 5\n",
      "/m/09l63h Military camouflage 5\n",
      "/m/0hr5k Festival 5\n",
      "/m/01m3v Computer 5\n",
      "/m/081hv Wedding 5\n",
      "/m/03cny9 Badge 5\n",
      "/m/02gx17 Construction equipment 4\n",
      "/m/02gp31 Government agency 4\n",
      "/m/0lt4_ Binoculars 4\n",
      "/m/051rmm Steeple 4\n",
      "/m/09rvcxw Rocket 4\n",
      "/m/01nblt Apartment 4\n",
      "/m/05wrt Property 4\n",
      "/m/01l0mw Home 4\n",
      "/m/076bq Segway 4\n",
      "/m/01bq8v Troop 4\n",
      "/m/02cwf_ Shrine 4\n",
      "/m/0k5j Aircraft 4\n",
      "/m/01nl4x Fire extinguisher 4\n",
      "/m/0blz9 Fence 4\n",
      "/m/0qmmr Wheelchair 3\n",
      "/m/012f08 Motor vehicle 3\n",
      "/m/038t8_ Estate 3\n",
      "/m/01n32 City 3\n",
      "/m/071rm Shooting 3\n",
      "/m/0ffjr Personal protective equipment 3\n",
      "/m/012n91 Emergency service 3\n",
      "/m/054xkw Lifejacket 3\n",
      "/m/018p4k Cart 3\n",
      "/m/01c8br Street 3\n",
      "/m/06q74 Ship 3\n",
      "/m/013bml Military rank 3\n",
      "/m/039l3v Auditorium 3\n",
      "/m/07cx4 Telephone 3\n",
      "/m/015kr Bridge 3\n",
      "/m/09cjl Airport 2\n",
      "/m/0h36z Cemetery 2\n",
      "/m/09jfs Uniform 2\n",
      "/m/01lcw4 Limousine 2\n",
      "/m/03d1rd Ruins 2\n",
      "/m/05hg54 Commercial building 2\n",
      "/m/02ljgl Monument 2\n",
      "/m/05_5t0l Landmark 2\n",
      "/m/02q60ls Conference hall 2\n",
      "/m/013_1c Statue 2\n",
      "/m/09cynt Convention 2\n",
      "/m/068k4 Public speaking 2\n",
      "/m/0dv5r Camera 2\n",
      "/m/03j1ly Emergency vehicle 2\n",
      "/m/01wb7 Church 2\n",
      "/m/0hpjt Orator 2\n",
      "/m/0ct4f Bomb 2\n",
      "/m/03htg Harbor 2\n",
      "/m/04ctx Knife 2\n",
      "/m/016c4t Ceremony 1\n",
      "/m/081pkj Event 1\n",
      "/m/02nvjx Place of worship 1\n",
      "/m/015y8h Jet aircraft 1\n",
      "/m/05zdp Public transport 1\n",
      "/m/034qg Firearm 1\n",
      "/m/0qb7t Organization 1\n",
      "/m/0cvq3 Pickup truck 1\n",
      "/m/06d_3 Railway 1\n",
      "/m/012qdp Military officer 1\n",
      "/m/013m1 Air force 1\n",
      "/m/0vg8 Airline 1\n",
      "/m/0ytgt Child 1\n",
      "/m/0173tc Chapel 1\n",
      "/m/0crtnw Executive car 1\n",
      "/m/0dhz0 Airliner 1\n",
      "/m/01515d Flight 1\n",
      "/m/0jb3 Assault rifle 1\n",
      "/m/014yck Aircraft engine 1\n",
      "/m/016br2 Dome 1\n",
      "/m/0c85fd Dome 1\n",
      "/m/01vw0_ Grave 1\n",
      "/m/0323sq Golf cart 1\n",
      "/m/01yx86 Bronze sculpture 1\n",
      "/m/015x5n Radish 0\n",
      "/m/05ws7 Police 0\n",
      "/m/01h_q0 Military robot 0\n",
      "/m/0388q Grape 0\n",
      "/m/02bb1s Sniper rifle 0\n",
      "/m/026yq0z Demonstration 0\n",
      "/m/032rk Gun 0\n",
      "/m/054_l Mirror 0\n",
      "/m/01rkbr Tie 0\n",
      "/m/02vkqh8 Wardrobe 0\n",
      "/m/068zj Pig 0\n",
      "/m/02wg_p Tree house 0\n",
      "/m/02p0zyj Riot 0\n",
      "/m/014j1m Apple 0\n",
      "/m/0dtln Lamp 0\n",
      "/m/04g2r Lynx 0\n",
      "/m/02f9f_ Shower 0\n",
      "/m/014sv8 Eye 0\n",
      "/m/01gllr Beehive 0\n",
      "/m/017m8l Waterway 0\n",
      "/m/03jbxj Light switch 0\n",
      "/m/0fbw6 Cabbage 0\n",
      "/m/02zvsm Tart 0\n",
      "/m/0kmg4 Teddy bear 0\n",
      "/m/0cyhj_ Orange 0\n",
      "/m/0gjkl Watch 0\n",
      "/m/07dm6 Tiger 0\n",
      "/m/09kx5 Deer 0\n",
      "/m/01hr1w Guided missile destroyer 0\n",
      "/m/012w5l Ladder 0\n",
      "/m/02666n Light aircraft carrier 0\n",
      "/m/03ssj5 Bed 0\n",
      "/m/043nyj Common fig 0\n",
      "/m/01b7fy Headphones 0\n",
      "/m/01s105 Cabinetry 0\n",
      "/m/01vzwd Mortar 0\n",
      "/m/0xsc Aircraft carrier 0\n",
      "/m/01k6s3 toaster 0\n",
      "/m/01_bhs Fast food 0\n",
      "/m/0llzx Sewing machine 0\n",
      "/m/0h8n6ft Cake stand 0\n",
      "/m/01jw_1 Bus stop 0\n",
      "/m/01h8tj Starfish 0\n",
      "/m/02jfl0 Sombrero 0\n",
      "/m/02hsrtn Helicopter pilot 0\n",
      "/m/04m6gz Porch 0\n",
      "/m/06bt6 Reptile 0\n",
      "/m/083wq Wheel 0\n",
      "/m/0bh9flk Tablet computer 0\n",
      "/m/0knpd Flight instruments 0\n",
      "/m/03txqz Scale 0\n",
      "/m/061_f Pear 0\n",
      "/m/04m9y Lizard 0\n",
      "/m/01lynh Stairs 0\n",
      "/m/07j87 Tomato 0\n",
      "/m/025syph Fighter pilot 0\n",
      "/m/0m_bl Bullet train 0\n",
      "/m/05ctyq Tennis ball 0\n",
      "/m/01nkt Cheese 0\n",
      "/m/063rgb Mixer 0\n",
      "/m/0gjwxv Military organization 0\n",
      "/m/050gv4 Plate 0\n",
      "/m/0bp37nz Propeller-driven aircraft 0\n",
      "/m/02wv6h6 Skirt 0\n",
      "/m/0dbvp Goose 0\n",
      "/m/0h8mhzd Sports uniform 0\n",
      "/m/01f8m5 Blue jay 0\n",
      "/m/01fh4r Teapot 0\n",
      "/m/0cnyhnx Bull 0\n",
      "/m/01yrx Cat 0\n",
      "/m/0gxl3 Handgun 0\n",
      "/m/01w71f Personal luxury car 0\n",
      "/m/09gys Squid 0\n",
      "/m/02rdsp Office supplies 0\n",
      "/m/03w1r4 Military uniform 0\n",
      "/m/07y_7 Violin 0\n",
      "/m/0f4s2w Vegetable 0\n",
      "/m/07xyvk Coffeemaker 0\n",
      "/m/081qc Wine 0\n",
      "/m/06m11 Rose 0\n",
      "/m/01hrv5 Popcorn 0\n",
      "/m/04h5c Locomotive 0\n",
      "/m/0h8n5zk Kitchen & dining room table 0\n",
      "/m/03d443 Rhinoceros 0\n",
      "/m/08g_yr Temple 0\n",
      "/m/02dgv Door 0\n",
      "/m/096mb Lion 0\n",
      "/m/03m3pdh Sofa bed 0\n",
      "/m/02xwb Fruit 0\n",
      "/m/03hlz0c Kitchen utensil 0\n",
      "/m/01f91_ Pretzel 0\n",
      "/m/014y4n Paddle 0\n",
      "/m/0583b1 Barricade 0\n",
      "/m/02pv19 Stop sign 0\n",
      "/m/0283dt1 Mouth 0\n",
      "/m/01lrl Carnivore 0\n",
      "/m/04vv5k Snowplow 0\n",
      "/m/02g30s Guacamole 0\n",
      "/m/01j4z9 Chainsaw 0\n",
      "/m/0bt_c3 Book 0\n",
      "/m/077hhl Cargo aircraft 0\n",
      "/m/0633h Polar bear 0\n",
      "/m/03rszm Curtain 0\n",
      "/m/0l515 Sandwich 0\n",
      "/m/013y1f Organ 0\n",
      "/m/0mcx2 Ipod 0\n",
      "/m/0ll1f78 Shrimp 0\n",
      "/m/07mhn Trousers 0\n",
      "/m/03qrc Hamster 0\n",
      "/m/02pdsw Cutting board 0\n",
      "/m/099md Soldier 0\n",
      "/m/047j0r Filing cabinet 0\n",
      "/m/024g6 Cocktail 0\n",
      "/m/01kb5b Flashlight 0\n",
      "/m/09728 Bread 0\n",
      "/m/0l3ms Balance beam 0\n",
      "/m/0133tk Ballistic vest 0\n",
      "/m/04brg2 Tableware 0\n",
      "/m/01nq26 Sock 0\n",
      "/m/07j7r Tree 0\n",
      "/m/0d4w1 Closet 0\n",
      "/m/01h6rj Military 0\n",
      "/m/019w40 Surfboard 0\n",
      "/m/027pcv Zucchini 0\n",
      "/m/09dzg Turtle 0\n",
      "/m/01r546 Earrings 0\n",
      "/m/0f6wt Falcon 0\n",
      "/m/01xs3r Jet ski 0\n",
      "/m/01llwg Necklace 0\n",
      "/m/02jnhm Tin can 0\n",
      "/m/06_fw Skateboard 0\n",
      "/m/0755b Scorpion 0\n",
      "/m/0by6g Shark 0\n",
      "/m/06j2d Raven 0\n",
      "/m/0dkzw Seat belt 0\n",
      "/m/015qbp parking meter 0\n",
      "/m/0dftk Swan 0\n",
      "/m/04tn4x Swim cap 0\n",
      "/m/0fj52s Carrot 0\n",
      "/m/03fj2 Goldfish 0\n",
      "/m/0h8kx63 Spice rack 0\n",
      "/m/01lsmm Scissors 0\n",
      "/m/031n1 Foot 0\n",
      "/m/078jl Snake 0\n",
      "/m/04xd6k Melee weapon 0\n",
      "/m/03bj1 Panda 0\n",
      "/m/054fyh Pitcher 0\n",
      "/m/04p0qw Billiard table 0\n",
      "/m/0f6nr Unicycle 0\n",
      "/m/0czz2 Antelope 0\n",
      "/m/0pd7 Army 0\n",
      "/m/0306r Fox 0\n",
      "/m/01599 Beer 0\n",
      "/m/02068x Gondola 0\n",
      "/m/02d9qx Whiteboard 0\n",
      "/m/01dwwc Pancake 0\n",
      "/m/07qxg_ Football helmet 0\n",
      "/m/0cdn1 Hamburger 0\n",
      "/m/0275lwb Military helicopter 0\n",
      "/m/03q5t Harpsichord 0\n",
      "/m/06k2mb High heels 0\n",
      "/m/06z37_ Picture frame 0\n",
      "/m/05z6w Penguin 0\n",
      "/m/09kmb Spider 0\n",
      "/m/01xygc Coat 0\n",
      "/m/0kpqd Watermelon 0\n",
      "/m/07bgp Sheep 0\n",
      "/m/065h6l Jacuzzi 0\n",
      "/m/018j2 Banjo 0\n",
      "/m/02vqfm Coffee 0\n",
      "/m/0ft9s Dragonfly 0\n",
      "/m/0f5lx Military aircraft 0\n",
      "/m/0dv9c Racket 0\n",
      "/m/0fp6w Pineapple 0\n",
      "/m/0703r8 Loveseat 0\n",
      "/m/0ky7b Dishwasher 0\n",
      "/m/02yjc Fighter aircraft 0\n",
      "/m/0frqm Envelope 0\n",
      "/m/014trl Cosmetics 0\n",
      "/m/0120dh Sea turtle 0\n",
      "/m/0pcr Alpaca 0\n",
      "/m/09gtd Toilet paper 0\n",
      "/m/0f9_l Snail 0\n",
      "/m/02pkr5 Plumbing fixture 0\n",
      "/m/026qbn5 studio couch 0\n",
      "/m/07fbm7 Strawberry 0\n",
      "/m/0g2bc Drone 0\n",
      "/m/02zn6n Barrel 0\n",
      "/m/01dwsz Waffle 0\n",
      "/m/0663v Pizza 0\n",
      "/m/0h8mzrc Wall clock 0\n",
      "/m/015x4r Cucumber 0\n",
      "/m/08gqpm cup 0\n",
      "/m/04bcr3 Table 0\n",
      "/m/03v5tg Drinking straw 0\n",
      "/m/04c0y Kangaroo 0\n",
      "/m/0hdln Ruler 0\n",
      "/m/0268lbt Hiking equipment 0\n",
      "/m/0162_1 Towel 0\n",
      "/m/0342h Guitar 0\n",
      "/m/01x3z Clock 0\n",
      "/m/0hnyx Pastry 0\n",
      "/m/05r5c Piano 0\n",
      "/m/02hj4 Dolphin 0\n",
      "/m/06pcq Submarine sandwich 0\n",
      "/m/03hfwtf Military transport aircraft 0\n",
      "/m/09ddx Duck 0\n",
      "/m/057p5t Scoreboard 0\n",
      "/m/01gkx_ Swimwear 0\n",
      "/m/0cydv Caterpillar 0\n",
      "/m/025rp__ Cowboy hat 0\n",
      "/m/03hl4l9 Marine invertebrates 0\n",
      "/m/05y_qt Missile boat 0\n",
      "/m/029bxz Oven 0\n",
      "/m/09b5t Chicken 0\n",
      "/m/01mzpv Chair 0\n",
      "/m/03wvsk hair drier 0\n",
      "/m/0c2jj Axe 0\n",
      "/m/06__v Snowboard 0\n",
      "/m/0d_2m Moths and butterflies 0\n",
      "/m/033rq4 Street light 0\n",
      "/m/02wbtzl Sun hat 0\n",
      "/m/0174k2 Washing machine 0\n",
      "/m/01kqwy Business jet 0\n",
      "/m/0c29q Leopard 0\n",
      "/m/03k3r Horse 0\n",
      "/m/0pg52 Taxi 0\n",
      "/m/01fb_0 Bagel 0\n",
      "/m/0chbx Violence 0\n",
      "/m/0h9mv Tire 0\n",
      "/m/0k1tl Pen 0\n",
      "/m/0c568 Porcupine 0\n",
      "/m/02ctlc Cricket ball 0\n",
      "/m/03y6mg Food processor 0\n",
      "/m/01m2v Computer keyboard 0\n",
      "/m/01lcwm Luxury vehicle 0\n",
      "/m/034c16 Pillow 0\n",
      "/m/01cmb2 Miniskirt 0\n",
      "/m/018rc1 Ground attack aircraft 0\n",
      "/m/01tcjp Muffin 0\n",
      "/m/0420v5 Punching bag 0\n",
      "/m/04229 Jet engine 0\n",
      "/m/01xqw Cello 0\n",
      "/m/0bwd_0j Elephant 0\n",
      "/m/0ccs93 Canary 0\n",
      "/m/0jly1 Turkey 0\n",
      "/m/06zs7 Sniper 0\n",
      "/m/0h8nr_l Bathroom accessory 0\n",
      "/m/01s55n Suitcase 0\n",
      "/m/03q5c7 Saucer 0\n",
      "/m/020lf Mouse 0\n",
      "/m/02jz0l Tap 0\n",
      "/m/0cyfs Parachute 0\n",
      "/m/0152hh Snowman 0\n",
      "/m/06_72j Digital clock 0\n",
      "/m/0cxn2 Ice cream 0\n",
      "/m/0cffdh Maple 0\n",
      "/m/06810_ Medium tactical vehicle replacement 0\n",
      "/m/05t_pq Gun turret 0\n",
      "/m/01q4wd Stupa 0\n",
      "/m/09qck Banana 0\n",
      "/m/06dq9 Radar 0\n",
      "/m/0hsrw Sailboat 0\n",
      "/m/04gth Lavender 0\n",
      "/m/01xyhv Suit 0\n",
      "/m/02h19r Scarf 0\n",
      "/m/057cc Musical keyboard 0\n",
      "/m/0ph39 Canoe 0\n",
      "/m/0h8my_4 Tennis racket 0\n",
      "/m/04dr76w Bottle 0\n",
      "/m/01d40f Dress 0\n",
      "/m/02p5f1q Coffee cup 0\n",
      "/m/0449p Jaguar 0\n",
      "/m/039r6 General aviation 0\n",
      "/m/0fz0h Honeycomb 0\n",
      "/m/0b_rs Swimming pool 0\n",
      "/m/0dj6p Peach 0\n",
      "/m/07030 Sushi 0\n",
      "/m/0fly7 Jeans 0\n",
      "/m/04zpv Milk 0\n",
      "/m/09tvcd Wine glass 0\n",
      "/m/01j51 Balloon 0\n",
      "/m/03xxp Invertebrate 0\n",
      "/m/0qjjc Remote control 0\n",
      "/m/03hj559 Mixing bowl 0\n",
      "/m/076lb9 Bench 0\n",
      "/m/0dv77 Squash 0\n",
      "/m/017ftj Sunglasses 0\n",
      "/m/04169hn Wood-burning stove 0\n",
      "/m/05n4y Ostrich 0\n",
      "/m/033cnk Egg 0\n",
      "/m/03nfch Sandal 0\n",
      "/m/08q1tg Crash 0\n",
      "/m/02p3w7d Roller skates 0\n",
      "/m/09g1w Toilet 0\n",
      "/m/04rky Mammal 0\n",
      "/m/03c7gz Door handle 0\n",
      "/m/0m53l Rays and skates 0\n",
      "/m/0mkg Accordion 0\n",
      "/m/05_5p_0 Table tennis racket 0\n",
      "/m/0k05r Court 0\n",
      "/m/046dlr Alarm clock 0\n",
      "/m/047v4b Artichoke 0\n",
      "/m/016m2d Skull 0\n",
      "/m/02zt3 Kite 0\n",
      "/m/0jqgx Lily 0\n",
      "/m/099ssp Platter 0\n",
      "/m/09d5_ Owl 0\n",
      "/m/03p3bw Bicycle helmet 0\n",
      "/m/01h3n Bee 0\n",
      "/m/0c9ph5 Flower 0\n",
      "/m/020jm Beetle 0\n",
      "/m/01226z Football 0\n",
      "/m/03dnzn Bathtub 0\n",
      "/m/09f_2 Crocodile 0\n",
      "/m/0cn6p Otter 0\n",
      "/m/0130jx Sink 0\n",
      "/m/0fqt361 Stool 0\n",
      "/m/01bfm9 Shorts 0\n",
      "/m/05kms Oboe 0\n",
      "/m/029tx Dinosaur 0\n",
      "/m/0319l Horn 0\n",
      "/m/01bqk0 Bicycle wheel 0\n",
      "/m/07kng9 Picnic basket 0\n",
      "/m/02rgn06 Volleyball 0\n",
      "/m/07gql Trumpet 0\n",
      "/m/0463sg Fashion accessory 0\n",
      "/m/052sf Mushroom 0\n",
      "/m/02wmf frisbee 0\n",
      "/m/0fldg Mango 0\n",
      "/m/015p6 Bird 0\n",
      "/m/0hnnb Umbrella 0\n",
      "/m/0cjs7 Asparagus 0\n",
      "/m/0174n1 Glove 0\n",
      "/m/02gzp Dagger 0\n",
      "/m/08hvt4 Jug 0\n",
      "/m/01ww8y Snack 0\n",
      "/m/03fp41 Houseplant 0\n",
      "/m/04c2cp Dispatcher 0\n",
      "/m/0gt4z Security guard 0\n",
      "/m/040b_t Refrigerator 0\n",
      "/m/0gd2v Marine mammal 0\n",
      "/m/035vxb Isopod 0\n",
      "/m/01pns0 Fire hydrant 0\n",
      "/m/02q5pxq Aircraft cabin 0\n",
      "/m/0dbzx Mule 0\n",
      "/m/01d380 Drill 0\n",
      "/m/02wv84t Gas stove 0\n",
      "/m/074d1 Submarine 0\n",
      "/m/0fbdv Shellfish 0\n",
      "/m/0gd36 Sea lion 0\n",
      "/m/05y5lj Sports equipment 0\n",
      "/m/0nl46 Crown 0\n",
      "/m/0nybt Seahorse 0\n",
      "/m/02522 Computer monitor 0\n",
      "/m/02y6n French fries 0\n",
      "/m/01dws Bear 0\n",
      "/m/01b638 Boot 0\n",
      "/m/02ryw Explosive material 0\n",
      "/m/031b6r Window blind 0\n",
      "/m/0cjq5 Lobster 0\n",
      "/m/04kkgm Bowl 0\n",
      "/m/01dy8n Woodpecker 0\n",
      "/m/02w3r3 Paper towel 0\n",
      "/m/06c7f7 Lipstick 0\n",
      "/m/0dt3t Fork 0\n",
      "/m/03n9vx Double-decker bus 0\n",
      "/m/08p92x Cream 0\n",
      "/m/06ncr Saxophone 0\n",
      "/m/0242l Coin 0\n",
      "/m/071qp Squirrel 0\n",
      "/m/01btn Barge 0\n",
      "/m/02h66g5 Military person 0\n",
      "/m/01x_v Camel 0\n",
      "/m/01h44 Bat 0\n",
      "/m/04fdw Kayak 0\n",
      "/m/06l9r Red panda 0\n",
      "/m/078n6m Coffee table 0\n",
      "/m/03grzl Baseball glove 0\n",
      "/m/012074 Magpie 0\n",
      "/m/029b3 Dice 0\n",
      "/m/03bk1 Giraffe 0\n",
      "/m/05vtc Potato 0\n",
      "/m/0fx9l Microwave oven 0\n",
      "/m/0220r2 Fountain 0\n",
      "/m/0167gd Doll 0\n",
      "/m/0d4v4 Window 0\n",
      "/m/01z1kdw Juice 0\n",
      "/m/05gqfk Plastic bag 0\n",
      "/m/07crc Taco 0\n",
      "/m/030610 Treadmill 0\n",
      "/m/0584n8 Briefcase 0\n",
      "/m/06wrt Sailing 0\n",
      "/m/0cyf8 Butterfly 0\n",
      "/m/025t3bg Air travel 0\n",
      "/m/0l14j_ Flute 0\n",
      "/m/02tsc9 Slow cooker 0\n",
      "/m/04v6l4 Frying pan 0\n",
      "/m/02mwm5 Police dog 0\n",
      "/m/03vt0 Insect 0\n",
      "/m/019dx1 Home appliance 0\n",
      "/m/0271qf7 Wine rack 0\n",
      "/m/047b9vj Gps navigation device 0\n",
      "/m/02q3d5 Memorial 0\n",
      "/m/015qff Traffic light 0\n",
      "/m/04qvtq Police car 0\n",
      "/m/02s195 Vase 0\n",
      "/m/03__z0 Bookcase 0\n",
      "/m/0dq75 Raccoon 0\n",
      "/m/0_cp5 Oyster 0\n",
      "/m/03q69 Hair 0\n",
      "/m/084hf Worm 0\n",
      "/m/0fzyg Aviation 0\n",
      "/m/06mf6 Rabbit 0\n",
      "/m/03fwl Goat 0\n",
      "/m/02fq_6 Fedora 0\n",
      "/m/04rmv Mouse 0\n",
      "/m/011k07 Tortoise 0\n",
      "/m/07pj7bq Bowling equipment 0\n",
      "/m/09csl Eagle 0\n",
      "/m/05kyg_ Chest of drawers 0\n",
      "/m/0b3fp9 Countertop 0\n",
      "/m/018rqw Wide-body aircraft 0\n",
      "/m/0jy4k Doughnut 0\n",
      "/m/09f20 Hippopotamus 0\n",
      "/m/0fqfqc Drawer 0\n",
      "/m/025sb2w Supersonic aircraft 0\n",
      "/m/03g8mr Baseball bat 0\n",
      "/m/032b3c Jacket 0\n",
      "/m/0h8l4fh Light bulb 0\n",
      "/m/025dyy Box 0\n",
      "/m/03bbps Power plugs and sockets 0\n",
      "/m/03m5k Harp 0\n",
      "/m/09j2d Clothing 0\n",
      "/m/04yqq2 Bust 0\n",
      "/m/0hqkz Grapefruit 0\n",
      "/m/09k_b Lemon 0\n",
      "/m/058qzx Kitchen knife 0\n",
      "/m/03kt2w Stationary bicycle 0\n",
      "/m/01b9xk Hot dog 0\n",
      "/m/0h8lkj8 Corded phone 0\n",
      "/m/01xgbj Turret 0\n",
      "/m/0d8zb Jellyfish 0\n",
      "/m/02x984l Mechanical fan 0\n",
      "/m/03vntj Full-size car 0\n",
      "/m/044r5d Golf ball 0\n",
      "/m/0dkw5 Machine 0\n",
      "/m/080hkjn Handbag 0\n",
      "/m/0k0pj Nose 0\n",
      "/m/01jfsr Lantern 0\n",
      "/m/02pjr4 Blender 0\n",
      "/m/0h8n27j Serving tray 0\n",
      "/m/0fszt Cake 0\n",
      "/m/01m4t Printer 0\n",
      "/m/06nwz Seafood 0\n",
      "/m/0dzf4 Arm 0\n",
      "/m/084rd Wok 0\n",
      "/m/027rl48 Ladle 0\n",
      "/m/0cx45 Temple 0\n",
      "/m/01g3x7 Bow and arrow 0\n",
      "/m/025nd Christmas tree 0\n",
      "/m/08pbxl Monkey 0\n",
      "/m/0cvnqh Bench 0\n",
      "/m/015wgc Croissant 0\n",
      "/m/021mn Cookie 0\n",
      "background background 0\n",
      "/m/0kpt_ Cantaloupe 0\n",
      "/m/0y8r Armored car 0\n",
      "/m/0c06p Candle 0\n",
      "/m/02crq1 Couch 0\n",
      "/m/0ftb8 Sunflower 0\n",
      "/m/061hd_ Infant bed 0\n",
      "/m/01vbnl Bidet 0\n",
      "/m/024d2 Calculator 0\n",
      "/m/012ndj Fire apparatus 0\n",
      "/m/01xq0k1 Cattle 0\n",
      "/m/03s_tn Kettle 0\n",
      "/m/01n4qj Shirt 0\n",
      "/m/06y5r Sword 0\n",
      "/m/0176mf Belt 0\n",
      "/m/0jwn_ Pomegranate 0\n",
      "/m/03tw93 Fireplace 0\n",
      "/m/0642b4 Cupboard 0\n",
      "/m/01krhy Tiara 0\n",
      "/m/0271t Drink 0\n",
      "/m/0gj37 Ladybug 0\n",
      "/m/0cl4p Hedgehog 0\n",
      "/m/01mqdt Traffic sign 0\n",
      "/m/02x8cch Salt and pepper shakers 0\n",
      "/m/02l8p9 Harbor seal 0\n",
      "/m/073g6 Stethoscope 0\n",
      "/m/0h99cwc Kitchen appliance 0\n",
      "/m/09j5n Footwear 0\n",
      "/m/0p833 Perfume 0\n",
      "/m/05zsy Pumpkin 0\n",
      "/m/09ld4 Frog 0\n",
      "/m/0mw_6 Willow 0\n",
      "/m/0h8n6f9 Dog bed 0\n",
      "/m/07txbq Light aircraft 0\n",
      "/m/0cdl1 Palm tree 0\n",
      "/m/0138tl Toy 0\n",
      "/m/03m4wn Boating 0\n",
      "/m/01_5g Chopsticks 0\n",
      "/m/04h7h Lighthouse 0\n",
      "/m/01j3zr Burrito 0\n",
      "/m/0898b Zebra 0\n",
      "/m/03ldnb Ceiling fan 0\n",
      "/m/01y9k5 Desk 0\n",
      "/m/0h23m Sparrow 0\n",
      "/m/02z51p Nightstand 0\n",
      "/m/05pdd_v Fire department 0\n",
      "/m/0d5gx Castle 0\n",
      "/m/019h78 Centipede 0\n",
      "/m/0ch_cf Fish 0\n",
      "/m/027qh7f Cold weapon 0\n",
      "/m/04y4h8h Bathroom cabinet 0\n",
      "/m/039xj_ Ear 0\n",
      "/m/04szw Musical instrument 0\n",
      "/m/02w3_ws Personal care 0\n",
      "/m/012xff Toothbrush 0\n",
      "/m/07clx Tea 0\n",
      "/m/0_k2 Ant 0\n",
      "/m/02jvh9 Mug 0\n",
      "/m/0cd4d Cheetah 0\n",
      "/m/01dxs Brown bear 0\n",
      "/m/073bxn Tripod 0\n",
      "/m/035r7c Leg 0\n",
      "/m/0gv1x Parrot 0\n",
      "/m/07bsy Transport 0\n",
      "/m/071p9 Ski 0\n",
      "/m/0fm3zh Flowerpot 0\n",
      "/m/0jg57 Bell pepper 0\n",
      "/m/02cvgx Winter melon 0\n",
      "/m/0gm28 Candy 0\n",
      "/m/07c6l Trombone 0\n",
      "/m/02dl1y Hat 0\n",
      "/m/0wdt60w Rugby ball 0\n",
      "/m/026t6 Drum 0\n",
      "/m/0byj4 Combat 0\n",
      "/m/084zz Whale 0\n",
      "/m/014zdl Explosion 0\n",
      "/m/0245kq Stealth aircraft 0\n",
      "/m/02p0tk3 Human body 0\n",
      "/m/015_d Bomber 0\n",
      "/m/05z55 Pasta 0\n",
      "/m/0270h Dessert 0\n",
      "/m/0bjyj5 Waste container 0\n",
      "/m/0k65p Hand 0\n",
      "/m/012ysf Syringe 0\n",
      "/m/0gjbg72 Shelf 0\n",
      "/m/04h8sr Dumbbell 0\n",
      "/m/04cp_ Koala 0\n",
      "/m/0g02q Courthouse 0\n",
      "/m/01gmv2 Brassiere 0\n",
      "/m/0gty6zf Law enforcement 0\n",
      "/m/0hkxq Broccoli 0\n",
      "/m/0cmx8 Spoon 0\n",
      "/m/014tl Ammunition 0\n",
      "/m/018xm Ball 0\n",
      "/m/052lwg6 Baked goods 0\n",
      "/m/01jfm_ Licence plate 0\n",
      "/m/0284d Dairy 0\n",
      "/m/0grw1 Salad 0\n",
      "/m/0n28_ Crab 0\n",
      "/m/01940j Backpack 0\n"
     ]
    }
   ],
   "source": [
    "for i in idx:\n",
    "    print(all_labels[i], mid2name_all[all_labels[i]], len(label_to_img[all_labels[i]]))"
   ]
  },
  {
   "cell_type": "code",
   "execution_count": 14,
   "metadata": {},
   "outputs": [],
   "source": [
    "select_labels = ['/m/01fnck', '/m/019jd', '/m/03120', '/m/02_41', '/m/07cmd', '/m/06q40', '/m/03qtwd', '/m/09x0r', '/m/01xgg_', '/m/08qrwn', '/m/012n4x', '/m/02p16m6', '/m/02lbcq', '/m/09ct_', '/m/0g54v5d', '/m/0bg2p', '/m/0ct4f', '/m/01nd_n', '/m/09rvcxw', '/m/01nl4x', '/m/04ctx', '/m/04ylt', '/m/0gvss07', '/m/01rzcn', '/m/06nrc', '/m/0cyfs', '/m/0f5lx', '/m/04zjc', '/m/0dhz0', '/m/01lcw4', '/m/03htg', '/m/0gxl3', '/m/01bq8v', '/m/0lt4_', '/m/02gzp', '/m/02yjc', '/m/012n7d', '/m/0jb3', '/m/0dwx7']"
   ]
  },
  {
   "cell_type": "code",
   "execution_count": null,
   "metadata": {},
   "outputs": [],
   "source": []
  },
  {
   "cell_type": "markdown",
   "metadata": {},
   "source": [
    "## Visualizing Results"
   ]
  },
  {
   "cell_type": "code",
   "execution_count": 15,
   "metadata": {},
   "outputs": [],
   "source": [
    "mid2name_extended = {}\n",
    "extended_classes = set()\n",
    "for key in coco_mids:\n",
    "    for model, abv in [('coco', 'CO'), ('oi', 'OI'), ('ws', 'WS'), ('coco/J', 'CO/J'), ('oi/J', 'OI/J'), ('ws/J', 'WS/J')]:\n",
    "        extended_classes.add(key + '/' + model)\n",
    "        mid2name_extended[key + '/' + model] = mid2name_coco[key] + f' ({abv})'\n",
    "for key in oi_mids:\n",
    "    for model, abv in [('coco', 'CO'), ('oi', 'OI'), ('ws', 'WS'), ('coco/J', 'CO/J'), ('oi/J', 'OI/J'), ('ws/J', 'WS/J')]:\n",
    "        extended_classes.add(key + '/' + model)\n",
    "        mid2name_extended[key + '/' + model] = mid2name_oi[key] + f' ({abv})'\n",
    "for key in ws_mids:\n",
    "    for model, abv in [('coco', 'CO'), ('oi', 'OI'), ('ws', 'WS'), ('coco/J', 'CO/J'), ('oi/J', 'OI/J'), ('ws/J', 'WS/J')]:\n",
    "        extended_classes.add(key + '/' + model)\n",
    "        mid2name_extended[key + '/' + model] = mid2name_ws[key] + f' ({abv})'\n",
    "extended_classes = list(extended_classes)\n",
    "mid2idx_extended = {}\n",
    "for i, key in enumerate(extended_classes):\n",
    "    mid2idx_extended[key] = i\n",
    "category_index_extended = {mid2idx_extended[key]:{'id': mid2idx_extended[key], 'name': mid2name_extended[key]} for key in mid2name_extended}"
   ]
  },
  {
   "cell_type": "code",
   "execution_count": 16,
   "metadata": {},
   "outputs": [],
   "source": [
    "det_results_forviz = copy.deepcopy(det_results_sorted)"
   ]
  },
  {
   "cell_type": "code",
   "execution_count": 17,
   "metadata": {},
   "outputs": [],
   "source": [
    "for key in det_results_forviz:\n",
    "    for i in range(len(det_results_forviz[key]['detection_classes'])):\n",
    "        label = det_results_forviz[key]['detection_classes'][i] + '/' + det_results_forviz[key]['detection_models'][i]\n",
    "        det_results_forviz[key]['detection_classes'][i] = mid2idx_extended[label]\n"
   ]
  },
  {
   "cell_type": "code",
   "execution_count": 18,
   "metadata": {},
   "outputs": [
    {
     "name": "stdout",
     "output_type": "stream",
     "text": [
      "[3993, 2320, 430, 2571, 3147, 342, 3615, 73, 73, 73, 73, 676, 199, 1266, 882, 186, 4337, 1338, 3883, 1394, 1238, 4133, 3907, 946, 1757, 2894, 2807, 2976, 944, 2757, 1730, 1343, 1007, 3505, 2958, 925, 1007, 3034, 2624, 1323, 3034, 2195, 2624, 3828, 1882, 1995, 422, 3466, 1882, 3130, 3534, 2926, 3352, 1948, 1864, 4075, 1101, 251, 1799, 1865, 622, 3352, 4181, 2339, 667, 1544, 673, 861, 2695, 1899, 1101, 295, 2485, 2132, 2401, 3246, 3361, 3705, 2132, 558, 424, 3660, 3246, 193, 73, 3194, 2583, 1747, 2125, 832, 2692, 4314, 818, 73, 73, 73, 73, 73, 3993, 73]\n"
     ]
    }
   ],
   "source": [
    "print(det_results_forviz[key]['detection_classes'])"
   ]
  },
  {
   "cell_type": "code",
   "execution_count": null,
   "metadata": {},
   "outputs": [],
   "source": []
  },
  {
   "cell_type": "code",
   "execution_count": 19,
   "metadata": {},
   "outputs": [],
   "source": [
    "def preproc(im):\n",
    "    target_size = 400\n",
    "    max_size = 1024\n",
    "    im_size_min = np.min(im.shape[0:2])\n",
    "    im_size_max = np.max(im.shape[0:2])\n",
    "    im_scale = float(target_size) / float(im_size_min)\n",
    "    # Prevent the biggest axis from being more than MAX_SIZE\n",
    "    if np.round(im_scale * im_size_max) > max_size:\n",
    "        im_scale = float(max_size) / float(im_size_max)\n",
    "    im = cv2.resize(im, None, None, fx=im_scale, fy=im_scale,\n",
    "                    interpolation=cv2.INTER_LINEAR)    \n",
    "    return im"
   ]
  },
  {
   "cell_type": "code",
   "execution_count": null,
   "metadata": {},
   "outputs": [],
   "source": []
  },
  {
   "cell_type": "code",
   "execution_count": 20,
   "metadata": {},
   "outputs": [],
   "source": [
    "def show(imgid, thresh):\n",
    "    filename = '../../../../data/seedling/seedling_part2/jpg/' + imgid\n",
    "    print(imgid)\n",
    "    with open(filename, 'rb') as fin:\n",
    "        _ = fin.read(1024)\n",
    "        imgbin = fin.read()\n",
    "    imgbgr = cv2.imdecode(np.fromstring(imgbin, dtype='uint8'), cv2.IMREAD_COLOR)\n",
    "    image_np = imgbgr[:,:,[2,1,0]]\n",
    "    image_np = preproc(image_np)\n",
    "    vis_util.visualize_boxes_and_labels_on_image_array(\n",
    "      image_np,\n",
    "      np.asarray(det_results_forviz[imgid]['detection_boxes_normalized']),\n",
    "      det_results_forviz[imgid]['detection_classes'],\n",
    "      det_results_forviz[imgid]['detection_scores'],\n",
    "      category_index_extended,\n",
    "      instance_masks=det_results_forviz[imgid].get('detection_masks'),\n",
    "      use_normalized_coordinates=True,\n",
    "      min_score_thresh=thresh,\n",
    "      line_thickness=2)\n",
    "    plt.figure(figsize=(12, 8))\n",
    "    plt.imshow(image_np)\n",
    "    plt.axis('off')\n",
    "    plt.show()    "
   ]
  },
  {
   "cell_type": "code",
   "execution_count": 21,
   "metadata": {
    "scrolled": false
   },
   "outputs": [
    {
     "name": "stdout",
     "output_type": "stream",
     "text": [
      "Waste\n"
     ]
    },
    {
     "data": {
      "application/vnd.jupyter.widget-view+json": {
       "model_id": "42470d8158c74b8bb4113aece20d0957",
       "version_major": 2,
       "version_minor": 0
      },
      "text/plain": [
       "interactive(children=(FloatSlider(value=0.35, continuous_update=False, description='thresh', max=1.0, step=0.0…"
      ]
     },
     "metadata": {},
     "output_type": "display_data"
    },
    {
     "name": "stdout",
     "output_type": "stream",
     "text": [
      "Boat\n"
     ]
    },
    {
     "data": {
      "application/vnd.jupyter.widget-view+json": {
       "model_id": "425c5d10da964ffaa6d9e42d32b7e446",
       "version_major": 2,
       "version_minor": 0
      },
      "text/plain": [
       "interactive(children=(FloatSlider(value=0.35, continuous_update=False, description='thresh', max=1.0, step=0.0…"
      ]
     },
     "metadata": {},
     "output_type": "display_data"
    },
    {
     "name": "stdout",
     "output_type": "stream",
     "text": [
      "Flag\n"
     ]
    },
    {
     "data": {
      "application/vnd.jupyter.widget-view+json": {
       "model_id": "0cbbf4b07ffa46d69ec118d31c095971",
       "version_major": 2,
       "version_minor": 0
      },
      "text/plain": [
       "interactive(children=(FloatSlider(value=0.35, continuous_update=False, description='thresh', max=1.0, step=0.0…"
      ]
     },
     "metadata": {},
     "output_type": "display_data"
    },
    {
     "name": "stdout",
     "output_type": "stream",
     "text": [
      "Fire\n"
     ]
    },
    {
     "data": {
      "application/vnd.jupyter.widget-view+json": {
       "model_id": "cb55529ce9f44458991e4d69591b942f",
       "version_major": 2,
       "version_minor": 0
      },
      "text/plain": [
       "interactive(children=(FloatSlider(value=0.35, continuous_update=False, description='thresh', max=1.0, step=0.0…"
      ]
     },
     "metadata": {},
     "output_type": "display_data"
    },
    {
     "name": "stdout",
     "output_type": "stream",
     "text": [
      "Tank\n"
     ]
    },
    {
     "data": {
      "application/vnd.jupyter.widget-view+json": {
       "model_id": "1b7686f300bf4440979e822845f3d7af",
       "version_major": 2,
       "version_minor": 0
      },
      "text/plain": [
       "interactive(children=(FloatSlider(value=0.35, continuous_update=False, description='thresh', max=1.0, step=0.0…"
      ]
     },
     "metadata": {},
     "output_type": "display_data"
    },
    {
     "name": "stdout",
     "output_type": "stream",
     "text": [
      "Smoke\n"
     ]
    },
    {
     "data": {
      "application/vnd.jupyter.widget-view+json": {
       "model_id": "a5c197cf35b940e2a46c43402512d05e",
       "version_major": 2,
       "version_minor": 0
      },
      "text/plain": [
       "interactive(children=(FloatSlider(value=0.35, continuous_update=False, description='thresh', max=1.0, step=0.0…"
      ]
     },
     "metadata": {},
     "output_type": "display_data"
    },
    {
     "name": "stdout",
     "output_type": "stream",
     "text": [
      "Crowd\n"
     ]
    },
    {
     "data": {
      "application/vnd.jupyter.widget-view+json": {
       "model_id": "22ad71c6c27b41c19b631f3f065d3afa",
       "version_major": 2,
       "version_minor": 0
      },
      "text/plain": [
       "interactive(children=(FloatSlider(value=0.35, continuous_update=False, description='thresh', max=1.0, step=0.0…"
      ]
     },
     "metadata": {},
     "output_type": "display_data"
    },
    {
     "name": "stdout",
     "output_type": "stream",
     "text": [
      "Speech\n"
     ]
    },
    {
     "data": {
      "application/vnd.jupyter.widget-view+json": {
       "model_id": "84be241bfa6d4d0aa6d11f86b1257b85",
       "version_major": 2,
       "version_minor": 0
      },
      "text/plain": [
       "interactive(children=(FloatSlider(value=0.35, continuous_update=False, description='thresh', max=1.0, step=0.0…"
      ]
     },
     "metadata": {},
     "output_type": "display_data"
    },
    {
     "name": "stdout",
     "output_type": "stream",
     "text": [
      "Medical equipment\n"
     ]
    },
    {
     "data": {
      "application/vnd.jupyter.widget-view+json": {
       "model_id": "5bcf9fc158264d12a1517244442750b0",
       "version_major": 2,
       "version_minor": 0
      },
      "text/plain": [
       "interactive(children=(FloatSlider(value=0.35, continuous_update=False, description='thresh', max=1.0, step=0.0…"
      ]
     },
     "metadata": {},
     "output_type": "display_data"
    },
    {
     "name": "stdout",
     "output_type": "stream",
     "text": [
      "Rubble\n"
     ]
    },
    {
     "data": {
      "application/vnd.jupyter.widget-view+json": {
       "model_id": "3f35129b5eb84d6caade5272c83f1e80",
       "version_major": 2,
       "version_minor": 0
      },
      "text/plain": [
       "interactive(children=(FloatSlider(value=0.35, continuous_update=False, description='thresh', max=1.0, step=0.0…"
      ]
     },
     "metadata": {},
     "output_type": "display_data"
    },
    {
     "name": "stdout",
     "output_type": "stream",
     "text": [
      "Firefighter\n"
     ]
    },
    {
     "data": {
      "application/vnd.jupyter.widget-view+json": {
       "model_id": "839be1f28a1542b6b1619ea0e72c1f33",
       "version_major": 2,
       "version_minor": 0
      },
      "text/plain": [
       "interactive(children=(FloatSlider(value=0.35, continuous_update=False, description='thresh', max=1.0, step=0.0…"
      ]
     },
     "metadata": {},
     "output_type": "display_data"
    },
    {
     "name": "stdout",
     "output_type": "stream",
     "text": [
      "Flesh\n"
     ]
    },
    {
     "data": {
      "application/vnd.jupyter.widget-view+json": {
       "model_id": "37ded098e8c641b9b8a9b3116a102844",
       "version_major": 2,
       "version_minor": 0
      },
      "text/plain": [
       "interactive(children=(FloatSlider(value=0.35, continuous_update=False, description='thresh', max=1.0, step=0.0…"
      ]
     },
     "metadata": {},
     "output_type": "display_data"
    },
    {
     "name": "stdout",
     "output_type": "stream",
     "text": [
      "Stretcher\n"
     ]
    },
    {
     "data": {
      "application/vnd.jupyter.widget-view+json": {
       "model_id": "f7459fd9db7f4c6893857ca36b104c85",
       "version_major": 2,
       "version_minor": 0
      },
      "text/plain": [
       "interactive(children=(FloatSlider(value=0.35, continuous_update=False, description='thresh', max=1.0, step=0.0…"
      ]
     },
     "metadata": {},
     "output_type": "display_data"
    },
    {
     "name": "stdout",
     "output_type": "stream",
     "text": [
      "Helicopter\n"
     ]
    },
    {
     "data": {
      "application/vnd.jupyter.widget-view+json": {
       "model_id": "0545905a977547f7adf6900d2b79b9ad",
       "version_major": 2,
       "version_minor": 0
      },
      "text/plain": [
       "interactive(children=(FloatSlider(value=0.35, continuous_update=False, description='thresh', max=1.0, step=0.0…"
      ]
     },
     "metadata": {},
     "output_type": "display_data"
    },
    {
     "name": "stdout",
     "output_type": "stream",
     "text": [
      "Military vehicle\n"
     ]
    },
    {
     "data": {
      "application/vnd.jupyter.widget-view+json": {
       "model_id": "33c6b6da71d04660bc38d1725291af6d",
       "version_major": 2,
       "version_minor": 0
      },
      "text/plain": [
       "interactive(children=(FloatSlider(value=0.35, continuous_update=False, description='thresh', max=1.0, step=0.0…"
      ]
     },
     "metadata": {},
     "output_type": "display_data"
    },
    {
     "name": "stdout",
     "output_type": "stream",
     "text": [
      "Security\n"
     ]
    },
    {
     "data": {
      "application/vnd.jupyter.widget-view+json": {
       "model_id": "fdf57422d5f84172871abff13e79a0a9",
       "version_major": 2,
       "version_minor": 0
      },
      "text/plain": [
       "interactive(children=(FloatSlider(value=0.35, continuous_update=False, description='thresh', max=1.0, step=0.0…"
      ]
     },
     "metadata": {},
     "output_type": "display_data"
    },
    {
     "name": "stdout",
     "output_type": "stream",
     "text": [
      "Bomb\n"
     ]
    },
    {
     "data": {
      "application/vnd.jupyter.widget-view+json": {
       "model_id": "af7ac2fdfe884bec87de88304f3211f6",
       "version_major": 2,
       "version_minor": 0
      },
      "text/plain": [
       "interactive(children=(FloatSlider(value=0.35, continuous_update=False, description='thresh', max=1.0, step=0.0…"
      ]
     },
     "metadata": {},
     "output_type": "display_data"
    },
    {
     "name": "stdout",
     "output_type": "stream",
     "text": [
      "Protest\n"
     ]
    },
    {
     "data": {
      "application/vnd.jupyter.widget-view+json": {
       "model_id": "a10da553e1b44328947d17546b06d192",
       "version_major": 2,
       "version_minor": 0
      },
      "text/plain": [
       "interactive(children=(FloatSlider(value=0.35, continuous_update=False, description='thresh', max=1.0, step=0.0…"
      ]
     },
     "metadata": {},
     "output_type": "display_data"
    },
    {
     "name": "stdout",
     "output_type": "stream",
     "text": [
      "Rocket\n"
     ]
    },
    {
     "data": {
      "application/vnd.jupyter.widget-view+json": {
       "model_id": "a6eb3caf7e8e4b7b8c609590fba3c1c2",
       "version_major": 2,
       "version_minor": 0
      },
      "text/plain": [
       "interactive(children=(FloatSlider(value=0.35, continuous_update=False, description='thresh', max=1.0, step=0.0…"
      ]
     },
     "metadata": {},
     "output_type": "display_data"
    },
    {
     "name": "stdout",
     "output_type": "stream",
     "text": [
      "Fire extinguisher\n"
     ]
    },
    {
     "data": {
      "application/vnd.jupyter.widget-view+json": {
       "model_id": "e562cc0ef30c4bb3824ea591b6861d25",
       "version_major": 2,
       "version_minor": 0
      },
      "text/plain": [
       "interactive(children=(FloatSlider(value=0.35, continuous_update=False, description='thresh', max=1.0, step=0.0…"
      ]
     },
     "metadata": {},
     "output_type": "display_data"
    },
    {
     "name": "stdout",
     "output_type": "stream",
     "text": [
      "Knife\n"
     ]
    },
    {
     "data": {
      "application/vnd.jupyter.widget-view+json": {
       "model_id": "1ca7146e0154400083697d6e08cd747d",
       "version_major": 2,
       "version_minor": 0
      },
      "text/plain": [
       "interactive(children=(FloatSlider(value=0.35, continuous_update=False, description='thresh', max=1.0, step=0.0…"
      ]
     },
     "metadata": {},
     "output_type": "display_data"
    },
    {
     "name": "stdout",
     "output_type": "stream",
     "text": [
      "Missile\n"
     ]
    },
    {
     "data": {
      "application/vnd.jupyter.widget-view+json": {
       "model_id": "60a42b54cba9440785f303fde6ce582d",
       "version_major": 2,
       "version_minor": 0
      },
      "text/plain": [
       "interactive(children=(FloatSlider(value=0.35, continuous_update=False, description='thresh', max=1.0, step=0.0…"
      ]
     },
     "metadata": {},
     "output_type": "display_data"
    },
    {
     "name": "stdout",
     "output_type": "stream",
     "text": [
      "Combat vehicle\n"
     ]
    },
    {
     "data": {
      "application/vnd.jupyter.widget-view+json": {
       "model_id": "a2d8a1fe1a2c4562adfe5cd15d517a37",
       "version_major": 2,
       "version_minor": 0
      },
      "text/plain": [
       "interactive(children=(FloatSlider(value=0.35, continuous_update=False, description='thresh', max=1.0, step=0.0…"
      ]
     },
     "metadata": {},
     "output_type": "display_data"
    },
    {
     "name": "stdout",
     "output_type": "stream",
     "text": [
      "Watercraft\n"
     ]
    },
    {
     "data": {
      "application/vnd.jupyter.widget-view+json": {
       "model_id": "293241f1bb51428c86895fa731b17f38",
       "version_major": 2,
       "version_minor": 0
      },
      "text/plain": [
       "interactive(children=(FloatSlider(value=0.35, continuous_update=False, description='thresh', max=1.0, step=0.0…"
      ]
     },
     "metadata": {},
     "output_type": "display_data"
    },
    {
     "name": "stdout",
     "output_type": "stream",
     "text": [
      "Shotgun\n"
     ]
    },
    {
     "data": {
      "application/vnd.jupyter.widget-view+json": {
       "model_id": "b0d5605a740d4380b0b8169c5b7cfe2c",
       "version_major": 2,
       "version_minor": 0
      },
      "text/plain": [
       "interactive(children=(FloatSlider(value=0.35, continuous_update=False, description='thresh', max=1.0, step=0.0…"
      ]
     },
     "metadata": {},
     "output_type": "display_data"
    },
    {
     "name": "stdout",
     "output_type": "stream",
     "text": [
      "Machine gun\n"
     ]
    },
    {
     "data": {
      "application/vnd.jupyter.widget-view+json": {
       "model_id": "944fda1dea3e485fafce8fc7d2b259b3",
       "version_major": 2,
       "version_minor": 0
      },
      "text/plain": [
       "interactive(children=(FloatSlider(value=0.35, continuous_update=False, description='thresh', max=1.0, step=0.0…"
      ]
     },
     "metadata": {},
     "output_type": "display_data"
    },
    {
     "name": "stdout",
     "output_type": "stream",
     "text": [
      "Airliner\n"
     ]
    },
    {
     "data": {
      "application/vnd.jupyter.widget-view+json": {
       "model_id": "d053030aaf3049a7b28fad8fba3a966e",
       "version_major": 2,
       "version_minor": 0
      },
      "text/plain": [
       "interactive(children=(FloatSlider(value=0.35, continuous_update=False, description='thresh', max=1.0, step=0.0…"
      ]
     },
     "metadata": {},
     "output_type": "display_data"
    },
    {
     "name": "stdout",
     "output_type": "stream",
     "text": [
      "Limousine\n"
     ]
    },
    {
     "data": {
      "application/vnd.jupyter.widget-view+json": {
       "model_id": "72668f1dd7d64fe7899b8ad1d562b8e6",
       "version_major": 2,
       "version_minor": 0
      },
      "text/plain": [
       "interactive(children=(FloatSlider(value=0.35, continuous_update=False, description='thresh', max=1.0, step=0.0…"
      ]
     },
     "metadata": {},
     "output_type": "display_data"
    },
    {
     "name": "stdout",
     "output_type": "stream",
     "text": [
      "Harbor\n"
     ]
    },
    {
     "data": {
      "application/vnd.jupyter.widget-view+json": {
       "model_id": "8112385ca0da489bbe110a5bfeaa1be0",
       "version_major": 2,
       "version_minor": 0
      },
      "text/plain": [
       "interactive(children=(FloatSlider(value=0.35, continuous_update=False, description='thresh', max=1.0, step=0.0…"
      ]
     },
     "metadata": {},
     "output_type": "display_data"
    },
    {
     "name": "stdout",
     "output_type": "stream",
     "text": [
      "Troop\n"
     ]
    },
    {
     "data": {
      "application/vnd.jupyter.widget-view+json": {
       "model_id": "b2a39f8e40ec41a7bd418537b850606f",
       "version_major": 2,
       "version_minor": 0
      },
      "text/plain": [
       "interactive(children=(FloatSlider(value=0.35, continuous_update=False, description='thresh', max=1.0, step=0.0…"
      ]
     },
     "metadata": {},
     "output_type": "display_data"
    },
    {
     "name": "stdout",
     "output_type": "stream",
     "text": [
      "Binoculars\n"
     ]
    },
    {
     "data": {
      "application/vnd.jupyter.widget-view+json": {
       "model_id": "d3d64b779a644aa1bb936beec1c30185",
       "version_major": 2,
       "version_minor": 0
      },
      "text/plain": [
       "interactive(children=(FloatSlider(value=0.35, continuous_update=False, description='thresh', max=1.0, step=0.0…"
      ]
     },
     "metadata": {},
     "output_type": "display_data"
    },
    {
     "name": "stdout",
     "output_type": "stream",
     "text": [
      "Ambulance\n"
     ]
    },
    {
     "data": {
      "application/vnd.jupyter.widget-view+json": {
       "model_id": "bcd975954dbf4fe7b8ef4e730b9ad03f",
       "version_major": 2,
       "version_minor": 0
      },
      "text/plain": [
       "interactive(children=(FloatSlider(value=0.35, continuous_update=False, description='thresh', max=1.0, step=0.0…"
      ]
     },
     "metadata": {},
     "output_type": "display_data"
    },
    {
     "name": "stdout",
     "output_type": "stream",
     "text": [
      "Assault rifle\n"
     ]
    },
    {
     "data": {
      "application/vnd.jupyter.widget-view+json": {
       "model_id": "bc98bdd2c1a542c3853181719760a321",
       "version_major": 2,
       "version_minor": 0
      },
      "text/plain": [
       "interactive(children=(FloatSlider(value=0.35, continuous_update=False, description='thresh', max=1.0, step=0.0…"
      ]
     },
     "metadata": {},
     "output_type": "display_data"
    },
    {
     "name": "stdout",
     "output_type": "stream",
     "text": [
      "Logo\n"
     ]
    },
    {
     "data": {
      "application/vnd.jupyter.widget-view+json": {
       "model_id": "78eeb29d50dc43d380224c24c3551c86",
       "version_major": 2,
       "version_minor": 0
      },
      "text/plain": [
       "interactive(children=(FloatSlider(value=0.35, continuous_update=False, description='thresh', max=1.0, step=0.0…"
      ]
     },
     "metadata": {},
     "output_type": "display_data"
    }
   ],
   "source": [
    "for label in select_labels:\n",
    "    if len(label_to_img[label]) == 0:\n",
    "        continue\n",
    "    print(mid2name_all[label])\n",
    "    imgid = np.random.choice(label_to_img[label])\n",
    "    w = interactive(show, \n",
    "        thresh=widgets.FloatSlider(min=0.0, max=1.0, step=0.01, value=0.35, continuous_update=False), \n",
    "        imgid=fixed(imgid)\n",
    "    )\n",
    "    w.children[-1].layout.height = '600px'\n",
    "    display(w)"
   ]
  },
  {
   "cell_type": "code",
   "execution_count": null,
   "metadata": {},
   "outputs": [],
   "source": []
  },
  {
   "cell_type": "code",
   "execution_count": 22,
   "metadata": {
    "scrolled": false
   },
   "outputs": [
    {
     "name": "stdout",
     "output_type": "stream",
     "text": [
      "Waste\n"
     ]
    },
    {
     "data": {
      "application/vnd.jupyter.widget-view+json": {
       "model_id": "30378551e1604705b0bb6a1121b0782b",
       "version_major": 2,
       "version_minor": 0
      },
      "text/plain": [
       "interactive(children=(FloatSlider(value=0.35, continuous_update=False, description='thresh', max=1.0, step=0.0…"
      ]
     },
     "metadata": {},
     "output_type": "display_data"
    },
    {
     "name": "stdout",
     "output_type": "stream",
     "text": [
      "Boat\n"
     ]
    },
    {
     "data": {
      "application/vnd.jupyter.widget-view+json": {
       "model_id": "1fe44ed4b2cf488ba25d031cf49ff080",
       "version_major": 2,
       "version_minor": 0
      },
      "text/plain": [
       "interactive(children=(FloatSlider(value=0.35, continuous_update=False, description='thresh', max=1.0, step=0.0…"
      ]
     },
     "metadata": {},
     "output_type": "display_data"
    },
    {
     "name": "stdout",
     "output_type": "stream",
     "text": [
      "Flag\n"
     ]
    },
    {
     "data": {
      "application/vnd.jupyter.widget-view+json": {
       "model_id": "49d669cdb4cb4a3ea9520a63c6160bbe",
       "version_major": 2,
       "version_minor": 0
      },
      "text/plain": [
       "interactive(children=(FloatSlider(value=0.35, continuous_update=False, description='thresh', max=1.0, step=0.0…"
      ]
     },
     "metadata": {},
     "output_type": "display_data"
    },
    {
     "name": "stdout",
     "output_type": "stream",
     "text": [
      "Fire\n"
     ]
    },
    {
     "data": {
      "application/vnd.jupyter.widget-view+json": {
       "model_id": "043434830be64f83963acc50b9909949",
       "version_major": 2,
       "version_minor": 0
      },
      "text/plain": [
       "interactive(children=(FloatSlider(value=0.35, continuous_update=False, description='thresh', max=1.0, step=0.0…"
      ]
     },
     "metadata": {},
     "output_type": "display_data"
    },
    {
     "name": "stdout",
     "output_type": "stream",
     "text": [
      "Tank\n"
     ]
    },
    {
     "data": {
      "application/vnd.jupyter.widget-view+json": {
       "model_id": "70407b7e9f844077a1e5f529d4241930",
       "version_major": 2,
       "version_minor": 0
      },
      "text/plain": [
       "interactive(children=(FloatSlider(value=0.35, continuous_update=False, description='thresh', max=1.0, step=0.0…"
      ]
     },
     "metadata": {},
     "output_type": "display_data"
    },
    {
     "name": "stdout",
     "output_type": "stream",
     "text": [
      "Smoke\n"
     ]
    },
    {
     "data": {
      "application/vnd.jupyter.widget-view+json": {
       "model_id": "ac81203f76e84e30844f176f0980810f",
       "version_major": 2,
       "version_minor": 0
      },
      "text/plain": [
       "interactive(children=(FloatSlider(value=0.35, continuous_update=False, description='thresh', max=1.0, step=0.0…"
      ]
     },
     "metadata": {},
     "output_type": "display_data"
    },
    {
     "name": "stdout",
     "output_type": "stream",
     "text": [
      "Crowd\n"
     ]
    },
    {
     "data": {
      "application/vnd.jupyter.widget-view+json": {
       "model_id": "22aa051e71604ee08eab4df33141b7ce",
       "version_major": 2,
       "version_minor": 0
      },
      "text/plain": [
       "interactive(children=(FloatSlider(value=0.35, continuous_update=False, description='thresh', max=1.0, step=0.0…"
      ]
     },
     "metadata": {},
     "output_type": "display_data"
    },
    {
     "name": "stdout",
     "output_type": "stream",
     "text": [
      "Speech\n"
     ]
    },
    {
     "data": {
      "application/vnd.jupyter.widget-view+json": {
       "model_id": "dd522799f2394b9bb185fbe214a73520",
       "version_major": 2,
       "version_minor": 0
      },
      "text/plain": [
       "interactive(children=(FloatSlider(value=0.35, continuous_update=False, description='thresh', max=1.0, step=0.0…"
      ]
     },
     "metadata": {},
     "output_type": "display_data"
    },
    {
     "name": "stdout",
     "output_type": "stream",
     "text": [
      "Medical equipment\n"
     ]
    },
    {
     "data": {
      "application/vnd.jupyter.widget-view+json": {
       "model_id": "c928e12b4c86412dbd48ed19133f757c",
       "version_major": 2,
       "version_minor": 0
      },
      "text/plain": [
       "interactive(children=(FloatSlider(value=0.35, continuous_update=False, description='thresh', max=1.0, step=0.0…"
      ]
     },
     "metadata": {},
     "output_type": "display_data"
    },
    {
     "name": "stdout",
     "output_type": "stream",
     "text": [
      "Rubble\n"
     ]
    },
    {
     "data": {
      "application/vnd.jupyter.widget-view+json": {
       "model_id": "bd94ef603a0c4a6a9fe08c98c355c0c6",
       "version_major": 2,
       "version_minor": 0
      },
      "text/plain": [
       "interactive(children=(FloatSlider(value=0.35, continuous_update=False, description='thresh', max=1.0, step=0.0…"
      ]
     },
     "metadata": {},
     "output_type": "display_data"
    },
    {
     "name": "stdout",
     "output_type": "stream",
     "text": [
      "Firefighter\n"
     ]
    },
    {
     "data": {
      "application/vnd.jupyter.widget-view+json": {
       "model_id": "01fa436577ec45b4a23fea952c504f30",
       "version_major": 2,
       "version_minor": 0
      },
      "text/plain": [
       "interactive(children=(FloatSlider(value=0.35, continuous_update=False, description='thresh', max=1.0, step=0.0…"
      ]
     },
     "metadata": {},
     "output_type": "display_data"
    },
    {
     "name": "stdout",
     "output_type": "stream",
     "text": [
      "Flesh\n"
     ]
    },
    {
     "data": {
      "application/vnd.jupyter.widget-view+json": {
       "model_id": "ca34e08494a7409abd8770c968b66a35",
       "version_major": 2,
       "version_minor": 0
      },
      "text/plain": [
       "interactive(children=(FloatSlider(value=0.35, continuous_update=False, description='thresh', max=1.0, step=0.0…"
      ]
     },
     "metadata": {},
     "output_type": "display_data"
    },
    {
     "name": "stdout",
     "output_type": "stream",
     "text": [
      "Stretcher\n"
     ]
    },
    {
     "data": {
      "application/vnd.jupyter.widget-view+json": {
       "model_id": "fdd44bb671c0447babbfbd246377a24b",
       "version_major": 2,
       "version_minor": 0
      },
      "text/plain": [
       "interactive(children=(FloatSlider(value=0.35, continuous_update=False, description='thresh', max=1.0, step=0.0…"
      ]
     },
     "metadata": {},
     "output_type": "display_data"
    },
    {
     "name": "stdout",
     "output_type": "stream",
     "text": [
      "Helicopter\n"
     ]
    },
    {
     "data": {
      "application/vnd.jupyter.widget-view+json": {
       "model_id": "a69c9ed2c3e8490a938689afe1da5aff",
       "version_major": 2,
       "version_minor": 0
      },
      "text/plain": [
       "interactive(children=(FloatSlider(value=0.35, continuous_update=False, description='thresh', max=1.0, step=0.0…"
      ]
     },
     "metadata": {},
     "output_type": "display_data"
    },
    {
     "name": "stdout",
     "output_type": "stream",
     "text": [
      "Military vehicle\n"
     ]
    },
    {
     "data": {
      "application/vnd.jupyter.widget-view+json": {
       "model_id": "46dee0887d0446dca512a18a38b51fed",
       "version_major": 2,
       "version_minor": 0
      },
      "text/plain": [
       "interactive(children=(FloatSlider(value=0.35, continuous_update=False, description='thresh', max=1.0, step=0.0…"
      ]
     },
     "metadata": {},
     "output_type": "display_data"
    },
    {
     "name": "stdout",
     "output_type": "stream",
     "text": [
      "Security\n"
     ]
    },
    {
     "data": {
      "application/vnd.jupyter.widget-view+json": {
       "model_id": "f58127b935174ea78a6327f044cfedb2",
       "version_major": 2,
       "version_minor": 0
      },
      "text/plain": [
       "interactive(children=(FloatSlider(value=0.35, continuous_update=False, description='thresh', max=1.0, step=0.0…"
      ]
     },
     "metadata": {},
     "output_type": "display_data"
    },
    {
     "name": "stdout",
     "output_type": "stream",
     "text": [
      "Bomb\n"
     ]
    },
    {
     "data": {
      "application/vnd.jupyter.widget-view+json": {
       "model_id": "b25c6315a2c94e12b3d75ede7b31ea87",
       "version_major": 2,
       "version_minor": 0
      },
      "text/plain": [
       "interactive(children=(FloatSlider(value=0.35, continuous_update=False, description='thresh', max=1.0, step=0.0…"
      ]
     },
     "metadata": {},
     "output_type": "display_data"
    },
    {
     "name": "stdout",
     "output_type": "stream",
     "text": [
      "Protest\n"
     ]
    },
    {
     "data": {
      "application/vnd.jupyter.widget-view+json": {
       "model_id": "23e91ef5251d418083c729ce0867312b",
       "version_major": 2,
       "version_minor": 0
      },
      "text/plain": [
       "interactive(children=(FloatSlider(value=0.35, continuous_update=False, description='thresh', max=1.0, step=0.0…"
      ]
     },
     "metadata": {},
     "output_type": "display_data"
    },
    {
     "name": "stdout",
     "output_type": "stream",
     "text": [
      "Rocket\n"
     ]
    },
    {
     "data": {
      "application/vnd.jupyter.widget-view+json": {
       "model_id": "6a1ca2ebd54148339f261c014bdac592",
       "version_major": 2,
       "version_minor": 0
      },
      "text/plain": [
       "interactive(children=(FloatSlider(value=0.35, continuous_update=False, description='thresh', max=1.0, step=0.0…"
      ]
     },
     "metadata": {},
     "output_type": "display_data"
    },
    {
     "name": "stdout",
     "output_type": "stream",
     "text": [
      "Fire extinguisher\n"
     ]
    },
    {
     "data": {
      "application/vnd.jupyter.widget-view+json": {
       "model_id": "1077c935adb144b2a64e78fd6247e357",
       "version_major": 2,
       "version_minor": 0
      },
      "text/plain": [
       "interactive(children=(FloatSlider(value=0.35, continuous_update=False, description='thresh', max=1.0, step=0.0…"
      ]
     },
     "metadata": {},
     "output_type": "display_data"
    },
    {
     "name": "stdout",
     "output_type": "stream",
     "text": [
      "Knife\n"
     ]
    },
    {
     "data": {
      "application/vnd.jupyter.widget-view+json": {
       "model_id": "9674d0cc82dc41d9afb9ef7758b2529c",
       "version_major": 2,
       "version_minor": 0
      },
      "text/plain": [
       "interactive(children=(FloatSlider(value=0.35, continuous_update=False, description='thresh', max=1.0, step=0.0…"
      ]
     },
     "metadata": {},
     "output_type": "display_data"
    },
    {
     "name": "stdout",
     "output_type": "stream",
     "text": [
      "Missile\n"
     ]
    },
    {
     "data": {
      "application/vnd.jupyter.widget-view+json": {
       "model_id": "6279991364b64b69901cdc058a3d4809",
       "version_major": 2,
       "version_minor": 0
      },
      "text/plain": [
       "interactive(children=(FloatSlider(value=0.35, continuous_update=False, description='thresh', max=1.0, step=0.0…"
      ]
     },
     "metadata": {},
     "output_type": "display_data"
    },
    {
     "name": "stdout",
     "output_type": "stream",
     "text": [
      "Combat vehicle\n"
     ]
    },
    {
     "data": {
      "application/vnd.jupyter.widget-view+json": {
       "model_id": "1a4faf2cff1249818e5e1057091fd607",
       "version_major": 2,
       "version_minor": 0
      },
      "text/plain": [
       "interactive(children=(FloatSlider(value=0.35, continuous_update=False, description='thresh', max=1.0, step=0.0…"
      ]
     },
     "metadata": {},
     "output_type": "display_data"
    },
    {
     "name": "stdout",
     "output_type": "stream",
     "text": [
      "Watercraft\n"
     ]
    },
    {
     "data": {
      "application/vnd.jupyter.widget-view+json": {
       "model_id": "cabd9d69ca0f48159fb0adc32f4de66a",
       "version_major": 2,
       "version_minor": 0
      },
      "text/plain": [
       "interactive(children=(FloatSlider(value=0.35, continuous_update=False, description='thresh', max=1.0, step=0.0…"
      ]
     },
     "metadata": {},
     "output_type": "display_data"
    },
    {
     "name": "stdout",
     "output_type": "stream",
     "text": [
      "Shotgun\n"
     ]
    },
    {
     "data": {
      "application/vnd.jupyter.widget-view+json": {
       "model_id": "9b5c65e8c6f7412abee3979696658f43",
       "version_major": 2,
       "version_minor": 0
      },
      "text/plain": [
       "interactive(children=(FloatSlider(value=0.35, continuous_update=False, description='thresh', max=1.0, step=0.0…"
      ]
     },
     "metadata": {},
     "output_type": "display_data"
    },
    {
     "name": "stdout",
     "output_type": "stream",
     "text": [
      "Machine gun\n"
     ]
    },
    {
     "data": {
      "application/vnd.jupyter.widget-view+json": {
       "model_id": "32f7538ac3e84e4c8b7b859846a8ad3b",
       "version_major": 2,
       "version_minor": 0
      },
      "text/plain": [
       "interactive(children=(FloatSlider(value=0.35, continuous_update=False, description='thresh', max=1.0, step=0.0…"
      ]
     },
     "metadata": {},
     "output_type": "display_data"
    },
    {
     "name": "stdout",
     "output_type": "stream",
     "text": [
      "Airliner\n"
     ]
    },
    {
     "data": {
      "application/vnd.jupyter.widget-view+json": {
       "model_id": "ee9ea582f26a4bf7af03b4596d9586d8",
       "version_major": 2,
       "version_minor": 0
      },
      "text/plain": [
       "interactive(children=(FloatSlider(value=0.35, continuous_update=False, description='thresh', max=1.0, step=0.0…"
      ]
     },
     "metadata": {},
     "output_type": "display_data"
    },
    {
     "name": "stdout",
     "output_type": "stream",
     "text": [
      "Limousine\n"
     ]
    },
    {
     "data": {
      "application/vnd.jupyter.widget-view+json": {
       "model_id": "e66e4d4bd0b14cd68ba83663a4393f83",
       "version_major": 2,
       "version_minor": 0
      },
      "text/plain": [
       "interactive(children=(FloatSlider(value=0.35, continuous_update=False, description='thresh', max=1.0, step=0.0…"
      ]
     },
     "metadata": {},
     "output_type": "display_data"
    },
    {
     "name": "stdout",
     "output_type": "stream",
     "text": [
      "Harbor\n"
     ]
    },
    {
     "data": {
      "application/vnd.jupyter.widget-view+json": {
       "model_id": "7c4b52947a474a80803a96731c23da21",
       "version_major": 2,
       "version_minor": 0
      },
      "text/plain": [
       "interactive(children=(FloatSlider(value=0.35, continuous_update=False, description='thresh', max=1.0, step=0.0…"
      ]
     },
     "metadata": {},
     "output_type": "display_data"
    },
    {
     "name": "stdout",
     "output_type": "stream",
     "text": [
      "Troop\n"
     ]
    },
    {
     "data": {
      "application/vnd.jupyter.widget-view+json": {
       "model_id": "042c48e8d45c48629cffa739e156fbee",
       "version_major": 2,
       "version_minor": 0
      },
      "text/plain": [
       "interactive(children=(FloatSlider(value=0.35, continuous_update=False, description='thresh', max=1.0, step=0.0…"
      ]
     },
     "metadata": {},
     "output_type": "display_data"
    },
    {
     "name": "stdout",
     "output_type": "stream",
     "text": [
      "Binoculars\n"
     ]
    },
    {
     "data": {
      "application/vnd.jupyter.widget-view+json": {
       "model_id": "148d80437bc34c59b5b94e39749f1b11",
       "version_major": 2,
       "version_minor": 0
      },
      "text/plain": [
       "interactive(children=(FloatSlider(value=0.35, continuous_update=False, description='thresh', max=1.0, step=0.0…"
      ]
     },
     "metadata": {},
     "output_type": "display_data"
    },
    {
     "name": "stdout",
     "output_type": "stream",
     "text": [
      "Ambulance\n"
     ]
    },
    {
     "data": {
      "application/vnd.jupyter.widget-view+json": {
       "model_id": "dbf19057f91949439a2fdbfb2b012cd2",
       "version_major": 2,
       "version_minor": 0
      },
      "text/plain": [
       "interactive(children=(FloatSlider(value=0.35, continuous_update=False, description='thresh', max=1.0, step=0.0…"
      ]
     },
     "metadata": {},
     "output_type": "display_data"
    },
    {
     "name": "stdout",
     "output_type": "stream",
     "text": [
      "Assault rifle\n"
     ]
    },
    {
     "data": {
      "application/vnd.jupyter.widget-view+json": {
       "model_id": "9d0f75ed4d154b9c97bc8167c64f5ffc",
       "version_major": 2,
       "version_minor": 0
      },
      "text/plain": [
       "interactive(children=(FloatSlider(value=0.35, continuous_update=False, description='thresh', max=1.0, step=0.0…"
      ]
     },
     "metadata": {},
     "output_type": "display_data"
    },
    {
     "name": "stdout",
     "output_type": "stream",
     "text": [
      "Logo\n"
     ]
    },
    {
     "data": {
      "application/vnd.jupyter.widget-view+json": {
       "model_id": "f28b441f4ce1459da7b975868563ffca",
       "version_major": 2,
       "version_minor": 0
      },
      "text/plain": [
       "interactive(children=(FloatSlider(value=0.35, continuous_update=False, description='thresh', max=1.0, step=0.0…"
      ]
     },
     "metadata": {},
     "output_type": "display_data"
    }
   ],
   "source": [
    "for label in select_labels:\n",
    "    if len(label_to_img[label]) == 0:\n",
    "        continue\n",
    "    print(mid2name_all[label])\n",
    "    imgid = np.random.choice(label_to_img[label])\n",
    "    w = interactive(show, \n",
    "        thresh=widgets.FloatSlider(min=0.0, max=1.0, step=0.01, value=0.35, continuous_update=False), \n",
    "        imgid=fixed(imgid)\n",
    "    )\n",
    "    w.children[-1].layout.height = '600px'\n",
    "    display(w)"
   ]
  },
  {
   "cell_type": "code",
   "execution_count": null,
   "metadata": {},
   "outputs": [],
   "source": []
  },
  {
   "cell_type": "code",
   "execution_count": 23,
   "metadata": {
    "scrolled": false
   },
   "outputs": [
    {
     "name": "stdout",
     "output_type": "stream",
     "text": [
      "Waste\n"
     ]
    },
    {
     "data": {
      "application/vnd.jupyter.widget-view+json": {
       "model_id": "576a88ac8153499093ad5334935f87fe",
       "version_major": 2,
       "version_minor": 0
      },
      "text/plain": [
       "interactive(children=(FloatSlider(value=0.35, continuous_update=False, description='thresh', max=1.0, step=0.0…"
      ]
     },
     "metadata": {},
     "output_type": "display_data"
    },
    {
     "name": "stdout",
     "output_type": "stream",
     "text": [
      "Boat\n"
     ]
    },
    {
     "data": {
      "application/vnd.jupyter.widget-view+json": {
       "model_id": "6b76d6266dca432f8b829c42cf1b298a",
       "version_major": 2,
       "version_minor": 0
      },
      "text/plain": [
       "interactive(children=(FloatSlider(value=0.35, continuous_update=False, description='thresh', max=1.0, step=0.0…"
      ]
     },
     "metadata": {},
     "output_type": "display_data"
    },
    {
     "name": "stdout",
     "output_type": "stream",
     "text": [
      "Flag\n"
     ]
    },
    {
     "data": {
      "application/vnd.jupyter.widget-view+json": {
       "model_id": "4a7a165385f345d4acf6d1c8cb8c9f9f",
       "version_major": 2,
       "version_minor": 0
      },
      "text/plain": [
       "interactive(children=(FloatSlider(value=0.35, continuous_update=False, description='thresh', max=1.0, step=0.0…"
      ]
     },
     "metadata": {},
     "output_type": "display_data"
    },
    {
     "name": "stdout",
     "output_type": "stream",
     "text": [
      "Fire\n"
     ]
    },
    {
     "data": {
      "application/vnd.jupyter.widget-view+json": {
       "model_id": "c964d9dedb8a4bc5973c21a56a8a29d3",
       "version_major": 2,
       "version_minor": 0
      },
      "text/plain": [
       "interactive(children=(FloatSlider(value=0.35, continuous_update=False, description='thresh', max=1.0, step=0.0…"
      ]
     },
     "metadata": {},
     "output_type": "display_data"
    },
    {
     "name": "stdout",
     "output_type": "stream",
     "text": [
      "Tank\n"
     ]
    },
    {
     "data": {
      "application/vnd.jupyter.widget-view+json": {
       "model_id": "551a4793b78743e686c2bcaf54dd9dcf",
       "version_major": 2,
       "version_minor": 0
      },
      "text/plain": [
       "interactive(children=(FloatSlider(value=0.35, continuous_update=False, description='thresh', max=1.0, step=0.0…"
      ]
     },
     "metadata": {},
     "output_type": "display_data"
    },
    {
     "name": "stdout",
     "output_type": "stream",
     "text": [
      "Smoke\n"
     ]
    },
    {
     "data": {
      "application/vnd.jupyter.widget-view+json": {
       "model_id": "7bbda496a18c4557acb2abe69f5d074e",
       "version_major": 2,
       "version_minor": 0
      },
      "text/plain": [
       "interactive(children=(FloatSlider(value=0.35, continuous_update=False, description='thresh', max=1.0, step=0.0…"
      ]
     },
     "metadata": {},
     "output_type": "display_data"
    },
    {
     "name": "stdout",
     "output_type": "stream",
     "text": [
      "Crowd\n"
     ]
    },
    {
     "data": {
      "application/vnd.jupyter.widget-view+json": {
       "model_id": "80354c43ed584d7cb0e16fbf4aa4eefa",
       "version_major": 2,
       "version_minor": 0
      },
      "text/plain": [
       "interactive(children=(FloatSlider(value=0.35, continuous_update=False, description='thresh', max=1.0, step=0.0…"
      ]
     },
     "metadata": {},
     "output_type": "display_data"
    },
    {
     "name": "stdout",
     "output_type": "stream",
     "text": [
      "Speech\n"
     ]
    },
    {
     "data": {
      "application/vnd.jupyter.widget-view+json": {
       "model_id": "df2c088b11c440d68c4087741c3ece79",
       "version_major": 2,
       "version_minor": 0
      },
      "text/plain": [
       "interactive(children=(FloatSlider(value=0.35, continuous_update=False, description='thresh', max=1.0, step=0.0…"
      ]
     },
     "metadata": {},
     "output_type": "display_data"
    },
    {
     "name": "stdout",
     "output_type": "stream",
     "text": [
      "Medical equipment\n"
     ]
    },
    {
     "data": {
      "application/vnd.jupyter.widget-view+json": {
       "model_id": "3474a845e9104a58b7c35e0191260ac4",
       "version_major": 2,
       "version_minor": 0
      },
      "text/plain": [
       "interactive(children=(FloatSlider(value=0.35, continuous_update=False, description='thresh', max=1.0, step=0.0…"
      ]
     },
     "metadata": {},
     "output_type": "display_data"
    },
    {
     "name": "stdout",
     "output_type": "stream",
     "text": [
      "Rubble\n"
     ]
    },
    {
     "data": {
      "application/vnd.jupyter.widget-view+json": {
       "model_id": "c426e6391914415ba76a1f88909c52dd",
       "version_major": 2,
       "version_minor": 0
      },
      "text/plain": [
       "interactive(children=(FloatSlider(value=0.35, continuous_update=False, description='thresh', max=1.0, step=0.0…"
      ]
     },
     "metadata": {},
     "output_type": "display_data"
    },
    {
     "name": "stdout",
     "output_type": "stream",
     "text": [
      "Firefighter\n"
     ]
    },
    {
     "data": {
      "application/vnd.jupyter.widget-view+json": {
       "model_id": "d3bf64170adc42489238f20116e2ec19",
       "version_major": 2,
       "version_minor": 0
      },
      "text/plain": [
       "interactive(children=(FloatSlider(value=0.35, continuous_update=False, description='thresh', max=1.0, step=0.0…"
      ]
     },
     "metadata": {},
     "output_type": "display_data"
    },
    {
     "name": "stdout",
     "output_type": "stream",
     "text": [
      "Flesh\n"
     ]
    },
    {
     "data": {
      "application/vnd.jupyter.widget-view+json": {
       "model_id": "43f7bf29666e41eea20bb8432a6e3f01",
       "version_major": 2,
       "version_minor": 0
      },
      "text/plain": [
       "interactive(children=(FloatSlider(value=0.35, continuous_update=False, description='thresh', max=1.0, step=0.0…"
      ]
     },
     "metadata": {},
     "output_type": "display_data"
    },
    {
     "name": "stdout",
     "output_type": "stream",
     "text": [
      "Stretcher\n"
     ]
    },
    {
     "data": {
      "application/vnd.jupyter.widget-view+json": {
       "model_id": "d6e7fd44751e49029fce90472e4f8552",
       "version_major": 2,
       "version_minor": 0
      },
      "text/plain": [
       "interactive(children=(FloatSlider(value=0.35, continuous_update=False, description='thresh', max=1.0, step=0.0…"
      ]
     },
     "metadata": {},
     "output_type": "display_data"
    },
    {
     "name": "stdout",
     "output_type": "stream",
     "text": [
      "Helicopter\n"
     ]
    },
    {
     "data": {
      "application/vnd.jupyter.widget-view+json": {
       "model_id": "a93074581d414ca3b9a402fa175142ea",
       "version_major": 2,
       "version_minor": 0
      },
      "text/plain": [
       "interactive(children=(FloatSlider(value=0.35, continuous_update=False, description='thresh', max=1.0, step=0.0…"
      ]
     },
     "metadata": {},
     "output_type": "display_data"
    },
    {
     "name": "stdout",
     "output_type": "stream",
     "text": [
      "Military vehicle\n"
     ]
    },
    {
     "data": {
      "application/vnd.jupyter.widget-view+json": {
       "model_id": "971ffc12fc204e79b3b8562737000ae4",
       "version_major": 2,
       "version_minor": 0
      },
      "text/plain": [
       "interactive(children=(FloatSlider(value=0.35, continuous_update=False, description='thresh', max=1.0, step=0.0…"
      ]
     },
     "metadata": {},
     "output_type": "display_data"
    },
    {
     "name": "stdout",
     "output_type": "stream",
     "text": [
      "Security\n"
     ]
    },
    {
     "data": {
      "application/vnd.jupyter.widget-view+json": {
       "model_id": "34feabec5aa744c5ae0481d60d1d1b17",
       "version_major": 2,
       "version_minor": 0
      },
      "text/plain": [
       "interactive(children=(FloatSlider(value=0.35, continuous_update=False, description='thresh', max=1.0, step=0.0…"
      ]
     },
     "metadata": {},
     "output_type": "display_data"
    },
    {
     "name": "stdout",
     "output_type": "stream",
     "text": [
      "Bomb\n"
     ]
    },
    {
     "data": {
      "application/vnd.jupyter.widget-view+json": {
       "model_id": "4377b6d724494721a7183a0457f95587",
       "version_major": 2,
       "version_minor": 0
      },
      "text/plain": [
       "interactive(children=(FloatSlider(value=0.35, continuous_update=False, description='thresh', max=1.0, step=0.0…"
      ]
     },
     "metadata": {},
     "output_type": "display_data"
    },
    {
     "name": "stdout",
     "output_type": "stream",
     "text": [
      "Protest\n"
     ]
    },
    {
     "data": {
      "application/vnd.jupyter.widget-view+json": {
       "model_id": "b24eb5c2e14d4fda957b5f71a024ea24",
       "version_major": 2,
       "version_minor": 0
      },
      "text/plain": [
       "interactive(children=(FloatSlider(value=0.35, continuous_update=False, description='thresh', max=1.0, step=0.0…"
      ]
     },
     "metadata": {},
     "output_type": "display_data"
    },
    {
     "name": "stdout",
     "output_type": "stream",
     "text": [
      "Rocket\n"
     ]
    },
    {
     "data": {
      "application/vnd.jupyter.widget-view+json": {
       "model_id": "bf8c79fc64f044219812b4a7677317ef",
       "version_major": 2,
       "version_minor": 0
      },
      "text/plain": [
       "interactive(children=(FloatSlider(value=0.35, continuous_update=False, description='thresh', max=1.0, step=0.0…"
      ]
     },
     "metadata": {},
     "output_type": "display_data"
    },
    {
     "name": "stdout",
     "output_type": "stream",
     "text": [
      "Fire extinguisher\n"
     ]
    },
    {
     "data": {
      "application/vnd.jupyter.widget-view+json": {
       "model_id": "2c9d7888a9f843a68db3f8cf65d86f5d",
       "version_major": 2,
       "version_minor": 0
      },
      "text/plain": [
       "interactive(children=(FloatSlider(value=0.35, continuous_update=False, description='thresh', max=1.0, step=0.0…"
      ]
     },
     "metadata": {},
     "output_type": "display_data"
    },
    {
     "name": "stdout",
     "output_type": "stream",
     "text": [
      "Knife\n"
     ]
    },
    {
     "data": {
      "application/vnd.jupyter.widget-view+json": {
       "model_id": "497cf1a6aae24631b812d05fb00c97e8",
       "version_major": 2,
       "version_minor": 0
      },
      "text/plain": [
       "interactive(children=(FloatSlider(value=0.35, continuous_update=False, description='thresh', max=1.0, step=0.0…"
      ]
     },
     "metadata": {},
     "output_type": "display_data"
    },
    {
     "name": "stdout",
     "output_type": "stream",
     "text": [
      "Missile\n"
     ]
    },
    {
     "data": {
      "application/vnd.jupyter.widget-view+json": {
       "model_id": "3ae3450d2e1243eea6b8e17c48a214c7",
       "version_major": 2,
       "version_minor": 0
      },
      "text/plain": [
       "interactive(children=(FloatSlider(value=0.35, continuous_update=False, description='thresh', max=1.0, step=0.0…"
      ]
     },
     "metadata": {},
     "output_type": "display_data"
    },
    {
     "name": "stdout",
     "output_type": "stream",
     "text": [
      "Combat vehicle\n"
     ]
    },
    {
     "data": {
      "application/vnd.jupyter.widget-view+json": {
       "model_id": "c7386b79e2054d0eb05ef18c3069b0b4",
       "version_major": 2,
       "version_minor": 0
      },
      "text/plain": [
       "interactive(children=(FloatSlider(value=0.35, continuous_update=False, description='thresh', max=1.0, step=0.0…"
      ]
     },
     "metadata": {},
     "output_type": "display_data"
    },
    {
     "name": "stdout",
     "output_type": "stream",
     "text": [
      "Watercraft\n"
     ]
    },
    {
     "data": {
      "application/vnd.jupyter.widget-view+json": {
       "model_id": "c961ad2abcb347a08cc2329ab3e35ad0",
       "version_major": 2,
       "version_minor": 0
      },
      "text/plain": [
       "interactive(children=(FloatSlider(value=0.35, continuous_update=False, description='thresh', max=1.0, step=0.0…"
      ]
     },
     "metadata": {},
     "output_type": "display_data"
    },
    {
     "name": "stdout",
     "output_type": "stream",
     "text": [
      "Shotgun\n"
     ]
    },
    {
     "data": {
      "application/vnd.jupyter.widget-view+json": {
       "model_id": "f36c1d04b5944d2f89ac650094c94468",
       "version_major": 2,
       "version_minor": 0
      },
      "text/plain": [
       "interactive(children=(FloatSlider(value=0.35, continuous_update=False, description='thresh', max=1.0, step=0.0…"
      ]
     },
     "metadata": {},
     "output_type": "display_data"
    },
    {
     "name": "stdout",
     "output_type": "stream",
     "text": [
      "Machine gun\n"
     ]
    },
    {
     "data": {
      "application/vnd.jupyter.widget-view+json": {
       "model_id": "f6c744d195194819a7fdba6f9b483000",
       "version_major": 2,
       "version_minor": 0
      },
      "text/plain": [
       "interactive(children=(FloatSlider(value=0.35, continuous_update=False, description='thresh', max=1.0, step=0.0…"
      ]
     },
     "metadata": {},
     "output_type": "display_data"
    },
    {
     "name": "stdout",
     "output_type": "stream",
     "text": [
      "Airliner\n"
     ]
    },
    {
     "data": {
      "application/vnd.jupyter.widget-view+json": {
       "model_id": "815f3d116a20434c95b3269d2db6c2f9",
       "version_major": 2,
       "version_minor": 0
      },
      "text/plain": [
       "interactive(children=(FloatSlider(value=0.35, continuous_update=False, description='thresh', max=1.0, step=0.0…"
      ]
     },
     "metadata": {},
     "output_type": "display_data"
    },
    {
     "name": "stdout",
     "output_type": "stream",
     "text": [
      "Limousine\n"
     ]
    },
    {
     "data": {
      "application/vnd.jupyter.widget-view+json": {
       "model_id": "b26015c74de34381ae494fe2a5d99d06",
       "version_major": 2,
       "version_minor": 0
      },
      "text/plain": [
       "interactive(children=(FloatSlider(value=0.35, continuous_update=False, description='thresh', max=1.0, step=0.0…"
      ]
     },
     "metadata": {},
     "output_type": "display_data"
    },
    {
     "name": "stdout",
     "output_type": "stream",
     "text": [
      "Harbor\n"
     ]
    },
    {
     "data": {
      "application/vnd.jupyter.widget-view+json": {
       "model_id": "f69e753731804359826f49220eb95ae6",
       "version_major": 2,
       "version_minor": 0
      },
      "text/plain": [
       "interactive(children=(FloatSlider(value=0.35, continuous_update=False, description='thresh', max=1.0, step=0.0…"
      ]
     },
     "metadata": {},
     "output_type": "display_data"
    },
    {
     "name": "stdout",
     "output_type": "stream",
     "text": [
      "Troop\n"
     ]
    },
    {
     "data": {
      "application/vnd.jupyter.widget-view+json": {
       "model_id": "5d0a0950b8b049d8a35f9caecfb043b7",
       "version_major": 2,
       "version_minor": 0
      },
      "text/plain": [
       "interactive(children=(FloatSlider(value=0.35, continuous_update=False, description='thresh', max=1.0, step=0.0…"
      ]
     },
     "metadata": {},
     "output_type": "display_data"
    },
    {
     "name": "stdout",
     "output_type": "stream",
     "text": [
      "Binoculars\n"
     ]
    },
    {
     "data": {
      "application/vnd.jupyter.widget-view+json": {
       "model_id": "d420f7d0310749e98aab0d81436eddf2",
       "version_major": 2,
       "version_minor": 0
      },
      "text/plain": [
       "interactive(children=(FloatSlider(value=0.35, continuous_update=False, description='thresh', max=1.0, step=0.0…"
      ]
     },
     "metadata": {},
     "output_type": "display_data"
    },
    {
     "name": "stdout",
     "output_type": "stream",
     "text": [
      "Ambulance\n"
     ]
    },
    {
     "data": {
      "application/vnd.jupyter.widget-view+json": {
       "model_id": "bd3fca20bd844ebf907f8627b926f942",
       "version_major": 2,
       "version_minor": 0
      },
      "text/plain": [
       "interactive(children=(FloatSlider(value=0.35, continuous_update=False, description='thresh', max=1.0, step=0.0…"
      ]
     },
     "metadata": {},
     "output_type": "display_data"
    },
    {
     "name": "stdout",
     "output_type": "stream",
     "text": [
      "Assault rifle\n"
     ]
    },
    {
     "data": {
      "application/vnd.jupyter.widget-view+json": {
       "model_id": "101bb6bce63f4e1eb12badf51f86f5db",
       "version_major": 2,
       "version_minor": 0
      },
      "text/plain": [
       "interactive(children=(FloatSlider(value=0.35, continuous_update=False, description='thresh', max=1.0, step=0.0…"
      ]
     },
     "metadata": {},
     "output_type": "display_data"
    },
    {
     "name": "stdout",
     "output_type": "stream",
     "text": [
      "Logo\n"
     ]
    },
    {
     "data": {
      "application/vnd.jupyter.widget-view+json": {
       "model_id": "875b84a0e9c341ef85a27a1d0a33af22",
       "version_major": 2,
       "version_minor": 0
      },
      "text/plain": [
       "interactive(children=(FloatSlider(value=0.35, continuous_update=False, description='thresh', max=1.0, step=0.0…"
      ]
     },
     "metadata": {},
     "output_type": "display_data"
    }
   ],
   "source": [
    "for label in select_labels:\n",
    "    if len(label_to_img[label]) == 0:\n",
    "        continue\n",
    "    print(mid2name_all[label])\n",
    "    imgid = np.random.choice(label_to_img[label])\n",
    "    w = interactive(show, \n",
    "        thresh=widgets.FloatSlider(min=0.0, max=1.0, step=0.01, value=0.35, continuous_update=False), \n",
    "        imgid=fixed(imgid)\n",
    "    )\n",
    "    w.children[-1].layout.height = '600px'\n",
    "    display(w)"
   ]
  },
  {
   "cell_type": "code",
   "execution_count": null,
   "metadata": {},
   "outputs": [],
   "source": []
  },
  {
   "cell_type": "code",
   "execution_count": 24,
   "metadata": {
    "scrolled": false
   },
   "outputs": [
    {
     "name": "stdout",
     "output_type": "stream",
     "text": [
      "Waste\n"
     ]
    },
    {
     "data": {
      "application/vnd.jupyter.widget-view+json": {
       "model_id": "fbb06addfe484fbcb48abf8d71120b91",
       "version_major": 2,
       "version_minor": 0
      },
      "text/plain": [
       "interactive(children=(FloatSlider(value=0.35, continuous_update=False, description='thresh', max=1.0, step=0.0…"
      ]
     },
     "metadata": {},
     "output_type": "display_data"
    },
    {
     "name": "stdout",
     "output_type": "stream",
     "text": [
      "Boat\n"
     ]
    },
    {
     "data": {
      "application/vnd.jupyter.widget-view+json": {
       "model_id": "2fecb4ec60944411a21bf34f90efb405",
       "version_major": 2,
       "version_minor": 0
      },
      "text/plain": [
       "interactive(children=(FloatSlider(value=0.35, continuous_update=False, description='thresh', max=1.0, step=0.0…"
      ]
     },
     "metadata": {},
     "output_type": "display_data"
    },
    {
     "name": "stdout",
     "output_type": "stream",
     "text": [
      "Flag\n"
     ]
    },
    {
     "data": {
      "application/vnd.jupyter.widget-view+json": {
       "model_id": "462ad44d748b4d6eabf2da20a703b66d",
       "version_major": 2,
       "version_minor": 0
      },
      "text/plain": [
       "interactive(children=(FloatSlider(value=0.35, continuous_update=False, description='thresh', max=1.0, step=0.0…"
      ]
     },
     "metadata": {},
     "output_type": "display_data"
    },
    {
     "name": "stdout",
     "output_type": "stream",
     "text": [
      "Fire\n"
     ]
    },
    {
     "data": {
      "application/vnd.jupyter.widget-view+json": {
       "model_id": "2ec64c64cd88422b8dd22de7c13f1a73",
       "version_major": 2,
       "version_minor": 0
      },
      "text/plain": [
       "interactive(children=(FloatSlider(value=0.35, continuous_update=False, description='thresh', max=1.0, step=0.0…"
      ]
     },
     "metadata": {},
     "output_type": "display_data"
    },
    {
     "name": "stdout",
     "output_type": "stream",
     "text": [
      "Tank\n"
     ]
    },
    {
     "data": {
      "application/vnd.jupyter.widget-view+json": {
       "model_id": "a432e5b22d3c4013b0dd3359c1d95da4",
       "version_major": 2,
       "version_minor": 0
      },
      "text/plain": [
       "interactive(children=(FloatSlider(value=0.35, continuous_update=False, description='thresh', max=1.0, step=0.0…"
      ]
     },
     "metadata": {},
     "output_type": "display_data"
    },
    {
     "name": "stdout",
     "output_type": "stream",
     "text": [
      "Smoke\n"
     ]
    },
    {
     "data": {
      "application/vnd.jupyter.widget-view+json": {
       "model_id": "372fc11aa4194b1bbe15c6ef8986f34f",
       "version_major": 2,
       "version_minor": 0
      },
      "text/plain": [
       "interactive(children=(FloatSlider(value=0.35, continuous_update=False, description='thresh', max=1.0, step=0.0…"
      ]
     },
     "metadata": {},
     "output_type": "display_data"
    },
    {
     "name": "stdout",
     "output_type": "stream",
     "text": [
      "Crowd\n"
     ]
    },
    {
     "data": {
      "application/vnd.jupyter.widget-view+json": {
       "model_id": "e2215cf2f1cf4c8ca4d2c47890eefa58",
       "version_major": 2,
       "version_minor": 0
      },
      "text/plain": [
       "interactive(children=(FloatSlider(value=0.35, continuous_update=False, description='thresh', max=1.0, step=0.0…"
      ]
     },
     "metadata": {},
     "output_type": "display_data"
    },
    {
     "name": "stdout",
     "output_type": "stream",
     "text": [
      "Speech\n"
     ]
    },
    {
     "data": {
      "application/vnd.jupyter.widget-view+json": {
       "model_id": "730faa51a06941649b088e732978d7f0",
       "version_major": 2,
       "version_minor": 0
      },
      "text/plain": [
       "interactive(children=(FloatSlider(value=0.35, continuous_update=False, description='thresh', max=1.0, step=0.0…"
      ]
     },
     "metadata": {},
     "output_type": "display_data"
    },
    {
     "name": "stdout",
     "output_type": "stream",
     "text": [
      "Medical equipment\n"
     ]
    },
    {
     "data": {
      "application/vnd.jupyter.widget-view+json": {
       "model_id": "5053eccbf4c543a7828e63172f095b43",
       "version_major": 2,
       "version_minor": 0
      },
      "text/plain": [
       "interactive(children=(FloatSlider(value=0.35, continuous_update=False, description='thresh', max=1.0, step=0.0…"
      ]
     },
     "metadata": {},
     "output_type": "display_data"
    },
    {
     "name": "stdout",
     "output_type": "stream",
     "text": [
      "Rubble\n"
     ]
    },
    {
     "data": {
      "application/vnd.jupyter.widget-view+json": {
       "model_id": "d6acb6b94bc9454db8fe22842a01624b",
       "version_major": 2,
       "version_minor": 0
      },
      "text/plain": [
       "interactive(children=(FloatSlider(value=0.35, continuous_update=False, description='thresh', max=1.0, step=0.0…"
      ]
     },
     "metadata": {},
     "output_type": "display_data"
    },
    {
     "name": "stdout",
     "output_type": "stream",
     "text": [
      "Firefighter\n"
     ]
    },
    {
     "data": {
      "application/vnd.jupyter.widget-view+json": {
       "model_id": "dd1d3456179544459dee31bd6452eeb3",
       "version_major": 2,
       "version_minor": 0
      },
      "text/plain": [
       "interactive(children=(FloatSlider(value=0.35, continuous_update=False, description='thresh', max=1.0, step=0.0…"
      ]
     },
     "metadata": {},
     "output_type": "display_data"
    },
    {
     "name": "stdout",
     "output_type": "stream",
     "text": [
      "Flesh\n"
     ]
    },
    {
     "data": {
      "application/vnd.jupyter.widget-view+json": {
       "model_id": "ff0da8ade93a49d180ae9a60ae8bee9f",
       "version_major": 2,
       "version_minor": 0
      },
      "text/plain": [
       "interactive(children=(FloatSlider(value=0.35, continuous_update=False, description='thresh', max=1.0, step=0.0…"
      ]
     },
     "metadata": {},
     "output_type": "display_data"
    },
    {
     "name": "stdout",
     "output_type": "stream",
     "text": [
      "Stretcher\n"
     ]
    },
    {
     "data": {
      "application/vnd.jupyter.widget-view+json": {
       "model_id": "89e925b45ff043b3bbbcd57b7e2031ac",
       "version_major": 2,
       "version_minor": 0
      },
      "text/plain": [
       "interactive(children=(FloatSlider(value=0.35, continuous_update=False, description='thresh', max=1.0, step=0.0…"
      ]
     },
     "metadata": {},
     "output_type": "display_data"
    },
    {
     "name": "stdout",
     "output_type": "stream",
     "text": [
      "Helicopter\n"
     ]
    },
    {
     "data": {
      "application/vnd.jupyter.widget-view+json": {
       "model_id": "6526e8203e914c2ba4faa3bc7d1b060f",
       "version_major": 2,
       "version_minor": 0
      },
      "text/plain": [
       "interactive(children=(FloatSlider(value=0.35, continuous_update=False, description='thresh', max=1.0, step=0.0…"
      ]
     },
     "metadata": {},
     "output_type": "display_data"
    },
    {
     "name": "stdout",
     "output_type": "stream",
     "text": [
      "Military vehicle\n"
     ]
    },
    {
     "data": {
      "application/vnd.jupyter.widget-view+json": {
       "model_id": "c39b460fef3a446482e17a46073d922a",
       "version_major": 2,
       "version_minor": 0
      },
      "text/plain": [
       "interactive(children=(FloatSlider(value=0.35, continuous_update=False, description='thresh', max=1.0, step=0.0…"
      ]
     },
     "metadata": {},
     "output_type": "display_data"
    },
    {
     "name": "stdout",
     "output_type": "stream",
     "text": [
      "Security\n"
     ]
    },
    {
     "data": {
      "application/vnd.jupyter.widget-view+json": {
       "model_id": "da07545f7af74c28af91c8487284b3a3",
       "version_major": 2,
       "version_minor": 0
      },
      "text/plain": [
       "interactive(children=(FloatSlider(value=0.35, continuous_update=False, description='thresh', max=1.0, step=0.0…"
      ]
     },
     "metadata": {},
     "output_type": "display_data"
    },
    {
     "name": "stdout",
     "output_type": "stream",
     "text": [
      "Bomb\n"
     ]
    },
    {
     "data": {
      "application/vnd.jupyter.widget-view+json": {
       "model_id": "719364fef1fa46ddac0fe0527ff83a83",
       "version_major": 2,
       "version_minor": 0
      },
      "text/plain": [
       "interactive(children=(FloatSlider(value=0.35, continuous_update=False, description='thresh', max=1.0, step=0.0…"
      ]
     },
     "metadata": {},
     "output_type": "display_data"
    },
    {
     "name": "stdout",
     "output_type": "stream",
     "text": [
      "Protest\n"
     ]
    },
    {
     "data": {
      "application/vnd.jupyter.widget-view+json": {
       "model_id": "f200d221819440c6a287ced040fca32b",
       "version_major": 2,
       "version_minor": 0
      },
      "text/plain": [
       "interactive(children=(FloatSlider(value=0.35, continuous_update=False, description='thresh', max=1.0, step=0.0…"
      ]
     },
     "metadata": {},
     "output_type": "display_data"
    },
    {
     "name": "stdout",
     "output_type": "stream",
     "text": [
      "Rocket\n"
     ]
    },
    {
     "data": {
      "application/vnd.jupyter.widget-view+json": {
       "model_id": "617a9dfc98614f24b655d621f048aa43",
       "version_major": 2,
       "version_minor": 0
      },
      "text/plain": [
       "interactive(children=(FloatSlider(value=0.35, continuous_update=False, description='thresh', max=1.0, step=0.0…"
      ]
     },
     "metadata": {},
     "output_type": "display_data"
    },
    {
     "name": "stdout",
     "output_type": "stream",
     "text": [
      "Fire extinguisher\n"
     ]
    },
    {
     "data": {
      "application/vnd.jupyter.widget-view+json": {
       "model_id": "d66798ba7cd74e738eef02a4bbe256fc",
       "version_major": 2,
       "version_minor": 0
      },
      "text/plain": [
       "interactive(children=(FloatSlider(value=0.35, continuous_update=False, description='thresh', max=1.0, step=0.0…"
      ]
     },
     "metadata": {},
     "output_type": "display_data"
    },
    {
     "name": "stdout",
     "output_type": "stream",
     "text": [
      "Knife\n"
     ]
    },
    {
     "data": {
      "application/vnd.jupyter.widget-view+json": {
       "model_id": "2376479b928b42beb7dea1a29dd84c82",
       "version_major": 2,
       "version_minor": 0
      },
      "text/plain": [
       "interactive(children=(FloatSlider(value=0.35, continuous_update=False, description='thresh', max=1.0, step=0.0…"
      ]
     },
     "metadata": {},
     "output_type": "display_data"
    },
    {
     "name": "stdout",
     "output_type": "stream",
     "text": [
      "Missile\n"
     ]
    },
    {
     "data": {
      "application/vnd.jupyter.widget-view+json": {
       "model_id": "379e03dd8aed4532a3064c9a20ffc211",
       "version_major": 2,
       "version_minor": 0
      },
      "text/plain": [
       "interactive(children=(FloatSlider(value=0.35, continuous_update=False, description='thresh', max=1.0, step=0.0…"
      ]
     },
     "metadata": {},
     "output_type": "display_data"
    },
    {
     "name": "stdout",
     "output_type": "stream",
     "text": [
      "Combat vehicle\n"
     ]
    },
    {
     "data": {
      "application/vnd.jupyter.widget-view+json": {
       "model_id": "ab808dc68b824822a0a54e886414cb08",
       "version_major": 2,
       "version_minor": 0
      },
      "text/plain": [
       "interactive(children=(FloatSlider(value=0.35, continuous_update=False, description='thresh', max=1.0, step=0.0…"
      ]
     },
     "metadata": {},
     "output_type": "display_data"
    },
    {
     "name": "stdout",
     "output_type": "stream",
     "text": [
      "Watercraft\n"
     ]
    },
    {
     "data": {
      "application/vnd.jupyter.widget-view+json": {
       "model_id": "743c130126ae432ba432a5b837a44c0a",
       "version_major": 2,
       "version_minor": 0
      },
      "text/plain": [
       "interactive(children=(FloatSlider(value=0.35, continuous_update=False, description='thresh', max=1.0, step=0.0…"
      ]
     },
     "metadata": {},
     "output_type": "display_data"
    },
    {
     "name": "stdout",
     "output_type": "stream",
     "text": [
      "Shotgun\n"
     ]
    },
    {
     "data": {
      "application/vnd.jupyter.widget-view+json": {
       "model_id": "2d69e98dda424198b54bc05dad45094a",
       "version_major": 2,
       "version_minor": 0
      },
      "text/plain": [
       "interactive(children=(FloatSlider(value=0.35, continuous_update=False, description='thresh', max=1.0, step=0.0…"
      ]
     },
     "metadata": {},
     "output_type": "display_data"
    },
    {
     "name": "stdout",
     "output_type": "stream",
     "text": [
      "Machine gun\n"
     ]
    },
    {
     "data": {
      "application/vnd.jupyter.widget-view+json": {
       "model_id": "a8a479370fc743e6bcaf46d9d74f32e8",
       "version_major": 2,
       "version_minor": 0
      },
      "text/plain": [
       "interactive(children=(FloatSlider(value=0.35, continuous_update=False, description='thresh', max=1.0, step=0.0…"
      ]
     },
     "metadata": {},
     "output_type": "display_data"
    },
    {
     "name": "stdout",
     "output_type": "stream",
     "text": [
      "Airliner\n"
     ]
    },
    {
     "data": {
      "application/vnd.jupyter.widget-view+json": {
       "model_id": "d90c018ae6534b408da7ed2556a331a8",
       "version_major": 2,
       "version_minor": 0
      },
      "text/plain": [
       "interactive(children=(FloatSlider(value=0.35, continuous_update=False, description='thresh', max=1.0, step=0.0…"
      ]
     },
     "metadata": {},
     "output_type": "display_data"
    },
    {
     "name": "stdout",
     "output_type": "stream",
     "text": [
      "Limousine\n"
     ]
    },
    {
     "data": {
      "application/vnd.jupyter.widget-view+json": {
       "model_id": "36ee94c30fa24fd09d99be00392f4917",
       "version_major": 2,
       "version_minor": 0
      },
      "text/plain": [
       "interactive(children=(FloatSlider(value=0.35, continuous_update=False, description='thresh', max=1.0, step=0.0…"
      ]
     },
     "metadata": {},
     "output_type": "display_data"
    },
    {
     "name": "stdout",
     "output_type": "stream",
     "text": [
      "Harbor\n"
     ]
    },
    {
     "data": {
      "application/vnd.jupyter.widget-view+json": {
       "model_id": "bc5b6c191aa84bc5b3724fc1bf780525",
       "version_major": 2,
       "version_minor": 0
      },
      "text/plain": [
       "interactive(children=(FloatSlider(value=0.35, continuous_update=False, description='thresh', max=1.0, step=0.0…"
      ]
     },
     "metadata": {},
     "output_type": "display_data"
    },
    {
     "name": "stdout",
     "output_type": "stream",
     "text": [
      "Troop\n"
     ]
    },
    {
     "data": {
      "application/vnd.jupyter.widget-view+json": {
       "model_id": "ce9d28e2261648068fb597f812717548",
       "version_major": 2,
       "version_minor": 0
      },
      "text/plain": [
       "interactive(children=(FloatSlider(value=0.35, continuous_update=False, description='thresh', max=1.0, step=0.0…"
      ]
     },
     "metadata": {},
     "output_type": "display_data"
    },
    {
     "name": "stdout",
     "output_type": "stream",
     "text": [
      "Binoculars\n"
     ]
    },
    {
     "data": {
      "application/vnd.jupyter.widget-view+json": {
       "model_id": "690208c102704a5ab2b1f72de9f278cb",
       "version_major": 2,
       "version_minor": 0
      },
      "text/plain": [
       "interactive(children=(FloatSlider(value=0.35, continuous_update=False, description='thresh', max=1.0, step=0.0…"
      ]
     },
     "metadata": {},
     "output_type": "display_data"
    },
    {
     "name": "stdout",
     "output_type": "stream",
     "text": [
      "Ambulance\n"
     ]
    },
    {
     "data": {
      "application/vnd.jupyter.widget-view+json": {
       "model_id": "975a854bd5524653bdd4bd73ae225681",
       "version_major": 2,
       "version_minor": 0
      },
      "text/plain": [
       "interactive(children=(FloatSlider(value=0.35, continuous_update=False, description='thresh', max=1.0, step=0.0…"
      ]
     },
     "metadata": {},
     "output_type": "display_data"
    },
    {
     "name": "stdout",
     "output_type": "stream",
     "text": [
      "Assault rifle\n"
     ]
    },
    {
     "data": {
      "application/vnd.jupyter.widget-view+json": {
       "model_id": "e6d5f8772199478b8cba10dfbe771dba",
       "version_major": 2,
       "version_minor": 0
      },
      "text/plain": [
       "interactive(children=(FloatSlider(value=0.35, continuous_update=False, description='thresh', max=1.0, step=0.0…"
      ]
     },
     "metadata": {},
     "output_type": "display_data"
    },
    {
     "name": "stdout",
     "output_type": "stream",
     "text": [
      "Logo\n"
     ]
    },
    {
     "data": {
      "application/vnd.jupyter.widget-view+json": {
       "model_id": "8298e4b88c3045fb9466ab2ffb117b5c",
       "version_major": 2,
       "version_minor": 0
      },
      "text/plain": [
       "interactive(children=(FloatSlider(value=0.35, continuous_update=False, description='thresh', max=1.0, step=0.0…"
      ]
     },
     "metadata": {},
     "output_type": "display_data"
    }
   ],
   "source": [
    "for label in select_labels:\n",
    "    if len(label_to_img[label]) == 0:\n",
    "        continue\n",
    "    print(mid2name_all[label])\n",
    "    imgid = np.random.choice(label_to_img[label])\n",
    "    w = interactive(show, \n",
    "        thresh=widgets.FloatSlider(min=0.0, max=1.0, step=0.01, value=0.35, continuous_update=False), \n",
    "        imgid=fixed(imgid)\n",
    "    )\n",
    "    w.children[-1].layout.height = '600px'\n",
    "    display(w)"
   ]
  },
  {
   "cell_type": "code",
   "execution_count": null,
   "metadata": {},
   "outputs": [],
   "source": []
  },
  {
   "cell_type": "code",
   "execution_count": null,
   "metadata": {},
   "outputs": [],
   "source": []
  },
  {
   "cell_type": "code",
   "execution_count": null,
   "metadata": {},
   "outputs": [],
   "source": []
  }
 ],
 "metadata": {
  "kernelspec": {
   "display_name": "Py3 w/ Tensorflow",
   "language": "python",
   "name": "py3tf"
  },
  "language_info": {
   "codemirror_mode": {
    "name": "ipython",
    "version": 3
   },
   "file_extension": ".py",
   "mimetype": "text/x-python",
   "name": "python",
   "nbconvert_exporter": "python",
   "pygments_lexer": "ipython3",
   "version": "3.6.5"
  }
 },
 "nbformat": 4,
 "nbformat_minor": 2
}
