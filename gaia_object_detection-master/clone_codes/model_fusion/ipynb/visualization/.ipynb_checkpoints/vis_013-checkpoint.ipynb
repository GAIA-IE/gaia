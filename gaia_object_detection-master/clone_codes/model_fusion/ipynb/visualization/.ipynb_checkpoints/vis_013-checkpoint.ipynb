{
 "cells": [
  {
   "cell_type": "code",
   "execution_count": 1,
   "metadata": {},
   "outputs": [],
   "source": [
    "import os\n",
    "import sys\n",
    "import pickle\n",
    "import csv\n",
    "import copy\n",
    "\n",
    "import numpy as np\n",
    "import cv2\n",
    "import matplotlib.pyplot as plt\n",
    "%matplotlib inline"
   ]
  },
  {
   "cell_type": "code",
   "execution_count": 2,
   "metadata": {},
   "outputs": [],
   "source": [
    "from ipywidgets import interact, interactive, fixed, interact_manual\n",
    "import ipywidgets as widgets"
   ]
  },
  {
   "cell_type": "code",
   "execution_count": 3,
   "metadata": {},
   "outputs": [
    {
     "name": "stderr",
     "output_type": "stream",
     "text": [
      "../../../tfobjdetect/lib/object_detection/utils/visualization_utils.py:25: UserWarning: \n",
      "This call to matplotlib.use() has no effect because the backend has already\n",
      "been chosen; matplotlib.use() must be called *before* pylab, matplotlib.pyplot,\n",
      "or matplotlib.backends is imported for the first time.\n",
      "\n",
      "The backend was *originally* set to 'module://ipykernel.pylab.backend_inline' by the following code:\n",
      "  File \"/home/alireza/home_at_filer2/tools/anaconda3/envs/py3tf/lib/python3.6/runpy.py\", line 193, in _run_module_as_main\n",
      "    \"__main__\", mod_spec)\n",
      "  File \"/home/alireza/home_at_filer2/tools/anaconda3/envs/py3tf/lib/python3.6/runpy.py\", line 85, in _run_code\n",
      "    exec(code, run_globals)\n",
      "  File \"/home/alireza/home_at_filer2/tools/anaconda3/envs/py3tf/lib/python3.6/site-packages/ipykernel/__main__.py\", line 3, in <module>\n",
      "    app.launch_new_instance()\n",
      "  File \"/home/alireza/home_at_filer2/tools/anaconda3/envs/py3tf/lib/python3.6/site-packages/traitlets/config/application.py\", line 658, in launch_instance\n",
      "    app.start()\n",
      "  File \"/home/alireza/home_at_filer2/tools/anaconda3/envs/py3tf/lib/python3.6/site-packages/ipykernel/kernelapp.py\", line 486, in start\n",
      "    self.io_loop.start()\n",
      "  File \"/home/alireza/home_at_filer2/tools/anaconda3/envs/py3tf/lib/python3.6/site-packages/tornado/platform/asyncio.py\", line 127, in start\n",
      "    self.asyncio_loop.run_forever()\n",
      "  File \"/home/alireza/home_at_filer2/tools/anaconda3/envs/py3tf/lib/python3.6/asyncio/base_events.py\", line 422, in run_forever\n",
      "    self._run_once()\n",
      "  File \"/home/alireza/home_at_filer2/tools/anaconda3/envs/py3tf/lib/python3.6/asyncio/base_events.py\", line 1432, in _run_once\n",
      "    handle._run()\n",
      "  File \"/home/alireza/home_at_filer2/tools/anaconda3/envs/py3tf/lib/python3.6/asyncio/events.py\", line 145, in _run\n",
      "    self._callback(*self._args)\n",
      "  File \"/home/alireza/home_at_filer2/tools/anaconda3/envs/py3tf/lib/python3.6/site-packages/tornado/platform/asyncio.py\", line 117, in _handle_events\n",
      "    handler_func(fileobj, events)\n",
      "  File \"/home/alireza/home_at_filer2/tools/anaconda3/envs/py3tf/lib/python3.6/site-packages/tornado/stack_context.py\", line 276, in null_wrapper\n",
      "    return fn(*args, **kwargs)\n",
      "  File \"/home/alireza/home_at_filer2/tools/anaconda3/envs/py3tf/lib/python3.6/site-packages/zmq/eventloop/zmqstream.py\", line 450, in _handle_events\n",
      "    self._handle_recv()\n",
      "  File \"/home/alireza/home_at_filer2/tools/anaconda3/envs/py3tf/lib/python3.6/site-packages/zmq/eventloop/zmqstream.py\", line 480, in _handle_recv\n",
      "    self._run_callback(callback, msg)\n",
      "  File \"/home/alireza/home_at_filer2/tools/anaconda3/envs/py3tf/lib/python3.6/site-packages/zmq/eventloop/zmqstream.py\", line 432, in _run_callback\n",
      "    callback(*args, **kwargs)\n",
      "  File \"/home/alireza/home_at_filer2/tools/anaconda3/envs/py3tf/lib/python3.6/site-packages/tornado/stack_context.py\", line 276, in null_wrapper\n",
      "    return fn(*args, **kwargs)\n",
      "  File \"/home/alireza/home_at_filer2/tools/anaconda3/envs/py3tf/lib/python3.6/site-packages/ipykernel/kernelbase.py\", line 283, in dispatcher\n",
      "    return self.dispatch_shell(stream, msg)\n",
      "  File \"/home/alireza/home_at_filer2/tools/anaconda3/envs/py3tf/lib/python3.6/site-packages/ipykernel/kernelbase.py\", line 233, in dispatch_shell\n",
      "    handler(stream, idents, msg)\n",
      "  File \"/home/alireza/home_at_filer2/tools/anaconda3/envs/py3tf/lib/python3.6/site-packages/ipykernel/kernelbase.py\", line 399, in execute_request\n",
      "    user_expressions, allow_stdin)\n",
      "  File \"/home/alireza/home_at_filer2/tools/anaconda3/envs/py3tf/lib/python3.6/site-packages/ipykernel/ipkernel.py\", line 208, in do_execute\n",
      "    res = shell.run_cell(code, store_history=store_history, silent=silent)\n",
      "  File \"/home/alireza/home_at_filer2/tools/anaconda3/envs/py3tf/lib/python3.6/site-packages/ipykernel/zmqshell.py\", line 537, in run_cell\n",
      "    return super(ZMQInteractiveShell, self).run_cell(*args, **kwargs)\n",
      "  File \"/home/alireza/home_at_filer2/tools/anaconda3/envs/py3tf/lib/python3.6/site-packages/IPython/core/interactiveshell.py\", line 2666, in run_cell\n",
      "    self.events.trigger('post_run_cell', result)\n",
      "  File \"/home/alireza/home_at_filer2/tools/anaconda3/envs/py3tf/lib/python3.6/site-packages/IPython/core/events.py\", line 88, in trigger\n",
      "    func(*args, **kwargs)\n",
      "  File \"/home/alireza/home_at_filer2/tools/anaconda3/envs/py3tf/lib/python3.6/site-packages/ipykernel/pylab/backend_inline.py\", line 160, in configure_once\n",
      "    activate_matplotlib(backend)\n",
      "  File \"/home/alireza/home_at_filer2/tools/anaconda3/envs/py3tf/lib/python3.6/site-packages/IPython/core/pylabtools.py\", line 311, in activate_matplotlib\n",
      "    matplotlib.pyplot.switch_backend(backend)\n",
      "  File \"/home/alireza/home_at_filer2/tools/anaconda3/envs/py3tf/lib/python3.6/site-packages/matplotlib/pyplot.py\", line 231, in switch_backend\n",
      "    matplotlib.use(newbackend, warn=False, force=True)\n",
      "  File \"/home/alireza/home_at_filer2/tools/anaconda3/envs/py3tf/lib/python3.6/site-packages/matplotlib/__init__.py\", line 1410, in use\n",
      "    reload(sys.modules['matplotlib.backends'])\n",
      "  File \"/home/alireza/home_at_filer2/tools/anaconda3/envs/py3tf/lib/python3.6/importlib/__init__.py\", line 166, in reload\n",
      "    _bootstrap._exec(spec, module)\n",
      "  File \"/home/alireza/home_at_filer2/tools/anaconda3/envs/py3tf/lib/python3.6/site-packages/matplotlib/backends/__init__.py\", line 16, in <module>\n",
      "    line for line in traceback.format_stack()\n",
      "\n",
      "\n",
      "  import matplotlib; matplotlib.use('Agg')  # pylint: disable=multiple-statements\n"
     ]
    }
   ],
   "source": [
    "sys.path.append(\"../../../tfobjdetect/lib\")\n",
    "from object_detection.utils import label_map_util\n",
    "from object_detection.utils import visualization_utils as vis_util"
   ]
  },
  {
   "cell_type": "markdown",
   "metadata": {},
   "source": [
    "## Loading and preparing label maps"
   ]
  },
  {
   "cell_type": "code",
   "execution_count": 4,
   "metadata": {},
   "outputs": [],
   "source": [
    "with open('../../temp/label_matching_coco_oi_ws_300.pkl', 'rb') as fin:\n",
    "    labelmap = pickle.load(fin)"
   ]
  },
  {
   "cell_type": "code",
   "execution_count": 5,
   "metadata": {},
   "outputs": [],
   "source": [
    "idx2mid_coco = labelmap['idx2mid_coco']\n",
    "idx2mid_oi = labelmap['idx2mid_oi']\n",
    "idx2mid_ws = labelmap['idx2mid_ws']\n",
    "mid2idx_coco = labelmap['mid2idx_coco']\n",
    "mid2idx_oi = labelmap['mid2idx_oi']\n",
    "mid2idx_ws = labelmap['mid2idx_ws']\n",
    "mid2name_coco = labelmap['mid2name_coco']\n",
    "mid2name_oi = labelmap['mid2name_oi']\n",
    "mid2name_ws = labelmap['mid2name_ws']\n",
    "name2mid_coco = labelmap['name2mid_coco']\n",
    "name2mid_oi = labelmap['name2mid_oi']\n",
    "name2mid_ws = labelmap['name2mid_ws']\n",
    "common_mids_coco = labelmap['common_mids_coco']\n",
    "common_mids_ws = labelmap['common_mids_ws']\n"
   ]
  },
  {
   "cell_type": "code",
   "execution_count": 6,
   "metadata": {},
   "outputs": [],
   "source": [
    "coco_mids = set(mid2idx_coco.keys())\n",
    "oi_mids = set(mid2idx_oi.keys())\n",
    "ws_mids = set(mid2idx_ws.keys())\n"
   ]
  },
  {
   "cell_type": "code",
   "execution_count": 7,
   "metadata": {},
   "outputs": [],
   "source": [
    "mid2name_all = {}\n",
    "for key in coco_mids:\n",
    "    mid2name_all[key] = mid2name_coco[key]\n",
    "for key in oi_mids:\n",
    "    mid2name_all[key] = mid2name_oi[key]\n",
    "for key in ws_mids:\n",
    "    mid2name_all[key] = mid2name_ws[key]"
   ]
  },
  {
   "cell_type": "code",
   "execution_count": 8,
   "metadata": {},
   "outputs": [],
   "source": [
    "with open('../../temp/all_labels_coco_oi_ws_300.pkl', 'rb') as fin:\n",
    "    all_labels = pickle.load(fin)"
   ]
  },
  {
   "cell_type": "code",
   "execution_count": null,
   "metadata": {},
   "outputs": [],
   "source": []
  },
  {
   "cell_type": "code",
   "execution_count": 9,
   "metadata": {},
   "outputs": [],
   "source": [
    "with open('../../results/det_results_postproc_10.pkl', 'rb') as fin:\n",
    "    det_results_sorted = pickle.load(fin)"
   ]
  },
  {
   "cell_type": "code",
   "execution_count": null,
   "metadata": {},
   "outputs": [],
   "source": []
  },
  {
   "cell_type": "markdown",
   "metadata": {},
   "source": [
    "## Choosing examples for each class to visualize"
   ]
  },
  {
   "cell_type": "code",
   "execution_count": 10,
   "metadata": {},
   "outputs": [],
   "source": [
    "label_to_img = {key: [] for key in all_labels}\n",
    "for key, val in det_results_sorted.items():\n",
    "    for ii in range(val['num_detections']):\n",
    "        if val['detection_scores'][ii] < 0.35:\n",
    "            continue\n",
    "        label_to_img[val['detection_classes'][ii]].append(key)"
   ]
  },
  {
   "cell_type": "code",
   "execution_count": 19,
   "metadata": {},
   "outputs": [],
   "source": [
    "idx = np.argsort([-len(label_to_img[label]) for label in all_labels])"
   ]
  },
  {
   "cell_type": "code",
   "execution_count": 21,
   "metadata": {},
   "outputs": [
    {
     "name": "stdout",
     "output_type": "stream",
     "text": [
      "/m/01g317 Person 3800\n",
      "/m/04yx4 Man 1834\n",
      "/m/0dzct Human face 1634\n",
      "/m/03bt1vf Woman 794\n",
      "/m/05s2s Plant 407\n",
      "/m/0k4j Car 247\n",
      "/m/0jbk Animal 244\n",
      "/m/0c_jw Furniture 242\n",
      "/m/0hf58v5 Luggage and bags 231\n",
      "/m/012t_z Businessperson 224\n",
      "/m/0cgh4 Building 216\n",
      "/m/01n5jq Poster 193\n",
      "/m/01xr66 Spokesperson 155\n",
      "/m/01prls Land vehicle 150\n",
      "/m/02wbm Food 120\n",
      "/m/0jyfg Glasses 120\n",
      "/m/0cmf2 Airplane 112\n",
      "/m/07r04 Truck 111\n",
      "/m/07yv9 Vehicle 105\n",
      "/m/0dwx7 Logo 101\n",
      "/m/07s6nbt Text 98\n",
      "/m/0zvk5 Helmet 95\n",
      "/m/04_tb Map 95\n",
      "/m/01fnck Waste 93\n",
      "/m/07k1x Tool 93\n",
      "/m/050k8 Mobile phone 93\n",
      "/m/019jd Boat 81\n",
      "/m/03120 Flag 80\n",
      "/m/07c52 Television 72\n",
      "/m/07jdr Train 62\n",
      "/m/035y33 Official 61\n",
      "/m/02_41 Fire 60\n",
      "/m/07cmd Tank 59\n",
      "/m/06q40 Smoke 59\n",
      "/m/03jm5 House 54\n",
      "/m/05r655 Girl 54\n",
      "/m/0bt9lr Dog 53\n",
      "/m/015h_t Human beard 51\n",
      "/m/01bl7v Boy 41\n",
      "/m/0bs7_0t Electronic device 41\n",
      "/m/03qtwd Crowd 40\n",
      "/m/09x0r Speech 40\n",
      "/m/09nm_ World 36\n",
      "/m/01xgg_ Medical equipment 33\n",
      "/m/0hg7b Microphone 33\n",
      "/m/02_n6y Goggles 32\n",
      "/m/01fdzj Tower 30\n",
      "/m/08qrwn Rubble 29\n",
      "/m/012n4x Firefighter 28\n",
      "/m/083kb Weapon 26\n",
      "/m/06c54 Rifle 26\n",
      "/m/01bjv Bus 26\n",
      "/m/02p16m6 Flesh 25\n",
      "/m/06msq Sculpture 25\n",
      "/m/04hgtk Human head 24\n",
      "/m/02lbcq Stretcher 24\n",
      "/m/01j61q Tent 23\n",
      "/m/08dz3q Auto part 23\n",
      "/m/0ytgt Child 22\n",
      "/m/0ffjr Personal protective equipment 20\n",
      "/m/01knjb Billboard 19\n",
      "/m/033lpr Audience 19\n",
      "/m/01zpz Crew 19\n",
      "/m/01c648 Laptop 18\n",
      "/m/09ct_ Helicopter 18\n",
      "/m/04_sv Motorcycle 18\n",
      "/m/01bgsw Toddler 18\n",
      "/m/0fd6q Cash 17\n",
      "/m/081hv Wedding 17\n",
      "/m/0g54v5d Military vehicle 17\n",
      "/m/0bg2p Security 17\n",
      "/m/054xkw Lifejacket 17\n",
      "/m/0ct4f Bomb 16\n",
      "/m/01nd_n Protest 16\n",
      "/m/0199g Bicycle 16\n",
      "/m/01cx7t High-visibility clothing 15\n",
      "/m/039l3v Auditorium 15\n",
      "/m/09g5pq People 14\n",
      "/m/0hr5k Festival 14\n",
      "/m/09rvcxw Rocket 14\n",
      "/m/0k5j Aircraft 14\n",
      "/m/0vg8 Airline 13\n",
      "/m/02_g0 Funeral 13\n",
      "/m/0h2r6 Van 13\n",
      "/m/01x3jk Snowmobile 13\n",
      "/m/02cwf_ Shrine 13\n",
      "/m/013_1c Statue 12\n",
      "/m/01nl4x Fire extinguisher 12\n",
      "/m/04_x4 Money 12\n",
      "/m/0dv5r Camera 11\n",
      "/m/08g_yr Temple 11\n",
      "/m/018rqw Wide-body aircraft 11\n",
      "/m/0c2jj Axe 11\n",
      "/m/04ctx Knife 11\n",
      "/m/079cl Skyscraper 11\n",
      "/m/016c4t Ceremony 10\n",
      "/m/0ltfs Bride 10\n",
      "/m/0blz9 Fence 10\n",
      "/m/04ylt Missile 10\n",
      "/m/038t8_ Estate 9\n",
      "/m/03qpft Podium 9\n",
      "/m/017m8l Waterway 9\n",
      "/m/01klb9 Plaza 9\n",
      "/m/09cynt Convention 9\n",
      "/m/01wk9c Emblem 8\n",
      "/m/0gvss07 Combat vehicle 8\n",
      "/m/017kvv Infrastructure 8\n",
      "/m/01vw0_ Grave 7\n",
      "/m/06gfj Road 7\n",
      "/m/076bq Segway 7\n",
      "/m/02q60ls Conference hall 7\n",
      "/m/01n32 City 7\n",
      "/m/01x2j Camouflage 7\n",
      "/m/01m3v Computer 7\n",
      "/m/020kz Cannon 6\n",
      "/m/01nblt Apartment 6\n",
      "/m/01rzcn Watercraft 6\n",
      "/m/06nrc Shotgun 6\n",
      "/m/05hg54 Commercial building 6\n",
      "/m/0qmmr Wheelchair 6\n",
      "/m/03m4wn Boating 6\n",
      "/m/015kr Bridge 6\n",
      "/m/0fkwjg Commercial vehicle 5\n",
      "/m/05wrt Property 5\n",
      "/m/07cx4 Telephone 5\n",
      "/m/016br2 Dome 5\n",
      "/m/02nvjx Place of worship 5\n",
      "/m/0cx45 Temple 5\n",
      "/m/012f08 Motor vehicle 5\n",
      "/m/021sj1 Office building 5\n",
      "/m/0728h Self-propelled artillery 5\n",
      "/m/01515d Flight 5\n",
      "/m/0cyfs Parachute 5\n",
      "/m/0cvq3 Pickup truck 5\n",
      "/m/01c8br Street 5\n",
      "/m/0f5lx Military aircraft 4\n",
      "/m/0169zh Smartphone 4\n",
      "/m/04zjc Machine gun 4\n",
      "/m/039jbq Urban area 4\n",
      "/m/01l0mw Home 4\n",
      "/m/01yx86 Bronze sculpture 4\n",
      "/m/070qm Freight transport 4\n",
      "/m/06q74 Ship 4\n",
      "/m/051rmm Steeple 4\n",
      "/m/05_5t0l Landmark 4\n",
      "/m/04h7h Lighthouse 4\n",
      "/m/0cz_0 Highway 4\n",
      "/m/068k4 Public speaking 4\n",
      "/m/02gx17 Construction equipment 4\n",
      "/m/02ljgl Monument 4\n",
      "/m/088l6h Family car 4\n",
      "/m/0dhz0 Airliner 4\n",
      "/m/078my Trailer truck 4\n",
      "/m/0d5gx Castle 3\n",
      "/m/01lcw4 Limousine 3\n",
      "/m/02q3d5 Memorial 3\n",
      "/m/0bh9flk Tablet computer 3\n",
      "/m/06y5r Sword 3\n",
      "/m/03htg Harbor 3\n",
      "/m/081pkj Event 3\n",
      "/m/0hpjt Orator 3\n",
      "/m/071rm Shooting 3\n",
      "/m/0gxl3 Handgun 3\n",
      "/m/01lcwm Luxury vehicle 3\n",
      "/m/07txbq Light aircraft 3\n",
      "/m/05zdp Public transport 3\n",
      "/m/0323sq Golf cart 3\n",
      "/m/01wb7 Church 3\n",
      "/m/01bq8v Troop 3\n",
      "/m/013bml Military rank 2\n",
      "/m/0h36z Cemetery 2\n",
      "/m/012n91 Emergency service 2\n",
      "/m/0lt4_ Binoculars 2\n",
      "/m/01w71f Personal luxury car 2\n",
      "/m/0h8lkj8 Corded phone 2\n",
      "/m/03cny9 Badge 2\n",
      "/m/0c85fd Dome 2\n",
      "/m/0crtnw Executive car 2\n",
      "/m/027qh7f Cold weapon 2\n",
      "/m/01q4wd Stupa 2\n",
      "/m/014yck Aircraft engine 2\n",
      "/m/02p4dfn Lectern 2\n",
      "/m/02p0tk3 Human body 2\n",
      "/m/0crjs Convenience store 2\n",
      "/m/02wg_p Tree house 2\n",
      "/m/0121tl Electronic instrument 2\n",
      "/m/013xlm Tractor 2\n",
      "/m/01xs3r Jet ski 1\n",
      "/m/02gp31 Government agency 1\n",
      "/m/025t3bg Air travel 1\n",
      "/m/015y8h Jet aircraft 1\n",
      "/m/0qb7t Organization 1\n",
      "/m/034qg Firearm 1\n",
      "/m/03wvy Infantry 1\n",
      "/m/06d_3 Railway 1\n",
      "/m/04fdw Kayak 1\n",
      "/m/06wrt Sailing 1\n",
      "/m/02gzp Dagger 1\n",
      "/m/0pg52 Taxi 1\n",
      "/m/09cjl Airport 1\n",
      "/m/0bp37nz Propeller-driven aircraft 1\n",
      "/m/02yjc Fighter aircraft 1\n",
      "/m/01btn Barge 1\n",
      "/m/0173tc Chapel 1\n",
      "/m/012n7d Ambulance 1\n",
      "/m/07bsy Transport 1\n",
      "/m/04h5c Locomotive 1\n",
      "/m/074d1 Submarine 1\n",
      "/m/09jfs Uniform 1\n",
      "/m/01xgbj Turret 1\n",
      "/m/03n9vx Double-decker bus 1\n",
      "/m/0jb3 Assault rifle 1\n",
      "/m/018p4k Cart 1\n",
      "/m/0hsrw Sailboat 1\n",
      "/m/02d9qx Whiteboard 0\n",
      "/m/03fj2 Goldfish 0\n",
      "/m/02rdsp Office supplies 0\n",
      "/m/01dwwc Pancake 0\n",
      "/m/03w1r4 Military uniform 0\n",
      "/m/09gys Squid 0\n",
      "/m/0f4s2w Vegetable 0\n",
      "/m/07qxg_ Football helmet 0\n",
      "/m/0cdn1 Hamburger 0\n",
      "/m/081qc Wine 0\n",
      "/m/0cyhj_ Orange 0\n",
      "/m/0275lwb Military helicopter 0\n",
      "/m/0m_bl Bullet train 0\n",
      "/m/05z6w Penguin 0\n",
      "/m/07y_7 Violin 0\n",
      "/m/01fh4r Teapot 0\n",
      "/m/01yrx Cat 0\n",
      "/m/09dzg Turtle 0\n",
      "/m/07dm6 Tiger 0\n",
      "/m/01r546 Earrings 0\n",
      "/m/0388q Grape 0\n",
      "/m/054fyh Pitcher 0\n",
      "/m/04p0qw Billiard table 0\n",
      "/m/015x5n Radish 0\n",
      "/m/0kmg4 Teddy bear 0\n",
      "/m/03d443 Rhinoceros 0\n",
      "/m/01599 Beer 0\n",
      "/m/0f6nr Unicycle 0\n",
      "/m/01nkt Cheese 0\n",
      "/m/063rgb Mixer 0\n",
      "/m/0gjwxv Military organization 0\n",
      "/m/050gv4 Plate 0\n",
      "/m/0dbvp Goose 0\n",
      "/m/0h8mhzd Sports uniform 0\n",
      "/m/01f8m5 Blue jay 0\n",
      "/m/0pd7 Army 0\n",
      "/m/0306r Fox 0\n",
      "/m/0czz2 Antelope 0\n",
      "/m/025syph Fighter pilot 0\n",
      "/m/0xsc Aircraft carrier 0\n",
      "/m/03q5t Harpsichord 0\n",
      "/m/02jfl0 Sombrero 0\n",
      "/m/01h8tj Starfish 0\n",
      "/m/01_bhs Fast food 0\n",
      "/m/01llwg Necklace 0\n",
      "/m/02jnhm Tin can 0\n",
      "/m/01k6s3 toaster 0\n",
      "/m/01s105 Cabinetry 0\n",
      "/m/03ssj5 Bed 0\n",
      "/m/06_fw Skateboard 0\n",
      "/m/0755b Scorpion 0\n",
      "/m/05ctyq Tennis ball 0\n",
      "/m/0by6g Shark 0\n",
      "/m/0dkzw Seat belt 0\n",
      "/m/0h8n5zk Kitchen & dining room table 0\n",
      "/m/01hrv5 Popcorn 0\n",
      "/m/06m11 Rose 0\n",
      "/m/031n1 Foot 0\n",
      "/m/015qbp parking meter 0\n",
      "/m/012w5l Ladder 0\n",
      "/m/07xyvk Coffeemaker 0\n",
      "/m/0dftk Swan 0\n",
      "/m/01lsmm Scissors 0\n",
      "/m/04tn4x Swim cap 0\n",
      "/m/0cnyhnx Bull 0\n",
      "/m/0fj52s Carrot 0\n",
      "/m/02hsrtn Helicopter pilot 0\n",
      "/m/01jw_1 Bus stop 0\n",
      "/m/09kx5 Deer 0\n",
      "/m/06j2d Raven 0\n",
      "/m/02666n Light aircraft carrier 0\n",
      "/m/043nyj Common fig 0\n",
      "/m/01b7fy Headphones 0\n",
      "/m/01vzwd Mortar 0\n",
      "/m/0h8kx63 Spice rack 0\n",
      "/m/06k2mb High heels 0\n",
      "/m/06z37_ Picture frame 0\n",
      "/m/0llzx Sewing machine 0\n",
      "/m/0h8n6ft Cake stand 0\n",
      "/m/04m6gz Porch 0\n",
      "/m/06bt6 Reptile 0\n",
      "/m/02bb1s Sniper rifle 0\n",
      "/m/083wq Wheel 0\n",
      "/m/03bj1 Panda 0\n",
      "/m/04m9y Lizard 0\n",
      "/m/01lynh Stairs 0\n",
      "/m/02068x Gondola 0\n",
      "/m/01h_q0 Military robot 0\n",
      "/m/01hr1w Guided missile destroyer 0\n",
      "/m/02wv6h6 Skirt 0\n",
      "/m/05ws7 Police 0\n",
      "/m/04xd6k Melee weapon 0\n",
      "/m/061_f Pear 0\n",
      "/m/03txqz Scale 0\n",
      "/m/0knpd Flight instruments 0\n",
      "/m/0f6wt Falcon 0\n",
      "/m/0cydv Caterpillar 0\n",
      "/m/077hhl Cargo aircraft 0\n",
      "/m/027pcv Zucchini 0\n",
      "/m/01kqwy Business jet 0\n",
      "/m/06pcq Submarine sandwich 0\n",
      "/m/02pkr5 Plumbing fixture 0\n",
      "/m/09gtd Toilet paper 0\n",
      "/m/0pcr Alpaca 0\n",
      "/m/0120dh Sea turtle 0\n",
      "/m/014trl Cosmetics 0\n",
      "/m/02wbtzl Sun hat 0\n",
      "/m/0frqm Envelope 0\n",
      "/m/0kpqd Watermelon 0\n",
      "/m/01xygc Coat 0\n",
      "/m/0ky7b Dishwasher 0\n",
      "/m/09kmb Spider 0\n",
      "/m/02zvsm Tart 0\n",
      "/m/0f9_l Snail 0\n",
      "/m/0703r8 Loveseat 0\n",
      "/m/0dv9c Racket 0\n",
      "/m/078jl Snake 0\n",
      "/m/0ll1f78 Shrimp 0\n",
      "/m/02dgv Door 0\n",
      "/m/02vqfm Coffee 0\n",
      "/m/018j2 Banjo 0\n",
      "/m/07mhn Trousers 0\n",
      "/m/03qrc Hamster 0\n",
      "/m/065h6l Jacuzzi 0\n",
      "/m/07bgp Sheep 0\n",
      "/m/02pdsw Cutting board 0\n",
      "/m/03hfwtf Military transport aircraft 0\n",
      "/m/01fb_0 Bagel 0\n",
      "/m/033rq4 Street light 0\n",
      "/m/012qdp Military officer 0\n",
      "/m/03hl4l9 Marine invertebrates 0\n",
      "/m/01gkx_ Swimwear 0\n",
      "/m/05y_qt Missile boat 0\n",
      "/m/09b5t Chicken 0\n",
      "/m/057p5t Scoreboard 0\n",
      "/m/09ddx Duck 0\n",
      "/m/029bxz Oven 0\n",
      "/m/0c29q Leopard 0\n",
      "/m/03y6mg Food processor 0\n",
      "/m/03k3r Horse 0\n",
      "/m/04229 Jet engine 0\n",
      "/m/0174k2 Washing machine 0\n",
      "/m/0420v5 Punching bag 0\n",
      "/m/099md Soldier 0\n",
      "/m/01tcjp Muffin 0\n",
      "/m/01cmb2 Miniskirt 0\n",
      "/m/034c16 Pillow 0\n",
      "/m/01mzpv Chair 0\n",
      "/m/01xqw Cello 0\n",
      "/m/03wvsk hair drier 0\n",
      "/m/06__v Snowboard 0\n",
      "/m/01m2v Computer keyboard 0\n",
      "/m/02ctlc Cricket ball 0\n",
      "/m/0c568 Porcupine 0\n",
      "/m/0k1tl Pen 0\n",
      "/m/0h9mv Tire 0\n",
      "/m/0chbx Violence 0\n",
      "/m/0d_2m Moths and butterflies 0\n",
      "/m/018rc1 Ground attack aircraft 0\n",
      "/m/0fp6w Pineapple 0\n",
      "/m/026qbn5 studio couch 0\n",
      "/m/047j0r Filing cabinet 0\n",
      "/m/01dwsz Waffle 0\n",
      "/m/02zn6n Barrel 0\n",
      "/m/0g2bc Drone 0\n",
      "/m/096mb Lion 0\n",
      "/m/01f91_ Pretzel 0\n",
      "/m/014y4n Paddle 0\n",
      "/m/0583b1 Barricade 0\n",
      "/m/02hj4 Dolphin 0\n",
      "/m/02pv19 Stop sign 0\n",
      "/m/0283dt1 Mouth 0\n",
      "/m/07j87 Tomato 0\n",
      "/m/026yq0z Demonstration 0\n",
      "/m/01lrl Carnivore 0\n",
      "/m/03hlz0c Kitchen utensil 0\n",
      "/m/04vv5k Snowplow 0\n",
      "/m/02vkqh8 Wardrobe 0\n",
      "/m/068zj Pig 0\n",
      "/m/02g30s Guacamole 0\n",
      "/m/02p0zyj Riot 0\n",
      "/m/01j4z9 Chainsaw 0\n",
      "/m/0bt_c3 Book 0\n",
      "/m/0dtln Lamp 0\n",
      "/m/025rp__ Cowboy hat 0\n",
      "/m/0633h Polar bear 0\n",
      "/m/02f9f_ Shower 0\n",
      "/m/01gllr Beehive 0\n",
      "/m/01kb5b Flashlight 0\n",
      "/m/0gjkl Watch 0\n",
      "/m/032rk Gun 0\n",
      "/m/03d1rd Ruins 0\n",
      "/m/0663v Pizza 0\n",
      "/m/0h8mzrc Wall clock 0\n",
      "/m/04bcr3 Table 0\n",
      "/m/07fbm7 Strawberry 0\n",
      "/m/024g6 Cocktail 0\n",
      "/m/0hnyx Pastry 0\n",
      "/m/09728 Bread 0\n",
      "/m/019w40 Surfboard 0\n",
      "/m/0l3ms Balance beam 0\n",
      "/m/01x3z Clock 0\n",
      "/m/0342h Guitar 0\n",
      "/m/0133tk Ballistic vest 0\n",
      "/m/0162_1 Towel 0\n",
      "/m/04brg2 Tableware 0\n",
      "/m/0268lbt Hiking equipment 0\n",
      "/m/02xwb Fruit 0\n",
      "/m/0hdln Ruler 0\n",
      "/m/04c0y Kangaroo 0\n",
      "/m/07j7r Tree 0\n",
      "/m/0d4w1 Closet 0\n",
      "/m/01h6rj Military 0\n",
      "/m/0mcx2 Ipod 0\n",
      "/m/05r5c Piano 0\n",
      "/m/03v5tg Drinking straw 0\n",
      "/m/013y1f Organ 0\n",
      "/m/0l515 Sandwich 0\n",
      "/m/03rszm Curtain 0\n",
      "/m/08gqpm cup 0\n",
      "/m/03m3pdh Sofa bed 0\n",
      "/m/015x4r Cucumber 0\n",
      "/m/01nq26 Sock 0\n",
      "/m/0fbw6 Cabbage 0\n",
      "/m/0ccs93 Canary 0\n",
      "/m/014sv8 Eye 0\n",
      "/m/03q5c7 Saucer 0\n",
      "/m/020lf Mouse 0\n",
      "/m/02jz0l Tap 0\n",
      "/m/06_72j Digital clock 0\n",
      "/m/09l63h Military camouflage 0\n",
      "/m/0cxn2 Ice cream 0\n",
      "/m/0cffdh Maple 0\n",
      "/m/06810_ Medium tactical vehicle replacement 0\n",
      "/m/05t_pq Gun turret 0\n",
      "/m/09qck Banana 0\n",
      "/m/06dq9 Radar 0\n",
      "/m/04gth Lavender 0\n",
      "/m/03hj559 Mixing bowl 0\n",
      "/m/016m2d Skull 0\n",
      "/m/03j1ly Emergency vehicle 0\n",
      "/m/01s55n Suitcase 0\n",
      "/m/076lb9 Bench 0\n",
      "/m/0h8nr_l Bathroom accessory 0\n",
      "/m/0152hh Snowman 0\n",
      "/m/01d40f Dress 0\n",
      "/m/02p5f1q Coffee cup 0\n",
      "/m/0449p Jaguar 0\n",
      "/m/0fz0h Honeycomb 0\n",
      "/m/03xxp Invertebrate 0\n",
      "/m/0b_rs Swimming pool 0\n",
      "/m/0dj6p Peach 0\n",
      "/m/07030 Sushi 0\n",
      "/m/0fly7 Jeans 0\n",
      "/m/04zpv Milk 0\n",
      "/m/09tvcd Wine glass 0\n",
      "/m/01j51 Balloon 0\n",
      "/m/02h19r Scarf 0\n",
      "/m/039r6 General aviation 0\n",
      "/m/01xyhv Suit 0\n",
      "/m/06zs7 Sniper 0\n",
      "/m/099ssp Platter 0\n",
      "/m/09d5_ Owl 0\n",
      "/m/03p3bw Bicycle helmet 0\n",
      "/m/05n4y Ostrich 0\n",
      "/m/033cnk Egg 0\n",
      "/m/03nfch Sandal 0\n",
      "/m/08q1tg Crash 0\n",
      "/m/09g1w Toilet 0\n",
      "/m/047v4b Artichoke 0\n",
      "/m/04rky Mammal 0\n",
      "/m/03c7gz Door handle 0\n",
      "/m/0m53l Rays and skates 0\n",
      "/m/0mkg Accordion 0\n",
      "/m/05_5p_0 Table tennis racket 0\n",
      "/m/0k05r Court 0\n",
      "/m/046dlr Alarm clock 0\n",
      "/m/07kng9 Picnic basket 0\n",
      "/m/015qff Traffic light 0\n",
      "/m/04169hn Wood-burning stove 0\n",
      "/m/017ftj Sunglasses 0\n",
      "/m/0dv77 Squash 0\n",
      "/m/02p3w7d Roller skates 0\n",
      "/m/01h3n Bee 0\n",
      "/m/0c9ph5 Flower 0\n",
      "/m/020jm Beetle 0\n",
      "/m/01226z Football 0\n",
      "/m/09f_2 Crocodile 0\n",
      "/m/01bqk0 Bicycle wheel 0\n",
      "/m/0cn6p Otter 0\n",
      "/m/04dr76w Bottle 0\n",
      "/m/0130jx Sink 0\n",
      "/m/01bfm9 Shorts 0\n",
      "/m/05kms Oboe 0\n",
      "/m/029tx Dinosaur 0\n",
      "/m/0319l Horn 0\n",
      "/m/0jqgx Lily 0\n",
      "/m/03dnzn Bathtub 0\n",
      "/m/02zt3 Kite 0\n",
      "/m/0fqt361 Stool 0\n",
      "/m/04qvtq Police car 0\n",
      "/m/0h8my_4 Tennis racket 0\n",
      "/m/057cc Musical keyboard 0\n",
      "/m/0463sg Fashion accessory 0\n",
      "/m/052sf Mushroom 0\n",
      "/m/02wmf frisbee 0\n",
      "/m/0fldg Mango 0\n",
      "/m/015p6 Bird 0\n",
      "/m/0hnnb Umbrella 0\n",
      "/m/0cjs7 Asparagus 0\n",
      "/m/035vxb Isopod 0\n",
      "/m/08hvt4 Jug 0\n",
      "/m/01ww8y Snack 0\n",
      "/m/03fp41 Houseplant 0\n",
      "/m/04c2cp Dispatcher 0\n",
      "/m/0gt4z Security guard 0\n",
      "/m/040b_t Refrigerator 0\n",
      "/m/0gd2v Marine mammal 0\n",
      "/m/0174n1 Glove 0\n",
      "/m/01pns0 Fire hydrant 0\n",
      "/m/02q5pxq Aircraft cabin 0\n",
      "/m/0dbzx Mule 0\n",
      "/m/01d380 Drill 0\n",
      "/m/02wv84t Gas stove 0\n",
      "/m/0fbdv Shellfish 0\n",
      "/m/0gd36 Sea lion 0\n",
      "/m/05y5lj Sports equipment 0\n",
      "/m/0nl46 Crown 0\n",
      "/m/02522 Computer monitor 0\n",
      "/m/01dy8n Woodpecker 0\n",
      "/m/02y6n French fries 0\n",
      "/m/01dws Bear 0\n",
      "/m/01b638 Boot 0\n",
      "/m/02ryw Explosive material 0\n",
      "/m/031b6r Window blind 0\n",
      "/m/0cjq5 Lobster 0\n",
      "/m/04kkgm Bowl 0\n",
      "/m/0nybt Seahorse 0\n",
      "/m/06c7f7 Lipstick 0\n",
      "/m/0fx9l Microwave oven 0\n",
      "/m/0dt3t Fork 0\n",
      "/m/0242l Coin 0\n",
      "/m/071qp Squirrel 0\n",
      "/m/02h66g5 Military person 0\n",
      "/m/01h44 Bat 0\n",
      "/m/05vtc Potato 0\n",
      "/m/06l9r Red panda 0\n",
      "/m/078n6m Coffee table 0\n",
      "/m/03grzl Baseball glove 0\n",
      "/m/012074 Magpie 0\n",
      "/m/029b3 Dice 0\n",
      "/m/03bk1 Giraffe 0\n",
      "/m/07gql Trumpet 0\n",
      "/m/02w3r3 Paper towel 0\n",
      "/m/02rgn06 Volleyball 0\n",
      "/m/0qjjc Remote control 0\n",
      "/m/06ncr Saxophone 0\n",
      "/m/08p92x Cream 0\n",
      "/m/01x_v Camel 0\n",
      "/m/0220r2 Fountain 0\n",
      "/m/0d4v4 Window 0\n",
      "/m/01z1kdw Juice 0\n",
      "/m/05gqfk Plastic bag 0\n",
      "/m/07crc Taco 0\n",
      "/m/030610 Treadmill 0\n",
      "/m/0584n8 Briefcase 0\n",
      "/m/047b9vj Gps navigation device 0\n",
      "/m/0ph39 Canoe 0\n",
      "/m/0l14j_ Flute 0\n",
      "/m/04v6l4 Frying pan 0\n",
      "/m/02mwm5 Police dog 0\n",
      "/m/03vt0 Insect 0\n",
      "/m/019dx1 Home appliance 0\n",
      "/m/0271qf7 Wine rack 0\n",
      "/m/0167gd Doll 0\n",
      "/m/0cyf8 Butterfly 0\n",
      "/m/02tsc9 Slow cooker 0\n",
      "/m/03ldnb Ceiling fan 0\n",
      "/m/01y9k5 Desk 0\n",
      "/m/0h23m Sparrow 0\n",
      "/m/02fq_6 Fedora 0\n",
      "/m/04rmv Mouse 0\n",
      "/m/011k07 Tortoise 0\n",
      "/m/07pj7bq Bowling equipment 0\n",
      "/m/09csl Eagle 0\n",
      "/m/05kyg_ Chest of drawers 0\n",
      "/m/0b3fp9 Countertop 0\n",
      "/m/0jy4k Doughnut 0\n",
      "/m/03vntj Full-size car 0\n",
      "/m/015wgc Croissant 0\n",
      "/m/044r5d Golf ball 0\n",
      "/m/0kpt_ Cantaloupe 0\n",
      "/m/0y8r Armored car 0\n",
      "/m/0c06p Candle 0\n",
      "/m/02crq1 Couch 0\n",
      "/m/03fwl Goat 0\n",
      "/m/0ftb8 Sunflower 0\n",
      "/m/0fzyg Aviation 0\n",
      "/m/03q69 Hair 0\n",
      "/m/04yqq2 Bust 0\n",
      "/m/0d8zb Jellyfish 0\n",
      "/m/0hqkz Grapefruit 0\n",
      "/m/09k_b Lemon 0\n",
      "/m/058qzx Kitchen knife 0\n",
      "/m/03kt2w Stationary bicycle 0\n",
      "/m/01b9xk Hot dog 0\n",
      "/m/0fqfqc Drawer 0\n",
      "/m/09j2d Clothing 0\n",
      "/m/09f20 Hippopotamus 0\n",
      "/m/06mf6 Rabbit 0\n",
      "/m/02s195 Vase 0\n",
      "/m/03__z0 Bookcase 0\n",
      "/m/0dq75 Raccoon 0\n",
      "/m/0_cp5 Oyster 0\n",
      "/m/084hf Worm 0\n",
      "/m/061hd_ Infant bed 0\n",
      "/m/01vbnl Bidet 0\n",
      "/m/012ndj Fire apparatus 0\n",
      "/m/0dzf4 Arm 0\n",
      "/m/084rd Wok 0\n",
      "/m/027rl48 Ladle 0\n",
      "/m/01g3x7 Bow and arrow 0\n",
      "/m/025nd Christmas tree 0\n",
      "/m/08pbxl Monkey 0\n",
      "/m/0jly1 Turkey 0\n",
      "/m/0n28_ Crab 0\n",
      "/m/0bwd_0j Elephant 0\n",
      "/m/0ft9s Dragonfly 0\n",
      "/m/054_l Mirror 0\n",
      "/m/01rkbr Tie 0\n",
      "/m/013m1 Air force 0\n",
      "/m/014j1m Apple 0\n",
      "/m/04g2r Lynx 0\n",
      "/m/0cvnqh Bench 0\n",
      "/m/06nwz Seafood 0\n",
      "/m/0fszt Cake 0\n",
      "/m/0h8n27j Serving tray 0\n",
      "/m/0642b4 Cupboard 0\n",
      "/m/01xq0k1 Cattle 0\n",
      "/m/03s_tn Kettle 0\n",
      "/m/01n4qj Shirt 0\n",
      "/m/0176mf Belt 0\n",
      "/m/0jwn_ Pomegranate 0\n",
      "/m/03tw93 Fireplace 0\n",
      "/m/03m5k Harp 0\n",
      "background background 0\n",
      "/m/021mn Cookie 0\n",
      "/m/01m4t Printer 0\n",
      "/m/0dkw5 Machine 0\n",
      "/m/080hkjn Handbag 0\n",
      "/m/0k0pj Nose 0\n",
      "/m/01jfsr Lantern 0\n",
      "/m/02pjr4 Blender 0\n",
      "/m/024d2 Calculator 0\n",
      "/m/03bbps Power plugs and sockets 0\n",
      "/m/025dyy Box 0\n",
      "/m/0h8l4fh Light bulb 0\n",
      "/m/0h99cwc Kitchen appliance 0\n",
      "/m/09j5n Footwear 0\n",
      "/m/05zsy Pumpkin 0\n",
      "/m/01_5g Chopsticks 0\n",
      "/m/09ld4 Frog 0\n",
      "/m/0mw_6 Willow 0\n",
      "/m/0h8n6f9 Dog bed 0\n",
      "/m/0cdl1 Palm tree 0\n",
      "/m/0138tl Toy 0\n",
      "/m/0cd4d Cheetah 0\n",
      "/m/01dxs Brown bear 0\n",
      "/m/073bxn Tripod 0\n",
      "/m/0bjyj5 Waste container 0\n",
      "/m/0k65p Hand 0\n",
      "/m/012ysf Syringe 0\n",
      "/m/073g6 Stethoscope 0\n",
      "/m/02l8p9 Harbor seal 0\n",
      "/m/02x8cch Salt and pepper shakers 0\n",
      "/m/01mqdt Traffic sign 0\n",
      "/m/02z51p Nightstand 0\n",
      "/m/05pdd_v Fire department 0\n",
      "/m/019h78 Centipede 0\n",
      "/m/02jvh9 Mug 0\n",
      "/m/04y4h8h Bathroom cabinet 0\n",
      "/m/039xj_ Ear 0\n",
      "/m/04szw Musical instrument 0\n",
      "/m/0gjbg72 Shelf 0\n",
      "/m/02w3_ws Personal care 0\n",
      "/m/07clx Tea 0\n",
      "/m/0_k2 Ant 0\n",
      "/m/0898b Zebra 0\n",
      "/m/0ch_cf Fish 0\n",
      "/m/01j3zr Burrito 0\n",
      "/m/0p833 Perfume 0\n",
      "/m/0cl4p Hedgehog 0\n",
      "/m/012xff Toothbrush 0\n",
      "/m/03jbxj Light switch 0\n",
      "/m/04h8sr Dumbbell 0\n",
      "/m/0g02q Courthouse 0\n",
      "/m/07c6l Trombone 0\n",
      "/m/02dl1y Hat 0\n",
      "/m/0wdt60w Rugby ball 0\n",
      "/m/026t6 Drum 0\n",
      "/m/0byj4 Combat 0\n",
      "/m/084zz Whale 0\n",
      "/m/014zdl Explosion 0\n",
      "/m/0245kq Stealth aircraft 0\n",
      "/m/0gj37 Ladybug 0\n",
      "/m/0271t Drink 0\n",
      "/m/01krhy Tiara 0\n",
      "/m/02x984l Mechanical fan 0\n",
      "/m/025sb2w Supersonic aircraft 0\n",
      "/m/03g8mr Baseball bat 0\n",
      "/m/032b3c Jacket 0\n",
      "/m/02cvgx Winter melon 0\n",
      "/m/0jg57 Bell pepper 0\n",
      "/m/0fm3zh Flowerpot 0\n",
      "/m/071p9 Ski 0\n",
      "/m/01gmv2 Brassiere 0\n",
      "/m/0gty6zf Law enforcement 0\n",
      "/m/0hkxq Broccoli 0\n",
      "/m/0cmx8 Spoon 0\n",
      "/m/014tl Ammunition 0\n",
      "/m/018xm Ball 0\n",
      "/m/052lwg6 Baked goods 0\n",
      "/m/04cp_ Koala 0\n",
      "/m/01jfm_ Licence plate 0\n",
      "/m/0grw1 Salad 0\n",
      "/m/0270h Dessert 0\n",
      "/m/05z55 Pasta 0\n",
      "/m/015_d Bomber 0\n",
      "/m/0gm28 Candy 0\n",
      "/m/035r7c Leg 0\n",
      "/m/0gv1x Parrot 0\n",
      "/m/0284d Dairy 0\n",
      "/m/01940j Backpack 0\n"
     ]
    }
   ],
   "source": [
    "for i in idx:\n",
    "    print(all_labels[i], mid2name_all[all_labels[i]], len(label_to_img[all_labels[i]]))"
   ]
  },
  {
   "cell_type": "code",
   "execution_count": 24,
   "metadata": {},
   "outputs": [],
   "source": [
    "select_labels = ['/m/01fnck', '/m/019jd', '/m/03120', '/m/02_41', '/m/07cmd', '/m/06q40', '/m/03qtwd', '/m/09x0r', '/m/01xgg_', '/m/08qrwn', '/m/012n4x', '/m/02p16m6', '/m/02lbcq', '/m/09ct_', '/m/0g54v5d', '/m/0bg2p', '/m/0ct4f', '/m/01nd_n', '/m/09rvcxw', '/m/01nl4x', '/m/04ctx', '/m/04ylt', '/m/0gvss07', '/m/01rzcn', '/m/06nrc', '/m/0cyfs', '/m/0f5lx|', '/m/04zjc', '/m/0dhz0', '/m/01lcw4', '/m/03htg', '/m/0gxl3', '/m/01bq8v', '/m/0lt4_', '/m/02gzp', '/m/02yjc', '/m/012n7d', '/m/0jb3']"
   ]
  },
  {
   "cell_type": "code",
   "execution_count": null,
   "metadata": {},
   "outputs": [],
   "source": []
  },
  {
   "cell_type": "markdown",
   "metadata": {},
   "source": [
    "## Visualizing Results"
   ]
  },
  {
   "cell_type": "code",
   "execution_count": 12,
   "metadata": {},
   "outputs": [],
   "source": [
    "mid2name_extended = {}\n",
    "extended_classes = set()\n",
    "for key in coco_mids:\n",
    "    for model, abv in [('coco', 'CO'), ('oi', 'OI'), ('ws', 'WS'), ('coco/J', 'CO/J'), ('oi/J', 'OI/J'), ('ws/J', 'WS/J')]:\n",
    "        extended_classes.add(key + '/' + model)\n",
    "        mid2name_extended[key + '/' + model] = mid2name_coco[key] + f' ({abv})'\n",
    "for key in oi_mids:\n",
    "    for model, abv in [('coco', 'CO'), ('oi', 'OI'), ('ws', 'WS'), ('coco/J', 'CO/J'), ('oi/J', 'OI/J'), ('ws/J', 'WS/J')]:\n",
    "        extended_classes.add(key + '/' + model)\n",
    "        mid2name_extended[key + '/' + model] = mid2name_oi[key] + f' ({abv})'\n",
    "for key in ws_mids:\n",
    "    for model, abv in [('coco', 'CO'), ('oi', 'OI'), ('ws', 'WS'), ('coco/J', 'CO/J'), ('oi/J', 'OI/J'), ('ws/J', 'WS/J')]:\n",
    "        extended_classes.add(key + '/' + model)\n",
    "        mid2name_extended[key + '/' + model] = mid2name_ws[key] + f' ({abv})'\n",
    "extended_classes = list(extended_classes)\n",
    "mid2idx_extended = {}\n",
    "for i, key in enumerate(extended_classes):\n",
    "    mid2idx_extended[key] = i\n",
    "category_index_extended = {mid2idx_extended[key]:{'id': mid2idx_extended[key], 'name': mid2name_extended[key]} for key in mid2name_extended}"
   ]
  },
  {
   "cell_type": "code",
   "execution_count": 13,
   "metadata": {},
   "outputs": [],
   "source": [
    "det_results_forviz = copy.deepcopy(det_results_sorted)"
   ]
  },
  {
   "cell_type": "code",
   "execution_count": 14,
   "metadata": {},
   "outputs": [],
   "source": [
    "for key in det_results_forviz:\n",
    "    for i in range(len(det_results_forviz[key]['detection_classes'])):\n",
    "        label = det_results_forviz[key]['detection_classes'][i] + '/' + det_results_forviz[key]['detection_models'][i]\n",
    "        det_results_forviz[key]['detection_classes'][i] = mid2idx_extended[label]\n"
   ]
  },
  {
   "cell_type": "code",
   "execution_count": 15,
   "metadata": {},
   "outputs": [
    {
     "name": "stdout",
     "output_type": "stream",
     "text": [
      "[2554, 3896, 339, 4405, 1676, 3657, 1076, 3878, 1076, 1866, 1676, 3837, 1929, 3776, 2460, 1352, 69, 3550, 3103, 1411, 2578, 636, 252, 505, 40, 2321, 505, 4081, 2070, 2178, 2960, 3823, 3690, 2271, 903, 501, 932]\n"
     ]
    }
   ],
   "source": [
    "print(det_results_forviz[key]['detection_classes'])"
   ]
  },
  {
   "cell_type": "code",
   "execution_count": null,
   "metadata": {},
   "outputs": [],
   "source": []
  },
  {
   "cell_type": "code",
   "execution_count": 16,
   "metadata": {},
   "outputs": [],
   "source": [
    "def preproc(im):\n",
    "    target_size = 400\n",
    "    max_size = 1024\n",
    "    im_size_min = np.min(im.shape[0:2])\n",
    "    im_size_max = np.max(im.shape[0:2])\n",
    "    im_scale = float(target_size) / float(im_size_min)\n",
    "    # Prevent the biggest axis from being more than MAX_SIZE\n",
    "    if np.round(im_scale * im_size_max) > max_size:\n",
    "        im_scale = float(max_size) / float(im_size_max)\n",
    "    im = cv2.resize(im, None, None, fx=im_scale, fy=im_scale,\n",
    "                    interpolation=cv2.INTER_LINEAR)    \n",
    "    return im"
   ]
  },
  {
   "cell_type": "code",
   "execution_count": null,
   "metadata": {},
   "outputs": [],
   "source": []
  },
  {
   "cell_type": "code",
   "execution_count": 17,
   "metadata": {},
   "outputs": [],
   "source": [
    "def show(imgid, thresh):\n",
    "    filename = '../../../../data/seedling/seedling_part1/jpg/' + imgid\n",
    "    print(imgid)\n",
    "    with open(filename, 'rb') as fin:\n",
    "        _ = fin.read(1024)\n",
    "        imgbin = fin.read()\n",
    "    imgbgr = cv2.imdecode(np.fromstring(imgbin, dtype='uint8'), cv2.IMREAD_COLOR)\n",
    "    image_np = imgbgr[:,:,[2,1,0]]\n",
    "    image_np = preproc(image_np)\n",
    "    vis_util.visualize_boxes_and_labels_on_image_array(\n",
    "      image_np,\n",
    "      np.asarray(det_results_forviz[imgid]['detection_boxes_normalized']),\n",
    "      det_results_forviz[imgid]['detection_classes'],\n",
    "      det_results_forviz[imgid]['detection_scores'],\n",
    "      category_index_extended,\n",
    "      instance_masks=det_results_forviz[imgid].get('detection_masks'),\n",
    "      use_normalized_coordinates=True,\n",
    "      min_score_thresh=thresh,\n",
    "      line_thickness=2)\n",
    "    plt.figure(figsize=(12, 8))\n",
    "    plt.imshow(image_np)\n",
    "    plt.show()    "
   ]
  },
  {
   "cell_type": "code",
   "execution_count": 18,
   "metadata": {
    "scrolled": false
   },
   "outputs": [
    {
     "name": "stdout",
     "output_type": "stream",
     "text": [
      "Trailer truck\n"
     ]
    },
    {
     "data": {
      "application/vnd.jupyter.widget-view+json": {
       "model_id": "c493d24dd9534d63b45fcd80a4792711",
       "version_major": 2,
       "version_minor": 0
      },
      "text/plain": [
       "interactive(children=(FloatSlider(value=0.35, continuous_update=False, description='thresh', max=1.0, step=0.0…"
      ]
     },
     "metadata": {},
     "output_type": "display_data"
    },
    {
     "name": "stdout",
     "output_type": "stream",
     "text": [
      "Fence\n"
     ]
    },
    {
     "data": {
      "application/vnd.jupyter.widget-view+json": {
       "model_id": "ebbd8dad332142fbb1ce5ac83b9984df",
       "version_major": 2,
       "version_minor": 0
      },
      "text/plain": [
       "interactive(children=(FloatSlider(value=0.35, continuous_update=False, description='thresh', max=1.0, step=0.0…"
      ]
     },
     "metadata": {},
     "output_type": "display_data"
    },
    {
     "name": "stdout",
     "output_type": "stream",
     "text": [
      "Submarine\n"
     ]
    },
    {
     "data": {
      "application/vnd.jupyter.widget-view+json": {
       "model_id": "6ad5f5725aed4136bcd7f023e96a16e9",
       "version_major": 2,
       "version_minor": 0
      },
      "text/plain": [
       "interactive(children=(FloatSlider(value=0.35, continuous_update=False, description='thresh', max=1.0, step=0.0…"
      ]
     },
     "metadata": {},
     "output_type": "display_data"
    },
    {
     "name": "stdout",
     "output_type": "stream",
     "text": [
      "Troop\n"
     ]
    },
    {
     "data": {
      "application/vnd.jupyter.widget-view+json": {
       "model_id": "ce76c4479b334d65a50bd0a3c4fafb7c",
       "version_major": 2,
       "version_minor": 0
      },
      "text/plain": [
       "interactive(children=(FloatSlider(value=0.35, continuous_update=False, description='thresh', max=1.0, step=0.0…"
      ]
     },
     "metadata": {},
     "output_type": "display_data"
    },
    {
     "name": "stdout",
     "output_type": "stream",
     "text": [
      "Public speaking\n"
     ]
    },
    {
     "data": {
      "application/vnd.jupyter.widget-view+json": {
       "model_id": "7cce7f7d9a384685a7d2237ac013e041",
       "version_major": 2,
       "version_minor": 0
      },
      "text/plain": [
       "interactive(children=(FloatSlider(value=0.35, continuous_update=False, description='thresh', max=1.0, step=0.0…"
      ]
     },
     "metadata": {},
     "output_type": "display_data"
    },
    {
     "name": "stdout",
     "output_type": "stream",
     "text": [
      "Highway\n"
     ]
    },
    {
     "data": {
      "application/vnd.jupyter.widget-view+json": {
       "model_id": "1710ffd2353946dfb293dd4236eb1a57",
       "version_major": 2,
       "version_minor": 0
      },
      "text/plain": [
       "interactive(children=(FloatSlider(value=0.35, continuous_update=False, description='thresh', max=1.0, step=0.0…"
      ]
     },
     "metadata": {},
     "output_type": "display_data"
    },
    {
     "name": "stdout",
     "output_type": "stream",
     "text": [
      "Crowd\n"
     ]
    },
    {
     "data": {
      "application/vnd.jupyter.widget-view+json": {
       "model_id": "63eeeb33801b41acae2b61d4499f8618",
       "version_major": 2,
       "version_minor": 0
      },
      "text/plain": [
       "interactive(children=(FloatSlider(value=0.35, continuous_update=False, description='thresh', max=1.0, step=0.0…"
      ]
     },
     "metadata": {},
     "output_type": "display_data"
    },
    {
     "name": "stdout",
     "output_type": "stream",
     "text": [
      "Land vehicle\n"
     ]
    },
    {
     "data": {
      "application/vnd.jupyter.widget-view+json": {
       "model_id": "47dc2c766974445487a99c1658eb5b00",
       "version_major": 2,
       "version_minor": 0
      },
      "text/plain": [
       "interactive(children=(FloatSlider(value=0.35, continuous_update=False, description='thresh', max=1.0, step=0.0…"
      ]
     },
     "metadata": {},
     "output_type": "display_data"
    },
    {
     "name": "stdout",
     "output_type": "stream",
     "text": [
      "Festival\n"
     ]
    },
    {
     "data": {
      "application/vnd.jupyter.widget-view+json": {
       "model_id": "6f2a855f27c345a9ba5ba0bb528102f0",
       "version_major": 2,
       "version_minor": 0
      },
      "text/plain": [
       "interactive(children=(FloatSlider(value=0.35, continuous_update=False, description='thresh', max=1.0, step=0.0…"
      ]
     },
     "metadata": {},
     "output_type": "display_data"
    },
    {
     "name": "stdout",
     "output_type": "stream",
     "text": [
      "Infrastructure\n"
     ]
    },
    {
     "data": {
      "application/vnd.jupyter.widget-view+json": {
       "model_id": "29641575e4c64af78f5442469f5c791a",
       "version_major": 2,
       "version_minor": 0
      },
      "text/plain": [
       "interactive(children=(FloatSlider(value=0.35, continuous_update=False, description='thresh', max=1.0, step=0.0…"
      ]
     },
     "metadata": {},
     "output_type": "display_data"
    },
    {
     "name": "stdout",
     "output_type": "stream",
     "text": [
      "Lectern\n"
     ]
    },
    {
     "data": {
      "application/vnd.jupyter.widget-view+json": {
       "model_id": "5dce587c480c465c899fe282c288c18e",
       "version_major": 2,
       "version_minor": 0
      },
      "text/plain": [
       "interactive(children=(FloatSlider(value=0.35, continuous_update=False, description='thresh', max=1.0, step=0.0…"
      ]
     },
     "metadata": {},
     "output_type": "display_data"
    },
    {
     "name": "stdout",
     "output_type": "stream",
     "text": [
      "Boy\n"
     ]
    },
    {
     "data": {
      "application/vnd.jupyter.widget-view+json": {
       "model_id": "039d9ff155a14ce79f0b3ee5a52a18b4",
       "version_major": 2,
       "version_minor": 0
      },
      "text/plain": [
       "interactive(children=(FloatSlider(value=0.35, continuous_update=False, description='thresh', max=1.0, step=0.0…"
      ]
     },
     "metadata": {},
     "output_type": "display_data"
    },
    {
     "name": "stdout",
     "output_type": "stream",
     "text": [
      "Tool\n"
     ]
    },
    {
     "data": {
      "application/vnd.jupyter.widget-view+json": {
       "model_id": "65d98ebd67d648bdae9bb7670f29de8d",
       "version_major": 2,
       "version_minor": 0
      },
      "text/plain": [
       "interactive(children=(FloatSlider(value=0.35, continuous_update=False, description='thresh', max=1.0, step=0.0…"
      ]
     },
     "metadata": {},
     "output_type": "display_data"
    },
    {
     "name": "stdout",
     "output_type": "stream",
     "text": [
      "Golf cart\n"
     ]
    },
    {
     "data": {
      "application/vnd.jupyter.widget-view+json": {
       "model_id": "97f8455c103a4dffb9bf46c822401367",
       "version_major": 2,
       "version_minor": 0
      },
      "text/plain": [
       "interactive(children=(FloatSlider(value=0.35, continuous_update=False, description='thresh', max=1.0, step=0.0…"
      ]
     },
     "metadata": {},
     "output_type": "display_data"
    },
    {
     "name": "stdout",
     "output_type": "stream",
     "text": [
      "Personal protective equipment\n"
     ]
    },
    {
     "data": {
      "application/vnd.jupyter.widget-view+json": {
       "model_id": "bba70d686027440ba05fd6c848ff645a",
       "version_major": 2,
       "version_minor": 0
      },
      "text/plain": [
       "interactive(children=(FloatSlider(value=0.35, continuous_update=False, description='thresh', max=1.0, step=0.0…"
      ]
     },
     "metadata": {},
     "output_type": "display_data"
    },
    {
     "name": "stdout",
     "output_type": "stream",
     "text": [
      "Executive car\n"
     ]
    },
    {
     "data": {
      "application/vnd.jupyter.widget-view+json": {
       "model_id": "4bad801a8c7842c589b578d9ba0461c6",
       "version_major": 2,
       "version_minor": 0
      },
      "text/plain": [
       "interactive(children=(FloatSlider(value=0.35, continuous_update=False, description='thresh', max=1.0, step=0.0…"
      ]
     },
     "metadata": {},
     "output_type": "display_data"
    },
    {
     "name": "stdout",
     "output_type": "stream",
     "text": [
      "Dagger\n"
     ]
    },
    {
     "data": {
      "application/vnd.jupyter.widget-view+json": {
       "model_id": "b50be787ac1148ff92494b5fbafd87fc",
       "version_major": 2,
       "version_minor": 0
      },
      "text/plain": [
       "interactive(children=(FloatSlider(value=0.35, continuous_update=False, description='thresh', max=1.0, step=0.0…"
      ]
     },
     "metadata": {},
     "output_type": "display_data"
    },
    {
     "name": "stdout",
     "output_type": "stream",
     "text": [
      "Commercial building\n"
     ]
    },
    {
     "data": {
      "application/vnd.jupyter.widget-view+json": {
       "model_id": "ba208a6fe85446bea19c6e41d2810847",
       "version_major": 2,
       "version_minor": 0
      },
      "text/plain": [
       "interactive(children=(FloatSlider(value=0.35, continuous_update=False, description='thresh', max=1.0, step=0.0…"
      ]
     },
     "metadata": {},
     "output_type": "display_data"
    },
    {
     "name": "stdout",
     "output_type": "stream",
     "text": [
      "Motor vehicle\n"
     ]
    },
    {
     "data": {
      "application/vnd.jupyter.widget-view+json": {
       "model_id": "2c1605e327ee4e829b689ab53d1920e7",
       "version_major": 2,
       "version_minor": 0
      },
      "text/plain": [
       "interactive(children=(FloatSlider(value=0.35, continuous_update=False, description='thresh', max=1.0, step=0.0…"
      ]
     },
     "metadata": {},
     "output_type": "display_data"
    },
    {
     "name": "stdout",
     "output_type": "stream",
     "text": [
      "Estate\n"
     ]
    },
    {
     "data": {
      "application/vnd.jupyter.widget-view+json": {
       "model_id": "4120774628ce4f15870c97dddb51686d",
       "version_major": 2,
       "version_minor": 0
      },
      "text/plain": [
       "interactive(children=(FloatSlider(value=0.35, continuous_update=False, description='thresh', max=1.0, step=0.0…"
      ]
     },
     "metadata": {},
     "output_type": "display_data"
    },
    {
     "name": "stdout",
     "output_type": "stream",
     "text": [
      "Property\n"
     ]
    },
    {
     "data": {
      "application/vnd.jupyter.widget-view+json": {
       "model_id": "9ee0bf761c7d4cd693aedb9e34b62559",
       "version_major": 2,
       "version_minor": 0
      },
      "text/plain": [
       "interactive(children=(FloatSlider(value=0.35, continuous_update=False, description='thresh', max=1.0, step=0.0…"
      ]
     },
     "metadata": {},
     "output_type": "display_data"
    },
    {
     "name": "stdout",
     "output_type": "stream",
     "text": [
      "Helicopter\n"
     ]
    },
    {
     "data": {
      "application/vnd.jupyter.widget-view+json": {
       "model_id": "dc17b616bef44cbdb1ad34decf057d20",
       "version_major": 2,
       "version_minor": 0
      },
      "text/plain": [
       "interactive(children=(FloatSlider(value=0.35, continuous_update=False, description='thresh', max=1.0, step=0.0…"
      ]
     },
     "metadata": {},
     "output_type": "display_data"
    },
    {
     "name": "stdout",
     "output_type": "stream",
     "text": [
      "Sailing\n"
     ]
    },
    {
     "data": {
      "application/vnd.jupyter.widget-view+json": {
       "model_id": "0357ea02681d4c27a1edf409c4544b46",
       "version_major": 2,
       "version_minor": 0
      },
      "text/plain": [
       "interactive(children=(FloatSlider(value=0.35, continuous_update=False, description='thresh', max=1.0, step=0.0…"
      ]
     },
     "metadata": {},
     "output_type": "display_data"
    },
    {
     "name": "stdout",
     "output_type": "stream",
     "text": [
      "Conference hall\n"
     ]
    },
    {
     "data": {
      "application/vnd.jupyter.widget-view+json": {
       "model_id": "76599bacb6d94f2aaa3657aa8e1bc90a",
       "version_major": 2,
       "version_minor": 0
      },
      "text/plain": [
       "interactive(children=(FloatSlider(value=0.35, continuous_update=False, description='thresh', max=1.0, step=0.0…"
      ]
     },
     "metadata": {},
     "output_type": "display_data"
    },
    {
     "name": "stdout",
     "output_type": "stream",
     "text": [
      "Child\n"
     ]
    },
    {
     "data": {
      "application/vnd.jupyter.widget-view+json": {
       "model_id": "e2454d66f72746e1bf10ad1088e3b8a1",
       "version_major": 2,
       "version_minor": 0
      },
      "text/plain": [
       "interactive(children=(FloatSlider(value=0.35, continuous_update=False, description='thresh', max=1.0, step=0.0…"
      ]
     },
     "metadata": {},
     "output_type": "display_data"
    },
    {
     "name": "stdout",
     "output_type": "stream",
     "text": [
      "Plant\n"
     ]
    },
    {
     "data": {
      "application/vnd.jupyter.widget-view+json": {
       "model_id": "64428ecd1f414547943633e60a7ad6ff",
       "version_major": 2,
       "version_minor": 0
      },
      "text/plain": [
       "interactive(children=(FloatSlider(value=0.35, continuous_update=False, description='thresh', max=1.0, step=0.0…"
      ]
     },
     "metadata": {},
     "output_type": "display_data"
    },
    {
     "name": "stdout",
     "output_type": "stream",
     "text": [
      "Home\n"
     ]
    },
    {
     "data": {
      "application/vnd.jupyter.widget-view+json": {
       "model_id": "fb3087d369d44dac805b53fac3bd3867",
       "version_major": 2,
       "version_minor": 0
      },
      "text/plain": [
       "interactive(children=(FloatSlider(value=0.35, continuous_update=False, description='thresh', max=1.0, step=0.0…"
      ]
     },
     "metadata": {},
     "output_type": "display_data"
    },
    {
     "name": "stdout",
     "output_type": "stream",
     "text": [
      "Air travel\n"
     ]
    },
    {
     "data": {
      "application/vnd.jupyter.widget-view+json": {
       "model_id": "3507f821ed994b64b5f877f4f4a6e9fa",
       "version_major": 2,
       "version_minor": 0
      },
      "text/plain": [
       "interactive(children=(FloatSlider(value=0.35, continuous_update=False, description='thresh', max=1.0, step=0.0…"
      ]
     },
     "metadata": {},
     "output_type": "display_data"
    },
    {
     "name": "stdout",
     "output_type": "stream",
     "text": [
      "Sculpture\n"
     ]
    },
    {
     "data": {
      "application/vnd.jupyter.widget-view+json": {
       "model_id": "78721d3dffaf40f59a0f9bb888b50da8",
       "version_major": 2,
       "version_minor": 0
      },
      "text/plain": [
       "interactive(children=(FloatSlider(value=0.35, continuous_update=False, description='thresh', max=1.0, step=0.0…"
      ]
     },
     "metadata": {},
     "output_type": "display_data"
    },
    {
     "name": "stdout",
     "output_type": "stream",
     "text": [
      "Podium\n"
     ]
    },
    {
     "data": {
      "application/vnd.jupyter.widget-view+json": {
       "model_id": "e4047ff9e7c045eb9ab05e319ccd88ad",
       "version_major": 2,
       "version_minor": 0
      },
      "text/plain": [
       "interactive(children=(FloatSlider(value=0.35, continuous_update=False, description='thresh', max=1.0, step=0.0…"
      ]
     },
     "metadata": {},
     "output_type": "display_data"
    },
    {
     "name": "stdout",
     "output_type": "stream",
     "text": [
      "Double-decker bus\n"
     ]
    },
    {
     "data": {
      "application/vnd.jupyter.widget-view+json": {
       "model_id": "94cdb5ed7954490599e36ff92a7c9659",
       "version_major": 2,
       "version_minor": 0
      },
      "text/plain": [
       "interactive(children=(FloatSlider(value=0.35, continuous_update=False, description='thresh', max=1.0, step=0.0…"
      ]
     },
     "metadata": {},
     "output_type": "display_data"
    },
    {
     "name": "stdout",
     "output_type": "stream",
     "text": [
      "Logo\n"
     ]
    },
    {
     "data": {
      "application/vnd.jupyter.widget-view+json": {
       "model_id": "9f4c191a8beb4957970442a601b3b128",
       "version_major": 2,
       "version_minor": 0
      },
      "text/plain": [
       "interactive(children=(FloatSlider(value=0.35, continuous_update=False, description='thresh', max=1.0, step=0.0…"
      ]
     },
     "metadata": {},
     "output_type": "display_data"
    },
    {
     "name": "stdout",
     "output_type": "stream",
     "text": [
      "Wedding\n"
     ]
    },
    {
     "data": {
      "application/vnd.jupyter.widget-view+json": {
       "model_id": "12655ddb8e4d4fd48a27f64c84db4750",
       "version_major": 2,
       "version_minor": 0
      },
      "text/plain": [
       "interactive(children=(FloatSlider(value=0.35, continuous_update=False, description='thresh', max=1.0, step=0.0…"
      ]
     },
     "metadata": {},
     "output_type": "display_data"
    },
    {
     "name": "stdout",
     "output_type": "stream",
     "text": [
      "Barge\n"
     ]
    },
    {
     "data": {
      "application/vnd.jupyter.widget-view+json": {
       "model_id": "218035aa8d4f4b5dbacbd945761212d1",
       "version_major": 2,
       "version_minor": 0
      },
      "text/plain": [
       "interactive(children=(FloatSlider(value=0.35, continuous_update=False, description='thresh', max=1.0, step=0.0…"
      ]
     },
     "metadata": {},
     "output_type": "display_data"
    },
    {
     "name": "stdout",
     "output_type": "stream",
     "text": [
      "Television\n"
     ]
    },
    {
     "data": {
      "application/vnd.jupyter.widget-view+json": {
       "model_id": "776a0118e0f24d3eb66205fbacb01e7c",
       "version_major": 2,
       "version_minor": 0
      },
      "text/plain": [
       "interactive(children=(FloatSlider(value=0.35, continuous_update=False, description='thresh', max=1.0, step=0.0…"
      ]
     },
     "metadata": {},
     "output_type": "display_data"
    },
    {
     "name": "stdout",
     "output_type": "stream",
     "text": [
      "Plaza\n"
     ]
    },
    {
     "data": {
      "application/vnd.jupyter.widget-view+json": {
       "model_id": "b2fb71148fab451999524d6bed0a4dbe",
       "version_major": 2,
       "version_minor": 0
      },
      "text/plain": [
       "interactive(children=(FloatSlider(value=0.35, continuous_update=False, description='thresh', max=1.0, step=0.0…"
      ]
     },
     "metadata": {},
     "output_type": "display_data"
    },
    {
     "name": "stdout",
     "output_type": "stream",
     "text": [
      "Kayak\n"
     ]
    },
    {
     "data": {
      "application/vnd.jupyter.widget-view+json": {
       "model_id": "d37df2713d7c49568e083fcef5f727bb",
       "version_major": 2,
       "version_minor": 0
      },
      "text/plain": [
       "interactive(children=(FloatSlider(value=0.35, continuous_update=False, description='thresh', max=1.0, step=0.0…"
      ]
     },
     "metadata": {},
     "output_type": "display_data"
    },
    {
     "name": "stdout",
     "output_type": "stream",
     "text": [
      "Road\n"
     ]
    },
    {
     "data": {
      "application/vnd.jupyter.widget-view+json": {
       "model_id": "96e93825379d4822becf0d03bb1464a8",
       "version_major": 2,
       "version_minor": 0
      },
      "text/plain": [
       "interactive(children=(FloatSlider(value=0.35, continuous_update=False, description='thresh', max=1.0, step=0.0…"
      ]
     },
     "metadata": {},
     "output_type": "display_data"
    },
    {
     "name": "stdout",
     "output_type": "stream",
     "text": [
      "Smoke\n"
     ]
    },
    {
     "data": {
      "application/vnd.jupyter.widget-view+json": {
       "model_id": "496b02f2aa8446629a9e3308bf22b1ec",
       "version_major": 2,
       "version_minor": 0
      },
      "text/plain": [
       "interactive(children=(FloatSlider(value=0.35, continuous_update=False, description='thresh', max=1.0, step=0.0…"
      ]
     },
     "metadata": {},
     "output_type": "display_data"
    },
    {
     "name": "stdout",
     "output_type": "stream",
     "text": [
      "Protest\n"
     ]
    },
    {
     "data": {
      "application/vnd.jupyter.widget-view+json": {
       "model_id": "6f9cb26d0bf7409b92848c6deb731869",
       "version_major": 2,
       "version_minor": 0
      },
      "text/plain": [
       "interactive(children=(FloatSlider(value=0.35, continuous_update=False, description='thresh', max=1.0, step=0.0…"
      ]
     },
     "metadata": {},
     "output_type": "display_data"
    },
    {
     "name": "stdout",
     "output_type": "stream",
     "text": [
      "Crew\n"
     ]
    },
    {
     "data": {
      "application/vnd.jupyter.widget-view+json": {
       "model_id": "12ffe17ea19e4b588165b6fe5a470c52",
       "version_major": 2,
       "version_minor": 0
      },
      "text/plain": [
       "interactive(children=(FloatSlider(value=0.35, continuous_update=False, description='thresh', max=1.0, step=0.0…"
      ]
     },
     "metadata": {},
     "output_type": "display_data"
    },
    {
     "name": "stdout",
     "output_type": "stream",
     "text": [
      "Emblem\n"
     ]
    },
    {
     "data": {
      "application/vnd.jupyter.widget-view+json": {
       "model_id": "9066102ea0614eed8f0624d293f9a8d0",
       "version_major": 2,
       "version_minor": 0
      },
      "text/plain": [
       "interactive(children=(FloatSlider(value=0.35, continuous_update=False, description='thresh', max=1.0, step=0.0…"
      ]
     },
     "metadata": {},
     "output_type": "display_data"
    },
    {
     "name": "stdout",
     "output_type": "stream",
     "text": [
      "Telephone\n"
     ]
    },
    {
     "data": {
      "application/vnd.jupyter.widget-view+json": {
       "model_id": "666a59739141460cb4959c05c5cfd0ab",
       "version_major": 2,
       "version_minor": 0
      },
      "text/plain": [
       "interactive(children=(FloatSlider(value=0.35, continuous_update=False, description='thresh', max=1.0, step=0.0…"
      ]
     },
     "metadata": {},
     "output_type": "display_data"
    },
    {
     "name": "stdout",
     "output_type": "stream",
     "text": [
      "Electronic device\n"
     ]
    },
    {
     "data": {
      "application/vnd.jupyter.widget-view+json": {
       "model_id": "2c5bfbc81e6d4b049c53c5d6168ae502",
       "version_major": 2,
       "version_minor": 0
      },
      "text/plain": [
       "interactive(children=(FloatSlider(value=0.35, continuous_update=False, description='thresh', max=1.0, step=0.0…"
      ]
     },
     "metadata": {},
     "output_type": "display_data"
    },
    {
     "name": "stdout",
     "output_type": "stream",
     "text": [
      "Parachute\n"
     ]
    },
    {
     "data": {
      "application/vnd.jupyter.widget-view+json": {
       "model_id": "f69efe9283e04061a439943e9b99406b",
       "version_major": 2,
       "version_minor": 0
      },
      "text/plain": [
       "interactive(children=(FloatSlider(value=0.35, continuous_update=False, description='thresh', max=1.0, step=0.0…"
      ]
     },
     "metadata": {},
     "output_type": "display_data"
    },
    {
     "name": "stdout",
     "output_type": "stream",
     "text": [
      "Sailboat\n"
     ]
    },
    {
     "data": {
      "application/vnd.jupyter.widget-view+json": {
       "model_id": "ea808c1d7fc04a89ba74571171af4792",
       "version_major": 2,
       "version_minor": 0
      },
      "text/plain": [
       "interactive(children=(FloatSlider(value=0.35, continuous_update=False, description='thresh', max=1.0, step=0.0…"
      ]
     },
     "metadata": {},
     "output_type": "display_data"
    },
    {
     "name": "stdout",
     "output_type": "stream",
     "text": [
      "Street\n"
     ]
    },
    {
     "data": {
      "application/vnd.jupyter.widget-view+json": {
       "model_id": "f9d09732052c499e81486ce563d7b3bc",
       "version_major": 2,
       "version_minor": 0
      },
      "text/plain": [
       "interactive(children=(FloatSlider(value=0.35, continuous_update=False, description='thresh', max=1.0, step=0.0…"
      ]
     },
     "metadata": {},
     "output_type": "display_data"
    },
    {
     "name": "stdout",
     "output_type": "stream",
     "text": [
      "Stupa\n"
     ]
    },
    {
     "data": {
      "application/vnd.jupyter.widget-view+json": {
       "model_id": "ec280bb753034d31ad436adf3c848899",
       "version_major": 2,
       "version_minor": 0
      },
      "text/plain": [
       "interactive(children=(FloatSlider(value=0.35, continuous_update=False, description='thresh', max=1.0, step=0.0…"
      ]
     },
     "metadata": {},
     "output_type": "display_data"
    },
    {
     "name": "stdout",
     "output_type": "stream",
     "text": [
      "Combat vehicle\n"
     ]
    },
    {
     "data": {
      "application/vnd.jupyter.widget-view+json": {
       "model_id": "efb996dc2a894328866a9034e932cde2",
       "version_major": 2,
       "version_minor": 0
      },
      "text/plain": [
       "interactive(children=(FloatSlider(value=0.35, continuous_update=False, description='thresh', max=1.0, step=0.0…"
      ]
     },
     "metadata": {},
     "output_type": "display_data"
    },
    {
     "name": "stdout",
     "output_type": "stream",
     "text": [
      "Audience\n"
     ]
    },
    {
     "data": {
      "application/vnd.jupyter.widget-view+json": {
       "model_id": "db772fb39994458bb0c2b4511bb393ec",
       "version_major": 2,
       "version_minor": 0
      },
      "text/plain": [
       "interactive(children=(FloatSlider(value=0.35, continuous_update=False, description='thresh', max=1.0, step=0.0…"
      ]
     },
     "metadata": {},
     "output_type": "display_data"
    },
    {
     "name": "stdout",
     "output_type": "stream",
     "text": [
      "Furniture\n"
     ]
    },
    {
     "data": {
      "application/vnd.jupyter.widget-view+json": {
       "model_id": "416debc64f7141df9d35bee882238675",
       "version_major": 2,
       "version_minor": 0
      },
      "text/plain": [
       "interactive(children=(FloatSlider(value=0.35, continuous_update=False, description='thresh', max=1.0, step=0.0…"
      ]
     },
     "metadata": {},
     "output_type": "display_data"
    },
    {
     "name": "stdout",
     "output_type": "stream",
     "text": [
      "High-visibility clothing\n"
     ]
    },
    {
     "data": {
      "application/vnd.jupyter.widget-view+json": {
       "model_id": "1d14e8dd5ded4061a5cb4026393fe65d",
       "version_major": 2,
       "version_minor": 0
      },
      "text/plain": [
       "interactive(children=(FloatSlider(value=0.35, continuous_update=False, description='thresh', max=1.0, step=0.0…"
      ]
     },
     "metadata": {},
     "output_type": "display_data"
    },
    {
     "name": "stdout",
     "output_type": "stream",
     "text": [
      "Organization\n"
     ]
    },
    {
     "data": {
      "application/vnd.jupyter.widget-view+json": {
       "model_id": "03b0111799b54b61a341a3bb69c6da0e",
       "version_major": 2,
       "version_minor": 0
      },
      "text/plain": [
       "interactive(children=(FloatSlider(value=0.35, continuous_update=False, description='thresh', max=1.0, step=0.0…"
      ]
     },
     "metadata": {},
     "output_type": "display_data"
    },
    {
     "name": "stdout",
     "output_type": "stream",
     "text": [
      "City\n"
     ]
    },
    {
     "data": {
      "application/vnd.jupyter.widget-view+json": {
       "model_id": "c490e23a43834dd3b5f94601bdb59810",
       "version_major": 2,
       "version_minor": 0
      },
      "text/plain": [
       "interactive(children=(FloatSlider(value=0.35, continuous_update=False, description='thresh', max=1.0, step=0.0…"
      ]
     },
     "metadata": {},
     "output_type": "display_data"
    },
    {
     "name": "stdout",
     "output_type": "stream",
     "text": [
      "Firefighter\n"
     ]
    },
    {
     "data": {
      "application/vnd.jupyter.widget-view+json": {
       "model_id": "1b9899b36c9a44c4a4fe7042d3e190d4",
       "version_major": 2,
       "version_minor": 0
      },
      "text/plain": [
       "interactive(children=(FloatSlider(value=0.35, continuous_update=False, description='thresh', max=1.0, step=0.0…"
      ]
     },
     "metadata": {},
     "output_type": "display_data"
    },
    {
     "name": "stdout",
     "output_type": "stream",
     "text": [
      "Aircraft engine\n"
     ]
    },
    {
     "data": {
      "application/vnd.jupyter.widget-view+json": {
       "model_id": "93c3a8d648e44bed91177e0fa44a1fb2",
       "version_major": 2,
       "version_minor": 0
      },
      "text/plain": [
       "interactive(children=(FloatSlider(value=0.35, continuous_update=False, description='thresh', max=1.0, step=0.0…"
      ]
     },
     "metadata": {},
     "output_type": "display_data"
    },
    {
     "name": "stdout",
     "output_type": "stream",
     "text": [
      "Chapel\n"
     ]
    },
    {
     "data": {
      "application/vnd.jupyter.widget-view+json": {
       "model_id": "526abec9e66b47bb9cc03e40461b9699",
       "version_major": 2,
       "version_minor": 0
      },
      "text/plain": [
       "interactive(children=(FloatSlider(value=0.35, continuous_update=False, description='thresh', max=1.0, step=0.0…"
      ]
     },
     "metadata": {},
     "output_type": "display_data"
    },
    {
     "name": "stdout",
     "output_type": "stream",
     "text": [
      "Official\n"
     ]
    },
    {
     "data": {
      "application/vnd.jupyter.widget-view+json": {
       "model_id": "a11fe4d423844f24b7e6dad538f92aba",
       "version_major": 2,
       "version_minor": 0
      },
      "text/plain": [
       "interactive(children=(FloatSlider(value=0.35, continuous_update=False, description='thresh', max=1.0, step=0.0…"
      ]
     },
     "metadata": {},
     "output_type": "display_data"
    },
    {
     "name": "stdout",
     "output_type": "stream",
     "text": [
      "Ship\n"
     ]
    },
    {
     "data": {
      "application/vnd.jupyter.widget-view+json": {
       "model_id": "a11826cc3e524f569a412a7aec64cfe0",
       "version_major": 2,
       "version_minor": 0
      },
      "text/plain": [
       "interactive(children=(FloatSlider(value=0.35, continuous_update=False, description='thresh', max=1.0, step=0.0…"
      ]
     },
     "metadata": {},
     "output_type": "display_data"
    },
    {
     "name": "stdout",
     "output_type": "stream",
     "text": [
      "Memorial\n"
     ]
    },
    {
     "data": {
      "application/vnd.jupyter.widget-view+json": {
       "model_id": "a1e62d41338248fe9be39bd6d4407d03",
       "version_major": 2,
       "version_minor": 0
      },
      "text/plain": [
       "interactive(children=(FloatSlider(value=0.35, continuous_update=False, description='thresh', max=1.0, step=0.0…"
      ]
     },
     "metadata": {},
     "output_type": "display_data"
    },
    {
     "name": "stdout",
     "output_type": "stream",
     "text": [
      "Flag\n"
     ]
    },
    {
     "data": {
      "application/vnd.jupyter.widget-view+json": {
       "model_id": "f3e0f73b32264611bf941e0185aee14a",
       "version_major": 2,
       "version_minor": 0
      },
      "text/plain": [
       "interactive(children=(FloatSlider(value=0.35, continuous_update=False, description='thresh', max=1.0, step=0.0…"
      ]
     },
     "metadata": {},
     "output_type": "display_data"
    },
    {
     "name": "stdout",
     "output_type": "stream",
     "text": [
      "Castle\n"
     ]
    },
    {
     "data": {
      "application/vnd.jupyter.widget-view+json": {
       "model_id": "b1057e298eea4ccf9c252bcc8120c33f",
       "version_major": 2,
       "version_minor": 0
      },
      "text/plain": [
       "interactive(children=(FloatSlider(value=0.35, continuous_update=False, description='thresh', max=1.0, step=0.0…"
      ]
     },
     "metadata": {},
     "output_type": "display_data"
    },
    {
     "name": "stdout",
     "output_type": "stream",
     "text": [
      "Railway\n"
     ]
    },
    {
     "data": {
      "application/vnd.jupyter.widget-view+json": {
       "model_id": "82ec05e58de14ecdb66794a4cf8dd66e",
       "version_major": 2,
       "version_minor": 0
      },
      "text/plain": [
       "interactive(children=(FloatSlider(value=0.35, continuous_update=False, description='thresh', max=1.0, step=0.0…"
      ]
     },
     "metadata": {},
     "output_type": "display_data"
    },
    {
     "name": "stdout",
     "output_type": "stream",
     "text": [
      "Cold weapon\n"
     ]
    },
    {
     "data": {
      "application/vnd.jupyter.widget-view+json": {
       "model_id": "f14958930b4444c0b9b1c5dd984eb616",
       "version_major": 2,
       "version_minor": 0
      },
      "text/plain": [
       "interactive(children=(FloatSlider(value=0.35, continuous_update=False, description='thresh', max=1.0, step=0.0…"
      ]
     },
     "metadata": {},
     "output_type": "display_data"
    },
    {
     "name": "stdout",
     "output_type": "stream",
     "text": [
      "Event\n"
     ]
    },
    {
     "data": {
      "application/vnd.jupyter.widget-view+json": {
       "model_id": "cb3e0308af5642e8b8e380a2f172a3ea",
       "version_major": 2,
       "version_minor": 0
      },
      "text/plain": [
       "interactive(children=(FloatSlider(value=0.35, continuous_update=False, description='thresh', max=1.0, step=0.0…"
      ]
     },
     "metadata": {},
     "output_type": "display_data"
    },
    {
     "name": "stdout",
     "output_type": "stream",
     "text": [
      "Businessperson\n"
     ]
    },
    {
     "data": {
      "application/vnd.jupyter.widget-view+json": {
       "model_id": "420e2144b21f460c88be6fb0cb131316",
       "version_major": 2,
       "version_minor": 0
      },
      "text/plain": [
       "interactive(children=(FloatSlider(value=0.35, continuous_update=False, description='thresh', max=1.0, step=0.0…"
      ]
     },
     "metadata": {},
     "output_type": "display_data"
    },
    {
     "name": "stdout",
     "output_type": "stream",
     "text": [
      "Government agency\n"
     ]
    },
    {
     "data": {
      "application/vnd.jupyter.widget-view+json": {
       "model_id": "7e7dbb58dd8e443e8c5b8a1f4a2578bd",
       "version_major": 2,
       "version_minor": 0
      },
      "text/plain": [
       "interactive(children=(FloatSlider(value=0.35, continuous_update=False, description='thresh', max=1.0, step=0.0…"
      ]
     },
     "metadata": {},
     "output_type": "display_data"
    },
    {
     "name": "stdout",
     "output_type": "stream",
     "text": [
      "Girl\n"
     ]
    },
    {
     "data": {
      "application/vnd.jupyter.widget-view+json": {
       "model_id": "920b2952db774eb88a26f3a89bd64b47",
       "version_major": 2,
       "version_minor": 0
      },
      "text/plain": [
       "interactive(children=(FloatSlider(value=0.35, continuous_update=False, description='thresh', max=1.0, step=0.0…"
      ]
     },
     "metadata": {},
     "output_type": "display_data"
    },
    {
     "name": "stdout",
     "output_type": "stream",
     "text": [
      "Money\n"
     ]
    },
    {
     "data": {
      "application/vnd.jupyter.widget-view+json": {
       "model_id": "fc450149f98b4960ac2456b2d93a6302",
       "version_major": 2,
       "version_minor": 0
      },
      "text/plain": [
       "interactive(children=(FloatSlider(value=0.35, continuous_update=False, description='thresh', max=1.0, step=0.0…"
      ]
     },
     "metadata": {},
     "output_type": "display_data"
    },
    {
     "name": "stdout",
     "output_type": "stream",
     "text": [
      "Military rank\n"
     ]
    },
    {
     "data": {
      "application/vnd.jupyter.widget-view+json": {
       "model_id": "eb60ee7bb4bd46ec854d6f6bc61d7011",
       "version_major": 2,
       "version_minor": 0
      },
      "text/plain": [
       "interactive(children=(FloatSlider(value=0.35, continuous_update=False, description='thresh', max=1.0, step=0.0…"
      ]
     },
     "metadata": {},
     "output_type": "display_data"
    },
    {
     "name": "stdout",
     "output_type": "stream",
     "text": [
      "Construction equipment\n"
     ]
    },
    {
     "data": {
      "application/vnd.jupyter.widget-view+json": {
       "model_id": "3f7a8121502a4285a43928686a5e0d94",
       "version_major": 2,
       "version_minor": 0
      },
      "text/plain": [
       "interactive(children=(FloatSlider(value=0.35, continuous_update=False, description='thresh', max=1.0, step=0.0…"
      ]
     },
     "metadata": {},
     "output_type": "display_data"
    },
    {
     "name": "stdout",
     "output_type": "stream",
     "text": [
      "Human head\n"
     ]
    },
    {
     "data": {
      "application/vnd.jupyter.widget-view+json": {
       "model_id": "a8ea08abff904995b7bfa7b2b56ed3ac",
       "version_major": 2,
       "version_minor": 0
      },
      "text/plain": [
       "interactive(children=(FloatSlider(value=0.35, continuous_update=False, description='thresh', max=1.0, step=0.0…"
      ]
     },
     "metadata": {},
     "output_type": "display_data"
    },
    {
     "name": "stdout",
     "output_type": "stream",
     "text": [
      "Map\n"
     ]
    },
    {
     "data": {
      "application/vnd.jupyter.widget-view+json": {
       "model_id": "db9861068903468386878c38562e05b9",
       "version_major": 2,
       "version_minor": 0
      },
      "text/plain": [
       "interactive(children=(FloatSlider(value=0.35, continuous_update=False, description='thresh', max=1.0, step=0.0…"
      ]
     },
     "metadata": {},
     "output_type": "display_data"
    },
    {
     "name": "stdout",
     "output_type": "stream",
     "text": [
      "Orator\n"
     ]
    },
    {
     "data": {
      "application/vnd.jupyter.widget-view+json": {
       "model_id": "34b28111946b4767a5780de2c2d0e0e4",
       "version_major": 2,
       "version_minor": 0
      },
      "text/plain": [
       "interactive(children=(FloatSlider(value=0.35, continuous_update=False, description='thresh', max=1.0, step=0.0…"
      ]
     },
     "metadata": {},
     "output_type": "display_data"
    },
    {
     "name": "stdout",
     "output_type": "stream",
     "text": [
      "Light aircraft\n"
     ]
    },
    {
     "data": {
      "application/vnd.jupyter.widget-view+json": {
       "model_id": "94fdbcc42f3447adbf92ab527bbd7e75",
       "version_major": 2,
       "version_minor": 0
      },
      "text/plain": [
       "interactive(children=(FloatSlider(value=0.35, continuous_update=False, description='thresh', max=1.0, step=0.0…"
      ]
     },
     "metadata": {},
     "output_type": "display_data"
    },
    {
     "name": "stdout",
     "output_type": "stream",
     "text": [
      "Shotgun\n"
     ]
    },
    {
     "data": {
      "application/vnd.jupyter.widget-view+json": {
       "model_id": "8482cf2122bd43b59323e3faf4452d74",
       "version_major": 2,
       "version_minor": 0
      },
      "text/plain": [
       "interactive(children=(FloatSlider(value=0.35, continuous_update=False, description='thresh', max=1.0, step=0.0…"
      ]
     },
     "metadata": {},
     "output_type": "display_data"
    },
    {
     "name": "stdout",
     "output_type": "stream",
     "text": [
      "Waste\n"
     ]
    },
    {
     "data": {
      "application/vnd.jupyter.widget-view+json": {
       "model_id": "32aaac4b046247ac8219becce118e0b3",
       "version_major": 2,
       "version_minor": 0
      },
      "text/plain": [
       "interactive(children=(FloatSlider(value=0.35, continuous_update=False, description='thresh', max=1.0, step=0.0…"
      ]
     },
     "metadata": {},
     "output_type": "display_data"
    },
    {
     "name": "stdout",
     "output_type": "stream",
     "text": [
      "Ambulance\n"
     ]
    },
    {
     "data": {
      "application/vnd.jupyter.widget-view+json": {
       "model_id": "9be50588089b47a8a820749b164b6933",
       "version_major": 2,
       "version_minor": 0
      },
      "text/plain": [
       "interactive(children=(FloatSlider(value=0.35, continuous_update=False, description='thresh', max=1.0, step=0.0…"
      ]
     },
     "metadata": {},
     "output_type": "display_data"
    },
    {
     "name": "stdout",
     "output_type": "stream",
     "text": [
      "Boating\n"
     ]
    },
    {
     "data": {
      "application/vnd.jupyter.widget-view+json": {
       "model_id": "054fa817b05348629f663caf9000af6b",
       "version_major": 2,
       "version_minor": 0
      },
      "text/plain": [
       "interactive(children=(FloatSlider(value=0.35, continuous_update=False, description='thresh', max=1.0, step=0.0…"
      ]
     },
     "metadata": {},
     "output_type": "display_data"
    },
    {
     "name": "stdout",
     "output_type": "stream",
     "text": [
      "Lighthouse\n"
     ]
    },
    {
     "data": {
      "application/vnd.jupyter.widget-view+json": {
       "model_id": "6be393e5f6e5453c94b5b8a9bc997bf9",
       "version_major": 2,
       "version_minor": 0
      },
      "text/plain": [
       "interactive(children=(FloatSlider(value=0.35, continuous_update=False, description='thresh', max=1.0, step=0.0…"
      ]
     },
     "metadata": {},
     "output_type": "display_data"
    },
    {
     "name": "stdout",
     "output_type": "stream",
     "text": [
      "Person\n"
     ]
    },
    {
     "data": {
      "application/vnd.jupyter.widget-view+json": {
       "model_id": "661753c28d4b4c0fa52dd834f2d0d6d8",
       "version_major": 2,
       "version_minor": 0
      },
      "text/plain": [
       "interactive(children=(FloatSlider(value=0.35, continuous_update=False, description='thresh', max=1.0, step=0.0…"
      ]
     },
     "metadata": {},
     "output_type": "display_data"
    },
    {
     "name": "stdout",
     "output_type": "stream",
     "text": [
      "Limousine\n"
     ]
    },
    {
     "data": {
      "application/vnd.jupyter.widget-view+json": {
       "model_id": "874178dbc0e74e59b7ead2f7a874a2c7",
       "version_major": 2,
       "version_minor": 0
      },
      "text/plain": [
       "interactive(children=(FloatSlider(value=0.35, continuous_update=False, description='thresh', max=1.0, step=0.0…"
      ]
     },
     "metadata": {},
     "output_type": "display_data"
    },
    {
     "name": "stdout",
     "output_type": "stream",
     "text": [
      "Tent\n"
     ]
    },
    {
     "data": {
      "application/vnd.jupyter.widget-view+json": {
       "model_id": "87ac62cf46aa4e33a0e59fcd699fe582",
       "version_major": 2,
       "version_minor": 0
      },
      "text/plain": [
       "interactive(children=(FloatSlider(value=0.35, continuous_update=False, description='thresh', max=1.0, step=0.0…"
      ]
     },
     "metadata": {},
     "output_type": "display_data"
    },
    {
     "name": "stdout",
     "output_type": "stream",
     "text": [
      "Human beard\n"
     ]
    },
    {
     "data": {
      "application/vnd.jupyter.widget-view+json": {
       "model_id": "0c3e513e8d1a447ca17e2130c5d6325f",
       "version_major": 2,
       "version_minor": 0
      },
      "text/plain": [
       "interactive(children=(FloatSlider(value=0.35, continuous_update=False, description='thresh', max=1.0, step=0.0…"
      ]
     },
     "metadata": {},
     "output_type": "display_data"
    },
    {
     "name": "stdout",
     "output_type": "stream",
     "text": [
      "Family car\n"
     ]
    },
    {
     "data": {
      "application/vnd.jupyter.widget-view+json": {
       "model_id": "5b2fd0430eef46f38826449faae8f995",
       "version_major": 2,
       "version_minor": 0
      },
      "text/plain": [
       "interactive(children=(FloatSlider(value=0.35, continuous_update=False, description='thresh', max=1.0, step=0.0…"
      ]
     },
     "metadata": {},
     "output_type": "display_data"
    },
    {
     "name": "stdout",
     "output_type": "stream",
     "text": [
      "Landmark\n"
     ]
    },
    {
     "data": {
      "application/vnd.jupyter.widget-view+json": {
       "model_id": "12c2ee9579734eefb4bf8e1d7a859aa2",
       "version_major": 2,
       "version_minor": 0
      },
      "text/plain": [
       "interactive(children=(FloatSlider(value=0.35, continuous_update=False, description='thresh', max=1.0, step=0.0…"
      ]
     },
     "metadata": {},
     "output_type": "display_data"
    },
    {
     "name": "stdout",
     "output_type": "stream",
     "text": [
      "Rifle\n"
     ]
    },
    {
     "data": {
      "application/vnd.jupyter.widget-view+json": {
       "model_id": "151fffcec097475ab7fabdf3653eb60c",
       "version_major": 2,
       "version_minor": 0
      },
      "text/plain": [
       "interactive(children=(FloatSlider(value=0.35, continuous_update=False, description='thresh', max=1.0, step=0.0…"
      ]
     },
     "metadata": {},
     "output_type": "display_data"
    },
    {
     "name": "stdout",
     "output_type": "stream",
     "text": [
      "Rocket\n"
     ]
    },
    {
     "data": {
      "application/vnd.jupyter.widget-view+json": {
       "model_id": "203e6439ba964afc86555f8b48409f00",
       "version_major": 2,
       "version_minor": 0
      },
      "text/plain": [
       "interactive(children=(FloatSlider(value=0.35, continuous_update=False, description='thresh', max=1.0, step=0.0…"
      ]
     },
     "metadata": {},
     "output_type": "display_data"
    },
    {
     "name": "stdout",
     "output_type": "stream",
     "text": [
      "Goggles\n"
     ]
    },
    {
     "data": {
      "application/vnd.jupyter.widget-view+json": {
       "model_id": "bbfb618c049840babff62395bb825f61",
       "version_major": 2,
       "version_minor": 0
      },
      "text/plain": [
       "interactive(children=(FloatSlider(value=0.35, continuous_update=False, description='thresh', max=1.0, step=0.0…"
      ]
     },
     "metadata": {},
     "output_type": "display_data"
    },
    {
     "name": "stdout",
     "output_type": "stream",
     "text": [
      "Airplane\n"
     ]
    },
    {
     "data": {
      "application/vnd.jupyter.widget-view+json": {
       "model_id": "accf25f5e6ba4a238913a38e6e0df948",
       "version_major": 2,
       "version_minor": 0
      },
      "text/plain": [
       "interactive(children=(FloatSlider(value=0.35, continuous_update=False, description='thresh', max=1.0, step=0.0…"
      ]
     },
     "metadata": {},
     "output_type": "display_data"
    },
    {
     "name": "stdout",
     "output_type": "stream",
     "text": [
      "Mobile phone\n"
     ]
    },
    {
     "data": {
      "application/vnd.jupyter.widget-view+json": {
       "model_id": "2a142585c7164a8da0959158dd1594ac",
       "version_major": 2,
       "version_minor": 0
      },
      "text/plain": [
       "interactive(children=(FloatSlider(value=0.35, continuous_update=False, description='thresh', max=1.0, step=0.0…"
      ]
     },
     "metadata": {},
     "output_type": "display_data"
    },
    {
     "name": "stdout",
     "output_type": "stream",
     "text": [
      "Bridge\n"
     ]
    },
    {
     "data": {
      "application/vnd.jupyter.widget-view+json": {
       "model_id": "75499a2504e1447c92cd60b202c1e006",
       "version_major": 2,
       "version_minor": 0
      },
      "text/plain": [
       "interactive(children=(FloatSlider(value=0.35, continuous_update=False, description='thresh', max=1.0, step=0.0…"
      ]
     },
     "metadata": {},
     "output_type": "display_data"
    },
    {
     "name": "stdout",
     "output_type": "stream",
     "text": [
      "Harbor\n"
     ]
    },
    {
     "data": {
      "application/vnd.jupyter.widget-view+json": {
       "model_id": "7e4f8fae94b94e9086d8d7eeb555f84e",
       "version_major": 2,
       "version_minor": 0
      },
      "text/plain": [
       "interactive(children=(FloatSlider(value=0.35, continuous_update=False, description='thresh', max=1.0, step=0.0…"
      ]
     },
     "metadata": {},
     "output_type": "display_data"
    },
    {
     "name": "stdout",
     "output_type": "stream",
     "text": [
      "Transport\n"
     ]
    },
    {
     "data": {
      "application/vnd.jupyter.widget-view+json": {
       "model_id": "38c387b9e76d4f2eab26ce151d374aa9",
       "version_major": 2,
       "version_minor": 0
      },
      "text/plain": [
       "interactive(children=(FloatSlider(value=0.35, continuous_update=False, description='thresh', max=1.0, step=0.0…"
      ]
     },
     "metadata": {},
     "output_type": "display_data"
    },
    {
     "name": "stdout",
     "output_type": "stream",
     "text": [
      "Text\n"
     ]
    },
    {
     "data": {
      "application/vnd.jupyter.widget-view+json": {
       "model_id": "205fa3f066e748c2b7fecafd9cff86fd",
       "version_major": 2,
       "version_minor": 0
      },
      "text/plain": [
       "interactive(children=(FloatSlider(value=0.35, continuous_update=False, description='thresh', max=1.0, step=0.0…"
      ]
     },
     "metadata": {},
     "output_type": "display_data"
    },
    {
     "name": "stdout",
     "output_type": "stream",
     "text": [
      "Statue\n"
     ]
    },
    {
     "data": {
      "application/vnd.jupyter.widget-view+json": {
       "model_id": "440a843f35da452f944230f63fdbe562",
       "version_major": 2,
       "version_minor": 0
      },
      "text/plain": [
       "interactive(children=(FloatSlider(value=0.35, continuous_update=False, description='thresh', max=1.0, step=0.0…"
      ]
     },
     "metadata": {},
     "output_type": "display_data"
    },
    {
     "name": "stdout",
     "output_type": "stream",
     "text": [
      "Bus\n"
     ]
    },
    {
     "data": {
      "application/vnd.jupyter.widget-view+json": {
       "model_id": "bc0dde948eb145e69b9bfcda5d362d7c",
       "version_major": 2,
       "version_minor": 0
      },
      "text/plain": [
       "interactive(children=(FloatSlider(value=0.35, continuous_update=False, description='thresh', max=1.0, step=0.0…"
      ]
     },
     "metadata": {},
     "output_type": "display_data"
    },
    {
     "name": "stdout",
     "output_type": "stream",
     "text": [
      "Human body\n"
     ]
    },
    {
     "data": {
      "application/vnd.jupyter.widget-view+json": {
       "model_id": "1c72c5e01d3a44a4b42682f1b5afff71",
       "version_major": 2,
       "version_minor": 0
      },
      "text/plain": [
       "interactive(children=(FloatSlider(value=0.35, continuous_update=False, description='thresh', max=1.0, step=0.0…"
      ]
     },
     "metadata": {},
     "output_type": "display_data"
    },
    {
     "name": "stdout",
     "output_type": "stream",
     "text": [
      "Bride\n"
     ]
    },
    {
     "data": {
      "application/vnd.jupyter.widget-view+json": {
       "model_id": "682e0f63cd5e49eca294c9f7ae8e650b",
       "version_major": 2,
       "version_minor": 0
      },
      "text/plain": [
       "interactive(children=(FloatSlider(value=0.35, continuous_update=False, description='thresh', max=1.0, step=0.0…"
      ]
     },
     "metadata": {},
     "output_type": "display_data"
    },
    {
     "name": "stdout",
     "output_type": "stream",
     "text": [
      "Cemetery\n"
     ]
    },
    {
     "data": {
      "application/vnd.jupyter.widget-view+json": {
       "model_id": "ade9217a081b4350a7d40a18747a10b6",
       "version_major": 2,
       "version_minor": 0
      },
      "text/plain": [
       "interactive(children=(FloatSlider(value=0.35, continuous_update=False, description='thresh', max=1.0, step=0.0…"
      ]
     },
     "metadata": {},
     "output_type": "display_data"
    },
    {
     "name": "stdout",
     "output_type": "stream",
     "text": [
      "Missile\n"
     ]
    },
    {
     "data": {
      "application/vnd.jupyter.widget-view+json": {
       "model_id": "87cb0d85a3dc4a68a7162f4dc19c6998",
       "version_major": 2,
       "version_minor": 0
      },
      "text/plain": [
       "interactive(children=(FloatSlider(value=0.35, continuous_update=False, description='thresh', max=1.0, step=0.0…"
      ]
     },
     "metadata": {},
     "output_type": "display_data"
    },
    {
     "name": "stdout",
     "output_type": "stream",
     "text": [
      "Emergency service\n"
     ]
    },
    {
     "data": {
      "application/vnd.jupyter.widget-view+json": {
       "model_id": "521e01417902491e932bbe8cae5d3b5c",
       "version_major": 2,
       "version_minor": 0
      },
      "text/plain": [
       "interactive(children=(FloatSlider(value=0.35, continuous_update=False, description='thresh', max=1.0, step=0.0…"
      ]
     },
     "metadata": {},
     "output_type": "display_data"
    },
    {
     "name": "stdout",
     "output_type": "stream",
     "text": [
      "Binoculars\n"
     ]
    },
    {
     "data": {
      "application/vnd.jupyter.widget-view+json": {
       "model_id": "cf0b9c98761e4662ad1995c1023f1f30",
       "version_major": 2,
       "version_minor": 0
      },
      "text/plain": [
       "interactive(children=(FloatSlider(value=0.35, continuous_update=False, description='thresh', max=1.0, step=0.0…"
      ]
     },
     "metadata": {},
     "output_type": "display_data"
    },
    {
     "name": "stdout",
     "output_type": "stream",
     "text": [
      "Camera\n"
     ]
    },
    {
     "data": {
      "application/vnd.jupyter.widget-view+json": {
       "model_id": "9e4289396b634decaf206bbaa33f4b9c",
       "version_major": 2,
       "version_minor": 0
      },
      "text/plain": [
       "interactive(children=(FloatSlider(value=0.35, continuous_update=False, description='thresh', max=1.0, step=0.0…"
      ]
     },
     "metadata": {},
     "output_type": "display_data"
    },
    {
     "name": "stdout",
     "output_type": "stream",
     "text": [
      "Cart\n"
     ]
    },
    {
     "data": {
      "application/vnd.jupyter.widget-view+json": {
       "model_id": "1d677e72fbb74257af982a15840fc009",
       "version_major": 2,
       "version_minor": 0
      },
      "text/plain": [
       "interactive(children=(FloatSlider(value=0.35, continuous_update=False, description='thresh', max=1.0, step=0.0…"
      ]
     },
     "metadata": {},
     "output_type": "display_data"
    },
    {
     "name": "stdout",
     "output_type": "stream",
     "text": [
      "Corded phone\n"
     ]
    },
    {
     "data": {
      "application/vnd.jupyter.widget-view+json": {
       "model_id": "c29a8e4b135940b28bd643d0d0abeb1a",
       "version_major": 2,
       "version_minor": 0
      },
      "text/plain": [
       "interactive(children=(FloatSlider(value=0.35, continuous_update=False, description='thresh', max=1.0, step=0.0…"
      ]
     },
     "metadata": {},
     "output_type": "display_data"
    },
    {
     "name": "stdout",
     "output_type": "stream",
     "text": [
      "Turret\n"
     ]
    },
    {
     "data": {
      "application/vnd.jupyter.widget-view+json": {
       "model_id": "40cea0fd5d834acca96a88c02ade7db8",
       "version_major": 2,
       "version_minor": 0
      },
      "text/plain": [
       "interactive(children=(FloatSlider(value=0.35, continuous_update=False, description='thresh', max=1.0, step=0.0…"
      ]
     },
     "metadata": {},
     "output_type": "display_data"
    },
    {
     "name": "stdout",
     "output_type": "stream",
     "text": [
      "Microphone\n"
     ]
    },
    {
     "data": {
      "application/vnd.jupyter.widget-view+json": {
       "model_id": "dea8197bb567461bb17e0eb9eb464960",
       "version_major": 2,
       "version_minor": 0
      },
      "text/plain": [
       "interactive(children=(FloatSlider(value=0.35, continuous_update=False, description='thresh', max=1.0, step=0.0…"
      ]
     },
     "metadata": {},
     "output_type": "display_data"
    },
    {
     "name": "stdout",
     "output_type": "stream",
     "text": [
      "Boat\n"
     ]
    },
    {
     "data": {
      "application/vnd.jupyter.widget-view+json": {
       "model_id": "4c50633597244ddda433cee25e4c9009",
       "version_major": 2,
       "version_minor": 0
      },
      "text/plain": [
       "interactive(children=(FloatSlider(value=0.35, continuous_update=False, description='thresh', max=1.0, step=0.0…"
      ]
     },
     "metadata": {},
     "output_type": "display_data"
    },
    {
     "name": "stdout",
     "output_type": "stream",
     "text": [
      "Food\n"
     ]
    },
    {
     "data": {
      "application/vnd.jupyter.widget-view+json": {
       "model_id": "2d2435ba3f204f8091517c960875a749",
       "version_major": 2,
       "version_minor": 0
      },
      "text/plain": [
       "interactive(children=(FloatSlider(value=0.35, continuous_update=False, description='thresh', max=1.0, step=0.0…"
      ]
     },
     "metadata": {},
     "output_type": "display_data"
    },
    {
     "name": "stdout",
     "output_type": "stream",
     "text": [
      "Badge\n"
     ]
    },
    {
     "data": {
      "application/vnd.jupyter.widget-view+json": {
       "model_id": "f110a7272d0041b1b0c0eae91d9ba009",
       "version_major": 2,
       "version_minor": 0
      },
      "text/plain": [
       "interactive(children=(FloatSlider(value=0.35, continuous_update=False, description='thresh', max=1.0, step=0.0…"
      ]
     },
     "metadata": {},
     "output_type": "display_data"
    },
    {
     "name": "stdout",
     "output_type": "stream",
     "text": [
      "Wide-body aircraft\n"
     ]
    },
    {
     "data": {
      "application/vnd.jupyter.widget-view+json": {
       "model_id": "72cecb32e1a64493bfdb6c2d6fa10c62",
       "version_major": 2,
       "version_minor": 0
      },
      "text/plain": [
       "interactive(children=(FloatSlider(value=0.35, continuous_update=False, description='thresh', max=1.0, step=0.0…"
      ]
     },
     "metadata": {},
     "output_type": "display_data"
    },
    {
     "name": "stdout",
     "output_type": "stream",
     "text": [
      "Assault rifle\n"
     ]
    },
    {
     "data": {
      "application/vnd.jupyter.widget-view+json": {
       "model_id": "767b294fa664443aa413106817c5ce1b",
       "version_major": 2,
       "version_minor": 0
      },
      "text/plain": [
       "interactive(children=(FloatSlider(value=0.35, continuous_update=False, description='thresh', max=1.0, step=0.0…"
      ]
     },
     "metadata": {},
     "output_type": "display_data"
    },
    {
     "name": "stdout",
     "output_type": "stream",
     "text": [
      "Convention\n"
     ]
    },
    {
     "data": {
      "application/vnd.jupyter.widget-view+json": {
       "model_id": "6eb3e04a4914483ebeb969542d24fb04",
       "version_major": 2,
       "version_minor": 0
      },
      "text/plain": [
       "interactive(children=(FloatSlider(value=0.35, continuous_update=False, description='thresh', max=1.0, step=0.0…"
      ]
     },
     "metadata": {},
     "output_type": "display_data"
    },
    {
     "name": "stdout",
     "output_type": "stream",
     "text": [
      "Woman\n"
     ]
    },
    {
     "data": {
      "application/vnd.jupyter.widget-view+json": {
       "model_id": "c5c4ced6710f456695b3834c4472239e",
       "version_major": 2,
       "version_minor": 0
      },
      "text/plain": [
       "interactive(children=(FloatSlider(value=0.35, continuous_update=False, description='thresh', max=1.0, step=0.0…"
      ]
     },
     "metadata": {},
     "output_type": "display_data"
    },
    {
     "name": "stdout",
     "output_type": "stream",
     "text": [
      "Monument\n"
     ]
    },
    {
     "data": {
      "application/vnd.jupyter.widget-view+json": {
       "model_id": "abf7deef3c9c481784b2268f11b0e1aa",
       "version_major": 2,
       "version_minor": 0
      },
      "text/plain": [
       "interactive(children=(FloatSlider(value=0.35, continuous_update=False, description='thresh', max=1.0, step=0.0…"
      ]
     },
     "metadata": {},
     "output_type": "display_data"
    },
    {
     "name": "stdout",
     "output_type": "stream",
     "text": [
      "Vehicle\n"
     ]
    },
    {
     "data": {
      "application/vnd.jupyter.widget-view+json": {
       "model_id": "02a639fa02eb47cbb6bf8d7ae9d90ac2",
       "version_major": 2,
       "version_minor": 0
      },
      "text/plain": [
       "interactive(children=(FloatSlider(value=0.35, continuous_update=False, description='thresh', max=1.0, step=0.0…"
      ]
     },
     "metadata": {},
     "output_type": "display_data"
    },
    {
     "name": "stdout",
     "output_type": "stream",
     "text": [
      "Laptop\n"
     ]
    },
    {
     "data": {
      "application/vnd.jupyter.widget-view+json": {
       "model_id": "753fcc95a1804dabae387e97d23663f3",
       "version_major": 2,
       "version_minor": 0
      },
      "text/plain": [
       "interactive(children=(FloatSlider(value=0.35, continuous_update=False, description='thresh', max=1.0, step=0.0…"
      ]
     },
     "metadata": {},
     "output_type": "display_data"
    },
    {
     "name": "stdout",
     "output_type": "stream",
     "text": [
      "Sword\n"
     ]
    },
    {
     "data": {
      "application/vnd.jupyter.widget-view+json": {
       "model_id": "70b2c457b2fb44f0ae5b5551c505fb76",
       "version_major": 2,
       "version_minor": 0
      },
      "text/plain": [
       "interactive(children=(FloatSlider(value=0.35, continuous_update=False, description='thresh', max=1.0, step=0.0…"
      ]
     },
     "metadata": {},
     "output_type": "display_data"
    },
    {
     "name": "stdout",
     "output_type": "stream",
     "text": [
      "Watercraft\n"
     ]
    },
    {
     "data": {
      "application/vnd.jupyter.widget-view+json": {
       "model_id": "5c2801dede7c46ad873030df1d1c5717",
       "version_major": 2,
       "version_minor": 0
      },
      "text/plain": [
       "interactive(children=(FloatSlider(value=0.35, continuous_update=False, description='thresh', max=1.0, step=0.0…"
      ]
     },
     "metadata": {},
     "output_type": "display_data"
    },
    {
     "name": "stdout",
     "output_type": "stream",
     "text": [
      "Shrine\n"
     ]
    },
    {
     "data": {
      "application/vnd.jupyter.widget-view+json": {
       "model_id": "c51e48cf36594301b22de384a78bbb0c",
       "version_major": 2,
       "version_minor": 0
      },
      "text/plain": [
       "interactive(children=(FloatSlider(value=0.35, continuous_update=False, description='thresh', max=1.0, step=0.0…"
      ]
     },
     "metadata": {},
     "output_type": "display_data"
    },
    {
     "name": "stdout",
     "output_type": "stream",
     "text": [
      "Segway\n"
     ]
    },
    {
     "data": {
      "application/vnd.jupyter.widget-view+json": {
       "model_id": "732c39426ef34f00b1e5d4ffe0af242b",
       "version_major": 2,
       "version_minor": 0
      },
      "text/plain": [
       "interactive(children=(FloatSlider(value=0.35, continuous_update=False, description='thresh', max=1.0, step=0.0…"
      ]
     },
     "metadata": {},
     "output_type": "display_data"
    },
    {
     "name": "stdout",
     "output_type": "stream",
     "text": [
      "Snowmobile\n"
     ]
    },
    {
     "data": {
      "application/vnd.jupyter.widget-view+json": {
       "model_id": "031cae62387d4546b8687cbf2ee55d46",
       "version_major": 2,
       "version_minor": 0
      },
      "text/plain": [
       "interactive(children=(FloatSlider(value=0.35, continuous_update=False, description='thresh', max=1.0, step=0.0…"
      ]
     },
     "metadata": {},
     "output_type": "display_data"
    },
    {
     "name": "stdout",
     "output_type": "stream",
     "text": [
      "Car\n"
     ]
    },
    {
     "data": {
      "application/vnd.jupyter.widget-view+json": {
       "model_id": "ae147f0cd1fe45a5b77890fcd0f4c936",
       "version_major": 2,
       "version_minor": 0
      },
      "text/plain": [
       "interactive(children=(FloatSlider(value=0.35, continuous_update=False, description='thresh', max=1.0, step=0.0…"
      ]
     },
     "metadata": {},
     "output_type": "display_data"
    },
    {
     "name": "stdout",
     "output_type": "stream",
     "text": [
      "Auto part\n"
     ]
    },
    {
     "data": {
      "application/vnd.jupyter.widget-view+json": {
       "model_id": "86bcc1d319174e63b225b9ea852b3d0b",
       "version_major": 2,
       "version_minor": 0
      },
      "text/plain": [
       "interactive(children=(FloatSlider(value=0.35, continuous_update=False, description='thresh', max=1.0, step=0.0…"
      ]
     },
     "metadata": {},
     "output_type": "display_data"
    },
    {
     "name": "stdout",
     "output_type": "stream",
     "text": [
      "Man\n"
     ]
    },
    {
     "data": {
      "application/vnd.jupyter.widget-view+json": {
       "model_id": "3ba8e732f3ad433bb146b00569c68831",
       "version_major": 2,
       "version_minor": 0
      },
      "text/plain": [
       "interactive(children=(FloatSlider(value=0.35, continuous_update=False, description='thresh', max=1.0, step=0.0…"
      ]
     },
     "metadata": {},
     "output_type": "display_data"
    },
    {
     "name": "stdout",
     "output_type": "stream",
     "text": [
      "Airport\n"
     ]
    },
    {
     "data": {
      "application/vnd.jupyter.widget-view+json": {
       "model_id": "ace570711ee8403489be33ecafe63b17",
       "version_major": 2,
       "version_minor": 0
      },
      "text/plain": [
       "interactive(children=(FloatSlider(value=0.35, continuous_update=False, description='thresh', max=1.0, step=0.0…"
      ]
     },
     "metadata": {},
     "output_type": "display_data"
    },
    {
     "name": "stdout",
     "output_type": "stream",
     "text": [
      "Temple\n"
     ]
    },
    {
     "data": {
      "application/vnd.jupyter.widget-view+json": {
       "model_id": "d4720910c95b423e928dc18d18ee1219",
       "version_major": 2,
       "version_minor": 0
      },
      "text/plain": [
       "interactive(children=(FloatSlider(value=0.35, continuous_update=False, description='thresh', max=1.0, step=0.0…"
      ]
     },
     "metadata": {},
     "output_type": "display_data"
    },
    {
     "name": "stdout",
     "output_type": "stream",
     "text": [
      "Spokesperson\n"
     ]
    },
    {
     "data": {
      "application/vnd.jupyter.widget-view+json": {
       "model_id": "c0f782a21ef14b36ae0f81f4dad0a569",
       "version_major": 2,
       "version_minor": 0
      },
      "text/plain": [
       "interactive(children=(FloatSlider(value=0.35, continuous_update=False, description='thresh', max=1.0, step=0.0…"
      ]
     },
     "metadata": {},
     "output_type": "display_data"
    },
    {
     "name": "stdout",
     "output_type": "stream",
     "text": [
      "Tree house\n"
     ]
    },
    {
     "data": {
      "application/vnd.jupyter.widget-view+json": {
       "model_id": "3537c9aa78394b3e870bcb98b5d4d396",
       "version_major": 2,
       "version_minor": 0
      },
      "text/plain": [
       "interactive(children=(FloatSlider(value=0.35, continuous_update=False, description='thresh', max=1.0, step=0.0…"
      ]
     },
     "metadata": {},
     "output_type": "display_data"
    },
    {
     "name": "stdout",
     "output_type": "stream",
     "text": [
      "Skyscraper\n"
     ]
    },
    {
     "data": {
      "application/vnd.jupyter.widget-view+json": {
       "model_id": "cbf60c0b80804efa8def91d8afef7981",
       "version_major": 2,
       "version_minor": 0
      },
      "text/plain": [
       "interactive(children=(FloatSlider(value=0.35, continuous_update=False, description='thresh', max=1.0, step=0.0…"
      ]
     },
     "metadata": {},
     "output_type": "display_data"
    },
    {
     "name": "stdout",
     "output_type": "stream",
     "text": [
      "Tractor\n"
     ]
    },
    {
     "data": {
      "application/vnd.jupyter.widget-view+json": {
       "model_id": "2a434eef55b14e48b5be29026186ec2b",
       "version_major": 2,
       "version_minor": 0
      },
      "text/plain": [
       "interactive(children=(FloatSlider(value=0.35, continuous_update=False, description='thresh', max=1.0, step=0.0…"
      ]
     },
     "metadata": {},
     "output_type": "display_data"
    },
    {
     "name": "stdout",
     "output_type": "stream",
     "text": [
      "Infantry\n"
     ]
    },
    {
     "data": {
      "application/vnd.jupyter.widget-view+json": {
       "model_id": "1cd41c2771524e82912ceba476768f2e",
       "version_major": 2,
       "version_minor": 0
      },
      "text/plain": [
       "interactive(children=(FloatSlider(value=0.35, continuous_update=False, description='thresh', max=1.0, step=0.0…"
      ]
     },
     "metadata": {},
     "output_type": "display_data"
    },
    {
     "name": "stdout",
     "output_type": "stream",
     "text": [
      "Electronic instrument\n"
     ]
    },
    {
     "data": {
      "application/vnd.jupyter.widget-view+json": {
       "model_id": "732ee5b933354aecbfeb6fbe21531b19",
       "version_major": 2,
       "version_minor": 0
      },
      "text/plain": [
       "interactive(children=(FloatSlider(value=0.35, continuous_update=False, description='thresh', max=1.0, step=0.0…"
      ]
     },
     "metadata": {},
     "output_type": "display_data"
    },
    {
     "name": "stdout",
     "output_type": "stream",
     "text": [
      "Ceremony\n"
     ]
    },
    {
     "data": {
      "application/vnd.jupyter.widget-view+json": {
       "model_id": "5d1e1ed2c62c4839bba50cbaa1242a43",
       "version_major": 2,
       "version_minor": 0
      },
      "text/plain": [
       "interactive(children=(FloatSlider(value=0.35, continuous_update=False, description='thresh', max=1.0, step=0.0…"
      ]
     },
     "metadata": {},
     "output_type": "display_data"
    },
    {
     "name": "stdout",
     "output_type": "stream",
     "text": [
      "Building\n"
     ]
    },
    {
     "data": {
      "application/vnd.jupyter.widget-view+json": {
       "model_id": "4002b58358fb4294b76dd0fa244c7e4c",
       "version_major": 2,
       "version_minor": 0
      },
      "text/plain": [
       "interactive(children=(FloatSlider(value=0.35, continuous_update=False, description='thresh', max=1.0, step=0.0…"
      ]
     },
     "metadata": {},
     "output_type": "display_data"
    },
    {
     "name": "stdout",
     "output_type": "stream",
     "text": [
      "Poster\n"
     ]
    },
    {
     "data": {
      "application/vnd.jupyter.widget-view+json": {
       "model_id": "a126cfc5e1c647ce98a1760a796b7528",
       "version_major": 2,
       "version_minor": 0
      },
      "text/plain": [
       "interactive(children=(FloatSlider(value=0.35, continuous_update=False, description='thresh', max=1.0, step=0.0…"
      ]
     },
     "metadata": {},
     "output_type": "display_data"
    },
    {
     "name": "stdout",
     "output_type": "stream",
     "text": [
      "Bomb\n"
     ]
    },
    {
     "data": {
      "application/vnd.jupyter.widget-view+json": {
       "model_id": "a6d3dd3fe30244979cc3971ddfa4c7ca",
       "version_major": 2,
       "version_minor": 0
      },
      "text/plain": [
       "interactive(children=(FloatSlider(value=0.35, continuous_update=False, description='thresh', max=1.0, step=0.0…"
      ]
     },
     "metadata": {},
     "output_type": "display_data"
    },
    {
     "name": "stdout",
     "output_type": "stream",
     "text": [
      "Propeller-driven aircraft\n"
     ]
    },
    {
     "data": {
      "application/vnd.jupyter.widget-view+json": {
       "model_id": "5abaa88fa4aa4e2bb75a308b16cb5e8d",
       "version_major": 2,
       "version_minor": 0
      },
      "text/plain": [
       "interactive(children=(FloatSlider(value=0.35, continuous_update=False, description='thresh', max=1.0, step=0.0…"
      ]
     },
     "metadata": {},
     "output_type": "display_data"
    },
    {
     "name": "stdout",
     "output_type": "stream",
     "text": [
      "Train\n"
     ]
    },
    {
     "data": {
      "application/vnd.jupyter.widget-view+json": {
       "model_id": "5123c6731a1842ca9c1da98f65ac875a",
       "version_major": 2,
       "version_minor": 0
      },
      "text/plain": [
       "interactive(children=(FloatSlider(value=0.35, continuous_update=False, description='thresh', max=1.0, step=0.0…"
      ]
     },
     "metadata": {},
     "output_type": "display_data"
    },
    {
     "name": "stdout",
     "output_type": "stream",
     "text": [
      "Handgun\n"
     ]
    },
    {
     "data": {
      "application/vnd.jupyter.widget-view+json": {
       "model_id": "63fb15fdfdbe429a974fb03da5df8a38",
       "version_major": 2,
       "version_minor": 0
      },
      "text/plain": [
       "interactive(children=(FloatSlider(value=0.35, continuous_update=False, description='thresh', max=1.0, step=0.0…"
      ]
     },
     "metadata": {},
     "output_type": "display_data"
    },
    {
     "name": "stdout",
     "output_type": "stream",
     "text": [
      "Aircraft\n"
     ]
    },
    {
     "data": {
      "application/vnd.jupyter.widget-view+json": {
       "model_id": "b41c5bb9e42f490cbf5e1f9b7d737d37",
       "version_major": 2,
       "version_minor": 0
      },
      "text/plain": [
       "interactive(children=(FloatSlider(value=0.35, continuous_update=False, description='thresh', max=1.0, step=0.0…"
      ]
     },
     "metadata": {},
     "output_type": "display_data"
    },
    {
     "name": "stdout",
     "output_type": "stream",
     "text": [
      "Urban area\n"
     ]
    },
    {
     "data": {
      "application/vnd.jupyter.widget-view+json": {
       "model_id": "2ff8196df8454ce1ab5841f9a4b27814",
       "version_major": 2,
       "version_minor": 0
      },
      "text/plain": [
       "interactive(children=(FloatSlider(value=0.35, continuous_update=False, description='thresh', max=1.0, step=0.0…"
      ]
     },
     "metadata": {},
     "output_type": "display_data"
    },
    {
     "name": "stdout",
     "output_type": "stream",
     "text": [
      "Security\n"
     ]
    },
    {
     "data": {
      "application/vnd.jupyter.widget-view+json": {
       "model_id": "0e52a17030c34726b463a9b354c60fe4",
       "version_major": 2,
       "version_minor": 0
      },
      "text/plain": [
       "interactive(children=(FloatSlider(value=0.35, continuous_update=False, description='thresh', max=1.0, step=0.0…"
      ]
     },
     "metadata": {},
     "output_type": "display_data"
    },
    {
     "name": "stdout",
     "output_type": "stream",
     "text": [
      "Lifejacket\n"
     ]
    },
    {
     "data": {
      "application/vnd.jupyter.widget-view+json": {
       "model_id": "562229c5608342338803e5199c8fd98c",
       "version_major": 2,
       "version_minor": 0
      },
      "text/plain": [
       "interactive(children=(FloatSlider(value=0.35, continuous_update=False, description='thresh', max=1.0, step=0.0…"
      ]
     },
     "metadata": {},
     "output_type": "display_data"
    },
    {
     "name": "stdout",
     "output_type": "stream",
     "text": [
      "Tablet computer\n"
     ]
    },
    {
     "data": {
      "application/vnd.jupyter.widget-view+json": {
       "model_id": "af650091b9b14533b098a216fe9d8b9d",
       "version_major": 2,
       "version_minor": 0
      },
      "text/plain": [
       "interactive(children=(FloatSlider(value=0.35, continuous_update=False, description='thresh', max=1.0, step=0.0…"
      ]
     },
     "metadata": {},
     "output_type": "display_data"
    },
    {
     "name": "stdout",
     "output_type": "stream",
     "text": [
      "Place of worship\n"
     ]
    },
    {
     "data": {
      "application/vnd.jupyter.widget-view+json": {
       "model_id": "69ba5d5aa3ee4fe48721b9ffec560bcc",
       "version_major": 2,
       "version_minor": 0
      },
      "text/plain": [
       "interactive(children=(FloatSlider(value=0.35, continuous_update=False, description='thresh', max=1.0, step=0.0…"
      ]
     },
     "metadata": {},
     "output_type": "display_data"
    },
    {
     "name": "stdout",
     "output_type": "stream",
     "text": [
      "Van\n"
     ]
    },
    {
     "data": {
      "application/vnd.jupyter.widget-view+json": {
       "model_id": "a38dec2513bd42bfa1189d0291a6e108",
       "version_major": 2,
       "version_minor": 0
      },
      "text/plain": [
       "interactive(children=(FloatSlider(value=0.35, continuous_update=False, description='thresh', max=1.0, step=0.0…"
      ]
     },
     "metadata": {},
     "output_type": "display_data"
    },
    {
     "name": "stdout",
     "output_type": "stream",
     "text": [
      "Dog\n"
     ]
    },
    {
     "data": {
      "application/vnd.jupyter.widget-view+json": {
       "model_id": "2aa825b752bc4b0aa1206af416695bc0",
       "version_major": 2,
       "version_minor": 0
      },
      "text/plain": [
       "interactive(children=(FloatSlider(value=0.35, continuous_update=False, description='thresh', max=1.0, step=0.0…"
      ]
     },
     "metadata": {},
     "output_type": "display_data"
    },
    {
     "name": "stdout",
     "output_type": "stream",
     "text": [
      "Human face\n"
     ]
    },
    {
     "data": {
      "application/vnd.jupyter.widget-view+json": {
       "model_id": "b0aeba1c481949a293e25d53cec9d090",
       "version_major": 2,
       "version_minor": 0
      },
      "text/plain": [
       "interactive(children=(FloatSlider(value=0.35, continuous_update=False, description='thresh', max=1.0, step=0.0…"
      ]
     },
     "metadata": {},
     "output_type": "display_data"
    },
    {
     "name": "stdout",
     "output_type": "stream",
     "text": [
      "Locomotive\n"
     ]
    },
    {
     "data": {
      "application/vnd.jupyter.widget-view+json": {
       "model_id": "a0ceb7d077db4c4aa815081a98bcadfb",
       "version_major": 2,
       "version_minor": 0
      },
      "text/plain": [
       "interactive(children=(FloatSlider(value=0.35, continuous_update=False, description='thresh', max=1.0, step=0.0…"
      ]
     },
     "metadata": {},
     "output_type": "display_data"
    },
    {
     "name": "stdout",
     "output_type": "stream",
     "text": [
      "Fire\n"
     ]
    },
    {
     "data": {
      "application/vnd.jupyter.widget-view+json": {
       "model_id": "b843df99ec354bb1a46a8ed43bb20e46",
       "version_major": 2,
       "version_minor": 0
      },
      "text/plain": [
       "interactive(children=(FloatSlider(value=0.35, continuous_update=False, description='thresh', max=1.0, step=0.0…"
      ]
     },
     "metadata": {},
     "output_type": "display_data"
    },
    {
     "name": "stdout",
     "output_type": "stream",
     "text": [
      "Stretcher\n"
     ]
    },
    {
     "data": {
      "application/vnd.jupyter.widget-view+json": {
       "model_id": "8cab61eb5d9e441d83e5bc640a128ab1",
       "version_major": 2,
       "version_minor": 0
      },
      "text/plain": [
       "interactive(children=(FloatSlider(value=0.35, continuous_update=False, description='thresh', max=1.0, step=0.0…"
      ]
     },
     "metadata": {},
     "output_type": "display_data"
    },
    {
     "name": "stdout",
     "output_type": "stream",
     "text": [
      "Personal luxury car\n"
     ]
    },
    {
     "data": {
      "application/vnd.jupyter.widget-view+json": {
       "model_id": "e28eec126b1d43ff97ab9e2a173bacb8",
       "version_major": 2,
       "version_minor": 0
      },
      "text/plain": [
       "interactive(children=(FloatSlider(value=0.35, continuous_update=False, description='thresh', max=1.0, step=0.0…"
      ]
     },
     "metadata": {},
     "output_type": "display_data"
    },
    {
     "name": "stdout",
     "output_type": "stream",
     "text": [
      "People\n"
     ]
    },
    {
     "data": {
      "application/vnd.jupyter.widget-view+json": {
       "model_id": "a82753bc709748d5948af3374ce7ca9e",
       "version_major": 2,
       "version_minor": 0
      },
      "text/plain": [
       "interactive(children=(FloatSlider(value=0.35, continuous_update=False, description='thresh', max=1.0, step=0.0…"
      ]
     },
     "metadata": {},
     "output_type": "display_data"
    },
    {
     "name": "stdout",
     "output_type": "stream",
     "text": [
      "Wheelchair\n"
     ]
    },
    {
     "data": {
      "application/vnd.jupyter.widget-view+json": {
       "model_id": "ebff2f56e9034075a0a43858df35a19e",
       "version_major": 2,
       "version_minor": 0
      },
      "text/plain": [
       "interactive(children=(FloatSlider(value=0.35, continuous_update=False, description='thresh', max=1.0, step=0.0…"
      ]
     },
     "metadata": {},
     "output_type": "display_data"
    },
    {
     "name": "stdout",
     "output_type": "stream",
     "text": [
      "Uniform\n"
     ]
    },
    {
     "data": {
      "application/vnd.jupyter.widget-view+json": {
       "model_id": "36e53dbef6004c6f9c70a9e554e9d4a6",
       "version_major": 2,
       "version_minor": 0
      },
      "text/plain": [
       "interactive(children=(FloatSlider(value=0.35, continuous_update=False, description='thresh', max=1.0, step=0.0…"
      ]
     },
     "metadata": {},
     "output_type": "display_data"
    },
    {
     "name": "stdout",
     "output_type": "stream",
     "text": [
      "Freight transport\n"
     ]
    },
    {
     "data": {
      "application/vnd.jupyter.widget-view+json": {
       "model_id": "f52269e363b94acab5b8957112ef8c5d",
       "version_major": 2,
       "version_minor": 0
      },
      "text/plain": [
       "interactive(children=(FloatSlider(value=0.35, continuous_update=False, description='thresh', max=1.0, step=0.0…"
      ]
     },
     "metadata": {},
     "output_type": "display_data"
    },
    {
     "name": "stdout",
     "output_type": "stream",
     "text": [
      "Bronze sculpture\n"
     ]
    },
    {
     "data": {
      "application/vnd.jupyter.widget-view+json": {
       "model_id": "07502345a5134d13ae372c96b0060d6a",
       "version_major": 2,
       "version_minor": 0
      },
      "text/plain": [
       "interactive(children=(FloatSlider(value=0.35, continuous_update=False, description='thresh', max=1.0, step=0.0…"
      ]
     },
     "metadata": {},
     "output_type": "display_data"
    },
    {
     "name": "stdout",
     "output_type": "stream",
     "text": [
      "House\n"
     ]
    },
    {
     "data": {
      "application/vnd.jupyter.widget-view+json": {
       "model_id": "26d840141fc940ee855461fa30cc76f6",
       "version_major": 2,
       "version_minor": 0
      },
      "text/plain": [
       "interactive(children=(FloatSlider(value=0.35, continuous_update=False, description='thresh', max=1.0, step=0.0…"
      ]
     },
     "metadata": {},
     "output_type": "display_data"
    },
    {
     "name": "stdout",
     "output_type": "stream",
     "text": [
      "Bicycle\n"
     ]
    },
    {
     "data": {
      "application/vnd.jupyter.widget-view+json": {
       "model_id": "2b830f2e7fdf4783bf131b70ad23471f",
       "version_major": 2,
       "version_minor": 0
      },
      "text/plain": [
       "interactive(children=(FloatSlider(value=0.35, continuous_update=False, description='thresh', max=1.0, step=0.0…"
      ]
     },
     "metadata": {},
     "output_type": "display_data"
    },
    {
     "name": "stdout",
     "output_type": "stream",
     "text": [
      "Truck\n"
     ]
    },
    {
     "data": {
      "application/vnd.jupyter.widget-view+json": {
       "model_id": "a4182baac5f74d47b29716f0c31e6a2b",
       "version_major": 2,
       "version_minor": 0
      },
      "text/plain": [
       "interactive(children=(FloatSlider(value=0.35, continuous_update=False, description='thresh', max=1.0, step=0.0…"
      ]
     },
     "metadata": {},
     "output_type": "display_data"
    },
    {
     "name": "stdout",
     "output_type": "stream",
     "text": [
      "Cash\n"
     ]
    },
    {
     "data": {
      "application/vnd.jupyter.widget-view+json": {
       "model_id": "4b6ab017b20e46d4879ecc0932d437b4",
       "version_major": 2,
       "version_minor": 0
      },
      "text/plain": [
       "interactive(children=(FloatSlider(value=0.35, continuous_update=False, description='thresh', max=1.0, step=0.0…"
      ]
     },
     "metadata": {},
     "output_type": "display_data"
    },
    {
     "name": "stdout",
     "output_type": "stream",
     "text": [
      "Waterway\n"
     ]
    },
    {
     "data": {
      "application/vnd.jupyter.widget-view+json": {
       "model_id": "37ba0b013791433fb1043ba21a8a613b",
       "version_major": 2,
       "version_minor": 0
      },
      "text/plain": [
       "interactive(children=(FloatSlider(value=0.35, continuous_update=False, description='thresh', max=1.0, step=0.0…"
      ]
     },
     "metadata": {},
     "output_type": "display_data"
    },
    {
     "name": "stdout",
     "output_type": "stream",
     "text": [
      "Machine gun\n"
     ]
    },
    {
     "data": {
      "application/vnd.jupyter.widget-view+json": {
       "model_id": "41aa9d7cbee849e1899e828203de2071",
       "version_major": 2,
       "version_minor": 0
      },
      "text/plain": [
       "interactive(children=(FloatSlider(value=0.35, continuous_update=False, description='thresh', max=1.0, step=0.0…"
      ]
     },
     "metadata": {},
     "output_type": "display_data"
    },
    {
     "name": "stdout",
     "output_type": "stream",
     "text": [
      "Medical equipment\n"
     ]
    },
    {
     "data": {
      "application/vnd.jupyter.widget-view+json": {
       "model_id": "51a72a10b0424b3fbc9237483021df3d",
       "version_major": 2,
       "version_minor": 0
      },
      "text/plain": [
       "interactive(children=(FloatSlider(value=0.35, continuous_update=False, description='thresh', max=1.0, step=0.0…"
      ]
     },
     "metadata": {},
     "output_type": "display_data"
    },
    {
     "name": "stdout",
     "output_type": "stream",
     "text": [
      "Temple\n"
     ]
    },
    {
     "data": {
      "application/vnd.jupyter.widget-view+json": {
       "model_id": "febc4872408c4bae97c9165cd20c512c",
       "version_major": 2,
       "version_minor": 0
      },
      "text/plain": [
       "interactive(children=(FloatSlider(value=0.35, continuous_update=False, description='thresh', max=1.0, step=0.0…"
      ]
     },
     "metadata": {},
     "output_type": "display_data"
    },
    {
     "name": "stdout",
     "output_type": "stream",
     "text": [
      "Speech\n"
     ]
    },
    {
     "data": {
      "application/vnd.jupyter.widget-view+json": {
       "model_id": "2a937817317c4e6a9732c3d8788c566e",
       "version_major": 2,
       "version_minor": 0
      },
      "text/plain": [
       "interactive(children=(FloatSlider(value=0.35, continuous_update=False, description='thresh', max=1.0, step=0.0…"
      ]
     },
     "metadata": {},
     "output_type": "display_data"
    },
    {
     "name": "stdout",
     "output_type": "stream",
     "text": [
      "Knife\n"
     ]
    },
    {
     "data": {
      "application/vnd.jupyter.widget-view+json": {
       "model_id": "b791cf02a62c4fb5a1c7e2725b6a0058",
       "version_major": 2,
       "version_minor": 0
      },
      "text/plain": [
       "interactive(children=(FloatSlider(value=0.35, continuous_update=False, description='thresh', max=1.0, step=0.0…"
      ]
     },
     "metadata": {},
     "output_type": "display_data"
    },
    {
     "name": "stdout",
     "output_type": "stream",
     "text": [
      "Computer\n"
     ]
    },
    {
     "data": {
      "application/vnd.jupyter.widget-view+json": {
       "model_id": "acbafe4983df4045b89e3bfab161bdc2",
       "version_major": 2,
       "version_minor": 0
      },
      "text/plain": [
       "interactive(children=(FloatSlider(value=0.35, continuous_update=False, description='thresh', max=1.0, step=0.0…"
      ]
     },
     "metadata": {},
     "output_type": "display_data"
    },
    {
     "name": "stdout",
     "output_type": "stream",
     "text": [
      "Billboard\n"
     ]
    },
    {
     "data": {
      "application/vnd.jupyter.widget-view+json": {
       "model_id": "cc03d9eb8889452c95f010ff265191c3",
       "version_major": 2,
       "version_minor": 0
      },
      "text/plain": [
       "interactive(children=(FloatSlider(value=0.35, continuous_update=False, description='thresh', max=1.0, step=0.0…"
      ]
     },
     "metadata": {},
     "output_type": "display_data"
    },
    {
     "name": "stdout",
     "output_type": "stream",
     "text": [
      "Firearm\n"
     ]
    },
    {
     "data": {
      "application/vnd.jupyter.widget-view+json": {
       "model_id": "7de9bdec15e34b2d9bebf78266a54f64",
       "version_major": 2,
       "version_minor": 0
      },
      "text/plain": [
       "interactive(children=(FloatSlider(value=0.35, continuous_update=False, description='thresh', max=1.0, step=0.0…"
      ]
     },
     "metadata": {},
     "output_type": "display_data"
    },
    {
     "name": "stdout",
     "output_type": "stream",
     "text": [
      "Luggage and bags\n"
     ]
    },
    {
     "data": {
      "application/vnd.jupyter.widget-view+json": {
       "model_id": "3820c867704b43bc88bf60846259beb3",
       "version_major": 2,
       "version_minor": 0
      },
      "text/plain": [
       "interactive(children=(FloatSlider(value=0.35, continuous_update=False, description='thresh', max=1.0, step=0.0…"
      ]
     },
     "metadata": {},
     "output_type": "display_data"
    },
    {
     "name": "stdout",
     "output_type": "stream",
     "text": [
      "Shooting\n"
     ]
    },
    {
     "data": {
      "application/vnd.jupyter.widget-view+json": {
       "model_id": "25ef12f3113a496f90c9a2f0e4638fa9",
       "version_major": 2,
       "version_minor": 0
      },
      "text/plain": [
       "interactive(children=(FloatSlider(value=0.35, continuous_update=False, description='thresh', max=1.0, step=0.0…"
      ]
     },
     "metadata": {},
     "output_type": "display_data"
    },
    {
     "name": "stdout",
     "output_type": "stream",
     "text": [
      "Office building\n"
     ]
    },
    {
     "data": {
      "application/vnd.jupyter.widget-view+json": {
       "model_id": "b187ffef0d60477fa8161e22cc10a917",
       "version_major": 2,
       "version_minor": 0
      },
      "text/plain": [
       "interactive(children=(FloatSlider(value=0.35, continuous_update=False, description='thresh', max=1.0, step=0.0…"
      ]
     },
     "metadata": {},
     "output_type": "display_data"
    },
    {
     "name": "stdout",
     "output_type": "stream",
     "text": [
      "Tank\n"
     ]
    },
    {
     "data": {
      "application/vnd.jupyter.widget-view+json": {
       "model_id": "69d3b68dd908413aa5c01858ebe0ea4c",
       "version_major": 2,
       "version_minor": 0
      },
      "text/plain": [
       "interactive(children=(FloatSlider(value=0.35, continuous_update=False, description='thresh', max=1.0, step=0.0…"
      ]
     },
     "metadata": {},
     "output_type": "display_data"
    },
    {
     "name": "stdout",
     "output_type": "stream",
     "text": [
      "Flight\n"
     ]
    },
    {
     "data": {
      "application/vnd.jupyter.widget-view+json": {
       "model_id": "1b59f44982064815bf1be4e261a30e0f",
       "version_major": 2,
       "version_minor": 0
      },
      "text/plain": [
       "interactive(children=(FloatSlider(value=0.35, continuous_update=False, description='thresh', max=1.0, step=0.0…"
      ]
     },
     "metadata": {},
     "output_type": "display_data"
    },
    {
     "name": "stdout",
     "output_type": "stream",
     "text": [
      "Dome\n"
     ]
    },
    {
     "data": {
      "application/vnd.jupyter.widget-view+json": {
       "model_id": "ef35e6d80f9243ff98fe7753cefbc852",
       "version_major": 2,
       "version_minor": 0
      },
      "text/plain": [
       "interactive(children=(FloatSlider(value=0.35, continuous_update=False, description='thresh', max=1.0, step=0.0…"
      ]
     },
     "metadata": {},
     "output_type": "display_data"
    },
    {
     "name": "stdout",
     "output_type": "stream",
     "text": [
      "Steeple\n"
     ]
    },
    {
     "data": {
      "application/vnd.jupyter.widget-view+json": {
       "model_id": "c41f418e3f1245199adfbc42a9c3bd49",
       "version_major": 2,
       "version_minor": 0
      },
      "text/plain": [
       "interactive(children=(FloatSlider(value=0.35, continuous_update=False, description='thresh', max=1.0, step=0.0…"
      ]
     },
     "metadata": {},
     "output_type": "display_data"
    },
    {
     "name": "stdout",
     "output_type": "stream",
     "text": [
      "Military aircraft\n"
     ]
    },
    {
     "data": {
      "application/vnd.jupyter.widget-view+json": {
       "model_id": "2327b48a57694cc4be468e2b3860e16b",
       "version_major": 2,
       "version_minor": 0
      },
      "text/plain": [
       "interactive(children=(FloatSlider(value=0.35, continuous_update=False, description='thresh', max=1.0, step=0.0…"
      ]
     },
     "metadata": {},
     "output_type": "display_data"
    },
    {
     "name": "stdout",
     "output_type": "stream",
     "text": [
      "Public transport\n"
     ]
    },
    {
     "data": {
      "application/vnd.jupyter.widget-view+json": {
       "model_id": "f2b231dd634d4278b75c677b482f4835",
       "version_major": 2,
       "version_minor": 0
      },
      "text/plain": [
       "interactive(children=(FloatSlider(value=0.35, continuous_update=False, description='thresh', max=1.0, step=0.0…"
      ]
     },
     "metadata": {},
     "output_type": "display_data"
    },
    {
     "name": "stdout",
     "output_type": "stream",
     "text": [
      "Pickup truck\n"
     ]
    },
    {
     "data": {
      "application/vnd.jupyter.widget-view+json": {
       "model_id": "33e4cdc5936f449c8d3c229a048f1a7b",
       "version_major": 2,
       "version_minor": 0
      },
      "text/plain": [
       "interactive(children=(FloatSlider(value=0.35, continuous_update=False, description='thresh', max=1.0, step=0.0…"
      ]
     },
     "metadata": {},
     "output_type": "display_data"
    },
    {
     "name": "stdout",
     "output_type": "stream",
     "text": [
      "Fighter aircraft\n"
     ]
    },
    {
     "data": {
      "application/vnd.jupyter.widget-view+json": {
       "model_id": "d3a71b5f76154201bb709f6f441a4021",
       "version_major": 2,
       "version_minor": 0
      },
      "text/plain": [
       "interactive(children=(FloatSlider(value=0.35, continuous_update=False, description='thresh', max=1.0, step=0.0…"
      ]
     },
     "metadata": {},
     "output_type": "display_data"
    },
    {
     "name": "stdout",
     "output_type": "stream",
     "text": [
      "Dome\n"
     ]
    },
    {
     "data": {
      "application/vnd.jupyter.widget-view+json": {
       "model_id": "8344f1d8094840c492eed6bd5788ed34",
       "version_major": 2,
       "version_minor": 0
      },
      "text/plain": [
       "interactive(children=(FloatSlider(value=0.35, continuous_update=False, description='thresh', max=1.0, step=0.0…"
      ]
     },
     "metadata": {},
     "output_type": "display_data"
    },
    {
     "name": "stdout",
     "output_type": "stream",
     "text": [
      "Taxi\n"
     ]
    },
    {
     "data": {
      "application/vnd.jupyter.widget-view+json": {
       "model_id": "ad28f0186ef346d0a4c91c81d7ee8f88",
       "version_major": 2,
       "version_minor": 0
      },
      "text/plain": [
       "interactive(children=(FloatSlider(value=0.35, continuous_update=False, description='thresh', max=1.0, step=0.0…"
      ]
     },
     "metadata": {},
     "output_type": "display_data"
    },
    {
     "name": "stdout",
     "output_type": "stream",
     "text": [
      "Helmet\n"
     ]
    },
    {
     "data": {
      "application/vnd.jupyter.widget-view+json": {
       "model_id": "9c9016b9e7794a1483d84fa2e46630f2",
       "version_major": 2,
       "version_minor": 0
      },
      "text/plain": [
       "interactive(children=(FloatSlider(value=0.35, continuous_update=False, description='thresh', max=1.0, step=0.0…"
      ]
     },
     "metadata": {},
     "output_type": "display_data"
    },
    {
     "name": "stdout",
     "output_type": "stream",
     "text": [
      "Luxury vehicle\n"
     ]
    },
    {
     "data": {
      "application/vnd.jupyter.widget-view+json": {
       "model_id": "c903c0a5406f42f683525ee93d95aae6",
       "version_major": 2,
       "version_minor": 0
      },
      "text/plain": [
       "interactive(children=(FloatSlider(value=0.35, continuous_update=False, description='thresh', max=1.0, step=0.0…"
      ]
     },
     "metadata": {},
     "output_type": "display_data"
    },
    {
     "name": "stdout",
     "output_type": "stream",
     "text": [
      "World\n"
     ]
    },
    {
     "data": {
      "application/vnd.jupyter.widget-view+json": {
       "model_id": "3d95c7a61b16432b9fa280dfaf7e002d",
       "version_major": 2,
       "version_minor": 0
      },
      "text/plain": [
       "interactive(children=(FloatSlider(value=0.35, continuous_update=False, description='thresh', max=1.0, step=0.0…"
      ]
     },
     "metadata": {},
     "output_type": "display_data"
    },
    {
     "name": "stdout",
     "output_type": "stream",
     "text": [
      "Axe\n"
     ]
    },
    {
     "data": {
      "application/vnd.jupyter.widget-view+json": {
       "model_id": "112e462b7ed2449da5afdd1dd5f96181",
       "version_major": 2,
       "version_minor": 0
      },
      "text/plain": [
       "interactive(children=(FloatSlider(value=0.35, continuous_update=False, description='thresh', max=1.0, step=0.0…"
      ]
     },
     "metadata": {},
     "output_type": "display_data"
    },
    {
     "name": "stdout",
     "output_type": "stream",
     "text": [
      "Apartment\n"
     ]
    },
    {
     "data": {
      "application/vnd.jupyter.widget-view+json": {
       "model_id": "2567b35163fd42ba98f2163f28d67e43",
       "version_major": 2,
       "version_minor": 0
      },
      "text/plain": [
       "interactive(children=(FloatSlider(value=0.35, continuous_update=False, description='thresh', max=1.0, step=0.0…"
      ]
     },
     "metadata": {},
     "output_type": "display_data"
    },
    {
     "name": "stdout",
     "output_type": "stream",
     "text": [
      "Animal\n"
     ]
    },
    {
     "data": {
      "application/vnd.jupyter.widget-view+json": {
       "model_id": "e363f91b78b2475996405dc0f6efe380",
       "version_major": 2,
       "version_minor": 0
      },
      "text/plain": [
       "interactive(children=(FloatSlider(value=0.35, continuous_update=False, description='thresh', max=1.0, step=0.0…"
      ]
     },
     "metadata": {},
     "output_type": "display_data"
    },
    {
     "name": "stdout",
     "output_type": "stream",
     "text": [
      "Auditorium\n"
     ]
    },
    {
     "data": {
      "application/vnd.jupyter.widget-view+json": {
       "model_id": "71b56d622dd542d4acccd13e39deace0",
       "version_major": 2,
       "version_minor": 0
      },
      "text/plain": [
       "interactive(children=(FloatSlider(value=0.35, continuous_update=False, description='thresh', max=1.0, step=0.0…"
      ]
     },
     "metadata": {},
     "output_type": "display_data"
    },
    {
     "name": "stdout",
     "output_type": "stream",
     "text": [
      "Weapon\n"
     ]
    },
    {
     "data": {
      "application/vnd.jupyter.widget-view+json": {
       "model_id": "5a3f4c32dc0c4f64bde0e3008e97ed11",
       "version_major": 2,
       "version_minor": 0
      },
      "text/plain": [
       "interactive(children=(FloatSlider(value=0.35, continuous_update=False, description='thresh', max=1.0, step=0.0…"
      ]
     },
     "metadata": {},
     "output_type": "display_data"
    },
    {
     "name": "stdout",
     "output_type": "stream",
     "text": [
      "Toddler\n"
     ]
    },
    {
     "data": {
      "application/vnd.jupyter.widget-view+json": {
       "model_id": "3d31779f18a04ecfadf7f94b8a8c1f0e",
       "version_major": 2,
       "version_minor": 0
      },
      "text/plain": [
       "interactive(children=(FloatSlider(value=0.35, continuous_update=False, description='thresh', max=1.0, step=0.0…"
      ]
     },
     "metadata": {},
     "output_type": "display_data"
    },
    {
     "name": "stdout",
     "output_type": "stream",
     "text": [
      "Jet aircraft\n"
     ]
    },
    {
     "data": {
      "application/vnd.jupyter.widget-view+json": {
       "model_id": "617ee12295f848159f08d3b79c9378f0",
       "version_major": 2,
       "version_minor": 0
      },
      "text/plain": [
       "interactive(children=(FloatSlider(value=0.35, continuous_update=False, description='thresh', max=1.0, step=0.0…"
      ]
     },
     "metadata": {},
     "output_type": "display_data"
    },
    {
     "name": "stdout",
     "output_type": "stream",
     "text": [
      "Rubble\n"
     ]
    },
    {
     "data": {
      "application/vnd.jupyter.widget-view+json": {
       "model_id": "2e6587c3c0564a4889c7812061ca10eb",
       "version_major": 2,
       "version_minor": 0
      },
      "text/plain": [
       "interactive(children=(FloatSlider(value=0.35, continuous_update=False, description='thresh', max=1.0, step=0.0…"
      ]
     },
     "metadata": {},
     "output_type": "display_data"
    },
    {
     "name": "stdout",
     "output_type": "stream",
     "text": [
      "Funeral\n"
     ]
    },
    {
     "data": {
      "application/vnd.jupyter.widget-view+json": {
       "model_id": "21c999f33dde4fe6bf2078521cec752c",
       "version_major": 2,
       "version_minor": 0
      },
      "text/plain": [
       "interactive(children=(FloatSlider(value=0.35, continuous_update=False, description='thresh', max=1.0, step=0.0…"
      ]
     },
     "metadata": {},
     "output_type": "display_data"
    },
    {
     "name": "stdout",
     "output_type": "stream",
     "text": [
      "Airline\n"
     ]
    },
    {
     "data": {
      "application/vnd.jupyter.widget-view+json": {
       "model_id": "dc14c8cde51c43838db84c1462c7ea90",
       "version_major": 2,
       "version_minor": 0
      },
      "text/plain": [
       "interactive(children=(FloatSlider(value=0.35, continuous_update=False, description='thresh', max=1.0, step=0.0…"
      ]
     },
     "metadata": {},
     "output_type": "display_data"
    },
    {
     "name": "stdout",
     "output_type": "stream",
     "text": [
      "Cannon\n"
     ]
    },
    {
     "data": {
      "application/vnd.jupyter.widget-view+json": {
       "model_id": "021f92f6001e4875b6d219e39992b7d7",
       "version_major": 2,
       "version_minor": 0
      },
      "text/plain": [
       "interactive(children=(FloatSlider(value=0.35, continuous_update=False, description='thresh', max=1.0, step=0.0…"
      ]
     },
     "metadata": {},
     "output_type": "display_data"
    },
    {
     "name": "stdout",
     "output_type": "stream",
     "text": [
      "Glasses\n"
     ]
    },
    {
     "data": {
      "application/vnd.jupyter.widget-view+json": {
       "model_id": "359af62408cb4d18b95c77a489ea6748",
       "version_major": 2,
       "version_minor": 0
      },
      "text/plain": [
       "interactive(children=(FloatSlider(value=0.35, continuous_update=False, description='thresh', max=1.0, step=0.0…"
      ]
     },
     "metadata": {},
     "output_type": "display_data"
    },
    {
     "name": "stdout",
     "output_type": "stream",
     "text": [
      "Fire extinguisher\n"
     ]
    },
    {
     "data": {
      "application/vnd.jupyter.widget-view+json": {
       "model_id": "d3cbf64c6cfb4ff5a4ef7fc36c6dd19f",
       "version_major": 2,
       "version_minor": 0
      },
      "text/plain": [
       "interactive(children=(FloatSlider(value=0.35, continuous_update=False, description='thresh', max=1.0, step=0.0…"
      ]
     },
     "metadata": {},
     "output_type": "display_data"
    },
    {
     "name": "stdout",
     "output_type": "stream",
     "text": [
      "Flesh\n"
     ]
    },
    {
     "data": {
      "application/vnd.jupyter.widget-view+json": {
       "model_id": "cf7f445678a548108ded06b460b12fb5",
       "version_major": 2,
       "version_minor": 0
      },
      "text/plain": [
       "interactive(children=(FloatSlider(value=0.35, continuous_update=False, description='thresh', max=1.0, step=0.0…"
      ]
     },
     "metadata": {},
     "output_type": "display_data"
    },
    {
     "name": "stdout",
     "output_type": "stream",
     "text": [
      "Commercial vehicle\n"
     ]
    },
    {
     "data": {
      "application/vnd.jupyter.widget-view+json": {
       "model_id": "01e03e7af6b04d37883282bfb4346996",
       "version_major": 2,
       "version_minor": 0
      },
      "text/plain": [
       "interactive(children=(FloatSlider(value=0.35, continuous_update=False, description='thresh', max=1.0, step=0.0…"
      ]
     },
     "metadata": {},
     "output_type": "display_data"
    },
    {
     "name": "stdout",
     "output_type": "stream",
     "text": [
      "Motorcycle\n"
     ]
    },
    {
     "data": {
      "application/vnd.jupyter.widget-view+json": {
       "model_id": "bf384e75ea3c46be90b8b2b6629207b8",
       "version_major": 2,
       "version_minor": 0
      },
      "text/plain": [
       "interactive(children=(FloatSlider(value=0.35, continuous_update=False, description='thresh', max=1.0, step=0.0…"
      ]
     },
     "metadata": {},
     "output_type": "display_data"
    },
    {
     "name": "stdout",
     "output_type": "stream",
     "text": [
      "Grave\n"
     ]
    },
    {
     "data": {
      "application/vnd.jupyter.widget-view+json": {
       "model_id": "3a20dc03ab844d7bb3f51932cdf28589",
       "version_major": 2,
       "version_minor": 0
      },
      "text/plain": [
       "interactive(children=(FloatSlider(value=0.35, continuous_update=False, description='thresh', max=1.0, step=0.0…"
      ]
     },
     "metadata": {},
     "output_type": "display_data"
    },
    {
     "name": "stdout",
     "output_type": "stream",
     "text": [
      "Military vehicle\n"
     ]
    },
    {
     "data": {
      "application/vnd.jupyter.widget-view+json": {
       "model_id": "c505827cc30b4b748fdc8db0b868ce5d",
       "version_major": 2,
       "version_minor": 0
      },
      "text/plain": [
       "interactive(children=(FloatSlider(value=0.35, continuous_update=False, description='thresh', max=1.0, step=0.0…"
      ]
     },
     "metadata": {},
     "output_type": "display_data"
    },
    {
     "name": "stdout",
     "output_type": "stream",
     "text": [
      "Smartphone\n"
     ]
    },
    {
     "data": {
      "application/vnd.jupyter.widget-view+json": {
       "model_id": "4692b7e943ac4eec977cadff9609157f",
       "version_major": 2,
       "version_minor": 0
      },
      "text/plain": [
       "interactive(children=(FloatSlider(value=0.35, continuous_update=False, description='thresh', max=1.0, step=0.0…"
      ]
     },
     "metadata": {},
     "output_type": "display_data"
    },
    {
     "name": "stdout",
     "output_type": "stream",
     "text": [
      "Airliner\n"
     ]
    },
    {
     "data": {
      "application/vnd.jupyter.widget-view+json": {
       "model_id": "99c80810cf2c47ee8cf14e9794df20e3",
       "version_major": 2,
       "version_minor": 0
      },
      "text/plain": [
       "interactive(children=(FloatSlider(value=0.35, continuous_update=False, description='thresh', max=1.0, step=0.0…"
      ]
     },
     "metadata": {},
     "output_type": "display_data"
    },
    {
     "name": "stdout",
     "output_type": "stream",
     "text": [
      "Jet ski\n"
     ]
    },
    {
     "data": {
      "application/vnd.jupyter.widget-view+json": {
       "model_id": "2f0333b6bee3426fbf92c0aedc917c70",
       "version_major": 2,
       "version_minor": 0
      },
      "text/plain": [
       "interactive(children=(FloatSlider(value=0.35, continuous_update=False, description='thresh', max=1.0, step=0.0…"
      ]
     },
     "metadata": {},
     "output_type": "display_data"
    },
    {
     "name": "stdout",
     "output_type": "stream",
     "text": [
      "Church\n"
     ]
    },
    {
     "data": {
      "application/vnd.jupyter.widget-view+json": {
       "model_id": "7be97c0bd3b442008ab2d7f1897a4b53",
       "version_major": 2,
       "version_minor": 0
      },
      "text/plain": [
       "interactive(children=(FloatSlider(value=0.35, continuous_update=False, description='thresh', max=1.0, step=0.0…"
      ]
     },
     "metadata": {},
     "output_type": "display_data"
    },
    {
     "name": "stdout",
     "output_type": "stream",
     "text": [
      "Camouflage\n"
     ]
    },
    {
     "data": {
      "application/vnd.jupyter.widget-view+json": {
       "model_id": "2c9c68f0a2d94e0caaa27b26563f66a2",
       "version_major": 2,
       "version_minor": 0
      },
      "text/plain": [
       "interactive(children=(FloatSlider(value=0.35, continuous_update=False, description='thresh', max=1.0, step=0.0…"
      ]
     },
     "metadata": {},
     "output_type": "display_data"
    },
    {
     "name": "stdout",
     "output_type": "stream",
     "text": [
      "Tower\n"
     ]
    },
    {
     "data": {
      "application/vnd.jupyter.widget-view+json": {
       "model_id": "a397910b92b44911ae7899012e542fc0",
       "version_major": 2,
       "version_minor": 0
      },
      "text/plain": [
       "interactive(children=(FloatSlider(value=0.35, continuous_update=False, description='thresh', max=1.0, step=0.0…"
      ]
     },
     "metadata": {},
     "output_type": "display_data"
    },
    {
     "name": "stdout",
     "output_type": "stream",
     "text": [
      "Self-propelled artillery\n"
     ]
    },
    {
     "data": {
      "application/vnd.jupyter.widget-view+json": {
       "model_id": "47dcdf78c78f4211b1dc5727c42fb47c",
       "version_major": 2,
       "version_minor": 0
      },
      "text/plain": [
       "interactive(children=(FloatSlider(value=0.35, continuous_update=False, description='thresh', max=1.0, step=0.0…"
      ]
     },
     "metadata": {},
     "output_type": "display_data"
    },
    {
     "name": "stdout",
     "output_type": "stream",
     "text": [
      "Convenience store\n"
     ]
    },
    {
     "data": {
      "application/vnd.jupyter.widget-view+json": {
       "model_id": "76ad651a9c0f4617a88cfe01da9e00e5",
       "version_major": 2,
       "version_minor": 0
      },
      "text/plain": [
       "interactive(children=(FloatSlider(value=0.35, continuous_update=False, description='thresh', max=1.0, step=0.0…"
      ]
     },
     "metadata": {},
     "output_type": "display_data"
    }
   ],
   "source": [
    "for label in label_to_img:\n",
    "    if len(label_to_img[label]) == 0:\n",
    "        continue\n",
    "    print(mid2name_all[label])\n",
    "    imgid = np.random.choice(label_to_img[label])\n",
    "    w = interactive(show, \n",
    "        thresh=widgets.FloatSlider(min=0.0, max=1.0, step=0.01, value=0.35, continuous_update=False), \n",
    "        imgid=fixed(imgid)\n",
    "    )\n",
    "    w.children[-1].layout.height = '600px'\n",
    "    display(w)"
   ]
  },
  {
   "cell_type": "code",
   "execution_count": null,
   "metadata": {},
   "outputs": [],
   "source": []
  }
 ],
 "metadata": {
  "kernelspec": {
   "display_name": "Py3 w/ Tensorflow",
   "language": "python",
   "name": "py3tf"
  },
  "language_info": {
   "codemirror_mode": {
    "name": "ipython",
    "version": 3
   },
   "file_extension": ".py",
   "mimetype": "text/x-python",
   "name": "python",
   "nbconvert_exporter": "python",
   "pygments_lexer": "ipython3",
   "version": "3.6.5"
  }
 },
 "nbformat": 4,
 "nbformat_minor": 2
}
