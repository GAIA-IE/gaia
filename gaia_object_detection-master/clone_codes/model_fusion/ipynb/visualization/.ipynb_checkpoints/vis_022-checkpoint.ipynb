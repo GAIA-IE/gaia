{
 "cells": [
  {
   "cell_type": "code",
   "execution_count": 1,
   "metadata": {},
   "outputs": [],
   "source": [
    "import os\n",
    "import sys\n",
    "import pickle\n",
    "import csv\n",
    "import copy\n",
    "\n",
    "import numpy as np\n",
    "import cv2\n",
    "import matplotlib.pyplot as plt\n",
    "%matplotlib inline"
   ]
  },
  {
   "cell_type": "code",
   "execution_count": 2,
   "metadata": {},
   "outputs": [],
   "source": [
    "from ipywidgets import interact, interactive, fixed, interact_manual\n",
    "import ipywidgets as widgets"
   ]
  },
  {
   "cell_type": "code",
   "execution_count": 3,
   "metadata": {},
   "outputs": [
    {
     "name": "stderr",
     "output_type": "stream",
     "text": [
      "../../../tfobjdetect/lib/object_detection/utils/visualization_utils.py:25: UserWarning: matplotlib.pyplot as already been imported, this call will have no effect.\n",
      "  import matplotlib; matplotlib.use('Agg')  # pylint: disable=multiple-statements\n"
     ]
    }
   ],
   "source": [
    "sys.path.append(\"../../../tfobjdetect/lib\")\n",
    "from object_detection.utils import label_map_util\n",
    "from object_detection.utils import visualization_utils as vis_util"
   ]
  },
  {
   "cell_type": "markdown",
   "metadata": {},
   "source": [
    "## Loading and preparing label maps"
   ]
  },
  {
   "cell_type": "code",
   "execution_count": 4,
   "metadata": {},
   "outputs": [],
   "source": [
    "with open('../../../wsod/metadata/ont_m18/class_names_all.pkl', 'rb') as fin:\n",
    "    mid2name_all = pickle.load(fin)"
   ]
  },
  {
   "cell_type": "code",
   "execution_count": null,
   "metadata": {},
   "outputs": [],
   "source": []
  },
  {
   "cell_type": "code",
   "execution_count": 5,
   "metadata": {},
   "outputs": [],
   "source": [
    "with open('../../results/det_results_merged_27.pkl', 'rb') as fin:\n",
    "    det_results_merged = pickle.load(fin)"
   ]
  },
  {
   "cell_type": "code",
   "execution_count": 6,
   "metadata": {},
   "outputs": [],
   "source": [
    "with open('../../results/det_results_merged_27b.pkl', 'rb') as fin:\n",
    "    det_results_merged_2 = pickle.load(fin)"
   ]
  },
  {
   "cell_type": "code",
   "execution_count": 9,
   "metadata": {},
   "outputs": [],
   "source": []
  },
  {
   "cell_type": "markdown",
   "metadata": {},
   "source": [
    "## Choosing examples for each class to visualize"
   ]
  },
  {
   "cell_type": "code",
   "execution_count": 8,
   "metadata": {},
   "outputs": [],
   "source": [
    "label_to_img = {key: [] for key in mid2name_all}\n",
    "for key, val in det_results_merged.items():\n",
    "    for det in val:\n",
    "        if det['score'] >= 0.1:\n",
    "            label_to_img[det['label']].append(key)"
   ]
  },
  {
   "cell_type": "code",
   "execution_count": 9,
   "metadata": {},
   "outputs": [],
   "source": [
    "all_labels = list(label_to_img.keys())"
   ]
  },
  {
   "cell_type": "code",
   "execution_count": 10,
   "metadata": {},
   "outputs": [],
   "source": [
    "sort_idx = np.argsort([-len(label_to_img[label]) for label in all_labels])"
   ]
  },
  {
   "cell_type": "code",
   "execution_count": 11,
   "metadata": {},
   "outputs": [
    {
     "name": "stdout",
     "output_type": "stream",
     "text": [
      "/m/01g317 PER (Person) 7288\n",
      "/m/0hf58v5 COM (Luggage_and_bags) 405\n",
      "/m/0k4j VEH.WheeledVehicle.Car (Car) 350\n",
      "/m/04hgtk PER (Human_head) 294\n",
      "/m/0bs7_0t COM (Electronic_device) 249\n",
      "/m/07yv9 VEH (Vehicle) 206\n",
      "/m/0cgh4 FAC.Building (Building) 188\n",
      "/m/07k1x COM.Equipment (Tool) 160\n",
      "/m/07r04 VEH.WheeledVehicle.Truck (Truck) 112\n",
      "/m/07cx4 COM (Telephone) 78\n",
      "/m/03120 COM.Flag.Flag (Flag) 78\n",
      "/m/019jd VEH.Watercraft.Boat (Boat) 61\n",
      "/m/04_tb COM.Document.Map (Map) 61\n",
      "/m/07cmd VEH.MilitaryVehicle.Tank (Tank) 54\n",
      "/m/0cmf2 VEH.Aircraft.Airplane (Airplane) 51\n",
      "/m/01prls VEH.WheeledVehicle (Land_vehicle) 49\n",
      "/m/07jdr VEH.WheeledVehicle.Train (Train) 39\n",
      "/m/0199g VEH.WheeledVehicle (Bicycle) 36\n",
      "syn_001 PER.ProfessionalPosition.Spokesperson (Orator) 34\n",
      "/m/04yx4 PER (Man) 32\n",
      "/m/01knjb COM (Billboard) 31\n",
      "syn_011 ORG (Logo) 30\n",
      "/m/01bjv VEH.WheeledVehicle.Bus (Bus) 29\n",
      "/m/03jm5 FAC.Building.House (House) 28\n",
      "/m/083kb WEA (Weapon) 24\n",
      "syn_006 WEA.DaggerKnifeSword (Knife) 17\n",
      "/m/0chbx Conflict.Attack (Violence) 16\n",
      "/m/01fdzj FAC.Structure.Tower (Tower) 16\n",
      "/m/02p0zyj Conflict.Attack (Riot) 16\n",
      "/m/03qtwd PER (Crowd) 15\n",
      "/m/03bt1vf PER (Woman) 14\n",
      "/m/021sj1 FAC.Building.OfficeBuilding (Office_building) 13\n",
      "/m/0hg7b COM.Equipment (Microphone) 12\n",
      "syn_024 MON.Cash.Cash (Money) 12\n",
      "syn_018 Contact.PublicStatementInPerson.Broadcast (Public_speaking) 12\n",
      "/m/04_sv VEH.WheeledVehicle (Motorcycle) 11\n",
      "/m/06msq COM (Sculpture) 11\n",
      "/m/09ct_ VEH.Aircraft.Helicopter (Helicopter) 11\n",
      "syn_016 Conflict.Attack.SelfDirectedBattle (Battle) 11\n",
      "/m/06c54 WEA.Gun.Firearm (Rifle) 10\n",
      "/m/01x3jk VEH (Snowmobile) 10\n",
      "/m/026yq0z Conflict.Demonstrate (Demonstration) 9\n",
      "/m/01xgg_ COM.Equipment.MedicalEquipment (Medical_equipment) 8\n",
      "syn_010 COM (Badge) 7\n",
      "/m/012n4x PER.ProfessionalPosition.Firefighter (Firefighter) 7\n",
      "/m/02_41 Disaster.FireExplosion.FireExplosion (Fire) 6\n",
      "syn_014 ORG.MilitaryOrganization.GovernmentArmedForces (Military_camouflage) 5\n",
      "/m/06q2q PER.ProfessionalPosition.Scientist (Scientist) 5\n",
      "/m/079cl FAC.Building (Skyscraper) 5\n",
      "/m/01_v7j COM.Document.PersonalIdentification (Identity_document) 5\n",
      "/m/05r655 PER (Girl) 4\n",
      "/m/06q40 Disaster.FireExplosion.FireExplosion (Smoke) 4\n",
      "/m/04h7h FAC.Structure (Lighthouse) 3\n",
      "/m/02nvjx FAC (Place_of_worship) 3\n",
      "/m/01j61q FAC (Tent) 3\n",
      "/m/0168g6 FAC.Installation (Factory) 3\n",
      "syn_004 ORG.MilitaryOrganization.GovernmentArmedForces (Infantry) 3\n",
      "/m/09g5pq PER (People) 3\n",
      "/m/038t8_ FAC.Building (Estate) 3\n",
      "/m/01h6cb Contact.Discussion.Meet (Meeting) 2\n",
      "/m/0cfs8 FAC.Building (Cathedral) 2\n",
      "/m/06zdj FAC.Building.School (School) 2\n",
      "/m/092x18 Justice.InitiateJudicialProcess.TrialHearing (Trial) 2\n",
      "/m/0f0q9 GPE.UrbanArea.Village (Village) 2\n",
      "/m/0k5j VEH.Aircraft (Aircraft) 2\n",
      "/m/06wwc COM.Equipment.Satellite (Satellite) 2\n",
      "/m/039l3v FAC.Building (Auditorium) 2\n",
      "/m/015kr FAC.Structure.Bridge (Bridge) 2\n",
      "/m/0d5gx FAC.Building (Castle) 2\n",
      "/m/06q74 VEH.Watercraft (Ship) 2\n",
      "/m/02lbcq COM.Equipment.MedicalEquipment (Stretcher) 2\n",
      "/m/0crjs FAC.Building.StoreShop (Convenience_store) 2\n",
      "syn_015 PER.Police (Security_guard) 2\n",
      "/m/013m1 ORG.MilitaryOrganization.GovernmentArmedForces (Air_force) 1\n",
      "/m/01bl7v PER (Boy) 1\n",
      "/m/01vzwd WEA.Cannon.Cannon (Mortar) 1\n",
      "/m/05ws7 PER.Police (Police) 1\n",
      "/m/0lt4_ COM.Equipment (Binoculars) 1\n",
      "/m/0583b1 FAC.Structure.Barricade (Barricade) 1\n",
      "syn_019 Movement.TransportPerson (Transport) 1\n",
      "syn_013 Disaster.AccidentCrash.AccidentCrash (Accident) 1\n",
      "syn_003 PER.MilitaryPersonnel (map to OWG = Serviceman) (Military_person) 1\n",
      "/m/04ylt WEA.MissileSystem.Missile (Missile) 1\n",
      "/m/0h2r6 VEH.WheeledVehicle (Van) 1\n",
      "/m/01c8br FAC.Way.Street (Street) 1\n",
      "/m/0cyfs COM.Equipment (Parachute) 1\n",
      "/m/0bh6t6c PER.ProfessionalPosition (Rescuer) 1\n",
      "/m/01phq4 FAC (Pier) 1\n",
      "/m/09rvcxw VEH.Rocket.Rocket (Rocket) 1\n",
      "/m/02gx17 COM.Equipment (Construction_equipment) 1\n",
      "/m/015bv3 COM.Document (Document) 1\n",
      "/m/02k88w Conflict.Attack (Rebellion) 1\n",
      "/m/0ct4f WEA.Bomb (Bomb) 1\n",
      "/m/027cnw2 PER.ProfessionalPosition.Minister (Minister) 1\n",
      "/m/02_g0 Contact.FuneralVigil.Meet (Funeral) 0\n",
      "/m/08qrwn LOC.Land (Rubble) 0\n",
      "/m/0d8qb PER.ProfessionalPosition.Journalist (Journalist) 0\n",
      "/m/01nblt FAC.Building.ApartmentBuilding (Apartment) 0\n",
      "/m/0f5lx VEH.MilitaryVehicle (Military_aircraft) 0\n",
      "/m/03htg FAC (Harbor) 0\n",
      "/m/02bb1s WEA.Gun.Firearm (Sniper_rifle) 0\n",
      "/m/0g_k0 Manufacture.Artifact.CreateManufacture (Mass_production) 0\n",
      "/m/01nd_n Conflict.Demonstrate.MarchProtestPoliticalGathering (Protest) 0\n",
      "/m/03w1r4 ORG.MilitaryOrganization.GovernmentArmedForces (Military_uniform) 0\n",
      "/m/01jpn4 FAC.Building.StoreShop (Grocery_store) 0\n",
      "/m/014zdl Disaster.FireExplosion.FireExplosion (Explosion) 0\n",
      "/m/08854 VEH.Watercraft.Yacht (Yacht) 0\n",
      "/m/04zjc WEA.Gun.Firearm (Machine_gun) 0\n",
      "/m/01c648 COM (Electronic_device.Laptop) 0\n",
      "/m/071rm Conflict.Attack.FirearmAttack (Shooting) 0\n",
      "/m/06dq9 COM.Equipment (Radar) 0\n",
      "/m/09l35 VEH (Space_shuttle) 0\n",
      "/m/0191hp VEH.Watercraft (Oil_tanker) 0\n",
      "/m/06fk8 WEA.Gun.Firearm (Revolver) 0\n",
      "syn_005 Movement.TransportPerson.SelfMotion (General_aviation) 0\n",
      "syn_007 FAC (Cemetery) 0\n",
      "/m/05t_pq WEA.Gun (Gun_turret) 0\n",
      "syn_008 WEA.DaggerKnifeSword.Hatchet (Hatchet) 0\n",
      "syn_017 WEA.Bullets (Bullet) 0\n",
      "syn_023 VEH.MilitaryVehicle.FighterAircraft (Fighter_aircraft) 0\n",
      "syn_002 VEH.MilitaryVehicle (Armored_car) 0\n",
      "syn_012 Movement.TransportPerson.EvacuationRescue (Emergency_service) 0\n",
      "syn_020 VEH.MilitaryVehicle.MilitaryBoat (Missile_boat) 0\n",
      "syn_021 VEH.MilitaryVehicle.MilitaryBoat (Aircraft_carrier) 0\n",
      "syn_009 VEH.Aircraft (Aircraft_engine) 0\n",
      "/m/077hhl VEH.Aircraft.CargoAircraft (Cargo_aircraft) 0\n",
      "/m/0gvss07 VEH.MilitaryVehicle (Combat_vehicle) 0\n",
      "/m/034qg WEA.Gun.Firearm (Firearm) 0\n",
      "/m/01wb7 FAC.Building (Church) 0\n",
      "/m/025s8bs FAC.Building.StoreShop (Shopping_mall) 0\n",
      "/m/012qdp PER.MilitaryPersonnel (map to OWG = Serviceman).MilitaryOfficer (Military_officer) 0\n",
      "/m/0g02q ORG.PoliticalOrganization.Court (Courthouse) 0\n",
      "/m/0g2bc VEH.Aircraft (Drone) 0\n",
      "/m/039jbq GPE.UrbanArea (Urban_area) 0\n",
      "/m/0728h WEA.Gun.Artillery (Self-propelled_artillery) 0\n",
      "/m/070qm Movement.TransportArtifact.BringCarryUnload (Freight_transport) 0\n",
      "/m/02q5pxq VEH.Aircraft (Aircraft_cabin) 0\n",
      "/m/0cz_0 FAC.Way.Highway (Highway) 0\n",
      "/m/01n32 GPE.UrbanArea.City (City) 0\n",
      "/m/04qvtq VEH.WheeledVehicle.Car (Police_car) 0\n",
      "/m/06d_3 FAC.Way (Railway) 0\n",
      "/m/065zrn9 WEA (Explosive_weapon) 0\n",
      "/m/065zvy FAC.Building.StoreShop (Liquor_store) 0\n",
      "/m/032rk WEA.Gun (Gun) 0\n",
      "/m/0275lwb VEH.MilitaryVehicle (Military_helicopter) 0\n",
      "/m/06zs7 PER.Combatant.Sniper (Sniper) 0\n",
      "/m/0152hh COM (Sculpture.Snowman) 0\n",
      "/m/012n7d VEH.WheeledVehicle (Ambulance) 0\n",
      "/m/06nrc WEA.Gun.Firearm (Shotgun) 0\n",
      "/m/01yx86 COM (Sculpture.Bronze_sculpture) 0\n",
      "/m/0pg52 VEH.WheeledVehicle.Car (Taxi) 0\n",
      "/m/02p0tk3 PER (Human_body) 0\n",
      "/m/03txqz COM.Equipment (Tool.Scale) 0\n",
      "/m/04yqq2 COM (Sculpture.Bust) 0\n",
      "/m/0bjyj5 COM.Equipment (Tool.Container.Waste_container) 0\n",
      "/m/02zn6n COM.Equipment (Tool.Container.Barrel) 0\n",
      "/m/01m4t COM (Electronic_device.Printer) 0\n",
      "/m/02jnhm COM.Equipment (Tool.Container.Tin_can) 0\n",
      "/m/0bh9flk COM (Electronic_device.Tablet_computer) 0\n",
      "/m/0584n8 COM (Luggage_and_bags.Briefcase) 0\n",
      "/m/073g6 COM.Equipment.MedicalEquipment (Medical_equipment.Stethoscope) 0\n",
      "/m/0fm3zh COM.Equipment (Tool.Container.Flowerpot) 0\n",
      "/m/01btn VEH.Watercraft (Barge) 0\n",
      "/m/07kng9 COM.Equipment (Tool.Container.Picnic_basket) 0\n",
      "/m/076bq VEH.WheeledVehicle (Land_vehicle.Segway) 0\n",
      "/m/06y5r WEA.DaggerKnifeSword (Knife) 0\n",
      "/m/073bxn COM.Equipment (Tool.Tripod) 0\n",
      "/m/0hdln COM.Equipment (Tool.Ruler) 0\n",
      "/m/07c52 COM (Electronic_device.Television) 0\n",
      "/m/04ctx WEA.DaggerKnifeSword (Knife) 0\n",
      "/m/01lsmm COM.Equipment (Tool.Scissors) 0\n",
      "/m/04dr76w COM.Equipment (Tool.Container.Bottle) 0\n",
      "/m/01s55n COM (Luggage_and_bags.Suitcase) 0\n",
      "/m/0qjjc COM (Electronic_device.Remote_control) 0\n",
      "/m/050k8 COM (Telephone.Mobile_phone) 0\n",
      "/m/080hkjn COM (Luggage_and_bags.Handbag) 0\n",
      "/m/074d1 VEH.Watercraft (Submarine) 0\n",
      "/m/01m2v COM (Electronic_device.Computer_keyboard) 0\n",
      "/m/020lf COM (Electronic_device.Mouse) 0\n",
      "/m/0h8lkj8 COM (Telephone.Corded_phone) 0\n",
      "/m/0f6nr VEH.WheeledVehicle (Land_vehicle.Unicycle) 0\n",
      "/m/012ysf COM.Equipment.MedicalEquipment (Medical_equipment.Syringe) 0\n",
      "/m/02522 COM (Electronic_device.Computer_monitor) 0\n",
      "/m/0ph39 VEH.Watercraft.Boat (Boat.Canoe) 0\n",
      "/m/0mcx2 COM (Electronic_device.Ipod) 0\n",
      "/m/08hvt4 COM.Equipment (Tool.Container.Jug) 0\n",
      "/m/01940j COM (Luggage_and_bags.Backpack) 0\n",
      "/m/0g54v5d VEH.MilitaryVehicle (Military_vehicle) 0\n",
      "/m/057cc COM (Electronic_device.Musical_keyboard) 0\n",
      "/m/03jbxj COM (Electronic_device.Light_switch) 0\n",
      "/m/025syph PER.MilitaryPersonnel (map to OWG = Serviceman) (Fighter_pilot) 0\n",
      "syn_022 VEH.Watercraft (Cargo_ship) 0\n",
      "/m/0dhz0 VEH.Aircraft.Airplane (Airliner) 0\n",
      "/m/0jb3 WEA.Gun.Firearm (Assault_rifle) 0\n",
      "/m/09bgkl FAC.Building.StoreShop (Outlet_store) 0\n",
      "/m/0py27 FAC.Installation.TrainStation (Train_station) 0\n",
      "/m/09cjl FAC.Installation.Airport (Airport) 0\n",
      "/m/03j1ly VEH (Emergency_vehicle) 0\n",
      "/m/0hltv PER.ProfessionalPosition (Pilot) 0\n",
      "/m/0blz9 FAC.Structure (Fence) 0\n",
      "/m/02q60ls FAC.Building (Conference_hall) 0\n",
      "/m/012ndj VEH.WheeledVehicle.FireApparatus (Fire_apparatus) 0\n",
      "/m/05dlb ORG.MilitaryOrganization.GovernmentArmedForces (Navy) 0\n",
      "/m/06gfj FAC.Way (Road) 0\n",
      "/m/0k05r ORG.PoliticalOrganization.Court (Court) 0\n",
      "/m/01jnzj Manufacture.Artifact.Build (Construction) 0\n",
      "/m/0jzbb PER.ProfessionalPosition.Paramedic (Paramedic) 0\n",
      "/m/03hfwtf VEH.MilitaryVehicle.MilitaryTransportAircraft (Military_transport_aircraft) 0\n",
      "/m/09g5h VEH (Spacecraft) 0\n",
      "/m/0gxl3 WEA.Gun.Firearm (Handgun) 0\n",
      "/m/01_p8q Movement.TransportPerson.EvacuationRescue (Rescue) 0\n",
      "/m/01klb9 FAC.Structure.Plaza (Plaza) 0\n",
      "/m/01d380 COM.Equipment (Tool.Drill) 0\n",
      "/m/02gzp WEA.DaggerKnifeSword (Knife) 0\n",
      "/m/02068x VEH.Watercraft.Boat (Boat.Gondola) 0\n",
      "/m/01rzcn VEH.Watercraft (Watercraft) 0\n",
      "/m/020kz WEA.Cannon.Cannon (Cannon) 0\n",
      "/m/01b7fy COM (Electronic_device.Headphones) 0\n",
      "/m/01lcw4 VEH.WheeledVehicle (Limousine) 0\n",
      "/m/02wg_p FAC.Building (Building.Tree_house) 0\n",
      "/m/0byj4 Conflict.Attack.SelfDirectedBattle (Combat) 0\n",
      "/m/01kb5b COM.Equipment (Tool.Flashlight) 0\n",
      "/m/0323sq VEH.WheeledVehicle (Land_vehicle.Golf_cart) 0\n",
      "/m/03bbps COM (Electronic_device.Power_plugs_and_sockets) 0\n",
      "/m/04vv5k COM.Equipment (Tool.Snowplow) 0\n",
      "/m/01xs3r VEH.Watercraft (Jet_ski) 0\n",
      "/m/018p4k VEH.WheeledVehicle (Land_vehicle.Cart) 0\n",
      "/m/0dv5r COM.Equipment (Tool.Camera) 0\n",
      "/m/012w5l COM.Equipment (Tool.Ladder) 0\n",
      "/m/0brn2d LOC.Position.Field (Field) 0\n",
      "/m/01j4z9 COM.Equipment (Tool.Chainsaw) 0\n",
      "/m/011q46kg COM.Equipment (Tool.Container) 0\n"
     ]
    }
   ],
   "source": [
    "for i in sort_idx:\n",
    "    print(all_labels[i], mid2name_all[all_labels[i]], len(label_to_img[all_labels[i]]))"
   ]
  },
  {
   "cell_type": "code",
   "execution_count": 70,
   "metadata": {},
   "outputs": [],
   "source": [
    "select_labels = []\n",
    "for l in all_labels:\n",
    "    if mid2name_all[l].startswith('WEA'):\n",
    "        select_labels.append(l)"
   ]
  },
  {
   "cell_type": "code",
   "execution_count": 71,
   "metadata": {},
   "outputs": [
    {
     "data": {
      "text/plain": [
       "['/m/04ctx',\n",
       " '/m/083kb',\n",
       " '/m/04ylt',\n",
       " '/m/06nrc',\n",
       " '/m/06y5r',\n",
       " '/m/0gxl3',\n",
       " '/m/02gzp',\n",
       " '/m/020kz',\n",
       " '/m/06c54',\n",
       " '/m/0jb3',\n",
       " '/m/01vzwd',\n",
       " '/m/034qg',\n",
       " '/m/04zjc',\n",
       " '/m/02bb1s',\n",
       " '/m/065zrn9',\n",
       " '/m/032rk',\n",
       " '/m/0728h',\n",
       " '/m/0ct4f',\n",
       " '/m/05t_pq',\n",
       " '/m/06fk8',\n",
       " 'syn_006',\n",
       " 'syn_008',\n",
       " 'syn_017']"
      ]
     },
     "execution_count": 71,
     "metadata": {},
     "output_type": "execute_result"
    }
   ],
   "source": [
    "select_labels"
   ]
  },
  {
   "cell_type": "code",
   "execution_count": 12,
   "metadata": {},
   "outputs": [],
   "source": [
    "#select_labels = ['/m/01fnck', '/m/019jd', '/m/03120', '/m/02_41', '/m/07cmd', '/m/06q40', '/m/03qtwd', '/m/09x0r', '/m/01xgg_', '/m/08qrwn', '/m/012n4x', '/m/02p16m6', '/m/02lbcq', '/m/09ct_', '/m/0g54v5d', '/m/0bg2p', '/m/0ct4f', '/m/01nd_n', '/m/09rvcxw', '/m/01nl4x', '/m/04ctx', '/m/04ylt', '/m/0gvss07', '/m/01rzcn', '/m/06nrc', '/m/0cyfs', '/m/0f5lx', '/m/04zjc', '/m/0dhz0', '/m/01lcw4', '/m/03htg', '/m/0gxl3', '/m/01bq8v', '/m/0lt4_', '/m/02gzp', '/m/02yjc', '/m/012n7d', '/m/0jb3', '/m/0dwx7']\n",
    "select_labels = [all_labels[i] for i in sort_idx]"
   ]
  },
  {
   "cell_type": "code",
   "execution_count": null,
   "metadata": {},
   "outputs": [],
   "source": []
  },
  {
   "cell_type": "markdown",
   "metadata": {},
   "source": [
    "## Visualizing Results"
   ]
  },
  {
   "cell_type": "code",
   "execution_count": 13,
   "metadata": {},
   "outputs": [],
   "source": [
    "mid2name_extended = {}\n",
    "extended_classes = set()\n",
    "for key in all_labels:\n",
    "    for model, abv in [('coco', 'CO'), ('oi', 'OI'), ('ws', 'WS'), ('pascal','PA'), ('coco/J', 'CO/J'), ('oi/J', 'OI/J'), ('ws/J', 'WS/J'), ('pascal/J','PA/J')]:\n",
    "        extended_classes.add(key + '/' + model)\n",
    "        mid2name_extended[key + '/' + model] = mid2name_all[key] + f' ({abv})'\n",
    "extended_classes = list(extended_classes)\n",
    "mid2idx_extended = {}\n",
    "for i, key in enumerate(extended_classes):\n",
    "    mid2idx_extended[key] = i\n",
    "category_index_extended = {mid2idx_extended[key]:{'id': mid2idx_extended[key], 'name': mid2name_extended[key]} for key in mid2name_extended}"
   ]
  },
  {
   "cell_type": "code",
   "execution_count": null,
   "metadata": {},
   "outputs": [],
   "source": []
  },
  {
   "cell_type": "code",
   "execution_count": 14,
   "metadata": {},
   "outputs": [],
   "source": [
    "def preproc(im):\n",
    "    target_size = 400\n",
    "    max_size = 1024\n",
    "    im_size_min = np.min(im.shape[0:2])\n",
    "    im_size_max = np.max(im.shape[0:2])\n",
    "    im_scale = float(target_size) / float(im_size_min)\n",
    "    # Prevent the biggest axis from being more than MAX_SIZE\n",
    "    if np.round(im_scale * im_size_max) > max_size:\n",
    "        im_scale = float(max_size) / float(im_size_max)\n",
    "    im = cv2.resize(im, None, None, fx=im_scale, fy=im_scale,\n",
    "                    interpolation=cv2.INTER_LINEAR)    \n",
    "    return im"
   ]
  },
  {
   "cell_type": "code",
   "execution_count": null,
   "metadata": {},
   "outputs": [],
   "source": []
  },
  {
   "cell_type": "code",
   "execution_count": 15,
   "metadata": {},
   "outputs": [],
   "source": [
    "result_dict = {\n",
    "    'Merged only': det_results_merged,\n",
    "    'Merged and rescaled': det_results_merged_2,\n",
    "}"
   ]
  },
  {
   "cell_type": "code",
   "execution_count": 16,
   "metadata": {},
   "outputs": [],
   "source": [
    "path_prefix = '../../../../data/dryrun_m18/jpg/' "
   ]
  },
  {
   "cell_type": "code",
   "execution_count": 17,
   "metadata": {},
   "outputs": [],
   "source": [
    "model_abv_dict = {\n",
    "    'coco': 'CO',\n",
    "    'pascal': 'PA',\n",
    "    'oi': 'OI',\n",
    "    'ws': 'WS',\n",
    "    'coco/J': 'CO/J',\n",
    "    'pascal/J': 'PA/J',\n",
    "    'oi/J': 'OI/J',\n",
    "    'ws/J': 'WS/J',\n",
    "}"
   ]
  },
  {
   "cell_type": "code",
   "execution_count": 18,
   "metadata": {},
   "outputs": [],
   "source": [
    "def show(imgid, source, thresh):\n",
    "    filename = path_prefix + imgid + '.jpg.ldcc'\n",
    "    print(imgid)\n",
    "    with open(filename, 'rb') as fin:\n",
    "        _ = fin.read(1024)\n",
    "        imgbin = fin.read()\n",
    "    imgbgr = cv2.imdecode(np.fromstring(imgbin, dtype='uint8'), cv2.IMREAD_COLOR)\n",
    "    image_np = imgbgr[:,:,[2,1,0]]\n",
    "    image_np = preproc(image_np)\n",
    "    \n",
    "    detections = result_dict[source][imgid]\n",
    "    boxes = np.asarray([det['bbox_normalized'] for det in detections])[:,[1,0,3,2]]\n",
    "    scores = [det['score'] for det in detections]\n",
    "    label_idx = [mid2idx_extended[det['label'] + '/' + det['model']] for det in detections]\n",
    "    \n",
    "    # print([(mid2name_extended[extended_classes[item]], boxes[i]) for i, item in enumerate(label_idx) if scores[i] > thresh])\n",
    "    \n",
    "    vis_util.visualize_boxes_and_labels_on_image_array(\n",
    "      image_np,\n",
    "      boxes,\n",
    "      label_idx,\n",
    "      scores,\n",
    "      category_index_extended,\n",
    "      use_normalized_coordinates=True,\n",
    "      min_score_thresh=thresh,\n",
    "      max_boxes_to_draw=1000,\n",
    "      line_thickness=2)\n",
    "    plt.figure(figsize=(12, 8))\n",
    "    plt.imshow(image_np)\n",
    "    plt.axis('off')\n",
    "    plt.show()    "
   ]
  },
  {
   "cell_type": "code",
   "execution_count": null,
   "metadata": {},
   "outputs": [],
   "source": []
  },
  {
   "cell_type": "code",
   "execution_count": null,
   "metadata": {},
   "outputs": [],
   "source": []
  },
  {
   "cell_type": "code",
   "execution_count": 20,
   "metadata": {
    "scrolled": false
   },
   "outputs": [
    {
     "name": "stdout",
     "output_type": "stream",
     "text": [
      "PER (Person)\n",
      "HC000SQK5\n"
     ]
    },
    {
     "data": {
      "application/vnd.jupyter.widget-view+json": {
       "model_id": "a6b14a8cec444483bf5f97d21aafbae5",
       "version_major": 2,
       "version_minor": 0
      },
      "text/plain": [
       "interactive(children=(RadioButtons(description='source', index=1, options=('Merged only', 'Merged and rescaled…"
      ]
     },
     "metadata": {},
     "output_type": "display_data"
    },
    {
     "name": "stdout",
     "output_type": "stream",
     "text": [
      "COM (Luggage_and_bags)\n",
      "HC000ZJTJ\n"
     ]
    },
    {
     "data": {
      "application/vnd.jupyter.widget-view+json": {
       "model_id": "1cfa6e21447a4671859b930661cfac60",
       "version_major": 2,
       "version_minor": 0
      },
      "text/plain": [
       "interactive(children=(RadioButtons(description='source', index=1, options=('Merged only', 'Merged and rescaled…"
      ]
     },
     "metadata": {},
     "output_type": "display_data"
    },
    {
     "name": "stdout",
     "output_type": "stream",
     "text": [
      "VEH.WheeledVehicle.Car (Car)\n",
      "IC0011VVP\n"
     ]
    },
    {
     "data": {
      "application/vnd.jupyter.widget-view+json": {
       "model_id": "2e484691e6f44f038b26a463316b169f",
       "version_major": 2,
       "version_minor": 0
      },
      "text/plain": [
       "interactive(children=(RadioButtons(description='source', index=1, options=('Merged only', 'Merged and rescaled…"
      ]
     },
     "metadata": {},
     "output_type": "display_data"
    },
    {
     "name": "stdout",
     "output_type": "stream",
     "text": [
      "PER (Human_head)\n",
      "HC000ZKD2\n"
     ]
    },
    {
     "data": {
      "application/vnd.jupyter.widget-view+json": {
       "model_id": "7a47fa52c0ba43b5b0f211b11113d9cd",
       "version_major": 2,
       "version_minor": 0
      },
      "text/plain": [
       "interactive(children=(RadioButtons(description='source', index=1, options=('Merged only', 'Merged and rescaled…"
      ]
     },
     "metadata": {},
     "output_type": "display_data"
    },
    {
     "name": "stdout",
     "output_type": "stream",
     "text": [
      "COM (Electronic_device)\n",
      "HC000SVN2\n"
     ]
    },
    {
     "data": {
      "application/vnd.jupyter.widget-view+json": {
       "model_id": "b78931a1ee95484983e14f21af056106",
       "version_major": 2,
       "version_minor": 0
      },
      "text/plain": [
       "interactive(children=(RadioButtons(description='source', index=1, options=('Merged only', 'Merged and rescaled…"
      ]
     },
     "metadata": {},
     "output_type": "display_data"
    },
    {
     "name": "stdout",
     "output_type": "stream",
     "text": [
      "VEH (Vehicle)\n",
      "IC0011V3Y\n"
     ]
    },
    {
     "data": {
      "application/vnd.jupyter.widget-view+json": {
       "model_id": "f62075d324cf47408eaca2975717a14b",
       "version_major": 2,
       "version_minor": 0
      },
      "text/plain": [
       "interactive(children=(RadioButtons(description='source', index=1, options=('Merged only', 'Merged and rescaled…"
      ]
     },
     "metadata": {},
     "output_type": "display_data"
    },
    {
     "name": "stdout",
     "output_type": "stream",
     "text": [
      "FAC.Building (Building)\n",
      "IC0015OTD\n"
     ]
    },
    {
     "data": {
      "application/vnd.jupyter.widget-view+json": {
       "model_id": "e08882be1b034580911056a788229116",
       "version_major": 2,
       "version_minor": 0
      },
      "text/plain": [
       "interactive(children=(RadioButtons(description='source', index=1, options=('Merged only', 'Merged and rescaled…"
      ]
     },
     "metadata": {},
     "output_type": "display_data"
    },
    {
     "name": "stdout",
     "output_type": "stream",
     "text": [
      "COM.Equipment (Tool)\n",
      "IC0016071\n"
     ]
    },
    {
     "data": {
      "application/vnd.jupyter.widget-view+json": {
       "model_id": "1dfefbd5f933429da211f45b41703ede",
       "version_major": 2,
       "version_minor": 0
      },
      "text/plain": [
       "interactive(children=(RadioButtons(description='source', index=1, options=('Merged only', 'Merged and rescaled…"
      ]
     },
     "metadata": {},
     "output_type": "display_data"
    },
    {
     "name": "stdout",
     "output_type": "stream",
     "text": [
      "VEH.WheeledVehicle.Truck (Truck)\n",
      "IC0015NT2\n"
     ]
    },
    {
     "data": {
      "application/vnd.jupyter.widget-view+json": {
       "model_id": "15a7288029c544e8b81d9ae8b44aa901",
       "version_major": 2,
       "version_minor": 0
      },
      "text/plain": [
       "interactive(children=(RadioButtons(description='source', index=1, options=('Merged only', 'Merged and rescaled…"
      ]
     },
     "metadata": {},
     "output_type": "display_data"
    },
    {
     "name": "stdout",
     "output_type": "stream",
     "text": [
      "COM (Telephone)\n",
      "IC0011USH\n"
     ]
    },
    {
     "data": {
      "application/vnd.jupyter.widget-view+json": {
       "model_id": "4c6465de0dca409c8acc8a1aade6b0fd",
       "version_major": 2,
       "version_minor": 0
      },
      "text/plain": [
       "interactive(children=(RadioButtons(description='source', index=1, options=('Merged only', 'Merged and rescaled…"
      ]
     },
     "metadata": {},
     "output_type": "display_data"
    },
    {
     "name": "stdout",
     "output_type": "stream",
     "text": [
      "COM.Flag.Flag (Flag)\n",
      "IC001606U\n"
     ]
    },
    {
     "data": {
      "application/vnd.jupyter.widget-view+json": {
       "model_id": "7a02d75f0259454f952daa61a9ab7854",
       "version_major": 2,
       "version_minor": 0
      },
      "text/plain": [
       "interactive(children=(RadioButtons(description='source', index=1, options=('Merged only', 'Merged and rescaled…"
      ]
     },
     "metadata": {},
     "output_type": "display_data"
    },
    {
     "name": "stdout",
     "output_type": "stream",
     "text": [
      "VEH.Watercraft.Boat (Boat)\n",
      "IC0015LEY\n"
     ]
    },
    {
     "data": {
      "application/vnd.jupyter.widget-view+json": {
       "model_id": "3111f82daeca45cbacfb914a069ac6bc",
       "version_major": 2,
       "version_minor": 0
      },
      "text/plain": [
       "interactive(children=(RadioButtons(description='source', index=1, options=('Merged only', 'Merged and rescaled…"
      ]
     },
     "metadata": {},
     "output_type": "display_data"
    },
    {
     "name": "stdout",
     "output_type": "stream",
     "text": [
      "COM.Document.Map (Map)\n",
      "IC0015SRD\n"
     ]
    },
    {
     "data": {
      "application/vnd.jupyter.widget-view+json": {
       "model_id": "15112f6e4a6c45e096bcee950f16d7c1",
       "version_major": 2,
       "version_minor": 0
      },
      "text/plain": [
       "interactive(children=(RadioButtons(description='source', index=1, options=('Merged only', 'Merged and rescaled…"
      ]
     },
     "metadata": {},
     "output_type": "display_data"
    },
    {
     "name": "stdout",
     "output_type": "stream",
     "text": [
      "VEH.MilitaryVehicle.Tank (Tank)\n",
      "IC00169FN\n"
     ]
    },
    {
     "data": {
      "application/vnd.jupyter.widget-view+json": {
       "model_id": "bd8e24d0c0be4a00aea44ac9715733ee",
       "version_major": 2,
       "version_minor": 0
      },
      "text/plain": [
       "interactive(children=(RadioButtons(description='source', index=1, options=('Merged only', 'Merged and rescaled…"
      ]
     },
     "metadata": {},
     "output_type": "display_data"
    },
    {
     "name": "stdout",
     "output_type": "stream",
     "text": [
      "VEH.Aircraft.Airplane (Airplane)\n",
      "IC00169FQ\n"
     ]
    },
    {
     "data": {
      "application/vnd.jupyter.widget-view+json": {
       "model_id": "ac22011a6a4b4bcebff87f7170d909d7",
       "version_major": 2,
       "version_minor": 0
      },
      "text/plain": [
       "interactive(children=(RadioButtons(description='source', index=1, options=('Merged only', 'Merged and rescaled…"
      ]
     },
     "metadata": {},
     "output_type": "display_data"
    },
    {
     "name": "stdout",
     "output_type": "stream",
     "text": [
      "VEH.WheeledVehicle (Land_vehicle)\n",
      "IC001JYZE\n"
     ]
    },
    {
     "data": {
      "application/vnd.jupyter.widget-view+json": {
       "model_id": "e55c28d5d7af40c1a06ab6b410fe3236",
       "version_major": 2,
       "version_minor": 0
      },
      "text/plain": [
       "interactive(children=(RadioButtons(description='source', index=1, options=('Merged only', 'Merged and rescaled…"
      ]
     },
     "metadata": {},
     "output_type": "display_data"
    },
    {
     "name": "stdout",
     "output_type": "stream",
     "text": [
      "VEH.WheeledVehicle.Train (Train)\n",
      "IC00134PC\n"
     ]
    },
    {
     "data": {
      "application/vnd.jupyter.widget-view+json": {
       "model_id": "16caf073f5ce4aae90290e448e9b7d8e",
       "version_major": 2,
       "version_minor": 0
      },
      "text/plain": [
       "interactive(children=(RadioButtons(description='source', index=1, options=('Merged only', 'Merged and rescaled…"
      ]
     },
     "metadata": {},
     "output_type": "display_data"
    },
    {
     "name": "stdout",
     "output_type": "stream",
     "text": [
      "VEH.WheeledVehicle (Bicycle)\n",
      "IC001JYVO\n"
     ]
    },
    {
     "data": {
      "application/vnd.jupyter.widget-view+json": {
       "model_id": "94376038c26d49c68cb867520f657ae7",
       "version_major": 2,
       "version_minor": 0
      },
      "text/plain": [
       "interactive(children=(RadioButtons(description='source', index=1, options=('Merged only', 'Merged and rescaled…"
      ]
     },
     "metadata": {},
     "output_type": "display_data"
    },
    {
     "name": "stdout",
     "output_type": "stream",
     "text": [
      "PER.ProfessionalPosition.Spokesperson (Orator)\n",
      "IC0011XZ9\n"
     ]
    },
    {
     "data": {
      "application/vnd.jupyter.widget-view+json": {
       "model_id": "dff93b84b78447218a182efdd5fcbb12",
       "version_major": 2,
       "version_minor": 0
      },
      "text/plain": [
       "interactive(children=(RadioButtons(description='source', index=1, options=('Merged only', 'Merged and rescaled…"
      ]
     },
     "metadata": {},
     "output_type": "display_data"
    },
    {
     "name": "stdout",
     "output_type": "stream",
     "text": [
      "PER (Man)\n",
      "IC0015O0Q\n"
     ]
    },
    {
     "data": {
      "application/vnd.jupyter.widget-view+json": {
       "model_id": "079263b222974c35951f0599a7789745",
       "version_major": 2,
       "version_minor": 0
      },
      "text/plain": [
       "interactive(children=(RadioButtons(description='source', index=1, options=('Merged only', 'Merged and rescaled…"
      ]
     },
     "metadata": {},
     "output_type": "display_data"
    },
    {
     "name": "stdout",
     "output_type": "stream",
     "text": [
      "COM (Billboard)\n",
      "IC001JY47\n"
     ]
    },
    {
     "data": {
      "application/vnd.jupyter.widget-view+json": {
       "model_id": "35b276d8f7ec4a5799819e8e66772984",
       "version_major": 2,
       "version_minor": 0
      },
      "text/plain": [
       "interactive(children=(RadioButtons(description='source', index=1, options=('Merged only', 'Merged and rescaled…"
      ]
     },
     "metadata": {},
     "output_type": "display_data"
    },
    {
     "name": "stdout",
     "output_type": "stream",
     "text": [
      "ORG (Logo)\n",
      "IC0011V0P\n"
     ]
    },
    {
     "data": {
      "application/vnd.jupyter.widget-view+json": {
       "model_id": "9e557cd5480d4e42ade41124e2d4d426",
       "version_major": 2,
       "version_minor": 0
      },
      "text/plain": [
       "interactive(children=(RadioButtons(description='source', index=1, options=('Merged only', 'Merged and rescaled…"
      ]
     },
     "metadata": {},
     "output_type": "display_data"
    },
    {
     "name": "stdout",
     "output_type": "stream",
     "text": [
      "VEH.WheeledVehicle.Bus (Bus)\n",
      "IC0011UL6\n"
     ]
    },
    {
     "data": {
      "application/vnd.jupyter.widget-view+json": {
       "model_id": "5e8ecbbfd74048989efea56f79314032",
       "version_major": 2,
       "version_minor": 0
      },
      "text/plain": [
       "interactive(children=(RadioButtons(description='source', index=1, options=('Merged only', 'Merged and rescaled…"
      ]
     },
     "metadata": {},
     "output_type": "display_data"
    },
    {
     "name": "stdout",
     "output_type": "stream",
     "text": [
      "FAC.Building.House (House)\n",
      "IC0015OD7\n"
     ]
    },
    {
     "data": {
      "application/vnd.jupyter.widget-view+json": {
       "model_id": "e03b61075cb442f58ea9ddb9bcbaaa3d",
       "version_major": 2,
       "version_minor": 0
      },
      "text/plain": [
       "interactive(children=(RadioButtons(description='source', index=1, options=('Merged only', 'Merged and rescaled…"
      ]
     },
     "metadata": {},
     "output_type": "display_data"
    },
    {
     "name": "stdout",
     "output_type": "stream",
     "text": [
      "WEA (Weapon)\n",
      "HC0000233\n"
     ]
    },
    {
     "data": {
      "application/vnd.jupyter.widget-view+json": {
       "model_id": "8e2bc239762f4dd1b0cf5f776e8cc400",
       "version_major": 2,
       "version_minor": 0
      },
      "text/plain": [
       "interactive(children=(RadioButtons(description='source', index=1, options=('Merged only', 'Merged and rescaled…"
      ]
     },
     "metadata": {},
     "output_type": "display_data"
    },
    {
     "name": "stdout",
     "output_type": "stream",
     "text": [
      "WEA.DaggerKnifeSword (Knife)\n",
      "IC001JY5G\n"
     ]
    },
    {
     "data": {
      "application/vnd.jupyter.widget-view+json": {
       "model_id": "aabf804b5ba9465cb7aa943c476a6968",
       "version_major": 2,
       "version_minor": 0
      },
      "text/plain": [
       "interactive(children=(RadioButtons(description='source', index=1, options=('Merged only', 'Merged and rescaled…"
      ]
     },
     "metadata": {},
     "output_type": "display_data"
    },
    {
     "name": "stdout",
     "output_type": "stream",
     "text": [
      "Conflict.Attack (Violence)\n",
      "HC00001VH\n"
     ]
    },
    {
     "data": {
      "application/vnd.jupyter.widget-view+json": {
       "model_id": "bfaad195ec224a3ab6f63d4ff1382ce2",
       "version_major": 2,
       "version_minor": 0
      },
      "text/plain": [
       "interactive(children=(RadioButtons(description='source', index=1, options=('Merged only', 'Merged and rescaled…"
      ]
     },
     "metadata": {},
     "output_type": "display_data"
    },
    {
     "name": "stdout",
     "output_type": "stream",
     "text": [
      "FAC.Structure.Tower (Tower)\n",
      "IC0015UTX\n"
     ]
    },
    {
     "data": {
      "application/vnd.jupyter.widget-view+json": {
       "model_id": "0a711123259f44949ba8ebf6f6a46360",
       "version_major": 2,
       "version_minor": 0
      },
      "text/plain": [
       "interactive(children=(RadioButtons(description='source', index=1, options=('Merged only', 'Merged and rescaled…"
      ]
     },
     "metadata": {},
     "output_type": "display_data"
    },
    {
     "name": "stdout",
     "output_type": "stream",
     "text": [
      "Conflict.Attack (Riot)\n",
      "IC0015M3Z\n"
     ]
    },
    {
     "data": {
      "application/vnd.jupyter.widget-view+json": {
       "model_id": "fa90c684839448618c122cf80c910334",
       "version_major": 2,
       "version_minor": 0
      },
      "text/plain": [
       "interactive(children=(RadioButtons(description='source', index=1, options=('Merged only', 'Merged and rescaled…"
      ]
     },
     "metadata": {},
     "output_type": "display_data"
    },
    {
     "name": "stdout",
     "output_type": "stream",
     "text": [
      "PER (Crowd)\n",
      "IC0015NRP\n"
     ]
    },
    {
     "data": {
      "application/vnd.jupyter.widget-view+json": {
       "model_id": "a4fef3808f8c4393b14279ade5dcdd18",
       "version_major": 2,
       "version_minor": 0
      },
      "text/plain": [
       "interactive(children=(RadioButtons(description='source', index=1, options=('Merged only', 'Merged and rescaled…"
      ]
     },
     "metadata": {},
     "output_type": "display_data"
    },
    {
     "name": "stdout",
     "output_type": "stream",
     "text": [
      "PER (Woman)\n",
      "IC0015NVU\n"
     ]
    },
    {
     "data": {
      "application/vnd.jupyter.widget-view+json": {
       "model_id": "1aaded36f2054cf4a94b6839fb142142",
       "version_major": 2,
       "version_minor": 0
      },
      "text/plain": [
       "interactive(children=(RadioButtons(description='source', index=1, options=('Merged only', 'Merged and rescaled…"
      ]
     },
     "metadata": {},
     "output_type": "display_data"
    },
    {
     "name": "stdout",
     "output_type": "stream",
     "text": [
      "FAC.Building.OfficeBuilding (Office_building)\n",
      "HC000ZLMJ\n"
     ]
    },
    {
     "data": {
      "application/vnd.jupyter.widget-view+json": {
       "model_id": "9f8258f634df4c3d8ff251c0ebf2efc5",
       "version_major": 2,
       "version_minor": 0
      },
      "text/plain": [
       "interactive(children=(RadioButtons(description='source', index=1, options=('Merged only', 'Merged and rescaled…"
      ]
     },
     "metadata": {},
     "output_type": "display_data"
    },
    {
     "name": "stdout",
     "output_type": "stream",
     "text": [
      "COM.Equipment (Microphone)\n",
      "IC0011UL1\n"
     ]
    },
    {
     "data": {
      "application/vnd.jupyter.widget-view+json": {
       "model_id": "018fbe7df13c406c9310720b9a619c09",
       "version_major": 2,
       "version_minor": 0
      },
      "text/plain": [
       "interactive(children=(RadioButtons(description='source', index=1, options=('Merged only', 'Merged and rescaled…"
      ]
     },
     "metadata": {},
     "output_type": "display_data"
    },
    {
     "name": "stdout",
     "output_type": "stream",
     "text": [
      "MON.Cash.Cash (Money)\n",
      "IC0015UW9\n"
     ]
    },
    {
     "data": {
      "application/vnd.jupyter.widget-view+json": {
       "model_id": "23db90dafeb84127b31bd95743858459",
       "version_major": 2,
       "version_minor": 0
      },
      "text/plain": [
       "interactive(children=(RadioButtons(description='source', index=1, options=('Merged only', 'Merged and rescaled…"
      ]
     },
     "metadata": {},
     "output_type": "display_data"
    },
    {
     "name": "stdout",
     "output_type": "stream",
     "text": [
      "Contact.PublicStatementInPerson.Broadcast (Public_speaking)\n",
      "IC0011V08\n"
     ]
    },
    {
     "data": {
      "application/vnd.jupyter.widget-view+json": {
       "model_id": "afa7c866239c4c4db1e6906e7ec86f88",
       "version_major": 2,
       "version_minor": 0
      },
      "text/plain": [
       "interactive(children=(RadioButtons(description='source', index=1, options=('Merged only', 'Merged and rescaled…"
      ]
     },
     "metadata": {},
     "output_type": "display_data"
    },
    {
     "name": "stdout",
     "output_type": "stream",
     "text": [
      "VEH.WheeledVehicle (Motorcycle)\n",
      "HC00001T5\n"
     ]
    },
    {
     "data": {
      "application/vnd.jupyter.widget-view+json": {
       "model_id": "18d86b3628334eb388d687827cfe2263",
       "version_major": 2,
       "version_minor": 0
      },
      "text/plain": [
       "interactive(children=(RadioButtons(description='source', index=1, options=('Merged only', 'Merged and rescaled…"
      ]
     },
     "metadata": {},
     "output_type": "display_data"
    },
    {
     "name": "stdout",
     "output_type": "stream",
     "text": [
      "COM (Sculpture)\n",
      "IC0015QQW\n"
     ]
    },
    {
     "data": {
      "application/vnd.jupyter.widget-view+json": {
       "model_id": "c3885b29a66348b5bba359907663143e",
       "version_major": 2,
       "version_minor": 0
      },
      "text/plain": [
       "interactive(children=(RadioButtons(description='source', index=1, options=('Merged only', 'Merged and rescaled…"
      ]
     },
     "metadata": {},
     "output_type": "display_data"
    },
    {
     "name": "stdout",
     "output_type": "stream",
     "text": [
      "VEH.Aircraft.Helicopter (Helicopter)\n",
      "IC0015LE2\n"
     ]
    },
    {
     "data": {
      "application/vnd.jupyter.widget-view+json": {
       "model_id": "075ffcdeb0f1417f8c503aaffa8545d0",
       "version_major": 2,
       "version_minor": 0
      },
      "text/plain": [
       "interactive(children=(RadioButtons(description='source', index=1, options=('Merged only', 'Merged and rescaled…"
      ]
     },
     "metadata": {},
     "output_type": "display_data"
    },
    {
     "name": "stdout",
     "output_type": "stream",
     "text": [
      "Conflict.Attack.SelfDirectedBattle (Battle)\n",
      "IC0015PXU\n"
     ]
    },
    {
     "data": {
      "application/vnd.jupyter.widget-view+json": {
       "model_id": "be22ddd35316438a82e914206392cb50",
       "version_major": 2,
       "version_minor": 0
      },
      "text/plain": [
       "interactive(children=(RadioButtons(description='source', index=1, options=('Merged only', 'Merged and rescaled…"
      ]
     },
     "metadata": {},
     "output_type": "display_data"
    },
    {
     "name": "stdout",
     "output_type": "stream",
     "text": [
      "WEA.Gun.Firearm (Rifle)\n",
      "HC000SXDY\n"
     ]
    },
    {
     "data": {
      "application/vnd.jupyter.widget-view+json": {
       "model_id": "089e8c2c8cbb43b69de98ba9e39e4d93",
       "version_major": 2,
       "version_minor": 0
      },
      "text/plain": [
       "interactive(children=(RadioButtons(description='source', index=1, options=('Merged only', 'Merged and rescaled…"
      ]
     },
     "metadata": {},
     "output_type": "display_data"
    },
    {
     "name": "stdout",
     "output_type": "stream",
     "text": [
      "VEH (Snowmobile)\n",
      "IC0015UTU\n"
     ]
    },
    {
     "data": {
      "application/vnd.jupyter.widget-view+json": {
       "model_id": "ea61fcef3de04af4b0cc95ebca60b999",
       "version_major": 2,
       "version_minor": 0
      },
      "text/plain": [
       "interactive(children=(RadioButtons(description='source', index=1, options=('Merged only', 'Merged and rescaled…"
      ]
     },
     "metadata": {},
     "output_type": "display_data"
    },
    {
     "name": "stdout",
     "output_type": "stream",
     "text": [
      "Conflict.Demonstrate (Demonstration)\n",
      "IC00160O8\n"
     ]
    },
    {
     "data": {
      "application/vnd.jupyter.widget-view+json": {
       "model_id": "3c7c5de8c75b4a7789f207b0f441ad94",
       "version_major": 2,
       "version_minor": 0
      },
      "text/plain": [
       "interactive(children=(RadioButtons(description='source', index=1, options=('Merged only', 'Merged and rescaled…"
      ]
     },
     "metadata": {},
     "output_type": "display_data"
    },
    {
     "name": "stdout",
     "output_type": "stream",
     "text": [
      "COM.Equipment.MedicalEquipment (Medical_equipment)\n",
      "IC001K0WJ\n"
     ]
    },
    {
     "data": {
      "application/vnd.jupyter.widget-view+json": {
       "model_id": "d0c4aa499cf641c6b7de3c76330e193e",
       "version_major": 2,
       "version_minor": 0
      },
      "text/plain": [
       "interactive(children=(RadioButtons(description='source', index=1, options=('Merged only', 'Merged and rescaled…"
      ]
     },
     "metadata": {},
     "output_type": "display_data"
    },
    {
     "name": "stdout",
     "output_type": "stream",
     "text": [
      "COM (Badge)\n",
      "IC00163IK\n"
     ]
    },
    {
     "data": {
      "application/vnd.jupyter.widget-view+json": {
       "model_id": "0154263cd7ab47d19169725710346385",
       "version_major": 2,
       "version_minor": 0
      },
      "text/plain": [
       "interactive(children=(RadioButtons(description='source', index=1, options=('Merged only', 'Merged and rescaled…"
      ]
     },
     "metadata": {},
     "output_type": "display_data"
    },
    {
     "name": "stdout",
     "output_type": "stream",
     "text": [
      "PER.ProfessionalPosition.Firefighter (Firefighter)\n",
      "HC000Q8J7\n"
     ]
    },
    {
     "data": {
      "application/vnd.jupyter.widget-view+json": {
       "model_id": "c6323fb85caa43cd8c9e9cb58c36dee2",
       "version_major": 2,
       "version_minor": 0
      },
      "text/plain": [
       "interactive(children=(RadioButtons(description='source', index=1, options=('Merged only', 'Merged and rescaled…"
      ]
     },
     "metadata": {},
     "output_type": "display_data"
    },
    {
     "name": "stdout",
     "output_type": "stream",
     "text": [
      "Disaster.FireExplosion.FireExplosion (Fire)\n",
      "IC0015LEG\n"
     ]
    },
    {
     "data": {
      "application/vnd.jupyter.widget-view+json": {
       "model_id": "6da678437aaa494ba071bdc541beff65",
       "version_major": 2,
       "version_minor": 0
      },
      "text/plain": [
       "interactive(children=(RadioButtons(description='source', index=1, options=('Merged only', 'Merged and rescaled…"
      ]
     },
     "metadata": {},
     "output_type": "display_data"
    },
    {
     "name": "stdout",
     "output_type": "stream",
     "text": [
      "ORG.MilitaryOrganization.GovernmentArmedForces (Military_camouflage)\n",
      "IC0015LEZ\n"
     ]
    },
    {
     "data": {
      "application/vnd.jupyter.widget-view+json": {
       "model_id": "767237812ac34d98a4c02b067903ace2",
       "version_major": 2,
       "version_minor": 0
      },
      "text/plain": [
       "interactive(children=(RadioButtons(description='source', index=1, options=('Merged only', 'Merged and rescaled…"
      ]
     },
     "metadata": {},
     "output_type": "display_data"
    },
    {
     "name": "stdout",
     "output_type": "stream",
     "text": [
      "PER.ProfessionalPosition.Scientist (Scientist)\n",
      "IC000ZZQK\n"
     ]
    },
    {
     "data": {
      "application/vnd.jupyter.widget-view+json": {
       "model_id": "b46486bee82f4211b4a9983baca6e83f",
       "version_major": 2,
       "version_minor": 0
      },
      "text/plain": [
       "interactive(children=(RadioButtons(description='source', index=1, options=('Merged only', 'Merged and rescaled…"
      ]
     },
     "metadata": {},
     "output_type": "display_data"
    },
    {
     "name": "stdout",
     "output_type": "stream",
     "text": [
      "FAC.Building (Skyscraper)\n",
      "IC0011U0A\n"
     ]
    },
    {
     "data": {
      "application/vnd.jupyter.widget-view+json": {
       "model_id": "ef647b5077aa4adcaab73ca1273ad0f1",
       "version_major": 2,
       "version_minor": 0
      },
      "text/plain": [
       "interactive(children=(RadioButtons(description='source', index=1, options=('Merged only', 'Merged and rescaled…"
      ]
     },
     "metadata": {},
     "output_type": "display_data"
    },
    {
     "name": "stdout",
     "output_type": "stream",
     "text": [
      "COM.Document.PersonalIdentification (Identity_document)\n",
      "IC0015NYF\n"
     ]
    },
    {
     "data": {
      "application/vnd.jupyter.widget-view+json": {
       "model_id": "951afee79e3c40859fb1de63d156520c",
       "version_major": 2,
       "version_minor": 0
      },
      "text/plain": [
       "interactive(children=(RadioButtons(description='source', index=1, options=('Merged only', 'Merged and rescaled…"
      ]
     },
     "metadata": {},
     "output_type": "display_data"
    },
    {
     "name": "stdout",
     "output_type": "stream",
     "text": [
      "PER (Girl)\n",
      "IC0011WZN\n"
     ]
    },
    {
     "data": {
      "application/vnd.jupyter.widget-view+json": {
       "model_id": "b45208f9777946ef951d044dd6dd1a18",
       "version_major": 2,
       "version_minor": 0
      },
      "text/plain": [
       "interactive(children=(RadioButtons(description='source', index=1, options=('Merged only', 'Merged and rescaled…"
      ]
     },
     "metadata": {},
     "output_type": "display_data"
    },
    {
     "name": "stdout",
     "output_type": "stream",
     "text": [
      "Disaster.FireExplosion.FireExplosion (Smoke)\n",
      "HC000ZJWM\n"
     ]
    },
    {
     "data": {
      "application/vnd.jupyter.widget-view+json": {
       "model_id": "7b1a5fccee0644ff8bf57796e8b407d6",
       "version_major": 2,
       "version_minor": 0
      },
      "text/plain": [
       "interactive(children=(RadioButtons(description='source', index=1, options=('Merged only', 'Merged and rescaled…"
      ]
     },
     "metadata": {},
     "output_type": "display_data"
    },
    {
     "name": "stdout",
     "output_type": "stream",
     "text": [
      "FAC.Structure (Lighthouse)\n",
      "IC001JZ1G\n"
     ]
    },
    {
     "data": {
      "application/vnd.jupyter.widget-view+json": {
       "model_id": "236e65d52c794e4c8572b521b3dc9646",
       "version_major": 2,
       "version_minor": 0
      },
      "text/plain": [
       "interactive(children=(RadioButtons(description='source', index=1, options=('Merged only', 'Merged and rescaled…"
      ]
     },
     "metadata": {},
     "output_type": "display_data"
    },
    {
     "name": "stdout",
     "output_type": "stream",
     "text": [
      "FAC (Place_of_worship)\n",
      "IC0015M3Y\n"
     ]
    },
    {
     "data": {
      "application/vnd.jupyter.widget-view+json": {
       "model_id": "7c47443988a34ea8980052011f910705",
       "version_major": 2,
       "version_minor": 0
      },
      "text/plain": [
       "interactive(children=(RadioButtons(description='source', index=1, options=('Merged only', 'Merged and rescaled…"
      ]
     },
     "metadata": {},
     "output_type": "display_data"
    },
    {
     "name": "stdout",
     "output_type": "stream",
     "text": [
      "FAC (Tent)\n",
      "IC0015QQS\n"
     ]
    },
    {
     "data": {
      "application/vnd.jupyter.widget-view+json": {
       "model_id": "358fd7899a794f1b98863c625c43e915",
       "version_major": 2,
       "version_minor": 0
      },
      "text/plain": [
       "interactive(children=(RadioButtons(description='source', index=1, options=('Merged only', 'Merged and rescaled…"
      ]
     },
     "metadata": {},
     "output_type": "display_data"
    },
    {
     "name": "stdout",
     "output_type": "stream",
     "text": [
      "FAC.Installation (Factory)\n",
      "HC000SX6I\n"
     ]
    },
    {
     "data": {
      "application/vnd.jupyter.widget-view+json": {
       "model_id": "83942c0563ae4176b44e35561ae5182b",
       "version_major": 2,
       "version_minor": 0
      },
      "text/plain": [
       "interactive(children=(RadioButtons(description='source', index=1, options=('Merged only', 'Merged and rescaled…"
      ]
     },
     "metadata": {},
     "output_type": "display_data"
    },
    {
     "name": "stdout",
     "output_type": "stream",
     "text": [
      "ORG.MilitaryOrganization.GovernmentArmedForces (Infantry)\n",
      "IC001JYDC\n"
     ]
    },
    {
     "data": {
      "application/vnd.jupyter.widget-view+json": {
       "model_id": "8c741366d6f742989e74509953c9090d",
       "version_major": 2,
       "version_minor": 0
      },
      "text/plain": [
       "interactive(children=(RadioButtons(description='source', index=1, options=('Merged only', 'Merged and rescaled…"
      ]
     },
     "metadata": {},
     "output_type": "display_data"
    },
    {
     "name": "stdout",
     "output_type": "stream",
     "text": [
      "PER (People)\n",
      "IC0015UUY\n"
     ]
    },
    {
     "data": {
      "application/vnd.jupyter.widget-view+json": {
       "model_id": "5e486d99b7224f44bade77dd37ce2b5b",
       "version_major": 2,
       "version_minor": 0
      },
      "text/plain": [
       "interactive(children=(RadioButtons(description='source', index=1, options=('Merged only', 'Merged and rescaled…"
      ]
     },
     "metadata": {},
     "output_type": "display_data"
    },
    {
     "name": "stdout",
     "output_type": "stream",
     "text": [
      "FAC.Building (Estate)\n",
      "IC0015O9F\n"
     ]
    },
    {
     "data": {
      "application/vnd.jupyter.widget-view+json": {
       "model_id": "6ec6bd9f41474466966cc06d630d28ee",
       "version_major": 2,
       "version_minor": 0
      },
      "text/plain": [
       "interactive(children=(RadioButtons(description='source', index=1, options=('Merged only', 'Merged and rescaled…"
      ]
     },
     "metadata": {},
     "output_type": "display_data"
    },
    {
     "name": "stdout",
     "output_type": "stream",
     "text": [
      "Contact.Discussion.Meet (Meeting)\n",
      "IC0015S6A\n"
     ]
    },
    {
     "data": {
      "application/vnd.jupyter.widget-view+json": {
       "model_id": "ae5d52c5697e420c8176e276875c622d",
       "version_major": 2,
       "version_minor": 0
      },
      "text/plain": [
       "interactive(children=(RadioButtons(description='source', index=1, options=('Merged only', 'Merged and rescaled…"
      ]
     },
     "metadata": {},
     "output_type": "display_data"
    },
    {
     "name": "stdout",
     "output_type": "stream",
     "text": [
      "FAC.Building (Cathedral)\n",
      "IC0015M3Y\n"
     ]
    },
    {
     "data": {
      "application/vnd.jupyter.widget-view+json": {
       "model_id": "d0199ebe82dd48349a2f2137c8e04c5c",
       "version_major": 2,
       "version_minor": 0
      },
      "text/plain": [
       "interactive(children=(RadioButtons(description='source', index=1, options=('Merged only', 'Merged and rescaled…"
      ]
     },
     "metadata": {},
     "output_type": "display_data"
    },
    {
     "name": "stdout",
     "output_type": "stream",
     "text": [
      "FAC.Building.School (School)\n",
      "HC0002A3W\n"
     ]
    },
    {
     "data": {
      "application/vnd.jupyter.widget-view+json": {
       "model_id": "0d92f93a687a45109d2892f9fbb97c5e",
       "version_major": 2,
       "version_minor": 0
      },
      "text/plain": [
       "interactive(children=(RadioButtons(description='source', index=1, options=('Merged only', 'Merged and rescaled…"
      ]
     },
     "metadata": {},
     "output_type": "display_data"
    },
    {
     "name": "stdout",
     "output_type": "stream",
     "text": [
      "Justice.InitiateJudicialProcess.TrialHearing (Trial)\n",
      "IC0015QY3\n"
     ]
    },
    {
     "data": {
      "application/vnd.jupyter.widget-view+json": {
       "model_id": "f1a5e099f7224afba1d805317d855901",
       "version_major": 2,
       "version_minor": 0
      },
      "text/plain": [
       "interactive(children=(RadioButtons(description='source', index=1, options=('Merged only', 'Merged and rescaled…"
      ]
     },
     "metadata": {},
     "output_type": "display_data"
    },
    {
     "name": "stdout",
     "output_type": "stream",
     "text": [
      "GPE.UrbanArea.Village (Village)\n",
      "IC00121WP\n"
     ]
    },
    {
     "data": {
      "application/vnd.jupyter.widget-view+json": {
       "model_id": "7e2921a8bfb84a9782f526815557c874",
       "version_major": 2,
       "version_minor": 0
      },
      "text/plain": [
       "interactive(children=(RadioButtons(description='source', index=1, options=('Merged only', 'Merged and rescaled…"
      ]
     },
     "metadata": {},
     "output_type": "display_data"
    },
    {
     "name": "stdout",
     "output_type": "stream",
     "text": [
      "VEH.Aircraft (Aircraft)\n",
      "IC001JZ1J\n"
     ]
    },
    {
     "data": {
      "application/vnd.jupyter.widget-view+json": {
       "model_id": "db45cbfec3614f038aa2a985579ed478",
       "version_major": 2,
       "version_minor": 0
      },
      "text/plain": [
       "interactive(children=(RadioButtons(description='source', index=1, options=('Merged only', 'Merged and rescaled…"
      ]
     },
     "metadata": {},
     "output_type": "display_data"
    },
    {
     "name": "stdout",
     "output_type": "stream",
     "text": [
      "COM.Equipment.Satellite (Satellite)\n",
      "HC00000IH\n"
     ]
    },
    {
     "data": {
      "application/vnd.jupyter.widget-view+json": {
       "model_id": "eda0627e614a47cdbcb923b863211c86",
       "version_major": 2,
       "version_minor": 0
      },
      "text/plain": [
       "interactive(children=(RadioButtons(description='source', index=1, options=('Merged only', 'Merged and rescaled…"
      ]
     },
     "metadata": {},
     "output_type": "display_data"
    },
    {
     "name": "stdout",
     "output_type": "stream",
     "text": [
      "FAC.Building (Auditorium)\n",
      "IC0011V01\n"
     ]
    },
    {
     "data": {
      "application/vnd.jupyter.widget-view+json": {
       "model_id": "dee24a66e13442a9b025b3060d698867",
       "version_major": 2,
       "version_minor": 0
      },
      "text/plain": [
       "interactive(children=(RadioButtons(description='source', index=1, options=('Merged only', 'Merged and rescaled…"
      ]
     },
     "metadata": {},
     "output_type": "display_data"
    },
    {
     "name": "stdout",
     "output_type": "stream",
     "text": [
      "FAC.Structure.Bridge (Bridge)\n",
      "IC00169JI\n"
     ]
    },
    {
     "data": {
      "application/vnd.jupyter.widget-view+json": {
       "model_id": "2bbf923ba3c74ef48d5a79fa0cb9a014",
       "version_major": 2,
       "version_minor": 0
      },
      "text/plain": [
       "interactive(children=(RadioButtons(description='source', index=1, options=('Merged only', 'Merged and rescaled…"
      ]
     },
     "metadata": {},
     "output_type": "display_data"
    },
    {
     "name": "stdout",
     "output_type": "stream",
     "text": [
      "FAC.Building (Castle)\n",
      "HC000SORV\n"
     ]
    },
    {
     "data": {
      "application/vnd.jupyter.widget-view+json": {
       "model_id": "a5907136dc5542c6971e09e68f757ea4",
       "version_major": 2,
       "version_minor": 0
      },
      "text/plain": [
       "interactive(children=(RadioButtons(description='source', index=1, options=('Merged only', 'Merged and rescaled…"
      ]
     },
     "metadata": {},
     "output_type": "display_data"
    },
    {
     "name": "stdout",
     "output_type": "stream",
     "text": [
      "VEH.Watercraft (Ship)\n",
      "IC00163ED\n"
     ]
    },
    {
     "data": {
      "application/vnd.jupyter.widget-view+json": {
       "model_id": "6f5d65ce56bd4b369da1ca7517c1e118",
       "version_major": 2,
       "version_minor": 0
      },
      "text/plain": [
       "interactive(children=(RadioButtons(description='source', index=1, options=('Merged only', 'Merged and rescaled…"
      ]
     },
     "metadata": {},
     "output_type": "display_data"
    },
    {
     "name": "stdout",
     "output_type": "stream",
     "text": [
      "COM.Equipment.MedicalEquipment (Stretcher)\n",
      "HC000ZK3B\n"
     ]
    },
    {
     "data": {
      "application/vnd.jupyter.widget-view+json": {
       "model_id": "82c92ca1dd094a4fa0b7d390ba6cddbc",
       "version_major": 2,
       "version_minor": 0
      },
      "text/plain": [
       "interactive(children=(RadioButtons(description='source', index=1, options=('Merged only', 'Merged and rescaled…"
      ]
     },
     "metadata": {},
     "output_type": "display_data"
    },
    {
     "name": "stdout",
     "output_type": "stream",
     "text": [
      "FAC.Building.StoreShop (Convenience_store)\n",
      "IC0011VVW\n"
     ]
    },
    {
     "data": {
      "application/vnd.jupyter.widget-view+json": {
       "model_id": "65d8edfde7644e02bcb0ccd15e6a24a6",
       "version_major": 2,
       "version_minor": 0
      },
      "text/plain": [
       "interactive(children=(RadioButtons(description='source', index=1, options=('Merged only', 'Merged and rescaled…"
      ]
     },
     "metadata": {},
     "output_type": "display_data"
    },
    {
     "name": "stdout",
     "output_type": "stream",
     "text": [
      "PER.Police (Security_guard)\n",
      "IC001608R\n"
     ]
    },
    {
     "data": {
      "application/vnd.jupyter.widget-view+json": {
       "model_id": "b66594ebd29c4a1baaaac835c735f141",
       "version_major": 2,
       "version_minor": 0
      },
      "text/plain": [
       "interactive(children=(RadioButtons(description='source', index=1, options=('Merged only', 'Merged and rescaled…"
      ]
     },
     "metadata": {},
     "output_type": "display_data"
    },
    {
     "name": "stdout",
     "output_type": "stream",
     "text": [
      "ORG.MilitaryOrganization.GovernmentArmedForces (Air_force)\n",
      "IC00160NV\n"
     ]
    },
    {
     "data": {
      "application/vnd.jupyter.widget-view+json": {
       "model_id": "9614dd14cebb49f8a1490d6448d8e226",
       "version_major": 2,
       "version_minor": 0
      },
      "text/plain": [
       "interactive(children=(RadioButtons(description='source', index=1, options=('Merged only', 'Merged and rescaled…"
      ]
     },
     "metadata": {},
     "output_type": "display_data"
    },
    {
     "name": "stdout",
     "output_type": "stream",
     "text": [
      "PER (Boy)\n",
      "IC001JYVS\n"
     ]
    },
    {
     "data": {
      "application/vnd.jupyter.widget-view+json": {
       "model_id": "90a4dfff283b405989ac8b836320c1e4",
       "version_major": 2,
       "version_minor": 0
      },
      "text/plain": [
       "interactive(children=(RadioButtons(description='source', index=1, options=('Merged only', 'Merged and rescaled…"
      ]
     },
     "metadata": {},
     "output_type": "display_data"
    },
    {
     "name": "stdout",
     "output_type": "stream",
     "text": [
      "WEA.Cannon.Cannon (Mortar)\n",
      "IC001K0U1\n"
     ]
    },
    {
     "data": {
      "application/vnd.jupyter.widget-view+json": {
       "model_id": "1767964fe8e741dcbef378b2c6cc6a3f",
       "version_major": 2,
       "version_minor": 0
      },
      "text/plain": [
       "interactive(children=(RadioButtons(description='source', index=1, options=('Merged only', 'Merged and rescaled…"
      ]
     },
     "metadata": {},
     "output_type": "display_data"
    },
    {
     "name": "stdout",
     "output_type": "stream",
     "text": [
      "PER.Police (Police)\n",
      "HC00001XQ\n"
     ]
    },
    {
     "data": {
      "application/vnd.jupyter.widget-view+json": {
       "model_id": "51491ef0fb974479bde17ef915e027ab",
       "version_major": 2,
       "version_minor": 0
      },
      "text/plain": [
       "interactive(children=(RadioButtons(description='source', index=1, options=('Merged only', 'Merged and rescaled…"
      ]
     },
     "metadata": {},
     "output_type": "display_data"
    },
    {
     "name": "stdout",
     "output_type": "stream",
     "text": [
      "COM.Equipment (Binoculars)\n",
      "HC000SNVX\n"
     ]
    },
    {
     "data": {
      "application/vnd.jupyter.widget-view+json": {
       "model_id": "088904e9c129400ba9cedbfe7dfc2974",
       "version_major": 2,
       "version_minor": 0
      },
      "text/plain": [
       "interactive(children=(RadioButtons(description='source', index=1, options=('Merged only', 'Merged and rescaled…"
      ]
     },
     "metadata": {},
     "output_type": "display_data"
    },
    {
     "name": "stdout",
     "output_type": "stream",
     "text": [
      "FAC.Structure.Barricade (Barricade)\n",
      "IC0011VAM\n"
     ]
    },
    {
     "data": {
      "application/vnd.jupyter.widget-view+json": {
       "model_id": "dfbcf8ebfb1d4f9cb2e71a827ac80f39",
       "version_major": 2,
       "version_minor": 0
      },
      "text/plain": [
       "interactive(children=(RadioButtons(description='source', index=1, options=('Merged only', 'Merged and rescaled…"
      ]
     },
     "metadata": {},
     "output_type": "display_data"
    },
    {
     "name": "stdout",
     "output_type": "stream",
     "text": [
      "Movement.TransportPerson (Transport)\n",
      "IC0015M3V\n"
     ]
    },
    {
     "data": {
      "application/vnd.jupyter.widget-view+json": {
       "model_id": "22381fd695ae43dcbbc40a4ebbc122d7",
       "version_major": 2,
       "version_minor": 0
      },
      "text/plain": [
       "interactive(children=(RadioButtons(description='source', index=1, options=('Merged only', 'Merged and rescaled…"
      ]
     },
     "metadata": {},
     "output_type": "display_data"
    },
    {
     "name": "stdout",
     "output_type": "stream",
     "text": [
      "Disaster.AccidentCrash.AccidentCrash (Accident)\n",
      "IC001JYYX\n"
     ]
    },
    {
     "data": {
      "application/vnd.jupyter.widget-view+json": {
       "model_id": "b91bb1867b8844ff95bee2c29d4a6569",
       "version_major": 2,
       "version_minor": 0
      },
      "text/plain": [
       "interactive(children=(RadioButtons(description='source', index=1, options=('Merged only', 'Merged and rescaled…"
      ]
     },
     "metadata": {},
     "output_type": "display_data"
    },
    {
     "name": "stdout",
     "output_type": "stream",
     "text": [
      "PER.MilitaryPersonnel (map to OWG = Serviceman) (Military_person)\n",
      "IC001L56R\n"
     ]
    },
    {
     "data": {
      "application/vnd.jupyter.widget-view+json": {
       "model_id": "7d0333dbe5e64a35be4833b360a2f268",
       "version_major": 2,
       "version_minor": 0
      },
      "text/plain": [
       "interactive(children=(RadioButtons(description='source', index=1, options=('Merged only', 'Merged and rescaled…"
      ]
     },
     "metadata": {},
     "output_type": "display_data"
    },
    {
     "name": "stdout",
     "output_type": "stream",
     "text": [
      "WEA.MissileSystem.Missile (Missile)\n",
      "IC0015ZW9\n"
     ]
    },
    {
     "data": {
      "application/vnd.jupyter.widget-view+json": {
       "model_id": "f970acc4b7114d4d853de99ed6d3a887",
       "version_major": 2,
       "version_minor": 0
      },
      "text/plain": [
       "interactive(children=(RadioButtons(description='source', index=1, options=('Merged only', 'Merged and rescaled…"
      ]
     },
     "metadata": {},
     "output_type": "display_data"
    },
    {
     "name": "stdout",
     "output_type": "stream",
     "text": [
      "VEH.WheeledVehicle (Van)\n",
      "IC0015OTC\n"
     ]
    },
    {
     "data": {
      "application/vnd.jupyter.widget-view+json": {
       "model_id": "b722f20eefd74862953a5494d5da7de6",
       "version_major": 2,
       "version_minor": 0
      },
      "text/plain": [
       "interactive(children=(RadioButtons(description='source', index=1, options=('Merged only', 'Merged and rescaled…"
      ]
     },
     "metadata": {},
     "output_type": "display_data"
    },
    {
     "name": "stdout",
     "output_type": "stream",
     "text": [
      "FAC.Way.Street (Street)\n",
      "IC001JYFC\n"
     ]
    },
    {
     "data": {
      "application/vnd.jupyter.widget-view+json": {
       "model_id": "4d378a5b4fc942869218427655719b75",
       "version_major": 2,
       "version_minor": 0
      },
      "text/plain": [
       "interactive(children=(RadioButtons(description='source', index=1, options=('Merged only', 'Merged and rescaled…"
      ]
     },
     "metadata": {},
     "output_type": "display_data"
    },
    {
     "name": "stdout",
     "output_type": "stream",
     "text": [
      "COM.Equipment (Parachute)\n",
      "IC00162YZ\n"
     ]
    },
    {
     "data": {
      "application/vnd.jupyter.widget-view+json": {
       "model_id": "1945b983df884b18a162e7608777b7f3",
       "version_major": 2,
       "version_minor": 0
      },
      "text/plain": [
       "interactive(children=(RadioButtons(description='source', index=1, options=('Merged only', 'Merged and rescaled…"
      ]
     },
     "metadata": {},
     "output_type": "display_data"
    },
    {
     "name": "stdout",
     "output_type": "stream",
     "text": [
      "PER.ProfessionalPosition (Rescuer)\n",
      "HC00055DI\n"
     ]
    },
    {
     "data": {
      "application/vnd.jupyter.widget-view+json": {
       "model_id": "3a68690f75144cd4be2e89e5f196dcdb",
       "version_major": 2,
       "version_minor": 0
      },
      "text/plain": [
       "interactive(children=(RadioButtons(description='source', index=1, options=('Merged only', 'Merged and rescaled…"
      ]
     },
     "metadata": {},
     "output_type": "display_data"
    },
    {
     "name": "stdout",
     "output_type": "stream",
     "text": [
      "FAC (Pier)\n",
      "IC00169JI\n"
     ]
    },
    {
     "data": {
      "application/vnd.jupyter.widget-view+json": {
       "model_id": "3e2e56ca36c74a35b4d750b6b239ec11",
       "version_major": 2,
       "version_minor": 0
      },
      "text/plain": [
       "interactive(children=(RadioButtons(description='source', index=1, options=('Merged only', 'Merged and rescaled…"
      ]
     },
     "metadata": {},
     "output_type": "display_data"
    },
    {
     "name": "stdout",
     "output_type": "stream",
     "text": [
      "VEH.Rocket.Rocket (Rocket)\n",
      "IC0015TOF\n"
     ]
    },
    {
     "data": {
      "application/vnd.jupyter.widget-view+json": {
       "model_id": "d2ab90292b1945dd9e52477c24836034",
       "version_major": 2,
       "version_minor": 0
      },
      "text/plain": [
       "interactive(children=(RadioButtons(description='source', index=1, options=('Merged only', 'Merged and rescaled…"
      ]
     },
     "metadata": {},
     "output_type": "display_data"
    },
    {
     "name": "stdout",
     "output_type": "stream",
     "text": [
      "COM.Equipment (Construction_equipment)\n",
      "IC0011VAP\n"
     ]
    },
    {
     "data": {
      "application/vnd.jupyter.widget-view+json": {
       "model_id": "5fc71d0ef4ef43598662fa311f88930d",
       "version_major": 2,
       "version_minor": 0
      },
      "text/plain": [
       "interactive(children=(RadioButtons(description='source', index=1, options=('Merged only', 'Merged and rescaled…"
      ]
     },
     "metadata": {},
     "output_type": "display_data"
    },
    {
     "name": "stdout",
     "output_type": "stream",
     "text": [
      "COM.Document (Document)\n",
      "IC0011XES\n"
     ]
    },
    {
     "data": {
      "application/vnd.jupyter.widget-view+json": {
       "model_id": "5843b50ab8f64c9fb74a45626c168cae",
       "version_major": 2,
       "version_minor": 0
      },
      "text/plain": [
       "interactive(children=(RadioButtons(description='source', index=1, options=('Merged only', 'Merged and rescaled…"
      ]
     },
     "metadata": {},
     "output_type": "display_data"
    },
    {
     "name": "stdout",
     "output_type": "stream",
     "text": [
      "Conflict.Attack (Rebellion)\n",
      "IC001K05E\n"
     ]
    },
    {
     "data": {
      "application/vnd.jupyter.widget-view+json": {
       "model_id": "be79757248184bb3b71eca71edf104be",
       "version_major": 2,
       "version_minor": 0
      },
      "text/plain": [
       "interactive(children=(RadioButtons(description='source', index=1, options=('Merged only', 'Merged and rescaled…"
      ]
     },
     "metadata": {},
     "output_type": "display_data"
    },
    {
     "name": "stdout",
     "output_type": "stream",
     "text": [
      "WEA.Bomb (Bomb)\n",
      "IC0011V4J\n"
     ]
    },
    {
     "data": {
      "application/vnd.jupyter.widget-view+json": {
       "model_id": "2c842691ef2f4c9aa4ff0e9198a5e3bb",
       "version_major": 2,
       "version_minor": 0
      },
      "text/plain": [
       "interactive(children=(RadioButtons(description='source', index=1, options=('Merged only', 'Merged and rescaled…"
      ]
     },
     "metadata": {},
     "output_type": "display_data"
    },
    {
     "name": "stdout",
     "output_type": "stream",
     "text": [
      "PER.ProfessionalPosition.Minister (Minister)\n",
      "IC00163IP\n"
     ]
    },
    {
     "data": {
      "application/vnd.jupyter.widget-view+json": {
       "model_id": "08cd698296e04442bc6f85492081a1b6",
       "version_major": 2,
       "version_minor": 0
      },
      "text/plain": [
       "interactive(children=(RadioButtons(description='source', index=1, options=('Merged only', 'Merged and rescaled…"
      ]
     },
     "metadata": {},
     "output_type": "display_data"
    }
   ],
   "source": [
    "for label in select_labels:\n",
    "    if len(label_to_img[label]) == 0:\n",
    "        continue\n",
    "    print(mid2name_all[label])\n",
    "    imgid = np.random.choice(label_to_img[label])\n",
    "    print(imgid)\n",
    "    w = interactive(show, \n",
    "        imgid=fixed(imgid),\n",
    "        source=widgets.RadioButtons(options=['Merged only', 'Merged and rescaled'], value='Merged and rescaled'), \n",
    "        thresh=widgets.FloatSlider(min=0.0, max=1.0, step=0.01, value=0.1, continuous_update=False), \n",
    "    )\n",
    "    w.children[-1].layout.height = '600px'\n",
    "    display(w)\n",
    "    "
   ]
  },
  {
   "cell_type": "code",
   "execution_count": null,
   "metadata": {},
   "outputs": [],
   "source": []
  }
 ],
 "metadata": {
  "kernelspec": {
   "display_name": "Py3 w/ Tensorflow (Newest)",
   "language": "python",
   "name": "py3tf_new"
  },
  "language_info": {
   "codemirror_mode": {
    "name": "ipython",
    "version": 3
   },
   "file_extension": ".py",
   "mimetype": "text/x-python",
   "name": "python",
   "nbconvert_exporter": "python",
   "pygments_lexer": "ipython3",
   "version": "3.6.6"
  }
 },
 "nbformat": 4,
 "nbformat_minor": 2
}
