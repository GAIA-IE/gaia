{
 "cells": [
  {
   "cell_type": "code",
   "execution_count": 1,
   "metadata": {},
   "outputs": [],
   "source": [
    "import os\n",
    "import sys\n",
    "import pickle\n",
    "import csv\n",
    "import copy\n",
    "\n",
    "import numpy as np\n",
    "import cv2\n",
    "import matplotlib.pyplot as plt\n",
    "%matplotlib inline"
   ]
  },
  {
   "cell_type": "code",
   "execution_count": 2,
   "metadata": {},
   "outputs": [],
   "source": [
    "from ipywidgets import interact, interactive, fixed, interact_manual\n",
    "import ipywidgets as widgets"
   ]
  },
  {
   "cell_type": "code",
   "execution_count": 3,
   "metadata": {},
   "outputs": [
    {
     "name": "stderr",
     "output_type": "stream",
     "text": [
      "../../../tfobjdetect/lib/object_detection/utils/visualization_utils.py:25: UserWarning: \n",
      "This call to matplotlib.use() has no effect because the backend has already\n",
      "been chosen; matplotlib.use() must be called *before* pylab, matplotlib.pyplot,\n",
      "or matplotlib.backends is imported for the first time.\n",
      "\n",
      "The backend was *originally* set to 'module://ipykernel.pylab.backend_inline' by the following code:\n",
      "  File \"/home/alireza/home_at_filer2/tools/anaconda3/envs/py3tf/lib/python3.6/runpy.py\", line 193, in _run_module_as_main\n",
      "    \"__main__\", mod_spec)\n",
      "  File \"/home/alireza/home_at_filer2/tools/anaconda3/envs/py3tf/lib/python3.6/runpy.py\", line 85, in _run_code\n",
      "    exec(code, run_globals)\n",
      "  File \"/home/alireza/home_at_filer2/tools/anaconda3/envs/py3tf/lib/python3.6/site-packages/ipykernel/__main__.py\", line 3, in <module>\n",
      "    app.launch_new_instance()\n",
      "  File \"/home/alireza/home_at_filer2/tools/anaconda3/envs/py3tf/lib/python3.6/site-packages/traitlets/config/application.py\", line 658, in launch_instance\n",
      "    app.start()\n",
      "  File \"/home/alireza/home_at_filer2/tools/anaconda3/envs/py3tf/lib/python3.6/site-packages/ipykernel/kernelapp.py\", line 486, in start\n",
      "    self.io_loop.start()\n",
      "  File \"/home/alireza/home_at_filer2/tools/anaconda3/envs/py3tf/lib/python3.6/site-packages/tornado/platform/asyncio.py\", line 127, in start\n",
      "    self.asyncio_loop.run_forever()\n",
      "  File \"/home/alireza/home_at_filer2/tools/anaconda3/envs/py3tf/lib/python3.6/asyncio/base_events.py\", line 422, in run_forever\n",
      "    self._run_once()\n",
      "  File \"/home/alireza/home_at_filer2/tools/anaconda3/envs/py3tf/lib/python3.6/asyncio/base_events.py\", line 1432, in _run_once\n",
      "    handle._run()\n",
      "  File \"/home/alireza/home_at_filer2/tools/anaconda3/envs/py3tf/lib/python3.6/asyncio/events.py\", line 145, in _run\n",
      "    self._callback(*self._args)\n",
      "  File \"/home/alireza/home_at_filer2/tools/anaconda3/envs/py3tf/lib/python3.6/site-packages/tornado/platform/asyncio.py\", line 117, in _handle_events\n",
      "    handler_func(fileobj, events)\n",
      "  File \"/home/alireza/home_at_filer2/tools/anaconda3/envs/py3tf/lib/python3.6/site-packages/tornado/stack_context.py\", line 276, in null_wrapper\n",
      "    return fn(*args, **kwargs)\n",
      "  File \"/home/alireza/home_at_filer2/tools/anaconda3/envs/py3tf/lib/python3.6/site-packages/zmq/eventloop/zmqstream.py\", line 450, in _handle_events\n",
      "    self._handle_recv()\n",
      "  File \"/home/alireza/home_at_filer2/tools/anaconda3/envs/py3tf/lib/python3.6/site-packages/zmq/eventloop/zmqstream.py\", line 480, in _handle_recv\n",
      "    self._run_callback(callback, msg)\n",
      "  File \"/home/alireza/home_at_filer2/tools/anaconda3/envs/py3tf/lib/python3.6/site-packages/zmq/eventloop/zmqstream.py\", line 432, in _run_callback\n",
      "    callback(*args, **kwargs)\n",
      "  File \"/home/alireza/home_at_filer2/tools/anaconda3/envs/py3tf/lib/python3.6/site-packages/tornado/stack_context.py\", line 276, in null_wrapper\n",
      "    return fn(*args, **kwargs)\n",
      "  File \"/home/alireza/home_at_filer2/tools/anaconda3/envs/py3tf/lib/python3.6/site-packages/ipykernel/kernelbase.py\", line 283, in dispatcher\n",
      "    return self.dispatch_shell(stream, msg)\n",
      "  File \"/home/alireza/home_at_filer2/tools/anaconda3/envs/py3tf/lib/python3.6/site-packages/ipykernel/kernelbase.py\", line 233, in dispatch_shell\n",
      "    handler(stream, idents, msg)\n",
      "  File \"/home/alireza/home_at_filer2/tools/anaconda3/envs/py3tf/lib/python3.6/site-packages/ipykernel/kernelbase.py\", line 399, in execute_request\n",
      "    user_expressions, allow_stdin)\n",
      "  File \"/home/alireza/home_at_filer2/tools/anaconda3/envs/py3tf/lib/python3.6/site-packages/ipykernel/ipkernel.py\", line 208, in do_execute\n",
      "    res = shell.run_cell(code, store_history=store_history, silent=silent)\n",
      "  File \"/home/alireza/home_at_filer2/tools/anaconda3/envs/py3tf/lib/python3.6/site-packages/ipykernel/zmqshell.py\", line 537, in run_cell\n",
      "    return super(ZMQInteractiveShell, self).run_cell(*args, **kwargs)\n",
      "  File \"/home/alireza/home_at_filer2/tools/anaconda3/envs/py3tf/lib/python3.6/site-packages/IPython/core/interactiveshell.py\", line 2666, in run_cell\n",
      "    self.events.trigger('post_run_cell', result)\n",
      "  File \"/home/alireza/home_at_filer2/tools/anaconda3/envs/py3tf/lib/python3.6/site-packages/IPython/core/events.py\", line 88, in trigger\n",
      "    func(*args, **kwargs)\n",
      "  File \"/home/alireza/home_at_filer2/tools/anaconda3/envs/py3tf/lib/python3.6/site-packages/ipykernel/pylab/backend_inline.py\", line 160, in configure_once\n",
      "    activate_matplotlib(backend)\n",
      "  File \"/home/alireza/home_at_filer2/tools/anaconda3/envs/py3tf/lib/python3.6/site-packages/IPython/core/pylabtools.py\", line 311, in activate_matplotlib\n",
      "    matplotlib.pyplot.switch_backend(backend)\n",
      "  File \"/home/alireza/home_at_filer2/tools/anaconda3/envs/py3tf/lib/python3.6/site-packages/matplotlib/pyplot.py\", line 231, in switch_backend\n",
      "    matplotlib.use(newbackend, warn=False, force=True)\n",
      "  File \"/home/alireza/home_at_filer2/tools/anaconda3/envs/py3tf/lib/python3.6/site-packages/matplotlib/__init__.py\", line 1410, in use\n",
      "    reload(sys.modules['matplotlib.backends'])\n",
      "  File \"/home/alireza/home_at_filer2/tools/anaconda3/envs/py3tf/lib/python3.6/importlib/__init__.py\", line 166, in reload\n",
      "    _bootstrap._exec(spec, module)\n",
      "  File \"/home/alireza/home_at_filer2/tools/anaconda3/envs/py3tf/lib/python3.6/site-packages/matplotlib/backends/__init__.py\", line 16, in <module>\n",
      "    line for line in traceback.format_stack()\n",
      "\n",
      "\n",
      "  import matplotlib; matplotlib.use('Agg')  # pylint: disable=multiple-statements\n"
     ]
    }
   ],
   "source": [
    "sys.path.append(\"../../../tfobjdetect/lib\")\n",
    "from object_detection.utils import label_map_util\n",
    "from object_detection.utils import visualization_utils as vis_util"
   ]
  },
  {
   "cell_type": "markdown",
   "metadata": {},
   "source": [
    "## Loading and preparing label maps"
   ]
  },
  {
   "cell_type": "code",
   "execution_count": 4,
   "metadata": {},
   "outputs": [],
   "source": [
    "with open('../../temp/label_matching_coco_oi_ws_300.pkl', 'rb') as fin:\n",
    "    labelmap = pickle.load(fin)"
   ]
  },
  {
   "cell_type": "code",
   "execution_count": 5,
   "metadata": {},
   "outputs": [],
   "source": [
    "idx2mid_coco = labelmap['idx2mid_coco']\n",
    "idx2mid_oi = labelmap['idx2mid_oi']\n",
    "idx2mid_ws = labelmap['idx2mid_ws']\n",
    "mid2idx_coco = labelmap['mid2idx_coco']\n",
    "mid2idx_oi = labelmap['mid2idx_oi']\n",
    "mid2idx_ws = labelmap['mid2idx_ws']\n",
    "mid2name_coco = labelmap['mid2name_coco']\n",
    "mid2name_oi = labelmap['mid2name_oi']\n",
    "mid2name_ws = labelmap['mid2name_ws']\n",
    "name2mid_coco = labelmap['name2mid_coco']\n",
    "name2mid_oi = labelmap['name2mid_oi']\n",
    "name2mid_ws = labelmap['name2mid_ws']\n",
    "common_mids_coco = labelmap['common_mids_coco']\n",
    "common_mids_ws = labelmap['common_mids_ws']\n"
   ]
  },
  {
   "cell_type": "code",
   "execution_count": 6,
   "metadata": {},
   "outputs": [],
   "source": [
    "coco_mids = set(mid2idx_coco.keys())\n",
    "oi_mids = set(mid2idx_oi.keys())\n",
    "ws_mids = set(mid2idx_ws.keys())\n"
   ]
  },
  {
   "cell_type": "code",
   "execution_count": 7,
   "metadata": {},
   "outputs": [],
   "source": [
    "mid2name_all = {}\n",
    "for key in coco_mids:\n",
    "    mid2name_all[key] = mid2name_coco[key]\n",
    "for key in oi_mids:\n",
    "    mid2name_all[key] = mid2name_oi[key]\n",
    "for key in ws_mids:\n",
    "    mid2name_all[key] = mid2name_ws[key]"
   ]
  },
  {
   "cell_type": "code",
   "execution_count": 8,
   "metadata": {},
   "outputs": [],
   "source": [
    "with open('../../temp/all_labels_coco_oi_ws_300.pkl', 'rb') as fin:\n",
    "    all_labels = pickle.load(fin)"
   ]
  },
  {
   "cell_type": "code",
   "execution_count": null,
   "metadata": {},
   "outputs": [],
   "source": []
  },
  {
   "cell_type": "code",
   "execution_count": 9,
   "metadata": {},
   "outputs": [],
   "source": [
    "with open('../../results/det_results_postproc_12.pkl', 'rb') as fin:\n",
    "    det_results_sorted = pickle.load(fin)"
   ]
  },
  {
   "cell_type": "code",
   "execution_count": null,
   "metadata": {},
   "outputs": [],
   "source": []
  },
  {
   "cell_type": "markdown",
   "metadata": {},
   "source": [
    "## Choosing examples for each class to visualize"
   ]
  },
  {
   "cell_type": "code",
   "execution_count": 10,
   "metadata": {},
   "outputs": [],
   "source": [
    "label_to_img = {key: [] for key in all_labels}\n",
    "for key, val in det_results_sorted.items():\n",
    "    for ii in range(val['num_detections']):\n",
    "        if val['detection_scores'][ii] < 0.35:\n",
    "            continue\n",
    "        label_to_img[val['detection_classes'][ii]].append(key)"
   ]
  },
  {
   "cell_type": "code",
   "execution_count": 11,
   "metadata": {},
   "outputs": [],
   "source": [
    "idx = np.argsort([-len(label_to_img[label]) for label in all_labels])"
   ]
  },
  {
   "cell_type": "code",
   "execution_count": 12,
   "metadata": {},
   "outputs": [
    {
     "name": "stdout",
     "output_type": "stream",
     "text": [
      "/m/01g317 Person 21905\n",
      "/m/04yx4 Man 11293\n",
      "/m/0dzct Human face 7125\n",
      "/m/05s2s Plant 4209\n",
      "/m/0c_jw Furniture 2342\n",
      "/m/0k4j Car 2333\n",
      "/m/03bt1vf Woman 1911\n",
      "/m/01xr66 Spokesperson 1317\n",
      "/m/01prls Land vehicle 1314\n",
      "/m/07c52 Television 1268\n",
      "/m/01n5jq Poster 1094\n",
      "/m/0jbk Animal 1056\n",
      "/m/0hf58v5 Luggage and bags 1029\n",
      "/m/012t_z Businessperson 962\n",
      "/m/0cgh4 Building 915\n",
      "/m/07r04 Truck 913\n",
      "/m/07s6nbt Text 849\n",
      "/m/0jyfg Glasses 827\n",
      "/m/09x0r Speech 769\n",
      "/m/0dwx7 Logo 739\n",
      "/m/06q40 Smoke 589\n",
      "/m/07k1x Tool 568\n",
      "/m/03jm5 House 567\n",
      "/m/0bs7_0t Electronic device 563\n",
      "/m/07yv9 Vehicle 458\n",
      "/m/01m3v Computer 440\n",
      "/m/0cmf2 Airplane 439\n",
      "/m/02_41 Fire 437\n",
      "/m/0zvk5 Helmet 421\n",
      "/m/01c648 Laptop 419\n",
      "/m/050k8 Mobile phone 375\n",
      "/m/03qtwd Crowd 358\n",
      "/m/03120 Flag 343\n",
      "/m/02wbm Food 313\n",
      "/m/04_tb Map 310\n",
      "/m/07jdr Train 251\n",
      "/m/08dz3q Auto part 249\n",
      "/m/04hgtk Human head 245\n",
      "/m/01fnck Waste 239\n",
      "/m/01xgg_ Medical equipment 218\n",
      "/m/015h_t Human beard 209\n",
      "/m/05r655 Girl 202\n",
      "/m/05wrt Property 200\n",
      "/m/0bt9lr Dog 199\n",
      "/m/0cz_0 Highway 166\n",
      "/m/068k4 Public speaking 165\n",
      "/m/07cmd Tank 157\n",
      "/m/01knjb Billboard 152\n",
      "/m/035y33 Official 152\n",
      "/m/019jd Boat 151\n",
      "/m/09g5pq People 150\n",
      "/m/0dv5r Camera 144\n",
      "/m/078my Trailer truck 142\n",
      "/m/06gfj Road 137\n",
      "/m/09cynt Convention 136\n",
      "/m/01bjv Bus 133\n",
      "/m/033lpr Audience 117\n",
      "/m/02lbcq Stretcher 116\n",
      "/m/0h2r6 Van 114\n",
      "/m/039l3v Auditorium 113\n",
      "/m/0bg2p Security 105\n",
      "/m/09nm_ World 105\n",
      "/m/01cx7t High-visibility clothing 102\n",
      "/m/083kb Weapon 100\n",
      "/m/012n4x Firefighter 100\n",
      "/m/01bl7v Boy 99\n",
      "/m/0ffjr Personal protective equipment 91\n",
      "/m/0hg7b Microphone 88\n",
      "/m/03qpft Podium 82\n",
      "/m/021sj1 Office building 80\n",
      "/m/01l0mw Home 79\n",
      "/m/02q60ls Conference hall 79\n",
      "/m/0bh9flk Tablet computer 77\n",
      "/m/02p16m6 Flesh 76\n",
      "/m/0hr5k Festival 75\n",
      "/m/0fkwjg Commercial vehicle 73\n",
      "/m/07cx4 Telephone 68\n",
      "/m/0k5j Aircraft 67\n",
      "/m/0blz9 Fence 67\n",
      "/m/017kvv Infrastructure 66\n",
      "/m/070qm Freight transport 65\n",
      "/m/01nblt Apartment 65\n",
      "/m/081pkj Event 58\n",
      "/m/01c8br Street 55\n",
      "/m/06c54 Rifle 54\n",
      "/m/04_sv Motorcycle 52\n",
      "/m/0ct4f Bomb 50\n",
      "/m/09ct_ Helicopter 50\n",
      "/m/01klb9 Plaza 48\n",
      "/m/01j61q Tent 48\n",
      "/m/02_n6y Goggles 47\n",
      "/m/02_g0 Funeral 46\n",
      "/m/08qrwn Rubble 46\n",
      "/m/0g54v5d Military vehicle 42\n",
      "/m/0199g Bicycle 42\n",
      "/m/088l6h Family car 41\n",
      "/m/01fdzj Tower 41\n",
      "/m/06nrc Shotgun 40\n",
      "/m/01x2j Camouflage 37\n",
      "/m/012n7d Ambulance 36\n",
      "/m/06msq Sculpture 36\n",
      "/m/01nl4x Fire extinguisher 35\n",
      "/m/01nd_n Protest 33\n",
      "/m/02wg_p Tree house 31\n",
      "/m/01x3jk Snowmobile 30\n",
      "/m/012f08 Motor vehicle 30\n",
      "/m/01bgsw Toddler 30\n",
      "/m/0lt4_ Binoculars 30\n",
      "/m/0gvss07 Combat vehicle 29\n",
      "/m/0ytgt Child 28\n",
      "/m/0728h Self-propelled artillery 27\n",
      "/m/071rm Shooting 27\n",
      "/m/0169zh Smartphone 26\n",
      "/m/0fd6q Cash 25\n",
      "/m/01zpz Crew 24\n",
      "/m/02p4dfn Lectern 24\n",
      "/m/05hg54 Commercial building 24\n",
      "/m/01n32 City 24\n",
      "/m/079cl Skyscraper 24\n",
      "/m/01515d Flight 24\n",
      "/m/0hpjt Orator 23\n",
      "/m/054xkw Lifejacket 23\n",
      "/m/02gx17 Construction equipment 21\n",
      "/m/0gxl3 Handgun 20\n",
      "/m/0vg8 Airline 20\n",
      "/m/013xlm Tractor 19\n",
      "/m/01lcw4 Limousine 18\n",
      "/m/03j1ly Emergency vehicle 18\n",
      "/m/0dhz0 Airliner 18\n",
      "/m/04ctx Knife 17\n",
      "/m/09rvcxw Rocket 16\n",
      "/m/01w71f Personal luxury car 16\n",
      "/m/038t8_ Estate 15\n",
      "/m/04ylt Missile 15\n",
      "/m/04_x4 Money 14\n",
      "/m/0h36z Cemetery 14\n",
      "/m/016c4t Ceremony 13\n",
      "/m/0121tl Electronic instrument 13\n",
      "/m/0c2jj Axe 13\n",
      "/m/0323sq Golf cart 13\n",
      "/m/0cvq3 Pickup truck 12\n",
      "/m/025t3bg Air travel 12\n",
      "/m/076bq Segway 12\n",
      "/m/051rmm Steeple 12\n",
      "/m/032rk Gun 11\n",
      "/m/0jb3 Assault rifle 10\n",
      "/m/01lcwm Luxury vehicle 10\n",
      "/m/01wk9c Emblem 10\n",
      "/m/039jbq Urban area 10\n",
      "/m/015kr Bridge 10\n",
      "/m/013bml Military rank 10\n",
      "/m/09jfs Uniform 10\n",
      "/m/05_5t0l Landmark 9\n",
      "/m/0cyfs Parachute 9\n",
      "/m/016br2 Dome 9\n",
      "/m/03vntj Full-size car 9\n",
      "/m/06d_3 Railway 8\n",
      "/m/012n91 Emergency service 8\n",
      "/m/018p4k Cart 8\n",
      "/m/0pg52 Taxi 7\n",
      "/m/0173tc Chapel 7\n",
      "/m/02h66g5 Military person 7\n",
      "/m/04h5c Locomotive 7\n",
      "/m/09cjl Airport 7\n",
      "/m/0f6nr Unicycle 6\n",
      "/m/07txbq Light aircraft 6\n",
      "/m/0h8lkj8 Corded phone 6\n",
      "/m/0c85fd Dome 6\n",
      "/m/081hv Wedding 6\n",
      "/m/014yck Aircraft engine 6\n",
      "/m/03wvy Infantry 6\n",
      "/m/02nvjx Place of worship 5\n",
      "/m/0qmmr Wheelchair 5\n",
      "/m/01wb7 Church 5\n",
      "/m/07bsy Transport 5\n",
      "/m/01bq8v Troop 5\n",
      "/m/039r6 General aviation 5\n",
      "/m/01yx86 Bronze sculpture 5\n",
      "/m/01vw0_ Grave 4\n",
      "/m/0crtnw Executive car 4\n",
      "/m/020kz Cannon 4\n",
      "/m/01xgbj Turret 4\n",
      "/m/0ltfs Bride 4\n",
      "/m/013_1c Statue 4\n",
      "/m/017m8l Waterway 4\n",
      "/m/034qg Firearm 4\n",
      "/m/0d5gx Castle 4\n",
      "/m/02cwf_ Shrine 3\n",
      "/m/04zjc Machine gun 3\n",
      "/m/04h7h Lighthouse 3\n",
      "/m/05zdp Public transport 3\n",
      "/m/074d1 Submarine 3\n",
      "/m/01btn Barge 2\n",
      "/m/018rqw Wide-body aircraft 2\n",
      "/m/02ljgl Monument 2\n",
      "/m/05pdd_v Fire department 2\n",
      "/m/02p0tk3 Human body 2\n",
      "/m/01rzcn Watercraft 2\n",
      "/m/0cx45 Temple 2\n",
      "/m/027qh7f Cold weapon 1\n",
      "/m/03n9vx Double-decker bus 1\n",
      "/m/08g_yr Temple 1\n",
      "/m/06y5r Sword 1\n",
      "/m/03cny9 Badge 1\n",
      "/m/0gty6zf Law enforcement 1\n",
      "/m/02yjc Fighter aircraft 1\n",
      "/m/02gp31 Government agency 1\n",
      "/m/0m_bl Bullet train 1\n",
      "/m/01q4wd Stupa 1\n",
      "/m/04fdw Kayak 1\n",
      "/m/09l63h Military camouflage 1\n",
      "/m/012qdp Military officer 1\n",
      "/m/02q3d5 Memorial 1\n",
      "/m/043nyj Common fig 0\n",
      "/m/081qc Wine 0\n",
      "/m/04p0qw Billiard table 0\n",
      "/m/0czz2 Antelope 0\n",
      "/m/05z6w Penguin 0\n",
      "/m/0pd7 Army 0\n",
      "/m/0h8n6ft Cake stand 0\n",
      "/m/0llzx Sewing machine 0\n",
      "/m/025syph Fighter pilot 0\n",
      "/m/01599 Beer 0\n",
      "/m/0xsc Aircraft carrier 0\n",
      "/m/01vzwd Mortar 0\n",
      "/m/01jw_1 Bus stop 0\n",
      "/m/02666n Light aircraft carrier 0\n",
      "/m/0306r Fox 0\n",
      "/m/01b7fy Headphones 0\n",
      "/m/02d9qx Whiteboard 0\n",
      "/m/054fyh Pitcher 0\n",
      "/m/0c568 Porcupine 0\n",
      "/m/07y_7 Violin 0\n",
      "/m/0283dt1 Mouth 0\n",
      "/m/01nkt Cheese 0\n",
      "/m/063rgb Mixer 0\n",
      "/m/0gjwxv Military organization 0\n",
      "/m/050gv4 Plate 0\n",
      "/m/01lrl Carnivore 0\n",
      "/m/0dbvp Goose 0\n",
      "/m/0h8mhzd Sports uniform 0\n",
      "/m/01f8m5 Blue jay 0\n",
      "/m/01fh4r Teapot 0\n",
      "/m/04vv5k Snowplow 0\n",
      "/m/02g30s Guacamole 0\n",
      "/m/01j4z9 Chainsaw 0\n",
      "/m/0bt_c3 Book 0\n",
      "/m/077hhl Cargo aircraft 0\n",
      "/m/01yrx Cat 0\n",
      "/m/0633h Polar bear 0\n",
      "/m/09gys Squid 0\n",
      "/m/01kb5b Flashlight 0\n",
      "/m/027pcv Zucchini 0\n",
      "/m/03d1rd Ruins 0\n",
      "/m/09dzg Turtle 0\n",
      "/m/01dwwc Pancake 0\n",
      "/m/03w1r4 Military uniform 0\n",
      "/m/01r546 Earrings 0\n",
      "/m/0f4s2w Vegetable 0\n",
      "/m/02rdsp Office supplies 0\n",
      "/m/01lynh Stairs 0\n",
      "/m/06bt6 Reptile 0\n",
      "/m/01xs3r Jet ski 0\n",
      "/m/01llwg Necklace 0\n",
      "/m/07xyvk Coffeemaker 0\n",
      "/m/02jnhm Tin can 0\n",
      "/m/06_fw Skateboard 0\n",
      "/m/0755b Scorpion 0\n",
      "/m/0by6g Shark 0\n",
      "/m/0cnyhnx Bull 0\n",
      "/m/0bp37nz Propeller-driven aircraft 0\n",
      "/m/0dkzw Seat belt 0\n",
      "/m/031n1 Foot 0\n",
      "/m/015qbp parking meter 0\n",
      "/m/0dftk Swan 0\n",
      "/m/04tn4x Swim cap 0\n",
      "/m/0fj52s Carrot 0\n",
      "/m/012w5l Ladder 0\n",
      "/m/03fj2 Goldfish 0\n",
      "/m/09kx5 Deer 0\n",
      "/m/05ws7 Police 0\n",
      "/m/01h_q0 Military robot 0\n",
      "/m/0cyhj_ Orange 0\n",
      "/m/0h8kx63 Spice rack 0\n",
      "/m/01lsmm Scissors 0\n",
      "/m/0crjs Convenience store 0\n",
      "/m/0388q Grape 0\n",
      "/m/06m11 Rose 0\n",
      "/m/0f6wt Falcon 0\n",
      "/m/01hrv5 Popcorn 0\n",
      "/m/0h8n5zk Kitchen & dining room table 0\n",
      "/m/083wq Wheel 0\n",
      "/m/07qxg_ Football helmet 0\n",
      "/m/04m9y Lizard 0\n",
      "/m/02pv19 Stop sign 0\n",
      "/m/0cdn1 Hamburger 0\n",
      "/m/01hr1w Guided missile destroyer 0\n",
      "/m/02wv6h6 Skirt 0\n",
      "/m/0275lwb Military helicopter 0\n",
      "/m/061_f Pear 0\n",
      "/m/03txqz Scale 0\n",
      "/m/0knpd Flight instruments 0\n",
      "/m/03q5t Harpsichord 0\n",
      "/m/04m6gz Porch 0\n",
      "/m/06k2mb High heels 0\n",
      "/m/02jfl0 Sombrero 0\n",
      "/m/01h8tj Starfish 0\n",
      "/m/01_bhs Fast food 0\n",
      "/m/06z37_ Picture frame 0\n",
      "/m/01k6s3 toaster 0\n",
      "/m/01s105 Cabinetry 0\n",
      "/m/03ssj5 Bed 0\n",
      "/m/03bj1 Panda 0\n",
      "/m/02068x Gondola 0\n",
      "/m/05ctyq Tennis ball 0\n",
      "/m/04xd6k Melee weapon 0\n",
      "/m/06j2d Raven 0\n",
      "/m/02hsrtn Helicopter pilot 0\n",
      "/m/03d443 Rhinoceros 0\n",
      "/m/03hlz0c Kitchen utensil 0\n",
      "/m/015x5n Radish 0\n",
      "/m/02dgv Door 0\n",
      "/m/02vqfm Coffee 0\n",
      "/m/018j2 Banjo 0\n",
      "/m/029bxz Oven 0\n",
      "/m/09ddx Duck 0\n",
      "/m/057p5t Scoreboard 0\n",
      "/m/065h6l Jacuzzi 0\n",
      "/m/07bgp Sheep 0\n",
      "/m/01gkx_ Swimwear 0\n",
      "/m/0cydv Caterpillar 0\n",
      "/m/025rp__ Cowboy hat 0\n",
      "/m/0fp6w Pineapple 0\n",
      "/m/026qbn5 studio couch 0\n",
      "/m/03hl4l9 Marine invertebrates 0\n",
      "/m/04bcr3 Table 0\n",
      "/m/07fbm7 Strawberry 0\n",
      "/m/05y_qt Missile boat 0\n",
      "/m/0hnyx Pastry 0\n",
      "/m/09b5t Chicken 0\n",
      "/m/0174k2 Washing machine 0\n",
      "/m/01mzpv Chair 0\n",
      "/m/01x3z Clock 0\n",
      "/m/0342h Guitar 0\n",
      "/m/03wvsk hair drier 0\n",
      "/m/0162_1 Towel 0\n",
      "/m/0c29q Leopard 0\n",
      "/m/0f5lx Military aircraft 0\n",
      "/m/0dv9c Racket 0\n",
      "/m/0703r8 Loveseat 0\n",
      "/m/0k1tl Pen 0\n",
      "/m/01m2v Computer keyboard 0\n",
      "/m/0h9mv Tire 0\n",
      "/m/0chbx Violence 0\n",
      "/m/01xqw Cello 0\n",
      "/m/034c16 Pillow 0\n",
      "/m/01fb_0 Bagel 0\n",
      "/m/01cmb2 Miniskirt 0\n",
      "/m/03hfwtf Military transport aircraft 0\n",
      "/m/01kqwy Business jet 0\n",
      "/m/06pcq Submarine sandwich 0\n",
      "/m/02pkr5 Plumbing fixture 0\n",
      "/m/06__v Snowboard 0\n",
      "/m/09gtd Toilet paper 0\n",
      "/m/0120dh Sea turtle 0\n",
      "/m/014trl Cosmetics 0\n",
      "/m/018rc1 Ground attack aircraft 0\n",
      "/m/0frqm Envelope 0\n",
      "/m/01tcjp Muffin 0\n",
      "/m/0420v5 Punching bag 0\n",
      "/m/0ky7b Dishwasher 0\n",
      "/m/04229 Jet engine 0\n",
      "/m/02zvsm Tart 0\n",
      "/m/03k3r Horse 0\n",
      "/m/03y6mg Food processor 0\n",
      "/m/0f9_l Snail 0\n",
      "/m/0pcr Alpaca 0\n",
      "/m/0268lbt Hiking equipment 0\n",
      "/m/0d_2m Moths and butterflies 0\n",
      "/m/0hdln Ruler 0\n",
      "/m/0133tk Ballistic vest 0\n",
      "/m/02vkqh8 Wardrobe 0\n",
      "/m/068zj Pig 0\n",
      "/m/04brg2 Tableware 0\n",
      "/m/015y8h Jet aircraft 0\n",
      "/m/02p0zyj Riot 0\n",
      "/m/01nq26 Sock 0\n",
      "/m/07j7r Tree 0\n",
      "/m/0d4w1 Closet 0\n",
      "/m/0dtln Lamp 0\n",
      "/m/01h6rj Military 0\n",
      "/m/0mcx2 Ipod 0\n",
      "/m/0l3ms Balance beam 0\n",
      "/m/02f9f_ Shower 0\n",
      "/m/013y1f Organ 0\n",
      "/m/0l515 Sandwich 0\n",
      "/m/0gjkl Watch 0\n",
      "/m/02bb1s Sniper rifle 0\n",
      "/m/03rszm Curtain 0\n",
      "/m/03m3pdh Sofa bed 0\n",
      "/m/07dm6 Tiger 0\n",
      "/m/02xwb Fruit 0\n",
      "/m/02ctlc Cricket ball 0\n",
      "/m/01f91_ Pretzel 0\n",
      "/m/014y4n Paddle 0\n",
      "/m/0583b1 Barricade 0\n",
      "/m/01gllr Beehive 0\n",
      "/m/0kmg4 Teddy bear 0\n",
      "/m/019w40 Surfboard 0\n",
      "/m/07j87 Tomato 0\n",
      "/m/033rq4 Street light 0\n",
      "/m/04c0y Kangaroo 0\n",
      "/m/02wbtzl Sun hat 0\n",
      "/m/05r5c Piano 0\n",
      "/m/0kpqd Watermelon 0\n",
      "/m/01xygc Coat 0\n",
      "/m/03v5tg Drinking straw 0\n",
      "/m/09kmb Spider 0\n",
      "/m/078jl Snake 0\n",
      "/m/0ll1f78 Shrimp 0\n",
      "/m/08gqpm cup 0\n",
      "/m/015x4r Cucumber 0\n",
      "/m/026yq0z Demonstration 0\n",
      "/m/07mhn Trousers 0\n",
      "/m/03qrc Hamster 0\n",
      "/m/0663v Pizza 0\n",
      "/m/02pdsw Cutting board 0\n",
      "/m/01dwsz Waffle 0\n",
      "/m/02zn6n Barrel 0\n",
      "/m/0g2bc Drone 0\n",
      "/m/096mb Lion 0\n",
      "/m/099md Soldier 0\n",
      "/m/047j0r Filing cabinet 0\n",
      "/m/024g6 Cocktail 0\n",
      "/m/02hj4 Dolphin 0\n",
      "/m/09728 Bread 0\n",
      "/m/0h8mzrc Wall clock 0\n",
      "/m/0fbw6 Cabbage 0\n",
      "/m/0ccs93 Canary 0\n",
      "/m/014sv8 Eye 0\n",
      "/m/03q5c7 Saucer 0\n",
      "/m/020lf Mouse 0\n",
      "/m/02jz0l Tap 0\n",
      "/m/06_72j Digital clock 0\n",
      "/m/0hsrw Sailboat 0\n",
      "/m/0cxn2 Ice cream 0\n",
      "/m/0cffdh Maple 0\n",
      "/m/06810_ Medium tactical vehicle replacement 0\n",
      "/m/05t_pq Gun turret 0\n",
      "/m/09qck Banana 0\n",
      "/m/06dq9 Radar 0\n",
      "/m/04gth Lavender 0\n",
      "/m/03hj559 Mixing bowl 0\n",
      "/m/016m2d Skull 0\n",
      "/m/076lb9 Bench 0\n",
      "/m/01s55n Suitcase 0\n",
      "/m/099ssp Platter 0\n",
      "/m/0h8nr_l Bathroom accessory 0\n",
      "/m/0152hh Snowman 0\n",
      "/m/04dr76w Bottle 0\n",
      "/m/01d40f Dress 0\n",
      "/m/02p5f1q Coffee cup 0\n",
      "/m/0449p Jaguar 0\n",
      "/m/0fz0h Honeycomb 0\n",
      "/m/03xxp Invertebrate 0\n",
      "/m/0b_rs Swimming pool 0\n",
      "/m/0dj6p Peach 0\n",
      "/m/07030 Sushi 0\n",
      "/m/0fly7 Jeans 0\n",
      "/m/04zpv Milk 0\n",
      "/m/09tvcd Wine glass 0\n",
      "/m/01j51 Balloon 0\n",
      "/m/02h19r Scarf 0\n",
      "/m/01xyhv Suit 0\n",
      "/m/06zs7 Sniper 0\n",
      "/m/09d5_ Owl 0\n",
      "/m/03p3bw Bicycle helmet 0\n",
      "/m/01h3n Bee 0\n",
      "/m/05n4y Ostrich 0\n",
      "/m/033cnk Egg 0\n",
      "/m/03nfch Sandal 0\n",
      "/m/08q1tg Crash 0\n",
      "/m/09g1w Toilet 0\n",
      "/m/047v4b Artichoke 0\n",
      "/m/06q74 Ship 0\n",
      "/m/04rky Mammal 0\n",
      "/m/03c7gz Door handle 0\n",
      "/m/0m53l Rays and skates 0\n",
      "/m/0mkg Accordion 0\n",
      "/m/05_5p_0 Table tennis racket 0\n",
      "/m/0k05r Court 0\n",
      "/m/046dlr Alarm clock 0\n",
      "/m/07kng9 Picnic basket 0\n",
      "/m/04169hn Wood-burning stove 0\n",
      "/m/017ftj Sunglasses 0\n",
      "/m/0dv77 Squash 0\n",
      "/m/02p3w7d Roller skates 0\n",
      "/m/0c9ph5 Flower 0\n",
      "/m/020jm Beetle 0\n",
      "/m/01226z Football 0\n",
      "/m/09f_2 Crocodile 0\n",
      "/m/01bqk0 Bicycle wheel 0\n",
      "/m/0cn6p Otter 0\n",
      "/m/0130jx Sink 0\n",
      "/m/0h8my_4 Tennis racket 0\n",
      "/m/0fqt361 Stool 0\n",
      "/m/01bfm9 Shorts 0\n",
      "/m/05kms Oboe 0\n",
      "/m/029tx Dinosaur 0\n",
      "/m/0319l Horn 0\n",
      "/m/0jqgx Lily 0\n",
      "/m/03dnzn Bathtub 0\n",
      "/m/02zt3 Kite 0\n",
      "/m/0qb7t Organization 0\n",
      "/m/015qff Traffic light 0\n",
      "/m/0ph39 Canoe 0\n",
      "/m/0qjjc Remote control 0\n",
      "/m/0463sg Fashion accessory 0\n",
      "/m/052sf Mushroom 0\n",
      "/m/02wmf frisbee 0\n",
      "/m/0fldg Mango 0\n",
      "/m/015p6 Bird 0\n",
      "/m/0hnnb Umbrella 0\n",
      "/m/0cjs7 Asparagus 0\n",
      "/m/02gzp Dagger 0\n",
      "/m/035vxb Isopod 0\n",
      "/m/08hvt4 Jug 0\n",
      "/m/01ww8y Snack 0\n",
      "/m/03fp41 Houseplant 0\n",
      "/m/04c2cp Dispatcher 0\n",
      "/m/0gt4z Security guard 0\n",
      "/m/040b_t Refrigerator 0\n",
      "/m/0174n1 Glove 0\n",
      "/m/0gd2v Marine mammal 0\n",
      "/m/02q5pxq Aircraft cabin 0\n",
      "/m/0dbzx Mule 0\n",
      "/m/01d380 Drill 0\n",
      "/m/02wv84t Gas stove 0\n",
      "/m/0fbdv Shellfish 0\n",
      "/m/0gd36 Sea lion 0\n",
      "/m/05y5lj Sports equipment 0\n",
      "/m/0nl46 Crown 0\n",
      "/m/02522 Computer monitor 0\n",
      "/m/01dy8n Woodpecker 0\n",
      "/m/02y6n French fries 0\n",
      "/m/01dws Bear 0\n",
      "/m/01b638 Boot 0\n",
      "/m/02ryw Explosive material 0\n",
      "/m/031b6r Window blind 0\n",
      "/m/0cjq5 Lobster 0\n",
      "/m/04kkgm Bowl 0\n",
      "/m/0nybt Seahorse 0\n",
      "/m/01pns0 Fire hydrant 0\n",
      "/m/06c7f7 Lipstick 0\n",
      "/m/0fx9l Microwave oven 0\n",
      "/m/08p92x Cream 0\n",
      "/m/06ncr Saxophone 0\n",
      "/m/0242l Coin 0\n",
      "/m/071qp Squirrel 0\n",
      "/m/01h44 Bat 0\n",
      "/m/05vtc Potato 0\n",
      "/m/06l9r Red panda 0\n",
      "/m/078n6m Coffee table 0\n",
      "/m/03grzl Baseball glove 0\n",
      "/m/012074 Magpie 0\n",
      "/m/029b3 Dice 0\n",
      "/m/03bk1 Giraffe 0\n",
      "/m/07gql Trumpet 0\n",
      "/m/02w3r3 Paper towel 0\n",
      "/m/02rgn06 Volleyball 0\n",
      "/m/01x_v Camel 0\n",
      "/m/0220r2 Fountain 0\n",
      "/m/0cyf8 Butterfly 0\n",
      "/m/0167gd Doll 0\n",
      "/m/0dt3t Fork 0\n",
      "/m/0d4v4 Window 0\n",
      "/m/01z1kdw Juice 0\n",
      "/m/05gqfk Plastic bag 0\n",
      "/m/07crc Taco 0\n",
      "/m/030610 Treadmill 0\n",
      "/m/0584n8 Briefcase 0\n",
      "/m/057cc Musical keyboard 0\n",
      "/m/06wrt Sailing 0\n",
      "/m/0l14j_ Flute 0\n",
      "/m/02tsc9 Slow cooker 0\n",
      "/m/04v6l4 Frying pan 0\n",
      "/m/02mwm5 Police dog 0\n",
      "/m/03vt0 Insect 0\n",
      "/m/019dx1 Home appliance 0\n",
      "/m/0271qf7 Wine rack 0\n",
      "/m/047b9vj Gps navigation device 0\n",
      "/m/04qvtq Police car 0\n",
      "/m/03ldnb Ceiling fan 0\n",
      "/m/01y9k5 Desk 0\n",
      "/m/03fwl Goat 0\n",
      "/m/02fq_6 Fedora 0\n",
      "/m/04rmv Mouse 0\n",
      "/m/011k07 Tortoise 0\n",
      "/m/07pj7bq Bowling equipment 0\n",
      "/m/09csl Eagle 0\n",
      "/m/05kyg_ Chest of drawers 0\n",
      "/m/0b3fp9 Countertop 0\n",
      "/m/0jy4k Doughnut 0\n",
      "/m/015wgc Croissant 0\n",
      "/m/044r5d Golf ball 0\n",
      "/m/0kpt_ Cantaloupe 0\n",
      "/m/0y8r Armored car 0\n",
      "/m/0c06p Candle 0\n",
      "/m/02crq1 Couch 0\n",
      "/m/0fzyg Aviation 0\n",
      "/m/0ftb8 Sunflower 0\n",
      "/m/084hf Worm 0\n",
      "/m/0_cp5 Oyster 0\n",
      "/m/03m5k Harp 0\n",
      "/m/04yqq2 Bust 0\n",
      "/m/0d8zb Jellyfish 0\n",
      "/m/0hqkz Grapefruit 0\n",
      "/m/09k_b Lemon 0\n",
      "/m/058qzx Kitchen knife 0\n",
      "/m/03kt2w Stationary bicycle 0\n",
      "/m/01b9xk Hot dog 0\n",
      "/m/0fqfqc Drawer 0\n",
      "/m/09j2d Clothing 0\n",
      "/m/09f20 Hippopotamus 0\n",
      "/m/06mf6 Rabbit 0\n",
      "/m/02s195 Vase 0\n",
      "/m/03__z0 Bookcase 0\n",
      "/m/0dq75 Raccoon 0\n",
      "/m/03q69 Hair 0\n",
      "/m/061hd_ Infant bed 0\n",
      "/m/01vbnl Bidet 0\n",
      "/m/012ndj Fire apparatus 0\n",
      "/m/0dzf4 Arm 0\n",
      "/m/084rd Wok 0\n",
      "/m/027rl48 Ladle 0\n",
      "/m/01g3x7 Bow and arrow 0\n",
      "/m/025nd Christmas tree 0\n",
      "/m/08pbxl Monkey 0\n",
      "/m/0jly1 Turkey 0\n",
      "/m/0n28_ Crab 0\n",
      "/m/0bwd_0j Elephant 0\n",
      "/m/0ft9s Dragonfly 0\n",
      "/m/054_l Mirror 0\n",
      "/m/01rkbr Tie 0\n",
      "/m/013m1 Air force 0\n",
      "/m/014j1m Apple 0\n",
      "/m/04g2r Lynx 0\n",
      "/m/0cvnqh Bench 0\n",
      "/m/06nwz Seafood 0\n",
      "/m/0fszt Cake 0\n",
      "/m/0h8n27j Serving tray 0\n",
      "/m/0642b4 Cupboard 0\n",
      "/m/01xq0k1 Cattle 0\n",
      "/m/03s_tn Kettle 0\n",
      "/m/01n4qj Shirt 0\n",
      "/m/0176mf Belt 0\n",
      "/m/0jwn_ Pomegranate 0\n",
      "/m/03tw93 Fireplace 0\n",
      "/m/03bbps Power plugs and sockets 0\n",
      "background background 0\n",
      "/m/021mn Cookie 0\n",
      "/m/01m4t Printer 0\n",
      "/m/0dkw5 Machine 0\n",
      "/m/080hkjn Handbag 0\n",
      "/m/0k0pj Nose 0\n",
      "/m/01jfsr Lantern 0\n",
      "/m/02pjr4 Blender 0\n",
      "/m/024d2 Calculator 0\n",
      "/m/025dyy Box 0\n",
      "/m/0h8l4fh Light bulb 0\n",
      "/m/032b3c Jacket 0\n",
      "/m/0h99cwc Kitchen appliance 0\n",
      "/m/09j5n Footwear 0\n",
      "/m/05zsy Pumpkin 0\n",
      "/m/01_5g Chopsticks 0\n",
      "/m/09ld4 Frog 0\n",
      "/m/0mw_6 Willow 0\n",
      "/m/0h8n6f9 Dog bed 0\n",
      "/m/0cdl1 Palm tree 0\n",
      "/m/0138tl Toy 0\n"
     ]
    },
    {
     "name": "stdout",
     "output_type": "stream",
     "text": [
      "/m/03m4wn Boating 0\n",
      "/m/0cd4d Cheetah 0\n",
      "/m/01dxs Brown bear 0\n",
      "/m/073bxn Tripod 0\n",
      "/m/0bjyj5 Waste container 0\n",
      "/m/0k65p Hand 0\n",
      "/m/073g6 Stethoscope 0\n",
      "/m/02l8p9 Harbor seal 0\n",
      "/m/02x8cch Salt and pepper shakers 0\n",
      "/m/01mqdt Traffic sign 0\n",
      "/m/0h23m Sparrow 0\n",
      "/m/02z51p Nightstand 0\n",
      "/m/019h78 Centipede 0\n",
      "/m/02jvh9 Mug 0\n",
      "/m/04y4h8h Bathroom cabinet 0\n",
      "/m/039xj_ Ear 0\n",
      "/m/04szw Musical instrument 0\n",
      "/m/012ysf Syringe 0\n",
      "/m/02w3_ws Personal care 0\n",
      "/m/07clx Tea 0\n",
      "/m/0_k2 Ant 0\n",
      "/m/0898b Zebra 0\n",
      "/m/0ch_cf Fish 0\n",
      "/m/01j3zr Burrito 0\n",
      "/m/0p833 Perfume 0\n",
      "/m/0cl4p Hedgehog 0\n",
      "/m/012xff Toothbrush 0\n",
      "/m/03jbxj Light switch 0\n",
      "/m/0gjbg72 Shelf 0\n",
      "/m/04cp_ Koala 0\n",
      "/m/02cvgx Winter melon 0\n",
      "/m/07c6l Trombone 0\n",
      "/m/02dl1y Hat 0\n",
      "/m/0wdt60w Rugby ball 0\n",
      "/m/026t6 Drum 0\n",
      "/m/0byj4 Combat 0\n",
      "/m/084zz Whale 0\n",
      "/m/014zdl Explosion 0\n",
      "/m/0245kq Stealth aircraft 0\n",
      "/m/0gj37 Ladybug 0\n",
      "/m/0271t Drink 0\n",
      "/m/01krhy Tiara 0\n",
      "/m/02x984l Mechanical fan 0\n",
      "/m/025sb2w Supersonic aircraft 0\n",
      "/m/03g8mr Baseball bat 0\n",
      "/m/0jg57 Bell pepper 0\n",
      "/m/0fm3zh Flowerpot 0\n",
      "/m/071p9 Ski 0\n",
      "/m/03htg Harbor 0\n",
      "/m/0g02q Courthouse 0\n",
      "/m/01gmv2 Brassiere 0\n",
      "/m/0hkxq Broccoli 0\n",
      "/m/0cmx8 Spoon 0\n",
      "/m/014tl Ammunition 0\n",
      "/m/018xm Ball 0\n",
      "/m/052lwg6 Baked goods 0\n",
      "/m/04h8sr Dumbbell 0\n",
      "/m/01jfm_ Licence plate 0\n",
      "/m/0grw1 Salad 0\n",
      "/m/0270h Dessert 0\n",
      "/m/05z55 Pasta 0\n",
      "/m/015_d Bomber 0\n",
      "/m/0gm28 Candy 0\n",
      "/m/035r7c Leg 0\n",
      "/m/0gv1x Parrot 0\n",
      "/m/0284d Dairy 0\n",
      "/m/01940j Backpack 0\n"
     ]
    }
   ],
   "source": [
    "for i in idx:\n",
    "    print(all_labels[i], mid2name_all[all_labels[i]], len(label_to_img[all_labels[i]]))"
   ]
  },
  {
   "cell_type": "code",
   "execution_count": 13,
   "metadata": {},
   "outputs": [],
   "source": [
    "select_labels = ['/m/01fnck', '/m/019jd', '/m/03120', '/m/02_41', '/m/07cmd', '/m/06q40', '/m/03qtwd', '/m/09x0r', '/m/01xgg_', '/m/08qrwn', '/m/012n4x', '/m/02p16m6', '/m/02lbcq', '/m/09ct_', '/m/0g54v5d', '/m/0bg2p', '/m/0ct4f', '/m/01nd_n', '/m/09rvcxw', '/m/01nl4x', '/m/04ctx', '/m/04ylt', '/m/0gvss07', '/m/01rzcn', '/m/06nrc', '/m/0cyfs', '/m/0f5lx', '/m/04zjc', '/m/0dhz0', '/m/01lcw4', '/m/03htg', '/m/0gxl3', '/m/01bq8v', '/m/0lt4_', '/m/02gzp', '/m/02yjc', '/m/012n7d', '/m/0jb3', '/m/0dwx7', '/m/09g5pq', '/m/02q60ls', '/m/06c54', '/m/03j1ly', '/m/074d1', '/m/01rzcn']"
   ]
  },
  {
   "cell_type": "code",
   "execution_count": null,
   "metadata": {},
   "outputs": [],
   "source": []
  },
  {
   "cell_type": "markdown",
   "metadata": {},
   "source": [
    "## Visualizing Results"
   ]
  },
  {
   "cell_type": "code",
   "execution_count": 14,
   "metadata": {},
   "outputs": [],
   "source": [
    "mid2name_extended = {}\n",
    "extended_classes = set()\n",
    "for key in coco_mids:\n",
    "    for model, abv in [('coco', 'CO'), ('oi', 'OI'), ('ws', 'WS'), ('coco/J', 'CO/J'), ('oi/J', 'OI/J'), ('ws/J', 'WS/J')]:\n",
    "        extended_classes.add(key + '/' + model)\n",
    "        mid2name_extended[key + '/' + model] = mid2name_coco[key] + f' ({abv})'\n",
    "for key in oi_mids:\n",
    "    for model, abv in [('coco', 'CO'), ('oi', 'OI'), ('ws', 'WS'), ('coco/J', 'CO/J'), ('oi/J', 'OI/J'), ('ws/J', 'WS/J')]:\n",
    "        extended_classes.add(key + '/' + model)\n",
    "        mid2name_extended[key + '/' + model] = mid2name_oi[key] + f' ({abv})'\n",
    "for key in ws_mids:\n",
    "    for model, abv in [('coco', 'CO'), ('oi', 'OI'), ('ws', 'WS'), ('coco/J', 'CO/J'), ('oi/J', 'OI/J'), ('ws/J', 'WS/J')]:\n",
    "        extended_classes.add(key + '/' + model)\n",
    "        mid2name_extended[key + '/' + model] = mid2name_ws[key] + f' ({abv})'\n",
    "extended_classes = list(extended_classes)\n",
    "mid2idx_extended = {}\n",
    "for i, key in enumerate(extended_classes):\n",
    "    mid2idx_extended[key] = i\n",
    "category_index_extended = {mid2idx_extended[key]:{'id': mid2idx_extended[key], 'name': mid2name_extended[key]} for key in mid2name_extended}"
   ]
  },
  {
   "cell_type": "code",
   "execution_count": 15,
   "metadata": {},
   "outputs": [],
   "source": [
    "det_results_forviz = copy.deepcopy(det_results_sorted)"
   ]
  },
  {
   "cell_type": "code",
   "execution_count": 16,
   "metadata": {},
   "outputs": [],
   "source": [
    "for key in det_results_forviz:\n",
    "    for i in range(len(det_results_forviz[key]['detection_classes'])):\n",
    "        label = det_results_forviz[key]['detection_classes'][i] + '/' + det_results_forviz[key]['detection_models'][i]\n",
    "        det_results_forviz[key]['detection_classes'][i] = mid2idx_extended[label]\n"
   ]
  },
  {
   "cell_type": "code",
   "execution_count": 17,
   "metadata": {},
   "outputs": [
    {
     "name": "stdout",
     "output_type": "stream",
     "text": [
      "[3320, 2566, 731, 3320, 735, 811, 1576, 4133, 2207, 4395, 2641, 4163, 4304, 3199, 3488, 3751, 3745, 861, 3289, 3401, 1473, 3468, 208, 338, 1497, 250, 3719, 2748, 1348, 3702, 3381, 2778, 545, 544, 4400, 1573, 1064, 440, 1558, 3068, 3809, 4042, 2638, 2517, 2940, 1314, 3650, 4245, 954, 3809, 1753, 3342, 1934, 2948, 1861, 2948, 3796, 516, 1894, 1959, 1535, 3795, 2995, 480, 2566, 1959, 1487, 480, 3124]\n"
     ]
    }
   ],
   "source": [
    "print(det_results_forviz[key]['detection_classes'])"
   ]
  },
  {
   "cell_type": "code",
   "execution_count": null,
   "metadata": {},
   "outputs": [],
   "source": []
  },
  {
   "cell_type": "code",
   "execution_count": 18,
   "metadata": {},
   "outputs": [],
   "source": [
    "def preproc(im):\n",
    "    target_size = 400\n",
    "    max_size = 1024\n",
    "    im_size_min = np.min(im.shape[0:2])\n",
    "    im_size_max = np.max(im.shape[0:2])\n",
    "    im_scale = float(target_size) / float(im_size_min)\n",
    "    # Prevent the biggest axis from being more than MAX_SIZE\n",
    "    if np.round(im_scale * im_size_max) > max_size:\n",
    "        im_scale = float(max_size) / float(im_size_max)\n",
    "    im = cv2.resize(im, None, None, fx=im_scale, fy=im_scale,\n",
    "                    interpolation=cv2.INTER_LINEAR)    \n",
    "    return im"
   ]
  },
  {
   "cell_type": "code",
   "execution_count": null,
   "metadata": {},
   "outputs": [],
   "source": []
  },
  {
   "cell_type": "code",
   "execution_count": 23,
   "metadata": {},
   "outputs": [],
   "source": [
    "with open('../../../../data/seedling/seedling_keyframes/keyframes.txt', 'r') as fin:\n",
    "    test_img_subpaths = [line.strip() for line in fin]"
   ]
  },
  {
   "cell_type": "code",
   "execution_count": 24,
   "metadata": {},
   "outputs": [],
   "source": [
    "test_img_paths = ['../../../../data/seedling/seedling_keyframes/keyframes/' + item for item in test_img_subpaths]"
   ]
  },
  {
   "cell_type": "code",
   "execution_count": 29,
   "metadata": {},
   "outputs": [],
   "source": [
    "kf_id_to_img_path = {path.split('/')[-1].split('.')[0]: path for path in test_img_paths}"
   ]
  },
  {
   "cell_type": "code",
   "execution_count": 30,
   "metadata": {},
   "outputs": [
    {
     "data": {
      "text/plain": [
       "{'v_0FsCYCa23Tv2mw0M_100': '../../../../data/seedling/seedling_keyframes/keyframes/cineast_metadata_part1/v_0FsCYCa23Tv2mw0M/v_0FsCYCa23Tv2mw0M_100.png',\n",
       " 'v_0FsCYCa23Tv2mw0M_101': '../../../../data/seedling/seedling_keyframes/keyframes/cineast_metadata_part1/v_0FsCYCa23Tv2mw0M/v_0FsCYCa23Tv2mw0M_101.png',\n",
       " 'v_0FsCYCa23Tv2mw0M_102': '../../../../data/seedling/seedling_keyframes/keyframes/cineast_metadata_part1/v_0FsCYCa23Tv2mw0M/v_0FsCYCa23Tv2mw0M_102.png',\n",
       " 'v_0FsCYCa23Tv2mw0M_103': '../../../../data/seedling/seedling_keyframes/keyframes/cineast_metadata_part1/v_0FsCYCa23Tv2mw0M/v_0FsCYCa23Tv2mw0M_103.png',\n",
       " 'v_0FsCYCa23Tv2mw0M_104': '../../../../data/seedling/seedling_keyframes/keyframes/cineast_metadata_part1/v_0FsCYCa23Tv2mw0M/v_0FsCYCa23Tv2mw0M_104.png',\n",
       " 'v_0FsCYCa23Tv2mw0M_105': '../../../../data/seedling/seedling_keyframes/keyframes/cineast_metadata_part1/v_0FsCYCa23Tv2mw0M/v_0FsCYCa23Tv2mw0M_105.png',\n",
       " 'v_0FsCYCa23Tv2mw0M_10': '../../../../data/seedling/seedling_keyframes/keyframes/cineast_metadata_part1/v_0FsCYCa23Tv2mw0M/v_0FsCYCa23Tv2mw0M_10.png',\n",
       " 'v_0FsCYCa23Tv2mw0M_11': '../../../../data/seedling/seedling_keyframes/keyframes/cineast_metadata_part1/v_0FsCYCa23Tv2mw0M/v_0FsCYCa23Tv2mw0M_11.png',\n",
       " 'v_0FsCYCa23Tv2mw0M_12': '../../../../data/seedling/seedling_keyframes/keyframes/cineast_metadata_part1/v_0FsCYCa23Tv2mw0M/v_0FsCYCa23Tv2mw0M_12.png',\n",
       " 'v_0FsCYCa23Tv2mw0M_13': '../../../../data/seedling/seedling_keyframes/keyframes/cineast_metadata_part1/v_0FsCYCa23Tv2mw0M/v_0FsCYCa23Tv2mw0M_13.png',\n",
       " 'v_0FsCYCa23Tv2mw0M_14': '../../../../data/seedling/seedling_keyframes/keyframes/cineast_metadata_part1/v_0FsCYCa23Tv2mw0M/v_0FsCYCa23Tv2mw0M_14.png',\n",
       " 'v_0FsCYCa23Tv2mw0M_15': '../../../../data/seedling/seedling_keyframes/keyframes/cineast_metadata_part1/v_0FsCYCa23Tv2mw0M/v_0FsCYCa23Tv2mw0M_15.png',\n",
       " 'v_0FsCYCa23Tv2mw0M_16': '../../../../data/seedling/seedling_keyframes/keyframes/cineast_metadata_part1/v_0FsCYCa23Tv2mw0M/v_0FsCYCa23Tv2mw0M_16.png',\n",
       " 'v_0FsCYCa23Tv2mw0M_17': '../../../../data/seedling/seedling_keyframes/keyframes/cineast_metadata_part1/v_0FsCYCa23Tv2mw0M/v_0FsCYCa23Tv2mw0M_17.png',\n",
       " 'v_0FsCYCa23Tv2mw0M_18': '../../../../data/seedling/seedling_keyframes/keyframes/cineast_metadata_part1/v_0FsCYCa23Tv2mw0M/v_0FsCYCa23Tv2mw0M_18.png',\n",
       " 'v_0FsCYCa23Tv2mw0M_19': '../../../../data/seedling/seedling_keyframes/keyframes/cineast_metadata_part1/v_0FsCYCa23Tv2mw0M/v_0FsCYCa23Tv2mw0M_19.png',\n",
       " 'v_0FsCYCa23Tv2mw0M_1': '../../../../data/seedling/seedling_keyframes/keyframes/cineast_metadata_part1/v_0FsCYCa23Tv2mw0M/v_0FsCYCa23Tv2mw0M_1.png',\n",
       " 'v_0FsCYCa23Tv2mw0M_20': '../../../../data/seedling/seedling_keyframes/keyframes/cineast_metadata_part1/v_0FsCYCa23Tv2mw0M/v_0FsCYCa23Tv2mw0M_20.png',\n",
       " 'v_0FsCYCa23Tv2mw0M_21': '../../../../data/seedling/seedling_keyframes/keyframes/cineast_metadata_part1/v_0FsCYCa23Tv2mw0M/v_0FsCYCa23Tv2mw0M_21.png',\n",
       " 'v_0FsCYCa23Tv2mw0M_22': '../../../../data/seedling/seedling_keyframes/keyframes/cineast_metadata_part1/v_0FsCYCa23Tv2mw0M/v_0FsCYCa23Tv2mw0M_22.png',\n",
       " 'v_0FsCYCa23Tv2mw0M_23': '../../../../data/seedling/seedling_keyframes/keyframes/cineast_metadata_part1/v_0FsCYCa23Tv2mw0M/v_0FsCYCa23Tv2mw0M_23.png',\n",
       " 'v_0FsCYCa23Tv2mw0M_24': '../../../../data/seedling/seedling_keyframes/keyframes/cineast_metadata_part1/v_0FsCYCa23Tv2mw0M/v_0FsCYCa23Tv2mw0M_24.png',\n",
       " 'v_0FsCYCa23Tv2mw0M_25': '../../../../data/seedling/seedling_keyframes/keyframes/cineast_metadata_part1/v_0FsCYCa23Tv2mw0M/v_0FsCYCa23Tv2mw0M_25.png',\n",
       " 'v_0FsCYCa23Tv2mw0M_26': '../../../../data/seedling/seedling_keyframes/keyframes/cineast_metadata_part1/v_0FsCYCa23Tv2mw0M/v_0FsCYCa23Tv2mw0M_26.png',\n",
       " 'v_0FsCYCa23Tv2mw0M_27': '../../../../data/seedling/seedling_keyframes/keyframes/cineast_metadata_part1/v_0FsCYCa23Tv2mw0M/v_0FsCYCa23Tv2mw0M_27.png',\n",
       " 'v_0FsCYCa23Tv2mw0M_28': '../../../../data/seedling/seedling_keyframes/keyframes/cineast_metadata_part1/v_0FsCYCa23Tv2mw0M/v_0FsCYCa23Tv2mw0M_28.png',\n",
       " 'v_0FsCYCa23Tv2mw0M_29': '../../../../data/seedling/seedling_keyframes/keyframes/cineast_metadata_part1/v_0FsCYCa23Tv2mw0M/v_0FsCYCa23Tv2mw0M_29.png',\n",
       " 'v_0FsCYCa23Tv2mw0M_2': '../../../../data/seedling/seedling_keyframes/keyframes/cineast_metadata_part1/v_0FsCYCa23Tv2mw0M/v_0FsCYCa23Tv2mw0M_2.png',\n",
       " 'v_0FsCYCa23Tv2mw0M_30': '../../../../data/seedling/seedling_keyframes/keyframes/cineast_metadata_part1/v_0FsCYCa23Tv2mw0M/v_0FsCYCa23Tv2mw0M_30.png',\n",
       " 'v_0FsCYCa23Tv2mw0M_31': '../../../../data/seedling/seedling_keyframes/keyframes/cineast_metadata_part1/v_0FsCYCa23Tv2mw0M/v_0FsCYCa23Tv2mw0M_31.png',\n",
       " 'v_0FsCYCa23Tv2mw0M_32': '../../../../data/seedling/seedling_keyframes/keyframes/cineast_metadata_part1/v_0FsCYCa23Tv2mw0M/v_0FsCYCa23Tv2mw0M_32.png',\n",
       " 'v_0FsCYCa23Tv2mw0M_33': '../../../../data/seedling/seedling_keyframes/keyframes/cineast_metadata_part1/v_0FsCYCa23Tv2mw0M/v_0FsCYCa23Tv2mw0M_33.png',\n",
       " 'v_0FsCYCa23Tv2mw0M_34': '../../../../data/seedling/seedling_keyframes/keyframes/cineast_metadata_part1/v_0FsCYCa23Tv2mw0M/v_0FsCYCa23Tv2mw0M_34.png',\n",
       " 'v_0FsCYCa23Tv2mw0M_35': '../../../../data/seedling/seedling_keyframes/keyframes/cineast_metadata_part1/v_0FsCYCa23Tv2mw0M/v_0FsCYCa23Tv2mw0M_35.png',\n",
       " 'v_0FsCYCa23Tv2mw0M_36': '../../../../data/seedling/seedling_keyframes/keyframes/cineast_metadata_part1/v_0FsCYCa23Tv2mw0M/v_0FsCYCa23Tv2mw0M_36.png',\n",
       " 'v_0FsCYCa23Tv2mw0M_37': '../../../../data/seedling/seedling_keyframes/keyframes/cineast_metadata_part1/v_0FsCYCa23Tv2mw0M/v_0FsCYCa23Tv2mw0M_37.png',\n",
       " 'v_0FsCYCa23Tv2mw0M_38': '../../../../data/seedling/seedling_keyframes/keyframes/cineast_metadata_part1/v_0FsCYCa23Tv2mw0M/v_0FsCYCa23Tv2mw0M_38.png',\n",
       " 'v_0FsCYCa23Tv2mw0M_39': '../../../../data/seedling/seedling_keyframes/keyframes/cineast_metadata_part1/v_0FsCYCa23Tv2mw0M/v_0FsCYCa23Tv2mw0M_39.png',\n",
       " 'v_0FsCYCa23Tv2mw0M_3': '../../../../data/seedling/seedling_keyframes/keyframes/cineast_metadata_part1/v_0FsCYCa23Tv2mw0M/v_0FsCYCa23Tv2mw0M_3.png',\n",
       " 'v_0FsCYCa23Tv2mw0M_40': '../../../../data/seedling/seedling_keyframes/keyframes/cineast_metadata_part1/v_0FsCYCa23Tv2mw0M/v_0FsCYCa23Tv2mw0M_40.png',\n",
       " 'v_0FsCYCa23Tv2mw0M_41': '../../../../data/seedling/seedling_keyframes/keyframes/cineast_metadata_part1/v_0FsCYCa23Tv2mw0M/v_0FsCYCa23Tv2mw0M_41.png',\n",
       " 'v_0FsCYCa23Tv2mw0M_42': '../../../../data/seedling/seedling_keyframes/keyframes/cineast_metadata_part1/v_0FsCYCa23Tv2mw0M/v_0FsCYCa23Tv2mw0M_42.png',\n",
       " 'v_0FsCYCa23Tv2mw0M_43': '../../../../data/seedling/seedling_keyframes/keyframes/cineast_metadata_part1/v_0FsCYCa23Tv2mw0M/v_0FsCYCa23Tv2mw0M_43.png',\n",
       " 'v_0FsCYCa23Tv2mw0M_44': '../../../../data/seedling/seedling_keyframes/keyframes/cineast_metadata_part1/v_0FsCYCa23Tv2mw0M/v_0FsCYCa23Tv2mw0M_44.png',\n",
       " 'v_0FsCYCa23Tv2mw0M_45': '../../../../data/seedling/seedling_keyframes/keyframes/cineast_metadata_part1/v_0FsCYCa23Tv2mw0M/v_0FsCYCa23Tv2mw0M_45.png',\n",
       " 'v_0FsCYCa23Tv2mw0M_46': '../../../../data/seedling/seedling_keyframes/keyframes/cineast_metadata_part1/v_0FsCYCa23Tv2mw0M/v_0FsCYCa23Tv2mw0M_46.png',\n",
       " 'v_0FsCYCa23Tv2mw0M_47': '../../../../data/seedling/seedling_keyframes/keyframes/cineast_metadata_part1/v_0FsCYCa23Tv2mw0M/v_0FsCYCa23Tv2mw0M_47.png',\n",
       " 'v_0FsCYCa23Tv2mw0M_48': '../../../../data/seedling/seedling_keyframes/keyframes/cineast_metadata_part1/v_0FsCYCa23Tv2mw0M/v_0FsCYCa23Tv2mw0M_48.png',\n",
       " 'v_0FsCYCa23Tv2mw0M_49': '../../../../data/seedling/seedling_keyframes/keyframes/cineast_metadata_part1/v_0FsCYCa23Tv2mw0M/v_0FsCYCa23Tv2mw0M_49.png',\n",
       " 'v_0FsCYCa23Tv2mw0M_4': '../../../../data/seedling/seedling_keyframes/keyframes/cineast_metadata_part1/v_0FsCYCa23Tv2mw0M/v_0FsCYCa23Tv2mw0M_4.png',\n",
       " 'v_0FsCYCa23Tv2mw0M_50': '../../../../data/seedling/seedling_keyframes/keyframes/cineast_metadata_part1/v_0FsCYCa23Tv2mw0M/v_0FsCYCa23Tv2mw0M_50.png',\n",
       " 'v_0FsCYCa23Tv2mw0M_51': '../../../../data/seedling/seedling_keyframes/keyframes/cineast_metadata_part1/v_0FsCYCa23Tv2mw0M/v_0FsCYCa23Tv2mw0M_51.png',\n",
       " 'v_0FsCYCa23Tv2mw0M_52': '../../../../data/seedling/seedling_keyframes/keyframes/cineast_metadata_part1/v_0FsCYCa23Tv2mw0M/v_0FsCYCa23Tv2mw0M_52.png',\n",
       " 'v_0FsCYCa23Tv2mw0M_53': '../../../../data/seedling/seedling_keyframes/keyframes/cineast_metadata_part1/v_0FsCYCa23Tv2mw0M/v_0FsCYCa23Tv2mw0M_53.png',\n",
       " 'v_0FsCYCa23Tv2mw0M_54': '../../../../data/seedling/seedling_keyframes/keyframes/cineast_metadata_part1/v_0FsCYCa23Tv2mw0M/v_0FsCYCa23Tv2mw0M_54.png',\n",
       " 'v_0FsCYCa23Tv2mw0M_55': '../../../../data/seedling/seedling_keyframes/keyframes/cineast_metadata_part1/v_0FsCYCa23Tv2mw0M/v_0FsCYCa23Tv2mw0M_55.png',\n",
       " 'v_0FsCYCa23Tv2mw0M_56': '../../../../data/seedling/seedling_keyframes/keyframes/cineast_metadata_part1/v_0FsCYCa23Tv2mw0M/v_0FsCYCa23Tv2mw0M_56.png',\n",
       " 'v_0FsCYCa23Tv2mw0M_57': '../../../../data/seedling/seedling_keyframes/keyframes/cineast_metadata_part1/v_0FsCYCa23Tv2mw0M/v_0FsCYCa23Tv2mw0M_57.png',\n",
       " 'v_0FsCYCa23Tv2mw0M_58': '../../../../data/seedling/seedling_keyframes/keyframes/cineast_metadata_part1/v_0FsCYCa23Tv2mw0M/v_0FsCYCa23Tv2mw0M_58.png',\n",
       " 'v_0FsCYCa23Tv2mw0M_59': '../../../../data/seedling/seedling_keyframes/keyframes/cineast_metadata_part1/v_0FsCYCa23Tv2mw0M/v_0FsCYCa23Tv2mw0M_59.png',\n",
       " 'v_0FsCYCa23Tv2mw0M_5': '../../../../data/seedling/seedling_keyframes/keyframes/cineast_metadata_part1/v_0FsCYCa23Tv2mw0M/v_0FsCYCa23Tv2mw0M_5.png',\n",
       " 'v_0FsCYCa23Tv2mw0M_60': '../../../../data/seedling/seedling_keyframes/keyframes/cineast_metadata_part1/v_0FsCYCa23Tv2mw0M/v_0FsCYCa23Tv2mw0M_60.png',\n",
       " 'v_0FsCYCa23Tv2mw0M_61': '../../../../data/seedling/seedling_keyframes/keyframes/cineast_metadata_part1/v_0FsCYCa23Tv2mw0M/v_0FsCYCa23Tv2mw0M_61.png',\n",
       " 'v_0FsCYCa23Tv2mw0M_62': '../../../../data/seedling/seedling_keyframes/keyframes/cineast_metadata_part1/v_0FsCYCa23Tv2mw0M/v_0FsCYCa23Tv2mw0M_62.png',\n",
       " 'v_0FsCYCa23Tv2mw0M_63': '../../../../data/seedling/seedling_keyframes/keyframes/cineast_metadata_part1/v_0FsCYCa23Tv2mw0M/v_0FsCYCa23Tv2mw0M_63.png',\n",
       " 'v_0FsCYCa23Tv2mw0M_64': '../../../../data/seedling/seedling_keyframes/keyframes/cineast_metadata_part1/v_0FsCYCa23Tv2mw0M/v_0FsCYCa23Tv2mw0M_64.png',\n",
       " 'v_0FsCYCa23Tv2mw0M_65': '../../../../data/seedling/seedling_keyframes/keyframes/cineast_metadata_part1/v_0FsCYCa23Tv2mw0M/v_0FsCYCa23Tv2mw0M_65.png',\n",
       " 'v_0FsCYCa23Tv2mw0M_66': '../../../../data/seedling/seedling_keyframes/keyframes/cineast_metadata_part1/v_0FsCYCa23Tv2mw0M/v_0FsCYCa23Tv2mw0M_66.png',\n",
       " 'v_0FsCYCa23Tv2mw0M_67': '../../../../data/seedling/seedling_keyframes/keyframes/cineast_metadata_part1/v_0FsCYCa23Tv2mw0M/v_0FsCYCa23Tv2mw0M_67.png',\n",
       " 'v_0FsCYCa23Tv2mw0M_68': '../../../../data/seedling/seedling_keyframes/keyframes/cineast_metadata_part1/v_0FsCYCa23Tv2mw0M/v_0FsCYCa23Tv2mw0M_68.png',\n",
       " 'v_0FsCYCa23Tv2mw0M_69': '../../../../data/seedling/seedling_keyframes/keyframes/cineast_metadata_part1/v_0FsCYCa23Tv2mw0M/v_0FsCYCa23Tv2mw0M_69.png',\n",
       " 'v_0FsCYCa23Tv2mw0M_6': '../../../../data/seedling/seedling_keyframes/keyframes/cineast_metadata_part1/v_0FsCYCa23Tv2mw0M/v_0FsCYCa23Tv2mw0M_6.png',\n",
       " 'v_0FsCYCa23Tv2mw0M_70': '../../../../data/seedling/seedling_keyframes/keyframes/cineast_metadata_part1/v_0FsCYCa23Tv2mw0M/v_0FsCYCa23Tv2mw0M_70.png',\n",
       " 'v_0FsCYCa23Tv2mw0M_71': '../../../../data/seedling/seedling_keyframes/keyframes/cineast_metadata_part1/v_0FsCYCa23Tv2mw0M/v_0FsCYCa23Tv2mw0M_71.png',\n",
       " 'v_0FsCYCa23Tv2mw0M_72': '../../../../data/seedling/seedling_keyframes/keyframes/cineast_metadata_part1/v_0FsCYCa23Tv2mw0M/v_0FsCYCa23Tv2mw0M_72.png',\n",
       " 'v_0FsCYCa23Tv2mw0M_73': '../../../../data/seedling/seedling_keyframes/keyframes/cineast_metadata_part1/v_0FsCYCa23Tv2mw0M/v_0FsCYCa23Tv2mw0M_73.png',\n",
       " 'v_0FsCYCa23Tv2mw0M_74': '../../../../data/seedling/seedling_keyframes/keyframes/cineast_metadata_part1/v_0FsCYCa23Tv2mw0M/v_0FsCYCa23Tv2mw0M_74.png',\n",
       " 'v_0FsCYCa23Tv2mw0M_75': '../../../../data/seedling/seedling_keyframes/keyframes/cineast_metadata_part1/v_0FsCYCa23Tv2mw0M/v_0FsCYCa23Tv2mw0M_75.png',\n",
       " 'v_0FsCYCa23Tv2mw0M_76': '../../../../data/seedling/seedling_keyframes/keyframes/cineast_metadata_part1/v_0FsCYCa23Tv2mw0M/v_0FsCYCa23Tv2mw0M_76.png',\n",
       " 'v_0FsCYCa23Tv2mw0M_77': '../../../../data/seedling/seedling_keyframes/keyframes/cineast_metadata_part1/v_0FsCYCa23Tv2mw0M/v_0FsCYCa23Tv2mw0M_77.png',\n",
       " 'v_0FsCYCa23Tv2mw0M_78': '../../../../data/seedling/seedling_keyframes/keyframes/cineast_metadata_part1/v_0FsCYCa23Tv2mw0M/v_0FsCYCa23Tv2mw0M_78.png',\n",
       " 'v_0FsCYCa23Tv2mw0M_79': '../../../../data/seedling/seedling_keyframes/keyframes/cineast_metadata_part1/v_0FsCYCa23Tv2mw0M/v_0FsCYCa23Tv2mw0M_79.png',\n",
       " 'v_0FsCYCa23Tv2mw0M_7': '../../../../data/seedling/seedling_keyframes/keyframes/cineast_metadata_part1/v_0FsCYCa23Tv2mw0M/v_0FsCYCa23Tv2mw0M_7.png',\n",
       " 'v_0FsCYCa23Tv2mw0M_80': '../../../../data/seedling/seedling_keyframes/keyframes/cineast_metadata_part1/v_0FsCYCa23Tv2mw0M/v_0FsCYCa23Tv2mw0M_80.png',\n",
       " 'v_0FsCYCa23Tv2mw0M_81': '../../../../data/seedling/seedling_keyframes/keyframes/cineast_metadata_part1/v_0FsCYCa23Tv2mw0M/v_0FsCYCa23Tv2mw0M_81.png',\n",
       " 'v_0FsCYCa23Tv2mw0M_82': '../../../../data/seedling/seedling_keyframes/keyframes/cineast_metadata_part1/v_0FsCYCa23Tv2mw0M/v_0FsCYCa23Tv2mw0M_82.png',\n",
       " 'v_0FsCYCa23Tv2mw0M_83': '../../../../data/seedling/seedling_keyframes/keyframes/cineast_metadata_part1/v_0FsCYCa23Tv2mw0M/v_0FsCYCa23Tv2mw0M_83.png',\n",
       " 'v_0FsCYCa23Tv2mw0M_84': '../../../../data/seedling/seedling_keyframes/keyframes/cineast_metadata_part1/v_0FsCYCa23Tv2mw0M/v_0FsCYCa23Tv2mw0M_84.png',\n",
       " 'v_0FsCYCa23Tv2mw0M_85': '../../../../data/seedling/seedling_keyframes/keyframes/cineast_metadata_part1/v_0FsCYCa23Tv2mw0M/v_0FsCYCa23Tv2mw0M_85.png',\n",
       " 'v_0FsCYCa23Tv2mw0M_86': '../../../../data/seedling/seedling_keyframes/keyframes/cineast_metadata_part1/v_0FsCYCa23Tv2mw0M/v_0FsCYCa23Tv2mw0M_86.png',\n",
       " 'v_0FsCYCa23Tv2mw0M_87': '../../../../data/seedling/seedling_keyframes/keyframes/cineast_metadata_part1/v_0FsCYCa23Tv2mw0M/v_0FsCYCa23Tv2mw0M_87.png',\n",
       " 'v_0FsCYCa23Tv2mw0M_88': '../../../../data/seedling/seedling_keyframes/keyframes/cineast_metadata_part1/v_0FsCYCa23Tv2mw0M/v_0FsCYCa23Tv2mw0M_88.png',\n",
       " 'v_0FsCYCa23Tv2mw0M_89': '../../../../data/seedling/seedling_keyframes/keyframes/cineast_metadata_part1/v_0FsCYCa23Tv2mw0M/v_0FsCYCa23Tv2mw0M_89.png',\n",
       " 'v_0FsCYCa23Tv2mw0M_8': '../../../../data/seedling/seedling_keyframes/keyframes/cineast_metadata_part1/v_0FsCYCa23Tv2mw0M/v_0FsCYCa23Tv2mw0M_8.png',\n",
       " 'v_0FsCYCa23Tv2mw0M_90': '../../../../data/seedling/seedling_keyframes/keyframes/cineast_metadata_part1/v_0FsCYCa23Tv2mw0M/v_0FsCYCa23Tv2mw0M_90.png',\n",
       " 'v_0FsCYCa23Tv2mw0M_91': '../../../../data/seedling/seedling_keyframes/keyframes/cineast_metadata_part1/v_0FsCYCa23Tv2mw0M/v_0FsCYCa23Tv2mw0M_91.png',\n",
       " 'v_0FsCYCa23Tv2mw0M_92': '../../../../data/seedling/seedling_keyframes/keyframes/cineast_metadata_part1/v_0FsCYCa23Tv2mw0M/v_0FsCYCa23Tv2mw0M_92.png',\n",
       " 'v_0FsCYCa23Tv2mw0M_93': '../../../../data/seedling/seedling_keyframes/keyframes/cineast_metadata_part1/v_0FsCYCa23Tv2mw0M/v_0FsCYCa23Tv2mw0M_93.png',\n",
       " 'v_0FsCYCa23Tv2mw0M_94': '../../../../data/seedling/seedling_keyframes/keyframes/cineast_metadata_part1/v_0FsCYCa23Tv2mw0M/v_0FsCYCa23Tv2mw0M_94.png',\n",
       " 'v_0FsCYCa23Tv2mw0M_95': '../../../../data/seedling/seedling_keyframes/keyframes/cineast_metadata_part1/v_0FsCYCa23Tv2mw0M/v_0FsCYCa23Tv2mw0M_95.png',\n",
       " 'v_0FsCYCa23Tv2mw0M_96': '../../../../data/seedling/seedling_keyframes/keyframes/cineast_metadata_part1/v_0FsCYCa23Tv2mw0M/v_0FsCYCa23Tv2mw0M_96.png',\n",
       " 'v_0FsCYCa23Tv2mw0M_97': '../../../../data/seedling/seedling_keyframes/keyframes/cineast_metadata_part1/v_0FsCYCa23Tv2mw0M/v_0FsCYCa23Tv2mw0M_97.png',\n",
       " 'v_0FsCYCa23Tv2mw0M_98': '../../../../data/seedling/seedling_keyframes/keyframes/cineast_metadata_part1/v_0FsCYCa23Tv2mw0M/v_0FsCYCa23Tv2mw0M_98.png',\n",
       " 'v_0FsCYCa23Tv2mw0M_99': '../../../../data/seedling/seedling_keyframes/keyframes/cineast_metadata_part1/v_0FsCYCa23Tv2mw0M/v_0FsCYCa23Tv2mw0M_99.png',\n",
       " 'v_0FsCYCa23Tv2mw0M_9': '../../../../data/seedling/seedling_keyframes/keyframes/cineast_metadata_part1/v_0FsCYCa23Tv2mw0M/v_0FsCYCa23Tv2mw0M_9.png',\n",
       " 'v_0qOiysuRRO8aBdg1_100': '../../../../data/seedling/seedling_keyframes/keyframes/cineast_metadata_part1/v_0qOiysuRRO8aBdg1/v_0qOiysuRRO8aBdg1_100.png',\n",
       " 'v_0qOiysuRRO8aBdg1_101': '../../../../data/seedling/seedling_keyframes/keyframes/cineast_metadata_part1/v_0qOiysuRRO8aBdg1/v_0qOiysuRRO8aBdg1_101.png',\n",
       " 'v_0qOiysuRRO8aBdg1_102': '../../../../data/seedling/seedling_keyframes/keyframes/cineast_metadata_part1/v_0qOiysuRRO8aBdg1/v_0qOiysuRRO8aBdg1_102.png',\n",
       " 'v_0qOiysuRRO8aBdg1_103': '../../../../data/seedling/seedling_keyframes/keyframes/cineast_metadata_part1/v_0qOiysuRRO8aBdg1/v_0qOiysuRRO8aBdg1_103.png',\n",
       " 'v_0qOiysuRRO8aBdg1_104': '../../../../data/seedling/seedling_keyframes/keyframes/cineast_metadata_part1/v_0qOiysuRRO8aBdg1/v_0qOiysuRRO8aBdg1_104.png',\n",
       " 'v_0qOiysuRRO8aBdg1_105': '../../../../data/seedling/seedling_keyframes/keyframes/cineast_metadata_part1/v_0qOiysuRRO8aBdg1/v_0qOiysuRRO8aBdg1_105.png',\n",
       " 'v_0qOiysuRRO8aBdg1_106': '../../../../data/seedling/seedling_keyframes/keyframes/cineast_metadata_part1/v_0qOiysuRRO8aBdg1/v_0qOiysuRRO8aBdg1_106.png',\n",
       " 'v_0qOiysuRRO8aBdg1_107': '../../../../data/seedling/seedling_keyframes/keyframes/cineast_metadata_part1/v_0qOiysuRRO8aBdg1/v_0qOiysuRRO8aBdg1_107.png',\n",
       " 'v_0qOiysuRRO8aBdg1_108': '../../../../data/seedling/seedling_keyframes/keyframes/cineast_metadata_part1/v_0qOiysuRRO8aBdg1/v_0qOiysuRRO8aBdg1_108.png',\n",
       " 'v_0qOiysuRRO8aBdg1_109': '../../../../data/seedling/seedling_keyframes/keyframes/cineast_metadata_part1/v_0qOiysuRRO8aBdg1/v_0qOiysuRRO8aBdg1_109.png',\n",
       " 'v_0qOiysuRRO8aBdg1_10': '../../../../data/seedling/seedling_keyframes/keyframes/cineast_metadata_part1/v_0qOiysuRRO8aBdg1/v_0qOiysuRRO8aBdg1_10.png',\n",
       " 'v_0qOiysuRRO8aBdg1_110': '../../../../data/seedling/seedling_keyframes/keyframes/cineast_metadata_part1/v_0qOiysuRRO8aBdg1/v_0qOiysuRRO8aBdg1_110.png',\n",
       " 'v_0qOiysuRRO8aBdg1_111': '../../../../data/seedling/seedling_keyframes/keyframes/cineast_metadata_part1/v_0qOiysuRRO8aBdg1/v_0qOiysuRRO8aBdg1_111.png',\n",
       " 'v_0qOiysuRRO8aBdg1_112': '../../../../data/seedling/seedling_keyframes/keyframes/cineast_metadata_part1/v_0qOiysuRRO8aBdg1/v_0qOiysuRRO8aBdg1_112.png',\n",
       " 'v_0qOiysuRRO8aBdg1_113': '../../../../data/seedling/seedling_keyframes/keyframes/cineast_metadata_part1/v_0qOiysuRRO8aBdg1/v_0qOiysuRRO8aBdg1_113.png',\n",
       " 'v_0qOiysuRRO8aBdg1_114': '../../../../data/seedling/seedling_keyframes/keyframes/cineast_metadata_part1/v_0qOiysuRRO8aBdg1/v_0qOiysuRRO8aBdg1_114.png',\n",
       " 'v_0qOiysuRRO8aBdg1_115': '../../../../data/seedling/seedling_keyframes/keyframes/cineast_metadata_part1/v_0qOiysuRRO8aBdg1/v_0qOiysuRRO8aBdg1_115.png',\n",
       " 'v_0qOiysuRRO8aBdg1_116': '../../../../data/seedling/seedling_keyframes/keyframes/cineast_metadata_part1/v_0qOiysuRRO8aBdg1/v_0qOiysuRRO8aBdg1_116.png',\n",
       " 'v_0qOiysuRRO8aBdg1_117': '../../../../data/seedling/seedling_keyframes/keyframes/cineast_metadata_part1/v_0qOiysuRRO8aBdg1/v_0qOiysuRRO8aBdg1_117.png',\n",
       " 'v_0qOiysuRRO8aBdg1_118': '../../../../data/seedling/seedling_keyframes/keyframes/cineast_metadata_part1/v_0qOiysuRRO8aBdg1/v_0qOiysuRRO8aBdg1_118.png',\n",
       " 'v_0qOiysuRRO8aBdg1_119': '../../../../data/seedling/seedling_keyframes/keyframes/cineast_metadata_part1/v_0qOiysuRRO8aBdg1/v_0qOiysuRRO8aBdg1_119.png',\n",
       " 'v_0qOiysuRRO8aBdg1_11': '../../../../data/seedling/seedling_keyframes/keyframes/cineast_metadata_part1/v_0qOiysuRRO8aBdg1/v_0qOiysuRRO8aBdg1_11.png',\n",
       " 'v_0qOiysuRRO8aBdg1_120': '../../../../data/seedling/seedling_keyframes/keyframes/cineast_metadata_part1/v_0qOiysuRRO8aBdg1/v_0qOiysuRRO8aBdg1_120.png',\n",
       " 'v_0qOiysuRRO8aBdg1_121': '../../../../data/seedling/seedling_keyframes/keyframes/cineast_metadata_part1/v_0qOiysuRRO8aBdg1/v_0qOiysuRRO8aBdg1_121.png',\n",
       " 'v_0qOiysuRRO8aBdg1_122': '../../../../data/seedling/seedling_keyframes/keyframes/cineast_metadata_part1/v_0qOiysuRRO8aBdg1/v_0qOiysuRRO8aBdg1_122.png',\n",
       " 'v_0qOiysuRRO8aBdg1_123': '../../../../data/seedling/seedling_keyframes/keyframes/cineast_metadata_part1/v_0qOiysuRRO8aBdg1/v_0qOiysuRRO8aBdg1_123.png',\n",
       " 'v_0qOiysuRRO8aBdg1_124': '../../../../data/seedling/seedling_keyframes/keyframes/cineast_metadata_part1/v_0qOiysuRRO8aBdg1/v_0qOiysuRRO8aBdg1_124.png',\n",
       " 'v_0qOiysuRRO8aBdg1_125': '../../../../data/seedling/seedling_keyframes/keyframes/cineast_metadata_part1/v_0qOiysuRRO8aBdg1/v_0qOiysuRRO8aBdg1_125.png',\n",
       " 'v_0qOiysuRRO8aBdg1_126': '../../../../data/seedling/seedling_keyframes/keyframes/cineast_metadata_part1/v_0qOiysuRRO8aBdg1/v_0qOiysuRRO8aBdg1_126.png',\n",
       " 'v_0qOiysuRRO8aBdg1_127': '../../../../data/seedling/seedling_keyframes/keyframes/cineast_metadata_part1/v_0qOiysuRRO8aBdg1/v_0qOiysuRRO8aBdg1_127.png',\n",
       " 'v_0qOiysuRRO8aBdg1_128': '../../../../data/seedling/seedling_keyframes/keyframes/cineast_metadata_part1/v_0qOiysuRRO8aBdg1/v_0qOiysuRRO8aBdg1_128.png',\n",
       " 'v_0qOiysuRRO8aBdg1_129': '../../../../data/seedling/seedling_keyframes/keyframes/cineast_metadata_part1/v_0qOiysuRRO8aBdg1/v_0qOiysuRRO8aBdg1_129.png',\n",
       " 'v_0qOiysuRRO8aBdg1_12': '../../../../data/seedling/seedling_keyframes/keyframes/cineast_metadata_part1/v_0qOiysuRRO8aBdg1/v_0qOiysuRRO8aBdg1_12.png',\n",
       " 'v_0qOiysuRRO8aBdg1_130': '../../../../data/seedling/seedling_keyframes/keyframes/cineast_metadata_part1/v_0qOiysuRRO8aBdg1/v_0qOiysuRRO8aBdg1_130.png',\n",
       " 'v_0qOiysuRRO8aBdg1_131': '../../../../data/seedling/seedling_keyframes/keyframes/cineast_metadata_part1/v_0qOiysuRRO8aBdg1/v_0qOiysuRRO8aBdg1_131.png',\n",
       " 'v_0qOiysuRRO8aBdg1_132': '../../../../data/seedling/seedling_keyframes/keyframes/cineast_metadata_part1/v_0qOiysuRRO8aBdg1/v_0qOiysuRRO8aBdg1_132.png',\n",
       " 'v_0qOiysuRRO8aBdg1_133': '../../../../data/seedling/seedling_keyframes/keyframes/cineast_metadata_part1/v_0qOiysuRRO8aBdg1/v_0qOiysuRRO8aBdg1_133.png',\n",
       " 'v_0qOiysuRRO8aBdg1_134': '../../../../data/seedling/seedling_keyframes/keyframes/cineast_metadata_part1/v_0qOiysuRRO8aBdg1/v_0qOiysuRRO8aBdg1_134.png',\n",
       " 'v_0qOiysuRRO8aBdg1_135': '../../../../data/seedling/seedling_keyframes/keyframes/cineast_metadata_part1/v_0qOiysuRRO8aBdg1/v_0qOiysuRRO8aBdg1_135.png',\n",
       " 'v_0qOiysuRRO8aBdg1_136': '../../../../data/seedling/seedling_keyframes/keyframes/cineast_metadata_part1/v_0qOiysuRRO8aBdg1/v_0qOiysuRRO8aBdg1_136.png',\n",
       " 'v_0qOiysuRRO8aBdg1_137': '../../../../data/seedling/seedling_keyframes/keyframes/cineast_metadata_part1/v_0qOiysuRRO8aBdg1/v_0qOiysuRRO8aBdg1_137.png',\n",
       " 'v_0qOiysuRRO8aBdg1_138': '../../../../data/seedling/seedling_keyframes/keyframes/cineast_metadata_part1/v_0qOiysuRRO8aBdg1/v_0qOiysuRRO8aBdg1_138.png',\n",
       " 'v_0qOiysuRRO8aBdg1_139': '../../../../data/seedling/seedling_keyframes/keyframes/cineast_metadata_part1/v_0qOiysuRRO8aBdg1/v_0qOiysuRRO8aBdg1_139.png',\n",
       " 'v_0qOiysuRRO8aBdg1_13': '../../../../data/seedling/seedling_keyframes/keyframes/cineast_metadata_part1/v_0qOiysuRRO8aBdg1/v_0qOiysuRRO8aBdg1_13.png',\n",
       " 'v_0qOiysuRRO8aBdg1_140': '../../../../data/seedling/seedling_keyframes/keyframes/cineast_metadata_part1/v_0qOiysuRRO8aBdg1/v_0qOiysuRRO8aBdg1_140.png',\n",
       " 'v_0qOiysuRRO8aBdg1_141': '../../../../data/seedling/seedling_keyframes/keyframes/cineast_metadata_part1/v_0qOiysuRRO8aBdg1/v_0qOiysuRRO8aBdg1_141.png',\n",
       " 'v_0qOiysuRRO8aBdg1_142': '../../../../data/seedling/seedling_keyframes/keyframes/cineast_metadata_part1/v_0qOiysuRRO8aBdg1/v_0qOiysuRRO8aBdg1_142.png',\n",
       " 'v_0qOiysuRRO8aBdg1_143': '../../../../data/seedling/seedling_keyframes/keyframes/cineast_metadata_part1/v_0qOiysuRRO8aBdg1/v_0qOiysuRRO8aBdg1_143.png',\n",
       " 'v_0qOiysuRRO8aBdg1_144': '../../../../data/seedling/seedling_keyframes/keyframes/cineast_metadata_part1/v_0qOiysuRRO8aBdg1/v_0qOiysuRRO8aBdg1_144.png',\n",
       " 'v_0qOiysuRRO8aBdg1_145': '../../../../data/seedling/seedling_keyframes/keyframes/cineast_metadata_part1/v_0qOiysuRRO8aBdg1/v_0qOiysuRRO8aBdg1_145.png',\n",
       " 'v_0qOiysuRRO8aBdg1_146': '../../../../data/seedling/seedling_keyframes/keyframes/cineast_metadata_part1/v_0qOiysuRRO8aBdg1/v_0qOiysuRRO8aBdg1_146.png',\n",
       " 'v_0qOiysuRRO8aBdg1_147': '../../../../data/seedling/seedling_keyframes/keyframes/cineast_metadata_part1/v_0qOiysuRRO8aBdg1/v_0qOiysuRRO8aBdg1_147.png',\n",
       " 'v_0qOiysuRRO8aBdg1_148': '../../../../data/seedling/seedling_keyframes/keyframes/cineast_metadata_part1/v_0qOiysuRRO8aBdg1/v_0qOiysuRRO8aBdg1_148.png',\n",
       " 'v_0qOiysuRRO8aBdg1_149': '../../../../data/seedling/seedling_keyframes/keyframes/cineast_metadata_part1/v_0qOiysuRRO8aBdg1/v_0qOiysuRRO8aBdg1_149.png',\n",
       " 'v_0qOiysuRRO8aBdg1_14': '../../../../data/seedling/seedling_keyframes/keyframes/cineast_metadata_part1/v_0qOiysuRRO8aBdg1/v_0qOiysuRRO8aBdg1_14.png',\n",
       " 'v_0qOiysuRRO8aBdg1_150': '../../../../data/seedling/seedling_keyframes/keyframes/cineast_metadata_part1/v_0qOiysuRRO8aBdg1/v_0qOiysuRRO8aBdg1_150.png',\n",
       " 'v_0qOiysuRRO8aBdg1_151': '../../../../data/seedling/seedling_keyframes/keyframes/cineast_metadata_part1/v_0qOiysuRRO8aBdg1/v_0qOiysuRRO8aBdg1_151.png',\n",
       " 'v_0qOiysuRRO8aBdg1_152': '../../../../data/seedling/seedling_keyframes/keyframes/cineast_metadata_part1/v_0qOiysuRRO8aBdg1/v_0qOiysuRRO8aBdg1_152.png',\n",
       " 'v_0qOiysuRRO8aBdg1_153': '../../../../data/seedling/seedling_keyframes/keyframes/cineast_metadata_part1/v_0qOiysuRRO8aBdg1/v_0qOiysuRRO8aBdg1_153.png',\n",
       " 'v_0qOiysuRRO8aBdg1_154': '../../../../data/seedling/seedling_keyframes/keyframes/cineast_metadata_part1/v_0qOiysuRRO8aBdg1/v_0qOiysuRRO8aBdg1_154.png',\n",
       " 'v_0qOiysuRRO8aBdg1_155': '../../../../data/seedling/seedling_keyframes/keyframes/cineast_metadata_part1/v_0qOiysuRRO8aBdg1/v_0qOiysuRRO8aBdg1_155.png',\n",
       " 'v_0qOiysuRRO8aBdg1_156': '../../../../data/seedling/seedling_keyframes/keyframes/cineast_metadata_part1/v_0qOiysuRRO8aBdg1/v_0qOiysuRRO8aBdg1_156.png',\n",
       " 'v_0qOiysuRRO8aBdg1_157': '../../../../data/seedling/seedling_keyframes/keyframes/cineast_metadata_part1/v_0qOiysuRRO8aBdg1/v_0qOiysuRRO8aBdg1_157.png',\n",
       " 'v_0qOiysuRRO8aBdg1_158': '../../../../data/seedling/seedling_keyframes/keyframes/cineast_metadata_part1/v_0qOiysuRRO8aBdg1/v_0qOiysuRRO8aBdg1_158.png',\n",
       " 'v_0qOiysuRRO8aBdg1_159': '../../../../data/seedling/seedling_keyframes/keyframes/cineast_metadata_part1/v_0qOiysuRRO8aBdg1/v_0qOiysuRRO8aBdg1_159.png',\n",
       " 'v_0qOiysuRRO8aBdg1_15': '../../../../data/seedling/seedling_keyframes/keyframes/cineast_metadata_part1/v_0qOiysuRRO8aBdg1/v_0qOiysuRRO8aBdg1_15.png',\n",
       " 'v_0qOiysuRRO8aBdg1_160': '../../../../data/seedling/seedling_keyframes/keyframes/cineast_metadata_part1/v_0qOiysuRRO8aBdg1/v_0qOiysuRRO8aBdg1_160.png',\n",
       " 'v_0qOiysuRRO8aBdg1_161': '../../../../data/seedling/seedling_keyframes/keyframes/cineast_metadata_part1/v_0qOiysuRRO8aBdg1/v_0qOiysuRRO8aBdg1_161.png',\n",
       " 'v_0qOiysuRRO8aBdg1_162': '../../../../data/seedling/seedling_keyframes/keyframes/cineast_metadata_part1/v_0qOiysuRRO8aBdg1/v_0qOiysuRRO8aBdg1_162.png',\n",
       " 'v_0qOiysuRRO8aBdg1_163': '../../../../data/seedling/seedling_keyframes/keyframes/cineast_metadata_part1/v_0qOiysuRRO8aBdg1/v_0qOiysuRRO8aBdg1_163.png',\n",
       " 'v_0qOiysuRRO8aBdg1_164': '../../../../data/seedling/seedling_keyframes/keyframes/cineast_metadata_part1/v_0qOiysuRRO8aBdg1/v_0qOiysuRRO8aBdg1_164.png',\n",
       " 'v_0qOiysuRRO8aBdg1_165': '../../../../data/seedling/seedling_keyframes/keyframes/cineast_metadata_part1/v_0qOiysuRRO8aBdg1/v_0qOiysuRRO8aBdg1_165.png',\n",
       " 'v_0qOiysuRRO8aBdg1_166': '../../../../data/seedling/seedling_keyframes/keyframes/cineast_metadata_part1/v_0qOiysuRRO8aBdg1/v_0qOiysuRRO8aBdg1_166.png',\n",
       " 'v_0qOiysuRRO8aBdg1_167': '../../../../data/seedling/seedling_keyframes/keyframes/cineast_metadata_part1/v_0qOiysuRRO8aBdg1/v_0qOiysuRRO8aBdg1_167.png',\n",
       " 'v_0qOiysuRRO8aBdg1_168': '../../../../data/seedling/seedling_keyframes/keyframes/cineast_metadata_part1/v_0qOiysuRRO8aBdg1/v_0qOiysuRRO8aBdg1_168.png',\n",
       " 'v_0qOiysuRRO8aBdg1_169': '../../../../data/seedling/seedling_keyframes/keyframes/cineast_metadata_part1/v_0qOiysuRRO8aBdg1/v_0qOiysuRRO8aBdg1_169.png',\n",
       " 'v_0qOiysuRRO8aBdg1_16': '../../../../data/seedling/seedling_keyframes/keyframes/cineast_metadata_part1/v_0qOiysuRRO8aBdg1/v_0qOiysuRRO8aBdg1_16.png',\n",
       " 'v_0qOiysuRRO8aBdg1_170': '../../../../data/seedling/seedling_keyframes/keyframes/cineast_metadata_part1/v_0qOiysuRRO8aBdg1/v_0qOiysuRRO8aBdg1_170.png',\n",
       " 'v_0qOiysuRRO8aBdg1_171': '../../../../data/seedling/seedling_keyframes/keyframes/cineast_metadata_part1/v_0qOiysuRRO8aBdg1/v_0qOiysuRRO8aBdg1_171.png',\n",
       " 'v_0qOiysuRRO8aBdg1_172': '../../../../data/seedling/seedling_keyframes/keyframes/cineast_metadata_part1/v_0qOiysuRRO8aBdg1/v_0qOiysuRRO8aBdg1_172.png',\n",
       " 'v_0qOiysuRRO8aBdg1_173': '../../../../data/seedling/seedling_keyframes/keyframes/cineast_metadata_part1/v_0qOiysuRRO8aBdg1/v_0qOiysuRRO8aBdg1_173.png',\n",
       " 'v_0qOiysuRRO8aBdg1_174': '../../../../data/seedling/seedling_keyframes/keyframes/cineast_metadata_part1/v_0qOiysuRRO8aBdg1/v_0qOiysuRRO8aBdg1_174.png',\n",
       " 'v_0qOiysuRRO8aBdg1_175': '../../../../data/seedling/seedling_keyframes/keyframes/cineast_metadata_part1/v_0qOiysuRRO8aBdg1/v_0qOiysuRRO8aBdg1_175.png',\n",
       " 'v_0qOiysuRRO8aBdg1_176': '../../../../data/seedling/seedling_keyframes/keyframes/cineast_metadata_part1/v_0qOiysuRRO8aBdg1/v_0qOiysuRRO8aBdg1_176.png',\n",
       " 'v_0qOiysuRRO8aBdg1_177': '../../../../data/seedling/seedling_keyframes/keyframes/cineast_metadata_part1/v_0qOiysuRRO8aBdg1/v_0qOiysuRRO8aBdg1_177.png',\n",
       " 'v_0qOiysuRRO8aBdg1_178': '../../../../data/seedling/seedling_keyframes/keyframes/cineast_metadata_part1/v_0qOiysuRRO8aBdg1/v_0qOiysuRRO8aBdg1_178.png',\n",
       " 'v_0qOiysuRRO8aBdg1_179': '../../../../data/seedling/seedling_keyframes/keyframes/cineast_metadata_part1/v_0qOiysuRRO8aBdg1/v_0qOiysuRRO8aBdg1_179.png',\n",
       " 'v_0qOiysuRRO8aBdg1_17': '../../../../data/seedling/seedling_keyframes/keyframes/cineast_metadata_part1/v_0qOiysuRRO8aBdg1/v_0qOiysuRRO8aBdg1_17.png',\n",
       " 'v_0qOiysuRRO8aBdg1_180': '../../../../data/seedling/seedling_keyframes/keyframes/cineast_metadata_part1/v_0qOiysuRRO8aBdg1/v_0qOiysuRRO8aBdg1_180.png',\n",
       " 'v_0qOiysuRRO8aBdg1_181': '../../../../data/seedling/seedling_keyframes/keyframes/cineast_metadata_part1/v_0qOiysuRRO8aBdg1/v_0qOiysuRRO8aBdg1_181.png',\n",
       " 'v_0qOiysuRRO8aBdg1_182': '../../../../data/seedling/seedling_keyframes/keyframes/cineast_metadata_part1/v_0qOiysuRRO8aBdg1/v_0qOiysuRRO8aBdg1_182.png',\n",
       " 'v_0qOiysuRRO8aBdg1_183': '../../../../data/seedling/seedling_keyframes/keyframes/cineast_metadata_part1/v_0qOiysuRRO8aBdg1/v_0qOiysuRRO8aBdg1_183.png',\n",
       " 'v_0qOiysuRRO8aBdg1_184': '../../../../data/seedling/seedling_keyframes/keyframes/cineast_metadata_part1/v_0qOiysuRRO8aBdg1/v_0qOiysuRRO8aBdg1_184.png',\n",
       " 'v_0qOiysuRRO8aBdg1_185': '../../../../data/seedling/seedling_keyframes/keyframes/cineast_metadata_part1/v_0qOiysuRRO8aBdg1/v_0qOiysuRRO8aBdg1_185.png',\n",
       " 'v_0qOiysuRRO8aBdg1_186': '../../../../data/seedling/seedling_keyframes/keyframes/cineast_metadata_part1/v_0qOiysuRRO8aBdg1/v_0qOiysuRRO8aBdg1_186.png',\n",
       " 'v_0qOiysuRRO8aBdg1_187': '../../../../data/seedling/seedling_keyframes/keyframes/cineast_metadata_part1/v_0qOiysuRRO8aBdg1/v_0qOiysuRRO8aBdg1_187.png',\n",
       " 'v_0qOiysuRRO8aBdg1_188': '../../../../data/seedling/seedling_keyframes/keyframes/cineast_metadata_part1/v_0qOiysuRRO8aBdg1/v_0qOiysuRRO8aBdg1_188.png',\n",
       " 'v_0qOiysuRRO8aBdg1_189': '../../../../data/seedling/seedling_keyframes/keyframes/cineast_metadata_part1/v_0qOiysuRRO8aBdg1/v_0qOiysuRRO8aBdg1_189.png',\n",
       " 'v_0qOiysuRRO8aBdg1_18': '../../../../data/seedling/seedling_keyframes/keyframes/cineast_metadata_part1/v_0qOiysuRRO8aBdg1/v_0qOiysuRRO8aBdg1_18.png',\n",
       " 'v_0qOiysuRRO8aBdg1_190': '../../../../data/seedling/seedling_keyframes/keyframes/cineast_metadata_part1/v_0qOiysuRRO8aBdg1/v_0qOiysuRRO8aBdg1_190.png',\n",
       " 'v_0qOiysuRRO8aBdg1_191': '../../../../data/seedling/seedling_keyframes/keyframes/cineast_metadata_part1/v_0qOiysuRRO8aBdg1/v_0qOiysuRRO8aBdg1_191.png',\n",
       " 'v_0qOiysuRRO8aBdg1_192': '../../../../data/seedling/seedling_keyframes/keyframes/cineast_metadata_part1/v_0qOiysuRRO8aBdg1/v_0qOiysuRRO8aBdg1_192.png',\n",
       " 'v_0qOiysuRRO8aBdg1_193': '../../../../data/seedling/seedling_keyframes/keyframes/cineast_metadata_part1/v_0qOiysuRRO8aBdg1/v_0qOiysuRRO8aBdg1_193.png',\n",
       " 'v_0qOiysuRRO8aBdg1_194': '../../../../data/seedling/seedling_keyframes/keyframes/cineast_metadata_part1/v_0qOiysuRRO8aBdg1/v_0qOiysuRRO8aBdg1_194.png',\n",
       " 'v_0qOiysuRRO8aBdg1_195': '../../../../data/seedling/seedling_keyframes/keyframes/cineast_metadata_part1/v_0qOiysuRRO8aBdg1/v_0qOiysuRRO8aBdg1_195.png',\n",
       " 'v_0qOiysuRRO8aBdg1_196': '../../../../data/seedling/seedling_keyframes/keyframes/cineast_metadata_part1/v_0qOiysuRRO8aBdg1/v_0qOiysuRRO8aBdg1_196.png',\n",
       " 'v_0qOiysuRRO8aBdg1_197': '../../../../data/seedling/seedling_keyframes/keyframes/cineast_metadata_part1/v_0qOiysuRRO8aBdg1/v_0qOiysuRRO8aBdg1_197.png',\n",
       " 'v_0qOiysuRRO8aBdg1_198': '../../../../data/seedling/seedling_keyframes/keyframes/cineast_metadata_part1/v_0qOiysuRRO8aBdg1/v_0qOiysuRRO8aBdg1_198.png',\n",
       " 'v_0qOiysuRRO8aBdg1_199': '../../../../data/seedling/seedling_keyframes/keyframes/cineast_metadata_part1/v_0qOiysuRRO8aBdg1/v_0qOiysuRRO8aBdg1_199.png',\n",
       " 'v_0qOiysuRRO8aBdg1_19': '../../../../data/seedling/seedling_keyframes/keyframes/cineast_metadata_part1/v_0qOiysuRRO8aBdg1/v_0qOiysuRRO8aBdg1_19.png',\n",
       " 'v_0qOiysuRRO8aBdg1_1': '../../../../data/seedling/seedling_keyframes/keyframes/cineast_metadata_part1/v_0qOiysuRRO8aBdg1/v_0qOiysuRRO8aBdg1_1.png',\n",
       " 'v_0qOiysuRRO8aBdg1_200': '../../../../data/seedling/seedling_keyframes/keyframes/cineast_metadata_part1/v_0qOiysuRRO8aBdg1/v_0qOiysuRRO8aBdg1_200.png',\n",
       " 'v_0qOiysuRRO8aBdg1_201': '../../../../data/seedling/seedling_keyframes/keyframes/cineast_metadata_part1/v_0qOiysuRRO8aBdg1/v_0qOiysuRRO8aBdg1_201.png',\n",
       " 'v_0qOiysuRRO8aBdg1_202': '../../../../data/seedling/seedling_keyframes/keyframes/cineast_metadata_part1/v_0qOiysuRRO8aBdg1/v_0qOiysuRRO8aBdg1_202.png',\n",
       " 'v_0qOiysuRRO8aBdg1_203': '../../../../data/seedling/seedling_keyframes/keyframes/cineast_metadata_part1/v_0qOiysuRRO8aBdg1/v_0qOiysuRRO8aBdg1_203.png',\n",
       " 'v_0qOiysuRRO8aBdg1_204': '../../../../data/seedling/seedling_keyframes/keyframes/cineast_metadata_part1/v_0qOiysuRRO8aBdg1/v_0qOiysuRRO8aBdg1_204.png',\n",
       " 'v_0qOiysuRRO8aBdg1_205': '../../../../data/seedling/seedling_keyframes/keyframes/cineast_metadata_part1/v_0qOiysuRRO8aBdg1/v_0qOiysuRRO8aBdg1_205.png',\n",
       " 'v_0qOiysuRRO8aBdg1_206': '../../../../data/seedling/seedling_keyframes/keyframes/cineast_metadata_part1/v_0qOiysuRRO8aBdg1/v_0qOiysuRRO8aBdg1_206.png',\n",
       " 'v_0qOiysuRRO8aBdg1_207': '../../../../data/seedling/seedling_keyframes/keyframes/cineast_metadata_part1/v_0qOiysuRRO8aBdg1/v_0qOiysuRRO8aBdg1_207.png',\n",
       " 'v_0qOiysuRRO8aBdg1_208': '../../../../data/seedling/seedling_keyframes/keyframes/cineast_metadata_part1/v_0qOiysuRRO8aBdg1/v_0qOiysuRRO8aBdg1_208.png',\n",
       " 'v_0qOiysuRRO8aBdg1_209': '../../../../data/seedling/seedling_keyframes/keyframes/cineast_metadata_part1/v_0qOiysuRRO8aBdg1/v_0qOiysuRRO8aBdg1_209.png',\n",
       " 'v_0qOiysuRRO8aBdg1_20': '../../../../data/seedling/seedling_keyframes/keyframes/cineast_metadata_part1/v_0qOiysuRRO8aBdg1/v_0qOiysuRRO8aBdg1_20.png',\n",
       " 'v_0qOiysuRRO8aBdg1_210': '../../../../data/seedling/seedling_keyframes/keyframes/cineast_metadata_part1/v_0qOiysuRRO8aBdg1/v_0qOiysuRRO8aBdg1_210.png',\n",
       " 'v_0qOiysuRRO8aBdg1_211': '../../../../data/seedling/seedling_keyframes/keyframes/cineast_metadata_part1/v_0qOiysuRRO8aBdg1/v_0qOiysuRRO8aBdg1_211.png',\n",
       " 'v_0qOiysuRRO8aBdg1_212': '../../../../data/seedling/seedling_keyframes/keyframes/cineast_metadata_part1/v_0qOiysuRRO8aBdg1/v_0qOiysuRRO8aBdg1_212.png',\n",
       " 'v_0qOiysuRRO8aBdg1_213': '../../../../data/seedling/seedling_keyframes/keyframes/cineast_metadata_part1/v_0qOiysuRRO8aBdg1/v_0qOiysuRRO8aBdg1_213.png',\n",
       " 'v_0qOiysuRRO8aBdg1_214': '../../../../data/seedling/seedling_keyframes/keyframes/cineast_metadata_part1/v_0qOiysuRRO8aBdg1/v_0qOiysuRRO8aBdg1_214.png',\n",
       " 'v_0qOiysuRRO8aBdg1_215': '../../../../data/seedling/seedling_keyframes/keyframes/cineast_metadata_part1/v_0qOiysuRRO8aBdg1/v_0qOiysuRRO8aBdg1_215.png',\n",
       " 'v_0qOiysuRRO8aBdg1_216': '../../../../data/seedling/seedling_keyframes/keyframes/cineast_metadata_part1/v_0qOiysuRRO8aBdg1/v_0qOiysuRRO8aBdg1_216.png',\n",
       " 'v_0qOiysuRRO8aBdg1_217': '../../../../data/seedling/seedling_keyframes/keyframes/cineast_metadata_part1/v_0qOiysuRRO8aBdg1/v_0qOiysuRRO8aBdg1_217.png',\n",
       " 'v_0qOiysuRRO8aBdg1_218': '../../../../data/seedling/seedling_keyframes/keyframes/cineast_metadata_part1/v_0qOiysuRRO8aBdg1/v_0qOiysuRRO8aBdg1_218.png',\n",
       " 'v_0qOiysuRRO8aBdg1_219': '../../../../data/seedling/seedling_keyframes/keyframes/cineast_metadata_part1/v_0qOiysuRRO8aBdg1/v_0qOiysuRRO8aBdg1_219.png',\n",
       " 'v_0qOiysuRRO8aBdg1_21': '../../../../data/seedling/seedling_keyframes/keyframes/cineast_metadata_part1/v_0qOiysuRRO8aBdg1/v_0qOiysuRRO8aBdg1_21.png',\n",
       " 'v_0qOiysuRRO8aBdg1_220': '../../../../data/seedling/seedling_keyframes/keyframes/cineast_metadata_part1/v_0qOiysuRRO8aBdg1/v_0qOiysuRRO8aBdg1_220.png',\n",
       " 'v_0qOiysuRRO8aBdg1_221': '../../../../data/seedling/seedling_keyframes/keyframes/cineast_metadata_part1/v_0qOiysuRRO8aBdg1/v_0qOiysuRRO8aBdg1_221.png',\n",
       " 'v_0qOiysuRRO8aBdg1_222': '../../../../data/seedling/seedling_keyframes/keyframes/cineast_metadata_part1/v_0qOiysuRRO8aBdg1/v_0qOiysuRRO8aBdg1_222.png',\n",
       " 'v_0qOiysuRRO8aBdg1_223': '../../../../data/seedling/seedling_keyframes/keyframes/cineast_metadata_part1/v_0qOiysuRRO8aBdg1/v_0qOiysuRRO8aBdg1_223.png',\n",
       " 'v_0qOiysuRRO8aBdg1_224': '../../../../data/seedling/seedling_keyframes/keyframes/cineast_metadata_part1/v_0qOiysuRRO8aBdg1/v_0qOiysuRRO8aBdg1_224.png',\n",
       " 'v_0qOiysuRRO8aBdg1_225': '../../../../data/seedling/seedling_keyframes/keyframes/cineast_metadata_part1/v_0qOiysuRRO8aBdg1/v_0qOiysuRRO8aBdg1_225.png',\n",
       " 'v_0qOiysuRRO8aBdg1_226': '../../../../data/seedling/seedling_keyframes/keyframes/cineast_metadata_part1/v_0qOiysuRRO8aBdg1/v_0qOiysuRRO8aBdg1_226.png',\n",
       " 'v_0qOiysuRRO8aBdg1_227': '../../../../data/seedling/seedling_keyframes/keyframes/cineast_metadata_part1/v_0qOiysuRRO8aBdg1/v_0qOiysuRRO8aBdg1_227.png',\n",
       " 'v_0qOiysuRRO8aBdg1_228': '../../../../data/seedling/seedling_keyframes/keyframes/cineast_metadata_part1/v_0qOiysuRRO8aBdg1/v_0qOiysuRRO8aBdg1_228.png',\n",
       " 'v_0qOiysuRRO8aBdg1_229': '../../../../data/seedling/seedling_keyframes/keyframes/cineast_metadata_part1/v_0qOiysuRRO8aBdg1/v_0qOiysuRRO8aBdg1_229.png',\n",
       " 'v_0qOiysuRRO8aBdg1_22': '../../../../data/seedling/seedling_keyframes/keyframes/cineast_metadata_part1/v_0qOiysuRRO8aBdg1/v_0qOiysuRRO8aBdg1_22.png',\n",
       " 'v_0qOiysuRRO8aBdg1_230': '../../../../data/seedling/seedling_keyframes/keyframes/cineast_metadata_part1/v_0qOiysuRRO8aBdg1/v_0qOiysuRRO8aBdg1_230.png',\n",
       " 'v_0qOiysuRRO8aBdg1_231': '../../../../data/seedling/seedling_keyframes/keyframes/cineast_metadata_part1/v_0qOiysuRRO8aBdg1/v_0qOiysuRRO8aBdg1_231.png',\n",
       " 'v_0qOiysuRRO8aBdg1_232': '../../../../data/seedling/seedling_keyframes/keyframes/cineast_metadata_part1/v_0qOiysuRRO8aBdg1/v_0qOiysuRRO8aBdg1_232.png',\n",
       " 'v_0qOiysuRRO8aBdg1_233': '../../../../data/seedling/seedling_keyframes/keyframes/cineast_metadata_part1/v_0qOiysuRRO8aBdg1/v_0qOiysuRRO8aBdg1_233.png',\n",
       " 'v_0qOiysuRRO8aBdg1_234': '../../../../data/seedling/seedling_keyframes/keyframes/cineast_metadata_part1/v_0qOiysuRRO8aBdg1/v_0qOiysuRRO8aBdg1_234.png',\n",
       " 'v_0qOiysuRRO8aBdg1_235': '../../../../data/seedling/seedling_keyframes/keyframes/cineast_metadata_part1/v_0qOiysuRRO8aBdg1/v_0qOiysuRRO8aBdg1_235.png',\n",
       " 'v_0qOiysuRRO8aBdg1_236': '../../../../data/seedling/seedling_keyframes/keyframes/cineast_metadata_part1/v_0qOiysuRRO8aBdg1/v_0qOiysuRRO8aBdg1_236.png',\n",
       " 'v_0qOiysuRRO8aBdg1_237': '../../../../data/seedling/seedling_keyframes/keyframes/cineast_metadata_part1/v_0qOiysuRRO8aBdg1/v_0qOiysuRRO8aBdg1_237.png',\n",
       " 'v_0qOiysuRRO8aBdg1_238': '../../../../data/seedling/seedling_keyframes/keyframes/cineast_metadata_part1/v_0qOiysuRRO8aBdg1/v_0qOiysuRRO8aBdg1_238.png',\n",
       " 'v_0qOiysuRRO8aBdg1_239': '../../../../data/seedling/seedling_keyframes/keyframes/cineast_metadata_part1/v_0qOiysuRRO8aBdg1/v_0qOiysuRRO8aBdg1_239.png',\n",
       " 'v_0qOiysuRRO8aBdg1_23': '../../../../data/seedling/seedling_keyframes/keyframes/cineast_metadata_part1/v_0qOiysuRRO8aBdg1/v_0qOiysuRRO8aBdg1_23.png',\n",
       " 'v_0qOiysuRRO8aBdg1_240': '../../../../data/seedling/seedling_keyframes/keyframes/cineast_metadata_part1/v_0qOiysuRRO8aBdg1/v_0qOiysuRRO8aBdg1_240.png',\n",
       " 'v_0qOiysuRRO8aBdg1_241': '../../../../data/seedling/seedling_keyframes/keyframes/cineast_metadata_part1/v_0qOiysuRRO8aBdg1/v_0qOiysuRRO8aBdg1_241.png',\n",
       " 'v_0qOiysuRRO8aBdg1_242': '../../../../data/seedling/seedling_keyframes/keyframes/cineast_metadata_part1/v_0qOiysuRRO8aBdg1/v_0qOiysuRRO8aBdg1_242.png',\n",
       " 'v_0qOiysuRRO8aBdg1_243': '../../../../data/seedling/seedling_keyframes/keyframes/cineast_metadata_part1/v_0qOiysuRRO8aBdg1/v_0qOiysuRRO8aBdg1_243.png',\n",
       " 'v_0qOiysuRRO8aBdg1_244': '../../../../data/seedling/seedling_keyframes/keyframes/cineast_metadata_part1/v_0qOiysuRRO8aBdg1/v_0qOiysuRRO8aBdg1_244.png',\n",
       " 'v_0qOiysuRRO8aBdg1_245': '../../../../data/seedling/seedling_keyframes/keyframes/cineast_metadata_part1/v_0qOiysuRRO8aBdg1/v_0qOiysuRRO8aBdg1_245.png',\n",
       " 'v_0qOiysuRRO8aBdg1_246': '../../../../data/seedling/seedling_keyframes/keyframes/cineast_metadata_part1/v_0qOiysuRRO8aBdg1/v_0qOiysuRRO8aBdg1_246.png',\n",
       " 'v_0qOiysuRRO8aBdg1_247': '../../../../data/seedling/seedling_keyframes/keyframes/cineast_metadata_part1/v_0qOiysuRRO8aBdg1/v_0qOiysuRRO8aBdg1_247.png',\n",
       " 'v_0qOiysuRRO8aBdg1_248': '../../../../data/seedling/seedling_keyframes/keyframes/cineast_metadata_part1/v_0qOiysuRRO8aBdg1/v_0qOiysuRRO8aBdg1_248.png',\n",
       " 'v_0qOiysuRRO8aBdg1_249': '../../../../data/seedling/seedling_keyframes/keyframes/cineast_metadata_part1/v_0qOiysuRRO8aBdg1/v_0qOiysuRRO8aBdg1_249.png',\n",
       " 'v_0qOiysuRRO8aBdg1_24': '../../../../data/seedling/seedling_keyframes/keyframes/cineast_metadata_part1/v_0qOiysuRRO8aBdg1/v_0qOiysuRRO8aBdg1_24.png',\n",
       " 'v_0qOiysuRRO8aBdg1_250': '../../../../data/seedling/seedling_keyframes/keyframes/cineast_metadata_part1/v_0qOiysuRRO8aBdg1/v_0qOiysuRRO8aBdg1_250.png',\n",
       " 'v_0qOiysuRRO8aBdg1_251': '../../../../data/seedling/seedling_keyframes/keyframes/cineast_metadata_part1/v_0qOiysuRRO8aBdg1/v_0qOiysuRRO8aBdg1_251.png',\n",
       " 'v_0qOiysuRRO8aBdg1_252': '../../../../data/seedling/seedling_keyframes/keyframes/cineast_metadata_part1/v_0qOiysuRRO8aBdg1/v_0qOiysuRRO8aBdg1_252.png',\n",
       " 'v_0qOiysuRRO8aBdg1_253': '../../../../data/seedling/seedling_keyframes/keyframes/cineast_metadata_part1/v_0qOiysuRRO8aBdg1/v_0qOiysuRRO8aBdg1_253.png',\n",
       " 'v_0qOiysuRRO8aBdg1_254': '../../../../data/seedling/seedling_keyframes/keyframes/cineast_metadata_part1/v_0qOiysuRRO8aBdg1/v_0qOiysuRRO8aBdg1_254.png',\n",
       " 'v_0qOiysuRRO8aBdg1_255': '../../../../data/seedling/seedling_keyframes/keyframes/cineast_metadata_part1/v_0qOiysuRRO8aBdg1/v_0qOiysuRRO8aBdg1_255.png',\n",
       " 'v_0qOiysuRRO8aBdg1_256': '../../../../data/seedling/seedling_keyframes/keyframes/cineast_metadata_part1/v_0qOiysuRRO8aBdg1/v_0qOiysuRRO8aBdg1_256.png',\n",
       " 'v_0qOiysuRRO8aBdg1_257': '../../../../data/seedling/seedling_keyframes/keyframes/cineast_metadata_part1/v_0qOiysuRRO8aBdg1/v_0qOiysuRRO8aBdg1_257.png',\n",
       " 'v_0qOiysuRRO8aBdg1_258': '../../../../data/seedling/seedling_keyframes/keyframes/cineast_metadata_part1/v_0qOiysuRRO8aBdg1/v_0qOiysuRRO8aBdg1_258.png',\n",
       " 'v_0qOiysuRRO8aBdg1_259': '../../../../data/seedling/seedling_keyframes/keyframes/cineast_metadata_part1/v_0qOiysuRRO8aBdg1/v_0qOiysuRRO8aBdg1_259.png',\n",
       " 'v_0qOiysuRRO8aBdg1_25': '../../../../data/seedling/seedling_keyframes/keyframes/cineast_metadata_part1/v_0qOiysuRRO8aBdg1/v_0qOiysuRRO8aBdg1_25.png',\n",
       " 'v_0qOiysuRRO8aBdg1_260': '../../../../data/seedling/seedling_keyframes/keyframes/cineast_metadata_part1/v_0qOiysuRRO8aBdg1/v_0qOiysuRRO8aBdg1_260.png',\n",
       " 'v_0qOiysuRRO8aBdg1_261': '../../../../data/seedling/seedling_keyframes/keyframes/cineast_metadata_part1/v_0qOiysuRRO8aBdg1/v_0qOiysuRRO8aBdg1_261.png',\n",
       " 'v_0qOiysuRRO8aBdg1_262': '../../../../data/seedling/seedling_keyframes/keyframes/cineast_metadata_part1/v_0qOiysuRRO8aBdg1/v_0qOiysuRRO8aBdg1_262.png',\n",
       " 'v_0qOiysuRRO8aBdg1_26': '../../../../data/seedling/seedling_keyframes/keyframes/cineast_metadata_part1/v_0qOiysuRRO8aBdg1/v_0qOiysuRRO8aBdg1_26.png',\n",
       " 'v_0qOiysuRRO8aBdg1_27': '../../../../data/seedling/seedling_keyframes/keyframes/cineast_metadata_part1/v_0qOiysuRRO8aBdg1/v_0qOiysuRRO8aBdg1_27.png',\n",
       " 'v_0qOiysuRRO8aBdg1_28': '../../../../data/seedling/seedling_keyframes/keyframes/cineast_metadata_part1/v_0qOiysuRRO8aBdg1/v_0qOiysuRRO8aBdg1_28.png',\n",
       " 'v_0qOiysuRRO8aBdg1_29': '../../../../data/seedling/seedling_keyframes/keyframes/cineast_metadata_part1/v_0qOiysuRRO8aBdg1/v_0qOiysuRRO8aBdg1_29.png',\n",
       " 'v_0qOiysuRRO8aBdg1_2': '../../../../data/seedling/seedling_keyframes/keyframes/cineast_metadata_part1/v_0qOiysuRRO8aBdg1/v_0qOiysuRRO8aBdg1_2.png',\n",
       " 'v_0qOiysuRRO8aBdg1_30': '../../../../data/seedling/seedling_keyframes/keyframes/cineast_metadata_part1/v_0qOiysuRRO8aBdg1/v_0qOiysuRRO8aBdg1_30.png',\n",
       " 'v_0qOiysuRRO8aBdg1_31': '../../../../data/seedling/seedling_keyframes/keyframes/cineast_metadata_part1/v_0qOiysuRRO8aBdg1/v_0qOiysuRRO8aBdg1_31.png',\n",
       " 'v_0qOiysuRRO8aBdg1_32': '../../../../data/seedling/seedling_keyframes/keyframes/cineast_metadata_part1/v_0qOiysuRRO8aBdg1/v_0qOiysuRRO8aBdg1_32.png',\n",
       " 'v_0qOiysuRRO8aBdg1_33': '../../../../data/seedling/seedling_keyframes/keyframes/cineast_metadata_part1/v_0qOiysuRRO8aBdg1/v_0qOiysuRRO8aBdg1_33.png',\n",
       " 'v_0qOiysuRRO8aBdg1_34': '../../../../data/seedling/seedling_keyframes/keyframes/cineast_metadata_part1/v_0qOiysuRRO8aBdg1/v_0qOiysuRRO8aBdg1_34.png',\n",
       " 'v_0qOiysuRRO8aBdg1_35': '../../../../data/seedling/seedling_keyframes/keyframes/cineast_metadata_part1/v_0qOiysuRRO8aBdg1/v_0qOiysuRRO8aBdg1_35.png',\n",
       " 'v_0qOiysuRRO8aBdg1_36': '../../../../data/seedling/seedling_keyframes/keyframes/cineast_metadata_part1/v_0qOiysuRRO8aBdg1/v_0qOiysuRRO8aBdg1_36.png',\n",
       " 'v_0qOiysuRRO8aBdg1_37': '../../../../data/seedling/seedling_keyframes/keyframes/cineast_metadata_part1/v_0qOiysuRRO8aBdg1/v_0qOiysuRRO8aBdg1_37.png',\n",
       " 'v_0qOiysuRRO8aBdg1_38': '../../../../data/seedling/seedling_keyframes/keyframes/cineast_metadata_part1/v_0qOiysuRRO8aBdg1/v_0qOiysuRRO8aBdg1_38.png',\n",
       " 'v_0qOiysuRRO8aBdg1_39': '../../../../data/seedling/seedling_keyframes/keyframes/cineast_metadata_part1/v_0qOiysuRRO8aBdg1/v_0qOiysuRRO8aBdg1_39.png',\n",
       " 'v_0qOiysuRRO8aBdg1_3': '../../../../data/seedling/seedling_keyframes/keyframes/cineast_metadata_part1/v_0qOiysuRRO8aBdg1/v_0qOiysuRRO8aBdg1_3.png',\n",
       " 'v_0qOiysuRRO8aBdg1_40': '../../../../data/seedling/seedling_keyframes/keyframes/cineast_metadata_part1/v_0qOiysuRRO8aBdg1/v_0qOiysuRRO8aBdg1_40.png',\n",
       " 'v_0qOiysuRRO8aBdg1_41': '../../../../data/seedling/seedling_keyframes/keyframes/cineast_metadata_part1/v_0qOiysuRRO8aBdg1/v_0qOiysuRRO8aBdg1_41.png',\n",
       " 'v_0qOiysuRRO8aBdg1_42': '../../../../data/seedling/seedling_keyframes/keyframes/cineast_metadata_part1/v_0qOiysuRRO8aBdg1/v_0qOiysuRRO8aBdg1_42.png',\n",
       " 'v_0qOiysuRRO8aBdg1_43': '../../../../data/seedling/seedling_keyframes/keyframes/cineast_metadata_part1/v_0qOiysuRRO8aBdg1/v_0qOiysuRRO8aBdg1_43.png',\n",
       " 'v_0qOiysuRRO8aBdg1_44': '../../../../data/seedling/seedling_keyframes/keyframes/cineast_metadata_part1/v_0qOiysuRRO8aBdg1/v_0qOiysuRRO8aBdg1_44.png',\n",
       " 'v_0qOiysuRRO8aBdg1_45': '../../../../data/seedling/seedling_keyframes/keyframes/cineast_metadata_part1/v_0qOiysuRRO8aBdg1/v_0qOiysuRRO8aBdg1_45.png',\n",
       " 'v_0qOiysuRRO8aBdg1_46': '../../../../data/seedling/seedling_keyframes/keyframes/cineast_metadata_part1/v_0qOiysuRRO8aBdg1/v_0qOiysuRRO8aBdg1_46.png',\n",
       " 'v_0qOiysuRRO8aBdg1_47': '../../../../data/seedling/seedling_keyframes/keyframes/cineast_metadata_part1/v_0qOiysuRRO8aBdg1/v_0qOiysuRRO8aBdg1_47.png',\n",
       " 'v_0qOiysuRRO8aBdg1_48': '../../../../data/seedling/seedling_keyframes/keyframes/cineast_metadata_part1/v_0qOiysuRRO8aBdg1/v_0qOiysuRRO8aBdg1_48.png',\n",
       " 'v_0qOiysuRRO8aBdg1_49': '../../../../data/seedling/seedling_keyframes/keyframes/cineast_metadata_part1/v_0qOiysuRRO8aBdg1/v_0qOiysuRRO8aBdg1_49.png',\n",
       " 'v_0qOiysuRRO8aBdg1_4': '../../../../data/seedling/seedling_keyframes/keyframes/cineast_metadata_part1/v_0qOiysuRRO8aBdg1/v_0qOiysuRRO8aBdg1_4.png',\n",
       " 'v_0qOiysuRRO8aBdg1_50': '../../../../data/seedling/seedling_keyframes/keyframes/cineast_metadata_part1/v_0qOiysuRRO8aBdg1/v_0qOiysuRRO8aBdg1_50.png',\n",
       " 'v_0qOiysuRRO8aBdg1_51': '../../../../data/seedling/seedling_keyframes/keyframes/cineast_metadata_part1/v_0qOiysuRRO8aBdg1/v_0qOiysuRRO8aBdg1_51.png',\n",
       " 'v_0qOiysuRRO8aBdg1_52': '../../../../data/seedling/seedling_keyframes/keyframes/cineast_metadata_part1/v_0qOiysuRRO8aBdg1/v_0qOiysuRRO8aBdg1_52.png',\n",
       " 'v_0qOiysuRRO8aBdg1_53': '../../../../data/seedling/seedling_keyframes/keyframes/cineast_metadata_part1/v_0qOiysuRRO8aBdg1/v_0qOiysuRRO8aBdg1_53.png',\n",
       " 'v_0qOiysuRRO8aBdg1_54': '../../../../data/seedling/seedling_keyframes/keyframes/cineast_metadata_part1/v_0qOiysuRRO8aBdg1/v_0qOiysuRRO8aBdg1_54.png',\n",
       " 'v_0qOiysuRRO8aBdg1_55': '../../../../data/seedling/seedling_keyframes/keyframes/cineast_metadata_part1/v_0qOiysuRRO8aBdg1/v_0qOiysuRRO8aBdg1_55.png',\n",
       " 'v_0qOiysuRRO8aBdg1_56': '../../../../data/seedling/seedling_keyframes/keyframes/cineast_metadata_part1/v_0qOiysuRRO8aBdg1/v_0qOiysuRRO8aBdg1_56.png',\n",
       " 'v_0qOiysuRRO8aBdg1_57': '../../../../data/seedling/seedling_keyframes/keyframes/cineast_metadata_part1/v_0qOiysuRRO8aBdg1/v_0qOiysuRRO8aBdg1_57.png',\n",
       " 'v_0qOiysuRRO8aBdg1_58': '../../../../data/seedling/seedling_keyframes/keyframes/cineast_metadata_part1/v_0qOiysuRRO8aBdg1/v_0qOiysuRRO8aBdg1_58.png',\n",
       " 'v_0qOiysuRRO8aBdg1_59': '../../../../data/seedling/seedling_keyframes/keyframes/cineast_metadata_part1/v_0qOiysuRRO8aBdg1/v_0qOiysuRRO8aBdg1_59.png',\n",
       " 'v_0qOiysuRRO8aBdg1_5': '../../../../data/seedling/seedling_keyframes/keyframes/cineast_metadata_part1/v_0qOiysuRRO8aBdg1/v_0qOiysuRRO8aBdg1_5.png',\n",
       " 'v_0qOiysuRRO8aBdg1_60': '../../../../data/seedling/seedling_keyframes/keyframes/cineast_metadata_part1/v_0qOiysuRRO8aBdg1/v_0qOiysuRRO8aBdg1_60.png',\n",
       " 'v_0qOiysuRRO8aBdg1_61': '../../../../data/seedling/seedling_keyframes/keyframes/cineast_metadata_part1/v_0qOiysuRRO8aBdg1/v_0qOiysuRRO8aBdg1_61.png',\n",
       " 'v_0qOiysuRRO8aBdg1_62': '../../../../data/seedling/seedling_keyframes/keyframes/cineast_metadata_part1/v_0qOiysuRRO8aBdg1/v_0qOiysuRRO8aBdg1_62.png',\n",
       " 'v_0qOiysuRRO8aBdg1_63': '../../../../data/seedling/seedling_keyframes/keyframes/cineast_metadata_part1/v_0qOiysuRRO8aBdg1/v_0qOiysuRRO8aBdg1_63.png',\n",
       " 'v_0qOiysuRRO8aBdg1_64': '../../../../data/seedling/seedling_keyframes/keyframes/cineast_metadata_part1/v_0qOiysuRRO8aBdg1/v_0qOiysuRRO8aBdg1_64.png',\n",
       " 'v_0qOiysuRRO8aBdg1_65': '../../../../data/seedling/seedling_keyframes/keyframes/cineast_metadata_part1/v_0qOiysuRRO8aBdg1/v_0qOiysuRRO8aBdg1_65.png',\n",
       " 'v_0qOiysuRRO8aBdg1_66': '../../../../data/seedling/seedling_keyframes/keyframes/cineast_metadata_part1/v_0qOiysuRRO8aBdg1/v_0qOiysuRRO8aBdg1_66.png',\n",
       " 'v_0qOiysuRRO8aBdg1_67': '../../../../data/seedling/seedling_keyframes/keyframes/cineast_metadata_part1/v_0qOiysuRRO8aBdg1/v_0qOiysuRRO8aBdg1_67.png',\n",
       " 'v_0qOiysuRRO8aBdg1_68': '../../../../data/seedling/seedling_keyframes/keyframes/cineast_metadata_part1/v_0qOiysuRRO8aBdg1/v_0qOiysuRRO8aBdg1_68.png',\n",
       " 'v_0qOiysuRRO8aBdg1_69': '../../../../data/seedling/seedling_keyframes/keyframes/cineast_metadata_part1/v_0qOiysuRRO8aBdg1/v_0qOiysuRRO8aBdg1_69.png',\n",
       " 'v_0qOiysuRRO8aBdg1_6': '../../../../data/seedling/seedling_keyframes/keyframes/cineast_metadata_part1/v_0qOiysuRRO8aBdg1/v_0qOiysuRRO8aBdg1_6.png',\n",
       " 'v_0qOiysuRRO8aBdg1_70': '../../../../data/seedling/seedling_keyframes/keyframes/cineast_metadata_part1/v_0qOiysuRRO8aBdg1/v_0qOiysuRRO8aBdg1_70.png',\n",
       " 'v_0qOiysuRRO8aBdg1_71': '../../../../data/seedling/seedling_keyframes/keyframes/cineast_metadata_part1/v_0qOiysuRRO8aBdg1/v_0qOiysuRRO8aBdg1_71.png',\n",
       " 'v_0qOiysuRRO8aBdg1_72': '../../../../data/seedling/seedling_keyframes/keyframes/cineast_metadata_part1/v_0qOiysuRRO8aBdg1/v_0qOiysuRRO8aBdg1_72.png',\n",
       " 'v_0qOiysuRRO8aBdg1_73': '../../../../data/seedling/seedling_keyframes/keyframes/cineast_metadata_part1/v_0qOiysuRRO8aBdg1/v_0qOiysuRRO8aBdg1_73.png',\n",
       " 'v_0qOiysuRRO8aBdg1_74': '../../../../data/seedling/seedling_keyframes/keyframes/cineast_metadata_part1/v_0qOiysuRRO8aBdg1/v_0qOiysuRRO8aBdg1_74.png',\n",
       " 'v_0qOiysuRRO8aBdg1_75': '../../../../data/seedling/seedling_keyframes/keyframes/cineast_metadata_part1/v_0qOiysuRRO8aBdg1/v_0qOiysuRRO8aBdg1_75.png',\n",
       " 'v_0qOiysuRRO8aBdg1_76': '../../../../data/seedling/seedling_keyframes/keyframes/cineast_metadata_part1/v_0qOiysuRRO8aBdg1/v_0qOiysuRRO8aBdg1_76.png',\n",
       " 'v_0qOiysuRRO8aBdg1_77': '../../../../data/seedling/seedling_keyframes/keyframes/cineast_metadata_part1/v_0qOiysuRRO8aBdg1/v_0qOiysuRRO8aBdg1_77.png',\n",
       " 'v_0qOiysuRRO8aBdg1_78': '../../../../data/seedling/seedling_keyframes/keyframes/cineast_metadata_part1/v_0qOiysuRRO8aBdg1/v_0qOiysuRRO8aBdg1_78.png',\n",
       " 'v_0qOiysuRRO8aBdg1_79': '../../../../data/seedling/seedling_keyframes/keyframes/cineast_metadata_part1/v_0qOiysuRRO8aBdg1/v_0qOiysuRRO8aBdg1_79.png',\n",
       " 'v_0qOiysuRRO8aBdg1_7': '../../../../data/seedling/seedling_keyframes/keyframes/cineast_metadata_part1/v_0qOiysuRRO8aBdg1/v_0qOiysuRRO8aBdg1_7.png',\n",
       " 'v_0qOiysuRRO8aBdg1_80': '../../../../data/seedling/seedling_keyframes/keyframes/cineast_metadata_part1/v_0qOiysuRRO8aBdg1/v_0qOiysuRRO8aBdg1_80.png',\n",
       " 'v_0qOiysuRRO8aBdg1_81': '../../../../data/seedling/seedling_keyframes/keyframes/cineast_metadata_part1/v_0qOiysuRRO8aBdg1/v_0qOiysuRRO8aBdg1_81.png',\n",
       " 'v_0qOiysuRRO8aBdg1_82': '../../../../data/seedling/seedling_keyframes/keyframes/cineast_metadata_part1/v_0qOiysuRRO8aBdg1/v_0qOiysuRRO8aBdg1_82.png',\n",
       " 'v_0qOiysuRRO8aBdg1_83': '../../../../data/seedling/seedling_keyframes/keyframes/cineast_metadata_part1/v_0qOiysuRRO8aBdg1/v_0qOiysuRRO8aBdg1_83.png',\n",
       " 'v_0qOiysuRRO8aBdg1_84': '../../../../data/seedling/seedling_keyframes/keyframes/cineast_metadata_part1/v_0qOiysuRRO8aBdg1/v_0qOiysuRRO8aBdg1_84.png',\n",
       " 'v_0qOiysuRRO8aBdg1_85': '../../../../data/seedling/seedling_keyframes/keyframes/cineast_metadata_part1/v_0qOiysuRRO8aBdg1/v_0qOiysuRRO8aBdg1_85.png',\n",
       " 'v_0qOiysuRRO8aBdg1_86': '../../../../data/seedling/seedling_keyframes/keyframes/cineast_metadata_part1/v_0qOiysuRRO8aBdg1/v_0qOiysuRRO8aBdg1_86.png',\n",
       " 'v_0qOiysuRRO8aBdg1_87': '../../../../data/seedling/seedling_keyframes/keyframes/cineast_metadata_part1/v_0qOiysuRRO8aBdg1/v_0qOiysuRRO8aBdg1_87.png',\n",
       " 'v_0qOiysuRRO8aBdg1_88': '../../../../data/seedling/seedling_keyframes/keyframes/cineast_metadata_part1/v_0qOiysuRRO8aBdg1/v_0qOiysuRRO8aBdg1_88.png',\n",
       " 'v_0qOiysuRRO8aBdg1_89': '../../../../data/seedling/seedling_keyframes/keyframes/cineast_metadata_part1/v_0qOiysuRRO8aBdg1/v_0qOiysuRRO8aBdg1_89.png',\n",
       " 'v_0qOiysuRRO8aBdg1_8': '../../../../data/seedling/seedling_keyframes/keyframes/cineast_metadata_part1/v_0qOiysuRRO8aBdg1/v_0qOiysuRRO8aBdg1_8.png',\n",
       " 'v_0qOiysuRRO8aBdg1_90': '../../../../data/seedling/seedling_keyframes/keyframes/cineast_metadata_part1/v_0qOiysuRRO8aBdg1/v_0qOiysuRRO8aBdg1_90.png',\n",
       " 'v_0qOiysuRRO8aBdg1_91': '../../../../data/seedling/seedling_keyframes/keyframes/cineast_metadata_part1/v_0qOiysuRRO8aBdg1/v_0qOiysuRRO8aBdg1_91.png',\n",
       " 'v_0qOiysuRRO8aBdg1_92': '../../../../data/seedling/seedling_keyframes/keyframes/cineast_metadata_part1/v_0qOiysuRRO8aBdg1/v_0qOiysuRRO8aBdg1_92.png',\n",
       " 'v_0qOiysuRRO8aBdg1_93': '../../../../data/seedling/seedling_keyframes/keyframes/cineast_metadata_part1/v_0qOiysuRRO8aBdg1/v_0qOiysuRRO8aBdg1_93.png',\n",
       " 'v_0qOiysuRRO8aBdg1_94': '../../../../data/seedling/seedling_keyframes/keyframes/cineast_metadata_part1/v_0qOiysuRRO8aBdg1/v_0qOiysuRRO8aBdg1_94.png',\n",
       " 'v_0qOiysuRRO8aBdg1_95': '../../../../data/seedling/seedling_keyframes/keyframes/cineast_metadata_part1/v_0qOiysuRRO8aBdg1/v_0qOiysuRRO8aBdg1_95.png',\n",
       " 'v_0qOiysuRRO8aBdg1_96': '../../../../data/seedling/seedling_keyframes/keyframes/cineast_metadata_part1/v_0qOiysuRRO8aBdg1/v_0qOiysuRRO8aBdg1_96.png',\n",
       " 'v_0qOiysuRRO8aBdg1_97': '../../../../data/seedling/seedling_keyframes/keyframes/cineast_metadata_part1/v_0qOiysuRRO8aBdg1/v_0qOiysuRRO8aBdg1_97.png',\n",
       " 'v_0qOiysuRRO8aBdg1_98': '../../../../data/seedling/seedling_keyframes/keyframes/cineast_metadata_part1/v_0qOiysuRRO8aBdg1/v_0qOiysuRRO8aBdg1_98.png',\n",
       " 'v_0qOiysuRRO8aBdg1_99': '../../../../data/seedling/seedling_keyframes/keyframes/cineast_metadata_part1/v_0qOiysuRRO8aBdg1/v_0qOiysuRRO8aBdg1_99.png',\n",
       " 'v_0qOiysuRRO8aBdg1_9': '../../../../data/seedling/seedling_keyframes/keyframes/cineast_metadata_part1/v_0qOiysuRRO8aBdg1/v_0qOiysuRRO8aBdg1_9.png',\n",
       " 'v_12MMrKxOo3JUKM6L_10': '../../../../data/seedling/seedling_keyframes/keyframes/cineast_metadata_part1/v_12MMrKxOo3JUKM6L/v_12MMrKxOo3JUKM6L_10.png',\n",
       " 'v_12MMrKxOo3JUKM6L_11': '../../../../data/seedling/seedling_keyframes/keyframes/cineast_metadata_part1/v_12MMrKxOo3JUKM6L/v_12MMrKxOo3JUKM6L_11.png',\n",
       " 'v_12MMrKxOo3JUKM6L_12': '../../../../data/seedling/seedling_keyframes/keyframes/cineast_metadata_part1/v_12MMrKxOo3JUKM6L/v_12MMrKxOo3JUKM6L_12.png',\n",
       " 'v_12MMrKxOo3JUKM6L_13': '../../../../data/seedling/seedling_keyframes/keyframes/cineast_metadata_part1/v_12MMrKxOo3JUKM6L/v_12MMrKxOo3JUKM6L_13.png',\n",
       " 'v_12MMrKxOo3JUKM6L_14': '../../../../data/seedling/seedling_keyframes/keyframes/cineast_metadata_part1/v_12MMrKxOo3JUKM6L/v_12MMrKxOo3JUKM6L_14.png',\n",
       " 'v_12MMrKxOo3JUKM6L_15': '../../../../data/seedling/seedling_keyframes/keyframes/cineast_metadata_part1/v_12MMrKxOo3JUKM6L/v_12MMrKxOo3JUKM6L_15.png',\n",
       " 'v_12MMrKxOo3JUKM6L_16': '../../../../data/seedling/seedling_keyframes/keyframes/cineast_metadata_part1/v_12MMrKxOo3JUKM6L/v_12MMrKxOo3JUKM6L_16.png',\n",
       " 'v_12MMrKxOo3JUKM6L_17': '../../../../data/seedling/seedling_keyframes/keyframes/cineast_metadata_part1/v_12MMrKxOo3JUKM6L/v_12MMrKxOo3JUKM6L_17.png',\n",
       " 'v_12MMrKxOo3JUKM6L_18': '../../../../data/seedling/seedling_keyframes/keyframes/cineast_metadata_part1/v_12MMrKxOo3JUKM6L/v_12MMrKxOo3JUKM6L_18.png',\n",
       " 'v_12MMrKxOo3JUKM6L_19': '../../../../data/seedling/seedling_keyframes/keyframes/cineast_metadata_part1/v_12MMrKxOo3JUKM6L/v_12MMrKxOo3JUKM6L_19.png',\n",
       " 'v_12MMrKxOo3JUKM6L_1': '../../../../data/seedling/seedling_keyframes/keyframes/cineast_metadata_part1/v_12MMrKxOo3JUKM6L/v_12MMrKxOo3JUKM6L_1.png',\n",
       " 'v_12MMrKxOo3JUKM6L_20': '../../../../data/seedling/seedling_keyframes/keyframes/cineast_metadata_part1/v_12MMrKxOo3JUKM6L/v_12MMrKxOo3JUKM6L_20.png',\n",
       " 'v_12MMrKxOo3JUKM6L_21': '../../../../data/seedling/seedling_keyframes/keyframes/cineast_metadata_part1/v_12MMrKxOo3JUKM6L/v_12MMrKxOo3JUKM6L_21.png',\n",
       " 'v_12MMrKxOo3JUKM6L_22': '../../../../data/seedling/seedling_keyframes/keyframes/cineast_metadata_part1/v_12MMrKxOo3JUKM6L/v_12MMrKxOo3JUKM6L_22.png',\n",
       " 'v_12MMrKxOo3JUKM6L_23': '../../../../data/seedling/seedling_keyframes/keyframes/cineast_metadata_part1/v_12MMrKxOo3JUKM6L/v_12MMrKxOo3JUKM6L_23.png',\n",
       " 'v_12MMrKxOo3JUKM6L_24': '../../../../data/seedling/seedling_keyframes/keyframes/cineast_metadata_part1/v_12MMrKxOo3JUKM6L/v_12MMrKxOo3JUKM6L_24.png',\n",
       " 'v_12MMrKxOo3JUKM6L_25': '../../../../data/seedling/seedling_keyframes/keyframes/cineast_metadata_part1/v_12MMrKxOo3JUKM6L/v_12MMrKxOo3JUKM6L_25.png',\n",
       " 'v_12MMrKxOo3JUKM6L_2': '../../../../data/seedling/seedling_keyframes/keyframes/cineast_metadata_part1/v_12MMrKxOo3JUKM6L/v_12MMrKxOo3JUKM6L_2.png',\n",
       " 'v_12MMrKxOo3JUKM6L_3': '../../../../data/seedling/seedling_keyframes/keyframes/cineast_metadata_part1/v_12MMrKxOo3JUKM6L/v_12MMrKxOo3JUKM6L_3.png',\n",
       " 'v_12MMrKxOo3JUKM6L_4': '../../../../data/seedling/seedling_keyframes/keyframes/cineast_metadata_part1/v_12MMrKxOo3JUKM6L/v_12MMrKxOo3JUKM6L_4.png',\n",
       " 'v_12MMrKxOo3JUKM6L_5': '../../../../data/seedling/seedling_keyframes/keyframes/cineast_metadata_part1/v_12MMrKxOo3JUKM6L/v_12MMrKxOo3JUKM6L_5.png',\n",
       " 'v_12MMrKxOo3JUKM6L_6': '../../../../data/seedling/seedling_keyframes/keyframes/cineast_metadata_part1/v_12MMrKxOo3JUKM6L/v_12MMrKxOo3JUKM6L_6.png',\n",
       " 'v_12MMrKxOo3JUKM6L_7': '../../../../data/seedling/seedling_keyframes/keyframes/cineast_metadata_part1/v_12MMrKxOo3JUKM6L/v_12MMrKxOo3JUKM6L_7.png',\n",
       " 'v_12MMrKxOo3JUKM6L_8': '../../../../data/seedling/seedling_keyframes/keyframes/cineast_metadata_part1/v_12MMrKxOo3JUKM6L/v_12MMrKxOo3JUKM6L_8.png',\n",
       " 'v_12MMrKxOo3JUKM6L_9': '../../../../data/seedling/seedling_keyframes/keyframes/cineast_metadata_part1/v_12MMrKxOo3JUKM6L/v_12MMrKxOo3JUKM6L_9.png',\n",
       " 'v_1cyyT5s0IGnXozjW_100': '../../../../data/seedling/seedling_keyframes/keyframes/cineast_metadata_part1/v_1cyyT5s0IGnXozjW/v_1cyyT5s0IGnXozjW_100.png',\n",
       " 'v_1cyyT5s0IGnXozjW_101': '../../../../data/seedling/seedling_keyframes/keyframes/cineast_metadata_part1/v_1cyyT5s0IGnXozjW/v_1cyyT5s0IGnXozjW_101.png',\n",
       " 'v_1cyyT5s0IGnXozjW_102': '../../../../data/seedling/seedling_keyframes/keyframes/cineast_metadata_part1/v_1cyyT5s0IGnXozjW/v_1cyyT5s0IGnXozjW_102.png',\n",
       " 'v_1cyyT5s0IGnXozjW_103': '../../../../data/seedling/seedling_keyframes/keyframes/cineast_metadata_part1/v_1cyyT5s0IGnXozjW/v_1cyyT5s0IGnXozjW_103.png',\n",
       " 'v_1cyyT5s0IGnXozjW_104': '../../../../data/seedling/seedling_keyframes/keyframes/cineast_metadata_part1/v_1cyyT5s0IGnXozjW/v_1cyyT5s0IGnXozjW_104.png',\n",
       " 'v_1cyyT5s0IGnXozjW_105': '../../../../data/seedling/seedling_keyframes/keyframes/cineast_metadata_part1/v_1cyyT5s0IGnXozjW/v_1cyyT5s0IGnXozjW_105.png',\n",
       " 'v_1cyyT5s0IGnXozjW_106': '../../../../data/seedling/seedling_keyframes/keyframes/cineast_metadata_part1/v_1cyyT5s0IGnXozjW/v_1cyyT5s0IGnXozjW_106.png',\n",
       " 'v_1cyyT5s0IGnXozjW_107': '../../../../data/seedling/seedling_keyframes/keyframes/cineast_metadata_part1/v_1cyyT5s0IGnXozjW/v_1cyyT5s0IGnXozjW_107.png',\n",
       " 'v_1cyyT5s0IGnXozjW_108': '../../../../data/seedling/seedling_keyframes/keyframes/cineast_metadata_part1/v_1cyyT5s0IGnXozjW/v_1cyyT5s0IGnXozjW_108.png',\n",
       " 'v_1cyyT5s0IGnXozjW_109': '../../../../data/seedling/seedling_keyframes/keyframes/cineast_metadata_part1/v_1cyyT5s0IGnXozjW/v_1cyyT5s0IGnXozjW_109.png',\n",
       " 'v_1cyyT5s0IGnXozjW_10': '../../../../data/seedling/seedling_keyframes/keyframes/cineast_metadata_part1/v_1cyyT5s0IGnXozjW/v_1cyyT5s0IGnXozjW_10.png',\n",
       " 'v_1cyyT5s0IGnXozjW_110': '../../../../data/seedling/seedling_keyframes/keyframes/cineast_metadata_part1/v_1cyyT5s0IGnXozjW/v_1cyyT5s0IGnXozjW_110.png',\n",
       " 'v_1cyyT5s0IGnXozjW_111': '../../../../data/seedling/seedling_keyframes/keyframes/cineast_metadata_part1/v_1cyyT5s0IGnXozjW/v_1cyyT5s0IGnXozjW_111.png',\n",
       " 'v_1cyyT5s0IGnXozjW_112': '../../../../data/seedling/seedling_keyframes/keyframes/cineast_metadata_part1/v_1cyyT5s0IGnXozjW/v_1cyyT5s0IGnXozjW_112.png',\n",
       " 'v_1cyyT5s0IGnXozjW_113': '../../../../data/seedling/seedling_keyframes/keyframes/cineast_metadata_part1/v_1cyyT5s0IGnXozjW/v_1cyyT5s0IGnXozjW_113.png',\n",
       " 'v_1cyyT5s0IGnXozjW_114': '../../../../data/seedling/seedling_keyframes/keyframes/cineast_metadata_part1/v_1cyyT5s0IGnXozjW/v_1cyyT5s0IGnXozjW_114.png',\n",
       " 'v_1cyyT5s0IGnXozjW_115': '../../../../data/seedling/seedling_keyframes/keyframes/cineast_metadata_part1/v_1cyyT5s0IGnXozjW/v_1cyyT5s0IGnXozjW_115.png',\n",
       " 'v_1cyyT5s0IGnXozjW_116': '../../../../data/seedling/seedling_keyframes/keyframes/cineast_metadata_part1/v_1cyyT5s0IGnXozjW/v_1cyyT5s0IGnXozjW_116.png',\n",
       " 'v_1cyyT5s0IGnXozjW_117': '../../../../data/seedling/seedling_keyframes/keyframes/cineast_metadata_part1/v_1cyyT5s0IGnXozjW/v_1cyyT5s0IGnXozjW_117.png',\n",
       " 'v_1cyyT5s0IGnXozjW_118': '../../../../data/seedling/seedling_keyframes/keyframes/cineast_metadata_part1/v_1cyyT5s0IGnXozjW/v_1cyyT5s0IGnXozjW_118.png',\n",
       " 'v_1cyyT5s0IGnXozjW_119': '../../../../data/seedling/seedling_keyframes/keyframes/cineast_metadata_part1/v_1cyyT5s0IGnXozjW/v_1cyyT5s0IGnXozjW_119.png',\n",
       " 'v_1cyyT5s0IGnXozjW_11': '../../../../data/seedling/seedling_keyframes/keyframes/cineast_metadata_part1/v_1cyyT5s0IGnXozjW/v_1cyyT5s0IGnXozjW_11.png',\n",
       " 'v_1cyyT5s0IGnXozjW_120': '../../../../data/seedling/seedling_keyframes/keyframes/cineast_metadata_part1/v_1cyyT5s0IGnXozjW/v_1cyyT5s0IGnXozjW_120.png',\n",
       " 'v_1cyyT5s0IGnXozjW_121': '../../../../data/seedling/seedling_keyframes/keyframes/cineast_metadata_part1/v_1cyyT5s0IGnXozjW/v_1cyyT5s0IGnXozjW_121.png',\n",
       " 'v_1cyyT5s0IGnXozjW_122': '../../../../data/seedling/seedling_keyframes/keyframes/cineast_metadata_part1/v_1cyyT5s0IGnXozjW/v_1cyyT5s0IGnXozjW_122.png',\n",
       " 'v_1cyyT5s0IGnXozjW_123': '../../../../data/seedling/seedling_keyframes/keyframes/cineast_metadata_part1/v_1cyyT5s0IGnXozjW/v_1cyyT5s0IGnXozjW_123.png',\n",
       " 'v_1cyyT5s0IGnXozjW_124': '../../../../data/seedling/seedling_keyframes/keyframes/cineast_metadata_part1/v_1cyyT5s0IGnXozjW/v_1cyyT5s0IGnXozjW_124.png',\n",
       " 'v_1cyyT5s0IGnXozjW_125': '../../../../data/seedling/seedling_keyframes/keyframes/cineast_metadata_part1/v_1cyyT5s0IGnXozjW/v_1cyyT5s0IGnXozjW_125.png',\n",
       " 'v_1cyyT5s0IGnXozjW_126': '../../../../data/seedling/seedling_keyframes/keyframes/cineast_metadata_part1/v_1cyyT5s0IGnXozjW/v_1cyyT5s0IGnXozjW_126.png',\n",
       " 'v_1cyyT5s0IGnXozjW_127': '../../../../data/seedling/seedling_keyframes/keyframes/cineast_metadata_part1/v_1cyyT5s0IGnXozjW/v_1cyyT5s0IGnXozjW_127.png',\n",
       " 'v_1cyyT5s0IGnXozjW_128': '../../../../data/seedling/seedling_keyframes/keyframes/cineast_metadata_part1/v_1cyyT5s0IGnXozjW/v_1cyyT5s0IGnXozjW_128.png',\n",
       " 'v_1cyyT5s0IGnXozjW_129': '../../../../data/seedling/seedling_keyframes/keyframes/cineast_metadata_part1/v_1cyyT5s0IGnXozjW/v_1cyyT5s0IGnXozjW_129.png',\n",
       " 'v_1cyyT5s0IGnXozjW_12': '../../../../data/seedling/seedling_keyframes/keyframes/cineast_metadata_part1/v_1cyyT5s0IGnXozjW/v_1cyyT5s0IGnXozjW_12.png',\n",
       " 'v_1cyyT5s0IGnXozjW_130': '../../../../data/seedling/seedling_keyframes/keyframes/cineast_metadata_part1/v_1cyyT5s0IGnXozjW/v_1cyyT5s0IGnXozjW_130.png',\n",
       " 'v_1cyyT5s0IGnXozjW_131': '../../../../data/seedling/seedling_keyframes/keyframes/cineast_metadata_part1/v_1cyyT5s0IGnXozjW/v_1cyyT5s0IGnXozjW_131.png',\n",
       " 'v_1cyyT5s0IGnXozjW_132': '../../../../data/seedling/seedling_keyframes/keyframes/cineast_metadata_part1/v_1cyyT5s0IGnXozjW/v_1cyyT5s0IGnXozjW_132.png',\n",
       " 'v_1cyyT5s0IGnXozjW_133': '../../../../data/seedling/seedling_keyframes/keyframes/cineast_metadata_part1/v_1cyyT5s0IGnXozjW/v_1cyyT5s0IGnXozjW_133.png',\n",
       " 'v_1cyyT5s0IGnXozjW_134': '../../../../data/seedling/seedling_keyframes/keyframes/cineast_metadata_part1/v_1cyyT5s0IGnXozjW/v_1cyyT5s0IGnXozjW_134.png',\n",
       " 'v_1cyyT5s0IGnXozjW_135': '../../../../data/seedling/seedling_keyframes/keyframes/cineast_metadata_part1/v_1cyyT5s0IGnXozjW/v_1cyyT5s0IGnXozjW_135.png',\n",
       " 'v_1cyyT5s0IGnXozjW_136': '../../../../data/seedling/seedling_keyframes/keyframes/cineast_metadata_part1/v_1cyyT5s0IGnXozjW/v_1cyyT5s0IGnXozjW_136.png',\n",
       " 'v_1cyyT5s0IGnXozjW_137': '../../../../data/seedling/seedling_keyframes/keyframes/cineast_metadata_part1/v_1cyyT5s0IGnXozjW/v_1cyyT5s0IGnXozjW_137.png',\n",
       " 'v_1cyyT5s0IGnXozjW_138': '../../../../data/seedling/seedling_keyframes/keyframes/cineast_metadata_part1/v_1cyyT5s0IGnXozjW/v_1cyyT5s0IGnXozjW_138.png',\n",
       " 'v_1cyyT5s0IGnXozjW_139': '../../../../data/seedling/seedling_keyframes/keyframes/cineast_metadata_part1/v_1cyyT5s0IGnXozjW/v_1cyyT5s0IGnXozjW_139.png',\n",
       " 'v_1cyyT5s0IGnXozjW_13': '../../../../data/seedling/seedling_keyframes/keyframes/cineast_metadata_part1/v_1cyyT5s0IGnXozjW/v_1cyyT5s0IGnXozjW_13.png',\n",
       " 'v_1cyyT5s0IGnXozjW_140': '../../../../data/seedling/seedling_keyframes/keyframes/cineast_metadata_part1/v_1cyyT5s0IGnXozjW/v_1cyyT5s0IGnXozjW_140.png',\n",
       " 'v_1cyyT5s0IGnXozjW_141': '../../../../data/seedling/seedling_keyframes/keyframes/cineast_metadata_part1/v_1cyyT5s0IGnXozjW/v_1cyyT5s0IGnXozjW_141.png',\n",
       " 'v_1cyyT5s0IGnXozjW_142': '../../../../data/seedling/seedling_keyframes/keyframes/cineast_metadata_part1/v_1cyyT5s0IGnXozjW/v_1cyyT5s0IGnXozjW_142.png',\n",
       " 'v_1cyyT5s0IGnXozjW_143': '../../../../data/seedling/seedling_keyframes/keyframes/cineast_metadata_part1/v_1cyyT5s0IGnXozjW/v_1cyyT5s0IGnXozjW_143.png',\n",
       " 'v_1cyyT5s0IGnXozjW_144': '../../../../data/seedling/seedling_keyframes/keyframes/cineast_metadata_part1/v_1cyyT5s0IGnXozjW/v_1cyyT5s0IGnXozjW_144.png',\n",
       " 'v_1cyyT5s0IGnXozjW_145': '../../../../data/seedling/seedling_keyframes/keyframes/cineast_metadata_part1/v_1cyyT5s0IGnXozjW/v_1cyyT5s0IGnXozjW_145.png',\n",
       " 'v_1cyyT5s0IGnXozjW_146': '../../../../data/seedling/seedling_keyframes/keyframes/cineast_metadata_part1/v_1cyyT5s0IGnXozjW/v_1cyyT5s0IGnXozjW_146.png',\n",
       " 'v_1cyyT5s0IGnXozjW_147': '../../../../data/seedling/seedling_keyframes/keyframes/cineast_metadata_part1/v_1cyyT5s0IGnXozjW/v_1cyyT5s0IGnXozjW_147.png',\n",
       " 'v_1cyyT5s0IGnXozjW_148': '../../../../data/seedling/seedling_keyframes/keyframes/cineast_metadata_part1/v_1cyyT5s0IGnXozjW/v_1cyyT5s0IGnXozjW_148.png',\n",
       " 'v_1cyyT5s0IGnXozjW_149': '../../../../data/seedling/seedling_keyframes/keyframes/cineast_metadata_part1/v_1cyyT5s0IGnXozjW/v_1cyyT5s0IGnXozjW_149.png',\n",
       " 'v_1cyyT5s0IGnXozjW_14': '../../../../data/seedling/seedling_keyframes/keyframes/cineast_metadata_part1/v_1cyyT5s0IGnXozjW/v_1cyyT5s0IGnXozjW_14.png',\n",
       " 'v_1cyyT5s0IGnXozjW_150': '../../../../data/seedling/seedling_keyframes/keyframes/cineast_metadata_part1/v_1cyyT5s0IGnXozjW/v_1cyyT5s0IGnXozjW_150.png',\n",
       " 'v_1cyyT5s0IGnXozjW_151': '../../../../data/seedling/seedling_keyframes/keyframes/cineast_metadata_part1/v_1cyyT5s0IGnXozjW/v_1cyyT5s0IGnXozjW_151.png',\n",
       " 'v_1cyyT5s0IGnXozjW_152': '../../../../data/seedling/seedling_keyframes/keyframes/cineast_metadata_part1/v_1cyyT5s0IGnXozjW/v_1cyyT5s0IGnXozjW_152.png',\n",
       " 'v_1cyyT5s0IGnXozjW_153': '../../../../data/seedling/seedling_keyframes/keyframes/cineast_metadata_part1/v_1cyyT5s0IGnXozjW/v_1cyyT5s0IGnXozjW_153.png',\n",
       " 'v_1cyyT5s0IGnXozjW_154': '../../../../data/seedling/seedling_keyframes/keyframes/cineast_metadata_part1/v_1cyyT5s0IGnXozjW/v_1cyyT5s0IGnXozjW_154.png',\n",
       " 'v_1cyyT5s0IGnXozjW_155': '../../../../data/seedling/seedling_keyframes/keyframes/cineast_metadata_part1/v_1cyyT5s0IGnXozjW/v_1cyyT5s0IGnXozjW_155.png',\n",
       " 'v_1cyyT5s0IGnXozjW_156': '../../../../data/seedling/seedling_keyframes/keyframes/cineast_metadata_part1/v_1cyyT5s0IGnXozjW/v_1cyyT5s0IGnXozjW_156.png',\n",
       " 'v_1cyyT5s0IGnXozjW_157': '../../../../data/seedling/seedling_keyframes/keyframes/cineast_metadata_part1/v_1cyyT5s0IGnXozjW/v_1cyyT5s0IGnXozjW_157.png',\n",
       " 'v_1cyyT5s0IGnXozjW_158': '../../../../data/seedling/seedling_keyframes/keyframes/cineast_metadata_part1/v_1cyyT5s0IGnXozjW/v_1cyyT5s0IGnXozjW_158.png',\n",
       " 'v_1cyyT5s0IGnXozjW_159': '../../../../data/seedling/seedling_keyframes/keyframes/cineast_metadata_part1/v_1cyyT5s0IGnXozjW/v_1cyyT5s0IGnXozjW_159.png',\n",
       " 'v_1cyyT5s0IGnXozjW_15': '../../../../data/seedling/seedling_keyframes/keyframes/cineast_metadata_part1/v_1cyyT5s0IGnXozjW/v_1cyyT5s0IGnXozjW_15.png',\n",
       " 'v_1cyyT5s0IGnXozjW_160': '../../../../data/seedling/seedling_keyframes/keyframes/cineast_metadata_part1/v_1cyyT5s0IGnXozjW/v_1cyyT5s0IGnXozjW_160.png',\n",
       " 'v_1cyyT5s0IGnXozjW_161': '../../../../data/seedling/seedling_keyframes/keyframes/cineast_metadata_part1/v_1cyyT5s0IGnXozjW/v_1cyyT5s0IGnXozjW_161.png',\n",
       " 'v_1cyyT5s0IGnXozjW_162': '../../../../data/seedling/seedling_keyframes/keyframes/cineast_metadata_part1/v_1cyyT5s0IGnXozjW/v_1cyyT5s0IGnXozjW_162.png',\n",
       " 'v_1cyyT5s0IGnXozjW_163': '../../../../data/seedling/seedling_keyframes/keyframes/cineast_metadata_part1/v_1cyyT5s0IGnXozjW/v_1cyyT5s0IGnXozjW_163.png',\n",
       " 'v_1cyyT5s0IGnXozjW_164': '../../../../data/seedling/seedling_keyframes/keyframes/cineast_metadata_part1/v_1cyyT5s0IGnXozjW/v_1cyyT5s0IGnXozjW_164.png',\n",
       " 'v_1cyyT5s0IGnXozjW_165': '../../../../data/seedling/seedling_keyframes/keyframes/cineast_metadata_part1/v_1cyyT5s0IGnXozjW/v_1cyyT5s0IGnXozjW_165.png',\n",
       " 'v_1cyyT5s0IGnXozjW_166': '../../../../data/seedling/seedling_keyframes/keyframes/cineast_metadata_part1/v_1cyyT5s0IGnXozjW/v_1cyyT5s0IGnXozjW_166.png',\n",
       " 'v_1cyyT5s0IGnXozjW_167': '../../../../data/seedling/seedling_keyframes/keyframes/cineast_metadata_part1/v_1cyyT5s0IGnXozjW/v_1cyyT5s0IGnXozjW_167.png',\n",
       " 'v_1cyyT5s0IGnXozjW_168': '../../../../data/seedling/seedling_keyframes/keyframes/cineast_metadata_part1/v_1cyyT5s0IGnXozjW/v_1cyyT5s0IGnXozjW_168.png',\n",
       " 'v_1cyyT5s0IGnXozjW_169': '../../../../data/seedling/seedling_keyframes/keyframes/cineast_metadata_part1/v_1cyyT5s0IGnXozjW/v_1cyyT5s0IGnXozjW_169.png',\n",
       " 'v_1cyyT5s0IGnXozjW_16': '../../../../data/seedling/seedling_keyframes/keyframes/cineast_metadata_part1/v_1cyyT5s0IGnXozjW/v_1cyyT5s0IGnXozjW_16.png',\n",
       " 'v_1cyyT5s0IGnXozjW_170': '../../../../data/seedling/seedling_keyframes/keyframes/cineast_metadata_part1/v_1cyyT5s0IGnXozjW/v_1cyyT5s0IGnXozjW_170.png',\n",
       " 'v_1cyyT5s0IGnXozjW_171': '../../../../data/seedling/seedling_keyframes/keyframes/cineast_metadata_part1/v_1cyyT5s0IGnXozjW/v_1cyyT5s0IGnXozjW_171.png',\n",
       " 'v_1cyyT5s0IGnXozjW_172': '../../../../data/seedling/seedling_keyframes/keyframes/cineast_metadata_part1/v_1cyyT5s0IGnXozjW/v_1cyyT5s0IGnXozjW_172.png',\n",
       " 'v_1cyyT5s0IGnXozjW_173': '../../../../data/seedling/seedling_keyframes/keyframes/cineast_metadata_part1/v_1cyyT5s0IGnXozjW/v_1cyyT5s0IGnXozjW_173.png',\n",
       " 'v_1cyyT5s0IGnXozjW_174': '../../../../data/seedling/seedling_keyframes/keyframes/cineast_metadata_part1/v_1cyyT5s0IGnXozjW/v_1cyyT5s0IGnXozjW_174.png',\n",
       " 'v_1cyyT5s0IGnXozjW_175': '../../../../data/seedling/seedling_keyframes/keyframes/cineast_metadata_part1/v_1cyyT5s0IGnXozjW/v_1cyyT5s0IGnXozjW_175.png',\n",
       " 'v_1cyyT5s0IGnXozjW_176': '../../../../data/seedling/seedling_keyframes/keyframes/cineast_metadata_part1/v_1cyyT5s0IGnXozjW/v_1cyyT5s0IGnXozjW_176.png',\n",
       " 'v_1cyyT5s0IGnXozjW_177': '../../../../data/seedling/seedling_keyframes/keyframes/cineast_metadata_part1/v_1cyyT5s0IGnXozjW/v_1cyyT5s0IGnXozjW_177.png',\n",
       " 'v_1cyyT5s0IGnXozjW_178': '../../../../data/seedling/seedling_keyframes/keyframes/cineast_metadata_part1/v_1cyyT5s0IGnXozjW/v_1cyyT5s0IGnXozjW_178.png',\n",
       " 'v_1cyyT5s0IGnXozjW_179': '../../../../data/seedling/seedling_keyframes/keyframes/cineast_metadata_part1/v_1cyyT5s0IGnXozjW/v_1cyyT5s0IGnXozjW_179.png',\n",
       " 'v_1cyyT5s0IGnXozjW_17': '../../../../data/seedling/seedling_keyframes/keyframes/cineast_metadata_part1/v_1cyyT5s0IGnXozjW/v_1cyyT5s0IGnXozjW_17.png',\n",
       " 'v_1cyyT5s0IGnXozjW_180': '../../../../data/seedling/seedling_keyframes/keyframes/cineast_metadata_part1/v_1cyyT5s0IGnXozjW/v_1cyyT5s0IGnXozjW_180.png',\n",
       " 'v_1cyyT5s0IGnXozjW_181': '../../../../data/seedling/seedling_keyframes/keyframes/cineast_metadata_part1/v_1cyyT5s0IGnXozjW/v_1cyyT5s0IGnXozjW_181.png',\n",
       " 'v_1cyyT5s0IGnXozjW_182': '../../../../data/seedling/seedling_keyframes/keyframes/cineast_metadata_part1/v_1cyyT5s0IGnXozjW/v_1cyyT5s0IGnXozjW_182.png',\n",
       " 'v_1cyyT5s0IGnXozjW_183': '../../../../data/seedling/seedling_keyframes/keyframes/cineast_metadata_part1/v_1cyyT5s0IGnXozjW/v_1cyyT5s0IGnXozjW_183.png',\n",
       " 'v_1cyyT5s0IGnXozjW_184': '../../../../data/seedling/seedling_keyframes/keyframes/cineast_metadata_part1/v_1cyyT5s0IGnXozjW/v_1cyyT5s0IGnXozjW_184.png',\n",
       " 'v_1cyyT5s0IGnXozjW_185': '../../../../data/seedling/seedling_keyframes/keyframes/cineast_metadata_part1/v_1cyyT5s0IGnXozjW/v_1cyyT5s0IGnXozjW_185.png',\n",
       " 'v_1cyyT5s0IGnXozjW_186': '../../../../data/seedling/seedling_keyframes/keyframes/cineast_metadata_part1/v_1cyyT5s0IGnXozjW/v_1cyyT5s0IGnXozjW_186.png',\n",
       " 'v_1cyyT5s0IGnXozjW_187': '../../../../data/seedling/seedling_keyframes/keyframes/cineast_metadata_part1/v_1cyyT5s0IGnXozjW/v_1cyyT5s0IGnXozjW_187.png',\n",
       " 'v_1cyyT5s0IGnXozjW_188': '../../../../data/seedling/seedling_keyframes/keyframes/cineast_metadata_part1/v_1cyyT5s0IGnXozjW/v_1cyyT5s0IGnXozjW_188.png',\n",
       " 'v_1cyyT5s0IGnXozjW_189': '../../../../data/seedling/seedling_keyframes/keyframes/cineast_metadata_part1/v_1cyyT5s0IGnXozjW/v_1cyyT5s0IGnXozjW_189.png',\n",
       " 'v_1cyyT5s0IGnXozjW_18': '../../../../data/seedling/seedling_keyframes/keyframes/cineast_metadata_part1/v_1cyyT5s0IGnXozjW/v_1cyyT5s0IGnXozjW_18.png',\n",
       " 'v_1cyyT5s0IGnXozjW_190': '../../../../data/seedling/seedling_keyframes/keyframes/cineast_metadata_part1/v_1cyyT5s0IGnXozjW/v_1cyyT5s0IGnXozjW_190.png',\n",
       " 'v_1cyyT5s0IGnXozjW_191': '../../../../data/seedling/seedling_keyframes/keyframes/cineast_metadata_part1/v_1cyyT5s0IGnXozjW/v_1cyyT5s0IGnXozjW_191.png',\n",
       " 'v_1cyyT5s0IGnXozjW_192': '../../../../data/seedling/seedling_keyframes/keyframes/cineast_metadata_part1/v_1cyyT5s0IGnXozjW/v_1cyyT5s0IGnXozjW_192.png',\n",
       " 'v_1cyyT5s0IGnXozjW_193': '../../../../data/seedling/seedling_keyframes/keyframes/cineast_metadata_part1/v_1cyyT5s0IGnXozjW/v_1cyyT5s0IGnXozjW_193.png',\n",
       " 'v_1cyyT5s0IGnXozjW_194': '../../../../data/seedling/seedling_keyframes/keyframes/cineast_metadata_part1/v_1cyyT5s0IGnXozjW/v_1cyyT5s0IGnXozjW_194.png',\n",
       " 'v_1cyyT5s0IGnXozjW_195': '../../../../data/seedling/seedling_keyframes/keyframes/cineast_metadata_part1/v_1cyyT5s0IGnXozjW/v_1cyyT5s0IGnXozjW_195.png',\n",
       " 'v_1cyyT5s0IGnXozjW_196': '../../../../data/seedling/seedling_keyframes/keyframes/cineast_metadata_part1/v_1cyyT5s0IGnXozjW/v_1cyyT5s0IGnXozjW_196.png',\n",
       " 'v_1cyyT5s0IGnXozjW_197': '../../../../data/seedling/seedling_keyframes/keyframes/cineast_metadata_part1/v_1cyyT5s0IGnXozjW/v_1cyyT5s0IGnXozjW_197.png',\n",
       " 'v_1cyyT5s0IGnXozjW_198': '../../../../data/seedling/seedling_keyframes/keyframes/cineast_metadata_part1/v_1cyyT5s0IGnXozjW/v_1cyyT5s0IGnXozjW_198.png',\n",
       " 'v_1cyyT5s0IGnXozjW_199': '../../../../data/seedling/seedling_keyframes/keyframes/cineast_metadata_part1/v_1cyyT5s0IGnXozjW/v_1cyyT5s0IGnXozjW_199.png',\n",
       " 'v_1cyyT5s0IGnXozjW_19': '../../../../data/seedling/seedling_keyframes/keyframes/cineast_metadata_part1/v_1cyyT5s0IGnXozjW/v_1cyyT5s0IGnXozjW_19.png',\n",
       " 'v_1cyyT5s0IGnXozjW_1': '../../../../data/seedling/seedling_keyframes/keyframes/cineast_metadata_part1/v_1cyyT5s0IGnXozjW/v_1cyyT5s0IGnXozjW_1.png',\n",
       " 'v_1cyyT5s0IGnXozjW_200': '../../../../data/seedling/seedling_keyframes/keyframes/cineast_metadata_part1/v_1cyyT5s0IGnXozjW/v_1cyyT5s0IGnXozjW_200.png',\n",
       " 'v_1cyyT5s0IGnXozjW_201': '../../../../data/seedling/seedling_keyframes/keyframes/cineast_metadata_part1/v_1cyyT5s0IGnXozjW/v_1cyyT5s0IGnXozjW_201.png',\n",
       " 'v_1cyyT5s0IGnXozjW_202': '../../../../data/seedling/seedling_keyframes/keyframes/cineast_metadata_part1/v_1cyyT5s0IGnXozjW/v_1cyyT5s0IGnXozjW_202.png',\n",
       " 'v_1cyyT5s0IGnXozjW_203': '../../../../data/seedling/seedling_keyframes/keyframes/cineast_metadata_part1/v_1cyyT5s0IGnXozjW/v_1cyyT5s0IGnXozjW_203.png',\n",
       " 'v_1cyyT5s0IGnXozjW_204': '../../../../data/seedling/seedling_keyframes/keyframes/cineast_metadata_part1/v_1cyyT5s0IGnXozjW/v_1cyyT5s0IGnXozjW_204.png',\n",
       " 'v_1cyyT5s0IGnXozjW_205': '../../../../data/seedling/seedling_keyframes/keyframes/cineast_metadata_part1/v_1cyyT5s0IGnXozjW/v_1cyyT5s0IGnXozjW_205.png',\n",
       " 'v_1cyyT5s0IGnXozjW_206': '../../../../data/seedling/seedling_keyframes/keyframes/cineast_metadata_part1/v_1cyyT5s0IGnXozjW/v_1cyyT5s0IGnXozjW_206.png',\n",
       " 'v_1cyyT5s0IGnXozjW_207': '../../../../data/seedling/seedling_keyframes/keyframes/cineast_metadata_part1/v_1cyyT5s0IGnXozjW/v_1cyyT5s0IGnXozjW_207.png',\n",
       " 'v_1cyyT5s0IGnXozjW_208': '../../../../data/seedling/seedling_keyframes/keyframes/cineast_metadata_part1/v_1cyyT5s0IGnXozjW/v_1cyyT5s0IGnXozjW_208.png',\n",
       " 'v_1cyyT5s0IGnXozjW_209': '../../../../data/seedling/seedling_keyframes/keyframes/cineast_metadata_part1/v_1cyyT5s0IGnXozjW/v_1cyyT5s0IGnXozjW_209.png',\n",
       " 'v_1cyyT5s0IGnXozjW_20': '../../../../data/seedling/seedling_keyframes/keyframes/cineast_metadata_part1/v_1cyyT5s0IGnXozjW/v_1cyyT5s0IGnXozjW_20.png',\n",
       " 'v_1cyyT5s0IGnXozjW_210': '../../../../data/seedling/seedling_keyframes/keyframes/cineast_metadata_part1/v_1cyyT5s0IGnXozjW/v_1cyyT5s0IGnXozjW_210.png',\n",
       " 'v_1cyyT5s0IGnXozjW_211': '../../../../data/seedling/seedling_keyframes/keyframes/cineast_metadata_part1/v_1cyyT5s0IGnXozjW/v_1cyyT5s0IGnXozjW_211.png',\n",
       " 'v_1cyyT5s0IGnXozjW_212': '../../../../data/seedling/seedling_keyframes/keyframes/cineast_metadata_part1/v_1cyyT5s0IGnXozjW/v_1cyyT5s0IGnXozjW_212.png',\n",
       " 'v_1cyyT5s0IGnXozjW_213': '../../../../data/seedling/seedling_keyframes/keyframes/cineast_metadata_part1/v_1cyyT5s0IGnXozjW/v_1cyyT5s0IGnXozjW_213.png',\n",
       " 'v_1cyyT5s0IGnXozjW_214': '../../../../data/seedling/seedling_keyframes/keyframes/cineast_metadata_part1/v_1cyyT5s0IGnXozjW/v_1cyyT5s0IGnXozjW_214.png',\n",
       " 'v_1cyyT5s0IGnXozjW_215': '../../../../data/seedling/seedling_keyframes/keyframes/cineast_metadata_part1/v_1cyyT5s0IGnXozjW/v_1cyyT5s0IGnXozjW_215.png',\n",
       " 'v_1cyyT5s0IGnXozjW_216': '../../../../data/seedling/seedling_keyframes/keyframes/cineast_metadata_part1/v_1cyyT5s0IGnXozjW/v_1cyyT5s0IGnXozjW_216.png',\n",
       " 'v_1cyyT5s0IGnXozjW_217': '../../../../data/seedling/seedling_keyframes/keyframes/cineast_metadata_part1/v_1cyyT5s0IGnXozjW/v_1cyyT5s0IGnXozjW_217.png',\n",
       " 'v_1cyyT5s0IGnXozjW_218': '../../../../data/seedling/seedling_keyframes/keyframes/cineast_metadata_part1/v_1cyyT5s0IGnXozjW/v_1cyyT5s0IGnXozjW_218.png',\n",
       " 'v_1cyyT5s0IGnXozjW_219': '../../../../data/seedling/seedling_keyframes/keyframes/cineast_metadata_part1/v_1cyyT5s0IGnXozjW/v_1cyyT5s0IGnXozjW_219.png',\n",
       " 'v_1cyyT5s0IGnXozjW_21': '../../../../data/seedling/seedling_keyframes/keyframes/cineast_metadata_part1/v_1cyyT5s0IGnXozjW/v_1cyyT5s0IGnXozjW_21.png',\n",
       " 'v_1cyyT5s0IGnXozjW_220': '../../../../data/seedling/seedling_keyframes/keyframes/cineast_metadata_part1/v_1cyyT5s0IGnXozjW/v_1cyyT5s0IGnXozjW_220.png',\n",
       " 'v_1cyyT5s0IGnXozjW_221': '../../../../data/seedling/seedling_keyframes/keyframes/cineast_metadata_part1/v_1cyyT5s0IGnXozjW/v_1cyyT5s0IGnXozjW_221.png',\n",
       " 'v_1cyyT5s0IGnXozjW_222': '../../../../data/seedling/seedling_keyframes/keyframes/cineast_metadata_part1/v_1cyyT5s0IGnXozjW/v_1cyyT5s0IGnXozjW_222.png',\n",
       " 'v_1cyyT5s0IGnXozjW_223': '../../../../data/seedling/seedling_keyframes/keyframes/cineast_metadata_part1/v_1cyyT5s0IGnXozjW/v_1cyyT5s0IGnXozjW_223.png',\n",
       " 'v_1cyyT5s0IGnXozjW_224': '../../../../data/seedling/seedling_keyframes/keyframes/cineast_metadata_part1/v_1cyyT5s0IGnXozjW/v_1cyyT5s0IGnXozjW_224.png',\n",
       " 'v_1cyyT5s0IGnXozjW_225': '../../../../data/seedling/seedling_keyframes/keyframes/cineast_metadata_part1/v_1cyyT5s0IGnXozjW/v_1cyyT5s0IGnXozjW_225.png',\n",
       " 'v_1cyyT5s0IGnXozjW_226': '../../../../data/seedling/seedling_keyframes/keyframes/cineast_metadata_part1/v_1cyyT5s0IGnXozjW/v_1cyyT5s0IGnXozjW_226.png',\n",
       " 'v_1cyyT5s0IGnXozjW_227': '../../../../data/seedling/seedling_keyframes/keyframes/cineast_metadata_part1/v_1cyyT5s0IGnXozjW/v_1cyyT5s0IGnXozjW_227.png',\n",
       " 'v_1cyyT5s0IGnXozjW_228': '../../../../data/seedling/seedling_keyframes/keyframes/cineast_metadata_part1/v_1cyyT5s0IGnXozjW/v_1cyyT5s0IGnXozjW_228.png',\n",
       " 'v_1cyyT5s0IGnXozjW_229': '../../../../data/seedling/seedling_keyframes/keyframes/cineast_metadata_part1/v_1cyyT5s0IGnXozjW/v_1cyyT5s0IGnXozjW_229.png',\n",
       " 'v_1cyyT5s0IGnXozjW_22': '../../../../data/seedling/seedling_keyframes/keyframes/cineast_metadata_part1/v_1cyyT5s0IGnXozjW/v_1cyyT5s0IGnXozjW_22.png',\n",
       " 'v_1cyyT5s0IGnXozjW_230': '../../../../data/seedling/seedling_keyframes/keyframes/cineast_metadata_part1/v_1cyyT5s0IGnXozjW/v_1cyyT5s0IGnXozjW_230.png',\n",
       " 'v_1cyyT5s0IGnXozjW_231': '../../../../data/seedling/seedling_keyframes/keyframes/cineast_metadata_part1/v_1cyyT5s0IGnXozjW/v_1cyyT5s0IGnXozjW_231.png',\n",
       " 'v_1cyyT5s0IGnXozjW_232': '../../../../data/seedling/seedling_keyframes/keyframes/cineast_metadata_part1/v_1cyyT5s0IGnXozjW/v_1cyyT5s0IGnXozjW_232.png',\n",
       " 'v_1cyyT5s0IGnXozjW_233': '../../../../data/seedling/seedling_keyframes/keyframes/cineast_metadata_part1/v_1cyyT5s0IGnXozjW/v_1cyyT5s0IGnXozjW_233.png',\n",
       " 'v_1cyyT5s0IGnXozjW_234': '../../../../data/seedling/seedling_keyframes/keyframes/cineast_metadata_part1/v_1cyyT5s0IGnXozjW/v_1cyyT5s0IGnXozjW_234.png',\n",
       " 'v_1cyyT5s0IGnXozjW_235': '../../../../data/seedling/seedling_keyframes/keyframes/cineast_metadata_part1/v_1cyyT5s0IGnXozjW/v_1cyyT5s0IGnXozjW_235.png',\n",
       " 'v_1cyyT5s0IGnXozjW_236': '../../../../data/seedling/seedling_keyframes/keyframes/cineast_metadata_part1/v_1cyyT5s0IGnXozjW/v_1cyyT5s0IGnXozjW_236.png',\n",
       " 'v_1cyyT5s0IGnXozjW_237': '../../../../data/seedling/seedling_keyframes/keyframes/cineast_metadata_part1/v_1cyyT5s0IGnXozjW/v_1cyyT5s0IGnXozjW_237.png',\n",
       " 'v_1cyyT5s0IGnXozjW_238': '../../../../data/seedling/seedling_keyframes/keyframes/cineast_metadata_part1/v_1cyyT5s0IGnXozjW/v_1cyyT5s0IGnXozjW_238.png',\n",
       " 'v_1cyyT5s0IGnXozjW_239': '../../../../data/seedling/seedling_keyframes/keyframes/cineast_metadata_part1/v_1cyyT5s0IGnXozjW/v_1cyyT5s0IGnXozjW_239.png',\n",
       " 'v_1cyyT5s0IGnXozjW_23': '../../../../data/seedling/seedling_keyframes/keyframes/cineast_metadata_part1/v_1cyyT5s0IGnXozjW/v_1cyyT5s0IGnXozjW_23.png',\n",
       " 'v_1cyyT5s0IGnXozjW_240': '../../../../data/seedling/seedling_keyframes/keyframes/cineast_metadata_part1/v_1cyyT5s0IGnXozjW/v_1cyyT5s0IGnXozjW_240.png',\n",
       " 'v_1cyyT5s0IGnXozjW_241': '../../../../data/seedling/seedling_keyframes/keyframes/cineast_metadata_part1/v_1cyyT5s0IGnXozjW/v_1cyyT5s0IGnXozjW_241.png',\n",
       " 'v_1cyyT5s0IGnXozjW_242': '../../../../data/seedling/seedling_keyframes/keyframes/cineast_metadata_part1/v_1cyyT5s0IGnXozjW/v_1cyyT5s0IGnXozjW_242.png',\n",
       " 'v_1cyyT5s0IGnXozjW_243': '../../../../data/seedling/seedling_keyframes/keyframes/cineast_metadata_part1/v_1cyyT5s0IGnXozjW/v_1cyyT5s0IGnXozjW_243.png',\n",
       " 'v_1cyyT5s0IGnXozjW_244': '../../../../data/seedling/seedling_keyframes/keyframes/cineast_metadata_part1/v_1cyyT5s0IGnXozjW/v_1cyyT5s0IGnXozjW_244.png',\n",
       " 'v_1cyyT5s0IGnXozjW_245': '../../../../data/seedling/seedling_keyframes/keyframes/cineast_metadata_part1/v_1cyyT5s0IGnXozjW/v_1cyyT5s0IGnXozjW_245.png',\n",
       " 'v_1cyyT5s0IGnXozjW_246': '../../../../data/seedling/seedling_keyframes/keyframes/cineast_metadata_part1/v_1cyyT5s0IGnXozjW/v_1cyyT5s0IGnXozjW_246.png',\n",
       " 'v_1cyyT5s0IGnXozjW_247': '../../../../data/seedling/seedling_keyframes/keyframes/cineast_metadata_part1/v_1cyyT5s0IGnXozjW/v_1cyyT5s0IGnXozjW_247.png',\n",
       " 'v_1cyyT5s0IGnXozjW_248': '../../../../data/seedling/seedling_keyframes/keyframes/cineast_metadata_part1/v_1cyyT5s0IGnXozjW/v_1cyyT5s0IGnXozjW_248.png',\n",
       " 'v_1cyyT5s0IGnXozjW_249': '../../../../data/seedling/seedling_keyframes/keyframes/cineast_metadata_part1/v_1cyyT5s0IGnXozjW/v_1cyyT5s0IGnXozjW_249.png',\n",
       " 'v_1cyyT5s0IGnXozjW_24': '../../../../data/seedling/seedling_keyframes/keyframes/cineast_metadata_part1/v_1cyyT5s0IGnXozjW/v_1cyyT5s0IGnXozjW_24.png',\n",
       " 'v_1cyyT5s0IGnXozjW_250': '../../../../data/seedling/seedling_keyframes/keyframes/cineast_metadata_part1/v_1cyyT5s0IGnXozjW/v_1cyyT5s0IGnXozjW_250.png',\n",
       " 'v_1cyyT5s0IGnXozjW_251': '../../../../data/seedling/seedling_keyframes/keyframes/cineast_metadata_part1/v_1cyyT5s0IGnXozjW/v_1cyyT5s0IGnXozjW_251.png',\n",
       " 'v_1cyyT5s0IGnXozjW_252': '../../../../data/seedling/seedling_keyframes/keyframes/cineast_metadata_part1/v_1cyyT5s0IGnXozjW/v_1cyyT5s0IGnXozjW_252.png',\n",
       " 'v_1cyyT5s0IGnXozjW_253': '../../../../data/seedling/seedling_keyframes/keyframes/cineast_metadata_part1/v_1cyyT5s0IGnXozjW/v_1cyyT5s0IGnXozjW_253.png',\n",
       " 'v_1cyyT5s0IGnXozjW_254': '../../../../data/seedling/seedling_keyframes/keyframes/cineast_metadata_part1/v_1cyyT5s0IGnXozjW/v_1cyyT5s0IGnXozjW_254.png',\n",
       " 'v_1cyyT5s0IGnXozjW_255': '../../../../data/seedling/seedling_keyframes/keyframes/cineast_metadata_part1/v_1cyyT5s0IGnXozjW/v_1cyyT5s0IGnXozjW_255.png',\n",
       " 'v_1cyyT5s0IGnXozjW_256': '../../../../data/seedling/seedling_keyframes/keyframes/cineast_metadata_part1/v_1cyyT5s0IGnXozjW/v_1cyyT5s0IGnXozjW_256.png',\n",
       " 'v_1cyyT5s0IGnXozjW_257': '../../../../data/seedling/seedling_keyframes/keyframes/cineast_metadata_part1/v_1cyyT5s0IGnXozjW/v_1cyyT5s0IGnXozjW_257.png',\n",
       " 'v_1cyyT5s0IGnXozjW_258': '../../../../data/seedling/seedling_keyframes/keyframes/cineast_metadata_part1/v_1cyyT5s0IGnXozjW/v_1cyyT5s0IGnXozjW_258.png',\n",
       " 'v_1cyyT5s0IGnXozjW_259': '../../../../data/seedling/seedling_keyframes/keyframes/cineast_metadata_part1/v_1cyyT5s0IGnXozjW/v_1cyyT5s0IGnXozjW_259.png',\n",
       " 'v_1cyyT5s0IGnXozjW_25': '../../../../data/seedling/seedling_keyframes/keyframes/cineast_metadata_part1/v_1cyyT5s0IGnXozjW/v_1cyyT5s0IGnXozjW_25.png',\n",
       " 'v_1cyyT5s0IGnXozjW_260': '../../../../data/seedling/seedling_keyframes/keyframes/cineast_metadata_part1/v_1cyyT5s0IGnXozjW/v_1cyyT5s0IGnXozjW_260.png',\n",
       " 'v_1cyyT5s0IGnXozjW_261': '../../../../data/seedling/seedling_keyframes/keyframes/cineast_metadata_part1/v_1cyyT5s0IGnXozjW/v_1cyyT5s0IGnXozjW_261.png',\n",
       " 'v_1cyyT5s0IGnXozjW_262': '../../../../data/seedling/seedling_keyframes/keyframes/cineast_metadata_part1/v_1cyyT5s0IGnXozjW/v_1cyyT5s0IGnXozjW_262.png',\n",
       " 'v_1cyyT5s0IGnXozjW_263': '../../../../data/seedling/seedling_keyframes/keyframes/cineast_metadata_part1/v_1cyyT5s0IGnXozjW/v_1cyyT5s0IGnXozjW_263.png',\n",
       " 'v_1cyyT5s0IGnXozjW_264': '../../../../data/seedling/seedling_keyframes/keyframes/cineast_metadata_part1/v_1cyyT5s0IGnXozjW/v_1cyyT5s0IGnXozjW_264.png',\n",
       " 'v_1cyyT5s0IGnXozjW_265': '../../../../data/seedling/seedling_keyframes/keyframes/cineast_metadata_part1/v_1cyyT5s0IGnXozjW/v_1cyyT5s0IGnXozjW_265.png',\n",
       " 'v_1cyyT5s0IGnXozjW_266': '../../../../data/seedling/seedling_keyframes/keyframes/cineast_metadata_part1/v_1cyyT5s0IGnXozjW/v_1cyyT5s0IGnXozjW_266.png',\n",
       " 'v_1cyyT5s0IGnXozjW_267': '../../../../data/seedling/seedling_keyframes/keyframes/cineast_metadata_part1/v_1cyyT5s0IGnXozjW/v_1cyyT5s0IGnXozjW_267.png',\n",
       " 'v_1cyyT5s0IGnXozjW_268': '../../../../data/seedling/seedling_keyframes/keyframes/cineast_metadata_part1/v_1cyyT5s0IGnXozjW/v_1cyyT5s0IGnXozjW_268.png',\n",
       " 'v_1cyyT5s0IGnXozjW_269': '../../../../data/seedling/seedling_keyframes/keyframes/cineast_metadata_part1/v_1cyyT5s0IGnXozjW/v_1cyyT5s0IGnXozjW_269.png',\n",
       " 'v_1cyyT5s0IGnXozjW_26': '../../../../data/seedling/seedling_keyframes/keyframes/cineast_metadata_part1/v_1cyyT5s0IGnXozjW/v_1cyyT5s0IGnXozjW_26.png',\n",
       " 'v_1cyyT5s0IGnXozjW_270': '../../../../data/seedling/seedling_keyframes/keyframes/cineast_metadata_part1/v_1cyyT5s0IGnXozjW/v_1cyyT5s0IGnXozjW_270.png',\n",
       " 'v_1cyyT5s0IGnXozjW_271': '../../../../data/seedling/seedling_keyframes/keyframes/cineast_metadata_part1/v_1cyyT5s0IGnXozjW/v_1cyyT5s0IGnXozjW_271.png',\n",
       " 'v_1cyyT5s0IGnXozjW_272': '../../../../data/seedling/seedling_keyframes/keyframes/cineast_metadata_part1/v_1cyyT5s0IGnXozjW/v_1cyyT5s0IGnXozjW_272.png',\n",
       " 'v_1cyyT5s0IGnXozjW_273': '../../../../data/seedling/seedling_keyframes/keyframes/cineast_metadata_part1/v_1cyyT5s0IGnXozjW/v_1cyyT5s0IGnXozjW_273.png',\n",
       " 'v_1cyyT5s0IGnXozjW_274': '../../../../data/seedling/seedling_keyframes/keyframes/cineast_metadata_part1/v_1cyyT5s0IGnXozjW/v_1cyyT5s0IGnXozjW_274.png',\n",
       " 'v_1cyyT5s0IGnXozjW_275': '../../../../data/seedling/seedling_keyframes/keyframes/cineast_metadata_part1/v_1cyyT5s0IGnXozjW/v_1cyyT5s0IGnXozjW_275.png',\n",
       " 'v_1cyyT5s0IGnXozjW_276': '../../../../data/seedling/seedling_keyframes/keyframes/cineast_metadata_part1/v_1cyyT5s0IGnXozjW/v_1cyyT5s0IGnXozjW_276.png',\n",
       " 'v_1cyyT5s0IGnXozjW_277': '../../../../data/seedling/seedling_keyframes/keyframes/cineast_metadata_part1/v_1cyyT5s0IGnXozjW/v_1cyyT5s0IGnXozjW_277.png',\n",
       " 'v_1cyyT5s0IGnXozjW_278': '../../../../data/seedling/seedling_keyframes/keyframes/cineast_metadata_part1/v_1cyyT5s0IGnXozjW/v_1cyyT5s0IGnXozjW_278.png',\n",
       " 'v_1cyyT5s0IGnXozjW_279': '../../../../data/seedling/seedling_keyframes/keyframes/cineast_metadata_part1/v_1cyyT5s0IGnXozjW/v_1cyyT5s0IGnXozjW_279.png',\n",
       " 'v_1cyyT5s0IGnXozjW_27': '../../../../data/seedling/seedling_keyframes/keyframes/cineast_metadata_part1/v_1cyyT5s0IGnXozjW/v_1cyyT5s0IGnXozjW_27.png',\n",
       " 'v_1cyyT5s0IGnXozjW_280': '../../../../data/seedling/seedling_keyframes/keyframes/cineast_metadata_part1/v_1cyyT5s0IGnXozjW/v_1cyyT5s0IGnXozjW_280.png',\n",
       " 'v_1cyyT5s0IGnXozjW_281': '../../../../data/seedling/seedling_keyframes/keyframes/cineast_metadata_part1/v_1cyyT5s0IGnXozjW/v_1cyyT5s0IGnXozjW_281.png',\n",
       " 'v_1cyyT5s0IGnXozjW_282': '../../../../data/seedling/seedling_keyframes/keyframes/cineast_metadata_part1/v_1cyyT5s0IGnXozjW/v_1cyyT5s0IGnXozjW_282.png',\n",
       " 'v_1cyyT5s0IGnXozjW_283': '../../../../data/seedling/seedling_keyframes/keyframes/cineast_metadata_part1/v_1cyyT5s0IGnXozjW/v_1cyyT5s0IGnXozjW_283.png',\n",
       " 'v_1cyyT5s0IGnXozjW_284': '../../../../data/seedling/seedling_keyframes/keyframes/cineast_metadata_part1/v_1cyyT5s0IGnXozjW/v_1cyyT5s0IGnXozjW_284.png',\n",
       " 'v_1cyyT5s0IGnXozjW_285': '../../../../data/seedling/seedling_keyframes/keyframes/cineast_metadata_part1/v_1cyyT5s0IGnXozjW/v_1cyyT5s0IGnXozjW_285.png',\n",
       " 'v_1cyyT5s0IGnXozjW_286': '../../../../data/seedling/seedling_keyframes/keyframes/cineast_metadata_part1/v_1cyyT5s0IGnXozjW/v_1cyyT5s0IGnXozjW_286.png',\n",
       " 'v_1cyyT5s0IGnXozjW_287': '../../../../data/seedling/seedling_keyframes/keyframes/cineast_metadata_part1/v_1cyyT5s0IGnXozjW/v_1cyyT5s0IGnXozjW_287.png',\n",
       " 'v_1cyyT5s0IGnXozjW_288': '../../../../data/seedling/seedling_keyframes/keyframes/cineast_metadata_part1/v_1cyyT5s0IGnXozjW/v_1cyyT5s0IGnXozjW_288.png',\n",
       " 'v_1cyyT5s0IGnXozjW_289': '../../../../data/seedling/seedling_keyframes/keyframes/cineast_metadata_part1/v_1cyyT5s0IGnXozjW/v_1cyyT5s0IGnXozjW_289.png',\n",
       " 'v_1cyyT5s0IGnXozjW_28': '../../../../data/seedling/seedling_keyframes/keyframes/cineast_metadata_part1/v_1cyyT5s0IGnXozjW/v_1cyyT5s0IGnXozjW_28.png',\n",
       " 'v_1cyyT5s0IGnXozjW_290': '../../../../data/seedling/seedling_keyframes/keyframes/cineast_metadata_part1/v_1cyyT5s0IGnXozjW/v_1cyyT5s0IGnXozjW_290.png',\n",
       " 'v_1cyyT5s0IGnXozjW_291': '../../../../data/seedling/seedling_keyframes/keyframes/cineast_metadata_part1/v_1cyyT5s0IGnXozjW/v_1cyyT5s0IGnXozjW_291.png',\n",
       " 'v_1cyyT5s0IGnXozjW_292': '../../../../data/seedling/seedling_keyframes/keyframes/cineast_metadata_part1/v_1cyyT5s0IGnXozjW/v_1cyyT5s0IGnXozjW_292.png',\n",
       " 'v_1cyyT5s0IGnXozjW_293': '../../../../data/seedling/seedling_keyframes/keyframes/cineast_metadata_part1/v_1cyyT5s0IGnXozjW/v_1cyyT5s0IGnXozjW_293.png',\n",
       " 'v_1cyyT5s0IGnXozjW_294': '../../../../data/seedling/seedling_keyframes/keyframes/cineast_metadata_part1/v_1cyyT5s0IGnXozjW/v_1cyyT5s0IGnXozjW_294.png',\n",
       " 'v_1cyyT5s0IGnXozjW_295': '../../../../data/seedling/seedling_keyframes/keyframes/cineast_metadata_part1/v_1cyyT5s0IGnXozjW/v_1cyyT5s0IGnXozjW_295.png',\n",
       " 'v_1cyyT5s0IGnXozjW_296': '../../../../data/seedling/seedling_keyframes/keyframes/cineast_metadata_part1/v_1cyyT5s0IGnXozjW/v_1cyyT5s0IGnXozjW_296.png',\n",
       " 'v_1cyyT5s0IGnXozjW_297': '../../../../data/seedling/seedling_keyframes/keyframes/cineast_metadata_part1/v_1cyyT5s0IGnXozjW/v_1cyyT5s0IGnXozjW_297.png',\n",
       " 'v_1cyyT5s0IGnXozjW_298': '../../../../data/seedling/seedling_keyframes/keyframes/cineast_metadata_part1/v_1cyyT5s0IGnXozjW/v_1cyyT5s0IGnXozjW_298.png',\n",
       " 'v_1cyyT5s0IGnXozjW_299': '../../../../data/seedling/seedling_keyframes/keyframes/cineast_metadata_part1/v_1cyyT5s0IGnXozjW/v_1cyyT5s0IGnXozjW_299.png',\n",
       " 'v_1cyyT5s0IGnXozjW_29': '../../../../data/seedling/seedling_keyframes/keyframes/cineast_metadata_part1/v_1cyyT5s0IGnXozjW/v_1cyyT5s0IGnXozjW_29.png',\n",
       " 'v_1cyyT5s0IGnXozjW_2': '../../../../data/seedling/seedling_keyframes/keyframes/cineast_metadata_part1/v_1cyyT5s0IGnXozjW/v_1cyyT5s0IGnXozjW_2.png',\n",
       " 'v_1cyyT5s0IGnXozjW_300': '../../../../data/seedling/seedling_keyframes/keyframes/cineast_metadata_part1/v_1cyyT5s0IGnXozjW/v_1cyyT5s0IGnXozjW_300.png',\n",
       " 'v_1cyyT5s0IGnXozjW_301': '../../../../data/seedling/seedling_keyframes/keyframes/cineast_metadata_part1/v_1cyyT5s0IGnXozjW/v_1cyyT5s0IGnXozjW_301.png',\n",
       " 'v_1cyyT5s0IGnXozjW_302': '../../../../data/seedling/seedling_keyframes/keyframes/cineast_metadata_part1/v_1cyyT5s0IGnXozjW/v_1cyyT5s0IGnXozjW_302.png',\n",
       " 'v_1cyyT5s0IGnXozjW_303': '../../../../data/seedling/seedling_keyframes/keyframes/cineast_metadata_part1/v_1cyyT5s0IGnXozjW/v_1cyyT5s0IGnXozjW_303.png',\n",
       " 'v_1cyyT5s0IGnXozjW_304': '../../../../data/seedling/seedling_keyframes/keyframes/cineast_metadata_part1/v_1cyyT5s0IGnXozjW/v_1cyyT5s0IGnXozjW_304.png',\n",
       " 'v_1cyyT5s0IGnXozjW_305': '../../../../data/seedling/seedling_keyframes/keyframes/cineast_metadata_part1/v_1cyyT5s0IGnXozjW/v_1cyyT5s0IGnXozjW_305.png',\n",
       " 'v_1cyyT5s0IGnXozjW_30': '../../../../data/seedling/seedling_keyframes/keyframes/cineast_metadata_part1/v_1cyyT5s0IGnXozjW/v_1cyyT5s0IGnXozjW_30.png',\n",
       " 'v_1cyyT5s0IGnXozjW_31': '../../../../data/seedling/seedling_keyframes/keyframes/cineast_metadata_part1/v_1cyyT5s0IGnXozjW/v_1cyyT5s0IGnXozjW_31.png',\n",
       " 'v_1cyyT5s0IGnXozjW_32': '../../../../data/seedling/seedling_keyframes/keyframes/cineast_metadata_part1/v_1cyyT5s0IGnXozjW/v_1cyyT5s0IGnXozjW_32.png',\n",
       " 'v_1cyyT5s0IGnXozjW_33': '../../../../data/seedling/seedling_keyframes/keyframes/cineast_metadata_part1/v_1cyyT5s0IGnXozjW/v_1cyyT5s0IGnXozjW_33.png',\n",
       " 'v_1cyyT5s0IGnXozjW_34': '../../../../data/seedling/seedling_keyframes/keyframes/cineast_metadata_part1/v_1cyyT5s0IGnXozjW/v_1cyyT5s0IGnXozjW_34.png',\n",
       " 'v_1cyyT5s0IGnXozjW_35': '../../../../data/seedling/seedling_keyframes/keyframes/cineast_metadata_part1/v_1cyyT5s0IGnXozjW/v_1cyyT5s0IGnXozjW_35.png',\n",
       " 'v_1cyyT5s0IGnXozjW_36': '../../../../data/seedling/seedling_keyframes/keyframes/cineast_metadata_part1/v_1cyyT5s0IGnXozjW/v_1cyyT5s0IGnXozjW_36.png',\n",
       " 'v_1cyyT5s0IGnXozjW_37': '../../../../data/seedling/seedling_keyframes/keyframes/cineast_metadata_part1/v_1cyyT5s0IGnXozjW/v_1cyyT5s0IGnXozjW_37.png',\n",
       " 'v_1cyyT5s0IGnXozjW_38': '../../../../data/seedling/seedling_keyframes/keyframes/cineast_metadata_part1/v_1cyyT5s0IGnXozjW/v_1cyyT5s0IGnXozjW_38.png',\n",
       " 'v_1cyyT5s0IGnXozjW_39': '../../../../data/seedling/seedling_keyframes/keyframes/cineast_metadata_part1/v_1cyyT5s0IGnXozjW/v_1cyyT5s0IGnXozjW_39.png',\n",
       " 'v_1cyyT5s0IGnXozjW_3': '../../../../data/seedling/seedling_keyframes/keyframes/cineast_metadata_part1/v_1cyyT5s0IGnXozjW/v_1cyyT5s0IGnXozjW_3.png',\n",
       " 'v_1cyyT5s0IGnXozjW_40': '../../../../data/seedling/seedling_keyframes/keyframes/cineast_metadata_part1/v_1cyyT5s0IGnXozjW/v_1cyyT5s0IGnXozjW_40.png',\n",
       " 'v_1cyyT5s0IGnXozjW_41': '../../../../data/seedling/seedling_keyframes/keyframes/cineast_metadata_part1/v_1cyyT5s0IGnXozjW/v_1cyyT5s0IGnXozjW_41.png',\n",
       " 'v_1cyyT5s0IGnXozjW_42': '../../../../data/seedling/seedling_keyframes/keyframes/cineast_metadata_part1/v_1cyyT5s0IGnXozjW/v_1cyyT5s0IGnXozjW_42.png',\n",
       " 'v_1cyyT5s0IGnXozjW_43': '../../../../data/seedling/seedling_keyframes/keyframes/cineast_metadata_part1/v_1cyyT5s0IGnXozjW/v_1cyyT5s0IGnXozjW_43.png',\n",
       " 'v_1cyyT5s0IGnXozjW_44': '../../../../data/seedling/seedling_keyframes/keyframes/cineast_metadata_part1/v_1cyyT5s0IGnXozjW/v_1cyyT5s0IGnXozjW_44.png',\n",
       " 'v_1cyyT5s0IGnXozjW_45': '../../../../data/seedling/seedling_keyframes/keyframes/cineast_metadata_part1/v_1cyyT5s0IGnXozjW/v_1cyyT5s0IGnXozjW_45.png',\n",
       " 'v_1cyyT5s0IGnXozjW_46': '../../../../data/seedling/seedling_keyframes/keyframes/cineast_metadata_part1/v_1cyyT5s0IGnXozjW/v_1cyyT5s0IGnXozjW_46.png',\n",
       " 'v_1cyyT5s0IGnXozjW_47': '../../../../data/seedling/seedling_keyframes/keyframes/cineast_metadata_part1/v_1cyyT5s0IGnXozjW/v_1cyyT5s0IGnXozjW_47.png',\n",
       " 'v_1cyyT5s0IGnXozjW_48': '../../../../data/seedling/seedling_keyframes/keyframes/cineast_metadata_part1/v_1cyyT5s0IGnXozjW/v_1cyyT5s0IGnXozjW_48.png',\n",
       " 'v_1cyyT5s0IGnXozjW_49': '../../../../data/seedling/seedling_keyframes/keyframes/cineast_metadata_part1/v_1cyyT5s0IGnXozjW/v_1cyyT5s0IGnXozjW_49.png',\n",
       " 'v_1cyyT5s0IGnXozjW_4': '../../../../data/seedling/seedling_keyframes/keyframes/cineast_metadata_part1/v_1cyyT5s0IGnXozjW/v_1cyyT5s0IGnXozjW_4.png',\n",
       " 'v_1cyyT5s0IGnXozjW_50': '../../../../data/seedling/seedling_keyframes/keyframes/cineast_metadata_part1/v_1cyyT5s0IGnXozjW/v_1cyyT5s0IGnXozjW_50.png',\n",
       " 'v_1cyyT5s0IGnXozjW_51': '../../../../data/seedling/seedling_keyframes/keyframes/cineast_metadata_part1/v_1cyyT5s0IGnXozjW/v_1cyyT5s0IGnXozjW_51.png',\n",
       " 'v_1cyyT5s0IGnXozjW_52': '../../../../data/seedling/seedling_keyframes/keyframes/cineast_metadata_part1/v_1cyyT5s0IGnXozjW/v_1cyyT5s0IGnXozjW_52.png',\n",
       " 'v_1cyyT5s0IGnXozjW_53': '../../../../data/seedling/seedling_keyframes/keyframes/cineast_metadata_part1/v_1cyyT5s0IGnXozjW/v_1cyyT5s0IGnXozjW_53.png',\n",
       " 'v_1cyyT5s0IGnXozjW_54': '../../../../data/seedling/seedling_keyframes/keyframes/cineast_metadata_part1/v_1cyyT5s0IGnXozjW/v_1cyyT5s0IGnXozjW_54.png',\n",
       " 'v_1cyyT5s0IGnXozjW_55': '../../../../data/seedling/seedling_keyframes/keyframes/cineast_metadata_part1/v_1cyyT5s0IGnXozjW/v_1cyyT5s0IGnXozjW_55.png',\n",
       " 'v_1cyyT5s0IGnXozjW_56': '../../../../data/seedling/seedling_keyframes/keyframes/cineast_metadata_part1/v_1cyyT5s0IGnXozjW/v_1cyyT5s0IGnXozjW_56.png',\n",
       " 'v_1cyyT5s0IGnXozjW_57': '../../../../data/seedling/seedling_keyframes/keyframes/cineast_metadata_part1/v_1cyyT5s0IGnXozjW/v_1cyyT5s0IGnXozjW_57.png',\n",
       " 'v_1cyyT5s0IGnXozjW_58': '../../../../data/seedling/seedling_keyframes/keyframes/cineast_metadata_part1/v_1cyyT5s0IGnXozjW/v_1cyyT5s0IGnXozjW_58.png',\n",
       " 'v_1cyyT5s0IGnXozjW_59': '../../../../data/seedling/seedling_keyframes/keyframes/cineast_metadata_part1/v_1cyyT5s0IGnXozjW/v_1cyyT5s0IGnXozjW_59.png',\n",
       " 'v_1cyyT5s0IGnXozjW_5': '../../../../data/seedling/seedling_keyframes/keyframes/cineast_metadata_part1/v_1cyyT5s0IGnXozjW/v_1cyyT5s0IGnXozjW_5.png',\n",
       " 'v_1cyyT5s0IGnXozjW_60': '../../../../data/seedling/seedling_keyframes/keyframes/cineast_metadata_part1/v_1cyyT5s0IGnXozjW/v_1cyyT5s0IGnXozjW_60.png',\n",
       " 'v_1cyyT5s0IGnXozjW_61': '../../../../data/seedling/seedling_keyframes/keyframes/cineast_metadata_part1/v_1cyyT5s0IGnXozjW/v_1cyyT5s0IGnXozjW_61.png',\n",
       " 'v_1cyyT5s0IGnXozjW_62': '../../../../data/seedling/seedling_keyframes/keyframes/cineast_metadata_part1/v_1cyyT5s0IGnXozjW/v_1cyyT5s0IGnXozjW_62.png',\n",
       " 'v_1cyyT5s0IGnXozjW_63': '../../../../data/seedling/seedling_keyframes/keyframes/cineast_metadata_part1/v_1cyyT5s0IGnXozjW/v_1cyyT5s0IGnXozjW_63.png',\n",
       " 'v_1cyyT5s0IGnXozjW_64': '../../../../data/seedling/seedling_keyframes/keyframes/cineast_metadata_part1/v_1cyyT5s0IGnXozjW/v_1cyyT5s0IGnXozjW_64.png',\n",
       " 'v_1cyyT5s0IGnXozjW_65': '../../../../data/seedling/seedling_keyframes/keyframes/cineast_metadata_part1/v_1cyyT5s0IGnXozjW/v_1cyyT5s0IGnXozjW_65.png',\n",
       " 'v_1cyyT5s0IGnXozjW_66': '../../../../data/seedling/seedling_keyframes/keyframes/cineast_metadata_part1/v_1cyyT5s0IGnXozjW/v_1cyyT5s0IGnXozjW_66.png',\n",
       " 'v_1cyyT5s0IGnXozjW_67': '../../../../data/seedling/seedling_keyframes/keyframes/cineast_metadata_part1/v_1cyyT5s0IGnXozjW/v_1cyyT5s0IGnXozjW_67.png',\n",
       " 'v_1cyyT5s0IGnXozjW_68': '../../../../data/seedling/seedling_keyframes/keyframes/cineast_metadata_part1/v_1cyyT5s0IGnXozjW/v_1cyyT5s0IGnXozjW_68.png',\n",
       " 'v_1cyyT5s0IGnXozjW_69': '../../../../data/seedling/seedling_keyframes/keyframes/cineast_metadata_part1/v_1cyyT5s0IGnXozjW/v_1cyyT5s0IGnXozjW_69.png',\n",
       " 'v_1cyyT5s0IGnXozjW_6': '../../../../data/seedling/seedling_keyframes/keyframes/cineast_metadata_part1/v_1cyyT5s0IGnXozjW/v_1cyyT5s0IGnXozjW_6.png',\n",
       " 'v_1cyyT5s0IGnXozjW_70': '../../../../data/seedling/seedling_keyframes/keyframes/cineast_metadata_part1/v_1cyyT5s0IGnXozjW/v_1cyyT5s0IGnXozjW_70.png',\n",
       " 'v_1cyyT5s0IGnXozjW_71': '../../../../data/seedling/seedling_keyframes/keyframes/cineast_metadata_part1/v_1cyyT5s0IGnXozjW/v_1cyyT5s0IGnXozjW_71.png',\n",
       " 'v_1cyyT5s0IGnXozjW_72': '../../../../data/seedling/seedling_keyframes/keyframes/cineast_metadata_part1/v_1cyyT5s0IGnXozjW/v_1cyyT5s0IGnXozjW_72.png',\n",
       " 'v_1cyyT5s0IGnXozjW_73': '../../../../data/seedling/seedling_keyframes/keyframes/cineast_metadata_part1/v_1cyyT5s0IGnXozjW/v_1cyyT5s0IGnXozjW_73.png',\n",
       " 'v_1cyyT5s0IGnXozjW_74': '../../../../data/seedling/seedling_keyframes/keyframes/cineast_metadata_part1/v_1cyyT5s0IGnXozjW/v_1cyyT5s0IGnXozjW_74.png',\n",
       " 'v_1cyyT5s0IGnXozjW_75': '../../../../data/seedling/seedling_keyframes/keyframes/cineast_metadata_part1/v_1cyyT5s0IGnXozjW/v_1cyyT5s0IGnXozjW_75.png',\n",
       " 'v_1cyyT5s0IGnXozjW_76': '../../../../data/seedling/seedling_keyframes/keyframes/cineast_metadata_part1/v_1cyyT5s0IGnXozjW/v_1cyyT5s0IGnXozjW_76.png',\n",
       " 'v_1cyyT5s0IGnXozjW_77': '../../../../data/seedling/seedling_keyframes/keyframes/cineast_metadata_part1/v_1cyyT5s0IGnXozjW/v_1cyyT5s0IGnXozjW_77.png',\n",
       " 'v_1cyyT5s0IGnXozjW_78': '../../../../data/seedling/seedling_keyframes/keyframes/cineast_metadata_part1/v_1cyyT5s0IGnXozjW/v_1cyyT5s0IGnXozjW_78.png',\n",
       " 'v_1cyyT5s0IGnXozjW_79': '../../../../data/seedling/seedling_keyframes/keyframes/cineast_metadata_part1/v_1cyyT5s0IGnXozjW/v_1cyyT5s0IGnXozjW_79.png',\n",
       " 'v_1cyyT5s0IGnXozjW_7': '../../../../data/seedling/seedling_keyframes/keyframes/cineast_metadata_part1/v_1cyyT5s0IGnXozjW/v_1cyyT5s0IGnXozjW_7.png',\n",
       " 'v_1cyyT5s0IGnXozjW_80': '../../../../data/seedling/seedling_keyframes/keyframes/cineast_metadata_part1/v_1cyyT5s0IGnXozjW/v_1cyyT5s0IGnXozjW_80.png',\n",
       " 'v_1cyyT5s0IGnXozjW_81': '../../../../data/seedling/seedling_keyframes/keyframes/cineast_metadata_part1/v_1cyyT5s0IGnXozjW/v_1cyyT5s0IGnXozjW_81.png',\n",
       " 'v_1cyyT5s0IGnXozjW_82': '../../../../data/seedling/seedling_keyframes/keyframes/cineast_metadata_part1/v_1cyyT5s0IGnXozjW/v_1cyyT5s0IGnXozjW_82.png',\n",
       " 'v_1cyyT5s0IGnXozjW_83': '../../../../data/seedling/seedling_keyframes/keyframes/cineast_metadata_part1/v_1cyyT5s0IGnXozjW/v_1cyyT5s0IGnXozjW_83.png',\n",
       " 'v_1cyyT5s0IGnXozjW_84': '../../../../data/seedling/seedling_keyframes/keyframes/cineast_metadata_part1/v_1cyyT5s0IGnXozjW/v_1cyyT5s0IGnXozjW_84.png',\n",
       " 'v_1cyyT5s0IGnXozjW_85': '../../../../data/seedling/seedling_keyframes/keyframes/cineast_metadata_part1/v_1cyyT5s0IGnXozjW/v_1cyyT5s0IGnXozjW_85.png',\n",
       " 'v_1cyyT5s0IGnXozjW_86': '../../../../data/seedling/seedling_keyframes/keyframes/cineast_metadata_part1/v_1cyyT5s0IGnXozjW/v_1cyyT5s0IGnXozjW_86.png',\n",
       " 'v_1cyyT5s0IGnXozjW_87': '../../../../data/seedling/seedling_keyframes/keyframes/cineast_metadata_part1/v_1cyyT5s0IGnXozjW/v_1cyyT5s0IGnXozjW_87.png',\n",
       " 'v_1cyyT5s0IGnXozjW_88': '../../../../data/seedling/seedling_keyframes/keyframes/cineast_metadata_part1/v_1cyyT5s0IGnXozjW/v_1cyyT5s0IGnXozjW_88.png',\n",
       " 'v_1cyyT5s0IGnXozjW_89': '../../../../data/seedling/seedling_keyframes/keyframes/cineast_metadata_part1/v_1cyyT5s0IGnXozjW/v_1cyyT5s0IGnXozjW_89.png',\n",
       " 'v_1cyyT5s0IGnXozjW_8': '../../../../data/seedling/seedling_keyframes/keyframes/cineast_metadata_part1/v_1cyyT5s0IGnXozjW/v_1cyyT5s0IGnXozjW_8.png',\n",
       " 'v_1cyyT5s0IGnXozjW_90': '../../../../data/seedling/seedling_keyframes/keyframes/cineast_metadata_part1/v_1cyyT5s0IGnXozjW/v_1cyyT5s0IGnXozjW_90.png',\n",
       " 'v_1cyyT5s0IGnXozjW_91': '../../../../data/seedling/seedling_keyframes/keyframes/cineast_metadata_part1/v_1cyyT5s0IGnXozjW/v_1cyyT5s0IGnXozjW_91.png',\n",
       " 'v_1cyyT5s0IGnXozjW_92': '../../../../data/seedling/seedling_keyframes/keyframes/cineast_metadata_part1/v_1cyyT5s0IGnXozjW/v_1cyyT5s0IGnXozjW_92.png',\n",
       " 'v_1cyyT5s0IGnXozjW_93': '../../../../data/seedling/seedling_keyframes/keyframes/cineast_metadata_part1/v_1cyyT5s0IGnXozjW/v_1cyyT5s0IGnXozjW_93.png',\n",
       " 'v_1cyyT5s0IGnXozjW_94': '../../../../data/seedling/seedling_keyframes/keyframes/cineast_metadata_part1/v_1cyyT5s0IGnXozjW/v_1cyyT5s0IGnXozjW_94.png',\n",
       " 'v_1cyyT5s0IGnXozjW_95': '../../../../data/seedling/seedling_keyframes/keyframes/cineast_metadata_part1/v_1cyyT5s0IGnXozjW/v_1cyyT5s0IGnXozjW_95.png',\n",
       " 'v_1cyyT5s0IGnXozjW_96': '../../../../data/seedling/seedling_keyframes/keyframes/cineast_metadata_part1/v_1cyyT5s0IGnXozjW/v_1cyyT5s0IGnXozjW_96.png',\n",
       " 'v_1cyyT5s0IGnXozjW_97': '../../../../data/seedling/seedling_keyframes/keyframes/cineast_metadata_part1/v_1cyyT5s0IGnXozjW/v_1cyyT5s0IGnXozjW_97.png',\n",
       " 'v_1cyyT5s0IGnXozjW_98': '../../../../data/seedling/seedling_keyframes/keyframes/cineast_metadata_part1/v_1cyyT5s0IGnXozjW/v_1cyyT5s0IGnXozjW_98.png',\n",
       " 'v_1cyyT5s0IGnXozjW_99': '../../../../data/seedling/seedling_keyframes/keyframes/cineast_metadata_part1/v_1cyyT5s0IGnXozjW/v_1cyyT5s0IGnXozjW_99.png',\n",
       " 'v_1cyyT5s0IGnXozjW_9': '../../../../data/seedling/seedling_keyframes/keyframes/cineast_metadata_part1/v_1cyyT5s0IGnXozjW/v_1cyyT5s0IGnXozjW_9.png',\n",
       " 'v_1n4rJJoB4z3qPdOF_1': '../../../../data/seedling/seedling_keyframes/keyframes/cineast_metadata_part1/v_1n4rJJoB4z3qPdOF/v_1n4rJJoB4z3qPdOF_1.png',\n",
       " 'v_1n4rJJoB4z3qPdOF_2': '../../../../data/seedling/seedling_keyframes/keyframes/cineast_metadata_part1/v_1n4rJJoB4z3qPdOF/v_1n4rJJoB4z3qPdOF_2.png',\n",
       " 'v_1n4rJJoB4z3qPdOF_3': '../../../../data/seedling/seedling_keyframes/keyframes/cineast_metadata_part1/v_1n4rJJoB4z3qPdOF/v_1n4rJJoB4z3qPdOF_3.png',\n",
       " 'v_1n4rJJoB4z3qPdOF_4': '../../../../data/seedling/seedling_keyframes/keyframes/cineast_metadata_part1/v_1n4rJJoB4z3qPdOF/v_1n4rJJoB4z3qPdOF_4.png',\n",
       " 'v_1n4rJJoB4z3qPdOF_5': '../../../../data/seedling/seedling_keyframes/keyframes/cineast_metadata_part1/v_1n4rJJoB4z3qPdOF/v_1n4rJJoB4z3qPdOF_5.png',\n",
       " 'v_1n4rJJoB4z3qPdOF_6': '../../../../data/seedling/seedling_keyframes/keyframes/cineast_metadata_part1/v_1n4rJJoB4z3qPdOF/v_1n4rJJoB4z3qPdOF_6.png',\n",
       " 'v_1n4rJJoB4z3qPdOF_7': '../../../../data/seedling/seedling_keyframes/keyframes/cineast_metadata_part1/v_1n4rJJoB4z3qPdOF/v_1n4rJJoB4z3qPdOF_7.png',\n",
       " 'v_1n4rJJoB4z3qPdOF_8': '../../../../data/seedling/seedling_keyframes/keyframes/cineast_metadata_part1/v_1n4rJJoB4z3qPdOF/v_1n4rJJoB4z3qPdOF_8.png',\n",
       " 'v_2JMGzkVZrlPoOqqR_10': '../../../../data/seedling/seedling_keyframes/keyframes/cineast_metadata_part1/v_2JMGzkVZrlPoOqqR/v_2JMGzkVZrlPoOqqR_10.png',\n",
       " 'v_2JMGzkVZrlPoOqqR_11': '../../../../data/seedling/seedling_keyframes/keyframes/cineast_metadata_part1/v_2JMGzkVZrlPoOqqR/v_2JMGzkVZrlPoOqqR_11.png',\n",
       " 'v_2JMGzkVZrlPoOqqR_12': '../../../../data/seedling/seedling_keyframes/keyframes/cineast_metadata_part1/v_2JMGzkVZrlPoOqqR/v_2JMGzkVZrlPoOqqR_12.png',\n",
       " 'v_2JMGzkVZrlPoOqqR_13': '../../../../data/seedling/seedling_keyframes/keyframes/cineast_metadata_part1/v_2JMGzkVZrlPoOqqR/v_2JMGzkVZrlPoOqqR_13.png',\n",
       " 'v_2JMGzkVZrlPoOqqR_14': '../../../../data/seedling/seedling_keyframes/keyframes/cineast_metadata_part1/v_2JMGzkVZrlPoOqqR/v_2JMGzkVZrlPoOqqR_14.png',\n",
       " 'v_2JMGzkVZrlPoOqqR_1': '../../../../data/seedling/seedling_keyframes/keyframes/cineast_metadata_part1/v_2JMGzkVZrlPoOqqR/v_2JMGzkVZrlPoOqqR_1.png',\n",
       " 'v_2JMGzkVZrlPoOqqR_2': '../../../../data/seedling/seedling_keyframes/keyframes/cineast_metadata_part1/v_2JMGzkVZrlPoOqqR/v_2JMGzkVZrlPoOqqR_2.png',\n",
       " 'v_2JMGzkVZrlPoOqqR_3': '../../../../data/seedling/seedling_keyframes/keyframes/cineast_metadata_part1/v_2JMGzkVZrlPoOqqR/v_2JMGzkVZrlPoOqqR_3.png',\n",
       " 'v_2JMGzkVZrlPoOqqR_4': '../../../../data/seedling/seedling_keyframes/keyframes/cineast_metadata_part1/v_2JMGzkVZrlPoOqqR/v_2JMGzkVZrlPoOqqR_4.png',\n",
       " 'v_2JMGzkVZrlPoOqqR_5': '../../../../data/seedling/seedling_keyframes/keyframes/cineast_metadata_part1/v_2JMGzkVZrlPoOqqR/v_2JMGzkVZrlPoOqqR_5.png',\n",
       " 'v_2JMGzkVZrlPoOqqR_6': '../../../../data/seedling/seedling_keyframes/keyframes/cineast_metadata_part1/v_2JMGzkVZrlPoOqqR/v_2JMGzkVZrlPoOqqR_6.png',\n",
       " 'v_2JMGzkVZrlPoOqqR_7': '../../../../data/seedling/seedling_keyframes/keyframes/cineast_metadata_part1/v_2JMGzkVZrlPoOqqR/v_2JMGzkVZrlPoOqqR_7.png',\n",
       " 'v_2JMGzkVZrlPoOqqR_8': '../../../../data/seedling/seedling_keyframes/keyframes/cineast_metadata_part1/v_2JMGzkVZrlPoOqqR/v_2JMGzkVZrlPoOqqR_8.png',\n",
       " 'v_2JMGzkVZrlPoOqqR_9': '../../../../data/seedling/seedling_keyframes/keyframes/cineast_metadata_part1/v_2JMGzkVZrlPoOqqR/v_2JMGzkVZrlPoOqqR_9.png',\n",
       " 'v_2R33gW3SMJ6KOHx9_100': '../../../../data/seedling/seedling_keyframes/keyframes/cineast_metadata_part1/v_2R33gW3SMJ6KOHx9/v_2R33gW3SMJ6KOHx9_100.png',\n",
       " 'v_2R33gW3SMJ6KOHx9_101': '../../../../data/seedling/seedling_keyframes/keyframes/cineast_metadata_part1/v_2R33gW3SMJ6KOHx9/v_2R33gW3SMJ6KOHx9_101.png',\n",
       " 'v_2R33gW3SMJ6KOHx9_102': '../../../../data/seedling/seedling_keyframes/keyframes/cineast_metadata_part1/v_2R33gW3SMJ6KOHx9/v_2R33gW3SMJ6KOHx9_102.png',\n",
       " 'v_2R33gW3SMJ6KOHx9_103': '../../../../data/seedling/seedling_keyframes/keyframes/cineast_metadata_part1/v_2R33gW3SMJ6KOHx9/v_2R33gW3SMJ6KOHx9_103.png',\n",
       " 'v_2R33gW3SMJ6KOHx9_104': '../../../../data/seedling/seedling_keyframes/keyframes/cineast_metadata_part1/v_2R33gW3SMJ6KOHx9/v_2R33gW3SMJ6KOHx9_104.png',\n",
       " 'v_2R33gW3SMJ6KOHx9_105': '../../../../data/seedling/seedling_keyframes/keyframes/cineast_metadata_part1/v_2R33gW3SMJ6KOHx9/v_2R33gW3SMJ6KOHx9_105.png',\n",
       " 'v_2R33gW3SMJ6KOHx9_106': '../../../../data/seedling/seedling_keyframes/keyframes/cineast_metadata_part1/v_2R33gW3SMJ6KOHx9/v_2R33gW3SMJ6KOHx9_106.png',\n",
       " 'v_2R33gW3SMJ6KOHx9_107': '../../../../data/seedling/seedling_keyframes/keyframes/cineast_metadata_part1/v_2R33gW3SMJ6KOHx9/v_2R33gW3SMJ6KOHx9_107.png',\n",
       " 'v_2R33gW3SMJ6KOHx9_108': '../../../../data/seedling/seedling_keyframes/keyframes/cineast_metadata_part1/v_2R33gW3SMJ6KOHx9/v_2R33gW3SMJ6KOHx9_108.png',\n",
       " 'v_2R33gW3SMJ6KOHx9_109': '../../../../data/seedling/seedling_keyframes/keyframes/cineast_metadata_part1/v_2R33gW3SMJ6KOHx9/v_2R33gW3SMJ6KOHx9_109.png',\n",
       " 'v_2R33gW3SMJ6KOHx9_10': '../../../../data/seedling/seedling_keyframes/keyframes/cineast_metadata_part1/v_2R33gW3SMJ6KOHx9/v_2R33gW3SMJ6KOHx9_10.png',\n",
       " 'v_2R33gW3SMJ6KOHx9_110': '../../../../data/seedling/seedling_keyframes/keyframes/cineast_metadata_part1/v_2R33gW3SMJ6KOHx9/v_2R33gW3SMJ6KOHx9_110.png',\n",
       " 'v_2R33gW3SMJ6KOHx9_111': '../../../../data/seedling/seedling_keyframes/keyframes/cineast_metadata_part1/v_2R33gW3SMJ6KOHx9/v_2R33gW3SMJ6KOHx9_111.png',\n",
       " 'v_2R33gW3SMJ6KOHx9_112': '../../../../data/seedling/seedling_keyframes/keyframes/cineast_metadata_part1/v_2R33gW3SMJ6KOHx9/v_2R33gW3SMJ6KOHx9_112.png',\n",
       " 'v_2R33gW3SMJ6KOHx9_113': '../../../../data/seedling/seedling_keyframes/keyframes/cineast_metadata_part1/v_2R33gW3SMJ6KOHx9/v_2R33gW3SMJ6KOHx9_113.png',\n",
       " 'v_2R33gW3SMJ6KOHx9_114': '../../../../data/seedling/seedling_keyframes/keyframes/cineast_metadata_part1/v_2R33gW3SMJ6KOHx9/v_2R33gW3SMJ6KOHx9_114.png',\n",
       " 'v_2R33gW3SMJ6KOHx9_115': '../../../../data/seedling/seedling_keyframes/keyframes/cineast_metadata_part1/v_2R33gW3SMJ6KOHx9/v_2R33gW3SMJ6KOHx9_115.png',\n",
       " 'v_2R33gW3SMJ6KOHx9_116': '../../../../data/seedling/seedling_keyframes/keyframes/cineast_metadata_part1/v_2R33gW3SMJ6KOHx9/v_2R33gW3SMJ6KOHx9_116.png',\n",
       " 'v_2R33gW3SMJ6KOHx9_117': '../../../../data/seedling/seedling_keyframes/keyframes/cineast_metadata_part1/v_2R33gW3SMJ6KOHx9/v_2R33gW3SMJ6KOHx9_117.png',\n",
       " 'v_2R33gW3SMJ6KOHx9_118': '../../../../data/seedling/seedling_keyframes/keyframes/cineast_metadata_part1/v_2R33gW3SMJ6KOHx9/v_2R33gW3SMJ6KOHx9_118.png',\n",
       " 'v_2R33gW3SMJ6KOHx9_119': '../../../../data/seedling/seedling_keyframes/keyframes/cineast_metadata_part1/v_2R33gW3SMJ6KOHx9/v_2R33gW3SMJ6KOHx9_119.png',\n",
       " 'v_2R33gW3SMJ6KOHx9_11': '../../../../data/seedling/seedling_keyframes/keyframes/cineast_metadata_part1/v_2R33gW3SMJ6KOHx9/v_2R33gW3SMJ6KOHx9_11.png',\n",
       " 'v_2R33gW3SMJ6KOHx9_120': '../../../../data/seedling/seedling_keyframes/keyframes/cineast_metadata_part1/v_2R33gW3SMJ6KOHx9/v_2R33gW3SMJ6KOHx9_120.png',\n",
       " 'v_2R33gW3SMJ6KOHx9_121': '../../../../data/seedling/seedling_keyframes/keyframes/cineast_metadata_part1/v_2R33gW3SMJ6KOHx9/v_2R33gW3SMJ6KOHx9_121.png',\n",
       " 'v_2R33gW3SMJ6KOHx9_122': '../../../../data/seedling/seedling_keyframes/keyframes/cineast_metadata_part1/v_2R33gW3SMJ6KOHx9/v_2R33gW3SMJ6KOHx9_122.png',\n",
       " 'v_2R33gW3SMJ6KOHx9_123': '../../../../data/seedling/seedling_keyframes/keyframes/cineast_metadata_part1/v_2R33gW3SMJ6KOHx9/v_2R33gW3SMJ6KOHx9_123.png',\n",
       " 'v_2R33gW3SMJ6KOHx9_124': '../../../../data/seedling/seedling_keyframes/keyframes/cineast_metadata_part1/v_2R33gW3SMJ6KOHx9/v_2R33gW3SMJ6KOHx9_124.png',\n",
       " 'v_2R33gW3SMJ6KOHx9_125': '../../../../data/seedling/seedling_keyframes/keyframes/cineast_metadata_part1/v_2R33gW3SMJ6KOHx9/v_2R33gW3SMJ6KOHx9_125.png',\n",
       " 'v_2R33gW3SMJ6KOHx9_126': '../../../../data/seedling/seedling_keyframes/keyframes/cineast_metadata_part1/v_2R33gW3SMJ6KOHx9/v_2R33gW3SMJ6KOHx9_126.png',\n",
       " 'v_2R33gW3SMJ6KOHx9_127': '../../../../data/seedling/seedling_keyframes/keyframes/cineast_metadata_part1/v_2R33gW3SMJ6KOHx9/v_2R33gW3SMJ6KOHx9_127.png',\n",
       " 'v_2R33gW3SMJ6KOHx9_128': '../../../../data/seedling/seedling_keyframes/keyframes/cineast_metadata_part1/v_2R33gW3SMJ6KOHx9/v_2R33gW3SMJ6KOHx9_128.png',\n",
       " 'v_2R33gW3SMJ6KOHx9_129': '../../../../data/seedling/seedling_keyframes/keyframes/cineast_metadata_part1/v_2R33gW3SMJ6KOHx9/v_2R33gW3SMJ6KOHx9_129.png',\n",
       " 'v_2R33gW3SMJ6KOHx9_12': '../../../../data/seedling/seedling_keyframes/keyframes/cineast_metadata_part1/v_2R33gW3SMJ6KOHx9/v_2R33gW3SMJ6KOHx9_12.png',\n",
       " 'v_2R33gW3SMJ6KOHx9_130': '../../../../data/seedling/seedling_keyframes/keyframes/cineast_metadata_part1/v_2R33gW3SMJ6KOHx9/v_2R33gW3SMJ6KOHx9_130.png',\n",
       " 'v_2R33gW3SMJ6KOHx9_131': '../../../../data/seedling/seedling_keyframes/keyframes/cineast_metadata_part1/v_2R33gW3SMJ6KOHx9/v_2R33gW3SMJ6KOHx9_131.png',\n",
       " 'v_2R33gW3SMJ6KOHx9_132': '../../../../data/seedling/seedling_keyframes/keyframes/cineast_metadata_part1/v_2R33gW3SMJ6KOHx9/v_2R33gW3SMJ6KOHx9_132.png',\n",
       " 'v_2R33gW3SMJ6KOHx9_133': '../../../../data/seedling/seedling_keyframes/keyframes/cineast_metadata_part1/v_2R33gW3SMJ6KOHx9/v_2R33gW3SMJ6KOHx9_133.png',\n",
       " 'v_2R33gW3SMJ6KOHx9_134': '../../../../data/seedling/seedling_keyframes/keyframes/cineast_metadata_part1/v_2R33gW3SMJ6KOHx9/v_2R33gW3SMJ6KOHx9_134.png',\n",
       " 'v_2R33gW3SMJ6KOHx9_135': '../../../../data/seedling/seedling_keyframes/keyframes/cineast_metadata_part1/v_2R33gW3SMJ6KOHx9/v_2R33gW3SMJ6KOHx9_135.png',\n",
       " 'v_2R33gW3SMJ6KOHx9_13': '../../../../data/seedling/seedling_keyframes/keyframes/cineast_metadata_part1/v_2R33gW3SMJ6KOHx9/v_2R33gW3SMJ6KOHx9_13.png',\n",
       " 'v_2R33gW3SMJ6KOHx9_14': '../../../../data/seedling/seedling_keyframes/keyframes/cineast_metadata_part1/v_2R33gW3SMJ6KOHx9/v_2R33gW3SMJ6KOHx9_14.png',\n",
       " 'v_2R33gW3SMJ6KOHx9_15': '../../../../data/seedling/seedling_keyframes/keyframes/cineast_metadata_part1/v_2R33gW3SMJ6KOHx9/v_2R33gW3SMJ6KOHx9_15.png',\n",
       " 'v_2R33gW3SMJ6KOHx9_16': '../../../../data/seedling/seedling_keyframes/keyframes/cineast_metadata_part1/v_2R33gW3SMJ6KOHx9/v_2R33gW3SMJ6KOHx9_16.png',\n",
       " 'v_2R33gW3SMJ6KOHx9_17': '../../../../data/seedling/seedling_keyframes/keyframes/cineast_metadata_part1/v_2R33gW3SMJ6KOHx9/v_2R33gW3SMJ6KOHx9_17.png',\n",
       " 'v_2R33gW3SMJ6KOHx9_18': '../../../../data/seedling/seedling_keyframes/keyframes/cineast_metadata_part1/v_2R33gW3SMJ6KOHx9/v_2R33gW3SMJ6KOHx9_18.png',\n",
       " 'v_2R33gW3SMJ6KOHx9_19': '../../../../data/seedling/seedling_keyframes/keyframes/cineast_metadata_part1/v_2R33gW3SMJ6KOHx9/v_2R33gW3SMJ6KOHx9_19.png',\n",
       " 'v_2R33gW3SMJ6KOHx9_1': '../../../../data/seedling/seedling_keyframes/keyframes/cineast_metadata_part1/v_2R33gW3SMJ6KOHx9/v_2R33gW3SMJ6KOHx9_1.png',\n",
       " 'v_2R33gW3SMJ6KOHx9_20': '../../../../data/seedling/seedling_keyframes/keyframes/cineast_metadata_part1/v_2R33gW3SMJ6KOHx9/v_2R33gW3SMJ6KOHx9_20.png',\n",
       " 'v_2R33gW3SMJ6KOHx9_21': '../../../../data/seedling/seedling_keyframes/keyframes/cineast_metadata_part1/v_2R33gW3SMJ6KOHx9/v_2R33gW3SMJ6KOHx9_21.png',\n",
       " 'v_2R33gW3SMJ6KOHx9_22': '../../../../data/seedling/seedling_keyframes/keyframes/cineast_metadata_part1/v_2R33gW3SMJ6KOHx9/v_2R33gW3SMJ6KOHx9_22.png',\n",
       " 'v_2R33gW3SMJ6KOHx9_23': '../../../../data/seedling/seedling_keyframes/keyframes/cineast_metadata_part1/v_2R33gW3SMJ6KOHx9/v_2R33gW3SMJ6KOHx9_23.png',\n",
       " 'v_2R33gW3SMJ6KOHx9_24': '../../../../data/seedling/seedling_keyframes/keyframes/cineast_metadata_part1/v_2R33gW3SMJ6KOHx9/v_2R33gW3SMJ6KOHx9_24.png',\n",
       " 'v_2R33gW3SMJ6KOHx9_25': '../../../../data/seedling/seedling_keyframes/keyframes/cineast_metadata_part1/v_2R33gW3SMJ6KOHx9/v_2R33gW3SMJ6KOHx9_25.png',\n",
       " 'v_2R33gW3SMJ6KOHx9_26': '../../../../data/seedling/seedling_keyframes/keyframes/cineast_metadata_part1/v_2R33gW3SMJ6KOHx9/v_2R33gW3SMJ6KOHx9_26.png',\n",
       " 'v_2R33gW3SMJ6KOHx9_27': '../../../../data/seedling/seedling_keyframes/keyframes/cineast_metadata_part1/v_2R33gW3SMJ6KOHx9/v_2R33gW3SMJ6KOHx9_27.png',\n",
       " 'v_2R33gW3SMJ6KOHx9_28': '../../../../data/seedling/seedling_keyframes/keyframes/cineast_metadata_part1/v_2R33gW3SMJ6KOHx9/v_2R33gW3SMJ6KOHx9_28.png',\n",
       " 'v_2R33gW3SMJ6KOHx9_29': '../../../../data/seedling/seedling_keyframes/keyframes/cineast_metadata_part1/v_2R33gW3SMJ6KOHx9/v_2R33gW3SMJ6KOHx9_29.png',\n",
       " 'v_2R33gW3SMJ6KOHx9_2': '../../../../data/seedling/seedling_keyframes/keyframes/cineast_metadata_part1/v_2R33gW3SMJ6KOHx9/v_2R33gW3SMJ6KOHx9_2.png',\n",
       " 'v_2R33gW3SMJ6KOHx9_30': '../../../../data/seedling/seedling_keyframes/keyframes/cineast_metadata_part1/v_2R33gW3SMJ6KOHx9/v_2R33gW3SMJ6KOHx9_30.png',\n",
       " 'v_2R33gW3SMJ6KOHx9_31': '../../../../data/seedling/seedling_keyframes/keyframes/cineast_metadata_part1/v_2R33gW3SMJ6KOHx9/v_2R33gW3SMJ6KOHx9_31.png',\n",
       " 'v_2R33gW3SMJ6KOHx9_32': '../../../../data/seedling/seedling_keyframes/keyframes/cineast_metadata_part1/v_2R33gW3SMJ6KOHx9/v_2R33gW3SMJ6KOHx9_32.png',\n",
       " 'v_2R33gW3SMJ6KOHx9_33': '../../../../data/seedling/seedling_keyframes/keyframes/cineast_metadata_part1/v_2R33gW3SMJ6KOHx9/v_2R33gW3SMJ6KOHx9_33.png',\n",
       " 'v_2R33gW3SMJ6KOHx9_34': '../../../../data/seedling/seedling_keyframes/keyframes/cineast_metadata_part1/v_2R33gW3SMJ6KOHx9/v_2R33gW3SMJ6KOHx9_34.png',\n",
       " 'v_2R33gW3SMJ6KOHx9_35': '../../../../data/seedling/seedling_keyframes/keyframes/cineast_metadata_part1/v_2R33gW3SMJ6KOHx9/v_2R33gW3SMJ6KOHx9_35.png',\n",
       " 'v_2R33gW3SMJ6KOHx9_36': '../../../../data/seedling/seedling_keyframes/keyframes/cineast_metadata_part1/v_2R33gW3SMJ6KOHx9/v_2R33gW3SMJ6KOHx9_36.png',\n",
       " 'v_2R33gW3SMJ6KOHx9_37': '../../../../data/seedling/seedling_keyframes/keyframes/cineast_metadata_part1/v_2R33gW3SMJ6KOHx9/v_2R33gW3SMJ6KOHx9_37.png',\n",
       " 'v_2R33gW3SMJ6KOHx9_38': '../../../../data/seedling/seedling_keyframes/keyframes/cineast_metadata_part1/v_2R33gW3SMJ6KOHx9/v_2R33gW3SMJ6KOHx9_38.png',\n",
       " 'v_2R33gW3SMJ6KOHx9_39': '../../../../data/seedling/seedling_keyframes/keyframes/cineast_metadata_part1/v_2R33gW3SMJ6KOHx9/v_2R33gW3SMJ6KOHx9_39.png',\n",
       " 'v_2R33gW3SMJ6KOHx9_3': '../../../../data/seedling/seedling_keyframes/keyframes/cineast_metadata_part1/v_2R33gW3SMJ6KOHx9/v_2R33gW3SMJ6KOHx9_3.png',\n",
       " 'v_2R33gW3SMJ6KOHx9_40': '../../../../data/seedling/seedling_keyframes/keyframes/cineast_metadata_part1/v_2R33gW3SMJ6KOHx9/v_2R33gW3SMJ6KOHx9_40.png',\n",
       " 'v_2R33gW3SMJ6KOHx9_41': '../../../../data/seedling/seedling_keyframes/keyframes/cineast_metadata_part1/v_2R33gW3SMJ6KOHx9/v_2R33gW3SMJ6KOHx9_41.png',\n",
       " 'v_2R33gW3SMJ6KOHx9_42': '../../../../data/seedling/seedling_keyframes/keyframes/cineast_metadata_part1/v_2R33gW3SMJ6KOHx9/v_2R33gW3SMJ6KOHx9_42.png',\n",
       " 'v_2R33gW3SMJ6KOHx9_43': '../../../../data/seedling/seedling_keyframes/keyframes/cineast_metadata_part1/v_2R33gW3SMJ6KOHx9/v_2R33gW3SMJ6KOHx9_43.png',\n",
       " 'v_2R33gW3SMJ6KOHx9_44': '../../../../data/seedling/seedling_keyframes/keyframes/cineast_metadata_part1/v_2R33gW3SMJ6KOHx9/v_2R33gW3SMJ6KOHx9_44.png',\n",
       " 'v_2R33gW3SMJ6KOHx9_45': '../../../../data/seedling/seedling_keyframes/keyframes/cineast_metadata_part1/v_2R33gW3SMJ6KOHx9/v_2R33gW3SMJ6KOHx9_45.png',\n",
       " 'v_2R33gW3SMJ6KOHx9_46': '../../../../data/seedling/seedling_keyframes/keyframes/cineast_metadata_part1/v_2R33gW3SMJ6KOHx9/v_2R33gW3SMJ6KOHx9_46.png',\n",
       " 'v_2R33gW3SMJ6KOHx9_47': '../../../../data/seedling/seedling_keyframes/keyframes/cineast_metadata_part1/v_2R33gW3SMJ6KOHx9/v_2R33gW3SMJ6KOHx9_47.png',\n",
       " 'v_2R33gW3SMJ6KOHx9_48': '../../../../data/seedling/seedling_keyframes/keyframes/cineast_metadata_part1/v_2R33gW3SMJ6KOHx9/v_2R33gW3SMJ6KOHx9_48.png',\n",
       " 'v_2R33gW3SMJ6KOHx9_49': '../../../../data/seedling/seedling_keyframes/keyframes/cineast_metadata_part1/v_2R33gW3SMJ6KOHx9/v_2R33gW3SMJ6KOHx9_49.png',\n",
       " 'v_2R33gW3SMJ6KOHx9_4': '../../../../data/seedling/seedling_keyframes/keyframes/cineast_metadata_part1/v_2R33gW3SMJ6KOHx9/v_2R33gW3SMJ6KOHx9_4.png',\n",
       " 'v_2R33gW3SMJ6KOHx9_50': '../../../../data/seedling/seedling_keyframes/keyframes/cineast_metadata_part1/v_2R33gW3SMJ6KOHx9/v_2R33gW3SMJ6KOHx9_50.png',\n",
       " 'v_2R33gW3SMJ6KOHx9_51': '../../../../data/seedling/seedling_keyframes/keyframes/cineast_metadata_part1/v_2R33gW3SMJ6KOHx9/v_2R33gW3SMJ6KOHx9_51.png',\n",
       " 'v_2R33gW3SMJ6KOHx9_52': '../../../../data/seedling/seedling_keyframes/keyframes/cineast_metadata_part1/v_2R33gW3SMJ6KOHx9/v_2R33gW3SMJ6KOHx9_52.png',\n",
       " 'v_2R33gW3SMJ6KOHx9_53': '../../../../data/seedling/seedling_keyframes/keyframes/cineast_metadata_part1/v_2R33gW3SMJ6KOHx9/v_2R33gW3SMJ6KOHx9_53.png',\n",
       " 'v_2R33gW3SMJ6KOHx9_54': '../../../../data/seedling/seedling_keyframes/keyframes/cineast_metadata_part1/v_2R33gW3SMJ6KOHx9/v_2R33gW3SMJ6KOHx9_54.png',\n",
       " 'v_2R33gW3SMJ6KOHx9_55': '../../../../data/seedling/seedling_keyframes/keyframes/cineast_metadata_part1/v_2R33gW3SMJ6KOHx9/v_2R33gW3SMJ6KOHx9_55.png',\n",
       " 'v_2R33gW3SMJ6KOHx9_56': '../../../../data/seedling/seedling_keyframes/keyframes/cineast_metadata_part1/v_2R33gW3SMJ6KOHx9/v_2R33gW3SMJ6KOHx9_56.png',\n",
       " 'v_2R33gW3SMJ6KOHx9_57': '../../../../data/seedling/seedling_keyframes/keyframes/cineast_metadata_part1/v_2R33gW3SMJ6KOHx9/v_2R33gW3SMJ6KOHx9_57.png',\n",
       " 'v_2R33gW3SMJ6KOHx9_58': '../../../../data/seedling/seedling_keyframes/keyframes/cineast_metadata_part1/v_2R33gW3SMJ6KOHx9/v_2R33gW3SMJ6KOHx9_58.png',\n",
       " 'v_2R33gW3SMJ6KOHx9_59': '../../../../data/seedling/seedling_keyframes/keyframes/cineast_metadata_part1/v_2R33gW3SMJ6KOHx9/v_2R33gW3SMJ6KOHx9_59.png',\n",
       " 'v_2R33gW3SMJ6KOHx9_5': '../../../../data/seedling/seedling_keyframes/keyframes/cineast_metadata_part1/v_2R33gW3SMJ6KOHx9/v_2R33gW3SMJ6KOHx9_5.png',\n",
       " 'v_2R33gW3SMJ6KOHx9_60': '../../../../data/seedling/seedling_keyframes/keyframes/cineast_metadata_part1/v_2R33gW3SMJ6KOHx9/v_2R33gW3SMJ6KOHx9_60.png',\n",
       " 'v_2R33gW3SMJ6KOHx9_61': '../../../../data/seedling/seedling_keyframes/keyframes/cineast_metadata_part1/v_2R33gW3SMJ6KOHx9/v_2R33gW3SMJ6KOHx9_61.png',\n",
       " 'v_2R33gW3SMJ6KOHx9_62': '../../../../data/seedling/seedling_keyframes/keyframes/cineast_metadata_part1/v_2R33gW3SMJ6KOHx9/v_2R33gW3SMJ6KOHx9_62.png',\n",
       " 'v_2R33gW3SMJ6KOHx9_63': '../../../../data/seedling/seedling_keyframes/keyframes/cineast_metadata_part1/v_2R33gW3SMJ6KOHx9/v_2R33gW3SMJ6KOHx9_63.png',\n",
       " 'v_2R33gW3SMJ6KOHx9_64': '../../../../data/seedling/seedling_keyframes/keyframes/cineast_metadata_part1/v_2R33gW3SMJ6KOHx9/v_2R33gW3SMJ6KOHx9_64.png',\n",
       " 'v_2R33gW3SMJ6KOHx9_65': '../../../../data/seedling/seedling_keyframes/keyframes/cineast_metadata_part1/v_2R33gW3SMJ6KOHx9/v_2R33gW3SMJ6KOHx9_65.png',\n",
       " 'v_2R33gW3SMJ6KOHx9_66': '../../../../data/seedling/seedling_keyframes/keyframes/cineast_metadata_part1/v_2R33gW3SMJ6KOHx9/v_2R33gW3SMJ6KOHx9_66.png',\n",
       " 'v_2R33gW3SMJ6KOHx9_67': '../../../../data/seedling/seedling_keyframes/keyframes/cineast_metadata_part1/v_2R33gW3SMJ6KOHx9/v_2R33gW3SMJ6KOHx9_67.png',\n",
       " 'v_2R33gW3SMJ6KOHx9_68': '../../../../data/seedling/seedling_keyframes/keyframes/cineast_metadata_part1/v_2R33gW3SMJ6KOHx9/v_2R33gW3SMJ6KOHx9_68.png',\n",
       " 'v_2R33gW3SMJ6KOHx9_69': '../../../../data/seedling/seedling_keyframes/keyframes/cineast_metadata_part1/v_2R33gW3SMJ6KOHx9/v_2R33gW3SMJ6KOHx9_69.png',\n",
       " 'v_2R33gW3SMJ6KOHx9_6': '../../../../data/seedling/seedling_keyframes/keyframes/cineast_metadata_part1/v_2R33gW3SMJ6KOHx9/v_2R33gW3SMJ6KOHx9_6.png',\n",
       " 'v_2R33gW3SMJ6KOHx9_70': '../../../../data/seedling/seedling_keyframes/keyframes/cineast_metadata_part1/v_2R33gW3SMJ6KOHx9/v_2R33gW3SMJ6KOHx9_70.png',\n",
       " 'v_2R33gW3SMJ6KOHx9_71': '../../../../data/seedling/seedling_keyframes/keyframes/cineast_metadata_part1/v_2R33gW3SMJ6KOHx9/v_2R33gW3SMJ6KOHx9_71.png',\n",
       " 'v_2R33gW3SMJ6KOHx9_72': '../../../../data/seedling/seedling_keyframes/keyframes/cineast_metadata_part1/v_2R33gW3SMJ6KOHx9/v_2R33gW3SMJ6KOHx9_72.png',\n",
       " 'v_2R33gW3SMJ6KOHx9_73': '../../../../data/seedling/seedling_keyframes/keyframes/cineast_metadata_part1/v_2R33gW3SMJ6KOHx9/v_2R33gW3SMJ6KOHx9_73.png',\n",
       " 'v_2R33gW3SMJ6KOHx9_74': '../../../../data/seedling/seedling_keyframes/keyframes/cineast_metadata_part1/v_2R33gW3SMJ6KOHx9/v_2R33gW3SMJ6KOHx9_74.png',\n",
       " 'v_2R33gW3SMJ6KOHx9_75': '../../../../data/seedling/seedling_keyframes/keyframes/cineast_metadata_part1/v_2R33gW3SMJ6KOHx9/v_2R33gW3SMJ6KOHx9_75.png',\n",
       " 'v_2R33gW3SMJ6KOHx9_76': '../../../../data/seedling/seedling_keyframes/keyframes/cineast_metadata_part1/v_2R33gW3SMJ6KOHx9/v_2R33gW3SMJ6KOHx9_76.png',\n",
       " 'v_2R33gW3SMJ6KOHx9_77': '../../../../data/seedling/seedling_keyframes/keyframes/cineast_metadata_part1/v_2R33gW3SMJ6KOHx9/v_2R33gW3SMJ6KOHx9_77.png',\n",
       " 'v_2R33gW3SMJ6KOHx9_78': '../../../../data/seedling/seedling_keyframes/keyframes/cineast_metadata_part1/v_2R33gW3SMJ6KOHx9/v_2R33gW3SMJ6KOHx9_78.png',\n",
       " 'v_2R33gW3SMJ6KOHx9_79': '../../../../data/seedling/seedling_keyframes/keyframes/cineast_metadata_part1/v_2R33gW3SMJ6KOHx9/v_2R33gW3SMJ6KOHx9_79.png',\n",
       " 'v_2R33gW3SMJ6KOHx9_7': '../../../../data/seedling/seedling_keyframes/keyframes/cineast_metadata_part1/v_2R33gW3SMJ6KOHx9/v_2R33gW3SMJ6KOHx9_7.png',\n",
       " 'v_2R33gW3SMJ6KOHx9_80': '../../../../data/seedling/seedling_keyframes/keyframes/cineast_metadata_part1/v_2R33gW3SMJ6KOHx9/v_2R33gW3SMJ6KOHx9_80.png',\n",
       " 'v_2R33gW3SMJ6KOHx9_81': '../../../../data/seedling/seedling_keyframes/keyframes/cineast_metadata_part1/v_2R33gW3SMJ6KOHx9/v_2R33gW3SMJ6KOHx9_81.png',\n",
       " 'v_2R33gW3SMJ6KOHx9_82': '../../../../data/seedling/seedling_keyframes/keyframes/cineast_metadata_part1/v_2R33gW3SMJ6KOHx9/v_2R33gW3SMJ6KOHx9_82.png',\n",
       " 'v_2R33gW3SMJ6KOHx9_83': '../../../../data/seedling/seedling_keyframes/keyframes/cineast_metadata_part1/v_2R33gW3SMJ6KOHx9/v_2R33gW3SMJ6KOHx9_83.png',\n",
       " 'v_2R33gW3SMJ6KOHx9_84': '../../../../data/seedling/seedling_keyframes/keyframes/cineast_metadata_part1/v_2R33gW3SMJ6KOHx9/v_2R33gW3SMJ6KOHx9_84.png',\n",
       " 'v_2R33gW3SMJ6KOHx9_85': '../../../../data/seedling/seedling_keyframes/keyframes/cineast_metadata_part1/v_2R33gW3SMJ6KOHx9/v_2R33gW3SMJ6KOHx9_85.png',\n",
       " 'v_2R33gW3SMJ6KOHx9_86': '../../../../data/seedling/seedling_keyframes/keyframes/cineast_metadata_part1/v_2R33gW3SMJ6KOHx9/v_2R33gW3SMJ6KOHx9_86.png',\n",
       " 'v_2R33gW3SMJ6KOHx9_87': '../../../../data/seedling/seedling_keyframes/keyframes/cineast_metadata_part1/v_2R33gW3SMJ6KOHx9/v_2R33gW3SMJ6KOHx9_87.png',\n",
       " 'v_2R33gW3SMJ6KOHx9_88': '../../../../data/seedling/seedling_keyframes/keyframes/cineast_metadata_part1/v_2R33gW3SMJ6KOHx9/v_2R33gW3SMJ6KOHx9_88.png',\n",
       " 'v_2R33gW3SMJ6KOHx9_89': '../../../../data/seedling/seedling_keyframes/keyframes/cineast_metadata_part1/v_2R33gW3SMJ6KOHx9/v_2R33gW3SMJ6KOHx9_89.png',\n",
       " 'v_2R33gW3SMJ6KOHx9_8': '../../../../data/seedling/seedling_keyframes/keyframes/cineast_metadata_part1/v_2R33gW3SMJ6KOHx9/v_2R33gW3SMJ6KOHx9_8.png',\n",
       " 'v_2R33gW3SMJ6KOHx9_90': '../../../../data/seedling/seedling_keyframes/keyframes/cineast_metadata_part1/v_2R33gW3SMJ6KOHx9/v_2R33gW3SMJ6KOHx9_90.png',\n",
       " 'v_2R33gW3SMJ6KOHx9_91': '../../../../data/seedling/seedling_keyframes/keyframes/cineast_metadata_part1/v_2R33gW3SMJ6KOHx9/v_2R33gW3SMJ6KOHx9_91.png',\n",
       " 'v_2R33gW3SMJ6KOHx9_92': '../../../../data/seedling/seedling_keyframes/keyframes/cineast_metadata_part1/v_2R33gW3SMJ6KOHx9/v_2R33gW3SMJ6KOHx9_92.png',\n",
       " 'v_2R33gW3SMJ6KOHx9_93': '../../../../data/seedling/seedling_keyframes/keyframes/cineast_metadata_part1/v_2R33gW3SMJ6KOHx9/v_2R33gW3SMJ6KOHx9_93.png',\n",
       " 'v_2R33gW3SMJ6KOHx9_94': '../../../../data/seedling/seedling_keyframes/keyframes/cineast_metadata_part1/v_2R33gW3SMJ6KOHx9/v_2R33gW3SMJ6KOHx9_94.png',\n",
       " 'v_2R33gW3SMJ6KOHx9_95': '../../../../data/seedling/seedling_keyframes/keyframes/cineast_metadata_part1/v_2R33gW3SMJ6KOHx9/v_2R33gW3SMJ6KOHx9_95.png',\n",
       " 'v_2R33gW3SMJ6KOHx9_96': '../../../../data/seedling/seedling_keyframes/keyframes/cineast_metadata_part1/v_2R33gW3SMJ6KOHx9/v_2R33gW3SMJ6KOHx9_96.png',\n",
       " 'v_2R33gW3SMJ6KOHx9_97': '../../../../data/seedling/seedling_keyframes/keyframes/cineast_metadata_part1/v_2R33gW3SMJ6KOHx9/v_2R33gW3SMJ6KOHx9_97.png',\n",
       " 'v_2R33gW3SMJ6KOHx9_98': '../../../../data/seedling/seedling_keyframes/keyframes/cineast_metadata_part1/v_2R33gW3SMJ6KOHx9/v_2R33gW3SMJ6KOHx9_98.png',\n",
       " 'v_2R33gW3SMJ6KOHx9_99': '../../../../data/seedling/seedling_keyframes/keyframes/cineast_metadata_part1/v_2R33gW3SMJ6KOHx9/v_2R33gW3SMJ6KOHx9_99.png',\n",
       " 'v_2R33gW3SMJ6KOHx9_9': '../../../../data/seedling/seedling_keyframes/keyframes/cineast_metadata_part1/v_2R33gW3SMJ6KOHx9/v_2R33gW3SMJ6KOHx9_9.png',\n",
       " 'v_3oweN7Jjdr2PVstP_10': '../../../../data/seedling/seedling_keyframes/keyframes/cineast_metadata_part1/v_3oweN7Jjdr2PVstP/v_3oweN7Jjdr2PVstP_10.png',\n",
       " 'v_3oweN7Jjdr2PVstP_11': '../../../../data/seedling/seedling_keyframes/keyframes/cineast_metadata_part1/v_3oweN7Jjdr2PVstP/v_3oweN7Jjdr2PVstP_11.png',\n",
       " 'v_3oweN7Jjdr2PVstP_12': '../../../../data/seedling/seedling_keyframes/keyframes/cineast_metadata_part1/v_3oweN7Jjdr2PVstP/v_3oweN7Jjdr2PVstP_12.png',\n",
       " 'v_3oweN7Jjdr2PVstP_13': '../../../../data/seedling/seedling_keyframes/keyframes/cineast_metadata_part1/v_3oweN7Jjdr2PVstP/v_3oweN7Jjdr2PVstP_13.png',\n",
       " 'v_3oweN7Jjdr2PVstP_14': '../../../../data/seedling/seedling_keyframes/keyframes/cineast_metadata_part1/v_3oweN7Jjdr2PVstP/v_3oweN7Jjdr2PVstP_14.png',\n",
       " 'v_3oweN7Jjdr2PVstP_15': '../../../../data/seedling/seedling_keyframes/keyframes/cineast_metadata_part1/v_3oweN7Jjdr2PVstP/v_3oweN7Jjdr2PVstP_15.png',\n",
       " 'v_3oweN7Jjdr2PVstP_16': '../../../../data/seedling/seedling_keyframes/keyframes/cineast_metadata_part1/v_3oweN7Jjdr2PVstP/v_3oweN7Jjdr2PVstP_16.png',\n",
       " 'v_3oweN7Jjdr2PVstP_17': '../../../../data/seedling/seedling_keyframes/keyframes/cineast_metadata_part1/v_3oweN7Jjdr2PVstP/v_3oweN7Jjdr2PVstP_17.png',\n",
       " 'v_3oweN7Jjdr2PVstP_18': '../../../../data/seedling/seedling_keyframes/keyframes/cineast_metadata_part1/v_3oweN7Jjdr2PVstP/v_3oweN7Jjdr2PVstP_18.png',\n",
       " 'v_3oweN7Jjdr2PVstP_19': '../../../../data/seedling/seedling_keyframes/keyframes/cineast_metadata_part1/v_3oweN7Jjdr2PVstP/v_3oweN7Jjdr2PVstP_19.png',\n",
       " 'v_3oweN7Jjdr2PVstP_1': '../../../../data/seedling/seedling_keyframes/keyframes/cineast_metadata_part1/v_3oweN7Jjdr2PVstP/v_3oweN7Jjdr2PVstP_1.png',\n",
       " 'v_3oweN7Jjdr2PVstP_20': '../../../../data/seedling/seedling_keyframes/keyframes/cineast_metadata_part1/v_3oweN7Jjdr2PVstP/v_3oweN7Jjdr2PVstP_20.png',\n",
       " 'v_3oweN7Jjdr2PVstP_21': '../../../../data/seedling/seedling_keyframes/keyframes/cineast_metadata_part1/v_3oweN7Jjdr2PVstP/v_3oweN7Jjdr2PVstP_21.png',\n",
       " 'v_3oweN7Jjdr2PVstP_22': '../../../../data/seedling/seedling_keyframes/keyframes/cineast_metadata_part1/v_3oweN7Jjdr2PVstP/v_3oweN7Jjdr2PVstP_22.png',\n",
       " 'v_3oweN7Jjdr2PVstP_23': '../../../../data/seedling/seedling_keyframes/keyframes/cineast_metadata_part1/v_3oweN7Jjdr2PVstP/v_3oweN7Jjdr2PVstP_23.png',\n",
       " 'v_3oweN7Jjdr2PVstP_24': '../../../../data/seedling/seedling_keyframes/keyframes/cineast_metadata_part1/v_3oweN7Jjdr2PVstP/v_3oweN7Jjdr2PVstP_24.png',\n",
       " 'v_3oweN7Jjdr2PVstP_25': '../../../../data/seedling/seedling_keyframes/keyframes/cineast_metadata_part1/v_3oweN7Jjdr2PVstP/v_3oweN7Jjdr2PVstP_25.png',\n",
       " 'v_3oweN7Jjdr2PVstP_26': '../../../../data/seedling/seedling_keyframes/keyframes/cineast_metadata_part1/v_3oweN7Jjdr2PVstP/v_3oweN7Jjdr2PVstP_26.png',\n",
       " 'v_3oweN7Jjdr2PVstP_27': '../../../../data/seedling/seedling_keyframes/keyframes/cineast_metadata_part1/v_3oweN7Jjdr2PVstP/v_3oweN7Jjdr2PVstP_27.png',\n",
       " 'v_3oweN7Jjdr2PVstP_28': '../../../../data/seedling/seedling_keyframes/keyframes/cineast_metadata_part1/v_3oweN7Jjdr2PVstP/v_3oweN7Jjdr2PVstP_28.png',\n",
       " 'v_3oweN7Jjdr2PVstP_29': '../../../../data/seedling/seedling_keyframes/keyframes/cineast_metadata_part1/v_3oweN7Jjdr2PVstP/v_3oweN7Jjdr2PVstP_29.png',\n",
       " 'v_3oweN7Jjdr2PVstP_2': '../../../../data/seedling/seedling_keyframes/keyframes/cineast_metadata_part1/v_3oweN7Jjdr2PVstP/v_3oweN7Jjdr2PVstP_2.png',\n",
       " 'v_3oweN7Jjdr2PVstP_30': '../../../../data/seedling/seedling_keyframes/keyframes/cineast_metadata_part1/v_3oweN7Jjdr2PVstP/v_3oweN7Jjdr2PVstP_30.png',\n",
       " 'v_3oweN7Jjdr2PVstP_31': '../../../../data/seedling/seedling_keyframes/keyframes/cineast_metadata_part1/v_3oweN7Jjdr2PVstP/v_3oweN7Jjdr2PVstP_31.png',\n",
       " 'v_3oweN7Jjdr2PVstP_32': '../../../../data/seedling/seedling_keyframes/keyframes/cineast_metadata_part1/v_3oweN7Jjdr2PVstP/v_3oweN7Jjdr2PVstP_32.png',\n",
       " 'v_3oweN7Jjdr2PVstP_33': '../../../../data/seedling/seedling_keyframes/keyframes/cineast_metadata_part1/v_3oweN7Jjdr2PVstP/v_3oweN7Jjdr2PVstP_33.png',\n",
       " 'v_3oweN7Jjdr2PVstP_34': '../../../../data/seedling/seedling_keyframes/keyframes/cineast_metadata_part1/v_3oweN7Jjdr2PVstP/v_3oweN7Jjdr2PVstP_34.png',\n",
       " 'v_3oweN7Jjdr2PVstP_35': '../../../../data/seedling/seedling_keyframes/keyframes/cineast_metadata_part1/v_3oweN7Jjdr2PVstP/v_3oweN7Jjdr2PVstP_35.png',\n",
       " 'v_3oweN7Jjdr2PVstP_36': '../../../../data/seedling/seedling_keyframes/keyframes/cineast_metadata_part1/v_3oweN7Jjdr2PVstP/v_3oweN7Jjdr2PVstP_36.png',\n",
       " 'v_3oweN7Jjdr2PVstP_37': '../../../../data/seedling/seedling_keyframes/keyframes/cineast_metadata_part1/v_3oweN7Jjdr2PVstP/v_3oweN7Jjdr2PVstP_37.png',\n",
       " 'v_3oweN7Jjdr2PVstP_38': '../../../../data/seedling/seedling_keyframes/keyframes/cineast_metadata_part1/v_3oweN7Jjdr2PVstP/v_3oweN7Jjdr2PVstP_38.png',\n",
       " 'v_3oweN7Jjdr2PVstP_39': '../../../../data/seedling/seedling_keyframes/keyframes/cineast_metadata_part1/v_3oweN7Jjdr2PVstP/v_3oweN7Jjdr2PVstP_39.png',\n",
       " 'v_3oweN7Jjdr2PVstP_3': '../../../../data/seedling/seedling_keyframes/keyframes/cineast_metadata_part1/v_3oweN7Jjdr2PVstP/v_3oweN7Jjdr2PVstP_3.png',\n",
       " 'v_3oweN7Jjdr2PVstP_40': '../../../../data/seedling/seedling_keyframes/keyframes/cineast_metadata_part1/v_3oweN7Jjdr2PVstP/v_3oweN7Jjdr2PVstP_40.png',\n",
       " 'v_3oweN7Jjdr2PVstP_41': '../../../../data/seedling/seedling_keyframes/keyframes/cineast_metadata_part1/v_3oweN7Jjdr2PVstP/v_3oweN7Jjdr2PVstP_41.png',\n",
       " 'v_3oweN7Jjdr2PVstP_42': '../../../../data/seedling/seedling_keyframes/keyframes/cineast_metadata_part1/v_3oweN7Jjdr2PVstP/v_3oweN7Jjdr2PVstP_42.png',\n",
       " 'v_3oweN7Jjdr2PVstP_43': '../../../../data/seedling/seedling_keyframes/keyframes/cineast_metadata_part1/v_3oweN7Jjdr2PVstP/v_3oweN7Jjdr2PVstP_43.png',\n",
       " 'v_3oweN7Jjdr2PVstP_44': '../../../../data/seedling/seedling_keyframes/keyframes/cineast_metadata_part1/v_3oweN7Jjdr2PVstP/v_3oweN7Jjdr2PVstP_44.png',\n",
       " 'v_3oweN7Jjdr2PVstP_45': '../../../../data/seedling/seedling_keyframes/keyframes/cineast_metadata_part1/v_3oweN7Jjdr2PVstP/v_3oweN7Jjdr2PVstP_45.png',\n",
       " 'v_3oweN7Jjdr2PVstP_46': '../../../../data/seedling/seedling_keyframes/keyframes/cineast_metadata_part1/v_3oweN7Jjdr2PVstP/v_3oweN7Jjdr2PVstP_46.png',\n",
       " 'v_3oweN7Jjdr2PVstP_47': '../../../../data/seedling/seedling_keyframes/keyframes/cineast_metadata_part1/v_3oweN7Jjdr2PVstP/v_3oweN7Jjdr2PVstP_47.png',\n",
       " 'v_3oweN7Jjdr2PVstP_48': '../../../../data/seedling/seedling_keyframes/keyframes/cineast_metadata_part1/v_3oweN7Jjdr2PVstP/v_3oweN7Jjdr2PVstP_48.png',\n",
       " 'v_3oweN7Jjdr2PVstP_4': '../../../../data/seedling/seedling_keyframes/keyframes/cineast_metadata_part1/v_3oweN7Jjdr2PVstP/v_3oweN7Jjdr2PVstP_4.png',\n",
       " 'v_3oweN7Jjdr2PVstP_5': '../../../../data/seedling/seedling_keyframes/keyframes/cineast_metadata_part1/v_3oweN7Jjdr2PVstP/v_3oweN7Jjdr2PVstP_5.png',\n",
       " 'v_3oweN7Jjdr2PVstP_6': '../../../../data/seedling/seedling_keyframes/keyframes/cineast_metadata_part1/v_3oweN7Jjdr2PVstP/v_3oweN7Jjdr2PVstP_6.png',\n",
       " 'v_3oweN7Jjdr2PVstP_7': '../../../../data/seedling/seedling_keyframes/keyframes/cineast_metadata_part1/v_3oweN7Jjdr2PVstP/v_3oweN7Jjdr2PVstP_7.png',\n",
       " 'v_3oweN7Jjdr2PVstP_8': '../../../../data/seedling/seedling_keyframes/keyframes/cineast_metadata_part1/v_3oweN7Jjdr2PVstP/v_3oweN7Jjdr2PVstP_8.png',\n",
       " 'v_3oweN7Jjdr2PVstP_9': '../../../../data/seedling/seedling_keyframes/keyframes/cineast_metadata_part1/v_3oweN7Jjdr2PVstP/v_3oweN7Jjdr2PVstP_9.png',\n",
       " 'v_3Xj0SgZW09k0EPFl_10': '../../../../data/seedling/seedling_keyframes/keyframes/cineast_metadata_part1/v_3Xj0SgZW09k0EPFl/v_3Xj0SgZW09k0EPFl_10.png',\n",
       " 'v_3Xj0SgZW09k0EPFl_11': '../../../../data/seedling/seedling_keyframes/keyframes/cineast_metadata_part1/v_3Xj0SgZW09k0EPFl/v_3Xj0SgZW09k0EPFl_11.png',\n",
       " 'v_3Xj0SgZW09k0EPFl_12': '../../../../data/seedling/seedling_keyframes/keyframes/cineast_metadata_part1/v_3Xj0SgZW09k0EPFl/v_3Xj0SgZW09k0EPFl_12.png',\n",
       " 'v_3Xj0SgZW09k0EPFl_13': '../../../../data/seedling/seedling_keyframes/keyframes/cineast_metadata_part1/v_3Xj0SgZW09k0EPFl/v_3Xj0SgZW09k0EPFl_13.png',\n",
       " 'v_3Xj0SgZW09k0EPFl_14': '../../../../data/seedling/seedling_keyframes/keyframes/cineast_metadata_part1/v_3Xj0SgZW09k0EPFl/v_3Xj0SgZW09k0EPFl_14.png',\n",
       " 'v_3Xj0SgZW09k0EPFl_15': '../../../../data/seedling/seedling_keyframes/keyframes/cineast_metadata_part1/v_3Xj0SgZW09k0EPFl/v_3Xj0SgZW09k0EPFl_15.png',\n",
       " 'v_3Xj0SgZW09k0EPFl_16': '../../../../data/seedling/seedling_keyframes/keyframes/cineast_metadata_part1/v_3Xj0SgZW09k0EPFl/v_3Xj0SgZW09k0EPFl_16.png',\n",
       " 'v_3Xj0SgZW09k0EPFl_17': '../../../../data/seedling/seedling_keyframes/keyframes/cineast_metadata_part1/v_3Xj0SgZW09k0EPFl/v_3Xj0SgZW09k0EPFl_17.png',\n",
       " 'v_3Xj0SgZW09k0EPFl_18': '../../../../data/seedling/seedling_keyframes/keyframes/cineast_metadata_part1/v_3Xj0SgZW09k0EPFl/v_3Xj0SgZW09k0EPFl_18.png',\n",
       " 'v_3Xj0SgZW09k0EPFl_19': '../../../../data/seedling/seedling_keyframes/keyframes/cineast_metadata_part1/v_3Xj0SgZW09k0EPFl/v_3Xj0SgZW09k0EPFl_19.png',\n",
       " 'v_3Xj0SgZW09k0EPFl_1': '../../../../data/seedling/seedling_keyframes/keyframes/cineast_metadata_part1/v_3Xj0SgZW09k0EPFl/v_3Xj0SgZW09k0EPFl_1.png',\n",
       " 'v_3Xj0SgZW09k0EPFl_20': '../../../../data/seedling/seedling_keyframes/keyframes/cineast_metadata_part1/v_3Xj0SgZW09k0EPFl/v_3Xj0SgZW09k0EPFl_20.png',\n",
       " 'v_3Xj0SgZW09k0EPFl_21': '../../../../data/seedling/seedling_keyframes/keyframes/cineast_metadata_part1/v_3Xj0SgZW09k0EPFl/v_3Xj0SgZW09k0EPFl_21.png',\n",
       " 'v_3Xj0SgZW09k0EPFl_22': '../../../../data/seedling/seedling_keyframes/keyframes/cineast_metadata_part1/v_3Xj0SgZW09k0EPFl/v_3Xj0SgZW09k0EPFl_22.png',\n",
       " 'v_3Xj0SgZW09k0EPFl_23': '../../../../data/seedling/seedling_keyframes/keyframes/cineast_metadata_part1/v_3Xj0SgZW09k0EPFl/v_3Xj0SgZW09k0EPFl_23.png',\n",
       " 'v_3Xj0SgZW09k0EPFl_24': '../../../../data/seedling/seedling_keyframes/keyframes/cineast_metadata_part1/v_3Xj0SgZW09k0EPFl/v_3Xj0SgZW09k0EPFl_24.png',\n",
       " 'v_3Xj0SgZW09k0EPFl_25': '../../../../data/seedling/seedling_keyframes/keyframes/cineast_metadata_part1/v_3Xj0SgZW09k0EPFl/v_3Xj0SgZW09k0EPFl_25.png',\n",
       " 'v_3Xj0SgZW09k0EPFl_26': '../../../../data/seedling/seedling_keyframes/keyframes/cineast_metadata_part1/v_3Xj0SgZW09k0EPFl/v_3Xj0SgZW09k0EPFl_26.png',\n",
       " 'v_3Xj0SgZW09k0EPFl_27': '../../../../data/seedling/seedling_keyframes/keyframes/cineast_metadata_part1/v_3Xj0SgZW09k0EPFl/v_3Xj0SgZW09k0EPFl_27.png',\n",
       " 'v_3Xj0SgZW09k0EPFl_28': '../../../../data/seedling/seedling_keyframes/keyframes/cineast_metadata_part1/v_3Xj0SgZW09k0EPFl/v_3Xj0SgZW09k0EPFl_28.png',\n",
       " 'v_3Xj0SgZW09k0EPFl_29': '../../../../data/seedling/seedling_keyframes/keyframes/cineast_metadata_part1/v_3Xj0SgZW09k0EPFl/v_3Xj0SgZW09k0EPFl_29.png',\n",
       " 'v_3Xj0SgZW09k0EPFl_2': '../../../../data/seedling/seedling_keyframes/keyframes/cineast_metadata_part1/v_3Xj0SgZW09k0EPFl/v_3Xj0SgZW09k0EPFl_2.png',\n",
       " 'v_3Xj0SgZW09k0EPFl_30': '../../../../data/seedling/seedling_keyframes/keyframes/cineast_metadata_part1/v_3Xj0SgZW09k0EPFl/v_3Xj0SgZW09k0EPFl_30.png',\n",
       " 'v_3Xj0SgZW09k0EPFl_31': '../../../../data/seedling/seedling_keyframes/keyframes/cineast_metadata_part1/v_3Xj0SgZW09k0EPFl/v_3Xj0SgZW09k0EPFl_31.png',\n",
       " 'v_3Xj0SgZW09k0EPFl_32': '../../../../data/seedling/seedling_keyframes/keyframes/cineast_metadata_part1/v_3Xj0SgZW09k0EPFl/v_3Xj0SgZW09k0EPFl_32.png',\n",
       " 'v_3Xj0SgZW09k0EPFl_33': '../../../../data/seedling/seedling_keyframes/keyframes/cineast_metadata_part1/v_3Xj0SgZW09k0EPFl/v_3Xj0SgZW09k0EPFl_33.png',\n",
       " 'v_3Xj0SgZW09k0EPFl_34': '../../../../data/seedling/seedling_keyframes/keyframes/cineast_metadata_part1/v_3Xj0SgZW09k0EPFl/v_3Xj0SgZW09k0EPFl_34.png',\n",
       " 'v_3Xj0SgZW09k0EPFl_35': '../../../../data/seedling/seedling_keyframes/keyframes/cineast_metadata_part1/v_3Xj0SgZW09k0EPFl/v_3Xj0SgZW09k0EPFl_35.png',\n",
       " 'v_3Xj0SgZW09k0EPFl_36': '../../../../data/seedling/seedling_keyframes/keyframes/cineast_metadata_part1/v_3Xj0SgZW09k0EPFl/v_3Xj0SgZW09k0EPFl_36.png',\n",
       " 'v_3Xj0SgZW09k0EPFl_37': '../../../../data/seedling/seedling_keyframes/keyframes/cineast_metadata_part1/v_3Xj0SgZW09k0EPFl/v_3Xj0SgZW09k0EPFl_37.png',\n",
       " 'v_3Xj0SgZW09k0EPFl_38': '../../../../data/seedling/seedling_keyframes/keyframes/cineast_metadata_part1/v_3Xj0SgZW09k0EPFl/v_3Xj0SgZW09k0EPFl_38.png',\n",
       " 'v_3Xj0SgZW09k0EPFl_39': '../../../../data/seedling/seedling_keyframes/keyframes/cineast_metadata_part1/v_3Xj0SgZW09k0EPFl/v_3Xj0SgZW09k0EPFl_39.png',\n",
       " 'v_3Xj0SgZW09k0EPFl_3': '../../../../data/seedling/seedling_keyframes/keyframes/cineast_metadata_part1/v_3Xj0SgZW09k0EPFl/v_3Xj0SgZW09k0EPFl_3.png',\n",
       " 'v_3Xj0SgZW09k0EPFl_40': '../../../../data/seedling/seedling_keyframes/keyframes/cineast_metadata_part1/v_3Xj0SgZW09k0EPFl/v_3Xj0SgZW09k0EPFl_40.png',\n",
       " 'v_3Xj0SgZW09k0EPFl_41': '../../../../data/seedling/seedling_keyframes/keyframes/cineast_metadata_part1/v_3Xj0SgZW09k0EPFl/v_3Xj0SgZW09k0EPFl_41.png',\n",
       " 'v_3Xj0SgZW09k0EPFl_42': '../../../../data/seedling/seedling_keyframes/keyframes/cineast_metadata_part1/v_3Xj0SgZW09k0EPFl/v_3Xj0SgZW09k0EPFl_42.png',\n",
       " 'v_3Xj0SgZW09k0EPFl_43': '../../../../data/seedling/seedling_keyframes/keyframes/cineast_metadata_part1/v_3Xj0SgZW09k0EPFl/v_3Xj0SgZW09k0EPFl_43.png',\n",
       " 'v_3Xj0SgZW09k0EPFl_44': '../../../../data/seedling/seedling_keyframes/keyframes/cineast_metadata_part1/v_3Xj0SgZW09k0EPFl/v_3Xj0SgZW09k0EPFl_44.png',\n",
       " 'v_3Xj0SgZW09k0EPFl_45': '../../../../data/seedling/seedling_keyframes/keyframes/cineast_metadata_part1/v_3Xj0SgZW09k0EPFl/v_3Xj0SgZW09k0EPFl_45.png',\n",
       " 'v_3Xj0SgZW09k0EPFl_46': '../../../../data/seedling/seedling_keyframes/keyframes/cineast_metadata_part1/v_3Xj0SgZW09k0EPFl/v_3Xj0SgZW09k0EPFl_46.png',\n",
       " 'v_3Xj0SgZW09k0EPFl_47': '../../../../data/seedling/seedling_keyframes/keyframes/cineast_metadata_part1/v_3Xj0SgZW09k0EPFl/v_3Xj0SgZW09k0EPFl_47.png',\n",
       " 'v_3Xj0SgZW09k0EPFl_48': '../../../../data/seedling/seedling_keyframes/keyframes/cineast_metadata_part1/v_3Xj0SgZW09k0EPFl/v_3Xj0SgZW09k0EPFl_48.png',\n",
       " 'v_3Xj0SgZW09k0EPFl_49': '../../../../data/seedling/seedling_keyframes/keyframes/cineast_metadata_part1/v_3Xj0SgZW09k0EPFl/v_3Xj0SgZW09k0EPFl_49.png',\n",
       " 'v_3Xj0SgZW09k0EPFl_4': '../../../../data/seedling/seedling_keyframes/keyframes/cineast_metadata_part1/v_3Xj0SgZW09k0EPFl/v_3Xj0SgZW09k0EPFl_4.png',\n",
       " 'v_3Xj0SgZW09k0EPFl_50': '../../../../data/seedling/seedling_keyframes/keyframes/cineast_metadata_part1/v_3Xj0SgZW09k0EPFl/v_3Xj0SgZW09k0EPFl_50.png',\n",
       " 'v_3Xj0SgZW09k0EPFl_51': '../../../../data/seedling/seedling_keyframes/keyframes/cineast_metadata_part1/v_3Xj0SgZW09k0EPFl/v_3Xj0SgZW09k0EPFl_51.png',\n",
       " 'v_3Xj0SgZW09k0EPFl_52': '../../../../data/seedling/seedling_keyframes/keyframes/cineast_metadata_part1/v_3Xj0SgZW09k0EPFl/v_3Xj0SgZW09k0EPFl_52.png',\n",
       " 'v_3Xj0SgZW09k0EPFl_53': '../../../../data/seedling/seedling_keyframes/keyframes/cineast_metadata_part1/v_3Xj0SgZW09k0EPFl/v_3Xj0SgZW09k0EPFl_53.png',\n",
       " 'v_3Xj0SgZW09k0EPFl_54': '../../../../data/seedling/seedling_keyframes/keyframes/cineast_metadata_part1/v_3Xj0SgZW09k0EPFl/v_3Xj0SgZW09k0EPFl_54.png',\n",
       " 'v_3Xj0SgZW09k0EPFl_55': '../../../../data/seedling/seedling_keyframes/keyframes/cineast_metadata_part1/v_3Xj0SgZW09k0EPFl/v_3Xj0SgZW09k0EPFl_55.png',\n",
       " 'v_3Xj0SgZW09k0EPFl_56': '../../../../data/seedling/seedling_keyframes/keyframes/cineast_metadata_part1/v_3Xj0SgZW09k0EPFl/v_3Xj0SgZW09k0EPFl_56.png',\n",
       " 'v_3Xj0SgZW09k0EPFl_57': '../../../../data/seedling/seedling_keyframes/keyframes/cineast_metadata_part1/v_3Xj0SgZW09k0EPFl/v_3Xj0SgZW09k0EPFl_57.png',\n",
       " 'v_3Xj0SgZW09k0EPFl_58': '../../../../data/seedling/seedling_keyframes/keyframes/cineast_metadata_part1/v_3Xj0SgZW09k0EPFl/v_3Xj0SgZW09k0EPFl_58.png',\n",
       " 'v_3Xj0SgZW09k0EPFl_59': '../../../../data/seedling/seedling_keyframes/keyframes/cineast_metadata_part1/v_3Xj0SgZW09k0EPFl/v_3Xj0SgZW09k0EPFl_59.png',\n",
       " 'v_3Xj0SgZW09k0EPFl_5': '../../../../data/seedling/seedling_keyframes/keyframes/cineast_metadata_part1/v_3Xj0SgZW09k0EPFl/v_3Xj0SgZW09k0EPFl_5.png',\n",
       " 'v_3Xj0SgZW09k0EPFl_60': '../../../../data/seedling/seedling_keyframes/keyframes/cineast_metadata_part1/v_3Xj0SgZW09k0EPFl/v_3Xj0SgZW09k0EPFl_60.png',\n",
       " 'v_3Xj0SgZW09k0EPFl_6': '../../../../data/seedling/seedling_keyframes/keyframes/cineast_metadata_part1/v_3Xj0SgZW09k0EPFl/v_3Xj0SgZW09k0EPFl_6.png',\n",
       " 'v_3Xj0SgZW09k0EPFl_7': '../../../../data/seedling/seedling_keyframes/keyframes/cineast_metadata_part1/v_3Xj0SgZW09k0EPFl/v_3Xj0SgZW09k0EPFl_7.png',\n",
       " 'v_3Xj0SgZW09k0EPFl_8': '../../../../data/seedling/seedling_keyframes/keyframes/cineast_metadata_part1/v_3Xj0SgZW09k0EPFl/v_3Xj0SgZW09k0EPFl_8.png',\n",
       " 'v_3Xj0SgZW09k0EPFl_9': '../../../../data/seedling/seedling_keyframes/keyframes/cineast_metadata_part1/v_3Xj0SgZW09k0EPFl/v_3Xj0SgZW09k0EPFl_9.png',\n",
       " 'v_4nbAhMrpzsk7YuxE_10': '../../../../data/seedling/seedling_keyframes/keyframes/cineast_metadata_part1/v_4nbAhMrpzsk7YuxE/v_4nbAhMrpzsk7YuxE_10.png',\n",
       " 'v_4nbAhMrpzsk7YuxE_11': '../../../../data/seedling/seedling_keyframes/keyframes/cineast_metadata_part1/v_4nbAhMrpzsk7YuxE/v_4nbAhMrpzsk7YuxE_11.png',\n",
       " 'v_4nbAhMrpzsk7YuxE_12': '../../../../data/seedling/seedling_keyframes/keyframes/cineast_metadata_part1/v_4nbAhMrpzsk7YuxE/v_4nbAhMrpzsk7YuxE_12.png',\n",
       " 'v_4nbAhMrpzsk7YuxE_13': '../../../../data/seedling/seedling_keyframes/keyframes/cineast_metadata_part1/v_4nbAhMrpzsk7YuxE/v_4nbAhMrpzsk7YuxE_13.png',\n",
       " 'v_4nbAhMrpzsk7YuxE_14': '../../../../data/seedling/seedling_keyframes/keyframes/cineast_metadata_part1/v_4nbAhMrpzsk7YuxE/v_4nbAhMrpzsk7YuxE_14.png',\n",
       " 'v_4nbAhMrpzsk7YuxE_15': '../../../../data/seedling/seedling_keyframes/keyframes/cineast_metadata_part1/v_4nbAhMrpzsk7YuxE/v_4nbAhMrpzsk7YuxE_15.png',\n",
       " 'v_4nbAhMrpzsk7YuxE_16': '../../../../data/seedling/seedling_keyframes/keyframes/cineast_metadata_part1/v_4nbAhMrpzsk7YuxE/v_4nbAhMrpzsk7YuxE_16.png',\n",
       " 'v_4nbAhMrpzsk7YuxE_17': '../../../../data/seedling/seedling_keyframes/keyframes/cineast_metadata_part1/v_4nbAhMrpzsk7YuxE/v_4nbAhMrpzsk7YuxE_17.png',\n",
       " 'v_4nbAhMrpzsk7YuxE_18': '../../../../data/seedling/seedling_keyframes/keyframes/cineast_metadata_part1/v_4nbAhMrpzsk7YuxE/v_4nbAhMrpzsk7YuxE_18.png',\n",
       " 'v_4nbAhMrpzsk7YuxE_19': '../../../../data/seedling/seedling_keyframes/keyframes/cineast_metadata_part1/v_4nbAhMrpzsk7YuxE/v_4nbAhMrpzsk7YuxE_19.png',\n",
       " 'v_4nbAhMrpzsk7YuxE_1': '../../../../data/seedling/seedling_keyframes/keyframes/cineast_metadata_part1/v_4nbAhMrpzsk7YuxE/v_4nbAhMrpzsk7YuxE_1.png',\n",
       " 'v_4nbAhMrpzsk7YuxE_20': '../../../../data/seedling/seedling_keyframes/keyframes/cineast_metadata_part1/v_4nbAhMrpzsk7YuxE/v_4nbAhMrpzsk7YuxE_20.png',\n",
       " 'v_4nbAhMrpzsk7YuxE_21': '../../../../data/seedling/seedling_keyframes/keyframes/cineast_metadata_part1/v_4nbAhMrpzsk7YuxE/v_4nbAhMrpzsk7YuxE_21.png',\n",
       " 'v_4nbAhMrpzsk7YuxE_22': '../../../../data/seedling/seedling_keyframes/keyframes/cineast_metadata_part1/v_4nbAhMrpzsk7YuxE/v_4nbAhMrpzsk7YuxE_22.png',\n",
       " 'v_4nbAhMrpzsk7YuxE_23': '../../../../data/seedling/seedling_keyframes/keyframes/cineast_metadata_part1/v_4nbAhMrpzsk7YuxE/v_4nbAhMrpzsk7YuxE_23.png',\n",
       " 'v_4nbAhMrpzsk7YuxE_24': '../../../../data/seedling/seedling_keyframes/keyframes/cineast_metadata_part1/v_4nbAhMrpzsk7YuxE/v_4nbAhMrpzsk7YuxE_24.png',\n",
       " 'v_4nbAhMrpzsk7YuxE_25': '../../../../data/seedling/seedling_keyframes/keyframes/cineast_metadata_part1/v_4nbAhMrpzsk7YuxE/v_4nbAhMrpzsk7YuxE_25.png',\n",
       " 'v_4nbAhMrpzsk7YuxE_26': '../../../../data/seedling/seedling_keyframes/keyframes/cineast_metadata_part1/v_4nbAhMrpzsk7YuxE/v_4nbAhMrpzsk7YuxE_26.png',\n",
       " 'v_4nbAhMrpzsk7YuxE_27': '../../../../data/seedling/seedling_keyframes/keyframes/cineast_metadata_part1/v_4nbAhMrpzsk7YuxE/v_4nbAhMrpzsk7YuxE_27.png',\n",
       " 'v_4nbAhMrpzsk7YuxE_28': '../../../../data/seedling/seedling_keyframes/keyframes/cineast_metadata_part1/v_4nbAhMrpzsk7YuxE/v_4nbAhMrpzsk7YuxE_28.png',\n",
       " 'v_4nbAhMrpzsk7YuxE_29': '../../../../data/seedling/seedling_keyframes/keyframes/cineast_metadata_part1/v_4nbAhMrpzsk7YuxE/v_4nbAhMrpzsk7YuxE_29.png',\n",
       " 'v_4nbAhMrpzsk7YuxE_2': '../../../../data/seedling/seedling_keyframes/keyframes/cineast_metadata_part1/v_4nbAhMrpzsk7YuxE/v_4nbAhMrpzsk7YuxE_2.png',\n",
       " 'v_4nbAhMrpzsk7YuxE_30': '../../../../data/seedling/seedling_keyframes/keyframes/cineast_metadata_part1/v_4nbAhMrpzsk7YuxE/v_4nbAhMrpzsk7YuxE_30.png',\n",
       " 'v_4nbAhMrpzsk7YuxE_31': '../../../../data/seedling/seedling_keyframes/keyframes/cineast_metadata_part1/v_4nbAhMrpzsk7YuxE/v_4nbAhMrpzsk7YuxE_31.png',\n",
       " 'v_4nbAhMrpzsk7YuxE_32': '../../../../data/seedling/seedling_keyframes/keyframes/cineast_metadata_part1/v_4nbAhMrpzsk7YuxE/v_4nbAhMrpzsk7YuxE_32.png',\n",
       " 'v_4nbAhMrpzsk7YuxE_33': '../../../../data/seedling/seedling_keyframes/keyframes/cineast_metadata_part1/v_4nbAhMrpzsk7YuxE/v_4nbAhMrpzsk7YuxE_33.png',\n",
       " 'v_4nbAhMrpzsk7YuxE_34': '../../../../data/seedling/seedling_keyframes/keyframes/cineast_metadata_part1/v_4nbAhMrpzsk7YuxE/v_4nbAhMrpzsk7YuxE_34.png',\n",
       " 'v_4nbAhMrpzsk7YuxE_35': '../../../../data/seedling/seedling_keyframes/keyframes/cineast_metadata_part1/v_4nbAhMrpzsk7YuxE/v_4nbAhMrpzsk7YuxE_35.png',\n",
       " 'v_4nbAhMrpzsk7YuxE_36': '../../../../data/seedling/seedling_keyframes/keyframes/cineast_metadata_part1/v_4nbAhMrpzsk7YuxE/v_4nbAhMrpzsk7YuxE_36.png',\n",
       " 'v_4nbAhMrpzsk7YuxE_37': '../../../../data/seedling/seedling_keyframes/keyframes/cineast_metadata_part1/v_4nbAhMrpzsk7YuxE/v_4nbAhMrpzsk7YuxE_37.png',\n",
       " 'v_4nbAhMrpzsk7YuxE_38': '../../../../data/seedling/seedling_keyframes/keyframes/cineast_metadata_part1/v_4nbAhMrpzsk7YuxE/v_4nbAhMrpzsk7YuxE_38.png',\n",
       " 'v_4nbAhMrpzsk7YuxE_39': '../../../../data/seedling/seedling_keyframes/keyframes/cineast_metadata_part1/v_4nbAhMrpzsk7YuxE/v_4nbAhMrpzsk7YuxE_39.png',\n",
       " 'v_4nbAhMrpzsk7YuxE_3': '../../../../data/seedling/seedling_keyframes/keyframes/cineast_metadata_part1/v_4nbAhMrpzsk7YuxE/v_4nbAhMrpzsk7YuxE_3.png',\n",
       " 'v_4nbAhMrpzsk7YuxE_4': '../../../../data/seedling/seedling_keyframes/keyframes/cineast_metadata_part1/v_4nbAhMrpzsk7YuxE/v_4nbAhMrpzsk7YuxE_4.png',\n",
       " 'v_4nbAhMrpzsk7YuxE_5': '../../../../data/seedling/seedling_keyframes/keyframes/cineast_metadata_part1/v_4nbAhMrpzsk7YuxE/v_4nbAhMrpzsk7YuxE_5.png',\n",
       " 'v_4nbAhMrpzsk7YuxE_6': '../../../../data/seedling/seedling_keyframes/keyframes/cineast_metadata_part1/v_4nbAhMrpzsk7YuxE/v_4nbAhMrpzsk7YuxE_6.png',\n",
       " 'v_4nbAhMrpzsk7YuxE_7': '../../../../data/seedling/seedling_keyframes/keyframes/cineast_metadata_part1/v_4nbAhMrpzsk7YuxE/v_4nbAhMrpzsk7YuxE_7.png',\n",
       " 'v_4nbAhMrpzsk7YuxE_8': '../../../../data/seedling/seedling_keyframes/keyframes/cineast_metadata_part1/v_4nbAhMrpzsk7YuxE/v_4nbAhMrpzsk7YuxE_8.png',\n",
       " ...}"
      ]
     },
     "execution_count": 30,
     "metadata": {},
     "output_type": "execute_result"
    }
   ],
   "source": [
    "kf_id_to_img_path"
   ]
  },
  {
   "cell_type": "code",
   "execution_count": 34,
   "metadata": {},
   "outputs": [],
   "source": [
    "imgid_to_imgpath = {}\n",
    "\n",
    "with open('../../../../data/seedling/seedling_keyframes/msb.txt', 'r') as fin:\n",
    "    for line in fin:\n",
    "        row = line.split()\n",
    "\n",
    "        kf_id = row[0] + '_' + row[1].split('_')[-1]\n",
    "        \n",
    "        imgpath = kf_id_to_img_path[kf_id]\n",
    "        \n",
    "        imgid = row[1] + '.png'\n",
    "        \n",
    "        imgid_to_imgpath[imgid] = imgpath\n",
    "        \n",
    "        if vid_to_shot.get(row[0]) == None:\n",
    "            vid_to_shot[row[0]] = []\n",
    "        vid_to_shot[row[0]].append(row[1])"
   ]
  },
  {
   "cell_type": "code",
   "execution_count": null,
   "metadata": {},
   "outputs": [],
   "source": []
  },
  {
   "cell_type": "code",
   "execution_count": null,
   "metadata": {},
   "outputs": [],
   "source": []
  },
  {
   "cell_type": "code",
   "execution_count": null,
   "metadata": {},
   "outputs": [],
   "source": []
  },
  {
   "cell_type": "code",
   "execution_count": 39,
   "metadata": {},
   "outputs": [],
   "source": [
    "def show(imgid, thresh):\n",
    "    filename = imgid_to_imgpath[imgid]\n",
    "    print(imgid)\n",
    "    with open(filename, 'rb') as fin:\n",
    "        # _ = fin.read(1024)\n",
    "        imgbin = fin.read()\n",
    "    imgbgr = cv2.imdecode(np.fromstring(imgbin, dtype='uint8'), cv2.IMREAD_COLOR)\n",
    "    image_np = imgbgr[:,:,[2,1,0]]\n",
    "    image_np = preproc(image_np)\n",
    "    vis_util.visualize_boxes_and_labels_on_image_array(\n",
    "      image_np,\n",
    "      np.asarray(det_results_forviz[imgid]['detection_boxes_normalized']),\n",
    "      det_results_forviz[imgid]['detection_classes'],\n",
    "      det_results_forviz[imgid]['detection_scores'],\n",
    "      category_index_extended,\n",
    "      instance_masks=det_results_forviz[imgid].get('detection_masks'),\n",
    "      use_normalized_coordinates=True,\n",
    "      min_score_thresh=thresh,\n",
    "      line_thickness=2)\n",
    "    plt.figure(figsize=(12, 8))\n",
    "    plt.imshow(image_np)\n",
    "    plt.axis('off')\n",
    "    plt.show()    "
   ]
  },
  {
   "cell_type": "code",
   "execution_count": 40,
   "metadata": {
    "scrolled": false
   },
   "outputs": [
    {
     "name": "stdout",
     "output_type": "stream",
     "text": [
      "Waste\n"
     ]
    },
    {
     "data": {
      "application/vnd.jupyter.widget-view+json": {
       "model_id": "8107104b4dc04ffca9b0f4146f6185e6",
       "version_major": 2,
       "version_minor": 0
      },
      "text/plain": [
       "interactive(children=(FloatSlider(value=0.35, continuous_update=False, description='thresh', max=1.0, step=0.0…"
      ]
     },
     "metadata": {},
     "output_type": "display_data"
    },
    {
     "name": "stdout",
     "output_type": "stream",
     "text": [
      "Boat\n"
     ]
    },
    {
     "data": {
      "application/vnd.jupyter.widget-view+json": {
       "model_id": "3b89ed6e15434ef5b56380a709f92967",
       "version_major": 2,
       "version_minor": 0
      },
      "text/plain": [
       "interactive(children=(FloatSlider(value=0.35, continuous_update=False, description='thresh', max=1.0, step=0.0…"
      ]
     },
     "metadata": {},
     "output_type": "display_data"
    },
    {
     "name": "stdout",
     "output_type": "stream",
     "text": [
      "Flag\n"
     ]
    },
    {
     "data": {
      "application/vnd.jupyter.widget-view+json": {
       "model_id": "d178493feebf4449b1121590c02de174",
       "version_major": 2,
       "version_minor": 0
      },
      "text/plain": [
       "interactive(children=(FloatSlider(value=0.35, continuous_update=False, description='thresh', max=1.0, step=0.0…"
      ]
     },
     "metadata": {},
     "output_type": "display_data"
    },
    {
     "name": "stdout",
     "output_type": "stream",
     "text": [
      "Fire\n"
     ]
    },
    {
     "data": {
      "application/vnd.jupyter.widget-view+json": {
       "model_id": "28c555fda222475e8e728f9838e298d4",
       "version_major": 2,
       "version_minor": 0
      },
      "text/plain": [
       "interactive(children=(FloatSlider(value=0.35, continuous_update=False, description='thresh', max=1.0, step=0.0…"
      ]
     },
     "metadata": {},
     "output_type": "display_data"
    },
    {
     "name": "stdout",
     "output_type": "stream",
     "text": [
      "Tank\n"
     ]
    },
    {
     "data": {
      "application/vnd.jupyter.widget-view+json": {
       "model_id": "d6f0a79d189f4a71b07d1555017f8eea",
       "version_major": 2,
       "version_minor": 0
      },
      "text/plain": [
       "interactive(children=(FloatSlider(value=0.35, continuous_update=False, description='thresh', max=1.0, step=0.0…"
      ]
     },
     "metadata": {},
     "output_type": "display_data"
    },
    {
     "name": "stdout",
     "output_type": "stream",
     "text": [
      "Smoke\n"
     ]
    },
    {
     "data": {
      "application/vnd.jupyter.widget-view+json": {
       "model_id": "7d110dba84d24f6282a82b20b9b50a0c",
       "version_major": 2,
       "version_minor": 0
      },
      "text/plain": [
       "interactive(children=(FloatSlider(value=0.35, continuous_update=False, description='thresh', max=1.0, step=0.0…"
      ]
     },
     "metadata": {},
     "output_type": "display_data"
    },
    {
     "name": "stdout",
     "output_type": "stream",
     "text": [
      "Crowd\n"
     ]
    },
    {
     "data": {
      "application/vnd.jupyter.widget-view+json": {
       "model_id": "a8a0071c883a44c59b1d4d537d609fbd",
       "version_major": 2,
       "version_minor": 0
      },
      "text/plain": [
       "interactive(children=(FloatSlider(value=0.35, continuous_update=False, description='thresh', max=1.0, step=0.0…"
      ]
     },
     "metadata": {},
     "output_type": "display_data"
    },
    {
     "name": "stdout",
     "output_type": "stream",
     "text": [
      "Speech\n"
     ]
    },
    {
     "data": {
      "application/vnd.jupyter.widget-view+json": {
       "model_id": "2c846f3796574cc3a30a5d2fd518c256",
       "version_major": 2,
       "version_minor": 0
      },
      "text/plain": [
       "interactive(children=(FloatSlider(value=0.35, continuous_update=False, description='thresh', max=1.0, step=0.0…"
      ]
     },
     "metadata": {},
     "output_type": "display_data"
    },
    {
     "name": "stdout",
     "output_type": "stream",
     "text": [
      "Medical equipment\n"
     ]
    },
    {
     "data": {
      "application/vnd.jupyter.widget-view+json": {
       "model_id": "73771cefd77443499bac27d2a3ca9604",
       "version_major": 2,
       "version_minor": 0
      },
      "text/plain": [
       "interactive(children=(FloatSlider(value=0.35, continuous_update=False, description='thresh', max=1.0, step=0.0…"
      ]
     },
     "metadata": {},
     "output_type": "display_data"
    },
    {
     "name": "stdout",
     "output_type": "stream",
     "text": [
      "Rubble\n"
     ]
    },
    {
     "data": {
      "application/vnd.jupyter.widget-view+json": {
       "model_id": "a36dc72aba5e438289538fe2ae40eb7f",
       "version_major": 2,
       "version_minor": 0
      },
      "text/plain": [
       "interactive(children=(FloatSlider(value=0.35, continuous_update=False, description='thresh', max=1.0, step=0.0…"
      ]
     },
     "metadata": {},
     "output_type": "display_data"
    },
    {
     "name": "stdout",
     "output_type": "stream",
     "text": [
      "Firefighter\n"
     ]
    },
    {
     "data": {
      "application/vnd.jupyter.widget-view+json": {
       "model_id": "2f8af1203f874466965f70bf9fa904b7",
       "version_major": 2,
       "version_minor": 0
      },
      "text/plain": [
       "interactive(children=(FloatSlider(value=0.35, continuous_update=False, description='thresh', max=1.0, step=0.0…"
      ]
     },
     "metadata": {},
     "output_type": "display_data"
    },
    {
     "name": "stdout",
     "output_type": "stream",
     "text": [
      "Flesh\n"
     ]
    },
    {
     "data": {
      "application/vnd.jupyter.widget-view+json": {
       "model_id": "7a1bef2a70c6408bafe3dc2ef124ac2b",
       "version_major": 2,
       "version_minor": 0
      },
      "text/plain": [
       "interactive(children=(FloatSlider(value=0.35, continuous_update=False, description='thresh', max=1.0, step=0.0…"
      ]
     },
     "metadata": {},
     "output_type": "display_data"
    },
    {
     "name": "stdout",
     "output_type": "stream",
     "text": [
      "Stretcher\n"
     ]
    },
    {
     "data": {
      "application/vnd.jupyter.widget-view+json": {
       "model_id": "175a9a1f0e2f414c8435777452ff016d",
       "version_major": 2,
       "version_minor": 0
      },
      "text/plain": [
       "interactive(children=(FloatSlider(value=0.35, continuous_update=False, description='thresh', max=1.0, step=0.0…"
      ]
     },
     "metadata": {},
     "output_type": "display_data"
    },
    {
     "name": "stdout",
     "output_type": "stream",
     "text": [
      "Helicopter\n"
     ]
    },
    {
     "data": {
      "application/vnd.jupyter.widget-view+json": {
       "model_id": "dcecb18b8c99474f9b8df4c995489142",
       "version_major": 2,
       "version_minor": 0
      },
      "text/plain": [
       "interactive(children=(FloatSlider(value=0.35, continuous_update=False, description='thresh', max=1.0, step=0.0…"
      ]
     },
     "metadata": {},
     "output_type": "display_data"
    },
    {
     "name": "stdout",
     "output_type": "stream",
     "text": [
      "Military vehicle\n"
     ]
    },
    {
     "data": {
      "application/vnd.jupyter.widget-view+json": {
       "model_id": "3b59a73222914a7b8d622dcac510ed80",
       "version_major": 2,
       "version_minor": 0
      },
      "text/plain": [
       "interactive(children=(FloatSlider(value=0.35, continuous_update=False, description='thresh', max=1.0, step=0.0…"
      ]
     },
     "metadata": {},
     "output_type": "display_data"
    },
    {
     "name": "stdout",
     "output_type": "stream",
     "text": [
      "Security\n"
     ]
    },
    {
     "data": {
      "application/vnd.jupyter.widget-view+json": {
       "model_id": "8d0e8abf4e5542f6bc2b864fdf4836b2",
       "version_major": 2,
       "version_minor": 0
      },
      "text/plain": [
       "interactive(children=(FloatSlider(value=0.35, continuous_update=False, description='thresh', max=1.0, step=0.0…"
      ]
     },
     "metadata": {},
     "output_type": "display_data"
    },
    {
     "name": "stdout",
     "output_type": "stream",
     "text": [
      "Bomb\n"
     ]
    },
    {
     "data": {
      "application/vnd.jupyter.widget-view+json": {
       "model_id": "70a26163cd1f4f88a2098a631af9f767",
       "version_major": 2,
       "version_minor": 0
      },
      "text/plain": [
       "interactive(children=(FloatSlider(value=0.35, continuous_update=False, description='thresh', max=1.0, step=0.0…"
      ]
     },
     "metadata": {},
     "output_type": "display_data"
    },
    {
     "name": "stdout",
     "output_type": "stream",
     "text": [
      "Protest\n"
     ]
    },
    {
     "data": {
      "application/vnd.jupyter.widget-view+json": {
       "model_id": "756736c9e202429f9fa5a197261a3eb0",
       "version_major": 2,
       "version_minor": 0
      },
      "text/plain": [
       "interactive(children=(FloatSlider(value=0.35, continuous_update=False, description='thresh', max=1.0, step=0.0…"
      ]
     },
     "metadata": {},
     "output_type": "display_data"
    },
    {
     "name": "stdout",
     "output_type": "stream",
     "text": [
      "Rocket\n"
     ]
    },
    {
     "data": {
      "application/vnd.jupyter.widget-view+json": {
       "model_id": "abaca044c7e34dda9b8cc040ae210e18",
       "version_major": 2,
       "version_minor": 0
      },
      "text/plain": [
       "interactive(children=(FloatSlider(value=0.35, continuous_update=False, description='thresh', max=1.0, step=0.0…"
      ]
     },
     "metadata": {},
     "output_type": "display_data"
    },
    {
     "name": "stdout",
     "output_type": "stream",
     "text": [
      "Fire extinguisher\n"
     ]
    },
    {
     "data": {
      "application/vnd.jupyter.widget-view+json": {
       "model_id": "f3c40f3bd21b458e9e418ad99052991f",
       "version_major": 2,
       "version_minor": 0
      },
      "text/plain": [
       "interactive(children=(FloatSlider(value=0.35, continuous_update=False, description='thresh', max=1.0, step=0.0…"
      ]
     },
     "metadata": {},
     "output_type": "display_data"
    },
    {
     "name": "stdout",
     "output_type": "stream",
     "text": [
      "Knife\n"
     ]
    },
    {
     "data": {
      "application/vnd.jupyter.widget-view+json": {
       "model_id": "c51ce77b4f1e4d458fe0ee8022752cc2",
       "version_major": 2,
       "version_minor": 0
      },
      "text/plain": [
       "interactive(children=(FloatSlider(value=0.35, continuous_update=False, description='thresh', max=1.0, step=0.0…"
      ]
     },
     "metadata": {},
     "output_type": "display_data"
    },
    {
     "name": "stdout",
     "output_type": "stream",
     "text": [
      "Missile\n"
     ]
    },
    {
     "data": {
      "application/vnd.jupyter.widget-view+json": {
       "model_id": "5f8aea94ce9c4268b790f51b687c86a5",
       "version_major": 2,
       "version_minor": 0
      },
      "text/plain": [
       "interactive(children=(FloatSlider(value=0.35, continuous_update=False, description='thresh', max=1.0, step=0.0…"
      ]
     },
     "metadata": {},
     "output_type": "display_data"
    },
    {
     "name": "stdout",
     "output_type": "stream",
     "text": [
      "Combat vehicle\n"
     ]
    },
    {
     "data": {
      "application/vnd.jupyter.widget-view+json": {
       "model_id": "60b9d575b3d740cb8ad8252cab941eaf",
       "version_major": 2,
       "version_minor": 0
      },
      "text/plain": [
       "interactive(children=(FloatSlider(value=0.35, continuous_update=False, description='thresh', max=1.0, step=0.0…"
      ]
     },
     "metadata": {},
     "output_type": "display_data"
    },
    {
     "name": "stdout",
     "output_type": "stream",
     "text": [
      "Watercraft\n"
     ]
    },
    {
     "data": {
      "application/vnd.jupyter.widget-view+json": {
       "model_id": "403171474c9748759500a388eb636431",
       "version_major": 2,
       "version_minor": 0
      },
      "text/plain": [
       "interactive(children=(FloatSlider(value=0.35, continuous_update=False, description='thresh', max=1.0, step=0.0…"
      ]
     },
     "metadata": {},
     "output_type": "display_data"
    },
    {
     "name": "stdout",
     "output_type": "stream",
     "text": [
      "Shotgun\n"
     ]
    },
    {
     "data": {
      "application/vnd.jupyter.widget-view+json": {
       "model_id": "af3d1754be914376b8cbb2a5d659b310",
       "version_major": 2,
       "version_minor": 0
      },
      "text/plain": [
       "interactive(children=(FloatSlider(value=0.35, continuous_update=False, description='thresh', max=1.0, step=0.0…"
      ]
     },
     "metadata": {},
     "output_type": "display_data"
    },
    {
     "name": "stdout",
     "output_type": "stream",
     "text": [
      "Parachute\n"
     ]
    },
    {
     "data": {
      "application/vnd.jupyter.widget-view+json": {
       "model_id": "1dd3e30b21a74f40ac7a01fd6fe2dce0",
       "version_major": 2,
       "version_minor": 0
      },
      "text/plain": [
       "interactive(children=(FloatSlider(value=0.35, continuous_update=False, description='thresh', max=1.0, step=0.0…"
      ]
     },
     "metadata": {},
     "output_type": "display_data"
    },
    {
     "name": "stdout",
     "output_type": "stream",
     "text": [
      "Machine gun\n"
     ]
    },
    {
     "data": {
      "application/vnd.jupyter.widget-view+json": {
       "model_id": "4be33f94ee524f29b661c3ccccbe64ab",
       "version_major": 2,
       "version_minor": 0
      },
      "text/plain": [
       "interactive(children=(FloatSlider(value=0.35, continuous_update=False, description='thresh', max=1.0, step=0.0…"
      ]
     },
     "metadata": {},
     "output_type": "display_data"
    },
    {
     "name": "stdout",
     "output_type": "stream",
     "text": [
      "Airliner\n"
     ]
    },
    {
     "data": {
      "application/vnd.jupyter.widget-view+json": {
       "model_id": "be2e8ad3e2c44afa85eb32667e455f1a",
       "version_major": 2,
       "version_minor": 0
      },
      "text/plain": [
       "interactive(children=(FloatSlider(value=0.35, continuous_update=False, description='thresh', max=1.0, step=0.0…"
      ]
     },
     "metadata": {},
     "output_type": "display_data"
    },
    {
     "name": "stdout",
     "output_type": "stream",
     "text": [
      "Limousine\n"
     ]
    },
    {
     "data": {
      "application/vnd.jupyter.widget-view+json": {
       "model_id": "df61467f726b486c9a6bee64c9788959",
       "version_major": 2,
       "version_minor": 0
      },
      "text/plain": [
       "interactive(children=(FloatSlider(value=0.35, continuous_update=False, description='thresh', max=1.0, step=0.0…"
      ]
     },
     "metadata": {},
     "output_type": "display_data"
    },
    {
     "name": "stdout",
     "output_type": "stream",
     "text": [
      "Handgun\n"
     ]
    },
    {
     "data": {
      "application/vnd.jupyter.widget-view+json": {
       "model_id": "687712f631fa43e4b907f3581bb656dc",
       "version_major": 2,
       "version_minor": 0
      },
      "text/plain": [
       "interactive(children=(FloatSlider(value=0.35, continuous_update=False, description='thresh', max=1.0, step=0.0…"
      ]
     },
     "metadata": {},
     "output_type": "display_data"
    },
    {
     "name": "stdout",
     "output_type": "stream",
     "text": [
      "Troop\n"
     ]
    },
    {
     "data": {
      "application/vnd.jupyter.widget-view+json": {
       "model_id": "282b08e89afc4a52b4272fe54549c9cd",
       "version_major": 2,
       "version_minor": 0
      },
      "text/plain": [
       "interactive(children=(FloatSlider(value=0.35, continuous_update=False, description='thresh', max=1.0, step=0.0…"
      ]
     },
     "metadata": {},
     "output_type": "display_data"
    },
    {
     "name": "stdout",
     "output_type": "stream",
     "text": [
      "Binoculars\n"
     ]
    },
    {
     "data": {
      "application/vnd.jupyter.widget-view+json": {
       "model_id": "e7b945b2365c47688ea5e43c1e6309fb",
       "version_major": 2,
       "version_minor": 0
      },
      "text/plain": [
       "interactive(children=(FloatSlider(value=0.35, continuous_update=False, description='thresh', max=1.0, step=0.0…"
      ]
     },
     "metadata": {},
     "output_type": "display_data"
    },
    {
     "name": "stdout",
     "output_type": "stream",
     "text": [
      "Fighter aircraft\n"
     ]
    },
    {
     "data": {
      "application/vnd.jupyter.widget-view+json": {
       "model_id": "e6546383f2854c459a55890b21b1c75d",
       "version_major": 2,
       "version_minor": 0
      },
      "text/plain": [
       "interactive(children=(FloatSlider(value=0.35, continuous_update=False, description='thresh', max=1.0, step=0.0…"
      ]
     },
     "metadata": {},
     "output_type": "display_data"
    },
    {
     "name": "stdout",
     "output_type": "stream",
     "text": [
      "Ambulance\n"
     ]
    },
    {
     "data": {
      "application/vnd.jupyter.widget-view+json": {
       "model_id": "308677080e924964a6fd92be13c6f5af",
       "version_major": 2,
       "version_minor": 0
      },
      "text/plain": [
       "interactive(children=(FloatSlider(value=0.35, continuous_update=False, description='thresh', max=1.0, step=0.0…"
      ]
     },
     "metadata": {},
     "output_type": "display_data"
    },
    {
     "name": "stdout",
     "output_type": "stream",
     "text": [
      "Assault rifle\n"
     ]
    },
    {
     "data": {
      "application/vnd.jupyter.widget-view+json": {
       "model_id": "f156478a265349f9836837759b197242",
       "version_major": 2,
       "version_minor": 0
      },
      "text/plain": [
       "interactive(children=(FloatSlider(value=0.35, continuous_update=False, description='thresh', max=1.0, step=0.0…"
      ]
     },
     "metadata": {},
     "output_type": "display_data"
    },
    {
     "name": "stdout",
     "output_type": "stream",
     "text": [
      "Logo\n"
     ]
    },
    {
     "data": {
      "application/vnd.jupyter.widget-view+json": {
       "model_id": "1e058b1f1e9d42059778f2e8a57bac0f",
       "version_major": 2,
       "version_minor": 0
      },
      "text/plain": [
       "interactive(children=(FloatSlider(value=0.35, continuous_update=False, description='thresh', max=1.0, step=0.0…"
      ]
     },
     "metadata": {},
     "output_type": "display_data"
    },
    {
     "name": "stdout",
     "output_type": "stream",
     "text": [
      "People\n"
     ]
    },
    {
     "data": {
      "application/vnd.jupyter.widget-view+json": {
       "model_id": "840a5f2491d646b68b4aba58580a42e7",
       "version_major": 2,
       "version_minor": 0
      },
      "text/plain": [
       "interactive(children=(FloatSlider(value=0.35, continuous_update=False, description='thresh', max=1.0, step=0.0…"
      ]
     },
     "metadata": {},
     "output_type": "display_data"
    },
    {
     "name": "stdout",
     "output_type": "stream",
     "text": [
      "Conference hall\n"
     ]
    },
    {
     "data": {
      "application/vnd.jupyter.widget-view+json": {
       "model_id": "68fcba61165f483783907141c9715d97",
       "version_major": 2,
       "version_minor": 0
      },
      "text/plain": [
       "interactive(children=(FloatSlider(value=0.35, continuous_update=False, description='thresh', max=1.0, step=0.0…"
      ]
     },
     "metadata": {},
     "output_type": "display_data"
    },
    {
     "name": "stdout",
     "output_type": "stream",
     "text": [
      "Rifle\n"
     ]
    },
    {
     "data": {
      "application/vnd.jupyter.widget-view+json": {
       "model_id": "91e8e123e2f74d458da9e0a523494338",
       "version_major": 2,
       "version_minor": 0
      },
      "text/plain": [
       "interactive(children=(FloatSlider(value=0.35, continuous_update=False, description='thresh', max=1.0, step=0.0…"
      ]
     },
     "metadata": {},
     "output_type": "display_data"
    },
    {
     "name": "stdout",
     "output_type": "stream",
     "text": [
      "Emergency vehicle\n"
     ]
    },
    {
     "data": {
      "application/vnd.jupyter.widget-view+json": {
       "model_id": "1d23726910b44ff2957476011a89e5d4",
       "version_major": 2,
       "version_minor": 0
      },
      "text/plain": [
       "interactive(children=(FloatSlider(value=0.35, continuous_update=False, description='thresh', max=1.0, step=0.0…"
      ]
     },
     "metadata": {},
     "output_type": "display_data"
    },
    {
     "name": "stdout",
     "output_type": "stream",
     "text": [
      "Submarine\n"
     ]
    },
    {
     "data": {
      "application/vnd.jupyter.widget-view+json": {
       "model_id": "3ff94bdea8c74535a01c1008b0a8339c",
       "version_major": 2,
       "version_minor": 0
      },
      "text/plain": [
       "interactive(children=(FloatSlider(value=0.35, continuous_update=False, description='thresh', max=1.0, step=0.0…"
      ]
     },
     "metadata": {},
     "output_type": "display_data"
    },
    {
     "name": "stdout",
     "output_type": "stream",
     "text": [
      "Watercraft\n"
     ]
    },
    {
     "data": {
      "application/vnd.jupyter.widget-view+json": {
       "model_id": "eee94a2d9e544f9387c7df07cbafcb1a",
       "version_major": 2,
       "version_minor": 0
      },
      "text/plain": [
       "interactive(children=(FloatSlider(value=0.35, continuous_update=False, description='thresh', max=1.0, step=0.0…"
      ]
     },
     "metadata": {},
     "output_type": "display_data"
    }
   ],
   "source": [
    "for label in select_labels:\n",
    "    if len(label_to_img[label]) == 0:\n",
    "        continue\n",
    "    print(mid2name_all[label])\n",
    "    imgid = np.random.choice(label_to_img[label])\n",
    "    w = interactive(show, \n",
    "        thresh=widgets.FloatSlider(min=0.0, max=1.0, step=0.01, value=0.35, continuous_update=False), \n",
    "        imgid=fixed(imgid)\n",
    "    )\n",
    "    w.children[-1].layout.height = '600px'\n",
    "    display(w)"
   ]
  },
  {
   "cell_type": "code",
   "execution_count": null,
   "metadata": {},
   "outputs": [],
   "source": []
  },
  {
   "cell_type": "code",
   "execution_count": 41,
   "metadata": {
    "scrolled": false
   },
   "outputs": [
    {
     "name": "stdout",
     "output_type": "stream",
     "text": [
      "Waste\n"
     ]
    },
    {
     "data": {
      "application/vnd.jupyter.widget-view+json": {
       "model_id": "fedffa3fdcf747188f30831f99109830",
       "version_major": 2,
       "version_minor": 0
      },
      "text/plain": [
       "interactive(children=(FloatSlider(value=0.35, continuous_update=False, description='thresh', max=1.0, step=0.0…"
      ]
     },
     "metadata": {},
     "output_type": "display_data"
    },
    {
     "name": "stdout",
     "output_type": "stream",
     "text": [
      "Boat\n"
     ]
    },
    {
     "data": {
      "application/vnd.jupyter.widget-view+json": {
       "model_id": "772e2aee8d2a41f1a7e860b4d27fa3f7",
       "version_major": 2,
       "version_minor": 0
      },
      "text/plain": [
       "interactive(children=(FloatSlider(value=0.35, continuous_update=False, description='thresh', max=1.0, step=0.0…"
      ]
     },
     "metadata": {},
     "output_type": "display_data"
    },
    {
     "name": "stdout",
     "output_type": "stream",
     "text": [
      "Flag\n"
     ]
    },
    {
     "data": {
      "application/vnd.jupyter.widget-view+json": {
       "model_id": "0439170ab4e34703834e2b0585e9970a",
       "version_major": 2,
       "version_minor": 0
      },
      "text/plain": [
       "interactive(children=(FloatSlider(value=0.35, continuous_update=False, description='thresh', max=1.0, step=0.0…"
      ]
     },
     "metadata": {},
     "output_type": "display_data"
    },
    {
     "name": "stdout",
     "output_type": "stream",
     "text": [
      "Fire\n"
     ]
    },
    {
     "data": {
      "application/vnd.jupyter.widget-view+json": {
       "model_id": "cef5686cfb514be9910ae168638bde66",
       "version_major": 2,
       "version_minor": 0
      },
      "text/plain": [
       "interactive(children=(FloatSlider(value=0.35, continuous_update=False, description='thresh', max=1.0, step=0.0…"
      ]
     },
     "metadata": {},
     "output_type": "display_data"
    },
    {
     "name": "stdout",
     "output_type": "stream",
     "text": [
      "Tank\n"
     ]
    },
    {
     "data": {
      "application/vnd.jupyter.widget-view+json": {
       "model_id": "ec352db190a64234b7e4f4f1b69b811e",
       "version_major": 2,
       "version_minor": 0
      },
      "text/plain": [
       "interactive(children=(FloatSlider(value=0.35, continuous_update=False, description='thresh', max=1.0, step=0.0…"
      ]
     },
     "metadata": {},
     "output_type": "display_data"
    },
    {
     "name": "stdout",
     "output_type": "stream",
     "text": [
      "Smoke\n"
     ]
    },
    {
     "data": {
      "application/vnd.jupyter.widget-view+json": {
       "model_id": "60a8555649e540aebbcd26f623c3e44f",
       "version_major": 2,
       "version_minor": 0
      },
      "text/plain": [
       "interactive(children=(FloatSlider(value=0.35, continuous_update=False, description='thresh', max=1.0, step=0.0…"
      ]
     },
     "metadata": {},
     "output_type": "display_data"
    },
    {
     "name": "stdout",
     "output_type": "stream",
     "text": [
      "Crowd\n"
     ]
    },
    {
     "data": {
      "application/vnd.jupyter.widget-view+json": {
       "model_id": "21700f1de7d840d4ab6fe805eabd60c1",
       "version_major": 2,
       "version_minor": 0
      },
      "text/plain": [
       "interactive(children=(FloatSlider(value=0.35, continuous_update=False, description='thresh', max=1.0, step=0.0…"
      ]
     },
     "metadata": {},
     "output_type": "display_data"
    },
    {
     "name": "stdout",
     "output_type": "stream",
     "text": [
      "Speech\n"
     ]
    },
    {
     "data": {
      "application/vnd.jupyter.widget-view+json": {
       "model_id": "0d944fe77f3341fb8769249bbc79966f",
       "version_major": 2,
       "version_minor": 0
      },
      "text/plain": [
       "interactive(children=(FloatSlider(value=0.35, continuous_update=False, description='thresh', max=1.0, step=0.0…"
      ]
     },
     "metadata": {},
     "output_type": "display_data"
    },
    {
     "name": "stdout",
     "output_type": "stream",
     "text": [
      "Medical equipment\n"
     ]
    },
    {
     "data": {
      "application/vnd.jupyter.widget-view+json": {
       "model_id": "430488d16d8b43cca18a03230d5c4b33",
       "version_major": 2,
       "version_minor": 0
      },
      "text/plain": [
       "interactive(children=(FloatSlider(value=0.35, continuous_update=False, description='thresh', max=1.0, step=0.0…"
      ]
     },
     "metadata": {},
     "output_type": "display_data"
    },
    {
     "name": "stdout",
     "output_type": "stream",
     "text": [
      "Rubble\n"
     ]
    },
    {
     "data": {
      "application/vnd.jupyter.widget-view+json": {
       "model_id": "9d8ffadcdb2547b7a06fae0904cf7132",
       "version_major": 2,
       "version_minor": 0
      },
      "text/plain": [
       "interactive(children=(FloatSlider(value=0.35, continuous_update=False, description='thresh', max=1.0, step=0.0…"
      ]
     },
     "metadata": {},
     "output_type": "display_data"
    },
    {
     "name": "stdout",
     "output_type": "stream",
     "text": [
      "Firefighter\n"
     ]
    },
    {
     "data": {
      "application/vnd.jupyter.widget-view+json": {
       "model_id": "4699317631b34e7ab903b24c036be5c2",
       "version_major": 2,
       "version_minor": 0
      },
      "text/plain": [
       "interactive(children=(FloatSlider(value=0.35, continuous_update=False, description='thresh', max=1.0, step=0.0…"
      ]
     },
     "metadata": {},
     "output_type": "display_data"
    },
    {
     "name": "stdout",
     "output_type": "stream",
     "text": [
      "Flesh\n"
     ]
    },
    {
     "data": {
      "application/vnd.jupyter.widget-view+json": {
       "model_id": "41490b922ef641beb2e24e0f6910f7d3",
       "version_major": 2,
       "version_minor": 0
      },
      "text/plain": [
       "interactive(children=(FloatSlider(value=0.35, continuous_update=False, description='thresh', max=1.0, step=0.0…"
      ]
     },
     "metadata": {},
     "output_type": "display_data"
    },
    {
     "name": "stdout",
     "output_type": "stream",
     "text": [
      "Stretcher\n"
     ]
    },
    {
     "data": {
      "application/vnd.jupyter.widget-view+json": {
       "model_id": "35f78e7e254f489a9bd87ccea8f69369",
       "version_major": 2,
       "version_minor": 0
      },
      "text/plain": [
       "interactive(children=(FloatSlider(value=0.35, continuous_update=False, description='thresh', max=1.0, step=0.0…"
      ]
     },
     "metadata": {},
     "output_type": "display_data"
    },
    {
     "name": "stdout",
     "output_type": "stream",
     "text": [
      "Helicopter\n"
     ]
    },
    {
     "data": {
      "application/vnd.jupyter.widget-view+json": {
       "model_id": "2d9b7f7f52fd4716ac76f2c893b77648",
       "version_major": 2,
       "version_minor": 0
      },
      "text/plain": [
       "interactive(children=(FloatSlider(value=0.35, continuous_update=False, description='thresh', max=1.0, step=0.0…"
      ]
     },
     "metadata": {},
     "output_type": "display_data"
    },
    {
     "name": "stdout",
     "output_type": "stream",
     "text": [
      "Military vehicle\n"
     ]
    },
    {
     "data": {
      "application/vnd.jupyter.widget-view+json": {
       "model_id": "2d4d1bf431a94ab98b091daffb136794",
       "version_major": 2,
       "version_minor": 0
      },
      "text/plain": [
       "interactive(children=(FloatSlider(value=0.35, continuous_update=False, description='thresh', max=1.0, step=0.0…"
      ]
     },
     "metadata": {},
     "output_type": "display_data"
    },
    {
     "name": "stdout",
     "output_type": "stream",
     "text": [
      "Security\n"
     ]
    },
    {
     "data": {
      "application/vnd.jupyter.widget-view+json": {
       "model_id": "c5216df1054c4d7f99608f51f8d17894",
       "version_major": 2,
       "version_minor": 0
      },
      "text/plain": [
       "interactive(children=(FloatSlider(value=0.35, continuous_update=False, description='thresh', max=1.0, step=0.0…"
      ]
     },
     "metadata": {},
     "output_type": "display_data"
    },
    {
     "name": "stdout",
     "output_type": "stream",
     "text": [
      "Bomb\n"
     ]
    },
    {
     "data": {
      "application/vnd.jupyter.widget-view+json": {
       "model_id": "5c368dcb6a9646f5aaf1f3387c195529",
       "version_major": 2,
       "version_minor": 0
      },
      "text/plain": [
       "interactive(children=(FloatSlider(value=0.35, continuous_update=False, description='thresh', max=1.0, step=0.0…"
      ]
     },
     "metadata": {},
     "output_type": "display_data"
    },
    {
     "name": "stdout",
     "output_type": "stream",
     "text": [
      "Protest\n"
     ]
    },
    {
     "data": {
      "application/vnd.jupyter.widget-view+json": {
       "model_id": "9880adb75bf8454d963eb8b97475656b",
       "version_major": 2,
       "version_minor": 0
      },
      "text/plain": [
       "interactive(children=(FloatSlider(value=0.35, continuous_update=False, description='thresh', max=1.0, step=0.0…"
      ]
     },
     "metadata": {},
     "output_type": "display_data"
    },
    {
     "name": "stdout",
     "output_type": "stream",
     "text": [
      "Rocket\n"
     ]
    },
    {
     "data": {
      "application/vnd.jupyter.widget-view+json": {
       "model_id": "3f86f1f937c846c2a489f7c2c2e95d6a",
       "version_major": 2,
       "version_minor": 0
      },
      "text/plain": [
       "interactive(children=(FloatSlider(value=0.35, continuous_update=False, description='thresh', max=1.0, step=0.0…"
      ]
     },
     "metadata": {},
     "output_type": "display_data"
    },
    {
     "name": "stdout",
     "output_type": "stream",
     "text": [
      "Fire extinguisher\n"
     ]
    },
    {
     "data": {
      "application/vnd.jupyter.widget-view+json": {
       "model_id": "240cba134d1447c8973dea21e183d56b",
       "version_major": 2,
       "version_minor": 0
      },
      "text/plain": [
       "interactive(children=(FloatSlider(value=0.35, continuous_update=False, description='thresh', max=1.0, step=0.0…"
      ]
     },
     "metadata": {},
     "output_type": "display_data"
    },
    {
     "name": "stdout",
     "output_type": "stream",
     "text": [
      "Knife\n"
     ]
    },
    {
     "data": {
      "application/vnd.jupyter.widget-view+json": {
       "model_id": "73acef395509409a9f9026d7864b04a8",
       "version_major": 2,
       "version_minor": 0
      },
      "text/plain": [
       "interactive(children=(FloatSlider(value=0.35, continuous_update=False, description='thresh', max=1.0, step=0.0…"
      ]
     },
     "metadata": {},
     "output_type": "display_data"
    },
    {
     "name": "stdout",
     "output_type": "stream",
     "text": [
      "Missile\n"
     ]
    },
    {
     "data": {
      "application/vnd.jupyter.widget-view+json": {
       "model_id": "eb4ab28d77d64190b4de8d209a837a62",
       "version_major": 2,
       "version_minor": 0
      },
      "text/plain": [
       "interactive(children=(FloatSlider(value=0.35, continuous_update=False, description='thresh', max=1.0, step=0.0…"
      ]
     },
     "metadata": {},
     "output_type": "display_data"
    },
    {
     "name": "stdout",
     "output_type": "stream",
     "text": [
      "Combat vehicle\n"
     ]
    },
    {
     "data": {
      "application/vnd.jupyter.widget-view+json": {
       "model_id": "518d7138556041399e9e60c452f077de",
       "version_major": 2,
       "version_minor": 0
      },
      "text/plain": [
       "interactive(children=(FloatSlider(value=0.35, continuous_update=False, description='thresh', max=1.0, step=0.0…"
      ]
     },
     "metadata": {},
     "output_type": "display_data"
    },
    {
     "name": "stdout",
     "output_type": "stream",
     "text": [
      "Watercraft\n"
     ]
    },
    {
     "data": {
      "application/vnd.jupyter.widget-view+json": {
       "model_id": "8d66bb9c978747bfa5d0858dc6213a6f",
       "version_major": 2,
       "version_minor": 0
      },
      "text/plain": [
       "interactive(children=(FloatSlider(value=0.35, continuous_update=False, description='thresh', max=1.0, step=0.0…"
      ]
     },
     "metadata": {},
     "output_type": "display_data"
    },
    {
     "name": "stdout",
     "output_type": "stream",
     "text": [
      "Shotgun\n"
     ]
    },
    {
     "data": {
      "application/vnd.jupyter.widget-view+json": {
       "model_id": "518c7466cd254180994471d0ecec5946",
       "version_major": 2,
       "version_minor": 0
      },
      "text/plain": [
       "interactive(children=(FloatSlider(value=0.35, continuous_update=False, description='thresh', max=1.0, step=0.0…"
      ]
     },
     "metadata": {},
     "output_type": "display_data"
    },
    {
     "name": "stdout",
     "output_type": "stream",
     "text": [
      "Parachute\n"
     ]
    },
    {
     "data": {
      "application/vnd.jupyter.widget-view+json": {
       "model_id": "036590f1f96d47088f1bbcaeb4a571c4",
       "version_major": 2,
       "version_minor": 0
      },
      "text/plain": [
       "interactive(children=(FloatSlider(value=0.35, continuous_update=False, description='thresh', max=1.0, step=0.0…"
      ]
     },
     "metadata": {},
     "output_type": "display_data"
    },
    {
     "name": "stdout",
     "output_type": "stream",
     "text": [
      "Machine gun\n"
     ]
    },
    {
     "data": {
      "application/vnd.jupyter.widget-view+json": {
       "model_id": "737eaed01f244556ab1fb102395ef55e",
       "version_major": 2,
       "version_minor": 0
      },
      "text/plain": [
       "interactive(children=(FloatSlider(value=0.35, continuous_update=False, description='thresh', max=1.0, step=0.0…"
      ]
     },
     "metadata": {},
     "output_type": "display_data"
    },
    {
     "name": "stdout",
     "output_type": "stream",
     "text": [
      "Airliner\n"
     ]
    },
    {
     "data": {
      "application/vnd.jupyter.widget-view+json": {
       "model_id": "16991137bf574e20887fe7ad0ff26028",
       "version_major": 2,
       "version_minor": 0
      },
      "text/plain": [
       "interactive(children=(FloatSlider(value=0.35, continuous_update=False, description='thresh', max=1.0, step=0.0…"
      ]
     },
     "metadata": {},
     "output_type": "display_data"
    },
    {
     "name": "stdout",
     "output_type": "stream",
     "text": [
      "Limousine\n"
     ]
    },
    {
     "data": {
      "application/vnd.jupyter.widget-view+json": {
       "model_id": "a92be8a4db40434a882efacb561b2e74",
       "version_major": 2,
       "version_minor": 0
      },
      "text/plain": [
       "interactive(children=(FloatSlider(value=0.35, continuous_update=False, description='thresh', max=1.0, step=0.0…"
      ]
     },
     "metadata": {},
     "output_type": "display_data"
    },
    {
     "name": "stdout",
     "output_type": "stream",
     "text": [
      "Handgun\n"
     ]
    },
    {
     "data": {
      "application/vnd.jupyter.widget-view+json": {
       "model_id": "82a5258dd41f4fb1b09dfaca5ec1bccf",
       "version_major": 2,
       "version_minor": 0
      },
      "text/plain": [
       "interactive(children=(FloatSlider(value=0.35, continuous_update=False, description='thresh', max=1.0, step=0.0…"
      ]
     },
     "metadata": {},
     "output_type": "display_data"
    },
    {
     "name": "stdout",
     "output_type": "stream",
     "text": [
      "Troop\n"
     ]
    },
    {
     "data": {
      "application/vnd.jupyter.widget-view+json": {
       "model_id": "2f0e8444019c492399019a810d7e09b3",
       "version_major": 2,
       "version_minor": 0
      },
      "text/plain": [
       "interactive(children=(FloatSlider(value=0.35, continuous_update=False, description='thresh', max=1.0, step=0.0…"
      ]
     },
     "metadata": {},
     "output_type": "display_data"
    },
    {
     "name": "stdout",
     "output_type": "stream",
     "text": [
      "Binoculars\n"
     ]
    },
    {
     "data": {
      "application/vnd.jupyter.widget-view+json": {
       "model_id": "d9319b0e091b4eab8ad7b5f26a94b091",
       "version_major": 2,
       "version_minor": 0
      },
      "text/plain": [
       "interactive(children=(FloatSlider(value=0.35, continuous_update=False, description='thresh', max=1.0, step=0.0…"
      ]
     },
     "metadata": {},
     "output_type": "display_data"
    },
    {
     "name": "stdout",
     "output_type": "stream",
     "text": [
      "Fighter aircraft\n"
     ]
    },
    {
     "data": {
      "application/vnd.jupyter.widget-view+json": {
       "model_id": "9681fc44acd6418d9ea59ec232f89b11",
       "version_major": 2,
       "version_minor": 0
      },
      "text/plain": [
       "interactive(children=(FloatSlider(value=0.35, continuous_update=False, description='thresh', max=1.0, step=0.0…"
      ]
     },
     "metadata": {},
     "output_type": "display_data"
    },
    {
     "name": "stdout",
     "output_type": "stream",
     "text": [
      "Ambulance\n"
     ]
    },
    {
     "data": {
      "application/vnd.jupyter.widget-view+json": {
       "model_id": "a43978fc1cce47c191398894c90cd2cc",
       "version_major": 2,
       "version_minor": 0
      },
      "text/plain": [
       "interactive(children=(FloatSlider(value=0.35, continuous_update=False, description='thresh', max=1.0, step=0.0…"
      ]
     },
     "metadata": {},
     "output_type": "display_data"
    },
    {
     "name": "stdout",
     "output_type": "stream",
     "text": [
      "Assault rifle\n"
     ]
    },
    {
     "data": {
      "application/vnd.jupyter.widget-view+json": {
       "model_id": "45f561eb51f840e0b15d3679b7df1e6f",
       "version_major": 2,
       "version_minor": 0
      },
      "text/plain": [
       "interactive(children=(FloatSlider(value=0.35, continuous_update=False, description='thresh', max=1.0, step=0.0…"
      ]
     },
     "metadata": {},
     "output_type": "display_data"
    },
    {
     "name": "stdout",
     "output_type": "stream",
     "text": [
      "Logo\n"
     ]
    },
    {
     "data": {
      "application/vnd.jupyter.widget-view+json": {
       "model_id": "276ce1998832431690de8e3bf7052a3a",
       "version_major": 2,
       "version_minor": 0
      },
      "text/plain": [
       "interactive(children=(FloatSlider(value=0.35, continuous_update=False, description='thresh', max=1.0, step=0.0…"
      ]
     },
     "metadata": {},
     "output_type": "display_data"
    },
    {
     "name": "stdout",
     "output_type": "stream",
     "text": [
      "People\n"
     ]
    },
    {
     "data": {
      "application/vnd.jupyter.widget-view+json": {
       "model_id": "5d88efb2d4a6494c96f52a04b8d418ba",
       "version_major": 2,
       "version_minor": 0
      },
      "text/plain": [
       "interactive(children=(FloatSlider(value=0.35, continuous_update=False, description='thresh', max=1.0, step=0.0…"
      ]
     },
     "metadata": {},
     "output_type": "display_data"
    },
    {
     "name": "stdout",
     "output_type": "stream",
     "text": [
      "Conference hall\n"
     ]
    },
    {
     "data": {
      "application/vnd.jupyter.widget-view+json": {
       "model_id": "cfefb7d0d3bd43e9aa634c82c13d5459",
       "version_major": 2,
       "version_minor": 0
      },
      "text/plain": [
       "interactive(children=(FloatSlider(value=0.35, continuous_update=False, description='thresh', max=1.0, step=0.0…"
      ]
     },
     "metadata": {},
     "output_type": "display_data"
    },
    {
     "name": "stdout",
     "output_type": "stream",
     "text": [
      "Rifle\n"
     ]
    },
    {
     "data": {
      "application/vnd.jupyter.widget-view+json": {
       "model_id": "042776db10f94d92b39f0d0aadca4c37",
       "version_major": 2,
       "version_minor": 0
      },
      "text/plain": [
       "interactive(children=(FloatSlider(value=0.35, continuous_update=False, description='thresh', max=1.0, step=0.0…"
      ]
     },
     "metadata": {},
     "output_type": "display_data"
    },
    {
     "name": "stdout",
     "output_type": "stream",
     "text": [
      "Emergency vehicle\n"
     ]
    },
    {
     "data": {
      "application/vnd.jupyter.widget-view+json": {
       "model_id": "ee7989ab454146718ea0b76538612ec5",
       "version_major": 2,
       "version_minor": 0
      },
      "text/plain": [
       "interactive(children=(FloatSlider(value=0.35, continuous_update=False, description='thresh', max=1.0, step=0.0…"
      ]
     },
     "metadata": {},
     "output_type": "display_data"
    },
    {
     "name": "stdout",
     "output_type": "stream",
     "text": [
      "Submarine\n"
     ]
    },
    {
     "data": {
      "application/vnd.jupyter.widget-view+json": {
       "model_id": "a389e328da054f5c8a3f0944ea565c77",
       "version_major": 2,
       "version_minor": 0
      },
      "text/plain": [
       "interactive(children=(FloatSlider(value=0.35, continuous_update=False, description='thresh', max=1.0, step=0.0…"
      ]
     },
     "metadata": {},
     "output_type": "display_data"
    },
    {
     "name": "stdout",
     "output_type": "stream",
     "text": [
      "Watercraft\n"
     ]
    },
    {
     "data": {
      "application/vnd.jupyter.widget-view+json": {
       "model_id": "62f02bece8544d4d8369e07ecff491c6",
       "version_major": 2,
       "version_minor": 0
      },
      "text/plain": [
       "interactive(children=(FloatSlider(value=0.35, continuous_update=False, description='thresh', max=1.0, step=0.0…"
      ]
     },
     "metadata": {},
     "output_type": "display_data"
    }
   ],
   "source": [
    "for label in select_labels:\n",
    "    if len(label_to_img[label]) == 0:\n",
    "        continue\n",
    "    print(mid2name_all[label])\n",
    "    imgid = np.random.choice(label_to_img[label])\n",
    "    w = interactive(show, \n",
    "        thresh=widgets.FloatSlider(min=0.0, max=1.0, step=0.01, value=0.35, continuous_update=False), \n",
    "        imgid=fixed(imgid)\n",
    "    )\n",
    "    w.children[-1].layout.height = '600px'\n",
    "    display(w)"
   ]
  },
  {
   "cell_type": "code",
   "execution_count": null,
   "metadata": {},
   "outputs": [],
   "source": []
  },
  {
   "cell_type": "code",
   "execution_count": 42,
   "metadata": {
    "scrolled": false
   },
   "outputs": [
    {
     "name": "stdout",
     "output_type": "stream",
     "text": [
      "Waste\n"
     ]
    },
    {
     "data": {
      "application/vnd.jupyter.widget-view+json": {
       "model_id": "1ba7b009c7eb4131a80c6ad584309589",
       "version_major": 2,
       "version_minor": 0
      },
      "text/plain": [
       "interactive(children=(FloatSlider(value=0.35, continuous_update=False, description='thresh', max=1.0, step=0.0…"
      ]
     },
     "metadata": {},
     "output_type": "display_data"
    },
    {
     "name": "stdout",
     "output_type": "stream",
     "text": [
      "Boat\n"
     ]
    },
    {
     "data": {
      "application/vnd.jupyter.widget-view+json": {
       "model_id": "a03086328e7f41ee84d1456567afa35c",
       "version_major": 2,
       "version_minor": 0
      },
      "text/plain": [
       "interactive(children=(FloatSlider(value=0.35, continuous_update=False, description='thresh', max=1.0, step=0.0…"
      ]
     },
     "metadata": {},
     "output_type": "display_data"
    },
    {
     "name": "stdout",
     "output_type": "stream",
     "text": [
      "Flag\n"
     ]
    },
    {
     "data": {
      "application/vnd.jupyter.widget-view+json": {
       "model_id": "1540f22a5bb949afbb9a37e2cfa10ea2",
       "version_major": 2,
       "version_minor": 0
      },
      "text/plain": [
       "interactive(children=(FloatSlider(value=0.35, continuous_update=False, description='thresh', max=1.0, step=0.0…"
      ]
     },
     "metadata": {},
     "output_type": "display_data"
    },
    {
     "name": "stdout",
     "output_type": "stream",
     "text": [
      "Fire\n"
     ]
    },
    {
     "data": {
      "application/vnd.jupyter.widget-view+json": {
       "model_id": "8ef21e95da8f4ced94fb845e2af3ce48",
       "version_major": 2,
       "version_minor": 0
      },
      "text/plain": [
       "interactive(children=(FloatSlider(value=0.35, continuous_update=False, description='thresh', max=1.0, step=0.0…"
      ]
     },
     "metadata": {},
     "output_type": "display_data"
    },
    {
     "name": "stdout",
     "output_type": "stream",
     "text": [
      "Tank\n"
     ]
    },
    {
     "data": {
      "application/vnd.jupyter.widget-view+json": {
       "model_id": "ec4e7948771140e1823bf61d1c4b839f",
       "version_major": 2,
       "version_minor": 0
      },
      "text/plain": [
       "interactive(children=(FloatSlider(value=0.35, continuous_update=False, description='thresh', max=1.0, step=0.0…"
      ]
     },
     "metadata": {},
     "output_type": "display_data"
    },
    {
     "name": "stdout",
     "output_type": "stream",
     "text": [
      "Smoke\n"
     ]
    },
    {
     "data": {
      "application/vnd.jupyter.widget-view+json": {
       "model_id": "ec691b04d6a94d7fb07ac0ea88b9b9dc",
       "version_major": 2,
       "version_minor": 0
      },
      "text/plain": [
       "interactive(children=(FloatSlider(value=0.35, continuous_update=False, description='thresh', max=1.0, step=0.0…"
      ]
     },
     "metadata": {},
     "output_type": "display_data"
    },
    {
     "name": "stdout",
     "output_type": "stream",
     "text": [
      "Crowd\n"
     ]
    },
    {
     "data": {
      "application/vnd.jupyter.widget-view+json": {
       "model_id": "e5e3795efe264cf0940bf7627bd6c95d",
       "version_major": 2,
       "version_minor": 0
      },
      "text/plain": [
       "interactive(children=(FloatSlider(value=0.35, continuous_update=False, description='thresh', max=1.0, step=0.0…"
      ]
     },
     "metadata": {},
     "output_type": "display_data"
    },
    {
     "name": "stdout",
     "output_type": "stream",
     "text": [
      "Speech\n"
     ]
    },
    {
     "data": {
      "application/vnd.jupyter.widget-view+json": {
       "model_id": "e198b261a62b4ba4a0c89e87ed733820",
       "version_major": 2,
       "version_minor": 0
      },
      "text/plain": [
       "interactive(children=(FloatSlider(value=0.35, continuous_update=False, description='thresh', max=1.0, step=0.0…"
      ]
     },
     "metadata": {},
     "output_type": "display_data"
    },
    {
     "name": "stdout",
     "output_type": "stream",
     "text": [
      "Medical equipment\n"
     ]
    },
    {
     "data": {
      "application/vnd.jupyter.widget-view+json": {
       "model_id": "75b249555df64b21aa0eb5985a48bb26",
       "version_major": 2,
       "version_minor": 0
      },
      "text/plain": [
       "interactive(children=(FloatSlider(value=0.35, continuous_update=False, description='thresh', max=1.0, step=0.0…"
      ]
     },
     "metadata": {},
     "output_type": "display_data"
    },
    {
     "name": "stdout",
     "output_type": "stream",
     "text": [
      "Rubble\n"
     ]
    },
    {
     "data": {
      "application/vnd.jupyter.widget-view+json": {
       "model_id": "3409ed27aa804d3fbc11a8370f8af495",
       "version_major": 2,
       "version_minor": 0
      },
      "text/plain": [
       "interactive(children=(FloatSlider(value=0.35, continuous_update=False, description='thresh', max=1.0, step=0.0…"
      ]
     },
     "metadata": {},
     "output_type": "display_data"
    },
    {
     "name": "stdout",
     "output_type": "stream",
     "text": [
      "Firefighter\n"
     ]
    },
    {
     "data": {
      "application/vnd.jupyter.widget-view+json": {
       "model_id": "e9825146186b44ab91560a4b00e76f56",
       "version_major": 2,
       "version_minor": 0
      },
      "text/plain": [
       "interactive(children=(FloatSlider(value=0.35, continuous_update=False, description='thresh', max=1.0, step=0.0…"
      ]
     },
     "metadata": {},
     "output_type": "display_data"
    },
    {
     "name": "stdout",
     "output_type": "stream",
     "text": [
      "Flesh\n"
     ]
    },
    {
     "data": {
      "application/vnd.jupyter.widget-view+json": {
       "model_id": "07c2d9a72d104b67b1d0d64ac35ba8c8",
       "version_major": 2,
       "version_minor": 0
      },
      "text/plain": [
       "interactive(children=(FloatSlider(value=0.35, continuous_update=False, description='thresh', max=1.0, step=0.0…"
      ]
     },
     "metadata": {},
     "output_type": "display_data"
    },
    {
     "name": "stdout",
     "output_type": "stream",
     "text": [
      "Stretcher\n"
     ]
    },
    {
     "data": {
      "application/vnd.jupyter.widget-view+json": {
       "model_id": "9222bc24120b48788af487b2ab39c4e6",
       "version_major": 2,
       "version_minor": 0
      },
      "text/plain": [
       "interactive(children=(FloatSlider(value=0.35, continuous_update=False, description='thresh', max=1.0, step=0.0…"
      ]
     },
     "metadata": {},
     "output_type": "display_data"
    },
    {
     "name": "stdout",
     "output_type": "stream",
     "text": [
      "Helicopter\n"
     ]
    },
    {
     "data": {
      "application/vnd.jupyter.widget-view+json": {
       "model_id": "a8ca13dddce24692a94853a57d4fd11f",
       "version_major": 2,
       "version_minor": 0
      },
      "text/plain": [
       "interactive(children=(FloatSlider(value=0.35, continuous_update=False, description='thresh', max=1.0, step=0.0…"
      ]
     },
     "metadata": {},
     "output_type": "display_data"
    },
    {
     "name": "stdout",
     "output_type": "stream",
     "text": [
      "Military vehicle\n"
     ]
    },
    {
     "data": {
      "application/vnd.jupyter.widget-view+json": {
       "model_id": "2a4e6e9947494f90a9d1d00851036cb1",
       "version_major": 2,
       "version_minor": 0
      },
      "text/plain": [
       "interactive(children=(FloatSlider(value=0.35, continuous_update=False, description='thresh', max=1.0, step=0.0…"
      ]
     },
     "metadata": {},
     "output_type": "display_data"
    },
    {
     "name": "stdout",
     "output_type": "stream",
     "text": [
      "Security\n"
     ]
    },
    {
     "data": {
      "application/vnd.jupyter.widget-view+json": {
       "model_id": "f60b4b0d5b804b24acb4309a151944b7",
       "version_major": 2,
       "version_minor": 0
      },
      "text/plain": [
       "interactive(children=(FloatSlider(value=0.35, continuous_update=False, description='thresh', max=1.0, step=0.0…"
      ]
     },
     "metadata": {},
     "output_type": "display_data"
    },
    {
     "name": "stdout",
     "output_type": "stream",
     "text": [
      "Bomb\n"
     ]
    },
    {
     "data": {
      "application/vnd.jupyter.widget-view+json": {
       "model_id": "c62a795d0829487a8bcb25f1bc1a032c",
       "version_major": 2,
       "version_minor": 0
      },
      "text/plain": [
       "interactive(children=(FloatSlider(value=0.35, continuous_update=False, description='thresh', max=1.0, step=0.0…"
      ]
     },
     "metadata": {},
     "output_type": "display_data"
    },
    {
     "name": "stdout",
     "output_type": "stream",
     "text": [
      "Protest\n"
     ]
    },
    {
     "data": {
      "application/vnd.jupyter.widget-view+json": {
       "model_id": "fa285f9f9577409c982ee2933df0b44c",
       "version_major": 2,
       "version_minor": 0
      },
      "text/plain": [
       "interactive(children=(FloatSlider(value=0.35, continuous_update=False, description='thresh', max=1.0, step=0.0…"
      ]
     },
     "metadata": {},
     "output_type": "display_data"
    },
    {
     "name": "stdout",
     "output_type": "stream",
     "text": [
      "Rocket\n"
     ]
    },
    {
     "data": {
      "application/vnd.jupyter.widget-view+json": {
       "model_id": "a43f6e54beeb491e8a8d709a1df89823",
       "version_major": 2,
       "version_minor": 0
      },
      "text/plain": [
       "interactive(children=(FloatSlider(value=0.35, continuous_update=False, description='thresh', max=1.0, step=0.0…"
      ]
     },
     "metadata": {},
     "output_type": "display_data"
    },
    {
     "name": "stdout",
     "output_type": "stream",
     "text": [
      "Fire extinguisher\n"
     ]
    },
    {
     "data": {
      "application/vnd.jupyter.widget-view+json": {
       "model_id": "6c873a6b4d5b44fb850032e48d36dc0b",
       "version_major": 2,
       "version_minor": 0
      },
      "text/plain": [
       "interactive(children=(FloatSlider(value=0.35, continuous_update=False, description='thresh', max=1.0, step=0.0…"
      ]
     },
     "metadata": {},
     "output_type": "display_data"
    },
    {
     "name": "stdout",
     "output_type": "stream",
     "text": [
      "Knife\n"
     ]
    },
    {
     "data": {
      "application/vnd.jupyter.widget-view+json": {
       "model_id": "aadbe9e46b0e43ffb9c3184802db99c1",
       "version_major": 2,
       "version_minor": 0
      },
      "text/plain": [
       "interactive(children=(FloatSlider(value=0.35, continuous_update=False, description='thresh', max=1.0, step=0.0…"
      ]
     },
     "metadata": {},
     "output_type": "display_data"
    },
    {
     "name": "stdout",
     "output_type": "stream",
     "text": [
      "Missile\n"
     ]
    },
    {
     "data": {
      "application/vnd.jupyter.widget-view+json": {
       "model_id": "d6e39d2cc2db452bbc430d3a566fb712",
       "version_major": 2,
       "version_minor": 0
      },
      "text/plain": [
       "interactive(children=(FloatSlider(value=0.35, continuous_update=False, description='thresh', max=1.0, step=0.0…"
      ]
     },
     "metadata": {},
     "output_type": "display_data"
    },
    {
     "name": "stdout",
     "output_type": "stream",
     "text": [
      "Combat vehicle\n"
     ]
    },
    {
     "data": {
      "application/vnd.jupyter.widget-view+json": {
       "model_id": "d526c97d213146b3af07d0784b581c0e",
       "version_major": 2,
       "version_minor": 0
      },
      "text/plain": [
       "interactive(children=(FloatSlider(value=0.35, continuous_update=False, description='thresh', max=1.0, step=0.0…"
      ]
     },
     "metadata": {},
     "output_type": "display_data"
    },
    {
     "name": "stdout",
     "output_type": "stream",
     "text": [
      "Watercraft\n"
     ]
    },
    {
     "data": {
      "application/vnd.jupyter.widget-view+json": {
       "model_id": "d7d2cb8e7da7481ba5a8469d9ba6d0e6",
       "version_major": 2,
       "version_minor": 0
      },
      "text/plain": [
       "interactive(children=(FloatSlider(value=0.35, continuous_update=False, description='thresh', max=1.0, step=0.0…"
      ]
     },
     "metadata": {},
     "output_type": "display_data"
    },
    {
     "name": "stdout",
     "output_type": "stream",
     "text": [
      "Shotgun\n"
     ]
    },
    {
     "data": {
      "application/vnd.jupyter.widget-view+json": {
       "model_id": "1cacf26af5a5484db6299c555ae8169a",
       "version_major": 2,
       "version_minor": 0
      },
      "text/plain": [
       "interactive(children=(FloatSlider(value=0.35, continuous_update=False, description='thresh', max=1.0, step=0.0…"
      ]
     },
     "metadata": {},
     "output_type": "display_data"
    },
    {
     "name": "stdout",
     "output_type": "stream",
     "text": [
      "Parachute\n"
     ]
    },
    {
     "data": {
      "application/vnd.jupyter.widget-view+json": {
       "model_id": "6caa636c84224d94b84a9ed05cd58ad6",
       "version_major": 2,
       "version_minor": 0
      },
      "text/plain": [
       "interactive(children=(FloatSlider(value=0.35, continuous_update=False, description='thresh', max=1.0, step=0.0…"
      ]
     },
     "metadata": {},
     "output_type": "display_data"
    },
    {
     "name": "stdout",
     "output_type": "stream",
     "text": [
      "Machine gun\n"
     ]
    },
    {
     "data": {
      "application/vnd.jupyter.widget-view+json": {
       "model_id": "36085cf1880d4d87b7ce3f99ff100278",
       "version_major": 2,
       "version_minor": 0
      },
      "text/plain": [
       "interactive(children=(FloatSlider(value=0.35, continuous_update=False, description='thresh', max=1.0, step=0.0…"
      ]
     },
     "metadata": {},
     "output_type": "display_data"
    },
    {
     "name": "stdout",
     "output_type": "stream",
     "text": [
      "Airliner\n"
     ]
    },
    {
     "data": {
      "application/vnd.jupyter.widget-view+json": {
       "model_id": "d0b2ebfc434a47ea84b63a0da7ba1449",
       "version_major": 2,
       "version_minor": 0
      },
      "text/plain": [
       "interactive(children=(FloatSlider(value=0.35, continuous_update=False, description='thresh', max=1.0, step=0.0…"
      ]
     },
     "metadata": {},
     "output_type": "display_data"
    },
    {
     "name": "stdout",
     "output_type": "stream",
     "text": [
      "Limousine\n"
     ]
    },
    {
     "data": {
      "application/vnd.jupyter.widget-view+json": {
       "model_id": "b206371fd25b4987b07c81b61af618d0",
       "version_major": 2,
       "version_minor": 0
      },
      "text/plain": [
       "interactive(children=(FloatSlider(value=0.35, continuous_update=False, description='thresh', max=1.0, step=0.0…"
      ]
     },
     "metadata": {},
     "output_type": "display_data"
    },
    {
     "name": "stdout",
     "output_type": "stream",
     "text": [
      "Handgun\n"
     ]
    },
    {
     "data": {
      "application/vnd.jupyter.widget-view+json": {
       "model_id": "f929264c93c74758b883a4ec4c7e8d33",
       "version_major": 2,
       "version_minor": 0
      },
      "text/plain": [
       "interactive(children=(FloatSlider(value=0.35, continuous_update=False, description='thresh', max=1.0, step=0.0…"
      ]
     },
     "metadata": {},
     "output_type": "display_data"
    },
    {
     "name": "stdout",
     "output_type": "stream",
     "text": [
      "Troop\n"
     ]
    },
    {
     "data": {
      "application/vnd.jupyter.widget-view+json": {
       "model_id": "54386fa8e05f4f1f955604e4909e49e7",
       "version_major": 2,
       "version_minor": 0
      },
      "text/plain": [
       "interactive(children=(FloatSlider(value=0.35, continuous_update=False, description='thresh', max=1.0, step=0.0…"
      ]
     },
     "metadata": {},
     "output_type": "display_data"
    },
    {
     "name": "stdout",
     "output_type": "stream",
     "text": [
      "Binoculars\n"
     ]
    },
    {
     "data": {
      "application/vnd.jupyter.widget-view+json": {
       "model_id": "bc040737008d46768f63a8ff6558a71c",
       "version_major": 2,
       "version_minor": 0
      },
      "text/plain": [
       "interactive(children=(FloatSlider(value=0.35, continuous_update=False, description='thresh', max=1.0, step=0.0…"
      ]
     },
     "metadata": {},
     "output_type": "display_data"
    },
    {
     "name": "stdout",
     "output_type": "stream",
     "text": [
      "Fighter aircraft\n"
     ]
    },
    {
     "data": {
      "application/vnd.jupyter.widget-view+json": {
       "model_id": "7e75e5a4aea741db84ba150cc951ae1c",
       "version_major": 2,
       "version_minor": 0
      },
      "text/plain": [
       "interactive(children=(FloatSlider(value=0.35, continuous_update=False, description='thresh', max=1.0, step=0.0…"
      ]
     },
     "metadata": {},
     "output_type": "display_data"
    },
    {
     "name": "stdout",
     "output_type": "stream",
     "text": [
      "Ambulance\n"
     ]
    },
    {
     "data": {
      "application/vnd.jupyter.widget-view+json": {
       "model_id": "a3c41f32c7ce4a6bb0733b8fa11135f3",
       "version_major": 2,
       "version_minor": 0
      },
      "text/plain": [
       "interactive(children=(FloatSlider(value=0.35, continuous_update=False, description='thresh', max=1.0, step=0.0…"
      ]
     },
     "metadata": {},
     "output_type": "display_data"
    },
    {
     "name": "stdout",
     "output_type": "stream",
     "text": [
      "Assault rifle\n"
     ]
    },
    {
     "data": {
      "application/vnd.jupyter.widget-view+json": {
       "model_id": "0d421d7d537540129b6e6fc3ef601d8d",
       "version_major": 2,
       "version_minor": 0
      },
      "text/plain": [
       "interactive(children=(FloatSlider(value=0.35, continuous_update=False, description='thresh', max=1.0, step=0.0…"
      ]
     },
     "metadata": {},
     "output_type": "display_data"
    },
    {
     "name": "stdout",
     "output_type": "stream",
     "text": [
      "Logo\n"
     ]
    },
    {
     "data": {
      "application/vnd.jupyter.widget-view+json": {
       "model_id": "ac50efa259ee4a91be50c2b4407bf545",
       "version_major": 2,
       "version_minor": 0
      },
      "text/plain": [
       "interactive(children=(FloatSlider(value=0.35, continuous_update=False, description='thresh', max=1.0, step=0.0…"
      ]
     },
     "metadata": {},
     "output_type": "display_data"
    },
    {
     "name": "stdout",
     "output_type": "stream",
     "text": [
      "People\n"
     ]
    },
    {
     "data": {
      "application/vnd.jupyter.widget-view+json": {
       "model_id": "f6717e32b446449d8f652bd6a1354bba",
       "version_major": 2,
       "version_minor": 0
      },
      "text/plain": [
       "interactive(children=(FloatSlider(value=0.35, continuous_update=False, description='thresh', max=1.0, step=0.0…"
      ]
     },
     "metadata": {},
     "output_type": "display_data"
    },
    {
     "name": "stdout",
     "output_type": "stream",
     "text": [
      "Conference hall\n"
     ]
    },
    {
     "data": {
      "application/vnd.jupyter.widget-view+json": {
       "model_id": "8c97c513753d42cc939a7de4e64ba76e",
       "version_major": 2,
       "version_minor": 0
      },
      "text/plain": [
       "interactive(children=(FloatSlider(value=0.35, continuous_update=False, description='thresh', max=1.0, step=0.0…"
      ]
     },
     "metadata": {},
     "output_type": "display_data"
    },
    {
     "name": "stdout",
     "output_type": "stream",
     "text": [
      "Rifle\n"
     ]
    },
    {
     "data": {
      "application/vnd.jupyter.widget-view+json": {
       "model_id": "b11e8fa0c3604c1dba8a5f0579aec098",
       "version_major": 2,
       "version_minor": 0
      },
      "text/plain": [
       "interactive(children=(FloatSlider(value=0.35, continuous_update=False, description='thresh', max=1.0, step=0.0…"
      ]
     },
     "metadata": {},
     "output_type": "display_data"
    },
    {
     "name": "stdout",
     "output_type": "stream",
     "text": [
      "Emergency vehicle\n"
     ]
    },
    {
     "data": {
      "application/vnd.jupyter.widget-view+json": {
       "model_id": "6861161e09044e16aad00cbad43ae7e3",
       "version_major": 2,
       "version_minor": 0
      },
      "text/plain": [
       "interactive(children=(FloatSlider(value=0.35, continuous_update=False, description='thresh', max=1.0, step=0.0…"
      ]
     },
     "metadata": {},
     "output_type": "display_data"
    },
    {
     "name": "stdout",
     "output_type": "stream",
     "text": [
      "Submarine\n"
     ]
    },
    {
     "data": {
      "application/vnd.jupyter.widget-view+json": {
       "model_id": "bc8ca7de341c4984b2fa56ff3389c324",
       "version_major": 2,
       "version_minor": 0
      },
      "text/plain": [
       "interactive(children=(FloatSlider(value=0.35, continuous_update=False, description='thresh', max=1.0, step=0.0…"
      ]
     },
     "metadata": {},
     "output_type": "display_data"
    },
    {
     "name": "stdout",
     "output_type": "stream",
     "text": [
      "Watercraft\n"
     ]
    },
    {
     "data": {
      "application/vnd.jupyter.widget-view+json": {
       "model_id": "e56c4b9ef59a4010b24d233ae715a3c6",
       "version_major": 2,
       "version_minor": 0
      },
      "text/plain": [
       "interactive(children=(FloatSlider(value=0.35, continuous_update=False, description='thresh', max=1.0, step=0.0…"
      ]
     },
     "metadata": {},
     "output_type": "display_data"
    }
   ],
   "source": [
    "for label in select_labels:\n",
    "    if len(label_to_img[label]) == 0:\n",
    "        continue\n",
    "    print(mid2name_all[label])\n",
    "    imgid = np.random.choice(label_to_img[label])\n",
    "    w = interactive(show, \n",
    "        thresh=widgets.FloatSlider(min=0.0, max=1.0, step=0.01, value=0.35, continuous_update=False), \n",
    "        imgid=fixed(imgid)\n",
    "    )\n",
    "    w.children[-1].layout.height = '600px'\n",
    "    display(w)"
   ]
  },
  {
   "cell_type": "code",
   "execution_count": null,
   "metadata": {},
   "outputs": [],
   "source": []
  },
  {
   "cell_type": "code",
   "execution_count": 24,
   "metadata": {
    "scrolled": false
   },
   "outputs": [
    {
     "name": "stdout",
     "output_type": "stream",
     "text": [
      "Waste\n"
     ]
    },
    {
     "data": {
      "application/vnd.jupyter.widget-view+json": {
       "model_id": "fbb06addfe484fbcb48abf8d71120b91",
       "version_major": 2,
       "version_minor": 0
      },
      "text/plain": [
       "interactive(children=(FloatSlider(value=0.35, continuous_update=False, description='thresh', max=1.0, step=0.0…"
      ]
     },
     "metadata": {},
     "output_type": "display_data"
    },
    {
     "name": "stdout",
     "output_type": "stream",
     "text": [
      "Boat\n"
     ]
    },
    {
     "data": {
      "application/vnd.jupyter.widget-view+json": {
       "model_id": "2fecb4ec60944411a21bf34f90efb405",
       "version_major": 2,
       "version_minor": 0
      },
      "text/plain": [
       "interactive(children=(FloatSlider(value=0.35, continuous_update=False, description='thresh', max=1.0, step=0.0…"
      ]
     },
     "metadata": {},
     "output_type": "display_data"
    },
    {
     "name": "stdout",
     "output_type": "stream",
     "text": [
      "Flag\n"
     ]
    },
    {
     "data": {
      "application/vnd.jupyter.widget-view+json": {
       "model_id": "462ad44d748b4d6eabf2da20a703b66d",
       "version_major": 2,
       "version_minor": 0
      },
      "text/plain": [
       "interactive(children=(FloatSlider(value=0.35, continuous_update=False, description='thresh', max=1.0, step=0.0…"
      ]
     },
     "metadata": {},
     "output_type": "display_data"
    },
    {
     "name": "stdout",
     "output_type": "stream",
     "text": [
      "Fire\n"
     ]
    },
    {
     "data": {
      "application/vnd.jupyter.widget-view+json": {
       "model_id": "2ec64c64cd88422b8dd22de7c13f1a73",
       "version_major": 2,
       "version_minor": 0
      },
      "text/plain": [
       "interactive(children=(FloatSlider(value=0.35, continuous_update=False, description='thresh', max=1.0, step=0.0…"
      ]
     },
     "metadata": {},
     "output_type": "display_data"
    },
    {
     "name": "stdout",
     "output_type": "stream",
     "text": [
      "Tank\n"
     ]
    },
    {
     "data": {
      "application/vnd.jupyter.widget-view+json": {
       "model_id": "a432e5b22d3c4013b0dd3359c1d95da4",
       "version_major": 2,
       "version_minor": 0
      },
      "text/plain": [
       "interactive(children=(FloatSlider(value=0.35, continuous_update=False, description='thresh', max=1.0, step=0.0…"
      ]
     },
     "metadata": {},
     "output_type": "display_data"
    },
    {
     "name": "stdout",
     "output_type": "stream",
     "text": [
      "Smoke\n"
     ]
    },
    {
     "data": {
      "application/vnd.jupyter.widget-view+json": {
       "model_id": "372fc11aa4194b1bbe15c6ef8986f34f",
       "version_major": 2,
       "version_minor": 0
      },
      "text/plain": [
       "interactive(children=(FloatSlider(value=0.35, continuous_update=False, description='thresh', max=1.0, step=0.0…"
      ]
     },
     "metadata": {},
     "output_type": "display_data"
    },
    {
     "name": "stdout",
     "output_type": "stream",
     "text": [
      "Crowd\n"
     ]
    },
    {
     "data": {
      "application/vnd.jupyter.widget-view+json": {
       "model_id": "e2215cf2f1cf4c8ca4d2c47890eefa58",
       "version_major": 2,
       "version_minor": 0
      },
      "text/plain": [
       "interactive(children=(FloatSlider(value=0.35, continuous_update=False, description='thresh', max=1.0, step=0.0…"
      ]
     },
     "metadata": {},
     "output_type": "display_data"
    },
    {
     "name": "stdout",
     "output_type": "stream",
     "text": [
      "Speech\n"
     ]
    },
    {
     "data": {
      "application/vnd.jupyter.widget-view+json": {
       "model_id": "730faa51a06941649b088e732978d7f0",
       "version_major": 2,
       "version_minor": 0
      },
      "text/plain": [
       "interactive(children=(FloatSlider(value=0.35, continuous_update=False, description='thresh', max=1.0, step=0.0…"
      ]
     },
     "metadata": {},
     "output_type": "display_data"
    },
    {
     "name": "stdout",
     "output_type": "stream",
     "text": [
      "Medical equipment\n"
     ]
    },
    {
     "data": {
      "application/vnd.jupyter.widget-view+json": {
       "model_id": "5053eccbf4c543a7828e63172f095b43",
       "version_major": 2,
       "version_minor": 0
      },
      "text/plain": [
       "interactive(children=(FloatSlider(value=0.35, continuous_update=False, description='thresh', max=1.0, step=0.0…"
      ]
     },
     "metadata": {},
     "output_type": "display_data"
    },
    {
     "name": "stdout",
     "output_type": "stream",
     "text": [
      "Rubble\n"
     ]
    },
    {
     "data": {
      "application/vnd.jupyter.widget-view+json": {
       "model_id": "d6acb6b94bc9454db8fe22842a01624b",
       "version_major": 2,
       "version_minor": 0
      },
      "text/plain": [
       "interactive(children=(FloatSlider(value=0.35, continuous_update=False, description='thresh', max=1.0, step=0.0…"
      ]
     },
     "metadata": {},
     "output_type": "display_data"
    },
    {
     "name": "stdout",
     "output_type": "stream",
     "text": [
      "Firefighter\n"
     ]
    },
    {
     "data": {
      "application/vnd.jupyter.widget-view+json": {
       "model_id": "dd1d3456179544459dee31bd6452eeb3",
       "version_major": 2,
       "version_minor": 0
      },
      "text/plain": [
       "interactive(children=(FloatSlider(value=0.35, continuous_update=False, description='thresh', max=1.0, step=0.0…"
      ]
     },
     "metadata": {},
     "output_type": "display_data"
    },
    {
     "name": "stdout",
     "output_type": "stream",
     "text": [
      "Flesh\n"
     ]
    },
    {
     "data": {
      "application/vnd.jupyter.widget-view+json": {
       "model_id": "ff0da8ade93a49d180ae9a60ae8bee9f",
       "version_major": 2,
       "version_minor": 0
      },
      "text/plain": [
       "interactive(children=(FloatSlider(value=0.35, continuous_update=False, description='thresh', max=1.0, step=0.0…"
      ]
     },
     "metadata": {},
     "output_type": "display_data"
    },
    {
     "name": "stdout",
     "output_type": "stream",
     "text": [
      "Stretcher\n"
     ]
    },
    {
     "data": {
      "application/vnd.jupyter.widget-view+json": {
       "model_id": "89e925b45ff043b3bbbcd57b7e2031ac",
       "version_major": 2,
       "version_minor": 0
      },
      "text/plain": [
       "interactive(children=(FloatSlider(value=0.35, continuous_update=False, description='thresh', max=1.0, step=0.0…"
      ]
     },
     "metadata": {},
     "output_type": "display_data"
    },
    {
     "name": "stdout",
     "output_type": "stream",
     "text": [
      "Helicopter\n"
     ]
    },
    {
     "data": {
      "application/vnd.jupyter.widget-view+json": {
       "model_id": "6526e8203e914c2ba4faa3bc7d1b060f",
       "version_major": 2,
       "version_minor": 0
      },
      "text/plain": [
       "interactive(children=(FloatSlider(value=0.35, continuous_update=False, description='thresh', max=1.0, step=0.0…"
      ]
     },
     "metadata": {},
     "output_type": "display_data"
    },
    {
     "name": "stdout",
     "output_type": "stream",
     "text": [
      "Military vehicle\n"
     ]
    },
    {
     "data": {
      "application/vnd.jupyter.widget-view+json": {
       "model_id": "c39b460fef3a446482e17a46073d922a",
       "version_major": 2,
       "version_minor": 0
      },
      "text/plain": [
       "interactive(children=(FloatSlider(value=0.35, continuous_update=False, description='thresh', max=1.0, step=0.0…"
      ]
     },
     "metadata": {},
     "output_type": "display_data"
    },
    {
     "name": "stdout",
     "output_type": "stream",
     "text": [
      "Security\n"
     ]
    },
    {
     "data": {
      "application/vnd.jupyter.widget-view+json": {
       "model_id": "da07545f7af74c28af91c8487284b3a3",
       "version_major": 2,
       "version_minor": 0
      },
      "text/plain": [
       "interactive(children=(FloatSlider(value=0.35, continuous_update=False, description='thresh', max=1.0, step=0.0…"
      ]
     },
     "metadata": {},
     "output_type": "display_data"
    },
    {
     "name": "stdout",
     "output_type": "stream",
     "text": [
      "Bomb\n"
     ]
    },
    {
     "data": {
      "application/vnd.jupyter.widget-view+json": {
       "model_id": "719364fef1fa46ddac0fe0527ff83a83",
       "version_major": 2,
       "version_minor": 0
      },
      "text/plain": [
       "interactive(children=(FloatSlider(value=0.35, continuous_update=False, description='thresh', max=1.0, step=0.0…"
      ]
     },
     "metadata": {},
     "output_type": "display_data"
    },
    {
     "name": "stdout",
     "output_type": "stream",
     "text": [
      "Protest\n"
     ]
    },
    {
     "data": {
      "application/vnd.jupyter.widget-view+json": {
       "model_id": "f200d221819440c6a287ced040fca32b",
       "version_major": 2,
       "version_minor": 0
      },
      "text/plain": [
       "interactive(children=(FloatSlider(value=0.35, continuous_update=False, description='thresh', max=1.0, step=0.0…"
      ]
     },
     "metadata": {},
     "output_type": "display_data"
    },
    {
     "name": "stdout",
     "output_type": "stream",
     "text": [
      "Rocket\n"
     ]
    },
    {
     "data": {
      "application/vnd.jupyter.widget-view+json": {
       "model_id": "617a9dfc98614f24b655d621f048aa43",
       "version_major": 2,
       "version_minor": 0
      },
      "text/plain": [
       "interactive(children=(FloatSlider(value=0.35, continuous_update=False, description='thresh', max=1.0, step=0.0…"
      ]
     },
     "metadata": {},
     "output_type": "display_data"
    },
    {
     "name": "stdout",
     "output_type": "stream",
     "text": [
      "Fire extinguisher\n"
     ]
    },
    {
     "data": {
      "application/vnd.jupyter.widget-view+json": {
       "model_id": "d66798ba7cd74e738eef02a4bbe256fc",
       "version_major": 2,
       "version_minor": 0
      },
      "text/plain": [
       "interactive(children=(FloatSlider(value=0.35, continuous_update=False, description='thresh', max=1.0, step=0.0…"
      ]
     },
     "metadata": {},
     "output_type": "display_data"
    },
    {
     "name": "stdout",
     "output_type": "stream",
     "text": [
      "Knife\n"
     ]
    },
    {
     "data": {
      "application/vnd.jupyter.widget-view+json": {
       "model_id": "2376479b928b42beb7dea1a29dd84c82",
       "version_major": 2,
       "version_minor": 0
      },
      "text/plain": [
       "interactive(children=(FloatSlider(value=0.35, continuous_update=False, description='thresh', max=1.0, step=0.0…"
      ]
     },
     "metadata": {},
     "output_type": "display_data"
    },
    {
     "name": "stdout",
     "output_type": "stream",
     "text": [
      "Missile\n"
     ]
    },
    {
     "data": {
      "application/vnd.jupyter.widget-view+json": {
       "model_id": "379e03dd8aed4532a3064c9a20ffc211",
       "version_major": 2,
       "version_minor": 0
      },
      "text/plain": [
       "interactive(children=(FloatSlider(value=0.35, continuous_update=False, description='thresh', max=1.0, step=0.0…"
      ]
     },
     "metadata": {},
     "output_type": "display_data"
    },
    {
     "name": "stdout",
     "output_type": "stream",
     "text": [
      "Combat vehicle\n"
     ]
    },
    {
     "data": {
      "application/vnd.jupyter.widget-view+json": {
       "model_id": "ab808dc68b824822a0a54e886414cb08",
       "version_major": 2,
       "version_minor": 0
      },
      "text/plain": [
       "interactive(children=(FloatSlider(value=0.35, continuous_update=False, description='thresh', max=1.0, step=0.0…"
      ]
     },
     "metadata": {},
     "output_type": "display_data"
    },
    {
     "name": "stdout",
     "output_type": "stream",
     "text": [
      "Watercraft\n"
     ]
    },
    {
     "data": {
      "application/vnd.jupyter.widget-view+json": {
       "model_id": "743c130126ae432ba432a5b837a44c0a",
       "version_major": 2,
       "version_minor": 0
      },
      "text/plain": [
       "interactive(children=(FloatSlider(value=0.35, continuous_update=False, description='thresh', max=1.0, step=0.0…"
      ]
     },
     "metadata": {},
     "output_type": "display_data"
    },
    {
     "name": "stdout",
     "output_type": "stream",
     "text": [
      "Shotgun\n"
     ]
    },
    {
     "data": {
      "application/vnd.jupyter.widget-view+json": {
       "model_id": "2d69e98dda424198b54bc05dad45094a",
       "version_major": 2,
       "version_minor": 0
      },
      "text/plain": [
       "interactive(children=(FloatSlider(value=0.35, continuous_update=False, description='thresh', max=1.0, step=0.0…"
      ]
     },
     "metadata": {},
     "output_type": "display_data"
    },
    {
     "name": "stdout",
     "output_type": "stream",
     "text": [
      "Machine gun\n"
     ]
    },
    {
     "data": {
      "application/vnd.jupyter.widget-view+json": {
       "model_id": "a8a479370fc743e6bcaf46d9d74f32e8",
       "version_major": 2,
       "version_minor": 0
      },
      "text/plain": [
       "interactive(children=(FloatSlider(value=0.35, continuous_update=False, description='thresh', max=1.0, step=0.0…"
      ]
     },
     "metadata": {},
     "output_type": "display_data"
    },
    {
     "name": "stdout",
     "output_type": "stream",
     "text": [
      "Airliner\n"
     ]
    },
    {
     "data": {
      "application/vnd.jupyter.widget-view+json": {
       "model_id": "d90c018ae6534b408da7ed2556a331a8",
       "version_major": 2,
       "version_minor": 0
      },
      "text/plain": [
       "interactive(children=(FloatSlider(value=0.35, continuous_update=False, description='thresh', max=1.0, step=0.0…"
      ]
     },
     "metadata": {},
     "output_type": "display_data"
    },
    {
     "name": "stdout",
     "output_type": "stream",
     "text": [
      "Limousine\n"
     ]
    },
    {
     "data": {
      "application/vnd.jupyter.widget-view+json": {
       "model_id": "36ee94c30fa24fd09d99be00392f4917",
       "version_major": 2,
       "version_minor": 0
      },
      "text/plain": [
       "interactive(children=(FloatSlider(value=0.35, continuous_update=False, description='thresh', max=1.0, step=0.0…"
      ]
     },
     "metadata": {},
     "output_type": "display_data"
    },
    {
     "name": "stdout",
     "output_type": "stream",
     "text": [
      "Harbor\n"
     ]
    },
    {
     "data": {
      "application/vnd.jupyter.widget-view+json": {
       "model_id": "bc5b6c191aa84bc5b3724fc1bf780525",
       "version_major": 2,
       "version_minor": 0
      },
      "text/plain": [
       "interactive(children=(FloatSlider(value=0.35, continuous_update=False, description='thresh', max=1.0, step=0.0…"
      ]
     },
     "metadata": {},
     "output_type": "display_data"
    },
    {
     "name": "stdout",
     "output_type": "stream",
     "text": [
      "Troop\n"
     ]
    },
    {
     "data": {
      "application/vnd.jupyter.widget-view+json": {
       "model_id": "ce9d28e2261648068fb597f812717548",
       "version_major": 2,
       "version_minor": 0
      },
      "text/plain": [
       "interactive(children=(FloatSlider(value=0.35, continuous_update=False, description='thresh', max=1.0, step=0.0…"
      ]
     },
     "metadata": {},
     "output_type": "display_data"
    },
    {
     "name": "stdout",
     "output_type": "stream",
     "text": [
      "Binoculars\n"
     ]
    },
    {
     "data": {
      "application/vnd.jupyter.widget-view+json": {
       "model_id": "690208c102704a5ab2b1f72de9f278cb",
       "version_major": 2,
       "version_minor": 0
      },
      "text/plain": [
       "interactive(children=(FloatSlider(value=0.35, continuous_update=False, description='thresh', max=1.0, step=0.0…"
      ]
     },
     "metadata": {},
     "output_type": "display_data"
    },
    {
     "name": "stdout",
     "output_type": "stream",
     "text": [
      "Ambulance\n"
     ]
    },
    {
     "data": {
      "application/vnd.jupyter.widget-view+json": {
       "model_id": "975a854bd5524653bdd4bd73ae225681",
       "version_major": 2,
       "version_minor": 0
      },
      "text/plain": [
       "interactive(children=(FloatSlider(value=0.35, continuous_update=False, description='thresh', max=1.0, step=0.0…"
      ]
     },
     "metadata": {},
     "output_type": "display_data"
    },
    {
     "name": "stdout",
     "output_type": "stream",
     "text": [
      "Assault rifle\n"
     ]
    },
    {
     "data": {
      "application/vnd.jupyter.widget-view+json": {
       "model_id": "e6d5f8772199478b8cba10dfbe771dba",
       "version_major": 2,
       "version_minor": 0
      },
      "text/plain": [
       "interactive(children=(FloatSlider(value=0.35, continuous_update=False, description='thresh', max=1.0, step=0.0…"
      ]
     },
     "metadata": {},
     "output_type": "display_data"
    },
    {
     "name": "stdout",
     "output_type": "stream",
     "text": [
      "Logo\n"
     ]
    },
    {
     "data": {
      "application/vnd.jupyter.widget-view+json": {
       "model_id": "8298e4b88c3045fb9466ab2ffb117b5c",
       "version_major": 2,
       "version_minor": 0
      },
      "text/plain": [
       "interactive(children=(FloatSlider(value=0.35, continuous_update=False, description='thresh', max=1.0, step=0.0…"
      ]
     },
     "metadata": {},
     "output_type": "display_data"
    }
   ],
   "source": [
    "for label in select_labels:\n",
    "    if len(label_to_img[label]) == 0:\n",
    "        continue\n",
    "    print(mid2name_all[label])\n",
    "    imgid = np.random.choice(label_to_img[label])\n",
    "    w = interactive(show, \n",
    "        thresh=widgets.FloatSlider(min=0.0, max=1.0, step=0.01, value=0.35, continuous_update=False), \n",
    "        imgid=fixed(imgid)\n",
    "    )\n",
    "    w.children[-1].layout.height = '600px'\n",
    "    display(w)"
   ]
  },
  {
   "cell_type": "code",
   "execution_count": null,
   "metadata": {},
   "outputs": [],
   "source": []
  },
  {
   "cell_type": "code",
   "execution_count": null,
   "metadata": {},
   "outputs": [],
   "source": []
  },
  {
   "cell_type": "code",
   "execution_count": null,
   "metadata": {},
   "outputs": [],
   "source": []
  }
 ],
 "metadata": {
  "kernelspec": {
   "display_name": "Py3 w/ Tensorflow",
   "language": "python",
   "name": "py3tf"
  },
  "language_info": {
   "codemirror_mode": {
    "name": "ipython",
    "version": 3
   },
   "file_extension": ".py",
   "mimetype": "text/x-python",
   "name": "python",
   "nbconvert_exporter": "python",
   "pygments_lexer": "ipython3",
   "version": "3.6.5"
  }
 },
 "nbformat": 4,
 "nbformat_minor": 2
}
