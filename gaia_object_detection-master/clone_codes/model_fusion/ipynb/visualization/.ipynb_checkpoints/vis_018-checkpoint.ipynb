{
 "cells": [
  {
   "cell_type": "code",
   "execution_count": 1,
   "metadata": {},
   "outputs": [],
   "source": [
    "import os\n",
    "import sys\n",
    "import pickle\n",
    "import csv\n",
    "import copy\n",
    "\n",
    "import numpy as np\n",
    "import cv2\n",
    "import matplotlib.pyplot as plt\n",
    "%matplotlib inline"
   ]
  },
  {
   "cell_type": "code",
   "execution_count": 2,
   "metadata": {},
   "outputs": [],
   "source": [
    "from ipywidgets import interact, interactive, fixed, interact_manual\n",
    "import ipywidgets as widgets"
   ]
  },
  {
   "cell_type": "code",
   "execution_count": 3,
   "metadata": {},
   "outputs": [
    {
     "name": "stderr",
     "output_type": "stream",
     "text": [
      "../../../tfobjdetect/lib/object_detection/utils/visualization_utils.py:25: UserWarning: \n",
      "This call to matplotlib.use() has no effect because the backend has already\n",
      "been chosen; matplotlib.use() must be called *before* pylab, matplotlib.pyplot,\n",
      "or matplotlib.backends is imported for the first time.\n",
      "\n",
      "The backend was *originally* set to 'module://ipykernel.pylab.backend_inline' by the following code:\n",
      "  File \"/home/alireza/home_at_filer2/tools/anaconda3/envs/py3tf/lib/python3.6/runpy.py\", line 193, in _run_module_as_main\n",
      "    \"__main__\", mod_spec)\n",
      "  File \"/home/alireza/home_at_filer2/tools/anaconda3/envs/py3tf/lib/python3.6/runpy.py\", line 85, in _run_code\n",
      "    exec(code, run_globals)\n",
      "  File \"/home/alireza/home_at_filer2/tools/anaconda3/envs/py3tf/lib/python3.6/site-packages/ipykernel/__main__.py\", line 3, in <module>\n",
      "    app.launch_new_instance()\n",
      "  File \"/home/alireza/home_at_filer2/tools/anaconda3/envs/py3tf/lib/python3.6/site-packages/traitlets/config/application.py\", line 658, in launch_instance\n",
      "    app.start()\n",
      "  File \"/home/alireza/home_at_filer2/tools/anaconda3/envs/py3tf/lib/python3.6/site-packages/ipykernel/kernelapp.py\", line 486, in start\n",
      "    self.io_loop.start()\n",
      "  File \"/home/alireza/home_at_filer2/tools/anaconda3/envs/py3tf/lib/python3.6/site-packages/tornado/platform/asyncio.py\", line 127, in start\n",
      "    self.asyncio_loop.run_forever()\n",
      "  File \"/home/alireza/home_at_filer2/tools/anaconda3/envs/py3tf/lib/python3.6/asyncio/base_events.py\", line 422, in run_forever\n",
      "    self._run_once()\n",
      "  File \"/home/alireza/home_at_filer2/tools/anaconda3/envs/py3tf/lib/python3.6/asyncio/base_events.py\", line 1432, in _run_once\n",
      "    handle._run()\n",
      "  File \"/home/alireza/home_at_filer2/tools/anaconda3/envs/py3tf/lib/python3.6/asyncio/events.py\", line 145, in _run\n",
      "    self._callback(*self._args)\n",
      "  File \"/home/alireza/home_at_filer2/tools/anaconda3/envs/py3tf/lib/python3.6/site-packages/tornado/platform/asyncio.py\", line 117, in _handle_events\n",
      "    handler_func(fileobj, events)\n",
      "  File \"/home/alireza/home_at_filer2/tools/anaconda3/envs/py3tf/lib/python3.6/site-packages/tornado/stack_context.py\", line 276, in null_wrapper\n",
      "    return fn(*args, **kwargs)\n",
      "  File \"/home/alireza/home_at_filer2/tools/anaconda3/envs/py3tf/lib/python3.6/site-packages/zmq/eventloop/zmqstream.py\", line 450, in _handle_events\n",
      "    self._handle_recv()\n",
      "  File \"/home/alireza/home_at_filer2/tools/anaconda3/envs/py3tf/lib/python3.6/site-packages/zmq/eventloop/zmqstream.py\", line 480, in _handle_recv\n",
      "    self._run_callback(callback, msg)\n",
      "  File \"/home/alireza/home_at_filer2/tools/anaconda3/envs/py3tf/lib/python3.6/site-packages/zmq/eventloop/zmqstream.py\", line 432, in _run_callback\n",
      "    callback(*args, **kwargs)\n",
      "  File \"/home/alireza/home_at_filer2/tools/anaconda3/envs/py3tf/lib/python3.6/site-packages/tornado/stack_context.py\", line 276, in null_wrapper\n",
      "    return fn(*args, **kwargs)\n",
      "  File \"/home/alireza/home_at_filer2/tools/anaconda3/envs/py3tf/lib/python3.6/site-packages/ipykernel/kernelbase.py\", line 283, in dispatcher\n",
      "    return self.dispatch_shell(stream, msg)\n",
      "  File \"/home/alireza/home_at_filer2/tools/anaconda3/envs/py3tf/lib/python3.6/site-packages/ipykernel/kernelbase.py\", line 233, in dispatch_shell\n",
      "    handler(stream, idents, msg)\n",
      "  File \"/home/alireza/home_at_filer2/tools/anaconda3/envs/py3tf/lib/python3.6/site-packages/ipykernel/kernelbase.py\", line 399, in execute_request\n",
      "    user_expressions, allow_stdin)\n",
      "  File \"/home/alireza/home_at_filer2/tools/anaconda3/envs/py3tf/lib/python3.6/site-packages/ipykernel/ipkernel.py\", line 208, in do_execute\n",
      "    res = shell.run_cell(code, store_history=store_history, silent=silent)\n",
      "  File \"/home/alireza/home_at_filer2/tools/anaconda3/envs/py3tf/lib/python3.6/site-packages/ipykernel/zmqshell.py\", line 537, in run_cell\n",
      "    return super(ZMQInteractiveShell, self).run_cell(*args, **kwargs)\n",
      "  File \"/home/alireza/home_at_filer2/tools/anaconda3/envs/py3tf/lib/python3.6/site-packages/IPython/core/interactiveshell.py\", line 2666, in run_cell\n",
      "    self.events.trigger('post_run_cell', result)\n",
      "  File \"/home/alireza/home_at_filer2/tools/anaconda3/envs/py3tf/lib/python3.6/site-packages/IPython/core/events.py\", line 88, in trigger\n",
      "    func(*args, **kwargs)\n",
      "  File \"/home/alireza/home_at_filer2/tools/anaconda3/envs/py3tf/lib/python3.6/site-packages/ipykernel/pylab/backend_inline.py\", line 160, in configure_once\n",
      "    activate_matplotlib(backend)\n",
      "  File \"/home/alireza/home_at_filer2/tools/anaconda3/envs/py3tf/lib/python3.6/site-packages/IPython/core/pylabtools.py\", line 311, in activate_matplotlib\n",
      "    matplotlib.pyplot.switch_backend(backend)\n",
      "  File \"/home/alireza/home_at_filer2/tools/anaconda3/envs/py3tf/lib/python3.6/site-packages/matplotlib/pyplot.py\", line 231, in switch_backend\n",
      "    matplotlib.use(newbackend, warn=False, force=True)\n",
      "  File \"/home/alireza/home_at_filer2/tools/anaconda3/envs/py3tf/lib/python3.6/site-packages/matplotlib/__init__.py\", line 1410, in use\n",
      "    reload(sys.modules['matplotlib.backends'])\n",
      "  File \"/home/alireza/home_at_filer2/tools/anaconda3/envs/py3tf/lib/python3.6/importlib/__init__.py\", line 166, in reload\n",
      "    _bootstrap._exec(spec, module)\n",
      "  File \"/home/alireza/home_at_filer2/tools/anaconda3/envs/py3tf/lib/python3.6/site-packages/matplotlib/backends/__init__.py\", line 16, in <module>\n",
      "    line for line in traceback.format_stack()\n",
      "\n",
      "\n",
      "  import matplotlib; matplotlib.use('Agg')  # pylint: disable=multiple-statements\n"
     ]
    }
   ],
   "source": [
    "sys.path.append(\"../../../tfobjdetect/lib\")\n",
    "from object_detection.utils import label_map_util\n",
    "from object_detection.utils import visualization_utils as vis_util"
   ]
  },
  {
   "cell_type": "markdown",
   "metadata": {},
   "source": [
    "## Loading and preparing label maps"
   ]
  },
  {
   "cell_type": "code",
   "execution_count": 4,
   "metadata": {},
   "outputs": [],
   "source": [
    "with open('../../temp/all_labels_names_300.pkl', 'rb') as fin:\n",
    "    mid2name_all = pickle.load(fin)"
   ]
  },
  {
   "cell_type": "code",
   "execution_count": 5,
   "metadata": {},
   "outputs": [],
   "source": [
    "with open('../../temp/all_labels_300+.pkl', 'rb') as fin:\n",
    "    all_labels = pickle.load(fin)"
   ]
  },
  {
   "cell_type": "code",
   "execution_count": null,
   "metadata": {},
   "outputs": [],
   "source": []
  },
  {
   "cell_type": "code",
   "execution_count": 6,
   "metadata": {},
   "outputs": [],
   "source": [
    "with open('../../results/det_results_concat_15.pkl', 'rb') as fin:\n",
    "    det_results_concat = pickle.load(fin)"
   ]
  },
  {
   "cell_type": "code",
   "execution_count": 7,
   "metadata": {},
   "outputs": [],
   "source": [
    "with open('../../results/det_results_merged_15.pkl', 'rb') as fin:\n",
    "    det_results_merged = pickle.load(fin)"
   ]
  },
  {
   "cell_type": "code",
   "execution_count": 8,
   "metadata": {},
   "outputs": [],
   "source": [
    "with open('../../results/det_results_postproc_15.pkl', 'rb') as fin:\n",
    "    det_results_postproc = pickle.load(fin)"
   ]
  },
  {
   "cell_type": "markdown",
   "metadata": {},
   "source": [
    "## Choosing examples for each class to visualize"
   ]
  },
  {
   "cell_type": "code",
   "execution_count": 9,
   "metadata": {},
   "outputs": [],
   "source": [
    "label_to_img = {key: [] for key in all_labels}\n",
    "for key, val in det_results_concat.items():\n",
    "    for det in val:\n",
    "        if det['score'] >= 0.35:\n",
    "            label_to_img[det['label']].append(key)"
   ]
  },
  {
   "cell_type": "code",
   "execution_count": 10,
   "metadata": {},
   "outputs": [],
   "source": [
    "sort_idx = np.argsort([-len(label_to_img[label]) for label in all_labels])"
   ]
  },
  {
   "cell_type": "code",
   "execution_count": 11,
   "metadata": {},
   "outputs": [
    {
     "name": "stdout",
     "output_type": "stream",
     "text": [
      "/m/01g317 Person 6923\n",
      "/m/04yx4 Man 2117\n",
      "/m/0dzct Human face 1884\n",
      "/m/09j2d Clothing 1505\n",
      "/m/03bt1vf Woman 979\n",
      "/m/0k4j Car 596\n",
      "/m/07yv9 Vehicle 483\n",
      "/m/0cgh4 Building 368\n",
      "/m/01xyhv Suit 353\n",
      "/m/01rkbr Tie 300\n",
      "/m/07j7r Tree 297\n",
      "/m/0cmf2 Airplane 290\n",
      "/m/01n5jq Poster 254\n",
      "/m/01prls Land vehicle 174\n",
      "/m/019jd Boat 154\n",
      "/m/07r04 Truck 151\n",
      "/m/05s2s Plant 146\n",
      "/m/07jdr Train 136\n",
      "/m/04dr76w Bottle 134\n",
      "/m/083wq Wheel 131\n",
      "/m/080hkjn Handbag 130\n",
      "/m/04_tb Map 126\n",
      "/m/0bt9lr Dog 107\n",
      "/m/01mzpv Chair 107\n",
      "/m/0jyfg Glasses 107\n",
      "/m/09j5n Footwear 104\n",
      "/m/050k8 Mobile phone 100\n",
      "/m/0fly7 Jeans 99\n",
      "/m/012t_z Businessperson 95\n",
      "/m/07c52 Television 93\n",
      "/m/04bcr3 Table 89\n",
      "/m/0zvk5 Helmet 87\n",
      "/m/0k65p Hand 86\n",
      "/m/032b3c Jacket 83\n",
      "/m/03q69 Hair 80\n",
      "/m/01d40f Dress 79\n",
      "/m/03120 Flag 73\n",
      "/m/07cmd Tank 69\n",
      "/m/0dwx7 Logo 68\n",
      "/m/03jm5 House 67\n",
      "/m/01940j Backpack 66\n",
      "/m/03fp41 Houseplant 63\n",
      "/m/01xr66 Spokesperson 63\n",
      "/m/0d4v4 Window 63\n",
      "/m/015p6 Bird 62\n",
      "/m/01yrx Cat 56\n",
      "/m/02_41 Fire 55\n",
      "/m/0h9mv Tire 53\n",
      "/m/02dl1y Hat 52\n",
      "/m/07s6nbt Text 51\n",
      "/m/05r655 Girl 51\n",
      "/m/017ftj Sunglasses 49\n",
      "/m/02wbm Food 49\n",
      "/m/02p0zyj Riot 48\n",
      "/m/083kb Weapon 47\n",
      "/m/0jbk Animal 46\n",
      "/m/01bjv Bus 45\n",
      "/m/02522 Computer monitor 44\n",
      "/m/0c_jw Furniture 43\n",
      "/m/01bl7v Boy 39\n",
      "/m/0bt_c3 Book 37\n",
      "/m/04_sv Motorcycle 36\n",
      "/m/06q40 Smoke 35\n",
      "/m/04rky Mammal 34\n",
      "/m/01fdzj Tower 34\n",
      "/m/0138tl Toy 34\n",
      "/m/0k0pj Nose 33\n",
      "/m/0dzf4 Arm 32\n",
      "/m/014zdl Explosion 30\n",
      "/m/0c9ph5 Flower 30\n",
      "/m/01fnck Waste 29\n",
      "/m/0hnnb Umbrella 28\n",
      "/m/06msq Sculpture 27\n",
      "/m/0199g Bicycle 26\n",
      "/m/06c54 Rifle 25\n",
      "/m/03ssj5 Bed 25\n",
      "/m/01c648 Laptop 24\n",
      "/m/0hg7b Microphone 24\n",
      "/m/0k5j Aircraft 24\n",
      "/m/09x0r Speech 23\n",
      "/m/0chbx Violence 23\n",
      "/m/0463sg Fashion accessory 23\n",
      "/m/012n4x Firefighter 22\n",
      "/m/08gqpm cup 22\n",
      "/m/018xm Ball 22\n",
      "/m/025nd Christmas tree 22\n",
      "/m/04kkgm Bowl 22\n",
      "/m/08dz3q Auto part 21\n",
      "/m/014sv8 Eye 21\n",
      "/m/03k3r Horse 21\n",
      "/m/02s195 Vase 20\n",
      "/m/09ct_ Helicopter 20\n",
      "/m/04hgtk Human head 20\n",
      "/m/06z37_ Picture frame 19\n",
      "/m/0cvnqh Bench 18\n",
      "/m/09tvcd Wine glass 18\n",
      "/m/01knjb Billboard 17\n",
      "/m/02d9qx Whiteboard 17\n",
      "/m/01s55n Suitcase 16\n",
      "/m/07mhn Trousers 16\n",
      "/m/014tl Ammunition 16\n",
      "/m/033rq4 Street light 16\n",
      "/m/02zt3 Kite 16\n",
      "/m/02_n6y Goggles 15\n",
      "/m/079cl Skyscraper 15\n",
      "/m/01bgsw Toddler 14\n",
      "/m/01n4qj Shirt 14\n",
      "/m/07d0f Trademark 13\n",
      "/m/03rszm Curtain 13\n",
      "/m/040b_t Refrigerator 13\n",
      "/m/015qff Traffic light 13\n",
      "/m/0h8n5zk Kitchen & dining room table 13\n",
      "/m/03qtwd Crowd 12\n",
      "/m/02dgv Door 12\n",
      "/m/03g8mr Baseball bat 12\n",
      "/m/0271t Drink 12\n",
      "/m/0130jx Sink 12\n",
      "/m/09g1w Toilet 12\n",
      "/m/01xq0k1 Cattle 12\n",
      "/m/01m2v Computer keyboard 11\n",
      "/m/01x3z Clock 11\n",
      "/m/0h2r6 Van 11\n",
      "/m/02ryw Explosive material 11\n",
      "/m/07bgp Sheep 10\n",
      "/m/02crq1 Couch 10\n",
      "/m/01lynh Stairs 10\n",
      "/m/0f4s2w Vegetable 10\n",
      "/m/039xj_ Ear 10\n",
      "/m/01xygc Coat 10\n",
      "/m/04ctx Knife 10\n",
      "/m/06q74 Ship 10\n",
      "/m/01lrl Carnivore 10\n",
      "/m/01nl4x Fire extinguisher 10\n",
      "/m/0blz9 Fence 9\n",
      "/m/01_bhs Fast food 9\n",
      "/m/01mqdt Traffic sign 9\n",
      "/m/01m3v Computer 9\n",
      "/m/018rqw Wide-body aircraft 9\n",
      "/m/013_1c Statue 9\n",
      "/m/0hs8k Bullet 8\n",
      "/m/03__z0 Bookcase 8\n",
      "/m/01gmv2 Brassiere 8\n",
      "/m/0fd6q Cash 8\n",
      "/m/02xwb Fruit 8\n",
      "/m/0342h Guitar 8\n",
      "/m/0b_rs Swimming pool 8\n",
      "/m/01xgg_ Medical equipment 8\n",
      "/m/04_x4 Money 8\n",
      "/m/02fq_6 Fedora 8\n",
      "/m/0ltfs Bride 8\n",
      "/m/0qjjc Remote control 8\n",
      "/m/035r7c Leg 8\n",
      "/m/025dyy Box 8\n",
      "/m/06m11 Rose 7\n",
      "/m/01j61q Tent 7\n",
      "/m/0c06p Candle 7\n",
      "/m/01bqk0 Bicycle wheel 7\n",
      "/m/039l3v Auditorium 7\n",
      "/m/07k1x Tool 7\n",
      "/m/0dt3t Fork 7\n",
      "/m/02q5pxq Aircraft cabin 7\n",
      "/m/01b9xk Hot dog 7\n",
      "/m/0kmg4 Teddy bear 7\n",
      "/m/01dws Bear 7\n",
      "/m/0dv5r Camera 6\n",
      "/m/02cwf_ Shrine 6\n",
      "/m/078n6m Coffee table 6\n",
      "/m/0dv9c Racket 6\n",
      "/m/0242l Coin 6\n",
      "/m/0898b Zebra 6\n",
      "/m/0hkxq Broccoli 6\n",
      "/m/02h19r Scarf 6\n",
      "/m/038t8_ Estate 5\n",
      "/m/0270h Dessert 5\n",
      "/m/019w40 Surfboard 5\n",
      "/m/01bfm9 Shorts 5\n",
      "/m/09ddx Duck 5\n",
      "/m/0dkw5 Machine 5\n",
      "/m/0byj4 Combat 5\n",
      "/m/021sj1 Office building 5\n",
      "/m/04brg2 Tableware 5\n",
      "/m/0283dt1 Mouth 5\n",
      "/m/0gvss07 Combat vehicle 5\n",
      "/m/01wk9c Emblem 5\n",
      "/m/0cmx8 Spoon 5\n",
      "/m/019dx1 Home appliance 5\n",
      "/m/02pv19 Stop sign 5\n",
      "/m/01ww8y Snack 5\n",
      "/m/0h8mhzd Sports uniform 5\n",
      "/m/01rzcn Watercraft 4\n",
      "/m/01yx86 Bronze sculpture 4\n",
      "/m/016m2d Skull 4\n",
      "/m/03hl4l9 Marine invertebrates 4\n",
      "/m/01llwg Necklace 4\n",
      "/m/01y9k5 Desk 4\n",
      "/m/033lpr Audience 4\n",
      "/m/0jy4k Doughnut 4\n",
      "/m/04ylt Missile 4\n",
      "/m/01jfm_ Licence plate 4\n",
      "/m/0crjs Convenience store 4\n",
      "/m/07j87 Tomato 4\n",
      "/m/0fj52s Carrot 4\n",
      "/m/0bwd_0j Elephant 4\n",
      "/m/02wmf frisbee 4\n",
      "/m/0bh6t6c Rescuer 4\n",
      "/m/071p9 Ski 4\n",
      "/m/0728h Self-propelled artillery 4\n",
      "/m/015h_t Beard 4\n",
      "/m/012xff Toothbrush 4\n",
      "/m/09d5_ Owl 4\n",
      "/m/0g54v5d Military vehicle 4\n",
      "/m/04h7h Lighthouse 4\n",
      "/m/06bt6 Reptile 3\n",
      "/m/0bs7_0t Electronic device 3\n",
      "/m/0hf58v5 Luggage and bags 3\n",
      "/m/01pns0 Fire hydrant 3\n",
      "/m/02rdsp Office supplies 3\n",
      "/m/07fbm7 Strawberry 3\n",
      "/m/03cny9 Badge 3\n",
      "/m/02k88w Rebellion 3\n",
      "/m/0220r2 Fountain 3\n",
      "/m/0h99cwc Kitchen appliance 3\n",
      "/m/0grw1 Salad 3\n",
      "/m/0ct4f Bomb 3\n",
      "/m/052lwg6 Baked goods 3\n",
      "/m/0d5gx Castle 3\n",
      "/m/0fm3zh Flowerpot 3\n",
      "/m/02wbtzl Sun hat 3\n",
      "/m/054_l Mirror 3\n",
      "/m/020lf Mouse 3\n",
      "/m/08pbxl Monkey 3\n",
      "/m/0gjkl Watch 3\n",
      "/m/047b9vj Gps navigation device 3\n",
      "/m/09g5pq People 3\n",
      "/m/01lsmm Scissors 3\n",
      "/m/02pkr5 Plumbing fixture 3\n",
      "/m/014j1m Apple 3\n",
      "/m/02p4dfn Lectern 3\n",
      "/m/0133tk Ballistic vest 3\n",
      "/m/01n32 City 3\n",
      "/m/050gv4 Plate 3\n",
      "/m/015qbp parking meter 3\n",
      "/m/0cffdh Maple 2\n",
      "/m/05r5c Piano 2\n",
      "/m/099ssp Platter 2\n",
      "/m/02jnhm Tin can 2\n",
      "/m/02p16m6 Flesh 2\n",
      "/m/05wrt Property 2\n",
      "/m/0gt4z Security guard 2\n",
      "/m/0cyhj_ Orange 2\n",
      "/m/0fszt Cake 2\n",
      "/m/01nd_n Protest 2\n",
      "/m/035y33 Official 2\n",
      "/m/04szw Musical instrument 2\n",
      "/m/0169zh Smartphone 2\n",
      "/m/0174n1 Glove 2\n",
      "/m/0jqgx Lily 2\n",
      "/m/09728 Bread 2\n",
      "/m/06_fw Skateboard 2\n",
      "/m/0284d Dairy 2\n",
      "/m/02_g0 Funeral 2\n",
      "/m/03grzl Baseball glove 2\n",
      "/m/01s105 Cabinetry 2\n",
      "/m/0gd2v Marine mammal 2\n",
      "/m/026t6 Drum 2\n",
      "/m/0dbvp Goose 2\n",
      "/m/0cdl1 Palm tree 2\n",
      "/m/015kr Bridge 2\n",
      "/m/09rvcxw Rocket 2\n",
      "/m/06gfj Road 2\n",
      "/m/06810_ Medium tactical vehicle replacement 2\n",
      "/m/0dtln Lamp 2\n",
      "/m/06__v Snowboard 2\n",
      "/m/0bg2p Security 2\n",
      "/m/0ftb8 Sunflower 2\n",
      "/m/09kx5 Deer 2\n",
      "/m/0gjbg72 Shelf 2\n",
      "/m/011k07 Tortoise 2\n",
      "/m/05z6w Penguin 2\n",
      "/m/01h3n Bee 2\n",
      "/m/03vt0 Insect 2\n",
      "/m/02p0tk3 Human body 2\n",
      "/m/02ljgl Monument 2\n",
      "/m/020kz Cannon 1\n",
      "/m/01226z Football 1\n",
      "/m/01h_q0 Military robot 1\n",
      "/m/04229 Jet engine 1\n",
      "/m/01jw_1 Bus stop 1\n",
      "/m/0b3fp9 Countertop 1\n",
      "/m/0fqfqc Drawer 1\n",
      "/m/0h8mhv3 Surveillance camera 1\n",
      "/m/0y8r Armored car 1\n",
      "/m/01zpz Crew 1\n",
      "/m/0cxn2 Ice cream 1\n",
      "/m/07cx4 Telephone 1\n",
      "/m/03xxp Invertebrate 1\n",
      "/m/02jz0l Tap 1\n",
      "/m/0hpjt Orator 1\n",
      "/m/05t_pq Gun turret 1\n",
      "/m/014trl Cosmetics 1\n",
      "/m/01lcwm Luxury vehicle 1\n",
      "/m/01h6cb Meeting 1\n",
      "/m/0gxl3 Handgun 1\n",
      "/m/01xqw Cello 1\n",
      "/m/01vzwd Mortar 1\n",
      "/m/03qpft Podium 1\n",
      "/m/09cynt Convention 1\n",
      "/m/025syph Fighter pilot 1\n",
      "/m/0245kq Stealth aircraft 1\n",
      "/m/0ch_cf Fish 1\n",
      "/m/0ytgt Child 1\n",
      "/m/0hr5k Festival 1\n",
      "/m/0d_2m Moths and butterflies 1\n",
      "/m/04c2cp Dispatcher 1\n",
      "/m/0qmmr Wheelchair 1\n",
      "/m/029bxz Oven 1\n",
      "/m/0gv1x Parrot 1\n",
      "/m/071qp Squirrel 1\n",
      "/m/065zrn9 Explosive weapon 1\n",
      "/m/06nwz Seafood 1\n",
      "/m/09b5t Chicken 1\n",
      "/m/034qg Firearm 1\n",
      "/m/0k05r Court 1\n",
      "/m/0167gd Doll 1\n",
      "/m/0dftk Swan 1\n",
      "/m/057cc Musical keyboard 1\n",
      "/m/06d_3 Railway 1\n",
      "/m/02wv6h6 Skirt 1\n",
      "/m/02hsrtn Helicopter pilot 1\n",
      "/m/025rp__ Cowboy hat 1\n",
      "/m/03bk1 Giraffe 1\n",
      "/m/0663v Pizza 1\n",
      "/m/03p3bw Bicycle helmet 1\n",
      "/m/024g6 Cocktail 1\n",
      "/m/03nfch Sandal 1\n",
      "/m/08qrwn Rubble 1\n",
      "/m/054xkw Lifejacket 1\n",
      "/m/01z1kdw Juice 1\n",
      "/m/01j51 Balloon 1\n",
      "/m/0jb3 Assault rifle 1\n",
      "/m/03wvsk hair drier 1\n",
      "/m/01bq8v Troop 1\n",
      "/m/01vw0_ Grave 1\n",
      "/m/052sf Mushroom 1\n",
      "/m/02mwm5 Police dog 1\n",
      "/m/01klb9 Plaza 1\n",
      "/m/0cx45 Temple 1\n",
      "/m/039jbq Urban area 1\n",
      "/m/0h36z Cemetery 1\n",
      "/m/0knpd Flight instruments 1\n",
      "/m/02q60ls Conference hall 1\n",
      "/m/08q1tg Crash 0\n",
      "/m/014y4n Paddle 0\n",
      "/m/05ctyq Tennis ball 0\n",
      "/m/0176mf Belt 0\n",
      "/m/063rgb Mixer 0\n",
      "/m/084rd Wok 0\n",
      "/m/01c8br Street 0\n",
      "/m/08p92x Cream 0\n",
      "/m/05dlb Navy 0\n",
      "/m/015_d Bomber 0\n",
      "/m/01x3jk Snowmobile 0\n",
      "/m/02cvgx Winter melon 0\n",
      "/m/0dkzw Seat belt 0\n",
      "/m/01fb_0 Bagel 0\n",
      "/m/013y1f Organ 0\n",
      "/m/02w3r3 Paper towel 0\n",
      "/m/03bj1 Panda 0\n",
      "/m/03d1rd Ruins 0\n",
      "/m/09qck Banana 0\n",
      "/m/01j3zr Burrito 0\n",
      "/m/02vkqh8 Wardrobe 0\n",
      "/m/07pj7bq Bowling equipment 0\n",
      "/m/0703r8 Loveseat 0\n",
      "/m/0583b1 Barricade 0\n",
      "/m/01btn Barge 0\n",
      "/m/025sb2w Supersonic aircraft 0\n",
      "/m/09k_b Lemon 0\n",
      "/m/0cdn1 Hamburger 0\n",
      "/m/01_5g Chopsticks 0\n",
      "/m/02zn6n Barrel 0\n",
      "/m/04h8sr Dumbbell 0\n",
      "/m/078jl Snake 0\n",
      "/m/04m6gz Porch 0\n",
      "/m/039r6 General aviation 0\n",
      "/m/03q5c7 Saucer 0\n",
      "/m/0173tc Chapel 0\n",
      "/m/0h8l4fh Light bulb 0\n",
      "/m/01b638 Boot 0\n",
      "/m/08hvt4 Jug 0\n",
      "/m/04m9y Lizard 0\n",
      "/m/0275lwb Military helicopter 0\n",
      "/m/0fz0h Honeycomb 0\n",
      "/m/01x2j Camouflage 0\n",
      "/m/01h8tj Starfish 0\n",
      "/m/03dnzn Bathtub 0\n",
      "/m/0cd4d Cheetah 0\n",
      "background background 0\n",
      "/m/0fkwjg Commercial vehicle 0\n",
      "/m/0323sq Golf cart 0\n",
      "/m/01wb7 Church 0\n",
      "/m/07y_7 Violin 0\n",
      "/m/0cjq5 Lobster 0\n",
      "/m/0cnyhnx Bull 0\n",
      "/m/07gql Trumpet 0\n",
      "/m/02z51p Nightstand 0\n",
      "/m/061hd_ Infant bed 0\n",
      "/m/03txqz Scale 0\n",
      "/m/03q5t Harpsichord 0\n",
      "/m/0gjwxv Military organization 0\n",
      "/m/074d1 Submarine 0\n",
      "/m/0633h Polar bear 0\n",
      "/m/0fp6w Pineapple 0\n",
      "/m/0c2jj Axe 0\n",
      "/m/09cjl Airport 0\n",
      "/m/02ctlc Cricket ball 0\n",
      "/m/02pdsw Cutting board 0\n",
      "/m/01vbnl Bidet 0\n",
      "/m/031b6r Window blind 0\n",
      "/m/029tx Dinosaur 0\n",
      "/m/073bxn Tripod 0\n",
      "/m/0cjs7 Asparagus 0\n",
      "/m/0m53l Rays and skates 0\n",
      "/m/029b3 Dice 0\n",
      "/m/0dhz0 Airliner 0\n",
      "/m/0fzyg Aviation 0\n",
      "/m/06_72j Digital clock 0\n",
      "/m/01d380 Drill 0\n",
      "/m/01f91_ Pretzel 0\n",
      "/m/07qxg_ Football helmet 0\n",
      "/m/07crc Taco 0\n",
      "/m/043nyj Common fig 0\n",
      "/m/081hv Wedding 0\n",
      "/m/0hqkz Grapefruit 0\n",
      "/m/03wvy Infantry 0\n",
      "/m/05kms Oboe 0\n",
      "/m/0h8n27j Serving tray 0\n",
      "/m/012n91 Emergency service 0\n",
      "/m/0gd36 Sea lion 0\n",
      "/m/09gtd Toilet paper 0\n",
      "/m/03hlz0c Kitchen utensil 0\n",
      "/m/0f9_l Snail 0\n",
      "/m/030610 Treadmill 0\n",
      "/m/017m8l Waterway 0\n",
      "/m/0cyfs Parachute 0\n",
      "/m/0cn6p Otter 0\n",
      "/m/0l14j_ Flute 0\n",
      "/m/0jzbb Paramedic 0\n",
      "/m/03htg Harbor 0\n",
      "/m/01dy8n Woodpecker 0\n",
      "/m/04cp_ Koala 0\n",
      "/m/013xlm Tractor 0\n",
      "/m/03hj559 Mixing bowl 0\n",
      "/m/081qc Wine 0\n",
      "/m/0pd7 Army 0\n",
      "/m/07xyvk Coffeemaker 0\n",
      "/m/01hr1w Guided missile destroyer 0\n",
      "/m/0ky7b Dishwasher 0\n",
      "/m/0ddnl Ferry 0\n",
      "/m/02f9f_ Shower 0\n",
      "/m/061_f Pear 0\n",
      "/m/0gm28 Candy 0\n",
      "/m/0152hh Snowman 0\n",
      "/m/0jg57 Bell pepper 0\n",
      "/m/012qdp Military officer 0\n",
      "/m/07kng9 Picnic basket 0\n",
      "/m/015x5n Radish 0\n",
      "/m/096mb Lion 0\n",
      "/m/018j2 Banjo 0\n",
      "/m/06nrc Shotgun 0\n",
      "/m/05z55 Pasta 0\n",
      "/m/01fh4r Teapot 0\n",
      "/m/0dv77 Squash 0\n",
      "/m/01l0mw Home 0\n",
      "/m/0fqt361 Stool 0\n",
      "/m/04h5c Locomotive 0\n",
      "/m/0306r Fox 0\n",
      "/m/02wg_p Tree house 0\n",
      "/m/0h8my_4 Tennis racket 0\n",
      "/m/018rc1 Ground attack aircraft 0\n",
      "/m/04rmv Mouse 0\n",
      "/m/0bh9flk Tablet computer 0\n",
      "/m/01r546 Earrings 0\n",
      "/m/02g30s Guacamole 0\n",
      "/m/04yqq2 Bust 0\n",
      "/m/01b7fy Headphones 0\n",
      "/m/034c16 Pillow 0\n",
      "/m/02h66g5 Military person 0\n",
      "/m/01xgbj Turret 0\n",
      "/m/02rgn06 Volleyball 0\n",
      "/m/03qrc Hamster 0\n",
      "/m/020dwk Passenger ship 0\n",
      "/m/04gth Lavender 0\n",
      "/m/012074 Magpie 0\n",
      "/m/0_cp5 Oyster 0\n",
      "/m/025t3bg Air travel 0\n",
      "/m/0xsc Aircraft carrier 0\n",
      "/m/01dxs Brown bear 0\n",
      "/m/084zz Whale 0\n",
      "/m/03d443 Rhinoceros 0\n",
      "/m/05vtc Potato 0\n",
      "/m/01kqwy Business jet 0\n",
      "/m/03jbxj Light switch 0\n",
      "/m/0nybt Seahorse 0\n",
      "/m/03fj2 Goldfish 0\n",
      "/m/0121tl Electronic instrument 0\n",
      "/m/0nl46 Crown 0\n",
      "/m/02yjc Fighter aircraft 0\n",
      "/m/05_5t0l Landmark 0\n",
      "/m/0fbdv Shellfish 0\n",
      "/m/0h8mzrc Wall clock 0\n",
      "/m/0ft9s Dragonfly 0\n",
      "/m/019h78 Centipede 0\n",
      "/m/09f20 Hippopotamus 0\n",
      "/m/01cx7t High-visibility clothing 0\n",
      "/m/04g2r Lynx 0\n",
      "/m/0dj6p Peach 0\n",
      "/m/01g3x7 Bow and arrow 0\n",
      "/m/05zsy Pumpkin 0\n",
      "/m/0_k2 Ant 0\n",
      "/m/0hsrw Sailboat 0\n",
      "/m/01h6rj Military 0\n",
      "/m/03n9vx Double-decker bus 0\n",
      "/m/015wgc Croissant 0\n",
      "/m/0by6g Shark 0\n",
      "/m/09jfs Uniform 0\n",
      "/m/084hf Worm 0\n",
      "/m/0g02q Courthouse 0\n",
      "/m/02p3w7d Roller skates 0\n",
      "/m/01k6s3 toaster 0\n",
      "/m/0mcx2 Ipod 0\n",
      "/m/0n28_ Crab 0\n",
      "/m/06dq9 Radar 0\n",
      "/m/02pjr4 Blender 0\n",
      "/m/09kmb Spider 0\n",
      "/m/02tsc9 Slow cooker 0\n",
      "/m/0120dh Sea turtle 0\n",
      "/m/0hdln Ruler 0\n",
      "/m/012w5l Ladder 0\n",
      "/m/027rl48 Ladle 0\n",
      "/m/05zdp Public transport 0\n",
      "/m/06k2mb High heels 0\n",
      "/m/0lt4_ Binoculars 0\n",
      "/m/0c568 Porcupine 0\n",
      "/m/0fbw6 Cabbage 0\n",
      "/m/02x8cch Salt and pepper shakers 0\n",
      "/m/01cmb2 Miniskirt 0\n",
      "/m/0755b Scorpion 0\n",
      "/m/09dzg Turtle 0\n",
      "/m/06pcq Submarine sandwich 0\n",
      "/m/0ll1f78 Shrimp 0\n",
      "/m/035vxb Isopod 0\n",
      "/m/0fx9l Microwave oven 0\n",
      "/m/03j1ly Emergency vehicle 0\n",
      "/m/0g2bc Drone 0\n",
      "/m/06y5r Sword 0\n",
      "/m/065h6l Jacuzzi 0\n",
      "/m/0c29q Leopard 0\n",
      "/m/01gkx_ Swimwear 0\n",
      "/m/04v6l4 Frying pan 0\n",
      "/m/0kpqd Watermelon 0\n",
      "/m/05ws7 Police 0\n",
      "/m/02gx17 Construction equipment 0\n",
      "/m/05y5lj Sports equipment 0\n",
      "/m/01phq4 Pier 0\n",
      "/m/02hj4 Dolphin 0\n",
      "/m/016c4t Ceremony 0\n",
      "/m/013m1 Air force 0\n",
      "/m/0h8n6ft Cake stand 0\n",
      "/m/09f_2 Crocodile 0\n",
      "/m/0dbzx Mule 0\n",
      "/m/0cfs8 Cathedral 0\n",
      "/m/01h44 Bat 0\n",
      "/m/01j4z9 Chainsaw 0\n",
      "/m/054fyh Pitcher 0\n",
      "/m/0h8nr_l Bathroom accessory 0\n",
      "/m/047v4b Artichoke 0\n",
      "/m/03c7gz Door handle 0\n",
      "/m/07030 Sushi 0\n",
      "/m/0czz2 Antelope 0\n",
      "/m/05kyg_ Chest of drawers 0\n",
      "/m/0cyf8 Butterfly 0\n",
      "/m/0jly1 Turkey 0\n",
      "/m/0319l Horn 0\n",
      "/m/05hg54 Commercial building 0\n",
      "/m/031n1 Foot 0\n",
      "/m/09csl Eagle 0\n",
      "/m/04c0y Kangaroo 0\n",
      "/m/0d8zb Jellyfish 0\n",
      "/m/0bp37nz Propeller-driven aircraft 0\n",
      "/m/073g6 Stethoscope 0\n",
      "/m/0584n8 Briefcase 0\n",
      "/m/03y6mg Food processor 0\n",
      "/m/04qvtq Police car 0\n",
      "/m/01515d Flight 0\n",
      "/m/0frqm Envelope 0\n",
      "/m/04fdw Kayak 0\n",
      "/m/04zjc Machine gun 0\n",
      "/m/01m4t Printer 0\n",
      "/m/04xd6k Melee weapon 0\n",
      "/m/04zpv Milk 0\n",
      "/m/024d2 Calculator 0\n",
      "/m/0jwn_ Pomegranate 0\n",
      "/m/068zj Pig 0\n",
      "/m/02q3d5 Memorial 0\n",
      "/m/047j0r Filing cabinet 0\n",
      "/m/0p833 Perfume 0\n",
      "/m/020jm Beetle 0\n",
      "/m/07txbq Light aircraft 0\n",
      "/m/0h8kx63 Spice rack 0\n",
      "/m/01x_v Camel 0\n",
      "/m/06l9r Red panda 0\n",
      "/m/027pcv Zucchini 0\n",
      "/m/01jfsr Lantern 0\n",
      "/m/0271qf7 Wine rack 0\n",
      "/m/07bsy Transport 0\n",
      "/m/02jfl0 Sombrero 0\n",
      "/m/0wdt60w Rugby ball 0\n",
      "/m/0cvq3 Pickup truck 0\n",
      "/m/03tw93 Fireplace 0\n",
      "/m/0dq75 Raccoon 0\n",
      "/m/05gqfk Plastic bag 0\n",
      "/m/0h8lkj8 Corded phone 0\n",
      "/m/0kpt_ Cantaloupe 0\n",
      "/m/0fldg Mango 0\n",
      "/m/04tn4x Swim cap 0\n",
      "/m/099md Soldier 0\n",
      "/m/0llzx Sewing machine 0\n",
      "/m/01dwsz Waffle 0\n",
      "/m/01dwwc Pancake 0\n",
      "/m/01tcjp Muffin 0\n",
      "/m/03fwl Goat 0\n",
      "/m/0f6wt Falcon 0\n",
      "/m/05y_qt Missile boat 0\n",
      "/m/05_5p_0 Table tennis racket 0\n",
      "/m/07c6l Trombone 0\n",
      "/m/03bbps Power plugs and sockets 0\n",
      "/m/012ysf Syringe 0\n",
      "/m/018p4k Cart 0\n",
      "/m/044r5d Golf ball 0\n",
      "/m/01q4wd Stupa 0\n",
      "/m/0m_bl Bullet train 0\n",
      "/m/01599 Beer 0\n",
      "/m/0mkg Accordion 0\n",
      "/m/012f08 Motor vehicle 0\n",
      "/m/0cz_0 Highway 0\n",
      "/m/01nq26 Sock 0\n",
      "/m/01kb5b Flashlight 0\n",
      "/m/0ffjr Personal protective equipment 0\n",
      "/m/03hfwtf Military transport aircraft 0\n",
      "/m/09ld4 Frog 0\n",
      "/m/025rvy6 Emergency 0\n",
      "/m/09g5h Spacecraft 0\n",
      "/m/012ndj Fire apparatus 0\n",
      "/m/0388q Grape 0\n",
      "/m/076bq Segway 0\n",
      "/m/01lcw4 Limousine 0\n",
      "/m/0f6nr Unicycle 0\n",
      "/m/0ccs93 Canary 0\n",
      "/m/0bjyj5 Waste container 0\n",
      "/m/02gzp Dagger 0\n",
      "/m/012n7d Ambulance 0\n",
      "/m/026qbn5 studio couch 0\n",
      "/m/07dm6 Tiger 0\n",
      "/m/0hnyx Pastry 0\n",
      "/m/0174k2 Washing machine 0\n",
      "/m/02nvjx Place of worship 0\n",
      "/m/02zvsm Tart 0\n",
      "/m/070qm Freight transport 0\n",
      "/m/06zs7 Sniper 0\n",
      "/m/01f8m5 Blue jay 0\n",
      "/m/057p5t Scoreboard 0\n",
      "/m/0cydv Caterpillar 0\n",
      "/m/0642b4 Cupboard 0\n",
      "/m/033cnk Egg 0\n",
      "/m/0cl4p Hedgehog 0\n",
      "/m/03kt2w Stationary bicycle 0\n",
      "/m/06mf6 Rabbit 0\n",
      "/m/01hrv5 Popcorn 0\n",
      "/m/06wrt Sailing 0\n",
      "/m/01krhy Tiara 0\n",
      "/m/0mw_6 Willow 0\n",
      "/m/0h8n6f9 Dog bed 0\n",
      "/m/03m5k Harp 0\n",
      "/m/0d4w1 Closet 0\n",
      "/m/016br2 Dome 0\n",
      "/m/07clx Tea 0\n",
      "/m/0pcr Alpaca 0\n",
      "/m/02l8p9 Harbor seal 0\n",
      "/m/05n4y Ostrich 0\n",
      "/m/06c7f7 Lipstick 0\n",
      "/m/0l515 Sandwich 0\n",
      "/m/0f5lx Military aircraft 0\n",
      "/m/0gj37 Ladybug 0\n",
      "/m/0k1tl Pen 0\n",
      "/m/077hhl Cargo aircraft 0\n",
      "/m/01_p8q Rescue 0\n",
      "/m/03w1r4 Military uniform 0\n",
      "/m/0l3ms Balance beam 0\n",
      "/m/013bml Military rank 0\n",
      "/m/051rmm Steeple 0\n",
      "/m/02vqfm Coffee 0\n",
      "/m/015y8h Jet aircraft 0\n",
      "/m/02lbcq Stretcher 0\n",
      "/m/04169hn Wood-burning stove 0\n",
      "/m/04p0qw Billiard table 0\n",
      "/m/03m3pdh Sofa bed 0\n",
      "/m/01nkt Cheese 0\n",
      "/m/0268lbt Hiking equipment 0\n",
      "/m/01tq2l Cruise ship 0\n",
      "/m/08854 Yacht 0\n",
      "/m/01gllr Beehive 0\n",
      "/m/02p5f1q Coffee cup 0\n",
      "/m/014yck Aircraft engine 0\n",
      "/m/0420v5 Punching bag 0\n",
      "/m/02jvh9 Mug 0\n",
      "/m/03v5tg Drinking straw 0\n",
      "/m/046dlr Alarm clock 0\n",
      "/m/0h23m Sparrow 0\n",
      "/m/02bb1s Sniper rifle 0\n",
      "/m/09gys Squid 0\n",
      "/m/0162_1 Towel 0\n",
      "/m/0ph39 Canoe 0\n",
      "/m/01w71f Personal luxury car 0\n",
      "/m/0pg52 Taxi 0\n",
      "/m/06wwc Satellite 0\n",
      "/m/032rk Gun 0\n",
      "/m/076lb9 Bench 0\n",
      "/m/02068x Gondola 0\n",
      "/m/021mn Cookie 0\n",
      "/m/06ncr Saxophone 0\n",
      "/m/03s_tn Kettle 0\n",
      "/m/01xs3r Jet ski 0\n",
      "/m/03ldnb Ceiling fan 0\n",
      "/m/015x4r Cucumber 0\n",
      "/m/02666n Light aircraft carrier 0\n",
      "/m/02y6n French fries 0\n",
      "/m/02w3_ws Personal care 0\n",
      "/m/071rm Shooting 0\n",
      "/m/068k4 Public speaking 0\n",
      "/m/078my Trailer truck 0\n",
      "/m/027qh7f Cold weapon 0\n",
      "/m/02wv84t Gas stove 0\n",
      "/m/04y4h8h Bathroom cabinet 0\n",
      "/m/058qzx Kitchen knife 0\n",
      "/m/02x984l Mechanical fan 0\n",
      "/m/04vv5k Snowplow 0\n",
      "/m/09l63h Military camouflage 0\n",
      "/m/026yq0z Demonstration 0\n",
      "/m/06j2d Raven 0\n",
      "/m/0449p Jaguar 0\n"
     ]
    }
   ],
   "source": [
    "for i in sort_idx:\n",
    "    print(all_labels[i], mid2name_all[all_labels[i]], len(label_to_img[all_labels[i]]))"
   ]
  },
  {
   "cell_type": "code",
   "execution_count": 12,
   "metadata": {},
   "outputs": [],
   "source": [
    "#select_labels = ['/m/01fnck', '/m/019jd', '/m/03120', '/m/02_41', '/m/07cmd', '/m/06q40', '/m/03qtwd', '/m/09x0r', '/m/01xgg_', '/m/08qrwn', '/m/012n4x', '/m/02p16m6', '/m/02lbcq', '/m/09ct_', '/m/0g54v5d', '/m/0bg2p', '/m/0ct4f', '/m/01nd_n', '/m/09rvcxw', '/m/01nl4x', '/m/04ctx', '/m/04ylt', '/m/0gvss07', '/m/01rzcn', '/m/06nrc', '/m/0cyfs', '/m/0f5lx', '/m/04zjc', '/m/0dhz0', '/m/01lcw4', '/m/03htg', '/m/0gxl3', '/m/01bq8v', '/m/0lt4_', '/m/02gzp', '/m/02yjc', '/m/012n7d', '/m/0jb3', '/m/0dwx7']\n"
   ]
  },
  {
   "cell_type": "code",
   "execution_count": 13,
   "metadata": {},
   "outputs": [],
   "source": [
    "with open('../../../wsod/metadata/ont_300/300-classes.csv', 'r') as fin:\n",
    "    select_labels = [item.strip() for item in fin]\n"
   ]
  },
  {
   "cell_type": "code",
   "execution_count": null,
   "metadata": {},
   "outputs": [],
   "source": []
  },
  {
   "cell_type": "markdown",
   "metadata": {},
   "source": [
    "## Visualizing Results"
   ]
  },
  {
   "cell_type": "code",
   "execution_count": 14,
   "metadata": {},
   "outputs": [],
   "source": [
    "mid2name_extended = {}\n",
    "extended_classes = set()\n",
    "for key in all_labels:\n",
    "    for model, abv in [('coco', 'CO'), ('oi', 'OI'), ('ws', 'WS'), ('pascal','PA'), ('coco/J', 'CO/J'), ('oi/J', 'OI/J'), ('ws/J', 'WS/J'), ('pascal/J','PA/J')]:\n",
    "        extended_classes.add(key + '/' + model)\n",
    "        mid2name_extended[key + '/' + model] = mid2name_all[key] + f' ({abv})'\n",
    "extended_classes = list(extended_classes)\n",
    "mid2idx_extended = {}\n",
    "for i, key in enumerate(extended_classes):\n",
    "    mid2idx_extended[key] = i\n",
    "category_index_extended = {mid2idx_extended[key]:{'id': mid2idx_extended[key], 'name': mid2name_extended[key]} for key in mid2name_extended}"
   ]
  },
  {
   "cell_type": "code",
   "execution_count": null,
   "metadata": {},
   "outputs": [],
   "source": []
  },
  {
   "cell_type": "code",
   "execution_count": 15,
   "metadata": {},
   "outputs": [],
   "source": [
    "def preproc(im):\n",
    "    target_size = 400\n",
    "    max_size = 1024\n",
    "    im_size_min = np.min(im.shape[0:2])\n",
    "    im_size_max = np.max(im.shape[0:2])\n",
    "    im_scale = float(target_size) / float(im_size_min)\n",
    "    # Prevent the biggest axis from being more than MAX_SIZE\n",
    "    if np.round(im_scale * im_size_max) > max_size:\n",
    "        im_scale = float(max_size) / float(im_size_max)\n",
    "    im = cv2.resize(im, None, None, fx=im_scale, fy=im_scale,\n",
    "                    interpolation=cv2.INTER_LINEAR)    \n",
    "    return im"
   ]
  },
  {
   "cell_type": "code",
   "execution_count": null,
   "metadata": {},
   "outputs": [],
   "source": []
  },
  {
   "cell_type": "code",
   "execution_count": 16,
   "metadata": {},
   "outputs": [],
   "source": [
    "result_dict = {\n",
    "    'Not Merged': det_results_concat,\n",
    "    'Merged': det_results_merged,\n",
    "    'Post-Processed': det_results_postproc,\n",
    "}"
   ]
  },
  {
   "cell_type": "code",
   "execution_count": 17,
   "metadata": {},
   "outputs": [],
   "source": [
    "path_prefix = '../../../../data/seedling/seedling_part1/jpg/' "
   ]
  },
  {
   "cell_type": "code",
   "execution_count": 18,
   "metadata": {},
   "outputs": [],
   "source": [
    "model_abv_dict = {\n",
    "    'coco': 'CO',\n",
    "    'pascal': 'PA',\n",
    "    'oi': 'OI',\n",
    "    'ws': 'WS',\n",
    "    'coco/J': 'CO/J',\n",
    "    'pascal/J': 'PA/J',\n",
    "    'oi/J': 'OI/J',\n",
    "    'ws/J': 'WS/J',\n",
    "}"
   ]
  },
  {
   "cell_type": "code",
   "execution_count": 19,
   "metadata": {},
   "outputs": [],
   "source": [
    "def show(imgid, source, thresh):\n",
    "    filename = path_prefix + imgid\n",
    "    print(imgid)\n",
    "    with open(filename, 'rb') as fin:\n",
    "        _ = fin.read(1024)\n",
    "        imgbin = fin.read()\n",
    "    imgbgr = cv2.imdecode(np.fromstring(imgbin, dtype='uint8'), cv2.IMREAD_COLOR)\n",
    "    image_np = imgbgr[:,:,[2,1,0]]\n",
    "    image_np = preproc(image_np)\n",
    "    \n",
    "    detections = result_dict[source][imgid]\n",
    "    boxes = np.asarray([det['bbox_normalized'] for det in detections])[:,[1,0,3,2]]\n",
    "    scores = [det['score'] for det in detections]\n",
    "    label_idx = [mid2idx_extended[det['label'] + '/' + det['model']] for det in detections]\n",
    "    \n",
    "    # print([(mid2name_extended[extended_classes[item]], boxes[i]) for i, item in enumerate(label_idx) if scores[i] > thresh])\n",
    "    \n",
    "    vis_util.visualize_boxes_and_labels_on_image_array(\n",
    "      image_np,\n",
    "      boxes,\n",
    "      label_idx,\n",
    "      scores,\n",
    "      category_index_extended,\n",
    "      use_normalized_coordinates=True,\n",
    "      min_score_thresh=thresh,\n",
    "      max_boxes_to_draw=1000,\n",
    "      line_thickness=2)\n",
    "    plt.figure(figsize=(12, 8))\n",
    "    plt.imshow(image_np)\n",
    "    plt.axis('off')\n",
    "    plt.show()    "
   ]
  },
  {
   "cell_type": "code",
   "execution_count": null,
   "metadata": {},
   "outputs": [],
   "source": []
  },
  {
   "cell_type": "code",
   "execution_count": null,
   "metadata": {},
   "outputs": [],
   "source": []
  },
  {
   "cell_type": "code",
   "execution_count": 20,
   "metadata": {
    "scrolled": false
   },
   "outputs": [
    {
     "name": "stdout",
     "output_type": "stream",
     "text": [
      "Aircraft\n"
     ]
    },
    {
     "data": {
      "application/vnd.jupyter.widget-view+json": {
       "model_id": "51df2847a7a54820853f1e325829f640",
       "version_major": 2,
       "version_minor": 0
      },
      "text/plain": [
       "interactive(children=(RadioButtons(description='source', options=('Post-Processed', 'Merged', 'Not Merged'), v…"
      ]
     },
     "metadata": {},
     "output_type": "display_data"
    },
    {
     "name": "stdout",
     "output_type": "stream",
     "text": [
      "Aircraft cabin\n"
     ]
    },
    {
     "data": {
      "application/vnd.jupyter.widget-view+json": {
       "model_id": "78ec1a36d84f4b4ab5c23d910b622141",
       "version_major": 2,
       "version_minor": 0
      },
      "text/plain": [
       "interactive(children=(RadioButtons(description='source', options=('Post-Processed', 'Merged', 'Not Merged'), v…"
      ]
     },
     "metadata": {},
     "output_type": "display_data"
    },
    {
     "name": "stdout",
     "output_type": "stream",
     "text": [
      "Airplane\n"
     ]
    },
    {
     "data": {
      "application/vnd.jupyter.widget-view+json": {
       "model_id": "d06c5b3d45484d85931d6db680194f5b",
       "version_major": 2,
       "version_minor": 0
      },
      "text/plain": [
       "interactive(children=(RadioButtons(description='source', options=('Post-Processed', 'Merged', 'Not Merged'), v…"
      ]
     },
     "metadata": {},
     "output_type": "display_data"
    },
    {
     "name": "stdout",
     "output_type": "stream",
     "text": [
      "Ammunition\n"
     ]
    },
    {
     "data": {
      "application/vnd.jupyter.widget-view+json": {
       "model_id": "d1f4fabf2d4c45f482a1ce3c0d6d5327",
       "version_major": 2,
       "version_minor": 0
      },
      "text/plain": [
       "interactive(children=(RadioButtons(description='source', options=('Post-Processed', 'Merged', 'Not Merged'), v…"
      ]
     },
     "metadata": {},
     "output_type": "display_data"
    },
    {
     "name": "stdout",
     "output_type": "stream",
     "text": [
      "Animal\n"
     ]
    },
    {
     "data": {
      "application/vnd.jupyter.widget-view+json": {
       "model_id": "e96180ad43614e1d9ce78cdb81237242",
       "version_major": 2,
       "version_minor": 0
      },
      "text/plain": [
       "interactive(children=(RadioButtons(description='source', options=('Post-Processed', 'Merged', 'Not Merged'), v…"
      ]
     },
     "metadata": {},
     "output_type": "display_data"
    },
    {
     "name": "stdout",
     "output_type": "stream",
     "text": [
      "Armored car\n"
     ]
    },
    {
     "data": {
      "application/vnd.jupyter.widget-view+json": {
       "model_id": "ec982def84ca431d8b5ec27fbdc788e6",
       "version_major": 2,
       "version_minor": 0
      },
      "text/plain": [
       "interactive(children=(RadioButtons(description='source', options=('Post-Processed', 'Merged', 'Not Merged'), v…"
      ]
     },
     "metadata": {},
     "output_type": "display_data"
    },
    {
     "name": "stdout",
     "output_type": "stream",
     "text": [
      "Assault rifle\n"
     ]
    },
    {
     "data": {
      "application/vnd.jupyter.widget-view+json": {
       "model_id": "a2348e8c6b544aa594bbb8a991a4e970",
       "version_major": 2,
       "version_minor": 0
      },
      "text/plain": [
       "interactive(children=(RadioButtons(description='source', options=('Post-Processed', 'Merged', 'Not Merged'), v…"
      ]
     },
     "metadata": {},
     "output_type": "display_data"
    },
    {
     "name": "stdout",
     "output_type": "stream",
     "text": [
      "Audience\n"
     ]
    },
    {
     "data": {
      "application/vnd.jupyter.widget-view+json": {
       "model_id": "0f03edad0eed47dc8049ec74e712b06d",
       "version_major": 2,
       "version_minor": 0
      },
      "text/plain": [
       "interactive(children=(RadioButtons(description='source', options=('Post-Processed', 'Merged', 'Not Merged'), v…"
      ]
     },
     "metadata": {},
     "output_type": "display_data"
    },
    {
     "name": "stdout",
     "output_type": "stream",
     "text": [
      "Auditorium\n"
     ]
    },
    {
     "data": {
      "application/vnd.jupyter.widget-view+json": {
       "model_id": "f7f048c7ea99483f94e780185e34ede6",
       "version_major": 2,
       "version_minor": 0
      },
      "text/plain": [
       "interactive(children=(RadioButtons(description='source', options=('Post-Processed', 'Merged', 'Not Merged'), v…"
      ]
     },
     "metadata": {},
     "output_type": "display_data"
    },
    {
     "name": "stdout",
     "output_type": "stream",
     "text": [
      "Auto part\n"
     ]
    },
    {
     "data": {
      "application/vnd.jupyter.widget-view+json": {
       "model_id": "a2832cb16dee4fab83d51ea65b4c351e",
       "version_major": 2,
       "version_minor": 0
      },
      "text/plain": [
       "interactive(children=(RadioButtons(description='source', options=('Post-Processed', 'Merged', 'Not Merged'), v…"
      ]
     },
     "metadata": {},
     "output_type": "display_data"
    },
    {
     "name": "stdout",
     "output_type": "stream",
     "text": [
      "Badge\n"
     ]
    },
    {
     "data": {
      "application/vnd.jupyter.widget-view+json": {
       "model_id": "1833387c25df4cc2a32b346f84a1bdda",
       "version_major": 2,
       "version_minor": 0
      },
      "text/plain": [
       "interactive(children=(RadioButtons(description='source', options=('Post-Processed', 'Merged', 'Not Merged'), v…"
      ]
     },
     "metadata": {},
     "output_type": "display_data"
    },
    {
     "name": "stdout",
     "output_type": "stream",
     "text": [
      "Ballistic vest\n"
     ]
    },
    {
     "data": {
      "application/vnd.jupyter.widget-view+json": {
       "model_id": "4b3c51b990b4412cb4c68f770b54c148",
       "version_major": 2,
       "version_minor": 0
      },
      "text/plain": [
       "interactive(children=(RadioButtons(description='source', options=('Post-Processed', 'Merged', 'Not Merged'), v…"
      ]
     },
     "metadata": {},
     "output_type": "display_data"
    },
    {
     "name": "stdout",
     "output_type": "stream",
     "text": [
      "Bicycle\n"
     ]
    },
    {
     "data": {
      "application/vnd.jupyter.widget-view+json": {
       "model_id": "10c73a1ba3fc4f459961066350b09cb8",
       "version_major": 2,
       "version_minor": 0
      },
      "text/plain": [
       "interactive(children=(RadioButtons(description='source', options=('Post-Processed', 'Merged', 'Not Merged'), v…"
      ]
     },
     "metadata": {},
     "output_type": "display_data"
    },
    {
     "name": "stdout",
     "output_type": "stream",
     "text": [
      "Billboard\n"
     ]
    },
    {
     "data": {
      "application/vnd.jupyter.widget-view+json": {
       "model_id": "e1576696db524f778dcfe9668e016480",
       "version_major": 2,
       "version_minor": 0
      },
      "text/plain": [
       "interactive(children=(RadioButtons(description='source', options=('Post-Processed', 'Merged', 'Not Merged'), v…"
      ]
     },
     "metadata": {},
     "output_type": "display_data"
    },
    {
     "name": "stdout",
     "output_type": "stream",
     "text": [
      "Boat\n"
     ]
    },
    {
     "data": {
      "application/vnd.jupyter.widget-view+json": {
       "model_id": "3e78b3444a494341a584fadd16e6ada0",
       "version_major": 2,
       "version_minor": 0
      },
      "text/plain": [
       "interactive(children=(RadioButtons(description='source', options=('Post-Processed', 'Merged', 'Not Merged'), v…"
      ]
     },
     "metadata": {},
     "output_type": "display_data"
    },
    {
     "name": "stdout",
     "output_type": "stream",
     "text": [
      "Bomb\n"
     ]
    },
    {
     "data": {
      "application/vnd.jupyter.widget-view+json": {
       "model_id": "6c8a533331d14953858fb5d68ccf5ad4",
       "version_major": 2,
       "version_minor": 0
      },
      "text/plain": [
       "interactive(children=(RadioButtons(description='source', options=('Post-Processed', 'Merged', 'Not Merged'), v…"
      ]
     },
     "metadata": {},
     "output_type": "display_data"
    },
    {
     "name": "stdout",
     "output_type": "stream",
     "text": [
      "Boy\n"
     ]
    },
    {
     "data": {
      "application/vnd.jupyter.widget-view+json": {
       "model_id": "6b0c477d6a594e57a5f8cef67bc95bd2",
       "version_major": 2,
       "version_minor": 0
      },
      "text/plain": [
       "interactive(children=(RadioButtons(description='source', options=('Post-Processed', 'Merged', 'Not Merged'), v…"
      ]
     },
     "metadata": {},
     "output_type": "display_data"
    },
    {
     "name": "stdout",
     "output_type": "stream",
     "text": [
      "Bride\n"
     ]
    },
    {
     "data": {
      "application/vnd.jupyter.widget-view+json": {
       "model_id": "7b30a717af934c678cf3d8d1625f2f57",
       "version_major": 2,
       "version_minor": 0
      },
      "text/plain": [
       "interactive(children=(RadioButtons(description='source', options=('Post-Processed', 'Merged', 'Not Merged'), v…"
      ]
     },
     "metadata": {},
     "output_type": "display_data"
    },
    {
     "name": "stdout",
     "output_type": "stream",
     "text": [
      "Bridge\n"
     ]
    },
    {
     "data": {
      "application/vnd.jupyter.widget-view+json": {
       "model_id": "58cf6c1e1053421ab86e38dc701da072",
       "version_major": 2,
       "version_minor": 0
      },
      "text/plain": [
       "interactive(children=(RadioButtons(description='source', options=('Post-Processed', 'Merged', 'Not Merged'), v…"
      ]
     },
     "metadata": {},
     "output_type": "display_data"
    },
    {
     "name": "stdout",
     "output_type": "stream",
     "text": [
      "Bronze sculpture\n"
     ]
    },
    {
     "data": {
      "application/vnd.jupyter.widget-view+json": {
       "model_id": "d577496ee4bb4eb89db0bf0de6bd1c67",
       "version_major": 2,
       "version_minor": 0
      },
      "text/plain": [
       "interactive(children=(RadioButtons(description='source', options=('Post-Processed', 'Merged', 'Not Merged'), v…"
      ]
     },
     "metadata": {},
     "output_type": "display_data"
    },
    {
     "name": "stdout",
     "output_type": "stream",
     "text": [
      "Building\n"
     ]
    },
    {
     "data": {
      "application/vnd.jupyter.widget-view+json": {
       "model_id": "1f448252439f431096dc357c48f8176d",
       "version_major": 2,
       "version_minor": 0
      },
      "text/plain": [
       "interactive(children=(RadioButtons(description='source', options=('Post-Processed', 'Merged', 'Not Merged'), v…"
      ]
     },
     "metadata": {},
     "output_type": "display_data"
    },
    {
     "name": "stdout",
     "output_type": "stream",
     "text": [
      "Bus\n"
     ]
    },
    {
     "data": {
      "application/vnd.jupyter.widget-view+json": {
       "model_id": "a60593e28c3a4769acb68cb386f6db3a",
       "version_major": 2,
       "version_minor": 0
      },
      "text/plain": [
       "interactive(children=(RadioButtons(description='source', options=('Post-Processed', 'Merged', 'Not Merged'), v…"
      ]
     },
     "metadata": {},
     "output_type": "display_data"
    },
    {
     "name": "stdout",
     "output_type": "stream",
     "text": [
      "Bus stop\n"
     ]
    },
    {
     "data": {
      "application/vnd.jupyter.widget-view+json": {
       "model_id": "28b03202cd9f440aac0742b680a51ce5",
       "version_major": 2,
       "version_minor": 0
      },
      "text/plain": [
       "interactive(children=(RadioButtons(description='source', options=('Post-Processed', 'Merged', 'Not Merged'), v…"
      ]
     },
     "metadata": {},
     "output_type": "display_data"
    },
    {
     "name": "stdout",
     "output_type": "stream",
     "text": [
      "Businessperson\n"
     ]
    },
    {
     "data": {
      "application/vnd.jupyter.widget-view+json": {
       "model_id": "5d616a3fa3314775b215e7b3b3439d19",
       "version_major": 2,
       "version_minor": 0
      },
      "text/plain": [
       "interactive(children=(RadioButtons(description='source', options=('Post-Processed', 'Merged', 'Not Merged'), v…"
      ]
     },
     "metadata": {},
     "output_type": "display_data"
    },
    {
     "name": "stdout",
     "output_type": "stream",
     "text": [
      "Camera\n"
     ]
    },
    {
     "data": {
      "application/vnd.jupyter.widget-view+json": {
       "model_id": "67ec46f09179471f8b62351cd7ffac5b",
       "version_major": 2,
       "version_minor": 0
      },
      "text/plain": [
       "interactive(children=(RadioButtons(description='source', options=('Post-Processed', 'Merged', 'Not Merged'), v…"
      ]
     },
     "metadata": {},
     "output_type": "display_data"
    },
    {
     "name": "stdout",
     "output_type": "stream",
     "text": [
      "Cannon\n"
     ]
    },
    {
     "data": {
      "application/vnd.jupyter.widget-view+json": {
       "model_id": "4b507f0201b8431d9416888c2d3ea301",
       "version_major": 2,
       "version_minor": 0
      },
      "text/plain": [
       "interactive(children=(RadioButtons(description='source', options=('Post-Processed', 'Merged', 'Not Merged'), v…"
      ]
     },
     "metadata": {},
     "output_type": "display_data"
    },
    {
     "name": "stdout",
     "output_type": "stream",
     "text": [
      "Car\n"
     ]
    },
    {
     "data": {
      "application/vnd.jupyter.widget-view+json": {
       "model_id": "d9d69a415f384721849d6ac0a229c96a",
       "version_major": 2,
       "version_minor": 0
      },
      "text/plain": [
       "interactive(children=(RadioButtons(description='source', options=('Post-Processed', 'Merged', 'Not Merged'), v…"
      ]
     },
     "metadata": {},
     "output_type": "display_data"
    },
    {
     "name": "stdout",
     "output_type": "stream",
     "text": [
      "Cash\n"
     ]
    },
    {
     "data": {
      "application/vnd.jupyter.widget-view+json": {
       "model_id": "4a0114ee145a4a9c8c0e3a4f60cc7074",
       "version_major": 2,
       "version_minor": 0
      },
      "text/plain": [
       "interactive(children=(RadioButtons(description='source', options=('Post-Processed', 'Merged', 'Not Merged'), v…"
      ]
     },
     "metadata": {},
     "output_type": "display_data"
    },
    {
     "name": "stdout",
     "output_type": "stream",
     "text": [
      "Castle\n"
     ]
    },
    {
     "data": {
      "application/vnd.jupyter.widget-view+json": {
       "model_id": "57cd80228e0645dc84a4ae195561118b",
       "version_major": 2,
       "version_minor": 0
      },
      "text/plain": [
       "interactive(children=(RadioButtons(description='source', options=('Post-Processed', 'Merged', 'Not Merged'), v…"
      ]
     },
     "metadata": {},
     "output_type": "display_data"
    },
    {
     "name": "stdout",
     "output_type": "stream",
     "text": [
      "Cemetery\n"
     ]
    },
    {
     "data": {
      "application/vnd.jupyter.widget-view+json": {
       "model_id": "78ece8dc7c04405c85e4699ef1de3e40",
       "version_major": 2,
       "version_minor": 0
      },
      "text/plain": [
       "interactive(children=(RadioButtons(description='source', options=('Post-Processed', 'Merged', 'Not Merged'), v…"
      ]
     },
     "metadata": {},
     "output_type": "display_data"
    },
    {
     "name": "stdout",
     "output_type": "stream",
     "text": [
      "Child\n"
     ]
    },
    {
     "data": {
      "application/vnd.jupyter.widget-view+json": {
       "model_id": "ea277dd230f74ae9ac785994a02abe9a",
       "version_major": 2,
       "version_minor": 0
      },
      "text/plain": [
       "interactive(children=(RadioButtons(description='source', options=('Post-Processed', 'Merged', 'Not Merged'), v…"
      ]
     },
     "metadata": {},
     "output_type": "display_data"
    },
    {
     "name": "stdout",
     "output_type": "stream",
     "text": [
      "City\n"
     ]
    },
    {
     "data": {
      "application/vnd.jupyter.widget-view+json": {
       "model_id": "cdb6cfc3f49e401f89cf829d5d946d91",
       "version_major": 2,
       "version_minor": 0
      },
      "text/plain": [
       "interactive(children=(RadioButtons(description='source', options=('Post-Processed', 'Merged', 'Not Merged'), v…"
      ]
     },
     "metadata": {},
     "output_type": "display_data"
    },
    {
     "name": "stdout",
     "output_type": "stream",
     "text": [
      "Combat vehicle\n"
     ]
    },
    {
     "data": {
      "application/vnd.jupyter.widget-view+json": {
       "model_id": "f2a0893be9f94706b5d08df6035e57e8",
       "version_major": 2,
       "version_minor": 0
      },
      "text/plain": [
       "interactive(children=(RadioButtons(description='source', options=('Post-Processed', 'Merged', 'Not Merged'), v…"
      ]
     },
     "metadata": {},
     "output_type": "display_data"
    },
    {
     "name": "stdout",
     "output_type": "stream",
     "text": [
      "Computer\n"
     ]
    },
    {
     "data": {
      "application/vnd.jupyter.widget-view+json": {
       "model_id": "2ade65551a164c2b827148d93d3e534c",
       "version_major": 2,
       "version_minor": 0
      },
      "text/plain": [
       "interactive(children=(RadioButtons(description='source', options=('Post-Processed', 'Merged', 'Not Merged'), v…"
      ]
     },
     "metadata": {},
     "output_type": "display_data"
    },
    {
     "name": "stdout",
     "output_type": "stream",
     "text": [
      "Conference hall\n"
     ]
    },
    {
     "data": {
      "application/vnd.jupyter.widget-view+json": {
       "model_id": "966ba4a5a9414d5e8356546d87ea51da",
       "version_major": 2,
       "version_minor": 0
      },
      "text/plain": [
       "interactive(children=(RadioButtons(description='source', options=('Post-Processed', 'Merged', 'Not Merged'), v…"
      ]
     },
     "metadata": {},
     "output_type": "display_data"
    },
    {
     "name": "stdout",
     "output_type": "stream",
     "text": [
      "Convenience store\n"
     ]
    },
    {
     "data": {
      "application/vnd.jupyter.widget-view+json": {
       "model_id": "1b5d5794d387407f9cd9438b19edb128",
       "version_major": 2,
       "version_minor": 0
      },
      "text/plain": [
       "interactive(children=(RadioButtons(description='source', options=('Post-Processed', 'Merged', 'Not Merged'), v…"
      ]
     },
     "metadata": {},
     "output_type": "display_data"
    },
    {
     "name": "stdout",
     "output_type": "stream",
     "text": [
      "Crew\n"
     ]
    },
    {
     "data": {
      "application/vnd.jupyter.widget-view+json": {
       "model_id": "d2cd008c000646078cdcbe2372b0c513",
       "version_major": 2,
       "version_minor": 0
      },
      "text/plain": [
       "interactive(children=(RadioButtons(description='source', options=('Post-Processed', 'Merged', 'Not Merged'), v…"
      ]
     },
     "metadata": {},
     "output_type": "display_data"
    },
    {
     "name": "stdout",
     "output_type": "stream",
     "text": [
      "Crowd\n"
     ]
    },
    {
     "data": {
      "application/vnd.jupyter.widget-view+json": {
       "model_id": "7d77a55812f04348b43dc149cda9e620",
       "version_major": 2,
       "version_minor": 0
      },
      "text/plain": [
       "interactive(children=(RadioButtons(description='source', options=('Post-Processed', 'Merged', 'Not Merged'), v…"
      ]
     },
     "metadata": {},
     "output_type": "display_data"
    },
    {
     "name": "stdout",
     "output_type": "stream",
     "text": [
      "Dispatcher\n"
     ]
    },
    {
     "data": {
      "application/vnd.jupyter.widget-view+json": {
       "model_id": "4ea46f8dc6d440a08afbe541af604d62",
       "version_major": 2,
       "version_minor": 0
      },
      "text/plain": [
       "interactive(children=(RadioButtons(description='source', options=('Post-Processed', 'Merged', 'Not Merged'), v…"
      ]
     },
     "metadata": {},
     "output_type": "display_data"
    },
    {
     "name": "stdout",
     "output_type": "stream",
     "text": [
      "Dog\n"
     ]
    },
    {
     "data": {
      "application/vnd.jupyter.widget-view+json": {
       "model_id": "3c7051357c0148eda1b27ed92640a695",
       "version_major": 2,
       "version_minor": 0
      },
      "text/plain": [
       "interactive(children=(RadioButtons(description='source', options=('Post-Processed', 'Merged', 'Not Merged'), v…"
      ]
     },
     "metadata": {},
     "output_type": "display_data"
    },
    {
     "name": "stdout",
     "output_type": "stream",
     "text": [
      "Electronic device\n"
     ]
    },
    {
     "data": {
      "application/vnd.jupyter.widget-view+json": {
       "model_id": "51426eb8b471493ca571ad6b49e5116a",
       "version_major": 2,
       "version_minor": 0
      },
      "text/plain": [
       "interactive(children=(RadioButtons(description='source', options=('Post-Processed', 'Merged', 'Not Merged'), v…"
      ]
     },
     "metadata": {},
     "output_type": "display_data"
    },
    {
     "name": "stdout",
     "output_type": "stream",
     "text": [
      "Emblem\n"
     ]
    },
    {
     "data": {
      "application/vnd.jupyter.widget-view+json": {
       "model_id": "8d9c9d9bc44c475a88780fb94ba36b9b",
       "version_major": 2,
       "version_minor": 0
      },
      "text/plain": [
       "interactive(children=(RadioButtons(description='source', options=('Post-Processed', 'Merged', 'Not Merged'), v…"
      ]
     },
     "metadata": {},
     "output_type": "display_data"
    },
    {
     "name": "stdout",
     "output_type": "stream",
     "text": [
      "Estate\n"
     ]
    },
    {
     "data": {
      "application/vnd.jupyter.widget-view+json": {
       "model_id": "0605f5d50e7f4ac2a761709ed3c43762",
       "version_major": 2,
       "version_minor": 0
      },
      "text/plain": [
       "interactive(children=(RadioButtons(description='source', options=('Post-Processed', 'Merged', 'Not Merged'), v…"
      ]
     },
     "metadata": {},
     "output_type": "display_data"
    },
    {
     "name": "stdout",
     "output_type": "stream",
     "text": [
      "Explosive material\n"
     ]
    },
    {
     "data": {
      "application/vnd.jupyter.widget-view+json": {
       "model_id": "f3b275bd40614505b8e46537a9d61ec9",
       "version_major": 2,
       "version_minor": 0
      },
      "text/plain": [
       "interactive(children=(RadioButtons(description='source', options=('Post-Processed', 'Merged', 'Not Merged'), v…"
      ]
     },
     "metadata": {},
     "output_type": "display_data"
    },
    {
     "name": "stdout",
     "output_type": "stream",
     "text": [
      "Fence\n"
     ]
    },
    {
     "data": {
      "application/vnd.jupyter.widget-view+json": {
       "model_id": "6f1a7de936ce440ebe5b87afcaca7530",
       "version_major": 2,
       "version_minor": 0
      },
      "text/plain": [
       "interactive(children=(RadioButtons(description='source', options=('Post-Processed', 'Merged', 'Not Merged'), v…"
      ]
     },
     "metadata": {},
     "output_type": "display_data"
    },
    {
     "name": "stdout",
     "output_type": "stream",
     "text": [
      "Fighter pilot\n"
     ]
    },
    {
     "data": {
      "application/vnd.jupyter.widget-view+json": {
       "model_id": "4de02c78a0c04aab8789110764aa92a2",
       "version_major": 2,
       "version_minor": 0
      },
      "text/plain": [
       "interactive(children=(RadioButtons(description='source', options=('Post-Processed', 'Merged', 'Not Merged'), v…"
      ]
     },
     "metadata": {},
     "output_type": "display_data"
    },
    {
     "name": "stdout",
     "output_type": "stream",
     "text": [
      "Fire extinguisher\n"
     ]
    },
    {
     "data": {
      "application/vnd.jupyter.widget-view+json": {
       "model_id": "6f37ab90c81941dabea58ebdc3fa777f",
       "version_major": 2,
       "version_minor": 0
      },
      "text/plain": [
       "interactive(children=(RadioButtons(description='source', options=('Post-Processed', 'Merged', 'Not Merged'), v…"
      ]
     },
     "metadata": {},
     "output_type": "display_data"
    },
    {
     "name": "stdout",
     "output_type": "stream",
     "text": [
      "Firearm\n"
     ]
    },
    {
     "data": {
      "application/vnd.jupyter.widget-view+json": {
       "model_id": "b0a8de8e7c3a4757b90e98bcbf0ce7ae",
       "version_major": 2,
       "version_minor": 0
      },
      "text/plain": [
       "interactive(children=(RadioButtons(description='source', options=('Post-Processed', 'Merged', 'Not Merged'), v…"
      ]
     },
     "metadata": {},
     "output_type": "display_data"
    },
    {
     "name": "stdout",
     "output_type": "stream",
     "text": [
      "Firefighter\n"
     ]
    },
    {
     "data": {
      "application/vnd.jupyter.widget-view+json": {
       "model_id": "dbfecefbf5214fa6aa092797236c0cff",
       "version_major": 2,
       "version_minor": 0
      },
      "text/plain": [
       "interactive(children=(RadioButtons(description='source', options=('Post-Processed', 'Merged', 'Not Merged'), v…"
      ]
     },
     "metadata": {},
     "output_type": "display_data"
    },
    {
     "name": "stdout",
     "output_type": "stream",
     "text": [
      "Flag\n"
     ]
    },
    {
     "data": {
      "application/vnd.jupyter.widget-view+json": {
       "model_id": "56a539f5bcad49bb8f6c2faa8651bca6",
       "version_major": 2,
       "version_minor": 0
      },
      "text/plain": [
       "interactive(children=(RadioButtons(description='source', options=('Post-Processed', 'Merged', 'Not Merged'), v…"
      ]
     },
     "metadata": {},
     "output_type": "display_data"
    },
    {
     "name": "stdout",
     "output_type": "stream",
     "text": [
      "Flesh\n"
     ]
    },
    {
     "data": {
      "application/vnd.jupyter.widget-view+json": {
       "model_id": "91a208d04b4946f981accb07bc22892b",
       "version_major": 2,
       "version_minor": 0
      },
      "text/plain": [
       "interactive(children=(RadioButtons(description='source', options=('Post-Processed', 'Merged', 'Not Merged'), v…"
      ]
     },
     "metadata": {},
     "output_type": "display_data"
    },
    {
     "name": "stdout",
     "output_type": "stream",
     "text": [
      "Flight instruments\n"
     ]
    },
    {
     "data": {
      "application/vnd.jupyter.widget-view+json": {
       "model_id": "85ddbcf507d84490a32f84aca726b285",
       "version_major": 2,
       "version_minor": 0
      },
      "text/plain": [
       "interactive(children=(RadioButtons(description='source', options=('Post-Processed', 'Merged', 'Not Merged'), v…"
      ]
     },
     "metadata": {},
     "output_type": "display_data"
    },
    {
     "name": "stdout",
     "output_type": "stream",
     "text": [
      "Food\n"
     ]
    },
    {
     "data": {
      "application/vnd.jupyter.widget-view+json": {
       "model_id": "5f03374fe64a4470b3ae1214016baeec",
       "version_major": 2,
       "version_minor": 0
      },
      "text/plain": [
       "interactive(children=(RadioButtons(description='source', options=('Post-Processed', 'Merged', 'Not Merged'), v…"
      ]
     },
     "metadata": {},
     "output_type": "display_data"
    },
    {
     "name": "stdout",
     "output_type": "stream",
     "text": [
      "Furniture\n"
     ]
    },
    {
     "data": {
      "application/vnd.jupyter.widget-view+json": {
       "model_id": "c97e26b05fe948139a778a6ea63b3c52",
       "version_major": 2,
       "version_minor": 0
      },
      "text/plain": [
       "interactive(children=(RadioButtons(description='source', options=('Post-Processed', 'Merged', 'Not Merged'), v…"
      ]
     },
     "metadata": {},
     "output_type": "display_data"
    },
    {
     "name": "stdout",
     "output_type": "stream",
     "text": [
      "Girl\n"
     ]
    },
    {
     "data": {
      "application/vnd.jupyter.widget-view+json": {
       "model_id": "8be3773293904c82abf19f316457090c",
       "version_major": 2,
       "version_minor": 0
      },
      "text/plain": [
       "interactive(children=(RadioButtons(description='source', options=('Post-Processed', 'Merged', 'Not Merged'), v…"
      ]
     },
     "metadata": {},
     "output_type": "display_data"
    },
    {
     "name": "stdout",
     "output_type": "stream",
     "text": [
      "Goggles\n"
     ]
    },
    {
     "data": {
      "application/vnd.jupyter.widget-view+json": {
       "model_id": "54d0477c4a2641328011314dcc9e9dc9",
       "version_major": 2,
       "version_minor": 0
      },
      "text/plain": [
       "interactive(children=(RadioButtons(description='source', options=('Post-Processed', 'Merged', 'Not Merged'), v…"
      ]
     },
     "metadata": {},
     "output_type": "display_data"
    },
    {
     "name": "stdout",
     "output_type": "stream",
     "text": [
      "Gps navigation device\n"
     ]
    },
    {
     "data": {
      "application/vnd.jupyter.widget-view+json": {
       "model_id": "bc899e840d3c4f539a71973ba949a773",
       "version_major": 2,
       "version_minor": 0
      },
      "text/plain": [
       "interactive(children=(RadioButtons(description='source', options=('Post-Processed', 'Merged', 'Not Merged'), v…"
      ]
     },
     "metadata": {},
     "output_type": "display_data"
    },
    {
     "name": "stdout",
     "output_type": "stream",
     "text": [
      "Grave\n"
     ]
    },
    {
     "data": {
      "application/vnd.jupyter.widget-view+json": {
       "model_id": "0af83ba4f1004112a2a39f49090dee10",
       "version_major": 2,
       "version_minor": 0
      },
      "text/plain": [
       "interactive(children=(RadioButtons(description='source', options=('Post-Processed', 'Merged', 'Not Merged'), v…"
      ]
     },
     "metadata": {},
     "output_type": "display_data"
    },
    {
     "name": "stdout",
     "output_type": "stream",
     "text": [
      "Gun turret\n"
     ]
    },
    {
     "data": {
      "application/vnd.jupyter.widget-view+json": {
       "model_id": "ba6463b7a6cc47c2a78a02c3242ab4b6",
       "version_major": 2,
       "version_minor": 0
      },
      "text/plain": [
       "interactive(children=(RadioButtons(description='source', options=('Post-Processed', 'Merged', 'Not Merged'), v…"
      ]
     },
     "metadata": {},
     "output_type": "display_data"
    },
    {
     "name": "stdout",
     "output_type": "stream",
     "text": [
      "Handgun\n"
     ]
    },
    {
     "data": {
      "application/vnd.jupyter.widget-view+json": {
       "model_id": "4fb0f560c01647f2bb918776bd64f100",
       "version_major": 2,
       "version_minor": 0
      },
      "text/plain": [
       "interactive(children=(RadioButtons(description='source', options=('Post-Processed', 'Merged', 'Not Merged'), v…"
      ]
     },
     "metadata": {},
     "output_type": "display_data"
    },
    {
     "name": "stdout",
     "output_type": "stream",
     "text": [
      "Helicopter\n"
     ]
    },
    {
     "data": {
      "application/vnd.jupyter.widget-view+json": {
       "model_id": "e32ecc4de92a470da52dc766b2b0e9b9",
       "version_major": 2,
       "version_minor": 0
      },
      "text/plain": [
       "interactive(children=(RadioButtons(description='source', options=('Post-Processed', 'Merged', 'Not Merged'), v…"
      ]
     },
     "metadata": {},
     "output_type": "display_data"
    },
    {
     "name": "stdout",
     "output_type": "stream",
     "text": [
      "Helicopter pilot\n"
     ]
    },
    {
     "data": {
      "application/vnd.jupyter.widget-view+json": {
       "model_id": "42d58e8843444ae3ab7402881ad4d1c0",
       "version_major": 2,
       "version_minor": 0
      },
      "text/plain": [
       "interactive(children=(RadioButtons(description='source', options=('Post-Processed', 'Merged', 'Not Merged'), v…"
      ]
     },
     "metadata": {},
     "output_type": "display_data"
    },
    {
     "name": "stdout",
     "output_type": "stream",
     "text": [
      "Helmet\n"
     ]
    },
    {
     "data": {
      "application/vnd.jupyter.widget-view+json": {
       "model_id": "d7b553b41ef14171bfcd11cebf7c523d",
       "version_major": 2,
       "version_minor": 0
      },
      "text/plain": [
       "interactive(children=(RadioButtons(description='source', options=('Post-Processed', 'Merged', 'Not Merged'), v…"
      ]
     },
     "metadata": {},
     "output_type": "display_data"
    },
    {
     "name": "stdout",
     "output_type": "stream",
     "text": [
      "House\n"
     ]
    },
    {
     "data": {
      "application/vnd.jupyter.widget-view+json": {
       "model_id": "54c57167151a44a0a05e4199d3202cdf",
       "version_major": 2,
       "version_minor": 0
      },
      "text/plain": [
       "interactive(children=(RadioButtons(description='source', options=('Post-Processed', 'Merged', 'Not Merged'), v…"
      ]
     },
     "metadata": {},
     "output_type": "display_data"
    },
    {
     "name": "stdout",
     "output_type": "stream",
     "text": [
      "Human body\n"
     ]
    },
    {
     "data": {
      "application/vnd.jupyter.widget-view+json": {
       "model_id": "de431081542a4105823c0cf55c6430d1",
       "version_major": 2,
       "version_minor": 0
      },
      "text/plain": [
       "interactive(children=(RadioButtons(description='source', options=('Post-Processed', 'Merged', 'Not Merged'), v…"
      ]
     },
     "metadata": {},
     "output_type": "display_data"
    },
    {
     "name": "stdout",
     "output_type": "stream",
     "text": [
      "Human face\n"
     ]
    },
    {
     "data": {
      "application/vnd.jupyter.widget-view+json": {
       "model_id": "63228cb6e0de461498e1c0d9de8b9d74",
       "version_major": 2,
       "version_minor": 0
      },
      "text/plain": [
       "interactive(children=(RadioButtons(description='source', options=('Post-Processed', 'Merged', 'Not Merged'), v…"
      ]
     },
     "metadata": {},
     "output_type": "display_data"
    },
    {
     "name": "stdout",
     "output_type": "stream",
     "text": [
      "Human head\n"
     ]
    },
    {
     "data": {
      "application/vnd.jupyter.widget-view+json": {
       "model_id": "b9e5116cb2bc464abcff4f6456aabfc1",
       "version_major": 2,
       "version_minor": 0
      },
      "text/plain": [
       "interactive(children=(RadioButtons(description='source', options=('Post-Processed', 'Merged', 'Not Merged'), v…"
      ]
     },
     "metadata": {},
     "output_type": "display_data"
    },
    {
     "name": "stdout",
     "output_type": "stream",
     "text": [
      "Jet engine\n"
     ]
    },
    {
     "data": {
      "application/vnd.jupyter.widget-view+json": {
       "model_id": "d848a8d9d7ca4dd1997936f134c245c1",
       "version_major": 2,
       "version_minor": 0
      },
      "text/plain": [
       "interactive(children=(RadioButtons(description='source', options=('Post-Processed', 'Merged', 'Not Merged'), v…"
      ]
     },
     "metadata": {},
     "output_type": "display_data"
    },
    {
     "name": "stdout",
     "output_type": "stream",
     "text": [
      "Knife\n"
     ]
    },
    {
     "data": {
      "application/vnd.jupyter.widget-view+json": {
       "model_id": "c2fff40bab2149ef83fe16e36cdb34aa",
       "version_major": 2,
       "version_minor": 0
      },
      "text/plain": [
       "interactive(children=(RadioButtons(description='source', options=('Post-Processed', 'Merged', 'Not Merged'), v…"
      ]
     },
     "metadata": {},
     "output_type": "display_data"
    },
    {
     "name": "stdout",
     "output_type": "stream",
     "text": [
      "Land vehicle\n"
     ]
    },
    {
     "data": {
      "application/vnd.jupyter.widget-view+json": {
       "model_id": "7a75ed93fa384a92ad9bb1822008ddca",
       "version_major": 2,
       "version_minor": 0
      },
      "text/plain": [
       "interactive(children=(RadioButtons(description='source', options=('Post-Processed', 'Merged', 'Not Merged'), v…"
      ]
     },
     "metadata": {},
     "output_type": "display_data"
    },
    {
     "name": "stdout",
     "output_type": "stream",
     "text": [
      "Laptop\n"
     ]
    },
    {
     "data": {
      "application/vnd.jupyter.widget-view+json": {
       "model_id": "f71ff6493d854a75ab9f531eb21ee9e4",
       "version_major": 2,
       "version_minor": 0
      },
      "text/plain": [
       "interactive(children=(RadioButtons(description='source', options=('Post-Processed', 'Merged', 'Not Merged'), v…"
      ]
     },
     "metadata": {},
     "output_type": "display_data"
    },
    {
     "name": "stdout",
     "output_type": "stream",
     "text": [
      "Lectern\n"
     ]
    },
    {
     "data": {
      "application/vnd.jupyter.widget-view+json": {
       "model_id": "ae5f7b206db04749aa3ef9bbf13eaba3",
       "version_major": 2,
       "version_minor": 0
      },
      "text/plain": [
       "interactive(children=(RadioButtons(description='source', options=('Post-Processed', 'Merged', 'Not Merged'), v…"
      ]
     },
     "metadata": {},
     "output_type": "display_data"
    },
    {
     "name": "stdout",
     "output_type": "stream",
     "text": [
      "Lifejacket\n"
     ]
    },
    {
     "data": {
      "application/vnd.jupyter.widget-view+json": {
       "model_id": "db19d9cebcab424dadf286dd324634ea",
       "version_major": 2,
       "version_minor": 0
      },
      "text/plain": [
       "interactive(children=(RadioButtons(description='source', options=('Post-Processed', 'Merged', 'Not Merged'), v…"
      ]
     },
     "metadata": {},
     "output_type": "display_data"
    },
    {
     "name": "stdout",
     "output_type": "stream",
     "text": [
      "Lighthouse\n"
     ]
    },
    {
     "data": {
      "application/vnd.jupyter.widget-view+json": {
       "model_id": "1e523794a4c748deb8cb8ff554af42cd",
       "version_major": 2,
       "version_minor": 0
      },
      "text/plain": [
       "interactive(children=(RadioButtons(description='source', options=('Post-Processed', 'Merged', 'Not Merged'), v…"
      ]
     },
     "metadata": {},
     "output_type": "display_data"
    },
    {
     "name": "stdout",
     "output_type": "stream",
     "text": [
      "Logo\n"
     ]
    },
    {
     "data": {
      "application/vnd.jupyter.widget-view+json": {
       "model_id": "d329fea1e4484303aa101f5ab6eaff02",
       "version_major": 2,
       "version_minor": 0
      },
      "text/plain": [
       "interactive(children=(RadioButtons(description='source', options=('Post-Processed', 'Merged', 'Not Merged'), v…"
      ]
     },
     "metadata": {},
     "output_type": "display_data"
    },
    {
     "name": "stdout",
     "output_type": "stream",
     "text": [
      "Luggage and bags\n"
     ]
    },
    {
     "data": {
      "application/vnd.jupyter.widget-view+json": {
       "model_id": "0b83332a808d4f6d83e823c9ec6aa3cc",
       "version_major": 2,
       "version_minor": 0
      },
      "text/plain": [
       "interactive(children=(RadioButtons(description='source', options=('Post-Processed', 'Merged', 'Not Merged'), v…"
      ]
     },
     "metadata": {},
     "output_type": "display_data"
    },
    {
     "name": "stdout",
     "output_type": "stream",
     "text": [
      "Luxury vehicle\n"
     ]
    },
    {
     "data": {
      "application/vnd.jupyter.widget-view+json": {
       "model_id": "1b0a3dd957d345dd9d63c4038537f611",
       "version_major": 2,
       "version_minor": 0
      },
      "text/plain": [
       "interactive(children=(RadioButtons(description='source', options=('Post-Processed', 'Merged', 'Not Merged'), v…"
      ]
     },
     "metadata": {},
     "output_type": "display_data"
    },
    {
     "name": "stdout",
     "output_type": "stream",
     "text": [
      "Machine\n"
     ]
    },
    {
     "data": {
      "application/vnd.jupyter.widget-view+json": {
       "model_id": "a33d231379984bc2acedda313bb41671",
       "version_major": 2,
       "version_minor": 0
      },
      "text/plain": [
       "interactive(children=(RadioButtons(description='source', options=('Post-Processed', 'Merged', 'Not Merged'), v…"
      ]
     },
     "metadata": {},
     "output_type": "display_data"
    },
    {
     "name": "stdout",
     "output_type": "stream",
     "text": [
      "Man\n"
     ]
    },
    {
     "data": {
      "application/vnd.jupyter.widget-view+json": {
       "model_id": "89f07eaa97e24a729edef6445e80d789",
       "version_major": 2,
       "version_minor": 0
      },
      "text/plain": [
       "interactive(children=(RadioButtons(description='source', options=('Post-Processed', 'Merged', 'Not Merged'), v…"
      ]
     },
     "metadata": {},
     "output_type": "display_data"
    },
    {
     "name": "stdout",
     "output_type": "stream",
     "text": [
      "Map\n"
     ]
    },
    {
     "data": {
      "application/vnd.jupyter.widget-view+json": {
       "model_id": "f925daa37c0e4fa09cd38c146e8e9757",
       "version_major": 2,
       "version_minor": 0
      },
      "text/plain": [
       "interactive(children=(RadioButtons(description='source', options=('Post-Processed', 'Merged', 'Not Merged'), v…"
      ]
     },
     "metadata": {},
     "output_type": "display_data"
    },
    {
     "name": "stdout",
     "output_type": "stream",
     "text": [
      "Medical equipment\n"
     ]
    },
    {
     "data": {
      "application/vnd.jupyter.widget-view+json": {
       "model_id": "b7f308f7ced4478ba3a7780a32257525",
       "version_major": 2,
       "version_minor": 0
      },
      "text/plain": [
       "interactive(children=(RadioButtons(description='source', options=('Post-Processed', 'Merged', 'Not Merged'), v…"
      ]
     },
     "metadata": {},
     "output_type": "display_data"
    },
    {
     "name": "stdout",
     "output_type": "stream",
     "text": [
      "Medium tactical vehicle replacement\n"
     ]
    },
    {
     "data": {
      "application/vnd.jupyter.widget-view+json": {
       "model_id": "1f3c8b7726eb4e7b8b1a00219a02b396",
       "version_major": 2,
       "version_minor": 0
      },
      "text/plain": [
       "interactive(children=(RadioButtons(description='source', options=('Post-Processed', 'Merged', 'Not Merged'), v…"
      ]
     },
     "metadata": {},
     "output_type": "display_data"
    },
    {
     "name": "stdout",
     "output_type": "stream",
     "text": [
      "Microphone\n"
     ]
    },
    {
     "data": {
      "application/vnd.jupyter.widget-view+json": {
       "model_id": "74dbe826791342a7900ad074a3f5a6da",
       "version_major": 2,
       "version_minor": 0
      },
      "text/plain": [
       "interactive(children=(RadioButtons(description='source', options=('Post-Processed', 'Merged', 'Not Merged'), v…"
      ]
     },
     "metadata": {},
     "output_type": "display_data"
    },
    {
     "name": "stdout",
     "output_type": "stream",
     "text": [
      "Military robot\n"
     ]
    },
    {
     "data": {
      "application/vnd.jupyter.widget-view+json": {
       "model_id": "61ca10cfdce64139a809cf7114061ca3",
       "version_major": 2,
       "version_minor": 0
      },
      "text/plain": [
       "interactive(children=(RadioButtons(description='source', options=('Post-Processed', 'Merged', 'Not Merged'), v…"
      ]
     },
     "metadata": {},
     "output_type": "display_data"
    },
    {
     "name": "stdout",
     "output_type": "stream",
     "text": [
      "Military vehicle\n"
     ]
    },
    {
     "data": {
      "application/vnd.jupyter.widget-view+json": {
       "model_id": "f9ed139e83de42fcb900e7c9759bcf2e",
       "version_major": 2,
       "version_minor": 0
      },
      "text/plain": [
       "interactive(children=(RadioButtons(description='source', options=('Post-Processed', 'Merged', 'Not Merged'), v…"
      ]
     },
     "metadata": {},
     "output_type": "display_data"
    },
    {
     "name": "stdout",
     "output_type": "stream",
     "text": [
      "Missile\n"
     ]
    },
    {
     "data": {
      "application/vnd.jupyter.widget-view+json": {
       "model_id": "4a17e67b21e34eddb756b5591123532c",
       "version_major": 2,
       "version_minor": 0
      },
      "text/plain": [
       "interactive(children=(RadioButtons(description='source', options=('Post-Processed', 'Merged', 'Not Merged'), v…"
      ]
     },
     "metadata": {},
     "output_type": "display_data"
    },
    {
     "name": "stdout",
     "output_type": "stream",
     "text": [
      "Mobile phone\n"
     ]
    },
    {
     "data": {
      "application/vnd.jupyter.widget-view+json": {
       "model_id": "a9ac91d6b3724eacb46b1e876e8a5c93",
       "version_major": 2,
       "version_minor": 0
      },
      "text/plain": [
       "interactive(children=(RadioButtons(description='source', options=('Post-Processed', 'Merged', 'Not Merged'), v…"
      ]
     },
     "metadata": {},
     "output_type": "display_data"
    },
    {
     "name": "stdout",
     "output_type": "stream",
     "text": [
      "Money\n"
     ]
    },
    {
     "data": {
      "application/vnd.jupyter.widget-view+json": {
       "model_id": "92d114f7b8c040eb95f5481f28798e99",
       "version_major": 2,
       "version_minor": 0
      },
      "text/plain": [
       "interactive(children=(RadioButtons(description='source', options=('Post-Processed', 'Merged', 'Not Merged'), v…"
      ]
     },
     "metadata": {},
     "output_type": "display_data"
    },
    {
     "name": "stdout",
     "output_type": "stream",
     "text": [
      "Monument\n"
     ]
    },
    {
     "data": {
      "application/vnd.jupyter.widget-view+json": {
       "model_id": "0fafb875d48240bc9b32ef9d560b6004",
       "version_major": 2,
       "version_minor": 0
      },
      "text/plain": [
       "interactive(children=(RadioButtons(description='source', options=('Post-Processed', 'Merged', 'Not Merged'), v…"
      ]
     },
     "metadata": {},
     "output_type": "display_data"
    },
    {
     "name": "stdout",
     "output_type": "stream",
     "text": [
      "Mortar\n"
     ]
    },
    {
     "data": {
      "application/vnd.jupyter.widget-view+json": {
       "model_id": "a106c92a67044611ba9df64520a4925f",
       "version_major": 2,
       "version_minor": 0
      },
      "text/plain": [
       "interactive(children=(RadioButtons(description='source', options=('Post-Processed', 'Merged', 'Not Merged'), v…"
      ]
     },
     "metadata": {},
     "output_type": "display_data"
    },
    {
     "name": "stdout",
     "output_type": "stream",
     "text": [
      "Motorcycle\n"
     ]
    },
    {
     "data": {
      "application/vnd.jupyter.widget-view+json": {
       "model_id": "ddf77bb5af7a4288816cf18a88125511",
       "version_major": 2,
       "version_minor": 0
      },
      "text/plain": [
       "interactive(children=(RadioButtons(description='source', options=('Post-Processed', 'Merged', 'Not Merged'), v…"
      ]
     },
     "metadata": {},
     "output_type": "display_data"
    },
    {
     "name": "stdout",
     "output_type": "stream",
     "text": [
      "Office building\n"
     ]
    },
    {
     "data": {
      "application/vnd.jupyter.widget-view+json": {
       "model_id": "7ebdef46d5c14e40b82b5695607fb3e3",
       "version_major": 2,
       "version_minor": 0
      },
      "text/plain": [
       "interactive(children=(RadioButtons(description='source', options=('Post-Processed', 'Merged', 'Not Merged'), v…"
      ]
     },
     "metadata": {},
     "output_type": "display_data"
    },
    {
     "name": "stdout",
     "output_type": "stream",
     "text": [
      "Official\n"
     ]
    },
    {
     "data": {
      "application/vnd.jupyter.widget-view+json": {
       "model_id": "42045592a0454142ab063f18488dcec7",
       "version_major": 2,
       "version_minor": 0
      },
      "text/plain": [
       "interactive(children=(RadioButtons(description='source', options=('Post-Processed', 'Merged', 'Not Merged'), v…"
      ]
     },
     "metadata": {},
     "output_type": "display_data"
    },
    {
     "name": "stdout",
     "output_type": "stream",
     "text": [
      "Orator\n"
     ]
    },
    {
     "data": {
      "application/vnd.jupyter.widget-view+json": {
       "model_id": "c5f3f2acdc824e99b54b6df0b642de3b",
       "version_major": 2,
       "version_minor": 0
      },
      "text/plain": [
       "interactive(children=(RadioButtons(description='source', options=('Post-Processed', 'Merged', 'Not Merged'), v…"
      ]
     },
     "metadata": {},
     "output_type": "display_data"
    },
    {
     "name": "stdout",
     "output_type": "stream",
     "text": [
      "People\n"
     ]
    },
    {
     "data": {
      "application/vnd.jupyter.widget-view+json": {
       "model_id": "7d6e3d0edf924de7b005692336dc122b",
       "version_major": 2,
       "version_minor": 0
      },
      "text/plain": [
       "interactive(children=(RadioButtons(description='source', options=('Post-Processed', 'Merged', 'Not Merged'), v…"
      ]
     },
     "metadata": {},
     "output_type": "display_data"
    },
    {
     "name": "stdout",
     "output_type": "stream",
     "text": [
      "Person\n"
     ]
    },
    {
     "data": {
      "application/vnd.jupyter.widget-view+json": {
       "model_id": "48f3ba8bbf6942beabaa8dc4239191d9",
       "version_major": 2,
       "version_minor": 0
      },
      "text/plain": [
       "interactive(children=(RadioButtons(description='source', options=('Post-Processed', 'Merged', 'Not Merged'), v…"
      ]
     },
     "metadata": {},
     "output_type": "display_data"
    },
    {
     "name": "stdout",
     "output_type": "stream",
     "text": [
      "Plant\n"
     ]
    },
    {
     "data": {
      "application/vnd.jupyter.widget-view+json": {
       "model_id": "604e9dde32594b82a0e6217428f7bc99",
       "version_major": 2,
       "version_minor": 0
      },
      "text/plain": [
       "interactive(children=(RadioButtons(description='source', options=('Post-Processed', 'Merged', 'Not Merged'), v…"
      ]
     },
     "metadata": {},
     "output_type": "display_data"
    },
    {
     "name": "stdout",
     "output_type": "stream",
     "text": [
      "Plaza\n"
     ]
    },
    {
     "data": {
      "application/vnd.jupyter.widget-view+json": {
       "model_id": "28b8e3695fb6448ea9ec0ecfa4caccb8",
       "version_major": 2,
       "version_minor": 0
      },
      "text/plain": [
       "interactive(children=(RadioButtons(description='source', options=('Post-Processed', 'Merged', 'Not Merged'), v…"
      ]
     },
     "metadata": {},
     "output_type": "display_data"
    },
    {
     "name": "stdout",
     "output_type": "stream",
     "text": [
      "Podium\n"
     ]
    },
    {
     "data": {
      "application/vnd.jupyter.widget-view+json": {
       "model_id": "3cfc88ea148c4788a8bb489c0d302528",
       "version_major": 2,
       "version_minor": 0
      },
      "text/plain": [
       "interactive(children=(RadioButtons(description='source', options=('Post-Processed', 'Merged', 'Not Merged'), v…"
      ]
     },
     "metadata": {},
     "output_type": "display_data"
    },
    {
     "name": "stdout",
     "output_type": "stream",
     "text": [
      "Police dog\n"
     ]
    },
    {
     "data": {
      "application/vnd.jupyter.widget-view+json": {
       "model_id": "0e7d73699f1b4db3aba0601b722abb69",
       "version_major": 2,
       "version_minor": 0
      },
      "text/plain": [
       "interactive(children=(RadioButtons(description='source', options=('Post-Processed', 'Merged', 'Not Merged'), v…"
      ]
     },
     "metadata": {},
     "output_type": "display_data"
    },
    {
     "name": "stdout",
     "output_type": "stream",
     "text": [
      "Poster\n"
     ]
    },
    {
     "data": {
      "application/vnd.jupyter.widget-view+json": {
       "model_id": "7c62c04857b240dd928a6c5123638d7c",
       "version_major": 2,
       "version_minor": 0
      },
      "text/plain": [
       "interactive(children=(RadioButtons(description='source', options=('Post-Processed', 'Merged', 'Not Merged'), v…"
      ]
     },
     "metadata": {},
     "output_type": "display_data"
    },
    {
     "name": "stdout",
     "output_type": "stream",
     "text": [
      "Property\n"
     ]
    },
    {
     "data": {
      "application/vnd.jupyter.widget-view+json": {
       "model_id": "1f8b770445a74fa0b82892b19a3ecfe2",
       "version_major": 2,
       "version_minor": 0
      },
      "text/plain": [
       "interactive(children=(RadioButtons(description='source', options=('Post-Processed', 'Merged', 'Not Merged'), v…"
      ]
     },
     "metadata": {},
     "output_type": "display_data"
    },
    {
     "name": "stdout",
     "output_type": "stream",
     "text": [
      "Railway\n"
     ]
    },
    {
     "data": {
      "application/vnd.jupyter.widget-view+json": {
       "model_id": "c6430f79d8e94d819d55bba03d369f2f",
       "version_major": 2,
       "version_minor": 0
      },
      "text/plain": [
       "interactive(children=(RadioButtons(description='source', options=('Post-Processed', 'Merged', 'Not Merged'), v…"
      ]
     },
     "metadata": {},
     "output_type": "display_data"
    },
    {
     "name": "stdout",
     "output_type": "stream",
     "text": [
      "Rifle\n"
     ]
    },
    {
     "data": {
      "application/vnd.jupyter.widget-view+json": {
       "model_id": "72d475a23b9c43c084178b2768e8d39c",
       "version_major": 2,
       "version_minor": 0
      },
      "text/plain": [
       "interactive(children=(RadioButtons(description='source', options=('Post-Processed', 'Merged', 'Not Merged'), v…"
      ]
     },
     "metadata": {},
     "output_type": "display_data"
    },
    {
     "name": "stdout",
     "output_type": "stream",
     "text": [
      "Road\n"
     ]
    },
    {
     "data": {
      "application/vnd.jupyter.widget-view+json": {
       "model_id": "7c49bf3999d84c78be4e520051889693",
       "version_major": 2,
       "version_minor": 0
      },
      "text/plain": [
       "interactive(children=(RadioButtons(description='source', options=('Post-Processed', 'Merged', 'Not Merged'), v…"
      ]
     },
     "metadata": {},
     "output_type": "display_data"
    },
    {
     "name": "stdout",
     "output_type": "stream",
     "text": [
      "Rocket\n"
     ]
    },
    {
     "data": {
      "application/vnd.jupyter.widget-view+json": {
       "model_id": "afdfd8d2ff1448e193da5593a3a92e9b",
       "version_major": 2,
       "version_minor": 0
      },
      "text/plain": [
       "interactive(children=(RadioButtons(description='source', options=('Post-Processed', 'Merged', 'Not Merged'), v…"
      ]
     },
     "metadata": {},
     "output_type": "display_data"
    },
    {
     "name": "stdout",
     "output_type": "stream",
     "text": [
      "Rubble\n"
     ]
    },
    {
     "data": {
      "application/vnd.jupyter.widget-view+json": {
       "model_id": "1de0d920a786483e994ed7adc5a7f0c4",
       "version_major": 2,
       "version_minor": 0
      },
      "text/plain": [
       "interactive(children=(RadioButtons(description='source', options=('Post-Processed', 'Merged', 'Not Merged'), v…"
      ]
     },
     "metadata": {},
     "output_type": "display_data"
    },
    {
     "name": "stdout",
     "output_type": "stream",
     "text": [
      "Sculpture\n"
     ]
    },
    {
     "data": {
      "application/vnd.jupyter.widget-view+json": {
       "model_id": "5682e7dbfd6d4cfbbedb74c47d46f52a",
       "version_major": 2,
       "version_minor": 0
      },
      "text/plain": [
       "interactive(children=(RadioButtons(description='source', options=('Post-Processed', 'Merged', 'Not Merged'), v…"
      ]
     },
     "metadata": {},
     "output_type": "display_data"
    },
    {
     "name": "stdout",
     "output_type": "stream",
     "text": [
      "Security\n"
     ]
    },
    {
     "data": {
      "application/vnd.jupyter.widget-view+json": {
       "model_id": "95fec15e54414fe383f5b3e01bd58cc2",
       "version_major": 2,
       "version_minor": 0
      },
      "text/plain": [
       "interactive(children=(RadioButtons(description='source', options=('Post-Processed', 'Merged', 'Not Merged'), v…"
      ]
     },
     "metadata": {},
     "output_type": "display_data"
    },
    {
     "name": "stdout",
     "output_type": "stream",
     "text": [
      "Self-propelled artillery\n"
     ]
    },
    {
     "data": {
      "application/vnd.jupyter.widget-view+json": {
       "model_id": "81e69ac9b01e4eeeb5726eadcefe5f22",
       "version_major": 2,
       "version_minor": 0
      },
      "text/plain": [
       "interactive(children=(RadioButtons(description='source', options=('Post-Processed', 'Merged', 'Not Merged'), v…"
      ]
     },
     "metadata": {},
     "output_type": "display_data"
    },
    {
     "name": "stdout",
     "output_type": "stream",
     "text": [
      "Ship\n"
     ]
    },
    {
     "data": {
      "application/vnd.jupyter.widget-view+json": {
       "model_id": "be0bbc331ff145789f28dbc7b9ae1c0c",
       "version_major": 2,
       "version_minor": 0
      },
      "text/plain": [
       "interactive(children=(RadioButtons(description='source', options=('Post-Processed', 'Merged', 'Not Merged'), v…"
      ]
     },
     "metadata": {},
     "output_type": "display_data"
    },
    {
     "name": "stdout",
     "output_type": "stream",
     "text": [
      "Shrine\n"
     ]
    },
    {
     "data": {
      "application/vnd.jupyter.widget-view+json": {
       "model_id": "7baffcc9efda44259542e2d0f8802bb8",
       "version_major": 2,
       "version_minor": 0
      },
      "text/plain": [
       "interactive(children=(RadioButtons(description='source', options=('Post-Processed', 'Merged', 'Not Merged'), v…"
      ]
     },
     "metadata": {},
     "output_type": "display_data"
    },
    {
     "name": "stdout",
     "output_type": "stream",
     "text": [
      "Skyscraper\n"
     ]
    },
    {
     "data": {
      "application/vnd.jupyter.widget-view+json": {
       "model_id": "9bb37d88347146d4a738641b8a6117da",
       "version_major": 2,
       "version_minor": 0
      },
      "text/plain": [
       "interactive(children=(RadioButtons(description='source', options=('Post-Processed', 'Merged', 'Not Merged'), v…"
      ]
     },
     "metadata": {},
     "output_type": "display_data"
    },
    {
     "name": "stdout",
     "output_type": "stream",
     "text": [
      "Smartphone\n"
     ]
    },
    {
     "data": {
      "application/vnd.jupyter.widget-view+json": {
       "model_id": "759f13f6850f4b498e318fe9f6e1ff22",
       "version_major": 2,
       "version_minor": 0
      },
      "text/plain": [
       "interactive(children=(RadioButtons(description='source', options=('Post-Processed', 'Merged', 'Not Merged'), v…"
      ]
     },
     "metadata": {},
     "output_type": "display_data"
    },
    {
     "name": "stdout",
     "output_type": "stream",
     "text": [
      "Smoke\n"
     ]
    },
    {
     "data": {
      "application/vnd.jupyter.widget-view+json": {
       "model_id": "fab5a82fe5044c2eba5f6ef0deb98118",
       "version_major": 2,
       "version_minor": 0
      },
      "text/plain": [
       "interactive(children=(RadioButtons(description='source', options=('Post-Processed', 'Merged', 'Not Merged'), v…"
      ]
     },
     "metadata": {},
     "output_type": "display_data"
    },
    {
     "name": "stdout",
     "output_type": "stream",
     "text": [
      "Spokesperson\n"
     ]
    },
    {
     "data": {
      "application/vnd.jupyter.widget-view+json": {
       "model_id": "cdcaf64012354d0ab8364b2886513f32",
       "version_major": 2,
       "version_minor": 0
      },
      "text/plain": [
       "interactive(children=(RadioButtons(description='source', options=('Post-Processed', 'Merged', 'Not Merged'), v…"
      ]
     },
     "metadata": {},
     "output_type": "display_data"
    },
    {
     "name": "stdout",
     "output_type": "stream",
     "text": [
      "Statue\n"
     ]
    },
    {
     "data": {
      "application/vnd.jupyter.widget-view+json": {
       "model_id": "dd87ecf5a5bb4ed9a7a52d2a934c9aae",
       "version_major": 2,
       "version_minor": 0
      },
      "text/plain": [
       "interactive(children=(RadioButtons(description='source', options=('Post-Processed', 'Merged', 'Not Merged'), v…"
      ]
     },
     "metadata": {},
     "output_type": "display_data"
    },
    {
     "name": "stdout",
     "output_type": "stream",
     "text": [
      "Stealth aircraft\n"
     ]
    },
    {
     "data": {
      "application/vnd.jupyter.widget-view+json": {
       "model_id": "71cd08181e2a4a44b2283e6b306db0a0",
       "version_major": 2,
       "version_minor": 0
      },
      "text/plain": [
       "interactive(children=(RadioButtons(description='source', options=('Post-Processed', 'Merged', 'Not Merged'), v…"
      ]
     },
     "metadata": {},
     "output_type": "display_data"
    },
    {
     "name": "stdout",
     "output_type": "stream",
     "text": [
      "Tank\n"
     ]
    },
    {
     "data": {
      "application/vnd.jupyter.widget-view+json": {
       "model_id": "8dc85a12b5164e43ba95e61ada736d5b",
       "version_major": 2,
       "version_minor": 0
      },
      "text/plain": [
       "interactive(children=(RadioButtons(description='source', options=('Post-Processed', 'Merged', 'Not Merged'), v…"
      ]
     },
     "metadata": {},
     "output_type": "display_data"
    },
    {
     "name": "stdout",
     "output_type": "stream",
     "text": [
      "Telephone\n"
     ]
    },
    {
     "data": {
      "application/vnd.jupyter.widget-view+json": {
       "model_id": "a0fc8743a0b84cc1853ee033a2e57df2",
       "version_major": 2,
       "version_minor": 0
      },
      "text/plain": [
       "interactive(children=(RadioButtons(description='source', options=('Post-Processed', 'Merged', 'Not Merged'), v…"
      ]
     },
     "metadata": {},
     "output_type": "display_data"
    },
    {
     "name": "stdout",
     "output_type": "stream",
     "text": [
      "Television\n"
     ]
    },
    {
     "data": {
      "application/vnd.jupyter.widget-view+json": {
       "model_id": "f46a712854e943cb8bda92357c8cca84",
       "version_major": 2,
       "version_minor": 0
      },
      "text/plain": [
       "interactive(children=(RadioButtons(description='source', options=('Post-Processed', 'Merged', 'Not Merged'), v…"
      ]
     },
     "metadata": {},
     "output_type": "display_data"
    },
    {
     "name": "stdout",
     "output_type": "stream",
     "text": [
      "Temple\n"
     ]
    },
    {
     "data": {
      "application/vnd.jupyter.widget-view+json": {
       "model_id": "31ebd06bef9f46f3a7cfd9d8e39fbff3",
       "version_major": 2,
       "version_minor": 0
      },
      "text/plain": [
       "interactive(children=(RadioButtons(description='source', options=('Post-Processed', 'Merged', 'Not Merged'), v…"
      ]
     },
     "metadata": {},
     "output_type": "display_data"
    },
    {
     "name": "stdout",
     "output_type": "stream",
     "text": [
      "Tent\n"
     ]
    },
    {
     "data": {
      "application/vnd.jupyter.widget-view+json": {
       "model_id": "583353d42bf8405199f6385349f5c71d",
       "version_major": 2,
       "version_minor": 0
      },
      "text/plain": [
       "interactive(children=(RadioButtons(description='source', options=('Post-Processed', 'Merged', 'Not Merged'), v…"
      ]
     },
     "metadata": {},
     "output_type": "display_data"
    },
    {
     "name": "stdout",
     "output_type": "stream",
     "text": [
      "Text\n"
     ]
    },
    {
     "data": {
      "application/vnd.jupyter.widget-view+json": {
       "model_id": "edc361d518c644e4bf19f7a278f2632a",
       "version_major": 2,
       "version_minor": 0
      },
      "text/plain": [
       "interactive(children=(RadioButtons(description='source', options=('Post-Processed', 'Merged', 'Not Merged'), v…"
      ]
     },
     "metadata": {},
     "output_type": "display_data"
    },
    {
     "name": "stdout",
     "output_type": "stream",
     "text": [
      "Toddler\n"
     ]
    },
    {
     "data": {
      "application/vnd.jupyter.widget-view+json": {
       "model_id": "f177030090524737ad34e8a67bc9ac23",
       "version_major": 2,
       "version_minor": 0
      },
      "text/plain": [
       "interactive(children=(RadioButtons(description='source', options=('Post-Processed', 'Merged', 'Not Merged'), v…"
      ]
     },
     "metadata": {},
     "output_type": "display_data"
    },
    {
     "name": "stdout",
     "output_type": "stream",
     "text": [
      "Tool\n"
     ]
    },
    {
     "data": {
      "application/vnd.jupyter.widget-view+json": {
       "model_id": "e6c1cb151b4344c2b57ec00df83cf0e3",
       "version_major": 2,
       "version_minor": 0
      },
      "text/plain": [
       "interactive(children=(RadioButtons(description='source', options=('Post-Processed', 'Merged', 'Not Merged'), v…"
      ]
     },
     "metadata": {},
     "output_type": "display_data"
    },
    {
     "name": "stdout",
     "output_type": "stream",
     "text": [
      "Tower\n"
     ]
    },
    {
     "data": {
      "application/vnd.jupyter.widget-view+json": {
       "model_id": "ca1e22cf210046898e0480bd0ae4922b",
       "version_major": 2,
       "version_minor": 0
      },
      "text/plain": [
       "interactive(children=(RadioButtons(description='source', options=('Post-Processed', 'Merged', 'Not Merged'), v…"
      ]
     },
     "metadata": {},
     "output_type": "display_data"
    },
    {
     "name": "stdout",
     "output_type": "stream",
     "text": [
      "Train\n"
     ]
    },
    {
     "data": {
      "application/vnd.jupyter.widget-view+json": {
       "model_id": "e7ca24328da74be8adb2c11e1afc6dfe",
       "version_major": 2,
       "version_minor": 0
      },
      "text/plain": [
       "interactive(children=(RadioButtons(description='source', options=('Post-Processed', 'Merged', 'Not Merged'), v…"
      ]
     },
     "metadata": {},
     "output_type": "display_data"
    },
    {
     "name": "stdout",
     "output_type": "stream",
     "text": [
      "Troop\n"
     ]
    },
    {
     "data": {
      "application/vnd.jupyter.widget-view+json": {
       "model_id": "d1c093f90756449b97107daa6f4f769d",
       "version_major": 2,
       "version_minor": 0
      },
      "text/plain": [
       "interactive(children=(RadioButtons(description='source', options=('Post-Processed', 'Merged', 'Not Merged'), v…"
      ]
     },
     "metadata": {},
     "output_type": "display_data"
    },
    {
     "name": "stdout",
     "output_type": "stream",
     "text": [
      "Truck\n"
     ]
    },
    {
     "data": {
      "application/vnd.jupyter.widget-view+json": {
       "model_id": "5ef3d8371ef04fa4845eee752caeca90",
       "version_major": 2,
       "version_minor": 0
      },
      "text/plain": [
       "interactive(children=(RadioButtons(description='source', options=('Post-Processed', 'Merged', 'Not Merged'), v…"
      ]
     },
     "metadata": {},
     "output_type": "display_data"
    },
    {
     "name": "stdout",
     "output_type": "stream",
     "text": [
      "Urban area\n"
     ]
    },
    {
     "data": {
      "application/vnd.jupyter.widget-view+json": {
       "model_id": "04dd938975324c77baad240cfac7d9df",
       "version_major": 2,
       "version_minor": 0
      },
      "text/plain": [
       "interactive(children=(RadioButtons(description='source', options=('Post-Processed', 'Merged', 'Not Merged'), v…"
      ]
     },
     "metadata": {},
     "output_type": "display_data"
    },
    {
     "name": "stdout",
     "output_type": "stream",
     "text": [
      "Van\n"
     ]
    },
    {
     "data": {
      "application/vnd.jupyter.widget-view+json": {
       "model_id": "3fa60a9119624087b8bcb2c0376ea69b",
       "version_major": 2,
       "version_minor": 0
      },
      "text/plain": [
       "interactive(children=(RadioButtons(description='source', options=('Post-Processed', 'Merged', 'Not Merged'), v…"
      ]
     },
     "metadata": {},
     "output_type": "display_data"
    },
    {
     "name": "stdout",
     "output_type": "stream",
     "text": [
      "Vehicle\n"
     ]
    },
    {
     "data": {
      "application/vnd.jupyter.widget-view+json": {
       "model_id": "f1c51484d141454d8039aa240fc735da",
       "version_major": 2,
       "version_minor": 0
      },
      "text/plain": [
       "interactive(children=(RadioButtons(description='source', options=('Post-Processed', 'Merged', 'Not Merged'), v…"
      ]
     },
     "metadata": {},
     "output_type": "display_data"
    },
    {
     "name": "stdout",
     "output_type": "stream",
     "text": [
      "Waste\n"
     ]
    },
    {
     "data": {
      "application/vnd.jupyter.widget-view+json": {
       "model_id": "503fa38acf364dd39a4701d45174ca51",
       "version_major": 2,
       "version_minor": 0
      },
      "text/plain": [
       "interactive(children=(RadioButtons(description='source', options=('Post-Processed', 'Merged', 'Not Merged'), v…"
      ]
     },
     "metadata": {},
     "output_type": "display_data"
    },
    {
     "name": "stdout",
     "output_type": "stream",
     "text": [
      "Watercraft\n"
     ]
    },
    {
     "data": {
      "application/vnd.jupyter.widget-view+json": {
       "model_id": "7768596c9f4348caac78621e03b7a700",
       "version_major": 2,
       "version_minor": 0
      },
      "text/plain": [
       "interactive(children=(RadioButtons(description='source', options=('Post-Processed', 'Merged', 'Not Merged'), v…"
      ]
     },
     "metadata": {},
     "output_type": "display_data"
    },
    {
     "name": "stdout",
     "output_type": "stream",
     "text": [
      "Weapon\n"
     ]
    },
    {
     "data": {
      "application/vnd.jupyter.widget-view+json": {
       "model_id": "3745706218ef43dd945d6553d7082abb",
       "version_major": 2,
       "version_minor": 0
      },
      "text/plain": [
       "interactive(children=(RadioButtons(description='source', options=('Post-Processed', 'Merged', 'Not Merged'), v…"
      ]
     },
     "metadata": {},
     "output_type": "display_data"
    },
    {
     "name": "stdout",
     "output_type": "stream",
     "text": [
      "Wheelchair\n"
     ]
    },
    {
     "data": {
      "application/vnd.jupyter.widget-view+json": {
       "model_id": "4e8c72c3709047338ef34c82a6735a32",
       "version_major": 2,
       "version_minor": 0
      },
      "text/plain": [
       "interactive(children=(RadioButtons(description='source', options=('Post-Processed', 'Merged', 'Not Merged'), v…"
      ]
     },
     "metadata": {},
     "output_type": "display_data"
    },
    {
     "name": "stdout",
     "output_type": "stream",
     "text": [
      "Wide-body aircraft\n"
     ]
    },
    {
     "data": {
      "application/vnd.jupyter.widget-view+json": {
       "model_id": "86d9c6eca14e4683aab9bcc3f5c2b8c3",
       "version_major": 2,
       "version_minor": 0
      },
      "text/plain": [
       "interactive(children=(RadioButtons(description='source', options=('Post-Processed', 'Merged', 'Not Merged'), v…"
      ]
     },
     "metadata": {},
     "output_type": "display_data"
    },
    {
     "name": "stdout",
     "output_type": "stream",
     "text": [
      "Woman\n"
     ]
    },
    {
     "data": {
      "application/vnd.jupyter.widget-view+json": {
       "model_id": "b11de52516d04446bf90a1a274f8cbfc",
       "version_major": 2,
       "version_minor": 0
      },
      "text/plain": [
       "interactive(children=(RadioButtons(description='source', options=('Post-Processed', 'Merged', 'Not Merged'), v…"
      ]
     },
     "metadata": {},
     "output_type": "display_data"
    },
    {
     "name": "stdout",
     "output_type": "stream",
     "text": [
      "Court\n"
     ]
    },
    {
     "data": {
      "application/vnd.jupyter.widget-view+json": {
       "model_id": "959a1b337c9948828f0cf5f5f266ea51",
       "version_major": 2,
       "version_minor": 0
      },
      "text/plain": [
       "interactive(children=(RadioButtons(description='source', options=('Post-Processed', 'Merged', 'Not Merged'), v…"
      ]
     },
     "metadata": {},
     "output_type": "display_data"
    },
    {
     "name": "stdout",
     "output_type": "stream",
     "text": [
      "Security guard\n"
     ]
    },
    {
     "data": {
      "application/vnd.jupyter.widget-view+json": {
       "model_id": "4eddb1ab42f04eda9fec9abe5f482a52",
       "version_major": 2,
       "version_minor": 0
      },
      "text/plain": [
       "interactive(children=(RadioButtons(description='source', options=('Post-Processed', 'Merged', 'Not Merged'), v…"
      ]
     },
     "metadata": {},
     "output_type": "display_data"
    },
    {
     "name": "stdout",
     "output_type": "stream",
     "text": [
      "Rescuer\n"
     ]
    },
    {
     "data": {
      "application/vnd.jupyter.widget-view+json": {
       "model_id": "80d886386618403d83a176ef64435360",
       "version_major": 2,
       "version_minor": 0
      },
      "text/plain": [
       "interactive(children=(RadioButtons(description='source', options=('Post-Processed', 'Merged', 'Not Merged'), v…"
      ]
     },
     "metadata": {},
     "output_type": "display_data"
    },
    {
     "name": "stdout",
     "output_type": "stream",
     "text": [
      "Explosive weapon\n"
     ]
    },
    {
     "data": {
      "application/vnd.jupyter.widget-view+json": {
       "model_id": "d77fc47fdade4a5cb2deb0ec7a91713f",
       "version_major": 2,
       "version_minor": 0
      },
      "text/plain": [
       "interactive(children=(RadioButtons(description='source', options=('Post-Processed', 'Merged', 'Not Merged'), v…"
      ]
     },
     "metadata": {},
     "output_type": "display_data"
    },
    {
     "name": "stdout",
     "output_type": "stream",
     "text": [
      "Surveillance camera\n"
     ]
    },
    {
     "data": {
      "application/vnd.jupyter.widget-view+json": {
       "model_id": "fa6c41c7103a44e39070caf2356119e7",
       "version_major": 2,
       "version_minor": 0
      },
      "text/plain": [
       "interactive(children=(RadioButtons(description='source', options=('Post-Processed', 'Merged', 'Not Merged'), v…"
      ]
     },
     "metadata": {},
     "output_type": "display_data"
    },
    {
     "name": "stdout",
     "output_type": "stream",
     "text": [
      "Bullet\n"
     ]
    },
    {
     "data": {
      "application/vnd.jupyter.widget-view+json": {
       "model_id": "5a6f8aebca3d4d6c8bcc9e5684cb5ba6",
       "version_major": 2,
       "version_minor": 0
      },
      "text/plain": [
       "interactive(children=(RadioButtons(description='source', options=('Post-Processed', 'Merged', 'Not Merged'), v…"
      ]
     },
     "metadata": {},
     "output_type": "display_data"
    },
    {
     "name": "stdout",
     "output_type": "stream",
     "text": [
      "Trademark\n"
     ]
    },
    {
     "data": {
      "application/vnd.jupyter.widget-view+json": {
       "model_id": "b2456246d3054651800a856e927e792e",
       "version_major": 2,
       "version_minor": 0
      },
      "text/plain": [
       "interactive(children=(RadioButtons(description='source', options=('Post-Processed', 'Merged', 'Not Merged'), v…"
      ]
     },
     "metadata": {},
     "output_type": "display_data"
    },
    {
     "name": "stdout",
     "output_type": "stream",
     "text": [
      "Computer monitor\n"
     ]
    },
    {
     "data": {
      "application/vnd.jupyter.widget-view+json": {
       "model_id": "8ddea480b3af4af8bc3dfdc4e31bebb2",
       "version_major": 2,
       "version_minor": 0
      },
      "text/plain": [
       "interactive(children=(RadioButtons(description='source', options=('Post-Processed', 'Merged', 'Not Merged'), v…"
      ]
     },
     "metadata": {},
     "output_type": "display_data"
    },
    {
     "name": "stdout",
     "output_type": "stream",
     "text": [
      "Funeral\n"
     ]
    },
    {
     "data": {
      "application/vnd.jupyter.widget-view+json": {
       "model_id": "ebb139bdd3fe47c288e571cf736205e6",
       "version_major": 2,
       "version_minor": 0
      },
      "text/plain": [
       "interactive(children=(RadioButtons(description='source', options=('Post-Processed', 'Merged', 'Not Merged'), v…"
      ]
     },
     "metadata": {},
     "output_type": "display_data"
    },
    {
     "name": "stdout",
     "output_type": "stream",
     "text": [
      "Combat\n"
     ]
    },
    {
     "data": {
      "application/vnd.jupyter.widget-view+json": {
       "model_id": "bd74c41362184aafa14a3f99ab068529",
       "version_major": 2,
       "version_minor": 0
      },
      "text/plain": [
       "interactive(children=(RadioButtons(description='source', options=('Post-Processed', 'Merged', 'Not Merged'), v…"
      ]
     },
     "metadata": {},
     "output_type": "display_data"
    },
    {
     "name": "stdout",
     "output_type": "stream",
     "text": [
      "Convention\n"
     ]
    },
    {
     "data": {
      "application/vnd.jupyter.widget-view+json": {
       "model_id": "cd4554a414204511b3477d8d39996841",
       "version_major": 2,
       "version_minor": 0
      },
      "text/plain": [
       "interactive(children=(RadioButtons(description='source', options=('Post-Processed', 'Merged', 'Not Merged'), v…"
      ]
     },
     "metadata": {},
     "output_type": "display_data"
    },
    {
     "name": "stdout",
     "output_type": "stream",
     "text": [
      "Explosion\n"
     ]
    },
    {
     "data": {
      "application/vnd.jupyter.widget-view+json": {
       "model_id": "2439c682f6fb4d41a1beafd5724c22e3",
       "version_major": 2,
       "version_minor": 0
      },
      "text/plain": [
       "interactive(children=(RadioButtons(description='source', options=('Post-Processed', 'Merged', 'Not Merged'), v…"
      ]
     },
     "metadata": {},
     "output_type": "display_data"
    },
    {
     "name": "stdout",
     "output_type": "stream",
     "text": [
      "Festival\n"
     ]
    },
    {
     "data": {
      "application/vnd.jupyter.widget-view+json": {
       "model_id": "55f126a3aa1e4687b10a5b2d36b989ef",
       "version_major": 2,
       "version_minor": 0
      },
      "text/plain": [
       "interactive(children=(RadioButtons(description='source', options=('Post-Processed', 'Merged', 'Not Merged'), v…"
      ]
     },
     "metadata": {},
     "output_type": "display_data"
    },
    {
     "name": "stdout",
     "output_type": "stream",
     "text": [
      "Fire\n"
     ]
    },
    {
     "data": {
      "application/vnd.jupyter.widget-view+json": {
       "model_id": "d2b2d5db8e7c41c594e18bf7671b5011",
       "version_major": 2,
       "version_minor": 0
      },
      "text/plain": [
       "interactive(children=(RadioButtons(description='source', options=('Post-Processed', 'Merged', 'Not Merged'), v…"
      ]
     },
     "metadata": {},
     "output_type": "display_data"
    },
    {
     "name": "stdout",
     "output_type": "stream",
     "text": [
      "Protest\n"
     ]
    },
    {
     "data": {
      "application/vnd.jupyter.widget-view+json": {
       "model_id": "7b004caa8c0a4a57b75379932f2fae7a",
       "version_major": 2,
       "version_minor": 0
      },
      "text/plain": [
       "interactive(children=(RadioButtons(description='source', options=('Post-Processed', 'Merged', 'Not Merged'), v…"
      ]
     },
     "metadata": {},
     "output_type": "display_data"
    },
    {
     "name": "stdout",
     "output_type": "stream",
     "text": [
      "Riot\n"
     ]
    },
    {
     "data": {
      "application/vnd.jupyter.widget-view+json": {
       "model_id": "276ca287f8e84f22a34beffe30f555cd",
       "version_major": 2,
       "version_minor": 0
      },
      "text/plain": [
       "interactive(children=(RadioButtons(description='source', options=('Post-Processed', 'Merged', 'Not Merged'), v…"
      ]
     },
     "metadata": {},
     "output_type": "display_data"
    },
    {
     "name": "stdout",
     "output_type": "stream",
     "text": [
      "Speech\n"
     ]
    },
    {
     "data": {
      "application/vnd.jupyter.widget-view+json": {
       "model_id": "258f4dd09c3940a0bc684fc68fbd14a2",
       "version_major": 2,
       "version_minor": 0
      },
      "text/plain": [
       "interactive(children=(RadioButtons(description='source', options=('Post-Processed', 'Merged', 'Not Merged'), v…"
      ]
     },
     "metadata": {},
     "output_type": "display_data"
    },
    {
     "name": "stdout",
     "output_type": "stream",
     "text": [
      "Violence\n"
     ]
    },
    {
     "data": {
      "application/vnd.jupyter.widget-view+json": {
       "model_id": "5cabd3310fcc4e44b2e60368bc564e74",
       "version_major": 2,
       "version_minor": 0
      },
      "text/plain": [
       "interactive(children=(RadioButtons(description='source', options=('Post-Processed', 'Merged', 'Not Merged'), v…"
      ]
     },
     "metadata": {},
     "output_type": "display_data"
    },
    {
     "name": "stdout",
     "output_type": "stream",
     "text": [
      "Meeting\n"
     ]
    },
    {
     "data": {
      "application/vnd.jupyter.widget-view+json": {
       "model_id": "05ddcc862e3a4c4d98800ab45024a661",
       "version_major": 2,
       "version_minor": 0
      },
      "text/plain": [
       "interactive(children=(RadioButtons(description='source', options=('Post-Processed', 'Merged', 'Not Merged'), v…"
      ]
     },
     "metadata": {},
     "output_type": "display_data"
    },
    {
     "name": "stdout",
     "output_type": "stream",
     "text": [
      "Rebellion\n"
     ]
    },
    {
     "data": {
      "application/vnd.jupyter.widget-view+json": {
       "model_id": "d1a0da70b342480aa93db3b69cc56955",
       "version_major": 2,
       "version_minor": 0
      },
      "text/plain": [
       "interactive(children=(RadioButtons(description='source', options=('Post-Processed', 'Merged', 'Not Merged'), v…"
      ]
     },
     "metadata": {},
     "output_type": "display_data"
    }
   ],
   "source": [
    "for label in select_labels:\n",
    "    if len(label_to_img[label]) == 0:\n",
    "        continue\n",
    "    print(mid2name_all[label])\n",
    "    imgid = np.random.choice(label_to_img[label])\n",
    "    w = interactive(show, \n",
    "        imgid=fixed(imgid),\n",
    "        source=widgets.RadioButtons(options=['Post-Processed', 'Merged', 'Not Merged'], value='Post-Processed'), \n",
    "        thresh=widgets.FloatSlider(min=0.0, max=1.0, step=0.01, value=0.35, continuous_update=False), \n",
    "    )\n",
    "    w.children[-1].layout.height = '600px'\n",
    "    display(w)\n",
    "    "
   ]
  },
  {
   "cell_type": "code",
   "execution_count": null,
   "metadata": {},
   "outputs": [],
   "source": []
  },
  {
   "cell_type": "code",
   "execution_count": null,
   "metadata": {},
   "outputs": [],
   "source": []
  },
  {
   "cell_type": "code",
   "execution_count": null,
   "metadata": {},
   "outputs": [],
   "source": []
  },
  {
   "cell_type": "code",
   "execution_count": null,
   "metadata": {},
   "outputs": [],
   "source": []
  }
 ],
 "metadata": {
  "kernelspec": {
   "display_name": "Py3 w/ Tensorflow",
   "language": "python",
   "name": "py3tf"
  },
  "language_info": {
   "codemirror_mode": {
    "name": "ipython",
    "version": 3
   },
   "file_extension": ".py",
   "mimetype": "text/x-python",
   "name": "python",
   "nbconvert_exporter": "python",
   "pygments_lexer": "ipython3",
   "version": "3.6.5"
  }
 },
 "nbformat": 4,
 "nbformat_minor": 2
}
