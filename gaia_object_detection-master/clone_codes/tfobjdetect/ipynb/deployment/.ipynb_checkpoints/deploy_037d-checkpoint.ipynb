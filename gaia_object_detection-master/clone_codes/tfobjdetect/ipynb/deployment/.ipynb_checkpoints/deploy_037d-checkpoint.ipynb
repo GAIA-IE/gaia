{
 "cells": [
  {
   "cell_type": "markdown",
   "metadata": {},
   "source": [
    "# Object Detection Demo\n",
    "Welcome to the object detection inference walkthrough!  This notebook will walk you step by step through the process of using a pre-trained model to detect objects in an image. Make sure to follow the [installation instructions](https://github.com/tensorflow/models/blob/master/research/object_detection/g3doc/installation.md) before you start."
   ]
  },
  {
   "cell_type": "markdown",
   "metadata": {},
   "source": [
    "# Imports"
   ]
  },
  {
   "cell_type": "code",
   "execution_count": 1,
   "metadata": {
    "scrolled": true
   },
   "outputs": [],
   "source": [
    "import numpy as np\n",
    "import os\n",
    "import six.moves.urllib as urllib\n",
    "import sys\n",
    "import tarfile\n",
    "import tensorflow as tf\n",
    "import zipfile\n",
    "\n",
    "from collections import defaultdict\n",
    "from io import StringIO\n",
    "from matplotlib import pyplot as plt\n",
    "from PIL import Image\n",
    "\n",
    "# This is needed since the notebook is stored in the object_detection folder.\n",
    "sys.path.append(\"../../lib\")\n",
    "from object_detection.utils import ops as utils_ops\n"
   ]
  },
  {
   "cell_type": "code",
   "execution_count": 2,
   "metadata": {},
   "outputs": [],
   "source": [
    "import pickle\n",
    "import cv2\n",
    "import csv"
   ]
  },
  {
   "cell_type": "code",
   "execution_count": 3,
   "metadata": {},
   "outputs": [],
   "source": [
    "os.environ[\"CUDA_VISIBLE_DEVICES\"]=\"1\""
   ]
  },
  {
   "cell_type": "markdown",
   "metadata": {},
   "source": [
    "## Env setup"
   ]
  },
  {
   "cell_type": "code",
   "execution_count": 4,
   "metadata": {},
   "outputs": [],
   "source": [
    "# This is needed to display the images.\n",
    "%matplotlib inline"
   ]
  },
  {
   "cell_type": "markdown",
   "metadata": {},
   "source": [
    "## Object detection imports\n",
    "Here are the imports from the object detection module."
   ]
  },
  {
   "cell_type": "code",
   "execution_count": 5,
   "metadata": {},
   "outputs": [],
   "source": [
    "from object_detection.utils import label_map_util\n",
    "\n",
    "from object_detection.utils import visualization_utils as vis_util"
   ]
  },
  {
   "cell_type": "markdown",
   "metadata": {},
   "source": [
    "# Model preparation "
   ]
  },
  {
   "cell_type": "markdown",
   "metadata": {},
   "source": [
    "## Variables\n",
    "\n",
    "Any model exported using the `export_inference_graph.py` tool can be loaded here simply by changing `PATH_TO_CKPT` to point to a new .pb file.  \n",
    "\n",
    "By default we use an \"SSD with Mobilenet\" model here. See the [detection model zoo](https://github.com/tensorflow/models/blob/master/research/object_detection/g3doc/detection_model_zoo.md) for a list of other models that can be run out-of-the-box with varying speeds and accuracies."
   ]
  },
  {
   "cell_type": "code",
   "execution_count": 6,
   "metadata": {},
   "outputs": [],
   "source": [
    "# What model to download.\n",
    "MODEL_NAME = '../../checkpoints/faster_rcnn_nas_coco'\n",
    "\n",
    "# Path to frozen detection graph. This is the actual model that is used for the object detection.\n",
    "PATH_TO_CKPT = MODEL_NAME + '/frozen_inference_graph.pb'\n",
    "\n",
    "# List of the strings that is used to add correct label for each box.\n",
    "PATH_TO_LABELS = os.path.join('../../lib/object_detection/data', 'mscoco_label_map.pbtxt')\n",
    "\n",
    "NUM_CLASSES = 90"
   ]
  },
  {
   "cell_type": "markdown",
   "metadata": {},
   "source": [
    "## Load a (frozen) Tensorflow model into memory."
   ]
  },
  {
   "cell_type": "code",
   "execution_count": 7,
   "metadata": {},
   "outputs": [],
   "source": [
    "od_graph_def = tf.GraphDef()\n",
    "with tf.gfile.GFile(PATH_TO_CKPT, 'rb') as fid:\n",
    "    serialized_graph = fid.read()\n",
    "    od_graph_def.ParseFromString(serialized_graph)\n",
    "    tf.import_graph_def(od_graph_def, name='')"
   ]
  },
  {
   "cell_type": "markdown",
   "metadata": {},
   "source": [
    "## Loading label map\n",
    "Label maps map indices to category names, so that when our convolution network predicts `5`, we know that this corresponds to `airplane`.  Here we use internal utility functions, but anything that returns a dictionary mapping integers to appropriate string labels would be fine"
   ]
  },
  {
   "cell_type": "code",
   "execution_count": 8,
   "metadata": {},
   "outputs": [],
   "source": [
    "label_map = label_map_util.load_labelmap(PATH_TO_LABELS)\n",
    "categories = label_map_util.convert_label_map_to_categories(label_map, max_num_classes=NUM_CLASSES, use_display_name=True)\n",
    "category_index = label_map_util.create_category_index(categories)"
   ]
  },
  {
   "cell_type": "markdown",
   "metadata": {},
   "source": [
    "## Helper code"
   ]
  },
  {
   "cell_type": "code",
   "execution_count": 9,
   "metadata": {},
   "outputs": [],
   "source": [
    "def load_image_into_numpy_array(image):\n",
    "  (im_width, im_height) = image.size\n",
    "  return np.array(image.getdata()).reshape(\n",
    "      (im_height, im_width, 3)).astype(np.uint8)"
   ]
  },
  {
   "cell_type": "markdown",
   "metadata": {},
   "source": [
    "# Data Preparation"
   ]
  },
  {
   "cell_type": "code",
   "execution_count": 10,
   "metadata": {},
   "outputs": [],
   "source": [
    "with open('../../../../data/eval_m18/kf_id2path.pkl', 'rb') as fin:\n",
    "    kf_id_to_img_path = pickle.load(fin)"
   ]
  },
  {
   "cell_type": "code",
   "execution_count": null,
   "metadata": {},
   "outputs": [],
   "source": []
  },
  {
   "cell_type": "code",
   "execution_count": null,
   "metadata": {},
   "outputs": [],
   "source": []
  },
  {
   "cell_type": "code",
   "execution_count": null,
   "metadata": {},
   "outputs": [],
   "source": []
  },
  {
   "cell_type": "markdown",
   "metadata": {},
   "source": [
    "# Detection"
   ]
  },
  {
   "cell_type": "code",
   "execution_count": 11,
   "metadata": {},
   "outputs": [],
   "source": [
    "config = tf.ConfigProto()\n",
    "config.gpu_options.allow_growth = True\n",
    "sess = tf.Session(config=config)"
   ]
  },
  {
   "cell_type": "code",
   "execution_count": 12,
   "metadata": {},
   "outputs": [],
   "source": [
    "def run_inference_for_single_image(image):\n",
    "  # Get handles to input and output tensors\n",
    "  ops = tf.get_default_graph().get_operations()\n",
    "  all_tensor_names = {output.name for op in ops for output in op.outputs}\n",
    "  tensor_dict = {}\n",
    "  for key in [\n",
    "      'num_detections', 'detection_boxes', 'detection_scores',\n",
    "      'detection_classes', 'detection_masks'\n",
    "  ]:\n",
    "    tensor_name = key + ':0'\n",
    "    if tensor_name in all_tensor_names:\n",
    "      tensor_dict[key] = tf.get_default_graph().get_tensor_by_name(\n",
    "          tensor_name)\n",
    "  if 'detection_masks' in tensor_dict:\n",
    "    # The following processing is only for single image\n",
    "    detection_boxes = tf.squeeze(tensor_dict['detection_boxes'], [0])\n",
    "    detection_masks = tf.squeeze(tensor_dict['detection_masks'], [0])\n",
    "    # Reframe is required to translate mask from box coordinates to image coordinates and fit the image size.\n",
    "    real_num_detection = tf.cast(tensor_dict['num_detections'][0], tf.int32)\n",
    "    detection_boxes = tf.slice(detection_boxes, [0, 0], [real_num_detection, -1])\n",
    "    detection_masks = tf.slice(detection_masks, [0, 0, 0], [real_num_detection, -1, -1])\n",
    "    detection_masks_reframed = utils_ops.reframe_box_masks_to_image_masks(\n",
    "        detection_masks, detection_boxes, image.shape[0], image.shape[1])\n",
    "    detection_masks_reframed = tf.cast(\n",
    "        tf.greater(detection_masks_reframed, 0.5), tf.uint8)\n",
    "    # Follow the convention by adding back the batch dimension\n",
    "    tensor_dict['detection_masks'] = tf.expand_dims(\n",
    "        detection_masks_reframed, 0)\n",
    "  image_tensor = tf.get_default_graph().get_tensor_by_name('image_tensor:0')\n",
    "\n",
    "  # Run inference\n",
    "  output_dict = sess.run(tensor_dict,\n",
    "                         feed_dict={image_tensor: np.expand_dims(image, 0)})\n",
    "\n",
    "  # all outputs are float32 numpy arrays, so convert types as appropriate\n",
    "  output_dict['num_detections'] = int(output_dict['num_detections'][0])\n",
    "  output_dict['detection_classes'] = output_dict[\n",
    "      'detection_classes'][0].astype(np.uint8)\n",
    "  output_dict['detection_boxes'] = output_dict['detection_boxes'][0]\n",
    "  output_dict['detection_scores'] = output_dict['detection_scores'][0]\n",
    "  if 'detection_masks' in output_dict:\n",
    "        output_dict['detection_masks'] = output_dict['detection_masks'][0]\n",
    "  return output_dict"
   ]
  },
  {
   "cell_type": "code",
   "execution_count": null,
   "metadata": {
    "scrolled": true
   },
   "outputs": [
    {
     "name": "stderr",
     "output_type": "stream",
     "text": [
      "/home/alireza/home_at_filer2/tools/anaconda3/envs/py3tf2/lib/python3.6/site-packages/ipykernel/__main__.py:10: DeprecationWarning: The binary mode of fromstring is deprecated, as it behaves surprisingly on unicode inputs. Use frombuffer instead\n"
     ]
    }
   ],
   "source": [
    "det_results = {}\n",
    "image_shape = {}\n",
    "num_imgs = len(kf_id_to_img_path)\n",
    "for i, (imgid, imgpath) in enumerate(kf_id_to_img_path.items()):\n",
    "    try:\n",
    "        with open(imgpath, 'rb') as fin:\n",
    "            if imgpath.endswith('.ldcc'):\n",
    "                _ = fin.read(1024)\n",
    "            imgbin = fin.read()\n",
    "        imgbgr = cv2.imdecode(np.fromstring(imgbin, dtype='uint8'), cv2.IMREAD_COLOR)\n",
    "        image_np = imgbgr[:,:,[2,1,0]]\n",
    "        image_shape[imgid] = (image_np.shape[1], image_np.shape[0])\n",
    "    except Exception as ex:\n",
    "        print(imgid)\n",
    "        print(ex)\n",
    "        continue\n",
    "    \n",
    "    # Expand dimensions since the model expects images to have shape: [1, None, None, 3]\n",
    "    image_np_expanded = np.expand_dims(image_np, axis=0)\n",
    "    # Actual detection.\n",
    "    output_dict = run_inference_for_single_image(image_np)\n",
    "    \n",
    "    det_results[imgid] = output_dict\n",
    "    \n",
    "    if i % 100 == 0:\n",
    "        print(f'{i} images processed out of {num_imgs}.')\n",
    "    "
   ]
  },
  {
   "cell_type": "code",
   "execution_count": null,
   "metadata": {},
   "outputs": [],
   "source": []
  },
  {
   "cell_type": "code",
   "execution_count": null,
   "metadata": {},
   "outputs": [],
   "source": []
  },
  {
   "cell_type": "code",
   "execution_count": null,
   "metadata": {},
   "outputs": [],
   "source": [
    "idx2mid = {}\n",
    "for item in label_map.item:\n",
    "    idx2mid[item.id] = item.name"
   ]
  },
  {
   "cell_type": "code",
   "execution_count": null,
   "metadata": {},
   "outputs": [],
   "source": [
    "for imgid in det_results:\n",
    "    det_results[imgid]['detection_boxes'] = det_results[imgid]['detection_boxes'][:,[1,0,3,2]]\n",
    "    det_results[imgid]['detection_boxes_normalized'] = np.copy(det_results[imgid]['detection_boxes'])\n",
    "    det_results[imgid]['detection_boxes'] = (det_results[imgid]['detection_boxes'] * np.asarray(image_shape[imgid]*2)).astype('int32')"
   ]
  },
  {
   "cell_type": "code",
   "execution_count": null,
   "metadata": {},
   "outputs": [],
   "source": [
    "det_results_2 = {}\n",
    "for imgid in det_results:\n",
    "    det_results_2[imgid] = []\n",
    "    for ii in range(det_results[imgid]['num_detections']):\n",
    "        if det_results[imgid]['detection_classes'][ii] == 0 or det_results[imgid]['detection_scores'][ii] == 0:\n",
    "            continue\n",
    "        label = idx2mid[det_results[imgid]['detection_classes'][ii]]\n",
    "        if label == '/m/05czz6l':     ################################### IMPORTANT\n",
    "            label = '/m/0cmf2'\n",
    "        det_results_2[imgid].append({\n",
    "            'label': label,\n",
    "            'score': det_results[imgid]['detection_scores'][ii],\n",
    "            'bbox': det_results[imgid]['detection_boxes'][ii],\n",
    "            'bbox_normalized': det_results[imgid]['detection_boxes_normalized'][ii],\n",
    "            'model': 'nasnet-faster-rcnn-coco'\n",
    "        })"
   ]
  },
  {
   "cell_type": "code",
   "execution_count": null,
   "metadata": {},
   "outputs": [],
   "source": []
  },
  {
   "cell_type": "code",
   "execution_count": null,
   "metadata": {},
   "outputs": [],
   "source": []
  },
  {
   "cell_type": "code",
   "execution_count": null,
   "metadata": {},
   "outputs": [],
   "source": [
    "with open('../../results/det_results_m18_kf_coco_1.pkl', 'wb') as fout:\n",
    "    pickle.dump(det_results_2, fout)"
   ]
  },
  {
   "cell_type": "code",
   "execution_count": null,
   "metadata": {},
   "outputs": [],
   "source": []
  },
  {
   "cell_type": "code",
   "execution_count": null,
   "metadata": {},
   "outputs": [],
   "source": [
    "with open('../../../wsod/metadata/ont_m18/oi600_to_m18.pkl', 'rb') as fin:\n",
    "    label_map = pickle.load(fin)"
   ]
  },
  {
   "cell_type": "code",
   "execution_count": null,
   "metadata": {},
   "outputs": [],
   "source": [
    "det_results_filtered = {}\n",
    "for key, val in det_results_2.items():\n",
    "    det_results_filtered[key] = []\n",
    "    for det in val:\n",
    "        label = label_map.get(det['label'])\n",
    "        if label == None:\n",
    "            continue\n",
    "        det_results_filtered[key].append({\n",
    "            'label': label,\n",
    "            'score': det['score'],\n",
    "            'bbox': det['bbox'],\n",
    "            'bbox_normalized': det['bbox_normalized'],\n",
    "            'model': det['model'],            \n",
    "        })\n"
   ]
  },
  {
   "cell_type": "code",
   "execution_count": null,
   "metadata": {},
   "outputs": [],
   "source": [
    "with open('../../results/det_results_m18_kf_coco_1_filtered.pkl', 'wb') as fout:\n",
    "    pickle.dump(det_results_filtered, fout)"
   ]
  },
  {
   "cell_type": "code",
   "execution_count": null,
   "metadata": {},
   "outputs": [],
   "source": []
  },
  {
   "cell_type": "code",
   "execution_count": null,
   "metadata": {},
   "outputs": [],
   "source": []
  },
  {
   "cell_type": "code",
   "execution_count": null,
   "metadata": {},
   "outputs": [],
   "source": []
  }
 ],
 "metadata": {
  "colab": {
   "version": "0.3.2"
  },
  "kernelspec": {
   "display_name": "Py3 w/ Tensorflow 2",
   "language": "python",
   "name": "py3tf2"
  },
  "language_info": {
   "codemirror_mode": {
    "name": "ipython",
    "version": 3
   },
   "file_extension": ".py",
   "mimetype": "text/x-python",
   "name": "python",
   "nbconvert_exporter": "python",
   "pygments_lexer": "ipython3",
   "version": "3.6.8"
  }
 },
 "nbformat": 4,
 "nbformat_minor": 2
}
