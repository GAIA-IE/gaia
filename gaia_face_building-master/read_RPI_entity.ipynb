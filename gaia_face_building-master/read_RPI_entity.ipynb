{
 "cells": [
  {
   "cell_type": "code",
   "execution_count": 1,
   "metadata": {},
   "outputs": [],
   "source": [
    "def get_DB2link(graph):\n",
    "    '''\n",
    "    A function that gets graph and loads information in it.\n",
    "    '''\n",
    "    #get data and put in entity2mention dictionary\n",
    "    DB2en = {}\n",
    "    \n",
    "    entities = graph.subjects(predicate=RDF.type,object=entity_)\n",
    "    \n",
    "    for entity in entities:\n",
    "        entity_id = entity.toPython()\n",
    "        #print(entity_id)\n",
    "        link_nodes = list(g.objects(subject=entity,\n",
    "                                   predicate=URIRef(nist_ont_pref+'link')))\n",
    "        if len(link_nodes)==0:\n",
    "            continue\n",
    "        link_node = link_nodes[0]\n",
    "        link_string = list(g.objects(subject=link_node,\n",
    "                       predicate=URIRef(nist_ont_pref+'linkTarget')))[0].toPython()\n",
    "        \n",
    "        if 'NIL' in link_string:\n",
    "            continue\n",
    "        #print link_string\n",
    "        if link_string not in DB2en:\n",
    "            DB2en[link_string.split(':')[-1]] = [entity]\n",
    "        else:\n",
    "            DB2en[link_string.split(':')[-1]].append(entity)\n",
    "    return DB2en"
   ]
  },
  {
   "cell_type": "code",
   "execution_count": null,
   "metadata": {},
   "outputs": [
    {
     "name": "stdout",
     "output_type": "stream",
     "text": [
      "Creating id2link dictionary...\n"
     ]
    }
   ],
   "source": [
    "import sys\n",
    "#sys.path.append(\"/dvmm-filer2/projects/AIDA/alireza/tools/AIDA-Interchange-Format/python/aida_interchange\")\n",
    "sys.path.append(\"/home/brian/AIDA-Interchange-Format/python\")\n",
    "import time\n",
    "\n",
    "start = time.time()\n",
    "from rdflib import URIRef\n",
    "from rdflib import URIRef\n",
    "from rdflib import Graph, plugin, URIRef, Literal, BNode, RDF\n",
    "import os, sys\n",
    "import pickle\n",
    "path_pref = 'ttl/PT003_r1.pickle'\n",
    "RPI_AIF_path = path_pref + ''\n",
    "#nist_ont_pref = 'https://tac.nist.gov/tracks/SM-KBP/2018/ontologies/InterchangeOntology#'\n",
    "nist_ont_pref = 'https://tac.nist.gov/tracks/SM-KBP/2019/ontologies/InterchangeOntology#'\n",
    "entity_ = URIRef(nist_ont_pref+'Entity')\n",
    "\n",
    "print('Creating id2link dictionary...')\n",
    "id2link = {}\n",
    "turtle_files = os.listdir(RPI_AIF_path)\n",
    "for i,file in enumerate(turtle_files):\n",
    "    if \".ttl\" not in file:\n",
    "        continue\n",
    "    turtle_path = os.path.join(RPI_AIF_path, file)\n",
    "    #loading turtle content\n",
    "    turtle_content = open(turtle_path).read()\n",
    "    g = Graph().parse(data=turtle_content, format='n3')\n",
    "    id_ = file.split('.')[0]\n",
    "    id2link[id_] = get_DB2link(g)\n",
    "    sys.stdout.write('File {}/{} \\r'.format(i+1,len(turtle_files)))                \n",
    "    sys.stdout.flush()\n",
    "    #break\n",
    "#print id2link\n",
    "with open('results/PT003_r1.pickle', 'wb') as f:\n",
    "    pickle.dump(id2link,f,protocol=pickle.HIGHEST_PROTOCOL)\n",
    "end = time.time()\n",
    "print(end - start)"
   ]
  }
 ],
 "metadata": {
  "kernelspec": {
   "display_name": "Python 2",
   "language": "python",
   "name": "python2"
  },
  "language_info": {
   "codemirror_mode": {
    "name": "ipython",
    "version": 3
   },
   "file_extension": ".py",
   "mimetype": "text/x-python",
   "name": "python",
   "nbconvert_exporter": "python",
   "pygments_lexer": "ipython3",
   "version": "3.5.6"
  }
 },
 "nbformat": 4,
 "nbformat_minor": 4
}
